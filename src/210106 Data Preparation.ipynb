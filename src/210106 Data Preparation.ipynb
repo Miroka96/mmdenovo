{
 "cells": [
  {
   "cell_type": "code",
   "execution_count": 1,
   "metadata": {},
   "outputs": [
    {
     "data": {
      "text/plain": [
       "'/tf/workspace/notebooks'"
      ]
     },
     "execution_count": 1,
     "metadata": {},
     "output_type": "execute_result"
    }
   ],
   "source": [
    "pwd"
   ]
  },
  {
   "cell_type": "code",
   "execution_count": 2,
   "metadata": {},
   "outputs": [],
   "source": [
    "MGF_FILE = \"../datasets/Biodiversity_A_cryptum_FeTSB_anaerobic_1_01Jun16_Pippin_16-03-39.mgf\"\n",
    "PARQUET_FILE = \"../dumps/Biodiversity_A_cryptum_FeTSB_anaerobic_1_01Jun16_Pippin_16-03-39.parquet\"\n",
    "PADDING_CHARACTER = '_'\n",
    "PADDING_VALUE = 0"
   ]
  },
  {
   "cell_type": "code",
   "execution_count": 3,
   "metadata": {},
   "outputs": [
    {
     "data": {
      "text/plain": [
       "'../dumps/Biodiversity_A_cryptum_FeTSB_anaerobic_1_01Jun16_Pippin_16-03-39_stats.json'"
      ]
     },
     "execution_count": 3,
     "metadata": {},
     "output_type": "execute_result"
    }
   ],
   "source": [
    "STATS_FILE = '.'.join(PARQUET_FILE.split('.')[:-1]) + '_stats.json'\n",
    "STATS_FILE"
   ]
  },
  {
   "cell_type": "code",
   "execution_count": 4,
   "metadata": {},
   "outputs": [],
   "source": [
    "from pyteomics import parser, mgf\n",
    "import pandas as pd\n",
    "import numpy as np\n",
    "import json"
   ]
  },
  {
   "cell_type": "code",
   "execution_count": 5,
   "metadata": {},
   "outputs": [
    {
     "name": "stdout",
     "output_type": "stream",
     "text": [
      "<class 'pyteomics.mgf.IndexedMGF'>\n",
      "Length: 30296\n",
      "Example:\n",
      "\n",
      "{'params': {'title': 'controllerType=0 controllerNumber=1 scan=1482', 'scans': '1482', 'rtinseconds': 348.313842, 'pepmass': (461.811859130859, None), 'charge': [3]}, 'm/z array': array([ 167.0551453,  224.9559021,  285.8164368,  286.3955383,\n",
      "        298.1065979,  325.8096619,  341.0180054,  343.8196106,\n",
      "        355.8206787,  359.0282593,  397.7958984,  415.8049011,\n",
      "        429.0879822,  734.7467041,  965.3400879, 1172.9144287]), 'intensity array': array([ 3050.9699707 ,   405.12173462,   475.8833313 ,   398.45022583,\n",
      "         389.35595703,  2266.70996094,  1942.8548584 ,   606.1138916 ,\n",
      "         689.03265381, 20964.71484375,  5848.22558594,  5498.08740234,\n",
      "        5830.62695312,   459.71224976,   442.84848022,   535.77941895]), 'charge array': masked_array(data=[--, --, --, --, --, --, --, --, --, --, --, --, --, --,\n",
      "                   --, --],\n",
      "             mask=[ True,  True,  True,  True,  True,  True,  True,  True,\n",
      "                    True,  True,  True,  True,  True,  True,  True,  True],\n",
      "       fill_value=0,\n",
      "            dtype=int64)}\n"
     ]
    }
   ],
   "source": [
    "mgf_iterator = mgf.read(MGF_FILE)\n",
    "print(type(mgf_iterator))\n",
    "mgf_entries = list(mgf_iterator)\n",
    "print(\"Length:\", len(mgf_entries))\n",
    "print(\"Example:\")\n",
    "print()\n",
    "print(mgf_entries[0])"
   ]
  },
  {
   "cell_type": "code",
   "execution_count": 18,
   "metadata": {},
   "outputs": [],
   "source": [
    "from pyteomics import mzid"
   ]
  },
  {
   "cell_type": "code",
   "execution_count": null,
   "metadata": {},
   "outputs": [],
   "source": []
  },
  {
   "cell_type": "code",
   "execution_count": 14,
   "metadata": {},
   "outputs": [],
   "source": [
    "def extract_features_from_mgf_entry(entry):\n",
    "    try:\n",
    "        sequence = entry['params']['seq']\n",
    "    except KeyError:\n",
    "        sequence = None\n",
    "    try:\n",
    "        mz = entry['m/z array']\n",
    "    except KeyError:\n",
    "        mz = None\n",
    "    try:\n",
    "        intensities = entry['intensity array']\n",
    "    except KeyError:\n",
    "        intensities = None\n",
    "    return {\"seq\": sequence, \"mz\": mz, \"intensities\": intensities}"
   ]
  },
  {
   "cell_type": "code",
   "execution_count": 15,
   "metadata": {},
   "outputs": [
    {
     "data": {
      "text/html": [
       "<div>\n",
       "<style scoped>\n",
       "    .dataframe tbody tr th:only-of-type {\n",
       "        vertical-align: middle;\n",
       "    }\n",
       "\n",
       "    .dataframe tbody tr th {\n",
       "        vertical-align: top;\n",
       "    }\n",
       "\n",
       "    .dataframe thead th {\n",
       "        text-align: right;\n",
       "    }\n",
       "</style>\n",
       "<table border=\"1\" class=\"dataframe\">\n",
       "  <thead>\n",
       "    <tr style=\"text-align: right;\">\n",
       "      <th></th>\n",
       "      <th>seq</th>\n",
       "      <th>mz</th>\n",
       "      <th>intensities</th>\n",
       "    </tr>\n",
       "  </thead>\n",
       "  <tbody>\n",
       "    <tr>\n",
       "      <th>0</th>\n",
       "      <td>None</td>\n",
       "      <td>[167.0551453, 224.9559021, 285.8164368, 286.39...</td>\n",
       "      <td>[3050.9699707031, 405.1217346191, 475.88333129...</td>\n",
       "    </tr>\n",
       "    <tr>\n",
       "      <th>1</th>\n",
       "      <td>None</td>\n",
       "      <td>[161.0452271, 167.0554504, 250.7462463, 251.62...</td>\n",
       "      <td>[401.9281921387, 1717.8507080078, 401.93594360...</td>\n",
       "    </tr>\n",
       "    <tr>\n",
       "      <th>2</th>\n",
       "      <td>None</td>\n",
       "      <td>[108.639679, 109.028656, 113.2680435, 127.0392...</td>\n",
       "      <td>[435.8223571777, 832.341003418, 439.3319091797...</td>\n",
       "    </tr>\n",
       "    <tr>\n",
       "      <th>3</th>\n",
       "      <td>None</td>\n",
       "      <td>[107.4489059, 111.4401627, 113.8058624, 127.03...</td>\n",
       "      <td>[483.9910583496, 474.264465332, 469.7008361816...</td>\n",
       "    </tr>\n",
       "    <tr>\n",
       "      <th>4</th>\n",
       "      <td>None</td>\n",
       "      <td>[101.3885803, 101.4111481, 102.8573303, 109.02...</td>\n",
       "      <td>[471.0510253906, 433.3070983887, 443.325103759...</td>\n",
       "    </tr>\n",
       "    <tr>\n",
       "      <th>...</th>\n",
       "      <td>...</td>\n",
       "      <td>...</td>\n",
       "      <td>...</td>\n",
       "    </tr>\n",
       "    <tr>\n",
       "      <th>30291</th>\n",
       "      <td>None</td>\n",
       "      <td>[110.3639221, 118.4531784, 179.4602509, 197.79...</td>\n",
       "      <td>[422.1659545898, 370.2566223145, 452.190948486...</td>\n",
       "    </tr>\n",
       "    <tr>\n",
       "      <th>30292</th>\n",
       "      <td>None</td>\n",
       "      <td>[104.2466736, 112.1446457, 116.2739944, 152.17...</td>\n",
       "      <td>[430.9320373535, 380.4105834961, 441.941101074...</td>\n",
       "    </tr>\n",
       "    <tr>\n",
       "      <th>30293</th>\n",
       "      <td>None</td>\n",
       "      <td>[183.4539185, 204.9055481, 524.3153687]</td>\n",
       "      <td>[447.3238220215, 421.7596130371, 439.0889587402]</td>\n",
       "    </tr>\n",
       "    <tr>\n",
       "      <th>30294</th>\n",
       "      <td>None</td>\n",
       "      <td>[154.9004974, 197.8742371, 241.8902588, 401.34...</td>\n",
       "      <td>[396.438079834, 410.5616149902, 399.2908630371...</td>\n",
       "    </tr>\n",
       "    <tr>\n",
       "      <th>30295</th>\n",
       "      <td>None</td>\n",
       "      <td>[198.8259735, 206.4671631, 314.9869995, 339.94...</td>\n",
       "      <td>[372.3766479492, 361.3921813965, 426.578613281...</td>\n",
       "    </tr>\n",
       "  </tbody>\n",
       "</table>\n",
       "<p>30296 rows × 3 columns</p>\n",
       "</div>"
      ],
      "text/plain": [
       "        seq                                                 mz  \\\n",
       "0      None  [167.0551453, 224.9559021, 285.8164368, 286.39...   \n",
       "1      None  [161.0452271, 167.0554504, 250.7462463, 251.62...   \n",
       "2      None  [108.639679, 109.028656, 113.2680435, 127.0392...   \n",
       "3      None  [107.4489059, 111.4401627, 113.8058624, 127.03...   \n",
       "4      None  [101.3885803, 101.4111481, 102.8573303, 109.02...   \n",
       "...     ...                                                ...   \n",
       "30291  None  [110.3639221, 118.4531784, 179.4602509, 197.79...   \n",
       "30292  None  [104.2466736, 112.1446457, 116.2739944, 152.17...   \n",
       "30293  None            [183.4539185, 204.9055481, 524.3153687]   \n",
       "30294  None  [154.9004974, 197.8742371, 241.8902588, 401.34...   \n",
       "30295  None  [198.8259735, 206.4671631, 314.9869995, 339.94...   \n",
       "\n",
       "                                             intensities  \n",
       "0      [3050.9699707031, 405.1217346191, 475.88333129...  \n",
       "1      [401.9281921387, 1717.8507080078, 401.93594360...  \n",
       "2      [435.8223571777, 832.341003418, 439.3319091797...  \n",
       "3      [483.9910583496, 474.264465332, 469.7008361816...  \n",
       "4      [471.0510253906, 433.3070983887, 443.325103759...  \n",
       "...                                                  ...  \n",
       "30291  [422.1659545898, 370.2566223145, 452.190948486...  \n",
       "30292  [430.9320373535, 380.4105834961, 441.941101074...  \n",
       "30293   [447.3238220215, 421.7596130371, 439.0889587402]  \n",
       "30294  [396.438079834, 410.5616149902, 399.2908630371...  \n",
       "30295  [372.3766479492, 361.3921813965, 426.578613281...  \n",
       "\n",
       "[30296 rows x 3 columns]"
      ]
     },
     "execution_count": 15,
     "metadata": {},
     "output_type": "execute_result"
    }
   ],
   "source": [
    "mgf_df = pd.DataFrame(data=[extract_features_from_mgf_entry(entry) for entry in mgf_entries])\n",
    "mgf_df"
   ]
  },
  {
   "cell_type": "code",
   "execution_count": null,
   "metadata": {},
   "outputs": [],
   "source": [
    "# drop non-AA characters\n",
    "mgf_df.seq = mgf_df.seq.str.replace(r\"[^A-Z]\",'')"
   ]
  },
  {
   "cell_type": "code",
   "execution_count": null,
   "metadata": {},
   "outputs": [],
   "source": [
    "stats = dict()"
   ]
  },
  {
   "cell_type": "code",
   "execution_count": null,
   "metadata": {},
   "outputs": [],
   "source": [
    "for col in mgf_df.columns:\n",
    "    stats[col] = dict()"
   ]
  },
  {
   "cell_type": "code",
   "execution_count": null,
   "metadata": {},
   "outputs": [],
   "source": [
    "for col in mgf_df.columns:\n",
    "    stats[col]['max_length'] = mgf_df[col].str.len().max()\n",
    "stats"
   ]
  },
  {
   "cell_type": "code",
   "execution_count": null,
   "metadata": {},
   "outputs": [],
   "source": [
    "for col in ['mz', 'intensities']:\n",
    "    stats[col]['min_value'] = mgf_df[col].apply(min).min()\n",
    "    stats[col]['max_value'] = mgf_df[col].apply(max).max()\n",
    "stats"
   ]
  },
  {
   "cell_type": "code",
   "execution_count": null,
   "metadata": {},
   "outputs": [],
   "source": [
    "# pad sequences with padding char\n",
    "for col in ['seq']:\n",
    "    mgf_df[col] = mgf_df[col].str.pad(width=stats[col]['max_length'], side='right', fillchar=PADDING_CHARACTER)\n",
    "    assert mgf_df[col].str.len().min() == mgf_df[col].str.len().max()"
   ]
  },
  {
   "cell_type": "code",
   "execution_count": null,
   "metadata": {},
   "outputs": [],
   "source": [
    "# pad value columns with zeros\n",
    "for col in ['mz', 'intensities']:\n",
    "    mgf_df[col] = pd.DataFrame.from_records(mgf_df[col]).fillna(PADDING_VALUE).values.tolist()\n",
    "    assert mgf_df[col].str.len().min() == mgf_df[col].str.len().max()"
   ]
  },
  {
   "cell_type": "code",
   "execution_count": null,
   "metadata": {},
   "outputs": [],
   "source": [
    "mgf_df"
   ]
  },
  {
   "cell_type": "code",
   "execution_count": null,
   "metadata": {},
   "outputs": [],
   "source": [
    "alphabet = list(PADDING_CHARACTER)\n",
    "alphabet += parser.std_amino_acids\n",
    "stats['alphabet'] = alphabet\n",
    "stats['padding_character'] = PADDING_CHARACTER\n",
    "stats"
   ]
  },
  {
   "cell_type": "code",
   "execution_count": null,
   "metadata": {},
   "outputs": [],
   "source": [
    "aa_to_idx = {aa:idx for idx, aa in enumerate(stats['alphabet'])}\n",
    "idx_to_aa = {idx:aa for aa, idx in aa_to_idx.items()}\n",
    "stats['aa_to_idx'] = aa_to_idx\n",
    "stats['idx_to_aa'] = idx_to_aa\n",
    "stats"
   ]
  },
  {
   "cell_type": "code",
   "execution_count": null,
   "metadata": {},
   "outputs": [],
   "source": [
    "stats"
   ]
  },
  {
   "cell_type": "code",
   "execution_count": null,
   "metadata": {},
   "outputs": [],
   "source": [
    "def denumpyfy_dict(d):\n",
    "    if type(d) == np.int64:\n",
    "        return int(d)\n",
    "    if type(d) == np.float64:\n",
    "        return float(d)\n",
    "    if type(d) == int or type(d) == str:\n",
    "        return d\n",
    "    if type(d) == dict:\n",
    "        return {k:denumpyfy_dict(v) for k, v in d.items()}\n",
    "    if type(d) == list:\n",
    "        return [denumpyfy_dict(v) for v in d]\n",
    "    raise NotImplementedError(type(d))"
   ]
  },
  {
   "cell_type": "code",
   "execution_count": null,
   "metadata": {
    "scrolled": true
   },
   "outputs": [],
   "source": [
    "stats = denumpyfy_dict(stats)\n",
    "stats"
   ]
  },
  {
   "cell_type": "code",
   "execution_count": null,
   "metadata": {},
   "outputs": [],
   "source": [
    "with open(STATS_FILE, 'w') as file:\n",
    "    json.dump(stats, file, indent=4)"
   ]
  },
  {
   "cell_type": "code",
   "execution_count": null,
   "metadata": {},
   "outputs": [],
   "source": [
    "mgf_df.to_parquet(PARQUET_FILE, engine='pyarrow')"
   ]
  },
  {
   "cell_type": "code",
   "execution_count": null,
   "metadata": {},
   "outputs": [],
   "source": [
    "mgf_df = pd.read_parquet(PARQUET_FILE)\n",
    "mgf_df"
   ]
  },
  {
   "cell_type": "code",
   "execution_count": null,
   "metadata": {
    "scrolled": true
   },
   "outputs": [],
   "source": [
    "with open(STATS_FILE, 'r') as file:\n",
    "    stats = json.load(file)\n",
    "stats"
   ]
  },
  {
   "cell_type": "code",
   "execution_count": null,
   "metadata": {},
   "outputs": [],
   "source": [
    "# merge_mz_and_intensities\n",
    "mgf_df['mz_intensities'] = mgf_df.apply(lambda row: pd.DataFrame(zip(row['mz'], row['intensities'])).values, axis=1)\n",
    "mgf_df"
   ]
  },
  {
   "cell_type": "code",
   "execution_count": null,
   "metadata": {},
   "outputs": [],
   "source": [
    "mgf_df.mz_intensities.apply(np.shape)"
   ]
  },
  {
   "cell_type": "code",
   "execution_count": null,
   "metadata": {},
   "outputs": [],
   "source": [
    "mgf_df = mgf_df.drop(columns=['mz', 'intensities'])\n",
    "mgf_df"
   ]
  }
 ],
 "metadata": {
  "kernelspec": {
   "display_name": "Python 3",
   "language": "python",
   "name": "python3"
  },
  "language_info": {
   "codemirror_mode": {
    "name": "ipython",
    "version": 3
   },
   "file_extension": ".py",
   "mimetype": "text/x-python",
   "name": "python",
   "nbconvert_exporter": "python",
   "pygments_lexer": "ipython3",
   "version": "3.6.9"
  }
 },
 "nbformat": 4,
 "nbformat_minor": 2
}
