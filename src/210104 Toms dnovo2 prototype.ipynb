{
 "cells": [
  {
   "cell_type": "code",
   "execution_count": 1,
   "metadata": {},
   "outputs": [],
   "source": [
    "from pyteomics import parser,mgf\n",
    "import numpy as np # TODO: get rid of numpy! ... replace by tensorflow\n",
    "import tensorflow as tf\n",
    "import re"
   ]
  },
  {
   "cell_type": "code",
   "execution_count": 7,
   "metadata": {},
   "outputs": [
    {
     "data": {
      "text/plain": [
       "'/tf/workspace/notebooks'"
      ]
     },
     "execution_count": 7,
     "metadata": {},
     "output_type": "execute_result"
    }
   ],
   "source": [
    "pwd"
   ]
  },
  {
   "cell_type": "code",
   "execution_count": 21,
   "metadata": {},
   "outputs": [],
   "source": [
    "MGF_FILE = \"../datasets/small.mgf\""
   ]
  },
  {
   "cell_type": "code",
   "execution_count": 5,
   "metadata": {},
   "outputs": [],
   "source": [
    "MAX_PEPTIDE_LENGTH=24\n",
    "MAX_N_PEAKS=200\n",
    "MZ_MIN = 100\n",
    "MZ_MAX = 2100\n",
    "MZ_ERROR = 0.1\n",
    "MAX_DYNAMIC_RANGE=1000# TODO: this has to be replaced! Bin/Embed intensities? ...feels weird\n",
    "MAX_INTENSITY=10e-7# TODO: this has to be replaced! Bin/Embed intensities? ...feels weird\n",
    "BATCH_SIZE=64"
   ]
  },
  {
   "cell_type": "code",
   "execution_count": 12,
   "metadata": {},
   "outputs": [
    {
     "data": {
      "text/plain": [
       "20000"
      ]
     },
     "execution_count": 12,
     "metadata": {},
     "output_type": "execute_result"
    }
   ],
   "source": [
    "MZ_RESOLUTION=int((MZ_MAX-MZ_MIN)/MZ_ERROR)\n",
    "MZ_RESOLUTION"
   ]
  },
  {
   "cell_type": "code",
   "execution_count": 16,
   "metadata": {},
   "outputs": [
    {
     "data": {
      "text/plain": [
       "array([ 100. ,  100.1,  100.2, ..., 2099.8, 2099.9, 2100. ])"
      ]
     },
     "execution_count": 16,
     "metadata": {},
     "output_type": "execute_result"
    }
   ],
   "source": [
    "mz_bins = np.linspace(MZ_MIN, MZ_MAX, MZ_RESOLUTION + 1)\n",
    "mz_bins"
   ]
  },
  {
   "cell_type": "code",
   "execution_count": 17,
   "metadata": {},
   "outputs": [
    {
     "data": {
      "text/plain": [
       "20001"
      ]
     },
     "execution_count": 17,
     "metadata": {},
     "output_type": "execute_result"
    }
   ],
   "source": [
    "len(mz_bins)"
   ]
  },
  {
   "cell_type": "code",
   "execution_count": 19,
   "metadata": {},
   "outputs": [
    {
     "data": {
      "text/plain": [
       "array([0.00e+00, 1.00e-09, 2.00e-09, ..., 9.98e-07, 9.99e-07, 1.00e-06])"
      ]
     },
     "execution_count": 19,
     "metadata": {},
     "output_type": "execute_result"
    }
   ],
   "source": [
    "# TODO: this has to be replaced! Bin/Embed intensities? ...feels weird\n",
    "intensity_bins = np.linspace(0, MAX_INTENSITY, MAX_DYNAMIC_RANGE + 1)\n",
    "intensity_bins"
   ]
  },
  {
   "cell_type": "code",
   "execution_count": 20,
   "metadata": {},
   "outputs": [
    {
     "data": {
      "text/plain": [
       "1001"
      ]
     },
     "execution_count": 20,
     "metadata": {},
     "output_type": "execute_result"
    }
   ],
   "source": [
    "len(intensity_bins)"
   ]
  },
  {
   "cell_type": "code",
   "execution_count": 29,
   "metadata": {},
   "outputs": [
    {
     "data": {
      "text/plain": [
       "{'seq': 'AADFLFSC+57.021DASHPDTLR',\n",
       " 'mz': array([ 115.08660126,  120.08078003,  129.10192871,  136.07553101,\n",
       "         143.08140564,  147.11248779,  175.11817932,  182.08056641,\n",
       "         186.12322998,  197.12815857,  231.09684753,  233.16452026,\n",
       "         235.10758972,  258.10803223,  259.11129761,  261.15933228,\n",
       "         263.10223389,  329.14877319,  334.1390686 ,  355.19689941,\n",
       "         360.15396118,  371.19207764,  376.18588257,  377.18130493,\n",
       "         378.18457031,  389.24981689,  405.17630005,  406.18054199,\n",
       "         447.22357178,  448.22689819,  448.73175049,  469.21282959,\n",
       "         472.25442505,  473.2394104 ,  490.26544189,  491.26852417,\n",
       "         500.24920654,  506.24777222,  518.26062012,  519.26373291,\n",
       "         555.92797852,  556.26000977,  557.26654053,  586.25958252,\n",
       "         586.76196289,  587.26409912,  588.29321289,  588.79595947,\n",
       "         597.29937744,  597.80010986,  598.29907227,  601.33007812,\n",
       "         601.80670166,  602.3347168 ,  610.30560303,  612.33563232,\n",
       "         613.35162354,  614.36071777,  619.31219482,  619.81121826,\n",
       "         620.31317139,  621.2746582 ,  665.32849121,  666.33325195,\n",
       "         694.30352783,  694.80462646,  695.3034668 ,  703.31097412,\n",
       "         703.81201172,  704.31207275,  709.38598633,  738.39038086,\n",
       "         750.8482666 ,  751.34857178,  759.85314941,  760.35394287,\n",
       "         760.85443115,  776.37390137,  805.29180908,  825.42266846,\n",
       "         832.91607666,  833.38696289,  833.88775635,  834.38903809,\n",
       "         882.39276123,  889.4586792 ,  890.90014648,  891.40185547,\n",
       "         891.9019165 ,  896.45581055,  926.4196167 ,  926.91864014,\n",
       "         937.44018555,  955.44897461,  956.43963623,  986.47070312,\n",
       "        1011.4831543 , 1022.50097656, 1023.49536133, 1102.51477051,\n",
       "        1216.60229492]),\n",
       " 'i': array([  89966.        ,  132922.90625   ,   20467.62695312,\n",
       "          18817.328125  ,  129529.1015625 ,   19432.90234375,\n",
       "          20992.828125  ,   24198.59375   ,   23393.2578125 ,\n",
       "          15618.75      ,   21996.97070312,  151067.078125  ,\n",
       "          66767.3984375 ,  289154.8125    ,   24251.15429688,\n",
       "         144562.140625  ,   67583.8359375 ,   39766.8359375 ,\n",
       "          29768.08984375,   90069.6640625 ,   14375.265625  ,\n",
       "          14717.52441406,   57858.984375  ,  149883.578125  ,\n",
       "          38766.78515625,   27782.08398438,  150847.40625   ,\n",
       "          34879.3203125 ,   69420.34375   ,   14559.10058594,\n",
       "          24108.26757812,   17704.953125  ,   25792.83398438,\n",
       "          23362.78125   ,   92524.6640625 ,   25305.01367188,\n",
       "          19836.60546875,   34506.20703125,  168728.75      ,\n",
       "          43069.70703125,   21757.53515625,   24329.96875   ,\n",
       "          23019.62890625,  137276.046875  ,   67718.8359375 ,\n",
       "          16363.02539062,   27685.89453125,   31792.43164062,\n",
       "         101504.1953125 ,   68529.6640625 ,   20606.84179688,\n",
       "         173337.        ,   24190.56835938,   40777.52734375,\n",
       "          16078.90136719,   28498.72460938,   14904.14550781,\n",
       "          13955.55761719,   41075.70703125,   36122.30078125,\n",
       "          24656.7421875 ,   27171.55859375,   44391.87890625,\n",
       "          16829.26953125,   46798.453125  ,   27066.87695312,\n",
       "          18285.25390625, 1344666.125     ,  999421.5       ,\n",
       "         365618.25      ,   61500.3984375 ,   40692.0546875 ,\n",
       "          19870.62890625,   22675.34570312,  604766.625     ,\n",
       "         501282.375     ,  189036.0625    ,  118116.921875  ,\n",
       "          25601.47070312,   38351.77734375,  329387.09375   ,\n",
       "         203858.5       ,  192964.125     ,   85048.4765625 ,\n",
       "          18741.1328125 ,   25099.75976562,  305552.78125   ,\n",
       "         346490.125     ,  159104.265625  ,   29036.77734375,\n",
       "          22819.85351562,   32333.76757812,   33893.4375    ,\n",
       "          69119.9921875 ,   32410.80664062,   28553.875     ,\n",
       "          18735.734375  ,   23701.13867188,   15332.51953125,\n",
       "          35500.10546875,   34243.26171875])}"
      ]
     },
     "execution_count": 29,
     "metadata": {},
     "output_type": "execute_result"
    }
   ],
   "source": [
    "extract_features_from_mgf_entry(next(r))"
   ]
  },
  {
   "cell_type": "code",
   "execution_count": 6,
   "metadata": {},
   "outputs": [],
   "source": [
    "def get_sequence_of_indices(sequence: str, aa_list: list=list(aa_with_pad)):\n",
    "    return np.array([aa_list.index(aa) for aa in sequence])\n",
    "\n",
    "def trim_sequence(indices):\n",
    "    if len(indices)<=MAX_PEPTIDE_LENGTH:\n",
    "        indices = np.pad(indices,((0,MAX_PEPTIDE_LENGTH-(indices.shape[0]))), 'constant', constant_values=0)\n",
    "        return indices\n",
    "    else:\n",
    "        return indices[:MAX_PEPTIDE_LENGTH] #TODO: this has to be replaced! Longer Peptides should be discarded or increase MAX_PEPTIDE_LENGTH\n",
    "\n",
    "def trim_peaks_list(mz,intensities,MAX_N_PEAKS=MAX_N_PEAKS,pad=True):\n",
    "    if mz.shape[0]<=MAX_N_PEAKS and pad:\n",
    "        mz = np.pad(mz,((0,MAX_N_PEAKS-(mz.shape[0]))), 'constant', constant_values=0)\n",
    "        intensities = np.pad(intensities,((0,MAX_N_PEAKS-(intensities.shape[0]))), 'constant', constant_values=0)    \n",
    "        return mz,intensities\n",
    "    else:\n",
    "        indices = np.argsort(intensities)[-MAX_N_PEAKS:][::-1] # take only highest=MAX_N_PEAKS peaks\n",
    "        return mz[indices],intensities[indices]\n",
    "\n",
    "\n",
    "\n",
    "def ion_current_normalize(intensities):\n",
    "    total_sum = np.sum(intensities**2)\n",
    "    normalized = intensities/total_sum\n",
    "    return normalized\n",
    "\n",
    "def create_iterator_from_mgf(mgf_file: str):     \n",
    "    def iterator():        \n",
    "        with mgf.read(mgf_file) as reader:              \n",
    "            for entry in reader:\n",
    "                sequence, mz, intensities = get_features(entry)\n",
    "                indices = get_sequence_of_indices(sequence)\n",
    "                indices = trim_sequence(indices)\n",
    "                intensities = ion_current_normalize(intensities)\n",
    "                mz,intensities = trim_peaks_list(mz,intensities,pad=True)\n",
    "                mz = np.digitize(mz, bins=mz_bins)\n",
    "                intensities = np.digitize(intensities, bins=intensity_bins) # TODO: this has to be replaced! Bin/Embed intensities? ...feels weird\n",
    "                yield (mz,intensities),indices\n",
    "                \n",
    "    return iterator\n",
    "\n",
    "def create_dataset_from_iterator(iterator, data_type=((tf.int32,tf.int32),tf.int32), batched=True, batch_size=BATCH_SIZE, repeat=True):\n",
    "    ds = tf.data.Dataset.from_generator(iterator,data_type)\n",
    "    if batched:\n",
    "        ds = ds.batch(batch_size)\n",
    "    if repeat:\n",
    "        ds = ds.repeat()\n",
    "    return ds"
   ]
  },
  {
   "cell_type": "code",
   "execution_count": 8,
   "metadata": {},
   "outputs": [],
   "source": [
    "ds = create_ds(create_iterator_from_mgf(MGF_FILE))"
   ]
  },
  {
   "cell_type": "code",
   "execution_count": 9,
   "metadata": {},
   "outputs": [
    {
     "name": "stdout",
     "output_type": "stream",
     "text": [
      "Model: \"model\"\n",
      "__________________________________________________________________________________________________\n",
      "Layer (type)                    Output Shape         Param #     Connected to                     \n",
      "==================================================================================================\n",
      "input_1 (InputLayer)            [(None, 200)]        0                                            \n",
      "__________________________________________________________________________________________________\n",
      "input_2 (InputLayer)            [(None, 200)]        0                                            \n",
      "__________________________________________________________________________________________________\n",
      "embedding (Embedding)           (None, 200, 16)      320000      input_1[0][0]                    \n",
      "__________________________________________________________________________________________________\n",
      "embedding_1 (Embedding)         (None, 200, 16)      16000       input_2[0][0]                    \n",
      "__________________________________________________________________________________________________\n",
      "tf.__operators__.add (TFOpLambd (None, 200, 16)      0           embedding[0][0]                  \n",
      "                                                                 embedding_1[0][0]                \n",
      "__________________________________________________________________________________________________\n",
      "flatten (Flatten)               (None, 3200)         0           tf.__operators__.add[0][0]       \n",
      "__________________________________________________________________________________________________\n",
      "dense (Dense)                   (None, 504)          1613304     flatten[0][0]                    \n",
      "__________________________________________________________________________________________________\n",
      "tf.reshape (TFOpLambda)         (None, 24, 21)       0           dense[0][0]                      \n",
      "__________________________________________________________________________________________________\n",
      "tf.math.reduce_max (TFOpLambda) (None, 24, 1)        0           tf.reshape[0][0]                 \n",
      "__________________________________________________________________________________________________\n",
      "tf.math.subtract (TFOpLambda)   (None, 24, 21)       0           tf.reshape[0][0]                 \n",
      "                                                                 tf.math.reduce_max[0][0]         \n",
      "__________________________________________________________________________________________________\n",
      "tf.math.exp (TFOpLambda)        (None, 24, 21)       0           tf.math.subtract[0][0]           \n",
      "__________________________________________________________________________________________________\n",
      "tf.math.reduce_sum (TFOpLambda) (None, 24, 1)        0           tf.math.exp[0][0]                \n",
      "__________________________________________________________________________________________________\n",
      "tf.math.truediv (TFOpLambda)    (None, 24, 21)       0           tf.math.exp[0][0]                \n",
      "                                                                 tf.math.reduce_sum[0][0]         \n",
      "==================================================================================================\n",
      "Total params: 1,949,304\n",
      "Trainable params: 1,949,304\n",
      "Non-trainable params: 0\n",
      "__________________________________________________________________________________________________\n"
     ]
    }
   ],
   "source": [
    "inputs_mz = tf.keras.layers.Input(shape=(MAX_N_PEAKS,))\n",
    "inputs_intensities = tf.keras.layers.Input(shape=(MAX_N_PEAKS,))\n",
    "emb_1 = tf.keras.layers.Embedding(input_dim=MZ_RESOLUTION,output_dim=16)(inputs_mz)\n",
    "emb_2 = tf.keras.layers.Embedding(input_dim=MAX_DYNAMIC_RANGE,output_dim=16)(inputs_intensities)\n",
    "x = emb_1+emb_2\n",
    "\n",
    "x = tf.keras.layers.Flatten()(x)\n",
    "x = tf.keras.layers.Dense(MAX_PEPTIDE_LENGTH*len(alphabet))(x) #TODO: this has to be replaced!\n",
    "x = tf.reshape(x,(-1, MAX_PEPTIDE_LENGTH, len(alphabet)))\n",
    "\n",
    "x = tf.keras.activations.softmax(x)\n",
    "model = tf.keras.Model([inputs_mz,inputs_intensities],x)\n",
    "model.compile(optimizer=tf.keras.optimizers.Adam(),\n",
    "              loss=tf.keras.losses.SparseCategoricalCrossentropy())\n",
    "model.summary()"
   ]
  },
  {
   "cell_type": "code",
   "execution_count": 10,
   "metadata": {},
   "outputs": [
    {
     "name": "stdout",
     "output_type": "stream",
     "text": [
      "Epoch 1/10\n",
      "10/10 [==============================] - 1s 30ms/step - loss: 2.8637\n",
      "Epoch 2/10\n",
      "10/10 [==============================] - 0s 28ms/step - loss: 1.9770\n",
      "Epoch 3/10\n",
      "10/10 [==============================] - 0s 28ms/step - loss: 1.5476\n",
      "Epoch 4/10\n",
      "10/10 [==============================] - 0s 29ms/step - loss: 1.3278\n",
      "Epoch 5/10\n",
      "10/10 [==============================] - 0s 28ms/step - loss: 1.0381\n",
      "Epoch 6/10\n",
      "10/10 [==============================] - 0s 28ms/step - loss: 0.7783\n",
      "Epoch 7/10\n",
      "10/10 [==============================] - 0s 27ms/step - loss: 0.5619\n",
      "Epoch 8/10\n",
      "10/10 [==============================] - 0s 28ms/step - loss: 0.3932\n",
      "Epoch 9/10\n",
      "10/10 [==============================] - 0s 27ms/step - loss: 0.2703\n",
      "Epoch 10/10\n",
      "10/10 [==============================] - 0s 28ms/step - loss: 0.1863\n"
     ]
    },
    {
     "data": {
      "text/plain": [
       "<tensorflow.python.keras.callbacks.History at 0x7fa7fdfa4a58>"
      ]
     },
     "execution_count": 10,
     "metadata": {},
     "output_type": "execute_result"
    }
   ],
   "source": [
    "model.fit(ds,steps_per_epoch=10,epochs=10)"
   ]
  },
  {
   "cell_type": "code",
   "execution_count": 11,
   "metadata": {},
   "outputs": [],
   "source": [
    "y = model.predict(ds,steps=1)"
   ]
  },
  {
   "cell_type": "code",
   "execution_count": 12,
   "metadata": {},
   "outputs": [],
   "source": [
    "def decode(indices,aa=aa_with_pad,predicted=True):\n",
    "    if predicted:\n",
    "        indices = np.argmax(indices,axis=-1)\n",
    "    sequence = np.apply_along_axis(lambda x: aa[x],axis=-1,arr=indices)\n",
    "    sequence = np.apply_along_axis(lambda x: ''.join(x),axis=-1,arr=sequence)\n",
    "    return sequence"
   ]
  },
  {
   "cell_type": "code",
   "execution_count": 13,
   "metadata": {},
   "outputs": [],
   "source": [
    "ground_truth = np.array([x[1] for x in ds.take(1)])\n",
    "ground_truth = decode(ground_truth,predicted=False)\n",
    "ground_truth = list(ground_truth[0])"
   ]
  },
  {
   "cell_type": "code",
   "execution_count": 14,
   "metadata": {},
   "outputs": [],
   "source": [
    "y = list(decode(y))"
   ]
  },
  {
   "cell_type": "code",
   "execution_count": 15,
   "metadata": {},
   "outputs": [
    {
     "name": "stdout",
     "output_type": "stream",
     "text": [
      "predicted peptide / true peptide\n",
      "[['AAAGEEETAAAGSPGRK_______' 'AAAGEEETAAAGSPGRK_______']\n",
      " ['AAALASGCTVEIK___________' 'AAALASGCTVEIK___________']\n",
      " ['AAAVLRDSTSVPVTAEAK______' 'AAAVLRDSTSVPVTAEAK______']\n",
      " ['AADFLFSCDASHPDTLR_______' 'AADFLFSCDASHPDTLR_______']\n",
      " ['AADSSAPEDSEKLVGDTVSYSK__' 'AADSSAPEDSEKLVGDTVSYSK__']\n",
      " ['AAGHQADEILVPLDSK________' 'AAGHQADEILVPLDSK________']\n",
      " ['AAGLAGSDLITALISPTTR_____' 'AAGLAGSDLITALISPTTR_____']\n",
      " ['AAKEPEAVAVK_____________' 'AAKEPEAVAVK_____________']\n",
      " ['AAKIVTDVLLR_____________' 'AAKIVTDVLLR_____________']\n",
      " ['AALEQLLK________________' 'AALEQLLK________________']]\n"
     ]
    }
   ],
   "source": [
    "print(\"predicted peptide / true peptide\")\n",
    "print(np.array(list(zip(y,ground_truth))[:10]))"
   ]
  }
 ],
 "metadata": {
  "kernelspec": {
   "display_name": "Python 3",
   "language": "python",
   "name": "python3"
  },
  "language_info": {
   "codemirror_mode": {
    "name": "ipython",
    "version": 3
   },
   "file_extension": ".py",
   "mimetype": "text/x-python",
   "name": "python",
   "nbconvert_exporter": "python",
   "pygments_lexer": "ipython3",
   "version": "3.6.9"
  }
 },
 "nbformat": 4,
 "nbformat_minor": 2
}
