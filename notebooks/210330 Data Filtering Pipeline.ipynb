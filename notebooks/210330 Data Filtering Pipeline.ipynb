{
 "cells": [
  {
   "cell_type": "markdown",
   "id": "lovely-landing",
   "metadata": {},
   "source": [
    "# Prototyping a Data Filtering Pipeline\n",
    "## Prerequisites"
   ]
  },
  {
   "cell_type": "code",
   "execution_count": 1,
   "id": "worth-excuse",
   "metadata": {},
   "outputs": [
    {
     "name": "stderr",
     "output_type": "stream",
     "text": [
      "Matplotlib created a temporary config/cache directory at /tmp/matplotlib-z_vhfzwh because the default path (/.config/matplotlib) is not a writable directory; it is highly recommended to set the MPLCONFIGDIR environment variable to a writable directory, in particular to speed up the import of Matplotlib and to better support multiprocessing.\n"
     ]
    }
   ],
   "source": [
    "import glob\n",
    "import pandas as pd\n",
    "import mmproteo\n",
    "import os\n",
    "from typing imp"
   ]
  },
  {
   "cell_type": "code",
   "execution_count": 2,
   "id": "circular-latin",
   "metadata": {},
   "outputs": [],
   "source": [
    "pd.set_option('display.max_columns', None)\n",
    "pd.set_option('display.max_rows', 1000)"
   ]
  },
  {
   "cell_type": "markdown",
   "id": "essential-playlist",
   "metadata": {},
   "source": [
    "## Data Import"
   ]
  },
  {
   "cell_type": "code",
   "execution_count": 3,
   "id": "norwegian-therapist",
   "metadata": {},
   "outputs": [
    {
     "data": {
      "text/plain": [
       "'/tf/workspace/notebooks'"
      ]
     },
     "execution_count": 3,
     "metadata": {},
     "output_type": "execute_result"
    }
   ],
   "source": [
    "pwd"
   ]
  },
  {
   "cell_type": "code",
   "execution_count": 4,
   "id": "genuine-dealing",
   "metadata": {},
   "outputs": [],
   "source": [
    "PROJECT = \"PXD010000\"\n",
    "DATA_PATH = f\"../datasets/{PROJECT}\"\n",
    "DUMP_PATH = f\"../dumps/{PROJECT}\"\n",
    "TRAINING_COLUMNS_DUMP_PATH = DUMP_PATH + \"/training_columns\"\n",
    "MZMLID_FILES_PATH = f\"{DATA_PATH}/*_mzmlid.parquet\""
   ]
  },
  {
   "cell_type": "code",
   "execution_count": 5,
   "id": "formed-arbor",
   "metadata": {},
   "outputs": [],
   "source": [
    "mmproteo.utils.utils.ensure_dir_exists(TRAINING_COLUMNS_DUMP_PATH)"
   ]
  },
  {
   "cell_type": "code",
   "execution_count": 8,
   "id": "alpha-message",
   "metadata": {
    "scrolled": true
   },
   "outputs": [
    {
     "data": {
      "text/plain": [
       "['../datasets/PXD010000/Biodiversity_B_fragilis_01_28Jul15_Arwen_14-12-03_mzmlid.parquet',\n",
       " '../datasets/PXD010000/Biodiversity_B_thet_CMgluc_anaerobic_01_01Feb16_Arwen_15-07-13_mzmlid.parquet',\n",
       " '../datasets/PXD010000/Biodiversity_M_smegmatis_BHI_aerobic_3_05Oct16_Pippin_16-05-06_mzmlid.parquet',\n",
       " '../datasets/PXD010000/Biodiversity_B_fragilis_LIB_anaerobic_03_01Feb16_Arwen_15-07-13_mzmlid.parquet',\n",
       " '../datasets/PXD010000/Biodiversity_Lactobacillus_casei_MRS_01_27Dec15_Arwen_15-07-13_mzmlid.parquet',\n",
       " '../datasets/PXD010000/Biodiversity_P_ruminicola_MDM_anaerobic_2_09Jun16_Pippin_16-03-39_mzmlid.parquet',\n",
       " '../datasets/PXD010000/Biodiversity_S_agalactiae_LIB_aerobic_01_26Feb16_Arwen_16-01-01_mzmlid.parquet',\n",
       " '../datasets/PXD010000/Biodiversity_S_thermosulf_FeYE_anaerobic_1_01Jun16_Pippin_16-03-39_mzmlid.parquet',\n",
       " '../datasets/PXD010000/Biodiversity_A_cryptum_FeTSB_anaerobic_1_01Jun16_Pippin_16-03-39_mzmlid.parquet',\n",
       " '../datasets/PXD010000/Biodiversity_M_xanthus_DZ2_48h_plates_1_13Jun16_Pippin_16-03-39_mzmlid.parquet',\n",
       " '../datasets/PXD010000/M_alcali_copp_MeOH_B1_T2_02_QE_23Mar18_Oak_18-01-07_mzmlid.parquet',\n",
       " '../datasets/PXD010000/Biodiversity_D_acidovorans_TGY_aerobic_03_29Apr16_Samwise_16-03-32_renamed_mzmlid.parquet',\n",
       " '../datasets/PXD010000/Biodiversity_M_xanthus_pellet_set2_2_13Jun16_Pippin_16-03-39_mzmlid.parquet',\n",
       " '../datasets/PXD010000/Biodiversity_C_Baltica_T240_R3_Inf_27Jan16_Arwen_15-07-13_mzmlid.parquet',\n",
       " '../datasets/PXD010000/Biodiversity_R_palustris_PM_aerobic_1_01Jun16_Pippin_16-03-39_mzmlid.parquet',\n",
       " '../datasets/PXD010000/Biodiversity_C_comes_Carb_01_14Sep15_Arwen_15-07-13_mzmlid.parquet',\n",
       " '../datasets/PXD010000/Biodiversity_C_gilvus_GS2_anaerobic_03_01Feb16_Arwen_15-07-13_mzmlid.parquet',\n",
       " '../datasets/PXD010000/Biodiversity_D_longicatena_CarbI_01_26Aug15_Arwen_15-07-13_mzmlid.parquet',\n",
       " '../datasets/PXD010000/Biodiversity_HL49_HLHYE_aerobic_3_05Oct16_Pippin_16-05-06_mzmlid.parquet',\n",
       " '../datasets/PXD010000/Biodiversity_F_succinogenes_MDM_01_27Dec15_Arwen_15-07-13_mzmlid.parquet',\n",
       " '../datasets/PXD010000/Biodiversity_S_aurantiaca_CYE_aerobic_2_17July16_Samwise_16-04-10_mzmlid.parquet',\n",
       " '../datasets/PXD010000/Biodiversity_B_fragilis_LIB_aerobic_01_01Feb16_Arwen_15-07-13_mzmlid.parquet',\n",
       " '../datasets/PXD010000/Biodiversity_B_fragilis_LIB_anaerobic_02_01Feb16_Arwen_15-07-13_mzmlid.parquet',\n",
       " '../datasets/PXD010000/Biodiversity_D_longicatena_Glc_01_28Oct15_Arwen_15-07-13_mzmlid.parquet',\n",
       " '../datasets/PXD010000/Biodiversity_B_fragilis_LIB_anaerobic_01_08Feb16_Arwen_15-07-13_mzmlid.parquet',\n",
       " '../datasets/PXD010000/Biodiversity_C_indologenes_LIB_aerobic_03_03May16_Samwise_16-03-32_mzmlid.parquet',\n",
       " '../datasets/PXD010000/Biodiversity_B_thet_LB_anaerobic_01_01Feb16_Arwen_15-07-13_mzmlid.parquet',\n",
       " '../datasets/PXD010000/Biodiversity_HL48_HLHxylose_aerobic_3_09Jun16_Pippin_16-03-39_mzmlid.parquet',\n",
       " '../datasets/PXD010000/Cj_media_MH_R1_23Feb15_Arwen_14-12-03_mzmlid.parquet',\n",
       " '../datasets/PXD010000/Biodiversity_P_denitrificans_LIB_aerobic_01_29Apr16_Samwise_16-03-32_renamed_mzmlid.parquet',\n",
       " '../datasets/PXD010000/Biodiversity_C_gilvus_GS2_anaerobic_02_01Feb16_Arwen_15-07-13_mzmlid.parquet',\n",
       " '../datasets/PXD010000/Biodiversity_HL93_HLHfructose_aerobic_1_09Jun16_Pippin_16-03-39_mzmlid.parquet',\n",
       " '../datasets/PXD010000/Biodiversity_B_subtilis_NCIB3610_48h_plates_1_13Jun16_Pippin_16-03-39_mzmlid.parquet',\n",
       " '../datasets/PXD010000/Biodiversity_B_subtilis_pellet_set2_2_13Jun16_Pippin_16-03-39_mzmlid.parquet',\n",
       " '../datasets/PXD010000/Biodiversity_S_aurantiaca_CYE_aerobic_1_17July16_Samwise_16-04-10_mzmlid.parquet',\n",
       " '../datasets/PXD010000/Biodiversity_Lactobacillus_casei_MRS_03_27Dec15_Arwen_15-07-13_mzmlid.parquet',\n",
       " '../datasets/PXD010000/Biodiversity_B_thet_LB_anaerobic_02_01Feb16_Arwen_15-07-13_mzmlid.parquet',\n",
       " '../datasets/PXD010000/Biodiversity_C_freundii_LIB_01_28Oct15_Arwen_15-07-13_mzmlid.parquet',\n",
       " '../datasets/PXD010000/Biodiversity_S_agalactiae_LIB_aerobic_03_26Feb16_Arwen_16-01-01_mzmlid.parquet',\n",
       " '../datasets/PXD010000/Biodiversity_C_ljungdahlii_CO_anaerobic_2_04Oct16_Pippin_16-05-06_mzmlid.parquet',\n",
       " '../datasets/PXD010000/Biodiversity_B_thet_CMgluc_anaerobic_03_01Feb16_Arwen_15-07-13_mzmlid.parquet',\n",
       " '../datasets/PXD010000/Biodiversity_B_fragilis_LIB_aerobic_02_01Feb16_Arwen_15-07-13_mzmlid.parquet',\n",
       " '../datasets/PXD010000/Biodiversity_C_freundii_LB_01_14Sep15_Arwen_15-07-13_mzmlid.parquet',\n",
       " '../datasets/PXD010000/Biodiversity_R_jostii_R2A_aerobic_2_23Nov16_Pippin_16-09-11_mzmlid.parquet',\n",
       " '../datasets/PXD010000/Cj_media_MH_R2_23Feb15_Arwen_14-12-03_mzmlid.parquet',\n",
       " '../datasets/PXD010000/Biodiversity_S_elongatus_BG11NaCl_aerobic_1_05Oct16_Pippin_16-05-06_mzmlid.parquet',\n",
       " '../datasets/PXD010000/Biodiversity_F_prausnitzii_Carb_01_28Oct15_Arwen_15-07-13_mzmlid.parquet',\n",
       " '../datasets/PXD010000/Biodiversity_C_gilvus_GS2_anaerobic_01_01Feb16_Arwen_15-07-13_mzmlid.parquet',\n",
       " '../datasets/PXD010000/Biodiversity_R_palustris_PMnitro_anaerobic_1_01Jun16_Pippin_16-03-39_mzmlid.parquet',\n",
       " '../datasets/PXD010000/Biodiversity_F_succinogenes_MDM_03_27Dec15_Arwen_15-07-13_mzmlid.parquet',\n",
       " '../datasets/PXD010000/Biodiversity_B_subtilis_NCIB3610_plates_2_03May16_Samwise_16-03-32_mzmlid.parquet',\n",
       " '../datasets/PXD010000/Biodiversity_S_griseorubens_HSM_aerobic_2_23Nov16_Pippin_16-09-11_mzmlid.parquet',\n",
       " '../datasets/PXD010000/Biodiversity_B_thetaiotaomicron_Carb_01_26Aug15_Arwen_15-07-13_mzmlid.parquet',\n",
       " '../datasets/PXD010000/Biodiversity_S_agalactiae_LIB_aerobic_02_26Feb16_Arwen_16-01-01_mzmlid.parquet',\n",
       " '../datasets/PXD010000/Biodiversity_B_thet_LB_anaerobic_03_01Feb16_Arwen_15-07-13_mzmlid.parquet',\n",
       " '../datasets/PXD010000/Biodiversity_Lactobacillus_casei_MRS_02_27Dec15_Arwen_15-07-13_mzmlid.parquet',\n",
       " '../datasets/PXD010000/M_alcali_copp_MeOH_B2_T1_03_QE_23Mar18_Oak_18-01-07_mzmlid.parquet',\n",
       " '../datasets/PXD010000/Biodiversity_HL91_HLHsucrose_aerobic_1_09Jun16_Pippin_16-03-39_mzmlid.parquet',\n",
       " '../datasets/PXD010000/Biodiversity_B_fragilis_LIB_aerobic_03_01Feb16_Arwen_15-07-13_mzmlid.parquet',\n",
       " '../datasets/PXD010000/Biodiversity_C_necator_R2A_aerobic_2_23Nov16_Pippin_16-09-11_mzmlid.parquet',\n",
       " '../datasets/PXD010000/Biodiversity_B_thet_CMgluc_anaerobic_02_01Feb16_Arwen_15-07-13_mzmlid.parquet',\n",
       " '../datasets/PXD010000/Biodiversity_A_tumefaciens_R2A_aerobic_1_23Nov16_Pippin_16-09-11_mzmlid.parquet',\n",
       " '../datasets/PXD010000/Cj_media_MH_R3_23Feb15_Arwen_14-12-03_mzmlid.parquet',\n",
       " '../datasets/PXD010000/Biodiversity_R_palustris_PMnonnitro_anaerobic_3_01Jun16_Pippin_16-03-39_mzmlid.parquet',\n",
       " '../datasets/PXD010000/Biodiversity_F_succinogenes_MDM_02_27Dec15_Arwen_15-07-13_mzmlid.parquet',\n",
       " '../datasets/PXD010000/Biodiversity_C_ljungdahlii_Fructose_anaerobic_2_04Oct16_Pippin_16-05-06_mzmlid.parquet',\n",
       " '../datasets/PXD010000/Biodiversity_M_xanthus_DZ2_plates_2_03May16_Samwise_16-03-32_mzmlid.parquet',\n",
       " '../datasets/PXD010000/M_alcali_copp_MeOH_B2_T2_04_QE_23Mar18_Oak_18-01-07_mzmlid.parquet',\n",
       " '../datasets/PXD010000/M_alcali_copp_MeOH_B1_T1_01_QE_23Mar18_Oak_18-01-07_mzmlid.parquet',\n",
       " '../datasets/PXD010000/Cj_media_MH_R4_23Feb15_Arwen_14-12-03_mzmlid.parquet',\n",
       " '../datasets/PXD010000/Biodiversity_HL111_HLHglutamate_aerobic_1_14July16_Pippin_16-05-01_mzmlid.parquet',\n",
       " '../datasets/PXD010000/Biodiversity_B_cereus_ATCC14579_LB_aerobic_2_17July16_Samwise_16-04-10_mzmlid.parquet',\n",
       " '../datasets/PXD010000/Biodiversity_B_fragilis_CMcarb_anaerobic_03_01Feb16_Arwen_15-07-13_mzmlid.parquet',\n",
       " '../datasets/PXD010000/Biodiversity_S_griseorubens_HSM_aerobic_3_23Nov16_Pippin_16-09-11_mzmlid.parquet',\n",
       " '../datasets/PXD010000/Biodiversity_P_hydrogenalis_01_28Jul15_Arwen_14-12-03_mzmlid.parquet',\n",
       " '../datasets/PXD010000/Biodiversity_P_hydrogenalis_CMgluc_anaerobic_02_26Feb16_Arwen_16-01-01_mzmlid.parquet',\n",
       " '../datasets/PXD010000/Biodiversity_L_monocytogenes_BHI_aerobic_01_27Feb17_Pippin_16-11-03_mzmlid.parquet',\n",
       " '../datasets/PXD010000/Biodiversity_S_elongatus_BG11_aerobic_1_14July16_Pippin_16-05-01_mzmlid.parquet',\n",
       " '../datasets/PXD010000/Biodiversity_C_ljungdahlii_CO_anaerobic_3_04Oct16_Pippin_16-05-06_mzmlid.parquet',\n",
       " '../datasets/PXD010000/Biodiversity_B_subtilis_NCIB3610_24h_plates_1_13Jun16_Pippin_16-03-39_mzmlid.parquet',\n",
       " '../datasets/PXD010000/Biodiversity_D_acidovorans_TGY_aerobic_02_29Apr16_Samwise_16-03-32_renamed_mzmlid.parquet',\n",
       " '../datasets/PXD010000/Biodiversity_R_jostii_R2A_aerobic_3_23Nov16_Pippin_16-09-11_mzmlid.parquet',\n",
       " '../datasets/PXD010000/Biodiversity_B_fragilis_LB_anaerobic_01_01Feb16_Arwen_15-07-13_mzmlid.parquet',\n",
       " '../datasets/PXD010000/LP_LS_Phi_Stat_R1_30Sep14_Pippin_13-04-12_mzmlid.parquet',\n",
       " '../datasets/PXD010000/Biodiversity_R_palustris_PMnonnitro_anaerobic_2_01Jun16_Pippin_16-03-39_mzmlid.parquet',\n",
       " '../datasets/PXD010000/Biodiversity_C_Baltica_T240_R2_Inf_27Jan16_Arwen_15-07-13_mzmlid.parquet',\n",
       " '../datasets/PXD010000/Biodiversity_M_xanthus_DZ2_24h_plates_1_13Jun16_Pippin_16-03-39_mzmlid.parquet',\n",
       " '../datasets/PXD010000/Cj_media_MH_R5_23Feb15_Arwen_14-12-03_mzmlid.parquet',\n",
       " '../datasets/PXD010000/S_venezuelae_GYM_2_21Mar16_Arwen_16-01-03_mzmlid.parquet',\n",
       " '../datasets/PXD010000/Biodiversity_C_ljungdahlii_Fructose_anaerobic_3_04Oct16_Pippin_16-05-06_mzmlid.parquet',\n",
       " '../datasets/PXD010000/Biodiversity_B_fragilis_CMcarb_anaerobic_02_01Feb16_Arwen_15-07-13_mzmlid.parquet',\n",
       " '../datasets/PXD010000/P_putida_18Nov15_2_21Mar16_Arwen_16-01-03_mzmlid.parquet',\n",
       " '../datasets/PXD010000/Biodiversity_P_hydrogenalis_CMgluc_anaerobic_03_26Feb16_Arwen_16-01-01_mzmlid.parquet',\n",
       " '../datasets/PXD010000/Biodiversity_P_polymyxa_TBS_aerobic_2_17July16_Samwise_16-04-10_mzmlid.parquet',\n",
       " '../datasets/PXD010000/Biodiversity_C_necator_R2A_aerobic_3_23Nov16_Pippin_16-09-11_mzmlid.parquet',\n",
       " '../datasets/PXD010000/Biodiversity_B_cereus_PN_L_CL_1_09Oct16_Pippin_16-05-06_mzmlid.parquet',\n",
       " '../datasets/PXD010000/S_venezuelae_GYM_1_21Mar16_Arwen_16-01-03_mzmlid.parquet',\n",
       " '../datasets/PXD010000/M_alcali_copp_CH4_B2_T2_10_QE_23Mar18_Oak_18-01-07_mzmlid.parquet',\n",
       " '../datasets/PXD010000/P_putida_18Nov15_1_21Mar16_Arwen_16-01-03_mzmlid.parquet',\n",
       " '../datasets/PXD010000/Biodiversity_HL49_HLHYE_aerobic_2_05Oct16_Pippin_16-05-06_mzmlid.parquet',\n",
       " '../datasets/PXD010000/Biodiversity_B_fragilis_CMcarb_anaerobic_01_01Feb16_Arwen_15-07-13_mzmlid.parquet',\n",
       " '../datasets/PXD010000/Biodiversity_B_subtilis_NCIB3610_pellet_2_03May16_Samwise_16-03-32_mzmlid.parquet',\n",
       " '../datasets/PXD010000/Biodiversity_M_smegmatis_BHI_aerobic_2_05Oct16_Pippin_16-05-06_mzmlid.parquet',\n",
       " '../datasets/PXD010000/Biodiversity_B_fragilis_LB_anaerobic_03_01Feb16_Arwen_15-07-13_mzmlid.parquet',\n",
       " '../datasets/PXD010000/Biodiversity_M_xanthus_pellet_set2_3_13Jun16_Pippin_16-03-39_mzmlid.parquet',\n",
       " '../datasets/PXD010000/Biodiversity_B_cereus_ATCC14579_LB_aerobic_1_17July16_Samwise_16-04-10_mzmlid.parquet',\n",
       " '../datasets/PXD010000/Biodiversity_C_indologenes_LIB_aerobic_02_03May16_Samwise_16-03-32_mzmlid.parquet',\n",
       " '../datasets/PXD010000/Biodiversity_P_polymyxa_TBS_aerobic_1_17July16_Samwise_16-04-10_mzmlid.parquet',\n",
       " '../datasets/PXD010000/Biodiversity_B_subtilis_pellet_set2_3_13Jun16_Pippin_16-03-39_mzmlid.parquet',\n",
       " '../datasets/PXD010000/Biodiversity_C_Baltica_T240_R1_C_27Jan16_Arwen_15-07-13_mzmlid.parquet',\n",
       " '../datasets/PXD010000/Biodiversity_HL69_HLA_aerobic_1_05Oct16_Pippin_16-05-06_mzmlid.parquet',\n",
       " '../datasets/PXD010000/Biodiversity_M_xanthus_DZ2_pellet_2_03May16_Samwise_16-03-32_mzmlid.parquet',\n",
       " '../datasets/PXD010000/Biodiversity_P_hydrogenalis_CMgluc_anaerobic_01_26Feb16_Arwen_16-01-01_mzmlid.parquet',\n",
       " '../datasets/PXD010000/Biodiversity_HL48_HLHxylose_aerobic_2_09Jun16_Pippin_16-03-39_mzmlid.parquet',\n",
       " '../datasets/PXD010000/Biodiversity_B_fragilis_LB_anaerobic_02_01Feb16_Arwen_15-07-13_mzmlid.parquet',\n",
       " '../datasets/PXD010000/Biodiversity_M_xanthus_DZ2_24h_plates_3_13Jun16_Pippin_16-03-39_mzmlid.parquet',\n",
       " '../datasets/PXD010000/Biodiversity_F_novicida_TSB_aerobic_01_01Feb16_Arwen_15-07-13_mzmlid.parquet',\n",
       " '../datasets/PXD010000/QC_Shew_13_05_500ng_2_100uL_5hr_30Mar14_Samwise_13-07-17_mzmlid.parquet',\n",
       " '../datasets/PXD010000/LP_LS_Phi_Stat_R3_30Sep14_Pippin_13-04-12_mzmlid.parquet',\n",
       " '../datasets/PXD010000/Biodiversity_B_bifidum_CMcarb_anaerobic_03_26Feb16_Arwen_16-01-01_mzmlid.parquet',\n",
       " '../datasets/PXD010000/Biodiversity_P_denitrificans_LIB_aerobic_03_29Apr16_Samwise_16-03-32_renamed_mzmlid.parquet',\n",
       " '../datasets/PXD010000/Biodiversity_HL111_HLHglutamate_aerobic_3_14July16_Pippin_16-05-01_mzmlid.parquet',\n",
       " '../datasets/PXD010000/Biodiversity_C_ljungdahlii_Fructose_anaerobic_1_04Oct16_Pippin_16-05-06_mzmlid.parquet',\n",
       " '../datasets/PXD010000/Biodiversity_C_necator_R2A_aerobic_1_23Nov16_Pippin_16-09-11_mzmlid.parquet',\n",
       " '../datasets/PXD010000/Biodiversity_B_subtilis_NCIB3610_plates_1_03May16_Samwise_16-03-32_mzmlid.parquet',\n",
       " '../datasets/PXD010000/Biodiversity_HL91_HLHsucrose_aerobic_2_09Jun16_Pippin_16-03-39_mzmlid.parquet',\n",
       " '../datasets/PXD010000/Biodiversity_M_luteus_LIB_aerobic_03_26Feb16_Arwen_16-01-01_mzmlid.parquet',\n",
       " '../datasets/PXD010000/Biodiversity_Cellulomonas_gilvus_GS2_03_27Dec15_Arwen_15-07-13_mzmlid.parquet',\n",
       " '../datasets/PXD010000/Biodiversity_A_tumefaciens_R2A_aerobic_2_23Nov16_Pippin_16-09-11_mzmlid.parquet',\n",
       " '../datasets/PXD010000/Biodiversity_A_faecalis_LB_aerobic_01_26Feb16_Arwen_16-01-01_mzmlid.parquet',\n",
       " '../datasets/PXD010000/Biodiversity_S_elongatus_BG11_aerobic_3_14July16_Pippin_16-05-01_mzmlid.parquet',\n",
       " '../datasets/PXD010000/Biodiversity_B_infantis_CMcarb_anaerobic_02_26Feb16_Arwen_16-01-01_mzmlid.parquet',\n",
       " '../datasets/PXD010000/Biodiversity_B_cereus_PN_L_CL_3_09Oct16_Pippin_16-05-06_mzmlid.parquet',\n",
       " '../datasets/PXD010000/Biodiversity_R_palustris_PMnitro_anaerobic_2_01Jun16_Pippin_16-03-39_mzmlid.parquet',\n",
       " '../datasets/PXD010000/Biodiversity_B_fragilis_Carb_01_28Oct15_Arwen_15-07-13_mzmlid.parquet',\n",
       " '../datasets/PXD010000/QC_Shew_13_05_500ng_2_5hr_24Mar14_Samwise_13-07-17_mzmlid.parquet',\n",
       " '../datasets/PXD010000/Biodiversity_B_bifidum_CMcarb_anaerobic_02_26Feb16_Arwen_16-01-01_mzmlid.parquet',\n",
       " '../datasets/PXD010000/Biodiversity_S_griseorubens_HSM_aerobic_1_23Nov16_Pippin_16-09-11_mzmlid.parquet',\n",
       " '../datasets/PXD010000/M_alcali_copp_CH4_B3_T1_11_QE_23Mar18_Oak_18-01-07_mzmlid.parquet',\n",
       " '../datasets/PXD010000/Biodiversity_D_acidovorans_TGY_aerobic_01_29Apr16_Samwise_16-03-32_renamed_mzmlid.parquet',\n",
       " '../datasets/PXD010000/Biodiversity_M_xanthus_DZ2_plates_1_03May16_Samwise_16-03-32_mzmlid.parquet',\n",
       " '../datasets/PXD010000/Biodiversity_C_ljungdahlii_CO_anaerobic_1_04Oct16_Pippin_16-05-06_mzmlid.parquet',\n",
       " '../datasets/PXD010000/Biodiversity_B_subtilis_NCIB3610_24h_plates_3_13Jun16_Pippin_16-03-39_mzmlid.parquet',\n",
       " '../datasets/PXD010000/Biodiversity_L_monocytogenes_BHI_aerobic_03_27Feb17_Pippin_16-11-03_mzmlid.parquet',\n",
       " '../datasets/PXD010000/Biodiversity_M_luteus_LIB_aerobic_02_26Feb16_Arwen_16-01-01_mzmlid.parquet',\n",
       " '../datasets/PXD010000/Biodiversity_S_aurantiaca_CYE_aerobic_3_17July16_Samwise_16-04-10_mzmlid.parquet',\n",
       " '../datasets/PXD010000/P_putida_01Dec15_2_21Mar16_Arwen_16-01-03_mzmlid.parquet',\n",
       " '../datasets/PXD010000/Biodiversity_B_fragilis_CMgluc_anaerobic_01_01Feb16_Arwen_15-07-13_mzmlid.parquet',\n",
       " '../datasets/PXD010000/Biodiversity_R_jostii_R2A_aerobic_1_23Nov16_Pippin_16-09-11_mzmlid.parquet',\n",
       " '../datasets/PXD010000/Biodiversity_B_infantis_CMcarb_anaerobic_03_26Feb16_Arwen_16-01-01_mzmlid.parquet',\n",
       " '../datasets/PXD010000/Biodiversity_S_elongatus_BG11NaCl_aerobic_2_05Oct16_Pippin_16-05-06_mzmlid.parquet',\n",
       " '../datasets/PXD010000/Biodiversity_Cellulomonas_gilvus_GS2_02_27Dec15_Arwen_15-07-13_mzmlid.parquet',\n",
       " '../datasets/PXD010000/Biodiversity_F_novicida_TSB_aerobic_03_01Feb16_Arwen_15-07-13_mzmlid.parquet',\n",
       " '../datasets/PXD010000/Biodiversity_B_subtilis_pellet_set2_1_13Jun16_Pippin_16-03-39_mzmlid.parquet',\n",
       " '../datasets/PXD010000/Biodiversity_HL93_HLHfructose_aerobic_2_09Jun16_Pippin_16-03-39_mzmlid.parquet',\n",
       " '../datasets/PXD010000/Biodiversity_B_bifidum_CMcarb_anaerobic_01_26Feb16_Arwen_16-01-01_mzmlid.parquet',\n",
       " '../datasets/PXD010000/Biodiversity_B_subtilis_NCIB3610_48h_plates_2_13Jun16_Pippin_16-03-39_mzmlid.parquet',\n",
       " '../datasets/PXD010000/Biodiversity_M_luteus_LIB_aerobic_01_26Feb16_Arwen_16-01-01_mzmlid.parquet',\n",
       " '../datasets/PXD010000/P_putida_01Dec15_1_21Mar16_Arwen_16-01-03_mzmlid.parquet',\n",
       " '../datasets/PXD010000/Biodiversity_HL69_HLA_aerobic_3_05Oct16_Pippin_16-05-06_mzmlid.parquet',\n",
       " '../datasets/PXD010000/Biodiversity_Cellulomonas_gilvus_GS2_01_27Dec15_Arwen_15-07-13_mzmlid.parquet',\n",
       " '../datasets/PXD010000/Biodiversity_R_gnavus_Carb_01_28Oct15_Arwen_15-07-13_mzmlid.parquet',\n",
       " '../datasets/PXD010000/Biodiversity_A_faecalis_LB_aerobic_03_26Feb16_Arwen_16-01-01_mzmlid.parquet',\n",
       " '../datasets/PXD010000/Biodiversity_B_fragilis_CMgluc_anaerobic_02_01Feb16_Arwen_15-07-13_mzmlid.parquet',\n",
       " '../datasets/PXD010000/Biodiversity_C_Baltica_T240_R1_Inf_27Jan16_Arwen_15-07-13_mzmlid.parquet',\n",
       " '../datasets/PXD010000/Biodiversity_F_novicida_TSB_aerobic_02_01Feb16_Arwen_15-07-13_mzmlid.parquet',\n",
       " '../datasets/PXD010000/Biodiversity_C_comes_LIB_01_28Oct15_Arwen_15-07-13_mzmlid.parquet',\n",
       " '../datasets/PXD010000/Biodiversity_R_palustris_PM_aerobic_2_01Jun16_Pippin_16-03-39_mzmlid.parquet',\n",
       " '../datasets/PXD010000/M_alcali_copp_MeOH_B3_T1_05_QE_23Mar18_Oak_18-01-07_mzmlid.parquet',\n",
       " '../datasets/PXD010000/Biodiversity_P_ruminicola_MDM_anaerobic_1_09Jun16_Pippin_16-03-39_mzmlid.parquet',\n",
       " '../datasets/PXD010000/Biodiversity_C_comes_Glc_01_28Oct15_Arwen_15-07-13_mzmlid.parquet',\n",
       " '../datasets/PXD010000/Biodiversity_D_longicatena_CarbII_01_26Aug15_Arwen_15-07-13_mzmlid.parquet',\n",
       " '../datasets/PXD010000/Biodiversity_B_infantis_CMcarb_anaerobic_01_26Feb16_Arwen_16-01-01_mzmlid.parquet',\n",
       " '../datasets/PXD010000/Biodiversity_A_faecalis_LB_aerobic_02_26Feb16_Arwen_16-01-01_mzmlid.parquet',\n",
       " '../datasets/PXD010000/Biodiversity_B_fragilis_CMgluc_anaerobic_03_01Feb16_Arwen_15-07-13_mzmlid.parquet',\n",
       " '../datasets/PXD010000/Biodiversity_C_Baltica_T240_R3_C_27Jan16_Arwen_15-07-13_mzmlid.parquet',\n",
       " '../datasets/PXD010000/Biodiversity_A_cryptum_FeTSB_anaerobic_2_01Jun16_Pippin_16-03-39_mzmlid.parquet',\n",
       " '../datasets/PXD010000/Biodiversity_M_xanthus_DZ2_48h_plates_2_13Jun16_Pippin_16-03-39_mzmlid.parquet',\n",
       " '../datasets/PXD010000/Biodiversity_S_thermosulf_FeYE_anaerobic_2_01Jun16_Pippin_16-03-39_mzmlid.parquet',\n",
       " '../datasets/PXD010000/Biodiversity_M_xanthus_pellet_set2_1_13Jun16_Pippin_16-03-39_mzmlid.parquet',\n",
       " '../datasets/PXD010000/P_putida_17Nov15_2_21Mar16_Arwen_16-01-03_mzmlid.parquet',\n",
       " '../datasets/PXD010000/Biodiversity_HL69_HLA_aerobic_2_05Oct16_Pippin_16-05-06_mzmlid.parquet',\n",
       " '../datasets/PXD010000/Biodiversity_F_prausnitzii_LIB_01_28Oct15_Arwen_15-07-13_mzmlid.parquet',\n",
       " '../datasets/PXD010000/Biodiversity_HL48_HLHxylose_aerobic_1_09Jun16_Pippin_16-03-39_mzmlid.parquet',\n",
       " '../datasets/PXD010000/Biodiversity_Cibrobacter_freundii_LB_aerobic_01_01Feb16_Arwen_15-07-13_mzmlid.parquet',\n",
       " '../datasets/PXD010000/M_alcali_copp_CH4_B1_T2_08_QE_23Mar18_Oak_18-01-07_mzmlid.parquet',\n",
       " '../datasets/PXD010000/Biodiversity_F_prausnitzii_Glc_01_28Oct15_Arwen_15-07-13_mzmlid.parquet',\n",
       " '../datasets/PXD010000/QC_Shew_13_05_500ng_2_5hr_19Mar14_Samwise_13-07-17_mzmlid.parquet',\n",
       " '../datasets/PXD010000/Biodiversity_Bacillus_subtilis_LB_02_27Dec15_Arwen_15-07-13_mzmlid.parquet',\n",
       " '../datasets/PXD010000/Biodiversity_B_thet_LIB_anaerobic_02_01Feb16_Arwen_15-07-13_mzmlid.parquet',\n",
       " '../datasets/PXD010000/Biodiversity_B_thet_CMcarb_anaerobic_02_01Feb16_Arwen_15-07-13_mzmlid.parquet',\n",
       " '../datasets/PXD010000/Biodiversity_P_denitrificans_LIB_aerobic_02_29Apr16_Samwise_16-03-32_renamed_mzmlid.parquet',\n",
       " '../datasets/PXD010000/Biodiversity_P_polymyxa_TBS_aerobic_3_17July16_Samwise_16-04-10_mzmlid.parquet',\n",
       " '../datasets/PXD010000/Biodiversity_B_subtilis_NCIB3610_48h_plates_3_13Jun16_Pippin_16-03-39_mzmlid.parquet',\n",
       " '../datasets/PXD010000/Biodiversity_HL93_HLHfructose_aerobic_3_09Jun16_Pippin_16-03-39_mzmlid.parquet',\n",
       " '../datasets/PXD010000/Biodiversity_B_subtilis_NCIB3610_pellet_1_03May16_Samwise_16-03-32_mzmlid.parquet',\n",
       " '../datasets/PXD010000/M_alcali_copp_CH4_B3_T2_12_QE_23Mar18_Oak_18-01-07_mzmlid.parquet',\n",
       " '../datasets/PXD010000/Biodiversity_M_smegmatis_BHI_aerobic_1_05Oct16_Pippin_16-05-06_mzmlid.parquet',\n",
       " '../datasets/PXD010000/M_alcali_copp_CH4_B1_T1_07_QE_23Mar18_Oak_18-01-07_mzmlid.parquet',\n",
       " '../datasets/PXD010000/Biodiversity_C_indologenes_LIB_aerobic_01_03May16_Samwise_16-03-32_mzmlid.parquet',\n",
       " '../datasets/PXD010000/Biodiversity_R_gnavus_01_28Jul15_Arwen_14-12-03_mzmlid.parquet',\n",
       " '../datasets/PXD010000/Biodiversity_S_thermosulf_FeYE_anaerobic_3_01Jun16_Pippin_16-03-39_mzmlid.parquet',\n",
       " '../datasets/PXD010000/Biodiversity_B_cereus_ATCC14579_LB_aerobic_3_17July16_Samwise_16-04-10_mzmlid.parquet',\n",
       " '../datasets/PXD010000/Biodiversity_A_cryptum_FeTSB_anaerobic_3_01Jun16_Pippin_16-03-39_mzmlid.parquet',\n",
       " '../datasets/PXD010000/Biodiversity_M_xanthus_DZ2_48h_plates_3_13Jun16_Pippin_16-03-39_mzmlid.parquet',\n",
       " '../datasets/PXD010000/S_venezuelae_MYM_1_21Mar16_Arwen_16-01-03_mzmlid.parquet',\n",
       " '../datasets/PXD010000/Biodiversity_Bacillus_subtilis_LB_03_27Dec15_Arwen_15-07-13_mzmlid.parquet',\n",
       " '../datasets/PXD010000/Biodiversity_B_thet_LIB_anaerobic_03_01Feb16_Arwen_15-07-13_mzmlid.parquet',\n",
       " '../datasets/PXD010000/Biodiversity_B_thet_CMcarb_anaerobic_03_01Feb16_Arwen_15-07-13_mzmlid.parquet',\n",
       " '../datasets/PXD010000/Biodiversity_R_palustris_PM_aerobic_3_01Jun16_Pippin_16-03-39_mzmlid.parquet',\n",
       " '../datasets/PXD010000/Biodiversity_HL49_HLHYE_aerobic_1_05Oct16_Pippin_16-05-06_mzmlid.parquet',\n",
       " '../datasets/PXD010000/Biodiversity_M_xanthus_DZ2_pellet_1_03May16_Samwise_16-03-32_mzmlid.parquet',\n",
       " '../datasets/PXD010000/Biodiversity_C_Baltica_T240_R2_C_27Jan16_Arwen_15-07-13_mzmlid.parquet',\n",
       " '../datasets/PXD010000/Biodiversity_HL91_HLHsucrose_aerobic_3_09Jun16_Pippin_16-03-39_mzmlid.parquet',\n",
       " '../datasets/PXD010000/Biodiversity_HL111_HLHglutamate_aerobic_2_14July16_Pippin_16-05-01_mzmlid.parquet',\n",
       " '../datasets/PXD010000/Biodiversity_B_cereus_PN_L_CL_2_09Oct16_Pippin_16-05-06_mzmlid.parquet',\n",
       " '../datasets/PXD010000/Biodiversity_A_tumefaciens_R2A_aerobic_3_23Nov16_Pippin_16-09-11_mzmlid.parquet',\n",
       " '../datasets/PXD010000/Biodiversity_M_xanthus_DZ2_24h_plates_2_13Jun16_Pippin_16-03-39_mzmlid.parquet',\n",
       " '../datasets/PXD010000/Biodiversity_Cibrobacter_freundii_LB_aerobic_03_01Feb16_Arwen_15-07-13_mzmlid.parquet',\n",
       " '../datasets/PXD010000/LP_LS_Phi_Stat_R2_30Sep14_Pippin_13-04-12_mzmlid.parquet',\n",
       " '../datasets/PXD010000/S_venezuelae_MYM_2_21Mar16_Arwen_16-01-03_mzmlid.parquet',\n",
       " '../datasets/PXD010000/Biodiversity_R_palustris_PMnonnitro_anaerobic_1_01Jun16_Pippin_16-03-39_mzmlid.parquet',\n",
       " '../datasets/PXD010000/Biodiversity_S_elongatus_BG11_aerobic_2_14July16_Pippin_16-05-01_mzmlid.parquet',\n",
       " '../datasets/PXD010000/Biodiversity_L_monocytogenes_BHI_aerobic_02_27Feb17_Pippin_16-11-03_mzmlid.parquet',\n",
       " '../datasets/PXD010000/Biodiversity_B_subtilis_NCIB3610_24h_plates_2_13Jun16_Pippin_16-03-39_mzmlid.parquet',\n",
       " '../datasets/PXD010000/M_alcali_copp_MeOH_B3_T2_06_QE_23Mar18_Oak_18-01-07_mzmlid.parquet',\n",
       " '../datasets/PXD010000/P_putida_17Nov15_1_21Mar16_Arwen_16-01-03_mzmlid.parquet',\n",
       " '../datasets/PXD010000/Biodiversity_S_elongatus_BG11NaCl_aerobic_3_05Oct16_Pippin_16-05-06_mzmlid.parquet',\n",
       " '../datasets/PXD010000/Biodiversity_B_thet_CMcarb_anaerobic_01_01Feb16_Arwen_15-07-13_mzmlid.parquet',\n",
       " '../datasets/PXD010000/Biodiversity_B_thet_LIB_anaerobic_01_01Feb16_Arwen_15-07-13_mzmlid.parquet',\n",
       " '../datasets/PXD010000/Biodiversity_B_thetaiotaomicron_Glc_01_26Aug15_Arwen_15-07-13_mzmlid.parquet',\n",
       " '../datasets/PXD010000/Biodiversity_R_palustris_PMnitro_anaerobic_3_01Jun16_Pippin_16-03-39_mzmlid.parquet',\n",
       " '../datasets/PXD010000/Biodiversity_Bacillus_subtilis_LB_01_27Dec15_Arwen_15-07-13_mzmlid.parquet',\n",
       " '../datasets/PXD010000/Biodiversity_Cibrobacter_freundii_LB_aerobic_02_01Feb16_Arwen_15-07-13_mzmlid.parquet',\n",
       " '../datasets/PXD010000/M_alcali_copp_CH4_B2_T1_09_QE_23Mar18_Oak_18-01-07_mzmlid.parquet']"
      ]
     },
     "execution_count": 8,
     "metadata": {},
     "output_type": "execute_result"
    }
   ],
   "source": [
    "MZMLID_FILE_PATHS = glob.glob(MZMLID_FILES_PATH)\n",
    "MZMLID_FILE_PATHS"
   ]
  },
  {
   "cell_type": "code",
   "execution_count": 9,
   "id": "dependent-designation",
   "metadata": {},
   "outputs": [
    {
     "data": {
      "text/plain": [
       "235"
      ]
     },
     "execution_count": 9,
     "metadata": {},
     "output_type": "execute_result"
    }
   ],
   "source": [
    "len(MZMLID_FILE_PATHS)"
   ]
  },
  {
   "cell_type": "code",
   "execution_count": 10,
   "id": "meaningful-valuation",
   "metadata": {},
   "outputs": [],
   "source": [
    "# for testing\n",
    "MZMLID_FILE_PATHS = MZMLID_FILE_PATHS[:5]"
   ]
  },
  {
   "cell_type": "code",
   "execution_count": 15,
   "id": "shared-retail",
   "metadata": {},
   "outputs": [
    {
     "ename": "NameError",
     "evalue": "name 'Optional' is not defined",
     "output_type": "error",
     "traceback": [
      "\u001b[0;31m---------------------------------------------------------------------------\u001b[0m",
      "\u001b[0;31mNameError\u001b[0m                                 Traceback (most recent call last)",
      "\u001b[0;32m<ipython-input-15-efed266c4d2f>\u001b[0m in \u001b[0;36m<module>\u001b[0;34m\u001b[0m\n\u001b[0;32m----> 1\u001b[0;31m \u001b[0;32mclass\u001b[0m \u001b[0mFilteringProcessor\u001b[0m\u001b[0;34m:\u001b[0m\u001b[0;34m\u001b[0m\u001b[0;34m\u001b[0m\u001b[0m\n\u001b[0m\u001b[1;32m      2\u001b[0m     \u001b[0;32mdef\u001b[0m \u001b[0m__init__\u001b[0m\u001b[0;34m(\u001b[0m\u001b[0mself\u001b[0m\u001b[0;34m,\u001b[0m \u001b[0mdump_path\u001b[0m\u001b[0;34m:\u001b[0m \u001b[0mstr\u001b[0m\u001b[0;34m,\u001b[0m \u001b[0mfdr\u001b[0m\u001b[0;34m:\u001b[0m \u001b[0mfloat\u001b[0m \u001b[0;34m=\u001b[0m \u001b[0;36m0.01\u001b[0m\u001b[0;34m,\u001b[0m \u001b[0mskip_existing\u001b[0m\u001b[0;34m:\u001b[0m \u001b[0mbool\u001b[0m \u001b[0;34m=\u001b[0m \u001b[0;32mTrue\u001b[0m\u001b[0;34m)\u001b[0m\u001b[0;34m:\u001b[0m\u001b[0;34m\u001b[0m\u001b[0;34m\u001b[0m\u001b[0m\n\u001b[1;32m      3\u001b[0m         \u001b[0mself\u001b[0m\u001b[0;34m.\u001b[0m\u001b[0mis_decoy_column_name\u001b[0m \u001b[0;34m=\u001b[0m \u001b[0;34m'SpectrumIdentificationItem__1__PeptideEvidenceRef__isDecoy'\u001b[0m\u001b[0;34m\u001b[0m\u001b[0;34m\u001b[0m\u001b[0m\n\u001b[1;32m      4\u001b[0m         \u001b[0mself\u001b[0m\u001b[0;34m.\u001b[0m\u001b[0mfdr_column_name\u001b[0m \u001b[0;34m=\u001b[0m \u001b[0;34m'SpectrumIdentificationItem__1__MSGFQValue'\u001b[0m\u001b[0;34m\u001b[0m\u001b[0;34m\u001b[0m\u001b[0m\n\u001b[1;32m      5\u001b[0m         \u001b[0mself\u001b[0m\u001b[0;34m.\u001b[0m\u001b[0mfdr\u001b[0m \u001b[0;34m=\u001b[0m \u001b[0mfdr\u001b[0m\u001b[0;34m\u001b[0m\u001b[0;34m\u001b[0m\u001b[0m\n",
      "\u001b[0;32m<ipython-input-15-efed266c4d2f>\u001b[0m in \u001b[0;36mFilteringProcessor\u001b[0;34m()\u001b[0m\n\u001b[1;32m     12\u001b[0m         \u001b[0mself\u001b[0m\u001b[0;34m.\u001b[0m\u001b[0mskip_existing\u001b[0m \u001b[0;34m=\u001b[0m \u001b[0mskip_existing\u001b[0m\u001b[0;34m\u001b[0m\u001b[0;34m\u001b[0m\u001b[0m\n\u001b[1;32m     13\u001b[0m \u001b[0;34m\u001b[0m\u001b[0m\n\u001b[0;32m---> 14\u001b[0;31m     \u001b[0;32mdef\u001b[0m \u001b[0m__call__\u001b[0m\u001b[0;34m(\u001b[0m\u001b[0mself\u001b[0m\u001b[0;34m,\u001b[0m \u001b[0minput_file_path\u001b[0m\u001b[0;34m:\u001b[0m \u001b[0mstr\u001b[0m\u001b[0;34m)\u001b[0m \u001b[0;34m->\u001b[0m \u001b[0mOptional\u001b[0m\u001b[0;34m[\u001b[0m\u001b[0mstr\u001b[0m\u001b[0;34m]\u001b[0m\u001b[0;34m:\u001b[0m\u001b[0;34m\u001b[0m\u001b[0;34m\u001b[0m\u001b[0m\n\u001b[0m\u001b[1;32m     15\u001b[0m         \u001b[0moutput_file_path\u001b[0m \u001b[0;34m=\u001b[0m \u001b[0mself\u001b[0m\u001b[0;34m.\u001b[0m\u001b[0mdump_path\u001b[0m \u001b[0;34m+\u001b[0m \u001b[0mos\u001b[0m\u001b[0;34m.\u001b[0m\u001b[0mpath\u001b[0m\u001b[0;34m.\u001b[0m\u001b[0msep\u001b[0m \u001b[0;34m+\u001b[0m \u001b[0minput_file_path\u001b[0m\u001b[0;34m.\u001b[0m\u001b[0msplit\u001b[0m\u001b[0;34m(\u001b[0m\u001b[0mos\u001b[0m\u001b[0;34m.\u001b[0m\u001b[0mpath\u001b[0m\u001b[0;34m.\u001b[0m\u001b[0msep\u001b[0m\u001b[0;34m)\u001b[0m\u001b[0;34m[\u001b[0m\u001b[0;34m-\u001b[0m\u001b[0;36m1\u001b[0m\u001b[0;34m]\u001b[0m\u001b[0;34m\u001b[0m\u001b[0;34m\u001b[0m\u001b[0m\n\u001b[1;32m     16\u001b[0m         \u001b[0;32mif\u001b[0m \u001b[0mself\u001b[0m\u001b[0;34m.\u001b[0m\u001b[0mskip_existing\u001b[0m \u001b[0;32mand\u001b[0m \u001b[0mos\u001b[0m\u001b[0;34m.\u001b[0m\u001b[0mpath\u001b[0m\u001b[0;34m.\u001b[0m\u001b[0mexists\u001b[0m\u001b[0;34m(\u001b[0m\u001b[0moutput_file_path\u001b[0m\u001b[0;34m)\u001b[0m\u001b[0;34m:\u001b[0m\u001b[0;34m\u001b[0m\u001b[0;34m\u001b[0m\u001b[0m\n",
      "\u001b[0;31mNameError\u001b[0m: name 'Optional' is not defined"
     ]
    }
   ],
   "source": [
    "class FilteringProcessor:\n",
    "    def __init__(self, dump_path: str, fdr: float = 0.01, skip_existing: bool = True):\n",
    "        self.is_decoy_column_name = 'SpectrumIdentificationItem__1__PeptideEvidenceRef__isDecoy'\n",
    "        self.fdr_column_name = 'SpectrumIdentificationItem__1__MSGFQValue'\n",
    "        self.fdr = fdr\n",
    "        self.output_columns = [\n",
    "            'SpectrumIdentificationItem__1__PeptideEvidenceRef__PeptideSequence',\n",
    "            'mz_array',\n",
    "            'intensity_array',\n",
    "        ]\n",
    "        self.dump_path = dump_path.rstrip(os.path.sep)\n",
    "        self.skip_existing = skip_existing\n",
    "    \n",
    "    def __call__(self, input_file_path: str) -> Optional[str]:\n",
    "        output_file_path = self.dump_path + os.path.sep + input_file_path.split(os.path.sep)[-1]\n",
    "        if self.skip_existing and os.path.exists(output_file_path):\n",
    "            return None\n",
    "        \n",
    "        res = {\n",
    "            'input_file_path' : input_file_path,\n",
    "            'output_file_path': output_file_path,\n",
    "        }\n",
    "        df = pd.read_parquet(current_input_file_path)\n",
    "        res['original_sequence_count'] = len(df)\n",
    "        df = df.dropna(subset=[self.is_decoy_column_name])\n",
    "        res['NaN_decoy_count'] = res['original_sequence_count'] - len(df)\n",
    "        df = df[df[self.fdr_column_name] <= self.fdr]\n",
    "        res['above_fdr_count'] = res['NaN_decoy_count'] - len(df)\n",
    "        decoy_counts = df[IS_DECOY].value_counts()\n",
    "        res['left_decoys'] = decoy_counts.get(True, 0)\n",
    "        res['left_targets'] = decoy_counts.get(False, 0)\n",
    "        res['fdr'] = res['left_decoys'] / res['left_targets']\n",
    "        # filter out Decoys\n",
    "        df = df[~df[self.is_decoy_column_name].astype(bool)]\n",
    "        res['final_sequence_count'] = len(df)\n",
    "        df = df[self.output_columns]\n",
    "        df.to_parquet(output_file_path)\n",
    "        return res"
   ]
  },
  {
   "cell_type": "code",
   "execution_count": null,
   "id": "promotional-movement",
   "metadata": {},
   "outputs": [],
   "source": []
  }
 ],
 "metadata": {
  "kernelspec": {
   "display_name": "Python 3",
   "language": "python",
   "name": "python3"
  },
  "language_info": {
   "codemirror_mode": {
    "name": "ipython",
    "version": 3
   },
   "file_extension": ".py",
   "mimetype": "text/x-python",
   "name": "python",
   "nbconvert_exporter": "python",
   "pygments_lexer": "ipython3",
   "version": "3.6.9"
  }
 },
 "nbformat": 4,
 "nbformat_minor": 5
}
