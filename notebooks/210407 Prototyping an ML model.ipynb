{
 "cells": [
  {
   "cell_type": "markdown",
   "id": "lovely-landing",
   "metadata": {},
   "source": [
    "# Prototyping an ML Model\n",
    "## Prerequisites"
   ]
  },
  {
   "cell_type": "code",
   "execution_count": 1,
   "id": "worth-excuse",
   "metadata": {},
   "outputs": [],
   "source": [
    "import glob\n",
    "import pandas as pd\n",
    "from mmproteo.utils.utils import ensure_dir_exists\n",
    "from mmproteo.utils import log\n",
    "from mmproteo.utils.formats.mz import FilteringProcessor, filter_files\n",
    "from mmproteo.utils.processing import ItemProcessor\n",
    "import os\n",
    "import tensorflow as tf\n",
    "import numpy as np\n",
    "from typing import Iterable, Callable"
   ]
  },
  {
   "cell_type": "code",
   "execution_count": 2,
   "id": "circular-latin",
   "metadata": {},
   "outputs": [],
   "source": [
    "pd.set_option('display.max_columns', None)\n",
    "pd.set_option('display.max_rows', 1000)"
   ]
  },
  {
   "cell_type": "code",
   "execution_count": 3,
   "id": "certified-gibson",
   "metadata": {},
   "outputs": [
    {
     "name": "stdout",
     "output_type": "stream",
     "text": [
      "INFO: Printing to Stdout\n"
     ]
    }
   ],
   "source": [
    "logger = log.DummyLogger(verbose=False)"
   ]
  },
  {
   "cell_type": "markdown",
   "id": "essential-playlist",
   "metadata": {},
   "source": [
    "## Data Import"
   ]
  },
  {
   "cell_type": "code",
   "execution_count": 4,
   "id": "norwegian-therapist",
   "metadata": {},
   "outputs": [
    {
     "data": {
      "text/plain": [
       "'/tf/workspace/notebooks'"
      ]
     },
     "execution_count": 4,
     "metadata": {},
     "output_type": "execute_result"
    }
   ],
   "source": [
    "pwd"
   ]
  },
  {
   "cell_type": "code",
   "execution_count": 5,
   "id": "genuine-dealing",
   "metadata": {},
   "outputs": [],
   "source": [
    "PROJECT = \"PXD010000\"\n",
    "DUMP_PATH = f\"../dumps/{PROJECT}\"\n",
    "TRAINING_COLUMNS_DUMP_PATH = DUMP_PATH + \"/training_columns\"\n",
    "FILES_PATH = f\"{TRAINING_COLUMNS_DUMP_PATH}/*_mzmlid.parquet\""
   ]
  },
  {
   "cell_type": "code",
   "execution_count": 6,
   "id": "alpha-message",
   "metadata": {
    "scrolled": true
   },
   "outputs": [
    {
     "data": {
      "text/plain": [
       "235"
      ]
     },
     "execution_count": 6,
     "metadata": {},
     "output_type": "execute_result"
    }
   ],
   "source": [
    "MZMLID_FILE_PATHS = glob.glob(FILES_PATH)\n",
    "len(MZMLID_FILE_PATHS)"
   ]
  },
  {
   "cell_type": "code",
   "execution_count": 7,
   "id": "twenty-methodology",
   "metadata": {},
   "outputs": [
    {
     "data": {
      "text/plain": [
       "'../dumps/PXD010000/training_columns/Biodiversity_S_agalactiae_LIB_aerobic_02_26Feb16_Arwen_16-01-01_mzmlid.parquet'"
      ]
     },
     "execution_count": 7,
     "metadata": {},
     "output_type": "execute_result"
    }
   ],
   "source": [
    "path = MZMLID_FILE_PATHS[0]\n",
    "path"
   ]
  },
  {
   "cell_type": "code",
   "execution_count": 8,
   "id": "narrow-prior",
   "metadata": {},
   "outputs": [],
   "source": [
    "df = pd.concat(pd.read_parquet(path) for path in MZMLID_FILE_PATHS[:10])"
   ]
  },
  {
   "cell_type": "code",
   "execution_count": 9,
   "id": "necessary-photography",
   "metadata": {},
   "outputs": [
    {
     "name": "stdout",
     "output_type": "stream",
     "text": [
      "length = 212568\n"
     ]
    },
    {
     "data": {
      "text/plain": [
       "SpectrumIdentificationItem__1__PeptideEvidenceRef__PeptideSequence    object\n",
       "mz_array                                                              object\n",
       "intensity_array                                                       object\n",
       "dtype: object"
      ]
     },
     "execution_count": 9,
     "metadata": {},
     "output_type": "execute_result"
    }
   ],
   "source": [
    "#df = pd.read_parquet(path)\n",
    "print(f\"length = {len(df)}\")\n",
    "df.dtypes"
   ]
  },
  {
   "cell_type": "code",
   "execution_count": 10,
   "id": "compressed-istanbul",
   "metadata": {},
   "outputs": [
    {
     "data": {
      "text/html": [
       "<div>\n",
       "<style scoped>\n",
       "    .dataframe tbody tr th:only-of-type {\n",
       "        vertical-align: middle;\n",
       "    }\n",
       "\n",
       "    .dataframe tbody tr th {\n",
       "        vertical-align: top;\n",
       "    }\n",
       "\n",
       "    .dataframe thead th {\n",
       "        text-align: right;\n",
       "    }\n",
       "</style>\n",
       "<table border=\"1\" class=\"dataframe\">\n",
       "  <thead>\n",
       "    <tr style=\"text-align: right;\">\n",
       "      <th></th>\n",
       "      <th>SpectrumIdentificationItem__1__PeptideEvidenceRef__PeptideSequence</th>\n",
       "      <th>mz_array</th>\n",
       "      <th>intensity_array</th>\n",
       "    </tr>\n",
       "  </thead>\n",
       "  <tbody>\n",
       "    <tr>\n",
       "      <th>24</th>\n",
       "      <td>AEQHIHENGAK</td>\n",
       "      <td>[101.07125, 102.05546, 110.07156, 116.97215, 118.96744, 129.1021, 130.0869, 136.06169, 147.11232, 147.86722, 155.08163, 173.0923, 212.34276, 218.1501, 223.15547, 237.12326, 249.09761, 301.14133, 316.8805, 322.89563, 327.0749, 337.8088, 339.80032, 361.81232, 369.12436, 389.2164, 395.1711, 406.8533, 411.8027, 411.8499, 412.8472, 413.18677, 413.26584, 491.61603, 518.25494, 591.45447, 629.3038, 655.31635]</td>\n",
       "      <td>[902.02026, 4357.0073, 6633.4424, 4117.3403, 1100.8181, 6611.2314, 4355.198, 1551.3958, 5044.971, 1391.3762, 1411.4926, 4370.8145, 599.59827, 581.25366, 1002.15424, 855.4764, 2903.5098, 1110.4567, 597.7157, 1097.4309, 649.19794, 722.08014, 790.918, 1252.6704, 1245.698, 1415.5712, 674.397, 926.17834, 786.1922, 10235.162, 2630.4385, 726.63934, 6187.4634, 616.34375, 821.95905, 904.2936, 645.9391, 1105.8728]</td>\n",
       "    </tr>\n",
       "  </tbody>\n",
       "</table>\n",
       "</div>"
      ],
      "text/plain": [
       "   SpectrumIdentificationItem__1__PeptideEvidenceRef__PeptideSequence  \\\n",
       "24                                                        AEQHIHENGAK   \n",
       "\n",
       "                                                                                                                                                                                                                                                                                                                                                                                                                mz_array  \\\n",
       "24  [101.07125, 102.05546, 110.07156, 116.97215, 118.96744, 129.1021, 130.0869, 136.06169, 147.11232, 147.86722, 155.08163, 173.0923, 212.34276, 218.1501, 223.15547, 237.12326, 249.09761, 301.14133, 316.8805, 322.89563, 327.0749, 337.8088, 339.80032, 361.81232, 369.12436, 389.2164, 395.1711, 406.8533, 411.8027, 411.8499, 412.8472, 413.18677, 413.26584, 491.61603, 518.25494, 591.45447, 629.3038, 655.31635]   \n",
       "\n",
       "                                                                                                                                                                                                                                                                                                                                                                                                            intensity_array  \n",
       "24  [902.02026, 4357.0073, 6633.4424, 4117.3403, 1100.8181, 6611.2314, 4355.198, 1551.3958, 5044.971, 1391.3762, 1411.4926, 4370.8145, 599.59827, 581.25366, 1002.15424, 855.4764, 2903.5098, 1110.4567, 597.7157, 1097.4309, 649.19794, 722.08014, 790.918, 1252.6704, 1245.698, 1415.5712, 674.397, 926.17834, 786.1922, 10235.162, 2630.4385, 726.63934, 6187.4634, 616.34375, 821.95905, 904.2936, 645.9391, 1105.8728]  "
      ]
     },
     "execution_count": 10,
     "metadata": {},
     "output_type": "execute_result"
    }
   ],
   "source": [
    "df.head(1)"
   ]
  },
  {
   "cell_type": "code",
   "execution_count": 11,
   "id": "interesting-minute",
   "metadata": {},
   "outputs": [],
   "source": [
    "SEQ = FilteringProcessor.default_peptide_sequence_column_name\n",
    "MZ = FilteringProcessor.default_mz_array_column_name\n",
    "INT = FilteringProcessor.default_intensity_array_column_name"
   ]
  },
  {
   "cell_type": "markdown",
   "id": "geological-harvest",
   "metadata": {},
   "source": [
    "## Data Preprocessing"
   ]
  },
  {
   "cell_type": "markdown",
   "id": "patient-strain",
   "metadata": {},
   "source": [
    "### Data Filtering"
   ]
  },
  {
   "cell_type": "code",
   "execution_count": 12,
   "id": "coordinate-tissue",
   "metadata": {},
   "outputs": [],
   "source": [
    "# drop non-AA characters\n",
    "df[SEQ] = df[SEQ].str.replace(r\"[^A-Z]\",'')"
   ]
  },
  {
   "cell_type": "markdown",
   "id": "academic-illinois",
   "metadata": {},
   "source": [
    "### Data Normalization"
   ]
  },
  {
   "cell_type": "markdown",
   "id": "impressive-congo",
   "metadata": {},
   "source": [
    "#### Normalizing Intensities"
   ]
  },
  {
   "cell_type": "code",
   "execution_count": 13,
   "id": "headed-finger",
   "metadata": {},
   "outputs": [],
   "source": [
    "def l2_normalize(values: np.ndarray) -> np.ndarray:\n",
    "    return tf.keras.utils.normalize(x=values, order=2)"
   ]
  },
  {
   "cell_type": "code",
   "execution_count": 14,
   "id": "finnish-throw",
   "metadata": {},
   "outputs": [],
   "source": [
    "def base_peak_normalize(values: np.ndarray) -> np.ndarray:\n",
    "    return values / values.max()"
   ]
  },
  {
   "cell_type": "code",
   "execution_count": 15,
   "id": "floating-witch",
   "metadata": {},
   "outputs": [],
   "source": [
    "# by Tom, probably\n",
    "# don't know, what it's based on\n",
    "def ion_current_normalize(intensities):\n",
    "    total_sum = np.sum(intensities**2)\n",
    "    normalized = intensities/total_sum\n",
    "    return normalized"
   ]
  },
  {
   "cell_type": "code",
   "execution_count": 16,
   "id": "funky-power",
   "metadata": {},
   "outputs": [],
   "source": [
    "NORMALIZATION=base_peak_normalize"
   ]
  },
  {
   "cell_type": "code",
   "execution_count": 17,
   "id": "helpful-decade",
   "metadata": {},
   "outputs": [],
   "source": [
    "df[INT] = df[INT].apply(NORMALIZATION)"
   ]
  },
  {
   "cell_type": "code",
   "execution_count": 18,
   "id": "activated-natural",
   "metadata": {},
   "outputs": [
    {
     "data": {
      "text/plain": [
       "24    [0.08812955, 0.4256901, 0.6481033, 0.40227407, 0.10755258, 0.6459333, 0.42551336, 0.1515751, 0.49290586, 0.1359408, 0.13790622, 0.42703912, 0.058582194, 0.056789882, 0.097912885, 0.0835821, 0.2836799, 0.10849429, 0.058398265, 0.10722164, 0.0634282, 0.07054897, 0.0772746, 0.122388914, 0.12170769, 0.13830471, 0.06589021, 0.09048986, 0.07681287, 1.0, 0.25700018, 0.070994414, 0.6045301, 0.06021827, 0.08030738, 0.08835166, 0.06310981, 0.108046435]\n",
       "Name: intensity_array, dtype: object"
      ]
     },
     "execution_count": 18,
     "metadata": {},
     "output_type": "execute_result"
    }
   ],
   "source": [
    "df[INT].head(1)"
   ]
  },
  {
   "cell_type": "markdown",
   "id": "extended-document",
   "metadata": {},
   "source": [
    "#### Normalizing MZ values"
   ]
  },
  {
   "cell_type": "code",
   "execution_count": null,
   "id": "widespread-principle",
   "metadata": {},
   "outputs": [],
   "source": []
  },
  {
   "cell_type": "markdown",
   "id": "humanitarian-liechtenstein",
   "metadata": {},
   "source": [
    "### Data Padding"
   ]
  },
  {
   "cell_type": "code",
   "execution_count": 19,
   "id": "waiting-delicious",
   "metadata": {},
   "outputs": [],
   "source": [
    "padding_characters = {\n",
    "    SEQ: '_',\n",
    "    MZ: 0.0,\n",
    "    INT: 0.0,\n",
    "}"
   ]
  },
  {
   "cell_type": "code",
   "execution_count": 20,
   "id": "extreme-farmer",
   "metadata": {},
   "outputs": [
    {
     "name": "stdout",
     "output_type": "stream",
     "text": [
      "Maximum sequence length = 50\n"
     ]
    }
   ],
   "source": [
    "# pad sequence string\n",
    "\n",
    "max_sequence_length = df[SEQ].str.len().max()\n",
    "print(f\"Maximum sequence length = {max_sequence_length}\")\n",
    "\n",
    "df[SEQ] = df[SEQ].str.pad(\n",
    "    width=max_sequence_length, \n",
    "    fillchar=padding_characters[SEQ], \n",
    "    side='right')"
   ]
  },
  {
   "cell_type": "code",
   "execution_count": 21,
   "id": "listed-growth",
   "metadata": {},
   "outputs": [],
   "source": [
    "ARRAY_COLS = [MZ, INT]"
   ]
  },
  {
   "cell_type": "code",
   "execution_count": 22,
   "id": "found-tracy",
   "metadata": {},
   "outputs": [
    {
     "data": {
      "text/html": [
       "<div>\n",
       "<style scoped>\n",
       "    .dataframe tbody tr th:only-of-type {\n",
       "        vertical-align: middle;\n",
       "    }\n",
       "\n",
       "    .dataframe tbody tr th {\n",
       "        vertical-align: top;\n",
       "    }\n",
       "\n",
       "    .dataframe thead th {\n",
       "        text-align: right;\n",
       "    }\n",
       "</style>\n",
       "<table border=\"1\" class=\"dataframe\">\n",
       "  <thead>\n",
       "    <tr style=\"text-align: right;\">\n",
       "      <th></th>\n",
       "      <th>SpectrumIdentificationItem__1__PeptideEvidenceRef__PeptideSequence</th>\n",
       "      <th>mz_array</th>\n",
       "      <th>intensity_array</th>\n",
       "    </tr>\n",
       "  </thead>\n",
       "  <tbody>\n",
       "    <tr>\n",
       "      <th>24</th>\n",
       "      <td>AEQHIHENGAK_______________________________________</td>\n",
       "      <td>[101.07125, 102.05546, 110.07156, 116.97215, 118.96744, 129.1021, 130.0869, 136.06169, 147.11232, 147.86722, 155.08163, 173.0923, 212.34276, 218.1501, 223.15547, 237.12326, 249.09761, 301.14133, 316.8805, 322.89563, 327.0749, 337.8088, 339.80032, 361.81232, 369.12436, 389.2164, 395.1711, 406.8533, 411.8027, 411.8499, 412.8472, 413.18677, 413.26584, 491.61603, 518.25494, 591.45447, 629.3038, 655.31635]</td>\n",
       "      <td>[0.08812955, 0.4256901, 0.6481033, 0.40227407, 0.10755258, 0.6459333, 0.42551336, 0.1515751, 0.49290586, 0.1359408, 0.13790622, 0.42703912, 0.058582194, 0.056789882, 0.097912885, 0.0835821, 0.2836799, 0.10849429, 0.058398265, 0.10722164, 0.0634282, 0.07054897, 0.0772746, 0.122388914, 0.12170769, 0.13830471, 0.06589021, 0.09048986, 0.07681287, 1.0, 0.25700018, 0.070994414, 0.6045301, 0.06021827, 0.08030738, 0.08835166, 0.06310981, 0.108046435]</td>\n",
       "    </tr>\n",
       "  </tbody>\n",
       "</table>\n",
       "</div>"
      ],
      "text/plain": [
       "   SpectrumIdentificationItem__1__PeptideEvidenceRef__PeptideSequence  \\\n",
       "24                 AEQHIHENGAK_______________________________________   \n",
       "\n",
       "                                                                                                                                                                                                                                                                                                                                                                                                                mz_array  \\\n",
       "24  [101.07125, 102.05546, 110.07156, 116.97215, 118.96744, 129.1021, 130.0869, 136.06169, 147.11232, 147.86722, 155.08163, 173.0923, 212.34276, 218.1501, 223.15547, 237.12326, 249.09761, 301.14133, 316.8805, 322.89563, 327.0749, 337.8088, 339.80032, 361.81232, 369.12436, 389.2164, 395.1711, 406.8533, 411.8027, 411.8499, 412.8472, 413.18677, 413.26584, 491.61603, 518.25494, 591.45447, 629.3038, 655.31635]   \n",
       "\n",
       "                                                                                                                                                                                                                                                                                                                                                                                                                                                   intensity_array  \n",
       "24  [0.08812955, 0.4256901, 0.6481033, 0.40227407, 0.10755258, 0.6459333, 0.42551336, 0.1515751, 0.49290586, 0.1359408, 0.13790622, 0.42703912, 0.058582194, 0.056789882, 0.097912885, 0.0835821, 0.2836799, 0.10849429, 0.058398265, 0.10722164, 0.0634282, 0.07054897, 0.0772746, 0.122388914, 0.12170769, 0.13830471, 0.06589021, 0.09048986, 0.07681287, 1.0, 0.25700018, 0.070994414, 0.6045301, 0.06021827, 0.08030738, 0.08835166, 0.06310981, 0.108046435]  "
      ]
     },
     "execution_count": 22,
     "metadata": {},
     "output_type": "execute_result"
    }
   ],
   "source": [
    "df.head(1)"
   ]
  },
  {
   "cell_type": "code",
   "execution_count": 23,
   "id": "postal-advance",
   "metadata": {},
   "outputs": [
    {
     "data": {
      "text/plain": [
       "1953"
      ]
     },
     "execution_count": 23,
     "metadata": {},
     "output_type": "execute_result"
    }
   ],
   "source": [
    "# pad arrays\n",
    "for col in ARRAY_COLS:\n",
    "    if len(df[col]) == 0:\n",
    "        continue\n",
    "    item_dtype = df[col].iloc[0].dtype\n",
    "    \n",
    "    max_array_length = df[col].str.len().max()\n",
    "    df[col] = list(tf.keras.preprocessing.sequence.pad_sequences(\n",
    "        sequences=df[col], \n",
    "        maxlen=max_array_length, \n",
    "        padding='post', \n",
    "        value=padding_characters[col],\n",
    "        dtype=item_dtype\n",
    "    ))\n",
    "    assert df[col].str.len().min() == df[col].str.len().max()\n",
    "\n",
    "max_array_length"
   ]
  },
  {
   "cell_type": "code",
   "execution_count": 24,
   "id": "suspended-logan",
   "metadata": {},
   "outputs": [
    {
     "data": {
      "text/html": [
       "<div>\n",
       "<style scoped>\n",
       "    .dataframe tbody tr th:only-of-type {\n",
       "        vertical-align: middle;\n",
       "    }\n",
       "\n",
       "    .dataframe tbody tr th {\n",
       "        vertical-align: top;\n",
       "    }\n",
       "\n",
       "    .dataframe thead th {\n",
       "        text-align: right;\n",
       "    }\n",
       "</style>\n",
       "<table border=\"1\" class=\"dataframe\">\n",
       "  <thead>\n",
       "    <tr style=\"text-align: right;\">\n",
       "      <th></th>\n",
       "      <th>SpectrumIdentificationItem__1__PeptideEvidenceRef__PeptideSequence</th>\n",
       "      <th>mz_array</th>\n",
       "      <th>intensity_array</th>\n",
       "    </tr>\n",
       "  </thead>\n",
       "  <tbody>\n",
       "    <tr>\n",
       "      <th>24</th>\n",
       "      <td>AEQHIHENGAK_______________________________________</td>\n",
       "      <td>[101.07125, 102.05546, 110.07156, 116.97215, 118.96744, 129.1021, 130.0869, 136.06169, 147.11232, 147.86722, 155.08163, 173.0923, 212.34276, 218.1501, 223.15547, 237.12326, 249.09761, 301.14133, 316.8805, 322.89563, 327.0749, 337.8088, 339.80032, 361.81232, 369.12436, 389.2164, 395.1711, 406.8533, 411.8027, 411.8499, 412.8472, 413.18677, 413.26584, 491.61603, 518.25494, 591.45447, 629.3038, 655.31635, 0.0, 0.0, 0.0, 0.0, 0.0, 0.0, 0.0, 0.0, 0.0, 0.0, 0.0, 0.0, 0.0, 0.0, 0.0, 0.0, 0.0, 0.0, 0.0, 0.0, 0.0, 0.0, 0.0, 0.0, 0.0, 0.0, 0.0, 0.0, 0.0, 0.0, 0.0, 0.0, 0.0, 0.0, 0.0, 0.0, 0.0, 0.0, 0.0, 0.0, 0.0, 0.0, 0.0, 0.0, 0.0, 0.0, 0.0, 0.0, 0.0, 0.0, 0.0, 0.0, 0.0, 0.0, 0.0, 0.0, 0.0, 0.0, 0.0, 0.0, 0.0, 0.0, ...]</td>\n",
       "      <td>[0.08812955, 0.4256901, 0.6481033, 0.40227407, 0.10755258, 0.6459333, 0.42551336, 0.1515751, 0.49290586, 0.1359408, 0.13790622, 0.42703912, 0.058582194, 0.056789882, 0.097912885, 0.0835821, 0.2836799, 0.10849429, 0.058398265, 0.10722164, 0.0634282, 0.07054897, 0.0772746, 0.122388914, 0.12170769, 0.13830471, 0.06589021, 0.09048986, 0.07681287, 1.0, 0.25700018, 0.070994414, 0.6045301, 0.06021827, 0.08030738, 0.08835166, 0.06310981, 0.108046435, 0.0, 0.0, 0.0, 0.0, 0.0, 0.0, 0.0, 0.0, 0.0, 0.0, 0.0, 0.0, 0.0, 0.0, 0.0, 0.0, 0.0, 0.0, 0.0, 0.0, 0.0, 0.0, 0.0, 0.0, 0.0, 0.0, 0.0, 0.0, 0.0, 0.0, 0.0, 0.0, 0.0, 0.0, 0.0, 0.0, 0.0, 0.0, 0.0, 0.0, 0.0, 0.0, 0.0, 0.0, 0.0, 0.0, 0.0, 0.0, 0.0, 0.0, 0.0, 0.0, 0.0, 0.0, 0.0, 0.0, 0.0, 0.0, 0.0, 0.0, 0.0, 0.0, ...]</td>\n",
       "    </tr>\n",
       "  </tbody>\n",
       "</table>\n",
       "</div>"
      ],
      "text/plain": [
       "   SpectrumIdentificationItem__1__PeptideEvidenceRef__PeptideSequence  \\\n",
       "24                 AEQHIHENGAK_______________________________________   \n",
       "\n",
       "                                                                                                                                                                                                                                                                                                                                                                                                                                                                                                                                                                                                                                                                                                                                           mz_array  \\\n",
       "24  [101.07125, 102.05546, 110.07156, 116.97215, 118.96744, 129.1021, 130.0869, 136.06169, 147.11232, 147.86722, 155.08163, 173.0923, 212.34276, 218.1501, 223.15547, 237.12326, 249.09761, 301.14133, 316.8805, 322.89563, 327.0749, 337.8088, 339.80032, 361.81232, 369.12436, 389.2164, 395.1711, 406.8533, 411.8027, 411.8499, 412.8472, 413.18677, 413.26584, 491.61603, 518.25494, 591.45447, 629.3038, 655.31635, 0.0, 0.0, 0.0, 0.0, 0.0, 0.0, 0.0, 0.0, 0.0, 0.0, 0.0, 0.0, 0.0, 0.0, 0.0, 0.0, 0.0, 0.0, 0.0, 0.0, 0.0, 0.0, 0.0, 0.0, 0.0, 0.0, 0.0, 0.0, 0.0, 0.0, 0.0, 0.0, 0.0, 0.0, 0.0, 0.0, 0.0, 0.0, 0.0, 0.0, 0.0, 0.0, 0.0, 0.0, 0.0, 0.0, 0.0, 0.0, 0.0, 0.0, 0.0, 0.0, 0.0, 0.0, 0.0, 0.0, 0.0, 0.0, 0.0, 0.0, 0.0, 0.0, ...]   \n",
       "\n",
       "                                                                                                                                                                                                                                                                                                                                                                                                                                                                                                                                                                                                                                                                                                                                                                              intensity_array  \n",
       "24  [0.08812955, 0.4256901, 0.6481033, 0.40227407, 0.10755258, 0.6459333, 0.42551336, 0.1515751, 0.49290586, 0.1359408, 0.13790622, 0.42703912, 0.058582194, 0.056789882, 0.097912885, 0.0835821, 0.2836799, 0.10849429, 0.058398265, 0.10722164, 0.0634282, 0.07054897, 0.0772746, 0.122388914, 0.12170769, 0.13830471, 0.06589021, 0.09048986, 0.07681287, 1.0, 0.25700018, 0.070994414, 0.6045301, 0.06021827, 0.08030738, 0.08835166, 0.06310981, 0.108046435, 0.0, 0.0, 0.0, 0.0, 0.0, 0.0, 0.0, 0.0, 0.0, 0.0, 0.0, 0.0, 0.0, 0.0, 0.0, 0.0, 0.0, 0.0, 0.0, 0.0, 0.0, 0.0, 0.0, 0.0, 0.0, 0.0, 0.0, 0.0, 0.0, 0.0, 0.0, 0.0, 0.0, 0.0, 0.0, 0.0, 0.0, 0.0, 0.0, 0.0, 0.0, 0.0, 0.0, 0.0, 0.0, 0.0, 0.0, 0.0, 0.0, 0.0, 0.0, 0.0, 0.0, 0.0, 0.0, 0.0, 0.0, 0.0, 0.0, 0.0, 0.0, 0.0, ...]  "
      ]
     },
     "execution_count": 24,
     "metadata": {},
     "output_type": "execute_result"
    }
   ],
   "source": [
    "df.head(1)"
   ]
  },
  {
   "cell_type": "code",
   "execution_count": 25,
   "id": "available-logistics",
   "metadata": {},
   "outputs": [
    {
     "data": {
      "text/plain": [
       "(212568, 3)"
      ]
     },
     "execution_count": 25,
     "metadata": {},
     "output_type": "execute_result"
    }
   ],
   "source": [
    "df.values.shape"
   ]
  },
  {
   "cell_type": "code",
   "execution_count": 26,
   "id": "banner-movement",
   "metadata": {},
   "outputs": [
    {
     "data": {
      "text/plain": [
       "SpectrumIdentificationItem__1__PeptideEvidenceRef__PeptideSequence      50\n",
       "mz_array                                                              1953\n",
       "intensity_array                                                       1953\n",
       "dtype: int64"
      ]
     },
     "execution_count": 26,
     "metadata": {},
     "output_type": "execute_result"
    }
   ],
   "source": [
    "df.apply(lambda col: col.str.len().max())"
   ]
  },
  {
   "cell_type": "markdown",
   "id": "missing-medline",
   "metadata": {},
   "source": [
    "## Data Transformation"
   ]
  },
  {
   "cell_type": "markdown",
   "id": "liable-carry",
   "metadata": {},
   "source": [
    "### One-Hot-Encoding of Character Sequences"
   ]
  },
  {
   "cell_type": "code",
   "execution_count": 27,
   "id": "joined-break",
   "metadata": {},
   "outputs": [
    {
     "name": "stdout",
     "output_type": "stream",
     "text": [
      "alphabet: A, C, D, E, F, G, H, I, K, L, M, N, P, Q, R, S, T, V, W, Y, _\n"
     ]
    },
    {
     "data": {
      "text/plain": [
       "{'R': 0,\n",
       " 'M': 1,\n",
       " 'F': 2,\n",
       " 'Q': 3,\n",
       " 'S': 4,\n",
       " 'I': 5,\n",
       " 'N': 6,\n",
       " 'T': 7,\n",
       " 'W': 8,\n",
       " 'G': 9,\n",
       " 'A': 10,\n",
       " 'Y': 11,\n",
       " 'D': 12,\n",
       " 'V': 13,\n",
       " 'H': 14,\n",
       " '_': 15,\n",
       " 'P': 16,\n",
       " 'L': 17,\n",
       " 'C': 18,\n",
       " 'E': 19,\n",
       " 'K': 20}"
      ]
     },
     "execution_count": 27,
     "metadata": {},
     "output_type": "execute_result"
    }
   ],
   "source": [
    "ALPHABET = set.union(*df[SEQ].head(500000).apply(set))\n",
    "char_to_idx = {char: idx for idx, char in enumerate(ALPHABET)}\n",
    "idx_to_char = {idx: char for char, idx in char_to_idx.items()}\n",
    "INDEX_ALPHABET = idx_to_char.keys()\n",
    "\n",
    "print(f\"alphabet: {', '.join(sorted(ALPHABET))}\")\n",
    "char_to_idx"
   ]
  },
  {
   "cell_type": "code",
   "execution_count": 28,
   "id": "intensive-composition",
   "metadata": {},
   "outputs": [
    {
     "data": {
      "text/plain": [
       "24    [A, E, Q, H, I, H, E, N, G, A, K, _, _, _, _, _, _, _, _, _, _, _, _, _, _, _, _, _, _, _, _, _, _, _, _, _, _, _, _, _, _, _, _, _, _, _, _, _, _, _]\n",
       "Name: SpectrumIdentificationItem__1__PeptideEvidenceRef__PeptideSequence, dtype: object"
      ]
     },
     "execution_count": 28,
     "metadata": {},
     "output_type": "execute_result"
    }
   ],
   "source": [
    "df[SEQ] = df[SEQ].apply(list)\n",
    "df[SEQ].head(1)"
   ]
  },
  {
   "cell_type": "code",
   "execution_count": 29,
   "id": "bound-hazard",
   "metadata": {},
   "outputs": [],
   "source": [
    "def sequence_to_indices(sequence: Iterable[str], \n",
    "                        char_to_idx_mapping_fun: Callable[[str], int] = char_to_idx.get) -> np.ndarray:\n",
    "    return np.array([char_to_idx_mapping_fun(char) for char in sequence])\n",
    "is_sequence_of_integers=False"
   ]
  },
  {
   "cell_type": "code",
   "execution_count": 30,
   "id": "interested-assault",
   "metadata": {},
   "outputs": [
    {
     "name": "stdout",
     "output_type": "stream",
     "text": [
      "int64\n"
     ]
    },
    {
     "data": {
      "text/plain": [
       "24    [10, 19, 3, 14, 5, 14, 19, 6, 9, 10, 20, 15, 15, 15, 15, 15, 15, 15, 15, 15, 15, 15, 15, 15, 15, 15, 15, 15, 15, 15, 15, 15, 15, 15, 15, 15, 15, 15, 15, 15, 15, 15, 15, 15, 15, 15, 15, 15, 15, 15]\n",
       "Name: SpectrumIdentificationItem__1__PeptideEvidenceRef__PeptideSequence, dtype: object"
      ]
     },
     "execution_count": 30,
     "metadata": {},
     "output_type": "execute_result"
    }
   ],
   "source": [
    "df[SEQ] = df[SEQ].apply(sequence_to_indices)\n",
    "is_sequence_of_integers=True\n",
    "print(df[SEQ].iloc[0].dtype)\n",
    "df[SEQ].head(1)"
   ]
  },
  {
   "cell_type": "code",
   "execution_count": 31,
   "id": "italian-gauge",
   "metadata": {},
   "outputs": [],
   "source": [
    "#categorical_column = tf.feature_column.categorical_column_with_vocabulary_list(key=SEQ, vocabulary_list=ALPHABET)\n",
    "if not is_sequence_of_integers:\n",
    "    sequences = tf.feature_column.sequence_categorical_column_with_vocabulary_list(key=SEQ, vocabulary_list=ALPHABET)\n",
    "else:\n",
    "    sequences = tf.feature_column.sequence_categorical_column_with_identity(key=SEQ, num_buckets=len(INDEX_ALPHABET))\n",
    "sequences_embedding = tf.feature_column.embedding_column(sequences, dimension=10)\n",
    "columns = [sequences_embedding]\n",
    "sequence_feature_layer = tf.keras.experimental.SequenceFeatures(columns)"
   ]
  },
  {
   "cell_type": "code",
   "execution_count": 32,
   "id": "crazy-harvard",
   "metadata": {},
   "outputs": [],
   "source": [
    "stacked_df = df.apply(lambda item: [np.stack(item)])"
   ]
  },
  {
   "cell_type": "code",
   "execution_count": 33,
   "id": "restricted-trinidad",
   "metadata": {},
   "outputs": [],
   "source": [
    "del df"
   ]
  },
  {
   "cell_type": "code",
   "execution_count": 34,
   "id": "chubby-planet",
   "metadata": {},
   "outputs": [],
   "source": [
    "training_data = tuple(stacked_df[ARRAY_COLS].iloc[0])\n",
    "target_data = tuple(stacked_df[[SEQ]].iloc[0])"
   ]
  },
  {
   "cell_type": "code",
   "execution_count": 35,
   "id": "standing-relief",
   "metadata": {
    "scrolled": true
   },
   "outputs": [
    {
     "data": {
      "text/plain": [
       "<TensorSliceDataset shapes: (((1953,), (1953,)), ((50,),)), types: ((tf.float32, tf.float32), (tf.int64,))>"
      ]
     },
     "execution_count": 35,
     "metadata": {},
     "output_type": "execute_result"
    }
   ],
   "source": [
    "dataset = tf.data.Dataset.from_tensor_slices((training_data, target_data))\n",
    "dataset"
   ]
  },
  {
   "cell_type": "code",
   "execution_count": 36,
   "id": "distant-silver",
   "metadata": {},
   "outputs": [],
   "source": [
    "BATCH_SIZE = 128"
   ]
  },
  {
   "cell_type": "code",
   "execution_count": 37,
   "id": "casual-longitude",
   "metadata": {},
   "outputs": [],
   "source": [
    "dataset = dataset.batch(BATCH_SIZE)"
   ]
  },
  {
   "cell_type": "code",
   "execution_count": 38,
   "id": "anticipated-russian",
   "metadata": {},
   "outputs": [],
   "source": [
    "#dataset = dataset.repeat()"
   ]
  },
  {
   "cell_type": "code",
   "execution_count": 39,
   "id": "hourly-logging",
   "metadata": {},
   "outputs": [],
   "source": [
    "#sequence_feature_layer(dataset)"
   ]
  },
  {
   "cell_type": "code",
   "execution_count": 40,
   "id": "provincial-needle",
   "metadata": {},
   "outputs": [
    {
     "data": {
      "text/plain": [
       "(128, 1953)"
      ]
     },
     "execution_count": 40,
     "metadata": {},
     "output_type": "execute_result"
    }
   ],
   "source": [
    "next(dataset.as_numpy_iterator())[0][0].shape"
   ]
  },
  {
   "cell_type": "code",
   "execution_count": 41,
   "id": "baking-gates",
   "metadata": {},
   "outputs": [
    {
     "data": {
      "text/plain": [
       "['mz_array', 'intensity_array']"
      ]
     },
     "execution_count": 41,
     "metadata": {},
     "output_type": "execute_result"
    }
   ],
   "source": [
    "ARRAY_COLS"
   ]
  },
  {
   "cell_type": "code",
   "execution_count": 42,
   "id": "dress-linux",
   "metadata": {},
   "outputs": [
    {
     "data": {
      "text/plain": [
       "{'mz_array': <KerasTensor: shape=(None, 1953) dtype=float32 (created by layer 'input_1')>,\n",
       " 'intensity_array': <KerasTensor: shape=(None, 1953) dtype=float32 (created by layer 'input_2')>}"
      ]
     },
     "execution_count": 42,
     "metadata": {},
     "output_type": "execute_result"
    }
   ],
   "source": [
    "input_layers = {col: tf.keras.layers.Input(shape=(max_array_length,)) for col in ARRAY_COLS}\n",
    "input_layers"
   ]
  },
  {
   "cell_type": "raw",
   "id": "equivalent-maintenance",
   "metadata": {},
   "source": [
    "EMBEDDING_SIZES = {\n",
    "    MZ: 16,\n",
    "    INT: 16,\n",
    "}"
   ]
  },
  {
   "cell_type": "raw",
   "id": "threaded-pillow",
   "metadata": {},
   "source": [
    "embedding_layers = {col: tf.keras.layers.Embedding(input_dim=EMBEDDING_SIZES[col], output_dim=EMBEDDING_SIZES[col])(inputs_mz) \n",
    "                    for col, layer in input_layers.items()}"
   ]
  },
  {
   "cell_type": "code",
   "execution_count": 43,
   "id": "developmental-geneva",
   "metadata": {},
   "outputs": [
    {
     "name": "stdout",
     "output_type": "stream",
     "text": [
      "Model: \"model\"\n",
      "__________________________________________________________________________________________________\n",
      "Layer (type)                    Output Shape         Param #     Connected to                     \n",
      "==================================================================================================\n",
      "input_1 (InputLayer)            [(None, 1953)]       0                                            \n",
      "__________________________________________________________________________________________________\n",
      "input_2 (InputLayer)            [(None, 1953)]       0                                            \n",
      "__________________________________________________________________________________________________\n",
      "tf.__operators__.add (TFOpLambd (None, 1953)         0           input_1[0][0]                    \n",
      "                                                                 input_2[0][0]                    \n",
      "__________________________________________________________________________________________________\n",
      "flatten (Flatten)               (None, 1953)         0           tf.__operators__.add[0][0]       \n",
      "__________________________________________________________________________________________________\n",
      "dense (Dense)                   (None, 1050)         2051700     flatten[0][0]                    \n",
      "__________________________________________________________________________________________________\n",
      "tf.reshape (TFOpLambda)         (None, 50, 21)       0           dense[0][0]                      \n",
      "__________________________________________________________________________________________________\n",
      "tf.math.reduce_max (TFOpLambda) (None, 50, 1)        0           tf.reshape[0][0]                 \n",
      "__________________________________________________________________________________________________\n",
      "tf.math.subtract (TFOpLambda)   (None, 50, 21)       0           tf.reshape[0][0]                 \n",
      "                                                                 tf.math.reduce_max[0][0]         \n",
      "__________________________________________________________________________________________________\n",
      "tf.math.exp (TFOpLambda)        (None, 50, 21)       0           tf.math.subtract[0][0]           \n",
      "__________________________________________________________________________________________________\n",
      "tf.math.reduce_sum (TFOpLambda) (None, 50, 1)        0           tf.math.exp[0][0]                \n",
      "__________________________________________________________________________________________________\n",
      "tf.math.truediv (TFOpLambda)    (None, 50, 21)       0           tf.math.exp[0][0]                \n",
      "                                                                 tf.math.reduce_sum[0][0]         \n",
      "==================================================================================================\n",
      "Total params: 2,051,700\n",
      "Trainable params: 2,051,700\n",
      "Non-trainable params: 0\n",
      "__________________________________________________________________________________________________\n"
     ]
    }
   ],
   "source": [
    "x = input_layers[MZ] + input_layers[INT]\n",
    "\n",
    "x = tf.keras.layers.Flatten()(x)\n",
    "x = tf.keras.layers.Dense(max_sequence_length*len(ALPHABET))(x)\n",
    "x = tf.reshape(x,(-1, max_sequence_length, len(ALPHABET)))\n",
    "\n",
    "x = tf.keras.activations.softmax(x)\n",
    "\n",
    "model = tf.keras.Model([input_layers[MZ],input_layers[INT]],x)\n",
    "model.compile(optimizer=tf.keras.optimizers.Adam(),\n",
    "              loss=tf.keras.losses.SparseCategoricalCrossentropy())\n",
    "model.summary()"
   ]
  },
  {
   "cell_type": "code",
   "execution_count": 44,
   "id": "vocal-induction",
   "metadata": {},
   "outputs": [],
   "source": [
    "def split_dataset(dataset, fraction):\n",
    "    split_value = int(len(dataset) * fraction)\n",
    "    a = dataset.take(split_value)\n",
    "    b = dataset.skip(split_value)\n",
    "    return a, b"
   ]
  },
  {
   "cell_type": "code",
   "execution_count": 45,
   "id": "tracked-helmet",
   "metadata": {},
   "outputs": [],
   "source": [
    "training_dataset, validation_dataset = split_dataset(dataset, 0.7)\n",
    "validation_dataset, test_dataset = split_dataset(validation_dataset, 0.5)"
   ]
  },
  {
   "cell_type": "code",
   "execution_count": 46,
   "id": "funded-commons",
   "metadata": {
    "scrolled": false
   },
   "outputs": [
    {
     "name": "stdout",
     "output_type": "stream",
     "text": [
      "Epoch 1/100\n",
      "1661/1661 [==============================] - 11s 6ms/step - loss: 7.4197 - val_loss: 6.6978\n",
      "Epoch 2/100\n",
      "1661/1661 [==============================] - 10s 6ms/step - loss: 6.1964 - val_loss: 6.1572\n",
      "Epoch 3/100\n",
      "1661/1661 [==============================] - 10s 6ms/step - loss: 5.9474 - val_loss: 6.0864\n",
      "Epoch 4/100\n",
      "1661/1661 [==============================] - 10s 6ms/step - loss: 5.8998 - val_loss: 6.0818\n",
      "Epoch 5/100\n",
      "1661/1661 [==============================] - 10s 6ms/step - loss: 5.8953 - val_loss: 6.0818\n",
      "Epoch 6/100\n",
      "1661/1661 [==============================] - 10s 6ms/step - loss: 5.8953 - val_loss: 6.0818\n",
      "Epoch 7/100\n",
      "1661/1661 [==============================] - 10s 6ms/step - loss: 5.8953 - val_loss: 6.0818\n",
      "Epoch 8/100\n",
      "1661/1661 [==============================] - 10s 6ms/step - loss: 5.8953 - val_loss: 6.0818\n",
      "Epoch 9/100\n",
      "1661/1661 [==============================] - 10s 6ms/step - loss: 5.8953 - val_loss: 6.0819\n",
      "Epoch 10/100\n",
      "1661/1661 [==============================] - 10s 6ms/step - loss: 5.8956 - val_loss: 6.0819\n",
      "Epoch 11/100\n",
      "1661/1661 [==============================] - 10s 6ms/step - loss: 5.8953 - val_loss: 6.0819\n",
      "Epoch 12/100\n",
      "1661/1661 [==============================] - 10s 6ms/step - loss: 5.8953 - val_loss: 6.0819\n",
      "Epoch 13/100\n",
      "1661/1661 [==============================] - 10s 6ms/step - loss: 5.8953 - val_loss: 6.0819\n",
      "Epoch 14/100\n",
      "1661/1661 [==============================] - 10s 6ms/step - loss: 5.8953 - val_loss: 6.0819\n",
      "Epoch 15/100\n",
      "1661/1661 [==============================] - 10s 6ms/step - loss: 5.8953 - val_loss: 6.0815\n",
      "Epoch 16/100\n",
      "1661/1661 [==============================] - 10s 6ms/step - loss: 5.8952 - val_loss: 6.0815\n",
      "Epoch 17/100\n",
      "1661/1661 [==============================] - 10s 6ms/step - loss: 5.8952 - val_loss: 6.0815\n",
      "Epoch 18/100\n",
      "1661/1661 [==============================] - 10s 6ms/step - loss: 5.8952 - val_loss: 6.0815\n",
      "Epoch 19/100\n",
      "1661/1661 [==============================] - 10s 6ms/step - loss: 5.8954 - val_loss: 6.0823\n",
      "Epoch 20/100\n",
      "1661/1661 [==============================] - 10s 6ms/step - loss: 5.8961 - val_loss: 6.0908\n",
      "Epoch 21/100\n",
      "1661/1661 [==============================] - 10s 6ms/step - loss: 5.9039 - val_loss: 6.0861\n",
      "Epoch 22/100\n",
      "1661/1661 [==============================] - 10s 6ms/step - loss: 5.8990 - val_loss: 6.0827\n",
      "Epoch 23/100\n",
      "1661/1661 [==============================] - 10s 6ms/step - loss: 5.8965 - val_loss: 6.0818\n",
      "Epoch 24/100\n",
      "1661/1661 [==============================] - 10s 6ms/step - loss: 5.8956 - val_loss: 6.0818\n",
      "Epoch 25/100\n",
      "1661/1661 [==============================] - 10s 6ms/step - loss: 5.8956 - val_loss: 6.0818\n",
      "Epoch 26/100\n",
      "1661/1661 [==============================] - 10s 6ms/step - loss: 5.8956 - val_loss: 6.0818\n",
      "Epoch 27/100\n",
      "1661/1661 [==============================] - 10s 6ms/step - loss: 5.8956 - val_loss: 6.0818\n",
      "Epoch 28/100\n",
      "1661/1661 [==============================] - 10s 6ms/step - loss: 5.8956 - val_loss: 6.0818\n",
      "Epoch 29/100\n",
      "1661/1661 [==============================] - 10s 6ms/step - loss: 5.8957 - val_loss: 6.0820\n",
      "Epoch 30/100\n",
      "1661/1661 [==============================] - 10s 6ms/step - loss: 5.8964 - val_loss: 6.0822\n",
      "Epoch 31/100\n",
      "1661/1661 [==============================] - 10s 6ms/step - loss: 5.8964 - val_loss: 6.0822\n",
      "Epoch 32/100\n",
      "1661/1661 [==============================] - 10s 6ms/step - loss: 5.8964 - val_loss: 6.0821\n",
      "Epoch 33/100\n",
      "1661/1661 [==============================] - 10s 6ms/step - loss: 5.8961 - val_loss: 6.0821\n",
      "Epoch 34/100\n",
      "1661/1661 [==============================] - 10s 6ms/step - loss: 5.8959 - val_loss: 6.0820\n",
      "Epoch 35/100\n",
      "1661/1661 [==============================] - 10s 6ms/step - loss: 5.8960 - val_loss: 6.0816\n",
      "Epoch 36/100\n",
      "1661/1661 [==============================] - 10s 6ms/step - loss: 5.8957 - val_loss: 6.0816\n",
      "Epoch 37/100\n",
      "1661/1661 [==============================] - 10s 6ms/step - loss: 5.8957 - val_loss: 6.0814\n",
      "Epoch 38/100\n",
      "1661/1661 [==============================] - 10s 6ms/step - loss: 5.8951 - val_loss: 6.0813\n",
      "Epoch 39/100\n",
      "1661/1661 [==============================] - 10s 6ms/step - loss: 5.8949 - val_loss: 6.0813\n",
      "Epoch 40/100\n",
      "1661/1661 [==============================] - 10s 6ms/step - loss: 5.8954 - val_loss: 6.0817\n",
      "Epoch 41/100\n",
      "1661/1661 [==============================] - 10s 6ms/step - loss: 5.8955 - val_loss: 6.0816\n",
      "Epoch 42/100\n",
      "1661/1661 [==============================] - 10s 6ms/step - loss: 5.8954 - val_loss: 6.0816\n",
      "Epoch 43/100\n",
      "1661/1661 [==============================] - 9s 6ms/step - loss: 5.8954 - val_loss: 6.0816\n",
      "Epoch 44/100\n",
      "1661/1661 [==============================] - 10s 6ms/step - loss: 5.8954 - val_loss: 6.0816\n",
      "Epoch 45/100\n",
      "1661/1661 [==============================] - 10s 6ms/step - loss: 5.8954 - val_loss: 6.0816\n",
      "Epoch 46/100\n",
      "1661/1661 [==============================] - 10s 6ms/step - loss: 5.8954 - val_loss: 6.0816\n",
      "Epoch 47/100\n",
      "1661/1661 [==============================] - 10s 6ms/step - loss: 5.8954 - val_loss: 6.0816\n",
      "Epoch 48/100\n",
      "1661/1661 [==============================] - 10s 6ms/step - loss: 5.8954 - val_loss: 6.0815\n",
      "Epoch 49/100\n",
      "1661/1661 [==============================] - 10s 6ms/step - loss: 5.8955 - val_loss: 6.0815\n",
      "Epoch 50/100\n",
      "1661/1661 [==============================] - 10s 6ms/step - loss: 5.8955 - val_loss: 6.0815\n",
      "Epoch 51/100\n",
      "1661/1661 [==============================] - 10s 6ms/step - loss: 5.8955 - val_loss: 6.0815\n",
      "Epoch 52/100\n",
      "1661/1661 [==============================] - 9s 6ms/step - loss: 5.8955 - val_loss: 6.0815\n",
      "Epoch 53/100\n",
      "1661/1661 [==============================] - 10s 6ms/step - loss: 5.8955 - val_loss: 6.0815\n",
      "Epoch 54/100\n",
      "1661/1661 [==============================] - 10s 6ms/step - loss: 5.8955 - val_loss: 6.0815\n",
      "Epoch 55/100\n",
      "1661/1661 [==============================] - 10s 6ms/step - loss: 5.8955 - val_loss: 6.0815\n",
      "Epoch 56/100\n",
      "1661/1661 [==============================] - 10s 6ms/step - loss: 5.8955 - val_loss: 6.0815\n",
      "Epoch 57/100\n",
      "1661/1661 [==============================] - 10s 6ms/step - loss: 5.8955 - val_loss: 6.0815\n",
      "Epoch 58/100\n",
      "1661/1661 [==============================] - 10s 6ms/step - loss: 5.8955 - val_loss: 6.0815\n",
      "Epoch 59/100\n",
      "1661/1661 [==============================] - 10s 6ms/step - loss: 5.8955 - val_loss: 6.0815\n",
      "Epoch 60/100\n",
      "1661/1661 [==============================] - 10s 6ms/step - loss: 5.8955 - val_loss: 6.0815\n",
      "Epoch 61/100\n",
      "1661/1661 [==============================] - 10s 6ms/step - loss: 5.8955 - val_loss: 6.0815\n",
      "Epoch 62/100\n",
      "1661/1661 [==============================] - 10s 6ms/step - loss: 5.8955 - val_loss: 6.0815\n",
      "Epoch 63/100\n",
      "1661/1661 [==============================] - 10s 6ms/step - loss: 5.8955 - val_loss: 6.0815\n",
      "Epoch 64/100\n",
      "1661/1661 [==============================] - 10s 6ms/step - loss: 5.8955 - val_loss: 6.0815\n",
      "Epoch 65/100\n",
      "1661/1661 [==============================] - 10s 6ms/step - loss: 5.8955 - val_loss: 6.0815\n",
      "Epoch 66/100\n",
      "1661/1661 [==============================] - 10s 6ms/step - loss: 5.8955 - val_loss: 6.0815\n",
      "Epoch 67/100\n",
      "1661/1661 [==============================] - 10s 6ms/step - loss: 5.8955 - val_loss: 6.0815\n",
      "Epoch 68/100\n",
      "1661/1661 [==============================] - 10s 6ms/step - loss: 5.8955 - val_loss: 6.0815\n",
      "Epoch 69/100\n",
      "1661/1661 [==============================] - 10s 6ms/step - loss: 5.8955 - val_loss: 6.0815\n",
      "Epoch 70/100\n",
      "1661/1661 [==============================] - 10s 6ms/step - loss: 5.8955 - val_loss: 6.0815\n",
      "Epoch 71/100\n",
      "1661/1661 [==============================] - 10s 6ms/step - loss: 5.8955 - val_loss: 6.0815\n",
      "Epoch 72/100\n",
      "1661/1661 [==============================] - 10s 6ms/step - loss: 5.8955 - val_loss: 6.0815\n",
      "Epoch 73/100\n",
      "1661/1661 [==============================] - 10s 6ms/step - loss: 5.8955 - val_loss: 6.0815\n",
      "Epoch 74/100\n",
      "1661/1661 [==============================] - 10s 6ms/step - loss: 5.8955 - val_loss: 6.0815\n",
      "Epoch 75/100\n",
      "1661/1661 [==============================] - 10s 6ms/step - loss: 5.8955 - val_loss: 6.0815\n",
      "Epoch 76/100\n",
      "1661/1661 [==============================] - 10s 6ms/step - loss: 5.8955 - val_loss: 6.0815\n",
      "Epoch 77/100\n",
      "1661/1661 [==============================] - 10s 6ms/step - loss: 5.8955 - val_loss: 6.0815\n",
      "Epoch 78/100\n",
      "1661/1661 [==============================] - 10s 6ms/step - loss: 5.8955 - val_loss: 6.0815\n",
      "Epoch 79/100\n"
     ]
    },
    {
     "name": "stdout",
     "output_type": "stream",
     "text": [
      "1661/1661 [==============================] - 10s 6ms/step - loss: 5.8955 - val_loss: 6.0815\n",
      "Epoch 80/100\n",
      "1661/1661 [==============================] - 10s 6ms/step - loss: 5.8955 - val_loss: 6.0815\n",
      "Epoch 81/100\n",
      "1661/1661 [==============================] - 10s 6ms/step - loss: 5.8955 - val_loss: 6.0815\n",
      "Epoch 82/100\n",
      "1661/1661 [==============================] - 10s 6ms/step - loss: 5.8955 - val_loss: 6.0815\n",
      "Epoch 83/100\n",
      "1661/1661 [==============================] - 10s 6ms/step - loss: 5.8955 - val_loss: 6.0815\n",
      "Epoch 84/100\n",
      "1661/1661 [==============================] - 9s 6ms/step - loss: 5.8955 - val_loss: 6.0815\n",
      "Epoch 85/100\n",
      "1661/1661 [==============================] - 10s 6ms/step - loss: 5.8955 - val_loss: 6.0815\n",
      "Epoch 86/100\n",
      "1661/1661 [==============================] - 10s 6ms/step - loss: 5.8955 - val_loss: 6.0815\n",
      "Epoch 87/100\n",
      "1661/1661 [==============================] - 10s 6ms/step - loss: 5.8955 - val_loss: 6.0815\n",
      "Epoch 88/100\n",
      "1661/1661 [==============================] - 10s 6ms/step - loss: 5.8955 - val_loss: 6.0815\n",
      "Epoch 89/100\n",
      "1661/1661 [==============================] - 10s 6ms/step - loss: 5.8955 - val_loss: 6.0815\n",
      "Epoch 90/100\n",
      "1661/1661 [==============================] - 10s 6ms/step - loss: 5.8955 - val_loss: 6.0815\n",
      "Epoch 91/100\n",
      "1661/1661 [==============================] - 10s 6ms/step - loss: 5.8955 - val_loss: 6.0815\n",
      "Epoch 92/100\n",
      "1661/1661 [==============================] - 9s 6ms/step - loss: 5.8955 - val_loss: 6.0815\n",
      "Epoch 93/100\n",
      "1661/1661 [==============================] - 10s 6ms/step - loss: 5.8955 - val_loss: 6.0815\n",
      "Epoch 94/100\n",
      "1661/1661 [==============================] - 10s 6ms/step - loss: 5.8955 - val_loss: 6.0815\n",
      "Epoch 95/100\n",
      "1661/1661 [==============================] - 9s 6ms/step - loss: 5.8955 - val_loss: 6.0815\n",
      "Epoch 96/100\n",
      "1661/1661 [==============================] - 10s 6ms/step - loss: 5.8955 - val_loss: 6.0815\n",
      "Epoch 97/100\n",
      "1661/1661 [==============================] - 9s 6ms/step - loss: 5.8955 - val_loss: 6.0815\n",
      "Epoch 98/100\n",
      "1661/1661 [==============================] - 9s 6ms/step - loss: 5.8955 - val_loss: 6.0815\n",
      "Epoch 99/100\n",
      "1661/1661 [==============================] - 10s 6ms/step - loss: 5.8955 - val_loss: 6.0815\n",
      "Epoch 100/100\n",
      "1661/1661 [==============================] - 10s 6ms/step - loss: 5.8955 - val_loss: 6.0815\n"
     ]
    },
    {
     "data": {
      "text/plain": [
       "<tensorflow.python.keras.callbacks.History at 0x7f4320ad5710>"
      ]
     },
     "execution_count": 46,
     "metadata": {},
     "output_type": "execute_result"
    }
   ],
   "source": [
    "model.fit(dataset, epochs=100, validation_data=validation_dataset)"
   ]
  },
  {
   "cell_type": "code",
   "execution_count": 47,
   "id": "prescription-textbook",
   "metadata": {},
   "outputs": [
    {
     "ename": "NameError",
     "evalue": "name 'MAX_N_PEAKS' is not defined",
     "output_type": "error",
     "traceback": [
      "\u001b[0;31m---------------------------------------------------------------------------\u001b[0m",
      "\u001b[0;31mNameError\u001b[0m                                 Traceback (most recent call last)",
      "\u001b[0;32m<ipython-input-47-2696eaffc11d>\u001b[0m in \u001b[0;36m<module>\u001b[0;34m\u001b[0m\n\u001b[0;32m----> 1\u001b[0;31m \u001b[0;32mdef\u001b[0m \u001b[0mtrim_peaks_list\u001b[0m\u001b[0;34m(\u001b[0m\u001b[0mmz\u001b[0m\u001b[0;34m,\u001b[0m\u001b[0mintensities\u001b[0m\u001b[0;34m,\u001b[0m\u001b[0mMAX_N_PEAKS\u001b[0m\u001b[0;34m=\u001b[0m\u001b[0mMAX_N_PEAKS\u001b[0m\u001b[0;34m,\u001b[0m\u001b[0mpad\u001b[0m\u001b[0;34m=\u001b[0m\u001b[0;32mTrue\u001b[0m\u001b[0;34m)\u001b[0m\u001b[0;34m:\u001b[0m\u001b[0;34m\u001b[0m\u001b[0;34m\u001b[0m\u001b[0m\n\u001b[0m\u001b[1;32m      2\u001b[0m     \u001b[0;32mif\u001b[0m \u001b[0mmz\u001b[0m\u001b[0;34m.\u001b[0m\u001b[0mshape\u001b[0m\u001b[0;34m[\u001b[0m\u001b[0;36m0\u001b[0m\u001b[0;34m]\u001b[0m\u001b[0;34m<=\u001b[0m\u001b[0mMAX_N_PEAKS\u001b[0m \u001b[0;32mand\u001b[0m \u001b[0mpad\u001b[0m\u001b[0;34m:\u001b[0m\u001b[0;34m\u001b[0m\u001b[0;34m\u001b[0m\u001b[0m\n\u001b[1;32m      3\u001b[0m         \u001b[0mmz\u001b[0m \u001b[0;34m=\u001b[0m \u001b[0mnp\u001b[0m\u001b[0;34m.\u001b[0m\u001b[0mpad\u001b[0m\u001b[0;34m(\u001b[0m\u001b[0mmz\u001b[0m\u001b[0;34m,\u001b[0m\u001b[0;34m(\u001b[0m\u001b[0;34m(\u001b[0m\u001b[0;36m0\u001b[0m\u001b[0;34m,\u001b[0m\u001b[0mMAX_N_PEAKS\u001b[0m\u001b[0;34m-\u001b[0m\u001b[0;34m(\u001b[0m\u001b[0mmz\u001b[0m\u001b[0;34m.\u001b[0m\u001b[0mshape\u001b[0m\u001b[0;34m[\u001b[0m\u001b[0;36m0\u001b[0m\u001b[0;34m]\u001b[0m\u001b[0;34m)\u001b[0m\u001b[0;34m)\u001b[0m\u001b[0;34m)\u001b[0m\u001b[0;34m,\u001b[0m \u001b[0;34m'constant'\u001b[0m\u001b[0;34m,\u001b[0m \u001b[0mconstant_values\u001b[0m\u001b[0;34m=\u001b[0m\u001b[0;36m0\u001b[0m\u001b[0;34m)\u001b[0m\u001b[0;34m\u001b[0m\u001b[0;34m\u001b[0m\u001b[0m\n\u001b[1;32m      4\u001b[0m         \u001b[0mintensities\u001b[0m \u001b[0;34m=\u001b[0m \u001b[0mnp\u001b[0m\u001b[0;34m.\u001b[0m\u001b[0mpad\u001b[0m\u001b[0;34m(\u001b[0m\u001b[0mintensities\u001b[0m\u001b[0;34m,\u001b[0m\u001b[0;34m(\u001b[0m\u001b[0;34m(\u001b[0m\u001b[0;36m0\u001b[0m\u001b[0;34m,\u001b[0m\u001b[0mMAX_N_PEAKS\u001b[0m\u001b[0;34m-\u001b[0m\u001b[0;34m(\u001b[0m\u001b[0mintensities\u001b[0m\u001b[0;34m.\u001b[0m\u001b[0mshape\u001b[0m\u001b[0;34m[\u001b[0m\u001b[0;36m0\u001b[0m\u001b[0;34m]\u001b[0m\u001b[0;34m)\u001b[0m\u001b[0;34m)\u001b[0m\u001b[0;34m)\u001b[0m\u001b[0;34m,\u001b[0m \u001b[0;34m'constant'\u001b[0m\u001b[0;34m,\u001b[0m \u001b[0mconstant_values\u001b[0m\u001b[0;34m=\u001b[0m\u001b[0;36m0\u001b[0m\u001b[0;34m)\u001b[0m\u001b[0;34m\u001b[0m\u001b[0;34m\u001b[0m\u001b[0m\n\u001b[1;32m      5\u001b[0m         \u001b[0;32mreturn\u001b[0m \u001b[0mmz\u001b[0m\u001b[0;34m,\u001b[0m\u001b[0mintensities\u001b[0m\u001b[0;34m\u001b[0m\u001b[0;34m\u001b[0m\u001b[0m\n",
      "\u001b[0;31mNameError\u001b[0m: name 'MAX_N_PEAKS' is not defined"
     ]
    }
   ],
   "source": [
    "\n",
    "def trim_peaks_list(mz,intensities,MAX_N_PEAKS=MAX_N_PEAKS,pad=True):\n",
    "    if mz.shape[0]<=MAX_N_PEAKS and pad:\n",
    "        mz = np.pad(mz,((0,MAX_N_PEAKS-(mz.shape[0]))), 'constant', constant_values=0)\n",
    "        intensities = np.pad(intensities,((0,MAX_N_PEAKS-(intensities.shape[0]))), 'constant', constant_values=0)    \n",
    "        return mz,intensities\n",
    "    else:\n",
    "        indices = np.argsort(intensities)[-MAX_N_PEAKS:][::-1] # take only highest=MAX_N_PEAKS peaks\n",
    "        return mz[indices],intensities[indices]\n",
    "\n",
    "def create_iterator_from_mgf(mgf_file: str):     \n",
    "    def iterator():        \n",
    "        with mgf.read(mgf_file) as reader:              \n",
    "            for entry in reader:\n",
    "                sequence, mz, intensities = get_features(entry)\n",
    "                indices = get_sequence_of_indices(sequence)\n",
    "                indices = trim_sequence(indices)\n",
    "                intensities = ion_current_normalize(intensities)\n",
    "                mz,intensities = trim_peaks_list(mz,intensities,pad=True)\n",
    "                mz = np.digitize(mz, bins=mz_bins)\n",
    "                intensities = np.digitize(intensities, bins=intensity_bins) # TODO: this has to be replaced! Bin/Embed intensities? ...feels weird\n",
    "                yield (mz,intensities),indices\n",
    "                \n",
    "    return iterator"
   ]
  }
 ],
 "metadata": {
  "kernelspec": {
   "display_name": "Python 3",
   "language": "python",
   "name": "python3"
  },
  "language_info": {
   "codemirror_mode": {
    "name": "ipython",
    "version": 3
   },
   "file_extension": ".py",
   "mimetype": "text/x-python",
   "name": "python",
   "nbconvert_exporter": "python",
   "pygments_lexer": "ipython3",
   "version": "3.6.9"
  }
 },
 "nbformat": 4,
 "nbformat_minor": 5
}
