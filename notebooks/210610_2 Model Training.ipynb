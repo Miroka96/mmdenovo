{
 "cells": [
  {
   "cell_type": "markdown",
   "id": "lovely-landing",
   "metadata": {},
   "source": [
    "# Training an ML Model on Tensorflow Datasets\n",
    "## Prerequisites"
   ]
  },
  {
   "cell_type": "code",
   "execution_count": 1,
   "id": "worth-excuse",
   "metadata": {},
   "outputs": [],
   "source": [
    "import datetime\n",
    "import gc\n",
    "import glob\n",
    "import json\n",
    "import os\n",
    "import random\n",
    "import shutil\n",
    "import time\n",
    "from typing import Iterable, Callable, Dict, Any, Tuple, Optional, List, Union\n",
    "\n",
    "import numpy as np\n",
    "import pandas as pd\n",
    "import tensorflow as tf\n",
    "import tensorflow_datasets as tfds\n",
    "from tensorflow.python import keras as K\n",
    "\n",
    "from mmproteo.utils import log, paths, utils, visualization\n",
    "from mmproteo.utils.ml import callbacks, evaluation, layers, losses\n",
    "from mmproteo.utils.formats.mz import FilteringProcessor, MzmlidFileStatsCreator\n",
    "from mmproteo.utils.formats.tf_dataset import Parquet2DatasetFileProcessor, DatasetLoader\n",
    "from mmproteo.utils.processing import ItemProcessor"
   ]
  },
  {
   "cell_type": "code",
   "execution_count": 2,
   "id": "circular-latin",
   "metadata": {},
   "outputs": [],
   "source": [
    "pd.set_option('display.max_columns', None)\n",
    "pd.set_option('display.max_rows', 1000)"
   ]
  },
  {
   "cell_type": "code",
   "execution_count": 3,
   "id": "certified-gibson",
   "metadata": {},
   "outputs": [
    {
     "name": "stdout",
     "output_type": "stream",
     "text": [
      "INFO: Printing to Stdout\n"
     ]
    }
   ],
   "source": [
    "logger = log.DummyLogger(verbose=False)"
   ]
  },
  {
   "cell_type": "markdown",
   "id": "essential-playlist",
   "metadata": {},
   "source": [
    "## Configuration"
   ]
  },
  {
   "cell_type": "code",
   "execution_count": 4,
   "id": "norwegian-therapist",
   "metadata": {},
   "outputs": [
    {
     "data": {
      "text/plain": [
       "'/tf/workspace/notebooks'"
      ]
     },
     "execution_count": 4,
     "metadata": {},
     "output_type": "execute_result"
    }
   ],
   "source": [
    "pwd"
   ]
  },
  {
   "cell_type": "code",
   "execution_count": 5,
   "id": "genuine-dealing",
   "metadata": {},
   "outputs": [],
   "source": [
    "PROJECT = \"PXD010000\"\n",
    "DUMP_PATH = os.path.join(\"..\", \"dumps\", PROJECT)\n",
    "TRAINING_COLUMNS_DUMP_PATH = os.path.join(DUMP_PATH, \"training_columns\")\n",
    "FILES_PATH = os.path.join(TRAINING_COLUMNS_DUMP_PATH, \"*_mzmlid.parquet\")\n",
    "STATISTICS_FILE_PATH = os.path.join(TRAINING_COLUMNS_DUMP_PATH, \"statistics.parquet\")\n",
    "DATASET_DUMP_PATH = os.path.join(TRAINING_COLUMNS_DUMP_PATH, \"tf_datasets\")\n",
    "PROCESSING_FILE_PATH = os.path.join(DATASET_DUMP_PATH, \"processing_info.json\")"
   ]
  },
  {
   "cell_type": "code",
   "execution_count": 6,
   "id": "interesting-minute",
   "metadata": {},
   "outputs": [],
   "source": [
    "SEQ = 'peptide_sequence'\n",
    "MZ = 'mz_array'\n",
    "INT = 'intensity_array'"
   ]
  },
  {
   "cell_type": "code",
   "execution_count": 7,
   "id": "73a1f075",
   "metadata": {},
   "outputs": [],
   "source": [
    "TRAINING_DATA_COLUMNS = [MZ, INT]\n",
    "TARGET_DATA_COLUMNS = [SEQ]\n",
    "SPLIT_VALUE_COLUMNS = ['species', 'istrain']"
   ]
  },
  {
   "cell_type": "code",
   "execution_count": 8,
   "id": "93c29d41",
   "metadata": {},
   "outputs": [
    {
     "data": {
      "text/plain": [
       "{'padding_characters': {'peptide_sequence': '_',\n",
       "  'mz_array': 0.0,\n",
       "  'intensity_array': 0.0},\n",
       " 'padding_lengths': {'mz_array': 2354,\n",
       "  'intensity_array': 2354,\n",
       "  'peptide_sequence': 50},\n",
       " 'idx_to_char': {'0': 'A',\n",
       "  '1': 'C',\n",
       "  '2': 'D',\n",
       "  '3': 'E',\n",
       "  '4': 'F',\n",
       "  '5': 'G',\n",
       "  '6': 'H',\n",
       "  '7': 'I',\n",
       "  '8': 'K',\n",
       "  '9': 'L',\n",
       "  '10': 'M',\n",
       "  '11': 'M(Oxidation)',\n",
       "  '12': 'N',\n",
       "  '13': 'P',\n",
       "  '14': 'Q',\n",
       "  '15': 'R',\n",
       "  '16': 'S',\n",
       "  '17': 'T',\n",
       "  '18': 'V',\n",
       "  '19': 'W',\n",
       "  '20': 'Y',\n",
       "  '21': '_'},\n",
       " 'normalization': {'intensity_array': '<function base_peak_normalize at 0x7fa6046d5158>'},\n",
       " 'split_value_columns': ['species', 'istrain'],\n",
       " 'training_data_columns': ['mz_array', 'intensity_array'],\n",
       " 'target_data_columns': ['peptide_sequence']}"
      ]
     },
     "execution_count": 8,
     "metadata": {},
     "output_type": "execute_result"
    }
   ],
   "source": [
    "with open(PROCESSING_FILE_PATH, 'r') as file:\n",
    "    PROCESSING_INFO = json.loads(file.read())\n",
    "PROCESSING_INFO"
   ]
  },
  {
   "cell_type": "code",
   "execution_count": 9,
   "id": "cc5201ac",
   "metadata": {},
   "outputs": [],
   "source": [
    "idx_to_char = {int(idx): char for idx, char in PROCESSING_INFO[\"idx_to_char\"].items()}\n",
    "char_to_idx = {char: int(idx) for idx, char in PROCESSING_INFO[\"idx_to_char\"].items()}"
   ]
  },
  {
   "cell_type": "markdown",
   "id": "powerful-proceeding",
   "metadata": {},
   "source": [
    "## Loading Tensorflow Datasets"
   ]
  },
  {
   "cell_type": "code",
   "execution_count": 10,
   "id": "ee8aadcf",
   "metadata": {},
   "outputs": [],
   "source": [
    "KEEP_CACHE = True"
   ]
  },
  {
   "cell_type": "code",
   "execution_count": 11,
   "id": "7ee8ccc7",
   "metadata": {},
   "outputs": [],
   "source": [
    "TRAINING_TYPE = 'Train'\n",
    "TEST_TYPE = 'Test'\n",
    "EVAL_TYPE = 'Eval'"
   ]
  },
  {
   "cell_type": "code",
   "execution_count": 12,
   "id": "d696d51d",
   "metadata": {},
   "outputs": [
    {
     "name": "stdout",
     "output_type": "stream",
     "text": [
      "INFO: found file paths dump '../dumps/PXD010000/training_columns/tf_datasets/dataset_file_paths.json'\n",
      "\n",
      "assigned dataset files:\n",
      "#Train = 89\n",
      "e.g.: ../dumps/PXD010000/training_columns/tf_datasets/Biodiversity_C_indologenes_LIB_aerobic_02_03May16_Samwise_16-03-32_mzmlid.parquet/Chryseobacterium_indologenes/Train\n",
      "#Test = 17\n",
      "e.g.: ../dumps/PXD010000/training_columns/tf_datasets/Biodiversity_A_cryptum_FeTSB_anaerobic_1_01Jun16_Pippin_16-03-39_mzmlid.parquet/Acidiphilium_cryptum_JF-5/Train\n",
      "#Eval = 29\n",
      "e.g.: ../dumps/PXD010000/training_columns/tf_datasets/Biodiversity_B_fragilis_CMcarb_anaerobic_01_01Feb16_Arwen_15-07-13_mzmlid.parquet/Bacteroides_fragilis_638R/Train\n"
     ]
    }
   ],
   "source": [
    "dataset_file_paths = paths.assign_wildcard_paths_to_splits_grouped_by_path_position_value(\n",
    "    wildcard_path = os.path.join(\n",
    "        DATASET_DUMP_PATH, \n",
    "        '*',  # filename\n",
    "        '*',  # species\n",
    "        '*'   # istrain\n",
    "    ),\n",
    "    path_position = -2,\n",
    "    splits = {\n",
    "            TRAINING_TYPE: 0.4,\n",
    "            TEST_TYPE: 0.5,\n",
    "            EVAL_TYPE: 0.6\n",
    "        },\n",
    "    paths_dump_file = os.path.join(\n",
    "            DATASET_DUMP_PATH,\n",
    "            \"dataset_file_paths.json\"\n",
    "        ),\n",
    "    skip_existing = KEEP_CACHE,\n",
    "    logger = logger\n",
    ")\n",
    "\n",
    "print()\n",
    "print(\"assigned dataset files:\")\n",
    "visualization.print_list_length_in_dict(dataset_file_paths)"
   ]
  },
  {
   "cell_type": "markdown",
   "id": "ec611252",
   "metadata": {},
   "source": [
    "### Loading corresponding TF datasets"
   ]
  },
  {
   "cell_type": "code",
   "execution_count": 13,
   "id": "stupid-malaysia",
   "metadata": {},
   "outputs": [
    {
     "data": {
      "text/plain": [
       "((TensorSpec(shape=(2354,), dtype=tf.float32, name=None),\n",
       "  TensorSpec(shape=(2354,), dtype=tf.float32, name=None)),\n",
       " TensorSpec(shape=(50,), dtype=tf.int8, name=None))"
      ]
     },
     "execution_count": 13,
     "metadata": {},
     "output_type": "execute_result"
    }
   ],
   "source": [
    "element_spec = ((tf.TensorSpec(shape=(PROCESSING_INFO['padding_lengths'][MZ],), dtype=tf.float32), \n",
    "  tf.TensorSpec(shape=(PROCESSING_INFO['padding_lengths'][INT],), dtype=tf.float32)),\n",
    "(tf.TensorSpec(shape=(PROCESSING_INFO['padding_lengths'][SEQ],), dtype=tf.int8)))\n",
    "element_spec"
   ]
  },
  {
   "cell_type": "code",
   "execution_count": 14,
   "id": "b34d7bec",
   "metadata": {},
   "outputs": [],
   "source": [
    "BATCH_SIZE=32"
   ]
  },
  {
   "cell_type": "code",
   "execution_count": 15,
   "id": "fbef3700",
   "metadata": {},
   "outputs": [
    {
     "name": "stderr",
     "output_type": "stream",
     "text": [
      "/usr/local/lib/python3.6/dist-packages/tensorflow/python/data/ops/dataset_ops.py:1640: UserWarning: The `deterministic` argument has no effect unless the `num_parallel_calls` argument is specified.\n",
      "  warnings.warn(\"The `deterministic` argument has no effect unless the \"\n"
     ]
    },
    {
     "data": {
      "text/plain": [
       "{'Train': <BatchDataset shapes: (((32, 2354), (32, 2354)), (32, 50)), types: ((tf.float32, tf.float32), tf.int8)>,\n",
       " 'Test': <BatchDataset shapes: (((32, 2354), (32, 2354)), (32, 50)), types: ((tf.float32, tf.float32), tf.int8)>,\n",
       " 'Eval': <BatchDataset shapes: (((32, 2354), (32, 2354)), (32, 50)), types: ((tf.float32, tf.float32), tf.int8)>}"
      ]
     },
     "execution_count": 15,
     "metadata": {},
     "output_type": "execute_result"
    }
   ],
   "source": [
    "datasets = DatasetLoader(\n",
    "    element_spec=element_spec,\n",
    "    batch_size=BATCH_SIZE,\n",
    "    shuffle_buffer_size=200_000,\n",
    "    keep_cache=KEEP_CACHE,\n",
    "    logger=logger\n",
    ").load_datasets_by_type(dataset_file_paths)\n",
    "datasets"
   ]
  },
  {
   "cell_type": "markdown",
   "id": "determined-company",
   "metadata": {},
   "source": [
    "## Building the Tensorflow Model"
   ]
  },
  {
   "cell_type": "code",
   "execution_count": 16,
   "id": "ce5d17de",
   "metadata": {},
   "outputs": [
    {
     "name": "stdout",
     "output_type": "stream",
     "text": [
      "[<KerasTensor: shape=(None, 2354) dtype=float32 (created by layer 'mz_array')>, <KerasTensor: shape=(None, 2354) dtype=float32 (created by layer 'intensity_array')>]\n",
      "[<KerasTensor: shape=(None, 2354) dtype=float32 (created by layer 'masked_mz_array')>, <KerasTensor: shape=(None, 2354) dtype=float32 (created by layer 'masked_intensity_array')>]\n"
     ]
    }
   ],
   "source": [
    "input_layers_list, masked_input_layers_list = layers.create_masked_input_layers(\n",
    "    [\n",
    "        layers.InputLayerConfiguration(\n",
    "            name=col,\n",
    "            shape=PROCESSING_INFO['padding_lengths'][col],\n",
    "            mask_value=PROCESSING_INFO['padding_characters'][col]\n",
    "        )\n",
    "        for col in TRAINING_DATA_COLUMNS\n",
    "    ]\n",
    ")\n",
    "print(input_layers_list)\n",
    "print(masked_input_layers_list)"
   ]
  },
  {
   "cell_type": "code",
   "execution_count": 17,
   "id": "03ed2a1f",
   "metadata": {},
   "outputs": [],
   "source": [
    "masked_loss = losses.MaskedLoss(\n",
    "    loss_function=tf.keras.losses.sparse_categorical_crossentropy,\n",
    "    masking_value=tf.constant(\n",
    "        value=char_to_idx[PROCESSING_INFO['padding_characters'][SEQ]],\n",
    "        dtype=tf.int8\n",
    "    )\n",
    ")"
   ]
  },
  {
   "cell_type": "raw",
   "id": "5b445c7a",
   "metadata": {},
   "source": [
    "masked_loss(y_eval[:2], y_pred[:2])"
   ]
  },
  {
   "cell_type": "code",
   "execution_count": 18,
   "id": "developmental-geneva",
   "metadata": {
    "scrolled": false
   },
   "outputs": [
    {
     "name": "stdout",
     "output_type": "stream",
     "text": [
      "Model: \"mmproteo\"\n",
      "__________________________________________________________________________________________________\n",
      "Layer (type)                    Output Shape         Param #     Connected to                     \n",
      "==================================================================================================\n",
      "mz_array (InputLayer)           [(None, 2354)]       0                                            \n",
      "__________________________________________________________________________________________________\n",
      "intensity_array (InputLayer)    [(None, 2354)]       0                                            \n",
      "__________________________________________________________________________________________________\n",
      "masked_mz_array (Masking)       (None, 2354)         0           mz_array[0][0]                   \n",
      "__________________________________________________________________________________________________\n",
      "masked_intensity_array (Masking (None, 2354)         0           intensity_array[0][0]            \n",
      "__________________________________________________________________________________________________\n",
      "tf.__operators__.add (TFOpLambd (None, 2354)         0           masked_mz_array[0][0]            \n",
      "                                                                 masked_intensity_array[0][0]     \n",
      "__________________________________________________________________________________________________\n",
      "flattened_masked_inputs (Flatte (None, 2354)         0           tf.__operators__.add[0][0]       \n",
      "__________________________________________________________________________________________________\n",
      "dense (Dense)                   (None, 2048)         4823040     flattened_masked_inputs[0][0]    \n",
      "__________________________________________________________________________________________________\n",
      "dropout (Dropout)               (None, 2048)         0           dense[0][0]                      \n",
      "__________________________________________________________________________________________________\n",
      "dense_1 (Dense)                 (None, 2048)         4196352     dropout[0][0]                    \n",
      "__________________________________________________________________________________________________\n",
      "dropout_1 (Dropout)             (None, 2048)         0           dense_1[0][0]                    \n",
      "__________________________________________________________________________________________________\n",
      "dense_2 (Dense)                 (None, 2048)         4196352     dropout_1[0][0]                  \n",
      "__________________________________________________________________________________________________\n",
      "dropout_2 (Dropout)             (None, 2048)         0           dense_2[0][0]                    \n",
      "__________________________________________________________________________________________________\n",
      "dense_3 (Dense)                 (None, 2048)         4196352     dropout_2[0][0]                  \n",
      "__________________________________________________________________________________________________\n",
      "dropout_3 (Dropout)             (None, 2048)         0           dense_3[0][0]                    \n",
      "__________________________________________________________________________________________________\n",
      "dense_4 (Dense)                 (None, 1100)         2253900     dropout_3[0][0]                  \n",
      "__________________________________________________________________________________________________\n",
      "tf.reshape (TFOpLambda)         (None, 50, 22)       0           dense_4[0][0]                    \n",
      "__________________________________________________________________________________________________\n",
      "tf.compat.v1.nn.softmax (TFOpLa (None, 50, 22)       0           tf.reshape[0][0]                 \n",
      "==================================================================================================\n",
      "Total params: 19,665,996\n",
      "Trainable params: 19,665,996\n",
      "Non-trainable params: 0\n",
      "__________________________________________________________________________________________________\n"
     ]
    }
   ],
   "source": [
    "x = masked_input_layers_list[0]\n",
    "for input_layer in masked_input_layers_list[1:]:\n",
    "    x = x + input_layer\n",
    "\n",
    "x = tf.keras.layers.Flatten(name=\"flattened_masked_inputs\")(x)\n",
    "\n",
    "for _ in range(4):\n",
    "    x = tf.keras.layers.Dense(2**11)(x)\n",
    "    x = tf.keras.layers.Dropout(0.1)(x)\n",
    "\n",
    "x = tf.keras.layers.Dense(PROCESSING_INFO['padding_lengths'][SEQ]*len(idx_to_char))(x)\n",
    "\n",
    "x = tf.reshape(x,(-1, PROCESSING_INFO['padding_lengths'][SEQ], len(idx_to_char)))\n",
    "\n",
    "x = tf.keras.activations.softmax(x)\n",
    "\n",
    "model = tf.keras.Model(inputs=input_layers_list, outputs=x, name='mmproteo')\n",
    "model.compile(optimizer=tf.keras.optimizers.Adam(),\n",
    "              loss=masked_loss,\n",
    "              metrics=[\n",
    "                  tf.keras.metrics.SparseCategoricalAccuracy(),\n",
    "                  tf.keras.metrics.SparseCategoricalCrossentropy()\n",
    "              ]\n",
    "             )\n",
    "model.summary()"
   ]
  },
  {
   "cell_type": "markdown",
   "id": "beautiful-queue",
   "metadata": {},
   "source": [
    "## Training the Tensorflow Model"
   ]
  },
  {
   "cell_type": "code",
   "execution_count": 19,
   "id": "630d443e",
   "metadata": {},
   "outputs": [],
   "source": [
    "# Load the TensorBoard notebook extension\n",
    "%load_ext tensorboard"
   ]
  },
  {
   "cell_type": "code",
   "execution_count": 20,
   "id": "05152e65",
   "metadata": {},
   "outputs": [],
   "source": [
    "TENSORBOARD_LOG_DIR = os.path.join(DUMP_PATH, \"tensorboard\", \"logs\")"
   ]
  },
  {
   "cell_type": "code",
   "execution_count": 21,
   "id": "fe45638f",
   "metadata": {
    "scrolled": true
   },
   "outputs": [
    {
     "data": {
      "text/html": [
       "\n",
       "      <iframe id=\"tensorboard-frame-fbd6455cb5ee21c5\" width=\"100%\" height=\"800\" frameborder=\"0\">\n",
       "      </iframe>\n",
       "      <script>\n",
       "        (function() {\n",
       "          const frame = document.getElementById(\"tensorboard-frame-fbd6455cb5ee21c5\");\n",
       "          const url = new URL(\"/\", window.location);\n",
       "          const port = 6006;\n",
       "          if (port) {\n",
       "            url.port = port;\n",
       "          }\n",
       "          frame.src = url;\n",
       "        })();\n",
       "      </script>\n",
       "    "
      ],
      "text/plain": [
       "<IPython.core.display.HTML object>"
      ]
     },
     "metadata": {},
     "output_type": "display_data"
    }
   ],
   "source": [
    "%tensorboard --logdir $TENSORBOARD_LOG_DIR --bind_all"
   ]
  },
  {
   "cell_type": "code",
   "execution_count": 22,
   "id": "funded-commons",
   "metadata": {
    "scrolled": false
   },
   "outputs": [
    {
     "name": "stdout",
     "output_type": "stream",
     "text": [
      "1000/1000 [==============================] - 14s 10ms/step - loss: 15.4428 - sparse_categorical_accuracy: 0.0340 - sparse_categorical_crossentropy: 2827269.2500 - val_loss: 15.3654 - val_sparse_categorical_accuracy: 0.0252 - val_sparse_categorical_crossentropy: 4256607.0000\n"
     ]
    },
    {
     "data": {
      "text/plain": [
       "<tensorflow.python.keras.callbacks.History at 0x7f8ee062d748>"
      ]
     },
     "execution_count": 22,
     "metadata": {},
     "output_type": "execute_result"
    }
   ],
   "source": [
    "model.fit(x=datasets[TRAINING_TYPE].repeat(),\n",
    "          validation_data=datasets[TEST_TYPE].repeat(), \n",
    "          validation_steps=500,\n",
    "          epochs=1,\n",
    "          steps_per_epoch=1_000,\n",
    "          callbacks=[\n",
    "              callbacks.create_tensorboard_callback(\n",
    "                  tensorboard_log_dir = TENSORBOARD_LOG_DIR,\n",
    "                  keep_logs = KEEP_CACHE\n",
    "              )\n",
    "          ]\n",
    "         )"
   ]
  },
  {
   "cell_type": "markdown",
   "id": "spatial-laser",
   "metadata": {},
   "source": [
    "## Evaluating the Tensorflow Model"
   ]
  },
  {
   "cell_type": "code",
   "execution_count": 23,
   "id": "9aab9299",
   "metadata": {},
   "outputs": [],
   "source": [
    "decode_idx: Callable[[np.ndarray], np.ndarray] = np.vectorize(idx_to_char.get)"
   ]
  },
  {
   "cell_type": "code",
   "execution_count": 24,
   "id": "3013c477",
   "metadata": {},
   "outputs": [],
   "source": [
    "evaluator = evaluation.SequenceEvaluator(\n",
    "    dataset=datasets[EVAL_TYPE],\n",
    "    decode_func=decode_idx,\n",
    "    batch_size=BATCH_SIZE\n",
    ")"
   ]
  },
  {
   "cell_type": "code",
   "execution_count": 25,
   "id": "6c860cab",
   "metadata": {},
   "outputs": [
    {
     "data": {
      "text/plain": [
       "tensorflow.python.keras.engine.functional.Functional"
      ]
     },
     "execution_count": 25,
     "metadata": {},
     "output_type": "execute_result"
    }
   ],
   "source": [
    "type(model)"
   ]
  },
  {
   "cell_type": "code",
   "execution_count": 26,
   "id": "5a30b848",
   "metadata": {},
   "outputs": [
    {
     "name": "stdout",
     "output_type": "stream",
     "text": [
      "1250/1250 [==============================] - 6s 2ms/step - loss: 15.3895 - sparse_categorical_accuracy: 0.0236 - sparse_categorical_crossentropy: 4297692.5000\n"
     ]
    },
    {
     "data": {
      "text/plain": [
       "[15.389538764953613, 0.023622000589966774, 4297692.5]"
      ]
     },
     "execution_count": 26,
     "metadata": {},
     "output_type": "execute_result"
    }
   ],
   "source": [
    "evaluator.evaluate(model)"
   ]
  },
  {
   "cell_type": "code",
   "execution_count": 29,
   "id": "917eb62e",
   "metadata": {},
   "outputs": [
    {
     "data": {
      "text/html": [
       "<div>\n",
       "<style scoped>\n",
       "    .dataframe tbody tr th:only-of-type {\n",
       "        vertical-align: middle;\n",
       "    }\n",
       "\n",
       "    .dataframe tbody tr th {\n",
       "        vertical-align: top;\n",
       "    }\n",
       "\n",
       "    .dataframe thead th {\n",
       "        text-align: right;\n",
       "    }\n",
       "</style>\n",
       "<table border=\"1\" class=\"dataframe\">\n",
       "  <thead>\n",
       "    <tr style=\"text-align: right;\">\n",
       "      <th></th>\n",
       "      <th>predicted</th>\n",
       "      <th>true</th>\n",
       "    </tr>\n",
       "  </thead>\n",
       "  <tbody>\n",
       "    <tr>\n",
       "      <th>0</th>\n",
       "      <td>A F I V S _ C H Y N L Q D G N V D N Y D Y _ C A M(Oxidation) S M D E G E N L H C E F A M R K M(Oxidation) C H C C C G R D</td>\n",
       "      <td>Q I A M(Oxidation) G A D Q A Q T L K</td>\n",
       "    </tr>\n",
       "    <tr>\n",
       "      <th>1</th>\n",
       "      <td>A F I V S _ C H Y N L Q D G N V D N Y D Y W C A M(Oxidation) S M D E G E N L H C E F A M R K M(Oxidation) C H C C C G R D</td>\n",
       "      <td>R S Q N W L P S I F N D F F D N E L M(Oxidation) A K</td>\n",
       "    </tr>\n",
       "    <tr>\n",
       "      <th>2</th>\n",
       "      <td>A F I V S _ C H Y N L Q D G N V D N Y D Y _ C A M(Oxidation) S M D E G E H L H C E F A E R K M(Oxidation) C H C C C G R D</td>\n",
       "      <td>F T A E Q G A V K</td>\n",
       "    </tr>\n",
       "    <tr>\n",
       "      <th>3</th>\n",
       "      <td>A F I V S _ C H Y N L Q D G N V D N Y D Y W C A M(Oxidation) S M D E G E N L H C E F A M R K M(Oxidation) C H C C C G R D</td>\n",
       "      <td>I E T G V I H V G D E I E I L G L G E D K K</td>\n",
       "    </tr>\n",
       "    <tr>\n",
       "      <th>4</th>\n",
       "      <td>A F I V S _ C H Y N L Q D G N V D N Y D Y W C A M(Oxidation) S M D E G E N L H C E F A M R K M(Oxidation) C H C C C G R D</td>\n",
       "      <td>G F G E V V E V A S S A D A N Y T F I P K</td>\n",
       "    </tr>\n",
       "    <tr>\n",
       "      <th>5</th>\n",
       "      <td>A F I V S _ C H Y N L Q D G N V D N Y D Y W C A M(Oxidation) S M D E G E N L H C E F A M R K M(Oxidation) C H C C C G R D</td>\n",
       "      <td>H I N V G I A V S Q D D G N L I V P V V H D A D R L N L N G L A V A I D S L A K</td>\n",
       "    </tr>\n",
       "    <tr>\n",
       "      <th>6</th>\n",
       "      <td>A F I V S _ C H Y N L Q D G N V D N Y D Y W C A M(Oxidation) S M D E G E N L H C E F A M R K M(Oxidation) C H C C C G R D</td>\n",
       "      <td>K P A T P K P A T P A A V K A E K P A G D N E E</td>\n",
       "    </tr>\n",
       "    <tr>\n",
       "      <th>7</th>\n",
       "      <td>A F I V S _ C H Y N L Q D G N V D N Y D Y W C K M(Oxidation) S M D E G E N L H C E F A M R K M(Oxidation) C H C C C G R D</td>\n",
       "      <td>L L D Q G E A G D N V G L L L R</td>\n",
       "    </tr>\n",
       "    <tr>\n",
       "      <th>8</th>\n",
       "      <td>A F I V S _ C H Y N L Q D G N V D N Y D Y W C A M(Oxidation) S M D E G E N L H C E F A M R K M(Oxidation) C H C C C G R D</td>\n",
       "      <td>G N E Q F I S A S K</td>\n",
       "    </tr>\n",
       "    <tr>\n",
       "      <th>9</th>\n",
       "      <td>A F I V S _ C H Y N L Q D G N V D N Y D Y _ C A M(Oxidation) S M D E G E H L H C E F A E R K M(Oxidation) C H C C C G R D</td>\n",
       "      <td>V T E V S D K G V T V E K D G K</td>\n",
       "    </tr>\n",
       "    <tr>\n",
       "      <th>10</th>\n",
       "      <td>A F I V S _ C H Y N L Q D G N V D N Y D Y W C A M(Oxidation) S M D E G E N L H C E F A M R K M(Oxidation) C H C C C G R D</td>\n",
       "      <td>D V D K P F L M(Oxidation) P V E D V F S I T G R</td>\n",
       "    </tr>\n",
       "    <tr>\n",
       "      <th>11</th>\n",
       "      <td>A F I V S _ C H Y N L Q D G N V D N Y D Y W C A M(Oxidation) S M D E G E N L H C E F A M R K M(Oxidation) C H C C C G R D</td>\n",
       "      <td>G M(Oxidation) A E N P D H F F Q H R</td>\n",
       "    </tr>\n",
       "    <tr>\n",
       "      <th>12</th>\n",
       "      <td>A F I V S _ C H Y N L Q D G N V D N Y D Y W C A M(Oxidation) S M D E G E N L H C E F A M R K M(Oxidation) C H C C C G R D</td>\n",
       "      <td>I A S Q A D V I V A A L G E S S E M S G E S S S R</td>\n",
       "    </tr>\n",
       "    <tr>\n",
       "      <th>13</th>\n",
       "      <td>A F I V S _ C H Y N L Q D G N V D N Y D Y W C A M(Oxidation) S M D E G E N L H C E F A M R K M(Oxidation) C H C C C G R D</td>\n",
       "      <td>E A L K N H F T V E F W G I E P N P S I E T L R</td>\n",
       "    </tr>\n",
       "    <tr>\n",
       "      <th>14</th>\n",
       "      <td>A F I V S _ C H Y N L Q D G N V D N Y D Y _ C A M(Oxidation) S M D E G E H L H C E F A E V K M(Oxidation) C H C C C G R D</td>\n",
       "      <td>G I I D A I L D G S I D K A P T K</td>\n",
       "    </tr>\n",
       "    <tr>\n",
       "      <th>15</th>\n",
       "      <td>A F I V S _ C H Y N L Q D G N V D N Y D Y W C A M(Oxidation) S M D E G E N L H C E F A M R K M(Oxidation) C H C C C G R D</td>\n",
       "      <td>E N F K A D Y I I D V L Q G R</td>\n",
       "    </tr>\n",
       "    <tr>\n",
       "      <th>16</th>\n",
       "      <td>A F I V S _ C H Y N L Q D G N V D N Y D Y _ C A M(Oxidation) S M D E G E H L H C E F A E V K M(Oxidation) C H C C C G R D</td>\n",
       "      <td>F G L A N G V S Y V S T G G G A L L E A I E G K</td>\n",
       "    </tr>\n",
       "    <tr>\n",
       "      <th>17</th>\n",
       "      <td>A F I V S _ C H Y N L Q D G N V D N Y D Y _ C A M(Oxidation) S M D E G E H L H C E F A E V K M(Oxidation) C H C C C G R D</td>\n",
       "      <td>A P R D G K F T E K I G T Y N P N T N P A T V D L N F E R</td>\n",
       "    </tr>\n",
       "    <tr>\n",
       "      <th>18</th>\n",
       "      <td>A F I V S _ C H Y N L Q D G N V D N Y D Y _ C A M(Oxidation) S M D E G E H L H C E F A E R K M(Oxidation) C H C C C G R D</td>\n",
       "      <td>N N H H L L S V I H D K L Q P L G L A R</td>\n",
       "    </tr>\n",
       "    <tr>\n",
       "      <th>19</th>\n",
       "      <td>A F I V S _ C H Y N L Q D G N V D N Y D Y _ C A M(Oxidation) S M D E G E H L H C E F A E V K M(Oxidation) C H C C C G R D</td>\n",
       "      <td>V V R E I A Y S D G P R</td>\n",
       "    </tr>\n",
       "  </tbody>\n",
       "</table>\n",
       "</div>"
      ],
      "text/plain": [
       "                                                                                                                    predicted  \\\n",
       "0   A F I V S _ C H Y N L Q D G N V D N Y D Y _ C A M(Oxidation) S M D E G E N L H C E F A M R K M(Oxidation) C H C C C G R D   \n",
       "1   A F I V S _ C H Y N L Q D G N V D N Y D Y W C A M(Oxidation) S M D E G E N L H C E F A M R K M(Oxidation) C H C C C G R D   \n",
       "2   A F I V S _ C H Y N L Q D G N V D N Y D Y _ C A M(Oxidation) S M D E G E H L H C E F A E R K M(Oxidation) C H C C C G R D   \n",
       "3   A F I V S _ C H Y N L Q D G N V D N Y D Y W C A M(Oxidation) S M D E G E N L H C E F A M R K M(Oxidation) C H C C C G R D   \n",
       "4   A F I V S _ C H Y N L Q D G N V D N Y D Y W C A M(Oxidation) S M D E G E N L H C E F A M R K M(Oxidation) C H C C C G R D   \n",
       "5   A F I V S _ C H Y N L Q D G N V D N Y D Y W C A M(Oxidation) S M D E G E N L H C E F A M R K M(Oxidation) C H C C C G R D   \n",
       "6   A F I V S _ C H Y N L Q D G N V D N Y D Y W C A M(Oxidation) S M D E G E N L H C E F A M R K M(Oxidation) C H C C C G R D   \n",
       "7   A F I V S _ C H Y N L Q D G N V D N Y D Y W C K M(Oxidation) S M D E G E N L H C E F A M R K M(Oxidation) C H C C C G R D   \n",
       "8   A F I V S _ C H Y N L Q D G N V D N Y D Y W C A M(Oxidation) S M D E G E N L H C E F A M R K M(Oxidation) C H C C C G R D   \n",
       "9   A F I V S _ C H Y N L Q D G N V D N Y D Y _ C A M(Oxidation) S M D E G E H L H C E F A E R K M(Oxidation) C H C C C G R D   \n",
       "10  A F I V S _ C H Y N L Q D G N V D N Y D Y W C A M(Oxidation) S M D E G E N L H C E F A M R K M(Oxidation) C H C C C G R D   \n",
       "11  A F I V S _ C H Y N L Q D G N V D N Y D Y W C A M(Oxidation) S M D E G E N L H C E F A M R K M(Oxidation) C H C C C G R D   \n",
       "12  A F I V S _ C H Y N L Q D G N V D N Y D Y W C A M(Oxidation) S M D E G E N L H C E F A M R K M(Oxidation) C H C C C G R D   \n",
       "13  A F I V S _ C H Y N L Q D G N V D N Y D Y W C A M(Oxidation) S M D E G E N L H C E F A M R K M(Oxidation) C H C C C G R D   \n",
       "14  A F I V S _ C H Y N L Q D G N V D N Y D Y _ C A M(Oxidation) S M D E G E H L H C E F A E V K M(Oxidation) C H C C C G R D   \n",
       "15  A F I V S _ C H Y N L Q D G N V D N Y D Y W C A M(Oxidation) S M D E G E N L H C E F A M R K M(Oxidation) C H C C C G R D   \n",
       "16  A F I V S _ C H Y N L Q D G N V D N Y D Y _ C A M(Oxidation) S M D E G E H L H C E F A E V K M(Oxidation) C H C C C G R D   \n",
       "17  A F I V S _ C H Y N L Q D G N V D N Y D Y _ C A M(Oxidation) S M D E G E H L H C E F A E V K M(Oxidation) C H C C C G R D   \n",
       "18  A F I V S _ C H Y N L Q D G N V D N Y D Y _ C A M(Oxidation) S M D E G E H L H C E F A E R K M(Oxidation) C H C C C G R D   \n",
       "19  A F I V S _ C H Y N L Q D G N V D N Y D Y _ C A M(Oxidation) S M D E G E H L H C E F A E V K M(Oxidation) C H C C C G R D   \n",
       "\n",
       "                                                                               true  \n",
       "0                                              Q I A M(Oxidation) G A D Q A Q T L K  \n",
       "1                              R S Q N W L P S I F N D F F D N E L M(Oxidation) A K  \n",
       "2                                                                 F T A E Q G A V K  \n",
       "3                                       I E T G V I H V G D E I E I L G L G E D K K  \n",
       "4                                         G F G E V V E V A S S A D A N Y T F I P K  \n",
       "5   H I N V G I A V S Q D D G N L I V P V V H D A D R L N L N G L A V A I D S L A K  \n",
       "6                                   K P A T P K P A T P A A V K A E K P A G D N E E  \n",
       "7                                                   L L D Q G E A G D N V G L L L R  \n",
       "8                                                               G N E Q F I S A S K  \n",
       "9                                                   V T E V S D K G V T V E K D G K  \n",
       "10                                 D V D K P F L M(Oxidation) P V E D V F S I T G R  \n",
       "11                                             G M(Oxidation) A E N P D H F F Q H R  \n",
       "12                                I A S Q A D V I V A A L G E S S E M S G E S S S R  \n",
       "13                                  E A L K N H F T V E F W G I E P N P S I E T L R  \n",
       "14                                                G I I D A I L D G S I D K A P T K  \n",
       "15                                                    E N F K A D Y I I D V L Q G R  \n",
       "16                                  F G L A N G V S Y V S T G G G A L L E A I E G K  \n",
       "17                        A P R D G K F T E K I G T Y N P N T N P A T V D L N F E R  \n",
       "18                                          N N H H L L S V I H D K L Q P L G L A R  \n",
       "19                                                          V V R E I A Y S D G P R  "
      ]
     },
     "execution_count": 29,
     "metadata": {},
     "output_type": "execute_result"
    }
   ],
   "source": [
    "eval_df, (x_eval, y_eval, y_pred) = evaluator.evaluate_visually(\n",
    "    model=model,\n",
    "    sample_size=20\n",
    ")\n",
    "eval_df"
   ]
  },
  {
   "cell_type": "code",
   "execution_count": 30,
   "id": "44bf7530",
   "metadata": {},
   "outputs": [
    {
     "name": "stdout",
     "output_type": "stream",
     "text": [
      "A F I V S _ C H Y N L Q D G N V D N Y D Y _ C A M(Oxidation) S M D E G E N L H C E F A M R K M(Oxidation) C H C C C G R D\n",
      "A F I V S _ C H Y N L Q D G N V D N Y D Y W C A M(Oxidation) S M D E G E N L H C E F A M R K M(Oxidation) C H C C C G R D\n",
      "A F I V S _ C H Y N L Q D G N V D N Y D Y _ C A M(Oxidation) S M D E G E H L H C E F A E R K M(Oxidation) C H C C C G R D\n",
      "A F I V S _ C H Y N L Q D G N V D N Y D Y W C A M(Oxidation) S M D E G E N L H C E F A M R K M(Oxidation) C H C C C G R D\n",
      "A F I V S _ C H Y N L Q D G N V D N Y D Y W C A M(Oxidation) S M D E G E N L H C E F A M R K M(Oxidation) C H C C C G R D\n",
      "A F I V S _ C H Y N L Q D G N V D N Y D Y W C A M(Oxidation) S M D E G E N L H C E F A M R K M(Oxidation) C H C C C G R D\n",
      "A F I V S _ C H Y N L Q D G N V D N Y D Y W C A M(Oxidation) S M D E G E N L H C E F A M R K M(Oxidation) C H C C C G R D\n",
      "A F I V S _ C H Y N L Q D G N V D N Y D Y W C K M(Oxidation) S M D E G E N L H C E F A M R K M(Oxidation) C H C C C G R D\n",
      "A F I V S _ C H Y N L Q D G N V D N Y D Y W C A M(Oxidation) S M D E G E N L H C E F A M R K M(Oxidation) C H C C C G R D\n",
      "A F I V S _ C H Y N L Q D G N V D N Y D Y _ C A M(Oxidation) S M D E G E H L H C E F A E R K M(Oxidation) C H C C C G R D\n",
      "A F I V S _ C H Y N L Q D G N V D N Y D Y W C A M(Oxidation) S M D E G E N L H C E F A M R K M(Oxidation) C H C C C G R D\n",
      "A F I V S _ C H Y N L Q D G N V D N Y D Y W C A M(Oxidation) S M D E G E N L H C E F A M R K M(Oxidation) C H C C C G R D\n",
      "A F I V S _ C H Y N L Q D G N V D N Y D Y W C A M(Oxidation) S M D E G E N L H C E F A M R K M(Oxidation) C H C C C G R D\n",
      "A F I V S _ C H Y N L Q D G N V D N Y D Y W C A M(Oxidation) S M D E G E N L H C E F A M R K M(Oxidation) C H C C C G R D\n",
      "A F I V S _ C H Y N L Q D G N V D N Y D Y _ C A M(Oxidation) S M D E G E H L H C E F A E V K M(Oxidation) C H C C C G R D\n",
      "A F I V S _ C H Y N L Q D G N V D N Y D Y W C A M(Oxidation) S M D E G E N L H C E F A M R K M(Oxidation) C H C C C G R D\n",
      "A F I V S _ C H Y N L Q D G N V D N Y D Y _ C A M(Oxidation) S M D E G E H L H C E F A E V K M(Oxidation) C H C C C G R D\n",
      "A F I V S _ C H Y N L Q D G N V D N Y D Y _ C A M(Oxidation) S M D E G E H L H C E F A E V K M(Oxidation) C H C C C G R D\n",
      "A F I V S _ C H Y N L Q D G N V D N Y D Y _ C A M(Oxidation) S M D E G E H L H C E F A E R K M(Oxidation) C H C C C G R D\n",
      "A F I V S _ C H Y N L Q D G N V D N Y D Y _ C A M(Oxidation) S M D E G E H L H C E F A E V K M(Oxidation) C H C C C G R D\n"
     ]
    }
   ],
   "source": [
    "eval_df.predicted.map(print)\n",
    "None"
   ]
  },
  {
   "cell_type": "code",
   "execution_count": 31,
   "id": "0d4b261d",
   "metadata": {},
   "outputs": [
    {
     "data": {
      "text/plain": [
       "((array([[14,  7,  0, 11,  5,  0,  2, 14,  0, 14, 17,  9,  8, 21, 21, 21,\n",
       "          21, 21, 21, 21, 21, 21, 21, 21, 21, 21, 21, 21, 21, 21, 21, 21,\n",
       "          21, 21, 21, 21, 21, 21, 21, 21, 21, 21, 21, 21, 21, 21, 21, 21,\n",
       "          21, 21]], dtype=int8),),\n",
       " array([[[1., 0., 0., ..., 0., 0., 0.],\n",
       "         [0., 0., 0., ..., 0., 0., 0.],\n",
       "         [0., 0., 0., ..., 0., 0., 0.],\n",
       "         ...,\n",
       "         [0., 0., 0., ..., 0., 0., 0.],\n",
       "         [0., 0., 0., ..., 0., 0., 0.],\n",
       "         [0., 0., 1., ..., 0., 0., 0.]]], dtype=float32))"
      ]
     },
     "execution_count": 31,
     "metadata": {},
     "output_type": "execute_result"
    }
   ],
   "source": [
    "y_eval[:1], y_pred[:1]"
   ]
  }
 ],
 "metadata": {
  "kernelspec": {
   "display_name": "Python 3",
   "language": "python",
   "name": "python3"
  },
  "language_info": {
   "codemirror_mode": {
    "name": "ipython",
    "version": 3
   },
   "file_extension": ".py",
   "mimetype": "text/x-python",
   "name": "python",
   "nbconvert_exporter": "python",
   "pygments_lexer": "ipython3",
   "version": "3.6.9"
  }
 },
 "nbformat": 4,
 "nbformat_minor": 5
}
