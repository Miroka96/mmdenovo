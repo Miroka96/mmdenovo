{
 "cells": [
  {
   "cell_type": "markdown",
   "id": "lovely-landing",
   "metadata": {},
   "source": [
    "# Training a CNN-LSTM Model on Tensorflow Datasets\n",
    "## Prerequisites"
   ]
  },
  {
   "cell_type": "code",
   "execution_count": 1,
   "id": "worth-excuse",
   "metadata": {},
   "outputs": [],
   "source": [
    "import json\n",
    "import os\n",
    "from typing import Callable\n",
    "\n",
    "import numpy as np\n",
    "import pandas as pd\n",
    "import tensorflow as tf\n",
    "from mmproteo.utils import log, paths, visualization\n",
    "from mmproteo.utils.formats.tf_dataset import DatasetLoader\n",
    "from mmproteo.utils.ml import callbacks, evaluation, layers, losses"
   ]
  },
  {
   "cell_type": "code",
   "execution_count": 2,
   "id": "circular-latin",
   "metadata": {},
   "outputs": [],
   "source": [
    "pd.set_option('display.max_columns', None)\n",
    "pd.set_option('display.max_rows', 1000)"
   ]
  },
  {
   "cell_type": "code",
   "execution_count": 3,
   "id": "certified-gibson",
   "metadata": {},
   "outputs": [
    {
     "name": "stdout",
     "output_type": "stream",
     "text": [
      "INFO: Printing to Stdout\n"
     ]
    }
   ],
   "source": [
    "logger = log.DummyLogger(verbose=False)"
   ]
  },
  {
   "cell_type": "markdown",
   "id": "essential-playlist",
   "metadata": {},
   "source": [
    "## Configuration"
   ]
  },
  {
   "cell_type": "code",
   "execution_count": 4,
   "id": "norwegian-therapist",
   "metadata": {},
   "outputs": [
    {
     "data": {
      "text/plain": [
       "'/tf/workspace/notebooks'"
      ]
     },
     "execution_count": 4,
     "metadata": {},
     "output_type": "execute_result"
    }
   ],
   "source": [
    "%pwd"
   ]
  },
  {
   "cell_type": "raw",
   "id": "aac43a97",
   "metadata": {
    "pycharm": {
     "name": "#%%\n"
    }
   },
   "source": [
    "os.chdir(os.path.join('workspace', 'notebooks'))"
   ]
  },
  {
   "cell_type": "raw",
   "id": "02d57e9a",
   "metadata": {
    "pycharm": {
     "name": "#%%\n"
    }
   },
   "source": [
    "%pwd"
   ]
  },
  {
   "cell_type": "code",
   "execution_count": 5,
   "id": "genuine-dealing",
   "metadata": {},
   "outputs": [],
   "source": [
    "PROJECT = \"PXD010000\"\n",
    "DUMP_PATH = os.path.join(\"..\", \"dumps\", PROJECT)\n",
    "TRAINING_COLUMNS_DUMP_PATH = os.path.join(DUMP_PATH, \"training_columns\")\n",
    "FILES_PATH = os.path.join(TRAINING_COLUMNS_DUMP_PATH, \"*_mzmlid.parquet\")\n",
    "STATISTICS_FILE_PATH = os.path.join(TRAINING_COLUMNS_DUMP_PATH, \"statistics.parquet\")\n",
    "DATASET_DUMP_PATH = os.path.join(TRAINING_COLUMNS_DUMP_PATH, \"tf_datasets\")\n",
    "PROCESSING_FILE_PATH = os.path.join(DATASET_DUMP_PATH, \"processing_info.json\")"
   ]
  },
  {
   "cell_type": "code",
   "execution_count": 6,
   "id": "interesting-minute",
   "metadata": {},
   "outputs": [],
   "source": [
    "SEQ = 'peptide_sequence'"
   ]
  },
  {
   "cell_type": "code",
   "execution_count": 7,
   "id": "93c29d41",
   "metadata": {},
   "outputs": [
    {
     "data": {
      "text/plain": [
       "{'padding_characters': {'peptide_sequence': '_',\n",
       "  'mz_array': 0.0,\n",
       "  'intensity_array': 0.0},\n",
       " 'padding_lengths': {'mz_array': 2354,\n",
       "  'intensity_array': 2354,\n",
       "  'peptide_sequence': 50},\n",
       " 'idx_to_char': {'0': 'A',\n",
       "  '1': 'C',\n",
       "  '2': 'D',\n",
       "  '3': 'E',\n",
       "  '4': 'F',\n",
       "  '5': 'G',\n",
       "  '6': 'H',\n",
       "  '7': 'I',\n",
       "  '8': 'K',\n",
       "  '9': 'L',\n",
       "  '10': 'M',\n",
       "  '11': 'M(Oxidation)',\n",
       "  '12': 'N',\n",
       "  '13': 'P',\n",
       "  '14': 'Q',\n",
       "  '15': 'R',\n",
       "  '16': 'S',\n",
       "  '17': 'T',\n",
       "  '18': 'V',\n",
       "  '19': 'W',\n",
       "  '20': 'Y',\n",
       "  '21': '_'},\n",
       " 'normalization': {'intensity_array': '<function base_peak_normalize at 0x7fa6046d5158>'},\n",
       " 'split_value_columns': ['species', 'istrain'],\n",
       " 'training_data_columns': ['mz_array', 'intensity_array'],\n",
       " 'target_data_columns': ['peptide_sequence']}"
      ]
     },
     "execution_count": 7,
     "metadata": {},
     "output_type": "execute_result"
    }
   ],
   "source": [
    "with open(PROCESSING_FILE_PATH, 'r') as file:\n",
    "    PROCESSING_INFO = json.loads(file.read())\n",
    "PROCESSING_INFO"
   ]
  },
  {
   "cell_type": "code",
   "execution_count": 8,
   "id": "73a1f075",
   "metadata": {},
   "outputs": [],
   "source": [
    "idx_to_char = {int(idx): char for idx, char in PROCESSING_INFO[\"idx_to_char\"].items()}\n",
    "char_to_idx = {char: idx for idx, char in idx_to_char.items()}"
   ]
  },
  {
   "cell_type": "markdown",
   "id": "powerful-proceeding",
   "metadata": {},
   "source": [
    "## Loading Tensorflow Datasets"
   ]
  },
  {
   "cell_type": "code",
   "execution_count": 9,
   "id": "ee8aadcf",
   "metadata": {},
   "outputs": [],
   "source": [
    "KEEP_CACHE = True"
   ]
  },
  {
   "cell_type": "code",
   "execution_count": 10,
   "id": "7ee8ccc7",
   "metadata": {},
   "outputs": [],
   "source": [
    "TRAINING_TYPE = 'Train'\n",
    "TEST_TYPE = 'Test'\n",
    "EVAL_TYPE = 'Eval'"
   ]
  },
  {
   "cell_type": "code",
   "execution_count": 11,
   "id": "d696d51d",
   "metadata": {},
   "outputs": [
    {
     "name": "stdout",
     "output_type": "stream",
     "text": [
      "INFO: found file paths dump '../dumps/PXD010000/training_columns/tf_datasets/dataset_file_paths.json'\n",
      "\n",
      "assigned dataset files:\n",
      "#Train = 89\n",
      "e.g.: ../dumps/PXD010000/training_columns/tf_datasets/Biodiversity_C_indologenes_LIB_aerobic_02_03May16_Samwise_16-03-32_mzmlid.parquet/Chryseobacterium_indologenes/Train\n",
      "#Test = 17\n",
      "e.g.: ../dumps/PXD010000/training_columns/tf_datasets/Biodiversity_A_cryptum_FeTSB_anaerobic_1_01Jun16_Pippin_16-03-39_mzmlid.parquet/Acidiphilium_cryptum_JF-5/Train\n",
      "#Eval = 29\n",
      "e.g.: ../dumps/PXD010000/training_columns/tf_datasets/Biodiversity_B_fragilis_CMcarb_anaerobic_01_01Feb16_Arwen_15-07-13_mzmlid.parquet/Bacteroides_fragilis_638R/Train\n"
     ]
    }
   ],
   "source": [
    "dataset_file_paths = paths.assign_wildcard_paths_to_splits_grouped_by_path_position_value(\n",
    "    wildcard_path = os.path.join(\n",
    "        DATASET_DUMP_PATH, \n",
    "        '*',  # filename\n",
    "        '*',  # species\n",
    "        '*'   # istrain\n",
    "    ),\n",
    "    path_position = -2,\n",
    "    splits = {\n",
    "            TRAINING_TYPE: 0.4,\n",
    "            TEST_TYPE: 0.5,\n",
    "            EVAL_TYPE: 0.6\n",
    "        },\n",
    "    paths_dump_file = os.path.join(\n",
    "            DATASET_DUMP_PATH,\n",
    "            \"dataset_file_paths.json\"\n",
    "        ),\n",
    "    skip_existing = KEEP_CACHE,\n",
    "    logger = logger\n",
    ")\n",
    "\n",
    "print()\n",
    "print(\"assigned dataset files:\")\n",
    "visualization.print_list_length_in_dict(dataset_file_paths)"
   ]
  },
  {
   "cell_type": "markdown",
   "id": "ec611252",
   "metadata": {},
   "source": [
    "### Loading corresponding TF datasets"
   ]
  },
  {
   "cell_type": "code",
   "execution_count": 12,
   "id": "c0d829d6",
   "metadata": {},
   "outputs": [
    {
     "data": {
      "text/plain": [
       "((TensorSpec(shape=(2354,), dtype=tf.float32, name=None),\n",
       "  TensorSpec(shape=(2354,), dtype=tf.float32, name=None)),\n",
       " (TensorSpec(shape=(50,), dtype=tf.int8, name=None),))"
      ]
     },
     "execution_count": 12,
     "metadata": {},
     "output_type": "execute_result"
    }
   ],
   "source": [
    "element_spec = (\n",
    "    tuple(tf.TensorSpec(shape=(PROCESSING_INFO['padding_lengths'][col], ), dtype=tf.float32)\n",
    "     for col in PROCESSING_INFO['training_data_columns']),\n",
    "    tuple(tf.TensorSpec(shape=(PROCESSING_INFO['padding_lengths'][col], ), dtype=tf.int8)\n",
    "     for col in PROCESSING_INFO['target_data_columns'])\n",
    ")\n",
    "element_spec"
   ]
  },
  {
   "cell_type": "code",
   "execution_count": 13,
   "id": "b34d7bec",
   "metadata": {},
   "outputs": [],
   "source": [
    "BATCH_SIZE=32"
   ]
  },
  {
   "cell_type": "code",
   "execution_count": 14,
   "id": "fbef3700",
   "metadata": {},
   "outputs": [
    {
     "name": "stderr",
     "output_type": "stream",
     "text": [
      "/usr/local/lib/python3.6/dist-packages/tensorflow/python/data/ops/dataset_ops.py:1640: UserWarning: The `deterministic` argument has no effect unless the `num_parallel_calls` argument is specified.\n",
      "  warnings.warn(\"The `deterministic` argument has no effect unless the \"\n"
     ]
    },
    {
     "data": {
      "text/plain": [
       "{'Train': <BatchDataset shapes: (((32, 2354), (32, 2354)), ((32, 50),)), types: ((tf.float32, tf.float32), (tf.int8,))>,\n",
       " 'Test': <BatchDataset shapes: (((32, 2354), (32, 2354)), ((32, 50),)), types: ((tf.float32, tf.float32), (tf.int8,))>,\n",
       " 'Eval': <BatchDataset shapes: (((32, 2354), (32, 2354)), ((32, 50),)), types: ((tf.float32, tf.float32), (tf.int8,))>}"
      ]
     },
     "execution_count": 14,
     "metadata": {},
     "output_type": "execute_result"
    }
   ],
   "source": [
    "datasets = DatasetLoader(\n",
    "    element_spec=element_spec,\n",
    "    batch_size=BATCH_SIZE,\n",
    "    shuffle_buffer_size=100_000,\n",
    "    keep_cache=KEEP_CACHE,\n",
    "    logger=logger\n",
    ").load_datasets_by_type(dataset_file_paths)\n",
    "datasets"
   ]
  },
  {
   "cell_type": "markdown",
   "id": "determined-company",
   "metadata": {},
   "source": [
    "## Building the Tensorflow Model"
   ]
  },
  {
   "cell_type": "code",
   "execution_count": 15,
   "id": "ce5d17de",
   "metadata": {},
   "outputs": [
    {
     "name": "stdout",
     "output_type": "stream",
     "text": [
      "[<KerasTensor: shape=(None, 2354) dtype=float32 (created by layer 'mz_array')>, <KerasTensor: shape=(None, 2354) dtype=float32 (created by layer 'intensity_array')>]\n",
      "[<KerasTensor: shape=(None, 2354) dtype=float32 (created by layer 'masked_mz_array')>, <KerasTensor: shape=(None, 2354) dtype=float32 (created by layer 'masked_intensity_array')>]\n"
     ]
    }
   ],
   "source": [
    "input_layers_list, masked_input_layers_list = layers.create_masked_input_layers(\n",
    "    [\n",
    "        layers.InputLayerConfiguration(\n",
    "            name=col,\n",
    "            shape=PROCESSING_INFO['padding_lengths'][col],\n",
    "            mask_value=PROCESSING_INFO['padding_characters'][col]\n",
    "        )\n",
    "        for col in PROCESSING_INFO['training_data_columns']\n",
    "    ]\n",
    ")\n",
    "print(input_layers_list)\n",
    "print(masked_input_layers_list)"
   ]
  },
  {
   "cell_type": "code",
   "execution_count": 16,
   "id": "03ed2a1f",
   "metadata": {},
   "outputs": [],
   "source": [
    "masked_loss = losses.MaskedLoss(\n",
    "    loss_function=tf.keras.losses.sparse_categorical_crossentropy,\n",
    "    masking_value=tf.constant(\n",
    "        value=char_to_idx[PROCESSING_INFO['padding_characters'][SEQ]],\n",
    "        dtype=tf.int8\n",
    "    )\n",
    ")"
   ]
  },
  {
   "cell_type": "code",
   "execution_count": 17,
   "id": "cb44032b",
   "metadata": {},
   "outputs": [
    {
     "data": {
      "text/plain": [
       "<KerasTensor: shape=(None, 2354, 2) dtype=float32 (created by layer 'tf.stack')>"
      ]
     },
     "execution_count": 17,
     "metadata": {},
     "output_type": "execute_result"
    }
   ],
   "source": [
    "x = tf.stack(\n",
    "    values=masked_input_layers_list, \n",
    "    axis=-1,\n",
    ")\n",
    "x"
   ]
  },
  {
   "cell_type": "code",
   "execution_count": 18,
   "id": "19468377",
   "metadata": {},
   "outputs": [
    {
     "data": {
      "text/plain": [
       "TensorShape([None, 2354, 2])"
      ]
     },
     "execution_count": 18,
     "metadata": {},
     "output_type": "execute_result"
    }
   ],
   "source": [
    "x.shape"
   ]
  },
  {
   "cell_type": "code",
   "execution_count": 19,
   "id": "ab96a67e",
   "metadata": {},
   "outputs": [
    {
     "data": {
      "text/plain": [
       "TensorShape([2354, 2])"
      ]
     },
     "execution_count": 19,
     "metadata": {},
     "output_type": "execute_result"
    }
   ],
   "source": [
    "x.shape[1:]"
   ]
  },
  {
   "cell_type": "code",
   "execution_count": 20,
   "id": "9dfb79c4",
   "metadata": {},
   "outputs": [
    {
     "data": {
      "text/plain": [
       "<KerasTensor: shape=(None, 2354, 42) dtype=float32 (created by layer 'conv1d')>"
      ]
     },
     "execution_count": 20,
     "metadata": {},
     "output_type": "execute_result"
    }
   ],
   "source": [
    "y = tf.keras.layers.Conv1D(\n",
    "    filters=42,\n",
    "    kernel_size=100,\n",
    "    padding='same',\n",
    "    activation='relu',\n",
    ")(x)\n",
    "y"
   ]
  },
  {
   "cell_type": "raw",
   "id": "04c7803c",
   "metadata": {},
   "source": [
    "y = tf.keras.layers.MaxPool1D(\n",
    "    pool_size=3, \n",
    "    padding='same', \n",
    "    strides=1,\n",
    ")(y)\n",
    "y"
   ]
  },
  {
   "cell_type": "code",
   "execution_count": 21,
   "id": "cc192570",
   "metadata": {},
   "outputs": [
    {
     "data": {
      "text/plain": [
       "<KerasTensor: shape=(None, 2354, 44) dtype=float32 (created by layer 'tf.concat')>"
      ]
     },
     "execution_count": 21,
     "metadata": {},
     "output_type": "execute_result"
    }
   ],
   "source": [
    "x = tf.concat(\n",
    "    values=[x, y],\n",
    "    axis=-1\n",
    ")\n",
    "x"
   ]
  },
  {
   "cell_type": "raw",
   "id": "044245bb",
   "metadata": {},
   "source": [
    "tf.keras.layers.MultiHeadAttention(\n",
    "    num_heads=1,\n",
    "    key_dim=3,\n",
    "    output_shape=(22)\n",
    "    \n",
    ")(x, x)  # self-attention"
   ]
  },
  {
   "cell_type": "code",
   "execution_count": 22,
   "id": "5f8cf33f",
   "metadata": {},
   "outputs": [
    {
     "data": {
      "text/plain": [
       "<KerasTensor: shape=(None, 2354, 1024) dtype=float32 (created by layer 'bidirectional')>"
      ]
     },
     "execution_count": 22,
     "metadata": {},
     "output_type": "execute_result"
    }
   ],
   "source": [
    "x = tf.keras.layers.Bidirectional(\n",
    "    layer=tf.keras.layers.LSTM(\n",
    "        units=512,\n",
    "        return_sequences=True,\n",
    "    )\n",
    ")(x)\n",
    "x"
   ]
  },
  {
   "cell_type": "code",
   "execution_count": 23,
   "id": "a7cc298b",
   "metadata": {},
   "outputs": [
    {
     "data": {
      "text/plain": [
       "2354"
      ]
     },
     "execution_count": 23,
     "metadata": {},
     "output_type": "execute_result"
    }
   ],
   "source": [
    "x.shape[1]"
   ]
  },
  {
   "cell_type": "code",
   "execution_count": 24,
   "id": "f3021f2c",
   "metadata": {},
   "outputs": [
    {
     "name": "stdout",
     "output_type": "stream",
     "text": [
      "KerasTensor(type_spec=TensorSpec(shape=(None, 2313, 22), dtype=tf.float32, name=None), name='conv1d_1/Relu:0', description=\"created by layer 'conv1d_1'\")\n",
      "KerasTensor(type_spec=TensorSpec(shape=(None, 1157, 22), dtype=tf.float32, name=None), name='max_pooling1d/Squeeze:0', description=\"created by layer 'max_pooling1d'\")\n",
      "KerasTensor(type_spec=TensorSpec(shape=(None, 1157, 22), dtype=tf.float32, name=None), name='dropout/Identity:0', description=\"created by layer 'dropout'\")\n",
      "KerasTensor(type_spec=TensorSpec(shape=(None, 1116, 22), dtype=tf.float32, name=None), name='conv1d_2/Relu:0', description=\"created by layer 'conv1d_2'\")\n",
      "KerasTensor(type_spec=TensorSpec(shape=(None, 558, 22), dtype=tf.float32, name=None), name='max_pooling1d_1/Squeeze:0', description=\"created by layer 'max_pooling1d_1'\")\n",
      "KerasTensor(type_spec=TensorSpec(shape=(None, 558, 22), dtype=tf.float32, name=None), name='dropout_1/Identity:0', description=\"created by layer 'dropout_1'\")\n",
      "KerasTensor(type_spec=TensorSpec(shape=(None, 517, 22), dtype=tf.float32, name=None), name='conv1d_3/Relu:0', description=\"created by layer 'conv1d_3'\")\n",
      "KerasTensor(type_spec=TensorSpec(shape=(None, 259, 22), dtype=tf.float32, name=None), name='max_pooling1d_2/Squeeze:0', description=\"created by layer 'max_pooling1d_2'\")\n",
      "KerasTensor(type_spec=TensorSpec(shape=(None, 259, 22), dtype=tf.float32, name=None), name='dropout_2/Identity:0', description=\"created by layer 'dropout_2'\")\n",
      "KerasTensor(type_spec=TensorSpec(shape=(None, 218, 22), dtype=tf.float32, name=None), name='conv1d_4/Relu:0', description=\"created by layer 'conv1d_4'\")\n",
      "KerasTensor(type_spec=TensorSpec(shape=(None, 109, 22), dtype=tf.float32, name=None), name='max_pooling1d_3/Squeeze:0', description=\"created by layer 'max_pooling1d_3'\")\n",
      "KerasTensor(type_spec=TensorSpec(shape=(None, 109, 22), dtype=tf.float32, name=None), name='dropout_3/Identity:0', description=\"created by layer 'dropout_3'\")\n"
     ]
    }
   ],
   "source": [
    "pool_size=2\n",
    "\n",
    "while x.shape[1] >= (pool_size + 1)*PROCESSING_INFO['padding_lengths'][SEQ]:\n",
    "    x = tf.keras.layers.Conv1D(\n",
    "        filters=22,\n",
    "        kernel_size=42,\n",
    "        activation='relu',\n",
    "    )(x)\n",
    "    print(x)\n",
    "    x = tf.keras.layers.MaxPool1D(\n",
    "        pool_size=2,\n",
    "        padding='same',\n",
    "    )(x)\n",
    "    print(x)\n",
    "    x = tf.keras.layers.Dropout(0.1)(x)\n",
    "    print(x)"
   ]
  },
  {
   "cell_type": "code",
   "execution_count": 25,
   "id": "dd304291",
   "metadata": {},
   "outputs": [],
   "source": [
    "x = tf.keras.layers.Flatten()(x)"
   ]
  },
  {
   "cell_type": "code",
   "execution_count": 26,
   "id": "06d33e14",
   "metadata": {},
   "outputs": [],
   "source": [
    "x = tf.keras.layers.Dense(\n",
    "    units=PROCESSING_INFO['padding_lengths'][SEQ]*len(idx_to_char),\n",
    "    activation=None,\n",
    ")(x)"
   ]
  },
  {
   "cell_type": "code",
   "execution_count": 27,
   "id": "developmental-geneva",
   "metadata": {
    "scrolled": false
   },
   "outputs": [
    {
     "name": "stdout",
     "output_type": "stream",
     "text": [
      "Model: \"mmproteo\"\n",
      "__________________________________________________________________________________________________\n",
      "Layer (type)                    Output Shape         Param #     Connected to                     \n",
      "==================================================================================================\n",
      "mz_array (InputLayer)           [(None, 2354)]       0                                            \n",
      "__________________________________________________________________________________________________\n",
      "intensity_array (InputLayer)    [(None, 2354)]       0                                            \n",
      "__________________________________________________________________________________________________\n",
      "masked_mz_array (Masking)       (None, 2354)         0           mz_array[0][0]                   \n",
      "__________________________________________________________________________________________________\n",
      "masked_intensity_array (Masking (None, 2354)         0           intensity_array[0][0]            \n",
      "__________________________________________________________________________________________________\n",
      "tf.stack (TFOpLambda)           (None, 2354, 2)      0           masked_mz_array[0][0]            \n",
      "                                                                 masked_intensity_array[0][0]     \n",
      "__________________________________________________________________________________________________\n",
      "conv1d (Conv1D)                 (None, 2354, 42)     8442        tf.stack[0][0]                   \n",
      "__________________________________________________________________________________________________\n",
      "tf.concat (TFOpLambda)          (None, 2354, 44)     0           tf.stack[0][0]                   \n",
      "                                                                 conv1d[0][0]                     \n",
      "__________________________________________________________________________________________________\n",
      "bidirectional (Bidirectional)   (None, 2354, 1024)   2281472     tf.concat[0][0]                  \n",
      "__________________________________________________________________________________________________\n",
      "conv1d_1 (Conv1D)               (None, 2313, 22)     946198      bidirectional[0][0]              \n",
      "__________________________________________________________________________________________________\n",
      "max_pooling1d (MaxPooling1D)    (None, 1157, 22)     0           conv1d_1[0][0]                   \n",
      "__________________________________________________________________________________________________\n",
      "dropout (Dropout)               (None, 1157, 22)     0           max_pooling1d[0][0]              \n",
      "__________________________________________________________________________________________________\n",
      "conv1d_2 (Conv1D)               (None, 1116, 22)     20350       dropout[0][0]                    \n",
      "__________________________________________________________________________________________________\n",
      "max_pooling1d_1 (MaxPooling1D)  (None, 558, 22)      0           conv1d_2[0][0]                   \n",
      "__________________________________________________________________________________________________\n",
      "dropout_1 (Dropout)             (None, 558, 22)      0           max_pooling1d_1[0][0]            \n",
      "__________________________________________________________________________________________________\n",
      "conv1d_3 (Conv1D)               (None, 517, 22)      20350       dropout_1[0][0]                  \n",
      "__________________________________________________________________________________________________\n",
      "max_pooling1d_2 (MaxPooling1D)  (None, 259, 22)      0           conv1d_3[0][0]                   \n",
      "__________________________________________________________________________________________________\n",
      "dropout_2 (Dropout)             (None, 259, 22)      0           max_pooling1d_2[0][0]            \n",
      "__________________________________________________________________________________________________\n",
      "conv1d_4 (Conv1D)               (None, 218, 22)      20350       dropout_2[0][0]                  \n",
      "__________________________________________________________________________________________________\n",
      "max_pooling1d_3 (MaxPooling1D)  (None, 109, 22)      0           conv1d_4[0][0]                   \n",
      "__________________________________________________________________________________________________\n",
      "dropout_3 (Dropout)             (None, 109, 22)      0           max_pooling1d_3[0][0]            \n",
      "__________________________________________________________________________________________________\n",
      "flatten (Flatten)               (None, 2398)         0           dropout_3[0][0]                  \n",
      "__________________________________________________________________________________________________\n",
      "dense (Dense)                   (None, 1100)         2638900     flatten[0][0]                    \n",
      "__________________________________________________________________________________________________\n",
      "tf.reshape (TFOpLambda)         (None, 50, 22)       0           dense[0][0]                      \n",
      "__________________________________________________________________________________________________\n",
      "tf.compat.v1.nn.softmax (TFOpLa (None, 50, 22)       0           tf.reshape[0][0]                 \n",
      "==================================================================================================\n",
      "Total params: 5,936,062\n",
      "Trainable params: 5,936,062\n",
      "Non-trainable params: 0\n",
      "__________________________________________________________________________________________________\n"
     ]
    }
   ],
   "source": [
    "x = tf.reshape(x,(-1, PROCESSING_INFO['padding_lengths'][SEQ], len(idx_to_char)))\n",
    "\n",
    "x = tf.keras.activations.softmax(x)\n",
    "\n",
    "model = tf.keras.Model(inputs=input_layers_list, outputs=x, name='mmproteo')\n",
    "model.compile(optimizer=tf.keras.optimizers.Adam(),\n",
    "              loss=tf.keras.losses.SparseCategoricalCrossentropy(),#masked_loss,\n",
    "              metrics=[\n",
    "                  tf.keras.metrics.SparseCategoricalAccuracy(),\n",
    "                  tf.keras.metrics.SparseCategoricalCrossentropy()\n",
    "              ]\n",
    "             )\n",
    "model.summary()"
   ]
  },
  {
   "cell_type": "markdown",
   "id": "beautiful-queue",
   "metadata": {},
   "source": [
    "## Training the Tensorflow Model"
   ]
  },
  {
   "cell_type": "code",
   "execution_count": 28,
   "id": "630d443e",
   "metadata": {},
   "outputs": [],
   "source": [
    "# Load the TensorBoard notebook extension\n",
    "%load_ext tensorboard"
   ]
  },
  {
   "cell_type": "code",
   "execution_count": 29,
   "id": "05152e65",
   "metadata": {},
   "outputs": [
    {
     "data": {
      "text/plain": [
       "'/tf/workspace/dumps/PXD010000/tensorboard/logs'"
      ]
     },
     "execution_count": 29,
     "metadata": {},
     "output_type": "execute_result"
    }
   ],
   "source": [
    "TENSORBOARD_LOG_DIR = os.path.join(DUMP_PATH, \"tensorboard\", \"logs\")\n",
    "os.path.realpath(TENSORBOARD_LOG_DIR)"
   ]
  },
  {
   "cell_type": "code",
   "execution_count": 30,
   "id": "fe45638f",
   "metadata": {
    "scrolled": true
   },
   "outputs": [
    {
     "data": {
      "text/plain": [
       "Reusing TensorBoard on port 6006 (pid 109), started 3 days, 20:17:01 ago. (Use '!kill 109' to kill it.)"
      ]
     },
     "metadata": {},
     "output_type": "display_data"
    },
    {
     "data": {
      "text/html": [
       "\n",
       "      <iframe id=\"tensorboard-frame-9dd14cf063172e65\" width=\"100%\" height=\"800\" frameborder=\"0\">\n",
       "      </iframe>\n",
       "      <script>\n",
       "        (function() {\n",
       "          const frame = document.getElementById(\"tensorboard-frame-9dd14cf063172e65\");\n",
       "          const url = new URL(\"/\", window.location);\n",
       "          const port = 6006;\n",
       "          if (port) {\n",
       "            url.port = port;\n",
       "          }\n",
       "          frame.src = url;\n",
       "        })();\n",
       "      </script>\n",
       "    "
      ],
      "text/plain": [
       "<IPython.core.display.HTML object>"
      ]
     },
     "metadata": {},
     "output_type": "display_data"
    }
   ],
   "source": [
    "%tensorboard --logdir $TENSORBOARD_LOG_DIR --bind_all"
   ]
  },
  {
   "cell_type": "code",
   "execution_count": 40,
   "id": "funded-commons",
   "metadata": {
    "scrolled": false
   },
   "outputs": [
    {
     "name": "stdout",
     "output_type": "stream",
     "text": [
      "Epoch 1/3\n",
      "1000/1000 [==============================] - 917s 916ms/step - loss: 1.1309 - sparse_categorical_accuracy: 0.6957 - sparse_categorical_crossentropy: 1.1309 - val_loss: 1.0446 - val_sparse_categorical_accuracy: 0.7225 - val_sparse_categorical_crossentropy: 1.0446\n",
      "Epoch 2/3\n",
      "1000/1000 [==============================] - 916s 916ms/step - loss: 1.2074 - sparse_categorical_accuracy: 0.6788 - sparse_categorical_crossentropy: 1.2074 - val_loss: 1.0361 - val_sparse_categorical_accuracy: 0.7222 - val_sparse_categorical_crossentropy: 1.0361\n",
      "Epoch 3/3\n",
      "1000/1000 [==============================] - 916s 916ms/step - loss: 1.2240 - sparse_categorical_accuracy: 0.6766 - sparse_categorical_crossentropy: 1.2240 - val_loss: 1.0372 - val_sparse_categorical_accuracy: 0.7229 - val_sparse_categorical_crossentropy: 1.0372\n"
     ]
    },
    {
     "data": {
      "text/plain": [
       "<tensorflow.python.keras.callbacks.History at 0x7fc09a9d4f98>"
      ]
     },
     "execution_count": 40,
     "metadata": {},
     "output_type": "execute_result"
    }
   ],
   "source": [
    "model.fit(x=datasets[TRAINING_TYPE].repeat(),\n",
    "          validation_data=datasets[TEST_TYPE].repeat(), \n",
    "          validation_steps=500,\n",
    "          epochs=3,\n",
    "          steps_per_epoch=1_000,\n",
    "          callbacks=[\n",
    "              callbacks.create_tensorboard_callback(\n",
    "                  tensorboard_log_dir = TENSORBOARD_LOG_DIR,\n",
    "                  keep_logs = KEEP_CACHE\n",
    "              )\n",
    "          ]\n",
    "         )"
   ]
  },
  {
   "cell_type": "markdown",
   "id": "spatial-laser",
   "metadata": {},
   "source": [
    "## Evaluating the Tensorflow Model"
   ]
  },
  {
   "cell_type": "code",
   "execution_count": 41,
   "id": "9aab9299",
   "metadata": {},
   "outputs": [],
   "source": [
    "decode_idx: Callable[[np.ndarray], np.ndarray] = np.vectorize(idx_to_char.get)"
   ]
  },
  {
   "cell_type": "code",
   "execution_count": 42,
   "id": "3013c477",
   "metadata": {},
   "outputs": [],
   "source": [
    "evaluator = evaluation.SequenceEvaluator(\n",
    "    dataset=datasets[EVAL_TYPE],\n",
    "    decode_func=decode_idx,\n",
    "    batch_size=BATCH_SIZE,\n",
    "    separator=\" \",\n",
    "    padding_character=PROCESSING_INFO['padding_characters'][SEQ],\n",
    ")"
   ]
  },
  {
   "cell_type": "code",
   "execution_count": 43,
   "id": "5a30b848",
   "metadata": {},
   "outputs": [
    {
     "name": "stdout",
     "output_type": "stream",
     "text": [
      "1250/1250 [==============================] - 289s 230ms/step - loss: 1.0336 - sparse_categorical_accuracy: 0.7212 - sparse_categorical_crossentropy: 1.0336\n"
     ]
    },
    {
     "data": {
      "text/plain": [
       "[1.0335773229599, 0.7211865186691284, 1.0335770845413208]"
      ]
     },
     "execution_count": 43,
     "metadata": {},
     "output_type": "execute_result"
    }
   ],
   "source": [
    "evaluator.evaluate_model(model)"
   ]
  },
  {
   "cell_type": "code",
   "execution_count": 44,
   "id": "917eb62e",
   "metadata": {},
   "outputs": [
    {
     "data": {
      "text/html": [
       "<div>\n",
       "<style scoped>\n",
       "    .dataframe tbody tr th:only-of-type {\n",
       "        vertical-align: middle;\n",
       "    }\n",
       "\n",
       "    .dataframe tbody tr th {\n",
       "        vertical-align: top;\n",
       "    }\n",
       "\n",
       "    .dataframe thead th {\n",
       "        text-align: right;\n",
       "    }\n",
       "</style>\n",
       "<table border=\"1\" class=\"dataframe\">\n",
       "  <thead>\n",
       "    <tr style=\"text-align: right;\">\n",
       "      <th></th>\n",
       "      <th>predicted</th>\n",
       "      <th>true</th>\n",
       "    </tr>\n",
       "  </thead>\n",
       "  <tbody>\n",
       "    <tr>\n",
       "      <th>0</th>\n",
       "      <td>A A A A A A A A A _ _ _ _ _ _ _ _ _ _ _ _ _ _ _ _ _ _ _ _ _ _</td>\n",
       "      <td>E V G S L Q C T K G G P I V M(Oxidation) V Q C E N E F G S Y V A Q R K</td>\n",
       "    </tr>\n",
       "    <tr>\n",
       "      <th>1</th>\n",
       "      <td>A A A A A A A A A _ _ _ _ _ _ _ _</td>\n",
       "      <td>N K T Q E E T P K K R P Y N L R</td>\n",
       "    </tr>\n",
       "    <tr>\n",
       "      <th>2</th>\n",
       "      <td>A A A A A A A A A _ _ _ _ _ _ _ _</td>\n",
       "      <td>I W V D N H T Y Q V N E D A S K</td>\n",
       "    </tr>\n",
       "    <tr>\n",
       "      <th>3</th>\n",
       "      <td>A A A A A A A A A _ _</td>\n",
       "      <td>K A M V D H L Q E R</td>\n",
       "    </tr>\n",
       "    <tr>\n",
       "      <th>4</th>\n",
       "      <td>A A A A A A A A A _ _</td>\n",
       "      <td>N Y L P Q E L K E K</td>\n",
       "    </tr>\n",
       "    <tr>\n",
       "      <th>5</th>\n",
       "      <td>A A A A A A A A A _</td>\n",
       "      <td>N R Q D V L D I R</td>\n",
       "    </tr>\n",
       "    <tr>\n",
       "      <th>6</th>\n",
       "      <td>A A A A A A A A A _ _ _</td>\n",
       "      <td>H S G M I Q A S E L K</td>\n",
       "    </tr>\n",
       "    <tr>\n",
       "      <th>7</th>\n",
       "      <td>A A A A A A A A A _ _ _ _</td>\n",
       "      <td>Y I T D I M(Oxidation) P A A N T K</td>\n",
       "    </tr>\n",
       "    <tr>\n",
       "      <th>8</th>\n",
       "      <td>A A A A A A A A A _ _ _ _</td>\n",
       "      <td>K P L D T W V N P E Q R</td>\n",
       "    </tr>\n",
       "    <tr>\n",
       "      <th>9</th>\n",
       "      <td>A A A A A A A A A _ _ _ _ _ _ _ _ _ _ _ _</td>\n",
       "      <td>L G E D N I N V V E G N E Q F I S A S K</td>\n",
       "    </tr>\n",
       "    <tr>\n",
       "      <th>10</th>\n",
       "      <td>A A A A A A A A A _ _ _</td>\n",
       "      <td>I L E D A G V G F I K</td>\n",
       "    </tr>\n",
       "    <tr>\n",
       "      <th>11</th>\n",
       "      <td>A A A A A A A A A _</td>\n",
       "      <td>A N T L Q T N F R</td>\n",
       "    </tr>\n",
       "    <tr>\n",
       "      <th>12</th>\n",
       "      <td>A A A A A A A A A _ _ _ _ _ _</td>\n",
       "      <td>E A K D M V D G A P S V V K</td>\n",
       "    </tr>\n",
       "    <tr>\n",
       "      <th>13</th>\n",
       "      <td>A A A A A A A A A _ _ _ _</td>\n",
       "      <td>I K E W E L Q Q S L E R</td>\n",
       "    </tr>\n",
       "    <tr>\n",
       "      <th>14</th>\n",
       "      <td>A A A A A A A A A _ _</td>\n",
       "      <td>L G L D E E H F Y K</td>\n",
       "    </tr>\n",
       "    <tr>\n",
       "      <th>15</th>\n",
       "      <td>A A A A A A A A A _ _</td>\n",
       "      <td>N A V F T L E S Y R</td>\n",
       "    </tr>\n",
       "    <tr>\n",
       "      <th>16</th>\n",
       "      <td>A A A A A A A A A</td>\n",
       "      <td>V F I K Q D Q K</td>\n",
       "    </tr>\n",
       "    <tr>\n",
       "      <th>17</th>\n",
       "      <td>A A A A A A A A A _ _ _ _ _ _ _ _ _ _ _ _ _ _ _ _</td>\n",
       "      <td>K R P N V V T L P S G L Q Y E V I T E G T G K K</td>\n",
       "    </tr>\n",
       "    <tr>\n",
       "      <th>18</th>\n",
       "      <td>A A A A A A A A A _</td>\n",
       "      <td>I Y L Q P N E S R</td>\n",
       "    </tr>\n",
       "    <tr>\n",
       "      <th>19</th>\n",
       "      <td>A A A A A A A A A _</td>\n",
       "      <td>L Q N V P T S P R</td>\n",
       "    </tr>\n",
       "  </tbody>\n",
       "</table>\n",
       "</div>"
      ],
      "text/plain": [
       "                                                        predicted  \\\n",
       "0   A A A A A A A A A _ _ _ _ _ _ _ _ _ _ _ _ _ _ _ _ _ _ _ _ _ _   \n",
       "1                               A A A A A A A A A _ _ _ _ _ _ _ _   \n",
       "2                               A A A A A A A A A _ _ _ _ _ _ _ _   \n",
       "3                                           A A A A A A A A A _ _   \n",
       "4                                           A A A A A A A A A _ _   \n",
       "5                                             A A A A A A A A A _   \n",
       "6                                         A A A A A A A A A _ _ _   \n",
       "7                                       A A A A A A A A A _ _ _ _   \n",
       "8                                       A A A A A A A A A _ _ _ _   \n",
       "9                       A A A A A A A A A _ _ _ _ _ _ _ _ _ _ _ _   \n",
       "10                                        A A A A A A A A A _ _ _   \n",
       "11                                            A A A A A A A A A _   \n",
       "12                                  A A A A A A A A A _ _ _ _ _ _   \n",
       "13                                      A A A A A A A A A _ _ _ _   \n",
       "14                                          A A A A A A A A A _ _   \n",
       "15                                          A A A A A A A A A _ _   \n",
       "16                                              A A A A A A A A A   \n",
       "17              A A A A A A A A A _ _ _ _ _ _ _ _ _ _ _ _ _ _ _ _   \n",
       "18                                            A A A A A A A A A _   \n",
       "19                                            A A A A A A A A A _   \n",
       "\n",
       "                                                                      true  \n",
       "0   E V G S L Q C T K G G P I V M(Oxidation) V Q C E N E F G S Y V A Q R K  \n",
       "1                                          N K T Q E E T P K K R P Y N L R  \n",
       "2                                          I W V D N H T Y Q V N E D A S K  \n",
       "3                                                      K A M V D H L Q E R  \n",
       "4                                                      N Y L P Q E L K E K  \n",
       "5                                                        N R Q D V L D I R  \n",
       "6                                                    H S G M I Q A S E L K  \n",
       "7                                       Y I T D I M(Oxidation) P A A N T K  \n",
       "8                                                  K P L D T W V N P E Q R  \n",
       "9                                  L G E D N I N V V E G N E Q F I S A S K  \n",
       "10                                                   I L E D A G V G F I K  \n",
       "11                                                       A N T L Q T N F R  \n",
       "12                                             E A K D M V D G A P S V V K  \n",
       "13                                                 I K E W E L Q Q S L E R  \n",
       "14                                                     L G L D E E H F Y K  \n",
       "15                                                     N A V F T L E S Y R  \n",
       "16                                                         V F I K Q D Q K  \n",
       "17                         K R P N V V T L P S G L Q Y E V I T E G T G K K  \n",
       "18                                                       I Y L Q P N E S R  \n",
       "19                                                       L Q N V P T S P R  "
      ]
     },
     "execution_count": 44,
     "metadata": {},
     "output_type": "execute_result"
    }
   ],
   "source": [
    "eval_df, (x_eval, y_eval, y_pred) = evaluator.evaluate_model_visually(\n",
    "    model=model,\n",
    "    sample_size=20,\n",
    "    keep_separator=True,\n",
    ")\n",
    "eval_df"
   ]
  },
  {
   "cell_type": "code",
   "execution_count": 45,
   "id": "44bf7530",
   "metadata": {},
   "outputs": [
    {
     "name": "stdout",
     "output_type": "stream",
     "text": [
      "A A A A A A A A A _ _ _ _ _ _ _ _ _ _ _ _ _ _ _ _ _ _ _ _ _ _\n",
      "A A A A A A A A A _ _ _ _ _ _ _ _\n",
      "A A A A A A A A A _ _ _ _ _ _ _ _\n",
      "A A A A A A A A A _ _\n",
      "A A A A A A A A A _ _\n",
      "A A A A A A A A A _\n",
      "A A A A A A A A A _ _ _\n",
      "A A A A A A A A A _ _ _ _\n",
      "A A A A A A A A A _ _ _ _\n",
      "A A A A A A A A A _ _ _ _ _ _ _ _ _ _ _ _\n",
      "A A A A A A A A A _ _ _\n",
      "A A A A A A A A A _\n",
      "A A A A A A A A A _ _ _ _ _ _\n",
      "A A A A A A A A A _ _ _ _\n",
      "A A A A A A A A A _ _\n",
      "A A A A A A A A A _ _\n",
      "A A A A A A A A A\n",
      "A A A A A A A A A _ _ _ _ _ _ _ _ _ _ _ _ _ _ _ _\n",
      "A A A A A A A A A _\n",
      "A A A A A A A A A _\n"
     ]
    }
   ],
   "source": [
    "eval_df.predicted.map(print)\n",
    "None"
   ]
  },
  {
   "cell_type": "markdown",
   "id": "e6d87b01",
   "metadata": {},
   "source": [
    "broken loss function?"
   ]
  },
  {
   "cell_type": "code",
   "execution_count": 37,
   "id": "0caff47e",
   "metadata": {},
   "outputs": [
    {
     "data": {
      "text/plain": [
       "array([ 0,  0, 18,  0,  0,  0,  0,  0,  0, 21, 21, 21, 21, 21, 21, 21, 21,\n",
       "       21, 21, 21, 21, 21, 21, 21, 21, 21, 21, 21, 21, 21, 21, 21, 21, 21,\n",
       "       21, 21, 21, 21, 21, 21, 21, 21, 21, 21, 21, 21, 21, 21, 21, 21])"
      ]
     },
     "execution_count": 37,
     "metadata": {},
     "output_type": "execute_result"
    }
   ],
   "source": [
    "np.argmax(y_pred[0], axis=1)"
   ]
  },
  {
   "cell_type": "code",
   "execution_count": 38,
   "id": "ad9fb39f",
   "metadata": {},
   "outputs": [
    {
     "data": {
      "text/plain": [
       "(32, 50, 22)"
      ]
     },
     "execution_count": 38,
     "metadata": {},
     "output_type": "execute_result"
    }
   ],
   "source": [
    "model.predict(datasets[EVAL_TYPE].take(1)).shape"
   ]
  },
  {
   "cell_type": "code",
   "execution_count": 39,
   "id": "900bef38",
   "metadata": {},
   "outputs": [
    {
     "data": {
      "text/plain": [
       "(20, 50, 22)"
      ]
     },
     "execution_count": 39,
     "metadata": {},
     "output_type": "execute_result"
    }
   ],
   "source": [
    "y_pred.shape"
   ]
  },
  {
   "cell_type": "code",
   "execution_count": 46,
   "id": "9515599e",
   "metadata": {},
   "outputs": [
    {
     "data": {
      "text/plain": [
       "array([[[1.2700804e-01, 1.1757603e-03, 4.3611769e-02, ...,\n",
       "         8.0585908e-03, 2.8152566e-02, 1.5297088e-06],\n",
       "        [1.3558742e-01, 2.5996319e-03, 3.9417513e-02, ...,\n",
       "         6.0903039e-03, 3.3834171e-02, 1.5502601e-06],\n",
       "        [1.2859781e-01, 2.8369194e-03, 8.2352206e-02, ...,\n",
       "         5.3908275e-03, 2.7533930e-02, 1.4438237e-06],\n",
       "        ...,\n",
       "        [7.6850076e-05, 1.4050021e-06, 1.8950088e-06, ...,\n",
       "         1.4758485e-06, 7.7825352e-06, 9.9878353e-01],\n",
       "        [6.3071297e-05, 5.2118128e-05, 1.3421746e-06, ...,\n",
       "         1.2822607e-06, 1.3108994e-06, 9.9941170e-01],\n",
       "        [3.6003006e-05, 1.0142294e-06, 9.5947678e-07, ...,\n",
       "         9.8051567e-07, 9.4997858e-07, 9.9976987e-01]],\n",
       "\n",
       "       [[1.2700804e-01, 1.1757603e-03, 4.3611769e-02, ...,\n",
       "         8.0585908e-03, 2.8152566e-02, 1.5297088e-06],\n",
       "        [1.3558742e-01, 2.5996319e-03, 3.9417513e-02, ...,\n",
       "         6.0903039e-03, 3.3834171e-02, 1.5502601e-06],\n",
       "        [1.2859781e-01, 2.8369194e-03, 8.2352206e-02, ...,\n",
       "         5.3908275e-03, 2.7533930e-02, 1.4438237e-06],\n",
       "        ...,\n",
       "        [7.6850076e-05, 1.4050021e-06, 1.8950088e-06, ...,\n",
       "         1.4758485e-06, 7.7825352e-06, 9.9878353e-01],\n",
       "        [6.3071297e-05, 5.2118128e-05, 1.3421746e-06, ...,\n",
       "         1.2822607e-06, 1.3108994e-06, 9.9941170e-01],\n",
       "        [3.6003006e-05, 1.0142294e-06, 9.5947678e-07, ...,\n",
       "         9.8051567e-07, 9.4997858e-07, 9.9976987e-01]],\n",
       "\n",
       "       [[1.2700804e-01, 1.1757603e-03, 4.3611769e-02, ...,\n",
       "         8.0585908e-03, 2.8152566e-02, 1.5297088e-06],\n",
       "        [1.3558742e-01, 2.5996319e-03, 3.9417513e-02, ...,\n",
       "         6.0903039e-03, 3.3834171e-02, 1.5502601e-06],\n",
       "        [1.2859781e-01, 2.8369194e-03, 8.2352206e-02, ...,\n",
       "         5.3908275e-03, 2.7533930e-02, 1.4438237e-06],\n",
       "        ...,\n",
       "        [7.6850076e-05, 1.4050021e-06, 1.8950088e-06, ...,\n",
       "         1.4758485e-06, 7.7825352e-06, 9.9878353e-01],\n",
       "        [6.3071297e-05, 5.2118128e-05, 1.3421746e-06, ...,\n",
       "         1.2822607e-06, 1.3108994e-06, 9.9941170e-01],\n",
       "        [3.6003006e-05, 1.0142294e-06, 9.5947678e-07, ...,\n",
       "         9.8051567e-07, 9.4997858e-07, 9.9976987e-01]],\n",
       "\n",
       "       ...,\n",
       "\n",
       "       [[1.2700804e-01, 1.1757603e-03, 4.3611769e-02, ...,\n",
       "         8.0585908e-03, 2.8152566e-02, 1.5297088e-06],\n",
       "        [1.3558742e-01, 2.5996319e-03, 3.9417513e-02, ...,\n",
       "         6.0903039e-03, 3.3834171e-02, 1.5502601e-06],\n",
       "        [1.2859781e-01, 2.8369194e-03, 8.2352206e-02, ...,\n",
       "         5.3908275e-03, 2.7533930e-02, 1.4438237e-06],\n",
       "        ...,\n",
       "        [7.6850076e-05, 1.4050021e-06, 1.8950088e-06, ...,\n",
       "         1.4758485e-06, 7.7825352e-06, 9.9878353e-01],\n",
       "        [6.3071297e-05, 5.2118128e-05, 1.3421746e-06, ...,\n",
       "         1.2822607e-06, 1.3108994e-06, 9.9941170e-01],\n",
       "        [3.6003006e-05, 1.0142294e-06, 9.5947678e-07, ...,\n",
       "         9.8051567e-07, 9.4997858e-07, 9.9976987e-01]],\n",
       "\n",
       "       [[1.2700804e-01, 1.1757603e-03, 4.3611769e-02, ...,\n",
       "         8.0585908e-03, 2.8152566e-02, 1.5297088e-06],\n",
       "        [1.3558742e-01, 2.5996319e-03, 3.9417513e-02, ...,\n",
       "         6.0903039e-03, 3.3834171e-02, 1.5502601e-06],\n",
       "        [1.2859781e-01, 2.8369194e-03, 8.2352206e-02, ...,\n",
       "         5.3908275e-03, 2.7533930e-02, 1.4438237e-06],\n",
       "        ...,\n",
       "        [7.6850076e-05, 1.4050021e-06, 1.8950088e-06, ...,\n",
       "         1.4758485e-06, 7.7825352e-06, 9.9878353e-01],\n",
       "        [6.3071297e-05, 5.2118128e-05, 1.3421746e-06, ...,\n",
       "         1.2822607e-06, 1.3108994e-06, 9.9941170e-01],\n",
       "        [3.6003006e-05, 1.0142294e-06, 9.5947678e-07, ...,\n",
       "         9.8051567e-07, 9.4997858e-07, 9.9976987e-01]],\n",
       "\n",
       "       [[1.2700804e-01, 1.1757603e-03, 4.3611769e-02, ...,\n",
       "         8.0585908e-03, 2.8152566e-02, 1.5297088e-06],\n",
       "        [1.3558742e-01, 2.5996319e-03, 3.9417513e-02, ...,\n",
       "         6.0903039e-03, 3.3834171e-02, 1.5502601e-06],\n",
       "        [1.2859781e-01, 2.8369194e-03, 8.2352206e-02, ...,\n",
       "         5.3908275e-03, 2.7533930e-02, 1.4438237e-06],\n",
       "        ...,\n",
       "        [7.6850076e-05, 1.4050021e-06, 1.8950088e-06, ...,\n",
       "         1.4758485e-06, 7.7825352e-06, 9.9878353e-01],\n",
       "        [6.3071297e-05, 5.2118128e-05, 1.3421746e-06, ...,\n",
       "         1.2822607e-06, 1.3108994e-06, 9.9941170e-01],\n",
       "        [3.6003006e-05, 1.0142294e-06, 9.5947678e-07, ...,\n",
       "         9.8051567e-07, 9.4997858e-07, 9.9976987e-01]]], dtype=float32)"
      ]
     },
     "execution_count": 46,
     "metadata": {},
     "output_type": "execute_result"
    }
   ],
   "source": [
    "y_pred"
   ]
  },
  {
   "cell_type": "code",
   "execution_count": null,
   "id": "052447fc",
   "metadata": {},
   "outputs": [],
   "source": []
  }
 ],
 "metadata": {
  "kernelspec": {
   "display_name": "Python 3",
   "language": "python",
   "name": "python3"
  },
  "language_info": {
   "codemirror_mode": {
    "name": "ipython",
    "version": 3
   },
   "file_extension": ".py",
   "mimetype": "text/x-python",
   "name": "python",
   "nbconvert_exporter": "python",
   "pygments_lexer": "ipython3",
   "version": "3.6.9"
  }
 },
 "nbformat": 4,
 "nbformat_minor": 5
}
