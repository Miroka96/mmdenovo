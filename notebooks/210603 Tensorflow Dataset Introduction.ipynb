{
 "cells": [
  {
   "cell_type": "markdown",
   "id": "6bcf7626",
   "metadata": {},
   "source": [
    "# Scalable Tensorflow Dataset Introduction"
   ]
  },
  {
   "cell_type": "code",
   "execution_count": 1,
   "id": "58b238ae",
   "metadata": {},
   "outputs": [],
   "source": [
    "import os\n",
    "import tensorflow as tf\n",
    "import tensorflow_datasets as tfds\n",
    "import pandas as pd\n",
    "import numpy as np"
   ]
  },
  {
   "cell_type": "markdown",
   "id": "256d26c2",
   "metadata": {},
   "source": [
    "## Datasets, Pandas, and Numpy"
   ]
  },
  {
   "cell_type": "code",
   "execution_count": 2,
   "id": "8cae8f4c",
   "metadata": {},
   "outputs": [
    {
     "data": {
      "text/html": [
       "<div>\n",
       "<style scoped>\n",
       "    .dataframe tbody tr th:only-of-type {\n",
       "        vertical-align: middle;\n",
       "    }\n",
       "\n",
       "    .dataframe tbody tr th {\n",
       "        vertical-align: top;\n",
       "    }\n",
       "\n",
       "    .dataframe thead th {\n",
       "        text-align: right;\n",
       "    }\n",
       "</style>\n",
       "<table border=\"1\" class=\"dataframe\">\n",
       "  <thead>\n",
       "    <tr style=\"text-align: right;\">\n",
       "      <th></th>\n",
       "      <th>0</th>\n",
       "    </tr>\n",
       "  </thead>\n",
       "  <tbody>\n",
       "    <tr>\n",
       "      <th>0</th>\n",
       "      <td>0</td>\n",
       "    </tr>\n",
       "    <tr>\n",
       "      <th>1</th>\n",
       "      <td>1</td>\n",
       "    </tr>\n",
       "    <tr>\n",
       "      <th>2</th>\n",
       "      <td>2</td>\n",
       "    </tr>\n",
       "    <tr>\n",
       "      <th>3</th>\n",
       "      <td>3</td>\n",
       "    </tr>\n",
       "    <tr>\n",
       "      <th>4</th>\n",
       "      <td>4</td>\n",
       "    </tr>\n",
       "    <tr>\n",
       "      <th>5</th>\n",
       "      <td>5</td>\n",
       "    </tr>\n",
       "    <tr>\n",
       "      <th>6</th>\n",
       "      <td>6</td>\n",
       "    </tr>\n",
       "    <tr>\n",
       "      <th>7</th>\n",
       "      <td>7</td>\n",
       "    </tr>\n",
       "    <tr>\n",
       "      <th>8</th>\n",
       "      <td>8</td>\n",
       "    </tr>\n",
       "    <tr>\n",
       "      <th>9</th>\n",
       "      <td>9</td>\n",
       "    </tr>\n",
       "  </tbody>\n",
       "</table>\n",
       "</div>"
      ],
      "text/plain": [
       "   0\n",
       "0  0\n",
       "1  1\n",
       "2  2\n",
       "3  3\n",
       "4  4\n",
       "5  5\n",
       "6  6\n",
       "7  7\n",
       "8  8\n",
       "9  9"
      ]
     },
     "execution_count": 2,
     "metadata": {},
     "output_type": "execute_result"
    }
   ],
   "source": [
    "df = pd.DataFrame(range(10))\n",
    "df"
   ]
  },
  {
   "cell_type": "code",
   "execution_count": 3,
   "id": "2425cf89",
   "metadata": {},
   "outputs": [
    {
     "data": {
      "text/plain": [
       "array([[0],\n",
       "       [1],\n",
       "       [2],\n",
       "       [3],\n",
       "       [4],\n",
       "       [5],\n",
       "       [6],\n",
       "       [7],\n",
       "       [8],\n",
       "       [9]])"
      ]
     },
     "execution_count": 3,
     "metadata": {},
     "output_type": "execute_result"
    }
   ],
   "source": [
    "df.values"
   ]
  },
  {
   "cell_type": "code",
   "execution_count": 4,
   "id": "3f335ee7",
   "metadata": {},
   "outputs": [
    {
     "data": {
      "text/plain": [
       "numpy.ndarray"
      ]
     },
     "execution_count": 4,
     "metadata": {},
     "output_type": "execute_result"
    }
   ],
   "source": [
    "type(df.values)"
   ]
  },
  {
   "cell_type": "code",
   "execution_count": 5,
   "id": "4444c51d",
   "metadata": {},
   "outputs": [
    {
     "data": {
      "text/plain": [
       "<TensorSliceDataset shapes: (1,), types: tf.int64>"
      ]
     },
     "execution_count": 5,
     "metadata": {},
     "output_type": "execute_result"
    }
   ],
   "source": [
    "tf.data.Dataset.from_tensor_slices(df)"
   ]
  },
  {
   "cell_type": "code",
   "execution_count": 6,
   "id": "bc60bab4",
   "metadata": {},
   "outputs": [
    {
     "data": {
      "text/plain": [
       "[array([0]),\n",
       " array([1]),\n",
       " array([2]),\n",
       " array([3]),\n",
       " array([4]),\n",
       " array([5]),\n",
       " array([6]),\n",
       " array([7]),\n",
       " array([8]),\n",
       " array([9])]"
      ]
     },
     "execution_count": 6,
     "metadata": {},
     "output_type": "execute_result"
    }
   ],
   "source": [
    "ds_from_tensor_slices = tf.data.Dataset.from_tensor_slices(df)\n",
    "list(ds_from_tensor_slices.as_numpy_iterator())"
   ]
  },
  {
   "cell_type": "code",
   "execution_count": 7,
   "id": "76456fc3",
   "metadata": {},
   "outputs": [
    {
     "data": {
      "text/plain": [
       "[array([[0],\n",
       "        [1],\n",
       "        [2],\n",
       "        [3],\n",
       "        [4],\n",
       "        [5],\n",
       "        [6],\n",
       "        [7],\n",
       "        [8],\n",
       "        [9]])]"
      ]
     },
     "execution_count": 7,
     "metadata": {},
     "output_type": "execute_result"
    }
   ],
   "source": [
    "ds_from_tensors = tf.data.Dataset.from_tensors(df)\n",
    "list(ds_from_tensors.as_numpy_iterator())"
   ]
  },
  {
   "cell_type": "code",
   "execution_count": 8,
   "id": "a9c75cea",
   "metadata": {},
   "outputs": [
    {
     "name": "stdout",
     "output_type": "stream",
     "text": [
      "0th element from ds from tensor slices: [0]\n",
      "\n",
      "0th element from ds from tensors: [[0]\n",
      " [1]\n",
      " [2]\n",
      " [3]\n",
      " [4]\n",
      " [5]\n",
      " [6]\n",
      " [7]\n",
      " [8]\n",
      " [9]]\n"
     ]
    }
   ],
   "source": [
    "print(\"0th element from ds from tensor slices:\", next(ds_from_tensor_slices.as_numpy_iterator()))\n",
    "print()\n",
    "print(\"0th element from ds from tensors:\", next(ds_from_tensors.as_numpy_iterator()))"
   ]
  },
  {
   "cell_type": "code",
   "execution_count": 9,
   "id": "5195b8db",
   "metadata": {},
   "outputs": [
    {
     "name": "stdout",
     "output_type": "stream",
     "text": [
      "<TensorSliceDataset shapes: (), types: tf.int32>\n",
      "[0, 1, 2, 3, 4, 5, 6, 7, 8, 9]\n"
     ]
    }
   ],
   "source": [
    "range_ds = tf.data.Dataset.from_tensor_slices(list(range(10)))\n",
    "print(range_ds)\n",
    "print(list(range_ds.as_numpy_iterator()))"
   ]
  },
  {
   "cell_type": "code",
   "execution_count": 10,
   "id": "52686867",
   "metadata": {},
   "outputs": [],
   "source": [
    "def print_ds(ds: tf.data.Dataset) -> None:\n",
    "    print(list(ds.as_numpy_iterator()))"
   ]
  },
  {
   "cell_type": "code",
   "execution_count": 11,
   "id": "336fb244",
   "metadata": {},
   "outputs": [
    {
     "name": "stdout",
     "output_type": "stream",
     "text": [
      "<InterleaveDataset shapes: (), types: tf.int32>\n",
      "[0, 0, 0, 0, 0, 0, 0, 0, 1, 1, 1, 1, 1, 1, 1, 0, 2, 2, 2, 2, 2, 2, 1, 3, 3, 3, 3, 3, 2, 4, 4, 4, 4, 3, 5, 5, 5, 4, 6, 6, 5, 7, 6, 7, 8]\n"
     ]
    }
   ],
   "source": [
    "interleaved_ds = range_ds.interleave(lambda i: tf.data.Dataset.from_tensor_slices(range(i)))\n",
    "print(interleaved_ds)\n",
    "print_ds(interleaved_ds)"
   ]
  },
  {
   "cell_type": "code",
   "execution_count": 12,
   "id": "6e492fc6",
   "metadata": {},
   "outputs": [
    {
     "name": "stdout",
     "output_type": "stream",
     "text": [
      "[0, 0, 0, 1, 1, 1, 0, 1, 0, 1, 2, 2, 0, 2, 2, 2, 1, 0, 2, 3, 1, 4, 0, 4, 3, 2, 3, 4, 0, 4, 6, 4, 5, 5, 6, 3, 3, 5, 7, 7, 1, 5, 3, 6, 8]\n",
      "[0, 0, 3, 5, 1, 1, 8, 1, 2, 7, 6, 2, 0, 1, 1, 3, 5, 4, 2, 5, 0, 1, 6, 7, 1, 0, 0, 3, 3, 2, 0, 2, 6, 4, 1, 5, 4, 4, 0, 2, 2, 3, 4, 0, 3]\n"
     ]
    }
   ],
   "source": [
    "print_ds(interleaved_ds.shuffle(buffer_size=10))\n",
    "print_ds(interleaved_ds.shuffle(buffer_size=100))"
   ]
  },
  {
   "cell_type": "code",
   "execution_count": 13,
   "id": "dd884c5c",
   "metadata": {},
   "outputs": [
    {
     "name": "stdout",
     "output_type": "stream",
     "text": [
      "[array([0, 0, 0, 0, 0, 0, 0, 0, 1, 1], dtype=int32), array([1, 1, 1, 1, 1, 0, 2, 2, 2, 2], dtype=int32), array([2, 2, 1, 3, 3, 3, 3, 3, 2, 4], dtype=int32), array([4, 4, 4, 3, 5, 5, 5, 4, 6, 6], dtype=int32), array([5, 7, 6, 7, 8], dtype=int32)]\n"
     ]
    }
   ],
   "source": [
    "print_ds(interleaved_ds.batch(10))"
   ]
  },
  {
   "cell_type": "code",
   "execution_count": 14,
   "id": "eab25c16",
   "metadata": {},
   "outputs": [
    {
     "name": "stdout",
     "output_type": "stream",
     "text": [
      "first batch - then shuffle:\n",
      "[array([0, 0, 0, 0, 0, 0, 0, 0, 1, 1], dtype=int32), array([5, 7, 6, 7, 8], dtype=int32), array([4, 4, 4, 3, 5, 5, 5, 4, 6, 6], dtype=int32), array([1, 1, 1, 1, 1, 0, 2, 2, 2, 2], dtype=int32), array([2, 2, 1, 3, 3, 3, 3, 3, 2, 4], dtype=int32)]\n",
      "\n",
      "first shuffle - then batch:\n",
      "[array([0, 1, 0, 0, 1, 1, 1, 0, 0, 1], dtype=int32), array([2, 2, 0, 1, 2, 0, 0, 2, 1, 0], dtype=int32), array([3, 2, 3, 4, 3, 3, 5, 5, 4, 1], dtype=int32), array([2, 3, 4, 2, 5, 6, 7, 4, 4, 6], dtype=int32), array([7, 5, 3, 6, 8], dtype=int32)]\n"
     ]
    }
   ],
   "source": [
    "print(\"first batch - then shuffle:\")\n",
    "print_ds(interleaved_ds.batch(10).shuffle(10))\n",
    "print()\n",
    "print(\"first shuffle - then batch:\")\n",
    "print_ds(interleaved_ds.shuffle(10).batch(10))"
   ]
  },
  {
   "cell_type": "markdown",
   "id": "f4361373",
   "metadata": {},
   "source": [
    "# Datasets and Generators: What if the data doesn't fit into memory?"
   ]
  },
  {
   "cell_type": "code",
   "execution_count": 15,
   "id": "351c8e4f",
   "metadata": {},
   "outputs": [
    {
     "name": "stdout",
     "output_type": "stream",
     "text": [
      "0\n",
      "1\n",
      "2\n"
     ]
    }
   ],
   "source": [
    "for i in range(3):\n",
    "    print(i)"
   ]
  },
  {
   "cell_type": "code",
   "execution_count": 16,
   "id": "25fe3ece",
   "metadata": {},
   "outputs": [
    {
     "name": "stdout",
     "output_type": "stream",
     "text": [
      "'list' object cannot be interpreted as an integer\n"
     ]
    }
   ],
   "source": [
    "try:\n",
    "    tf.data.Dataset.from_tensor_slices(range(3))\n",
    "except TypeError as e:\n",
    "    print(e)"
   ]
  },
  {
   "cell_type": "code",
   "execution_count": 17,
   "id": "24987faf",
   "metadata": {},
   "outputs": [
    {
     "name": "stdout",
     "output_type": "stream",
     "text": [
      "'list' object cannot be interpreted as an integer\n"
     ]
    }
   ],
   "source": [
    "try:\n",
    "    tf.data.Dataset.from_tensors(range(3))\n",
    "except TypeError as e:\n",
    "    print(e)"
   ]
  },
  {
   "cell_type": "markdown",
   "id": "c289a895",
   "metadata": {},
   "source": [
    "* cannot use tf.data.Dataset.from_tensor_slices\n",
    "* cannot use tf.data.Dataset.from_tensors"
   ]
  },
  {
   "cell_type": "code",
   "execution_count": 18,
   "id": "fb86498e",
   "metadata": {},
   "outputs": [
    {
     "name": "stdout",
     "output_type": "stream",
     "text": [
      "<FlatMapDataset shapes: <unknown>, types: tf.int32>\n",
      "[0, 1, 2]\n"
     ]
    }
   ],
   "source": [
    "def int_generator():\n",
    "    yield from range(3)\n",
    "    \n",
    "ds_from_int_generator = tf.data.Dataset.from_generator(\n",
    "    generator=int_generator,\n",
    "    output_types=tf.int32\n",
    ")\n",
    "print(ds_from_int_generator)\n",
    "print_ds(ds_from_int_generator)"
   ]
  },
  {
   "cell_type": "code",
   "execution_count": 19,
   "id": "793a77f6",
   "metadata": {},
   "outputs": [
    {
     "name": "stdout",
     "output_type": "stream",
     "text": [
      "<FlatMapDataset shapes: (<unknown>, <unknown>), types: (tf.int32, tf.int32)>\n",
      "[(0, 2), (1, 1), (2, 0)]\n"
     ]
    }
   ],
   "source": [
    "def tuple_generator():\n",
    "    yield from zip(range(3), reversed(range(3)))\n",
    "    \n",
    "ds_from_tuple_generator = tf.data.Dataset.from_generator(\n",
    "    generator=tuple_generator,\n",
    "    output_types=(tf.int32, tf.int32)\n",
    ")\n",
    "print(ds_from_tuple_generator)\n",
    "print_ds(ds_from_tuple_generator)"
   ]
  },
  {
   "cell_type": "code",
   "execution_count": 20,
   "id": "faf17ba1",
   "metadata": {},
   "outputs": [
    {
     "data": {
      "application/vnd.jupyter.widget-view+json": {
       "model_id": "3dd58afc0f1641edb1d47fe6e232d473",
       "version_major": 2,
       "version_minor": 0
      },
      "text/plain": [
       "1it [00:00, ?it/s]"
      ]
     },
     "metadata": {},
     "output_type": "display_data"
    },
    {
     "name": "stdout",
     "output_type": "stream",
     "text": [
      "\n",
      "************ Summary ************\n",
      "\n",
      "Examples/sec (First included) 61.69 ex/sec (total: 3 ex, 0.05 sec)\n",
      "Examples/sec (First only) 76.41 ex/sec (total: 1 ex, 0.01 sec)\n",
      "Examples/sec (First excluded) 56.27 ex/sec (total: 2 ex, 0.04 sec)\n"
     ]
    },
    {
     "data": {
      "text/html": [
       "<strong>BenchmarkResult:</strong><br/><div>\n",
       "<style scoped>\n",
       "    .dataframe tbody tr th:only-of-type {\n",
       "        vertical-align: middle;\n",
       "    }\n",
       "\n",
       "    .dataframe tbody tr th {\n",
       "        vertical-align: top;\n",
       "    }\n",
       "\n",
       "    .dataframe thead th {\n",
       "        text-align: right;\n",
       "    }\n",
       "</style>\n",
       "<table border=\"1\" class=\"dataframe\">\n",
       "  <thead>\n",
       "    <tr style=\"text-align: right;\">\n",
       "      <th></th>\n",
       "      <th>duration</th>\n",
       "      <th>num_examples</th>\n",
       "      <th>avg</th>\n",
       "    </tr>\n",
       "  </thead>\n",
       "  <tbody>\n",
       "    <tr>\n",
       "      <th>first+lasts</th>\n",
       "      <td>0.048630</td>\n",
       "      <td>3</td>\n",
       "      <td>61.690266</td>\n",
       "    </tr>\n",
       "    <tr>\n",
       "      <th>first</th>\n",
       "      <td>0.013088</td>\n",
       "      <td>1</td>\n",
       "      <td>76.405132</td>\n",
       "    </tr>\n",
       "    <tr>\n",
       "      <th>lasts</th>\n",
       "      <td>0.035542</td>\n",
       "      <td>2</td>\n",
       "      <td>56.271593</td>\n",
       "    </tr>\n",
       "  </tbody>\n",
       "</table>\n",
       "</div>"
      ],
      "text/plain": [
       "BenchmarkResult(stats=             duration  num_examples        avg\n",
       "first+lasts  0.048630             3  61.690266\n",
       "first        0.013088             1  76.405132\n",
       "lasts        0.035542             2  56.271593, raw_stats=                     duration\n",
       "start_time        2279.247594\n",
       "first_batch_time  2279.260682\n",
       "end_time          2279.296224\n",
       "num_iter             3.000000)"
      ]
     },
     "execution_count": 20,
     "metadata": {},
     "output_type": "execute_result"
    }
   ],
   "source": [
    "tfds.benchmark(ds_from_tuple_generator)"
   ]
  },
  {
   "cell_type": "markdown",
   "id": "3c61f27d",
   "metadata": {},
   "source": [
    "## Attention: Python code can be really slow"
   ]
  },
  {
   "cell_type": "code",
   "execution_count": 21,
   "id": "be87480f",
   "metadata": {},
   "outputs": [
    {
     "name": "stdout",
     "output_type": "stream",
     "text": [
      "from tensor slices:\n"
     ]
    },
    {
     "data": {
      "application/vnd.jupyter.widget-view+json": {
       "model_id": "0dfb3344faf94f3596b56f176eaa1917",
       "version_major": 2,
       "version_minor": 0
      },
      "text/plain": [
       "  0%|          | 1/20000 [00:00<?, ?it/s]"
      ]
     },
     "metadata": {},
     "output_type": "display_data"
    },
    {
     "name": "stdout",
     "output_type": "stream",
     "text": [
      "\n",
      "************ Summary ************\n",
      "\n",
      "Examples/sec (First included) 22205.88 ex/sec (total: 20000 ex, 0.90 sec)\n",
      "Examples/sec (First only) 430.34 ex/sec (total: 1 ex, 0.00 sec)\n",
      "Examples/sec (First excluded) 22262.21 ex/sec (total: 19999 ex, 0.90 sec)\n",
      "\n",
      "\n",
      "from generator:\n"
     ]
    },
    {
     "data": {
      "application/vnd.jupyter.widget-view+json": {
       "model_id": "29362bc9ebba4f4d9a803cacf910ffb0",
       "version_major": 2,
       "version_minor": 0
      },
      "text/plain": [
       "1it [00:00, ?it/s]"
      ]
     },
     "metadata": {},
     "output_type": "display_data"
    },
    {
     "name": "stdout",
     "output_type": "stream",
     "text": [
      "\n",
      "************ Summary ************\n",
      "\n",
      "Examples/sec (First included) 3595.79 ex/sec (total: 20000 ex, 5.56 sec)\n",
      "Examples/sec (First only) 89.72 ex/sec (total: 1 ex, 0.01 sec)\n",
      "Examples/sec (First excluded) 3602.83 ex/sec (total: 19999 ex, 5.55 sec)\n"
     ]
    },
    {
     "data": {
      "text/html": [
       "<strong>BenchmarkResult:</strong><br/><div>\n",
       "<style scoped>\n",
       "    .dataframe tbody tr th:only-of-type {\n",
       "        vertical-align: middle;\n",
       "    }\n",
       "\n",
       "    .dataframe tbody tr th {\n",
       "        vertical-align: top;\n",
       "    }\n",
       "\n",
       "    .dataframe thead th {\n",
       "        text-align: right;\n",
       "    }\n",
       "</style>\n",
       "<table border=\"1\" class=\"dataframe\">\n",
       "  <thead>\n",
       "    <tr style=\"text-align: right;\">\n",
       "      <th></th>\n",
       "      <th>duration</th>\n",
       "      <th>num_examples</th>\n",
       "      <th>avg</th>\n",
       "    </tr>\n",
       "  </thead>\n",
       "  <tbody>\n",
       "    <tr>\n",
       "      <th>first+lasts</th>\n",
       "      <td>5.562064</td>\n",
       "      <td>20000</td>\n",
       "      <td>3595.787343</td>\n",
       "    </tr>\n",
       "    <tr>\n",
       "      <th>first</th>\n",
       "      <td>0.011145</td>\n",
       "      <td>1</td>\n",
       "      <td>89.724217</td>\n",
       "    </tr>\n",
       "    <tr>\n",
       "      <th>lasts</th>\n",
       "      <td>5.550919</td>\n",
       "      <td>19999</td>\n",
       "      <td>3602.826898</td>\n",
       "    </tr>\n",
       "  </tbody>\n",
       "</table>\n",
       "</div>"
      ],
      "text/plain": [
       "BenchmarkResult(stats=             duration  num_examples          avg\n",
       "first+lasts  5.562064         20000  3595.787343\n",
       "first        0.011145             1    89.724217\n",
       "lasts        5.550919         19999  3602.826898, raw_stats=                      duration\n",
       "start_time         2280.226220\n",
       "first_batch_time   2280.237365\n",
       "end_time           2285.788284\n",
       "num_iter          20000.000000)"
      ]
     },
     "execution_count": 21,
     "metadata": {},
     "output_type": "execute_result"
    }
   ],
   "source": [
    "benchmark_size = 2 * 10**4\n",
    "\n",
    "# dataframe in-memory\n",
    "large_df = pd.DataFrame(range(benchmark_size), dtype=np.int32)\n",
    "large_ds_from_tensor_slices = tf.data.Dataset.from_tensor_slices(large_df)\n",
    "\n",
    "# generator in-memory\n",
    "def large_generator():\n",
    "    yield from range(benchmark_size)\n",
    "large_ds_from_generator = tf.data.Dataset.from_generator(\n",
    "    generator=large_generator,\n",
    "    output_types=tf.int32\n",
    ")\n",
    "\n",
    "print(\"from tensor slices:\")\n",
    "tfds.benchmark(large_ds_from_tensor_slices)\n",
    "\n",
    "print()\n",
    "print()\n",
    "\n",
    "print(\"from generator:\")\n",
    "tfds.benchmark(large_ds_from_generator)"
   ]
  },
  {
   "cell_type": "markdown",
   "id": "65d6205a",
   "metadata": {},
   "source": [
    "## The generator is ~7x slower."
   ]
  },
  {
   "cell_type": "code",
   "execution_count": 22,
   "id": "9ff73d47",
   "metadata": {},
   "outputs": [
    {
     "name": "stdout",
     "output_type": "stream",
     "text": [
      "batched from tensor slices:\n"
     ]
    },
    {
     "data": {
      "application/vnd.jupyter.widget-view+json": {
       "model_id": "200ffd893f724f6fac55b5ea953c1722",
       "version_major": 2,
       "version_minor": 0
      },
      "text/plain": [
       "  1%|          | 1/157 [00:00<?, ?it/s]"
      ]
     },
     "metadata": {},
     "output_type": "display_data"
    },
    {
     "name": "stdout",
     "output_type": "stream",
     "text": [
      "\n",
      "************ Summary ************\n",
      "\n",
      "Examples/sec (First included) 3900.59 ex/sec (total: 157 ex, 0.04 sec)\n",
      "Examples/sec (First only) 339.05 ex/sec (total: 1 ex, 0.00 sec)\n",
      "Examples/sec (First excluded) 4182.20 ex/sec (total: 156 ex, 0.04 sec)\n",
      "\n",
      "\n",
      "batched from generator:\n"
     ]
    },
    {
     "data": {
      "application/vnd.jupyter.widget-view+json": {
       "model_id": "8d99aeace69d4f89955eb0925a3e9e19",
       "version_major": 2,
       "version_minor": 0
      },
      "text/plain": [
       "1it [00:00, ?it/s]"
      ]
     },
     "metadata": {},
     "output_type": "display_data"
    },
    {
     "name": "stdout",
     "output_type": "stream",
     "text": [
      "\n",
      "************ Summary ************\n",
      "\n",
      "Examples/sec (First included) 40.59 ex/sec (total: 157 ex, 3.87 sec)\n",
      "Examples/sec (First only) 29.12 ex/sec (total: 1 ex, 0.03 sec)\n",
      "Examples/sec (First excluded) 40.69 ex/sec (total: 156 ex, 3.83 sec)\n"
     ]
    },
    {
     "data": {
      "text/html": [
       "<strong>BenchmarkResult:</strong><br/><div>\n",
       "<style scoped>\n",
       "    .dataframe tbody tr th:only-of-type {\n",
       "        vertical-align: middle;\n",
       "    }\n",
       "\n",
       "    .dataframe tbody tr th {\n",
       "        vertical-align: top;\n",
       "    }\n",
       "\n",
       "    .dataframe thead th {\n",
       "        text-align: right;\n",
       "    }\n",
       "</style>\n",
       "<table border=\"1\" class=\"dataframe\">\n",
       "  <thead>\n",
       "    <tr style=\"text-align: right;\">\n",
       "      <th></th>\n",
       "      <th>duration</th>\n",
       "      <th>num_examples</th>\n",
       "      <th>avg</th>\n",
       "    </tr>\n",
       "  </thead>\n",
       "  <tbody>\n",
       "    <tr>\n",
       "      <th>first+lasts</th>\n",
       "      <td>3.867858</td>\n",
       "      <td>157</td>\n",
       "      <td>40.590939</td>\n",
       "    </tr>\n",
       "    <tr>\n",
       "      <th>first</th>\n",
       "      <td>0.034335</td>\n",
       "      <td>1</td>\n",
       "      <td>29.124558</td>\n",
       "    </tr>\n",
       "    <tr>\n",
       "      <th>lasts</th>\n",
       "      <td>3.833523</td>\n",
       "      <td>156</td>\n",
       "      <td>40.693639</td>\n",
       "    </tr>\n",
       "  </tbody>\n",
       "</table>\n",
       "</div>"
      ],
      "text/plain": [
       "BenchmarkResult(stats=             duration  num_examples        avg\n",
       "first+lasts  3.867858           157  40.590939\n",
       "first        0.034335             1  29.124558\n",
       "lasts        3.833523           156  40.693639, raw_stats=                     duration\n",
       "start_time        2285.841814\n",
       "first_batch_time  2285.876150\n",
       "end_time          2289.709673\n",
       "num_iter           157.000000)"
      ]
     },
     "execution_count": 22,
     "metadata": {},
     "output_type": "execute_result"
    }
   ],
   "source": [
    "print(\"batched from tensor slices:\")\n",
    "tfds.benchmark(large_ds_from_tensor_slices.batch(128))\n",
    "\n",
    "print()\n",
    "print()\n",
    "\n",
    "print(\"batched from generator:\")\n",
    "tfds.benchmark(large_ds_from_generator.batch(128))"
   ]
  },
  {
   "cell_type": "markdown",
   "id": "3eadfc18",
   "metadata": {},
   "source": [
    "## even batched Generators are not that fast...\n",
    "### You can use generators, but they are not optimal... However, nothing is impossible with them!\n",
    "\n",
    "more complex generators:"
   ]
  },
  {
   "cell_type": "code",
   "execution_count": 23,
   "id": "6a9f91de",
   "metadata": {},
   "outputs": [
    {
     "name": "stdout",
     "output_type": "stream",
     "text": [
      "I was run with 'world'!\n"
     ]
    },
    {
     "data": {
      "text/plain": [
       "0"
      ]
     },
     "execution_count": 23,
     "metadata": {},
     "output_type": "execute_result"
    }
   ],
   "source": [
    "# imo the prettiest way to implement 'method classes'\n",
    "\n",
    "class MyGenerator:\n",
    "    def __init__(self, benchmark_size: int) -> None:\n",
    "        self.benchmark_size = benchmark_size\n",
    "    \n",
    "    def __call__(self, msg: str = \"Hello\"):\n",
    "        print(f\"I was run with '{msg}'!\")\n",
    "        yield from range(self.benchmark_size)\n",
    "\n",
    "next(MyGenerator(1)(msg=\"world\"))"
   ]
  },
  {
   "cell_type": "code",
   "execution_count": 24,
   "id": "916c4468",
   "metadata": {},
   "outputs": [
    {
     "name": "stdout",
     "output_type": "stream",
     "text": [
      "I was run with 'Hello'!\n"
     ]
    },
    {
     "data": {
      "application/vnd.jupyter.widget-view+json": {
       "model_id": "691a7cb337e647cd954c4c56af9ff430",
       "version_major": 2,
       "version_minor": 0
      },
      "text/plain": [
       "1it [00:00, ?it/s]"
      ]
     },
     "metadata": {},
     "output_type": "display_data"
    },
    {
     "name": "stdout",
     "output_type": "stream",
     "text": [
      "\n",
      "************ Summary ************\n",
      "\n",
      "Examples/sec (First included) 3478.98 ex/sec (total: 10000 ex, 2.87 sec)\n",
      "Examples/sec (First only) 102.14 ex/sec (total: 1 ex, 0.01 sec)\n",
      "Examples/sec (First excluded) 3490.52 ex/sec (total: 9999 ex, 2.86 sec)\n"
     ]
    },
    {
     "data": {
      "text/html": [
       "<strong>BenchmarkResult:</strong><br/><div>\n",
       "<style scoped>\n",
       "    .dataframe tbody tr th:only-of-type {\n",
       "        vertical-align: middle;\n",
       "    }\n",
       "\n",
       "    .dataframe tbody tr th {\n",
       "        vertical-align: top;\n",
       "    }\n",
       "\n",
       "    .dataframe thead th {\n",
       "        text-align: right;\n",
       "    }\n",
       "</style>\n",
       "<table border=\"1\" class=\"dataframe\">\n",
       "  <thead>\n",
       "    <tr style=\"text-align: right;\">\n",
       "      <th></th>\n",
       "      <th>duration</th>\n",
       "      <th>num_examples</th>\n",
       "      <th>avg</th>\n",
       "    </tr>\n",
       "  </thead>\n",
       "  <tbody>\n",
       "    <tr>\n",
       "      <th>first+lasts</th>\n",
       "      <td>2.874406</td>\n",
       "      <td>10000</td>\n",
       "      <td>3478.979396</td>\n",
       "    </tr>\n",
       "    <tr>\n",
       "      <th>first</th>\n",
       "      <td>0.009791</td>\n",
       "      <td>1</td>\n",
       "      <td>102.137472</td>\n",
       "    </tr>\n",
       "    <tr>\n",
       "      <th>lasts</th>\n",
       "      <td>2.864615</td>\n",
       "      <td>9999</td>\n",
       "      <td>3490.520817</td>\n",
       "    </tr>\n",
       "  </tbody>\n",
       "</table>\n",
       "</div>"
      ],
      "text/plain": [
       "BenchmarkResult(stats=             duration  num_examples          avg\n",
       "first+lasts  2.874406         10000  3478.979396\n",
       "first        0.009791             1   102.137472\n",
       "lasts        2.864615          9999  3490.520817, raw_stats=                      duration\n",
       "start_time         2289.736387\n",
       "first_batch_time   2289.746178\n",
       "end_time           2292.610793\n",
       "num_iter          10000.000000)"
      ]
     },
     "execution_count": 24,
     "metadata": {},
     "output_type": "execute_result"
    }
   ],
   "source": [
    "ds_from_generator_class = tf.data.Dataset.from_generator(\n",
    "    generator=MyGenerator(10**4),\n",
    "    output_types=tf.int32\n",
    ")\n",
    "\n",
    "tfds.benchmark(ds_from_generator_class)"
   ]
  },
  {
   "cell_type": "markdown",
   "id": "e6a01b0f",
   "metadata": {},
   "source": [
    "## Better Option: read Dataset asynchronously from Files\n",
    "### Dump Dataframes into Dataset Files"
   ]
  },
  {
   "cell_type": "code",
   "execution_count": 25,
   "id": "33d3575d",
   "metadata": {},
   "outputs": [],
   "source": [
    "DUMP_PATH_PREFIX = 'test'"
   ]
  },
  {
   "cell_type": "code",
   "execution_count": 26,
   "id": "529d765b",
   "metadata": {},
   "outputs": [
    {
     "name": "stdout",
     "output_type": "stream",
     "text": [
      "rm: cannot remove 'test': No such file or directory\r\n"
     ]
    }
   ],
   "source": [
    "rm -r $DUMP_PATH_PREFIX"
   ]
  },
  {
   "cell_type": "code",
   "execution_count": 27,
   "id": "4c642c57",
   "metadata": {},
   "outputs": [],
   "source": [
    "mkdir $DUMP_PATH_PREFIX"
   ]
  },
  {
   "cell_type": "code",
   "execution_count": 28,
   "id": "eb6329e3",
   "metadata": {},
   "outputs": [],
   "source": [
    "ls $DUMP_PATH_PREFIX"
   ]
  },
  {
   "cell_type": "code",
   "execution_count": 29,
   "id": "46637c56",
   "metadata": {},
   "outputs": [],
   "source": [
    "large_df_for_dumping = pd.DataFrame(range(50_000), dtype=np.int32)\n",
    "large_ds_for_dumping = tf.data.Dataset.from_tensor_slices(large_df_for_dumping)"
   ]
  },
  {
   "cell_type": "code",
   "execution_count": 30,
   "id": "e2aa5d3f",
   "metadata": {},
   "outputs": [
    {
     "data": {
      "text/plain": [
       "50000"
      ]
     },
     "execution_count": 30,
     "metadata": {},
     "output_type": "execute_result"
    }
   ],
   "source": [
    "len(large_ds_for_dumping)"
   ]
  },
  {
   "cell_type": "code",
   "execution_count": 31,
   "id": "f4e656bf",
   "metadata": {},
   "outputs": [
    {
     "name": "stdout",
     "output_type": "stream",
     "text": [
      "<TensorSliceDataset shapes: (1,), types: tf.int64>\n"
     ]
    }
   ],
   "source": [
    "print(large_ds_for_dumping)"
   ]
  },
  {
   "cell_type": "code",
   "execution_count": 32,
   "id": "56d662d1",
   "metadata": {},
   "outputs": [
    {
     "name": "stdout",
     "output_type": "stream",
     "text": [
      "stored to 'test/0.dataset'\n",
      "stored to 'test/1.dataset'\n",
      "stored to 'test/2.dataset'\n",
      "stored to 'test/3.dataset'\n"
     ]
    }
   ],
   "source": [
    "dump_paths = []\n",
    "\n",
    "for i in range(4):\n",
    "    dump_path = os.path.join(DUMP_PATH_PREFIX, f\"{i}.dataset\")\n",
    "    tf.data.experimental.save(\n",
    "        dataset=large_ds_for_dumping,\n",
    "        path=dump_path,\n",
    "        compression='GZIP'\n",
    "    )\n",
    "    print(f\"stored to '{dump_path}'\")\n",
    "    dump_paths.append(dump_path)"
   ]
  },
  {
   "cell_type": "code",
   "execution_count": 33,
   "id": "bf618e23",
   "metadata": {},
   "outputs": [
    {
     "name": "stdout",
     "output_type": "stream",
     "text": [
      "2.5K\ttest/0.dataset\n",
      "2.5K\ttest/1.dataset\n",
      "2.5K\ttest/2.dataset\n",
      "2.5K\ttest/3.dataset\n",
      "\n"
     ]
    }
   ],
   "source": [
    "print(os.popen(f\"du -h --summarize {os.path.join(DUMP_PATH_PREFIX, '*')}\").read())"
   ]
  },
  {
   "cell_type": "markdown",
   "id": "b4e4fb6d",
   "metadata": {},
   "source": [
    "### Load Datasets"
   ]
  },
  {
   "cell_type": "code",
   "execution_count": 34,
   "id": "e7dd843f",
   "metadata": {},
   "outputs": [
    {
     "name": "stdout",
     "output_type": "stream",
     "text": [
      "<TensorSliceDataset shapes: (), types: tf.string>\n",
      "[b'test/0.dataset', b'test/1.dataset', b'test/2.dataset', b'test/3.dataset']\n"
     ]
    }
   ],
   "source": [
    "dumped_files_ds = tf.data.Dataset.from_tensor_slices(dump_paths)\n",
    "print(dumped_files_ds)\n",
    "print_ds(dumped_files_ds)"
   ]
  },
  {
   "cell_type": "code",
   "execution_count": 70,
   "id": "8bd16d1a",
   "metadata": {},
   "outputs": [
    {
     "data": {
      "text/plain": [
       "(TensorSpec(shape=(1,), dtype=tf.int32, name=None),)"
      ]
     },
     "execution_count": 70,
     "metadata": {},
     "output_type": "execute_result"
    }
   ],
   "source": [
    "element_spec = (tf.TensorSpec(shape=(1,), dtype=tf.int32),)\n",
    "element_spec"
   ]
  },
  {
   "cell_type": "code",
   "execution_count": 36,
   "id": "a15ffd8a",
   "metadata": {},
   "outputs": [
    {
     "name": "stdout",
     "output_type": "stream",
     "text": [
      "<InterleaveDataset shapes: ((1,),), types: (tf.int64,)>\n"
     ]
    }
   ],
   "source": [
    "loaded_files_ds = dumped_files_ds.interleave(lambda path:\n",
    "    tf.data.experimental.load(\n",
    "        path=path,\n",
    "        element_spec=element_spec,\n",
    "        compression='GZIP'\n",
    "    )\n",
    ")\n",
    "print(loaded_files_ds)"
   ]
  },
  {
   "cell_type": "code",
   "execution_count": 37,
   "id": "e3e9cecc",
   "metadata": {},
   "outputs": [
    {
     "name": "stdout",
     "output_type": "stream",
     "text": [
      "dataset length is unknown.\n"
     ]
    }
   ],
   "source": [
    "try:\n",
    "    len(loaded_files_ds)\n",
    "except TypeError as e:\n",
    "    print(e)"
   ]
  },
  {
   "cell_type": "code",
   "execution_count": 38,
   "id": "99cd1e96",
   "metadata": {},
   "outputs": [
    {
     "name": "stdout",
     "output_type": "stream",
     "text": [
      "[(array([0]),), (array([0]),), (array([0]),), (array([0]),), (array([1]),), (array([1]),), (array([1]),), (array([1]),), (array([2]),), (array([2]),), (array([2]),), (array([2]),)]\n"
     ]
    }
   ],
   "source": [
    "# looks like round robin\n",
    "print_ds(loaded_files_ds.take(12))"
   ]
  },
  {
   "cell_type": "code",
   "execution_count": 39,
   "id": "5a640684",
   "metadata": {},
   "outputs": [
    {
     "data": {
      "application/vnd.jupyter.widget-view+json": {
       "model_id": "7b37af13f86a4081abdfa3accb65ff15",
       "version_major": 2,
       "version_minor": 0
      },
      "text/plain": [
       "1it [00:00, ?it/s]"
      ]
     },
     "metadata": {},
     "output_type": "display_data"
    },
    {
     "name": "stdout",
     "output_type": "stream",
     "text": [
      "\n",
      "************ Summary ************\n",
      "\n",
      "Examples/sec (First included) 14537.15 ex/sec (total: 200000 ex, 13.76 sec)\n",
      "Examples/sec (First only) 86.99 ex/sec (total: 1 ex, 0.01 sec)\n",
      "Examples/sec (First excluded) 14549.24 ex/sec (total: 199999 ex, 13.75 sec)\n"
     ]
    },
    {
     "data": {
      "text/html": [
       "<strong>BenchmarkResult:</strong><br/><div>\n",
       "<style scoped>\n",
       "    .dataframe tbody tr th:only-of-type {\n",
       "        vertical-align: middle;\n",
       "    }\n",
       "\n",
       "    .dataframe tbody tr th {\n",
       "        vertical-align: top;\n",
       "    }\n",
       "\n",
       "    .dataframe thead th {\n",
       "        text-align: right;\n",
       "    }\n",
       "</style>\n",
       "<table border=\"1\" class=\"dataframe\">\n",
       "  <thead>\n",
       "    <tr style=\"text-align: right;\">\n",
       "      <th></th>\n",
       "      <th>duration</th>\n",
       "      <th>num_examples</th>\n",
       "      <th>avg</th>\n",
       "    </tr>\n",
       "  </thead>\n",
       "  <tbody>\n",
       "    <tr>\n",
       "      <th>first+lasts</th>\n",
       "      <td>13.757851</td>\n",
       "      <td>200000</td>\n",
       "      <td>14537.154383</td>\n",
       "    </tr>\n",
       "    <tr>\n",
       "      <th>first</th>\n",
       "      <td>0.011495</td>\n",
       "      <td>1</td>\n",
       "      <td>86.992658</td>\n",
       "    </tr>\n",
       "    <tr>\n",
       "      <th>lasts</th>\n",
       "      <td>13.746356</td>\n",
       "      <td>199999</td>\n",
       "      <td>14549.238156</td>\n",
       "    </tr>\n",
       "  </tbody>\n",
       "</table>\n",
       "</div>"
      ],
      "text/plain": [
       "BenchmarkResult(stats=              duration  num_examples           avg\n",
       "first+lasts  13.757851        200000  14537.154383\n",
       "first         0.011495             1     86.992658\n",
       "lasts        13.746356        199999  14549.238156, raw_stats=                       duration\n",
       "start_time          2294.666949\n",
       "first_batch_time    2294.678445\n",
       "end_time            2308.424800\n",
       "num_iter          200000.000000)"
      ]
     },
     "execution_count": 39,
     "metadata": {},
     "output_type": "execute_result"
    }
   ],
   "source": [
    "tfds.benchmark(loaded_files_ds)"
   ]
  },
  {
   "cell_type": "markdown",
   "id": "fd99aaa4",
   "metadata": {},
   "source": [
    "## Reading from Files is 3-4x faster than reading from a Generator"
   ]
  },
  {
   "cell_type": "code",
   "execution_count": 40,
   "id": "804eabc7",
   "metadata": {},
   "outputs": [],
   "source": [
    "from typing import List\n",
    "\n",
    "def load_ds_from_files(file_paths: List[str]) -> tf.data.Dataset:\n",
    "    ds = tf.data.Dataset.from_tensor_slices(file_paths)\n",
    "    ds = ds.interleave(lambda path:\n",
    "        tf.data.experimental.load(\n",
    "            path=path,\n",
    "            element_spec=element_spec,\n",
    "            compression='GZIP'\n",
    "        ))\n",
    "    return ds"
   ]
  },
  {
   "cell_type": "code",
   "execution_count": 41,
   "id": "9dc71949",
   "metadata": {},
   "outputs": [
    {
     "data": {
      "application/vnd.jupyter.widget-view+json": {
       "model_id": "e0e9f6de9a374429a994403d97244c78",
       "version_major": 2,
       "version_minor": 0
      },
      "text/plain": [
       "1it [00:00, ?it/s]"
      ]
     },
     "metadata": {},
     "output_type": "display_data"
    },
    {
     "name": "stdout",
     "output_type": "stream",
     "text": [
      "\n",
      "************ Summary ************\n",
      "\n",
      "Examples/sec (First included) 2115.13 ex/sec (total: 1562 ex, 0.74 sec)\n",
      "Examples/sec (First only) 4.05 ex/sec (total: 1 ex, 0.25 sec)\n",
      "Examples/sec (First excluded) 3173.67 ex/sec (total: 1561 ex, 0.49 sec)\n"
     ]
    },
    {
     "data": {
      "text/html": [
       "<strong>BenchmarkResult:</strong><br/><div>\n",
       "<style scoped>\n",
       "    .dataframe tbody tr th:only-of-type {\n",
       "        vertical-align: middle;\n",
       "    }\n",
       "\n",
       "    .dataframe tbody tr th {\n",
       "        vertical-align: top;\n",
       "    }\n",
       "\n",
       "    .dataframe thead th {\n",
       "        text-align: right;\n",
       "    }\n",
       "</style>\n",
       "<table border=\"1\" class=\"dataframe\">\n",
       "  <thead>\n",
       "    <tr style=\"text-align: right;\">\n",
       "      <th></th>\n",
       "      <th>duration</th>\n",
       "      <th>num_examples</th>\n",
       "      <th>avg</th>\n",
       "    </tr>\n",
       "  </thead>\n",
       "  <tbody>\n",
       "    <tr>\n",
       "      <th>first+lasts</th>\n",
       "      <td>0.738489</td>\n",
       "      <td>1562</td>\n",
       "      <td>2115.129279</td>\n",
       "    </tr>\n",
       "    <tr>\n",
       "      <th>first</th>\n",
       "      <td>0.246629</td>\n",
       "      <td>1</td>\n",
       "      <td>4.054673</td>\n",
       "    </tr>\n",
       "    <tr>\n",
       "      <th>lasts</th>\n",
       "      <td>0.491860</td>\n",
       "      <td>1561</td>\n",
       "      <td>3173.666471</td>\n",
       "    </tr>\n",
       "  </tbody>\n",
       "</table>\n",
       "</div>"
      ],
      "text/plain": [
       "BenchmarkResult(stats=             duration  num_examples          avg\n",
       "first+lasts  0.738489          1562  2115.129279\n",
       "first        0.246629             1     4.054673\n",
       "lasts        0.491860          1561  3173.666471, raw_stats=                     duration\n",
       "start_time        2308.462763\n",
       "first_batch_time  2308.709392\n",
       "end_time          2309.201253\n",
       "num_iter          1562.000000)"
      ]
     },
     "execution_count": 41,
     "metadata": {},
     "output_type": "execute_result"
    }
   ],
   "source": [
    "tfds.benchmark(\n",
    "    load_ds_from_files(dump_paths)\\\n",
    "    .shuffle(buffer_size=10**5)\\\n",
    "    .batch(128, drop_remainder=True)\n",
    ")"
   ]
  },
  {
   "cell_type": "markdown",
   "id": "6fbdaab4",
   "metadata": {},
   "source": [
    "## >10x Speed Improvement by using Batching "
   ]
  },
  {
   "cell_type": "code",
   "execution_count": 42,
   "id": "490b8234",
   "metadata": {},
   "outputs": [
    {
     "data": {
      "application/vnd.jupyter.widget-view+json": {
       "model_id": "4ff0059a38184985bbfb124a73d12bbf",
       "version_major": 2,
       "version_minor": 0
      },
      "text/plain": [
       "1it [00:00, ?it/s]"
      ]
     },
     "metadata": {},
     "output_type": "display_data"
    },
    {
     "name": "stdout",
     "output_type": "stream",
     "text": [
      "\n",
      "************ Summary ************\n",
      "\n",
      "Examples/sec (First included) 2563.92 ex/sec (total: 1562 ex, 0.61 sec)\n",
      "Examples/sec (First only) 21.96 ex/sec (total: 1 ex, 0.05 sec)\n",
      "Examples/sec (First excluded) 2769.28 ex/sec (total: 1561 ex, 0.56 sec)\n"
     ]
    },
    {
     "data": {
      "text/html": [
       "<strong>BenchmarkResult:</strong><br/><div>\n",
       "<style scoped>\n",
       "    .dataframe tbody tr th:only-of-type {\n",
       "        vertical-align: middle;\n",
       "    }\n",
       "\n",
       "    .dataframe tbody tr th {\n",
       "        vertical-align: top;\n",
       "    }\n",
       "\n",
       "    .dataframe thead th {\n",
       "        text-align: right;\n",
       "    }\n",
       "</style>\n",
       "<table border=\"1\" class=\"dataframe\">\n",
       "  <thead>\n",
       "    <tr style=\"text-align: right;\">\n",
       "      <th></th>\n",
       "      <th>duration</th>\n",
       "      <th>num_examples</th>\n",
       "      <th>avg</th>\n",
       "    </tr>\n",
       "  </thead>\n",
       "  <tbody>\n",
       "    <tr>\n",
       "      <th>first+lasts</th>\n",
       "      <td>0.609223</td>\n",
       "      <td>1562</td>\n",
       "      <td>2563.922566</td>\n",
       "    </tr>\n",
       "    <tr>\n",
       "      <th>first</th>\n",
       "      <td>0.045539</td>\n",
       "      <td>1</td>\n",
       "      <td>21.959147</td>\n",
       "    </tr>\n",
       "    <tr>\n",
       "      <th>lasts</th>\n",
       "      <td>0.563684</td>\n",
       "      <td>1561</td>\n",
       "      <td>2769.283760</td>\n",
       "    </tr>\n",
       "  </tbody>\n",
       "</table>\n",
       "</div>"
      ],
      "text/plain": [
       "BenchmarkResult(stats=             duration  num_examples          avg\n",
       "first+lasts  0.609223          1562  2563.922566\n",
       "first        0.045539             1    21.959147\n",
       "lasts        0.563684          1561  2769.283760, raw_stats=                     duration\n",
       "start_time        2309.222387\n",
       "first_batch_time  2309.267926\n",
       "end_time          2309.831609\n",
       "num_iter          1562.000000)"
      ]
     },
     "execution_count": 42,
     "metadata": {},
     "output_type": "execute_result"
    }
   ],
   "source": [
    "tfds.benchmark(\n",
    "    load_ds_from_files(dump_paths)\\\n",
    "    .shuffle(buffer_size=10**4)\\\n",
    "    .batch(128, drop_remainder=True)\\\n",
    "    .prefetch(tf.data.experimental.AUTOTUNE)\n",
    ")"
   ]
  },
  {
   "cell_type": "markdown",
   "id": "66b79d81",
   "metadata": {},
   "source": [
    "## Another 10-20% (at least) by using Prefetching"
   ]
  },
  {
   "cell_type": "markdown",
   "metadata": {},
   "source": [
    "# Combined Benchmark"
   ]
  },
  {
   "cell_type": "code",
   "execution_count": 182,
   "metadata": {},
   "outputs": [],
   "source": [
    "def get_dataset_from_tensor(size):\n",
    "    df = pd.DataFrame(range(size), dtype=np.int32)\n",
    "    ds = tf.data.Dataset.from_tensor_slices(df)\n",
    "    return ds\n",
    "\n",
    "def get_dataset_from_generator(size):\n",
    "    def gen():\n",
    "        yield from range(size)\n",
    "    \n",
    "    ds = tf.data.Dataset.from_generator(\n",
    "        generator=gen,\n",
    "        output_types=tf.int32\n",
    "    )\n",
    "    return ds\n",
    "\n",
    "def get_dataset_from_files(size, shard_count = 10):\n",
    "    assert size % shard_count == 0\n",
    "    one_ds = get_dataset_from_tensor(size//shard_count)\n",
    "    \n",
    "    dump_paths = []\n",
    "    for i in range(shard_count):\n",
    "        dump_path = f\"{i}.dataset\"\n",
    "        tf.data.experimental.save(\n",
    "            dataset=one_ds,\n",
    "            path=dump_path,\n",
    "            compression='GZIP'\n",
    "        )\n",
    "        \n",
    "        dump_paths.append(dump_path)\n",
    "    \n",
    "    ds = load_ds_from_files(dump_paths)\n",
    "    return ds\n",
    "\n",
    "def benchmark_ds(ds, batch_size = None, prefetch = None):\n",
    "    if batch_size is not None:\n",
    "        ds = ds.batch(batch_size)\n",
    "    else:\n",
    "        batch_size = 1\n",
    "    \n",
    "    if prefetch is not None:\n",
    "        ds = ds.prefetch(prefetch)\n",
    "        \n",
    "    return tfds.benchmark(ds, batch_size=batch_size).stats.avg['first+lasts']\n",
    "\n",
    "def run_benchmark_with_size(size, batch_size = None, prefetch = None):\n",
    "    results = dict()\n",
    "    \n",
    "    results['dataset_from_tensor'] = benchmark_ds(get_dataset_from_tensor(size), batch_size, prefetch)\n",
    "    results['dataset_from_generator'] = benchmark_ds(get_dataset_from_generator(size), batch_size, prefetch)\n",
    "    results['dataset_from_files'] = benchmark_ds(get_dataset_from_files(size), batch_size, prefetch)\n",
    "    \n",
    "    return results\n",
    "\n",
    "def run_benchmark(sizes = (10**3, 10**4, 10**5, 10**6), batch_sizes = (None, 10, 25, 100, 250), prefetches = (None, tf.data.experimental.AUTOTUNE)):\n",
    "    results = dict()\n",
    "    \n",
    "    for size in sizes:\n",
    "        print(f\"size = {size}\")\n",
    "        for batch_size in batch_sizes:\n",
    "            print(f\"batch_size = {batch_size}\")\n",
    "            for prefetch in prefetches:\n",
    "                print(f\"prefetch = {prefetch}\")\n",
    "                results[(size, batch_size, prefetch)] = run_benchmark_with_size(size, batch_size, prefetch)\n",
    "    \n",
    "    return results\n",
    "\n",
    "def visualize_benchmark_results(res):\n",
    "    df = pd.DataFrame(res)\\\n",
    "    .T\\\n",
    "    .reset_index()\\\n",
    "    .rename(columns={\n",
    "        'level_0': 'size', \n",
    "        'level_1': 'batch_size', \n",
    "        'level_2': 'prefetch'\n",
    "    })\n",
    "    return df"
   ]
  },
  {
   "cell_type": "code",
   "execution_count": 183,
   "metadata": {
    "scrolled": true
   },
   "outputs": [
    {
     "name": "stdout",
     "output_type": "stream",
     "text": [
      "size = 1000\n",
      "batch_size = None\n",
      "prefetch = None\n"
     ]
    },
    {
     "data": {
      "application/vnd.jupyter.widget-view+json": {
       "model_id": "62b51bab57434800857c7aeac82b6d8c",
       "version_major": 2,
       "version_minor": 0
      },
      "text/plain": [
       "  0%|          | 1/1000 [00:00<?, ?it/s]"
      ]
     },
     "metadata": {},
     "output_type": "display_data"
    },
    {
     "name": "stdout",
     "output_type": "stream",
     "text": [
      "\n",
      "************ Summary ************\n",
      "\n",
      "Examples/sec (First included) 10458.16 ex/sec (total: 1000 ex, 0.10 sec)\n",
      "Examples/sec (First only) 99.84 ex/sec (total: 1 ex, 0.01 sec)\n",
      "Examples/sec (First excluded) 11670.09 ex/sec (total: 999 ex, 0.09 sec)\n"
     ]
    },
    {
     "data": {
      "application/vnd.jupyter.widget-view+json": {
       "model_id": "61688bc77f42435c889390b60c6d80a1",
       "version_major": 2,
       "version_minor": 0
      },
      "text/plain": [
       "1it [00:00, ?it/s]"
      ]
     },
     "metadata": {},
     "output_type": "display_data"
    },
    {
     "name": "stdout",
     "output_type": "stream",
     "text": [
      "\n",
      "************ Summary ************\n",
      "\n",
      "Examples/sec (First included) 3110.85 ex/sec (total: 1000 ex, 0.32 sec)\n",
      "Examples/sec (First only) 92.67 ex/sec (total: 1 ex, 0.01 sec)\n",
      "Examples/sec (First excluded) 3215.69 ex/sec (total: 999 ex, 0.31 sec)\n"
     ]
    },
    {
     "data": {
      "application/vnd.jupyter.widget-view+json": {
       "model_id": "465132bb523c4a92aa11774de7fe729a",
       "version_major": 2,
       "version_minor": 0
      },
      "text/plain": [
       "1it [00:00, ?it/s]"
      ]
     },
     "metadata": {},
     "output_type": "display_data"
    },
    {
     "name": "stdout",
     "output_type": "stream",
     "text": [
      "\n",
      "************ Summary ************\n",
      "\n",
      "Examples/sec (First included) 8295.23 ex/sec (total: 1000 ex, 0.12 sec)\n",
      "Examples/sec (First only) 85.28 ex/sec (total: 1 ex, 0.01 sec)\n",
      "Examples/sec (First excluded) 9179.86 ex/sec (total: 999 ex, 0.11 sec)\n",
      "prefetch = -1\n"
     ]
    },
    {
     "data": {
      "application/vnd.jupyter.widget-view+json": {
       "model_id": "9999800e3645484bafccb5ca470fe861",
       "version_major": 2,
       "version_minor": 0
      },
      "text/plain": [
       "  0%|          | 1/1000 [00:00<?, ?it/s]"
      ]
     },
     "metadata": {},
     "output_type": "display_data"
    },
    {
     "name": "stdout",
     "output_type": "stream",
     "text": [
      "\n",
      "************ Summary ************\n",
      "\n",
      "Examples/sec (First included) 13112.75 ex/sec (total: 1000 ex, 0.08 sec)\n",
      "Examples/sec (First only) 437.32 ex/sec (total: 1 ex, 0.00 sec)\n",
      "Examples/sec (First excluded) 13504.57 ex/sec (total: 999 ex, 0.07 sec)\n"
     ]
    },
    {
     "data": {
      "application/vnd.jupyter.widget-view+json": {
       "model_id": "c710bf580a724a6e9487c978b8f85203",
       "version_major": 2,
       "version_minor": 0
      },
      "text/plain": [
       "1it [00:00, ?it/s]"
      ]
     },
     "metadata": {},
     "output_type": "display_data"
    },
    {
     "name": "stdout",
     "output_type": "stream",
     "text": [
      "\n",
      "************ Summary ************\n",
      "\n",
      "Examples/sec (First included) 4194.91 ex/sec (total: 1000 ex, 0.24 sec)\n",
      "Examples/sec (First only) 100.36 ex/sec (total: 1 ex, 0.01 sec)\n",
      "Examples/sec (First excluded) 4373.53 ex/sec (total: 999 ex, 0.23 sec)\n"
     ]
    },
    {
     "data": {
      "application/vnd.jupyter.widget-view+json": {
       "model_id": "d32ecb1a928b4486a04f48f7791fb958",
       "version_major": 2,
       "version_minor": 0
      },
      "text/plain": [
       "1it [00:00, ?it/s]"
      ]
     },
     "metadata": {},
     "output_type": "display_data"
    },
    {
     "name": "stdout",
     "output_type": "stream",
     "text": [
      "\n",
      "************ Summary ************\n",
      "\n",
      "Examples/sec (First included) 8814.41 ex/sec (total: 1000 ex, 0.11 sec)\n",
      "Examples/sec (First only) 89.28 ex/sec (total: 1 ex, 0.01 sec)\n",
      "Examples/sec (First excluded) 9770.20 ex/sec (total: 999 ex, 0.10 sec)\n",
      "batch_size = 10\n",
      "prefetch = None\n"
     ]
    },
    {
     "data": {
      "application/vnd.jupyter.widget-view+json": {
       "model_id": "d651b2302b084d249ea98b5fe6e4b46b",
       "version_major": 2,
       "version_minor": 0
      },
      "text/plain": [
       "  1%|1         | 1/100 [00:00<?, ?it/s]"
      ]
     },
     "metadata": {},
     "output_type": "display_data"
    },
    {
     "name": "stdout",
     "output_type": "stream",
     "text": [
      "\n",
      "************ Summary ************\n",
      "\n",
      "Examples/sec (First included) 30661.06 ex/sec (total: 1000 ex, 0.03 sec)\n",
      "Examples/sec (First only) 4311.94 ex/sec (total: 10 ex, 0.00 sec)\n",
      "Examples/sec (First excluded) 32678.10 ex/sec (total: 990 ex, 0.03 sec)\n"
     ]
    },
    {
     "data": {
      "application/vnd.jupyter.widget-view+json": {
       "model_id": "3eb26c9f185a450fa6c6a5ec2b7ab1e1",
       "version_major": 2,
       "version_minor": 0
      },
      "text/plain": [
       "1it [00:00, ?it/s]"
      ]
     },
     "metadata": {},
     "output_type": "display_data"
    },
    {
     "name": "stdout",
     "output_type": "stream",
     "text": [
      "\n",
      "************ Summary ************\n",
      "\n",
      "Examples/sec (First included) 4108.38 ex/sec (total: 1000 ex, 0.24 sec)\n",
      "Examples/sec (First only) 793.44 ex/sec (total: 10 ex, 0.01 sec)\n",
      "Examples/sec (First excluded) 4289.40 ex/sec (total: 990 ex, 0.23 sec)\n"
     ]
    },
    {
     "data": {
      "application/vnd.jupyter.widget-view+json": {
       "model_id": "a5cfcb6877334304bc2a11688077cd23",
       "version_major": 2,
       "version_minor": 0
      },
      "text/plain": [
       "1it [00:00, ?it/s]"
      ]
     },
     "metadata": {},
     "output_type": "display_data"
    },
    {
     "name": "stdout",
     "output_type": "stream",
     "text": [
      "\n",
      "************ Summary ************\n",
      "\n",
      "Examples/sec (First included) 18897.92 ex/sec (total: 1000 ex, 0.05 sec)\n",
      "Examples/sec (First only) 476.41 ex/sec (total: 10 ex, 0.02 sec)\n",
      "Examples/sec (First excluded) 31009.74 ex/sec (total: 990 ex, 0.03 sec)\n",
      "prefetch = -1\n"
     ]
    },
    {
     "data": {
      "application/vnd.jupyter.widget-view+json": {
       "model_id": "7b8c8241f8c842828fb22b8b2768705a",
       "version_major": 2,
       "version_minor": 0
      },
      "text/plain": [
       "  1%|1         | 1/100 [00:00<?, ?it/s]"
      ]
     },
     "metadata": {},
     "output_type": "display_data"
    },
    {
     "name": "stdout",
     "output_type": "stream",
     "text": [
      "\n",
      "************ Summary ************\n",
      "\n",
      "Examples/sec (First included) 33230.20 ex/sec (total: 1000 ex, 0.03 sec)\n",
      "Examples/sec (First only) 4010.97 ex/sec (total: 10 ex, 0.00 sec)\n",
      "Examples/sec (First excluded) 35869.63 ex/sec (total: 990 ex, 0.03 sec)\n"
     ]
    },
    {
     "data": {
      "application/vnd.jupyter.widget-view+json": {
       "model_id": "55da90c439ca4d5ca50ca6d23d25835e",
       "version_major": 2,
       "version_minor": 0
      },
      "text/plain": [
       "1it [00:00, ?it/s]"
      ]
     },
     "metadata": {},
     "output_type": "display_data"
    },
    {
     "name": "stdout",
     "output_type": "stream",
     "text": [
      "\n",
      "************ Summary ************\n",
      "\n",
      "Examples/sec (First included) 4244.00 ex/sec (total: 1000 ex, 0.24 sec)\n",
      "Examples/sec (First only) 777.95 ex/sec (total: 10 ex, 0.01 sec)\n",
      "Examples/sec (First excluded) 4443.99 ex/sec (total: 990 ex, 0.22 sec)\n"
     ]
    },
    {
     "data": {
      "application/vnd.jupyter.widget-view+json": {
       "model_id": "374c8ad330c54f39916e9f6e99b62bc5",
       "version_major": 2,
       "version_minor": 0
      },
      "text/plain": [
       "1it [00:00, ?it/s]"
      ]
     },
     "metadata": {},
     "output_type": "display_data"
    },
    {
     "name": "stdout",
     "output_type": "stream",
     "text": [
      "\n",
      "************ Summary ************\n",
      "\n",
      "Examples/sec (First included) 20333.42 ex/sec (total: 1000 ex, 0.05 sec)\n",
      "Examples/sec (First only) 518.59 ex/sec (total: 10 ex, 0.02 sec)\n",
      "Examples/sec (First excluded) 33113.70 ex/sec (total: 990 ex, 0.03 sec)\n",
      "batch_size = 25\n",
      "prefetch = None\n"
     ]
    },
    {
     "data": {
      "application/vnd.jupyter.widget-view+json": {
       "model_id": "d88869ce8c924dfe9c140ee95d015674",
       "version_major": 2,
       "version_minor": 0
      },
      "text/plain": [
       "  2%|2         | 1/40 [00:00<?, ?it/s]"
      ]
     },
     "metadata": {},
     "output_type": "display_data"
    },
    {
     "name": "stdout",
     "output_type": "stream",
     "text": [
      "\n",
      "************ Summary ************\n",
      "\n",
      "Examples/sec (First included) 37630.32 ex/sec (total: 1000 ex, 0.03 sec)\n",
      "Examples/sec (First only) 11305.43 ex/sec (total: 25 ex, 0.00 sec)\n",
      "Examples/sec (First excluded) 40019.72 ex/sec (total: 975 ex, 0.02 sec)\n"
     ]
    },
    {
     "data": {
      "application/vnd.jupyter.widget-view+json": {
       "model_id": "de370d3008ce4256ad6d5908dfa32736",
       "version_major": 2,
       "version_minor": 0
      },
      "text/plain": [
       "1it [00:00, ?it/s]"
      ]
     },
     "metadata": {},
     "output_type": "display_data"
    },
    {
     "name": "stdout",
     "output_type": "stream",
     "text": [
      "\n",
      "************ Summary ************\n",
      "\n",
      "Examples/sec (First included) 4266.69 ex/sec (total: 1000 ex, 0.23 sec)\n",
      "Examples/sec (First only) 1746.07 ex/sec (total: 25 ex, 0.01 sec)\n",
      "Examples/sec (First excluded) 4430.70 ex/sec (total: 975 ex, 0.22 sec)\n"
     ]
    },
    {
     "data": {
      "application/vnd.jupyter.widget-view+json": {
       "model_id": "6861792aa5d64f12b37f6e6464f38724",
       "version_major": 2,
       "version_minor": 0
      },
      "text/plain": [
       "1it [00:00, ?it/s]"
      ]
     },
     "metadata": {},
     "output_type": "display_data"
    },
    {
     "name": "stdout",
     "output_type": "stream",
     "text": [
      "\n",
      "************ Summary ************\n",
      "\n",
      "Examples/sec (First included) 20827.81 ex/sec (total: 1000 ex, 0.05 sec)\n",
      "Examples/sec (First only) 1220.82 ex/sec (total: 25 ex, 0.02 sec)\n",
      "Examples/sec (First excluded) 35409.82 ex/sec (total: 975 ex, 0.03 sec)\n",
      "prefetch = -1\n"
     ]
    },
    {
     "data": {
      "application/vnd.jupyter.widget-view+json": {
       "model_id": "1ede4521fd5a489986d041c093497e69",
       "version_major": 2,
       "version_minor": 0
      },
      "text/plain": [
       "  2%|2         | 1/40 [00:00<?, ?it/s]"
      ]
     },
     "metadata": {},
     "output_type": "display_data"
    },
    {
     "name": "stdout",
     "output_type": "stream",
     "text": [
      "\n",
      "************ Summary ************\n",
      "\n",
      "Examples/sec (First included) 35799.04 ex/sec (total: 1000 ex, 0.03 sec)\n",
      "Examples/sec (First only) 8438.08 ex/sec (total: 25 ex, 0.00 sec)\n",
      "Examples/sec (First excluded) 39045.36 ex/sec (total: 975 ex, 0.02 sec)\n"
     ]
    },
    {
     "data": {
      "application/vnd.jupyter.widget-view+json": {
       "model_id": "8d720d41dcf043c99caf067b0e45e106",
       "version_major": 2,
       "version_minor": 0
      },
      "text/plain": [
       "1it [00:00, ?it/s]"
      ]
     },
     "metadata": {},
     "output_type": "display_data"
    },
    {
     "name": "stdout",
     "output_type": "stream",
     "text": [
      "\n",
      "************ Summary ************\n",
      "\n",
      "Examples/sec (First included) 4581.35 ex/sec (total: 1000 ex, 0.22 sec)\n",
      "Examples/sec (First only) 1516.83 ex/sec (total: 25 ex, 0.02 sec)\n",
      "Examples/sec (First excluded) 4831.65 ex/sec (total: 975 ex, 0.20 sec)\n"
     ]
    },
    {
     "data": {
      "application/vnd.jupyter.widget-view+json": {
       "model_id": "18a13ee22b4940c4a85891d0e70b2046",
       "version_major": 2,
       "version_minor": 0
      },
      "text/plain": [
       "1it [00:00, ?it/s]"
      ]
     },
     "metadata": {},
     "output_type": "display_data"
    },
    {
     "name": "stdout",
     "output_type": "stream",
     "text": [
      "\n",
      "************ Summary ************\n",
      "\n",
      "Examples/sec (First included) 22212.94 ex/sec (total: 1000 ex, 0.05 sec)\n",
      "Examples/sec (First only) 1218.41 ex/sec (total: 25 ex, 0.02 sec)\n",
      "Examples/sec (First excluded) 39795.56 ex/sec (total: 975 ex, 0.02 sec)\n",
      "batch_size = 100\n",
      "prefetch = None\n"
     ]
    },
    {
     "data": {
      "application/vnd.jupyter.widget-view+json": {
       "model_id": "9065f197f31d4c4f809646eba223fccc",
       "version_major": 2,
       "version_minor": 0
      },
      "text/plain": [
       " 10%|#         | 1/10 [00:00<?, ?it/s]"
      ]
     },
     "metadata": {},
     "output_type": "display_data"
    },
    {
     "name": "stdout",
     "output_type": "stream",
     "text": [
      "\n",
      "************ Summary ************\n",
      "\n",
      "Examples/sec (First included) 32834.10 ex/sec (total: 1000 ex, 0.03 sec)\n",
      "Examples/sec (First only) 31598.67 ex/sec (total: 100 ex, 0.00 sec)\n",
      "Examples/sec (First excluded) 32977.36 ex/sec (total: 900 ex, 0.03 sec)\n"
     ]
    },
    {
     "data": {
      "application/vnd.jupyter.widget-view+json": {
       "model_id": "405e40d4bea3443a808bea088a03a45d",
       "version_major": 2,
       "version_minor": 0
      },
      "text/plain": [
       "1it [00:00, ?it/s]"
      ]
     },
     "metadata": {},
     "output_type": "display_data"
    },
    {
     "name": "stdout",
     "output_type": "stream",
     "text": [
      "\n",
      "************ Summary ************\n",
      "\n",
      "Examples/sec (First included) 4731.18 ex/sec (total: 1000 ex, 0.21 sec)\n",
      "Examples/sec (First only) 3552.80 ex/sec (total: 100 ex, 0.03 sec)\n",
      "Examples/sec (First excluded) 4912.21 ex/sec (total: 900 ex, 0.18 sec)\n"
     ]
    },
    {
     "data": {
      "application/vnd.jupyter.widget-view+json": {
       "model_id": "2a64621eea8948b1977f274e6d91636e",
       "version_major": 2,
       "version_minor": 0
      },
      "text/plain": [
       "1it [00:00, ?it/s]"
      ]
     },
     "metadata": {},
     "output_type": "display_data"
    },
    {
     "name": "stdout",
     "output_type": "stream",
     "text": [
      "\n",
      "************ Summary ************\n",
      "\n",
      "Examples/sec (First included) 21309.89 ex/sec (total: 1000 ex, 0.05 sec)\n",
      "Examples/sec (First only) 5062.00 ex/sec (total: 100 ex, 0.02 sec)\n",
      "Examples/sec (First excluded) 33122.90 ex/sec (total: 900 ex, 0.03 sec)\n",
      "prefetch = -1\n"
     ]
    },
    {
     "data": {
      "application/vnd.jupyter.widget-view+json": {
       "model_id": "bb3121e0f949434f866924c9ec5cd457",
       "version_major": 2,
       "version_minor": 0
      },
      "text/plain": [
       " 10%|#         | 1/10 [00:00<?, ?it/s]"
      ]
     },
     "metadata": {},
     "output_type": "display_data"
    },
    {
     "name": "stdout",
     "output_type": "stream",
     "text": [
      "\n",
      "************ Summary ************\n",
      "\n",
      "Examples/sec (First included) 40030.30 ex/sec (total: 1000 ex, 0.02 sec)\n",
      "Examples/sec (First only) 40962.02 ex/sec (total: 100 ex, 0.00 sec)\n",
      "Examples/sec (First excluded) 39929.38 ex/sec (total: 900 ex, 0.02 sec)\n"
     ]
    },
    {
     "data": {
      "application/vnd.jupyter.widget-view+json": {
       "model_id": "82cae7465c8e478d8641aa94c7e871ca",
       "version_major": 2,
       "version_minor": 0
      },
      "text/plain": [
       "1it [00:00, ?it/s]"
      ]
     },
     "metadata": {},
     "output_type": "display_data"
    },
    {
     "name": "stdout",
     "output_type": "stream",
     "text": [
      "\n",
      "************ Summary ************\n",
      "\n",
      "Examples/sec (First included) 4780.01 ex/sec (total: 1000 ex, 0.21 sec)\n",
      "Examples/sec (First only) 3589.23 ex/sec (total: 100 ex, 0.03 sec)\n",
      "Examples/sec (First excluded) 4962.96 ex/sec (total: 900 ex, 0.18 sec)\n"
     ]
    },
    {
     "data": {
      "application/vnd.jupyter.widget-view+json": {
       "model_id": "18458f7d6ca64bc8bc471879644499fd",
       "version_major": 2,
       "version_minor": 0
      },
      "text/plain": [
       "1it [00:00, ?it/s]"
      ]
     },
     "metadata": {},
     "output_type": "display_data"
    },
    {
     "name": "stdout",
     "output_type": "stream",
     "text": [
      "\n",
      "************ Summary ************\n",
      "\n",
      "Examples/sec (First included) 22672.55 ex/sec (total: 1000 ex, 0.04 sec)\n",
      "Examples/sec (First only) 4915.11 ex/sec (total: 100 ex, 0.02 sec)\n",
      "Examples/sec (First excluded) 37877.52 ex/sec (total: 900 ex, 0.02 sec)\n",
      "batch_size = 250\n",
      "prefetch = None\n"
     ]
    },
    {
     "data": {
      "application/vnd.jupyter.widget-view+json": {
       "model_id": "ab3dfb6013494ec295d34a187697108d",
       "version_major": 2,
       "version_minor": 0
      },
      "text/plain": [
       " 25%|##5       | 1/4 [00:00<?, ?it/s]"
      ]
     },
     "metadata": {},
     "output_type": "display_data"
    },
    {
     "name": "stdout",
     "output_type": "stream",
     "text": [
      "\n",
      "************ Summary ************\n",
      "\n",
      "Examples/sec (First included) 39868.30 ex/sec (total: 1000 ex, 0.03 sec)\n",
      "Examples/sec (First only) 87809.79 ex/sec (total: 250 ex, 0.00 sec)\n",
      "Examples/sec (First excluded) 33729.81 ex/sec (total: 750 ex, 0.02 sec)\n"
     ]
    },
    {
     "data": {
      "application/vnd.jupyter.widget-view+json": {
       "model_id": "d17343b0759c4c70953540735c474317",
       "version_major": 2,
       "version_minor": 0
      },
      "text/plain": [
       "1it [00:00, ?it/s]"
      ]
     },
     "metadata": {},
     "output_type": "display_data"
    },
    {
     "name": "stdout",
     "output_type": "stream",
     "text": [
      "\n",
      "************ Summary ************\n",
      "\n",
      "Examples/sec (First included) 4408.69 ex/sec (total: 1000 ex, 0.23 sec)\n",
      "Examples/sec (First only) 4930.17 ex/sec (total: 250 ex, 0.05 sec)\n",
      "Examples/sec (First excluded) 4258.54 ex/sec (total: 750 ex, 0.18 sec)\n"
     ]
    },
    {
     "data": {
      "application/vnd.jupyter.widget-view+json": {
       "model_id": "699ade5951ff4521aa307200bc7bc702",
       "version_major": 2,
       "version_minor": 0
      },
      "text/plain": [
       "1it [00:00, ?it/s]"
      ]
     },
     "metadata": {},
     "output_type": "display_data"
    },
    {
     "name": "stdout",
     "output_type": "stream",
     "text": [
      "\n",
      "************ Summary ************\n",
      "\n",
      "Examples/sec (First included) 21395.57 ex/sec (total: 1000 ex, 0.05 sec)\n",
      "Examples/sec (First only) 13109.92 ex/sec (total: 250 ex, 0.02 sec)\n",
      "Examples/sec (First excluded) 27106.05 ex/sec (total: 750 ex, 0.03 sec)\n",
      "prefetch = -1\n"
     ]
    },
    {
     "data": {
      "application/vnd.jupyter.widget-view+json": {
       "model_id": "649e0c2705594338825724d5c8491452",
       "version_major": 2,
       "version_minor": 0
      },
      "text/plain": [
       " 25%|##5       | 1/4 [00:00<?, ?it/s]"
      ]
     },
     "metadata": {},
     "output_type": "display_data"
    },
    {
     "name": "stdout",
     "output_type": "stream",
     "text": [
      "\n",
      "************ Summary ************\n",
      "\n",
      "Examples/sec (First included) 40931.41 ex/sec (total: 1000 ex, 0.02 sec)\n",
      "Examples/sec (First only) 99089.80 ex/sec (total: 250 ex, 0.00 sec)\n",
      "Examples/sec (First excluded) 34233.83 ex/sec (total: 750 ex, 0.02 sec)\n"
     ]
    },
    {
     "data": {
      "application/vnd.jupyter.widget-view+json": {
       "model_id": "7bcf869c77834a189ba3607a9b4c22c6",
       "version_major": 2,
       "version_minor": 0
      },
      "text/plain": [
       "1it [00:00, ?it/s]"
      ]
     },
     "metadata": {},
     "output_type": "display_data"
    },
    {
     "name": "stdout",
     "output_type": "stream",
     "text": [
      "\n",
      "************ Summary ************\n",
      "\n",
      "Examples/sec (First included) 4385.06 ex/sec (total: 1000 ex, 0.23 sec)\n",
      "Examples/sec (First only) 4091.64 ex/sec (total: 250 ex, 0.06 sec)\n",
      "Examples/sec (First excluded) 4492.45 ex/sec (total: 750 ex, 0.17 sec)\n"
     ]
    },
    {
     "data": {
      "application/vnd.jupyter.widget-view+json": {
       "model_id": "0ededa1090d64696b467aab42b67f857",
       "version_major": 2,
       "version_minor": 0
      },
      "text/plain": [
       "1it [00:00, ?it/s]"
      ]
     },
     "metadata": {},
     "output_type": "display_data"
    },
    {
     "name": "stdout",
     "output_type": "stream",
     "text": [
      "\n",
      "************ Summary ************\n",
      "\n",
      "Examples/sec (First included) 23394.69 ex/sec (total: 1000 ex, 0.04 sec)\n",
      "Examples/sec (First only) 12932.23 ex/sec (total: 250 ex, 0.02 sec)\n",
      "Examples/sec (First excluded) 32033.24 ex/sec (total: 750 ex, 0.02 sec)\n",
      "size = 10000\n",
      "batch_size = None\n",
      "prefetch = None\n"
     ]
    },
    {
     "data": {
      "application/vnd.jupyter.widget-view+json": {
       "model_id": "66ae069ada2f4980be51d63ddfae69e9",
       "version_major": 2,
       "version_minor": 0
      },
      "text/plain": [
       "  0%|          | 1/10000 [00:00<?, ?it/s]"
      ]
     },
     "metadata": {},
     "output_type": "display_data"
    },
    {
     "name": "stdout",
     "output_type": "stream",
     "text": [
      "\n",
      "************ Summary ************\n",
      "\n",
      "Examples/sec (First included) 21113.26 ex/sec (total: 10000 ex, 0.47 sec)\n",
      "Examples/sec (First only) 368.78 ex/sec (total: 1 ex, 0.00 sec)\n",
      "Examples/sec (First excluded) 21232.70 ex/sec (total: 9999 ex, 0.47 sec)\n"
     ]
    },
    {
     "data": {
      "application/vnd.jupyter.widget-view+json": {
       "model_id": "43d3630aedc04bb8a5f5fc2c57132431",
       "version_major": 2,
       "version_minor": 0
      },
      "text/plain": [
       "1it [00:00, ?it/s]"
      ]
     },
     "metadata": {},
     "output_type": "display_data"
    },
    {
     "ename": "KeyboardInterrupt",
     "evalue": "",
     "output_type": "error",
     "traceback": [
      "\u001b[0;31m---------------------------------------------------------------------------\u001b[0m",
      "\u001b[0;31mKeyboardInterrupt\u001b[0m                         Traceback (most recent call last)",
      "\u001b[0;32m<ipython-input-183-7a311a0d6993>\u001b[0m in \u001b[0;36m<module>\u001b[0;34m\u001b[0m\n\u001b[1;32m      1\u001b[0m \u001b[0mresults\u001b[0m \u001b[0;34m=\u001b[0m \u001b[0;34m[\u001b[0m\u001b[0;34m]\u001b[0m\u001b[0;34m\u001b[0m\u001b[0;34m\u001b[0m\u001b[0m\n\u001b[1;32m      2\u001b[0m \u001b[0;32mfor\u001b[0m \u001b[0m_\u001b[0m \u001b[0;32min\u001b[0m \u001b[0mrange\u001b[0m\u001b[0;34m(\u001b[0m\u001b[0;36m5\u001b[0m\u001b[0;34m)\u001b[0m\u001b[0;34m:\u001b[0m\u001b[0;34m\u001b[0m\u001b[0;34m\u001b[0m\u001b[0m\n\u001b[0;32m----> 3\u001b[0;31m     \u001b[0mres\u001b[0m \u001b[0;34m=\u001b[0m \u001b[0mrun_benchmark\u001b[0m\u001b[0;34m(\u001b[0m\u001b[0;34m)\u001b[0m\u001b[0;34m\u001b[0m\u001b[0;34m\u001b[0m\u001b[0m\n\u001b[0m\u001b[1;32m      4\u001b[0m     \u001b[0mresults\u001b[0m\u001b[0;34m.\u001b[0m\u001b[0mappend\u001b[0m\u001b[0;34m(\u001b[0m\u001b[0mres\u001b[0m\u001b[0;34m)\u001b[0m\u001b[0;34m\u001b[0m\u001b[0;34m\u001b[0m\u001b[0m\n",
      "\u001b[0;32m<ipython-input-182-55c3ef3ca980>\u001b[0m in \u001b[0;36mrun_benchmark\u001b[0;34m(sizes, batch_sizes, prefetches)\u001b[0m\n\u001b[1;32m     61\u001b[0m             \u001b[0;32mfor\u001b[0m \u001b[0mprefetch\u001b[0m \u001b[0;32min\u001b[0m \u001b[0mprefetches\u001b[0m\u001b[0;34m:\u001b[0m\u001b[0;34m\u001b[0m\u001b[0;34m\u001b[0m\u001b[0m\n\u001b[1;32m     62\u001b[0m                 \u001b[0mprint\u001b[0m\u001b[0;34m(\u001b[0m\u001b[0;34mf\"prefetch = {prefetch}\"\u001b[0m\u001b[0;34m)\u001b[0m\u001b[0;34m\u001b[0m\u001b[0;34m\u001b[0m\u001b[0m\n\u001b[0;32m---> 63\u001b[0;31m                 \u001b[0mresults\u001b[0m\u001b[0;34m[\u001b[0m\u001b[0;34m(\u001b[0m\u001b[0msize\u001b[0m\u001b[0;34m,\u001b[0m \u001b[0mbatch_size\u001b[0m\u001b[0;34m,\u001b[0m \u001b[0mprefetch\u001b[0m\u001b[0;34m)\u001b[0m\u001b[0;34m]\u001b[0m \u001b[0;34m=\u001b[0m \u001b[0mrun_benchmark_with_size\u001b[0m\u001b[0;34m(\u001b[0m\u001b[0msize\u001b[0m\u001b[0;34m,\u001b[0m \u001b[0mbatch_size\u001b[0m\u001b[0;34m,\u001b[0m \u001b[0mprefetch\u001b[0m\u001b[0;34m)\u001b[0m\u001b[0;34m\u001b[0m\u001b[0;34m\u001b[0m\u001b[0m\n\u001b[0m\u001b[1;32m     64\u001b[0m \u001b[0;34m\u001b[0m\u001b[0m\n\u001b[1;32m     65\u001b[0m     \u001b[0;32mreturn\u001b[0m \u001b[0mresults\u001b[0m\u001b[0;34m\u001b[0m\u001b[0;34m\u001b[0m\u001b[0m\n",
      "\u001b[0;32m<ipython-input-182-55c3ef3ca980>\u001b[0m in \u001b[0;36mrun_benchmark_with_size\u001b[0;34m(size, batch_size, prefetch)\u001b[0m\n\u001b[1;32m     47\u001b[0m \u001b[0;34m\u001b[0m\u001b[0m\n\u001b[1;32m     48\u001b[0m     \u001b[0mresults\u001b[0m\u001b[0;34m[\u001b[0m\u001b[0;34m'dataset_from_tensor'\u001b[0m\u001b[0;34m]\u001b[0m \u001b[0;34m=\u001b[0m \u001b[0mbenchmark_ds\u001b[0m\u001b[0;34m(\u001b[0m\u001b[0mget_dataset_from_tensor\u001b[0m\u001b[0;34m(\u001b[0m\u001b[0msize\u001b[0m\u001b[0;34m)\u001b[0m\u001b[0;34m,\u001b[0m \u001b[0mbatch_size\u001b[0m\u001b[0;34m,\u001b[0m \u001b[0mprefetch\u001b[0m\u001b[0;34m)\u001b[0m\u001b[0;34m\u001b[0m\u001b[0;34m\u001b[0m\u001b[0m\n\u001b[0;32m---> 49\u001b[0;31m     \u001b[0mresults\u001b[0m\u001b[0;34m[\u001b[0m\u001b[0;34m'dataset_from_generator'\u001b[0m\u001b[0;34m]\u001b[0m \u001b[0;34m=\u001b[0m \u001b[0mbenchmark_ds\u001b[0m\u001b[0;34m(\u001b[0m\u001b[0mget_dataset_from_generator\u001b[0m\u001b[0;34m(\u001b[0m\u001b[0msize\u001b[0m\u001b[0;34m)\u001b[0m\u001b[0;34m,\u001b[0m \u001b[0mbatch_size\u001b[0m\u001b[0;34m,\u001b[0m \u001b[0mprefetch\u001b[0m\u001b[0;34m)\u001b[0m\u001b[0;34m\u001b[0m\u001b[0;34m\u001b[0m\u001b[0m\n\u001b[0m\u001b[1;32m     50\u001b[0m     \u001b[0mresults\u001b[0m\u001b[0;34m[\u001b[0m\u001b[0;34m'dataset_from_files'\u001b[0m\u001b[0;34m]\u001b[0m \u001b[0;34m=\u001b[0m \u001b[0mbenchmark_ds\u001b[0m\u001b[0;34m(\u001b[0m\u001b[0mget_dataset_from_files\u001b[0m\u001b[0;34m(\u001b[0m\u001b[0msize\u001b[0m\u001b[0;34m)\u001b[0m\u001b[0;34m,\u001b[0m \u001b[0mbatch_size\u001b[0m\u001b[0;34m,\u001b[0m \u001b[0mprefetch\u001b[0m\u001b[0;34m)\u001b[0m\u001b[0;34m\u001b[0m\u001b[0;34m\u001b[0m\u001b[0m\n\u001b[1;32m     51\u001b[0m \u001b[0;34m\u001b[0m\u001b[0m\n",
      "\u001b[0;32m<ipython-input-182-55c3ef3ca980>\u001b[0m in \u001b[0;36mbenchmark_ds\u001b[0;34m(ds, batch_size, prefetch)\u001b[0m\n\u001b[1;32m     41\u001b[0m         \u001b[0mds\u001b[0m \u001b[0;34m=\u001b[0m \u001b[0mds\u001b[0m\u001b[0;34m.\u001b[0m\u001b[0mprefetch\u001b[0m\u001b[0;34m(\u001b[0m\u001b[0mprefetch\u001b[0m\u001b[0;34m)\u001b[0m\u001b[0;34m\u001b[0m\u001b[0;34m\u001b[0m\u001b[0m\n\u001b[1;32m     42\u001b[0m \u001b[0;34m\u001b[0m\u001b[0m\n\u001b[0;32m---> 43\u001b[0;31m     \u001b[0;32mreturn\u001b[0m \u001b[0mtfds\u001b[0m\u001b[0;34m.\u001b[0m\u001b[0mbenchmark\u001b[0m\u001b[0;34m(\u001b[0m\u001b[0mds\u001b[0m\u001b[0;34m,\u001b[0m \u001b[0mbatch_size\u001b[0m\u001b[0;34m=\u001b[0m\u001b[0mbatch_size\u001b[0m\u001b[0;34m)\u001b[0m\u001b[0;34m.\u001b[0m\u001b[0mstats\u001b[0m\u001b[0;34m.\u001b[0m\u001b[0mavg\u001b[0m\u001b[0;34m[\u001b[0m\u001b[0;34m'first+lasts'\u001b[0m\u001b[0;34m]\u001b[0m\u001b[0;34m\u001b[0m\u001b[0;34m\u001b[0m\u001b[0m\n\u001b[0m\u001b[1;32m     44\u001b[0m \u001b[0;34m\u001b[0m\u001b[0m\n\u001b[1;32m     45\u001b[0m \u001b[0;32mdef\u001b[0m \u001b[0mrun_benchmark_with_size\u001b[0m\u001b[0;34m(\u001b[0m\u001b[0msize\u001b[0m\u001b[0;34m,\u001b[0m \u001b[0mbatch_size\u001b[0m \u001b[0;34m=\u001b[0m \u001b[0;32mNone\u001b[0m\u001b[0;34m,\u001b[0m \u001b[0mprefetch\u001b[0m \u001b[0;34m=\u001b[0m \u001b[0;32mNone\u001b[0m\u001b[0;34m)\u001b[0m\u001b[0;34m:\u001b[0m\u001b[0;34m\u001b[0m\u001b[0;34m\u001b[0m\u001b[0m\n",
      "\u001b[0;32m~.local/lib/python3.6/site-packages/tensorflow_datasets/core/utils/benchmark.py\u001b[0m in \u001b[0;36mbenchmark\u001b[0;34m(ds, num_iter, batch_size)\u001b[0m\n\u001b[1;32m     89\u001b[0m   \u001b[0;31m# Benchmark the following batches\u001b[0m\u001b[0;34m\u001b[0m\u001b[0;34m\u001b[0m\u001b[0;34m\u001b[0m\u001b[0m\n\u001b[1;32m     90\u001b[0m   \u001b[0mi\u001b[0m \u001b[0;34m=\u001b[0m \u001b[0;34m-\u001b[0m\u001b[0;36m1\u001b[0m\u001b[0;34m\u001b[0m\u001b[0;34m\u001b[0m\u001b[0m\n\u001b[0;32m---> 91\u001b[0;31m   \u001b[0;32mfor\u001b[0m \u001b[0mi\u001b[0m\u001b[0;34m,\u001b[0m \u001b[0m_\u001b[0m \u001b[0;32min\u001b[0m \u001b[0mtqdm_utils\u001b[0m\u001b[0;34m.\u001b[0m\u001b[0mtqdm\u001b[0m\u001b[0;34m(\u001b[0m\u001b[0menumerate\u001b[0m\u001b[0;34m(\u001b[0m\u001b[0mds_iter\u001b[0m\u001b[0;34m)\u001b[0m\u001b[0;34m,\u001b[0m \u001b[0minitial\u001b[0m\u001b[0;34m=\u001b[0m\u001b[0;36m1\u001b[0m\u001b[0;34m,\u001b[0m \u001b[0mtotal\u001b[0m\u001b[0;34m=\u001b[0m\u001b[0mtotal\u001b[0m\u001b[0;34m)\u001b[0m\u001b[0;34m:\u001b[0m\u001b[0;34m\u001b[0m\u001b[0;34m\u001b[0m\u001b[0m\n\u001b[0m\u001b[1;32m     92\u001b[0m     \u001b[0;32mif\u001b[0m \u001b[0mnum_iter\u001b[0m \u001b[0;32mand\u001b[0m \u001b[0mi\u001b[0m \u001b[0;34m>\u001b[0m \u001b[0mnum_iter\u001b[0m\u001b[0;34m:\u001b[0m\u001b[0;34m\u001b[0m\u001b[0;34m\u001b[0m\u001b[0m\n\u001b[1;32m     93\u001b[0m       \u001b[0;32mbreak\u001b[0m\u001b[0;34m\u001b[0m\u001b[0;34m\u001b[0m\u001b[0m\n",
      "\u001b[0;32m~.local/lib/python3.6/site-packages/tqdm/notebook.py\u001b[0m in \u001b[0;36m__iter__\u001b[0;34m(self)\u001b[0m\n\u001b[1;32m    255\u001b[0m     \u001b[0;32mdef\u001b[0m \u001b[0m__iter__\u001b[0m\u001b[0;34m(\u001b[0m\u001b[0mself\u001b[0m\u001b[0;34m)\u001b[0m\u001b[0;34m:\u001b[0m\u001b[0;34m\u001b[0m\u001b[0;34m\u001b[0m\u001b[0m\n\u001b[1;32m    256\u001b[0m         \u001b[0;32mtry\u001b[0m\u001b[0;34m:\u001b[0m\u001b[0;34m\u001b[0m\u001b[0;34m\u001b[0m\u001b[0m\n\u001b[0;32m--> 257\u001b[0;31m             \u001b[0;32mfor\u001b[0m \u001b[0mobj\u001b[0m \u001b[0;32min\u001b[0m \u001b[0msuper\u001b[0m\u001b[0;34m(\u001b[0m\u001b[0mtqdm_notebook\u001b[0m\u001b[0;34m,\u001b[0m \u001b[0mself\u001b[0m\u001b[0;34m)\u001b[0m\u001b[0;34m.\u001b[0m\u001b[0m__iter__\u001b[0m\u001b[0;34m(\u001b[0m\u001b[0;34m)\u001b[0m\u001b[0;34m:\u001b[0m\u001b[0;34m\u001b[0m\u001b[0;34m\u001b[0m\u001b[0m\n\u001b[0m\u001b[1;32m    258\u001b[0m                 \u001b[0;31m# return super(tqdm...) will not catch exception\u001b[0m\u001b[0;34m\u001b[0m\u001b[0;34m\u001b[0m\u001b[0;34m\u001b[0m\u001b[0m\n\u001b[1;32m    259\u001b[0m                 \u001b[0;32myield\u001b[0m \u001b[0mobj\u001b[0m\u001b[0;34m\u001b[0m\u001b[0;34m\u001b[0m\u001b[0m\n",
      "\u001b[0;32m~.local/lib/python3.6/site-packages/tqdm/std.py\u001b[0m in \u001b[0;36m__iter__\u001b[0;34m(self)\u001b[0m\n\u001b[1;32m   1183\u001b[0m \u001b[0;34m\u001b[0m\u001b[0m\n\u001b[1;32m   1184\u001b[0m         \u001b[0;32mtry\u001b[0m\u001b[0;34m:\u001b[0m\u001b[0;34m\u001b[0m\u001b[0;34m\u001b[0m\u001b[0m\n\u001b[0;32m-> 1185\u001b[0;31m             \u001b[0;32mfor\u001b[0m \u001b[0mobj\u001b[0m \u001b[0;32min\u001b[0m \u001b[0miterable\u001b[0m\u001b[0;34m:\u001b[0m\u001b[0;34m\u001b[0m\u001b[0;34m\u001b[0m\u001b[0m\n\u001b[0m\u001b[1;32m   1186\u001b[0m                 \u001b[0;32myield\u001b[0m \u001b[0mobj\u001b[0m\u001b[0;34m\u001b[0m\u001b[0;34m\u001b[0m\u001b[0m\n\u001b[1;32m   1187\u001b[0m                 \u001b[0;31m# Update and possibly print the progressbar.\u001b[0m\u001b[0;34m\u001b[0m\u001b[0;34m\u001b[0m\u001b[0;34m\u001b[0m\u001b[0m\n",
      "\u001b[0;32m~.local/lib/python3.6/site-packages/tensorflow/python/data/ops/iterator_ops.py\u001b[0m in \u001b[0;36m__next__\u001b[0;34m(self)\u001b[0m\n\u001b[1;32m    745\u001b[0m   \u001b[0;32mdef\u001b[0m \u001b[0m__next__\u001b[0m\u001b[0;34m(\u001b[0m\u001b[0mself\u001b[0m\u001b[0;34m)\u001b[0m\u001b[0;34m:\u001b[0m\u001b[0;34m\u001b[0m\u001b[0;34m\u001b[0m\u001b[0m\n\u001b[1;32m    746\u001b[0m     \u001b[0;32mtry\u001b[0m\u001b[0;34m:\u001b[0m\u001b[0;34m\u001b[0m\u001b[0;34m\u001b[0m\u001b[0m\n\u001b[0;32m--> 747\u001b[0;31m       \u001b[0;32mreturn\u001b[0m \u001b[0mself\u001b[0m\u001b[0;34m.\u001b[0m\u001b[0m_next_internal\u001b[0m\u001b[0;34m(\u001b[0m\u001b[0;34m)\u001b[0m\u001b[0;34m\u001b[0m\u001b[0;34m\u001b[0m\u001b[0m\n\u001b[0m\u001b[1;32m    748\u001b[0m     \u001b[0;32mexcept\u001b[0m \u001b[0merrors\u001b[0m\u001b[0;34m.\u001b[0m\u001b[0mOutOfRangeError\u001b[0m\u001b[0;34m:\u001b[0m\u001b[0;34m\u001b[0m\u001b[0;34m\u001b[0m\u001b[0m\n\u001b[1;32m    749\u001b[0m       \u001b[0;32mraise\u001b[0m \u001b[0mStopIteration\u001b[0m\u001b[0;34m\u001b[0m\u001b[0;34m\u001b[0m\u001b[0m\n",
      "\u001b[0;32m~.local/lib/python3.6/site-packages/tensorflow/python/data/ops/iterator_ops.py\u001b[0m in \u001b[0;36m_next_internal\u001b[0;34m(self)\u001b[0m\n\u001b[1;32m    731\u001b[0m           \u001b[0mself\u001b[0m\u001b[0;34m.\u001b[0m\u001b[0m_iterator_resource\u001b[0m\u001b[0;34m,\u001b[0m\u001b[0;34m\u001b[0m\u001b[0;34m\u001b[0m\u001b[0m\n\u001b[1;32m    732\u001b[0m           \u001b[0moutput_types\u001b[0m\u001b[0;34m=\u001b[0m\u001b[0mself\u001b[0m\u001b[0;34m.\u001b[0m\u001b[0m_flat_output_types\u001b[0m\u001b[0;34m,\u001b[0m\u001b[0;34m\u001b[0m\u001b[0;34m\u001b[0m\u001b[0m\n\u001b[0;32m--> 733\u001b[0;31m           output_shapes=self._flat_output_shapes)\n\u001b[0m\u001b[1;32m    734\u001b[0m \u001b[0;34m\u001b[0m\u001b[0m\n\u001b[1;32m    735\u001b[0m       \u001b[0;32mtry\u001b[0m\u001b[0;34m:\u001b[0m\u001b[0;34m\u001b[0m\u001b[0;34m\u001b[0m\u001b[0m\n",
      "\u001b[0;32m~.local/lib/python3.6/site-packages/tensorflow/python/ops/gen_dataset_ops.py\u001b[0m in \u001b[0;36miterator_get_next\u001b[0;34m(iterator, output_types, output_shapes, name)\u001b[0m\n\u001b[1;32m   2574\u001b[0m       _result = pywrap_tfe.TFE_Py_FastPathExecute(\n\u001b[1;32m   2575\u001b[0m         \u001b[0m_ctx\u001b[0m\u001b[0;34m,\u001b[0m \u001b[0;34m\"IteratorGetNext\"\u001b[0m\u001b[0;34m,\u001b[0m \u001b[0mname\u001b[0m\u001b[0;34m,\u001b[0m \u001b[0miterator\u001b[0m\u001b[0;34m,\u001b[0m \u001b[0;34m\"output_types\"\u001b[0m\u001b[0;34m,\u001b[0m \u001b[0moutput_types\u001b[0m\u001b[0;34m,\u001b[0m\u001b[0;34m\u001b[0m\u001b[0;34m\u001b[0m\u001b[0m\n\u001b[0;32m-> 2576\u001b[0;31m         \"output_shapes\", output_shapes)\n\u001b[0m\u001b[1;32m   2577\u001b[0m       \u001b[0;32mreturn\u001b[0m \u001b[0m_result\u001b[0m\u001b[0;34m\u001b[0m\u001b[0;34m\u001b[0m\u001b[0m\n\u001b[1;32m   2578\u001b[0m     \u001b[0;32mexcept\u001b[0m \u001b[0m_core\u001b[0m\u001b[0;34m.\u001b[0m\u001b[0m_NotOkStatusException\u001b[0m \u001b[0;32mas\u001b[0m \u001b[0me\u001b[0m\u001b[0;34m:\u001b[0m\u001b[0;34m\u001b[0m\u001b[0;34m\u001b[0m\u001b[0m\n",
      "\u001b[0;31mKeyboardInterrupt\u001b[0m: "
     ]
    }
   ],
   "source": [
    "results = []\n",
    "for _ in range(5):\n",
    "    res = run_benchmark()\n",
    "    results.append(res)"
   ]
  },
  {
   "cell_type": "code",
   "execution_count": 92,
   "metadata": {},
   "outputs": [],
   "source": [
    "result_dfs = [visualize_benchmark_results(res) for res in results]"
   ]
  },
  {
   "cell_type": "code",
   "execution_count": 95,
   "metadata": {},
   "outputs": [],
   "source": [
    "for i, df in enumerate(result_dfs):\n",
    "    df['run'] = i+1"
   ]
  },
  {
   "cell_type": "code",
   "execution_count": 110,
   "metadata": {},
   "outputs": [
    {
     "data": {
      "text/html": [
       "<div>\n",
       "<style scoped>\n",
       "    .dataframe tbody tr th:only-of-type {\n",
       "        vertical-align: middle;\n",
       "    }\n",
       "\n",
       "    .dataframe tbody tr th {\n",
       "        vertical-align: top;\n",
       "    }\n",
       "\n",
       "    .dataframe thead th {\n",
       "        text-align: right;\n",
       "    }\n",
       "</style>\n",
       "<table border=\"1\" class=\"dataframe\">\n",
       "  <thead>\n",
       "    <tr style=\"text-align: right;\">\n",
       "      <th></th>\n",
       "      <th>size</th>\n",
       "      <th>batch_size</th>\n",
       "      <th>prefetch</th>\n",
       "      <th>from_tensor</th>\n",
       "      <th>from_generator</th>\n",
       "      <th>from_files</th>\n",
       "      <th>run</th>\n",
       "    </tr>\n",
       "  </thead>\n",
       "  <tbody>\n",
       "    <tr>\n",
       "      <th>0</th>\n",
       "      <td>1000</td>\n",
       "      <td>1.0</td>\n",
       "      <td>0.0</td>\n",
       "      <td>1.410819e+04</td>\n",
       "      <td>3365.141628</td>\n",
       "      <td>8930.594288</td>\n",
       "      <td>1</td>\n",
       "    </tr>\n",
       "    <tr>\n",
       "      <th>1</th>\n",
       "      <td>1000</td>\n",
       "      <td>1.0</td>\n",
       "      <td>-1.0</td>\n",
       "      <td>1.420705e+04</td>\n",
       "      <td>4077.956750</td>\n",
       "      <td>9195.248157</td>\n",
       "      <td>1</td>\n",
       "    </tr>\n",
       "    <tr>\n",
       "      <th>2</th>\n",
       "      <td>1000</td>\n",
       "      <td>10.0</td>\n",
       "      <td>0.0</td>\n",
       "      <td>3.635073e+04</td>\n",
       "      <td>4230.533981</td>\n",
       "      <td>19714.254887</td>\n",
       "      <td>1</td>\n",
       "    </tr>\n",
       "    <tr>\n",
       "      <th>3</th>\n",
       "      <td>1000</td>\n",
       "      <td>10.0</td>\n",
       "      <td>-1.0</td>\n",
       "      <td>3.340592e+04</td>\n",
       "      <td>4285.387911</td>\n",
       "      <td>19983.829884</td>\n",
       "      <td>1</td>\n",
       "    </tr>\n",
       "    <tr>\n",
       "      <th>4</th>\n",
       "      <td>1000</td>\n",
       "      <td>25.0</td>\n",
       "      <td>0.0</td>\n",
       "      <td>3.760974e+04</td>\n",
       "      <td>4584.943791</td>\n",
       "      <td>19866.944319</td>\n",
       "      <td>1</td>\n",
       "    </tr>\n",
       "    <tr>\n",
       "      <th>...</th>\n",
       "      <td>...</td>\n",
       "      <td>...</td>\n",
       "      <td>...</td>\n",
       "      <td>...</td>\n",
       "      <td>...</td>\n",
       "      <td>...</td>\n",
       "      <td>...</td>\n",
       "    </tr>\n",
       "    <tr>\n",
       "      <th>145</th>\n",
       "      <td>100000</td>\n",
       "      <td>25.0</td>\n",
       "      <td>-1.0</td>\n",
       "      <td>4.413745e+05</td>\n",
       "      <td>5165.027121</td>\n",
       "      <td>264958.564296</td>\n",
       "      <td>5</td>\n",
       "    </tr>\n",
       "    <tr>\n",
       "      <th>146</th>\n",
       "      <td>100000</td>\n",
       "      <td>100.0</td>\n",
       "      <td>0.0</td>\n",
       "      <td>8.092316e+05</td>\n",
       "      <td>5173.177437</td>\n",
       "      <td>280426.603345</td>\n",
       "      <td>5</td>\n",
       "    </tr>\n",
       "    <tr>\n",
       "      <th>147</th>\n",
       "      <td>100000</td>\n",
       "      <td>100.0</td>\n",
       "      <td>-1.0</td>\n",
       "      <td>1.377955e+06</td>\n",
       "      <td>5189.775925</td>\n",
       "      <td>362099.778085</td>\n",
       "      <td>5</td>\n",
       "    </tr>\n",
       "    <tr>\n",
       "      <th>148</th>\n",
       "      <td>100000</td>\n",
       "      <td>250.0</td>\n",
       "      <td>0.0</td>\n",
       "      <td>1.092072e+06</td>\n",
       "      <td>5196.522664</td>\n",
       "      <td>327919.260638</td>\n",
       "      <td>5</td>\n",
       "    </tr>\n",
       "    <tr>\n",
       "      <th>149</th>\n",
       "      <td>100000</td>\n",
       "      <td>250.0</td>\n",
       "      <td>-1.0</td>\n",
       "      <td>1.382109e+06</td>\n",
       "      <td>5143.011567</td>\n",
       "      <td>367318.600371</td>\n",
       "      <td>5</td>\n",
       "    </tr>\n",
       "  </tbody>\n",
       "</table>\n",
       "<p>150 rows × 7 columns</p>\n",
       "</div>"
      ],
      "text/plain": [
       "       size  batch_size  prefetch   from_tensor  from_generator  \\\n",
       "0      1000         1.0       0.0  1.410819e+04     3365.141628   \n",
       "1      1000         1.0      -1.0  1.420705e+04     4077.956750   \n",
       "2      1000        10.0       0.0  3.635073e+04     4230.533981   \n",
       "3      1000        10.0      -1.0  3.340592e+04     4285.387911   \n",
       "4      1000        25.0       0.0  3.760974e+04     4584.943791   \n",
       "..      ...         ...       ...           ...             ...   \n",
       "145  100000        25.0      -1.0  4.413745e+05     5165.027121   \n",
       "146  100000       100.0       0.0  8.092316e+05     5173.177437   \n",
       "147  100000       100.0      -1.0  1.377955e+06     5189.775925   \n",
       "148  100000       250.0       0.0  1.092072e+06     5196.522664   \n",
       "149  100000       250.0      -1.0  1.382109e+06     5143.011567   \n",
       "\n",
       "        from_files  run  \n",
       "0      8930.594288    1  \n",
       "1      9195.248157    1  \n",
       "2     19714.254887    1  \n",
       "3     19983.829884    1  \n",
       "4     19866.944319    1  \n",
       "..             ...  ...  \n",
       "145  264958.564296    5  \n",
       "146  280426.603345    5  \n",
       "147  362099.778085    5  \n",
       "148  327919.260638    5  \n",
       "149  367318.600371    5  \n",
       "\n",
       "[150 rows x 7 columns]"
      ]
     },
     "execution_count": 110,
     "metadata": {},
     "output_type": "execute_result"
    }
   ],
   "source": [
    "results = pd.concat(result_dfs, ignore_index=True)\n",
    "results.batch_size.fillna(1, inplace=True)\n",
    "results.prefetch.fillna(0, inplace=True)\n",
    "results"
   ]
  },
  {
   "cell_type": "code",
   "execution_count": null,
   "metadata": {},
   "outputs": [],
   "source": [
    "results.to_csv('dataset_benchmark.csv')"
   ]
  },
  {
   "cell_type": "code",
   "execution_count": 143,
   "metadata": {},
   "outputs": [
    {
     "data": {
      "text/html": [
       "<div>\n",
       "<style scoped>\n",
       "    .dataframe tbody tr th:only-of-type {\n",
       "        vertical-align: middle;\n",
       "    }\n",
       "\n",
       "    .dataframe tbody tr th {\n",
       "        vertical-align: top;\n",
       "    }\n",
       "\n",
       "    .dataframe thead tr th {\n",
       "        text-align: left;\n",
       "    }\n",
       "</style>\n",
       "<table border=\"1\" class=\"dataframe\">\n",
       "  <thead>\n",
       "    <tr>\n",
       "      <th></th>\n",
       "      <th>size</th>\n",
       "      <th>batch_size</th>\n",
       "      <th>prefetch</th>\n",
       "      <th colspan=\"7\" halign=\"left\">from_tensor</th>\n",
       "      <th>...</th>\n",
       "      <th colspan=\"2\" halign=\"left\">from_files</th>\n",
       "      <th colspan=\"8\" halign=\"left\">run</th>\n",
       "    </tr>\n",
       "    <tr>\n",
       "      <th></th>\n",
       "      <th></th>\n",
       "      <th></th>\n",
       "      <th></th>\n",
       "      <th>count</th>\n",
       "      <th>mean</th>\n",
       "      <th>std</th>\n",
       "      <th>min</th>\n",
       "      <th>25%</th>\n",
       "      <th>50%</th>\n",
       "      <th>75%</th>\n",
       "      <th>...</th>\n",
       "      <th>75%</th>\n",
       "      <th>max</th>\n",
       "      <th>count</th>\n",
       "      <th>mean</th>\n",
       "      <th>std</th>\n",
       "      <th>min</th>\n",
       "      <th>25%</th>\n",
       "      <th>50%</th>\n",
       "      <th>75%</th>\n",
       "      <th>max</th>\n",
       "    </tr>\n",
       "  </thead>\n",
       "  <tbody>\n",
       "    <tr>\n",
       "      <th>0</th>\n",
       "      <td>1000</td>\n",
       "      <td>1.0</td>\n",
       "      <td>-1.0</td>\n",
       "      <td>5.0</td>\n",
       "      <td>1.374173e+04</td>\n",
       "      <td>483.974706</td>\n",
       "      <td>1.293988e+04</td>\n",
       "      <td>1.375872e+04</td>\n",
       "      <td>1.378724e+04</td>\n",
       "      <td>1.401574e+04</td>\n",
       "      <td>...</td>\n",
       "      <td>9254.461335</td>\n",
       "      <td>9419.990108</td>\n",
       "      <td>5.0</td>\n",
       "      <td>3.0</td>\n",
       "      <td>1.581139</td>\n",
       "      <td>1.0</td>\n",
       "      <td>2.0</td>\n",
       "      <td>3.0</td>\n",
       "      <td>4.0</td>\n",
       "      <td>5.0</td>\n",
       "    </tr>\n",
       "    <tr>\n",
       "      <th>1</th>\n",
       "      <td>1000</td>\n",
       "      <td>1.0</td>\n",
       "      <td>0.0</td>\n",
       "      <td>5.0</td>\n",
       "      <td>1.408674e+04</td>\n",
       "      <td>541.554969</td>\n",
       "      <td>1.315689e+04</td>\n",
       "      <td>1.410819e+04</td>\n",
       "      <td>1.424130e+04</td>\n",
       "      <td>1.446004e+04</td>\n",
       "      <td>...</td>\n",
       "      <td>8961.723645</td>\n",
       "      <td>8962.046995</td>\n",
       "      <td>5.0</td>\n",
       "      <td>3.0</td>\n",
       "      <td>1.581139</td>\n",
       "      <td>1.0</td>\n",
       "      <td>2.0</td>\n",
       "      <td>3.0</td>\n",
       "      <td>4.0</td>\n",
       "      <td>5.0</td>\n",
       "    </tr>\n",
       "    <tr>\n",
       "      <th>2</th>\n",
       "      <td>1000</td>\n",
       "      <td>10.0</td>\n",
       "      <td>-1.0</td>\n",
       "      <td>5.0</td>\n",
       "      <td>3.381668e+04</td>\n",
       "      <td>331.033379</td>\n",
       "      <td>3.340592e+04</td>\n",
       "      <td>3.355026e+04</td>\n",
       "      <td>3.387204e+04</td>\n",
       "      <td>3.409412e+04</td>\n",
       "      <td>...</td>\n",
       "      <td>20195.705678</td>\n",
       "      <td>20620.690624</td>\n",
       "      <td>5.0</td>\n",
       "      <td>3.0</td>\n",
       "      <td>1.581139</td>\n",
       "      <td>1.0</td>\n",
       "      <td>2.0</td>\n",
       "      <td>3.0</td>\n",
       "      <td>4.0</td>\n",
       "      <td>5.0</td>\n",
       "    </tr>\n",
       "    <tr>\n",
       "      <th>3</th>\n",
       "      <td>1000</td>\n",
       "      <td>10.0</td>\n",
       "      <td>0.0</td>\n",
       "      <td>5.0</td>\n",
       "      <td>3.257733e+04</td>\n",
       "      <td>3023.950333</td>\n",
       "      <td>2.887458e+04</td>\n",
       "      <td>3.015615e+04</td>\n",
       "      <td>3.371022e+04</td>\n",
       "      <td>3.379497e+04</td>\n",
       "      <td>...</td>\n",
       "      <td>19714.254887</td>\n",
       "      <td>20003.011654</td>\n",
       "      <td>5.0</td>\n",
       "      <td>3.0</td>\n",
       "      <td>1.581139</td>\n",
       "      <td>1.0</td>\n",
       "      <td>2.0</td>\n",
       "      <td>3.0</td>\n",
       "      <td>4.0</td>\n",
       "      <td>5.0</td>\n",
       "    </tr>\n",
       "    <tr>\n",
       "      <th>4</th>\n",
       "      <td>1000</td>\n",
       "      <td>25.0</td>\n",
       "      <td>-1.0</td>\n",
       "      <td>5.0</td>\n",
       "      <td>3.658752e+04</td>\n",
       "      <td>2705.539630</td>\n",
       "      <td>3.180654e+04</td>\n",
       "      <td>3.719845e+04</td>\n",
       "      <td>3.762608e+04</td>\n",
       "      <td>3.797021e+04</td>\n",
       "      <td>...</td>\n",
       "      <td>22516.327997</td>\n",
       "      <td>22664.699613</td>\n",
       "      <td>5.0</td>\n",
       "      <td>3.0</td>\n",
       "      <td>1.581139</td>\n",
       "      <td>1.0</td>\n",
       "      <td>2.0</td>\n",
       "      <td>3.0</td>\n",
       "      <td>4.0</td>\n",
       "      <td>5.0</td>\n",
       "    </tr>\n",
       "    <tr>\n",
       "      <th>5</th>\n",
       "      <td>1000</td>\n",
       "      <td>25.0</td>\n",
       "      <td>0.0</td>\n",
       "      <td>5.0</td>\n",
       "      <td>3.753773e+04</td>\n",
       "      <td>248.054911</td>\n",
       "      <td>3.711133e+04</td>\n",
       "      <td>3.756946e+04</td>\n",
       "      <td>3.760974e+04</td>\n",
       "      <td>3.764403e+04</td>\n",
       "      <td>...</td>\n",
       "      <td>21415.988311</td>\n",
       "      <td>21460.012186</td>\n",
       "      <td>5.0</td>\n",
       "      <td>3.0</td>\n",
       "      <td>1.581139</td>\n",
       "      <td>1.0</td>\n",
       "      <td>2.0</td>\n",
       "      <td>3.0</td>\n",
       "      <td>4.0</td>\n",
       "      <td>5.0</td>\n",
       "    </tr>\n",
       "    <tr>\n",
       "      <th>6</th>\n",
       "      <td>1000</td>\n",
       "      <td>100.0</td>\n",
       "      <td>-1.0</td>\n",
       "      <td>5.0</td>\n",
       "      <td>3.862090e+04</td>\n",
       "      <td>1835.253813</td>\n",
       "      <td>3.535935e+04</td>\n",
       "      <td>3.927853e+04</td>\n",
       "      <td>3.927971e+04</td>\n",
       "      <td>3.939774e+04</td>\n",
       "      <td>...</td>\n",
       "      <td>23216.846906</td>\n",
       "      <td>23245.291945</td>\n",
       "      <td>5.0</td>\n",
       "      <td>3.0</td>\n",
       "      <td>1.581139</td>\n",
       "      <td>1.0</td>\n",
       "      <td>2.0</td>\n",
       "      <td>3.0</td>\n",
       "      <td>4.0</td>\n",
       "      <td>5.0</td>\n",
       "    </tr>\n",
       "    <tr>\n",
       "      <th>7</th>\n",
       "      <td>1000</td>\n",
       "      <td>100.0</td>\n",
       "      <td>0.0</td>\n",
       "      <td>5.0</td>\n",
       "      <td>3.758147e+04</td>\n",
       "      <td>1249.592223</td>\n",
       "      <td>3.666599e+04</td>\n",
       "      <td>3.693752e+04</td>\n",
       "      <td>3.697457e+04</td>\n",
       "      <td>3.759734e+04</td>\n",
       "      <td>...</td>\n",
       "      <td>22854.656270</td>\n",
       "      <td>23111.687322</td>\n",
       "      <td>5.0</td>\n",
       "      <td>3.0</td>\n",
       "      <td>1.581139</td>\n",
       "      <td>1.0</td>\n",
       "      <td>2.0</td>\n",
       "      <td>3.0</td>\n",
       "      <td>4.0</td>\n",
       "      <td>5.0</td>\n",
       "    </tr>\n",
       "    <tr>\n",
       "      <th>8</th>\n",
       "      <td>1000</td>\n",
       "      <td>250.0</td>\n",
       "      <td>-1.0</td>\n",
       "      <td>5.0</td>\n",
       "      <td>4.016758e+04</td>\n",
       "      <td>409.757747</td>\n",
       "      <td>3.959463e+04</td>\n",
       "      <td>3.988055e+04</td>\n",
       "      <td>4.039898e+04</td>\n",
       "      <td>4.041179e+04</td>\n",
       "      <td>...</td>\n",
       "      <td>22768.215153</td>\n",
       "      <td>22985.632279</td>\n",
       "      <td>5.0</td>\n",
       "      <td>3.0</td>\n",
       "      <td>1.581139</td>\n",
       "      <td>1.0</td>\n",
       "      <td>2.0</td>\n",
       "      <td>3.0</td>\n",
       "      <td>4.0</td>\n",
       "      <td>5.0</td>\n",
       "    </tr>\n",
       "    <tr>\n",
       "      <th>9</th>\n",
       "      <td>1000</td>\n",
       "      <td>250.0</td>\n",
       "      <td>0.0</td>\n",
       "      <td>5.0</td>\n",
       "      <td>3.839848e+04</td>\n",
       "      <td>2890.764862</td>\n",
       "      <td>3.394873e+04</td>\n",
       "      <td>3.741105e+04</td>\n",
       "      <td>3.892946e+04</td>\n",
       "      <td>4.044325e+04</td>\n",
       "      <td>...</td>\n",
       "      <td>23380.025504</td>\n",
       "      <td>23416.329077</td>\n",
       "      <td>5.0</td>\n",
       "      <td>3.0</td>\n",
       "      <td>1.581139</td>\n",
       "      <td>1.0</td>\n",
       "      <td>2.0</td>\n",
       "      <td>3.0</td>\n",
       "      <td>4.0</td>\n",
       "      <td>5.0</td>\n",
       "    </tr>\n",
       "    <tr>\n",
       "      <th>10</th>\n",
       "      <td>10000</td>\n",
       "      <td>1.0</td>\n",
       "      <td>-1.0</td>\n",
       "      <td>5.0</td>\n",
       "      <td>1.972338e+04</td>\n",
       "      <td>289.461725</td>\n",
       "      <td>1.929148e+04</td>\n",
       "      <td>1.956397e+04</td>\n",
       "      <td>1.988272e+04</td>\n",
       "      <td>1.989192e+04</td>\n",
       "      <td>...</td>\n",
       "      <td>13779.550301</td>\n",
       "      <td>13921.778220</td>\n",
       "      <td>5.0</td>\n",
       "      <td>3.0</td>\n",
       "      <td>1.581139</td>\n",
       "      <td>1.0</td>\n",
       "      <td>2.0</td>\n",
       "      <td>3.0</td>\n",
       "      <td>4.0</td>\n",
       "      <td>5.0</td>\n",
       "    </tr>\n",
       "    <tr>\n",
       "      <th>11</th>\n",
       "      <td>10000</td>\n",
       "      <td>1.0</td>\n",
       "      <td>0.0</td>\n",
       "      <td>5.0</td>\n",
       "      <td>2.117858e+04</td>\n",
       "      <td>392.573275</td>\n",
       "      <td>2.048939e+04</td>\n",
       "      <td>2.125666e+04</td>\n",
       "      <td>2.129892e+04</td>\n",
       "      <td>2.140881e+04</td>\n",
       "      <td>...</td>\n",
       "      <td>13521.797058</td>\n",
       "      <td>13631.050284</td>\n",
       "      <td>5.0</td>\n",
       "      <td>3.0</td>\n",
       "      <td>1.581139</td>\n",
       "      <td>1.0</td>\n",
       "      <td>2.0</td>\n",
       "      <td>3.0</td>\n",
       "      <td>4.0</td>\n",
       "      <td>5.0</td>\n",
       "    </tr>\n",
       "    <tr>\n",
       "      <th>12</th>\n",
       "      <td>10000</td>\n",
       "      <td>10.0</td>\n",
       "      <td>-1.0</td>\n",
       "      <td>5.0</td>\n",
       "      <td>1.332727e+05</td>\n",
       "      <td>2996.773998</td>\n",
       "      <td>1.281144e+05</td>\n",
       "      <td>1.337222e+05</td>\n",
       "      <td>1.338713e+05</td>\n",
       "      <td>1.349358e+05</td>\n",
       "      <td>...</td>\n",
       "      <td>83786.331817</td>\n",
       "      <td>84421.631581</td>\n",
       "      <td>5.0</td>\n",
       "      <td>3.0</td>\n",
       "      <td>1.581139</td>\n",
       "      <td>1.0</td>\n",
       "      <td>2.0</td>\n",
       "      <td>3.0</td>\n",
       "      <td>4.0</td>\n",
       "      <td>5.0</td>\n",
       "    </tr>\n",
       "    <tr>\n",
       "      <th>13</th>\n",
       "      <td>10000</td>\n",
       "      <td>10.0</td>\n",
       "      <td>0.0</td>\n",
       "      <td>5.0</td>\n",
       "      <td>1.268015e+05</td>\n",
       "      <td>4738.179163</td>\n",
       "      <td>1.204209e+05</td>\n",
       "      <td>1.240750e+05</td>\n",
       "      <td>1.279019e+05</td>\n",
       "      <td>1.287567e+05</td>\n",
       "      <td>...</td>\n",
       "      <td>67243.791890</td>\n",
       "      <td>69254.062142</td>\n",
       "      <td>5.0</td>\n",
       "      <td>3.0</td>\n",
       "      <td>1.581139</td>\n",
       "      <td>1.0</td>\n",
       "      <td>2.0</td>\n",
       "      <td>3.0</td>\n",
       "      <td>4.0</td>\n",
       "      <td>5.0</td>\n",
       "    </tr>\n",
       "    <tr>\n",
       "      <th>14</th>\n",
       "      <td>10000</td>\n",
       "      <td>25.0</td>\n",
       "      <td>-1.0</td>\n",
       "      <td>5.0</td>\n",
       "      <td>2.184556e+05</td>\n",
       "      <td>10330.197071</td>\n",
       "      <td>2.004668e+05</td>\n",
       "      <td>2.193756e+05</td>\n",
       "      <td>2.222809e+05</td>\n",
       "      <td>2.248743e+05</td>\n",
       "      <td>...</td>\n",
       "      <td>134089.436851</td>\n",
       "      <td>136189.017282</td>\n",
       "      <td>5.0</td>\n",
       "      <td>3.0</td>\n",
       "      <td>1.581139</td>\n",
       "      <td>1.0</td>\n",
       "      <td>2.0</td>\n",
       "      <td>3.0</td>\n",
       "      <td>4.0</td>\n",
       "      <td>5.0</td>\n",
       "    </tr>\n",
       "    <tr>\n",
       "      <th>15</th>\n",
       "      <td>10000</td>\n",
       "      <td>25.0</td>\n",
       "      <td>0.0</td>\n",
       "      <td>5.0</td>\n",
       "      <td>2.077185e+05</td>\n",
       "      <td>4083.655072</td>\n",
       "      <td>2.006359e+05</td>\n",
       "      <td>2.087463e+05</td>\n",
       "      <td>2.088005e+05</td>\n",
       "      <td>2.092177e+05</td>\n",
       "      <td>...</td>\n",
       "      <td>98418.522601</td>\n",
       "      <td>101716.895758</td>\n",
       "      <td>5.0</td>\n",
       "      <td>3.0</td>\n",
       "      <td>1.581139</td>\n",
       "      <td>1.0</td>\n",
       "      <td>2.0</td>\n",
       "      <td>3.0</td>\n",
       "      <td>4.0</td>\n",
       "      <td>5.0</td>\n",
       "    </tr>\n",
       "    <tr>\n",
       "      <th>16</th>\n",
       "      <td>10000</td>\n",
       "      <td>100.0</td>\n",
       "      <td>-1.0</td>\n",
       "      <td>5.0</td>\n",
       "      <td>3.252034e+05</td>\n",
       "      <td>26371.524906</td>\n",
       "      <td>2.857754e+05</td>\n",
       "      <td>3.100668e+05</td>\n",
       "      <td>3.414546e+05</td>\n",
       "      <td>3.441502e+05</td>\n",
       "      <td>...</td>\n",
       "      <td>152930.144629</td>\n",
       "      <td>154004.406405</td>\n",
       "      <td>5.0</td>\n",
       "      <td>3.0</td>\n",
       "      <td>1.581139</td>\n",
       "      <td>1.0</td>\n",
       "      <td>2.0</td>\n",
       "      <td>3.0</td>\n",
       "      <td>4.0</td>\n",
       "      <td>5.0</td>\n",
       "    </tr>\n",
       "    <tr>\n",
       "      <th>17</th>\n",
       "      <td>10000</td>\n",
       "      <td>100.0</td>\n",
       "      <td>0.0</td>\n",
       "      <td>5.0</td>\n",
       "      <td>2.749794e+05</td>\n",
       "      <td>29321.838810</td>\n",
       "      <td>2.423077e+05</td>\n",
       "      <td>2.435357e+05</td>\n",
       "      <td>2.935263e+05</td>\n",
       "      <td>2.971722e+05</td>\n",
       "      <td>...</td>\n",
       "      <td>136420.488983</td>\n",
       "      <td>136593.018260</td>\n",
       "      <td>5.0</td>\n",
       "      <td>3.0</td>\n",
       "      <td>1.581139</td>\n",
       "      <td>1.0</td>\n",
       "      <td>2.0</td>\n",
       "      <td>3.0</td>\n",
       "      <td>4.0</td>\n",
       "      <td>5.0</td>\n",
       "    </tr>\n",
       "    <tr>\n",
       "      <th>18</th>\n",
       "      <td>10000</td>\n",
       "      <td>250.0</td>\n",
       "      <td>-1.0</td>\n",
       "      <td>5.0</td>\n",
       "      <td>3.342280e+05</td>\n",
       "      <td>23328.530144</td>\n",
       "      <td>2.929114e+05</td>\n",
       "      <td>3.409478e+05</td>\n",
       "      <td>3.418620e+05</td>\n",
       "      <td>3.465082e+05</td>\n",
       "      <td>...</td>\n",
       "      <td>152569.962444</td>\n",
       "      <td>153984.602587</td>\n",
       "      <td>5.0</td>\n",
       "      <td>3.0</td>\n",
       "      <td>1.581139</td>\n",
       "      <td>1.0</td>\n",
       "      <td>2.0</td>\n",
       "      <td>3.0</td>\n",
       "      <td>4.0</td>\n",
       "      <td>5.0</td>\n",
       "    </tr>\n",
       "    <tr>\n",
       "      <th>19</th>\n",
       "      <td>10000</td>\n",
       "      <td>250.0</td>\n",
       "      <td>0.0</td>\n",
       "      <td>5.0</td>\n",
       "      <td>3.010163e+05</td>\n",
       "      <td>17562.493723</td>\n",
       "      <td>2.742716e+05</td>\n",
       "      <td>2.982125e+05</td>\n",
       "      <td>2.993665e+05</td>\n",
       "      <td>3.133575e+05</td>\n",
       "      <td>...</td>\n",
       "      <td>145888.280330</td>\n",
       "      <td>146498.144967</td>\n",
       "      <td>5.0</td>\n",
       "      <td>3.0</td>\n",
       "      <td>1.581139</td>\n",
       "      <td>1.0</td>\n",
       "      <td>2.0</td>\n",
       "      <td>3.0</td>\n",
       "      <td>4.0</td>\n",
       "      <td>5.0</td>\n",
       "    </tr>\n",
       "    <tr>\n",
       "      <th>20</th>\n",
       "      <td>100000</td>\n",
       "      <td>1.0</td>\n",
       "      <td>-1.0</td>\n",
       "      <td>5.0</td>\n",
       "      <td>2.007332e+04</td>\n",
       "      <td>250.300916</td>\n",
       "      <td>1.977781e+04</td>\n",
       "      <td>1.983132e+04</td>\n",
       "      <td>2.018182e+04</td>\n",
       "      <td>2.026638e+04</td>\n",
       "      <td>...</td>\n",
       "      <td>14408.341054</td>\n",
       "      <td>14496.243342</td>\n",
       "      <td>5.0</td>\n",
       "      <td>3.0</td>\n",
       "      <td>1.581139</td>\n",
       "      <td>1.0</td>\n",
       "      <td>2.0</td>\n",
       "      <td>3.0</td>\n",
       "      <td>4.0</td>\n",
       "      <td>5.0</td>\n",
       "    </tr>\n",
       "    <tr>\n",
       "      <th>21</th>\n",
       "      <td>100000</td>\n",
       "      <td>1.0</td>\n",
       "      <td>0.0</td>\n",
       "      <td>5.0</td>\n",
       "      <td>2.228242e+04</td>\n",
       "      <td>91.195131</td>\n",
       "      <td>2.219850e+04</td>\n",
       "      <td>2.221279e+04</td>\n",
       "      <td>2.225339e+04</td>\n",
       "      <td>2.232976e+04</td>\n",
       "      <td>...</td>\n",
       "      <td>14417.580594</td>\n",
       "      <td>14455.260743</td>\n",
       "      <td>5.0</td>\n",
       "      <td>3.0</td>\n",
       "      <td>1.581139</td>\n",
       "      <td>1.0</td>\n",
       "      <td>2.0</td>\n",
       "      <td>3.0</td>\n",
       "      <td>4.0</td>\n",
       "      <td>5.0</td>\n",
       "    </tr>\n",
       "    <tr>\n",
       "      <th>22</th>\n",
       "      <td>100000</td>\n",
       "      <td>10.0</td>\n",
       "      <td>-1.0</td>\n",
       "      <td>5.0</td>\n",
       "      <td>1.827068e+05</td>\n",
       "      <td>5186.355172</td>\n",
       "      <td>1.754610e+05</td>\n",
       "      <td>1.811124e+05</td>\n",
       "      <td>1.814913e+05</td>\n",
       "      <td>1.872282e+05</td>\n",
       "      <td>...</td>\n",
       "      <td>122522.600372</td>\n",
       "      <td>122525.932779</td>\n",
       "      <td>5.0</td>\n",
       "      <td>3.0</td>\n",
       "      <td>1.581139</td>\n",
       "      <td>1.0</td>\n",
       "      <td>2.0</td>\n",
       "      <td>3.0</td>\n",
       "      <td>4.0</td>\n",
       "      <td>5.0</td>\n",
       "    </tr>\n",
       "    <tr>\n",
       "      <th>23</th>\n",
       "      <td>100000</td>\n",
       "      <td>10.0</td>\n",
       "      <td>0.0</td>\n",
       "      <td>5.0</td>\n",
       "      <td>1.797734e+05</td>\n",
       "      <td>2940.755856</td>\n",
       "      <td>1.751683e+05</td>\n",
       "      <td>1.789046e+05</td>\n",
       "      <td>1.802814e+05</td>\n",
       "      <td>1.821111e+05</td>\n",
       "      <td>...</td>\n",
       "      <td>90144.417369</td>\n",
       "      <td>91596.522813</td>\n",
       "      <td>5.0</td>\n",
       "      <td>3.0</td>\n",
       "      <td>1.581139</td>\n",
       "      <td>1.0</td>\n",
       "      <td>2.0</td>\n",
       "      <td>3.0</td>\n",
       "      <td>4.0</td>\n",
       "      <td>5.0</td>\n",
       "    </tr>\n",
       "    <tr>\n",
       "      <th>24</th>\n",
       "      <td>100000</td>\n",
       "      <td>25.0</td>\n",
       "      <td>-1.0</td>\n",
       "      <td>5.0</td>\n",
       "      <td>4.341525e+05</td>\n",
       "      <td>8610.307990</td>\n",
       "      <td>4.207571e+05</td>\n",
       "      <td>4.319323e+05</td>\n",
       "      <td>4.348279e+05</td>\n",
       "      <td>4.413745e+05</td>\n",
       "      <td>...</td>\n",
       "      <td>265787.018658</td>\n",
       "      <td>272204.229825</td>\n",
       "      <td>5.0</td>\n",
       "      <td>3.0</td>\n",
       "      <td>1.581139</td>\n",
       "      <td>1.0</td>\n",
       "      <td>2.0</td>\n",
       "      <td>3.0</td>\n",
       "      <td>4.0</td>\n",
       "      <td>5.0</td>\n",
       "    </tr>\n",
       "    <tr>\n",
       "      <th>25</th>\n",
       "      <td>100000</td>\n",
       "      <td>25.0</td>\n",
       "      <td>0.0</td>\n",
       "      <td>5.0</td>\n",
       "      <td>3.748799e+05</td>\n",
       "      <td>4366.916733</td>\n",
       "      <td>3.675799e+05</td>\n",
       "      <td>3.741476e+05</td>\n",
       "      <td>3.768143e+05</td>\n",
       "      <td>3.776836e+05</td>\n",
       "      <td>...</td>\n",
       "      <td>163130.138221</td>\n",
       "      <td>163248.188650</td>\n",
       "      <td>5.0</td>\n",
       "      <td>3.0</td>\n",
       "      <td>1.581139</td>\n",
       "      <td>1.0</td>\n",
       "      <td>2.0</td>\n",
       "      <td>3.0</td>\n",
       "      <td>4.0</td>\n",
       "      <td>5.0</td>\n",
       "    </tr>\n",
       "    <tr>\n",
       "      <th>26</th>\n",
       "      <td>100000</td>\n",
       "      <td>100.0</td>\n",
       "      <td>-1.0</td>\n",
       "      <td>5.0</td>\n",
       "      <td>1.309418e+06</td>\n",
       "      <td>115338.694116</td>\n",
       "      <td>1.118901e+06</td>\n",
       "      <td>1.280525e+06</td>\n",
       "      <td>1.377955e+06</td>\n",
       "      <td>1.383771e+06</td>\n",
       "      <td>...</td>\n",
       "      <td>365902.992968</td>\n",
       "      <td>370368.910844</td>\n",
       "      <td>5.0</td>\n",
       "      <td>3.0</td>\n",
       "      <td>1.581139</td>\n",
       "      <td>1.0</td>\n",
       "      <td>2.0</td>\n",
       "      <td>3.0</td>\n",
       "      <td>4.0</td>\n",
       "      <td>5.0</td>\n",
       "    </tr>\n",
       "    <tr>\n",
       "      <th>27</th>\n",
       "      <td>100000</td>\n",
       "      <td>100.0</td>\n",
       "      <td>0.0</td>\n",
       "      <td>5.0</td>\n",
       "      <td>8.108014e+05</td>\n",
       "      <td>10249.945711</td>\n",
       "      <td>7.942810e+05</td>\n",
       "      <td>8.092316e+05</td>\n",
       "      <td>8.123128e+05</td>\n",
       "      <td>8.174870e+05</td>\n",
       "      <td>...</td>\n",
       "      <td>279836.141275</td>\n",
       "      <td>280426.603345</td>\n",
       "      <td>5.0</td>\n",
       "      <td>3.0</td>\n",
       "      <td>1.581139</td>\n",
       "      <td>1.0</td>\n",
       "      <td>2.0</td>\n",
       "      <td>3.0</td>\n",
       "      <td>4.0</td>\n",
       "      <td>5.0</td>\n",
       "    </tr>\n",
       "    <tr>\n",
       "      <th>28</th>\n",
       "      <td>100000</td>\n",
       "      <td>250.0</td>\n",
       "      <td>-1.0</td>\n",
       "      <td>5.0</td>\n",
       "      <td>1.420550e+06</td>\n",
       "      <td>47374.113902</td>\n",
       "      <td>1.357222e+06</td>\n",
       "      <td>1.382109e+06</td>\n",
       "      <td>1.450615e+06</td>\n",
       "      <td>1.453727e+06</td>\n",
       "      <td>...</td>\n",
       "      <td>369136.207210</td>\n",
       "      <td>370733.494217</td>\n",
       "      <td>5.0</td>\n",
       "      <td>3.0</td>\n",
       "      <td>1.581139</td>\n",
       "      <td>1.0</td>\n",
       "      <td>2.0</td>\n",
       "      <td>3.0</td>\n",
       "      <td>4.0</td>\n",
       "      <td>5.0</td>\n",
       "    </tr>\n",
       "    <tr>\n",
       "      <th>29</th>\n",
       "      <td>100000</td>\n",
       "      <td>250.0</td>\n",
       "      <td>0.0</td>\n",
       "      <td>5.0</td>\n",
       "      <td>1.080769e+06</td>\n",
       "      <td>8948.085359</td>\n",
       "      <td>1.068733e+06</td>\n",
       "      <td>1.077011e+06</td>\n",
       "      <td>1.079591e+06</td>\n",
       "      <td>1.086437e+06</td>\n",
       "      <td>...</td>\n",
       "      <td>327919.260638</td>\n",
       "      <td>329750.046200</td>\n",
       "      <td>5.0</td>\n",
       "      <td>3.0</td>\n",
       "      <td>1.581139</td>\n",
       "      <td>1.0</td>\n",
       "      <td>2.0</td>\n",
       "      <td>3.0</td>\n",
       "      <td>4.0</td>\n",
       "      <td>5.0</td>\n",
       "    </tr>\n",
       "  </tbody>\n",
       "</table>\n",
       "<p>30 rows × 35 columns</p>\n",
       "</div>"
      ],
      "text/plain": [
       "      size batch_size prefetch from_tensor                               \\\n",
       "                                     count          mean            std   \n",
       "0     1000        1.0     -1.0         5.0  1.374173e+04     483.974706   \n",
       "1     1000        1.0      0.0         5.0  1.408674e+04     541.554969   \n",
       "2     1000       10.0     -1.0         5.0  3.381668e+04     331.033379   \n",
       "3     1000       10.0      0.0         5.0  3.257733e+04    3023.950333   \n",
       "4     1000       25.0     -1.0         5.0  3.658752e+04    2705.539630   \n",
       "5     1000       25.0      0.0         5.0  3.753773e+04     248.054911   \n",
       "6     1000      100.0     -1.0         5.0  3.862090e+04    1835.253813   \n",
       "7     1000      100.0      0.0         5.0  3.758147e+04    1249.592223   \n",
       "8     1000      250.0     -1.0         5.0  4.016758e+04     409.757747   \n",
       "9     1000      250.0      0.0         5.0  3.839848e+04    2890.764862   \n",
       "10   10000        1.0     -1.0         5.0  1.972338e+04     289.461725   \n",
       "11   10000        1.0      0.0         5.0  2.117858e+04     392.573275   \n",
       "12   10000       10.0     -1.0         5.0  1.332727e+05    2996.773998   \n",
       "13   10000       10.0      0.0         5.0  1.268015e+05    4738.179163   \n",
       "14   10000       25.0     -1.0         5.0  2.184556e+05   10330.197071   \n",
       "15   10000       25.0      0.0         5.0  2.077185e+05    4083.655072   \n",
       "16   10000      100.0     -1.0         5.0  3.252034e+05   26371.524906   \n",
       "17   10000      100.0      0.0         5.0  2.749794e+05   29321.838810   \n",
       "18   10000      250.0     -1.0         5.0  3.342280e+05   23328.530144   \n",
       "19   10000      250.0      0.0         5.0  3.010163e+05   17562.493723   \n",
       "20  100000        1.0     -1.0         5.0  2.007332e+04     250.300916   \n",
       "21  100000        1.0      0.0         5.0  2.228242e+04      91.195131   \n",
       "22  100000       10.0     -1.0         5.0  1.827068e+05    5186.355172   \n",
       "23  100000       10.0      0.0         5.0  1.797734e+05    2940.755856   \n",
       "24  100000       25.0     -1.0         5.0  4.341525e+05    8610.307990   \n",
       "25  100000       25.0      0.0         5.0  3.748799e+05    4366.916733   \n",
       "26  100000      100.0     -1.0         5.0  1.309418e+06  115338.694116   \n",
       "27  100000      100.0      0.0         5.0  8.108014e+05   10249.945711   \n",
       "28  100000      250.0     -1.0         5.0  1.420550e+06   47374.113902   \n",
       "29  100000      250.0      0.0         5.0  1.080769e+06    8948.085359   \n",
       "\n",
       "                                                            ...  \\\n",
       "             min           25%           50%           75%  ...   \n",
       "0   1.293988e+04  1.375872e+04  1.378724e+04  1.401574e+04  ...   \n",
       "1   1.315689e+04  1.410819e+04  1.424130e+04  1.446004e+04  ...   \n",
       "2   3.340592e+04  3.355026e+04  3.387204e+04  3.409412e+04  ...   \n",
       "3   2.887458e+04  3.015615e+04  3.371022e+04  3.379497e+04  ...   \n",
       "4   3.180654e+04  3.719845e+04  3.762608e+04  3.797021e+04  ...   \n",
       "5   3.711133e+04  3.756946e+04  3.760974e+04  3.764403e+04  ...   \n",
       "6   3.535935e+04  3.927853e+04  3.927971e+04  3.939774e+04  ...   \n",
       "7   3.666599e+04  3.693752e+04  3.697457e+04  3.759734e+04  ...   \n",
       "8   3.959463e+04  3.988055e+04  4.039898e+04  4.041179e+04  ...   \n",
       "9   3.394873e+04  3.741105e+04  3.892946e+04  4.044325e+04  ...   \n",
       "10  1.929148e+04  1.956397e+04  1.988272e+04  1.989192e+04  ...   \n",
       "11  2.048939e+04  2.125666e+04  2.129892e+04  2.140881e+04  ...   \n",
       "12  1.281144e+05  1.337222e+05  1.338713e+05  1.349358e+05  ...   \n",
       "13  1.204209e+05  1.240750e+05  1.279019e+05  1.287567e+05  ...   \n",
       "14  2.004668e+05  2.193756e+05  2.222809e+05  2.248743e+05  ...   \n",
       "15  2.006359e+05  2.087463e+05  2.088005e+05  2.092177e+05  ...   \n",
       "16  2.857754e+05  3.100668e+05  3.414546e+05  3.441502e+05  ...   \n",
       "17  2.423077e+05  2.435357e+05  2.935263e+05  2.971722e+05  ...   \n",
       "18  2.929114e+05  3.409478e+05  3.418620e+05  3.465082e+05  ...   \n",
       "19  2.742716e+05  2.982125e+05  2.993665e+05  3.133575e+05  ...   \n",
       "20  1.977781e+04  1.983132e+04  2.018182e+04  2.026638e+04  ...   \n",
       "21  2.219850e+04  2.221279e+04  2.225339e+04  2.232976e+04  ...   \n",
       "22  1.754610e+05  1.811124e+05  1.814913e+05  1.872282e+05  ...   \n",
       "23  1.751683e+05  1.789046e+05  1.802814e+05  1.821111e+05  ...   \n",
       "24  4.207571e+05  4.319323e+05  4.348279e+05  4.413745e+05  ...   \n",
       "25  3.675799e+05  3.741476e+05  3.768143e+05  3.776836e+05  ...   \n",
       "26  1.118901e+06  1.280525e+06  1.377955e+06  1.383771e+06  ...   \n",
       "27  7.942810e+05  8.092316e+05  8.123128e+05  8.174870e+05  ...   \n",
       "28  1.357222e+06  1.382109e+06  1.450615e+06  1.453727e+06  ...   \n",
       "29  1.068733e+06  1.077011e+06  1.079591e+06  1.086437e+06  ...   \n",
       "\n",
       "       from_files                  run                                          \n",
       "              75%            max count mean       std  min  25%  50%  75%  max  \n",
       "0     9254.461335    9419.990108   5.0  3.0  1.581139  1.0  2.0  3.0  4.0  5.0  \n",
       "1     8961.723645    8962.046995   5.0  3.0  1.581139  1.0  2.0  3.0  4.0  5.0  \n",
       "2    20195.705678   20620.690624   5.0  3.0  1.581139  1.0  2.0  3.0  4.0  5.0  \n",
       "3    19714.254887   20003.011654   5.0  3.0  1.581139  1.0  2.0  3.0  4.0  5.0  \n",
       "4    22516.327997   22664.699613   5.0  3.0  1.581139  1.0  2.0  3.0  4.0  5.0  \n",
       "5    21415.988311   21460.012186   5.0  3.0  1.581139  1.0  2.0  3.0  4.0  5.0  \n",
       "6    23216.846906   23245.291945   5.0  3.0  1.581139  1.0  2.0  3.0  4.0  5.0  \n",
       "7    22854.656270   23111.687322   5.0  3.0  1.581139  1.0  2.0  3.0  4.0  5.0  \n",
       "8    22768.215153   22985.632279   5.0  3.0  1.581139  1.0  2.0  3.0  4.0  5.0  \n",
       "9    23380.025504   23416.329077   5.0  3.0  1.581139  1.0  2.0  3.0  4.0  5.0  \n",
       "10   13779.550301   13921.778220   5.0  3.0  1.581139  1.0  2.0  3.0  4.0  5.0  \n",
       "11   13521.797058   13631.050284   5.0  3.0  1.581139  1.0  2.0  3.0  4.0  5.0  \n",
       "12   83786.331817   84421.631581   5.0  3.0  1.581139  1.0  2.0  3.0  4.0  5.0  \n",
       "13   67243.791890   69254.062142   5.0  3.0  1.581139  1.0  2.0  3.0  4.0  5.0  \n",
       "14  134089.436851  136189.017282   5.0  3.0  1.581139  1.0  2.0  3.0  4.0  5.0  \n",
       "15   98418.522601  101716.895758   5.0  3.0  1.581139  1.0  2.0  3.0  4.0  5.0  \n",
       "16  152930.144629  154004.406405   5.0  3.0  1.581139  1.0  2.0  3.0  4.0  5.0  \n",
       "17  136420.488983  136593.018260   5.0  3.0  1.581139  1.0  2.0  3.0  4.0  5.0  \n",
       "18  152569.962444  153984.602587   5.0  3.0  1.581139  1.0  2.0  3.0  4.0  5.0  \n",
       "19  145888.280330  146498.144967   5.0  3.0  1.581139  1.0  2.0  3.0  4.0  5.0  \n",
       "20   14408.341054   14496.243342   5.0  3.0  1.581139  1.0  2.0  3.0  4.0  5.0  \n",
       "21   14417.580594   14455.260743   5.0  3.0  1.581139  1.0  2.0  3.0  4.0  5.0  \n",
       "22  122522.600372  122525.932779   5.0  3.0  1.581139  1.0  2.0  3.0  4.0  5.0  \n",
       "23   90144.417369   91596.522813   5.0  3.0  1.581139  1.0  2.0  3.0  4.0  5.0  \n",
       "24  265787.018658  272204.229825   5.0  3.0  1.581139  1.0  2.0  3.0  4.0  5.0  \n",
       "25  163130.138221  163248.188650   5.0  3.0  1.581139  1.0  2.0  3.0  4.0  5.0  \n",
       "26  365902.992968  370368.910844   5.0  3.0  1.581139  1.0  2.0  3.0  4.0  5.0  \n",
       "27  279836.141275  280426.603345   5.0  3.0  1.581139  1.0  2.0  3.0  4.0  5.0  \n",
       "28  369136.207210  370733.494217   5.0  3.0  1.581139  1.0  2.0  3.0  4.0  5.0  \n",
       "29  327919.260638  329750.046200   5.0  3.0  1.581139  1.0  2.0  3.0  4.0  5.0  \n",
       "\n",
       "[30 rows x 35 columns]"
      ]
     },
     "execution_count": 143,
     "metadata": {},
     "output_type": "execute_result"
    }
   ],
   "source": [
    "agg_results = results.groupby(['size', 'batch_size', 'prefetch']).describe()\n",
    "agg_results.reset_index(inplace=True)\n",
    "agg_results"
   ]
  },
  {
   "cell_type": "markdown",
   "metadata": {},
   "source": [
    "following [this](https://matplotlib.org/1.3.1/examples/pylab_examples/barchart_demo.html) matplotlib example"
   ]
  },
  {
   "cell_type": "code",
   "execution_count": 156,
   "metadata": {},
   "outputs": [],
   "source": [
    "import matplotlib.pyplot as plt\n",
    "import numpy as np"
   ]
  },
  {
   "cell_type": "code",
   "execution_count": 252,
   "metadata": {},
   "outputs": [],
   "source": [
    "def plot_speed_by_dataset_type(\n",
    "    cmp_results: pd.DataFrame,\n",
    "    title: str = 'test',\n",
    "    bars = ['dataset_from_tensor', 'dataset_from_generator', 'dataset_from_files'], \n",
    "    colours = ['tab:blue', 'tab:green', 'tab:orange'],\n",
    "    bar_width = 0.3,\n",
    "    opacity = 1.0,\n",
    "    error_config = {'ecolor': 'black'},\n",
    "    ax = None,\n",
    "):\n",
    "    index = np.arange(len(cmp_results))\n",
    "    if ax is None:\n",
    "        fig, ax = plt.subplots()\n",
    "        given_ax = False\n",
    "    else:\n",
    "        given_ax = True\n",
    "\n",
    "    for i, bar in enumerate(bars):\n",
    "        ax.bar(\n",
    "            index + i*bar_width,\n",
    "            cmp_results[bar]['mean'],\n",
    "            bar_width,\n",
    "            alpha=opacity,\n",
    "            color=colours[i],\n",
    "            yerr=cmp_results[bar]['std'],\n",
    "            error_kw=error_config,\n",
    "            label=bar\n",
    "        )\n",
    "\n",
    "    ax.set_xlabel('Sample Size')\n",
    "    ax.set_ylabel('Throughput in Samples / Second')\n",
    "    ax.ticklabel_format(style='plain')\n",
    "    ax.set_title(title)\n",
    "    ax.set_xticks(index + bar_width)\n",
    "    ax.set_xticklabels(cmp_results['size'].unique())\n",
    "    ax.legend()\n",
    "\n",
    "    if not given_ax:\n",
    "        fig.tight_layout()\n",
    "        plt.show()"
   ]
  },
  {
   "cell_type": "code",
   "execution_count": 253,
   "metadata": {},
   "outputs": [
    {
     "data": {
      "text/html": [
       "<div>\n",
       "<style scoped>\n",
       "    .dataframe tbody tr th:only-of-type {\n",
       "        vertical-align: middle;\n",
       "    }\n",
       "\n",
       "    .dataframe tbody tr th {\n",
       "        vertical-align: top;\n",
       "    }\n",
       "\n",
       "    .dataframe thead tr th {\n",
       "        text-align: left;\n",
       "    }\n",
       "</style>\n",
       "<table border=\"1\" class=\"dataframe\">\n",
       "  <thead>\n",
       "    <tr>\n",
       "      <th></th>\n",
       "      <th>size</th>\n",
       "      <th>batch_size</th>\n",
       "      <th>prefetch</th>\n",
       "      <th colspan=\"7\" halign=\"left\">from_tensor</th>\n",
       "      <th>...</th>\n",
       "      <th colspan=\"2\" halign=\"left\">from_files</th>\n",
       "      <th colspan=\"8\" halign=\"left\">run</th>\n",
       "    </tr>\n",
       "    <tr>\n",
       "      <th></th>\n",
       "      <th></th>\n",
       "      <th></th>\n",
       "      <th></th>\n",
       "      <th>count</th>\n",
       "      <th>mean</th>\n",
       "      <th>std</th>\n",
       "      <th>min</th>\n",
       "      <th>25%</th>\n",
       "      <th>50%</th>\n",
       "      <th>75%</th>\n",
       "      <th>...</th>\n",
       "      <th>75%</th>\n",
       "      <th>max</th>\n",
       "      <th>count</th>\n",
       "      <th>mean</th>\n",
       "      <th>std</th>\n",
       "      <th>min</th>\n",
       "      <th>25%</th>\n",
       "      <th>50%</th>\n",
       "      <th>75%</th>\n",
       "      <th>max</th>\n",
       "    </tr>\n",
       "  </thead>\n",
       "  <tbody>\n",
       "    <tr>\n",
       "      <th>1</th>\n",
       "      <td>1000</td>\n",
       "      <td>1.0</td>\n",
       "      <td>0.0</td>\n",
       "      <td>5.0</td>\n",
       "      <td>14086.740433</td>\n",
       "      <td>541.554969</td>\n",
       "      <td>13156.894294</td>\n",
       "      <td>14108.187735</td>\n",
       "      <td>14241.296293</td>\n",
       "      <td>14460.044165</td>\n",
       "      <td>...</td>\n",
       "      <td>8961.723645</td>\n",
       "      <td>8962.046995</td>\n",
       "      <td>5.0</td>\n",
       "      <td>3.0</td>\n",
       "      <td>1.581139</td>\n",
       "      <td>1.0</td>\n",
       "      <td>2.0</td>\n",
       "      <td>3.0</td>\n",
       "      <td>4.0</td>\n",
       "      <td>5.0</td>\n",
       "    </tr>\n",
       "    <tr>\n",
       "      <th>11</th>\n",
       "      <td>10000</td>\n",
       "      <td>1.0</td>\n",
       "      <td>0.0</td>\n",
       "      <td>5.0</td>\n",
       "      <td>21178.581299</td>\n",
       "      <td>392.573275</td>\n",
       "      <td>20489.389184</td>\n",
       "      <td>21256.656910</td>\n",
       "      <td>21298.915331</td>\n",
       "      <td>21408.814442</td>\n",
       "      <td>...</td>\n",
       "      <td>13521.797058</td>\n",
       "      <td>13631.050284</td>\n",
       "      <td>5.0</td>\n",
       "      <td>3.0</td>\n",
       "      <td>1.581139</td>\n",
       "      <td>1.0</td>\n",
       "      <td>2.0</td>\n",
       "      <td>3.0</td>\n",
       "      <td>4.0</td>\n",
       "      <td>5.0</td>\n",
       "    </tr>\n",
       "    <tr>\n",
       "      <th>21</th>\n",
       "      <td>100000</td>\n",
       "      <td>1.0</td>\n",
       "      <td>0.0</td>\n",
       "      <td>5.0</td>\n",
       "      <td>22282.421838</td>\n",
       "      <td>91.195131</td>\n",
       "      <td>22198.504048</td>\n",
       "      <td>22212.786374</td>\n",
       "      <td>22253.389202</td>\n",
       "      <td>22329.764716</td>\n",
       "      <td>...</td>\n",
       "      <td>14417.580594</td>\n",
       "      <td>14455.260743</td>\n",
       "      <td>5.0</td>\n",
       "      <td>3.0</td>\n",
       "      <td>1.581139</td>\n",
       "      <td>1.0</td>\n",
       "      <td>2.0</td>\n",
       "      <td>3.0</td>\n",
       "      <td>4.0</td>\n",
       "      <td>5.0</td>\n",
       "    </tr>\n",
       "  </tbody>\n",
       "</table>\n",
       "<p>3 rows × 35 columns</p>\n",
       "</div>"
      ],
      "text/plain": [
       "      size batch_size prefetch from_tensor                            \\\n",
       "                                     count          mean         std   \n",
       "1     1000        1.0      0.0         5.0  14086.740433  541.554969   \n",
       "11   10000        1.0      0.0         5.0  21178.581299  392.573275   \n",
       "21  100000        1.0      0.0         5.0  22282.421838   91.195131   \n",
       "\n",
       "                                                            ...    from_files  \\\n",
       "             min           25%           50%           75%  ...           75%   \n",
       "1   13156.894294  14108.187735  14241.296293  14460.044165  ...   8961.723645   \n",
       "11  20489.389184  21256.656910  21298.915331  21408.814442  ...  13521.797058   \n",
       "21  22198.504048  22212.786374  22253.389202  22329.764716  ...  14417.580594   \n",
       "\n",
       "                   run                                          \n",
       "             max count mean       std  min  25%  50%  75%  max  \n",
       "1    8962.046995   5.0  3.0  1.581139  1.0  2.0  3.0  4.0  5.0  \n",
       "11  13631.050284   5.0  3.0  1.581139  1.0  2.0  3.0  4.0  5.0  \n",
       "21  14455.260743   5.0  3.0  1.581139  1.0  2.0  3.0  4.0  5.0  \n",
       "\n",
       "[3 rows x 35 columns]"
      ]
     },
     "execution_count": 253,
     "metadata": {},
     "output_type": "execute_result"
    }
   ],
   "source": [
    "agg_results[(agg_results.batch_size == 1.0) & (agg_results.prefetch == 0.0)]"
   ]
  },
  {
   "cell_type": "code",
   "execution_count": 254,
   "metadata": {
    "scrolled": false
   },
   "outputs": [
    {
     "data": {
      "image/png": "[encoded data removed]",
      "text/plain": [
       "<Figure size 2160x864 with 10 Axes>"
      ]
     },
     "metadata": {
      "needs_background": "light"
     },
     "output_type": "display_data"
    }
   ],
   "source": [
    "batch_sizes = agg_results.batch_size.unique()\n",
    "prefetchings = agg_results.prefetch.unique()\n",
    "\n",
    "size_per_subplot = 6\n",
    "\n",
    "fig, axs = plt.subplots(\n",
    "    len(prefetchings), \n",
    "    len(batch_sizes), \n",
    "    figsize=(len(batch_sizes) * size_per_subplot, len(prefetchings) * size_per_subplot), \n",
    "    sharey=True,\n",
    ")\n",
    "\n",
    "for j, prefetch in enumerate(reversed(prefetchings)):\n",
    "    for i, batch_size in enumerate(batch_sizes):\n",
    "        plot_speed_by_dataset_type(\n",
    "            agg_results[(agg_results.batch_size == batch_size) & (agg_results.prefetch == prefetch)],\n",
    "            f\"Speed of TF Datasets (Batching={int(batch_size)}, {'no ' if prefetch == 0.0 else ''}Prefetching)\",\n",
    "            bars = ['from_tensor', 'from_generator', 'from_files'],\n",
    "            ax = axs[j][i],\n",
    "        )\n",
    "\n",
    "fig.tight_layout()\n",
    "plt.show()"
   ]
  },
  {
   "cell_type": "code",
   "execution_count": 256,
   "metadata": {
    "scrolled": false
   },
   "outputs": [
    {
     "data": {
      "image/png": "[encoded data removed]",
      "text/plain": [
       "<Figure size 864x2160 with 10 Axes>"
      ]
     },
     "metadata": {
      "needs_background": "light"
     },
     "output_type": "display_data"
    }
   ],
   "source": [
    "batch_sizes = agg_results.batch_size.unique()\n",
    "prefetchings = agg_results.prefetch.unique()\n",
    "\n",
    "size_per_subplot = 6\n",
    "\n",
    "fig, axs = plt.subplots(\n",
    "    len(batch_sizes), \n",
    "    len(prefetchings), \n",
    "    figsize=(len(prefetchings) * size_per_subplot, len(batch_sizes) * size_per_subplot), \n",
    "    sharey=False,\n",
    ")\n",
    "\n",
    "for j, prefetch in enumerate(reversed(prefetchings)):\n",
    "    for i, batch_size in enumerate(batch_sizes):\n",
    "        plot_speed_by_dataset_type(\n",
    "            agg_results[(agg_results.batch_size == batch_size) & (agg_results.prefetch == prefetch)],\n",
    "            f\"Speed of TF Datasets (Batching={int(batch_size)}, {'no ' if prefetch == 0.0 else ''}Prefetching)\",\n",
    "            bars = ['from_tensor', 'from_generator', 'from_files'],\n",
    "            ax = axs[i][j],\n",
    "        )\n",
    "\n",
    "fig.tight_layout()\n",
    "plt.show()"
   ]
  },
  {
   "cell_type": "code",
   "execution_count": null,
   "metadata": {},
   "outputs": [],
   "source": []
  }
 ],
 "metadata": {
  "kernelspec": {
   "display_name": "Python 3",
   "language": "python",
   "name": "python3"
  },
  "language_info": {
   "codemirror_mode": {
    "name": "ipython",
    "version": 3
   },
   "file_extension": ".py",
   "mimetype": "text/x-python",
   "name": "python",
   "nbconvert_exporter": "python",
   "pygments_lexer": "ipython3",
   "version": "3.6.9"
  }
 },
 "nbformat": 4,
 "nbformat_minor": 5
}
