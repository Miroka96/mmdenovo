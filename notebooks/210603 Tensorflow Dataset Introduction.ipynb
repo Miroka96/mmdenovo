{
 "cells": [
  {
   "cell_type": "markdown",
   "id": "6bcf7626",
   "metadata": {},
   "source": [
    "# Scalable Tensorflow Dataset Introduction"
   ]
  },
  {
   "cell_type": "code",
   "execution_count": 94,
   "id": "58b238ae",
   "metadata": {},
   "outputs": [],
   "source": [
    "import os\n",
    "import tensorflow as tf\n",
    "import tensorflow_datasets as tfds\n",
    "import pandas as pd\n",
    "import numpy as np"
   ]
  },
  {
   "cell_type": "markdown",
   "id": "256d26c2",
   "metadata": {},
   "source": [
    "## Datasets, Pandas, and Numpy"
   ]
  },
  {
   "cell_type": "code",
   "execution_count": 8,
   "id": "8cae8f4c",
   "metadata": {},
   "outputs": [
    {
     "data": {
      "text/html": [
       "<div>\n",
       "<style scoped>\n",
       "    .dataframe tbody tr th:only-of-type {\n",
       "        vertical-align: middle;\n",
       "    }\n",
       "\n",
       "    .dataframe tbody tr th {\n",
       "        vertical-align: top;\n",
       "    }\n",
       "\n",
       "    .dataframe thead th {\n",
       "        text-align: right;\n",
       "    }\n",
       "</style>\n",
       "<table border=\"1\" class=\"dataframe\">\n",
       "  <thead>\n",
       "    <tr style=\"text-align: right;\">\n",
       "      <th></th>\n",
       "      <th>0</th>\n",
       "    </tr>\n",
       "  </thead>\n",
       "  <tbody>\n",
       "    <tr>\n",
       "      <th>0</th>\n",
       "      <td>0</td>\n",
       "    </tr>\n",
       "    <tr>\n",
       "      <th>1</th>\n",
       "      <td>1</td>\n",
       "    </tr>\n",
       "    <tr>\n",
       "      <th>2</th>\n",
       "      <td>2</td>\n",
       "    </tr>\n",
       "    <tr>\n",
       "      <th>3</th>\n",
       "      <td>3</td>\n",
       "    </tr>\n",
       "    <tr>\n",
       "      <th>4</th>\n",
       "      <td>4</td>\n",
       "    </tr>\n",
       "    <tr>\n",
       "      <th>5</th>\n",
       "      <td>5</td>\n",
       "    </tr>\n",
       "    <tr>\n",
       "      <th>6</th>\n",
       "      <td>6</td>\n",
       "    </tr>\n",
       "    <tr>\n",
       "      <th>7</th>\n",
       "      <td>7</td>\n",
       "    </tr>\n",
       "    <tr>\n",
       "      <th>8</th>\n",
       "      <td>8</td>\n",
       "    </tr>\n",
       "    <tr>\n",
       "      <th>9</th>\n",
       "      <td>9</td>\n",
       "    </tr>\n",
       "  </tbody>\n",
       "</table>\n",
       "</div>"
      ],
      "text/plain": [
       "   0\n",
       "0  0\n",
       "1  1\n",
       "2  2\n",
       "3  3\n",
       "4  4\n",
       "5  5\n",
       "6  6\n",
       "7  7\n",
       "8  8\n",
       "9  9"
      ]
     },
     "execution_count": 8,
     "metadata": {},
     "output_type": "execute_result"
    }
   ],
   "source": [
    "df = pd.DataFrame(range(10))\n",
    "df"
   ]
  },
  {
   "cell_type": "code",
   "execution_count": 9,
   "id": "2425cf89",
   "metadata": {},
   "outputs": [
    {
     "data": {
      "text/plain": [
       "array([[0],\n",
       "       [1],\n",
       "       [2],\n",
       "       [3],\n",
       "       [4],\n",
       "       [5],\n",
       "       [6],\n",
       "       [7],\n",
       "       [8],\n",
       "       [9]])"
      ]
     },
     "execution_count": 9,
     "metadata": {},
     "output_type": "execute_result"
    }
   ],
   "source": [
    "df.values"
   ]
  },
  {
   "cell_type": "code",
   "execution_count": 21,
   "id": "3f335ee7",
   "metadata": {},
   "outputs": [
    {
     "data": {
      "text/plain": [
       "numpy.ndarray"
      ]
     },
     "execution_count": 21,
     "metadata": {},
     "output_type": "execute_result"
    }
   ],
   "source": [
    "type(df.values)"
   ]
  },
  {
   "cell_type": "code",
   "execution_count": 22,
   "id": "4444c51d",
   "metadata": {},
   "outputs": [
    {
     "data": {
      "text/plain": [
       "<TensorSliceDataset shapes: (1,), types: tf.int64>"
      ]
     },
     "execution_count": 22,
     "metadata": {},
     "output_type": "execute_result"
    }
   ],
   "source": [
    "tf.data.Dataset.from_tensor_slices(df)"
   ]
  },
  {
   "cell_type": "code",
   "execution_count": 26,
   "id": "bc60bab4",
   "metadata": {},
   "outputs": [
    {
     "data": {
      "text/plain": [
       "[array([0]),\n",
       " array([1]),\n",
       " array([2]),\n",
       " array([3]),\n",
       " array([4]),\n",
       " array([5]),\n",
       " array([6]),\n",
       " array([7]),\n",
       " array([8]),\n",
       " array([9])]"
      ]
     },
     "execution_count": 26,
     "metadata": {},
     "output_type": "execute_result"
    }
   ],
   "source": [
    "ds_from_tensor_slices = tf.data.Dataset.from_tensor_slices(df)\n",
    "list(ds_from_tensor_slices.as_numpy_iterator())"
   ]
  },
  {
   "cell_type": "code",
   "execution_count": 24,
   "id": "76456fc3",
   "metadata": {},
   "outputs": [
    {
     "data": {
      "text/plain": [
       "[array([[0],\n",
       "        [1],\n",
       "        [2],\n",
       "        [3],\n",
       "        [4],\n",
       "        [5],\n",
       "        [6],\n",
       "        [7],\n",
       "        [8],\n",
       "        [9]])]"
      ]
     },
     "execution_count": 24,
     "metadata": {},
     "output_type": "execute_result"
    }
   ],
   "source": [
    "ds_from_tensors = tf.data.Dataset.from_tensors(df)\n",
    "list(ds_from_tensors.as_numpy_iterator())"
   ]
  },
  {
   "cell_type": "code",
   "execution_count": 35,
   "id": "a9c75cea",
   "metadata": {},
   "outputs": [
    {
     "name": "stdout",
     "output_type": "stream",
     "text": [
      "0th element from ds from tensor slices: [0]\n",
      "\n",
      "0th element from ds from tensors: [[0]\n",
      " [1]\n",
      " [2]\n",
      " [3]\n",
      " [4]\n",
      " [5]\n",
      " [6]\n",
      " [7]\n",
      " [8]\n",
      " [9]]\n"
     ]
    }
   ],
   "source": [
    "print(\"0th element from ds from tensor slices:\", next(ds_from_tensor_slices.as_numpy_iterator()))\n",
    "print()\n",
    "print(\"0th element from ds from tensors:\", next(ds_from_tensors.as_numpy_iterator()))"
   ]
  },
  {
   "cell_type": "code",
   "execution_count": 37,
   "id": "5195b8db",
   "metadata": {},
   "outputs": [
    {
     "name": "stdout",
     "output_type": "stream",
     "text": [
      "<TensorSliceDataset shapes: (), types: tf.int32>\n",
      "[0, 1, 2, 3, 4, 5, 6, 7, 8, 9]\n"
     ]
    }
   ],
   "source": [
    "range_ds = tf.data.Dataset.from_tensor_slices(list(range(10)))\n",
    "print(range_ds)\n",
    "print(list(range_ds.as_numpy_iterator()))"
   ]
  },
  {
   "cell_type": "code",
   "execution_count": 41,
   "id": "52686867",
   "metadata": {},
   "outputs": [],
   "source": [
    "def print_ds(ds: tf.data.Dataset) -> None:\n",
    "    print(list(ds.as_numpy_iterator()))"
   ]
  },
  {
   "cell_type": "code",
   "execution_count": 42,
   "id": "336fb244",
   "metadata": {},
   "outputs": [
    {
     "name": "stdout",
     "output_type": "stream",
     "text": [
      "<InterleaveDataset shapes: (), types: tf.int32>\n",
      "[0, 0, 0, 0, 0, 0, 0, 0, 1, 1, 1, 1, 1, 1, 1, 0, 2, 2, 2, 2, 2, 2, 1, 3, 3, 3, 3, 3, 2, 4, 4, 4, 4, 3, 5, 5, 5, 4, 6, 6, 5, 7, 6, 7, 8]\n"
     ]
    }
   ],
   "source": [
    "interleaved_ds = range_ds.interleave(lambda i: tf.data.Dataset.from_tensor_slices(range(i)))\n",
    "print(interleaved_ds)\n",
    "print_ds(interleaved_ds)"
   ]
  },
  {
   "cell_type": "code",
   "execution_count": 45,
   "id": "6e492fc6",
   "metadata": {},
   "outputs": [
    {
     "name": "stdout",
     "output_type": "stream",
     "text": [
      "[0, 0, 0, 1, 1, 1, 0, 1, 0, 0, 2, 0, 1, 0, 1, 2, 2, 3, 3, 1, 3, 2, 1, 4, 3, 4, 2, 4, 2, 5, 5, 5, 6, 2, 4, 6, 5, 7, 6, 3, 0, 3, 7, 4, 8]\n",
      "[0, 1, 1, 1, 3, 6, 0, 1, 0, 5, 4, 3, 5, 0, 0, 4, 5, 7, 1, 0, 7, 2, 2, 3, 3, 2, 0, 3, 1, 4, 0, 8, 5, 0, 6, 6, 4, 4, 2, 1, 2, 3, 2, 1, 2]\n"
     ]
    }
   ],
   "source": [
    "print_ds(interleaved_ds.shuffle(buffer_size=10))\n",
    "print_ds(interleaved_ds.shuffle(buffer_size=100))"
   ]
  },
  {
   "cell_type": "code",
   "execution_count": 46,
   "id": "dd884c5c",
   "metadata": {},
   "outputs": [
    {
     "name": "stdout",
     "output_type": "stream",
     "text": [
      "[array([0, 0, 0, 0, 0, 0, 0, 0, 1, 1], dtype=int32), array([1, 1, 1, 1, 1, 0, 2, 2, 2, 2], dtype=int32), array([2, 2, 1, 3, 3, 3, 3, 3, 2, 4], dtype=int32), array([4, 4, 4, 3, 5, 5, 5, 4, 6, 6], dtype=int32), array([5, 7, 6, 7, 8], dtype=int32)]\n"
     ]
    }
   ],
   "source": [
    "print_ds(interleaved_ds.batch(10))"
   ]
  },
  {
   "cell_type": "code",
   "execution_count": 48,
   "id": "eab25c16",
   "metadata": {},
   "outputs": [
    {
     "name": "stdout",
     "output_type": "stream",
     "text": [
      "first batch - then shuffle:\n",
      "[array([0, 0, 0, 0, 0, 0, 0, 0, 1, 1], dtype=int32), array([2, 2, 1, 3, 3, 3, 3, 3, 2, 4], dtype=int32), array([5, 7, 6, 7, 8], dtype=int32), array([1, 1, 1, 1, 1, 0, 2, 2, 2, 2], dtype=int32), array([4, 4, 4, 3, 5, 5, 5, 4, 6, 6], dtype=int32)]\n",
      "\n",
      "first shuffle - then batch:\n",
      "[array([1, 0, 0, 1, 0, 1, 0, 1, 0, 1], dtype=int32), array([2, 0, 2, 1, 0, 1, 2, 3, 0, 3], dtype=int32), array([4, 2, 3, 2, 2, 1, 4, 0, 4, 3], dtype=int32), array([6, 5, 3, 6, 7, 8, 3, 4, 5, 5], dtype=int32), array([6, 4, 5, 7, 2], dtype=int32)]\n"
     ]
    }
   ],
   "source": [
    "print(\"first batch - then shuffle:\")\n",
    "print_ds(interleaved_ds.batch(10).shuffle(10))\n",
    "print()\n",
    "print(\"first shuffle - then batch:\")\n",
    "print_ds(interleaved_ds.shuffle(10).batch(10))"
   ]
  },
  {
   "cell_type": "markdown",
   "id": "f4361373",
   "metadata": {},
   "source": [
    "# Datasets and Generators: What if the data doesn't fit into memory?"
   ]
  },
  {
   "cell_type": "code",
   "execution_count": 52,
   "id": "351c8e4f",
   "metadata": {},
   "outputs": [
    {
     "name": "stdout",
     "output_type": "stream",
     "text": [
      "0\n",
      "1\n",
      "2\n"
     ]
    }
   ],
   "source": [
    "for i in range(3):\n",
    "    print(i)"
   ]
  },
  {
   "cell_type": "code",
   "execution_count": 54,
   "id": "25fe3ece",
   "metadata": {},
   "outputs": [
    {
     "name": "stdout",
     "output_type": "stream",
     "text": [
      "'list' object cannot be interpreted as an integer\n"
     ]
    }
   ],
   "source": [
    "try:\n",
    "    tf.data.Dataset.from_tensor_slices(range(3))\n",
    "except TypeError as e:\n",
    "    print(e)"
   ]
  },
  {
   "cell_type": "code",
   "execution_count": 55,
   "id": "24987faf",
   "metadata": {},
   "outputs": [
    {
     "name": "stdout",
     "output_type": "stream",
     "text": [
      "'list' object cannot be interpreted as an integer\n"
     ]
    }
   ],
   "source": [
    "try:\n",
    "    tf.data.Dataset.from_tensors(range(3))\n",
    "except TypeError as e:\n",
    "    print(e)"
   ]
  },
  {
   "cell_type": "markdown",
   "id": "c289a895",
   "metadata": {},
   "source": [
    "* cannot use tf.data.Dataset.from_tensor_slices\n",
    "* cannot use tf.data.Dataset.from_tensors"
   ]
  },
  {
   "cell_type": "code",
   "execution_count": 66,
   "id": "fb86498e",
   "metadata": {},
   "outputs": [
    {
     "name": "stdout",
     "output_type": "stream",
     "text": [
      "<FlatMapDataset shapes: <unknown>, types: tf.int32>\n",
      "[0, 1, 2]\n"
     ]
    }
   ],
   "source": [
    "def int_generator():\n",
    "    yield from range(3)\n",
    "    \n",
    "ds_from_int_generator = tf.data.Dataset.from_generator(\n",
    "    generator=int_generator,\n",
    "    output_types=tf.int32\n",
    ")\n",
    "print(ds_from_int_generator)\n",
    "print_ds(ds_from_int_generator)"
   ]
  },
  {
   "cell_type": "code",
   "execution_count": 68,
   "id": "793a77f6",
   "metadata": {},
   "outputs": [
    {
     "name": "stdout",
     "output_type": "stream",
     "text": [
      "<FlatMapDataset shapes: (<unknown>, <unknown>), types: (tf.int32, tf.int32)>\n",
      "[(0, 2), (1, 1), (2, 0)]\n"
     ]
    }
   ],
   "source": [
    "def tuple_generator():\n",
    "    yield from zip(range(3), reversed(range(3)))\n",
    "    \n",
    "ds_from_tuple_generator = tf.data.Dataset.from_generator(\n",
    "    generator=tuple_generator,\n",
    "    output_types=(tf.int32, tf.int32)\n",
    ")\n",
    "print(ds_from_tuple_generator)\n",
    "print_ds(ds_from_tuple_generator)"
   ]
  },
  {
   "cell_type": "code",
   "execution_count": 69,
   "id": "faf17ba1",
   "metadata": {},
   "outputs": [
    {
     "data": {
      "application/vnd.jupyter.widget-view+json": {
       "model_id": "7f33ce8e305247a0b4ea3418342bd977",
       "version_major": 2,
       "version_minor": 0
      },
      "text/plain": [
       "1it [00:00, ?it/s]"
      ]
     },
     "metadata": {},
     "output_type": "display_data"
    },
    {
     "name": "stdout",
     "output_type": "stream",
     "text": [
      "\n",
      "************ Summary ************\n",
      "\n",
      "Examples/sec (First included) 41.06 ex/sec (total: 3 ex, 0.07 sec)\n",
      "Examples/sec (First only) 27.53 ex/sec (total: 1 ex, 0.04 sec)\n",
      "Examples/sec (First excluded) 54.44 ex/sec (total: 2 ex, 0.04 sec)\n"
     ]
    },
    {
     "data": {
      "text/html": [
       "<strong>BenchmarkResult:</strong><br/><div>\n",
       "<style scoped>\n",
       "    .dataframe tbody tr th:only-of-type {\n",
       "        vertical-align: middle;\n",
       "    }\n",
       "\n",
       "    .dataframe tbody tr th {\n",
       "        vertical-align: top;\n",
       "    }\n",
       "\n",
       "    .dataframe thead th {\n",
       "        text-align: right;\n",
       "    }\n",
       "</style>\n",
       "<table border=\"1\" class=\"dataframe\">\n",
       "  <thead>\n",
       "    <tr style=\"text-align: right;\">\n",
       "      <th></th>\n",
       "      <th>duration</th>\n",
       "      <th>num_examples</th>\n",
       "      <th>avg</th>\n",
       "    </tr>\n",
       "  </thead>\n",
       "  <tbody>\n",
       "    <tr>\n",
       "      <th>first+lasts</th>\n",
       "      <td>0.073069</td>\n",
       "      <td>3</td>\n",
       "      <td>41.057198</td>\n",
       "    </tr>\n",
       "    <tr>\n",
       "      <th>first</th>\n",
       "      <td>0.036328</td>\n",
       "      <td>1</td>\n",
       "      <td>27.526714</td>\n",
       "    </tr>\n",
       "    <tr>\n",
       "      <th>lasts</th>\n",
       "      <td>0.036740</td>\n",
       "      <td>2</td>\n",
       "      <td>54.435916</td>\n",
       "    </tr>\n",
       "  </tbody>\n",
       "</table>\n",
       "</div>"
      ],
      "text/plain": [
       "BenchmarkResult(stats=             duration  num_examples        avg\n",
       "first+lasts  0.073069             3  41.057198\n",
       "first        0.036328             1  27.526714\n",
       "lasts        0.036740             2  54.435916, raw_stats=                      duration\n",
       "start_time        36999.406041\n",
       "first_batch_time  36999.442370\n",
       "end_time          36999.479110\n",
       "num_iter              3.000000)"
      ]
     },
     "execution_count": 69,
     "metadata": {},
     "output_type": "execute_result"
    }
   ],
   "source": [
    "tfds.benchmark(ds_from_tuple_generator)"
   ]
  },
  {
   "cell_type": "markdown",
   "id": "3c61f27d",
   "metadata": {},
   "source": [
    "## Attention: Python code can be really slow"
   ]
  },
  {
   "cell_type": "code",
   "execution_count": 74,
   "id": "be87480f",
   "metadata": {},
   "outputs": [
    {
     "name": "stdout",
     "output_type": "stream",
     "text": [
      "from tensor slices:\n"
     ]
    },
    {
     "data": {
      "application/vnd.jupyter.widget-view+json": {
       "model_id": "c2db4694b511485eaa954087987ad36e",
       "version_major": 2,
       "version_minor": 0
      },
      "text/plain": [
       "  0%|          | 1/20000 [00:00<?, ?it/s]"
      ]
     },
     "metadata": {},
     "output_type": "display_data"
    },
    {
     "name": "stdout",
     "output_type": "stream",
     "text": [
      "\n",
      "************ Summary ************\n",
      "\n",
      "Examples/sec (First included) 21514.45 ex/sec (total: 20000 ex, 0.93 sec)\n",
      "Examples/sec (First only) 316.36 ex/sec (total: 1 ex, 0.00 sec)\n",
      "Examples/sec (First excluded) 21586.78 ex/sec (total: 19999 ex, 0.93 sec)\n",
      "\n",
      "\n",
      "from generator:\n"
     ]
    },
    {
     "data": {
      "application/vnd.jupyter.widget-view+json": {
       "model_id": "6fa1eb33546d40238d0362157f548be0",
       "version_major": 2,
       "version_minor": 0
      },
      "text/plain": [
       "1it [00:00, ?it/s]"
      ]
     },
     "metadata": {},
     "output_type": "display_data"
    },
    {
     "name": "stdout",
     "output_type": "stream",
     "text": [
      "\n",
      "************ Summary ************\n",
      "\n",
      "Examples/sec (First included) 3702.72 ex/sec (total: 20000 ex, 5.40 sec)\n",
      "Examples/sec (First only) 95.46 ex/sec (total: 1 ex, 0.01 sec)\n",
      "Examples/sec (First excluded) 3709.73 ex/sec (total: 19999 ex, 5.39 sec)\n"
     ]
    },
    {
     "data": {
      "text/html": [
       "<strong>BenchmarkResult:</strong><br/><div>\n",
       "<style scoped>\n",
       "    .dataframe tbody tr th:only-of-type {\n",
       "        vertical-align: middle;\n",
       "    }\n",
       "\n",
       "    .dataframe tbody tr th {\n",
       "        vertical-align: top;\n",
       "    }\n",
       "\n",
       "    .dataframe thead th {\n",
       "        text-align: right;\n",
       "    }\n",
       "</style>\n",
       "<table border=\"1\" class=\"dataframe\">\n",
       "  <thead>\n",
       "    <tr style=\"text-align: right;\">\n",
       "      <th></th>\n",
       "      <th>duration</th>\n",
       "      <th>num_examples</th>\n",
       "      <th>avg</th>\n",
       "    </tr>\n",
       "  </thead>\n",
       "  <tbody>\n",
       "    <tr>\n",
       "      <th>first+lasts</th>\n",
       "      <td>5.401434</td>\n",
       "      <td>20000</td>\n",
       "      <td>3702.720574</td>\n",
       "    </tr>\n",
       "    <tr>\n",
       "      <th>first</th>\n",
       "      <td>0.010476</td>\n",
       "      <td>1</td>\n",
       "      <td>95.456317</td>\n",
       "    </tr>\n",
       "    <tr>\n",
       "      <th>lasts</th>\n",
       "      <td>5.390958</td>\n",
       "      <td>19999</td>\n",
       "      <td>3709.730402</td>\n",
       "    </tr>\n",
       "  </tbody>\n",
       "</table>\n",
       "</div>"
      ],
      "text/plain": [
       "BenchmarkResult(stats=             duration  num_examples          avg\n",
       "first+lasts  5.401434         20000  3702.720574\n",
       "first        0.010476             1    95.456317\n",
       "lasts        5.390958         19999  3709.730402, raw_stats=                      duration\n",
       "start_time        37329.439969\n",
       "first_batch_time  37329.450445\n",
       "end_time          37334.841403\n",
       "num_iter          20000.000000)"
      ]
     },
     "execution_count": 74,
     "metadata": {},
     "output_type": "execute_result"
    }
   ],
   "source": [
    "benchmark_size = 2 * 10**4\n",
    "\n",
    "# dataframe in-memory\n",
    "large_df = pd.DataFrame(range(benchmark_size))\n",
    "large_ds_from_tensor_slices = tf.data.Dataset.from_tensor_slices(large_df)\n",
    "\n",
    "# generator in-memory\n",
    "def large_generator():\n",
    "    yield from range(benchmark_size)\n",
    "large_ds_from_generator = tf.data.Dataset.from_generator(\n",
    "    generator=large_generator,\n",
    "    output_types=tf.int32\n",
    ")\n",
    "\n",
    "print(\"from tensor slices:\")\n",
    "tfds.benchmark(large_ds_from_tensor_slices)\n",
    "\n",
    "print()\n",
    "print()\n",
    "\n",
    "print(\"from generator:\")\n",
    "tfds.benchmark(large_ds_from_generator)"
   ]
  },
  {
   "cell_type": "markdown",
   "id": "65d6205a",
   "metadata": {},
   "source": [
    "## The generator is ~7x slower."
   ]
  },
  {
   "cell_type": "code",
   "execution_count": 126,
   "id": "9ff73d47",
   "metadata": {},
   "outputs": [
    {
     "name": "stdout",
     "output_type": "stream",
     "text": [
      "batched from tensor slices:\n"
     ]
    },
    {
     "data": {
      "application/vnd.jupyter.widget-view+json": {
       "model_id": "8986acb1244449b5adab118aa206f78f",
       "version_major": 2,
       "version_minor": 0
      },
      "text/plain": [
       "  1%|          | 1/157 [00:00<?, ?it/s]"
      ]
     },
     "metadata": {},
     "output_type": "display_data"
    },
    {
     "name": "stdout",
     "output_type": "stream",
     "text": [
      "\n",
      "************ Summary ************\n",
      "\n",
      "Examples/sec (First included) 2949.73 ex/sec (total: 157 ex, 0.05 sec)\n",
      "Examples/sec (First only) 156.71 ex/sec (total: 1 ex, 0.01 sec)\n",
      "Examples/sec (First excluded) 3330.20 ex/sec (total: 156 ex, 0.05 sec)\n",
      "\n",
      "\n",
      "batched from generator:\n"
     ]
    },
    {
     "data": {
      "application/vnd.jupyter.widget-view+json": {
       "model_id": "51ae9805dfb94c489068f191837b2596",
       "version_major": 2,
       "version_minor": 0
      },
      "text/plain": [
       "1it [00:00, ?it/s]"
      ]
     },
     "metadata": {},
     "output_type": "display_data"
    },
    {
     "name": "stdout",
     "output_type": "stream",
     "text": [
      "\n",
      "************ Summary ************\n",
      "\n",
      "Examples/sec (First included) 40.29 ex/sec (total: 157 ex, 3.90 sec)\n",
      "Examples/sec (First only) 27.15 ex/sec (total: 1 ex, 0.04 sec)\n",
      "Examples/sec (First excluded) 40.42 ex/sec (total: 156 ex, 3.86 sec)\n"
     ]
    },
    {
     "data": {
      "text/html": [
       "<strong>BenchmarkResult:</strong><br/><div>\n",
       "<style scoped>\n",
       "    .dataframe tbody tr th:only-of-type {\n",
       "        vertical-align: middle;\n",
       "    }\n",
       "\n",
       "    .dataframe tbody tr th {\n",
       "        vertical-align: top;\n",
       "    }\n",
       "\n",
       "    .dataframe thead th {\n",
       "        text-align: right;\n",
       "    }\n",
       "</style>\n",
       "<table border=\"1\" class=\"dataframe\">\n",
       "  <thead>\n",
       "    <tr style=\"text-align: right;\">\n",
       "      <th></th>\n",
       "      <th>duration</th>\n",
       "      <th>num_examples</th>\n",
       "      <th>avg</th>\n",
       "    </tr>\n",
       "  </thead>\n",
       "  <tbody>\n",
       "    <tr>\n",
       "      <th>first+lasts</th>\n",
       "      <td>3.896529</td>\n",
       "      <td>157</td>\n",
       "      <td>40.292275</td>\n",
       "    </tr>\n",
       "    <tr>\n",
       "      <th>first</th>\n",
       "      <td>0.036839</td>\n",
       "      <td>1</td>\n",
       "      <td>27.145188</td>\n",
       "    </tr>\n",
       "    <tr>\n",
       "      <th>lasts</th>\n",
       "      <td>3.859690</td>\n",
       "      <td>156</td>\n",
       "      <td>40.417758</td>\n",
       "    </tr>\n",
       "  </tbody>\n",
       "</table>\n",
       "</div>"
      ],
      "text/plain": [
       "BenchmarkResult(stats=             duration  num_examples        avg\n",
       "first+lasts  3.896529           157  40.292275\n",
       "first        0.036839             1  27.145188\n",
       "lasts        3.859690           156  40.417758, raw_stats=                      duration\n",
       "start_time        40926.732121\n",
       "first_batch_time  40926.768960\n",
       "end_time          40930.628649\n",
       "num_iter            157.000000)"
      ]
     },
     "execution_count": 126,
     "metadata": {},
     "output_type": "execute_result"
    }
   ],
   "source": [
    "print(\"batched from tensor slices:\")\n",
    "tfds.benchmark(large_ds_from_tensor_slices.batch(128))\n",
    "\n",
    "print()\n",
    "print()\n",
    "\n",
    "print(\"batched from generator:\")\n",
    "tfds.benchmark(large_ds_from_generator.batch(128))"
   ]
  },
  {
   "cell_type": "markdown",
   "id": "3eadfc18",
   "metadata": {},
   "source": [
    "## even batched Generators are not that fast...\n",
    "### You can use generators, but they are not optimal... However, nothing is impossible with them!\n",
    "\n",
    "more complex generators:"
   ]
  },
  {
   "cell_type": "code",
   "execution_count": 80,
   "id": "6a9f91de",
   "metadata": {},
   "outputs": [
    {
     "name": "stdout",
     "output_type": "stream",
     "text": [
      "I was run with 'world'!\n"
     ]
    },
    {
     "data": {
      "text/plain": [
       "0"
      ]
     },
     "execution_count": 80,
     "metadata": {},
     "output_type": "execute_result"
    }
   ],
   "source": [
    "# imo the prettiest way to implement 'method classes'\n",
    "\n",
    "class MyGenerator:\n",
    "    def __init__(self, benchmark_size: int) -> None:\n",
    "        self.benchmark_size = benchmark_size\n",
    "    \n",
    "    def __call__(self, msg: str = \"Hello\"):\n",
    "        print(f\"I was run with '{msg}'!\")\n",
    "        yield from range(self.benchmark_size)\n",
    "\n",
    "next(MyGenerator(1)(msg=\"world\"))"
   ]
  },
  {
   "cell_type": "code",
   "execution_count": 81,
   "id": "916c4468",
   "metadata": {},
   "outputs": [
    {
     "name": "stdout",
     "output_type": "stream",
     "text": [
      "I was run with 'Hello'!\n"
     ]
    },
    {
     "data": {
      "application/vnd.jupyter.widget-view+json": {
       "model_id": "cb0e4eebc8e647f79a56eb99de7dc643",
       "version_major": 2,
       "version_minor": 0
      },
      "text/plain": [
       "1it [00:00, ?it/s]"
      ]
     },
     "metadata": {},
     "output_type": "display_data"
    },
    {
     "name": "stdout",
     "output_type": "stream",
     "text": [
      "\n",
      "************ Summary ************\n",
      "\n",
      "Examples/sec (First included) 3679.24 ex/sec (total: 10000 ex, 2.72 sec)\n",
      "Examples/sec (First only) 61.51 ex/sec (total: 1 ex, 0.02 sec)\n",
      "Examples/sec (First excluded) 3701.01 ex/sec (total: 9999 ex, 2.70 sec)\n"
     ]
    },
    {
     "data": {
      "text/html": [
       "<strong>BenchmarkResult:</strong><br/><div>\n",
       "<style scoped>\n",
       "    .dataframe tbody tr th:only-of-type {\n",
       "        vertical-align: middle;\n",
       "    }\n",
       "\n",
       "    .dataframe tbody tr th {\n",
       "        vertical-align: top;\n",
       "    }\n",
       "\n",
       "    .dataframe thead th {\n",
       "        text-align: right;\n",
       "    }\n",
       "</style>\n",
       "<table border=\"1\" class=\"dataframe\">\n",
       "  <thead>\n",
       "    <tr style=\"text-align: right;\">\n",
       "      <th></th>\n",
       "      <th>duration</th>\n",
       "      <th>num_examples</th>\n",
       "      <th>avg</th>\n",
       "    </tr>\n",
       "  </thead>\n",
       "  <tbody>\n",
       "    <tr>\n",
       "      <th>first+lasts</th>\n",
       "      <td>2.717951</td>\n",
       "      <td>10000</td>\n",
       "      <td>3679.242528</td>\n",
       "    </tr>\n",
       "    <tr>\n",
       "      <th>first</th>\n",
       "      <td>0.016258</td>\n",
       "      <td>1</td>\n",
       "      <td>61.506917</td>\n",
       "    </tr>\n",
       "    <tr>\n",
       "      <th>lasts</th>\n",
       "      <td>2.701692</td>\n",
       "      <td>9999</td>\n",
       "      <td>3701.013457</td>\n",
       "    </tr>\n",
       "  </tbody>\n",
       "</table>\n",
       "</div>"
      ],
      "text/plain": [
       "BenchmarkResult(stats=             duration  num_examples          avg\n",
       "first+lasts  2.717951         10000  3679.242528\n",
       "first        0.016258             1    61.506917\n",
       "lasts        2.701692          9999  3701.013457, raw_stats=                      duration\n",
       "start_time        39063.097913\n",
       "first_batch_time  39063.114171\n",
       "end_time          39065.815863\n",
       "num_iter          10000.000000)"
      ]
     },
     "execution_count": 81,
     "metadata": {},
     "output_type": "execute_result"
    }
   ],
   "source": [
    "ds_from_generator_class = tf.data.Dataset.from_generator(\n",
    "    generator=MyGenerator(10**4),\n",
    "    output_types=tf.int32\n",
    ")\n",
    "\n",
    "tfds.benchmark(ds_from_generator_class)"
   ]
  },
  {
   "cell_type": "markdown",
   "id": "e6a01b0f",
   "metadata": {},
   "source": [
    "## Better Option: read Dataset asynchronously from Files\n",
    "### Dump Dataframes into Dataset Files"
   ]
  },
  {
   "cell_type": "code",
   "execution_count": 90,
   "id": "33d3575d",
   "metadata": {},
   "outputs": [],
   "source": [
    "DUMP_PATH_PREFIX = 'test'"
   ]
  },
  {
   "cell_type": "code",
   "execution_count": 96,
   "id": "529d765b",
   "metadata": {},
   "outputs": [],
   "source": [
    "rm -r $DUMP_PATH_PREFIX"
   ]
  },
  {
   "cell_type": "code",
   "execution_count": 97,
   "id": "4c642c57",
   "metadata": {},
   "outputs": [],
   "source": [
    "mkdir $DUMP_PATH_PREFIX"
   ]
  },
  {
   "cell_type": "code",
   "execution_count": 98,
   "id": "eb6329e3",
   "metadata": {},
   "outputs": [],
   "source": [
    "ls $DUMP_PATH_PREFIX"
   ]
  },
  {
   "cell_type": "code",
   "execution_count": 148,
   "id": "46637c56",
   "metadata": {},
   "outputs": [],
   "source": [
    "large_df_for_dumping = pd.DataFrame(range(50_000))\n",
    "large_ds_for_dumping = tf.data.Dataset.from_tensor_slices(large_df_for_dumping)"
   ]
  },
  {
   "cell_type": "code",
   "execution_count": 149,
   "id": "e2aa5d3f",
   "metadata": {},
   "outputs": [
    {
     "data": {
      "text/plain": [
       "50000"
      ]
     },
     "execution_count": 149,
     "metadata": {},
     "output_type": "execute_result"
    }
   ],
   "source": [
    "len(large_ds_for_dumping)"
   ]
  },
  {
   "cell_type": "code",
   "execution_count": 150,
   "id": "f4e656bf",
   "metadata": {},
   "outputs": [
    {
     "name": "stdout",
     "output_type": "stream",
     "text": [
      "<TensorSliceDataset shapes: (1,), types: tf.int64>\n"
     ]
    }
   ],
   "source": [
    "print(large_ds_for_dumping)"
   ]
  },
  {
   "cell_type": "code",
   "execution_count": 151,
   "id": "56d662d1",
   "metadata": {},
   "outputs": [
    {
     "name": "stdout",
     "output_type": "stream",
     "text": [
      "stored to 'test/0.dataset'\n",
      "stored to 'test/1.dataset'\n",
      "stored to 'test/2.dataset'\n",
      "stored to 'test/3.dataset'\n"
     ]
    }
   ],
   "source": [
    "dump_paths = []\n",
    "\n",
    "for i in range(4):\n",
    "    dump_path = os.path.join(DUMP_PATH_PREFIX, f\"{i}.dataset\")\n",
    "    tf.data.experimental.save(\n",
    "        dataset=large_ds_for_dumping,\n",
    "        path=dump_path,\n",
    "        compression='GZIP'\n",
    "    )\n",
    "    print(f\"stored to '{dump_path}'\")\n",
    "    dump_paths.append(dump_path)"
   ]
  },
  {
   "cell_type": "code",
   "execution_count": 153,
   "id": "bf618e23",
   "metadata": {},
   "outputs": [
    {
     "name": "stdout",
     "output_type": "stream",
     "text": [
      "8.1M\ttest/0.dataset\n",
      "8.1M\ttest/1.dataset\n",
      "8.1M\ttest/2.dataset\n",
      "8.1M\ttest/3.dataset\n",
      "\n"
     ]
    }
   ],
   "source": [
    "print(os.popen(f\"du -h --summarize {os.path.join(DUMP_PATH_PREFIX, '*')}\").read())"
   ]
  },
  {
   "cell_type": "markdown",
   "id": "b4e4fb6d",
   "metadata": {},
   "source": [
    "### Load Datasets"
   ]
  },
  {
   "cell_type": "code",
   "execution_count": 154,
   "id": "e7dd843f",
   "metadata": {},
   "outputs": [
    {
     "name": "stdout",
     "output_type": "stream",
     "text": [
      "<TensorSliceDataset shapes: (), types: tf.string>\n",
      "[b'test/0.dataset', b'test/1.dataset', b'test/2.dataset', b'test/3.dataset']\n"
     ]
    }
   ],
   "source": [
    "dumped_files_ds = tf.data.Dataset.from_tensor_slices(dump_paths)\n",
    "print(dumped_files_ds)\n",
    "print_ds(dumped_files_ds)"
   ]
  },
  {
   "cell_type": "code",
   "execution_count": 155,
   "id": "8bd16d1a",
   "metadata": {},
   "outputs": [
    {
     "data": {
      "text/plain": [
       "(TensorSpec(shape=(1,), dtype=tf.int64, name=None),)"
      ]
     },
     "execution_count": 155,
     "metadata": {},
     "output_type": "execute_result"
    }
   ],
   "source": [
    "element_spec = (tf.TensorSpec(shape=(1,), dtype=tf.int64),)\n",
    "element_spec"
   ]
  },
  {
   "cell_type": "code",
   "execution_count": 156,
   "id": "a15ffd8a",
   "metadata": {},
   "outputs": [
    {
     "name": "stdout",
     "output_type": "stream",
     "text": [
      "<InterleaveDataset shapes: ((1,),), types: (tf.int64,)>\n"
     ]
    }
   ],
   "source": [
    "loaded_files_ds = dumped_files_ds.interleave(lambda path:\n",
    "    tf.data.experimental.load(\n",
    "        path=path,\n",
    "        element_spec=element_spec,\n",
    "        compression='GZIP'\n",
    "    )\n",
    ")\n",
    "print(loaded_files_ds)"
   ]
  },
  {
   "cell_type": "code",
   "execution_count": 158,
   "id": "99cd1e96",
   "metadata": {},
   "outputs": [
    {
     "name": "stdout",
     "output_type": "stream",
     "text": [
      "[(array([0]),), (array([0]),), (array([0]),), (array([0]),), (array([1]),), (array([1]),), (array([1]),), (array([1]),), (array([2]),), (array([2]),), (array([2]),), (array([2]),)]\n"
     ]
    }
   ],
   "source": [
    "# looks like round robin\n",
    "print_ds(loaded_files_ds.take(12))"
   ]
  },
  {
   "cell_type": "code",
   "execution_count": 157,
   "id": "5a640684",
   "metadata": {},
   "outputs": [
    {
     "data": {
      "application/vnd.jupyter.widget-view+json": {
       "model_id": "6c9a89502b6b4d82a1eccd8016bc0ef0",
       "version_major": 2,
       "version_minor": 0
      },
      "text/plain": [
       "1it [00:00, ?it/s]"
      ]
     },
     "metadata": {},
     "output_type": "display_data"
    },
    {
     "name": "stdout",
     "output_type": "stream",
     "text": [
      "\n",
      "************ Summary ************\n",
      "\n",
      "Examples/sec (First included) 13543.44 ex/sec (total: 200000 ex, 14.77 sec)\n",
      "Examples/sec (First only) 46.91 ex/sec (total: 1 ex, 0.02 sec)\n",
      "Examples/sec (First excluded) 13562.95 ex/sec (total: 199999 ex, 14.75 sec)\n"
     ]
    },
    {
     "data": {
      "text/html": [
       "<strong>BenchmarkResult:</strong><br/><div>\n",
       "<style scoped>\n",
       "    .dataframe tbody tr th:only-of-type {\n",
       "        vertical-align: middle;\n",
       "    }\n",
       "\n",
       "    .dataframe tbody tr th {\n",
       "        vertical-align: top;\n",
       "    }\n",
       "\n",
       "    .dataframe thead th {\n",
       "        text-align: right;\n",
       "    }\n",
       "</style>\n",
       "<table border=\"1\" class=\"dataframe\">\n",
       "  <thead>\n",
       "    <tr style=\"text-align: right;\">\n",
       "      <th></th>\n",
       "      <th>duration</th>\n",
       "      <th>num_examples</th>\n",
       "      <th>avg</th>\n",
       "    </tr>\n",
       "  </thead>\n",
       "  <tbody>\n",
       "    <tr>\n",
       "      <th>first+lasts</th>\n",
       "      <td>14.767295</td>\n",
       "      <td>200000</td>\n",
       "      <td>13543.441407</td>\n",
       "    </tr>\n",
       "    <tr>\n",
       "      <th>first</th>\n",
       "      <td>0.021318</td>\n",
       "      <td>1</td>\n",
       "      <td>46.908084</td>\n",
       "    </tr>\n",
       "    <tr>\n",
       "      <th>lasts</th>\n",
       "      <td>14.745977</td>\n",
       "      <td>199999</td>\n",
       "      <td>13562.953371</td>\n",
       "    </tr>\n",
       "  </tbody>\n",
       "</table>\n",
       "</div>"
      ],
      "text/plain": [
       "BenchmarkResult(stats=              duration  num_examples           avg\n",
       "first+lasts  14.767295        200000  13543.441407\n",
       "first         0.021318             1     46.908084\n",
       "lasts        14.745977        199999  13562.953371, raw_stats=                       duration\n",
       "start_time         41493.232048\n",
       "first_batch_time   41493.253366\n",
       "end_time           41507.999343\n",
       "num_iter          200000.000000)"
      ]
     },
     "execution_count": 157,
     "metadata": {},
     "output_type": "execute_result"
    }
   ],
   "source": [
    "tfds.benchmark(loaded_files_ds)"
   ]
  },
  {
   "cell_type": "markdown",
   "id": "fd99aaa4",
   "metadata": {},
   "source": [
    "## Reading from Files is 3-4x faster than reading from a Generator"
   ]
  },
  {
   "cell_type": "code",
   "execution_count": 160,
   "id": "804eabc7",
   "metadata": {},
   "outputs": [],
   "source": [
    "from typing import List\n",
    "\n",
    "def load_ds_from_files(file_paths: List[str]) -> tf.data.Dataset:\n",
    "    ds = tf.data.Dataset.from_tensor_slices(file_paths)\n",
    "    ds = ds.interleave(lambda path:\n",
    "        tf.data.experimental.load(\n",
    "            path=path,\n",
    "            element_spec=element_spec,\n",
    "            compression='GZIP'\n",
    "        ))\n",
    "    return ds"
   ]
  },
  {
   "cell_type": "code",
   "execution_count": 161,
   "id": "9dc71949",
   "metadata": {},
   "outputs": [
    {
     "data": {
      "application/vnd.jupyter.widget-view+json": {
       "model_id": "05f03d140d32463c9a99de349d1c43ea",
       "version_major": 2,
       "version_minor": 0
      },
      "text/plain": [
       "1it [00:00, ?it/s]"
      ]
     },
     "metadata": {},
     "output_type": "display_data"
    },
    {
     "name": "stdout",
     "output_type": "stream",
     "text": [
      "\n",
      "************ Summary ************\n",
      "\n",
      "Examples/sec (First included) 1754.55 ex/sec (total: 1562 ex, 0.89 sec)\n",
      "Examples/sec (First only) 3.24 ex/sec (total: 1 ex, 0.31 sec)\n",
      "Examples/sec (First excluded) 2683.08 ex/sec (total: 1561 ex, 0.58 sec)\n"
     ]
    },
    {
     "data": {
      "text/html": [
       "<strong>BenchmarkResult:</strong><br/><div>\n",
       "<style scoped>\n",
       "    .dataframe tbody tr th:only-of-type {\n",
       "        vertical-align: middle;\n",
       "    }\n",
       "\n",
       "    .dataframe tbody tr th {\n",
       "        vertical-align: top;\n",
       "    }\n",
       "\n",
       "    .dataframe thead th {\n",
       "        text-align: right;\n",
       "    }\n",
       "</style>\n",
       "<table border=\"1\" class=\"dataframe\">\n",
       "  <thead>\n",
       "    <tr style=\"text-align: right;\">\n",
       "      <th></th>\n",
       "      <th>duration</th>\n",
       "      <th>num_examples</th>\n",
       "      <th>avg</th>\n",
       "    </tr>\n",
       "  </thead>\n",
       "  <tbody>\n",
       "    <tr>\n",
       "      <th>first+lasts</th>\n",
       "      <td>0.890255</td>\n",
       "      <td>1562</td>\n",
       "      <td>1754.552710</td>\n",
       "    </tr>\n",
       "    <tr>\n",
       "      <th>first</th>\n",
       "      <td>0.308462</td>\n",
       "      <td>1</td>\n",
       "      <td>3.241888</td>\n",
       "    </tr>\n",
       "    <tr>\n",
       "      <th>lasts</th>\n",
       "      <td>0.581793</td>\n",
       "      <td>1561</td>\n",
       "      <td>2683.084075</td>\n",
       "    </tr>\n",
       "  </tbody>\n",
       "</table>\n",
       "</div>"
      ],
      "text/plain": [
       "BenchmarkResult(stats=             duration  num_examples          avg\n",
       "first+lasts  0.890255          1562  1754.552710\n",
       "first        0.308462             1     3.241888\n",
       "lasts        0.581793          1561  2683.084075, raw_stats=                      duration\n",
       "start_time        41545.265358\n",
       "first_batch_time  41545.573821\n",
       "end_time          41546.155614\n",
       "num_iter           1562.000000)"
      ]
     },
     "execution_count": 161,
     "metadata": {},
     "output_type": "execute_result"
    }
   ],
   "source": [
    "tfds.benchmark(\n",
    "    load_ds_from_files(dump_paths)\\\n",
    "    .shuffle(buffer_size=10**5)\\\n",
    "    .batch(128, drop_remainder=True)\n",
    ")"
   ]
  },
  {
   "cell_type": "markdown",
   "id": "6fbdaab4",
   "metadata": {},
   "source": [
    "## >10x Speed Improvement by using Batching "
   ]
  },
  {
   "cell_type": "code",
   "execution_count": 162,
   "id": "490b8234",
   "metadata": {},
   "outputs": [
    {
     "data": {
      "application/vnd.jupyter.widget-view+json": {
       "model_id": "a274bd9395894b23974b5aa809bff8be",
       "version_major": 2,
       "version_minor": 0
      },
      "text/plain": [
       "1it [00:00, ?it/s]"
      ]
     },
     "metadata": {},
     "output_type": "display_data"
    },
    {
     "name": "stdout",
     "output_type": "stream",
     "text": [
      "\n",
      "************ Summary ************\n",
      "\n",
      "Examples/sec (First included) 2060.09 ex/sec (total: 1562 ex, 0.76 sec)\n",
      "Examples/sec (First only) 17.49 ex/sec (total: 1 ex, 0.06 sec)\n",
      "Examples/sec (First excluded) 2226.63 ex/sec (total: 1561 ex, 0.70 sec)\n"
     ]
    },
    {
     "data": {
      "text/html": [
       "<strong>BenchmarkResult:</strong><br/><div>\n",
       "<style scoped>\n",
       "    .dataframe tbody tr th:only-of-type {\n",
       "        vertical-align: middle;\n",
       "    }\n",
       "\n",
       "    .dataframe tbody tr th {\n",
       "        vertical-align: top;\n",
       "    }\n",
       "\n",
       "    .dataframe thead th {\n",
       "        text-align: right;\n",
       "    }\n",
       "</style>\n",
       "<table border=\"1\" class=\"dataframe\">\n",
       "  <thead>\n",
       "    <tr style=\"text-align: right;\">\n",
       "      <th></th>\n",
       "      <th>duration</th>\n",
       "      <th>num_examples</th>\n",
       "      <th>avg</th>\n",
       "    </tr>\n",
       "  </thead>\n",
       "  <tbody>\n",
       "    <tr>\n",
       "      <th>first+lasts</th>\n",
       "      <td>0.758220</td>\n",
       "      <td>1562</td>\n",
       "      <td>2060.087473</td>\n",
       "    </tr>\n",
       "    <tr>\n",
       "      <th>first</th>\n",
       "      <td>0.057162</td>\n",
       "      <td>1</td>\n",
       "      <td>17.494201</td>\n",
       "    </tr>\n",
       "    <tr>\n",
       "      <th>lasts</th>\n",
       "      <td>0.701058</td>\n",
       "      <td>1561</td>\n",
       "      <td>2226.633232</td>\n",
       "    </tr>\n",
       "  </tbody>\n",
       "</table>\n",
       "</div>"
      ],
      "text/plain": [
       "BenchmarkResult(stats=             duration  num_examples          avg\n",
       "first+lasts  0.758220          1562  2060.087473\n",
       "first        0.057162             1    17.494201\n",
       "lasts        0.701058          1561  2226.633232, raw_stats=                      duration\n",
       "start_time        41556.256715\n",
       "first_batch_time  41556.313877\n",
       "end_time          41557.014935\n",
       "num_iter           1562.000000)"
      ]
     },
     "execution_count": 162,
     "metadata": {},
     "output_type": "execute_result"
    }
   ],
   "source": [
    "tfds.benchmark(\n",
    "    load_ds_from_files(dump_paths)\\\n",
    "    .shuffle(buffer_size=10**4)\\\n",
    "    .batch(128, drop_remainder=True)\\\n",
    "    .prefetch(tf.data.experimental.AUTOTUNE)\n",
    ")"
   ]
  },
  {
   "cell_type": "markdown",
   "id": "66b79d81",
   "metadata": {},
   "source": [
    "## Another 10-20% (at least) by using Prefetching"
   ]
  }
 ],
 "metadata": {
  "kernelspec": {
   "display_name": "Python 3",
   "language": "python",
   "name": "python3"
  },
  "language_info": {
   "codemirror_mode": {
    "name": "ipython",
    "version": 3
   },
   "file_extension": ".py",
   "mimetype": "text/x-python",
   "name": "python",
   "nbconvert_exporter": "python",
   "pygments_lexer": "ipython3",
   "version": "3.6.9"
  }
 },
 "nbformat": 4,
 "nbformat_minor": 5
}
