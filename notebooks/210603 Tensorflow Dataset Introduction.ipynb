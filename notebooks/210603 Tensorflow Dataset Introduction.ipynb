{
 "cells": [
  {
   "cell_type": "markdown",
   "id": "6bcf7626",
   "metadata": {},
   "source": [
    "# Scalable Tensorflow Dataset Introduction"
   ]
  },
  {
   "cell_type": "code",
   "execution_count": 1,
   "id": "58b238ae",
   "metadata": {},
   "outputs": [],
   "source": [
    "import os\n",
    "import tensorflow as tf\n",
    "import tensorflow_datasets as tfds\n",
    "import pandas as pd\n",
    "import numpy as np"
   ]
  },
  {
   "cell_type": "markdown",
   "id": "256d26c2",
   "metadata": {},
   "source": [
    "## Datasets, Pandas, and Numpy"
   ]
  },
  {
   "cell_type": "code",
   "execution_count": 2,
   "id": "8cae8f4c",
   "metadata": {},
   "outputs": [
    {
     "data": {
      "text/html": [
       "<div>\n",
       "<style scoped>\n",
       "    .dataframe tbody tr th:only-of-type {\n",
       "        vertical-align: middle;\n",
       "    }\n",
       "\n",
       "    .dataframe tbody tr th {\n",
       "        vertical-align: top;\n",
       "    }\n",
       "\n",
       "    .dataframe thead th {\n",
       "        text-align: right;\n",
       "    }\n",
       "</style>\n",
       "<table border=\"1\" class=\"dataframe\">\n",
       "  <thead>\n",
       "    <tr style=\"text-align: right;\">\n",
       "      <th></th>\n",
       "      <th>0</th>\n",
       "    </tr>\n",
       "  </thead>\n",
       "  <tbody>\n",
       "    <tr>\n",
       "      <th>0</th>\n",
       "      <td>0</td>\n",
       "    </tr>\n",
       "    <tr>\n",
       "      <th>1</th>\n",
       "      <td>1</td>\n",
       "    </tr>\n",
       "    <tr>\n",
       "      <th>2</th>\n",
       "      <td>2</td>\n",
       "    </tr>\n",
       "    <tr>\n",
       "      <th>3</th>\n",
       "      <td>3</td>\n",
       "    </tr>\n",
       "    <tr>\n",
       "      <th>4</th>\n",
       "      <td>4</td>\n",
       "    </tr>\n",
       "    <tr>\n",
       "      <th>5</th>\n",
       "      <td>5</td>\n",
       "    </tr>\n",
       "    <tr>\n",
       "      <th>6</th>\n",
       "      <td>6</td>\n",
       "    </tr>\n",
       "    <tr>\n",
       "      <th>7</th>\n",
       "      <td>7</td>\n",
       "    </tr>\n",
       "    <tr>\n",
       "      <th>8</th>\n",
       "      <td>8</td>\n",
       "    </tr>\n",
       "    <tr>\n",
       "      <th>9</th>\n",
       "      <td>9</td>\n",
       "    </tr>\n",
       "  </tbody>\n",
       "</table>\n",
       "</div>"
      ],
      "text/plain": [
       "   0\n",
       "0  0\n",
       "1  1\n",
       "2  2\n",
       "3  3\n",
       "4  4\n",
       "5  5\n",
       "6  6\n",
       "7  7\n",
       "8  8\n",
       "9  9"
      ]
     },
     "execution_count": 2,
     "metadata": {},
     "output_type": "execute_result"
    }
   ],
   "source": [
    "df = pd.DataFrame(range(10))\n",
    "df"
   ]
  },
  {
   "cell_type": "code",
   "execution_count": 3,
   "id": "2425cf89",
   "metadata": {},
   "outputs": [
    {
     "data": {
      "text/plain": [
       "array([[0],\n",
       "       [1],\n",
       "       [2],\n",
       "       [3],\n",
       "       [4],\n",
       "       [5],\n",
       "       [6],\n",
       "       [7],\n",
       "       [8],\n",
       "       [9]])"
      ]
     },
     "execution_count": 3,
     "metadata": {},
     "output_type": "execute_result"
    }
   ],
   "source": [
    "df.values"
   ]
  },
  {
   "cell_type": "code",
   "execution_count": 4,
   "id": "3f335ee7",
   "metadata": {},
   "outputs": [
    {
     "data": {
      "text/plain": [
       "numpy.ndarray"
      ]
     },
     "execution_count": 4,
     "metadata": {},
     "output_type": "execute_result"
    }
   ],
   "source": [
    "type(df.values)"
   ]
  },
  {
   "cell_type": "code",
   "execution_count": 5,
   "id": "4444c51d",
   "metadata": {},
   "outputs": [
    {
     "data": {
      "text/plain": [
       "<TensorSliceDataset shapes: (1,), types: tf.int64>"
      ]
     },
     "execution_count": 5,
     "metadata": {},
     "output_type": "execute_result"
    }
   ],
   "source": [
    "tf.data.Dataset.from_tensor_slices(df)"
   ]
  },
  {
   "cell_type": "code",
   "execution_count": 6,
   "id": "bc60bab4",
   "metadata": {},
   "outputs": [
    {
     "data": {
      "text/plain": [
       "[array([0]),\n",
       " array([1]),\n",
       " array([2]),\n",
       " array([3]),\n",
       " array([4]),\n",
       " array([5]),\n",
       " array([6]),\n",
       " array([7]),\n",
       " array([8]),\n",
       " array([9])]"
      ]
     },
     "execution_count": 6,
     "metadata": {},
     "output_type": "execute_result"
    }
   ],
   "source": [
    "ds_from_tensor_slices = tf.data.Dataset.from_tensor_slices(df)\n",
    "list(ds_from_tensor_slices.as_numpy_iterator())"
   ]
  },
  {
   "cell_type": "code",
   "execution_count": 7,
   "id": "76456fc3",
   "metadata": {},
   "outputs": [
    {
     "data": {
      "text/plain": [
       "[array([[0],\n",
       "        [1],\n",
       "        [2],\n",
       "        [3],\n",
       "        [4],\n",
       "        [5],\n",
       "        [6],\n",
       "        [7],\n",
       "        [8],\n",
       "        [9]])]"
      ]
     },
     "execution_count": 7,
     "metadata": {},
     "output_type": "execute_result"
    }
   ],
   "source": [
    "ds_from_tensors = tf.data.Dataset.from_tensors(df)\n",
    "list(ds_from_tensors.as_numpy_iterator())"
   ]
  },
  {
   "cell_type": "code",
   "execution_count": 8,
   "id": "a9c75cea",
   "metadata": {},
   "outputs": [
    {
     "name": "stdout",
     "output_type": "stream",
     "text": [
      "0th element from ds from tensor slices: [0]\n",
      "\n",
      "0th element from ds from tensors: [[0]\n",
      " [1]\n",
      " [2]\n",
      " [3]\n",
      " [4]\n",
      " [5]\n",
      " [6]\n",
      " [7]\n",
      " [8]\n",
      " [9]]\n"
     ]
    }
   ],
   "source": [
    "print(\"0th element from ds from tensor slices:\", next(ds_from_tensor_slices.as_numpy_iterator()))\n",
    "print()\n",
    "print(\"0th element from ds from tensors:\", next(ds_from_tensors.as_numpy_iterator()))"
   ]
  },
  {
   "cell_type": "code",
   "execution_count": 9,
   "id": "5195b8db",
   "metadata": {},
   "outputs": [
    {
     "name": "stdout",
     "output_type": "stream",
     "text": [
      "<TensorSliceDataset shapes: (), types: tf.int32>\n",
      "[0, 1, 2, 3, 4, 5, 6, 7, 8, 9]\n"
     ]
    }
   ],
   "source": [
    "range_ds = tf.data.Dataset.from_tensor_slices(list(range(10)))\n",
    "print(range_ds)\n",
    "print(list(range_ds.as_numpy_iterator()))"
   ]
  },
  {
   "cell_type": "code",
   "execution_count": 10,
   "id": "52686867",
   "metadata": {},
   "outputs": [],
   "source": [
    "def print_ds(ds: tf.data.Dataset) -> None:\n",
    "    print(list(ds.as_numpy_iterator()))"
   ]
  },
  {
   "cell_type": "code",
   "execution_count": 11,
   "id": "336fb244",
   "metadata": {},
   "outputs": [
    {
     "name": "stdout",
     "output_type": "stream",
     "text": [
      "<InterleaveDataset shapes: (), types: tf.int32>\n",
      "[0, 0, 0, 0, 0, 0, 0, 0, 1, 1, 1, 1, 1, 1, 1, 0, 2, 2, 2, 2, 2, 2, 1, 3, 3, 3, 3, 3, 2, 4, 4, 4, 4, 3, 5, 5, 5, 4, 6, 6, 5, 7, 6, 7, 8]\n"
     ]
    }
   ],
   "source": [
    "interleaved_ds = range_ds.interleave(lambda i: tf.data.Dataset.from_tensor_slices(range(i)))\n",
    "print(interleaved_ds)\n",
    "print_ds(interleaved_ds)"
   ]
  },
  {
   "cell_type": "code",
   "execution_count": 12,
   "id": "6e492fc6",
   "metadata": {},
   "outputs": [
    {
     "name": "stdout",
     "output_type": "stream",
     "text": [
      "[0, 0, 0, 1, 0, 1, 1, 1, 1, 2, 0, 0, 2, 2, 0, 0, 1, 2, 3, 1, 2, 0, 4, 4, 2, 4, 3, 3, 2, 1, 5, 4, 5, 5, 7, 6, 7, 5, 8, 3, 6, 4, 6, 3, 3]\n",
      "[6, 1, 2, 0, 1, 0, 8, 0, 2, 1, 4, 2, 3, 2, 0, 6, 4, 2, 0, 3, 1, 5, 1, 0, 5, 3, 1, 1, 0, 4, 3, 3, 6, 7, 2, 0, 2, 5, 7, 0, 1, 4, 5, 4, 3]\n"
     ]
    }
   ],
   "source": [
    "print_ds(interleaved_ds.shuffle(buffer_size=10))\n",
    "print_ds(interleaved_ds.shuffle(buffer_size=100))"
   ]
  },
  {
   "cell_type": "code",
   "execution_count": 13,
   "id": "dd884c5c",
   "metadata": {},
   "outputs": [
    {
     "name": "stdout",
     "output_type": "stream",
     "text": [
      "[array([0, 0, 0, 0, 0, 0, 0, 0, 1, 1], dtype=int32), array([1, 1, 1, 1, 1, 0, 2, 2, 2, 2], dtype=int32), array([2, 2, 1, 3, 3, 3, 3, 3, 2, 4], dtype=int32), array([4, 4, 4, 3, 5, 5, 5, 4, 6, 6], dtype=int32), array([5, 7, 6, 7, 8], dtype=int32)]\n"
     ]
    }
   ],
   "source": [
    "print_ds(interleaved_ds.batch(10))"
   ]
  },
  {
   "cell_type": "code",
   "execution_count": 14,
   "id": "eab25c16",
   "metadata": {},
   "outputs": [
    {
     "name": "stdout",
     "output_type": "stream",
     "text": [
      "first batch - then shuffle:\n",
      "[array([2, 2, 1, 3, 3, 3, 3, 3, 2, 4], dtype=int32), array([0, 0, 0, 0, 0, 0, 0, 0, 1, 1], dtype=int32), array([1, 1, 1, 1, 1, 0, 2, 2, 2, 2], dtype=int32), array([4, 4, 4, 3, 5, 5, 5, 4, 6, 6], dtype=int32), array([5, 7, 6, 7, 8], dtype=int32)]\n",
      "\n",
      "first shuffle - then batch:\n",
      "[array([0, 1, 1, 0, 0, 1, 1, 0, 1, 0], dtype=int32), array([2, 2, 0, 1, 2, 1, 3, 3, 2, 0], dtype=int32), array([0, 0, 1, 4, 4, 2, 5, 3, 3, 5], dtype=int32), array([5, 6, 2, 2, 7, 3, 6, 7, 3, 8], dtype=int32), array([5, 4, 4, 4, 6], dtype=int32)]\n"
     ]
    }
   ],
   "source": [
    "print(\"first batch - then shuffle:\")\n",
    "print_ds(interleaved_ds.batch(10).shuffle(10))\n",
    "print()\n",
    "print(\"first shuffle - then batch:\")\n",
    "print_ds(interleaved_ds.shuffle(10).batch(10))"
   ]
  },
  {
   "cell_type": "markdown",
   "id": "f4361373",
   "metadata": {},
   "source": [
    "# Datasets and Generators: What if the data doesn't fit into memory?"
   ]
  },
  {
   "cell_type": "code",
   "execution_count": 15,
   "id": "351c8e4f",
   "metadata": {},
   "outputs": [
    {
     "name": "stdout",
     "output_type": "stream",
     "text": [
      "0\n",
      "1\n",
      "2\n"
     ]
    }
   ],
   "source": [
    "for i in range(3):\n",
    "    print(i)"
   ]
  },
  {
   "cell_type": "code",
   "execution_count": 16,
   "id": "25fe3ece",
   "metadata": {},
   "outputs": [
    {
     "name": "stdout",
     "output_type": "stream",
     "text": [
      "'list' object cannot be interpreted as an integer\n"
     ]
    }
   ],
   "source": [
    "try:\n",
    "    tf.data.Dataset.from_tensor_slices(range(3))\n",
    "except TypeError as e:\n",
    "    print(e)"
   ]
  },
  {
   "cell_type": "code",
   "execution_count": 17,
   "id": "24987faf",
   "metadata": {},
   "outputs": [
    {
     "name": "stdout",
     "output_type": "stream",
     "text": [
      "'list' object cannot be interpreted as an integer\n"
     ]
    }
   ],
   "source": [
    "try:\n",
    "    tf.data.Dataset.from_tensors(range(3))\n",
    "except TypeError as e:\n",
    "    print(e)"
   ]
  },
  {
   "cell_type": "markdown",
   "id": "c289a895",
   "metadata": {},
   "source": [
    "* cannot use tf.data.Dataset.from_tensor_slices\n",
    "* cannot use tf.data.Dataset.from_tensors"
   ]
  },
  {
   "cell_type": "code",
   "execution_count": 18,
   "id": "fb86498e",
   "metadata": {},
   "outputs": [
    {
     "name": "stdout",
     "output_type": "stream",
     "text": [
      "<FlatMapDataset shapes: <unknown>, types: tf.int32>\n",
      "[0, 1, 2]\n"
     ]
    }
   ],
   "source": [
    "def int_generator():\n",
    "    yield from range(3)\n",
    "    \n",
    "ds_from_int_generator = tf.data.Dataset.from_generator(\n",
    "    generator=int_generator,\n",
    "    output_types=tf.int32\n",
    ")\n",
    "print(ds_from_int_generator)\n",
    "print_ds(ds_from_int_generator)"
   ]
  },
  {
   "cell_type": "code",
   "execution_count": 19,
   "id": "793a77f6",
   "metadata": {},
   "outputs": [
    {
     "name": "stdout",
     "output_type": "stream",
     "text": [
      "<FlatMapDataset shapes: (<unknown>, <unknown>), types: (tf.int32, tf.int32)>\n",
      "[(0, 2), (1, 1), (2, 0)]\n"
     ]
    }
   ],
   "source": [
    "def tuple_generator():\n",
    "    yield from zip(range(3), reversed(range(3)))\n",
    "    \n",
    "ds_from_tuple_generator = tf.data.Dataset.from_generator(\n",
    "    generator=tuple_generator,\n",
    "    output_types=(tf.int32, tf.int32)\n",
    ")\n",
    "print(ds_from_tuple_generator)\n",
    "print_ds(ds_from_tuple_generator)"
   ]
  },
  {
   "cell_type": "code",
   "execution_count": 20,
   "id": "faf17ba1",
   "metadata": {},
   "outputs": [
    {
     "data": {
      "application/vnd.jupyter.widget-view+json": {
       "model_id": "776b071a92614f50a80fa61140683334",
       "version_major": 2,
       "version_minor": 0
      },
      "text/plain": [
       "1it [00:00, ?it/s]"
      ]
     },
     "metadata": {},
     "output_type": "display_data"
    },
    {
     "name": "stdout",
     "output_type": "stream",
     "text": [
      "\n",
      "************ Summary ************\n",
      "\n",
      "Examples/sec (First included) 94.30 ex/sec (total: 3 ex, 0.03 sec)\n",
      "Examples/sec (First only) 100.52 ex/sec (total: 1 ex, 0.01 sec)\n",
      "Examples/sec (First excluded) 91.46 ex/sec (total: 2 ex, 0.02 sec)\n"
     ]
    },
    {
     "data": {
      "text/html": [
       "<strong>BenchmarkResult:</strong><br/><div>\n",
       "<style scoped>\n",
       "    .dataframe tbody tr th:only-of-type {\n",
       "        vertical-align: middle;\n",
       "    }\n",
       "\n",
       "    .dataframe tbody tr th {\n",
       "        vertical-align: top;\n",
       "    }\n",
       "\n",
       "    .dataframe thead th {\n",
       "        text-align: right;\n",
       "    }\n",
       "</style>\n",
       "<table border=\"1\" class=\"dataframe\">\n",
       "  <thead>\n",
       "    <tr style=\"text-align: right;\">\n",
       "      <th></th>\n",
       "      <th>duration</th>\n",
       "      <th>num_examples</th>\n",
       "      <th>avg</th>\n",
       "    </tr>\n",
       "  </thead>\n",
       "  <tbody>\n",
       "    <tr>\n",
       "      <th>first+lasts</th>\n",
       "      <td>0.031815</td>\n",
       "      <td>3</td>\n",
       "      <td>94.295253</td>\n",
       "    </tr>\n",
       "    <tr>\n",
       "      <th>first</th>\n",
       "      <td>0.009948</td>\n",
       "      <td>1</td>\n",
       "      <td>100.523173</td>\n",
       "    </tr>\n",
       "    <tr>\n",
       "      <th>lasts</th>\n",
       "      <td>0.021867</td>\n",
       "      <td>2</td>\n",
       "      <td>91.461987</td>\n",
       "    </tr>\n",
       "  </tbody>\n",
       "</table>\n",
       "</div>"
      ],
      "text/plain": [
       "BenchmarkResult(stats=             duration  num_examples         avg\n",
       "first+lasts  0.031815             3   94.295253\n",
       "first        0.009948             1  100.523173\n",
       "lasts        0.021867             2   91.461987, raw_stats=                    duration\n",
       "start_time        338.354626\n",
       "first_batch_time  338.364574\n",
       "end_time          338.386441\n",
       "num_iter            3.000000)"
      ]
     },
     "execution_count": 20,
     "metadata": {},
     "output_type": "execute_result"
    }
   ],
   "source": [
    "tfds.benchmark(ds_from_tuple_generator)"
   ]
  },
  {
   "cell_type": "markdown",
   "id": "3c61f27d",
   "metadata": {},
   "source": [
    "## Attention: Python code can be really slow"
   ]
  },
  {
   "cell_type": "code",
   "execution_count": 21,
   "id": "be87480f",
   "metadata": {},
   "outputs": [
    {
     "name": "stdout",
     "output_type": "stream",
     "text": [
      "from tensor slices:\n"
     ]
    },
    {
     "data": {
      "application/vnd.jupyter.widget-view+json": {
       "model_id": "586ff6c9612344e0bbba825201c29ccf",
       "version_major": 2,
       "version_minor": 0
      },
      "text/plain": [
       "  0%|          | 1/20000 [00:00<?, ?it/s]"
      ]
     },
     "metadata": {},
     "output_type": "display_data"
    },
    {
     "name": "stdout",
     "output_type": "stream",
     "text": [
      "\n",
      "************ Summary ************\n",
      "\n",
      "Examples/sec (First included) 20812.96 ex/sec (total: 20000 ex, 0.96 sec)\n",
      "Examples/sec (First only) 462.65 ex/sec (total: 1 ex, 0.00 sec)\n",
      "Examples/sec (First excluded) 20858.84 ex/sec (total: 19999 ex, 0.96 sec)\n",
      "\n",
      "\n",
      "from generator:\n"
     ]
    },
    {
     "data": {
      "application/vnd.jupyter.widget-view+json": {
       "model_id": "cdd103e59aad4639a4e387117d644124",
       "version_major": 2,
       "version_minor": 0
      },
      "text/plain": [
       "1it [00:00, ?it/s]"
      ]
     },
     "metadata": {},
     "output_type": "display_data"
    },
    {
     "name": "stdout",
     "output_type": "stream",
     "text": [
      "\n",
      "************ Summary ************\n",
      "\n",
      "Examples/sec (First included) 3234.15 ex/sec (total: 20000 ex, 6.18 sec)\n",
      "Examples/sec (First only) 103.18 ex/sec (total: 1 ex, 0.01 sec)\n",
      "Examples/sec (First excluded) 3239.06 ex/sec (total: 19999 ex, 6.17 sec)\n"
     ]
    },
    {
     "data": {
      "text/html": [
       "<strong>BenchmarkResult:</strong><br/><div>\n",
       "<style scoped>\n",
       "    .dataframe tbody tr th:only-of-type {\n",
       "        vertical-align: middle;\n",
       "    }\n",
       "\n",
       "    .dataframe tbody tr th {\n",
       "        vertical-align: top;\n",
       "    }\n",
       "\n",
       "    .dataframe thead th {\n",
       "        text-align: right;\n",
       "    }\n",
       "</style>\n",
       "<table border=\"1\" class=\"dataframe\">\n",
       "  <thead>\n",
       "    <tr style=\"text-align: right;\">\n",
       "      <th></th>\n",
       "      <th>duration</th>\n",
       "      <th>num_examples</th>\n",
       "      <th>avg</th>\n",
       "    </tr>\n",
       "  </thead>\n",
       "  <tbody>\n",
       "    <tr>\n",
       "      <th>first+lasts</th>\n",
       "      <td>6.184014</td>\n",
       "      <td>20000</td>\n",
       "      <td>3234.145122</td>\n",
       "    </tr>\n",
       "    <tr>\n",
       "      <th>first</th>\n",
       "      <td>0.009691</td>\n",
       "      <td>1</td>\n",
       "      <td>103.184384</td>\n",
       "    </tr>\n",
       "    <tr>\n",
       "      <th>lasts</th>\n",
       "      <td>6.174323</td>\n",
       "      <td>19999</td>\n",
       "      <td>3239.059565</td>\n",
       "    </tr>\n",
       "  </tbody>\n",
       "</table>\n",
       "</div>"
      ],
      "text/plain": [
       "BenchmarkResult(stats=             duration  num_examples          avg\n",
       "first+lasts  6.184014         20000  3234.145122\n",
       "first        0.009691             1   103.184384\n",
       "lasts        6.174323         19999  3239.059565, raw_stats=                      duration\n",
       "start_time          339.378437\n",
       "first_batch_time    339.388128\n",
       "end_time            345.562451\n",
       "num_iter          20000.000000)"
      ]
     },
     "execution_count": 21,
     "metadata": {},
     "output_type": "execute_result"
    }
   ],
   "source": [
    "benchmark_size = 2 * 10**4\n",
    "\n",
    "# dataframe in-memory\n",
    "large_df = pd.DataFrame(range(benchmark_size), dtype=np.int32)\n",
    "large_ds_from_tensor_slices = tf.data.Dataset.from_tensor_slices(large_df)\n",
    "\n",
    "# generator in-memory\n",
    "def large_generator():\n",
    "    yield from range(benchmark_size)\n",
    "large_ds_from_generator = tf.data.Dataset.from_generator(\n",
    "    generator=large_generator,\n",
    "    output_types=tf.int32\n",
    ")\n",
    "\n",
    "print(\"from tensor slices:\")\n",
    "tfds.benchmark(large_ds_from_tensor_slices)\n",
    "\n",
    "print()\n",
    "print()\n",
    "\n",
    "print(\"from generator:\")\n",
    "tfds.benchmark(large_ds_from_generator)"
   ]
  },
  {
   "cell_type": "markdown",
   "id": "65d6205a",
   "metadata": {},
   "source": [
    "## The generator is ~7x slower."
   ]
  },
  {
   "cell_type": "code",
   "execution_count": 22,
   "id": "9ff73d47",
   "metadata": {},
   "outputs": [
    {
     "name": "stdout",
     "output_type": "stream",
     "text": [
      "batched from tensor slices:\n"
     ]
    },
    {
     "data": {
      "application/vnd.jupyter.widget-view+json": {
       "model_id": "0405f613d6974aeaabe34231074f44c6",
       "version_major": 2,
       "version_minor": 0
      },
      "text/plain": [
       "  1%|          | 1/157 [00:00<?, ?it/s]"
      ]
     },
     "metadata": {},
     "output_type": "display_data"
    },
    {
     "name": "stdout",
     "output_type": "stream",
     "text": [
      "\n",
      "************ Summary ************\n",
      "\n",
      "Examples/sec (First included) 3995.42 ex/sec (total: 157 ex, 0.04 sec)\n",
      "Examples/sec (First only) 414.87 ex/sec (total: 1 ex, 0.00 sec)\n",
      "Examples/sec (First excluded) 4229.41 ex/sec (total: 156 ex, 0.04 sec)\n",
      "\n",
      "\n",
      "batched from generator:\n"
     ]
    },
    {
     "data": {
      "application/vnd.jupyter.widget-view+json": {
       "model_id": "e047a62c3ad344b88e05013b59c73f3b",
       "version_major": 2,
       "version_minor": 0
      },
      "text/plain": [
       "1it [00:00, ?it/s]"
      ]
     },
     "metadata": {},
     "output_type": "display_data"
    },
    {
     "name": "stdout",
     "output_type": "stream",
     "text": [
      "\n",
      "************ Summary ************\n",
      "\n",
      "Examples/sec (First included) 40.25 ex/sec (total: 157 ex, 3.90 sec)\n",
      "Examples/sec (First only) 28.72 ex/sec (total: 1 ex, 0.03 sec)\n",
      "Examples/sec (First excluded) 40.35 ex/sec (total: 156 ex, 3.87 sec)\n"
     ]
    },
    {
     "data": {
      "text/html": [
       "<strong>BenchmarkResult:</strong><br/><div>\n",
       "<style scoped>\n",
       "    .dataframe tbody tr th:only-of-type {\n",
       "        vertical-align: middle;\n",
       "    }\n",
       "\n",
       "    .dataframe tbody tr th {\n",
       "        vertical-align: top;\n",
       "    }\n",
       "\n",
       "    .dataframe thead th {\n",
       "        text-align: right;\n",
       "    }\n",
       "</style>\n",
       "<table border=\"1\" class=\"dataframe\">\n",
       "  <thead>\n",
       "    <tr style=\"text-align: right;\">\n",
       "      <th></th>\n",
       "      <th>duration</th>\n",
       "      <th>num_examples</th>\n",
       "      <th>avg</th>\n",
       "    </tr>\n",
       "  </thead>\n",
       "  <tbody>\n",
       "    <tr>\n",
       "      <th>first+lasts</th>\n",
       "      <td>3.900783</td>\n",
       "      <td>157</td>\n",
       "      <td>40.248334</td>\n",
       "    </tr>\n",
       "    <tr>\n",
       "      <th>first</th>\n",
       "      <td>0.034816</td>\n",
       "      <td>1</td>\n",
       "      <td>28.722453</td>\n",
       "    </tr>\n",
       "    <tr>\n",
       "      <th>lasts</th>\n",
       "      <td>3.865967</td>\n",
       "      <td>156</td>\n",
       "      <td>40.352133</td>\n",
       "    </tr>\n",
       "  </tbody>\n",
       "</table>\n",
       "</div>"
      ],
      "text/plain": [
       "BenchmarkResult(stats=             duration  num_examples        avg\n",
       "first+lasts  3.900783           157  40.248334\n",
       "first        0.034816             1  28.722453\n",
       "lasts        3.865967           156  40.352133, raw_stats=                    duration\n",
       "start_time        345.614096\n",
       "first_batch_time  345.648912\n",
       "end_time          349.514878\n",
       "num_iter          157.000000)"
      ]
     },
     "execution_count": 22,
     "metadata": {},
     "output_type": "execute_result"
    }
   ],
   "source": [
    "print(\"batched from tensor slices:\")\n",
    "tfds.benchmark(large_ds_from_tensor_slices.batch(128))\n",
    "\n",
    "print()\n",
    "print()\n",
    "\n",
    "print(\"batched from generator:\")\n",
    "tfds.benchmark(large_ds_from_generator.batch(128))"
   ]
  },
  {
   "cell_type": "markdown",
   "id": "3eadfc18",
   "metadata": {},
   "source": [
    "## even batched Generators are not that fast...\n",
    "### You can use generators, but they are not optimal... However, nothing is impossible with them!\n",
    "\n",
    "more complex generators:"
   ]
  },
  {
   "cell_type": "code",
   "execution_count": 23,
   "id": "6a9f91de",
   "metadata": {},
   "outputs": [
    {
     "name": "stdout",
     "output_type": "stream",
     "text": [
      "I was run with 'world'!\n"
     ]
    },
    {
     "data": {
      "text/plain": [
       "0"
      ]
     },
     "execution_count": 23,
     "metadata": {},
     "output_type": "execute_result"
    }
   ],
   "source": [
    "# imo the prettiest way to implement 'method classes'\n",
    "\n",
    "class MyGenerator:\n",
    "    def __init__(self, benchmark_size: int) -> None:\n",
    "        self.benchmark_size = benchmark_size\n",
    "    \n",
    "    def __call__(self, msg: str = \"Hello\"):\n",
    "        print(f\"I was run with '{msg}'!\")\n",
    "        yield from range(self.benchmark_size)\n",
    "\n",
    "next(MyGenerator(1)(msg=\"world\"))"
   ]
  },
  {
   "cell_type": "code",
   "execution_count": 24,
   "id": "916c4468",
   "metadata": {},
   "outputs": [
    {
     "name": "stdout",
     "output_type": "stream",
     "text": [
      "I was run with 'Hello'!\n"
     ]
    },
    {
     "data": {
      "application/vnd.jupyter.widget-view+json": {
       "model_id": "005114613cb4431eb1585eb7e6a726fe",
       "version_major": 2,
       "version_minor": 0
      },
      "text/plain": [
       "1it [00:00, ?it/s]"
      ]
     },
     "metadata": {},
     "output_type": "display_data"
    },
    {
     "name": "stdout",
     "output_type": "stream",
     "text": [
      "\n",
      "************ Summary ************\n",
      "\n",
      "Examples/sec (First included) 3658.08 ex/sec (total: 10000 ex, 2.73 sec)\n",
      "Examples/sec (First only) 96.27 ex/sec (total: 1 ex, 0.01 sec)\n",
      "Examples/sec (First excluded) 3671.67 ex/sec (total: 9999 ex, 2.72 sec)\n"
     ]
    },
    {
     "data": {
      "text/html": [
       "<strong>BenchmarkResult:</strong><br/><div>\n",
       "<style scoped>\n",
       "    .dataframe tbody tr th:only-of-type {\n",
       "        vertical-align: middle;\n",
       "    }\n",
       "\n",
       "    .dataframe tbody tr th {\n",
       "        vertical-align: top;\n",
       "    }\n",
       "\n",
       "    .dataframe thead th {\n",
       "        text-align: right;\n",
       "    }\n",
       "</style>\n",
       "<table border=\"1\" class=\"dataframe\">\n",
       "  <thead>\n",
       "    <tr style=\"text-align: right;\">\n",
       "      <th></th>\n",
       "      <th>duration</th>\n",
       "      <th>num_examples</th>\n",
       "      <th>avg</th>\n",
       "    </tr>\n",
       "  </thead>\n",
       "  <tbody>\n",
       "    <tr>\n",
       "      <th>first+lasts</th>\n",
       "      <td>2.733673</td>\n",
       "      <td>10000</td>\n",
       "      <td>3658.082184</td>\n",
       "    </tr>\n",
       "    <tr>\n",
       "      <th>first</th>\n",
       "      <td>0.010387</td>\n",
       "      <td>1</td>\n",
       "      <td>96.270880</td>\n",
       "    </tr>\n",
       "    <tr>\n",
       "      <th>lasts</th>\n",
       "      <td>2.723286</td>\n",
       "      <td>9999</td>\n",
       "      <td>3671.667908</td>\n",
       "    </tr>\n",
       "  </tbody>\n",
       "</table>\n",
       "</div>"
      ],
      "text/plain": [
       "BenchmarkResult(stats=             duration  num_examples          avg\n",
       "first+lasts  2.733673         10000  3658.082184\n",
       "first        0.010387             1    96.270880\n",
       "lasts        2.723286          9999  3671.667908, raw_stats=                      duration\n",
       "start_time          349.543922\n",
       "first_batch_time    349.554309\n",
       "end_time            352.277595\n",
       "num_iter          10000.000000)"
      ]
     },
     "execution_count": 24,
     "metadata": {},
     "output_type": "execute_result"
    }
   ],
   "source": [
    "ds_from_generator_class = tf.data.Dataset.from_generator(\n",
    "    generator=MyGenerator(10**4),\n",
    "    output_types=tf.int32\n",
    ")\n",
    "\n",
    "tfds.benchmark(ds_from_generator_class)"
   ]
  },
  {
   "cell_type": "markdown",
   "id": "e6a01b0f",
   "metadata": {},
   "source": [
    "## Better Option: read Dataset asynchronously from Files\n",
    "### Dump Dataframes into Dataset Files"
   ]
  },
  {
   "cell_type": "code",
   "execution_count": 25,
   "id": "33d3575d",
   "metadata": {},
   "outputs": [],
   "source": [
    "DUMP_PATH_PREFIX = 'test'"
   ]
  },
  {
   "cell_type": "code",
   "execution_count": 26,
   "id": "529d765b",
   "metadata": {},
   "outputs": [],
   "source": [
    "rm -r $DUMP_PATH_PREFIX"
   ]
  },
  {
   "cell_type": "code",
   "execution_count": 27,
   "id": "4c642c57",
   "metadata": {},
   "outputs": [],
   "source": [
    "mkdir $DUMP_PATH_PREFIX"
   ]
  },
  {
   "cell_type": "code",
   "execution_count": 28,
   "id": "eb6329e3",
   "metadata": {},
   "outputs": [],
   "source": [
    "ls $DUMP_PATH_PREFIX"
   ]
  },
  {
   "cell_type": "code",
   "execution_count": 29,
   "id": "46637c56",
   "metadata": {},
   "outputs": [],
   "source": [
    "large_df_for_dumping = pd.DataFrame(range(50_000), dtype=np.int32)\n",
    "large_ds_for_dumping = tf.data.Dataset.from_tensor_slices(large_df_for_dumping)"
   ]
  },
  {
   "cell_type": "code",
   "execution_count": 30,
   "id": "e2aa5d3f",
   "metadata": {},
   "outputs": [
    {
     "data": {
      "text/plain": [
       "50000"
      ]
     },
     "execution_count": 30,
     "metadata": {},
     "output_type": "execute_result"
    }
   ],
   "source": [
    "len(large_ds_for_dumping)"
   ]
  },
  {
   "cell_type": "code",
   "execution_count": 31,
   "id": "f4e656bf",
   "metadata": {},
   "outputs": [
    {
     "name": "stdout",
     "output_type": "stream",
     "text": [
      "<TensorSliceDataset shapes: (1,), types: tf.int32>\n"
     ]
    }
   ],
   "source": [
    "print(large_ds_for_dumping)"
   ]
  },
  {
   "cell_type": "code",
   "execution_count": 32,
   "id": "56d662d1",
   "metadata": {},
   "outputs": [
    {
     "name": "stdout",
     "output_type": "stream",
     "text": [
      "stored to 'test/0.dataset'\n",
      "stored to 'test/1.dataset'\n",
      "stored to 'test/2.dataset'\n",
      "stored to 'test/3.dataset'\n"
     ]
    }
   ],
   "source": [
    "dump_paths = []\n",
    "\n",
    "for i in range(4):\n",
    "    dump_path = os.path.join(DUMP_PATH_PREFIX, f\"{i}.dataset\")\n",
    "    tf.data.experimental.save(\n",
    "        dataset=large_ds_for_dumping,\n",
    "        path=dump_path,\n",
    "        compression='GZIP'\n",
    "    )\n",
    "    print(f\"stored to '{dump_path}'\")\n",
    "    dump_paths.append(dump_path)"
   ]
  },
  {
   "cell_type": "code",
   "execution_count": 33,
   "id": "bf618e23",
   "metadata": {},
   "outputs": [
    {
     "name": "stdout",
     "output_type": "stream",
     "text": [
      "2.5K\ttest/0.dataset\n",
      "2.5K\ttest/1.dataset\n",
      "2.5K\ttest/2.dataset\n",
      "2.5K\ttest/3.dataset\n",
      "\n"
     ]
    }
   ],
   "source": [
    "print(os.popen(f\"du -h --summarize {os.path.join(DUMP_PATH_PREFIX, '*')}\").read())"
   ]
  },
  {
   "cell_type": "markdown",
   "id": "b4e4fb6d",
   "metadata": {},
   "source": [
    "### Load Datasets"
   ]
  },
  {
   "cell_type": "code",
   "execution_count": 34,
   "id": "e7dd843f",
   "metadata": {},
   "outputs": [
    {
     "name": "stdout",
     "output_type": "stream",
     "text": [
      "<TensorSliceDataset shapes: (), types: tf.string>\n",
      "[b'test/0.dataset', b'test/1.dataset', b'test/2.dataset', b'test/3.dataset']\n"
     ]
    }
   ],
   "source": [
    "dumped_files_ds = tf.data.Dataset.from_tensor_slices(dump_paths)\n",
    "print(dumped_files_ds)\n",
    "print_ds(dumped_files_ds)"
   ]
  },
  {
   "cell_type": "code",
   "execution_count": 35,
   "id": "8bd16d1a",
   "metadata": {},
   "outputs": [
    {
     "data": {
      "text/plain": [
       "(TensorSpec(shape=(1,), dtype=tf.int32, name=None),)"
      ]
     },
     "execution_count": 35,
     "metadata": {},
     "output_type": "execute_result"
    }
   ],
   "source": [
    "element_spec = (tf.TensorSpec(shape=(1,), dtype=tf.int32),)\n",
    "element_spec"
   ]
  },
  {
   "cell_type": "code",
   "execution_count": 36,
   "id": "a15ffd8a",
   "metadata": {},
   "outputs": [
    {
     "name": "stdout",
     "output_type": "stream",
     "text": [
      "<InterleaveDataset shapes: ((1,),), types: (tf.int32,)>\n"
     ]
    }
   ],
   "source": [
    "loaded_files_ds = dumped_files_ds.interleave(lambda path:\n",
    "    tf.data.experimental.load(\n",
    "        path=path,\n",
    "        element_spec=element_spec,\n",
    "        compression='GZIP'\n",
    "    )\n",
    ")\n",
    "print(loaded_files_ds)"
   ]
  },
  {
   "cell_type": "code",
   "execution_count": 37,
   "id": "e3e9cecc",
   "metadata": {},
   "outputs": [
    {
     "name": "stdout",
     "output_type": "stream",
     "text": [
      "dataset length is unknown.\n"
     ]
    }
   ],
   "source": [
    "try:\n",
    "    len(loaded_files_ds)\n",
    "except TypeError as e:\n",
    "    print(e)"
   ]
  },
  {
   "cell_type": "code",
   "execution_count": 38,
   "id": "99cd1e96",
   "metadata": {},
   "outputs": [
    {
     "name": "stdout",
     "output_type": "stream",
     "text": [
      "[(array([0], dtype=int32),), (array([0], dtype=int32),), (array([0], dtype=int32),), (array([0], dtype=int32),), (array([1], dtype=int32),), (array([1], dtype=int32),), (array([1], dtype=int32),), (array([1], dtype=int32),), (array([2], dtype=int32),), (array([2], dtype=int32),), (array([2], dtype=int32),), (array([2], dtype=int32),)]\n"
     ]
    }
   ],
   "source": [
    "# looks like round robin\n",
    "print_ds(loaded_files_ds.take(12))"
   ]
  },
  {
   "cell_type": "code",
   "execution_count": 39,
   "id": "5a640684",
   "metadata": {},
   "outputs": [
    {
     "data": {
      "application/vnd.jupyter.widget-view+json": {
       "model_id": "4d48ebf818eb4f17981c680b782d7ece",
       "version_major": 2,
       "version_minor": 0
      },
      "text/plain": [
       "1it [00:00, ?it/s]"
      ]
     },
     "metadata": {},
     "output_type": "display_data"
    },
    {
     "name": "stdout",
     "output_type": "stream",
     "text": [
      "\n",
      "************ Summary ************\n",
      "\n",
      "Examples/sec (First included) 13469.24 ex/sec (total: 200000 ex, 14.85 sec)\n",
      "Examples/sec (First only) 84.13 ex/sec (total: 1 ex, 0.01 sec)\n",
      "Examples/sec (First excluded) 13479.96 ex/sec (total: 199999 ex, 14.84 sec)\n"
     ]
    },
    {
     "data": {
      "text/html": [
       "<strong>BenchmarkResult:</strong><br/><div>\n",
       "<style scoped>\n",
       "    .dataframe tbody tr th:only-of-type {\n",
       "        vertical-align: middle;\n",
       "    }\n",
       "\n",
       "    .dataframe tbody tr th {\n",
       "        vertical-align: top;\n",
       "    }\n",
       "\n",
       "    .dataframe thead th {\n",
       "        text-align: right;\n",
       "    }\n",
       "</style>\n",
       "<table border=\"1\" class=\"dataframe\">\n",
       "  <thead>\n",
       "    <tr style=\"text-align: right;\">\n",
       "      <th></th>\n",
       "      <th>duration</th>\n",
       "      <th>num_examples</th>\n",
       "      <th>avg</th>\n",
       "    </tr>\n",
       "  </thead>\n",
       "  <tbody>\n",
       "    <tr>\n",
       "      <th>first+lasts</th>\n",
       "      <td>14.848647</td>\n",
       "      <td>200000</td>\n",
       "      <td>13469.240870</td>\n",
       "    </tr>\n",
       "    <tr>\n",
       "      <th>first</th>\n",
       "      <td>0.011886</td>\n",
       "      <td>1</td>\n",
       "      <td>84.133315</td>\n",
       "    </tr>\n",
       "    <tr>\n",
       "      <th>lasts</th>\n",
       "      <td>14.836761</td>\n",
       "      <td>199999</td>\n",
       "      <td>13479.963832</td>\n",
       "    </tr>\n",
       "  </tbody>\n",
       "</table>\n",
       "</div>"
      ],
      "text/plain": [
       "BenchmarkResult(stats=              duration  num_examples           avg\n",
       "first+lasts  14.848647        200000  13469.240870\n",
       "first         0.011886             1     84.133315\n",
       "lasts        14.836761        199999  13479.963832, raw_stats=                       duration\n",
       "start_time           354.288959\n",
       "first_batch_time     354.300845\n",
       "end_time             369.137605\n",
       "num_iter          200000.000000)"
      ]
     },
     "execution_count": 39,
     "metadata": {},
     "output_type": "execute_result"
    }
   ],
   "source": [
    "tfds.benchmark(loaded_files_ds)"
   ]
  },
  {
   "cell_type": "markdown",
   "id": "fd99aaa4",
   "metadata": {},
   "source": [
    "## Reading from Files is 3-4x faster than reading from a Generator"
   ]
  },
  {
   "cell_type": "code",
   "execution_count": 40,
   "id": "804eabc7",
   "metadata": {},
   "outputs": [],
   "source": [
    "from typing import List\n",
    "\n",
    "def load_ds_from_files(file_paths: List[str]) -> tf.data.Dataset:\n",
    "    ds = tf.data.Dataset.from_tensor_slices(file_paths)\n",
    "    ds = ds.interleave(lambda path:\n",
    "        tf.data.experimental.load(\n",
    "            path=path,\n",
    "            element_spec=element_spec,\n",
    "            compression='GZIP'\n",
    "        ))\n",
    "    return ds"
   ]
  },
  {
   "cell_type": "code",
   "execution_count": 41,
   "id": "9dc71949",
   "metadata": {},
   "outputs": [
    {
     "data": {
      "application/vnd.jupyter.widget-view+json": {
       "model_id": "28011118173a4855b3009f414837b076",
       "version_major": 2,
       "version_minor": 0
      },
      "text/plain": [
       "1it [00:00, ?it/s]"
      ]
     },
     "metadata": {},
     "output_type": "display_data"
    },
    {
     "name": "stdout",
     "output_type": "stream",
     "text": [
      "\n",
      "************ Summary ************\n",
      "\n",
      "Examples/sec (First included) 1946.12 ex/sec (total: 1562 ex, 0.80 sec)\n",
      "Examples/sec (First only) 3.60 ex/sec (total: 1 ex, 0.28 sec)\n",
      "Examples/sec (First excluded) 2975.85 ex/sec (total: 1561 ex, 0.52 sec)\n"
     ]
    },
    {
     "data": {
      "text/html": [
       "<strong>BenchmarkResult:</strong><br/><div>\n",
       "<style scoped>\n",
       "    .dataframe tbody tr th:only-of-type {\n",
       "        vertical-align: middle;\n",
       "    }\n",
       "\n",
       "    .dataframe tbody tr th {\n",
       "        vertical-align: top;\n",
       "    }\n",
       "\n",
       "    .dataframe thead th {\n",
       "        text-align: right;\n",
       "    }\n",
       "</style>\n",
       "<table border=\"1\" class=\"dataframe\">\n",
       "  <thead>\n",
       "    <tr style=\"text-align: right;\">\n",
       "      <th></th>\n",
       "      <th>duration</th>\n",
       "      <th>num_examples</th>\n",
       "      <th>avg</th>\n",
       "    </tr>\n",
       "  </thead>\n",
       "  <tbody>\n",
       "    <tr>\n",
       "      <th>first+lasts</th>\n",
       "      <td>0.802625</td>\n",
       "      <td>1562</td>\n",
       "      <td>1946.115348</td>\n",
       "    </tr>\n",
       "    <tr>\n",
       "      <th>first</th>\n",
       "      <td>0.278068</td>\n",
       "      <td>1</td>\n",
       "      <td>3.596242</td>\n",
       "    </tr>\n",
       "    <tr>\n",
       "      <th>lasts</th>\n",
       "      <td>0.524557</td>\n",
       "      <td>1561</td>\n",
       "      <td>2975.847182</td>\n",
       "    </tr>\n",
       "  </tbody>\n",
       "</table>\n",
       "</div>"
      ],
      "text/plain": [
       "BenchmarkResult(stats=             duration  num_examples          avg\n",
       "first+lasts  0.802625          1562  1946.115348\n",
       "first        0.278068             1     3.596242\n",
       "lasts        0.524557          1561  2975.847182, raw_stats=                     duration\n",
       "start_time         369.175779\n",
       "first_batch_time   369.453847\n",
       "end_time           369.978403\n",
       "num_iter          1562.000000)"
      ]
     },
     "execution_count": 41,
     "metadata": {},
     "output_type": "execute_result"
    }
   ],
   "source": [
    "tfds.benchmark(\n",
    "    load_ds_from_files(dump_paths)\\\n",
    "    .shuffle(buffer_size=10**5)\\\n",
    "    .batch(128, drop_remainder=True)\n",
    ")"
   ]
  },
  {
   "cell_type": "markdown",
   "id": "6fbdaab4",
   "metadata": {},
   "source": [
    "## >10x Speed Improvement by using Batching "
   ]
  },
  {
   "cell_type": "code",
   "execution_count": 42,
   "id": "490b8234",
   "metadata": {},
   "outputs": [
    {
     "data": {
      "application/vnd.jupyter.widget-view+json": {
       "model_id": "7140076a50eb44b189f3bc5530193da3",
       "version_major": 2,
       "version_minor": 0
      },
      "text/plain": [
       "1it [00:00, ?it/s]"
      ]
     },
     "metadata": {},
     "output_type": "display_data"
    },
    {
     "name": "stdout",
     "output_type": "stream",
     "text": [
      "\n",
      "************ Summary ************\n",
      "\n",
      "Examples/sec (First included) 2466.22 ex/sec (total: 1562 ex, 0.63 sec)\n",
      "Examples/sec (First only) 21.10 ex/sec (total: 1 ex, 0.05 sec)\n",
      "Examples/sec (First excluded) 2664.02 ex/sec (total: 1561 ex, 0.59 sec)\n"
     ]
    },
    {
     "data": {
      "text/html": [
       "<strong>BenchmarkResult:</strong><br/><div>\n",
       "<style scoped>\n",
       "    .dataframe tbody tr th:only-of-type {\n",
       "        vertical-align: middle;\n",
       "    }\n",
       "\n",
       "    .dataframe tbody tr th {\n",
       "        vertical-align: top;\n",
       "    }\n",
       "\n",
       "    .dataframe thead th {\n",
       "        text-align: right;\n",
       "    }\n",
       "</style>\n",
       "<table border=\"1\" class=\"dataframe\">\n",
       "  <thead>\n",
       "    <tr style=\"text-align: right;\">\n",
       "      <th></th>\n",
       "      <th>duration</th>\n",
       "      <th>num_examples</th>\n",
       "      <th>avg</th>\n",
       "    </tr>\n",
       "  </thead>\n",
       "  <tbody>\n",
       "    <tr>\n",
       "      <th>first+lasts</th>\n",
       "      <td>0.633357</td>\n",
       "      <td>1562</td>\n",
       "      <td>2466.222645</td>\n",
       "    </tr>\n",
       "    <tr>\n",
       "      <th>first</th>\n",
       "      <td>0.047402</td>\n",
       "      <td>1</td>\n",
       "      <td>21.096328</td>\n",
       "    </tr>\n",
       "    <tr>\n",
       "      <th>lasts</th>\n",
       "      <td>0.585956</td>\n",
       "      <td>1561</td>\n",
       "      <td>2664.024196</td>\n",
       "    </tr>\n",
       "  </tbody>\n",
       "</table>\n",
       "</div>"
      ],
      "text/plain": [
       "BenchmarkResult(stats=             duration  num_examples          avg\n",
       "first+lasts  0.633357          1562  2466.222645\n",
       "first        0.047402             1    21.096328\n",
       "lasts        0.585956          1561  2664.024196, raw_stats=                     duration\n",
       "start_time         370.001406\n",
       "first_batch_time   370.048807\n",
       "end_time           370.634763\n",
       "num_iter          1562.000000)"
      ]
     },
     "execution_count": 42,
     "metadata": {},
     "output_type": "execute_result"
    }
   ],
   "source": [
    "tfds.benchmark(\n",
    "    load_ds_from_files(dump_paths)\\\n",
    "    .shuffle(buffer_size=10**4)\\\n",
    "    .batch(128, drop_remainder=True)\\\n",
    "    .prefetch(tf.data.experimental.AUTOTUNE)\n",
    ")"
   ]
  },
  {
   "cell_type": "markdown",
   "id": "66b79d81",
   "metadata": {},
   "source": [
    "## Another 10-20% (at least) by using Prefetching"
   ]
  },
  {
   "cell_type": "markdown",
   "id": "ed05bb74",
   "metadata": {},
   "source": [
    "# Combined Benchmark"
   ]
  },
  {
   "cell_type": "code",
   "execution_count": 2,
   "id": "55872224",
   "metadata": {},
   "outputs": [],
   "source": [
    "def get_dataset_from_tensor(size):\n",
    "    df = pd.DataFrame(range(size), dtype=np.int32)\n",
    "    ds = tf.data.Dataset.from_tensor_slices(df)\n",
    "    return ds\n",
    "\n",
    "def get_dataset_from_generator(size):\n",
    "    def gen():\n",
    "        yield from range(size)\n",
    "    \n",
    "    ds = tf.data.Dataset.from_generator(\n",
    "        generator=gen,\n",
    "        output_types=tf.int32\n",
    "    )\n",
    "    return ds\n",
    "\n",
    "def get_dataset_from_files(size, shard_count = 10):\n",
    "    assert size % shard_count == 0\n",
    "    one_ds = get_dataset_from_tensor(size//shard_count)\n",
    "    \n",
    "    dump_paths = []\n",
    "    for i in range(shard_count):\n",
    "        dump_path = f\"{i}.dataset\"\n",
    "        tf.data.experimental.save(\n",
    "            dataset=one_ds,\n",
    "            path=dump_path,\n",
    "            compression='GZIP'\n",
    "        )\n",
    "        \n",
    "        dump_paths.append(dump_path)\n",
    "    \n",
    "    ds = load_ds_from_files(dump_paths)\n",
    "    return ds\n",
    "\n",
    "def benchmark_ds(ds, batch_size = None, prefetch = None):\n",
    "    if batch_size is not None:\n",
    "        ds = ds.batch(batch_size)\n",
    "    else:\n",
    "        batch_size = 1\n",
    "    \n",
    "    if prefetch is not None:\n",
    "        ds = ds.prefetch(prefetch)\n",
    "        \n",
    "    return tfds.benchmark(ds, batch_size=batch_size).stats.avg['first+lasts']\n",
    "\n",
    "def run_benchmark_with_size(size, batch_size = None, prefetch = None):\n",
    "    results = dict()\n",
    "    \n",
    "    results['dataset_from_tensor'] = benchmark_ds(get_dataset_from_tensor(size), batch_size, prefetch)\n",
    "    results['dataset_from_generator'] = benchmark_ds(get_dataset_from_generator(size), batch_size, prefetch)\n",
    "    results['dataset_from_files'] = benchmark_ds(get_dataset_from_files(size), batch_size, prefetch)\n",
    "    \n",
    "    return results\n",
    "\n",
    "def run_benchmark(sizes = (10**3, 10**4, 10**5, 10**6), batch_sizes = (None, 10, 25, 100, 250), prefetches = (None, tf.data.experimental.AUTOTUNE)):\n",
    "    results = dict()\n",
    "    \n",
    "    for size in sizes:\n",
    "        print(f\"size = {size}\")\n",
    "        for batch_size in batch_sizes:\n",
    "            print(f\"batch_size = {batch_size}\")\n",
    "            for prefetch in prefetches:\n",
    "                print(f\"prefetch = {prefetch}\")\n",
    "                results[(size, batch_size, prefetch)] = run_benchmark_with_size(size, batch_size, prefetch)\n",
    "    \n",
    "    return results\n",
    "\n",
    "def visualize_benchmark_results(res):\n",
    "    df = pd.DataFrame(res)\\\n",
    "    .T\\\n",
    "    .reset_index()\\\n",
    "    .rename(columns={\n",
    "        'level_0': 'size', \n",
    "        'level_1': 'batch_size', \n",
    "        'level_2': 'prefetch'\n",
    "    })\n",
    "    return df"
   ]
  },
  {
   "cell_type": "code",
   "execution_count": 44,
   "id": "710eb008",
   "metadata": {
    "scrolled": true
   },
   "outputs": [
    {
     "name": "stdout",
     "output_type": "stream",
     "text": [
      "size = 1000\n",
      "batch_size = None\n",
      "prefetch = None\n"
     ]
    },
    {
     "data": {
      "application/vnd.jupyter.widget-view+json": {
       "model_id": "a2706dd703854f2c8bfbe88a0c3c898b",
       "version_major": 2,
       "version_minor": 0
      },
      "text/plain": [
       "  0%|          | 1/1000 [00:00<?, ?it/s]"
      ]
     },
     "metadata": {},
     "output_type": "display_data"
    },
    {
     "name": "stdout",
     "output_type": "stream",
     "text": [
      "\n",
      "************ Summary ************\n",
      "\n",
      "Examples/sec (First included) 14324.52 ex/sec (total: 1000 ex, 0.07 sec)\n",
      "Examples/sec (First only) 468.91 ex/sec (total: 1 ex, 0.00 sec)\n",
      "Examples/sec (First excluded) 14761.13 ex/sec (total: 999 ex, 0.07 sec)\n"
     ]
    },
    {
     "data": {
      "application/vnd.jupyter.widget-view+json": {
       "model_id": "4965faff5f6f4fca8f905e3e792fd609",
       "version_major": 2,
       "version_minor": 0
      },
      "text/plain": [
       "1it [00:00, ?it/s]"
      ]
     },
     "metadata": {},
     "output_type": "display_data"
    },
    {
     "name": "stdout",
     "output_type": "stream",
     "text": [
      "\n",
      "************ Summary ************\n",
      "\n",
      "Examples/sec (First included) 3436.34 ex/sec (total: 1000 ex, 0.29 sec)\n",
      "Examples/sec (First only) 96.84 ex/sec (total: 1 ex, 0.01 sec)\n",
      "Examples/sec (First excluded) 3559.20 ex/sec (total: 999 ex, 0.28 sec)\n"
     ]
    },
    {
     "data": {
      "application/vnd.jupyter.widget-view+json": {
       "model_id": "759fea9f3f664e1a80ab4a4a68600ea9",
       "version_major": 2,
       "version_minor": 0
      },
      "text/plain": [
       "1it [00:00, ?it/s]"
      ]
     },
     "metadata": {},
     "output_type": "display_data"
    },
    {
     "name": "stdout",
     "output_type": "stream",
     "text": [
      "\n",
      "************ Summary ************\n",
      "\n",
      "Examples/sec (First included) 9119.99 ex/sec (total: 1000 ex, 0.11 sec)\n",
      "Examples/sec (First only) 94.40 ex/sec (total: 1 ex, 0.01 sec)\n",
      "Examples/sec (First excluded) 10085.17 ex/sec (total: 999 ex, 0.10 sec)\n",
      "prefetch = -1\n"
     ]
    },
    {
     "data": {
      "application/vnd.jupyter.widget-view+json": {
       "model_id": "c5850487f0f54fffb89b758c302ac35e",
       "version_major": 2,
       "version_minor": 0
      },
      "text/plain": [
       "  0%|          | 1/1000 [00:00<?, ?it/s]"
      ]
     },
     "metadata": {},
     "output_type": "display_data"
    },
    {
     "name": "stdout",
     "output_type": "stream",
     "text": [
      "\n",
      "************ Summary ************\n",
      "\n",
      "Examples/sec (First included) 13940.88 ex/sec (total: 1000 ex, 0.07 sec)\n",
      "Examples/sec (First only) 458.20 ex/sec (total: 1 ex, 0.00 sec)\n",
      "Examples/sec (First excluded) 14363.98 ex/sec (total: 999 ex, 0.07 sec)\n"
     ]
    },
    {
     "data": {
      "application/vnd.jupyter.widget-view+json": {
       "model_id": "4d48fed913444b3cba92c7fade172cc2",
       "version_major": 2,
       "version_minor": 0
      },
      "text/plain": [
       "1it [00:00, ?it/s]"
      ]
     },
     "metadata": {},
     "output_type": "display_data"
    },
    {
     "name": "stdout",
     "output_type": "stream",
     "text": [
      "\n",
      "************ Summary ************\n",
      "\n",
      "Examples/sec (First included) 4200.85 ex/sec (total: 1000 ex, 0.24 sec)\n",
      "Examples/sec (First only) 92.27 ex/sec (total: 1 ex, 0.01 sec)\n",
      "Examples/sec (First excluded) 4396.83 ex/sec (total: 999 ex, 0.23 sec)\n"
     ]
    },
    {
     "data": {
      "application/vnd.jupyter.widget-view+json": {
       "model_id": "84a8d6a4ee144f5caf698808a7566413",
       "version_major": 2,
       "version_minor": 0
      },
      "text/plain": [
       "1it [00:00, ?it/s]"
      ]
     },
     "metadata": {},
     "output_type": "display_data"
    },
    {
     "name": "stdout",
     "output_type": "stream",
     "text": [
      "\n",
      "************ Summary ************\n",
      "\n",
      "Examples/sec (First included) 8659.41 ex/sec (total: 1000 ex, 0.12 sec)\n",
      "Examples/sec (First only) 91.53 ex/sec (total: 1 ex, 0.01 sec)\n",
      "Examples/sec (First excluded) 9554.72 ex/sec (total: 999 ex, 0.10 sec)\n",
      "batch_size = 10\n",
      "prefetch = None\n"
     ]
    },
    {
     "data": {
      "application/vnd.jupyter.widget-view+json": {
       "model_id": "6fdb85c08edd45e48de94a7b3c6434bc",
       "version_major": 2,
       "version_minor": 0
      },
      "text/plain": [
       "  1%|1         | 1/100 [00:00<?, ?it/s]"
      ]
     },
     "metadata": {},
     "output_type": "display_data"
    },
    {
     "name": "stdout",
     "output_type": "stream",
     "text": [
      "\n",
      "************ Summary ************\n",
      "\n",
      "Examples/sec (First included) 35098.84 ex/sec (total: 1000 ex, 0.03 sec)\n",
      "Examples/sec (First only) 4314.48 ex/sec (total: 10 ex, 0.00 sec)\n",
      "Examples/sec (First excluded) 37824.96 ex/sec (total: 990 ex, 0.03 sec)\n"
     ]
    },
    {
     "data": {
      "application/vnd.jupyter.widget-view+json": {
       "model_id": "4c568e95555a4939a7e64fb5e6797354",
       "version_major": 2,
       "version_minor": 0
      },
      "text/plain": [
       "1it [00:00, ?it/s]"
      ]
     },
     "metadata": {},
     "output_type": "display_data"
    },
    {
     "name": "stdout",
     "output_type": "stream",
     "text": [
      "\n",
      "************ Summary ************\n",
      "\n",
      "Examples/sec (First included) 4301.18 ex/sec (total: 1000 ex, 0.23 sec)\n",
      "Examples/sec (First only) 844.09 ex/sec (total: 10 ex, 0.01 sec)\n",
      "Examples/sec (First excluded) 4486.80 ex/sec (total: 990 ex, 0.22 sec)\n"
     ]
    },
    {
     "data": {
      "application/vnd.jupyter.widget-view+json": {
       "model_id": "3a6103319a004eb8b32baefa1a9ccc05",
       "version_major": 2,
       "version_minor": 0
      },
      "text/plain": [
       "1it [00:00, ?it/s]"
      ]
     },
     "metadata": {},
     "output_type": "display_data"
    },
    {
     "name": "stdout",
     "output_type": "stream",
     "text": [
      "\n",
      "************ Summary ************\n",
      "\n",
      "Examples/sec (First included) 18552.99 ex/sec (total: 1000 ex, 0.05 sec)\n",
      "Examples/sec (First only) 513.51 ex/sec (total: 10 ex, 0.02 sec)\n",
      "Examples/sec (First excluded) 28757.31 ex/sec (total: 990 ex, 0.03 sec)\n",
      "prefetch = -1\n"
     ]
    },
    {
     "data": {
      "application/vnd.jupyter.widget-view+json": {
       "model_id": "c1e91cad95814a79af643a4f8b5a73e7",
       "version_major": 2,
       "version_minor": 0
      },
      "text/plain": [
       "  1%|1         | 1/100 [00:00<?, ?it/s]"
      ]
     },
     "metadata": {},
     "output_type": "display_data"
    },
    {
     "name": "stdout",
     "output_type": "stream",
     "text": [
      "\n",
      "************ Summary ************\n",
      "\n",
      "Examples/sec (First included) 36040.97 ex/sec (total: 1000 ex, 0.03 sec)\n",
      "Examples/sec (First only) 4098.71 ex/sec (total: 10 ex, 0.00 sec)\n",
      "Examples/sec (First excluded) 39120.52 ex/sec (total: 990 ex, 0.03 sec)\n"
     ]
    },
    {
     "data": {
      "application/vnd.jupyter.widget-view+json": {
       "model_id": "55a28b307bb34c678098cd79a0d981d7",
       "version_major": 2,
       "version_minor": 0
      },
      "text/plain": [
       "1it [00:00, ?it/s]"
      ]
     },
     "metadata": {},
     "output_type": "display_data"
    },
    {
     "name": "stdout",
     "output_type": "stream",
     "text": [
      "\n",
      "************ Summary ************\n",
      "\n",
      "Examples/sec (First included) 4431.73 ex/sec (total: 1000 ex, 0.23 sec)\n",
      "Examples/sec (First only) 764.32 ex/sec (total: 10 ex, 0.01 sec)\n",
      "Examples/sec (First excluded) 4657.47 ex/sec (total: 990 ex, 0.21 sec)\n"
     ]
    },
    {
     "data": {
      "application/vnd.jupyter.widget-view+json": {
       "model_id": "b64204d5fd7e49769e7336cb46956d73",
       "version_major": 2,
       "version_minor": 0
      },
      "text/plain": [
       "1it [00:00, ?it/s]"
      ]
     },
     "metadata": {},
     "output_type": "display_data"
    },
    {
     "name": "stdout",
     "output_type": "stream",
     "text": [
      "\n",
      "************ Summary ************\n",
      "\n",
      "Examples/sec (First included) 20174.10 ex/sec (total: 1000 ex, 0.05 sec)\n",
      "Examples/sec (First only) 530.63 ex/sec (total: 10 ex, 0.02 sec)\n",
      "Examples/sec (First excluded) 32223.47 ex/sec (total: 990 ex, 0.03 sec)\n",
      "batch_size = 25\n",
      "prefetch = None\n"
     ]
    },
    {
     "data": {
      "application/vnd.jupyter.widget-view+json": {
       "model_id": "a36555a070c24b96b533c21b399b29f1",
       "version_major": 2,
       "version_minor": 0
      },
      "text/plain": [
       "  2%|2         | 1/40 [00:00<?, ?it/s]"
      ]
     },
     "metadata": {},
     "output_type": "display_data"
    },
    {
     "name": "stdout",
     "output_type": "stream",
     "text": [
      "\n",
      "************ Summary ************\n",
      "\n",
      "Examples/sec (First included) 37744.20 ex/sec (total: 1000 ex, 0.03 sec)\n",
      "Examples/sec (First only) 11458.62 ex/sec (total: 25 ex, 0.00 sec)\n",
      "Examples/sec (First excluded) 40103.04 ex/sec (total: 975 ex, 0.02 sec)\n"
     ]
    },
    {
     "data": {
      "application/vnd.jupyter.widget-view+json": {
       "model_id": "80ad3b61c1954b58ae504bddc179e386",
       "version_major": 2,
       "version_minor": 0
      },
      "text/plain": [
       "1it [00:00, ?it/s]"
      ]
     },
     "metadata": {},
     "output_type": "display_data"
    },
    {
     "name": "stdout",
     "output_type": "stream",
     "text": [
      "\n",
      "************ Summary ************\n",
      "\n",
      "Examples/sec (First included) 4542.33 ex/sec (total: 1000 ex, 0.22 sec)\n",
      "Examples/sec (First only) 1560.17 ex/sec (total: 25 ex, 0.02 sec)\n",
      "Examples/sec (First excluded) 4776.43 ex/sec (total: 975 ex, 0.20 sec)\n"
     ]
    },
    {
     "data": {
      "application/vnd.jupyter.widget-view+json": {
       "model_id": "4dd04fe02aef4b9f89e483d62ea44b76",
       "version_major": 2,
       "version_minor": 0
      },
      "text/plain": [
       "1it [00:00, ?it/s]"
      ]
     },
     "metadata": {},
     "output_type": "display_data"
    },
    {
     "name": "stdout",
     "output_type": "stream",
     "text": [
      "\n",
      "************ Summary ************\n",
      "\n",
      "Examples/sec (First included) 20756.29 ex/sec (total: 1000 ex, 0.05 sec)\n",
      "Examples/sec (First only) 1337.60 ex/sec (total: 25 ex, 0.02 sec)\n",
      "Examples/sec (First excluded) 33064.39 ex/sec (total: 975 ex, 0.03 sec)\n",
      "prefetch = -1\n"
     ]
    },
    {
     "data": {
      "application/vnd.jupyter.widget-view+json": {
       "model_id": "51258f596a8b4fff84b766e4971a6205",
       "version_major": 2,
       "version_minor": 0
      },
      "text/plain": [
       "  2%|2         | 1/40 [00:00<?, ?it/s]"
      ]
     },
     "metadata": {},
     "output_type": "display_data"
    },
    {
     "name": "stdout",
     "output_type": "stream",
     "text": [
      "\n",
      "************ Summary ************\n",
      "\n",
      "Examples/sec (First included) 34351.55 ex/sec (total: 1000 ex, 0.03 sec)\n",
      "Examples/sec (First only) 10460.40 ex/sec (total: 25 ex, 0.00 sec)\n",
      "Examples/sec (First excluded) 36488.42 ex/sec (total: 975 ex, 0.03 sec)\n"
     ]
    },
    {
     "data": {
      "application/vnd.jupyter.widget-view+json": {
       "model_id": "6dd1876f397f48dcbb048b51bef9aa0e",
       "version_major": 2,
       "version_minor": 0
      },
      "text/plain": [
       "1it [00:00, ?it/s]"
      ]
     },
     "metadata": {},
     "output_type": "display_data"
    },
    {
     "name": "stdout",
     "output_type": "stream",
     "text": [
      "\n",
      "************ Summary ************\n",
      "\n",
      "Examples/sec (First included) 4217.87 ex/sec (total: 1000 ex, 0.24 sec)\n",
      "Examples/sec (First only) 1649.23 ex/sec (total: 25 ex, 0.02 sec)\n",
      "Examples/sec (First excluded) 4393.32 ex/sec (total: 975 ex, 0.22 sec)\n"
     ]
    },
    {
     "data": {
      "application/vnd.jupyter.widget-view+json": {
       "model_id": "d6a652a582954e94bc72b3eee1258b2c",
       "version_major": 2,
       "version_minor": 0
      },
      "text/plain": [
       "1it [00:00, ?it/s]"
      ]
     },
     "metadata": {},
     "output_type": "display_data"
    },
    {
     "name": "stdout",
     "output_type": "stream",
     "text": [
      "\n",
      "************ Summary ************\n",
      "\n",
      "Examples/sec (First included) 20528.32 ex/sec (total: 1000 ex, 0.05 sec)\n",
      "Examples/sec (First only) 1211.88 ex/sec (total: 25 ex, 0.02 sec)\n",
      "Examples/sec (First excluded) 34717.08 ex/sec (total: 975 ex, 0.03 sec)\n",
      "batch_size = 100\n",
      "prefetch = None\n"
     ]
    },
    {
     "data": {
      "application/vnd.jupyter.widget-view+json": {
       "model_id": "e880195836c9474ca6ea8b285fdf0d94",
       "version_major": 2,
       "version_minor": 0
      },
      "text/plain": [
       " 10%|#         | 1/10 [00:00<?, ?it/s]"
      ]
     },
     "metadata": {},
     "output_type": "display_data"
    },
    {
     "name": "stdout",
     "output_type": "stream",
     "text": [
      "\n",
      "************ Summary ************\n",
      "\n",
      "Examples/sec (First included) 39528.86 ex/sec (total: 1000 ex, 0.03 sec)\n",
      "Examples/sec (First only) 43810.44 ex/sec (total: 100 ex, 0.00 sec)\n",
      "Examples/sec (First excluded) 39104.23 ex/sec (total: 900 ex, 0.02 sec)\n"
     ]
    },
    {
     "data": {
      "application/vnd.jupyter.widget-view+json": {
       "model_id": "d124616bc46d455999aa1639c45aa34f",
       "version_major": 2,
       "version_minor": 0
      },
      "text/plain": [
       "1it [00:00, ?it/s]"
      ]
     },
     "metadata": {},
     "output_type": "display_data"
    },
    {
     "name": "stdout",
     "output_type": "stream",
     "text": [
      "\n",
      "************ Summary ************\n",
      "\n",
      "Examples/sec (First included) 4692.56 ex/sec (total: 1000 ex, 0.21 sec)\n",
      "Examples/sec (First only) 3697.20 ex/sec (total: 100 ex, 0.03 sec)\n",
      "Examples/sec (First excluded) 4837.26 ex/sec (total: 900 ex, 0.19 sec)\n"
     ]
    },
    {
     "data": {
      "application/vnd.jupyter.widget-view+json": {
       "model_id": "e18c717d93b94e2ba134cdb4c80f66b3",
       "version_major": 2,
       "version_minor": 0
      },
      "text/plain": [
       "1it [00:00, ?it/s]"
      ]
     },
     "metadata": {},
     "output_type": "display_data"
    },
    {
     "name": "stdout",
     "output_type": "stream",
     "text": [
      "\n",
      "************ Summary ************\n",
      "\n",
      "Examples/sec (First included) 22452.65 ex/sec (total: 1000 ex, 0.04 sec)\n",
      "Examples/sec (First only) 5054.56 ex/sec (total: 100 ex, 0.02 sec)\n",
      "Examples/sec (First excluded) 36357.69 ex/sec (total: 900 ex, 0.02 sec)\n",
      "prefetch = -1\n"
     ]
    },
    {
     "data": {
      "application/vnd.jupyter.widget-view+json": {
       "model_id": "0ab90dbd76cb4e4c8d5394182a472f49",
       "version_major": 2,
       "version_minor": 0
      },
      "text/plain": [
       " 10%|#         | 1/10 [00:00<?, ?it/s]"
      ]
     },
     "metadata": {},
     "output_type": "display_data"
    },
    {
     "name": "stdout",
     "output_type": "stream",
     "text": [
      "\n",
      "************ Summary ************\n",
      "\n",
      "Examples/sec (First included) 40385.57 ex/sec (total: 1000 ex, 0.02 sec)\n",
      "Examples/sec (First only) 41135.79 ex/sec (total: 100 ex, 0.00 sec)\n",
      "Examples/sec (First excluded) 40303.90 ex/sec (total: 900 ex, 0.02 sec)\n"
     ]
    },
    {
     "data": {
      "application/vnd.jupyter.widget-view+json": {
       "model_id": "7fdb9af2d2d74c409fac1fb0772a222e",
       "version_major": 2,
       "version_minor": 0
      },
      "text/plain": [
       "1it [00:00, ?it/s]"
      ]
     },
     "metadata": {},
     "output_type": "display_data"
    },
    {
     "name": "stdout",
     "output_type": "stream",
     "text": [
      "\n",
      "************ Summary ************\n",
      "\n",
      "Examples/sec (First included) 4581.24 ex/sec (total: 1000 ex, 0.22 sec)\n",
      "Examples/sec (First only) 3173.72 ex/sec (total: 100 ex, 0.03 sec)\n",
      "Examples/sec (First excluded) 4818.69 ex/sec (total: 900 ex, 0.19 sec)\n"
     ]
    },
    {
     "data": {
      "application/vnd.jupyter.widget-view+json": {
       "model_id": "3d8cc63768144440ba4c514922702f49",
       "version_major": 2,
       "version_minor": 0
      },
      "text/plain": [
       "1it [00:00, ?it/s]"
      ]
     },
     "metadata": {},
     "output_type": "display_data"
    },
    {
     "name": "stdout",
     "output_type": "stream",
     "text": [
      "\n",
      "************ Summary ************\n",
      "\n",
      "Examples/sec (First included) 19766.43 ex/sec (total: 1000 ex, 0.05 sec)\n",
      "Examples/sec (First only) 4743.17 ex/sec (total: 100 ex, 0.02 sec)\n",
      "Examples/sec (First excluded) 30500.33 ex/sec (total: 900 ex, 0.03 sec)\n",
      "batch_size = 250\n",
      "prefetch = None\n"
     ]
    },
    {
     "data": {
      "application/vnd.jupyter.widget-view+json": {
       "model_id": "29dfc5e73abb4435a774d4b7d894b08c",
       "version_major": 2,
       "version_minor": 0
      },
      "text/plain": [
       " 25%|##5       | 1/4 [00:00<?, ?it/s]"
      ]
     },
     "metadata": {},
     "output_type": "display_data"
    },
    {
     "name": "stdout",
     "output_type": "stream",
     "text": [
      "\n",
      "************ Summary ************\n",
      "\n",
      "Examples/sec (First included) 40799.06 ex/sec (total: 1000 ex, 0.02 sec)\n",
      "Examples/sec (First only) 104820.18 ex/sec (total: 250 ex, 0.00 sec)\n",
      "Examples/sec (First excluded) 33897.79 ex/sec (total: 750 ex, 0.02 sec)\n"
     ]
    },
    {
     "data": {
      "application/vnd.jupyter.widget-view+json": {
       "model_id": "f18b51440bec4e3a98d77d380702ba09",
       "version_major": 2,
       "version_minor": 0
      },
      "text/plain": [
       "1it [00:00, ?it/s]"
      ]
     },
     "metadata": {},
     "output_type": "display_data"
    },
    {
     "name": "stdout",
     "output_type": "stream",
     "text": [
      "\n",
      "************ Summary ************\n",
      "\n",
      "Examples/sec (First included) 4734.34 ex/sec (total: 1000 ex, 0.21 sec)\n",
      "Examples/sec (First only) 4411.89 ex/sec (total: 250 ex, 0.06 sec)\n",
      "Examples/sec (First excluded) 4852.55 ex/sec (total: 750 ex, 0.15 sec)\n"
     ]
    },
    {
     "data": {
      "application/vnd.jupyter.widget-view+json": {
       "model_id": "d9977dc015a149db99d70331856c863b",
       "version_major": 2,
       "version_minor": 0
      },
      "text/plain": [
       "1it [00:00, ?it/s]"
      ]
     },
     "metadata": {},
     "output_type": "display_data"
    },
    {
     "name": "stdout",
     "output_type": "stream",
     "text": [
      "\n",
      "************ Summary ************\n",
      "\n",
      "Examples/sec (First included) 22233.93 ex/sec (total: 1000 ex, 0.04 sec)\n",
      "Examples/sec (First only) 12091.73 ex/sec (total: 250 ex, 0.02 sec)\n",
      "Examples/sec (First excluded) 30862.90 ex/sec (total: 750 ex, 0.02 sec)\n",
      "prefetch = -1\n"
     ]
    },
    {
     "data": {
      "application/vnd.jupyter.widget-view+json": {
       "model_id": "ead58a5d21d448199b1e1a3e8011ae23",
       "version_major": 2,
       "version_minor": 0
      },
      "text/plain": [
       " 25%|##5       | 1/4 [00:00<?, ?it/s]"
      ]
     },
     "metadata": {},
     "output_type": "display_data"
    },
    {
     "name": "stdout",
     "output_type": "stream",
     "text": [
      "\n",
      "************ Summary ************\n",
      "\n",
      "Examples/sec (First included) 37942.55 ex/sec (total: 1000 ex, 0.03 sec)\n",
      "Examples/sec (First only) 72509.25 ex/sec (total: 250 ex, 0.00 sec)\n",
      "Examples/sec (First excluded) 32739.94 ex/sec (total: 750 ex, 0.02 sec)\n"
     ]
    },
    {
     "data": {
      "application/vnd.jupyter.widget-view+json": {
       "model_id": "88e28a078ea6415b9df608291ac18251",
       "version_major": 2,
       "version_minor": 0
      },
      "text/plain": [
       "1it [00:00, ?it/s]"
      ]
     },
     "metadata": {},
     "output_type": "display_data"
    },
    {
     "name": "stdout",
     "output_type": "stream",
     "text": [
      "\n",
      "************ Summary ************\n",
      "\n",
      "Examples/sec (First included) 4362.45 ex/sec (total: 1000 ex, 0.23 sec)\n",
      "Examples/sec (First only) 4111.08 ex/sec (total: 250 ex, 0.06 sec)\n",
      "Examples/sec (First excluded) 4453.21 ex/sec (total: 750 ex, 0.17 sec)\n"
     ]
    },
    {
     "data": {
      "application/vnd.jupyter.widget-view+json": {
       "model_id": "b793c3dc740248a99a38bf6499da6764",
       "version_major": 2,
       "version_minor": 0
      },
      "text/plain": [
       "1it [00:00, ?it/s]"
      ]
     },
     "metadata": {},
     "output_type": "display_data"
    },
    {
     "name": "stdout",
     "output_type": "stream",
     "text": [
      "\n",
      "************ Summary ************\n",
      "\n",
      "Examples/sec (First included) 20453.98 ex/sec (total: 1000 ex, 0.05 sec)\n",
      "Examples/sec (First only) 12127.91 ex/sec (total: 250 ex, 0.02 sec)\n",
      "Examples/sec (First excluded) 26523.66 ex/sec (total: 750 ex, 0.03 sec)\n",
      "size = 10000\n",
      "batch_size = None\n",
      "prefetch = None\n"
     ]
    },
    {
     "data": {
      "application/vnd.jupyter.widget-view+json": {
       "model_id": "43263eb9f3c84819b2e0f3863f1f00a3",
       "version_major": 2,
       "version_minor": 0
      },
      "text/plain": [
       "  0%|          | 1/10000 [00:00<?, ?it/s]"
      ]
     },
     "metadata": {},
     "output_type": "display_data"
    },
    {
     "name": "stdout",
     "output_type": "stream",
     "text": [
      "\n",
      "************ Summary ************\n",
      "\n",
      "Examples/sec (First included) 19756.21 ex/sec (total: 10000 ex, 0.51 sec)\n",
      "Examples/sec (First only) 398.69 ex/sec (total: 1 ex, 0.00 sec)\n",
      "Examples/sec (First excluded) 19852.61 ex/sec (total: 9999 ex, 0.50 sec)\n"
     ]
    },
    {
     "data": {
      "application/vnd.jupyter.widget-view+json": {
       "model_id": "8efe612e590b4b67b4276cb77e831bc5",
       "version_major": 2,
       "version_minor": 0
      },
      "text/plain": [
       "1it [00:00, ?it/s]"
      ]
     },
     "metadata": {},
     "output_type": "display_data"
    },
    {
     "name": "stdout",
     "output_type": "stream",
     "text": [
      "\n",
      "************ Summary ************\n",
      "\n",
      "Examples/sec (First included) 3378.73 ex/sec (total: 10000 ex, 2.96 sec)\n",
      "Examples/sec (First only) 98.22 ex/sec (total: 1 ex, 0.01 sec)\n",
      "Examples/sec (First excluded) 3390.05 ex/sec (total: 9999 ex, 2.95 sec)\n"
     ]
    },
    {
     "data": {
      "application/vnd.jupyter.widget-view+json": {
       "model_id": "75f596916df84cf4b174216313c67dc9",
       "version_major": 2,
       "version_minor": 0
      },
      "text/plain": [
       "1it [00:00, ?it/s]"
      ]
     },
     "metadata": {},
     "output_type": "display_data"
    },
    {
     "name": "stdout",
     "output_type": "stream",
     "text": [
      "\n",
      "************ Summary ************\n",
      "\n",
      "Examples/sec (First included) 13094.24 ex/sec (total: 10000 ex, 0.76 sec)\n",
      "Examples/sec (First only) 90.94 ex/sec (total: 1 ex, 0.01 sec)\n",
      "Examples/sec (First excluded) 13284.21 ex/sec (total: 9999 ex, 0.75 sec)\n",
      "prefetch = -1\n"
     ]
    },
    {
     "data": {
      "application/vnd.jupyter.widget-view+json": {
       "model_id": "85d19d69d9a148a9a6e2b166a79bd877",
       "version_major": 2,
       "version_minor": 0
      },
      "text/plain": [
       "  0%|          | 1/10000 [00:00<?, ?it/s]"
      ]
     },
     "metadata": {},
     "output_type": "display_data"
    },
    {
     "name": "stdout",
     "output_type": "stream",
     "text": [
      "\n",
      "************ Summary ************\n",
      "\n",
      "Examples/sec (First included) 18650.28 ex/sec (total: 10000 ex, 0.54 sec)\n",
      "Examples/sec (First only) 340.61 ex/sec (total: 1 ex, 0.00 sec)\n",
      "Examples/sec (First excluded) 18751.08 ex/sec (total: 9999 ex, 0.53 sec)\n"
     ]
    },
    {
     "data": {
      "application/vnd.jupyter.widget-view+json": {
       "model_id": "4dfaa1fa33e44868b12f9a20c3027bf8",
       "version_major": 2,
       "version_minor": 0
      },
      "text/plain": [
       "1it [00:00, ?it/s]"
      ]
     },
     "metadata": {},
     "output_type": "display_data"
    },
    {
     "name": "stdout",
     "output_type": "stream",
     "text": [
      "\n",
      "************ Summary ************\n",
      "\n",
      "Examples/sec (First included) 4500.51 ex/sec (total: 10000 ex, 2.22 sec)\n",
      "Examples/sec (First only) 98.13 ex/sec (total: 1 ex, 0.01 sec)\n",
      "Examples/sec (First excluded) 4520.79 ex/sec (total: 9999 ex, 2.21 sec)\n"
     ]
    },
    {
     "data": {
      "application/vnd.jupyter.widget-view+json": {
       "model_id": "0f82ff275af247fcba42dfb52ec40188",
       "version_major": 2,
       "version_minor": 0
      },
      "text/plain": [
       "1it [00:00, ?it/s]"
      ]
     },
     "metadata": {},
     "output_type": "display_data"
    },
    {
     "name": "stdout",
     "output_type": "stream",
     "text": [
      "\n",
      "************ Summary ************\n",
      "\n",
      "Examples/sec (First included) 13354.64 ex/sec (total: 10000 ex, 0.75 sec)\n",
      "Examples/sec (First only) 90.89 ex/sec (total: 1 ex, 0.01 sec)\n",
      "Examples/sec (First excluded) 13552.43 ex/sec (total: 9999 ex, 0.74 sec)\n",
      "batch_size = 10\n",
      "prefetch = None\n"
     ]
    },
    {
     "data": {
      "application/vnd.jupyter.widget-view+json": {
       "model_id": "5b48c45fce5644fc912b1b1afc397e3b",
       "version_major": 2,
       "version_minor": 0
      },
      "text/plain": [
       "  0%|          | 1/1000 [00:00<?, ?it/s]"
      ]
     },
     "metadata": {},
     "output_type": "display_data"
    },
    {
     "name": "stdout",
     "output_type": "stream",
     "text": [
      "\n",
      "************ Summary ************\n",
      "\n",
      "Examples/sec (First included) 124777.52 ex/sec (total: 10000 ex, 0.08 sec)\n",
      "Examples/sec (First only) 4347.23 ex/sec (total: 10 ex, 0.00 sec)\n",
      "Examples/sec (First excluded) 128336.35 ex/sec (total: 9990 ex, 0.08 sec)\n"
     ]
    },
    {
     "data": {
      "application/vnd.jupyter.widget-view+json": {
       "model_id": "2274ea958de24d0386733c099db17c81",
       "version_major": 2,
       "version_minor": 0
      },
      "text/plain": [
       "1it [00:00, ?it/s]"
      ]
     },
     "metadata": {},
     "output_type": "display_data"
    },
    {
     "name": "stdout",
     "output_type": "stream",
     "text": [
      "\n",
      "************ Summary ************\n",
      "\n",
      "Examples/sec (First included) 4785.55 ex/sec (total: 10000 ex, 2.09 sec)\n",
      "Examples/sec (First only) 848.92 ex/sec (total: 10 ex, 0.01 sec)\n",
      "Examples/sec (First excluded) 4807.87 ex/sec (total: 9990 ex, 2.08 sec)\n"
     ]
    },
    {
     "data": {
      "application/vnd.jupyter.widget-view+json": {
       "model_id": "d764f39cf3f04fbd8e19d452b827af15",
       "version_major": 2,
       "version_minor": 0
      },
      "text/plain": [
       "1it [00:00, ?it/s]"
      ]
     },
     "metadata": {},
     "output_type": "display_data"
    },
    {
     "name": "stdout",
     "output_type": "stream",
     "text": [
      "\n",
      "************ Summary ************\n",
      "\n",
      "Examples/sec (First included) 66740.84 ex/sec (total: 10000 ex, 0.15 sec)\n",
      "Examples/sec (First only) 510.20 ex/sec (total: 10 ex, 0.02 sec)\n",
      "Examples/sec (First excluded) 76708.56 ex/sec (total: 9990 ex, 0.13 sec)\n",
      "prefetch = -1\n"
     ]
    },
    {
     "data": {
      "application/vnd.jupyter.widget-view+json": {
       "model_id": "df7005a7cffc4779aca4348fa5c2dbdb",
       "version_major": 2,
       "version_minor": 0
      },
      "text/plain": [
       "  0%|          | 1/1000 [00:00<?, ?it/s]"
      ]
     },
     "metadata": {},
     "output_type": "display_data"
    },
    {
     "name": "stdout",
     "output_type": "stream",
     "text": [
      "\n",
      "************ Summary ************\n",
      "\n",
      "Examples/sec (First included) 127262.01 ex/sec (total: 10000 ex, 0.08 sec)\n",
      "Examples/sec (First only) 4129.92 ex/sec (total: 10 ex, 0.00 sec)\n",
      "Examples/sec (First excluded) 131176.92 ex/sec (total: 9990 ex, 0.08 sec)\n"
     ]
    },
    {
     "data": {
      "application/vnd.jupyter.widget-view+json": {
       "model_id": "6d887ef03a744da296f4c784e8d3dd63",
       "version_major": 2,
       "version_minor": 0
      },
      "text/plain": [
       "1it [00:00, ?it/s]"
      ]
     },
     "metadata": {},
     "output_type": "display_data"
    },
    {
     "name": "stdout",
     "output_type": "stream",
     "text": [
      "\n",
      "************ Summary ************\n",
      "\n",
      "Examples/sec (First included) 4872.67 ex/sec (total: 10000 ex, 2.05 sec)\n",
      "Examples/sec (First only) 807.26 ex/sec (total: 10 ex, 0.01 sec)\n",
      "Examples/sec (First excluded) 4897.36 ex/sec (total: 9990 ex, 2.04 sec)\n"
     ]
    },
    {
     "data": {
      "application/vnd.jupyter.widget-view+json": {
       "model_id": "70e637f861f44c9cbc99406d96b5379b",
       "version_major": 2,
       "version_minor": 0
      },
      "text/plain": [
       "1it [00:00, ?it/s]"
      ]
     },
     "metadata": {},
     "output_type": "display_data"
    },
    {
     "name": "stdout",
     "output_type": "stream",
     "text": [
      "\n",
      "************ Summary ************\n",
      "\n",
      "Examples/sec (First included) 82911.96 ex/sec (total: 10000 ex, 0.12 sec)\n",
      "Examples/sec (First only) 489.03 ex/sec (total: 10 ex, 0.02 sec)\n",
      "Examples/sec (First excluded) 99739.08 ex/sec (total: 9990 ex, 0.10 sec)\n",
      "batch_size = 25\n",
      "prefetch = None\n"
     ]
    },
    {
     "data": {
      "application/vnd.jupyter.widget-view+json": {
       "model_id": "5ceb091393cf45768f8f6421b73bf602",
       "version_major": 2,
       "version_minor": 0
      },
      "text/plain": [
       "  0%|          | 1/400 [00:00<?, ?it/s]"
      ]
     },
     "metadata": {},
     "output_type": "display_data"
    },
    {
     "name": "stdout",
     "output_type": "stream",
     "text": [
      "\n",
      "************ Summary ************\n",
      "\n",
      "Examples/sec (First included) 189557.54 ex/sec (total: 10000 ex, 0.05 sec)\n",
      "Examples/sec (First only) 11165.28 ex/sec (total: 25 ex, 0.00 sec)\n",
      "Examples/sec (First excluded) 197464.75 ex/sec (total: 9975 ex, 0.05 sec)\n"
     ]
    },
    {
     "data": {
      "application/vnd.jupyter.widget-view+json": {
       "model_id": "002087c539fe4dfdb11c85e037a548c8",
       "version_major": 2,
       "version_minor": 0
      },
      "text/plain": [
       "1it [00:00, ?it/s]"
      ]
     },
     "metadata": {},
     "output_type": "display_data"
    },
    {
     "name": "stdout",
     "output_type": "stream",
     "text": [
      "\n",
      "************ Summary ************\n",
      "\n",
      "Examples/sec (First included) 4951.44 ex/sec (total: 10000 ex, 2.02 sec)\n",
      "Examples/sec (First only) 1801.17 ex/sec (total: 25 ex, 0.01 sec)\n",
      "Examples/sec (First excluded) 4973.24 ex/sec (total: 9975 ex, 2.01 sec)\n"
     ]
    },
    {
     "data": {
      "application/vnd.jupyter.widget-view+json": {
       "model_id": "27a5d995f1b1498cad6cc7aad94c83be",
       "version_major": 2,
       "version_minor": 0
      },
      "text/plain": [
       "1it [00:00, ?it/s]"
      ]
     },
     "metadata": {},
     "output_type": "display_data"
    },
    {
     "name": "stdout",
     "output_type": "stream",
     "text": [
      "\n",
      "************ Summary ************\n",
      "\n",
      "Examples/sec (First included) 100977.33 ex/sec (total: 10000 ex, 0.10 sec)\n",
      "Examples/sec (First only) 1243.95 ex/sec (total: 25 ex, 0.02 sec)\n",
      "Examples/sec (First excluded) 126370.03 ex/sec (total: 9975 ex, 0.08 sec)\n",
      "prefetch = -1\n"
     ]
    },
    {
     "data": {
      "application/vnd.jupyter.widget-view+json": {
       "model_id": "7de7e6e084184d9a8adb8cc9d7d29ab8",
       "version_major": 2,
       "version_minor": 0
      },
      "text/plain": [
       "  0%|          | 1/400 [00:00<?, ?it/s]"
      ]
     },
     "metadata": {},
     "output_type": "display_data"
    },
    {
     "name": "stdout",
     "output_type": "stream",
     "text": [
      "\n",
      "************ Summary ************\n",
      "\n",
      "Examples/sec (First included) 199398.37 ex/sec (total: 10000 ex, 0.05 sec)\n",
      "Examples/sec (First only) 9773.05 ex/sec (total: 25 ex, 0.00 sec)\n",
      "Examples/sec (First excluded) 209590.50 ex/sec (total: 9975 ex, 0.05 sec)\n"
     ]
    },
    {
     "data": {
      "application/vnd.jupyter.widget-view+json": {
       "model_id": "f2413ae3e74b409084985e6a88c2b324",
       "version_major": 2,
       "version_minor": 0
      },
      "text/plain": [
       "1it [00:00, ?it/s]"
      ]
     },
     "metadata": {},
     "output_type": "display_data"
    },
    {
     "name": "stdout",
     "output_type": "stream",
     "text": [
      "\n",
      "************ Summary ************\n",
      "\n",
      "Examples/sec (First included) 4828.15 ex/sec (total: 10000 ex, 2.07 sec)\n",
      "Examples/sec (First only) 1580.75 ex/sec (total: 25 ex, 0.02 sec)\n",
      "Examples/sec (First excluded) 4853.14 ex/sec (total: 9975 ex, 2.06 sec)\n"
     ]
    },
    {
     "data": {
      "application/vnd.jupyter.widget-view+json": {
       "model_id": "fdc09fd8f52146ac9c174ef58cc11d84",
       "version_major": 2,
       "version_minor": 0
      },
      "text/plain": [
       "1it [00:00, ?it/s]"
      ]
     },
     "metadata": {},
     "output_type": "display_data"
    },
    {
     "name": "stdout",
     "output_type": "stream",
     "text": [
      "\n",
      "************ Summary ************\n",
      "\n",
      "Examples/sec (First included) 123954.49 ex/sec (total: 10000 ex, 0.08 sec)\n",
      "Examples/sec (First only) 1250.11 ex/sec (total: 25 ex, 0.02 sec)\n",
      "Examples/sec (First excluded) 164396.37 ex/sec (total: 9975 ex, 0.06 sec)\n",
      "batch_size = 100\n",
      "prefetch = None\n"
     ]
    },
    {
     "data": {
      "application/vnd.jupyter.widget-view+json": {
       "model_id": "a53698f87d3b40279c101e8b5af99985",
       "version_major": 2,
       "version_minor": 0
      },
      "text/plain": [
       "  1%|1         | 1/100 [00:00<?, ?it/s]"
      ]
     },
     "metadata": {},
     "output_type": "display_data"
    },
    {
     "name": "stdout",
     "output_type": "stream",
     "text": [
      "\n",
      "************ Summary ************\n",
      "\n",
      "Examples/sec (First included) 269083.11 ex/sec (total: 10000 ex, 0.04 sec)\n",
      "Examples/sec (First only) 42513.86 ex/sec (total: 100 ex, 0.00 sec)\n",
      "Examples/sec (First excluded) 284392.33 ex/sec (total: 9900 ex, 0.03 sec)\n"
     ]
    },
    {
     "data": {
      "application/vnd.jupyter.widget-view+json": {
       "model_id": "2ed8edc9022149109bfcbdaf5504ecb7",
       "version_major": 2,
       "version_minor": 0
      },
      "text/plain": [
       "1it [00:00, ?it/s]"
      ]
     },
     "metadata": {},
     "output_type": "display_data"
    },
    {
     "name": "stdout",
     "output_type": "stream",
     "text": [
      "\n",
      "************ Summary ************\n",
      "\n",
      "Examples/sec (First included) 4897.37 ex/sec (total: 10000 ex, 2.04 sec)\n",
      "Examples/sec (First only) 3225.10 ex/sec (total: 100 ex, 0.03 sec)\n",
      "Examples/sec (First excluded) 4923.15 ex/sec (total: 9900 ex, 2.01 sec)\n"
     ]
    },
    {
     "data": {
      "application/vnd.jupyter.widget-view+json": {
       "model_id": "f5994dd769f040eda5426ec06db7e04c",
       "version_major": 2,
       "version_minor": 0
      },
      "text/plain": [
       "1it [00:00, ?it/s]"
      ]
     },
     "metadata": {},
     "output_type": "display_data"
    },
    {
     "name": "stdout",
     "output_type": "stream",
     "text": [
      "\n",
      "************ Summary ************\n",
      "\n",
      "Examples/sec (First included) 135799.27 ex/sec (total: 10000 ex, 0.07 sec)\n",
      "Examples/sec (First only) 5043.24 ex/sec (total: 100 ex, 0.02 sec)\n",
      "Examples/sec (First excluded) 183982.16 ex/sec (total: 9900 ex, 0.05 sec)\n",
      "prefetch = -1\n"
     ]
    },
    {
     "data": {
      "application/vnd.jupyter.widget-view+json": {
       "model_id": "7c80e5f89e3c4bfe9245d08f0bfbe2f1",
       "version_major": 2,
       "version_minor": 0
      },
      "text/plain": [
       "  1%|1         | 1/100 [00:00<?, ?it/s]"
      ]
     },
     "metadata": {},
     "output_type": "display_data"
    },
    {
     "name": "stdout",
     "output_type": "stream",
     "text": [
      "\n",
      "************ Summary ************\n",
      "\n",
      "Examples/sec (First included) 331590.93 ex/sec (total: 10000 ex, 0.03 sec)\n",
      "Examples/sec (First only) 40487.73 ex/sec (total: 100 ex, 0.00 sec)\n",
      "Examples/sec (First excluded) 357558.77 ex/sec (total: 9900 ex, 0.03 sec)\n"
     ]
    },
    {
     "data": {
      "application/vnd.jupyter.widget-view+json": {
       "model_id": "9bbf1ef9753a470fba9663b0f01f6acb",
       "version_major": 2,
       "version_minor": 0
      },
      "text/plain": [
       "1it [00:00, ?it/s]"
      ]
     },
     "metadata": {},
     "output_type": "display_data"
    },
    {
     "name": "stdout",
     "output_type": "stream",
     "text": [
      "\n",
      "************ Summary ************\n",
      "\n",
      "Examples/sec (First included) 4912.91 ex/sec (total: 10000 ex, 2.04 sec)\n",
      "Examples/sec (First only) 3145.01 ex/sec (total: 100 ex, 0.03 sec)\n",
      "Examples/sec (First excluded) 4940.96 ex/sec (total: 9900 ex, 2.00 sec)\n"
     ]
    },
    {
     "data": {
      "application/vnd.jupyter.widget-view+json": {
       "model_id": "732dd9f59c3e4d44853566b1ae306de1",
       "version_major": 2,
       "version_minor": 0
      },
      "text/plain": [
       "1it [00:00, ?it/s]"
      ]
     },
     "metadata": {},
     "output_type": "display_data"
    },
    {
     "name": "stdout",
     "output_type": "stream",
     "text": [
      "\n",
      "************ Summary ************\n",
      "\n",
      "Examples/sec (First included) 143880.06 ex/sec (total: 10000 ex, 0.07 sec)\n",
      "Examples/sec (First only) 4256.78 ex/sec (total: 100 ex, 0.02 sec)\n",
      "Examples/sec (First excluded) 215168.68 ex/sec (total: 9900 ex, 0.05 sec)\n",
      "batch_size = 250\n",
      "prefetch = None\n"
     ]
    },
    {
     "data": {
      "application/vnd.jupyter.widget-view+json": {
       "model_id": "9d5acaebd4f649cfb7dc799ae07485d0",
       "version_major": 2,
       "version_minor": 0
      },
      "text/plain": [
       "  2%|2         | 1/40 [00:00<?, ?it/s]"
      ]
     },
     "metadata": {},
     "output_type": "display_data"
    },
    {
     "name": "stdout",
     "output_type": "stream",
     "text": [
      "\n",
      "************ Summary ************\n",
      "\n",
      "Examples/sec (First included) 297153.09 ex/sec (total: 10000 ex, 0.03 sec)\n",
      "Examples/sec (First only) 77542.82 ex/sec (total: 250 ex, 0.00 sec)\n",
      "Examples/sec (First excluded) 320421.58 ex/sec (total: 9750 ex, 0.03 sec)\n"
     ]
    },
    {
     "data": {
      "application/vnd.jupyter.widget-view+json": {
       "model_id": "c3bc6f111de24eba8897138d0474d8e5",
       "version_major": 2,
       "version_minor": 0
      },
      "text/plain": [
       "1it [00:00, ?it/s]"
      ]
     },
     "metadata": {},
     "output_type": "display_data"
    },
    {
     "name": "stdout",
     "output_type": "stream",
     "text": [
      "\n",
      "************ Summary ************\n",
      "\n",
      "Examples/sec (First included) 4944.56 ex/sec (total: 10000 ex, 2.02 sec)\n",
      "Examples/sec (First only) 4612.23 ex/sec (total: 250 ex, 0.05 sec)\n",
      "Examples/sec (First excluded) 4953.71 ex/sec (total: 9750 ex, 1.97 sec)\n"
     ]
    },
    {
     "data": {
      "application/vnd.jupyter.widget-view+json": {
       "model_id": "1252d769d88d430fa66f3962e87a8cf3",
       "version_major": 2,
       "version_minor": 0
      },
      "text/plain": [
       "1it [00:00, ?it/s]"
      ]
     },
     "metadata": {},
     "output_type": "display_data"
    },
    {
     "name": "stdout",
     "output_type": "stream",
     "text": [
      "\n",
      "************ Summary ************\n",
      "\n",
      "Examples/sec (First included) 128137.40 ex/sec (total: 10000 ex, 0.08 sec)\n",
      "Examples/sec (First only) 10304.76 ex/sec (total: 250 ex, 0.02 sec)\n",
      "Examples/sec (First excluded) 181292.16 ex/sec (total: 9750 ex, 0.05 sec)\n",
      "prefetch = -1\n"
     ]
    },
    {
     "data": {
      "application/vnd.jupyter.widget-view+json": {
       "model_id": "aa2ea9433d4d492caddec13c9a2bc4f4",
       "version_major": 2,
       "version_minor": 0
      },
      "text/plain": [
       "  2%|2         | 1/40 [00:00<?, ?it/s]"
      ]
     },
     "metadata": {},
     "output_type": "display_data"
    },
    {
     "name": "stdout",
     "output_type": "stream",
     "text": [
      "\n",
      "************ Summary ************\n",
      "\n",
      "Examples/sec (First included) 332526.91 ex/sec (total: 10000 ex, 0.03 sec)\n",
      "Examples/sec (First only) 92801.88 ex/sec (total: 250 ex, 0.00 sec)\n",
      "Examples/sec (First excluded) 356114.39 ex/sec (total: 9750 ex, 0.03 sec)\n"
     ]
    },
    {
     "data": {
      "application/vnd.jupyter.widget-view+json": {
       "model_id": "f00974db88e44d44b5e7b4a3924b98e3",
       "version_major": 2,
       "version_minor": 0
      },
      "text/plain": [
       "1it [00:00, ?it/s]"
      ]
     },
     "metadata": {},
     "output_type": "display_data"
    },
    {
     "name": "stdout",
     "output_type": "stream",
     "text": [
      "\n",
      "************ Summary ************\n",
      "\n",
      "Examples/sec (First included) 5103.60 ex/sec (total: 10000 ex, 1.96 sec)\n",
      "Examples/sec (First only) 4340.86 ex/sec (total: 250 ex, 0.06 sec)\n",
      "Examples/sec (First excluded) 5126.70 ex/sec (total: 9750 ex, 1.90 sec)\n"
     ]
    },
    {
     "data": {
      "application/vnd.jupyter.widget-view+json": {
       "model_id": "0b482b497cad4466bafabc80b2c81b16",
       "version_major": 2,
       "version_minor": 0
      },
      "text/plain": [
       "1it [00:00, ?it/s]"
      ]
     },
     "metadata": {},
     "output_type": "display_data"
    },
    {
     "name": "stdout",
     "output_type": "stream",
     "text": [
      "\n",
      "************ Summary ************\n",
      "\n",
      "Examples/sec (First included) 155459.85 ex/sec (total: 10000 ex, 0.06 sec)\n",
      "Examples/sec (First only) 11736.42 ex/sec (total: 250 ex, 0.02 sec)\n",
      "Examples/sec (First excluded) 226617.34 ex/sec (total: 9750 ex, 0.04 sec)\n",
      "size = 100000\n",
      "batch_size = None\n",
      "prefetch = None\n"
     ]
    },
    {
     "data": {
      "application/vnd.jupyter.widget-view+json": {
       "model_id": "1a1bd6d5b06e4148bdceaa7b05c093d4",
       "version_major": 2,
       "version_minor": 0
      },
      "text/plain": [
       "  0%|          | 1/100000 [00:00<?, ?it/s]"
      ]
     },
     "metadata": {},
     "output_type": "display_data"
    },
    {
     "name": "stdout",
     "output_type": "stream",
     "text": [
      "\n",
      "************ Summary ************\n",
      "\n",
      "Examples/sec (First included) 20863.36 ex/sec (total: 100000 ex, 4.79 sec)\n",
      "Examples/sec (First only) 486.33 ex/sec (total: 1 ex, 0.00 sec)\n",
      "Examples/sec (First excluded) 20872.11 ex/sec (total: 99999 ex, 4.79 sec)\n"
     ]
    },
    {
     "data": {
      "application/vnd.jupyter.widget-view+json": {
       "model_id": "a8393bef729449c390ff7bd4354cf447",
       "version_major": 2,
       "version_minor": 0
      },
      "text/plain": [
       "1it [00:00, ?it/s]"
      ]
     },
     "metadata": {},
     "output_type": "display_data"
    },
    {
     "name": "stdout",
     "output_type": "stream",
     "text": [
      "\n",
      "************ Summary ************\n",
      "\n",
      "Examples/sec (First included) 3301.98 ex/sec (total: 100000 ex, 30.28 sec)\n",
      "Examples/sec (First only) 100.48 ex/sec (total: 1 ex, 0.01 sec)\n",
      "Examples/sec (First excluded) 3303.03 ex/sec (total: 99999 ex, 30.27 sec)\n"
     ]
    },
    {
     "data": {
      "application/vnd.jupyter.widget-view+json": {
       "model_id": "8cf8e08ef2504f0cb420a1454b410502",
       "version_major": 2,
       "version_minor": 0
      },
      "text/plain": [
       "1it [00:00, ?it/s]"
      ]
     },
     "metadata": {},
     "output_type": "display_data"
    },
    {
     "name": "stdout",
     "output_type": "stream",
     "text": [
      "\n",
      "************ Summary ************\n",
      "\n",
      "Examples/sec (First included) 13848.83 ex/sec (total: 100000 ex, 7.22 sec)\n",
      "Examples/sec (First only) 88.12 ex/sec (total: 1 ex, 0.01 sec)\n",
      "Examples/sec (First excluded) 13870.49 ex/sec (total: 99999 ex, 7.21 sec)\n",
      "prefetch = -1\n"
     ]
    },
    {
     "data": {
      "application/vnd.jupyter.widget-view+json": {
       "model_id": "fd1f7d2a7d374d6598ba3aec3728960a",
       "version_major": 2,
       "version_minor": 0
      },
      "text/plain": [
       "  0%|          | 1/100000 [00:00<?, ?it/s]"
      ]
     },
     "metadata": {},
     "output_type": "display_data"
    },
    {
     "name": "stdout",
     "output_type": "stream",
     "text": [
      "\n",
      "************ Summary ************\n",
      "\n",
      "Examples/sec (First included) 19470.39 ex/sec (total: 100000 ex, 5.14 sec)\n",
      "Examples/sec (First only) 451.57 ex/sec (total: 1 ex, 0.00 sec)\n",
      "Examples/sec (First excluded) 19478.59 ex/sec (total: 99999 ex, 5.13 sec)\n"
     ]
    },
    {
     "data": {
      "application/vnd.jupyter.widget-view+json": {
       "model_id": "82199c44af1b454b81ea2901bf8ec209",
       "version_major": 2,
       "version_minor": 0
      },
      "text/plain": [
       "1it [00:00, ?it/s]"
      ]
     },
     "metadata": {},
     "output_type": "display_data"
    },
    {
     "name": "stdout",
     "output_type": "stream",
     "text": [
      "\n",
      "************ Summary ************\n",
      "\n",
      "Examples/sec (First included) 4577.47 ex/sec (total: 100000 ex, 21.85 sec)\n",
      "Examples/sec (First only) 98.39 ex/sec (total: 1 ex, 0.01 sec)\n",
      "Examples/sec (First excluded) 4579.56 ex/sec (total: 99999 ex, 21.84 sec)\n"
     ]
    },
    {
     "data": {
      "application/vnd.jupyter.widget-view+json": {
       "model_id": "3b3a73a2f5f54b81bed72fb32528f851",
       "version_major": 2,
       "version_minor": 0
      },
      "text/plain": [
       "1it [00:00, ?it/s]"
      ]
     },
     "metadata": {},
     "output_type": "display_data"
    },
    {
     "name": "stdout",
     "output_type": "stream",
     "text": [
      "\n",
      "************ Summary ************\n",
      "\n",
      "Examples/sec (First included) 13799.20 ex/sec (total: 100000 ex, 7.25 sec)\n",
      "Examples/sec (First only) 86.55 ex/sec (total: 1 ex, 0.01 sec)\n",
      "Examples/sec (First excluded) 13821.09 ex/sec (total: 99999 ex, 7.24 sec)\n",
      "batch_size = 10\n",
      "prefetch = None\n"
     ]
    },
    {
     "data": {
      "application/vnd.jupyter.widget-view+json": {
       "model_id": "d84f908edd084f1b9b02688a3a273986",
       "version_major": 2,
       "version_minor": 0
      },
      "text/plain": [
       "  0%|          | 1/10000 [00:00<?, ?it/s]"
      ]
     },
     "metadata": {},
     "output_type": "display_data"
    },
    {
     "name": "stdout",
     "output_type": "stream",
     "text": [
      "\n",
      "************ Summary ************\n",
      "\n",
      "Examples/sec (First included) 174656.39 ex/sec (total: 100000 ex, 0.57 sec)\n",
      "Examples/sec (First only) 4459.82 ex/sec (total: 10 ex, 0.00 sec)\n",
      "Examples/sec (First excluded) 175325.54 ex/sec (total: 99990 ex, 0.57 sec)\n"
     ]
    },
    {
     "data": {
      "application/vnd.jupyter.widget-view+json": {
       "model_id": "d67c957ab590429ba15542670c40a677",
       "version_major": 2,
       "version_minor": 0
      },
      "text/plain": [
       "1it [00:00, ?it/s]"
      ]
     },
     "metadata": {},
     "output_type": "display_data"
    },
    {
     "name": "stdout",
     "output_type": "stream",
     "text": [
      "\n",
      "************ Summary ************\n",
      "\n",
      "Examples/sec (First included) 4771.38 ex/sec (total: 100000 ex, 20.96 sec)\n",
      "Examples/sec (First only) 811.11 ex/sec (total: 10 ex, 0.01 sec)\n",
      "Examples/sec (First excluded) 4773.72 ex/sec (total: 99990 ex, 20.95 sec)\n"
     ]
    },
    {
     "data": {
      "application/vnd.jupyter.widget-view+json": {
       "model_id": "0f24ef89dcbf4015b3f91c0e85674060",
       "version_major": 2,
       "version_minor": 0
      },
      "text/plain": [
       "1it [00:00, ?it/s]"
      ]
     },
     "metadata": {},
     "output_type": "display_data"
    },
    {
     "name": "stdout",
     "output_type": "stream",
     "text": [
      "\n",
      "************ Summary ************\n",
      "\n",
      "Examples/sec (First included) 87729.86 ex/sec (total: 100000 ex, 1.14 sec)\n",
      "Examples/sec (First only) 424.26 ex/sec (total: 10 ex, 0.02 sec)\n",
      "Examples/sec (First excluded) 89573.30 ex/sec (total: 99990 ex, 1.12 sec)\n",
      "prefetch = -1\n"
     ]
    },
    {
     "data": {
      "application/vnd.jupyter.widget-view+json": {
       "model_id": "456b0719a70b44c8977e7410a04eee3d",
       "version_major": 2,
       "version_minor": 0
      },
      "text/plain": [
       "  0%|          | 1/10000 [00:00<?, ?it/s]"
      ]
     },
     "metadata": {},
     "output_type": "display_data"
    },
    {
     "name": "stdout",
     "output_type": "stream",
     "text": [
      "\n",
      "************ Summary ************\n",
      "\n",
      "Examples/sec (First included) 181042.62 ex/sec (total: 100000 ex, 0.55 sec)\n",
      "Examples/sec (First only) 3966.90 ex/sec (total: 10 ex, 0.00 sec)\n",
      "Examples/sec (First excluded) 181854.47 ex/sec (total: 99990 ex, 0.55 sec)\n"
     ]
    },
    {
     "data": {
      "application/vnd.jupyter.widget-view+json": {
       "model_id": "32ddee3cda4a48b8a6281493828063b2",
       "version_major": 2,
       "version_minor": 0
      },
      "text/plain": [
       "1it [00:00, ?it/s]"
      ]
     },
     "metadata": {},
     "output_type": "display_data"
    },
    {
     "name": "stdout",
     "output_type": "stream",
     "text": [
      "\n",
      "************ Summary ************\n",
      "\n",
      "Examples/sec (First included) 4922.94 ex/sec (total: 100000 ex, 20.31 sec)\n",
      "Examples/sec (First only) 834.52 ex/sec (total: 10 ex, 0.01 sec)\n",
      "Examples/sec (First excluded) 4925.36 ex/sec (total: 99990 ex, 20.30 sec)\n"
     ]
    },
    {
     "data": {
      "application/vnd.jupyter.widget-view+json": {
       "model_id": "47bc794bb19741c1a72dc8780f0dfee8",
       "version_major": 2,
       "version_minor": 0
      },
      "text/plain": [
       "1it [00:00, ?it/s]"
      ]
     },
     "metadata": {},
     "output_type": "display_data"
    },
    {
     "name": "stdout",
     "output_type": "stream",
     "text": [
      "\n",
      "************ Summary ************\n",
      "\n",
      "Examples/sec (First included) 118062.51 ex/sec (total: 100000 ex, 0.85 sec)\n",
      "Examples/sec (First only) 400.66 ex/sec (total: 10 ex, 0.02 sec)\n",
      "Examples/sec (First excluded) 121634.93 ex/sec (total: 99990 ex, 0.82 sec)\n",
      "batch_size = 25\n",
      "prefetch = None\n"
     ]
    },
    {
     "data": {
      "application/vnd.jupyter.widget-view+json": {
       "model_id": "7972adb8f1d14322869cc61cd5ba63c6",
       "version_major": 2,
       "version_minor": 0
      },
      "text/plain": [
       "  0%|          | 1/4000 [00:00<?, ?it/s]"
      ]
     },
     "metadata": {},
     "output_type": "display_data"
    },
    {
     "name": "stdout",
     "output_type": "stream",
     "text": [
      "\n",
      "************ Summary ************\n",
      "\n",
      "Examples/sec (First included) 366448.18 ex/sec (total: 100000 ex, 0.27 sec)\n",
      "Examples/sec (First only) 5771.46 ex/sec (total: 25 ex, 0.00 sec)\n",
      "Examples/sec (First excluded) 372265.65 ex/sec (total: 99975 ex, 0.27 sec)\n"
     ]
    },
    {
     "data": {
      "application/vnd.jupyter.widget-view+json": {
       "model_id": "9a24d9d2c4e643bcb049eaaa9e7fba0d",
       "version_major": 2,
       "version_minor": 0
      },
      "text/plain": [
       "1it [00:00, ?it/s]"
      ]
     },
     "metadata": {},
     "output_type": "display_data"
    },
    {
     "name": "stdout",
     "output_type": "stream",
     "text": [
      "\n",
      "************ Summary ************\n",
      "\n",
      "Examples/sec (First included) 4994.53 ex/sec (total: 100000 ex, 20.02 sec)\n",
      "Examples/sec (First only) 1621.42 ex/sec (total: 25 ex, 0.02 sec)\n",
      "Examples/sec (First excluded) 4997.13 ex/sec (total: 99975 ex, 20.01 sec)\n"
     ]
    },
    {
     "data": {
      "application/vnd.jupyter.widget-view+json": {
       "model_id": "37fd1d720f504779be4e411faf89516c",
       "version_major": 2,
       "version_minor": 0
      },
      "text/plain": [
       "1it [00:00, ?it/s]"
      ]
     },
     "metadata": {},
     "output_type": "display_data"
    },
    {
     "name": "stdout",
     "output_type": "stream",
     "text": [
      "\n",
      "************ Summary ************\n",
      "\n",
      "Examples/sec (First included) 158599.43 ex/sec (total: 100000 ex, 0.63 sec)\n",
      "Examples/sec (First only) 1031.73 ex/sec (total: 25 ex, 0.02 sec)\n",
      "Examples/sec (First excluded) 164896.81 ex/sec (total: 99975 ex, 0.61 sec)\n",
      "prefetch = -1\n"
     ]
    },
    {
     "data": {
      "application/vnd.jupyter.widget-view+json": {
       "model_id": "3328c8a311fe411b80880cf0620449ee",
       "version_major": 2,
       "version_minor": 0
      },
      "text/plain": [
       "  0%|          | 1/4000 [00:00<?, ?it/s]"
      ]
     },
     "metadata": {},
     "output_type": "display_data"
    },
    {
     "name": "stdout",
     "output_type": "stream",
     "text": [
      "\n",
      "************ Summary ************\n",
      "\n",
      "Examples/sec (First included) 420190.16 ex/sec (total: 100000 ex, 0.24 sec)\n",
      "Examples/sec (First only) 9928.02 ex/sec (total: 25 ex, 0.00 sec)\n",
      "Examples/sec (First excluded) 424577.53 ex/sec (total: 99975 ex, 0.24 sec)\n"
     ]
    },
    {
     "data": {
      "application/vnd.jupyter.widget-view+json": {
       "model_id": "2e398225c56742d68f8ae4bd69162394",
       "version_major": 2,
       "version_minor": 0
      },
      "text/plain": [
       "1it [00:00, ?it/s]"
      ]
     },
     "metadata": {},
     "output_type": "display_data"
    },
    {
     "name": "stdout",
     "output_type": "stream",
     "text": [
      "\n",
      "************ Summary ************\n",
      "\n",
      "Examples/sec (First included) 4946.13 ex/sec (total: 100000 ex, 20.22 sec)\n",
      "Examples/sec (First only) 1566.39 ex/sec (total: 25 ex, 0.02 sec)\n",
      "Examples/sec (First excluded) 4948.80 ex/sec (total: 99975 ex, 20.20 sec)\n"
     ]
    },
    {
     "data": {
      "application/vnd.jupyter.widget-view+json": {
       "model_id": "35d63cc4a82f4c4c8af868f9126a0a66",
       "version_major": 2,
       "version_minor": 0
      },
      "text/plain": [
       "1it [00:00, ?it/s]"
      ]
     },
     "metadata": {},
     "output_type": "display_data"
    },
    {
     "name": "stdout",
     "output_type": "stream",
     "text": [
      "\n",
      "************ Summary ************\n",
      "\n",
      "Examples/sec (First included) 240930.09 ex/sec (total: 100000 ex, 0.42 sec)\n",
      "Examples/sec (First only) 1022.14 ex/sec (total: 25 ex, 0.02 sec)\n",
      "Examples/sec (First excluded) 255952.67 ex/sec (total: 99975 ex, 0.39 sec)\n",
      "batch_size = 100\n",
      "prefetch = None\n"
     ]
    },
    {
     "data": {
      "application/vnd.jupyter.widget-view+json": {
       "model_id": "f370127b58c549219da52714795bdd46",
       "version_major": 2,
       "version_minor": 0
      },
      "text/plain": [
       "  0%|          | 1/1000 [00:00<?, ?it/s]"
      ]
     },
     "metadata": {},
     "output_type": "display_data"
    },
    {
     "name": "stdout",
     "output_type": "stream",
     "text": [
      "\n",
      "************ Summary ************\n",
      "\n",
      "Examples/sec (First included) 727981.99 ex/sec (total: 100000 ex, 0.14 sec)\n",
      "Examples/sec (First only) 31689.00 ex/sec (total: 100 ex, 0.00 sec)\n",
      "Examples/sec (First excluded) 744353.82 ex/sec (total: 99900 ex, 0.13 sec)\n"
     ]
    },
    {
     "data": {
      "application/vnd.jupyter.widget-view+json": {
       "model_id": "3ae0d9d88d2d4571b710bc52d57a6f83",
       "version_major": 2,
       "version_minor": 0
      },
      "text/plain": [
       "1it [00:00, ?it/s]"
      ]
     },
     "metadata": {},
     "output_type": "display_data"
    },
    {
     "name": "stdout",
     "output_type": "stream",
     "text": [
      "\n",
      "************ Summary ************\n",
      "\n",
      "Examples/sec (First included) 5058.02 ex/sec (total: 100000 ex, 19.77 sec)\n",
      "Examples/sec (First only) 3092.12 ex/sec (total: 100 ex, 0.03 sec)\n",
      "Examples/sec (First excluded) 5061.24 ex/sec (total: 99900 ex, 19.74 sec)\n"
     ]
    },
    {
     "data": {
      "application/vnd.jupyter.widget-view+json": {
       "model_id": "d99edfd88bc14c78b0132f52b5a49a06",
       "version_major": 2,
       "version_minor": 0
      },
      "text/plain": [
       "1it [00:00, ?it/s]"
      ]
     },
     "metadata": {},
     "output_type": "display_data"
    },
    {
     "name": "stdout",
     "output_type": "stream",
     "text": [
      "\n",
      "************ Summary ************\n",
      "\n",
      "Examples/sec (First included) 283283.43 ex/sec (total: 100000 ex, 0.35 sec)\n",
      "Examples/sec (First only) 4343.84 ex/sec (total: 100 ex, 0.02 sec)\n",
      "Examples/sec (First excluded) 302743.59 ex/sec (total: 99900 ex, 0.33 sec)\n",
      "prefetch = -1\n"
     ]
    },
    {
     "data": {
      "application/vnd.jupyter.widget-view+json": {
       "model_id": "fa2a75bfed104f78ba670cb7833ae06e",
       "version_major": 2,
       "version_minor": 0
      },
      "text/plain": [
       "  0%|          | 1/1000 [00:00<?, ?it/s]"
      ]
     },
     "metadata": {},
     "output_type": "display_data"
    },
    {
     "name": "stdout",
     "output_type": "stream",
     "text": [
      "\n",
      "************ Summary ************\n",
      "\n",
      "Examples/sec (First included) 1217983.21 ex/sec (total: 100000 ex, 0.08 sec)\n",
      "Examples/sec (First only) 40945.46 ex/sec (total: 100 ex, 0.00 sec)\n",
      "Examples/sec (First excluded) 1254069.37 ex/sec (total: 99900 ex, 0.08 sec)\n"
     ]
    },
    {
     "data": {
      "application/vnd.jupyter.widget-view+json": {
       "model_id": "5ae20df7e25a428f82b998a321a00948",
       "version_major": 2,
       "version_minor": 0
      },
      "text/plain": [
       "1it [00:00, ?it/s]"
      ]
     },
     "metadata": {},
     "output_type": "display_data"
    },
    {
     "name": "stdout",
     "output_type": "stream",
     "text": [
      "\n",
      "************ Summary ************\n",
      "\n",
      "Examples/sec (First included) 5083.11 ex/sec (total: 100000 ex, 19.67 sec)\n",
      "Examples/sec (First only) 3028.55 ex/sec (total: 100 ex, 0.03 sec)\n",
      "Examples/sec (First excluded) 5086.57 ex/sec (total: 99900 ex, 19.64 sec)\n"
     ]
    },
    {
     "data": {
      "application/vnd.jupyter.widget-view+json": {
       "model_id": "19b4a4c190be480093b8291e82b60af3",
       "version_major": 2,
       "version_minor": 0
      },
      "text/plain": [
       "1it [00:00, ?it/s]"
      ]
     },
     "metadata": {},
     "output_type": "display_data"
    },
    {
     "name": "stdout",
     "output_type": "stream",
     "text": [
      "\n",
      "************ Summary ************\n",
      "\n",
      "Examples/sec (First included) 362276.04 ex/sec (total: 100000 ex, 0.28 sec)\n",
      "Examples/sec (First only) 3997.06 ex/sec (total: 100 ex, 0.03 sec)\n",
      "Examples/sec (First excluded) 397985.44 ex/sec (total: 99900 ex, 0.25 sec)\n",
      "batch_size = 250\n",
      "prefetch = None\n"
     ]
    },
    {
     "data": {
      "application/vnd.jupyter.widget-view+json": {
       "model_id": "fc9c7800efec4a6ba3556ca97967bccf",
       "version_major": 2,
       "version_minor": 0
      },
      "text/plain": [
       "  0%|          | 1/400 [00:00<?, ?it/s]"
      ]
     },
     "metadata": {},
     "output_type": "display_data"
    },
    {
     "name": "stdout",
     "output_type": "stream",
     "text": [
      "\n",
      "************ Summary ************\n",
      "\n",
      "Examples/sec (First included) 1035687.63 ex/sec (total: 100000 ex, 0.10 sec)\n",
      "Examples/sec (First only) 105450.22 ex/sec (total: 250 ex, 0.00 sec)\n",
      "Examples/sec (First excluded) 1059103.59 ex/sec (total: 99750 ex, 0.09 sec)\n"
     ]
    },
    {
     "data": {
      "application/vnd.jupyter.widget-view+json": {
       "model_id": "b2897ff0f4954795b2fc74f9c2f0562e",
       "version_major": 2,
       "version_minor": 0
      },
      "text/plain": [
       "1it [00:00, ?it/s]"
      ]
     },
     "metadata": {},
     "output_type": "display_data"
    },
    {
     "name": "stdout",
     "output_type": "stream",
     "text": [
      "\n",
      "************ Summary ************\n",
      "\n",
      "Examples/sec (First included) 5039.24 ex/sec (total: 100000 ex, 19.84 sec)\n",
      "Examples/sec (First only) 4251.09 ex/sec (total: 250 ex, 0.06 sec)\n",
      "Examples/sec (First excluded) 5041.59 ex/sec (total: 99750 ex, 19.79 sec)\n"
     ]
    },
    {
     "data": {
      "application/vnd.jupyter.widget-view+json": {
       "model_id": "c0c9a87a6f1e4f59bb29ef16882cb85c",
       "version_major": 2,
       "version_minor": 0
      },
      "text/plain": [
       "1it [00:00, ?it/s]"
      ]
     },
     "metadata": {},
     "output_type": "display_data"
    },
    {
     "name": "stdout",
     "output_type": "stream",
     "text": [
      "\n",
      "************ Summary ************\n",
      "\n",
      "Examples/sec (First included) 273573.88 ex/sec (total: 100000 ex, 0.37 sec)\n",
      "Examples/sec (First only) 9630.74 ex/sec (total: 250 ex, 0.03 sec)\n",
      "Examples/sec (First excluded) 293750.91 ex/sec (total: 99750 ex, 0.34 sec)\n",
      "prefetch = -1\n"
     ]
    },
    {
     "data": {
      "application/vnd.jupyter.widget-view+json": {
       "model_id": "be912b14d0734da7a097d0ee96eaa7b6",
       "version_major": 2,
       "version_minor": 0
      },
      "text/plain": [
       "  0%|          | 1/400 [00:00<?, ?it/s]"
      ]
     },
     "metadata": {},
     "output_type": "display_data"
    },
    {
     "name": "stdout",
     "output_type": "stream",
     "text": [
      "\n",
      "************ Summary ************\n",
      "\n",
      "Examples/sec (First included) 1282232.65 ex/sec (total: 100000 ex, 0.08 sec)\n",
      "Examples/sec (First only) 71958.93 ex/sec (total: 250 ex, 0.00 sec)\n",
      "Examples/sec (First excluded) 1338660.90 ex/sec (total: 99750 ex, 0.07 sec)\n"
     ]
    },
    {
     "data": {
      "application/vnd.jupyter.widget-view+json": {
       "model_id": "88f54969d73e4f5fa91b91f88f984e1a",
       "version_major": 2,
       "version_minor": 0
      },
      "text/plain": [
       "1it [00:00, ?it/s]"
      ]
     },
     "metadata": {},
     "output_type": "display_data"
    },
    {
     "name": "stdout",
     "output_type": "stream",
     "text": [
      "\n",
      "************ Summary ************\n",
      "\n",
      "Examples/sec (First included) 5097.49 ex/sec (total: 100000 ex, 19.62 sec)\n",
      "Examples/sec (First only) 4693.78 ex/sec (total: 250 ex, 0.05 sec)\n",
      "Examples/sec (First excluded) 5098.59 ex/sec (total: 99750 ex, 19.56 sec)\n"
     ]
    },
    {
     "data": {
      "application/vnd.jupyter.widget-view+json": {
       "model_id": "33183b55de814817b734852d51ab6b5b",
       "version_major": 2,
       "version_minor": 0
      },
      "text/plain": [
       "1it [00:00, ?it/s]"
      ]
     },
     "metadata": {},
     "output_type": "display_data"
    },
    {
     "name": "stdout",
     "output_type": "stream",
     "text": [
      "\n",
      "************ Summary ************\n",
      "\n",
      "Examples/sec (First included) 363262.73 ex/sec (total: 100000 ex, 0.28 sec)\n",
      "Examples/sec (First only) 10022.51 ex/sec (total: 250 ex, 0.02 sec)\n",
      "Examples/sec (First excluded) 398459.68 ex/sec (total: 99750 ex, 0.25 sec)\n",
      "size = 1000000\n",
      "batch_size = None\n",
      "prefetch = None\n"
     ]
    },
    {
     "data": {
      "application/vnd.jupyter.widget-view+json": {
       "model_id": "520ad72912b34d5893127aa3e8ab473c",
       "version_major": 2,
       "version_minor": 0
      },
      "text/plain": [
       "  0%|          | 1/1000000 [00:00<?, ?it/s]"
      ]
     },
     "metadata": {},
     "output_type": "display_data"
    },
    {
     "name": "stdout",
     "output_type": "stream",
     "text": [
      "\n",
      "************ Summary ************\n",
      "\n",
      "Examples/sec (First included) 21141.43 ex/sec (total: 1000000 ex, 47.30 sec)\n",
      "Examples/sec (First only) 448.03 ex/sec (total: 1 ex, 0.00 sec)\n",
      "Examples/sec (First excluded) 21142.41 ex/sec (total: 999999 ex, 47.30 sec)\n"
     ]
    },
    {
     "data": {
      "application/vnd.jupyter.widget-view+json": {
       "model_id": "1c0e613f576a4170845cbb754107d5e5",
       "version_major": 2,
       "version_minor": 0
      },
      "text/plain": [
       "1it [00:00, ?it/s]"
      ]
     },
     "metadata": {},
     "output_type": "display_data"
    },
    {
     "name": "stdout",
     "output_type": "stream",
     "text": [
      "\n",
      "************ Summary ************\n",
      "\n",
      "Examples/sec (First included) 3258.36 ex/sec (total: 1000000 ex, 306.90 sec)\n",
      "Examples/sec (First only) 97.89 ex/sec (total: 1 ex, 0.01 sec)\n",
      "Examples/sec (First excluded) 3258.47 ex/sec (total: 999999 ex, 306.89 sec)\n"
     ]
    },
    {
     "data": {
      "application/vnd.jupyter.widget-view+json": {
       "model_id": "cc010c3bd55f4e62a786c6da0c9086db",
       "version_major": 2,
       "version_minor": 0
      },
      "text/plain": [
       "1it [00:00, ?it/s]"
      ]
     },
     "metadata": {},
     "output_type": "display_data"
    },
    {
     "name": "stdout",
     "output_type": "stream",
     "text": [
      "\n",
      "************ Summary ************\n",
      "\n",
      "Examples/sec (First included) 13910.70 ex/sec (total: 1000000 ex, 71.89 sec)\n",
      "Examples/sec (First only) 89.79 ex/sec (total: 1 ex, 0.01 sec)\n",
      "Examples/sec (First excluded) 13912.84 ex/sec (total: 999999 ex, 71.88 sec)\n",
      "prefetch = -1\n"
     ]
    },
    {
     "data": {
      "application/vnd.jupyter.widget-view+json": {
       "model_id": "53fd156157ee46b8b6c57cef134622f0",
       "version_major": 2,
       "version_minor": 0
      },
      "text/plain": [
       "  0%|          | 1/1000000 [00:00<?, ?it/s]"
      ]
     },
     "metadata": {},
     "output_type": "display_data"
    },
    {
     "name": "stdout",
     "output_type": "stream",
     "text": [
      "\n",
      "************ Summary ************\n",
      "\n",
      "Examples/sec (First included) 19614.57 ex/sec (total: 1000000 ex, 50.98 sec)\n",
      "Examples/sec (First only) 325.21 ex/sec (total: 1 ex, 0.00 sec)\n",
      "Examples/sec (First excluded) 19615.74 ex/sec (total: 999999 ex, 50.98 sec)\n"
     ]
    },
    {
     "data": {
      "application/vnd.jupyter.widget-view+json": {
       "model_id": "3dcf8f7df42c45518c0cedb58a59e56e",
       "version_major": 2,
       "version_minor": 0
      },
      "text/plain": [
       "1it [00:00, ?it/s]"
      ]
     },
     "metadata": {},
     "output_type": "display_data"
    },
    {
     "name": "stdout",
     "output_type": "stream",
     "text": [
      "\n",
      "************ Summary ************\n",
      "\n",
      "Examples/sec (First included) 4572.47 ex/sec (total: 1000000 ex, 218.70 sec)\n",
      "Examples/sec (First only) 94.88 ex/sec (total: 1 ex, 0.01 sec)\n",
      "Examples/sec (First excluded) 4572.69 ex/sec (total: 999999 ex, 218.69 sec)\n"
     ]
    },
    {
     "data": {
      "application/vnd.jupyter.widget-view+json": {
       "model_id": "35e728a7a4814768a7358959a4b5b632",
       "version_major": 2,
       "version_minor": 0
      },
      "text/plain": [
       "1it [00:00, ?it/s]"
      ]
     },
     "metadata": {},
     "output_type": "display_data"
    },
    {
     "name": "stdout",
     "output_type": "stream",
     "text": [
      "\n",
      "************ Summary ************\n",
      "\n",
      "Examples/sec (First included) 13922.03 ex/sec (total: 1000000 ex, 71.83 sec)\n",
      "Examples/sec (First only) 80.22 ex/sec (total: 1 ex, 0.01 sec)\n",
      "Examples/sec (First excluded) 13924.43 ex/sec (total: 999999 ex, 71.82 sec)\n",
      "batch_size = 10\n",
      "prefetch = None\n"
     ]
    },
    {
     "data": {
      "application/vnd.jupyter.widget-view+json": {
       "model_id": "45202f385c624af1b577744c58cc49ec",
       "version_major": 2,
       "version_minor": 0
      },
      "text/plain": [
       "  0%|          | 1/100000 [00:00<?, ?it/s]"
      ]
     },
     "metadata": {},
     "output_type": "display_data"
    },
    {
     "name": "stdout",
     "output_type": "stream",
     "text": [
      "\n",
      "************ Summary ************\n",
      "\n",
      "Examples/sec (First included) 178052.13 ex/sec (total: 1000000 ex, 5.62 sec)\n",
      "Examples/sec (First only) 4111.16 ex/sec (total: 10 ex, 0.00 sec)\n",
      "Examples/sec (First excluded) 178127.50 ex/sec (total: 999990 ex, 5.61 sec)\n"
     ]
    },
    {
     "data": {
      "application/vnd.jupyter.widget-view+json": {
       "model_id": "2e3464a71cbe4a15868c73b406a02da8",
       "version_major": 2,
       "version_minor": 0
      },
      "text/plain": [
       "1it [00:00, ?it/s]"
      ]
     },
     "metadata": {},
     "output_type": "display_data"
    },
    {
     "name": "stdout",
     "output_type": "stream",
     "text": [
      "\n",
      "************ Summary ************\n",
      "\n",
      "Examples/sec (First included) 4796.26 ex/sec (total: 1000000 ex, 208.50 sec)\n",
      "Examples/sec (First only) 846.30 ex/sec (total: 10 ex, 0.01 sec)\n",
      "Examples/sec (First excluded) 4796.48 ex/sec (total: 999990 ex, 208.48 sec)\n"
     ]
    },
    {
     "data": {
      "application/vnd.jupyter.widget-view+json": {
       "model_id": "a257a34adc1b4c05a5f865b8b6615550",
       "version_major": 2,
       "version_minor": 0
      },
      "text/plain": [
       "1it [00:00, ?it/s]"
      ]
     },
     "metadata": {},
     "output_type": "display_data"
    },
    {
     "name": "stdout",
     "output_type": "stream",
     "text": [
      "\n",
      "************ Summary ************\n",
      "\n",
      "Examples/sec (First included) 91781.99 ex/sec (total: 1000000 ex, 10.90 sec)\n",
      "Examples/sec (First only) 382.92 ex/sec (total: 10 ex, 0.03 sec)\n",
      "Examples/sec (First excluded) 92001.59 ex/sec (total: 999990 ex, 10.87 sec)\n",
      "prefetch = -1\n"
     ]
    },
    {
     "data": {
      "application/vnd.jupyter.widget-view+json": {
       "model_id": "f42673d87eae4a89898610504b63b8ca",
       "version_major": 2,
       "version_minor": 0
      },
      "text/plain": [
       "  0%|          | 1/100000 [00:00<?, ?it/s]"
      ]
     },
     "metadata": {},
     "output_type": "display_data"
    },
    {
     "name": "stdout",
     "output_type": "stream",
     "text": [
      "\n",
      "************ Summary ************\n",
      "\n",
      "Examples/sec (First included) 186241.99 ex/sec (total: 1000000 ex, 5.37 sec)\n",
      "Examples/sec (First only) 3812.78 ex/sec (total: 10 ex, 0.00 sec)\n",
      "Examples/sec (First excluded) 186331.15 ex/sec (total: 999990 ex, 5.37 sec)\n"
     ]
    },
    {
     "data": {
      "application/vnd.jupyter.widget-view+json": {
       "model_id": "316a4090dabe4299950e7c38c8a77370",
       "version_major": 2,
       "version_minor": 0
      },
      "text/plain": [
       "1it [00:00, ?it/s]"
      ]
     },
     "metadata": {},
     "output_type": "display_data"
    },
    {
     "name": "stdout",
     "output_type": "stream",
     "text": [
      "\n",
      "************ Summary ************\n",
      "\n",
      "Examples/sec (First included) 4966.46 ex/sec (total: 1000000 ex, 201.35 sec)\n",
      "Examples/sec (First only) 833.52 ex/sec (total: 10 ex, 0.01 sec)\n",
      "Examples/sec (First excluded) 4966.71 ex/sec (total: 999990 ex, 201.34 sec)\n"
     ]
    },
    {
     "data": {
      "application/vnd.jupyter.widget-view+json": {
       "model_id": "7ce075f977fe4a919b2679f07e98bdd9",
       "version_major": 2,
       "version_minor": 0
      },
      "text/plain": [
       "1it [00:00, ?it/s]"
      ]
     },
     "metadata": {},
     "output_type": "display_data"
    },
    {
     "name": "stdout",
     "output_type": "stream",
     "text": [
      "\n",
      "************ Summary ************\n",
      "\n",
      "Examples/sec (First included) 123688.31 ex/sec (total: 1000000 ex, 8.08 sec)\n",
      "Examples/sec (First only) 409.53 ex/sec (total: 10 ex, 0.02 sec)\n",
      "Examples/sec (First excluded) 124061.77 ex/sec (total: 999990 ex, 8.06 sec)\n",
      "batch_size = 25\n",
      "prefetch = None\n"
     ]
    },
    {
     "data": {
      "application/vnd.jupyter.widget-view+json": {
       "model_id": "98df408fa3d14271a5349050b35bad08",
       "version_major": 2,
       "version_minor": 0
      },
      "text/plain": [
       "  0%|          | 1/40000 [00:00<?, ?it/s]"
      ]
     },
     "metadata": {},
     "output_type": "display_data"
    },
    {
     "name": "stdout",
     "output_type": "stream",
     "text": [
      "\n",
      "************ Summary ************\n",
      "\n",
      "Examples/sec (First included) 388360.25 ex/sec (total: 1000000 ex, 2.57 sec)\n",
      "Examples/sec (First only) 4347.07 ex/sec (total: 25 ex, 0.01 sec)\n",
      "Examples/sec (First excluded) 389219.85 ex/sec (total: 999975 ex, 2.57 sec)\n"
     ]
    },
    {
     "data": {
      "application/vnd.jupyter.widget-view+json": {
       "model_id": "bca6d359c2384df0b3c815929fce02d0",
       "version_major": 2,
       "version_minor": 0
      },
      "text/plain": [
       "1it [00:00, ?it/s]"
      ]
     },
     "metadata": {},
     "output_type": "display_data"
    },
    {
     "name": "stdout",
     "output_type": "stream",
     "text": [
      "\n",
      "************ Summary ************\n",
      "\n",
      "Examples/sec (First included) 4941.31 ex/sec (total: 1000000 ex, 202.38 sec)\n",
      "Examples/sec (First only) 1740.01 ex/sec (total: 25 ex, 0.01 sec)\n",
      "Examples/sec (First excluded) 4941.54 ex/sec (total: 999975 ex, 202.36 sec)\n"
     ]
    },
    {
     "data": {
      "application/vnd.jupyter.widget-view+json": {
       "model_id": "232cd3cb4d404e299dd2fed15ae6fcb9",
       "version_major": 2,
       "version_minor": 0
      },
      "text/plain": [
       "1it [00:00, ?it/s]"
      ]
     },
     "metadata": {},
     "output_type": "display_data"
    },
    {
     "name": "stdout",
     "output_type": "stream",
     "text": [
      "\n",
      "************ Summary ************\n",
      "\n",
      "Examples/sec (First included) 166959.58 ex/sec (total: 1000000 ex, 5.99 sec)\n",
      "Examples/sec (First only) 1073.25 ex/sec (total: 25 ex, 0.02 sec)\n",
      "Examples/sec (First excluded) 167607.24 ex/sec (total: 999975 ex, 5.97 sec)\n",
      "prefetch = -1\n"
     ]
    },
    {
     "data": {
      "application/vnd.jupyter.widget-view+json": {
       "model_id": "5e1a6a01c7fd489982780141802692fa",
       "version_major": 2,
       "version_minor": 0
      },
      "text/plain": [
       "  0%|          | 1/40000 [00:00<?, ?it/s]"
      ]
     },
     "metadata": {},
     "output_type": "display_data"
    },
    {
     "name": "stdout",
     "output_type": "stream",
     "text": [
      "\n",
      "************ Summary ************\n",
      "\n",
      "Examples/sec (First included) 457508.54 ex/sec (total: 1000000 ex, 2.19 sec)\n",
      "Examples/sec (First only) 9595.58 ex/sec (total: 25 ex, 0.00 sec)\n",
      "Examples/sec (First excluded) 458043.08 ex/sec (total: 999975 ex, 2.18 sec)\n"
     ]
    },
    {
     "data": {
      "application/vnd.jupyter.widget-view+json": {
       "model_id": "c852399bf99c47308b9c4e7f4db11b7c",
       "version_major": 2,
       "version_minor": 0
      },
      "text/plain": [
       "1it [00:00, ?it/s]"
      ]
     },
     "metadata": {},
     "output_type": "display_data"
    },
    {
     "name": "stdout",
     "output_type": "stream",
     "text": [
      "\n",
      "************ Summary ************\n",
      "\n",
      "Examples/sec (First included) 5009.66 ex/sec (total: 1000000 ex, 199.61 sec)\n",
      "Examples/sec (First only) 1558.85 ex/sec (total: 25 ex, 0.02 sec)\n",
      "Examples/sec (First excluded) 5009.93 ex/sec (total: 999975 ex, 199.60 sec)\n"
     ]
    },
    {
     "data": {
      "application/vnd.jupyter.widget-view+json": {
       "model_id": "8eb9ed9b6b164dd38ca43b725ac7c9b2",
       "version_major": 2,
       "version_minor": 0
      },
      "text/plain": [
       "1it [00:00, ?it/s]"
      ]
     },
     "metadata": {},
     "output_type": "display_data"
    },
    {
     "name": "stdout",
     "output_type": "stream",
     "text": [
      "\n",
      "************ Summary ************\n",
      "\n",
      "Examples/sec (First included) 291915.52 ex/sec (total: 1000000 ex, 3.43 sec)\n",
      "Examples/sec (First only) 1002.81 ex/sec (total: 25 ex, 0.02 sec)\n",
      "Examples/sec (First excluded) 294048.14 ex/sec (total: 999975 ex, 3.40 sec)\n",
      "batch_size = 100\n",
      "prefetch = None\n"
     ]
    },
    {
     "data": {
      "application/vnd.jupyter.widget-view+json": {
       "model_id": "a72b590b1a574b37a44e3ec89473e4fd",
       "version_major": 2,
       "version_minor": 0
      },
      "text/plain": [
       "  0%|          | 1/10000 [00:00<?, ?it/s]"
      ]
     },
     "metadata": {},
     "output_type": "display_data"
    },
    {
     "name": "stdout",
     "output_type": "stream",
     "text": [
      "\n",
      "************ Summary ************\n",
      "\n",
      "Examples/sec (First included) 976754.45 ex/sec (total: 1000000 ex, 1.02 sec)\n",
      "Examples/sec (First only) 18897.98 ex/sec (total: 100 ex, 0.01 sec)\n",
      "Examples/sec (First excluded) 981730.91 ex/sec (total: 999900 ex, 1.02 sec)\n"
     ]
    },
    {
     "data": {
      "application/vnd.jupyter.widget-view+json": {
       "model_id": "bdbace3097204498a0c8cf634474cda5",
       "version_major": 2,
       "version_minor": 0
      },
      "text/plain": [
       "1it [00:00, ?it/s]"
      ]
     },
     "metadata": {},
     "output_type": "display_data"
    },
    {
     "name": "stdout",
     "output_type": "stream",
     "text": [
      "\n",
      "************ Summary ************\n",
      "\n",
      "Examples/sec (First included) 5043.35 ex/sec (total: 1000000 ex, 198.28 sec)\n",
      "Examples/sec (First only) 3268.36 ex/sec (total: 100 ex, 0.03 sec)\n",
      "Examples/sec (First excluded) 5043.62 ex/sec (total: 999900 ex, 198.25 sec)\n"
     ]
    },
    {
     "data": {
      "application/vnd.jupyter.widget-view+json": {
       "model_id": "50a5a890725c430290a0199b0547c848",
       "version_major": 2,
       "version_minor": 0
      },
      "text/plain": [
       "1it [00:00, ?it/s]"
      ]
     },
     "metadata": {},
     "output_type": "display_data"
    },
    {
     "name": "stdout",
     "output_type": "stream",
     "text": [
      "\n",
      "************ Summary ************\n",
      "\n",
      "Examples/sec (First included) 308756.21 ex/sec (total: 1000000 ex, 3.24 sec)\n",
      "Examples/sec (First only) 3941.36 ex/sec (total: 100 ex, 0.03 sec)\n",
      "Examples/sec (First excluded) 311162.91 ex/sec (total: 999900 ex, 3.21 sec)\n",
      "prefetch = -1\n"
     ]
    },
    {
     "data": {
      "application/vnd.jupyter.widget-view+json": {
       "model_id": "44f0a70a093b4176aa57a519c27cce7c",
       "version_major": 2,
       "version_minor": 0
      },
      "text/plain": [
       "  0%|          | 1/10000 [00:00<?, ?it/s]"
      ]
     },
     "metadata": {},
     "output_type": "display_data"
    },
    {
     "name": "stdout",
     "output_type": "stream",
     "text": [
      "\n",
      "************ Summary ************\n",
      "\n",
      "Examples/sec (First included) 1805178.08 ex/sec (total: 1000000 ex, 0.55 sec)\n",
      "Examples/sec (First only) 37237.49 ex/sec (total: 100 ex, 0.00 sec)\n",
      "Examples/sec (First excluded) 1813790.36 ex/sec (total: 999900 ex, 0.55 sec)\n"
     ]
    },
    {
     "data": {
      "application/vnd.jupyter.widget-view+json": {
       "model_id": "a55acb960aab408fbb8df65b0991f1f3",
       "version_major": 2,
       "version_minor": 0
      },
      "text/plain": [
       "1it [00:00, ?it/s]"
      ]
     },
     "metadata": {},
     "output_type": "display_data"
    },
    {
     "name": "stdout",
     "output_type": "stream",
     "text": [
      "\n",
      "************ Summary ************\n",
      "\n",
      "Examples/sec (First included) 5052.02 ex/sec (total: 1000000 ex, 197.94 sec)\n",
      "Examples/sec (First only) 3649.62 ex/sec (total: 100 ex, 0.03 sec)\n",
      "Examples/sec (First excluded) 5052.22 ex/sec (total: 999900 ex, 197.91 sec)\n"
     ]
    },
    {
     "data": {
      "application/vnd.jupyter.widget-view+json": {
       "model_id": "cca5a8f1855d4b79bf92611df53007de",
       "version_major": 2,
       "version_minor": 0
      },
      "text/plain": [
       "1it [00:00, ?it/s]"
      ]
     },
     "metadata": {},
     "output_type": "display_data"
    },
    {
     "name": "stdout",
     "output_type": "stream",
     "text": [
      "\n",
      "************ Summary ************\n",
      "\n",
      "Examples/sec (First included) 412620.34 ex/sec (total: 1000000 ex, 2.42 sec)\n",
      "Examples/sec (First only) 4087.49 ex/sec (total: 100 ex, 0.02 sec)\n",
      "Examples/sec (First excluded) 416786.41 ex/sec (total: 999900 ex, 2.40 sec)\n",
      "batch_size = 250\n",
      "prefetch = None\n"
     ]
    },
    {
     "data": {
      "application/vnd.jupyter.widget-view+json": {
       "model_id": "a2cf08492f154772b6126682ef6ce0da",
       "version_major": 2,
       "version_minor": 0
      },
      "text/plain": [
       "  0%|          | 1/4000 [00:00<?, ?it/s]"
      ]
     },
     "metadata": {},
     "output_type": "display_data"
    },
    {
     "name": "stdout",
     "output_type": "stream",
     "text": [
      "\n",
      "************ Summary ************\n",
      "\n",
      "Examples/sec (First included) 1395381.30 ex/sec (total: 1000000 ex, 0.72 sec)\n",
      "Examples/sec (First only) 53365.02 ex/sec (total: 250 ex, 0.00 sec)\n",
      "Examples/sec (First excluded) 1404211.74 ex/sec (total: 999750 ex, 0.71 sec)\n"
     ]
    },
    {
     "data": {
      "application/vnd.jupyter.widget-view+json": {
       "model_id": "0a3213400e5e46ef9a2ac2f90d1ff455",
       "version_major": 2,
       "version_minor": 0
      },
      "text/plain": [
       "1it [00:00, ?it/s]"
      ]
     },
     "metadata": {},
     "output_type": "display_data"
    },
    {
     "name": "stdout",
     "output_type": "stream",
     "text": [
      "\n",
      "************ Summary ************\n",
      "\n",
      "Examples/sec (First included) 5067.31 ex/sec (total: 1000000 ex, 197.34 sec)\n",
      "Examples/sec (First only) 4416.04 ex/sec (total: 250 ex, 0.06 sec)\n",
      "Examples/sec (First excluded) 5067.49 ex/sec (total: 999750 ex, 197.29 sec)\n"
     ]
    },
    {
     "data": {
      "application/vnd.jupyter.widget-view+json": {
       "model_id": "26e1c4aacde44adf86bca7248a06ebab",
       "version_major": 2,
       "version_minor": 0
      },
      "text/plain": [
       "1it [00:00, ?it/s]"
      ]
     },
     "metadata": {},
     "output_type": "display_data"
    },
    {
     "name": "stdout",
     "output_type": "stream",
     "text": [
      "\n",
      "************ Summary ************\n",
      "\n",
      "Examples/sec (First included) 374452.25 ex/sec (total: 1000000 ex, 2.67 sec)\n",
      "Examples/sec (First only) 10399.13 ex/sec (total: 250 ex, 0.02 sec)\n",
      "Examples/sec (First excluded) 377759.22 ex/sec (total: 999750 ex, 2.65 sec)\n",
      "prefetch = -1\n"
     ]
    },
    {
     "data": {
      "application/vnd.jupyter.widget-view+json": {
       "model_id": "3b93e32adce54d3f8008e8363443cc44",
       "version_major": 2,
       "version_minor": 0
      },
      "text/plain": [
       "  0%|          | 1/4000 [00:00<?, ?it/s]"
      ]
     },
     "metadata": {},
     "output_type": "display_data"
    },
    {
     "name": "stdout",
     "output_type": "stream",
     "text": [
      "\n",
      "************ Summary ************\n",
      "\n",
      "Examples/sec (First included) 2133932.81 ex/sec (total: 1000000 ex, 0.47 sec)\n",
      "Examples/sec (First only) 91999.20 ex/sec (total: 250 ex, 0.00 sec)\n",
      "Examples/sec (First excluded) 2145842.59 ex/sec (total: 999750 ex, 0.47 sec)\n"
     ]
    },
    {
     "data": {
      "application/vnd.jupyter.widget-view+json": {
       "model_id": "3a3bd724be4741888f9bb129954aa7be",
       "version_major": 2,
       "version_minor": 0
      },
      "text/plain": [
       "1it [00:00, ?it/s]"
      ]
     },
     "metadata": {},
     "output_type": "display_data"
    },
    {
     "name": "stdout",
     "output_type": "stream",
     "text": [
      "\n",
      "************ Summary ************\n",
      "\n",
      "Examples/sec (First included) 5080.76 ex/sec (total: 1000000 ex, 196.82 sec)\n",
      "Examples/sec (First only) 4744.80 ex/sec (total: 250 ex, 0.05 sec)\n",
      "Examples/sec (First excluded) 5080.85 ex/sec (total: 999750 ex, 196.77 sec)\n"
     ]
    },
    {
     "data": {
      "application/vnd.jupyter.widget-view+json": {
       "model_id": "dde96c6bfbf44be1bdbe5d080b80eff3",
       "version_major": 2,
       "version_minor": 0
      },
      "text/plain": [
       "1it [00:00, ?it/s]"
      ]
     },
     "metadata": {},
     "output_type": "display_data"
    },
    {
     "name": "stdout",
     "output_type": "stream",
     "text": [
      "\n",
      "************ Summary ************\n",
      "\n",
      "Examples/sec (First included) 424813.98 ex/sec (total: 1000000 ex, 2.35 sec)\n",
      "Examples/sec (First only) 9586.95 ex/sec (total: 250 ex, 0.03 sec)\n",
      "Examples/sec (First excluded) 429465.36 ex/sec (total: 999750 ex, 2.33 sec)\n",
      "size = 1000\n",
      "batch_size = None\n",
      "prefetch = None\n"
     ]
    },
    {
     "data": {
      "application/vnd.jupyter.widget-view+json": {
       "model_id": "3bd532f5b01e4773813c6476fdaa2ba0",
       "version_major": 2,
       "version_minor": 0
      },
      "text/plain": [
       "  0%|          | 1/1000 [00:00<?, ?it/s]"
      ]
     },
     "metadata": {},
     "output_type": "display_data"
    },
    {
     "name": "stdout",
     "output_type": "stream",
     "text": [
      "\n",
      "************ Summary ************\n",
      "\n",
      "Examples/sec (First included) 13899.44 ex/sec (total: 1000 ex, 0.07 sec)\n",
      "Examples/sec (First only) 487.69 ex/sec (total: 1 ex, 0.00 sec)\n",
      "Examples/sec (First excluded) 14292.90 ex/sec (total: 999 ex, 0.07 sec)\n"
     ]
    },
    {
     "data": {
      "application/vnd.jupyter.widget-view+json": {
       "model_id": "9d4587f1d06940488cad3f5d0d78128f",
       "version_major": 2,
       "version_minor": 0
      },
      "text/plain": [
       "1it [00:00, ?it/s]"
      ]
     },
     "metadata": {},
     "output_type": "display_data"
    },
    {
     "name": "stdout",
     "output_type": "stream",
     "text": [
      "\n",
      "************ Summary ************\n",
      "\n",
      "Examples/sec (First included) 3210.31 ex/sec (total: 1000 ex, 0.31 sec)\n",
      "Examples/sec (First only) 101.34 ex/sec (total: 1 ex, 0.01 sec)\n",
      "Examples/sec (First excluded) 3312.02 ex/sec (total: 999 ex, 0.30 sec)\n"
     ]
    },
    {
     "data": {
      "application/vnd.jupyter.widget-view+json": {
       "model_id": "efc62978e43d4927aceec3b16d9ec4d5",
       "version_major": 2,
       "version_minor": 0
      },
      "text/plain": [
       "1it [00:00, ?it/s]"
      ]
     },
     "metadata": {},
     "output_type": "display_data"
    },
    {
     "name": "stdout",
     "output_type": "stream",
     "text": [
      "\n",
      "************ Summary ************\n",
      "\n",
      "Examples/sec (First included) 8620.36 ex/sec (total: 1000 ex, 0.12 sec)\n",
      "Examples/sec (First only) 93.48 ex/sec (total: 1 ex, 0.01 sec)\n",
      "Examples/sec (First excluded) 9486.53 ex/sec (total: 999 ex, 0.11 sec)\n",
      "prefetch = -1\n"
     ]
    },
    {
     "data": {
      "application/vnd.jupyter.widget-view+json": {
       "model_id": "b801b31cceab4f19883b9c7b9d5c5df6",
       "version_major": 2,
       "version_minor": 0
      },
      "text/plain": [
       "  0%|          | 1/1000 [00:00<?, ?it/s]"
      ]
     },
     "metadata": {},
     "output_type": "display_data"
    },
    {
     "name": "stdout",
     "output_type": "stream",
     "text": [
      "\n",
      "************ Summary ************\n",
      "\n",
      "Examples/sec (First included) 13569.72 ex/sec (total: 1000 ex, 0.07 sec)\n",
      "Examples/sec (First only) 455.61 ex/sec (total: 1 ex, 0.00 sec)\n",
      "Examples/sec (First excluded) 13972.30 ex/sec (total: 999 ex, 0.07 sec)\n"
     ]
    },
    {
     "data": {
      "application/vnd.jupyter.widget-view+json": {
       "model_id": "725669c3c3fd436b9682aae4f07887a2",
       "version_major": 2,
       "version_minor": 0
      },
      "text/plain": [
       "1it [00:00, ?it/s]"
      ]
     },
     "metadata": {},
     "output_type": "display_data"
    },
    {
     "name": "stdout",
     "output_type": "stream",
     "text": [
      "\n",
      "************ Summary ************\n",
      "\n",
      "Examples/sec (First included) 3943.76 ex/sec (total: 1000 ex, 0.25 sec)\n",
      "Examples/sec (First only) 98.22 ex/sec (total: 1 ex, 0.01 sec)\n",
      "Examples/sec (First excluded) 4104.62 ex/sec (total: 999 ex, 0.24 sec)\n"
     ]
    },
    {
     "data": {
      "application/vnd.jupyter.widget-view+json": {
       "model_id": "2525c39cb0454ee799b4f18eca02a30e",
       "version_major": 2,
       "version_minor": 0
      },
      "text/plain": [
       "1it [00:00, ?it/s]"
      ]
     },
     "metadata": {},
     "output_type": "display_data"
    },
    {
     "name": "stdout",
     "output_type": "stream",
     "text": [
      "\n",
      "************ Summary ************\n",
      "\n",
      "Examples/sec (First included) 9007.18 ex/sec (total: 1000 ex, 0.11 sec)\n",
      "Examples/sec (First only) 92.93 ex/sec (total: 1 ex, 0.01 sec)\n",
      "Examples/sec (First excluded) 9963.89 ex/sec (total: 999 ex, 0.10 sec)\n",
      "batch_size = 10\n",
      "prefetch = None\n"
     ]
    },
    {
     "data": {
      "application/vnd.jupyter.widget-view+json": {
       "model_id": "1dcbd43849444745bbafef58e041f73e",
       "version_major": 2,
       "version_minor": 0
      },
      "text/plain": [
       "  1%|1         | 1/100 [00:00<?, ?it/s]"
      ]
     },
     "metadata": {},
     "output_type": "display_data"
    },
    {
     "name": "stdout",
     "output_type": "stream",
     "text": [
      "\n",
      "************ Summary ************\n",
      "\n",
      "Examples/sec (First included) 33635.00 ex/sec (total: 1000 ex, 0.03 sec)\n",
      "Examples/sec (First only) 4447.39 ex/sec (total: 10 ex, 0.00 sec)\n",
      "Examples/sec (First excluded) 36023.02 ex/sec (total: 990 ex, 0.03 sec)\n"
     ]
    },
    {
     "data": {
      "application/vnd.jupyter.widget-view+json": {
       "model_id": "98ddfaeedcc14d318c6c800282ce0e07",
       "version_major": 2,
       "version_minor": 0
      },
      "text/plain": [
       "1it [00:00, ?it/s]"
      ]
     },
     "metadata": {},
     "output_type": "display_data"
    },
    {
     "name": "stdout",
     "output_type": "stream",
     "text": [
      "\n",
      "************ Summary ************\n",
      "\n",
      "Examples/sec (First included) 4033.46 ex/sec (total: 1000 ex, 0.25 sec)\n",
      "Examples/sec (First only) 796.94 ex/sec (total: 10 ex, 0.01 sec)\n",
      "Examples/sec (First excluded) 4206.00 ex/sec (total: 990 ex, 0.24 sec)\n"
     ]
    },
    {
     "data": {
      "application/vnd.jupyter.widget-view+json": {
       "model_id": "28189558d3084612a1ebd0b9a021adf8",
       "version_major": 2,
       "version_minor": 0
      },
      "text/plain": [
       "1it [00:00, ?it/s]"
      ]
     },
     "metadata": {},
     "output_type": "display_data"
    },
    {
     "name": "stdout",
     "output_type": "stream",
     "text": [
      "\n",
      "************ Summary ************\n",
      "\n",
      "Examples/sec (First included) 19397.90 ex/sec (total: 1000 ex, 0.05 sec)\n",
      "Examples/sec (First only) 506.80 ex/sec (total: 10 ex, 0.02 sec)\n",
      "Examples/sec (First excluded) 31112.16 ex/sec (total: 990 ex, 0.03 sec)\n",
      "prefetch = -1\n"
     ]
    },
    {
     "data": {
      "application/vnd.jupyter.widget-view+json": {
       "model_id": "237640da4b334628811400fa1893b9fb",
       "version_major": 2,
       "version_minor": 0
      },
      "text/plain": [
       "  1%|1         | 1/100 [00:00<?, ?it/s]"
      ]
     },
     "metadata": {},
     "output_type": "display_data"
    },
    {
     "name": "stdout",
     "output_type": "stream",
     "text": [
      "\n",
      "************ Summary ************\n",
      "\n",
      "Examples/sec (First included) 30099.07 ex/sec (total: 1000 ex, 0.03 sec)\n",
      "Examples/sec (First only) 4118.74 ex/sec (total: 10 ex, 0.00 sec)\n",
      "Examples/sec (First excluded) 32147.35 ex/sec (total: 990 ex, 0.03 sec)\n"
     ]
    },
    {
     "data": {
      "application/vnd.jupyter.widget-view+json": {
       "model_id": "c291ce1babad461290e39e3670f37386",
       "version_major": 2,
       "version_minor": 0
      },
      "text/plain": [
       "1it [00:00, ?it/s]"
      ]
     },
     "metadata": {},
     "output_type": "display_data"
    },
    {
     "name": "stdout",
     "output_type": "stream",
     "text": [
      "\n",
      "************ Summary ************\n",
      "\n",
      "Examples/sec (First included) 3952.63 ex/sec (total: 1000 ex, 0.25 sec)\n",
      "Examples/sec (First only) 809.55 ex/sec (total: 10 ex, 0.01 sec)\n",
      "Examples/sec (First excluded) 4113.97 ex/sec (total: 990 ex, 0.24 sec)\n"
     ]
    },
    {
     "data": {
      "application/vnd.jupyter.widget-view+json": {
       "model_id": "a31a89e7b20d457ea5c752122c4fa689",
       "version_major": 2,
       "version_minor": 0
      },
      "text/plain": [
       "1it [00:00, ?it/s]"
      ]
     },
     "metadata": {},
     "output_type": "display_data"
    },
    {
     "name": "stdout",
     "output_type": "stream",
     "text": [
      "\n",
      "************ Summary ************\n",
      "\n",
      "Examples/sec (First included) 20128.13 ex/sec (total: 1000 ex, 0.05 sec)\n",
      "Examples/sec (First only) 487.87 ex/sec (total: 10 ex, 0.02 sec)\n",
      "Examples/sec (First excluded) 33922.32 ex/sec (total: 990 ex, 0.03 sec)\n",
      "batch_size = 25\n",
      "prefetch = None\n"
     ]
    },
    {
     "data": {
      "application/vnd.jupyter.widget-view+json": {
       "model_id": "03d43869119e4c29bcc6c9593cfcd266",
       "version_major": 2,
       "version_minor": 0
      },
      "text/plain": [
       "  2%|2         | 1/40 [00:00<?, ?it/s]"
      ]
     },
     "metadata": {},
     "output_type": "display_data"
    },
    {
     "name": "stdout",
     "output_type": "stream",
     "text": [
      "\n",
      "************ Summary ************\n",
      "\n",
      "Examples/sec (First included) 37679.43 ex/sec (total: 1000 ex, 0.03 sec)\n",
      "Examples/sec (First only) 11311.19 ex/sec (total: 25 ex, 0.00 sec)\n",
      "Examples/sec (First excluded) 40074.84 ex/sec (total: 975 ex, 0.02 sec)\n"
     ]
    },
    {
     "data": {
      "application/vnd.jupyter.widget-view+json": {
       "model_id": "eb1a5cc0b3274b01977015782a3b2b2a",
       "version_major": 2,
       "version_minor": 0
      },
      "text/plain": [
       "1it [00:00, ?it/s]"
      ]
     },
     "metadata": {},
     "output_type": "display_data"
    },
    {
     "name": "stdout",
     "output_type": "stream",
     "text": [
      "\n",
      "************ Summary ************\n",
      "\n",
      "Examples/sec (First included) 4479.61 ex/sec (total: 1000 ex, 0.22 sec)\n",
      "Examples/sec (First only) 1607.01 ex/sec (total: 25 ex, 0.02 sec)\n",
      "Examples/sec (First excluded) 4694.80 ex/sec (total: 975 ex, 0.21 sec)\n"
     ]
    },
    {
     "data": {
      "application/vnd.jupyter.widget-view+json": {
       "model_id": "785c56ffe34c4b71ab71ac76a2d84342",
       "version_major": 2,
       "version_minor": 0
      },
      "text/plain": [
       "1it [00:00, ?it/s]"
      ]
     },
     "metadata": {},
     "output_type": "display_data"
    },
    {
     "name": "stdout",
     "output_type": "stream",
     "text": [
      "\n",
      "************ Summary ************\n",
      "\n",
      "Examples/sec (First included) 19934.13 ex/sec (total: 1000 ex, 0.05 sec)\n",
      "Examples/sec (First only) 1260.50 ex/sec (total: 25 ex, 0.02 sec)\n",
      "Examples/sec (First excluded) 32144.51 ex/sec (total: 975 ex, 0.03 sec)\n",
      "prefetch = -1\n"
     ]
    },
    {
     "data": {
      "application/vnd.jupyter.widget-view+json": {
       "model_id": "405b6de9f9004da2a42df2562d6d754b",
       "version_major": 2,
       "version_minor": 0
      },
      "text/plain": [
       "  2%|2         | 1/40 [00:00<?, ?it/s]"
      ]
     },
     "metadata": {},
     "output_type": "display_data"
    },
    {
     "name": "stdout",
     "output_type": "stream",
     "text": [
      "\n",
      "************ Summary ************\n",
      "\n",
      "Examples/sec (First included) 37680.25 ex/sec (total: 1000 ex, 0.03 sec)\n",
      "Examples/sec (First only) 10414.79 ex/sec (total: 25 ex, 0.00 sec)\n",
      "Examples/sec (First excluded) 40391.62 ex/sec (total: 975 ex, 0.02 sec)\n"
     ]
    },
    {
     "data": {
      "application/vnd.jupyter.widget-view+json": {
       "model_id": "21d4068675e34cc39430656c903584ab",
       "version_major": 2,
       "version_minor": 0
      },
      "text/plain": [
       "1it [00:00, ?it/s]"
      ]
     },
     "metadata": {},
     "output_type": "display_data"
    },
    {
     "name": "stdout",
     "output_type": "stream",
     "text": [
      "\n",
      "************ Summary ************\n",
      "\n",
      "Examples/sec (First included) 4859.09 ex/sec (total: 1000 ex, 0.21 sec)\n",
      "Examples/sec (First only) 1544.45 ex/sec (total: 25 ex, 0.02 sec)\n",
      "Examples/sec (First excluded) 5142.05 ex/sec (total: 975 ex, 0.19 sec)\n"
     ]
    },
    {
     "data": {
      "application/vnd.jupyter.widget-view+json": {
       "model_id": "e4638c9306ef4f869bb8b80ff73bce26",
       "version_major": 2,
       "version_minor": 0
      },
      "text/plain": [
       "1it [00:00, ?it/s]"
      ]
     },
     "metadata": {},
     "output_type": "display_data"
    },
    {
     "name": "stdout",
     "output_type": "stream",
     "text": [
      "\n",
      "************ Summary ************\n",
      "\n",
      "Examples/sec (First included) 21951.09 ex/sec (total: 1000 ex, 0.05 sec)\n",
      "Examples/sec (First only) 1245.02 ex/sec (total: 25 ex, 0.02 sec)\n",
      "Examples/sec (First excluded) 38271.64 ex/sec (total: 975 ex, 0.03 sec)\n",
      "batch_size = 100\n",
      "prefetch = None\n"
     ]
    },
    {
     "data": {
      "application/vnd.jupyter.widget-view+json": {
       "model_id": "597c32351e104828b207a61f8b866170",
       "version_major": 2,
       "version_minor": 0
      },
      "text/plain": [
       " 10%|#         | 1/10 [00:00<?, ?it/s]"
      ]
     },
     "metadata": {},
     "output_type": "display_data"
    },
    {
     "name": "stdout",
     "output_type": "stream",
     "text": [
      "\n",
      "************ Summary ************\n",
      "\n",
      "Examples/sec (First included) 39159.31 ex/sec (total: 1000 ex, 0.03 sec)\n",
      "Examples/sec (First only) 42551.34 ex/sec (total: 100 ex, 0.00 sec)\n",
      "Examples/sec (First excluded) 38815.51 ex/sec (total: 900 ex, 0.02 sec)\n"
     ]
    },
    {
     "data": {
      "application/vnd.jupyter.widget-view+json": {
       "model_id": "037926f0fdbd43fe911b87fb76d82adc",
       "version_major": 2,
       "version_minor": 0
      },
      "text/plain": [
       "1it [00:00, ?it/s]"
      ]
     },
     "metadata": {},
     "output_type": "display_data"
    },
    {
     "name": "stdout",
     "output_type": "stream",
     "text": [
      "\n",
      "************ Summary ************\n",
      "\n",
      "Examples/sec (First included) 4291.47 ex/sec (total: 1000 ex, 0.23 sec)\n",
      "Examples/sec (First only) 3163.72 ex/sec (total: 100 ex, 0.03 sec)\n",
      "Examples/sec (First excluded) 4468.45 ex/sec (total: 900 ex, 0.20 sec)\n"
     ]
    },
    {
     "data": {
      "application/vnd.jupyter.widget-view+json": {
       "model_id": "d365e5caee2b42449d325e2245c7b3ad",
       "version_major": 2,
       "version_minor": 0
      },
      "text/plain": [
       "1it [00:00, ?it/s]"
      ]
     },
     "metadata": {},
     "output_type": "display_data"
    },
    {
     "name": "stdout",
     "output_type": "stream",
     "text": [
      "\n",
      "************ Summary ************\n",
      "\n",
      "Examples/sec (First included) 22409.70 ex/sec (total: 1000 ex, 0.04 sec)\n",
      "Examples/sec (First only) 4980.29 ex/sec (total: 100 ex, 0.02 sec)\n",
      "Examples/sec (First excluded) 36668.24 ex/sec (total: 900 ex, 0.02 sec)\n",
      "prefetch = -1\n"
     ]
    },
    {
     "data": {
      "application/vnd.jupyter.widget-view+json": {
       "model_id": "ac44e2f559114680ae39c8dce859e1b2",
       "version_major": 2,
       "version_minor": 0
      },
      "text/plain": [
       " 10%|#         | 1/10 [00:00<?, ?it/s]"
      ]
     },
     "metadata": {},
     "output_type": "display_data"
    },
    {
     "name": "stdout",
     "output_type": "stream",
     "text": [
      "\n",
      "************ Summary ************\n",
      "\n",
      "Examples/sec (First included) 40099.40 ex/sec (total: 1000 ex, 0.02 sec)\n",
      "Examples/sec (First only) 40725.83 ex/sec (total: 100 ex, 0.00 sec)\n",
      "Examples/sec (First excluded) 40030.99 ex/sec (total: 900 ex, 0.02 sec)\n"
     ]
    },
    {
     "data": {
      "application/vnd.jupyter.widget-view+json": {
       "model_id": "3b79ca482e98495ca52876f313d99078",
       "version_major": 2,
       "version_minor": 0
      },
      "text/plain": [
       "1it [00:00, ?it/s]"
      ]
     },
     "metadata": {},
     "output_type": "display_data"
    },
    {
     "name": "stdout",
     "output_type": "stream",
     "text": [
      "\n",
      "************ Summary ************\n",
      "\n",
      "Examples/sec (First included) 4562.29 ex/sec (total: 1000 ex, 0.22 sec)\n",
      "Examples/sec (First only) 3411.42 ex/sec (total: 100 ex, 0.03 sec)\n",
      "Examples/sec (First excluded) 4739.96 ex/sec (total: 900 ex, 0.19 sec)\n"
     ]
    },
    {
     "data": {
      "application/vnd.jupyter.widget-view+json": {
       "model_id": "451d47e397dc43bda5bc22cd78c57eb7",
       "version_major": 2,
       "version_minor": 0
      },
      "text/plain": [
       "1it [00:00, ?it/s]"
      ]
     },
     "metadata": {},
     "output_type": "display_data"
    },
    {
     "name": "stdout",
     "output_type": "stream",
     "text": [
      "\n",
      "************ Summary ************\n",
      "\n",
      "Examples/sec (First included) 22749.89 ex/sec (total: 1000 ex, 0.04 sec)\n",
      "Examples/sec (First only) 5107.69 ex/sec (total: 100 ex, 0.02 sec)\n",
      "Examples/sec (First excluded) 36918.65 ex/sec (total: 900 ex, 0.02 sec)\n",
      "batch_size = 250\n",
      "prefetch = None\n"
     ]
    },
    {
     "data": {
      "application/vnd.jupyter.widget-view+json": {
       "model_id": "fcd965ca586c4bd5890e7315064d7b3c",
       "version_major": 2,
       "version_minor": 0
      },
      "text/plain": [
       " 25%|##5       | 1/4 [00:00<?, ?it/s]"
      ]
     },
     "metadata": {},
     "output_type": "display_data"
    },
    {
     "name": "stdout",
     "output_type": "stream",
     "text": [
      "\n",
      "************ Summary ************\n",
      "\n",
      "Examples/sec (First included) 34947.98 ex/sec (total: 1000 ex, 0.03 sec)\n",
      "Examples/sec (First only) 75472.24 ex/sec (total: 250 ex, 0.00 sec)\n",
      "Examples/sec (First excluded) 29642.54 ex/sec (total: 750 ex, 0.03 sec)\n"
     ]
    },
    {
     "data": {
      "application/vnd.jupyter.widget-view+json": {
       "model_id": "bf18fd9a1644428587210f6deefb9a07",
       "version_major": 2,
       "version_minor": 0
      },
      "text/plain": [
       "1it [00:00, ?it/s]"
      ]
     },
     "metadata": {},
     "output_type": "display_data"
    },
    {
     "name": "stdout",
     "output_type": "stream",
     "text": [
      "\n",
      "************ Summary ************\n",
      "\n",
      "Examples/sec (First included) 4605.42 ex/sec (total: 1000 ex, 0.22 sec)\n",
      "Examples/sec (First only) 4392.96 ex/sec (total: 250 ex, 0.06 sec)\n",
      "Examples/sec (First excluded) 4680.88 ex/sec (total: 750 ex, 0.16 sec)\n"
     ]
    },
    {
     "data": {
      "application/vnd.jupyter.widget-view+json": {
       "model_id": "af0fdc3187084a79bdf740cfce6c1395",
       "version_major": 2,
       "version_minor": 0
      },
      "text/plain": [
       "1it [00:00, ?it/s]"
      ]
     },
     "metadata": {},
     "output_type": "display_data"
    },
    {
     "name": "stdout",
     "output_type": "stream",
     "text": [
      "\n",
      "************ Summary ************\n",
      "\n",
      "Examples/sec (First included) 23245.95 ex/sec (total: 1000 ex, 0.04 sec)\n",
      "Examples/sec (First only) 12848.05 ex/sec (total: 250 ex, 0.02 sec)\n",
      "Examples/sec (First excluded) 31833.55 ex/sec (total: 750 ex, 0.02 sec)\n",
      "prefetch = -1\n"
     ]
    },
    {
     "data": {
      "application/vnd.jupyter.widget-view+json": {
       "model_id": "1e2d34a8e6004264ac6c3a05d07ba4dd",
       "version_major": 2,
       "version_minor": 0
      },
      "text/plain": [
       " 25%|##5       | 1/4 [00:00<?, ?it/s]"
      ]
     },
     "metadata": {},
     "output_type": "display_data"
    },
    {
     "name": "stdout",
     "output_type": "stream",
     "text": [
      "\n",
      "************ Summary ************\n",
      "\n",
      "Examples/sec (First included) 40381.00 ex/sec (total: 1000 ex, 0.02 sec)\n",
      "Examples/sec (First only) 97587.48 ex/sec (total: 250 ex, 0.00 sec)\n",
      "Examples/sec (First excluded) 33780.26 ex/sec (total: 750 ex, 0.02 sec)\n"
     ]
    },
    {
     "data": {
      "application/vnd.jupyter.widget-view+json": {
       "model_id": "cc535a4b413044188a7e05d860826160",
       "version_major": 2,
       "version_minor": 0
      },
      "text/plain": [
       "1it [00:00, ?it/s]"
      ]
     },
     "metadata": {},
     "output_type": "display_data"
    },
    {
     "name": "stdout",
     "output_type": "stream",
     "text": [
      "\n",
      "************ Summary ************\n",
      "\n",
      "Examples/sec (First included) 4561.32 ex/sec (total: 1000 ex, 0.22 sec)\n",
      "Examples/sec (First only) 4487.12 ex/sec (total: 250 ex, 0.06 sec)\n",
      "Examples/sec (First excluded) 4586.61 ex/sec (total: 750 ex, 0.16 sec)\n"
     ]
    },
    {
     "data": {
      "application/vnd.jupyter.widget-view+json": {
       "model_id": "4ac0cbd37f0e43d6ab0d02a641455ce4",
       "version_major": 2,
       "version_minor": 0
      },
      "text/plain": [
       "1it [00:00, ?it/s]"
      ]
     },
     "metadata": {},
     "output_type": "display_data"
    },
    {
     "name": "stdout",
     "output_type": "stream",
     "text": [
      "\n",
      "************ Summary ************\n",
      "\n",
      "Examples/sec (First included) 23053.74 ex/sec (total: 1000 ex, 0.04 sec)\n",
      "Examples/sec (First only) 12231.01 ex/sec (total: 250 ex, 0.02 sec)\n",
      "Examples/sec (First excluded) 32698.18 ex/sec (total: 750 ex, 0.02 sec)\n",
      "size = 10000\n",
      "batch_size = None\n",
      "prefetch = None\n"
     ]
    },
    {
     "data": {
      "application/vnd.jupyter.widget-view+json": {
       "model_id": "646d959516644abfaae6620339ea495c",
       "version_major": 2,
       "version_minor": 0
      },
      "text/plain": [
       "  0%|          | 1/10000 [00:00<?, ?it/s]"
      ]
     },
     "metadata": {},
     "output_type": "display_data"
    },
    {
     "name": "stdout",
     "output_type": "stream",
     "text": [
      "\n",
      "************ Summary ************\n",
      "\n",
      "Examples/sec (First included) 18694.93 ex/sec (total: 10000 ex, 0.53 sec)\n",
      "Examples/sec (First only) 512.16 ex/sec (total: 1 ex, 0.00 sec)\n",
      "Examples/sec (First excluded) 18761.54 ex/sec (total: 9999 ex, 0.53 sec)\n"
     ]
    },
    {
     "data": {
      "application/vnd.jupyter.widget-view+json": {
       "model_id": "c63dcbb1d8b544288f33ae9935e494e4",
       "version_major": 2,
       "version_minor": 0
      },
      "text/plain": [
       "1it [00:00, ?it/s]"
      ]
     },
     "metadata": {},
     "output_type": "display_data"
    },
    {
     "name": "stdout",
     "output_type": "stream",
     "text": [
      "\n",
      "************ Summary ************\n",
      "\n",
      "Examples/sec (First included) 3406.21 ex/sec (total: 10000 ex, 2.94 sec)\n",
      "Examples/sec (First only) 101.01 ex/sec (total: 1 ex, 0.01 sec)\n",
      "Examples/sec (First excluded) 3417.40 ex/sec (total: 9999 ex, 2.93 sec)\n"
     ]
    },
    {
     "data": {
      "application/vnd.jupyter.widget-view+json": {
       "model_id": "26bfe34a119d45a783d2c706fad243dd",
       "version_major": 2,
       "version_minor": 0
      },
      "text/plain": [
       "1it [00:00, ?it/s]"
      ]
     },
     "metadata": {},
     "output_type": "display_data"
    },
    {
     "name": "stdout",
     "output_type": "stream",
     "text": [
      "\n",
      "************ Summary ************\n",
      "\n",
      "Examples/sec (First included) 13089.82 ex/sec (total: 10000 ex, 0.76 sec)\n",
      "Examples/sec (First only) 94.72 ex/sec (total: 1 ex, 0.01 sec)\n",
      "Examples/sec (First excluded) 13271.93 ex/sec (total: 9999 ex, 0.75 sec)\n",
      "prefetch = -1\n"
     ]
    },
    {
     "data": {
      "application/vnd.jupyter.widget-view+json": {
       "model_id": "bbc7e5d78ae445b8a52f6ce532bf6474",
       "version_major": 2,
       "version_minor": 0
      },
      "text/plain": [
       "  0%|          | 1/10000 [00:00<?, ?it/s]"
      ]
     },
     "metadata": {},
     "output_type": "display_data"
    },
    {
     "name": "stdout",
     "output_type": "stream",
     "text": [
      "\n",
      "************ Summary ************\n",
      "\n",
      "Examples/sec (First included) 18117.61 ex/sec (total: 10000 ex, 0.55 sec)\n",
      "Examples/sec (First only) 456.00 ex/sec (total: 1 ex, 0.00 sec)\n",
      "Examples/sec (First excluded) 18188.06 ex/sec (total: 9999 ex, 0.55 sec)\n"
     ]
    },
    {
     "data": {
      "application/vnd.jupyter.widget-view+json": {
       "model_id": "e515caac5bc8468f98062e39bdbe8aac",
       "version_major": 2,
       "version_minor": 0
      },
      "text/plain": [
       "1it [00:00, ?it/s]"
      ]
     },
     "metadata": {},
     "output_type": "display_data"
    },
    {
     "name": "stdout",
     "output_type": "stream",
     "text": [
      "\n",
      "************ Summary ************\n",
      "\n",
      "Examples/sec (First included) 4471.19 ex/sec (total: 10000 ex, 2.24 sec)\n",
      "Examples/sec (First only) 96.87 ex/sec (total: 1 ex, 0.01 sec)\n",
      "Examples/sec (First excluded) 4491.48 ex/sec (total: 9999 ex, 2.23 sec)\n"
     ]
    },
    {
     "data": {
      "application/vnd.jupyter.widget-view+json": {
       "model_id": "fa406b19ffe643d7a4d01250461a3c01",
       "version_major": 2,
       "version_minor": 0
      },
      "text/plain": [
       "1it [00:00, ?it/s]"
      ]
     },
     "metadata": {},
     "output_type": "display_data"
    },
    {
     "name": "stdout",
     "output_type": "stream",
     "text": [
      "\n",
      "************ Summary ************\n",
      "\n",
      "Examples/sec (First included) 13290.93 ex/sec (total: 10000 ex, 0.75 sec)\n",
      "Examples/sec (First only) 92.81 ex/sec (total: 1 ex, 0.01 sec)\n",
      "Examples/sec (First excluded) 13482.68 ex/sec (total: 9999 ex, 0.74 sec)\n",
      "batch_size = 10\n",
      "prefetch = None\n"
     ]
    },
    {
     "data": {
      "application/vnd.jupyter.widget-view+json": {
       "model_id": "412d8482dc1f42ba8164b793104e529e",
       "version_major": 2,
       "version_minor": 0
      },
      "text/plain": [
       "  0%|          | 1/1000 [00:00<?, ?it/s]"
      ]
     },
     "metadata": {},
     "output_type": "display_data"
    },
    {
     "name": "stdout",
     "output_type": "stream",
     "text": [
      "\n",
      "************ Summary ************\n",
      "\n",
      "Examples/sec (First included) 127711.06 ex/sec (total: 10000 ex, 0.08 sec)\n",
      "Examples/sec (First only) 4524.82 ex/sec (total: 10 ex, 0.00 sec)\n",
      "Examples/sec (First excluded) 131288.93 ex/sec (total: 9990 ex, 0.08 sec)\n"
     ]
    },
    {
     "data": {
      "application/vnd.jupyter.widget-view+json": {
       "model_id": "8303f101c87a47fb9bc3fe1c3487ab00",
       "version_major": 2,
       "version_minor": 0
      },
      "text/plain": [
       "1it [00:00, ?it/s]"
      ]
     },
     "metadata": {},
     "output_type": "display_data"
    },
    {
     "name": "stdout",
     "output_type": "stream",
     "text": [
      "\n",
      "************ Summary ************\n",
      "\n",
      "Examples/sec (First included) 4846.14 ex/sec (total: 10000 ex, 2.06 sec)\n",
      "Examples/sec (First only) 828.59 ex/sec (total: 10 ex, 0.01 sec)\n",
      "Examples/sec (First excluded) 4869.77 ex/sec (total: 9990 ex, 2.05 sec)\n"
     ]
    },
    {
     "data": {
      "application/vnd.jupyter.widget-view+json": {
       "model_id": "485797de60ed48f48b1916c93d9e96cf",
       "version_major": 2,
       "version_minor": 0
      },
      "text/plain": [
       "1it [00:00, ?it/s]"
      ]
     },
     "metadata": {},
     "output_type": "display_data"
    },
    {
     "name": "stdout",
     "output_type": "stream",
     "text": [
      "\n",
      "************ Summary ************\n",
      "\n",
      "Examples/sec (First included) 67758.26 ex/sec (total: 10000 ex, 0.15 sec)\n",
      "Examples/sec (First only) 496.49 ex/sec (total: 10 ex, 0.02 sec)\n",
      "Examples/sec (First excluded) 78388.50 ex/sec (total: 9990 ex, 0.13 sec)\n",
      "prefetch = -1\n"
     ]
    },
    {
     "data": {
      "application/vnd.jupyter.widget-view+json": {
       "model_id": "58aae1d027d84ee69d8531c2d76aea56",
       "version_major": 2,
       "version_minor": 0
      },
      "text/plain": [
       "  0%|          | 1/1000 [00:00<?, ?it/s]"
      ]
     },
     "metadata": {},
     "output_type": "display_data"
    },
    {
     "name": "stdout",
     "output_type": "stream",
     "text": [
      "\n",
      "************ Summary ************\n",
      "\n",
      "Examples/sec (First included) 132109.41 ex/sec (total: 10000 ex, 0.08 sec)\n",
      "Examples/sec (First only) 4092.69 ex/sec (total: 10 ex, 0.00 sec)\n",
      "Examples/sec (First excluded) 136379.55 ex/sec (total: 9990 ex, 0.07 sec)\n"
     ]
    },
    {
     "data": {
      "application/vnd.jupyter.widget-view+json": {
       "model_id": "c738a3bccf2141a1b7d6cdc2fd99363d",
       "version_major": 2,
       "version_minor": 0
      },
      "text/plain": [
       "1it [00:00, ?it/s]"
      ]
     },
     "metadata": {},
     "output_type": "display_data"
    },
    {
     "name": "stdout",
     "output_type": "stream",
     "text": [
      "\n",
      "************ Summary ************\n",
      "\n",
      "Examples/sec (First included) 4779.82 ex/sec (total: 10000 ex, 2.09 sec)\n",
      "Examples/sec (First only) 791.69 ex/sec (total: 10 ex, 0.01 sec)\n",
      "Examples/sec (First excluded) 4804.05 ex/sec (total: 9990 ex, 2.08 sec)\n"
     ]
    },
    {
     "data": {
      "application/vnd.jupyter.widget-view+json": {
       "model_id": "124a12d6eb75477392047ab5a52974ce",
       "version_major": 2,
       "version_minor": 0
      },
      "text/plain": [
       "1it [00:00, ?it/s]"
      ]
     },
     "metadata": {},
     "output_type": "display_data"
    },
    {
     "name": "stdout",
     "output_type": "stream",
     "text": [
      "\n",
      "************ Summary ************\n",
      "\n",
      "Examples/sec (First included) 79204.59 ex/sec (total: 10000 ex, 0.13 sec)\n",
      "Examples/sec (First only) 462.69 ex/sec (total: 10 ex, 0.02 sec)\n",
      "Examples/sec (First excluded) 95467.84 ex/sec (total: 9990 ex, 0.10 sec)\n",
      "batch_size = 25\n",
      "prefetch = None\n"
     ]
    },
    {
     "data": {
      "application/vnd.jupyter.widget-view+json": {
       "model_id": "e4ac3612984f4f55b16326aeb760f17f",
       "version_major": 2,
       "version_minor": 0
      },
      "text/plain": [
       "  0%|          | 1/400 [00:00<?, ?it/s]"
      ]
     },
     "metadata": {},
     "output_type": "display_data"
    },
    {
     "name": "stdout",
     "output_type": "stream",
     "text": [
      "\n",
      "************ Summary ************\n",
      "\n",
      "Examples/sec (First included) 202608.47 ex/sec (total: 10000 ex, 0.05 sec)\n",
      "Examples/sec (First only) 11353.53 ex/sec (total: 25 ex, 0.00 sec)\n",
      "Examples/sec (First excluded) 211539.48 ex/sec (total: 9975 ex, 0.05 sec)\n"
     ]
    },
    {
     "data": {
      "application/vnd.jupyter.widget-view+json": {
       "model_id": "1c9812fa5b204d4792bde7f72ae555fd",
       "version_major": 2,
       "version_minor": 0
      },
      "text/plain": [
       "1it [00:00, ?it/s]"
      ]
     },
     "metadata": {},
     "output_type": "display_data"
    },
    {
     "name": "stdout",
     "output_type": "stream",
     "text": [
      "\n",
      "************ Summary ************\n",
      "\n",
      "Examples/sec (First included) 4916.35 ex/sec (total: 10000 ex, 2.03 sec)\n",
      "Examples/sec (First only) 1703.49 ex/sec (total: 25 ex, 0.01 sec)\n",
      "Examples/sec (First excluded) 4939.70 ex/sec (total: 9975 ex, 2.02 sec)\n"
     ]
    },
    {
     "data": {
      "application/vnd.jupyter.widget-view+json": {
       "model_id": "0ef282ed412c4f49aa036653653e9272",
       "version_major": 2,
       "version_minor": 0
      },
      "text/plain": [
       "1it [00:00, ?it/s]"
      ]
     },
     "metadata": {},
     "output_type": "display_data"
    },
    {
     "name": "stdout",
     "output_type": "stream",
     "text": [
      "\n",
      "************ Summary ************\n",
      "\n",
      "Examples/sec (First included) 101298.60 ex/sec (total: 10000 ex, 0.10 sec)\n",
      "Examples/sec (First only) 1260.42 ex/sec (total: 25 ex, 0.02 sec)\n",
      "Examples/sec (First excluded) 126452.53 ex/sec (total: 9975 ex, 0.08 sec)\n",
      "prefetch = -1\n"
     ]
    },
    {
     "data": {
      "application/vnd.jupyter.widget-view+json": {
       "model_id": "19387e47d87e4a649e2e94a6a92e4ee2",
       "version_major": 2,
       "version_minor": 0
      },
      "text/plain": [
       "  0%|          | 1/400 [00:00<?, ?it/s]"
      ]
     },
     "metadata": {},
     "output_type": "display_data"
    },
    {
     "name": "stdout",
     "output_type": "stream",
     "text": [
      "\n",
      "************ Summary ************\n",
      "\n",
      "Examples/sec (First included) 216548.83 ex/sec (total: 10000 ex, 0.05 sec)\n",
      "Examples/sec (First only) 5168.91 ex/sec (total: 25 ex, 0.00 sec)\n",
      "Examples/sec (First excluded) 241277.98 ex/sec (total: 9975 ex, 0.04 sec)\n"
     ]
    },
    {
     "data": {
      "application/vnd.jupyter.widget-view+json": {
       "model_id": "8aa4ca33dce5472b9c81adb2ca9e89b1",
       "version_major": 2,
       "version_minor": 0
      },
      "text/plain": [
       "1it [00:00, ?it/s]"
      ]
     },
     "metadata": {},
     "output_type": "display_data"
    },
    {
     "name": "stdout",
     "output_type": "stream",
     "text": [
      "\n",
      "************ Summary ************\n",
      "\n",
      "Examples/sec (First included) 5090.32 ex/sec (total: 10000 ex, 1.96 sec)\n",
      "Examples/sec (First only) 1553.13 ex/sec (total: 25 ex, 0.02 sec)\n",
      "Examples/sec (First excluded) 5119.54 ex/sec (total: 9975 ex, 1.95 sec)\n"
     ]
    },
    {
     "data": {
      "application/vnd.jupyter.widget-view+json": {
       "model_id": "28273707ecbb4c438a8c06aaec2bb7a3",
       "version_major": 2,
       "version_minor": 0
      },
      "text/plain": [
       "1it [00:00, ?it/s]"
      ]
     },
     "metadata": {},
     "output_type": "display_data"
    },
    {
     "name": "stdout",
     "output_type": "stream",
     "text": [
      "\n",
      "************ Summary ************\n",
      "\n",
      "Examples/sec (First included) 129945.74 ex/sec (total: 10000 ex, 0.08 sec)\n",
      "Examples/sec (First only) 1178.32 ex/sec (total: 25 ex, 0.02 sec)\n",
      "Examples/sec (First excluded) 178960.78 ex/sec (total: 9975 ex, 0.06 sec)\n",
      "batch_size = 100\n",
      "prefetch = None\n"
     ]
    },
    {
     "data": {
      "application/vnd.jupyter.widget-view+json": {
       "model_id": "1653ff494e6e436cb43b4c79bb3ef735",
       "version_major": 2,
       "version_minor": 0
      },
      "text/plain": [
       "  1%|1         | 1/100 [00:00<?, ?it/s]"
      ]
     },
     "metadata": {},
     "output_type": "display_data"
    },
    {
     "name": "stdout",
     "output_type": "stream",
     "text": [
      "\n",
      "************ Summary ************\n",
      "\n",
      "Examples/sec (First included) 292860.83 ex/sec (total: 10000 ex, 0.03 sec)\n",
      "Examples/sec (First only) 42093.92 ex/sec (total: 100 ex, 0.00 sec)\n",
      "Examples/sec (First excluded) 311612.07 ex/sec (total: 9900 ex, 0.03 sec)\n"
     ]
    },
    {
     "data": {
      "application/vnd.jupyter.widget-view+json": {
       "model_id": "115849b117f44ccfb47f1d0010b8e254",
       "version_major": 2,
       "version_minor": 0
      },
      "text/plain": [
       "1it [00:00, ?it/s]"
      ]
     },
     "metadata": {},
     "output_type": "display_data"
    },
    {
     "name": "stdout",
     "output_type": "stream",
     "text": [
      "\n",
      "************ Summary ************\n",
      "\n",
      "Examples/sec (First included) 5097.76 ex/sec (total: 10000 ex, 1.96 sec)\n",
      "Examples/sec (First only) 3328.28 ex/sec (total: 100 ex, 0.03 sec)\n",
      "Examples/sec (First excluded) 5125.29 ex/sec (total: 9900 ex, 1.93 sec)\n"
     ]
    },
    {
     "data": {
      "application/vnd.jupyter.widget-view+json": {
       "model_id": "9ed3339b8709447c816b7b72d1bcda76",
       "version_major": 2,
       "version_minor": 0
      },
      "text/plain": [
       "1it [00:00, ?it/s]"
      ]
     },
     "metadata": {},
     "output_type": "display_data"
    },
    {
     "name": "stdout",
     "output_type": "stream",
     "text": [
      "\n",
      "************ Summary ************\n",
      "\n",
      "Examples/sec (First included) 133231.62 ex/sec (total: 10000 ex, 0.08 sec)\n",
      "Examples/sec (First only) 5320.41 ex/sec (total: 100 ex, 0.02 sec)\n",
      "Examples/sec (First excluded) 175963.32 ex/sec (total: 9900 ex, 0.06 sec)\n",
      "prefetch = -1\n"
     ]
    },
    {
     "data": {
      "application/vnd.jupyter.widget-view+json": {
       "model_id": "e3b2d08a456b4d8a83891337263ff5f3",
       "version_major": 2,
       "version_minor": 0
      },
      "text/plain": [
       "  1%|1         | 1/100 [00:00<?, ?it/s]"
      ]
     },
     "metadata": {},
     "output_type": "display_data"
    },
    {
     "name": "stdout",
     "output_type": "stream",
     "text": [
      "\n",
      "************ Summary ************\n",
      "\n",
      "Examples/sec (First included) 315811.20 ex/sec (total: 10000 ex, 0.03 sec)\n",
      "Examples/sec (First only) 40643.17 ex/sec (total: 100 ex, 0.00 sec)\n",
      "Examples/sec (First excluded) 338994.08 ex/sec (total: 9900 ex, 0.03 sec)\n"
     ]
    },
    {
     "data": {
      "application/vnd.jupyter.widget-view+json": {
       "model_id": "b737af1e2bd54cdb81bb1f3bed3a6e71",
       "version_major": 2,
       "version_minor": 0
      },
      "text/plain": [
       "1it [00:00, ?it/s]"
      ]
     },
     "metadata": {},
     "output_type": "display_data"
    },
    {
     "name": "stdout",
     "output_type": "stream",
     "text": [
      "\n",
      "************ Summary ************\n",
      "\n",
      "Examples/sec (First included) 4881.37 ex/sec (total: 10000 ex, 2.05 sec)\n",
      "Examples/sec (First only) 3417.74 ex/sec (total: 100 ex, 0.03 sec)\n",
      "Examples/sec (First excluded) 4902.58 ex/sec (total: 9900 ex, 2.02 sec)\n"
     ]
    },
    {
     "data": {
      "application/vnd.jupyter.widget-view+json": {
       "model_id": "e140e6f5ca004f45a043eafd00e91210",
       "version_major": 2,
       "version_minor": 0
      },
      "text/plain": [
       "1it [00:00, ?it/s]"
      ]
     },
     "metadata": {},
     "output_type": "display_data"
    },
    {
     "name": "stdout",
     "output_type": "stream",
     "text": [
      "\n",
      "************ Summary ************\n",
      "\n",
      "Examples/sec (First included) 153485.15 ex/sec (total: 10000 ex, 0.07 sec)\n",
      "Examples/sec (First only) 5073.49 ex/sec (total: 100 ex, 0.02 sec)\n",
      "Examples/sec (First excluded) 217857.37 ex/sec (total: 9900 ex, 0.05 sec)\n",
      "batch_size = 250\n",
      "prefetch = None\n"
     ]
    },
    {
     "data": {
      "application/vnd.jupyter.widget-view+json": {
       "model_id": "9fe9c24704774f68bb5aad0693a5794b",
       "version_major": 2,
       "version_minor": 0
      },
      "text/plain": [
       "  2%|2         | 1/40 [00:00<?, ?it/s]"
      ]
     },
     "metadata": {},
     "output_type": "display_data"
    },
    {
     "name": "stdout",
     "output_type": "stream",
     "text": [
      "\n",
      "************ Summary ************\n",
      "\n",
      "Examples/sec (First included) 324212.86 ex/sec (total: 10000 ex, 0.03 sec)\n",
      "Examples/sec (First only) 109117.13 ex/sec (total: 250 ex, 0.00 sec)\n",
      "Examples/sec (First excluded) 341472.42 ex/sec (total: 9750 ex, 0.03 sec)\n"
     ]
    },
    {
     "data": {
      "application/vnd.jupyter.widget-view+json": {
       "model_id": "d05787589be140f7bacc5402093e8d87",
       "version_major": 2,
       "version_minor": 0
      },
      "text/plain": [
       "1it [00:00, ?it/s]"
      ]
     },
     "metadata": {},
     "output_type": "display_data"
    },
    {
     "name": "stdout",
     "output_type": "stream",
     "text": [
      "\n",
      "************ Summary ************\n",
      "\n",
      "Examples/sec (First included) 5074.09 ex/sec (total: 10000 ex, 1.97 sec)\n",
      "Examples/sec (First only) 4676.50 ex/sec (total: 250 ex, 0.05 sec)\n",
      "Examples/sec (First excluded) 5085.18 ex/sec (total: 9750 ex, 1.92 sec)\n"
     ]
    },
    {
     "data": {
      "application/vnd.jupyter.widget-view+json": {
       "model_id": "ee173cecbebb4914a44932f3545249c2",
       "version_major": 2,
       "version_minor": 0
      },
      "text/plain": [
       "1it [00:00, ?it/s]"
      ]
     },
     "metadata": {},
     "output_type": "display_data"
    },
    {
     "name": "stdout",
     "output_type": "stream",
     "text": [
      "\n",
      "************ Summary ************\n",
      "\n",
      "Examples/sec (First included) 146082.64 ex/sec (total: 10000 ex, 0.07 sec)\n",
      "Examples/sec (First only) 12747.38 ex/sec (total: 250 ex, 0.02 sec)\n",
      "Examples/sec (First excluded) 199621.11 ex/sec (total: 9750 ex, 0.05 sec)\n",
      "prefetch = -1\n"
     ]
    },
    {
     "data": {
      "application/vnd.jupyter.widget-view+json": {
       "model_id": "cf438af514fd43eb931b5947d54afe05",
       "version_major": 2,
       "version_minor": 0
      },
      "text/plain": [
       "  2%|2         | 1/40 [00:00<?, ?it/s]"
      ]
     },
     "metadata": {},
     "output_type": "display_data"
    },
    {
     "name": "stdout",
     "output_type": "stream",
     "text": [
      "\n",
      "************ Summary ************\n",
      "\n",
      "Examples/sec (First included) 319869.67 ex/sec (total: 10000 ex, 0.03 sec)\n",
      "Examples/sec (First only) 100752.58 ex/sec (total: 250 ex, 0.00 sec)\n",
      "Examples/sec (First excluded) 338760.37 ex/sec (total: 9750 ex, 0.03 sec)\n"
     ]
    },
    {
     "data": {
      "application/vnd.jupyter.widget-view+json": {
       "model_id": "405c4fd2f17c4343941f6b80f5e4d7f7",
       "version_major": 2,
       "version_minor": 0
      },
      "text/plain": [
       "1it [00:00, ?it/s]"
      ]
     },
     "metadata": {},
     "output_type": "display_data"
    },
    {
     "name": "stdout",
     "output_type": "stream",
     "text": [
      "\n",
      "************ Summary ************\n",
      "\n",
      "Examples/sec (First included) 4914.02 ex/sec (total: 10000 ex, 2.03 sec)\n",
      "Examples/sec (First only) 3908.60 ex/sec (total: 250 ex, 0.06 sec)\n",
      "Examples/sec (First excluded) 4946.65 ex/sec (total: 9750 ex, 1.97 sec)\n"
     ]
    },
    {
     "data": {
      "application/vnd.jupyter.widget-view+json": {
       "model_id": "f05d0a03a2ee459a99d6a381432b6217",
       "version_major": 2,
       "version_minor": 0
      },
      "text/plain": [
       "1it [00:00, ?it/s]"
      ]
     },
     "metadata": {},
     "output_type": "display_data"
    },
    {
     "name": "stdout",
     "output_type": "stream",
     "text": [
      "\n",
      "************ Summary ************\n",
      "\n",
      "Examples/sec (First included) 147563.66 ex/sec (total: 10000 ex, 0.07 sec)\n",
      "Examples/sec (First only) 12454.65 ex/sec (total: 250 ex, 0.02 sec)\n",
      "Examples/sec (First excluded) 204425.93 ex/sec (total: 9750 ex, 0.05 sec)\n",
      "size = 100000\n",
      "batch_size = None\n",
      "prefetch = None\n"
     ]
    },
    {
     "data": {
      "application/vnd.jupyter.widget-view+json": {
       "model_id": "55940abfab0d424387630e69375c44c1",
       "version_major": 2,
       "version_minor": 0
      },
      "text/plain": [
       "  0%|          | 1/100000 [00:00<?, ?it/s]"
      ]
     },
     "metadata": {},
     "output_type": "display_data"
    },
    {
     "name": "stdout",
     "output_type": "stream",
     "text": [
      "\n",
      "************ Summary ************\n",
      "\n",
      "Examples/sec (First included) 21067.76 ex/sec (total: 100000 ex, 4.75 sec)\n",
      "Examples/sec (First only) 509.76 ex/sec (total: 1 ex, 0.00 sec)\n",
      "Examples/sec (First excluded) 21076.26 ex/sec (total: 99999 ex, 4.74 sec)\n"
     ]
    },
    {
     "data": {
      "application/vnd.jupyter.widget-view+json": {
       "model_id": "0e98286ce2e7461695b50a9ce0806068",
       "version_major": 2,
       "version_minor": 0
      },
      "text/plain": [
       "1it [00:00, ?it/s]"
      ]
     },
     "metadata": {},
     "output_type": "display_data"
    },
    {
     "name": "stdout",
     "output_type": "stream",
     "text": [
      "\n",
      "************ Summary ************\n",
      "\n",
      "Examples/sec (First included) 3372.98 ex/sec (total: 100000 ex, 29.65 sec)\n",
      "Examples/sec (First only) 100.38 ex/sec (total: 1 ex, 0.01 sec)\n",
      "Examples/sec (First excluded) 3374.08 ex/sec (total: 99999 ex, 29.64 sec)\n"
     ]
    },
    {
     "data": {
      "application/vnd.jupyter.widget-view+json": {
       "model_id": "3339ba2357ff4b47b4b8faf8de97caab",
       "version_major": 2,
       "version_minor": 0
      },
      "text/plain": [
       "1it [00:00, ?it/s]"
      ]
     },
     "metadata": {},
     "output_type": "display_data"
    },
    {
     "name": "stdout",
     "output_type": "stream",
     "text": [
      "\n",
      "************ Summary ************\n",
      "\n",
      "Examples/sec (First included) 13854.14 ex/sec (total: 100000 ex, 7.22 sec)\n",
      "Examples/sec (First only) 90.15 ex/sec (total: 1 ex, 0.01 sec)\n",
      "Examples/sec (First excluded) 13875.32 ex/sec (total: 99999 ex, 7.21 sec)\n",
      "prefetch = -1\n"
     ]
    },
    {
     "data": {
      "application/vnd.jupyter.widget-view+json": {
       "model_id": "2f8605a3b0594e63b461247ab464c2a4",
       "version_major": 2,
       "version_minor": 0
      },
      "text/plain": [
       "  0%|          | 1/100000 [00:00<?, ?it/s]"
      ]
     },
     "metadata": {},
     "output_type": "display_data"
    },
    {
     "name": "stdout",
     "output_type": "stream",
     "text": [
      "\n",
      "************ Summary ************\n",
      "\n",
      "Examples/sec (First included) 19537.39 ex/sec (total: 100000 ex, 5.12 sec)\n",
      "Examples/sec (First only) 435.48 ex/sec (total: 1 ex, 0.00 sec)\n",
      "Examples/sec (First excluded) 19545.96 ex/sec (total: 99999 ex, 5.12 sec)\n"
     ]
    },
    {
     "data": {
      "application/vnd.jupyter.widget-view+json": {
       "model_id": "47eb5c1cbeea41678ad395ad806375c3",
       "version_major": 2,
       "version_minor": 0
      },
      "text/plain": [
       "1it [00:00, ?it/s]"
      ]
     },
     "metadata": {},
     "output_type": "display_data"
    },
    {
     "name": "stdout",
     "output_type": "stream",
     "text": [
      "\n",
      "************ Summary ************\n",
      "\n",
      "Examples/sec (First included) 4579.61 ex/sec (total: 100000 ex, 21.84 sec)\n",
      "Examples/sec (First only) 97.81 ex/sec (total: 1 ex, 0.01 sec)\n",
      "Examples/sec (First excluded) 4581.71 ex/sec (total: 99999 ex, 21.83 sec)\n"
     ]
    },
    {
     "data": {
      "application/vnd.jupyter.widget-view+json": {
       "model_id": "506df23c94d84c9296b4a12933798b2c",
       "version_major": 2,
       "version_minor": 0
      },
      "text/plain": [
       "1it [00:00, ?it/s]"
      ]
     },
     "metadata": {},
     "output_type": "display_data"
    },
    {
     "name": "stdout",
     "output_type": "stream",
     "text": [
      "\n",
      "************ Summary ************\n",
      "\n",
      "Examples/sec (First included) 13836.91 ex/sec (total: 100000 ex, 7.23 sec)\n",
      "Examples/sec (First only) 87.90 ex/sec (total: 1 ex, 0.01 sec)\n",
      "Examples/sec (First excluded) 13858.58 ex/sec (total: 99999 ex, 7.22 sec)\n",
      "batch_size = 10\n",
      "prefetch = None\n"
     ]
    },
    {
     "data": {
      "application/vnd.jupyter.widget-view+json": {
       "model_id": "445d2be87fac4d85902fde963b04a410",
       "version_major": 2,
       "version_minor": 0
      },
      "text/plain": [
       "  0%|          | 1/10000 [00:00<?, ?it/s]"
      ]
     },
     "metadata": {},
     "output_type": "display_data"
    },
    {
     "name": "stdout",
     "output_type": "stream",
     "text": [
      "\n",
      "************ Summary ************\n",
      "\n",
      "Examples/sec (First included) 170215.99 ex/sec (total: 100000 ex, 0.59 sec)\n",
      "Examples/sec (First only) 4519.82 ex/sec (total: 10 ex, 0.00 sec)\n",
      "Examples/sec (First excluded) 170842.36 ex/sec (total: 99990 ex, 0.59 sec)\n"
     ]
    },
    {
     "data": {
      "application/vnd.jupyter.widget-view+json": {
       "model_id": "5fa2d2580c794c7d84a00aeaddf05bc5",
       "version_major": 2,
       "version_minor": 0
      },
      "text/plain": [
       "1it [00:00, ?it/s]"
      ]
     },
     "metadata": {},
     "output_type": "display_data"
    },
    {
     "name": "stdout",
     "output_type": "stream",
     "text": [
      "\n",
      "************ Summary ************\n",
      "\n",
      "Examples/sec (First included) 4821.53 ex/sec (total: 100000 ex, 20.74 sec)\n",
      "Examples/sec (First only) 826.53 ex/sec (total: 10 ex, 0.01 sec)\n",
      "Examples/sec (First excluded) 4823.86 ex/sec (total: 99990 ex, 20.73 sec)\n"
     ]
    },
    {
     "data": {
      "application/vnd.jupyter.widget-view+json": {
       "model_id": "d2ffb50882f645d4bf899df2039c9722",
       "version_major": 2,
       "version_minor": 0
      },
      "text/plain": [
       "1it [00:00, ?it/s]"
      ]
     },
     "metadata": {},
     "output_type": "display_data"
    },
    {
     "name": "stdout",
     "output_type": "stream",
     "text": [
      "\n",
      "************ Summary ************\n",
      "\n",
      "Examples/sec (First included) 88789.47 ex/sec (total: 100000 ex, 1.13 sec)\n",
      "Examples/sec (First only) 405.50 ex/sec (total: 10 ex, 0.02 sec)\n",
      "Examples/sec (First excluded) 90768.05 ex/sec (total: 99990 ex, 1.10 sec)\n",
      "prefetch = -1\n"
     ]
    },
    {
     "data": {
      "application/vnd.jupyter.widget-view+json": {
       "model_id": "6894fe34061644ddb17ac86776e7d68a",
       "version_major": 2,
       "version_minor": 0
      },
      "text/plain": [
       "  0%|          | 1/10000 [00:00<?, ?it/s]"
      ]
     },
     "metadata": {},
     "output_type": "display_data"
    },
    {
     "name": "stdout",
     "output_type": "stream",
     "text": [
      "\n",
      "************ Summary ************\n",
      "\n",
      "Examples/sec (First included) 172533.37 ex/sec (total: 100000 ex, 0.58 sec)\n",
      "Examples/sec (First only) 4021.93 ex/sec (total: 10 ex, 0.00 sec)\n",
      "Examples/sec (First excluded) 173259.37 ex/sec (total: 99990 ex, 0.58 sec)\n"
     ]
    },
    {
     "data": {
      "application/vnd.jupyter.widget-view+json": {
       "model_id": "f32134463ad243d6947434648b79fd2e",
       "version_major": 2,
       "version_minor": 0
      },
      "text/plain": [
       "1it [00:00, ?it/s]"
      ]
     },
     "metadata": {},
     "output_type": "display_data"
    },
    {
     "name": "stdout",
     "output_type": "stream",
     "text": [
      "\n",
      "************ Summary ************\n",
      "\n",
      "Examples/sec (First included) 4954.24 ex/sec (total: 100000 ex, 20.18 sec)\n",
      "Examples/sec (First only) 789.61 ex/sec (total: 10 ex, 0.01 sec)\n",
      "Examples/sec (First excluded) 4956.85 ex/sec (total: 99990 ex, 20.17 sec)\n"
     ]
    },
    {
     "data": {
      "application/vnd.jupyter.widget-view+json": {
       "model_id": "816026d639a5403ba4bbf6e92379bfd0",
       "version_major": 2,
       "version_minor": 0
      },
      "text/plain": [
       "1it [00:00, ?it/s]"
      ]
     },
     "metadata": {},
     "output_type": "display_data"
    },
    {
     "name": "stdout",
     "output_type": "stream",
     "text": [
      "\n",
      "************ Summary ************\n",
      "\n",
      "Examples/sec (First included) 117366.48 ex/sec (total: 100000 ex, 0.85 sec)\n",
      "Examples/sec (First only) 430.27 ex/sec (total: 10 ex, 0.02 sec)\n",
      "Examples/sec (First excluded) 120645.63 ex/sec (total: 99990 ex, 0.83 sec)\n",
      "batch_size = 25\n",
      "prefetch = None\n"
     ]
    },
    {
     "data": {
      "application/vnd.jupyter.widget-view+json": {
       "model_id": "8ed1a37b4c8643eb8e86ff5f82cd0c06",
       "version_major": 2,
       "version_minor": 0
      },
      "text/plain": [
       "  0%|          | 1/4000 [00:00<?, ?it/s]"
      ]
     },
     "metadata": {},
     "output_type": "display_data"
    },
    {
     "name": "stdout",
     "output_type": "stream",
     "text": [
      "\n",
      "************ Summary ************\n",
      "\n",
      "Examples/sec (First included) 350577.77 ex/sec (total: 100000 ex, 0.29 sec)\n",
      "Examples/sec (First only) 11311.61 ex/sec (total: 25 ex, 0.00 sec)\n",
      "Examples/sec (First excluded) 353226.99 ex/sec (total: 99975 ex, 0.28 sec)\n"
     ]
    },
    {
     "data": {
      "application/vnd.jupyter.widget-view+json": {
       "model_id": "1c7b95fd33dc4edeba7411bc8508a650",
       "version_major": 2,
       "version_minor": 0
      },
      "text/plain": [
       "1it [00:00, ?it/s]"
      ]
     },
     "metadata": {},
     "output_type": "display_data"
    },
    {
     "name": "stdout",
     "output_type": "stream",
     "text": [
      "\n",
      "************ Summary ************\n",
      "\n",
      "Examples/sec (First included) 4927.90 ex/sec (total: 100000 ex, 20.29 sec)\n",
      "Examples/sec (First only) 1712.30 ex/sec (total: 25 ex, 0.01 sec)\n",
      "Examples/sec (First excluded) 4930.22 ex/sec (total: 99975 ex, 20.28 sec)\n"
     ]
    },
    {
     "data": {
      "application/vnd.jupyter.widget-view+json": {
       "model_id": "ed8680aad0b2466d8320d6537dc41482",
       "version_major": 2,
       "version_minor": 0
      },
      "text/plain": [
       "1it [00:00, ?it/s]"
      ]
     },
     "metadata": {},
     "output_type": "display_data"
    },
    {
     "name": "stdout",
     "output_type": "stream",
     "text": [
      "\n",
      "************ Summary ************\n",
      "\n",
      "Examples/sec (First included) 157969.03 ex/sec (total: 100000 ex, 0.63 sec)\n",
      "Examples/sec (First only) 1045.69 ex/sec (total: 25 ex, 0.02 sec)\n",
      "Examples/sec (First excluded) 164128.14 ex/sec (total: 99975 ex, 0.61 sec)\n",
      "prefetch = -1\n"
     ]
    },
    {
     "data": {
      "application/vnd.jupyter.widget-view+json": {
       "model_id": "19c7574392fe43dd8425b1e9bc126a73",
       "version_major": 2,
       "version_minor": 0
      },
      "text/plain": [
       "  0%|          | 1/4000 [00:00<?, ?it/s]"
      ]
     },
     "metadata": {},
     "output_type": "display_data"
    },
    {
     "name": "stdout",
     "output_type": "stream",
     "text": [
      "\n",
      "************ Summary ************\n",
      "\n",
      "Examples/sec (First included) 410515.15 ex/sec (total: 100000 ex, 0.24 sec)\n",
      "Examples/sec (First only) 7953.67 ex/sec (total: 25 ex, 0.00 sec)\n",
      "Examples/sec (First excluded) 415777.43 ex/sec (total: 99975 ex, 0.24 sec)\n"
     ]
    },
    {
     "data": {
      "application/vnd.jupyter.widget-view+json": {
       "model_id": "9314c4b69fb24dee99bca994c2ba3dc2",
       "version_major": 2,
       "version_minor": 0
      },
      "text/plain": [
       "1it [00:00, ?it/s]"
      ]
     },
     "metadata": {},
     "output_type": "display_data"
    },
    {
     "name": "stdout",
     "output_type": "stream",
     "text": [
      "\n",
      "************ Summary ************\n",
      "\n",
      "Examples/sec (First included) 5050.51 ex/sec (total: 100000 ex, 19.80 sec)\n",
      "Examples/sec (First only) 1741.34 ex/sec (total: 25 ex, 0.01 sec)\n",
      "Examples/sec (First excluded) 5052.91 ex/sec (total: 99975 ex, 19.79 sec)\n"
     ]
    },
    {
     "data": {
      "application/vnd.jupyter.widget-view+json": {
       "model_id": "871777e7c9bc40c59a1a62b52c830afa",
       "version_major": 2,
       "version_minor": 0
      },
      "text/plain": [
       "1it [00:00, ?it/s]"
      ]
     },
     "metadata": {},
     "output_type": "display_data"
    },
    {
     "name": "stdout",
     "output_type": "stream",
     "text": [
      "\n",
      "************ Summary ************\n",
      "\n",
      "Examples/sec (First included) 254233.66 ex/sec (total: 100000 ex, 0.39 sec)\n",
      "Examples/sec (First only) 1014.44 ex/sec (total: 25 ex, 0.02 sec)\n",
      "Examples/sec (First excluded) 271159.23 ex/sec (total: 99975 ex, 0.37 sec)\n",
      "batch_size = 100\n",
      "prefetch = None\n"
     ]
    },
    {
     "data": {
      "application/vnd.jupyter.widget-view+json": {
       "model_id": "3cc27fc0513a473ba3441267e2455a85",
       "version_major": 2,
       "version_minor": 0
      },
      "text/plain": [
       "  0%|          | 1/1000 [00:00<?, ?it/s]"
      ]
     },
     "metadata": {},
     "output_type": "display_data"
    },
    {
     "name": "stdout",
     "output_type": "stream",
     "text": [
      "\n",
      "************ Summary ************\n",
      "\n",
      "Examples/sec (First included) 806482.06 ex/sec (total: 100000 ex, 0.12 sec)\n",
      "Examples/sec (First only) 39486.74 ex/sec (total: 100 ex, 0.00 sec)\n",
      "Examples/sec (First excluded) 822473.89 ex/sec (total: 99900 ex, 0.12 sec)\n"
     ]
    },
    {
     "data": {
      "application/vnd.jupyter.widget-view+json": {
       "model_id": "9aa3ce448cf34dc591bb5d39bd15e2d2",
       "version_major": 2,
       "version_minor": 0
      },
      "text/plain": [
       "1it [00:00, ?it/s]"
      ]
     },
     "metadata": {},
     "output_type": "display_data"
    },
    {
     "name": "stdout",
     "output_type": "stream",
     "text": [
      "\n",
      "************ Summary ************\n",
      "\n",
      "Examples/sec (First included) 4988.70 ex/sec (total: 100000 ex, 20.05 sec)\n",
      "Examples/sec (First only) 3742.92 ex/sec (total: 100 ex, 0.03 sec)\n",
      "Examples/sec (First excluded) 4990.36 ex/sec (total: 99900 ex, 20.02 sec)\n"
     ]
    },
    {
     "data": {
      "application/vnd.jupyter.widget-view+json": {
       "model_id": "bd4f78c635914b6db5cfbc1f3d807fcb",
       "version_major": 2,
       "version_minor": 0
      },
      "text/plain": [
       "1it [00:00, ?it/s]"
      ]
     },
     "metadata": {},
     "output_type": "display_data"
    },
    {
     "name": "stdout",
     "output_type": "stream",
     "text": [
      "\n",
      "************ Summary ************\n",
      "\n",
      "Examples/sec (First included) 280869.83 ex/sec (total: 100000 ex, 0.36 sec)\n",
      "Examples/sec (First only) 4070.32 ex/sec (total: 100 ex, 0.02 sec)\n",
      "Examples/sec (First excluded) 301385.93 ex/sec (total: 99900 ex, 0.33 sec)\n",
      "prefetch = -1\n"
     ]
    },
    {
     "data": {
      "application/vnd.jupyter.widget-view+json": {
       "model_id": "d2061be205b842f8a7c61cf59ca5df65",
       "version_major": 2,
       "version_minor": 0
      },
      "text/plain": [
       "  0%|          | 1/1000 [00:00<?, ?it/s]"
      ]
     },
     "metadata": {},
     "output_type": "display_data"
    },
    {
     "name": "stdout",
     "output_type": "stream",
     "text": [
      "\n",
      "************ Summary ************\n",
      "\n",
      "Examples/sec (First included) 1308595.90 ex/sec (total: 100000 ex, 0.08 sec)\n",
      "Examples/sec (First only) 40648.42 ex/sec (total: 100 ex, 0.00 sec)\n",
      "Examples/sec (First excluded) 1350772.77 ex/sec (total: 99900 ex, 0.07 sec)\n"
     ]
    },
    {
     "data": {
      "application/vnd.jupyter.widget-view+json": {
       "model_id": "daf2edb6339b4f7a808ec0d6aee81082",
       "version_major": 2,
       "version_minor": 0
      },
      "text/plain": [
       "1it [00:00, ?it/s]"
      ]
     },
     "metadata": {},
     "output_type": "display_data"
    },
    {
     "name": "stdout",
     "output_type": "stream",
     "text": [
      "\n",
      "************ Summary ************\n",
      "\n",
      "Examples/sec (First included) 4957.32 ex/sec (total: 100000 ex, 20.17 sec)\n",
      "Examples/sec (First only) 3079.98 ex/sec (total: 100 ex, 0.03 sec)\n",
      "Examples/sec (First excluded) 4960.35 ex/sec (total: 99900 ex, 20.14 sec)\n"
     ]
    },
    {
     "data": {
      "application/vnd.jupyter.widget-view+json": {
       "model_id": "fd5d9d5ddc6646cb9dc2ec6b444ccab1",
       "version_major": 2,
       "version_minor": 0
      },
      "text/plain": [
       "1it [00:00, ?it/s]"
      ]
     },
     "metadata": {},
     "output_type": "display_data"
    },
    {
     "name": "stdout",
     "output_type": "stream",
     "text": [
      "\n",
      "************ Summary ************\n",
      "\n",
      "Examples/sec (First included) 358437.91 ex/sec (total: 100000 ex, 0.28 sec)\n",
      "Examples/sec (First only) 3932.02 ex/sec (total: 100 ex, 0.03 sec)\n",
      "Examples/sec (First excluded) 393995.64 ex/sec (total: 99900 ex, 0.25 sec)\n",
      "batch_size = 250\n",
      "prefetch = None\n"
     ]
    },
    {
     "data": {
      "application/vnd.jupyter.widget-view+json": {
       "model_id": "3e1753693a874afbbe915b910d1e8a4e",
       "version_major": 2,
       "version_minor": 0
      },
      "text/plain": [
       "  0%|          | 1/400 [00:00<?, ?it/s]"
      ]
     },
     "metadata": {},
     "output_type": "display_data"
    },
    {
     "name": "stdout",
     "output_type": "stream",
     "text": [
      "\n",
      "************ Summary ************\n",
      "\n",
      "Examples/sec (First included) 1058331.10 ex/sec (total: 100000 ex, 0.09 sec)\n",
      "Examples/sec (First only) 107580.28 ex/sec (total: 250 ex, 0.00 sec)\n",
      "Examples/sec (First excluded) 1082303.43 ex/sec (total: 99750 ex, 0.09 sec)\n"
     ]
    },
    {
     "data": {
      "application/vnd.jupyter.widget-view+json": {
       "model_id": "d92d26d68ba84652ba0d4c3ea3821642",
       "version_major": 2,
       "version_minor": 0
      },
      "text/plain": [
       "1it [00:00, ?it/s]"
      ]
     },
     "metadata": {},
     "output_type": "display_data"
    },
    {
     "name": "stdout",
     "output_type": "stream",
     "text": [
      "\n",
      "************ Summary ************\n",
      "\n",
      "Examples/sec (First included) 5044.79 ex/sec (total: 100000 ex, 19.82 sec)\n",
      "Examples/sec (First only) 4047.98 ex/sec (total: 250 ex, 0.06 sec)\n",
      "Examples/sec (First excluded) 5047.90 ex/sec (total: 99750 ex, 19.76 sec)\n"
     ]
    },
    {
     "data": {
      "application/vnd.jupyter.widget-view+json": {
       "model_id": "3028c8903930465b834147801ab27d1c",
       "version_major": 2,
       "version_minor": 0
      },
      "text/plain": [
       "1it [00:00, ?it/s]"
      ]
     },
     "metadata": {},
     "output_type": "display_data"
    },
    {
     "name": "stdout",
     "output_type": "stream",
     "text": [
      "\n",
      "************ Summary ************\n",
      "\n",
      "Examples/sec (First included) 328003.67 ex/sec (total: 100000 ex, 0.30 sec)\n",
      "Examples/sec (First only) 10126.09 ex/sec (total: 250 ex, 0.02 sec)\n",
      "Examples/sec (First excluded) 356013.59 ex/sec (total: 99750 ex, 0.28 sec)\n",
      "prefetch = -1\n"
     ]
    },
    {
     "data": {
      "application/vnd.jupyter.widget-view+json": {
       "model_id": "8936e92bde9c498dba47638c927271ef",
       "version_major": 2,
       "version_minor": 0
      },
      "text/plain": [
       "  0%|          | 1/400 [00:00<?, ?it/s]"
      ]
     },
     "metadata": {},
     "output_type": "display_data"
    },
    {
     "name": "stdout",
     "output_type": "stream",
     "text": [
      "\n",
      "************ Summary ************\n",
      "\n",
      "Examples/sec (First included) 1451807.25 ex/sec (total: 100000 ex, 0.07 sec)\n",
      "Examples/sec (First only) 89641.04 ex/sec (total: 250 ex, 0.00 sec)\n",
      "Examples/sec (First excluded) 1509288.00 ex/sec (total: 99750 ex, 0.07 sec)\n"
     ]
    },
    {
     "data": {
      "application/vnd.jupyter.widget-view+json": {
       "model_id": "38968f88a25b48dca5e8901a31ae50ae",
       "version_major": 2,
       "version_minor": 0
      },
      "text/plain": [
       "1it [00:00, ?it/s]"
      ]
     },
     "metadata": {},
     "output_type": "display_data"
    },
    {
     "name": "stdout",
     "output_type": "stream",
     "text": [
      "\n",
      "************ Summary ************\n",
      "\n",
      "Examples/sec (First included) 5046.63 ex/sec (total: 100000 ex, 19.82 sec)\n",
      "Examples/sec (First only) 4746.80 ex/sec (total: 250 ex, 0.05 sec)\n",
      "Examples/sec (First excluded) 5047.42 ex/sec (total: 99750 ex, 19.76 sec)\n"
     ]
    },
    {
     "data": {
      "application/vnd.jupyter.widget-view+json": {
       "model_id": "30b1cb12e25143c5be0b8601b26747d6",
       "version_major": 2,
       "version_minor": 0
      },
      "text/plain": [
       "1it [00:00, ?it/s]"
      ]
     },
     "metadata": {},
     "output_type": "display_data"
    },
    {
     "name": "stdout",
     "output_type": "stream",
     "text": [
      "\n",
      "************ Summary ************\n",
      "\n",
      "Examples/sec (First included) 356488.57 ex/sec (total: 100000 ex, 0.28 sec)\n",
      "Examples/sec (First only) 9067.44 ex/sec (total: 250 ex, 0.03 sec)\n",
      "Examples/sec (First excluded) 394358.03 ex/sec (total: 99750 ex, 0.25 sec)\n",
      "size = 1000000\n",
      "batch_size = None\n",
      "prefetch = None\n"
     ]
    },
    {
     "data": {
      "application/vnd.jupyter.widget-view+json": {
       "model_id": "c9a4e1f9e56344a8bc7eb9f1553680e2",
       "version_major": 2,
       "version_minor": 0
      },
      "text/plain": [
       "  0%|          | 1/1000000 [00:00<?, ?it/s]"
      ]
     },
     "metadata": {},
     "output_type": "display_data"
    },
    {
     "name": "stdout",
     "output_type": "stream",
     "text": [
      "\n",
      "************ Summary ************\n",
      "\n",
      "Examples/sec (First included) 21254.18 ex/sec (total: 1000000 ex, 47.05 sec)\n",
      "Examples/sec (First only) 458.42 ex/sec (total: 1 ex, 0.00 sec)\n",
      "Examples/sec (First excluded) 21255.15 ex/sec (total: 999999 ex, 47.05 sec)\n"
     ]
    },
    {
     "data": {
      "application/vnd.jupyter.widget-view+json": {
       "model_id": "033fd5da4bd64a1084a58b028a0ed0d5",
       "version_major": 2,
       "version_minor": 0
      },
      "text/plain": [
       "1it [00:00, ?it/s]"
      ]
     },
     "metadata": {},
     "output_type": "display_data"
    },
    {
     "name": "stdout",
     "output_type": "stream",
     "text": [
      "\n",
      "************ Summary ************\n",
      "\n",
      "Examples/sec (First included) 3343.37 ex/sec (total: 1000000 ex, 299.10 sec)\n",
      "Examples/sec (First only) 99.39 ex/sec (total: 1 ex, 0.01 sec)\n",
      "Examples/sec (First excluded) 3343.48 ex/sec (total: 999999 ex, 299.09 sec)\n"
     ]
    },
    {
     "data": {
      "application/vnd.jupyter.widget-view+json": {
       "model_id": "08badaa60af641f2a373b97b7f0095a4",
       "version_major": 2,
       "version_minor": 0
      },
      "text/plain": [
       "1it [00:00, ?it/s]"
      ]
     },
     "metadata": {},
     "output_type": "display_data"
    },
    {
     "name": "stdout",
     "output_type": "stream",
     "text": [
      "\n",
      "************ Summary ************\n",
      "\n",
      "Examples/sec (First included) 13960.32 ex/sec (total: 1000000 ex, 71.63 sec)\n",
      "Examples/sec (First only) 89.05 ex/sec (total: 1 ex, 0.01 sec)\n",
      "Examples/sec (First excluded) 13962.50 ex/sec (total: 999999 ex, 71.62 sec)\n",
      "prefetch = -1\n"
     ]
    },
    {
     "data": {
      "application/vnd.jupyter.widget-view+json": {
       "model_id": "0233d13eed834919b7fc98d8de91af64",
       "version_major": 2,
       "version_minor": 0
      },
      "text/plain": [
       "  0%|          | 1/1000000 [00:00<?, ?it/s]"
      ]
     },
     "metadata": {},
     "output_type": "display_data"
    },
    {
     "name": "stdout",
     "output_type": "stream",
     "text": [
      "\n",
      "************ Summary ************\n",
      "\n",
      "Examples/sec (First included) 19515.65 ex/sec (total: 1000000 ex, 51.24 sec)\n",
      "Examples/sec (First only) 387.46 ex/sec (total: 1 ex, 0.00 sec)\n",
      "Examples/sec (First excluded) 19516.61 ex/sec (total: 999999 ex, 51.24 sec)\n"
     ]
    },
    {
     "data": {
      "application/vnd.jupyter.widget-view+json": {
       "model_id": "adbc521c989b4c0da2b4c5f1688552d2",
       "version_major": 2,
       "version_minor": 0
      },
      "text/plain": [
       "1it [00:00, ?it/s]"
      ]
     },
     "metadata": {},
     "output_type": "display_data"
    },
    {
     "name": "stdout",
     "output_type": "stream",
     "text": [
      "\n",
      "************ Summary ************\n",
      "\n",
      "Examples/sec (First included) 4576.59 ex/sec (total: 1000000 ex, 218.50 sec)\n",
      "Examples/sec (First only) 98.50 ex/sec (total: 1 ex, 0.01 sec)\n",
      "Examples/sec (First excluded) 4576.80 ex/sec (total: 999999 ex, 218.49 sec)\n"
     ]
    },
    {
     "data": {
      "application/vnd.jupyter.widget-view+json": {
       "model_id": "2ba574810b22411fa345ac7ebc71da14",
       "version_major": 2,
       "version_minor": 0
      },
      "text/plain": [
       "1it [00:00, ?it/s]"
      ]
     },
     "metadata": {},
     "output_type": "display_data"
    },
    {
     "name": "stdout",
     "output_type": "stream",
     "text": [
      "\n",
      "************ Summary ************\n",
      "\n",
      "Examples/sec (First included) 14001.43 ex/sec (total: 1000000 ex, 71.42 sec)\n",
      "Examples/sec (First only) 84.89 ex/sec (total: 1 ex, 0.01 sec)\n",
      "Examples/sec (First excluded) 14003.73 ex/sec (total: 999999 ex, 71.41 sec)\n",
      "batch_size = 10\n",
      "prefetch = None\n"
     ]
    },
    {
     "data": {
      "application/vnd.jupyter.widget-view+json": {
       "model_id": "8c555469ae914417a33c19eaa4ddac85",
       "version_major": 2,
       "version_minor": 0
      },
      "text/plain": [
       "  0%|          | 1/100000 [00:00<?, ?it/s]"
      ]
     },
     "metadata": {},
     "output_type": "display_data"
    },
    {
     "name": "stdout",
     "output_type": "stream",
     "text": [
      "\n",
      "************ Summary ************\n",
      "\n",
      "Examples/sec (First included) 181953.37 ex/sec (total: 1000000 ex, 5.50 sec)\n",
      "Examples/sec (First only) 4240.62 ex/sec (total: 10 ex, 0.00 sec)\n",
      "Examples/sec (First excluded) 182029.65 ex/sec (total: 999990 ex, 5.49 sec)\n"
     ]
    },
    {
     "data": {
      "application/vnd.jupyter.widget-view+json": {
       "model_id": "225abc957da94c2b83254e089c9647a1",
       "version_major": 2,
       "version_minor": 0
      },
      "text/plain": [
       "1it [00:00, ?it/s]"
      ]
     },
     "metadata": {},
     "output_type": "display_data"
    },
    {
     "name": "stdout",
     "output_type": "stream",
     "text": [
      "\n",
      "************ Summary ************\n",
      "\n",
      "Examples/sec (First included) 4827.53 ex/sec (total: 1000000 ex, 207.15 sec)\n",
      "Examples/sec (First only) 808.26 ex/sec (total: 10 ex, 0.01 sec)\n",
      "Examples/sec (First excluded) 4827.77 ex/sec (total: 999990 ex, 207.13 sec)\n"
     ]
    },
    {
     "data": {
      "application/vnd.jupyter.widget-view+json": {
       "model_id": "3f5be711ad28492bb09a4d5ac05c3240",
       "version_major": 2,
       "version_minor": 0
      },
      "text/plain": [
       "1it [00:00, ?it/s]"
      ]
     },
     "metadata": {},
     "output_type": "display_data"
    },
    {
     "name": "stdout",
     "output_type": "stream",
     "text": [
      "\n",
      "************ Summary ************\n",
      "\n",
      "Examples/sec (First included) 92253.20 ex/sec (total: 1000000 ex, 10.84 sec)\n",
      "Examples/sec (First only) 401.27 ex/sec (total: 10 ex, 0.02 sec)\n",
      "Examples/sec (First excluded) 92464.86 ex/sec (total: 999990 ex, 10.81 sec)\n",
      "prefetch = -1\n"
     ]
    },
    {
     "data": {
      "application/vnd.jupyter.widget-view+json": {
       "model_id": "d30df33c50904e3ba35337484aae0fac",
       "version_major": 2,
       "version_minor": 0
      },
      "text/plain": [
       "  0%|          | 1/100000 [00:00<?, ?it/s]"
      ]
     },
     "metadata": {},
     "output_type": "display_data"
    },
    {
     "name": "stdout",
     "output_type": "stream",
     "text": [
      "\n",
      "************ Summary ************\n",
      "\n",
      "Examples/sec (First included) 189929.55 ex/sec (total: 1000000 ex, 5.27 sec)\n",
      "Examples/sec (First only) 3817.97 ex/sec (total: 10 ex, 0.00 sec)\n",
      "Examples/sec (First excluded) 190022.18 ex/sec (total: 999990 ex, 5.26 sec)\n"
     ]
    },
    {
     "data": {
      "application/vnd.jupyter.widget-view+json": {
       "model_id": "3390ac41b9a248e885291623c3edac94",
       "version_major": 2,
       "version_minor": 0
      },
      "text/plain": [
       "1it [00:00, ?it/s]"
      ]
     },
     "metadata": {},
     "output_type": "display_data"
    },
    {
     "name": "stdout",
     "output_type": "stream",
     "text": [
      "\n",
      "************ Summary ************\n",
      "\n",
      "Examples/sec (First included) 4946.29 ex/sec (total: 1000000 ex, 202.17 sec)\n",
      "Examples/sec (First only) 745.23 ex/sec (total: 10 ex, 0.01 sec)\n",
      "Examples/sec (First excluded) 4946.57 ex/sec (total: 999990 ex, 202.16 sec)\n"
     ]
    },
    {
     "data": {
      "application/vnd.jupyter.widget-view+json": {
       "model_id": "4b1307626e58402dbbf556bee48d6b04",
       "version_major": 2,
       "version_minor": 0
      },
      "text/plain": [
       "1it [00:00, ?it/s]"
      ]
     },
     "metadata": {},
     "output_type": "display_data"
    },
    {
     "name": "stdout",
     "output_type": "stream",
     "text": [
      "\n",
      "************ Summary ************\n",
      "\n",
      "Examples/sec (First included) 123969.84 ex/sec (total: 1000000 ex, 8.07 sec)\n",
      "Examples/sec (First only) 414.73 ex/sec (total: 10 ex, 0.02 sec)\n",
      "Examples/sec (First excluded) 124340.27 ex/sec (total: 999990 ex, 8.04 sec)\n",
      "batch_size = 25\n",
      "prefetch = None\n"
     ]
    },
    {
     "data": {
      "application/vnd.jupyter.widget-view+json": {
       "model_id": "f9a358406a364cf1a08b171918c96d16",
       "version_major": 2,
       "version_minor": 0
      },
      "text/plain": [
       "  0%|          | 1/40000 [00:00<?, ?it/s]"
      ]
     },
     "metadata": {},
     "output_type": "display_data"
    },
    {
     "name": "stdout",
     "output_type": "stream",
     "text": [
      "\n",
      "************ Summary ************\n",
      "\n",
      "Examples/sec (First included) 385811.51 ex/sec (total: 1000000 ex, 2.59 sec)\n",
      "Examples/sec (First only) 10299.17 ex/sec (total: 25 ex, 0.00 sec)\n",
      "Examples/sec (First excluded) 386163.51 ex/sec (total: 999975 ex, 2.59 sec)\n"
     ]
    },
    {
     "data": {
      "application/vnd.jupyter.widget-view+json": {
       "model_id": "844c74e9ce974ac0b20362af38efadb5",
       "version_major": 2,
       "version_minor": 0
      },
      "text/plain": [
       "1it [00:00, ?it/s]"
      ]
     },
     "metadata": {},
     "output_type": "display_data"
    },
    {
     "name": "stdout",
     "output_type": "stream",
     "text": [
      "\n",
      "************ Summary ************\n",
      "\n",
      "Examples/sec (First included) 4972.09 ex/sec (total: 1000000 ex, 201.12 sec)\n",
      "Examples/sec (First only) 1715.17 ex/sec (total: 25 ex, 0.01 sec)\n",
      "Examples/sec (First excluded) 4972.32 ex/sec (total: 999975 ex, 201.11 sec)\n"
     ]
    },
    {
     "data": {
      "application/vnd.jupyter.widget-view+json": {
       "model_id": "1083fb3f56944169953c5a856957d6ae",
       "version_major": 2,
       "version_minor": 0
      },
      "text/plain": [
       "1it [00:00, ?it/s]"
      ]
     },
     "metadata": {},
     "output_type": "display_data"
    },
    {
     "name": "stdout",
     "output_type": "stream",
     "text": [
      "\n",
      "************ Summary ************\n",
      "\n",
      "Examples/sec (First included) 170608.17 ex/sec (total: 1000000 ex, 5.86 sec)\n",
      "Examples/sec (First only) 1083.39 ex/sec (total: 25 ex, 0.02 sec)\n",
      "Examples/sec (First excluded) 171278.21 ex/sec (total: 999975 ex, 5.84 sec)\n",
      "prefetch = -1\n"
     ]
    },
    {
     "data": {
      "application/vnd.jupyter.widget-view+json": {
       "model_id": "c6a7f83ff95f4f96a49f4ea897ce9275",
       "version_major": 2,
       "version_minor": 0
      },
      "text/plain": [
       "  0%|          | 1/40000 [00:00<?, ?it/s]"
      ]
     },
     "metadata": {},
     "output_type": "display_data"
    },
    {
     "name": "stdout",
     "output_type": "stream",
     "text": [
      "\n",
      "************ Summary ************\n",
      "\n",
      "Examples/sec (First included) 459102.20 ex/sec (total: 1000000 ex, 2.18 sec)\n",
      "Examples/sec (First only) 8599.51 ex/sec (total: 25 ex, 0.00 sec)\n",
      "Examples/sec (First excluded) 459704.28 ex/sec (total: 999975 ex, 2.18 sec)\n"
     ]
    },
    {
     "data": {
      "application/vnd.jupyter.widget-view+json": {
       "model_id": "12226845c4624c65b7c443d74afe04ba",
       "version_major": 2,
       "version_minor": 0
      },
      "text/plain": [
       "1it [00:00, ?it/s]"
      ]
     },
     "metadata": {},
     "output_type": "display_data"
    },
    {
     "name": "stdout",
     "output_type": "stream",
     "text": [
      "\n",
      "************ Summary ************\n",
      "\n",
      "Examples/sec (First included) 5036.02 ex/sec (total: 1000000 ex, 198.57 sec)\n",
      "Examples/sec (First only) 1759.81 ex/sec (total: 25 ex, 0.01 sec)\n",
      "Examples/sec (First excluded) 5036.25 ex/sec (total: 999975 ex, 198.56 sec)\n"
     ]
    },
    {
     "data": {
      "application/vnd.jupyter.widget-view+json": {
       "model_id": "8a46e3a7e848477a9d8f95daede64189",
       "version_major": 2,
       "version_minor": 0
      },
      "text/plain": [
       "1it [00:00, ?it/s]"
      ]
     },
     "metadata": {},
     "output_type": "display_data"
    },
    {
     "name": "stdout",
     "output_type": "stream",
     "text": [
      "\n",
      "************ Summary ************\n",
      "\n",
      "Examples/sec (First included) 288276.26 ex/sec (total: 1000000 ex, 3.47 sec)\n",
      "Examples/sec (First only) 989.30 ex/sec (total: 25 ex, 0.03 sec)\n",
      "Examples/sec (First excluded) 290384.46 ex/sec (total: 999975 ex, 3.44 sec)\n",
      "batch_size = 100\n",
      "prefetch = None\n"
     ]
    },
    {
     "data": {
      "application/vnd.jupyter.widget-view+json": {
       "model_id": "de522aac2a42485288788946f1b14d33",
       "version_major": 2,
       "version_minor": 0
      },
      "text/plain": [
       "  0%|          | 1/10000 [00:00<?, ?it/s]"
      ]
     },
     "metadata": {},
     "output_type": "display_data"
    },
    {
     "name": "stdout",
     "output_type": "stream",
     "text": [
      "\n",
      "************ Summary ************\n",
      "\n",
      "Examples/sec (First included) 998361.96 ex/sec (total: 1000000 ex, 1.00 sec)\n",
      "Examples/sec (First only) 39125.94 ex/sec (total: 100 ex, 0.00 sec)\n",
      "Examples/sec (First excluded) 1000815.87 ex/sec (total: 999900 ex, 1.00 sec)\n"
     ]
    },
    {
     "data": {
      "application/vnd.jupyter.widget-view+json": {
       "model_id": "df5f4ec48d144a96adb1ec3b2c8306a2",
       "version_major": 2,
       "version_minor": 0
      },
      "text/plain": [
       "1it [00:00, ?it/s]"
      ]
     },
     "metadata": {},
     "output_type": "display_data"
    },
    {
     "name": "stdout",
     "output_type": "stream",
     "text": [
      "\n",
      "************ Summary ************\n",
      "\n",
      "Examples/sec (First included) 5061.36 ex/sec (total: 1000000 ex, 197.58 sec)\n",
      "Examples/sec (First only) 3075.94 ex/sec (total: 100 ex, 0.03 sec)\n",
      "Examples/sec (First excluded) 5061.69 ex/sec (total: 999900 ex, 197.54 sec)\n"
     ]
    },
    {
     "data": {
      "application/vnd.jupyter.widget-view+json": {
       "model_id": "b5a18ed1c60245409832ee52691f6f95",
       "version_major": 2,
       "version_minor": 0
      },
      "text/plain": [
       "1it [00:00, ?it/s]"
      ]
     },
     "metadata": {},
     "output_type": "display_data"
    },
    {
     "name": "stdout",
     "output_type": "stream",
     "text": [
      "\n",
      "************ Summary ************\n",
      "\n",
      "Examples/sec (First included) 312957.95 ex/sec (total: 1000000 ex, 3.20 sec)\n",
      "Examples/sec (First only) 4028.85 ex/sec (total: 100 ex, 0.02 sec)\n",
      "Examples/sec (First excluded) 315376.47 ex/sec (total: 999900 ex, 3.17 sec)\n",
      "prefetch = -1\n"
     ]
    },
    {
     "data": {
      "application/vnd.jupyter.widget-view+json": {
       "model_id": "a6d618e4c60249b8a729805608c62c57",
       "version_major": 2,
       "version_minor": 0
      },
      "text/plain": [
       "  0%|          | 1/10000 [00:00<?, ?it/s]"
      ]
     },
     "metadata": {},
     "output_type": "display_data"
    },
    {
     "name": "stdout",
     "output_type": "stream",
     "text": [
      "\n",
      "************ Summary ************\n",
      "\n",
      "Examples/sec (First included) 1804806.01 ex/sec (total: 1000000 ex, 0.55 sec)\n",
      "Examples/sec (First only) 38003.34 ex/sec (total: 100 ex, 0.00 sec)\n",
      "Examples/sec (First excluded) 1813236.73 ex/sec (total: 999900 ex, 0.55 sec)\n"
     ]
    },
    {
     "data": {
      "application/vnd.jupyter.widget-view+json": {
       "model_id": "0c93b3dbcb98423ca961aa2147d87a38",
       "version_major": 2,
       "version_minor": 0
      },
      "text/plain": [
       "1it [00:00, ?it/s]"
      ]
     },
     "metadata": {},
     "output_type": "display_data"
    },
    {
     "name": "stdout",
     "output_type": "stream",
     "text": [
      "\n",
      "************ Summary ************\n",
      "\n",
      "Examples/sec (First included) 5082.78 ex/sec (total: 1000000 ex, 196.74 sec)\n",
      "Examples/sec (First only) 2993.41 ex/sec (total: 100 ex, 0.03 sec)\n",
      "Examples/sec (First excluded) 5083.13 ex/sec (total: 999900 ex, 196.71 sec)\n"
     ]
    },
    {
     "data": {
      "application/vnd.jupyter.widget-view+json": {
       "model_id": "6cb7423132214e6ab1309b269b593687",
       "version_major": 2,
       "version_minor": 0
      },
      "text/plain": [
       "1it [00:00, ?it/s]"
      ]
     },
     "metadata": {},
     "output_type": "display_data"
    },
    {
     "name": "stdout",
     "output_type": "stream",
     "text": [
      "\n",
      "************ Summary ************\n",
      "\n",
      "Examples/sec (First included) 413160.94 ex/sec (total: 1000000 ex, 2.42 sec)\n",
      "Examples/sec (First only) 3770.70 ex/sec (total: 100 ex, 0.03 sec)\n",
      "Examples/sec (First excluded) 417696.38 ex/sec (total: 999900 ex, 2.39 sec)\n",
      "batch_size = 250\n",
      "prefetch = None\n"
     ]
    },
    {
     "data": {
      "application/vnd.jupyter.widget-view+json": {
       "model_id": "1da5ba64a3bf44d897a7632e832a111d",
       "version_major": 2,
       "version_minor": 0
      },
      "text/plain": [
       "  0%|          | 1/4000 [00:00<?, ?it/s]"
      ]
     },
     "metadata": {},
     "output_type": "display_data"
    },
    {
     "name": "stdout",
     "output_type": "stream",
     "text": [
      "\n",
      "************ Summary ************\n",
      "\n",
      "Examples/sec (First included) 1390967.45 ex/sec (total: 1000000 ex, 0.72 sec)\n",
      "Examples/sec (First only) 94744.23 ex/sec (total: 250 ex, 0.00 sec)\n",
      "Examples/sec (First excluded) 1395742.54 ex/sec (total: 999750 ex, 0.72 sec)\n"
     ]
    },
    {
     "data": {
      "application/vnd.jupyter.widget-view+json": {
       "model_id": "5829c18cfbb545aab38864e1ab18ebba",
       "version_major": 2,
       "version_minor": 0
      },
      "text/plain": [
       "1it [00:00, ?it/s]"
      ]
     },
     "metadata": {},
     "output_type": "display_data"
    },
    {
     "name": "stdout",
     "output_type": "stream",
     "text": [
      "\n",
      "************ Summary ************\n",
      "\n",
      "Examples/sec (First included) 5078.49 ex/sec (total: 1000000 ex, 196.91 sec)\n",
      "Examples/sec (First only) 4660.50 ex/sec (total: 250 ex, 0.05 sec)\n",
      "Examples/sec (First excluded) 5078.61 ex/sec (total: 999750 ex, 196.86 sec)\n"
     ]
    },
    {
     "data": {
      "application/vnd.jupyter.widget-view+json": {
       "model_id": "23c4c2e9cb854e0b8844862392df206a",
       "version_major": 2,
       "version_minor": 0
      },
      "text/plain": [
       "1it [00:00, ?it/s]"
      ]
     },
     "metadata": {},
     "output_type": "display_data"
    },
    {
     "name": "stdout",
     "output_type": "stream",
     "text": [
      "\n",
      "************ Summary ************\n",
      "\n",
      "Examples/sec (First included) 369180.11 ex/sec (total: 1000000 ex, 2.71 sec)\n",
      "Examples/sec (First only) 7464.76 ex/sec (total: 250 ex, 0.03 sec)\n",
      "Examples/sec (First excluded) 373708.38 ex/sec (total: 999750 ex, 2.68 sec)\n",
      "prefetch = -1\n"
     ]
    },
    {
     "data": {
      "application/vnd.jupyter.widget-view+json": {
       "model_id": "9f6af9c1daa74b71b3d9c2ad275d0bea",
       "version_major": 2,
       "version_minor": 0
      },
      "text/plain": [
       "  0%|          | 1/4000 [00:00<?, ?it/s]"
      ]
     },
     "metadata": {},
     "output_type": "display_data"
    },
    {
     "name": "stdout",
     "output_type": "stream",
     "text": [
      "\n",
      "************ Summary ************\n",
      "\n",
      "Examples/sec (First included) 1901962.35 ex/sec (total: 1000000 ex, 0.53 sec)\n",
      "Examples/sec (First only) 92993.50 ex/sec (total: 250 ex, 0.00 sec)\n",
      "Examples/sec (First excluded) 1911259.43 ex/sec (total: 999750 ex, 0.52 sec)\n"
     ]
    },
    {
     "data": {
      "application/vnd.jupyter.widget-view+json": {
       "model_id": "cee91d11fb2245b198a53a985338a942",
       "version_major": 2,
       "version_minor": 0
      },
      "text/plain": [
       "1it [00:00, ?it/s]"
      ]
     },
     "metadata": {},
     "output_type": "display_data"
    },
    {
     "name": "stdout",
     "output_type": "stream",
     "text": [
      "\n",
      "************ Summary ************\n",
      "\n",
      "Examples/sec (First included) 5097.47 ex/sec (total: 1000000 ex, 196.18 sec)\n",
      "Examples/sec (First only) 4297.08 ex/sec (total: 250 ex, 0.06 sec)\n",
      "Examples/sec (First excluded) 5097.71 ex/sec (total: 999750 ex, 196.12 sec)\n"
     ]
    },
    {
     "data": {
      "application/vnd.jupyter.widget-view+json": {
       "model_id": "8d2ec67ad3104f23ab0acf7cc63a7b86",
       "version_major": 2,
       "version_minor": 0
      },
      "text/plain": [
       "1it [00:00, ?it/s]"
      ]
     },
     "metadata": {},
     "output_type": "display_data"
    },
    {
     "name": "stdout",
     "output_type": "stream",
     "text": [
      "\n",
      "************ Summary ************\n",
      "\n",
      "Examples/sec (First included) 432556.10 ex/sec (total: 1000000 ex, 2.31 sec)\n",
      "Examples/sec (First only) 9938.98 ex/sec (total: 250 ex, 0.03 sec)\n",
      "Examples/sec (First excluded) 437204.88 ex/sec (total: 999750 ex, 2.29 sec)\n",
      "size = 1000\n",
      "batch_size = None\n",
      "prefetch = None\n"
     ]
    },
    {
     "data": {
      "application/vnd.jupyter.widget-view+json": {
       "model_id": "465250f6be124368aa50ed6b580edf76",
       "version_major": 2,
       "version_minor": 0
      },
      "text/plain": [
       "  0%|          | 1/1000 [00:00<?, ?it/s]"
      ]
     },
     "metadata": {},
     "output_type": "display_data"
    },
    {
     "name": "stdout",
     "output_type": "stream",
     "text": [
      "\n",
      "************ Summary ************\n",
      "\n",
      "Examples/sec (First included) 13322.53 ex/sec (total: 1000 ex, 0.08 sec)\n",
      "Examples/sec (First only) 408.29 ex/sec (total: 1 ex, 0.00 sec)\n",
      "Examples/sec (First excluded) 13758.14 ex/sec (total: 999 ex, 0.07 sec)\n"
     ]
    },
    {
     "data": {
      "application/vnd.jupyter.widget-view+json": {
       "model_id": "2369ff2d13404d248d60641e75005b3d",
       "version_major": 2,
       "version_minor": 0
      },
      "text/plain": [
       "1it [00:00, ?it/s]"
      ]
     },
     "metadata": {},
     "output_type": "display_data"
    },
    {
     "name": "stdout",
     "output_type": "stream",
     "text": [
      "\n",
      "************ Summary ************\n",
      "\n",
      "Examples/sec (First included) 3182.40 ex/sec (total: 1000 ex, 0.31 sec)\n",
      "Examples/sec (First only) 101.70 ex/sec (total: 1 ex, 0.01 sec)\n",
      "Examples/sec (First excluded) 3281.91 ex/sec (total: 999 ex, 0.30 sec)\n"
     ]
    },
    {
     "data": {
      "application/vnd.jupyter.widget-view+json": {
       "model_id": "13cbfae4104e4a4aa8b70b7002a52210",
       "version_major": 2,
       "version_minor": 0
      },
      "text/plain": [
       "1it [00:00, ?it/s]"
      ]
     },
     "metadata": {},
     "output_type": "display_data"
    },
    {
     "name": "stdout",
     "output_type": "stream",
     "text": [
      "\n",
      "************ Summary ************\n",
      "\n",
      "Examples/sec (First included) 8596.83 ex/sec (total: 1000 ex, 0.12 sec)\n",
      "Examples/sec (First only) 87.12 ex/sec (total: 1 ex, 0.01 sec)\n",
      "Examples/sec (First excluded) 9528.47 ex/sec (total: 999 ex, 0.10 sec)\n",
      "prefetch = -1\n"
     ]
    },
    {
     "data": {
      "application/vnd.jupyter.widget-view+json": {
       "model_id": "409d07bdd84e4e59850176e50a6fb66e",
       "version_major": 2,
       "version_minor": 0
      },
      "text/plain": [
       "  0%|          | 1/1000 [00:00<?, ?it/s]"
      ]
     },
     "metadata": {},
     "output_type": "display_data"
    },
    {
     "name": "stdout",
     "output_type": "stream",
     "text": [
      "\n",
      "************ Summary ************\n",
      "\n",
      "Examples/sec (First included) 12651.54 ex/sec (total: 1000 ex, 0.08 sec)\n",
      "Examples/sec (First only) 454.26 ex/sec (total: 1 ex, 0.00 sec)\n",
      "Examples/sec (First excluded) 13000.98 ex/sec (total: 999 ex, 0.08 sec)\n"
     ]
    },
    {
     "data": {
      "application/vnd.jupyter.widget-view+json": {
       "model_id": "bdcae66b3b7d49299756fc40b4db4ded",
       "version_major": 2,
       "version_minor": 0
      },
      "text/plain": [
       "1it [00:00, ?it/s]"
      ]
     },
     "metadata": {},
     "output_type": "display_data"
    },
    {
     "name": "stdout",
     "output_type": "stream",
     "text": [
      "\n",
      "************ Summary ************\n",
      "\n",
      "Examples/sec (First included) 4019.05 ex/sec (total: 1000 ex, 0.25 sec)\n",
      "Examples/sec (First only) 100.28 ex/sec (total: 1 ex, 0.01 sec)\n",
      "Examples/sec (First excluded) 4182.67 ex/sec (total: 999 ex, 0.24 sec)\n"
     ]
    },
    {
     "data": {
      "application/vnd.jupyter.widget-view+json": {
       "model_id": "54577ea92a054bef9308c2f26cfb91c0",
       "version_major": 2,
       "version_minor": 0
      },
      "text/plain": [
       "1it [00:00, ?it/s]"
      ]
     },
     "metadata": {},
     "output_type": "display_data"
    },
    {
     "name": "stdout",
     "output_type": "stream",
     "text": [
      "\n",
      "************ Summary ************\n",
      "\n",
      "Examples/sec (First included) 8802.40 ex/sec (total: 1000 ex, 0.11 sec)\n",
      "Examples/sec (First only) 92.49 ex/sec (total: 1 ex, 0.01 sec)\n",
      "Examples/sec (First excluded) 9718.51 ex/sec (total: 999 ex, 0.10 sec)\n",
      "batch_size = 10\n",
      "prefetch = None\n"
     ]
    },
    {
     "data": {
      "application/vnd.jupyter.widget-view+json": {
       "model_id": "2cb1ee5305fd412f9ee0e9b696403f06",
       "version_major": 2,
       "version_minor": 0
      },
      "text/plain": [
       "  1%|1         | 1/100 [00:00<?, ?it/s]"
      ]
     },
     "metadata": {},
     "output_type": "display_data"
    },
    {
     "name": "stdout",
     "output_type": "stream",
     "text": [
      "\n",
      "************ Summary ************\n",
      "\n",
      "Examples/sec (First included) 33520.43 ex/sec (total: 1000 ex, 0.03 sec)\n",
      "Examples/sec (First only) 4443.93 ex/sec (total: 10 ex, 0.00 sec)\n",
      "Examples/sec (First excluded) 35892.59 ex/sec (total: 990 ex, 0.03 sec)\n"
     ]
    },
    {
     "data": {
      "application/vnd.jupyter.widget-view+json": {
       "model_id": "becda1aebbd3476fb97e5a7f7d9ff00d",
       "version_major": 2,
       "version_minor": 0
      },
      "text/plain": [
       "1it [00:00, ?it/s]"
      ]
     },
     "metadata": {},
     "output_type": "display_data"
    },
    {
     "name": "stdout",
     "output_type": "stream",
     "text": [
      "\n",
      "************ Summary ************\n",
      "\n",
      "Examples/sec (First included) 4151.95 ex/sec (total: 1000 ex, 0.24 sec)\n",
      "Examples/sec (First only) 799.49 ex/sec (total: 10 ex, 0.01 sec)\n",
      "Examples/sec (First excluded) 4335.59 ex/sec (total: 990 ex, 0.23 sec)\n"
     ]
    },
    {
     "data": {
      "application/vnd.jupyter.widget-view+json": {
       "model_id": "4bcf7c79dfec4c818a4b7ac6d75eb9df",
       "version_major": 2,
       "version_minor": 0
      },
      "text/plain": [
       "1it [00:00, ?it/s]"
      ]
     },
     "metadata": {},
     "output_type": "display_data"
    },
    {
     "name": "stdout",
     "output_type": "stream",
     "text": [
      "\n",
      "************ Summary ************\n",
      "\n",
      "Examples/sec (First included) 18332.18 ex/sec (total: 1000 ex, 0.05 sec)\n",
      "Examples/sec (First only) 494.79 ex/sec (total: 10 ex, 0.02 sec)\n",
      "Examples/sec (First excluded) 28830.66 ex/sec (total: 990 ex, 0.03 sec)\n",
      "prefetch = -1\n"
     ]
    },
    {
     "data": {
      "application/vnd.jupyter.widget-view+json": {
       "model_id": "c57efb1d010c4f479e72fe70015590c2",
       "version_major": 2,
       "version_minor": 0
      },
      "text/plain": [
       "  1%|1         | 1/100 [00:00<?, ?it/s]"
      ]
     },
     "metadata": {},
     "output_type": "display_data"
    },
    {
     "name": "stdout",
     "output_type": "stream",
     "text": [
      "\n",
      "************ Summary ************\n",
      "\n",
      "Examples/sec (First included) 32882.00 ex/sec (total: 1000 ex, 0.03 sec)\n",
      "Examples/sec (First only) 3732.40 ex/sec (total: 10 ex, 0.00 sec)\n",
      "Examples/sec (First excluded) 35698.14 ex/sec (total: 990 ex, 0.03 sec)\n"
     ]
    },
    {
     "data": {
      "application/vnd.jupyter.widget-view+json": {
       "model_id": "baeba75c896f4a1d846fbee0747cc5f6",
       "version_major": 2,
       "version_minor": 0
      },
      "text/plain": [
       "1it [00:00, ?it/s]"
      ]
     },
     "metadata": {},
     "output_type": "display_data"
    },
    {
     "name": "stdout",
     "output_type": "stream",
     "text": [
      "\n",
      "************ Summary ************\n",
      "\n",
      "Examples/sec (First included) 4342.29 ex/sec (total: 1000 ex, 0.23 sec)\n",
      "Examples/sec (First only) 766.50 ex/sec (total: 10 ex, 0.01 sec)\n",
      "Examples/sec (First excluded) 4557.03 ex/sec (total: 990 ex, 0.22 sec)\n"
     ]
    },
    {
     "data": {
      "application/vnd.jupyter.widget-view+json": {
       "model_id": "d44b83c15268487c86b80a637bc4cfdf",
       "version_major": 2,
       "version_minor": 0
      },
      "text/plain": [
       "1it [00:00, ?it/s]"
      ]
     },
     "metadata": {},
     "output_type": "display_data"
    },
    {
     "name": "stdout",
     "output_type": "stream",
     "text": [
      "\n",
      "************ Summary ************\n",
      "\n",
      "Examples/sec (First included) 19981.29 ex/sec (total: 1000 ex, 0.05 sec)\n",
      "Examples/sec (First only) 500.33 ex/sec (total: 10 ex, 0.02 sec)\n",
      "Examples/sec (First excluded) 32934.30 ex/sec (total: 990 ex, 0.03 sec)\n",
      "batch_size = 25\n",
      "prefetch = None\n"
     ]
    },
    {
     "data": {
      "application/vnd.jupyter.widget-view+json": {
       "model_id": "210342164b004ce292bd96c79a2836f5",
       "version_major": 2,
       "version_minor": 0
      },
      "text/plain": [
       "  2%|2         | 1/40 [00:00<?, ?it/s]"
      ]
     },
     "metadata": {},
     "output_type": "display_data"
    },
    {
     "name": "stdout",
     "output_type": "stream",
     "text": [
      "\n",
      "************ Summary ************\n",
      "\n",
      "Examples/sec (First included) 37052.18 ex/sec (total: 1000 ex, 0.03 sec)\n",
      "Examples/sec (First only) 5807.10 ex/sec (total: 25 ex, 0.00 sec)\n",
      "Examples/sec (First excluded) 42982.05 ex/sec (total: 975 ex, 0.02 sec)\n"
     ]
    },
    {
     "data": {
      "application/vnd.jupyter.widget-view+json": {
       "model_id": "a60a349c849145478f84658748ca6117",
       "version_major": 2,
       "version_minor": 0
      },
      "text/plain": [
       "1it [00:00, ?it/s]"
      ]
     },
     "metadata": {},
     "output_type": "display_data"
    },
    {
     "name": "stdout",
     "output_type": "stream",
     "text": [
      "\n",
      "************ Summary ************\n",
      "\n",
      "Examples/sec (First included) 4064.72 ex/sec (total: 1000 ex, 0.25 sec)\n",
      "Examples/sec (First only) 1579.60 ex/sec (total: 25 ex, 0.02 sec)\n",
      "Examples/sec (First excluded) 4235.59 ex/sec (total: 975 ex, 0.23 sec)\n"
     ]
    },
    {
     "data": {
      "application/vnd.jupyter.widget-view+json": {
       "model_id": "4d385f30e093484f80cfa8e7e045191b",
       "version_major": 2,
       "version_minor": 0
      },
      "text/plain": [
       "1it [00:00, ?it/s]"
      ]
     },
     "metadata": {},
     "output_type": "display_data"
    },
    {
     "name": "stdout",
     "output_type": "stream",
     "text": [
      "\n",
      "************ Summary ************\n",
      "\n",
      "Examples/sec (First included) 21352.32 ex/sec (total: 1000 ex, 0.05 sec)\n",
      "Examples/sec (First only) 1312.71 ex/sec (total: 25 ex, 0.02 sec)\n",
      "Examples/sec (First excluded) 35086.06 ex/sec (total: 975 ex, 0.03 sec)\n",
      "prefetch = -1\n"
     ]
    },
    {
     "data": {
      "application/vnd.jupyter.widget-view+json": {
       "model_id": "48f6786d3d944140b31857589975b7a9",
       "version_major": 2,
       "version_minor": 0
      },
      "text/plain": [
       "  2%|2         | 1/40 [00:00<?, ?it/s]"
      ]
     },
     "metadata": {},
     "output_type": "display_data"
    },
    {
     "name": "stdout",
     "output_type": "stream",
     "text": [
      "\n",
      "************ Summary ************\n",
      "\n",
      "Examples/sec (First included) 37170.57 ex/sec (total: 1000 ex, 0.03 sec)\n",
      "Examples/sec (First only) 5655.51 ex/sec (total: 25 ex, 0.00 sec)\n",
      "Examples/sec (First excluded) 43367.00 ex/sec (total: 975 ex, 0.02 sec)\n"
     ]
    },
    {
     "data": {
      "application/vnd.jupyter.widget-view+json": {
       "model_id": "a357bc3d8cfb4968a46ff2b074c46b12",
       "version_major": 2,
       "version_minor": 0
      },
      "text/plain": [
       "1it [00:00, ?it/s]"
      ]
     },
     "metadata": {},
     "output_type": "display_data"
    },
    {
     "name": "stdout",
     "output_type": "stream",
     "text": [
      "\n",
      "************ Summary ************\n",
      "\n",
      "Examples/sec (First included) 4237.58 ex/sec (total: 1000 ex, 0.24 sec)\n",
      "Examples/sec (First only) 1515.92 ex/sec (total: 25 ex, 0.02 sec)\n",
      "Examples/sec (First excluded) 4442.08 ex/sec (total: 975 ex, 0.22 sec)\n"
     ]
    },
    {
     "data": {
      "application/vnd.jupyter.widget-view+json": {
       "model_id": "0938974489564d4ca94b749a41fe8ff8",
       "version_major": 2,
       "version_minor": 0
      },
      "text/plain": [
       "1it [00:00, ?it/s]"
      ]
     },
     "metadata": {},
     "output_type": "display_data"
    },
    {
     "name": "stdout",
     "output_type": "stream",
     "text": [
      "\n",
      "************ Summary ************\n",
      "\n",
      "Examples/sec (First included) 21557.89 ex/sec (total: 1000 ex, 0.05 sec)\n",
      "Examples/sec (First only) 1229.67 ex/sec (total: 25 ex, 0.02 sec)\n",
      "Examples/sec (First excluded) 37419.32 ex/sec (total: 975 ex, 0.03 sec)\n",
      "batch_size = 100\n",
      "prefetch = None\n"
     ]
    },
    {
     "data": {
      "application/vnd.jupyter.widget-view+json": {
       "model_id": "2a468dfe9f4f4d08abdf36420867f487",
       "version_major": 2,
       "version_minor": 0
      },
      "text/plain": [
       " 10%|#         | 1/10 [00:00<?, ?it/s]"
      ]
     },
     "metadata": {},
     "output_type": "display_data"
    },
    {
     "name": "stdout",
     "output_type": "stream",
     "text": [
      "\n",
      "************ Summary ************\n",
      "\n",
      "Examples/sec (First included) 39478.75 ex/sec (total: 1000 ex, 0.03 sec)\n",
      "Examples/sec (First only) 22347.01 ex/sec (total: 100 ex, 0.00 sec)\n",
      "Examples/sec (First excluded) 43154.68 ex/sec (total: 900 ex, 0.02 sec)\n"
     ]
    },
    {
     "data": {
      "application/vnd.jupyter.widget-view+json": {
       "model_id": "fa7acdf3015746faad064922ed74c7bb",
       "version_major": 2,
       "version_minor": 0
      },
      "text/plain": [
       "1it [00:00, ?it/s]"
      ]
     },
     "metadata": {},
     "output_type": "display_data"
    },
    {
     "name": "stdout",
     "output_type": "stream",
     "text": [
      "\n",
      "************ Summary ************\n",
      "\n",
      "Examples/sec (First included) 4486.37 ex/sec (total: 1000 ex, 0.22 sec)\n",
      "Examples/sec (First only) 3288.00 ex/sec (total: 100 ex, 0.03 sec)\n",
      "Examples/sec (First excluded) 4675.72 ex/sec (total: 900 ex, 0.19 sec)\n"
     ]
    },
    {
     "data": {
      "application/vnd.jupyter.widget-view+json": {
       "model_id": "a550e9af3c4a462b946c66ee032d9535",
       "version_major": 2,
       "version_minor": 0
      },
      "text/plain": [
       "1it [00:00, ?it/s]"
      ]
     },
     "metadata": {},
     "output_type": "display_data"
    },
    {
     "name": "stdout",
     "output_type": "stream",
     "text": [
      "\n",
      "************ Summary ************\n",
      "\n",
      "Examples/sec (First included) 22421.30 ex/sec (total: 1000 ex, 0.04 sec)\n",
      "Examples/sec (First only) 5055.77 ex/sec (total: 100 ex, 0.02 sec)\n",
      "Examples/sec (First excluded) 36259.50 ex/sec (total: 900 ex, 0.02 sec)\n",
      "prefetch = -1\n"
     ]
    },
    {
     "data": {
      "application/vnd.jupyter.widget-view+json": {
       "model_id": "1091e792378f4863ab8b39d75cd24219",
       "version_major": 2,
       "version_minor": 0
      },
      "text/plain": [
       " 10%|#         | 1/10 [00:00<?, ?it/s]"
      ]
     },
     "metadata": {},
     "output_type": "display_data"
    },
    {
     "name": "stdout",
     "output_type": "stream",
     "text": [
      "\n",
      "************ Summary ************\n",
      "\n",
      "Examples/sec (First included) 36162.15 ex/sec (total: 1000 ex, 0.03 sec)\n",
      "Examples/sec (First only) 40599.23 ex/sec (total: 100 ex, 0.00 sec)\n",
      "Examples/sec (First excluded) 35728.29 ex/sec (total: 900 ex, 0.03 sec)\n"
     ]
    },
    {
     "data": {
      "application/vnd.jupyter.widget-view+json": {
       "model_id": "97643351866245ebaf162aa485985c5a",
       "version_major": 2,
       "version_minor": 0
      },
      "text/plain": [
       "1it [00:00, ?it/s]"
      ]
     },
     "metadata": {},
     "output_type": "display_data"
    },
    {
     "name": "stdout",
     "output_type": "stream",
     "text": [
      "\n",
      "************ Summary ************\n",
      "\n",
      "Examples/sec (First included) 4338.46 ex/sec (total: 1000 ex, 0.23 sec)\n",
      "Examples/sec (First only) 3011.13 ex/sec (total: 100 ex, 0.03 sec)\n",
      "Examples/sec (First excluded) 4561.90 ex/sec (total: 900 ex, 0.20 sec)\n"
     ]
    },
    {
     "data": {
      "application/vnd.jupyter.widget-view+json": {
       "model_id": "7236c658d33346ac9099c53c83b5741f",
       "version_major": 2,
       "version_minor": 0
      },
      "text/plain": [
       "1it [00:00, ?it/s]"
      ]
     },
     "metadata": {},
     "output_type": "display_data"
    },
    {
     "name": "stdout",
     "output_type": "stream",
     "text": [
      "\n",
      "************ Summary ************\n",
      "\n",
      "Examples/sec (First included) 21985.62 ex/sec (total: 1000 ex, 0.05 sec)\n",
      "Examples/sec (First only) 4645.65 ex/sec (total: 100 ex, 0.02 sec)\n",
      "Examples/sec (First excluded) 37564.57 ex/sec (total: 900 ex, 0.02 sec)\n",
      "batch_size = 250\n",
      "prefetch = None\n"
     ]
    },
    {
     "data": {
      "application/vnd.jupyter.widget-view+json": {
       "model_id": "25dbb5e772944a2ebb03848b8e6b0c3e",
       "version_major": 2,
       "version_minor": 0
      },
      "text/plain": [
       " 25%|##5       | 1/4 [00:00<?, ?it/s]"
      ]
     },
     "metadata": {},
     "output_type": "display_data"
    },
    {
     "name": "stdout",
     "output_type": "stream",
     "text": [
      "\n",
      "************ Summary ************\n",
      "\n",
      "Examples/sec (First included) 39544.08 ex/sec (total: 1000 ex, 0.03 sec)\n",
      "Examples/sec (First only) 101751.76 ex/sec (total: 250 ex, 0.00 sec)\n",
      "Examples/sec (First excluded) 32849.68 ex/sec (total: 750 ex, 0.02 sec)\n"
     ]
    },
    {
     "data": {
      "application/vnd.jupyter.widget-view+json": {
       "model_id": "904e8c68ccc845c6966116f0b5a5a2cc",
       "version_major": 2,
       "version_minor": 0
      },
      "text/plain": [
       "1it [00:00, ?it/s]"
      ]
     },
     "metadata": {},
     "output_type": "display_data"
    },
    {
     "name": "stdout",
     "output_type": "stream",
     "text": [
      "\n",
      "************ Summary ************\n",
      "\n",
      "Examples/sec (First included) 4726.18 ex/sec (total: 1000 ex, 0.21 sec)\n",
      "Examples/sec (First only) 4342.32 ex/sec (total: 250 ex, 0.06 sec)\n",
      "Examples/sec (First excluded) 4869.68 ex/sec (total: 750 ex, 0.15 sec)\n"
     ]
    },
    {
     "data": {
      "application/vnd.jupyter.widget-view+json": {
       "model_id": "a409f21799ec4a848493428f3e5905b6",
       "version_major": 2,
       "version_minor": 0
      },
      "text/plain": [
       "1it [00:00, ?it/s]"
      ]
     },
     "metadata": {},
     "output_type": "display_data"
    },
    {
     "name": "stdout",
     "output_type": "stream",
     "text": [
      "\n",
      "************ Summary ************\n",
      "\n",
      "Examples/sec (First included) 22656.90 ex/sec (total: 1000 ex, 0.04 sec)\n",
      "Examples/sec (First only) 12989.65 ex/sec (total: 250 ex, 0.02 sec)\n",
      "Examples/sec (First excluded) 30131.89 ex/sec (total: 750 ex, 0.02 sec)\n",
      "prefetch = -1\n"
     ]
    },
    {
     "data": {
      "application/vnd.jupyter.widget-view+json": {
       "model_id": "060d260555fc4679a9bf9b394a7fdc3b",
       "version_major": 2,
       "version_minor": 0
      },
      "text/plain": [
       " 25%|##5       | 1/4 [00:00<?, ?it/s]"
      ]
     },
     "metadata": {},
     "output_type": "display_data"
    },
    {
     "name": "stdout",
     "output_type": "stream",
     "text": [
      "\n",
      "************ Summary ************\n",
      "\n",
      "Examples/sec (First included) 40459.09 ex/sec (total: 1000 ex, 0.02 sec)\n",
      "Examples/sec (First only) 57326.28 ex/sec (total: 250 ex, 0.00 sec)\n",
      "Examples/sec (First excluded) 36845.40 ex/sec (total: 750 ex, 0.02 sec)\n"
     ]
    },
    {
     "data": {
      "application/vnd.jupyter.widget-view+json": {
       "model_id": "190d96cfd0f24b3e8a4cc4ca44060b45",
       "version_major": 2,
       "version_minor": 0
      },
      "text/plain": [
       "1it [00:00, ?it/s]"
      ]
     },
     "metadata": {},
     "output_type": "display_data"
    },
    {
     "name": "stdout",
     "output_type": "stream",
     "text": [
      "\n",
      "************ Summary ************\n",
      "\n",
      "Examples/sec (First included) 4535.79 ex/sec (total: 1000 ex, 0.22 sec)\n",
      "Examples/sec (First only) 4063.32 ex/sec (total: 250 ex, 0.06 sec)\n",
      "Examples/sec (First excluded) 4718.68 ex/sec (total: 750 ex, 0.16 sec)\n"
     ]
    },
    {
     "data": {
      "application/vnd.jupyter.widget-view+json": {
       "model_id": "ec8fdc82606e432bb0b8945839026b99",
       "version_major": 2,
       "version_minor": 0
      },
      "text/plain": [
       "1it [00:00, ?it/s]"
      ]
     },
     "metadata": {},
     "output_type": "display_data"
    },
    {
     "name": "stdout",
     "output_type": "stream",
     "text": [
      "\n",
      "************ Summary ************\n",
      "\n",
      "Examples/sec (First included) 22400.89 ex/sec (total: 1000 ex, 0.04 sec)\n",
      "Examples/sec (First only) 12499.03 ex/sec (total: 250 ex, 0.02 sec)\n",
      "Examples/sec (First excluded) 30438.89 ex/sec (total: 750 ex, 0.02 sec)\n",
      "size = 10000\n",
      "batch_size = None\n",
      "prefetch = None\n"
     ]
    },
    {
     "data": {
      "application/vnd.jupyter.widget-view+json": {
       "model_id": "aa2e1ef489b84d758c56209e93346bc7",
       "version_major": 2,
       "version_minor": 0
      },
      "text/plain": [
       "  0%|          | 1/10000 [00:00<?, ?it/s]"
      ]
     },
     "metadata": {},
     "output_type": "display_data"
    },
    {
     "name": "stdout",
     "output_type": "stream",
     "text": [
      "\n",
      "************ Summary ************\n",
      "\n",
      "Examples/sec (First included) 20388.23 ex/sec (total: 10000 ex, 0.49 sec)\n",
      "Examples/sec (First only) 498.57 ex/sec (total: 1 ex, 0.00 sec)\n",
      "Examples/sec (First excluded) 20469.90 ex/sec (total: 9999 ex, 0.49 sec)\n"
     ]
    },
    {
     "data": {
      "application/vnd.jupyter.widget-view+json": {
       "model_id": "4be56c2e8a0649dbacf6d05e7803686f",
       "version_major": 2,
       "version_minor": 0
      },
      "text/plain": [
       "1it [00:00, ?it/s]"
      ]
     },
     "metadata": {},
     "output_type": "display_data"
    },
    {
     "name": "stdout",
     "output_type": "stream",
     "text": [
      "\n",
      "************ Summary ************\n",
      "\n",
      "Examples/sec (First included) 3324.84 ex/sec (total: 10000 ex, 3.01 sec)\n",
      "Examples/sec (First only) 100.76 ex/sec (total: 1 ex, 0.01 sec)\n",
      "Examples/sec (First excluded) 3335.51 ex/sec (total: 9999 ex, 3.00 sec)\n"
     ]
    },
    {
     "data": {
      "application/vnd.jupyter.widget-view+json": {
       "model_id": "aac73cfc6d4a48a4a3fad0674cd8550d",
       "version_major": 2,
       "version_minor": 0
      },
      "text/plain": [
       "1it [00:00, ?it/s]"
      ]
     },
     "metadata": {},
     "output_type": "display_data"
    },
    {
     "name": "stdout",
     "output_type": "stream",
     "text": [
      "\n",
      "************ Summary ************\n",
      "\n",
      "Examples/sec (First included) 13160.88 ex/sec (total: 10000 ex, 0.76 sec)\n",
      "Examples/sec (First only) 91.73 ex/sec (total: 1 ex, 0.01 sec)\n",
      "Examples/sec (First excluded) 13351.11 ex/sec (total: 9999 ex, 0.75 sec)\n",
      "prefetch = -1\n"
     ]
    },
    {
     "data": {
      "application/vnd.jupyter.widget-view+json": {
       "model_id": "2d39610ba35e46c2935e9e81f0cb2aa0",
       "version_major": 2,
       "version_minor": 0
      },
      "text/plain": [
       "  0%|          | 1/10000 [00:00<?, ?it/s]"
      ]
     },
     "metadata": {},
     "output_type": "display_data"
    },
    {
     "name": "stdout",
     "output_type": "stream",
     "text": [
      "\n",
      "************ Summary ************\n",
      "\n",
      "Examples/sec (First included) 19163.30 ex/sec (total: 10000 ex, 0.52 sec)\n",
      "Examples/sec (First only) 452.20 ex/sec (total: 1 ex, 0.00 sec)\n",
      "Examples/sec (First excluded) 19242.93 ex/sec (total: 9999 ex, 0.52 sec)\n"
     ]
    },
    {
     "data": {
      "application/vnd.jupyter.widget-view+json": {
       "model_id": "2060f0316f1a4671b96e6f00487f3997",
       "version_major": 2,
       "version_minor": 0
      },
      "text/plain": [
       "1it [00:00, ?it/s]"
      ]
     },
     "metadata": {},
     "output_type": "display_data"
    },
    {
     "name": "stdout",
     "output_type": "stream",
     "text": [
      "\n",
      "************ Summary ************\n",
      "\n",
      "Examples/sec (First included) 4620.28 ex/sec (total: 10000 ex, 2.16 sec)\n",
      "Examples/sec (First only) 98.17 ex/sec (total: 1 ex, 0.01 sec)\n",
      "Examples/sec (First excluded) 4641.66 ex/sec (total: 9999 ex, 2.15 sec)\n"
     ]
    },
    {
     "data": {
      "application/vnd.jupyter.widget-view+json": {
       "model_id": "6f44304bd0574177b8cdc3de8138c1df",
       "version_major": 2,
       "version_minor": 0
      },
      "text/plain": [
       "1it [00:00, ?it/s]"
      ]
     },
     "metadata": {},
     "output_type": "display_data"
    },
    {
     "name": "stdout",
     "output_type": "stream",
     "text": [
      "\n",
      "************ Summary ************\n",
      "\n",
      "Examples/sec (First included) 13348.33 ex/sec (total: 10000 ex, 0.75 sec)\n",
      "Examples/sec (First only) 90.41 ex/sec (total: 1 ex, 0.01 sec)\n",
      "Examples/sec (First excluded) 13547.02 ex/sec (total: 9999 ex, 0.74 sec)\n",
      "batch_size = 10\n",
      "prefetch = None\n"
     ]
    },
    {
     "data": {
      "application/vnd.jupyter.widget-view+json": {
       "model_id": "6a10cc2c99ba49418d4ca654f84b7282",
       "version_major": 2,
       "version_minor": 0
      },
      "text/plain": [
       "  0%|          | 1/1000 [00:00<?, ?it/s]"
      ]
     },
     "metadata": {},
     "output_type": "display_data"
    },
    {
     "name": "stdout",
     "output_type": "stream",
     "text": [
      "\n",
      "************ Summary ************\n",
      "\n",
      "Examples/sec (First included) 125968.52 ex/sec (total: 10000 ex, 0.08 sec)\n",
      "Examples/sec (First only) 4404.88 ex/sec (total: 10 ex, 0.00 sec)\n",
      "Examples/sec (First excluded) 129547.28 ex/sec (total: 9990 ex, 0.08 sec)\n"
     ]
    },
    {
     "data": {
      "application/vnd.jupyter.widget-view+json": {
       "model_id": "f5321efeb41b4e72b93fe579daa218ed",
       "version_major": 2,
       "version_minor": 0
      },
      "text/plain": [
       "1it [00:00, ?it/s]"
      ]
     },
     "metadata": {},
     "output_type": "display_data"
    },
    {
     "name": "stdout",
     "output_type": "stream",
     "text": [
      "\n",
      "************ Summary ************\n",
      "\n",
      "Examples/sec (First included) 4767.16 ex/sec (total: 10000 ex, 2.10 sec)\n",
      "Examples/sec (First only) 820.96 ex/sec (total: 10 ex, 0.01 sec)\n",
      "Examples/sec (First excluded) 4790.21 ex/sec (total: 9990 ex, 2.09 sec)\n"
     ]
    },
    {
     "data": {
      "application/vnd.jupyter.widget-view+json": {
       "model_id": "339f003a338e46579f38966820cfc46c",
       "version_major": 2,
       "version_minor": 0
      },
      "text/plain": [
       "1it [00:00, ?it/s]"
      ]
     },
     "metadata": {},
     "output_type": "display_data"
    },
    {
     "name": "stdout",
     "output_type": "stream",
     "text": [
      "\n",
      "************ Summary ************\n",
      "\n",
      "Examples/sec (First included) 68099.56 ex/sec (total: 10000 ex, 0.15 sec)\n",
      "Examples/sec (First only) 501.62 ex/sec (total: 10 ex, 0.02 sec)\n",
      "Examples/sec (First excluded) 78718.29 ex/sec (total: 9990 ex, 0.13 sec)\n",
      "prefetch = -1\n"
     ]
    },
    {
     "data": {
      "application/vnd.jupyter.widget-view+json": {
       "model_id": "45f89fec5962443d9888d8ffa45656da",
       "version_major": 2,
       "version_minor": 0
      },
      "text/plain": [
       "  0%|          | 1/1000 [00:00<?, ?it/s]"
      ]
     },
     "metadata": {},
     "output_type": "display_data"
    },
    {
     "name": "stdout",
     "output_type": "stream",
     "text": [
      "\n",
      "************ Summary ************\n",
      "\n",
      "Examples/sec (First included) 125214.99 ex/sec (total: 10000 ex, 0.08 sec)\n",
      "Examples/sec (First only) 4107.17 ex/sec (total: 10 ex, 0.00 sec)\n",
      "Examples/sec (First excluded) 129023.30 ex/sec (total: 9990 ex, 0.08 sec)\n"
     ]
    },
    {
     "data": {
      "application/vnd.jupyter.widget-view+json": {
       "model_id": "fd54615f2c38440fa67f76297610baec",
       "version_major": 2,
       "version_minor": 0
      },
      "text/plain": [
       "1it [00:00, ?it/s]"
      ]
     },
     "metadata": {},
     "output_type": "display_data"
    },
    {
     "name": "stdout",
     "output_type": "stream",
     "text": [
      "\n",
      "************ Summary ************\n",
      "\n",
      "Examples/sec (First included) 4891.26 ex/sec (total: 10000 ex, 2.04 sec)\n",
      "Examples/sec (First only) 803.94 ex/sec (total: 10 ex, 0.01 sec)\n",
      "Examples/sec (First excluded) 4916.28 ex/sec (total: 9990 ex, 2.03 sec)\n"
     ]
    },
    {
     "data": {
      "application/vnd.jupyter.widget-view+json": {
       "model_id": "8c16dfed69894dbba97cfd3699c53247",
       "version_major": 2,
       "version_minor": 0
      },
      "text/plain": [
       "1it [00:00, ?it/s]"
      ]
     },
     "metadata": {},
     "output_type": "display_data"
    },
    {
     "name": "stdout",
     "output_type": "stream",
     "text": [
      "\n",
      "************ Summary ************\n",
      "\n",
      "Examples/sec (First included) 79148.57 ex/sec (total: 10000 ex, 0.13 sec)\n",
      "Examples/sec (First only) 500.92 ex/sec (total: 10 ex, 0.02 sec)\n",
      "Examples/sec (First excluded) 93907.47 ex/sec (total: 9990 ex, 0.11 sec)\n",
      "batch_size = 25\n",
      "prefetch = None\n"
     ]
    },
    {
     "data": {
      "application/vnd.jupyter.widget-view+json": {
       "model_id": "47240c7899aa4a639068c6d51fd81699",
       "version_major": 2,
       "version_minor": 0
      },
      "text/plain": [
       "  0%|          | 1/400 [00:00<?, ?it/s]"
      ]
     },
     "metadata": {},
     "output_type": "display_data"
    },
    {
     "name": "stdout",
     "output_type": "stream",
     "text": [
      "\n",
      "************ Summary ************\n",
      "\n",
      "Examples/sec (First included) 205536.60 ex/sec (total: 10000 ex, 0.05 sec)\n",
      "Examples/sec (First only) 11310.86 ex/sec (total: 25 ex, 0.00 sec)\n",
      "Examples/sec (First excluded) 214780.01 ex/sec (total: 9975 ex, 0.05 sec)\n"
     ]
    },
    {
     "data": {
      "application/vnd.jupyter.widget-view+json": {
       "model_id": "f688f115d42f4276a26db56e677345de",
       "version_major": 2,
       "version_minor": 0
      },
      "text/plain": [
       "1it [00:00, ?it/s]"
      ]
     },
     "metadata": {},
     "output_type": "display_data"
    },
    {
     "name": "stdout",
     "output_type": "stream",
     "text": [
      "\n",
      "************ Summary ************\n",
      "\n",
      "Examples/sec (First included) 4884.47 ex/sec (total: 10000 ex, 2.05 sec)\n",
      "Examples/sec (First only) 1638.30 ex/sec (total: 25 ex, 0.02 sec)\n",
      "Examples/sec (First excluded) 4908.85 ex/sec (total: 9975 ex, 2.03 sec)\n"
     ]
    },
    {
     "data": {
      "application/vnd.jupyter.widget-view+json": {
       "model_id": "0dd7cd8d9b35495191714e90a4520e5b",
       "version_major": 2,
       "version_minor": 0
      },
      "text/plain": [
       "1it [00:00, ?it/s]"
      ]
     },
     "metadata": {},
     "output_type": "display_data"
    },
    {
     "name": "stdout",
     "output_type": "stream",
     "text": [
      "\n",
      "************ Summary ************\n",
      "\n",
      "Examples/sec (First included) 98822.21 ex/sec (total: 10000 ex, 0.10 sec)\n",
      "Examples/sec (First only) 1103.65 ex/sec (total: 25 ex, 0.02 sec)\n",
      "Examples/sec (First excluded) 127005.87 ex/sec (total: 9975 ex, 0.08 sec)\n",
      "prefetch = -1\n"
     ]
    },
    {
     "data": {
      "application/vnd.jupyter.widget-view+json": {
       "model_id": "0d0b74fbc29e4643ad76239a123e5da6",
       "version_major": 2,
       "version_minor": 0
      },
      "text/plain": [
       "  0%|          | 1/400 [00:00<?, ?it/s]"
      ]
     },
     "metadata": {},
     "output_type": "display_data"
    },
    {
     "name": "stdout",
     "output_type": "stream",
     "text": [
      "\n",
      "************ Summary ************\n",
      "\n",
      "Examples/sec (First included) 214489.16 ex/sec (total: 10000 ex, 0.05 sec)\n",
      "Examples/sec (First only) 10508.75 ex/sec (total: 25 ex, 0.00 sec)\n",
      "Examples/sec (First excluded) 225457.20 ex/sec (total: 9975 ex, 0.04 sec)\n"
     ]
    },
    {
     "data": {
      "application/vnd.jupyter.widget-view+json": {
       "model_id": "ee9ea97211294e828f9429bb781bfaf2",
       "version_major": 2,
       "version_minor": 0
      },
      "text/plain": [
       "1it [00:00, ?it/s]"
      ]
     },
     "metadata": {},
     "output_type": "display_data"
    },
    {
     "name": "stdout",
     "output_type": "stream",
     "text": [
      "\n",
      "************ Summary ************\n",
      "\n",
      "Examples/sec (First included) 5062.99 ex/sec (total: 10000 ex, 1.98 sec)\n",
      "Examples/sec (First only) 1543.08 ex/sec (total: 25 ex, 0.02 sec)\n",
      "Examples/sec (First excluded) 5092.10 ex/sec (total: 9975 ex, 1.96 sec)\n"
     ]
    },
    {
     "data": {
      "application/vnd.jupyter.widget-view+json": {
       "model_id": "fb400c2722744184a2a321080eeee57e",
       "version_major": 2,
       "version_minor": 0
      },
      "text/plain": [
       "1it [00:00, ?it/s]"
      ]
     },
     "metadata": {},
     "output_type": "display_data"
    },
    {
     "name": "stdout",
     "output_type": "stream",
     "text": [
      "\n",
      "************ Summary ************\n",
      "\n",
      "Examples/sec (First included) 127413.83 ex/sec (total: 10000 ex, 0.08 sec)\n",
      "Examples/sec (First only) 1297.85 ex/sec (total: 25 ex, 0.02 sec)\n",
      "Examples/sec (First excluded) 168434.46 ex/sec (total: 9975 ex, 0.06 sec)\n",
      "batch_size = 100\n",
      "prefetch = None\n"
     ]
    },
    {
     "data": {
      "application/vnd.jupyter.widget-view+json": {
       "model_id": "05e54b30c292468884691a8292b88563",
       "version_major": 2,
       "version_minor": 0
      },
      "text/plain": [
       "  1%|1         | 1/100 [00:00<?, ?it/s]"
      ]
     },
     "metadata": {},
     "output_type": "display_data"
    },
    {
     "name": "stdout",
     "output_type": "stream",
     "text": [
      "\n",
      "************ Summary ************\n",
      "\n",
      "Examples/sec (First included) 297246.51 ex/sec (total: 10000 ex, 0.03 sec)\n",
      "Examples/sec (First only) 44519.22 ex/sec (total: 100 ex, 0.00 sec)\n",
      "Examples/sec (First excluded) 315327.90 ex/sec (total: 9900 ex, 0.03 sec)\n"
     ]
    },
    {
     "data": {
      "application/vnd.jupyter.widget-view+json": {
       "model_id": "22b87148d0fd46089bfe0b2cad092cc8",
       "version_major": 2,
       "version_minor": 0
      },
      "text/plain": [
       "1it [00:00, ?it/s]"
      ]
     },
     "metadata": {},
     "output_type": "display_data"
    },
    {
     "name": "stdout",
     "output_type": "stream",
     "text": [
      "\n",
      "************ Summary ************\n",
      "\n",
      "Examples/sec (First included) 4967.34 ex/sec (total: 10000 ex, 2.01 sec)\n",
      "Examples/sec (First only) 3210.52 ex/sec (total: 100 ex, 0.03 sec)\n",
      "Examples/sec (First excluded) 4994.95 ex/sec (total: 9900 ex, 1.98 sec)\n"
     ]
    },
    {
     "data": {
      "application/vnd.jupyter.widget-view+json": {
       "model_id": "26267fe10090495283d1a8c2ad903483",
       "version_major": 2,
       "version_minor": 0
      },
      "text/plain": [
       "1it [00:00, ?it/s]"
      ]
     },
     "metadata": {},
     "output_type": "display_data"
    },
    {
     "name": "stdout",
     "output_type": "stream",
     "text": [
      "\n",
      "************ Summary ************\n",
      "\n",
      "Examples/sec (First included) 137578.36 ex/sec (total: 10000 ex, 0.07 sec)\n",
      "Examples/sec (First only) 4881.73 ex/sec (total: 100 ex, 0.02 sec)\n",
      "Examples/sec (First excluded) 189650.35 ex/sec (total: 9900 ex, 0.05 sec)\n",
      "prefetch = -1\n"
     ]
    },
    {
     "data": {
      "application/vnd.jupyter.widget-view+json": {
       "model_id": "bbfbbba15b084c40abab99f82ccda973",
       "version_major": 2,
       "version_minor": 0
      },
      "text/plain": [
       "  1%|1         | 1/100 [00:00<?, ?it/s]"
      ]
     },
     "metadata": {},
     "output_type": "display_data"
    },
    {
     "name": "stdout",
     "output_type": "stream",
     "text": [
      "\n",
      "************ Summary ************\n",
      "\n",
      "Examples/sec (First included) 298713.69 ex/sec (total: 10000 ex, 0.03 sec)\n",
      "Examples/sec (First only) 34587.86 ex/sec (total: 100 ex, 0.00 sec)\n",
      "Examples/sec (First excluded) 323680.84 ex/sec (total: 9900 ex, 0.03 sec)\n"
     ]
    },
    {
     "data": {
      "application/vnd.jupyter.widget-view+json": {
       "model_id": "ed7f5e3065a5409faf294ea87963848b",
       "version_major": 2,
       "version_minor": 0
      },
      "text/plain": [
       "1it [00:00, ?it/s]"
      ]
     },
     "metadata": {},
     "output_type": "display_data"
    },
    {
     "name": "stdout",
     "output_type": "stream",
     "text": [
      "\n",
      "************ Summary ************\n",
      "\n",
      "Examples/sec (First included) 4825.09 ex/sec (total: 10000 ex, 2.07 sec)\n",
      "Examples/sec (First only) 3615.84 ex/sec (total: 100 ex, 0.03 sec)\n",
      "Examples/sec (First excluded) 4841.45 ex/sec (total: 9900 ex, 2.04 sec)\n"
     ]
    },
    {
     "data": {
      "application/vnd.jupyter.widget-view+json": {
       "model_id": "1094af059ff747e2844f0642df9259c4",
       "version_major": 2,
       "version_minor": 0
      },
      "text/plain": [
       "1it [00:00, ?it/s]"
      ]
     },
     "metadata": {},
     "output_type": "display_data"
    },
    {
     "name": "stdout",
     "output_type": "stream",
     "text": [
      "\n",
      "************ Summary ************\n",
      "\n",
      "Examples/sec (First included) 152005.99 ex/sec (total: 10000 ex, 0.07 sec)\n",
      "Examples/sec (First only) 4935.53 ex/sec (total: 100 ex, 0.02 sec)\n",
      "Examples/sec (First excluded) 217459.85 ex/sec (total: 9900 ex, 0.05 sec)\n",
      "batch_size = 250\n",
      "prefetch = None\n"
     ]
    },
    {
     "data": {
      "application/vnd.jupyter.widget-view+json": {
       "model_id": "d94d5e6380df43778329a329478f3557",
       "version_major": 2,
       "version_minor": 0
      },
      "text/plain": [
       "  2%|2         | 1/40 [00:00<?, ?it/s]"
      ]
     },
     "metadata": {},
     "output_type": "display_data"
    },
    {
     "name": "stdout",
     "output_type": "stream",
     "text": [
      "\n",
      "************ Summary ************\n",
      "\n",
      "Examples/sec (First included) 274844.54 ex/sec (total: 10000 ex, 0.04 sec)\n",
      "Examples/sec (First only) 92349.61 ex/sec (total: 250 ex, 0.00 sec)\n",
      "Examples/sec (First excluded) 289514.23 ex/sec (total: 9750 ex, 0.03 sec)\n"
     ]
    },
    {
     "data": {
      "application/vnd.jupyter.widget-view+json": {
       "model_id": "8f2f8828ba574f219cbc5899856bd5f1",
       "version_major": 2,
       "version_minor": 0
      },
      "text/plain": [
       "1it [00:00, ?it/s]"
      ]
     },
     "metadata": {},
     "output_type": "display_data"
    },
    {
     "name": "stdout",
     "output_type": "stream",
     "text": [
      "\n",
      "************ Summary ************\n",
      "\n",
      "Examples/sec (First included) 5013.32 ex/sec (total: 10000 ex, 1.99 sec)\n",
      "Examples/sec (First only) 3946.34 ex/sec (total: 250 ex, 0.06 sec)\n",
      "Examples/sec (First excluded) 5048.32 ex/sec (total: 9750 ex, 1.93 sec)\n"
     ]
    },
    {
     "data": {
      "application/vnd.jupyter.widget-view+json": {
       "model_id": "15f4a80003d1496a9e197a30cb3a37b3",
       "version_major": 2,
       "version_minor": 0
      },
      "text/plain": [
       "1it [00:00, ?it/s]"
      ]
     },
     "metadata": {},
     "output_type": "display_data"
    },
    {
     "name": "stdout",
     "output_type": "stream",
     "text": [
      "\n",
      "************ Summary ************\n",
      "\n",
      "Examples/sec (First included) 149562.72 ex/sec (total: 10000 ex, 0.07 sec)\n",
      "Examples/sec (First only) 12410.44 ex/sec (total: 250 ex, 0.02 sec)\n",
      "Examples/sec (First excluded) 208702.36 ex/sec (total: 9750 ex, 0.05 sec)\n",
      "prefetch = -1\n"
     ]
    },
    {
     "data": {
      "application/vnd.jupyter.widget-view+json": {
       "model_id": "9aadfce027bb46b4aefbf0c9834aedfc",
       "version_major": 2,
       "version_minor": 0
      },
      "text/plain": [
       "  2%|2         | 1/40 [00:00<?, ?it/s]"
      ]
     },
     "metadata": {},
     "output_type": "display_data"
    },
    {
     "name": "stdout",
     "output_type": "stream",
     "text": [
      "\n",
      "************ Summary ************\n",
      "\n",
      "Examples/sec (First included) 308774.17 ex/sec (total: 10000 ex, 0.03 sec)\n",
      "Examples/sec (First only) 99878.95 ex/sec (total: 250 ex, 0.00 sec)\n",
      "Examples/sec (First excluded) 326271.38 ex/sec (total: 9750 ex, 0.03 sec)\n"
     ]
    },
    {
     "data": {
      "application/vnd.jupyter.widget-view+json": {
       "model_id": "8c8dcad031194617afe8e9c6f3d5ee97",
       "version_major": 2,
       "version_minor": 0
      },
      "text/plain": [
       "1it [00:00, ?it/s]"
      ]
     },
     "metadata": {},
     "output_type": "display_data"
    },
    {
     "name": "stdout",
     "output_type": "stream",
     "text": [
      "\n",
      "************ Summary ************\n",
      "\n",
      "Examples/sec (First included) 4839.32 ex/sec (total: 10000 ex, 2.07 sec)\n",
      "Examples/sec (First only) 4580.93 ex/sec (total: 250 ex, 0.05 sec)\n",
      "Examples/sec (First excluded) 4846.33 ex/sec (total: 9750 ex, 2.01 sec)\n"
     ]
    },
    {
     "data": {
      "application/vnd.jupyter.widget-view+json": {
       "model_id": "a550bd5536dc4df681d5d3aeb993b7c7",
       "version_major": 2,
       "version_minor": 0
      },
      "text/plain": [
       "1it [00:00, ?it/s]"
      ]
     },
     "metadata": {},
     "output_type": "display_data"
    },
    {
     "name": "stdout",
     "output_type": "stream",
     "text": [
      "\n",
      "************ Summary ************\n",
      "\n",
      "Examples/sec (First included) 154805.79 ex/sec (total: 10000 ex, 0.06 sec)\n",
      "Examples/sec (First only) 12016.59 ex/sec (total: 250 ex, 0.02 sec)\n",
      "Examples/sec (First excluded) 222640.88 ex/sec (total: 9750 ex, 0.04 sec)\n",
      "size = 100000\n",
      "batch_size = None\n",
      "prefetch = None\n"
     ]
    },
    {
     "data": {
      "application/vnd.jupyter.widget-view+json": {
       "model_id": "f78a98be94e04190a37091bef83ada32",
       "version_major": 2,
       "version_minor": 0
      },
      "text/plain": [
       "  0%|          | 1/100000 [00:00<?, ?it/s]"
      ]
     },
     "metadata": {},
     "output_type": "display_data"
    },
    {
     "name": "stdout",
     "output_type": "stream",
     "text": [
      "\n",
      "************ Summary ************\n",
      "\n",
      "Examples/sec (First included) 21034.11 ex/sec (total: 100000 ex, 4.75 sec)\n",
      "Examples/sec (First only) 517.47 ex/sec (total: 1 ex, 0.00 sec)\n",
      "Examples/sec (First excluded) 21042.46 ex/sec (total: 99999 ex, 4.75 sec)\n"
     ]
    },
    {
     "data": {
      "application/vnd.jupyter.widget-view+json": {
       "model_id": "5d414b07f74e494cbc7decf3fd21aa1b",
       "version_major": 2,
       "version_minor": 0
      },
      "text/plain": [
       "1it [00:00, ?it/s]"
      ]
     },
     "metadata": {},
     "output_type": "display_data"
    },
    {
     "name": "stdout",
     "output_type": "stream",
     "text": [
      "\n",
      "************ Summary ************\n",
      "\n",
      "Examples/sec (First included) 3387.82 ex/sec (total: 100000 ex, 29.52 sec)\n",
      "Examples/sec (First only) 106.38 ex/sec (total: 1 ex, 0.01 sec)\n",
      "Examples/sec (First excluded) 3388.86 ex/sec (total: 99999 ex, 29.51 sec)\n"
     ]
    },
    {
     "data": {
      "application/vnd.jupyter.widget-view+json": {
       "model_id": "c492b8bd339c47988047b398ede91f98",
       "version_major": 2,
       "version_minor": 0
      },
      "text/plain": [
       "1it [00:00, ?it/s]"
      ]
     },
     "metadata": {},
     "output_type": "display_data"
    },
    {
     "name": "stdout",
     "output_type": "stream",
     "text": [
      "\n",
      "************ Summary ************\n",
      "\n",
      "Examples/sec (First included) 13961.32 ex/sec (total: 100000 ex, 7.16 sec)\n",
      "Examples/sec (First only) 89.64 ex/sec (total: 1 ex, 0.01 sec)\n",
      "Examples/sec (First excluded) 13982.96 ex/sec (total: 99999 ex, 7.15 sec)\n",
      "prefetch = -1\n"
     ]
    },
    {
     "data": {
      "application/vnd.jupyter.widget-view+json": {
       "model_id": "b4e52609679f4b89a5ccb9e630d5897a",
       "version_major": 2,
       "version_minor": 0
      },
      "text/plain": [
       "  0%|          | 1/100000 [00:00<?, ?it/s]"
      ]
     },
     "metadata": {},
     "output_type": "display_data"
    },
    {
     "name": "stdout",
     "output_type": "stream",
     "text": [
      "\n",
      "************ Summary ************\n",
      "\n",
      "Examples/sec (First included) 19650.58 ex/sec (total: 100000 ex, 5.09 sec)\n",
      "Examples/sec (First only) 431.99 ex/sec (total: 1 ex, 0.00 sec)\n",
      "Examples/sec (First excluded) 19659.32 ex/sec (total: 99999 ex, 5.09 sec)\n"
     ]
    },
    {
     "data": {
      "application/vnd.jupyter.widget-view+json": {
       "model_id": "e2effa623f294f94aba3063bfbb6cff6",
       "version_major": 2,
       "version_minor": 0
      },
      "text/plain": [
       "1it [00:00, ?it/s]"
      ]
     },
     "metadata": {},
     "output_type": "display_data"
    },
    {
     "name": "stdout",
     "output_type": "stream",
     "text": [
      "\n",
      "************ Summary ************\n",
      "\n",
      "Examples/sec (First included) 4575.12 ex/sec (total: 100000 ex, 21.86 sec)\n",
      "Examples/sec (First only) 96.97 ex/sec (total: 1 ex, 0.01 sec)\n",
      "Examples/sec (First excluded) 4577.24 ex/sec (total: 99999 ex, 21.85 sec)\n"
     ]
    },
    {
     "data": {
      "application/vnd.jupyter.widget-view+json": {
       "model_id": "20874fe9cbd746a287a5974c57237220",
       "version_major": 2,
       "version_minor": 0
      },
      "text/plain": [
       "1it [00:00, ?it/s]"
      ]
     },
     "metadata": {},
     "output_type": "display_data"
    },
    {
     "name": "stdout",
     "output_type": "stream",
     "text": [
      "\n",
      "************ Summary ************\n",
      "\n",
      "Examples/sec (First included) 13963.79 ex/sec (total: 100000 ex, 7.16 sec)\n",
      "Examples/sec (First only) 88.05 ex/sec (total: 1 ex, 0.01 sec)\n",
      "Examples/sec (First excluded) 13985.83 ex/sec (total: 99999 ex, 7.15 sec)\n",
      "batch_size = 10\n",
      "prefetch = None\n"
     ]
    },
    {
     "data": {
      "application/vnd.jupyter.widget-view+json": {
       "model_id": "166eb3727011437e9fe8e649dba95191",
       "version_major": 2,
       "version_minor": 0
      },
      "text/plain": [
       "  0%|          | 1/10000 [00:00<?, ?it/s]"
      ]
     },
     "metadata": {},
     "output_type": "display_data"
    },
    {
     "name": "stdout",
     "output_type": "stream",
     "text": [
      "\n",
      "************ Summary ************\n",
      "\n",
      "Examples/sec (First included) 173106.42 ex/sec (total: 100000 ex, 0.58 sec)\n",
      "Examples/sec (First only) 4585.70 ex/sec (total: 10 ex, 0.00 sec)\n",
      "Examples/sec (First excluded) 173744.98 ex/sec (total: 99990 ex, 0.58 sec)\n"
     ]
    },
    {
     "data": {
      "application/vnd.jupyter.widget-view+json": {
       "model_id": "2adbe1089ec04a099a0110b5de5f81b3",
       "version_major": 2,
       "version_minor": 0
      },
      "text/plain": [
       "1it [00:00, ?it/s]"
      ]
     },
     "metadata": {},
     "output_type": "display_data"
    },
    {
     "name": "stdout",
     "output_type": "stream",
     "text": [
      "\n",
      "************ Summary ************\n",
      "\n",
      "Examples/sec (First included) 4863.02 ex/sec (total: 100000 ex, 20.56 sec)\n",
      "Examples/sec (First only) 824.45 ex/sec (total: 10 ex, 0.01 sec)\n",
      "Examples/sec (First excluded) 4865.41 ex/sec (total: 99990 ex, 20.55 sec)\n"
     ]
    },
    {
     "data": {
      "application/vnd.jupyter.widget-view+json": {
       "model_id": "1cee3965f8764b23a0afe247d8753db4",
       "version_major": 2,
       "version_minor": 0
      },
      "text/plain": [
       "1it [00:00, ?it/s]"
      ]
     },
     "metadata": {},
     "output_type": "display_data"
    },
    {
     "name": "stdout",
     "output_type": "stream",
     "text": [
      "\n",
      "************ Summary ************\n",
      "\n",
      "Examples/sec (First included) 90258.70 ex/sec (total: 100000 ex, 1.11 sec)\n",
      "Examples/sec (First only) 410.91 ex/sec (total: 10 ex, 0.02 sec)\n",
      "Examples/sec (First excluded) 92276.58 ex/sec (total: 99990 ex, 1.08 sec)\n",
      "prefetch = -1\n"
     ]
    },
    {
     "data": {
      "application/vnd.jupyter.widget-view+json": {
       "model_id": "1f57fb6f8202465786597d565790baa8",
       "version_major": 2,
       "version_minor": 0
      },
      "text/plain": [
       "  0%|          | 1/10000 [00:00<?, ?it/s]"
      ]
     },
     "metadata": {},
     "output_type": "display_data"
    },
    {
     "name": "stdout",
     "output_type": "stream",
     "text": [
      "\n",
      "************ Summary ************\n",
      "\n",
      "Examples/sec (First included) 184997.30 ex/sec (total: 100000 ex, 0.54 sec)\n",
      "Examples/sec (First only) 4060.95 ex/sec (total: 10 ex, 0.00 sec)\n",
      "Examples/sec (First excluded) 185825.33 ex/sec (total: 99990 ex, 0.54 sec)\n"
     ]
    },
    {
     "data": {
      "application/vnd.jupyter.widget-view+json": {
       "model_id": "c89191b3886d413c80d331255e22703a",
       "version_major": 2,
       "version_minor": 0
      },
      "text/plain": [
       "1it [00:00, ?it/s]"
      ]
     },
     "metadata": {},
     "output_type": "display_data"
    },
    {
     "name": "stdout",
     "output_type": "stream",
     "text": [
      "\n",
      "************ Summary ************\n",
      "\n",
      "Examples/sec (First included) 4907.53 ex/sec (total: 100000 ex, 20.38 sec)\n",
      "Examples/sec (First only) 803.22 ex/sec (total: 10 ex, 0.01 sec)\n",
      "Examples/sec (First excluded) 4910.04 ex/sec (total: 99990 ex, 20.36 sec)\n"
     ]
    },
    {
     "data": {
      "application/vnd.jupyter.widget-view+json": {
       "model_id": "79dcfac8446448e1af4a220e329d4747",
       "version_major": 2,
       "version_minor": 0
      },
      "text/plain": [
       "1it [00:00, ?it/s]"
      ]
     },
     "metadata": {},
     "output_type": "display_data"
    },
    {
     "name": "stdout",
     "output_type": "stream",
     "text": [
      "\n",
      "************ Summary ************\n",
      "\n",
      "Examples/sec (First included) 119008.66 ex/sec (total: 100000 ex, 0.84 sec)\n",
      "Examples/sec (First only) 429.12 ex/sec (total: 10 ex, 0.02 sec)\n",
      "Examples/sec (First excluded) 122391.06 ex/sec (total: 99990 ex, 0.82 sec)\n",
      "batch_size = 25\n",
      "prefetch = None\n"
     ]
    },
    {
     "data": {
      "application/vnd.jupyter.widget-view+json": {
       "model_id": "f9c7f8c2cf0f4415b564bdbac54c4f27",
       "version_major": 2,
       "version_minor": 0
      },
      "text/plain": [
       "  0%|          | 1/4000 [00:00<?, ?it/s]"
      ]
     },
     "metadata": {},
     "output_type": "display_data"
    },
    {
     "name": "stdout",
     "output_type": "stream",
     "text": [
      "\n",
      "************ Summary ************\n",
      "\n",
      "Examples/sec (First included) 364621.78 ex/sec (total: 100000 ex, 0.27 sec)\n",
      "Examples/sec (First only) 11097.40 ex/sec (total: 25 ex, 0.00 sec)\n",
      "Examples/sec (First excluded) 367549.72 ex/sec (total: 99975 ex, 0.27 sec)\n"
     ]
    },
    {
     "data": {
      "application/vnd.jupyter.widget-view+json": {
       "model_id": "fc6f2e127ad34b6db8f7051340ec9ca0",
       "version_major": 2,
       "version_minor": 0
      },
      "text/plain": [
       "1it [00:00, ?it/s]"
      ]
     },
     "metadata": {},
     "output_type": "display_data"
    },
    {
     "name": "stdout",
     "output_type": "stream",
     "text": [
      "\n",
      "************ Summary ************\n",
      "\n",
      "Examples/sec (First included) 4939.81 ex/sec (total: 100000 ex, 20.24 sec)\n",
      "Examples/sec (First only) 1614.04 ex/sec (total: 25 ex, 0.02 sec)\n",
      "Examples/sec (First excluded) 4942.36 ex/sec (total: 99975 ex, 20.23 sec)\n"
     ]
    },
    {
     "data": {
      "application/vnd.jupyter.widget-view+json": {
       "model_id": "1e4713ba90654dceb61e84f27e7bb76f",
       "version_major": 2,
       "version_minor": 0
      },
      "text/plain": [
       "1it [00:00, ?it/s]"
      ]
     },
     "metadata": {},
     "output_type": "display_data"
    },
    {
     "name": "stdout",
     "output_type": "stream",
     "text": [
      "\n",
      "************ Summary ************\n",
      "\n",
      "Examples/sec (First included) 163489.12 ex/sec (total: 100000 ex, 0.61 sec)\n",
      "Examples/sec (First only) 1026.45 ex/sec (total: 25 ex, 0.02 sec)\n",
      "Examples/sec (First excluded) 170226.49 ex/sec (total: 99975 ex, 0.59 sec)\n",
      "prefetch = -1\n"
     ]
    },
    {
     "data": {
      "application/vnd.jupyter.widget-view+json": {
       "model_id": "bc1eee3c2b444be280788260842be1f2",
       "version_major": 2,
       "version_minor": 0
      },
      "text/plain": [
       "  0%|          | 1/4000 [00:00<?, ?it/s]"
      ]
     },
     "metadata": {},
     "output_type": "display_data"
    },
    {
     "name": "stdout",
     "output_type": "stream",
     "text": [
      "\n",
      "************ Summary ************\n",
      "\n",
      "Examples/sec (First included) 404433.05 ex/sec (total: 100000 ex, 0.25 sec)\n",
      "Examples/sec (First only) 7511.65 ex/sec (total: 25 ex, 0.00 sec)\n",
      "Examples/sec (First excluded) 409848.58 ex/sec (total: 99975 ex, 0.24 sec)\n"
     ]
    },
    {
     "data": {
      "application/vnd.jupyter.widget-view+json": {
       "model_id": "d9d655eb22434c93b018037a9590382c",
       "version_major": 2,
       "version_minor": 0
      },
      "text/plain": [
       "1it [00:00, ?it/s]"
      ]
     },
     "metadata": {},
     "output_type": "display_data"
    },
    {
     "name": "stdout",
     "output_type": "stream",
     "text": [
      "\n",
      "************ Summary ************\n",
      "\n",
      "Examples/sec (First included) 4988.16 ex/sec (total: 100000 ex, 20.05 sec)\n",
      "Examples/sec (First only) 1652.03 ex/sec (total: 25 ex, 0.02 sec)\n",
      "Examples/sec (First excluded) 4990.68 ex/sec (total: 99975 ex, 20.03 sec)\n"
     ]
    },
    {
     "data": {
      "application/vnd.jupyter.widget-view+json": {
       "model_id": "32f54b741f61466596cb39e3ae459fd7",
       "version_major": 2,
       "version_minor": 0
      },
      "text/plain": [
       "1it [00:00, ?it/s]"
      ]
     },
     "metadata": {},
     "output_type": "display_data"
    },
    {
     "name": "stdout",
     "output_type": "stream",
     "text": [
      "\n",
      "************ Summary ************\n",
      "\n",
      "Examples/sec (First included) 259297.10 ex/sec (total: 100000 ex, 0.39 sec)\n",
      "Examples/sec (First only) 1090.38 ex/sec (total: 25 ex, 0.02 sec)\n",
      "Examples/sec (First excluded) 275618.12 ex/sec (total: 99975 ex, 0.36 sec)\n",
      "batch_size = 100\n",
      "prefetch = None\n"
     ]
    },
    {
     "data": {
      "application/vnd.jupyter.widget-view+json": {
       "model_id": "a64c11ef09f940eca25d8ce0ef34ef67",
       "version_major": 2,
       "version_minor": 0
      },
      "text/plain": [
       "  0%|          | 1/1000 [00:00<?, ?it/s]"
      ]
     },
     "metadata": {},
     "output_type": "display_data"
    },
    {
     "name": "stdout",
     "output_type": "stream",
     "text": [
      "\n",
      "************ Summary ************\n",
      "\n",
      "Examples/sec (First included) 817842.11 ex/sec (total: 100000 ex, 0.12 sec)\n",
      "Examples/sec (First only) 23458.54 ex/sec (total: 100 ex, 0.00 sec)\n",
      "Examples/sec (First excluded) 846537.35 ex/sec (total: 99900 ex, 0.12 sec)\n"
     ]
    },
    {
     "data": {
      "application/vnd.jupyter.widget-view+json": {
       "model_id": "f271da2331844cf39ff8306b5dddc26c",
       "version_major": 2,
       "version_minor": 0
      },
      "text/plain": [
       "1it [00:00, ?it/s]"
      ]
     },
     "metadata": {},
     "output_type": "display_data"
    },
    {
     "name": "stdout",
     "output_type": "stream",
     "text": [
      "\n",
      "************ Summary ************\n",
      "\n",
      "Examples/sec (First included) 5063.68 ex/sec (total: 100000 ex, 19.75 sec)\n",
      "Examples/sec (First only) 3603.36 ex/sec (total: 100 ex, 0.03 sec)\n",
      "Examples/sec (First excluded) 5065.73 ex/sec (total: 99900 ex, 19.72 sec)\n"
     ]
    },
    {
     "data": {
      "application/vnd.jupyter.widget-view+json": {
       "model_id": "645ab17843ba4d3181023899f6fa01f1",
       "version_major": 2,
       "version_minor": 0
      },
      "text/plain": [
       "1it [00:00, ?it/s]"
      ]
     },
     "metadata": {},
     "output_type": "display_data"
    },
    {
     "name": "stdout",
     "output_type": "stream",
     "text": [
      "\n",
      "************ Summary ************\n",
      "\n",
      "Examples/sec (First included) 284070.45 ex/sec (total: 100000 ex, 0.35 sec)\n",
      "Examples/sec (First only) 4199.62 ex/sec (total: 100 ex, 0.02 sec)\n",
      "Examples/sec (First excluded) 304374.87 ex/sec (total: 99900 ex, 0.33 sec)\n",
      "prefetch = -1\n"
     ]
    },
    {
     "data": {
      "application/vnd.jupyter.widget-view+json": {
       "model_id": "b87a215e2d1246f1af79fb2170f100cb",
       "version_major": 2,
       "version_minor": 0
      },
      "text/plain": [
       "  0%|          | 1/1000 [00:00<?, ?it/s]"
      ]
     },
     "metadata": {},
     "output_type": "display_data"
    },
    {
     "name": "stdout",
     "output_type": "stream",
     "text": [
      "\n",
      "************ Summary ************\n",
      "\n",
      "Examples/sec (First included) 1256541.27 ex/sec (total: 100000 ex, 0.08 sec)\n",
      "Examples/sec (First only) 40365.29 ex/sec (total: 100 ex, 0.00 sec)\n",
      "Examples/sec (First excluded) 1295616.30 ex/sec (total: 99900 ex, 0.08 sec)\n"
     ]
    },
    {
     "data": {
      "application/vnd.jupyter.widget-view+json": {
       "model_id": "1a13a09ae46e44a2aec29fd92027079c",
       "version_major": 2,
       "version_minor": 0
      },
      "text/plain": [
       "1it [00:00, ?it/s]"
      ]
     },
     "metadata": {},
     "output_type": "display_data"
    },
    {
     "name": "stdout",
     "output_type": "stream",
     "text": [
      "\n",
      "************ Summary ************\n",
      "\n",
      "Examples/sec (First included) 5062.13 ex/sec (total: 100000 ex, 19.75 sec)\n",
      "Examples/sec (First only) 3301.87 ex/sec (total: 100 ex, 0.03 sec)\n",
      "Examples/sec (First excluded) 5064.83 ex/sec (total: 99900 ex, 19.72 sec)\n"
     ]
    },
    {
     "data": {
      "application/vnd.jupyter.widget-view+json": {
       "model_id": "bdf507d6c84c4b379460616580cad4b5",
       "version_major": 2,
       "version_minor": 0
      },
      "text/plain": [
       "1it [00:00, ?it/s]"
      ]
     },
     "metadata": {},
     "output_type": "display_data"
    },
    {
     "name": "stdout",
     "output_type": "stream",
     "text": [
      "\n",
      "************ Summary ************\n",
      "\n",
      "Examples/sec (First included) 361866.43 ex/sec (total: 100000 ex, 0.28 sec)\n",
      "Examples/sec (First only) 4071.31 ex/sec (total: 100 ex, 0.02 sec)\n",
      "Examples/sec (First excluded) 396770.29 ex/sec (total: 99900 ex, 0.25 sec)\n",
      "batch_size = 250\n",
      "prefetch = None\n"
     ]
    },
    {
     "data": {
      "application/vnd.jupyter.widget-view+json": {
       "model_id": "ab5d42c5ab814644981797ef964016ca",
       "version_major": 2,
       "version_minor": 0
      },
      "text/plain": [
       "  0%|          | 1/400 [00:00<?, ?it/s]"
      ]
     },
     "metadata": {},
     "output_type": "display_data"
    },
    {
     "name": "stdout",
     "output_type": "stream",
     "text": [
      "\n",
      "************ Summary ************\n",
      "\n",
      "Examples/sec (First included) 1093213.12 ex/sec (total: 100000 ex, 0.09 sec)\n",
      "Examples/sec (First only) 103954.12 ex/sec (total: 250 ex, 0.00 sec)\n",
      "Examples/sec (First excluded) 1119923.74 ex/sec (total: 99750 ex, 0.09 sec)\n"
     ]
    },
    {
     "data": {
      "application/vnd.jupyter.widget-view+json": {
       "model_id": "78239f6b3e4245cbafcd798b22cf21a8",
       "version_major": 2,
       "version_minor": 0
      },
      "text/plain": [
       "1it [00:00, ?it/s]"
      ]
     },
     "metadata": {},
     "output_type": "display_data"
    },
    {
     "name": "stdout",
     "output_type": "stream",
     "text": [
      "\n",
      "************ Summary ************\n",
      "\n",
      "Examples/sec (First included) 5127.62 ex/sec (total: 100000 ex, 19.50 sec)\n",
      "Examples/sec (First only) 3771.22 ex/sec (total: 250 ex, 0.07 sec)\n",
      "Examples/sec (First excluded) 5132.25 ex/sec (total: 99750 ex, 19.44 sec)\n"
     ]
    },
    {
     "data": {
      "application/vnd.jupyter.widget-view+json": {
       "model_id": "004664f303cb45148a8214d702508322",
       "version_major": 2,
       "version_minor": 0
      },
      "text/plain": [
       "1it [00:00, ?it/s]"
      ]
     },
     "metadata": {},
     "output_type": "display_data"
    },
    {
     "name": "stdout",
     "output_type": "stream",
     "text": [
      "\n",
      "************ Summary ************\n",
      "\n",
      "Examples/sec (First included) 327707.52 ex/sec (total: 100000 ex, 0.31 sec)\n",
      "Examples/sec (First only) 9912.97 ex/sec (total: 250 ex, 0.03 sec)\n",
      "Examples/sec (First excluded) 356338.25 ex/sec (total: 99750 ex, 0.28 sec)\n",
      "prefetch = -1\n"
     ]
    },
    {
     "data": {
      "application/vnd.jupyter.widget-view+json": {
       "model_id": "80ebb337b1b948a786531fa804df1b9e",
       "version_major": 2,
       "version_minor": 0
      },
      "text/plain": [
       "  0%|          | 1/400 [00:00<?, ?it/s]"
      ]
     },
     "metadata": {},
     "output_type": "display_data"
    },
    {
     "name": "stdout",
     "output_type": "stream",
     "text": [
      "\n",
      "************ Summary ************\n",
      "\n",
      "Examples/sec (First included) 1430630.62 ex/sec (total: 100000 ex, 0.07 sec)\n",
      "Examples/sec (First only) 101611.15 ex/sec (total: 250 ex, 0.00 sec)\n",
      "Examples/sec (First excluded) 1479116.98 ex/sec (total: 99750 ex, 0.07 sec)\n"
     ]
    },
    {
     "data": {
      "application/vnd.jupyter.widget-view+json": {
       "model_id": "3fe2430b3eea4aedabfac8a53216fcce",
       "version_major": 2,
       "version_minor": 0
      },
      "text/plain": [
       "1it [00:00, ?it/s]"
      ]
     },
     "metadata": {},
     "output_type": "display_data"
    },
    {
     "name": "stdout",
     "output_type": "stream",
     "text": [
      "\n",
      "************ Summary ************\n",
      "\n",
      "Examples/sec (First included) 5078.89 ex/sec (total: 100000 ex, 19.69 sec)\n",
      "Examples/sec (First only) 4506.56 ex/sec (total: 250 ex, 0.06 sec)\n",
      "Examples/sec (First excluded) 5080.51 ex/sec (total: 99750 ex, 19.63 sec)\n"
     ]
    },
    {
     "data": {
      "application/vnd.jupyter.widget-view+json": {
       "model_id": "d3a53a4463cb4349974a4a66ebe1f739",
       "version_major": 2,
       "version_minor": 0
      },
      "text/plain": [
       "1it [00:00, ?it/s]"
      ]
     },
     "metadata": {},
     "output_type": "display_data"
    },
    {
     "name": "stdout",
     "output_type": "stream",
     "text": [
      "\n",
      "************ Summary ************\n",
      "\n",
      "Examples/sec (First included) 360890.53 ex/sec (total: 100000 ex, 0.28 sec)\n",
      "Examples/sec (First only) 10531.10 ex/sec (total: 250 ex, 0.02 sec)\n",
      "Examples/sec (First excluded) 393719.25 ex/sec (total: 99750 ex, 0.25 sec)\n",
      "size = 1000000\n",
      "batch_size = None\n",
      "prefetch = None\n"
     ]
    },
    {
     "data": {
      "application/vnd.jupyter.widget-view+json": {
       "model_id": "6b044112ec28461dbf864edf19f241f1",
       "version_major": 2,
       "version_minor": 0
      },
      "text/plain": [
       "  0%|          | 1/1000000 [00:00<?, ?it/s]"
      ]
     },
     "metadata": {},
     "output_type": "display_data"
    },
    {
     "name": "stdout",
     "output_type": "stream",
     "text": [
      "\n",
      "************ Summary ************\n",
      "\n",
      "Examples/sec (First included) 21401.95 ex/sec (total: 1000000 ex, 46.72 sec)\n",
      "Examples/sec (First only) 473.79 ex/sec (total: 1 ex, 0.00 sec)\n",
      "Examples/sec (First excluded) 21402.89 ex/sec (total: 999999 ex, 46.72 sec)\n"
     ]
    },
    {
     "data": {
      "application/vnd.jupyter.widget-view+json": {
       "model_id": "061bef7a4458475ba6373642c82edfc6",
       "version_major": 2,
       "version_minor": 0
      },
      "text/plain": [
       "1it [00:00, ?it/s]"
      ]
     },
     "metadata": {},
     "output_type": "display_data"
    },
    {
     "name": "stdout",
     "output_type": "stream",
     "text": [
      "\n",
      "************ Summary ************\n",
      "\n",
      "Examples/sec (First included) 3362.19 ex/sec (total: 1000000 ex, 297.43 sec)\n",
      "Examples/sec (First only) 100.34 ex/sec (total: 1 ex, 0.01 sec)\n",
      "Examples/sec (First excluded) 3362.30 ex/sec (total: 999999 ex, 297.42 sec)\n"
     ]
    },
    {
     "data": {
      "application/vnd.jupyter.widget-view+json": {
       "model_id": "f97feaa6e9d440fbad092fd41e6d361f",
       "version_major": 2,
       "version_minor": 0
      },
      "text/plain": [
       "1it [00:00, ?it/s]"
      ]
     },
     "metadata": {},
     "output_type": "display_data"
    },
    {
     "name": "stdout",
     "output_type": "stream",
     "text": [
      "\n",
      "************ Summary ************\n",
      "\n",
      "Examples/sec (First included) 14079.80 ex/sec (total: 1000000 ex, 71.02 sec)\n",
      "Examples/sec (First only) 91.31 ex/sec (total: 1 ex, 0.01 sec)\n",
      "Examples/sec (First excluded) 14081.96 ex/sec (total: 999999 ex, 71.01 sec)\n",
      "prefetch = -1\n"
     ]
    },
    {
     "data": {
      "application/vnd.jupyter.widget-view+json": {
       "model_id": "d32ff5fad2f44c39aa80524f44beb6a4",
       "version_major": 2,
       "version_minor": 0
      },
      "text/plain": [
       "  0%|          | 1/1000000 [00:00<?, ?it/s]"
      ]
     },
     "metadata": {},
     "output_type": "display_data"
    },
    {
     "name": "stdout",
     "output_type": "stream",
     "text": [
      "\n",
      "************ Summary ************\n",
      "\n",
      "Examples/sec (First included) 19762.03 ex/sec (total: 1000000 ex, 50.60 sec)\n",
      "Examples/sec (First only) 344.31 ex/sec (total: 1 ex, 0.00 sec)\n",
      "Examples/sec (First excluded) 19763.14 ex/sec (total: 999999 ex, 50.60 sec)\n"
     ]
    },
    {
     "data": {
      "application/vnd.jupyter.widget-view+json": {
       "model_id": "2cd98e2ba0774bc0bf20699f933b0cf0",
       "version_major": 2,
       "version_minor": 0
      },
      "text/plain": [
       "1it [00:00, ?it/s]"
      ]
     },
     "metadata": {},
     "output_type": "display_data"
    },
    {
     "name": "stdout",
     "output_type": "stream",
     "text": [
      "\n",
      "************ Summary ************\n",
      "\n",
      "Examples/sec (First included) 4569.32 ex/sec (total: 1000000 ex, 218.85 sec)\n",
      "Examples/sec (First only) 95.24 ex/sec (total: 1 ex, 0.01 sec)\n",
      "Examples/sec (First excluded) 4569.54 ex/sec (total: 999999 ex, 218.84 sec)\n"
     ]
    },
    {
     "data": {
      "application/vnd.jupyter.widget-view+json": {
       "model_id": "eece1127d84146ca822f83d88273e7df",
       "version_major": 2,
       "version_minor": 0
      },
      "text/plain": [
       "1it [00:00, ?it/s]"
      ]
     },
     "metadata": {},
     "output_type": "display_data"
    },
    {
     "name": "stdout",
     "output_type": "stream",
     "text": [
      "\n",
      "************ Summary ************\n",
      "\n",
      "Examples/sec (First included) 13991.58 ex/sec (total: 1000000 ex, 71.47 sec)\n",
      "Examples/sec (First only) 86.14 ex/sec (total: 1 ex, 0.01 sec)\n",
      "Examples/sec (First excluded) 13993.84 ex/sec (total: 999999 ex, 71.46 sec)\n",
      "batch_size = 10\n",
      "prefetch = None\n"
     ]
    },
    {
     "data": {
      "application/vnd.jupyter.widget-view+json": {
       "model_id": "f474e6fde42e4d8b935077b2b7b861cf",
       "version_major": 2,
       "version_minor": 0
      },
      "text/plain": [
       "  0%|          | 1/100000 [00:00<?, ?it/s]"
      ]
     },
     "metadata": {},
     "output_type": "display_data"
    },
    {
     "name": "stdout",
     "output_type": "stream",
     "text": [
      "\n",
      "************ Summary ************\n",
      "\n",
      "Examples/sec (First included) 179613.27 ex/sec (total: 1000000 ex, 5.57 sec)\n",
      "Examples/sec (First only) 4118.18 ex/sec (total: 10 ex, 0.00 sec)\n",
      "Examples/sec (First excluded) 179689.85 ex/sec (total: 999990 ex, 5.57 sec)\n"
     ]
    },
    {
     "data": {
      "application/vnd.jupyter.widget-view+json": {
       "model_id": "537bf35d6a6745f490666e609eb79b1d",
       "version_major": 2,
       "version_minor": 0
      },
      "text/plain": [
       "1it [00:00, ?it/s]"
      ]
     },
     "metadata": {},
     "output_type": "display_data"
    },
    {
     "name": "stdout",
     "output_type": "stream",
     "text": [
      "\n",
      "************ Summary ************\n",
      "\n",
      "Examples/sec (First included) 4831.39 ex/sec (total: 1000000 ex, 206.98 sec)\n",
      "Examples/sec (First only) 829.95 ex/sec (total: 10 ex, 0.01 sec)\n",
      "Examples/sec (First excluded) 4831.63 ex/sec (total: 999990 ex, 206.97 sec)\n"
     ]
    },
    {
     "data": {
      "application/vnd.jupyter.widget-view+json": {
       "model_id": "6f6ab05ea77147438343d1a81f9ffd26",
       "version_major": 2,
       "version_minor": 0
      },
      "text/plain": [
       "1it [00:00, ?it/s]"
      ]
     },
     "metadata": {},
     "output_type": "display_data"
    },
    {
     "name": "stdout",
     "output_type": "stream",
     "text": [
      "\n",
      "************ Summary ************\n",
      "\n",
      "Examples/sec (First included) 93066.40 ex/sec (total: 1000000 ex, 10.75 sec)\n",
      "Examples/sec (First only) 400.45 ex/sec (total: 10 ex, 0.02 sec)\n",
      "Examples/sec (First excluded) 93282.26 ex/sec (total: 999990 ex, 10.72 sec)\n",
      "prefetch = -1\n"
     ]
    },
    {
     "data": {
      "application/vnd.jupyter.widget-view+json": {
       "model_id": "2b256c23dcc24396af15f904051d1c4c",
       "version_major": 2,
       "version_minor": 0
      },
      "text/plain": [
       "  0%|          | 1/100000 [00:00<?, ?it/s]"
      ]
     },
     "metadata": {},
     "output_type": "display_data"
    },
    {
     "name": "stdout",
     "output_type": "stream",
     "text": [
      "\n",
      "************ Summary ************\n",
      "\n",
      "Examples/sec (First included) 186119.71 ex/sec (total: 1000000 ex, 5.37 sec)\n",
      "Examples/sec (First only) 3426.13 ex/sec (total: 10 ex, 0.00 sec)\n",
      "Examples/sec (First excluded) 186219.01 ex/sec (total: 999990 ex, 5.37 sec)\n"
     ]
    },
    {
     "data": {
      "application/vnd.jupyter.widget-view+json": {
       "model_id": "95ad7e188cb749a39405de595ab4625b",
       "version_major": 2,
       "version_minor": 0
      },
      "text/plain": [
       "1it [00:00, ?it/s]"
      ]
     },
     "metadata": {},
     "output_type": "display_data"
    },
    {
     "name": "stdout",
     "output_type": "stream",
     "text": [
      "\n",
      "************ Summary ************\n",
      "\n",
      "Examples/sec (First included) 4973.78 ex/sec (total: 1000000 ex, 201.05 sec)\n",
      "Examples/sec (First only) 773.15 ex/sec (total: 10 ex, 0.01 sec)\n",
      "Examples/sec (First excluded) 4974.05 ex/sec (total: 999990 ex, 201.04 sec)\n"
     ]
    },
    {
     "data": {
      "application/vnd.jupyter.widget-view+json": {
       "model_id": "c30073d3cff24eafbad70e56ce4fc908",
       "version_major": 2,
       "version_minor": 0
      },
      "text/plain": [
       "1it [00:00, ?it/s]"
      ]
     },
     "metadata": {},
     "output_type": "display_data"
    },
    {
     "name": "stdout",
     "output_type": "stream",
     "text": [
      "\n",
      "************ Summary ************\n",
      "\n",
      "Examples/sec (First included) 124471.22 ex/sec (total: 1000000 ex, 8.03 sec)\n",
      "Examples/sec (First only) 395.07 ex/sec (total: 10 ex, 0.03 sec)\n",
      "Examples/sec (First excluded) 124863.38 ex/sec (total: 999990 ex, 8.01 sec)\n",
      "batch_size = 25\n",
      "prefetch = None\n"
     ]
    },
    {
     "data": {
      "application/vnd.jupyter.widget-view+json": {
       "model_id": "c4223d27fb154a38aa0ed631c048355e",
       "version_major": 2,
       "version_minor": 0
      },
      "text/plain": [
       "  0%|          | 1/40000 [00:00<?, ?it/s]"
      ]
     },
     "metadata": {},
     "output_type": "display_data"
    },
    {
     "name": "stdout",
     "output_type": "stream",
     "text": [
      "\n",
      "************ Summary ************\n",
      "\n",
      "Examples/sec (First included) 390549.40 ex/sec (total: 1000000 ex, 2.56 sec)\n",
      "Examples/sec (First only) 10264.92 ex/sec (total: 25 ex, 0.00 sec)\n",
      "Examples/sec (First excluded) 390911.46 ex/sec (total: 999975 ex, 2.56 sec)\n"
     ]
    },
    {
     "data": {
      "application/vnd.jupyter.widget-view+json": {
       "model_id": "bc883ac8330e4a96a57d37d424bae1c9",
       "version_major": 2,
       "version_minor": 0
      },
      "text/plain": [
       "1it [00:00, ?it/s]"
      ]
     },
     "metadata": {},
     "output_type": "display_data"
    },
    {
     "name": "stdout",
     "output_type": "stream",
     "text": [
      "\n",
      "************ Summary ************\n",
      "\n",
      "Examples/sec (First included) 4952.03 ex/sec (total: 1000000 ex, 201.94 sec)\n",
      "Examples/sec (First only) 1765.28 ex/sec (total: 25 ex, 0.01 sec)\n",
      "Examples/sec (First excluded) 4952.25 ex/sec (total: 999975 ex, 201.92 sec)\n"
     ]
    },
    {
     "data": {
      "application/vnd.jupyter.widget-view+json": {
       "model_id": "de72a494cf84471a85a2c48c4d095369",
       "version_major": 2,
       "version_minor": 0
      },
      "text/plain": [
       "1it [00:00, ?it/s]"
      ]
     },
     "metadata": {},
     "output_type": "display_data"
    },
    {
     "name": "stdout",
     "output_type": "stream",
     "text": [
      "\n",
      "************ Summary ************\n",
      "\n",
      "Examples/sec (First included) 170874.13 ex/sec (total: 1000000 ex, 5.85 sec)\n",
      "Examples/sec (First only) 1007.95 ex/sec (total: 25 ex, 0.02 sec)\n",
      "Examples/sec (First excluded) 171597.12 ex/sec (total: 999975 ex, 5.83 sec)\n",
      "prefetch = -1\n"
     ]
    },
    {
     "data": {
      "application/vnd.jupyter.widget-view+json": {
       "model_id": "bf250ccd9cbf4616b5e710f1cd8a39bf",
       "version_major": 2,
       "version_minor": 0
      },
      "text/plain": [
       "  0%|          | 1/40000 [00:00<?, ?it/s]"
      ]
     },
     "metadata": {},
     "output_type": "display_data"
    },
    {
     "name": "stdout",
     "output_type": "stream",
     "text": [
      "\n",
      "************ Summary ************\n",
      "\n",
      "Examples/sec (First included) 463326.07 ex/sec (total: 1000000 ex, 2.16 sec)\n",
      "Examples/sec (First only) 8595.07 ex/sec (total: 25 ex, 0.00 sec)\n",
      "Examples/sec (First excluded) 463939.72 ex/sec (total: 999975 ex, 2.16 sec)\n"
     ]
    },
    {
     "data": {
      "application/vnd.jupyter.widget-view+json": {
       "model_id": "face2466eccd4ae188ed7757309b5515",
       "version_major": 2,
       "version_minor": 0
      },
      "text/plain": [
       "1it [00:00, ?it/s]"
      ]
     },
     "metadata": {},
     "output_type": "display_data"
    },
    {
     "name": "stdout",
     "output_type": "stream",
     "text": [
      "\n",
      "************ Summary ************\n",
      "\n",
      "Examples/sec (First included) 5042.05 ex/sec (total: 1000000 ex, 198.33 sec)\n",
      "Examples/sec (First only) 1576.27 ex/sec (total: 25 ex, 0.02 sec)\n",
      "Examples/sec (First excluded) 5042.32 ex/sec (total: 999975 ex, 198.32 sec)\n"
     ]
    },
    {
     "data": {
      "application/vnd.jupyter.widget-view+json": {
       "model_id": "d7651924e8cd4aa4a5bbc3beac91637a",
       "version_major": 2,
       "version_minor": 0
      },
      "text/plain": [
       "1it [00:00, ?it/s]"
      ]
     },
     "metadata": {},
     "output_type": "display_data"
    },
    {
     "name": "stdout",
     "output_type": "stream",
     "text": [
      "\n",
      "************ Summary ************\n",
      "\n",
      "Examples/sec (First included) 287994.14 ex/sec (total: 1000000 ex, 3.47 sec)\n",
      "Examples/sec (First only) 968.86 ex/sec (total: 25 ex, 0.03 sec)\n",
      "Examples/sec (First excluded) 290143.08 ex/sec (total: 999975 ex, 3.45 sec)\n",
      "batch_size = 100\n",
      "prefetch = None\n"
     ]
    },
    {
     "data": {
      "application/vnd.jupyter.widget-view+json": {
       "model_id": "91959ff52c3a48b78b81e166a97a5764",
       "version_major": 2,
       "version_minor": 0
      },
      "text/plain": [
       "  0%|          | 1/10000 [00:00<?, ?it/s]"
      ]
     },
     "metadata": {},
     "output_type": "display_data"
    },
    {
     "name": "stdout",
     "output_type": "stream",
     "text": [
      "\n",
      "************ Summary ************\n",
      "\n",
      "Examples/sec (First included) 998406.61 ex/sec (total: 1000000 ex, 1.00 sec)\n",
      "Examples/sec (First only) 38872.31 ex/sec (total: 100 ex, 0.00 sec)\n",
      "Examples/sec (First excluded) 1000877.45 ex/sec (total: 999900 ex, 1.00 sec)\n"
     ]
    },
    {
     "data": {
      "application/vnd.jupyter.widget-view+json": {
       "model_id": "82f73be30abe48438de2857794978fe4",
       "version_major": 2,
       "version_minor": 0
      },
      "text/plain": [
       "1it [00:00, ?it/s]"
      ]
     },
     "metadata": {},
     "output_type": "display_data"
    },
    {
     "name": "stdout",
     "output_type": "stream",
     "text": [
      "\n",
      "************ Summary ************\n",
      "\n",
      "Examples/sec (First included) 5057.93 ex/sec (total: 1000000 ex, 197.71 sec)\n",
      "Examples/sec (First only) 3303.28 ex/sec (total: 100 ex, 0.03 sec)\n",
      "Examples/sec (First excluded) 5058.20 ex/sec (total: 999900 ex, 197.68 sec)\n"
     ]
    },
    {
     "data": {
      "application/vnd.jupyter.widget-view+json": {
       "model_id": "a4061de63eae44a3b89f3c6394e11c6d",
       "version_major": 2,
       "version_minor": 0
      },
      "text/plain": [
       "1it [00:00, ?it/s]"
      ]
     },
     "metadata": {},
     "output_type": "display_data"
    },
    {
     "name": "stdout",
     "output_type": "stream",
     "text": [
      "\n",
      "************ Summary ************\n",
      "\n",
      "Examples/sec (First included) 312382.81 ex/sec (total: 1000000 ex, 3.20 sec)\n",
      "Examples/sec (First only) 4156.19 ex/sec (total: 100 ex, 0.02 sec)\n",
      "Examples/sec (First excluded) 314717.01 ex/sec (total: 999900 ex, 3.18 sec)\n",
      "prefetch = -1\n"
     ]
    },
    {
     "data": {
      "application/vnd.jupyter.widget-view+json": {
       "model_id": "4ee68754d46f4774913aa1e2954c7b24",
       "version_major": 2,
       "version_minor": 0
      },
      "text/plain": [
       "  0%|          | 1/10000 [00:00<?, ?it/s]"
      ]
     },
     "metadata": {},
     "output_type": "display_data"
    },
    {
     "name": "stdout",
     "output_type": "stream",
     "text": [
      "\n",
      "************ Summary ************\n",
      "\n",
      "Examples/sec (First included) 1704394.55 ex/sec (total: 1000000 ex, 0.59 sec)\n",
      "Examples/sec (First only) 36304.77 ex/sec (total: 100 ex, 0.00 sec)\n",
      "Examples/sec (First excluded) 1712262.64 ex/sec (total: 999900 ex, 0.58 sec)\n"
     ]
    },
    {
     "data": {
      "application/vnd.jupyter.widget-view+json": {
       "model_id": "975f861b59aa4196bb1e2198bb584cb4",
       "version_major": 2,
       "version_minor": 0
      },
      "text/plain": [
       "1it [00:00, ?it/s]"
      ]
     },
     "metadata": {},
     "output_type": "display_data"
    },
    {
     "name": "stdout",
     "output_type": "stream",
     "text": [
      "\n",
      "************ Summary ************\n",
      "\n",
      "Examples/sec (First included) 5090.30 ex/sec (total: 1000000 ex, 196.45 sec)\n",
      "Examples/sec (First only) 3217.31 ex/sec (total: 100 ex, 0.03 sec)\n",
      "Examples/sec (First excluded) 5090.60 ex/sec (total: 999900 ex, 196.42 sec)\n"
     ]
    },
    {
     "data": {
      "application/vnd.jupyter.widget-view+json": {
       "model_id": "c223734e6c084667be2eacdaba08bf37",
       "version_major": 2,
       "version_minor": 0
      },
      "text/plain": [
       "1it [00:00, ?it/s]"
      ]
     },
     "metadata": {},
     "output_type": "display_data"
    },
    {
     "name": "stdout",
     "output_type": "stream",
     "text": [
      "\n",
      "************ Summary ************\n",
      "\n",
      "Examples/sec (First included) 413288.69 ex/sec (total: 1000000 ex, 2.42 sec)\n",
      "Examples/sec (First only) 3940.72 ex/sec (total: 100 ex, 0.03 sec)\n",
      "Examples/sec (First excluded) 417627.29 ex/sec (total: 999900 ex, 2.39 sec)\n",
      "batch_size = 250\n",
      "prefetch = None\n"
     ]
    },
    {
     "data": {
      "application/vnd.jupyter.widget-view+json": {
       "model_id": "40fd30e371d04ffa89d932d05a27b4d7",
       "version_major": 2,
       "version_minor": 0
      },
      "text/plain": [
       "  0%|          | 1/4000 [00:00<?, ?it/s]"
      ]
     },
     "metadata": {},
     "output_type": "display_data"
    },
    {
     "name": "stdout",
     "output_type": "stream",
     "text": [
      "\n",
      "************ Summary ************\n",
      "\n",
      "Examples/sec (First included) 1399437.65 ex/sec (total: 1000000 ex, 0.71 sec)\n",
      "Examples/sec (First only) 41445.77 ex/sec (total: 250 ex, 0.01 sec)\n",
      "Examples/sec (First excluded) 1410998.56 ex/sec (total: 999750 ex, 0.71 sec)\n"
     ]
    },
    {
     "data": {
      "application/vnd.jupyter.widget-view+json": {
       "model_id": "203ef4d7842f4e489a2e8de34cca133f",
       "version_major": 2,
       "version_minor": 0
      },
      "text/plain": [
       "1it [00:00, ?it/s]"
      ]
     },
     "metadata": {},
     "output_type": "display_data"
    },
    {
     "name": "stdout",
     "output_type": "stream",
     "text": [
      "\n",
      "************ Summary ************\n",
      "\n",
      "Examples/sec (First included) 5065.75 ex/sec (total: 1000000 ex, 197.40 sec)\n",
      "Examples/sec (First only) 4447.87 ex/sec (total: 250 ex, 0.06 sec)\n",
      "Examples/sec (First excluded) 5065.93 ex/sec (total: 999750 ex, 197.35 sec)\n"
     ]
    },
    {
     "data": {
      "application/vnd.jupyter.widget-view+json": {
       "model_id": "76f598527bf9477f850d5b8f32d19580",
       "version_major": 2,
       "version_minor": 0
      },
      "text/plain": [
       "1it [00:00, ?it/s]"
      ]
     },
     "metadata": {},
     "output_type": "display_data"
    },
    {
     "name": "stdout",
     "output_type": "stream",
     "text": [
      "\n",
      "************ Summary ************\n",
      "\n",
      "Examples/sec (First included) 371988.44 ex/sec (total: 1000000 ex, 2.69 sec)\n",
      "Examples/sec (First only) 9977.36 ex/sec (total: 250 ex, 0.03 sec)\n",
      "Examples/sec (First excluded) 375394.42 ex/sec (total: 999750 ex, 2.66 sec)\n",
      "prefetch = -1\n"
     ]
    },
    {
     "data": {
      "application/vnd.jupyter.widget-view+json": {
       "model_id": "31a6ba4e26f44834ac831c8c930abe89",
       "version_major": 2,
       "version_minor": 0
      },
      "text/plain": [
       "  0%|          | 1/4000 [00:00<?, ?it/s]"
      ]
     },
     "metadata": {},
     "output_type": "display_data"
    },
    {
     "name": "stdout",
     "output_type": "stream",
     "text": [
      "\n",
      "************ Summary ************\n",
      "\n",
      "Examples/sec (First included) 2123270.95 ex/sec (total: 1000000 ex, 0.47 sec)\n",
      "Examples/sec (First only) 87348.36 ex/sec (total: 250 ex, 0.00 sec)\n",
      "Examples/sec (First excluded) 2135718.93 ex/sec (total: 999750 ex, 0.47 sec)\n"
     ]
    },
    {
     "data": {
      "application/vnd.jupyter.widget-view+json": {
       "model_id": "58e63543ad7c4bb68157cd9de733c536",
       "version_major": 2,
       "version_minor": 0
      },
      "text/plain": [
       "1it [00:00, ?it/s]"
      ]
     },
     "metadata": {},
     "output_type": "display_data"
    },
    {
     "name": "stdout",
     "output_type": "stream",
     "text": [
      "\n",
      "************ Summary ************\n",
      "\n",
      "Examples/sec (First included) 5064.07 ex/sec (total: 1000000 ex, 197.47 sec)\n",
      "Examples/sec (First only) 3762.43 ex/sec (total: 250 ex, 0.07 sec)\n",
      "Examples/sec (First excluded) 5064.51 ex/sec (total: 999750 ex, 197.40 sec)\n"
     ]
    },
    {
     "data": {
      "application/vnd.jupyter.widget-view+json": {
       "model_id": "9f3c0fe33b054c7083a8da2b931b7922",
       "version_major": 2,
       "version_minor": 0
      },
      "text/plain": [
       "1it [00:00, ?it/s]"
      ]
     },
     "metadata": {},
     "output_type": "display_data"
    },
    {
     "name": "stdout",
     "output_type": "stream",
     "text": [
      "\n",
      "************ Summary ************\n",
      "\n",
      "Examples/sec (First included) 428308.86 ex/sec (total: 1000000 ex, 2.33 sec)\n",
      "Examples/sec (First only) 9445.21 ex/sec (total: 250 ex, 0.03 sec)\n",
      "Examples/sec (First excluded) 433111.83 ex/sec (total: 999750 ex, 2.31 sec)\n",
      "size = 1000\n",
      "batch_size = None\n",
      "prefetch = None\n"
     ]
    },
    {
     "data": {
      "application/vnd.jupyter.widget-view+json": {
       "model_id": "f1f00d696aa54b7690664ae4ccaad9e4",
       "version_major": 2,
       "version_minor": 0
      },
      "text/plain": [
       "  0%|          | 1/1000 [00:00<?, ?it/s]"
      ]
     },
     "metadata": {},
     "output_type": "display_data"
    },
    {
     "name": "stdout",
     "output_type": "stream",
     "text": [
      "\n",
      "************ Summary ************\n",
      "\n",
      "Examples/sec (First included) 13759.71 ex/sec (total: 1000 ex, 0.07 sec)\n",
      "Examples/sec (First only) 509.39 ex/sec (total: 1 ex, 0.00 sec)\n",
      "Examples/sec (First excluded) 14127.56 ex/sec (total: 999 ex, 0.07 sec)\n"
     ]
    },
    {
     "data": {
      "application/vnd.jupyter.widget-view+json": {
       "model_id": "b92ef35c61ab47e9b91df8a8715f1d58",
       "version_major": 2,
       "version_minor": 0
      },
      "text/plain": [
       "1it [00:00, ?it/s]"
      ]
     },
     "metadata": {},
     "output_type": "display_data"
    },
    {
     "name": "stdout",
     "output_type": "stream",
     "text": [
      "\n",
      "************ Summary ************\n",
      "\n",
      "Examples/sec (First included) 2721.44 ex/sec (total: 1000 ex, 0.37 sec)\n",
      "Examples/sec (First only) 102.53 ex/sec (total: 1 ex, 0.01 sec)\n",
      "Examples/sec (First excluded) 2792.84 ex/sec (total: 999 ex, 0.36 sec)\n"
     ]
    },
    {
     "data": {
      "application/vnd.jupyter.widget-view+json": {
       "model_id": "ca0088b1c29949cf987c8a1e5b870a19",
       "version_major": 2,
       "version_minor": 0
      },
      "text/plain": [
       "1it [00:00, ?it/s]"
      ]
     },
     "metadata": {},
     "output_type": "display_data"
    },
    {
     "name": "stdout",
     "output_type": "stream",
     "text": [
      "\n",
      "************ Summary ************\n",
      "\n",
      "Examples/sec (First included) 8599.91 ex/sec (total: 1000 ex, 0.12 sec)\n",
      "Examples/sec (First only) 93.94 ex/sec (total: 1 ex, 0.01 sec)\n",
      "Examples/sec (First excluded) 9457.03 ex/sec (total: 999 ex, 0.11 sec)\n",
      "prefetch = -1\n"
     ]
    },
    {
     "data": {
      "application/vnd.jupyter.widget-view+json": {
       "model_id": "74f70f0d05c742869702a57e539c8eca",
       "version_major": 2,
       "version_minor": 0
      },
      "text/plain": [
       "  0%|          | 1/1000 [00:00<?, ?it/s]"
      ]
     },
     "metadata": {},
     "output_type": "display_data"
    },
    {
     "name": "stdout",
     "output_type": "stream",
     "text": [
      "\n",
      "************ Summary ************\n",
      "\n",
      "Examples/sec (First included) 13749.96 ex/sec (total: 1000 ex, 0.07 sec)\n",
      "Examples/sec (First only) 455.01 ex/sec (total: 1 ex, 0.00 sec)\n",
      "Examples/sec (First excluded) 14164.24 ex/sec (total: 999 ex, 0.07 sec)\n"
     ]
    },
    {
     "data": {
      "application/vnd.jupyter.widget-view+json": {
       "model_id": "389f991813b949e6aa82f72ff28dd0ea",
       "version_major": 2,
       "version_minor": 0
      },
      "text/plain": [
       "1it [00:00, ?it/s]"
      ]
     },
     "metadata": {},
     "output_type": "display_data"
    },
    {
     "name": "stdout",
     "output_type": "stream",
     "text": [
      "\n",
      "************ Summary ************\n",
      "\n",
      "Examples/sec (First included) 3973.36 ex/sec (total: 1000 ex, 0.25 sec)\n",
      "Examples/sec (First only) 99.97 ex/sec (total: 1 ex, 0.01 sec)\n",
      "Examples/sec (First excluded) 4133.67 ex/sec (total: 999 ex, 0.24 sec)\n"
     ]
    },
    {
     "data": {
      "application/vnd.jupyter.widget-view+json": {
       "model_id": "3f6d954851df406cb438d34285614e63",
       "version_major": 2,
       "version_minor": 0
      },
      "text/plain": [
       "1it [00:00, ?it/s]"
      ]
     },
     "metadata": {},
     "output_type": "display_data"
    },
    {
     "name": "stdout",
     "output_type": "stream",
     "text": [
      "\n",
      "************ Summary ************\n",
      "\n",
      "Examples/sec (First included) 9056.47 ex/sec (total: 1000 ex, 0.11 sec)\n",
      "Examples/sec (First only) 93.60 ex/sec (total: 1 ex, 0.01 sec)\n",
      "Examples/sec (First excluded) 10016.54 ex/sec (total: 999 ex, 0.10 sec)\n",
      "batch_size = 10\n",
      "prefetch = None\n"
     ]
    },
    {
     "data": {
      "application/vnd.jupyter.widget-view+json": {
       "model_id": "6ee21e946ab543109a92d4ee475c4230",
       "version_major": 2,
       "version_minor": 0
      },
      "text/plain": [
       "  1%|1         | 1/100 [00:00<?, ?it/s]"
      ]
     },
     "metadata": {},
     "output_type": "display_data"
    },
    {
     "name": "stdout",
     "output_type": "stream",
     "text": [
      "\n",
      "************ Summary ************\n",
      "\n",
      "Examples/sec (First included) 33215.60 ex/sec (total: 1000 ex, 0.03 sec)\n",
      "Examples/sec (First only) 4578.17 ex/sec (total: 10 ex, 0.00 sec)\n",
      "Examples/sec (First excluded) 35455.84 ex/sec (total: 990 ex, 0.03 sec)\n"
     ]
    },
    {
     "data": {
      "application/vnd.jupyter.widget-view+json": {
       "model_id": "6af229d7d53a4ea1a6a096523d40330a",
       "version_major": 2,
       "version_minor": 0
      },
      "text/plain": [
       "1it [00:00, ?it/s]"
      ]
     },
     "metadata": {},
     "output_type": "display_data"
    },
    {
     "name": "stdout",
     "output_type": "stream",
     "text": [
      "\n",
      "************ Summary ************\n",
      "\n",
      "Examples/sec (First included) 4382.04 ex/sec (total: 1000 ex, 0.23 sec)\n",
      "Examples/sec (First only) 831.89 ex/sec (total: 10 ex, 0.01 sec)\n",
      "Examples/sec (First excluded) 4579.44 ex/sec (total: 990 ex, 0.22 sec)\n"
     ]
    },
    {
     "data": {
      "application/vnd.jupyter.widget-view+json": {
       "model_id": "b0e6284f7dde4b0c97e6f6ecf88cf786",
       "version_major": 2,
       "version_minor": 0
      },
      "text/plain": [
       "1it [00:00, ?it/s]"
      ]
     },
     "metadata": {},
     "output_type": "display_data"
    },
    {
     "name": "stdout",
     "output_type": "stream",
     "text": [
      "\n",
      "************ Summary ************\n",
      "\n",
      "Examples/sec (First included) 19074.44 ex/sec (total: 1000 ex, 0.05 sec)\n",
      "Examples/sec (First only) 510.72 ex/sec (total: 10 ex, 0.02 sec)\n",
      "Examples/sec (First excluded) 30140.78 ex/sec (total: 990 ex, 0.03 sec)\n",
      "prefetch = -1\n"
     ]
    },
    {
     "data": {
      "application/vnd.jupyter.widget-view+json": {
       "model_id": "9da82adbb97a4b27acfef1c51552a99f",
       "version_major": 2,
       "version_minor": 0
      },
      "text/plain": [
       "  1%|1         | 1/100 [00:00<?, ?it/s]"
      ]
     },
     "metadata": {},
     "output_type": "display_data"
    },
    {
     "name": "stdout",
     "output_type": "stream",
     "text": [
      "\n",
      "************ Summary ************\n",
      "\n",
      "Examples/sec (First included) 31379.37 ex/sec (total: 1000 ex, 0.03 sec)\n",
      "Examples/sec (First only) 4166.75 ex/sec (total: 10 ex, 0.00 sec)\n",
      "Examples/sec (First excluded) 33595.63 ex/sec (total: 990 ex, 0.03 sec)\n"
     ]
    },
    {
     "data": {
      "application/vnd.jupyter.widget-view+json": {
       "model_id": "006efb6df26948c5afc012f18c80de30",
       "version_major": 2,
       "version_minor": 0
      },
      "text/plain": [
       "1it [00:00, ?it/s]"
      ]
     },
     "metadata": {},
     "output_type": "display_data"
    },
    {
     "name": "stdout",
     "output_type": "stream",
     "text": [
      "\n",
      "************ Summary ************\n",
      "\n",
      "Examples/sec (First included) 4290.34 ex/sec (total: 1000 ex, 0.23 sec)\n",
      "Examples/sec (First only) 808.24 ex/sec (total: 10 ex, 0.01 sec)\n",
      "Examples/sec (First excluded) 4485.54 ex/sec (total: 990 ex, 0.22 sec)\n"
     ]
    },
    {
     "data": {
      "application/vnd.jupyter.widget-view+json": {
       "model_id": "9033cee65c404f3aa5274d5497f71d18",
       "version_major": 2,
       "version_minor": 0
      },
      "text/plain": [
       "1it [00:00, ?it/s]"
      ]
     },
     "metadata": {},
     "output_type": "display_data"
    },
    {
     "name": "stdout",
     "output_type": "stream",
     "text": [
      "\n",
      "************ Summary ************\n",
      "\n",
      "Examples/sec (First included) 20296.58 ex/sec (total: 1000 ex, 0.05 sec)\n",
      "Examples/sec (First only) 514.87 ex/sec (total: 10 ex, 0.02 sec)\n",
      "Examples/sec (First excluded) 33169.16 ex/sec (total: 990 ex, 0.03 sec)\n",
      "batch_size = 25\n",
      "prefetch = None\n"
     ]
    },
    {
     "data": {
      "application/vnd.jupyter.widget-view+json": {
       "model_id": "8abd559faf4844d28da9df32dc2e0b96",
       "version_major": 2,
       "version_minor": 0
      },
      "text/plain": [
       "  2%|2         | 1/40 [00:00<?, ?it/s]"
      ]
     },
     "metadata": {},
     "output_type": "display_data"
    },
    {
     "name": "stdout",
     "output_type": "stream",
     "text": [
      "\n",
      "************ Summary ************\n",
      "\n",
      "Examples/sec (First included) 37681.23 ex/sec (total: 1000 ex, 0.03 sec)\n",
      "Examples/sec (First only) 11321.14 ex/sec (total: 25 ex, 0.00 sec)\n",
      "Examples/sec (First excluded) 40073.73 ex/sec (total: 975 ex, 0.02 sec)\n"
     ]
    },
    {
     "data": {
      "application/vnd.jupyter.widget-view+json": {
       "model_id": "cb038432f404472cb2605c7c64cfb544",
       "version_major": 2,
       "version_minor": 0
      },
      "text/plain": [
       "1it [00:00, ?it/s]"
      ]
     },
     "metadata": {},
     "output_type": "display_data"
    },
    {
     "name": "stdout",
     "output_type": "stream",
     "text": [
      "\n",
      "************ Summary ************\n",
      "\n",
      "Examples/sec (First included) 4841.39 ex/sec (total: 1000 ex, 0.21 sec)\n",
      "Examples/sec (First only) 1584.27 ex/sec (total: 25 ex, 0.02 sec)\n",
      "Examples/sec (First excluded) 5110.81 ex/sec (total: 975 ex, 0.19 sec)\n"
     ]
    },
    {
     "data": {
      "application/vnd.jupyter.widget-view+json": {
       "model_id": "5efb7f868fe240208b3d5a7432b262e4",
       "version_major": 2,
       "version_minor": 0
      },
      "text/plain": [
       "1it [00:00, ?it/s]"
      ]
     },
     "metadata": {},
     "output_type": "display_data"
    },
    {
     "name": "stdout",
     "output_type": "stream",
     "text": [
      "\n",
      "************ Summary ************\n",
      "\n",
      "Examples/sec (First included) 20972.11 ex/sec (total: 1000 ex, 0.05 sec)\n",
      "Examples/sec (First only) 1346.67 ex/sec (total: 25 ex, 0.02 sec)\n",
      "Examples/sec (First excluded) 33484.42 ex/sec (total: 975 ex, 0.03 sec)\n",
      "prefetch = -1\n"
     ]
    },
    {
     "data": {
      "application/vnd.jupyter.widget-view+json": {
       "model_id": "b199361a84364cf88cf02228140559fd",
       "version_major": 2,
       "version_minor": 0
      },
      "text/plain": [
       "  2%|2         | 1/40 [00:00<?, ?it/s]"
      ]
     },
     "metadata": {},
     "output_type": "display_data"
    },
    {
     "name": "stdout",
     "output_type": "stream",
     "text": [
      "\n",
      "************ Summary ************\n",
      "\n",
      "Examples/sec (First included) 38453.91 ex/sec (total: 1000 ex, 0.03 sec)\n",
      "Examples/sec (First only) 10367.24 ex/sec (total: 25 ex, 0.00 sec)\n",
      "Examples/sec (First excluded) 41324.56 ex/sec (total: 975 ex, 0.02 sec)\n"
     ]
    },
    {
     "data": {
      "application/vnd.jupyter.widget-view+json": {
       "model_id": "fab505cebf354c0590b94cab0f57be46",
       "version_major": 2,
       "version_minor": 0
      },
      "text/plain": [
       "1it [00:00, ?it/s]"
      ]
     },
     "metadata": {},
     "output_type": "display_data"
    },
    {
     "name": "stdout",
     "output_type": "stream",
     "text": [
      "\n",
      "************ Summary ************\n",
      "\n",
      "Examples/sec (First included) 4138.26 ex/sec (total: 1000 ex, 0.24 sec)\n",
      "Examples/sec (First only) 1688.00 ex/sec (total: 25 ex, 0.01 sec)\n",
      "Examples/sec (First excluded) 4298.24 ex/sec (total: 975 ex, 0.23 sec)\n"
     ]
    },
    {
     "data": {
      "application/vnd.jupyter.widget-view+json": {
       "model_id": "5cc6b954bf8e4bb5ac26a9971ae1625c",
       "version_major": 2,
       "version_minor": 0
      },
      "text/plain": [
       "1it [00:00, ?it/s]"
      ]
     },
     "metadata": {},
     "output_type": "display_data"
    },
    {
     "name": "stdout",
     "output_type": "stream",
     "text": [
      "\n",
      "************ Summary ************\n",
      "\n",
      "Examples/sec (First included) 22178.70 ex/sec (total: 1000 ex, 0.05 sec)\n",
      "Examples/sec (First only) 1248.64 ex/sec (total: 25 ex, 0.02 sec)\n",
      "Examples/sec (First excluded) 38896.40 ex/sec (total: 975 ex, 0.03 sec)\n",
      "batch_size = 100\n",
      "prefetch = None\n"
     ]
    },
    {
     "data": {
      "application/vnd.jupyter.widget-view+json": {
       "model_id": "76ef309b7a2f43e990e0a6abc0e1840d",
       "version_major": 2,
       "version_minor": 0
      },
      "text/plain": [
       " 10%|#         | 1/10 [00:00<?, ?it/s]"
      ]
     },
     "metadata": {},
     "output_type": "display_data"
    },
    {
     "name": "stdout",
     "output_type": "stream",
     "text": [
      "\n",
      "************ Summary ************\n",
      "\n",
      "Examples/sec (First included) 39043.56 ex/sec (total: 1000 ex, 0.03 sec)\n",
      "Examples/sec (First only) 43374.54 ex/sec (total: 100 ex, 0.00 sec)\n",
      "Examples/sec (First excluded) 38615.14 ex/sec (total: 900 ex, 0.02 sec)\n"
     ]
    },
    {
     "data": {
      "application/vnd.jupyter.widget-view+json": {
       "model_id": "0cdee2e283b542a38cb1ff84d44d9fac",
       "version_major": 2,
       "version_minor": 0
      },
      "text/plain": [
       "1it [00:00, ?it/s]"
      ]
     },
     "metadata": {},
     "output_type": "display_data"
    },
    {
     "name": "stdout",
     "output_type": "stream",
     "text": [
      "\n",
      "************ Summary ************\n",
      "\n",
      "Examples/sec (First included) 4360.76 ex/sec (total: 1000 ex, 0.23 sec)\n",
      "Examples/sec (First only) 3009.70 ex/sec (total: 100 ex, 0.03 sec)\n",
      "Examples/sec (First excluded) 4589.68 ex/sec (total: 900 ex, 0.20 sec)\n"
     ]
    },
    {
     "data": {
      "application/vnd.jupyter.widget-view+json": {
       "model_id": "1527d3bb62574d378cf6175d68668626",
       "version_major": 2,
       "version_minor": 0
      },
      "text/plain": [
       "1it [00:00, ?it/s]"
      ]
     },
     "metadata": {},
     "output_type": "display_data"
    },
    {
     "name": "stdout",
     "output_type": "stream",
     "text": [
      "\n",
      "************ Summary ************\n",
      "\n",
      "Examples/sec (First included) 22032.52 ex/sec (total: 1000 ex, 0.05 sec)\n",
      "Examples/sec (First only) 4969.63 ex/sec (total: 100 ex, 0.02 sec)\n",
      "Examples/sec (First excluded) 35622.07 ex/sec (total: 900 ex, 0.03 sec)\n",
      "prefetch = -1\n"
     ]
    },
    {
     "data": {
      "application/vnd.jupyter.widget-view+json": {
       "model_id": "7e19c4143e1a494b98dd982562430019",
       "version_major": 2,
       "version_minor": 0
      },
      "text/plain": [
       " 10%|#         | 1/10 [00:00<?, ?it/s]"
      ]
     },
     "metadata": {},
     "output_type": "display_data"
    },
    {
     "name": "stdout",
     "output_type": "stream",
     "text": [
      "\n",
      "************ Summary ************\n",
      "\n",
      "Examples/sec (First included) 39852.61 ex/sec (total: 1000 ex, 0.03 sec)\n",
      "Examples/sec (First only) 38543.93 ex/sec (total: 100 ex, 0.00 sec)\n",
      "Examples/sec (First excluded) 40003.52 ex/sec (total: 900 ex, 0.02 sec)\n"
     ]
    },
    {
     "data": {
      "application/vnd.jupyter.widget-view+json": {
       "model_id": "c7bfcd954b7a444a974d3cd05fcd0f0c",
       "version_major": 2,
       "version_minor": 0
      },
      "text/plain": [
       "1it [00:00, ?it/s]"
      ]
     },
     "metadata": {},
     "output_type": "display_data"
    },
    {
     "name": "stdout",
     "output_type": "stream",
     "text": [
      "\n",
      "************ Summary ************\n",
      "\n",
      "Examples/sec (First included) 4442.97 ex/sec (total: 1000 ex, 0.23 sec)\n",
      "Examples/sec (First only) 3742.59 ex/sec (total: 100 ex, 0.03 sec)\n",
      "Examples/sec (First excluded) 4537.31 ex/sec (total: 900 ex, 0.20 sec)\n"
     ]
    },
    {
     "data": {
      "application/vnd.jupyter.widget-view+json": {
       "model_id": "25bed9c8bd024efc940b7dd55051fd3e",
       "version_major": 2,
       "version_minor": 0
      },
      "text/plain": [
       "1it [00:00, ?it/s]"
      ]
     },
     "metadata": {},
     "output_type": "display_data"
    },
    {
     "name": "stdout",
     "output_type": "stream",
     "text": [
      "\n",
      "************ Summary ************\n",
      "\n",
      "Examples/sec (First included) 21999.80 ex/sec (total: 1000 ex, 0.05 sec)\n",
      "Examples/sec (First only) 4795.74 ex/sec (total: 100 ex, 0.02 sec)\n",
      "Examples/sec (First excluded) 36580.73 ex/sec (total: 900 ex, 0.02 sec)\n",
      "batch_size = 250\n",
      "prefetch = None\n"
     ]
    },
    {
     "data": {
      "application/vnd.jupyter.widget-view+json": {
       "model_id": "1b24d9a14ea04e45814bfd7d1f509009",
       "version_major": 2,
       "version_minor": 0
      },
      "text/plain": [
       " 25%|##5       | 1/4 [00:00<?, ?it/s]"
      ]
     },
     "metadata": {},
     "output_type": "display_data"
    },
    {
     "name": "stdout",
     "output_type": "stream",
     "text": [
      "\n",
      "************ Summary ************\n",
      "\n",
      "Examples/sec (First included) 29830.85 ex/sec (total: 1000 ex, 0.03 sec)\n",
      "Examples/sec (First only) 74638.85 ex/sec (total: 250 ex, 0.00 sec)\n",
      "Examples/sec (First excluded) 24856.76 ex/sec (total: 750 ex, 0.03 sec)\n"
     ]
    },
    {
     "data": {
      "application/vnd.jupyter.widget-view+json": {
       "model_id": "970b8f5a7bf642ffb7e97b921c819299",
       "version_major": 2,
       "version_minor": 0
      },
      "text/plain": [
       "1it [00:00, ?it/s]"
      ]
     },
     "metadata": {},
     "output_type": "display_data"
    },
    {
     "name": "stdout",
     "output_type": "stream",
     "text": [
      "\n",
      "************ Summary ************\n",
      "\n",
      "Examples/sec (First included) 4367.95 ex/sec (total: 1000 ex, 0.23 sec)\n",
      "Examples/sec (First only) 4161.93 ex/sec (total: 250 ex, 0.06 sec)\n",
      "Examples/sec (First excluded) 4441.24 ex/sec (total: 750 ex, 0.17 sec)\n"
     ]
    },
    {
     "data": {
      "application/vnd.jupyter.widget-view+json": {
       "model_id": "60fb3565748f40bbbe0fb4619f6f34c4",
       "version_major": 2,
       "version_minor": 0
      },
      "text/plain": [
       "1it [00:00, ?it/s]"
      ]
     },
     "metadata": {},
     "output_type": "display_data"
    },
    {
     "name": "stdout",
     "output_type": "stream",
     "text": [
      "\n",
      "************ Summary ************\n",
      "\n",
      "Examples/sec (First included) 22971.20 ex/sec (total: 1000 ex, 0.04 sec)\n",
      "Examples/sec (First only) 12595.20 ex/sec (total: 250 ex, 0.02 sec)\n",
      "Examples/sec (First excluded) 31667.05 ex/sec (total: 750 ex, 0.02 sec)\n",
      "prefetch = -1\n"
     ]
    },
    {
     "data": {
      "application/vnd.jupyter.widget-view+json": {
       "model_id": "a9c947a384ed4de4b1c637ff93c4f20d",
       "version_major": 2,
       "version_minor": 0
      },
      "text/plain": [
       " 25%|##5       | 1/4 [00:00<?, ?it/s]"
      ]
     },
     "metadata": {},
     "output_type": "display_data"
    },
    {
     "name": "stdout",
     "output_type": "stream",
     "text": [
      "\n",
      "************ Summary ************\n",
      "\n",
      "Examples/sec (First included) 40706.48 ex/sec (total: 1000 ex, 0.02 sec)\n",
      "Examples/sec (First only) 96640.58 ex/sec (total: 250 ex, 0.00 sec)\n",
      "Examples/sec (First excluded) 34123.15 ex/sec (total: 750 ex, 0.02 sec)\n"
     ]
    },
    {
     "data": {
      "application/vnd.jupyter.widget-view+json": {
       "model_id": "5c8ad00ff9b44e5aa782cde8e50ffef7",
       "version_major": 2,
       "version_minor": 0
      },
      "text/plain": [
       "1it [00:00, ?it/s]"
      ]
     },
     "metadata": {},
     "output_type": "display_data"
    },
    {
     "name": "stdout",
     "output_type": "stream",
     "text": [
      "\n",
      "************ Summary ************\n",
      "\n",
      "Examples/sec (First included) 4179.44 ex/sec (total: 1000 ex, 0.24 sec)\n",
      "Examples/sec (First only) 3824.78 ex/sec (total: 250 ex, 0.07 sec)\n",
      "Examples/sec (First excluded) 4312.74 ex/sec (total: 750 ex, 0.17 sec)\n"
     ]
    },
    {
     "data": {
      "application/vnd.jupyter.widget-view+json": {
       "model_id": "2dd228ca50ec4852bd39fffaa48d0f83",
       "version_major": 2,
       "version_minor": 0
      },
      "text/plain": [
       "1it [00:00, ?it/s]"
      ]
     },
     "metadata": {},
     "output_type": "display_data"
    },
    {
     "name": "stdout",
     "output_type": "stream",
     "text": [
      "\n",
      "************ Summary ************\n",
      "\n",
      "Examples/sec (First included) 22465.16 ex/sec (total: 1000 ex, 0.04 sec)\n",
      "Examples/sec (First only) 11803.49 ex/sec (total: 250 ex, 0.02 sec)\n",
      "Examples/sec (First excluded) 32143.04 ex/sec (total: 750 ex, 0.02 sec)\n",
      "size = 10000\n",
      "batch_size = None\n",
      "prefetch = None\n"
     ]
    },
    {
     "data": {
      "application/vnd.jupyter.widget-view+json": {
       "model_id": "87e9f3e7429a452498bbaed118a0d20a",
       "version_major": 2,
       "version_minor": 0
      },
      "text/plain": [
       "  0%|          | 1/10000 [00:00<?, ?it/s]"
      ]
     },
     "metadata": {},
     "output_type": "display_data"
    },
    {
     "name": "stdout",
     "output_type": "stream",
     "text": [
      "\n",
      "************ Summary ************\n",
      "\n",
      "Examples/sec (First included) 20209.67 ex/sec (total: 10000 ex, 0.49 sec)\n",
      "Examples/sec (First only) 488.23 ex/sec (total: 1 ex, 0.00 sec)\n",
      "Examples/sec (First excluded) 20291.65 ex/sec (total: 9999 ex, 0.49 sec)\n"
     ]
    },
    {
     "data": {
      "application/vnd.jupyter.widget-view+json": {
       "model_id": "5936c7cb8393456586e078f16040d574",
       "version_major": 2,
       "version_minor": 0
      },
      "text/plain": [
       "1it [00:00, ?it/s]"
      ]
     },
     "metadata": {},
     "output_type": "display_data"
    },
    {
     "name": "stdout",
     "output_type": "stream",
     "text": [
      "\n",
      "************ Summary ************\n",
      "\n",
      "Examples/sec (First included) 3229.52 ex/sec (total: 10000 ex, 3.10 sec)\n",
      "Examples/sec (First only) 98.73 ex/sec (total: 1 ex, 0.01 sec)\n",
      "Examples/sec (First excluded) 3239.79 ex/sec (total: 9999 ex, 3.09 sec)\n"
     ]
    },
    {
     "data": {
      "application/vnd.jupyter.widget-view+json": {
       "model_id": "596306c14b164e7fa78413e4dd7f7367",
       "version_major": 2,
       "version_minor": 0
      },
      "text/plain": [
       "1it [00:00, ?it/s]"
      ]
     },
     "metadata": {},
     "output_type": "display_data"
    },
    {
     "name": "stdout",
     "output_type": "stream",
     "text": [
      "\n",
      "************ Summary ************\n",
      "\n",
      "Examples/sec (First included) 13315.26 ex/sec (total: 10000 ex, 0.75 sec)\n",
      "Examples/sec (First only) 95.58 ex/sec (total: 1 ex, 0.01 sec)\n",
      "Examples/sec (First excluded) 13502.02 ex/sec (total: 9999 ex, 0.74 sec)\n",
      "prefetch = -1\n"
     ]
    },
    {
     "data": {
      "application/vnd.jupyter.widget-view+json": {
       "model_id": "432ab6f189af4727b4e8ec707eacd88d",
       "version_major": 2,
       "version_minor": 0
      },
      "text/plain": [
       "  0%|          | 1/10000 [00:00<?, ?it/s]"
      ]
     },
     "metadata": {},
     "output_type": "display_data"
    },
    {
     "name": "stdout",
     "output_type": "stream",
     "text": [
      "\n",
      "************ Summary ************\n",
      "\n",
      "Examples/sec (First included) 18177.43 ex/sec (total: 10000 ex, 0.55 sec)\n",
      "Examples/sec (First only) 462.20 ex/sec (total: 1 ex, 0.00 sec)\n",
      "Examples/sec (First excluded) 18247.37 ex/sec (total: 9999 ex, 0.55 sec)\n"
     ]
    },
    {
     "data": {
      "application/vnd.jupyter.widget-view+json": {
       "model_id": "a27f4f7d1a4945bfafcbd4cdc68a51c2",
       "version_major": 2,
       "version_minor": 0
      },
      "text/plain": [
       "1it [00:00, ?it/s]"
      ]
     },
     "metadata": {},
     "output_type": "display_data"
    },
    {
     "name": "stdout",
     "output_type": "stream",
     "text": [
      "\n",
      "************ Summary ************\n",
      "\n",
      "Examples/sec (First included) 4518.75 ex/sec (total: 10000 ex, 2.21 sec)\n",
      "Examples/sec (First only) 99.62 ex/sec (total: 1 ex, 0.01 sec)\n",
      "Examples/sec (First excluded) 4538.88 ex/sec (total: 9999 ex, 2.20 sec)\n"
     ]
    },
    {
     "data": {
      "application/vnd.jupyter.widget-view+json": {
       "model_id": "f659198700a34f2ea908ff6266c77cbd",
       "version_major": 2,
       "version_minor": 0
      },
      "text/plain": [
       "1it [00:00, ?it/s]"
      ]
     },
     "metadata": {},
     "output_type": "display_data"
    },
    {
     "name": "stdout",
     "output_type": "stream",
     "text": [
      "\n",
      "************ Summary ************\n",
      "\n",
      "Examples/sec (First included) 13532.84 ex/sec (total: 10000 ex, 0.74 sec)\n",
      "Examples/sec (First only) 89.77 ex/sec (total: 1 ex, 0.01 sec)\n",
      "Examples/sec (First excluded) 13738.58 ex/sec (total: 9999 ex, 0.73 sec)\n",
      "batch_size = 10\n",
      "prefetch = None\n"
     ]
    },
    {
     "data": {
      "application/vnd.jupyter.widget-view+json": {
       "model_id": "3dfa340434664dfeab78900b1064d6e8",
       "version_major": 2,
       "version_minor": 0
      },
      "text/plain": [
       "  0%|          | 1/1000 [00:00<?, ?it/s]"
      ]
     },
     "metadata": {},
     "output_type": "display_data"
    },
    {
     "name": "stdout",
     "output_type": "stream",
     "text": [
      "\n",
      "************ Summary ************\n",
      "\n",
      "Examples/sec (First included) 120843.92 ex/sec (total: 10000 ex, 0.08 sec)\n",
      "Examples/sec (First only) 4435.84 ex/sec (total: 10 ex, 0.00 sec)\n",
      "Examples/sec (First excluded) 124103.99 ex/sec (total: 9990 ex, 0.08 sec)\n"
     ]
    },
    {
     "data": {
      "application/vnd.jupyter.widget-view+json": {
       "model_id": "17adcfc400354b4aa639aac33f898d27",
       "version_major": 2,
       "version_minor": 0
      },
      "text/plain": [
       "1it [00:00, ?it/s]"
      ]
     },
     "metadata": {},
     "output_type": "display_data"
    },
    {
     "name": "stdout",
     "output_type": "stream",
     "text": [
      "\n",
      "************ Summary ************\n",
      "\n",
      "Examples/sec (First included) 4634.59 ex/sec (total: 10000 ex, 2.16 sec)\n",
      "Examples/sec (First only) 803.84 ex/sec (total: 10 ex, 0.01 sec)\n",
      "Examples/sec (First excluded) 4656.80 ex/sec (total: 9990 ex, 2.15 sec)\n"
     ]
    },
    {
     "data": {
      "application/vnd.jupyter.widget-view+json": {
       "model_id": "d9b6d92bc6014323ba6606fcfd1ac27e",
       "version_major": 2,
       "version_minor": 0
      },
      "text/plain": [
       "1it [00:00, ?it/s]"
      ]
     },
     "metadata": {},
     "output_type": "display_data"
    },
    {
     "name": "stdout",
     "output_type": "stream",
     "text": [
      "\n",
      "************ Summary ************\n",
      "\n",
      "Examples/sec (First included) 66481.09 ex/sec (total: 10000 ex, 0.15 sec)\n",
      "Examples/sec (First only) 520.17 ex/sec (total: 10 ex, 0.02 sec)\n",
      "Examples/sec (First excluded) 76146.68 ex/sec (total: 9990 ex, 0.13 sec)\n",
      "prefetch = -1\n"
     ]
    },
    {
     "data": {
      "application/vnd.jupyter.widget-view+json": {
       "model_id": "057af455f1824dce84681af4b20ff096",
       "version_major": 2,
       "version_minor": 0
      },
      "text/plain": [
       "  0%|          | 1/1000 [00:00<?, ?it/s]"
      ]
     },
     "metadata": {},
     "output_type": "display_data"
    },
    {
     "name": "stdout",
     "output_type": "stream",
     "text": [
      "\n",
      "************ Summary ************\n",
      "\n",
      "Examples/sec (First included) 130824.94 ex/sec (total: 10000 ex, 0.08 sec)\n",
      "Examples/sec (First only) 3934.85 ex/sec (total: 10 ex, 0.00 sec)\n",
      "Examples/sec (First excluded) 135188.84 ex/sec (total: 9990 ex, 0.07 sec)\n"
     ]
    },
    {
     "data": {
      "application/vnd.jupyter.widget-view+json": {
       "model_id": "77bcae922f9a4bceaf3ac4a6b9954b83",
       "version_major": 2,
       "version_minor": 0
      },
      "text/plain": [
       "1it [00:00, ?it/s]"
      ]
     },
     "metadata": {},
     "output_type": "display_data"
    },
    {
     "name": "stdout",
     "output_type": "stream",
     "text": [
      "\n",
      "************ Summary ************\n",
      "\n",
      "Examples/sec (First included) 4882.87 ex/sec (total: 10000 ex, 2.05 sec)\n",
      "Examples/sec (First only) 798.37 ex/sec (total: 10 ex, 0.01 sec)\n",
      "Examples/sec (First excluded) 4908.00 ex/sec (total: 9990 ex, 2.04 sec)\n"
     ]
    },
    {
     "data": {
      "application/vnd.jupyter.widget-view+json": {
       "model_id": "ba21bcabead6423c9147e67bfbc51129",
       "version_major": 2,
       "version_minor": 0
      },
      "text/plain": [
       "1it [00:00, ?it/s]"
      ]
     },
     "metadata": {},
     "output_type": "display_data"
    },
    {
     "name": "stdout",
     "output_type": "stream",
     "text": [
      "\n",
      "************ Summary ************\n",
      "\n",
      "Examples/sec (First included) 60428.38 ex/sec (total: 10000 ex, 0.17 sec)\n",
      "Examples/sec (First only) 495.97 ex/sec (total: 10 ex, 0.02 sec)\n",
      "Examples/sec (First excluded) 68743.63 ex/sec (total: 9990 ex, 0.15 sec)\n",
      "batch_size = 25\n",
      "prefetch = None\n"
     ]
    },
    {
     "data": {
      "application/vnd.jupyter.widget-view+json": {
       "model_id": "9e335b6b2ac440a494d20f6e003e8190",
       "version_major": 2,
       "version_minor": 0
      },
      "text/plain": [
       "  0%|          | 1/400 [00:00<?, ?it/s]"
      ]
     },
     "metadata": {},
     "output_type": "display_data"
    },
    {
     "name": "stdout",
     "output_type": "stream",
     "text": [
      "\n",
      "************ Summary ************\n",
      "\n",
      "Examples/sec (First included) 196313.40 ex/sec (total: 10000 ex, 0.05 sec)\n",
      "Examples/sec (First only) 10292.38 ex/sec (total: 25 ex, 0.00 sec)\n",
      "Examples/sec (First excluded) 205627.80 ex/sec (total: 9975 ex, 0.05 sec)\n"
     ]
    },
    {
     "data": {
      "application/vnd.jupyter.widget-view+json": {
       "model_id": "70daf41d057b4d188086a4ed103e6b98",
       "version_major": 2,
       "version_minor": 0
      },
      "text/plain": [
       "1it [00:00, ?it/s]"
      ]
     },
     "metadata": {},
     "output_type": "display_data"
    },
    {
     "name": "stdout",
     "output_type": "stream",
     "text": [
      "\n",
      "************ Summary ************\n",
      "\n",
      "Examples/sec (First included) 5049.52 ex/sec (total: 10000 ex, 1.98 sec)\n",
      "Examples/sec (First only) 1774.79 ex/sec (total: 25 ex, 0.01 sec)\n",
      "Examples/sec (First excluded) 5072.98 ex/sec (total: 9975 ex, 1.97 sec)\n"
     ]
    },
    {
     "data": {
      "application/vnd.jupyter.widget-view+json": {
       "model_id": "cf6afcfcfe554c29a6acb632bd62839e",
       "version_major": 2,
       "version_minor": 0
      },
      "text/plain": [
       "1it [00:00, ?it/s]"
      ]
     },
     "metadata": {},
     "output_type": "display_data"
    },
    {
     "name": "stdout",
     "output_type": "stream",
     "text": [
      "\n",
      "************ Summary ************\n",
      "\n",
      "Examples/sec (First included) 102424.32 ex/sec (total: 10000 ex, 0.10 sec)\n",
      "Examples/sec (First only) 1327.01 ex/sec (total: 25 ex, 0.02 sec)\n",
      "Examples/sec (First excluded) 126596.36 ex/sec (total: 9975 ex, 0.08 sec)\n",
      "prefetch = -1\n"
     ]
    },
    {
     "data": {
      "application/vnd.jupyter.widget-view+json": {
       "model_id": "8dae7f4c2f724775b7630ac41c93855d",
       "version_major": 2,
       "version_minor": 0
      },
      "text/plain": [
       "  0%|          | 1/400 [00:00<?, ?it/s]"
      ]
     },
     "metadata": {},
     "output_type": "display_data"
    },
    {
     "name": "stdout",
     "output_type": "stream",
     "text": [
      "\n",
      "************ Summary ************\n",
      "\n",
      "Examples/sec (First included) 203386.74 ex/sec (total: 10000 ex, 0.05 sec)\n",
      "Examples/sec (First only) 10661.09 ex/sec (total: 25 ex, 0.00 sec)\n",
      "Examples/sec (First excluded) 213038.89 ex/sec (total: 9975 ex, 0.05 sec)\n"
     ]
    },
    {
     "data": {
      "application/vnd.jupyter.widget-view+json": {
       "model_id": "27b530292012404c9ceed1793941e89b",
       "version_major": 2,
       "version_minor": 0
      },
      "text/plain": [
       "1it [00:00, ?it/s]"
      ]
     },
     "metadata": {},
     "output_type": "display_data"
    },
    {
     "name": "stdout",
     "output_type": "stream",
     "text": [
      "\n",
      "************ Summary ************\n",
      "\n",
      "Examples/sec (First included) 4905.53 ex/sec (total: 10000 ex, 2.04 sec)\n",
      "Examples/sec (First only) 1567.58 ex/sec (total: 25 ex, 0.02 sec)\n",
      "Examples/sec (First excluded) 4931.85 ex/sec (total: 9975 ex, 2.02 sec)\n"
     ]
    },
    {
     "data": {
      "application/vnd.jupyter.widget-view+json": {
       "model_id": "504c5f7d46e144d7b9dbf84a3b9b38f4",
       "version_major": 2,
       "version_minor": 0
      },
      "text/plain": [
       "1it [00:00, ?it/s]"
      ]
     },
     "metadata": {},
     "output_type": "display_data"
    },
    {
     "name": "stdout",
     "output_type": "stream",
     "text": [
      "\n",
      "************ Summary ************\n",
      "\n",
      "Examples/sec (First included) 131535.35 ex/sec (total: 10000 ex, 0.08 sec)\n",
      "Examples/sec (First only) 1231.90 ex/sec (total: 25 ex, 0.02 sec)\n",
      "Examples/sec (First excluded) 178983.89 ex/sec (total: 9975 ex, 0.06 sec)\n",
      "batch_size = 100\n",
      "prefetch = None\n"
     ]
    },
    {
     "data": {
      "application/vnd.jupyter.widget-view+json": {
       "model_id": "aca260a24b5143d4a1bac03495cabe4e",
       "version_major": 2,
       "version_minor": 0
      },
      "text/plain": [
       "  1%|1         | 1/100 [00:00<?, ?it/s]"
      ]
     },
     "metadata": {},
     "output_type": "display_data"
    },
    {
     "name": "stdout",
     "output_type": "stream",
     "text": [
      "\n",
      "************ Summary ************\n",
      "\n",
      "Examples/sec (First included) 295294.22 ex/sec (total: 10000 ex, 0.03 sec)\n",
      "Examples/sec (First only) 40420.50 ex/sec (total: 100 ex, 0.00 sec)\n",
      "Examples/sec (First excluded) 315381.66 ex/sec (total: 9900 ex, 0.03 sec)\n"
     ]
    },
    {
     "data": {
      "application/vnd.jupyter.widget-view+json": {
       "model_id": "237e251874134dca977303e7dcfc8ccf",
       "version_major": 2,
       "version_minor": 0
      },
      "text/plain": [
       "1it [00:00, ?it/s]"
      ]
     },
     "metadata": {},
     "output_type": "display_data"
    },
    {
     "name": "stdout",
     "output_type": "stream",
     "text": [
      "\n",
      "************ Summary ************\n",
      "\n",
      "Examples/sec (First included) 4899.46 ex/sec (total: 10000 ex, 2.04 sec)\n",
      "Examples/sec (First only) 3062.58 ex/sec (total: 100 ex, 0.03 sec)\n",
      "Examples/sec (First excluded) 4929.33 ex/sec (total: 9900 ex, 2.01 sec)\n"
     ]
    },
    {
     "data": {
      "application/vnd.jupyter.widget-view+json": {
       "model_id": "48b5ec90e27c40ebb033369bb4435967",
       "version_major": 2,
       "version_minor": 0
      },
      "text/plain": [
       "1it [00:00, ?it/s]"
      ]
     },
     "metadata": {},
     "output_type": "display_data"
    },
    {
     "name": "stdout",
     "output_type": "stream",
     "text": [
      "\n",
      "************ Summary ************\n",
      "\n",
      "Examples/sec (First included) 127268.13 ex/sec (total: 10000 ex, 0.08 sec)\n",
      "Examples/sec (First only) 4076.24 ex/sec (total: 100 ex, 0.02 sec)\n",
      "Examples/sec (First excluded) 183191.41 ex/sec (total: 9900 ex, 0.05 sec)\n",
      "prefetch = -1\n"
     ]
    },
    {
     "data": {
      "application/vnd.jupyter.widget-view+json": {
       "model_id": "e4a2e27097b148cb9084b3d5aff048cc",
       "version_major": 2,
       "version_minor": 0
      },
      "text/plain": [
       "  1%|1         | 1/100 [00:00<?, ?it/s]"
      ]
     },
     "metadata": {},
     "output_type": "display_data"
    },
    {
     "name": "stdout",
     "output_type": "stream",
     "text": [
      "\n",
      "************ Summary ************\n",
      "\n",
      "Examples/sec (First included) 338869.54 ex/sec (total: 10000 ex, 0.03 sec)\n",
      "Examples/sec (First only) 41822.42 ex/sec (total: 100 ex, 0.00 sec)\n",
      "Examples/sec (First excluded) 365060.13 ex/sec (total: 9900 ex, 0.03 sec)\n"
     ]
    },
    {
     "data": {
      "application/vnd.jupyter.widget-view+json": {
       "model_id": "b0b6511f8c304eaa91850a644cbeaa3e",
       "version_major": 2,
       "version_minor": 0
      },
      "text/plain": [
       "1it [00:00, ?it/s]"
      ]
     },
     "metadata": {},
     "output_type": "display_data"
    },
    {
     "name": "stdout",
     "output_type": "stream",
     "text": [
      "\n",
      "************ Summary ************\n",
      "\n",
      "Examples/sec (First included) 4829.50 ex/sec (total: 10000 ex, 2.07 sec)\n",
      "Examples/sec (First only) 3464.23 ex/sec (total: 100 ex, 0.03 sec)\n",
      "Examples/sec (First excluded) 4848.80 ex/sec (total: 9900 ex, 2.04 sec)\n"
     ]
    },
    {
     "data": {
      "application/vnd.jupyter.widget-view+json": {
       "model_id": "b5cf89c3635d4a28ac9d7c3cf81affa6",
       "version_major": 2,
       "version_minor": 0
      },
      "text/plain": [
       "1it [00:00, ?it/s]"
      ]
     },
     "metadata": {},
     "output_type": "display_data"
    },
    {
     "name": "stdout",
     "output_type": "stream",
     "text": [
      "\n",
      "************ Summary ************\n",
      "\n",
      "Examples/sec (First included) 151869.27 ex/sec (total: 10000 ex, 0.07 sec)\n",
      "Examples/sec (First only) 4906.26 ex/sec (total: 100 ex, 0.02 sec)\n",
      "Examples/sec (First excluded) 217754.83 ex/sec (total: 9900 ex, 0.05 sec)\n",
      "batch_size = 250\n",
      "prefetch = None\n"
     ]
    },
    {
     "data": {
      "application/vnd.jupyter.widget-view+json": {
       "model_id": "b0e5e5d9b74246eca8a2943d6cffe3df",
       "version_major": 2,
       "version_minor": 0
      },
      "text/plain": [
       "  2%|2         | 1/40 [00:00<?, ?it/s]"
      ]
     },
     "metadata": {},
     "output_type": "display_data"
    },
    {
     "name": "stdout",
     "output_type": "stream",
     "text": [
      "\n",
      "************ Summary ************\n",
      "\n",
      "Examples/sec (First included) 326625.47 ex/sec (total: 10000 ex, 0.03 sec)\n",
      "Examples/sec (First only) 107673.55 ex/sec (total: 250 ex, 0.00 sec)\n",
      "Examples/sec (First excluded) 344592.70 ex/sec (total: 9750 ex, 0.03 sec)\n"
     ]
    },
    {
     "data": {
      "application/vnd.jupyter.widget-view+json": {
       "model_id": "96a63d6543bf45d9ac82bf3eafbbee8c",
       "version_major": 2,
       "version_minor": 0
      },
      "text/plain": [
       "1it [00:00, ?it/s]"
      ]
     },
     "metadata": {},
     "output_type": "display_data"
    },
    {
     "name": "stdout",
     "output_type": "stream",
     "text": [
      "\n",
      "************ Summary ************\n",
      "\n",
      "Examples/sec (First included) 5230.44 ex/sec (total: 10000 ex, 1.91 sec)\n",
      "Examples/sec (First only) 4751.28 ex/sec (total: 250 ex, 0.05 sec)\n",
      "Examples/sec (First excluded) 5244.00 ex/sec (total: 9750 ex, 1.86 sec)\n"
     ]
    },
    {
     "data": {
      "application/vnd.jupyter.widget-view+json": {
       "model_id": "14b2a9d2dbf745e08404e27b2c283aa5",
       "version_major": 2,
       "version_minor": 0
      },
      "text/plain": [
       "1it [00:00, ?it/s]"
      ]
     },
     "metadata": {},
     "output_type": "display_data"
    },
    {
     "name": "stdout",
     "output_type": "stream",
     "text": [
      "\n",
      "************ Summary ************\n",
      "\n",
      "Examples/sec (First included) 143234.35 ex/sec (total: 10000 ex, 0.07 sec)\n",
      "Examples/sec (First only) 12271.75 ex/sec (total: 250 ex, 0.02 sec)\n",
      "Examples/sec (First excluded) 197194.14 ex/sec (total: 9750 ex, 0.05 sec)\n",
      "prefetch = -1\n"
     ]
    },
    {
     "data": {
      "application/vnd.jupyter.widget-view+json": {
       "model_id": "650324c7611e43f58bcdf7ad178128e3",
       "version_major": 2,
       "version_minor": 0
      },
      "text/plain": [
       "  2%|2         | 1/40 [00:00<?, ?it/s]"
      ]
     },
     "metadata": {},
     "output_type": "display_data"
    },
    {
     "name": "stdout",
     "output_type": "stream",
     "text": [
      "\n",
      "************ Summary ************\n",
      "\n",
      "Examples/sec (First included) 341383.93 ex/sec (total: 10000 ex, 0.03 sec)\n",
      "Examples/sec (First only) 101692.74 ex/sec (total: 250 ex, 0.00 sec)\n",
      "Examples/sec (First excluded) 363343.02 ex/sec (total: 9750 ex, 0.03 sec)\n"
     ]
    },
    {
     "data": {
      "application/vnd.jupyter.widget-view+json": {
       "model_id": "b23814fa42494034aa58674a7ab145bc",
       "version_major": 2,
       "version_minor": 0
      },
      "text/plain": [
       "1it [00:00, ?it/s]"
      ]
     },
     "metadata": {},
     "output_type": "display_data"
    },
    {
     "name": "stdout",
     "output_type": "stream",
     "text": [
      "\n",
      "************ Summary ************\n",
      "\n",
      "Examples/sec (First included) 5121.09 ex/sec (total: 10000 ex, 1.95 sec)\n",
      "Examples/sec (First only) 4730.38 ex/sec (total: 250 ex, 0.05 sec)\n",
      "Examples/sec (First excluded) 5131.96 ex/sec (total: 9750 ex, 1.90 sec)\n"
     ]
    },
    {
     "data": {
      "application/vnd.jupyter.widget-view+json": {
       "model_id": "c1001670575d4905b689ebc9c474ea45",
       "version_major": 2,
       "version_minor": 0
      },
      "text/plain": [
       "1it [00:00, ?it/s]"
      ]
     },
     "metadata": {},
     "output_type": "display_data"
    },
    {
     "name": "stdout",
     "output_type": "stream",
     "text": [
      "\n",
      "************ Summary ************\n",
      "\n",
      "Examples/sec (First included) 153337.76 ex/sec (total: 10000 ex, 0.07 sec)\n",
      "Examples/sec (First only) 12488.15 ex/sec (total: 250 ex, 0.02 sec)\n",
      "Examples/sec (First excluded) 215724.56 ex/sec (total: 9750 ex, 0.05 sec)\n",
      "size = 100000\n",
      "batch_size = None\n",
      "prefetch = None\n"
     ]
    },
    {
     "data": {
      "application/vnd.jupyter.widget-view+json": {
       "model_id": "a2f7ac11069c4f1a99600885bb7a6788",
       "version_major": 2,
       "version_minor": 0
      },
      "text/plain": [
       "  0%|          | 1/100000 [00:00<?, ?it/s]"
      ]
     },
     "metadata": {},
     "output_type": "display_data"
    },
    {
     "name": "stdout",
     "output_type": "stream",
     "text": [
      "\n",
      "************ Summary ************\n",
      "\n",
      "Examples/sec (First included) 21112.71 ex/sec (total: 100000 ex, 4.74 sec)\n",
      "Examples/sec (First only) 515.31 ex/sec (total: 1 ex, 0.00 sec)\n",
      "Examples/sec (First excluded) 21121.16 ex/sec (total: 99999 ex, 4.73 sec)\n"
     ]
    },
    {
     "data": {
      "application/vnd.jupyter.widget-view+json": {
       "model_id": "155c5a8440a045de985d44045931ffe0",
       "version_major": 2,
       "version_minor": 0
      },
      "text/plain": [
       "1it [00:00, ?it/s]"
      ]
     },
     "metadata": {},
     "output_type": "display_data"
    },
    {
     "name": "stdout",
     "output_type": "stream",
     "text": [
      "\n",
      "************ Summary ************\n",
      "\n",
      "Examples/sec (First included) 3407.75 ex/sec (total: 100000 ex, 29.34 sec)\n",
      "Examples/sec (First only) 103.62 ex/sec (total: 1 ex, 0.01 sec)\n",
      "Examples/sec (First excluded) 3408.84 ex/sec (total: 99999 ex, 29.34 sec)\n"
     ]
    },
    {
     "data": {
      "application/vnd.jupyter.widget-view+json": {
       "model_id": "5f28fa7bea5a4f58bb11093617a2ac78",
       "version_major": 2,
       "version_minor": 0
      },
      "text/plain": [
       "1it [00:00, ?it/s]"
      ]
     },
     "metadata": {},
     "output_type": "display_data"
    },
    {
     "name": "stdout",
     "output_type": "stream",
     "text": [
      "\n",
      "************ Summary ************\n",
      "\n",
      "Examples/sec (First included) 13997.25 ex/sec (total: 100000 ex, 7.14 sec)\n",
      "Examples/sec (First only) 88.11 ex/sec (total: 1 ex, 0.01 sec)\n",
      "Examples/sec (First excluded) 14019.38 ex/sec (total: 99999 ex, 7.13 sec)\n",
      "prefetch = -1\n"
     ]
    },
    {
     "data": {
      "application/vnd.jupyter.widget-view+json": {
       "model_id": "cfe689cce81a4c3c97fdc0808b41f873",
       "version_major": 2,
       "version_minor": 0
      },
      "text/plain": [
       "  0%|          | 1/100000 [00:00<?, ?it/s]"
      ]
     },
     "metadata": {},
     "output_type": "display_data"
    },
    {
     "name": "stdout",
     "output_type": "stream",
     "text": [
      "\n",
      "************ Summary ************\n",
      "\n",
      "Examples/sec (First included) 19375.98 ex/sec (total: 100000 ex, 5.16 sec)\n",
      "Examples/sec (First only) 438.12 ex/sec (total: 1 ex, 0.00 sec)\n",
      "Examples/sec (First excluded) 19384.36 ex/sec (total: 99999 ex, 5.16 sec)\n"
     ]
    },
    {
     "data": {
      "application/vnd.jupyter.widget-view+json": {
       "model_id": "171ea490b9eb40e39d3ec31cc0279192",
       "version_major": 2,
       "version_minor": 0
      },
      "text/plain": [
       "1it [00:00, ?it/s]"
      ]
     },
     "metadata": {},
     "output_type": "display_data"
    },
    {
     "name": "stdout",
     "output_type": "stream",
     "text": [
      "\n",
      "************ Summary ************\n",
      "\n",
      "Examples/sec (First included) 4551.45 ex/sec (total: 100000 ex, 21.97 sec)\n",
      "Examples/sec (First only) 95.47 ex/sec (total: 1 ex, 0.01 sec)\n",
      "Examples/sec (First excluded) 4553.57 ex/sec (total: 99999 ex, 21.96 sec)\n"
     ]
    },
    {
     "data": {
      "application/vnd.jupyter.widget-view+json": {
       "model_id": "2b9d8f4daa114f299394befe4e51ce91",
       "version_major": 2,
       "version_minor": 0
      },
      "text/plain": [
       "1it [00:00, ?it/s]"
      ]
     },
     "metadata": {},
     "output_type": "display_data"
    },
    {
     "name": "stdout",
     "output_type": "stream",
     "text": [
      "\n",
      "************ Summary ************\n",
      "\n",
      "Examples/sec (First included) 13980.84 ex/sec (total: 100000 ex, 7.15 sec)\n",
      "Examples/sec (First only) 86.85 ex/sec (total: 1 ex, 0.01 sec)\n",
      "Examples/sec (First excluded) 14003.25 ex/sec (total: 99999 ex, 7.14 sec)\n",
      "batch_size = 10\n",
      "prefetch = None\n"
     ]
    },
    {
     "data": {
      "application/vnd.jupyter.widget-view+json": {
       "model_id": "b21423740bb54bfd8de74c9764d5e077",
       "version_major": 2,
       "version_minor": 0
      },
      "text/plain": [
       "  0%|          | 1/10000 [00:00<?, ?it/s]"
      ]
     },
     "metadata": {},
     "output_type": "display_data"
    },
    {
     "name": "stdout",
     "output_type": "stream",
     "text": [
      "\n",
      "************ Summary ************\n",
      "\n",
      "Examples/sec (First included) 173754.31 ex/sec (total: 100000 ex, 0.58 sec)\n",
      "Examples/sec (First only) 4474.26 ex/sec (total: 10 ex, 0.00 sec)\n",
      "Examples/sec (First excluded) 174414.26 ex/sec (total: 99990 ex, 0.57 sec)\n"
     ]
    },
    {
     "data": {
      "application/vnd.jupyter.widget-view+json": {
       "model_id": "221f8f1865c54ee0a7ecdef63839c67f",
       "version_major": 2,
       "version_minor": 0
      },
      "text/plain": [
       "1it [00:00, ?it/s]"
      ]
     },
     "metadata": {},
     "output_type": "display_data"
    },
    {
     "name": "stdout",
     "output_type": "stream",
     "text": [
      "\n",
      "************ Summary ************\n",
      "\n",
      "Examples/sec (First included) 4754.99 ex/sec (total: 100000 ex, 21.03 sec)\n",
      "Examples/sec (First only) 815.82 ex/sec (total: 10 ex, 0.01 sec)\n",
      "Examples/sec (First excluded) 4757.28 ex/sec (total: 99990 ex, 21.02 sec)\n"
     ]
    },
    {
     "data": {
      "application/vnd.jupyter.widget-view+json": {
       "model_id": "2a48e233731546628b5dcfe17c85f55b",
       "version_major": 2,
       "version_minor": 0
      },
      "text/plain": [
       "1it [00:00, ?it/s]"
      ]
     },
     "metadata": {},
     "output_type": "display_data"
    },
    {
     "name": "stdout",
     "output_type": "stream",
     "text": [
      "\n",
      "************ Summary ************\n",
      "\n",
      "Examples/sec (First included) 88643.95 ex/sec (total: 100000 ex, 1.13 sec)\n",
      "Examples/sec (First only) 432.71 ex/sec (total: 10 ex, 0.02 sec)\n",
      "Examples/sec (First excluded) 90488.80 ex/sec (total: 99990 ex, 1.10 sec)\n",
      "prefetch = -1\n"
     ]
    },
    {
     "data": {
      "application/vnd.jupyter.widget-view+json": {
       "model_id": "e286a81eadfa403e9d35eaa047b812b1",
       "version_major": 2,
       "version_minor": 0
      },
      "text/plain": [
       "  0%|          | 1/10000 [00:00<?, ?it/s]"
      ]
     },
     "metadata": {},
     "output_type": "display_data"
    },
    {
     "name": "stdout",
     "output_type": "stream",
     "text": [
      "\n",
      "************ Summary ************\n",
      "\n",
      "Examples/sec (First included) 178561.05 ex/sec (total: 100000 ex, 0.56 sec)\n",
      "Examples/sec (First only) 4104.30 ex/sec (total: 10 ex, 0.00 sec)\n",
      "Examples/sec (First excluded) 179323.36 ex/sec (total: 99990 ex, 0.56 sec)\n"
     ]
    },
    {
     "data": {
      "application/vnd.jupyter.widget-view+json": {
       "model_id": "16f70599bc3a4b148f34238dc112b997",
       "version_major": 2,
       "version_minor": 0
      },
      "text/plain": [
       "1it [00:00, ?it/s]"
      ]
     },
     "metadata": {},
     "output_type": "display_data"
    },
    {
     "name": "stdout",
     "output_type": "stream",
     "text": [
      "\n",
      "************ Summary ************\n",
      "\n",
      "Examples/sec (First included) 4978.85 ex/sec (total: 100000 ex, 20.08 sec)\n",
      "Examples/sec (First only) 783.08 ex/sec (total: 10 ex, 0.01 sec)\n",
      "Examples/sec (First excluded) 4981.52 ex/sec (total: 99990 ex, 20.07 sec)\n"
     ]
    },
    {
     "data": {
      "application/vnd.jupyter.widget-view+json": {
       "model_id": "ba28c876b5244f50a23e341015a4d88d",
       "version_major": 2,
       "version_minor": 0
      },
      "text/plain": [
       "1it [00:00, ?it/s]"
      ]
     },
     "metadata": {},
     "output_type": "display_data"
    },
    {
     "name": "stdout",
     "output_type": "stream",
     "text": [
      "\n",
      "************ Summary ************\n",
      "\n",
      "Examples/sec (First included) 118561.55 ex/sec (total: 100000 ex, 0.84 sec)\n",
      "Examples/sec (First only) 417.88 ex/sec (total: 10 ex, 0.02 sec)\n",
      "Examples/sec (First excluded) 122011.43 ex/sec (total: 99990 ex, 0.82 sec)\n",
      "batch_size = 25\n",
      "prefetch = None\n"
     ]
    },
    {
     "data": {
      "application/vnd.jupyter.widget-view+json": {
       "model_id": "020b955a5fca4dd18cb3e368766c94e8",
       "version_major": 2,
       "version_minor": 0
      },
      "text/plain": [
       "  0%|          | 1/4000 [00:00<?, ?it/s]"
      ]
     },
     "metadata": {},
     "output_type": "display_data"
    },
    {
     "name": "stdout",
     "output_type": "stream",
     "text": [
      "\n",
      "************ Summary ************\n",
      "\n",
      "Examples/sec (First included) 363687.24 ex/sec (total: 100000 ex, 0.27 sec)\n",
      "Examples/sec (First only) 11135.04 ex/sec (total: 25 ex, 0.00 sec)\n",
      "Examples/sec (First excluded) 366589.66 ex/sec (total: 99975 ex, 0.27 sec)\n"
     ]
    },
    {
     "data": {
      "application/vnd.jupyter.widget-view+json": {
       "model_id": "2a49e6cb05344d98a91169bfc66dec1b",
       "version_major": 2,
       "version_minor": 0
      },
      "text/plain": [
       "1it [00:00, ?it/s]"
      ]
     },
     "metadata": {},
     "output_type": "display_data"
    },
    {
     "name": "stdout",
     "output_type": "stream",
     "text": [
      "\n",
      "************ Summary ************\n",
      "\n",
      "Examples/sec (First included) 4958.74 ex/sec (total: 100000 ex, 20.17 sec)\n",
      "Examples/sec (First only) 1623.17 ex/sec (total: 25 ex, 0.02 sec)\n",
      "Examples/sec (First excluded) 4961.29 ex/sec (total: 99975 ex, 20.15 sec)\n"
     ]
    },
    {
     "data": {
      "application/vnd.jupyter.widget-view+json": {
       "model_id": "3fa0c8ed473d4527bf1d84e386bd3e86",
       "version_major": 2,
       "version_minor": 0
      },
      "text/plain": [
       "1it [00:00, ?it/s]"
      ]
     },
     "metadata": {},
     "output_type": "display_data"
    },
    {
     "name": "stdout",
     "output_type": "stream",
     "text": [
      "\n",
      "************ Summary ************\n",
      "\n",
      "Examples/sec (First included) 161862.19 ex/sec (total: 100000 ex, 0.62 sec)\n",
      "Examples/sec (First only) 1098.07 ex/sec (total: 25 ex, 0.02 sec)\n",
      "Examples/sec (First excluded) 168013.25 ex/sec (total: 99975 ex, 0.60 sec)\n",
      "prefetch = -1\n"
     ]
    },
    {
     "data": {
      "application/vnd.jupyter.widget-view+json": {
       "model_id": "1e0586b462064fbea14995c706d9efe0",
       "version_major": 2,
       "version_minor": 0
      },
      "text/plain": [
       "  0%|          | 1/4000 [00:00<?, ?it/s]"
      ]
     },
     "metadata": {},
     "output_type": "display_data"
    },
    {
     "name": "stdout",
     "output_type": "stream",
     "text": [
      "\n",
      "************ Summary ************\n",
      "\n",
      "Examples/sec (First included) 415521.51 ex/sec (total: 100000 ex, 0.24 sec)\n",
      "Examples/sec (First only) 9887.12 ex/sec (total: 25 ex, 0.00 sec)\n",
      "Examples/sec (First excluded) 419828.61 ex/sec (total: 99975 ex, 0.24 sec)\n"
     ]
    },
    {
     "data": {
      "application/vnd.jupyter.widget-view+json": {
       "model_id": "4b233703afb843728b0efdb91a91bb1a",
       "version_major": 2,
       "version_minor": 0
      },
      "text/plain": [
       "1it [00:00, ?it/s]"
      ]
     },
     "metadata": {},
     "output_type": "display_data"
    },
    {
     "name": "stdout",
     "output_type": "stream",
     "text": [
      "\n",
      "************ Summary ************\n",
      "\n",
      "Examples/sec (First included) 5007.22 ex/sec (total: 100000 ex, 19.97 sec)\n",
      "Examples/sec (First only) 1561.53 ex/sec (total: 25 ex, 0.02 sec)\n",
      "Examples/sec (First excluded) 5009.98 ex/sec (total: 99975 ex, 19.96 sec)\n"
     ]
    },
    {
     "data": {
      "application/vnd.jupyter.widget-view+json": {
       "model_id": "06e77b01478246a8acba0e9ef60c0008",
       "version_major": 2,
       "version_minor": 0
      },
      "text/plain": [
       "1it [00:00, ?it/s]"
      ]
     },
     "metadata": {},
     "output_type": "display_data"
    },
    {
     "name": "stdout",
     "output_type": "stream",
     "text": [
      "\n",
      "************ Summary ************\n",
      "\n",
      "Examples/sec (First included) 248764.65 ex/sec (total: 100000 ex, 0.40 sec)\n",
      "Examples/sec (First only) 965.81 ex/sec (total: 25 ex, 0.03 sec)\n",
      "Examples/sec (First excluded) 265819.33 ex/sec (total: 99975 ex, 0.38 sec)\n",
      "batch_size = 100\n",
      "prefetch = None\n"
     ]
    },
    {
     "data": {
      "application/vnd.jupyter.widget-view+json": {
       "model_id": "202168bfdd3e4858a9efdf6fea520229",
       "version_major": 2,
       "version_minor": 0
      },
      "text/plain": [
       "  0%|          | 1/1000 [00:00<?, ?it/s]"
      ]
     },
     "metadata": {},
     "output_type": "display_data"
    },
    {
     "name": "stdout",
     "output_type": "stream",
     "text": [
      "\n",
      "************ Summary ************\n",
      "\n",
      "Examples/sec (First included) 756843.75 ex/sec (total: 100000 ex, 0.13 sec)\n",
      "Examples/sec (First only) 43611.98 ex/sec (total: 100 ex, 0.00 sec)\n",
      "Examples/sec (First excluded) 769439.79 ex/sec (total: 99900 ex, 0.13 sec)\n"
     ]
    },
    {
     "data": {
      "application/vnd.jupyter.widget-view+json": {
       "model_id": "64c0c80c636a43428b06230acef406df",
       "version_major": 2,
       "version_minor": 0
      },
      "text/plain": [
       "1it [00:00, ?it/s]"
      ]
     },
     "metadata": {},
     "output_type": "display_data"
    },
    {
     "name": "stdout",
     "output_type": "stream",
     "text": [
      "\n",
      "************ Summary ************\n",
      "\n",
      "Examples/sec (First included) 5046.18 ex/sec (total: 100000 ex, 19.82 sec)\n",
      "Examples/sec (First only) 3477.01 ex/sec (total: 100 ex, 0.03 sec)\n",
      "Examples/sec (First excluded) 5048.46 ex/sec (total: 99900 ex, 19.79 sec)\n"
     ]
    },
    {
     "data": {
      "application/vnd.jupyter.widget-view+json": {
       "model_id": "33d6a6c7515442348718e7a6eb2fd588",
       "version_major": 2,
       "version_minor": 0
      },
      "text/plain": [
       "1it [00:00, ?it/s]"
      ]
     },
     "metadata": {},
     "output_type": "display_data"
    },
    {
     "name": "stdout",
     "output_type": "stream",
     "text": [
      "\n",
      "************ Summary ************\n",
      "\n",
      "Examples/sec (First included) 278906.85 ex/sec (total: 100000 ex, 0.36 sec)\n",
      "Examples/sec (First only) 4342.15 ex/sec (total: 100 ex, 0.02 sec)\n",
      "Examples/sec (First excluded) 297753.36 ex/sec (total: 99900 ex, 0.34 sec)\n",
      "prefetch = -1\n"
     ]
    },
    {
     "data": {
      "application/vnd.jupyter.widget-view+json": {
       "model_id": "2f544e387d744be39aed338539a4a5fb",
       "version_major": 2,
       "version_minor": 0
      },
      "text/plain": [
       "  0%|          | 1/1000 [00:00<?, ?it/s]"
      ]
     },
     "metadata": {},
     "output_type": "display_data"
    },
    {
     "name": "stdout",
     "output_type": "stream",
     "text": [
      "\n",
      "************ Summary ************\n",
      "\n",
      "Examples/sec (First included) 1246072.33 ex/sec (total: 100000 ex, 0.08 sec)\n",
      "Examples/sec (First only) 41206.51 ex/sec (total: 100 ex, 0.00 sec)\n",
      "Examples/sec (First excluded) 1283643.24 ex/sec (total: 99900 ex, 0.08 sec)\n"
     ]
    },
    {
     "data": {
      "application/vnd.jupyter.widget-view+json": {
       "model_id": "1e83f452c2ba438881fd0c1b0076bef8",
       "version_major": 2,
       "version_minor": 0
      },
      "text/plain": [
       "1it [00:00, ?it/s]"
      ]
     },
     "metadata": {},
     "output_type": "display_data"
    },
    {
     "name": "stdout",
     "output_type": "stream",
     "text": [
      "\n",
      "************ Summary ************\n",
      "\n",
      "Examples/sec (First included) 5076.36 ex/sec (total: 100000 ex, 19.70 sec)\n",
      "Examples/sec (First only) 3180.30 ex/sec (total: 100 ex, 0.03 sec)\n",
      "Examples/sec (First excluded) 5079.39 ex/sec (total: 99900 ex, 19.67 sec)\n"
     ]
    },
    {
     "data": {
      "application/vnd.jupyter.widget-view+json": {
       "model_id": "db8e976aa5e349e8b4ef41047d7c73aa",
       "version_major": 2,
       "version_minor": 0
      },
      "text/plain": [
       "1it [00:00, ?it/s]"
      ]
     },
     "metadata": {},
     "output_type": "display_data"
    },
    {
     "name": "stdout",
     "output_type": "stream",
     "text": [
      "\n",
      "************ Summary ************\n",
      "\n",
      "Examples/sec (First included) 359532.70 ex/sec (total: 100000 ex, 0.28 sec)\n",
      "Examples/sec (First only) 4020.07 ex/sec (total: 100 ex, 0.02 sec)\n",
      "Examples/sec (First excluded) 394450.65 ex/sec (total: 99900 ex, 0.25 sec)\n",
      "batch_size = 250\n",
      "prefetch = None\n"
     ]
    },
    {
     "data": {
      "application/vnd.jupyter.widget-view+json": {
       "model_id": "7a9555bef06a41dd86ebb52a26989e1c",
       "version_major": 2,
       "version_minor": 0
      },
      "text/plain": [
       "  0%|          | 1/400 [00:00<?, ?it/s]"
      ]
     },
     "metadata": {},
     "output_type": "display_data"
    },
    {
     "name": "stdout",
     "output_type": "stream",
     "text": [
      "\n",
      "************ Summary ************\n",
      "\n",
      "Examples/sec (First included) 1053959.99 ex/sec (total: 100000 ex, 0.09 sec)\n",
      "Examples/sec (First only) 108378.15 ex/sec (total: 250 ex, 0.00 sec)\n",
      "Examples/sec (First excluded) 1077521.91 ex/sec (total: 99750 ex, 0.09 sec)\n"
     ]
    },
    {
     "data": {
      "application/vnd.jupyter.widget-view+json": {
       "model_id": "767d500de4324b8f80b8007252e0f54d",
       "version_major": 2,
       "version_minor": 0
      },
      "text/plain": [
       "1it [00:00, ?it/s]"
      ]
     },
     "metadata": {},
     "output_type": "display_data"
    },
    {
     "name": "stdout",
     "output_type": "stream",
     "text": [
      "\n",
      "************ Summary ************\n",
      "\n",
      "Examples/sec (First included) 5013.90 ex/sec (total: 100000 ex, 19.94 sec)\n",
      "Examples/sec (First only) 4757.90 ex/sec (total: 250 ex, 0.05 sec)\n",
      "Examples/sec (First excluded) 5014.58 ex/sec (total: 99750 ex, 19.89 sec)\n"
     ]
    },
    {
     "data": {
      "application/vnd.jupyter.widget-view+json": {
       "model_id": "fb30b906191742d68dabef29d6ac3afb",
       "version_major": 2,
       "version_minor": 0
      },
      "text/plain": [
       "1it [00:00, ?it/s]"
      ]
     },
     "metadata": {},
     "output_type": "display_data"
    },
    {
     "name": "stdout",
     "output_type": "stream",
     "text": [
      "\n",
      "************ Summary ************\n",
      "\n",
      "Examples/sec (First included) 322084.78 ex/sec (total: 100000 ex, 0.31 sec)\n",
      "Examples/sec (First only) 10358.41 ex/sec (total: 250 ex, 0.02 sec)\n",
      "Examples/sec (First excluded) 348359.30 ex/sec (total: 99750 ex, 0.29 sec)\n",
      "prefetch = -1\n"
     ]
    },
    {
     "data": {
      "application/vnd.jupyter.widget-view+json": {
       "model_id": "9efda6e14eb744ee9590dd907305b90d",
       "version_major": 2,
       "version_minor": 0
      },
      "text/plain": [
       "  0%|          | 1/400 [00:00<?, ?it/s]"
      ]
     },
     "metadata": {},
     "output_type": "display_data"
    },
    {
     "name": "stdout",
     "output_type": "stream",
     "text": [
      "\n",
      "************ Summary ************\n",
      "\n",
      "Examples/sec (First included) 1471167.20 ex/sec (total: 100000 ex, 0.07 sec)\n",
      "Examples/sec (First only) 101273.17 ex/sec (total: 250 ex, 0.00 sec)\n",
      "Examples/sec (First excluded) 1522792.24 ex/sec (total: 99750 ex, 0.07 sec)\n"
     ]
    },
    {
     "data": {
      "application/vnd.jupyter.widget-view+json": {
       "model_id": "a6ce26f713e445c781c1c5beb0096f25",
       "version_major": 2,
       "version_minor": 0
      },
      "text/plain": [
       "1it [00:00, ?it/s]"
      ]
     },
     "metadata": {},
     "output_type": "display_data"
    },
    {
     "name": "stdout",
     "output_type": "stream",
     "text": [
      "\n",
      "************ Summary ************\n",
      "\n",
      "Examples/sec (First included) 5047.24 ex/sec (total: 100000 ex, 19.81 sec)\n",
      "Examples/sec (First only) 3978.91 ex/sec (total: 250 ex, 0.06 sec)\n",
      "Examples/sec (First excluded) 5050.64 ex/sec (total: 99750 ex, 19.75 sec)\n"
     ]
    },
    {
     "data": {
      "application/vnd.jupyter.widget-view+json": {
       "model_id": "aa003d8319c5416abd9620320a0958ce",
       "version_major": 2,
       "version_minor": 0
      },
      "text/plain": [
       "1it [00:00, ?it/s]"
      ]
     },
     "metadata": {},
     "output_type": "display_data"
    },
    {
     "name": "stdout",
     "output_type": "stream",
     "text": [
      "\n",
      "************ Summary ************\n",
      "\n",
      "Examples/sec (First included) 365525.98 ex/sec (total: 100000 ex, 0.27 sec)\n",
      "Examples/sec (First only) 9750.17 ex/sec (total: 250 ex, 0.03 sec)\n",
      "Examples/sec (First excluded) 402318.67 ex/sec (total: 99750 ex, 0.25 sec)\n",
      "size = 1000000\n",
      "batch_size = None\n",
      "prefetch = None\n"
     ]
    },
    {
     "data": {
      "application/vnd.jupyter.widget-view+json": {
       "model_id": "26cc2fe919f64e64afee5da1f8ede285",
       "version_major": 2,
       "version_minor": 0
      },
      "text/plain": [
       "  0%|          | 1/1000000 [00:00<?, ?it/s]"
      ]
     },
     "metadata": {},
     "output_type": "display_data"
    },
    {
     "name": "stdout",
     "output_type": "stream",
     "text": [
      "\n",
      "************ Summary ************\n",
      "\n",
      "Examples/sec (First included) 21244.28 ex/sec (total: 1000000 ex, 47.07 sec)\n",
      "Examples/sec (First only) 460.36 ex/sec (total: 1 ex, 0.00 sec)\n",
      "Examples/sec (First excluded) 21245.24 ex/sec (total: 999999 ex, 47.07 sec)\n"
     ]
    },
    {
     "data": {
      "application/vnd.jupyter.widget-view+json": {
       "model_id": "9846ef0dfd4e4778a8d3b1598e8d163a",
       "version_major": 2,
       "version_minor": 0
      },
      "text/plain": [
       "1it [00:00, ?it/s]"
      ]
     },
     "metadata": {},
     "output_type": "display_data"
    },
    {
     "name": "stdout",
     "output_type": "stream",
     "text": [
      "\n",
      "************ Summary ************\n",
      "\n",
      "Examples/sec (First included) 3351.81 ex/sec (total: 1000000 ex, 298.35 sec)\n",
      "Examples/sec (First only) 102.14 ex/sec (total: 1 ex, 0.01 sec)\n",
      "Examples/sec (First excluded) 3351.91 ex/sec (total: 999999 ex, 298.34 sec)\n"
     ]
    },
    {
     "data": {
      "application/vnd.jupyter.widget-view+json": {
       "model_id": "3c19f9a8b9e94324863764fbe9874da9",
       "version_major": 2,
       "version_minor": 0
      },
      "text/plain": [
       "1it [00:00, ?it/s]"
      ]
     },
     "metadata": {},
     "output_type": "display_data"
    },
    {
     "name": "stdout",
     "output_type": "stream",
     "text": [
      "\n",
      "************ Summary ************\n",
      "\n",
      "Examples/sec (First included) 14006.34 ex/sec (total: 1000000 ex, 71.40 sec)\n",
      "Examples/sec (First only) 88.70 ex/sec (total: 1 ex, 0.01 sec)\n",
      "Examples/sec (First excluded) 14008.54 ex/sec (total: 999999 ex, 71.38 sec)\n",
      "prefetch = -1\n"
     ]
    },
    {
     "data": {
      "application/vnd.jupyter.widget-view+json": {
       "model_id": "2ab413dd57894cfc939fbdd7ba79b037",
       "version_major": 2,
       "version_minor": 0
      },
      "text/plain": [
       "  0%|          | 1/1000000 [00:00<?, ?it/s]"
      ]
     },
     "metadata": {},
     "output_type": "display_data"
    },
    {
     "name": "stdout",
     "output_type": "stream",
     "text": [
      "\n",
      "************ Summary ************\n",
      "\n",
      "Examples/sec (First included) 19521.52 ex/sec (total: 1000000 ex, 51.23 sec)\n",
      "Examples/sec (First only) 391.45 ex/sec (total: 1 ex, 0.00 sec)\n",
      "Examples/sec (First excluded) 19522.48 ex/sec (total: 999999 ex, 51.22 sec)\n"
     ]
    },
    {
     "data": {
      "application/vnd.jupyter.widget-view+json": {
       "model_id": "e58281b352f74f59b6e22d6f34beb28d",
       "version_major": 2,
       "version_minor": 0
      },
      "text/plain": [
       "1it [00:00, ?it/s]"
      ]
     },
     "metadata": {},
     "output_type": "display_data"
    },
    {
     "name": "stdout",
     "output_type": "stream",
     "text": [
      "\n",
      "************ Summary ************\n",
      "\n",
      "Examples/sec (First included) 4580.18 ex/sec (total: 1000000 ex, 218.33 sec)\n",
      "Examples/sec (First only) 99.95 ex/sec (total: 1 ex, 0.01 sec)\n",
      "Examples/sec (First excluded) 4580.38 ex/sec (total: 999999 ex, 218.32 sec)\n"
     ]
    },
    {
     "data": {
      "application/vnd.jupyter.widget-view+json": {
       "model_id": "b926f8d0122448509d9e7c1aede006bf",
       "version_major": 2,
       "version_minor": 0
      },
      "text/plain": [
       "1it [00:00, ?it/s]"
      ]
     },
     "metadata": {},
     "output_type": "display_data"
    },
    {
     "name": "stdout",
     "output_type": "stream",
     "text": [
      "\n",
      "************ Summary ************\n",
      "\n",
      "Examples/sec (First included) 14045.38 ex/sec (total: 1000000 ex, 71.20 sec)\n",
      "Examples/sec (First only) 86.90 ex/sec (total: 1 ex, 0.01 sec)\n",
      "Examples/sec (First excluded) 14047.63 ex/sec (total: 999999 ex, 71.19 sec)\n",
      "batch_size = 10\n",
      "prefetch = None\n"
     ]
    },
    {
     "data": {
      "application/vnd.jupyter.widget-view+json": {
       "model_id": "1e9f697c9d7848faa6fbce825e2e535e",
       "version_major": 2,
       "version_minor": 0
      },
      "text/plain": [
       "  0%|          | 1/100000 [00:00<?, ?it/s]"
      ]
     },
     "metadata": {},
     "output_type": "display_data"
    },
    {
     "name": "stdout",
     "output_type": "stream",
     "text": [
      "\n",
      "************ Summary ************\n",
      "\n",
      "Examples/sec (First included) 174291.01 ex/sec (total: 1000000 ex, 5.74 sec)\n",
      "Examples/sec (First only) 4143.86 ex/sec (total: 10 ex, 0.00 sec)\n",
      "Examples/sec (First excluded) 174362.60 ex/sec (total: 999990 ex, 5.74 sec)\n"
     ]
    },
    {
     "data": {
      "application/vnd.jupyter.widget-view+json": {
       "model_id": "0528c7adc324485ba8e63df18fbe9a1d",
       "version_major": 2,
       "version_minor": 0
      },
      "text/plain": [
       "1it [00:00, ?it/s]"
      ]
     },
     "metadata": {},
     "output_type": "display_data"
    },
    {
     "name": "stdout",
     "output_type": "stream",
     "text": [
      "\n",
      "************ Summary ************\n",
      "\n",
      "Examples/sec (First included) 4803.21 ex/sec (total: 1000000 ex, 208.19 sec)\n",
      "Examples/sec (First only) 793.46 ex/sec (total: 10 ex, 0.01 sec)\n",
      "Examples/sec (First excluded) 4803.45 ex/sec (total: 999990 ex, 208.18 sec)\n"
     ]
    },
    {
     "data": {
      "application/vnd.jupyter.widget-view+json": {
       "model_id": "d88a4ac838a24fe3a69e85701c6ad2d2",
       "version_major": 2,
       "version_minor": 0
      },
      "text/plain": [
       "1it [00:00, ?it/s]"
      ]
     },
     "metadata": {},
     "output_type": "display_data"
    },
    {
     "name": "stdout",
     "output_type": "stream",
     "text": [
      "\n",
      "************ Summary ************\n",
      "\n",
      "Examples/sec (First included) 92386.16 ex/sec (total: 1000000 ex, 10.82 sec)\n",
      "Examples/sec (First only) 358.78 ex/sec (total: 10 ex, 0.03 sec)\n",
      "Examples/sec (First excluded) 92623.75 ex/sec (total: 999990 ex, 10.80 sec)\n",
      "prefetch = -1\n"
     ]
    },
    {
     "data": {
      "application/vnd.jupyter.widget-view+json": {
       "model_id": "aa4758b876874a76af63a6b63ed7dd1f",
       "version_major": 2,
       "version_minor": 0
      },
      "text/plain": [
       "  0%|          | 1/100000 [00:00<?, ?it/s]"
      ]
     },
     "metadata": {},
     "output_type": "display_data"
    },
    {
     "name": "stdout",
     "output_type": "stream",
     "text": [
      "\n",
      "************ Summary ************\n",
      "\n",
      "Examples/sec (First included) 185360.50 ex/sec (total: 1000000 ex, 5.39 sec)\n",
      "Examples/sec (First only) 3777.46 ex/sec (total: 10 ex, 0.00 sec)\n",
      "Examples/sec (First excluded) 185449.65 ex/sec (total: 999990 ex, 5.39 sec)\n"
     ]
    },
    {
     "data": {
      "application/vnd.jupyter.widget-view+json": {
       "model_id": "cc4a62ba6d474f0c96508cd9b7743cf6",
       "version_major": 2,
       "version_minor": 0
      },
      "text/plain": [
       "1it [00:00, ?it/s]"
      ]
     },
     "metadata": {},
     "output_type": "display_data"
    },
    {
     "name": "stdout",
     "output_type": "stream",
     "text": [
      "\n",
      "************ Summary ************\n",
      "\n",
      "Examples/sec (First included) 4936.78 ex/sec (total: 1000000 ex, 202.56 sec)\n",
      "Examples/sec (First only) 788.74 ex/sec (total: 10 ex, 0.01 sec)\n",
      "Examples/sec (First excluded) 4937.04 ex/sec (total: 999990 ex, 202.55 sec)\n"
     ]
    },
    {
     "data": {
      "application/vnd.jupyter.widget-view+json": {
       "model_id": "81cd68d0c8774bd19fe0b9466187fd69",
       "version_major": 2,
       "version_minor": 0
      },
      "text/plain": [
       "1it [00:00, ?it/s]"
      ]
     },
     "metadata": {},
     "output_type": "display_data"
    },
    {
     "name": "stdout",
     "output_type": "stream",
     "text": [
      "\n",
      "************ Summary ************\n",
      "\n",
      "Examples/sec (First included) 124349.87 ex/sec (total: 1000000 ex, 8.04 sec)\n",
      "Examples/sec (First only) 405.98 ex/sec (total: 10 ex, 0.02 sec)\n",
      "Examples/sec (First excluded) 124730.67 ex/sec (total: 999990 ex, 8.02 sec)\n",
      "batch_size = 25\n",
      "prefetch = None\n"
     ]
    },
    {
     "data": {
      "application/vnd.jupyter.widget-view+json": {
       "model_id": "742ffef1cefa44e2acb2f669d4213d55",
       "version_major": 2,
       "version_minor": 0
      },
      "text/plain": [
       "  0%|          | 1/40000 [00:00<?, ?it/s]"
      ]
     },
     "metadata": {},
     "output_type": "display_data"
    },
    {
     "name": "stdout",
     "output_type": "stream",
     "text": [
      "\n",
      "************ Summary ************\n",
      "\n",
      "Examples/sec (First included) 394765.87 ex/sec (total: 1000000 ex, 2.53 sec)\n",
      "Examples/sec (First only) 10246.17 ex/sec (total: 25 ex, 0.00 sec)\n",
      "Examples/sec (First excluded) 395136.59 ex/sec (total: 999975 ex, 2.53 sec)\n"
     ]
    },
    {
     "data": {
      "application/vnd.jupyter.widget-view+json": {
       "model_id": "0fd999f2c68f498f9b8dde7aa8864260",
       "version_major": 2,
       "version_minor": 0
      },
      "text/plain": [
       "1it [00:00, ?it/s]"
      ]
     },
     "metadata": {},
     "output_type": "display_data"
    },
    {
     "name": "stdout",
     "output_type": "stream",
     "text": [
      "\n",
      "************ Summary ************\n",
      "\n",
      "Examples/sec (First included) 4944.84 ex/sec (total: 1000000 ex, 202.23 sec)\n",
      "Examples/sec (First only) 1690.08 ex/sec (total: 25 ex, 0.01 sec)\n",
      "Examples/sec (First excluded) 4945.08 ex/sec (total: 999975 ex, 202.22 sec)\n"
     ]
    },
    {
     "data": {
      "application/vnd.jupyter.widget-view+json": {
       "model_id": "0a05ac4f41f84a32941b439fe92a8933",
       "version_major": 2,
       "version_minor": 0
      },
      "text/plain": [
       "1it [00:00, ?it/s]"
      ]
     },
     "metadata": {},
     "output_type": "display_data"
    },
    {
     "name": "stdout",
     "output_type": "stream",
     "text": [
      "\n",
      "************ Summary ************\n",
      "\n",
      "Examples/sec (First included) 171449.25 ex/sec (total: 1000000 ex, 5.83 sec)\n",
      "Examples/sec (First only) 1043.69 ex/sec (total: 25 ex, 0.02 sec)\n",
      "Examples/sec (First excluded) 172151.96 ex/sec (total: 999975 ex, 5.81 sec)\n",
      "prefetch = -1\n"
     ]
    },
    {
     "data": {
      "application/vnd.jupyter.widget-view+json": {
       "model_id": "73df9b89d36c4c0c872cbdf6ca2c7e38",
       "version_major": 2,
       "version_minor": 0
      },
      "text/plain": [
       "  0%|          | 1/40000 [00:00<?, ?it/s]"
      ]
     },
     "metadata": {},
     "output_type": "display_data"
    },
    {
     "name": "stdout",
     "output_type": "stream",
     "text": [
      "\n",
      "************ Summary ************\n",
      "\n",
      "Examples/sec (First included) 459610.91 ex/sec (total: 1000000 ex, 2.18 sec)\n",
      "Examples/sec (First only) 8686.27 ex/sec (total: 25 ex, 0.00 sec)\n",
      "Examples/sec (First excluded) 460208.18 ex/sec (total: 999975 ex, 2.17 sec)\n"
     ]
    },
    {
     "data": {
      "application/vnd.jupyter.widget-view+json": {
       "model_id": "94298822e49a4e359ef817ab1989f1c9",
       "version_major": 2,
       "version_minor": 0
      },
      "text/plain": [
       "1it [00:00, ?it/s]"
      ]
     },
     "metadata": {},
     "output_type": "display_data"
    },
    {
     "name": "stdout",
     "output_type": "stream",
     "text": [
      "\n",
      "************ Summary ************\n",
      "\n",
      "Examples/sec (First included) 4970.58 ex/sec (total: 1000000 ex, 201.18 sec)\n",
      "Examples/sec (First only) 1581.43 ex/sec (total: 25 ex, 0.02 sec)\n",
      "Examples/sec (First excluded) 4970.84 ex/sec (total: 999975 ex, 201.17 sec)\n"
     ]
    },
    {
     "data": {
      "application/vnd.jupyter.widget-view+json": {
       "model_id": "23e174b09268423288384b7b5d80daa4",
       "version_major": 2,
       "version_minor": 0
      },
      "text/plain": [
       "1it [00:00, ?it/s]"
      ]
     },
     "metadata": {},
     "output_type": "display_data"
    },
    {
     "name": "stdout",
     "output_type": "stream",
     "text": [
      "\n",
      "************ Summary ************\n",
      "\n",
      "Examples/sec (First included) 286328.91 ex/sec (total: 1000000 ex, 3.49 sec)\n",
      "Examples/sec (First only) 968.35 ex/sec (total: 25 ex, 0.03 sec)\n",
      "Examples/sec (First excluded) 288454.05 ex/sec (total: 999975 ex, 3.47 sec)\n",
      "batch_size = 100\n",
      "prefetch = None\n"
     ]
    },
    {
     "data": {
      "application/vnd.jupyter.widget-view+json": {
       "model_id": "3aee98380ea64ad7adbef4bcb1b2b5a5",
       "version_major": 2,
       "version_minor": 0
      },
      "text/plain": [
       "  0%|          | 1/10000 [00:00<?, ?it/s]"
      ]
     },
     "metadata": {},
     "output_type": "display_data"
    },
    {
     "name": "stdout",
     "output_type": "stream",
     "text": [
      "\n",
      "************ Summary ************\n",
      "\n",
      "Examples/sec (First included) 1004003.93 ex/sec (total: 1000000 ex, 1.00 sec)\n",
      "Examples/sec (First only) 19261.97 ex/sec (total: 100 ex, 0.01 sec)\n",
      "Examples/sec (First excluded) 1009163.66 ex/sec (total: 999900 ex, 0.99 sec)\n"
     ]
    },
    {
     "data": {
      "application/vnd.jupyter.widget-view+json": {
       "model_id": "e6a30b5309614a48931d34dee3fd2a5f",
       "version_major": 2,
       "version_minor": 0
      },
      "text/plain": [
       "1it [00:00, ?it/s]"
      ]
     },
     "metadata": {},
     "output_type": "display_data"
    },
    {
     "name": "stdout",
     "output_type": "stream",
     "text": [
      "\n",
      "************ Summary ************\n",
      "\n",
      "Examples/sec (First included) 5036.63 ex/sec (total: 1000000 ex, 198.55 sec)\n",
      "Examples/sec (First only) 3694.77 ex/sec (total: 100 ex, 0.03 sec)\n",
      "Examples/sec (First excluded) 5036.82 ex/sec (total: 999900 ex, 198.52 sec)\n"
     ]
    },
    {
     "data": {
      "application/vnd.jupyter.widget-view+json": {
       "model_id": "87404c6e6353455cac2a284b269909ab",
       "version_major": 2,
       "version_minor": 0
      },
      "text/plain": [
       "1it [00:00, ?it/s]"
      ]
     },
     "metadata": {},
     "output_type": "display_data"
    },
    {
     "name": "stdout",
     "output_type": "stream",
     "text": [
      "\n",
      "************ Summary ************\n",
      "\n",
      "Examples/sec (First included) 312014.02 ex/sec (total: 1000000 ex, 3.20 sec)\n",
      "Examples/sec (First only) 3858.55 ex/sec (total: 100 ex, 0.03 sec)\n",
      "Examples/sec (First excluded) 314526.17 ex/sec (total: 999900 ex, 3.18 sec)\n",
      "prefetch = -1\n"
     ]
    },
    {
     "data": {
      "application/vnd.jupyter.widget-view+json": {
       "model_id": "d8645829ffbd4c3ca5f7d49191e887d2",
       "version_major": 2,
       "version_minor": 0
      },
      "text/plain": [
       "  0%|          | 1/10000 [00:00<?, ?it/s]"
      ]
     },
     "metadata": {},
     "output_type": "display_data"
    },
    {
     "name": "stdout",
     "output_type": "stream",
     "text": [
      "\n",
      "************ Summary ************\n",
      "\n",
      "Examples/sec (First included) 1695759.22 ex/sec (total: 1000000 ex, 0.59 sec)\n",
      "Examples/sec (First only) 33816.40 ex/sec (total: 100 ex, 0.00 sec)\n",
      "Examples/sec (First excluded) 1704135.22 ex/sec (total: 999900 ex, 0.59 sec)\n"
     ]
    },
    {
     "data": {
      "application/vnd.jupyter.widget-view+json": {
       "model_id": "c76c4ea535a0488985e07ea6745f3549",
       "version_major": 2,
       "version_minor": 0
      },
      "text/plain": [
       "1it [00:00, ?it/s]"
      ]
     },
     "metadata": {},
     "output_type": "display_data"
    },
    {
     "name": "stdout",
     "output_type": "stream",
     "text": [
      "\n",
      "************ Summary ************\n",
      "\n",
      "Examples/sec (First included) 5036.09 ex/sec (total: 1000000 ex, 198.57 sec)\n",
      "Examples/sec (First only) 3418.48 ex/sec (total: 100 ex, 0.03 sec)\n",
      "Examples/sec (First excluded) 5036.33 ex/sec (total: 999900 ex, 198.54 sec)\n"
     ]
    },
    {
     "data": {
      "application/vnd.jupyter.widget-view+json": {
       "model_id": "a545ca5a91ba413181585c6d391cf6c1",
       "version_major": 2,
       "version_minor": 0
      },
      "text/plain": [
       "1it [00:00, ?it/s]"
      ]
     },
     "metadata": {},
     "output_type": "display_data"
    },
    {
     "name": "stdout",
     "output_type": "stream",
     "text": [
      "\n",
      "************ Summary ************\n",
      "\n",
      "Examples/sec (First included) 419787.72 ex/sec (total: 1000000 ex, 2.38 sec)\n",
      "Examples/sec (First only) 3821.26 ex/sec (total: 100 ex, 0.03 sec)\n",
      "Examples/sec (First excluded) 424408.12 ex/sec (total: 999900 ex, 2.36 sec)\n",
      "batch_size = 250\n",
      "prefetch = None\n"
     ]
    },
    {
     "data": {
      "application/vnd.jupyter.widget-view+json": {
       "model_id": "1c6f3efac2a042d6956317469337781e",
       "version_major": 2,
       "version_minor": 0
      },
      "text/plain": [
       "  0%|          | 1/4000 [00:00<?, ?it/s]"
      ]
     },
     "metadata": {},
     "output_type": "display_data"
    },
    {
     "name": "stdout",
     "output_type": "stream",
     "text": [
      "\n",
      "************ Summary ************\n",
      "\n",
      "Examples/sec (First included) 1376865.04 ex/sec (total: 1000000 ex, 0.73 sec)\n",
      "Examples/sec (First only) 93690.65 ex/sec (total: 250 ex, 0.00 sec)\n",
      "Examples/sec (First excluded) 1381596.76 ex/sec (total: 999750 ex, 0.72 sec)\n"
     ]
    },
    {
     "data": {
      "application/vnd.jupyter.widget-view+json": {
       "model_id": "858978a3087e48bda0377b6a14d42b1a",
       "version_major": 2,
       "version_minor": 0
      },
      "text/plain": [
       "1it [00:00, ?it/s]"
      ]
     },
     "metadata": {},
     "output_type": "display_data"
    },
    {
     "name": "stdout",
     "output_type": "stream",
     "text": [
      "\n",
      "************ Summary ************\n",
      "\n",
      "Examples/sec (First included) 5078.95 ex/sec (total: 1000000 ex, 196.89 sec)\n",
      "Examples/sec (First only) 4038.21 ex/sec (total: 250 ex, 0.06 sec)\n",
      "Examples/sec (First excluded) 5079.28 ex/sec (total: 999750 ex, 196.83 sec)\n"
     ]
    },
    {
     "data": {
      "application/vnd.jupyter.widget-view+json": {
       "model_id": "2d147c0b7eba4959a32f53e6c58cebc5",
       "version_major": 2,
       "version_minor": 0
      },
      "text/plain": [
       "1it [00:00, ?it/s]"
      ]
     },
     "metadata": {},
     "output_type": "display_data"
    },
    {
     "name": "stdout",
     "output_type": "stream",
     "text": [
      "\n",
      "************ Summary ************\n",
      "\n",
      "Examples/sec (First included) 370718.02 ex/sec (total: 1000000 ex, 2.70 sec)\n",
      "Examples/sec (First only) 10377.76 ex/sec (total: 250 ex, 0.02 sec)\n",
      "Examples/sec (First excluded) 373965.07 ex/sec (total: 999750 ex, 2.67 sec)\n",
      "prefetch = -1\n"
     ]
    },
    {
     "data": {
      "application/vnd.jupyter.widget-view+json": {
       "model_id": "66a39647846b4570be608a61999a584f",
       "version_major": 2,
       "version_minor": 0
      },
      "text/plain": [
       "  0%|          | 1/4000 [00:00<?, ?it/s]"
      ]
     },
     "metadata": {},
     "output_type": "display_data"
    },
    {
     "name": "stdout",
     "output_type": "stream",
     "text": [
      "\n",
      "************ Summary ************\n",
      "\n",
      "Examples/sec (First included) 2157219.25 ex/sec (total: 1000000 ex, 0.46 sec)\n",
      "Examples/sec (First only) 91689.18 ex/sec (total: 250 ex, 0.00 sec)\n",
      "Examples/sec (First excluded) 2169440.34 ex/sec (total: 999750 ex, 0.46 sec)\n"
     ]
    },
    {
     "data": {
      "application/vnd.jupyter.widget-view+json": {
       "model_id": "0fb8a9a32e9e4351b4f619cecb310256",
       "version_major": 2,
       "version_minor": 0
      },
      "text/plain": [
       "1it [00:00, ?it/s]"
      ]
     },
     "metadata": {},
     "output_type": "display_data"
    },
    {
     "name": "stdout",
     "output_type": "stream",
     "text": [
      "\n",
      "************ Summary ************\n",
      "\n",
      "Examples/sec (First included) 5061.49 ex/sec (total: 1000000 ex, 197.57 sec)\n",
      "Examples/sec (First only) 4171.78 ex/sec (total: 250 ex, 0.06 sec)\n",
      "Examples/sec (First excluded) 5061.76 ex/sec (total: 999750 ex, 197.51 sec)\n"
     ]
    },
    {
     "data": {
      "application/vnd.jupyter.widget-view+json": {
       "model_id": "4494f8f3495f4131afbe34ae1c89cbb4",
       "version_major": 2,
       "version_minor": 0
      },
      "text/plain": [
       "1it [00:00, ?it/s]"
      ]
     },
     "metadata": {},
     "output_type": "display_data"
    },
    {
     "name": "stdout",
     "output_type": "stream",
     "text": [
      "\n",
      "************ Summary ************\n",
      "\n",
      "Examples/sec (First included) 421687.71 ex/sec (total: 1000000 ex, 2.37 sec)\n",
      "Examples/sec (First only) 9816.25 ex/sec (total: 250 ex, 0.03 sec)\n",
      "Examples/sec (First excluded) 426159.04 ex/sec (total: 999750 ex, 2.35 sec)\n",
      "size = 1000\n",
      "batch_size = None\n",
      "prefetch = None\n"
     ]
    },
    {
     "data": {
      "application/vnd.jupyter.widget-view+json": {
       "model_id": "e205a585f5914c969b2099dabeb9888c",
       "version_major": 2,
       "version_minor": 0
      },
      "text/plain": [
       "  0%|          | 1/1000 [00:00<?, ?it/s]"
      ]
     },
     "metadata": {},
     "output_type": "display_data"
    },
    {
     "name": "stdout",
     "output_type": "stream",
     "text": [
      "\n",
      "************ Summary ************\n",
      "\n",
      "Examples/sec (First included) 14061.41 ex/sec (total: 1000 ex, 0.07 sec)\n",
      "Examples/sec (First only) 505.40 ex/sec (total: 1 ex, 0.00 sec)\n",
      "Examples/sec (First excluded) 14449.36 ex/sec (total: 999 ex, 0.07 sec)\n"
     ]
    },
    {
     "data": {
      "application/vnd.jupyter.widget-view+json": {
       "model_id": "4e1a52524e324cacad2a7742128b1085",
       "version_major": 2,
       "version_minor": 0
      },
      "text/plain": [
       "1it [00:00, ?it/s]"
      ]
     },
     "metadata": {},
     "output_type": "display_data"
    },
    {
     "name": "stdout",
     "output_type": "stream",
     "text": [
      "\n",
      "************ Summary ************\n",
      "\n",
      "Examples/sec (First included) 3374.26 ex/sec (total: 1000 ex, 0.30 sec)\n",
      "Examples/sec (First only) 102.52 ex/sec (total: 1 ex, 0.01 sec)\n",
      "Examples/sec (First excluded) 3485.61 ex/sec (total: 999 ex, 0.29 sec)\n"
     ]
    },
    {
     "data": {
      "application/vnd.jupyter.widget-view+json": {
       "model_id": "46925155c5ae43978faf165eefe7e172",
       "version_major": 2,
       "version_minor": 0
      },
      "text/plain": [
       "1it [00:00, ?it/s]"
      ]
     },
     "metadata": {},
     "output_type": "display_data"
    },
    {
     "name": "stdout",
     "output_type": "stream",
     "text": [
      "\n",
      "************ Summary ************\n",
      "\n",
      "Examples/sec (First included) 8586.56 ex/sec (total: 1000 ex, 0.12 sec)\n",
      "Examples/sec (First only) 94.74 ex/sec (total: 1 ex, 0.01 sec)\n",
      "Examples/sec (First excluded) 9432.92 ex/sec (total: 999 ex, 0.11 sec)\n",
      "prefetch = -1\n"
     ]
    },
    {
     "data": {
      "application/vnd.jupyter.widget-view+json": {
       "model_id": "97712b972c4248dd8ae2af95ef74c566",
       "version_major": 2,
       "version_minor": 0
      },
      "text/plain": [
       "  0%|          | 1/1000 [00:00<?, ?it/s]"
      ]
     },
     "metadata": {},
     "output_type": "display_data"
    },
    {
     "name": "stdout",
     "output_type": "stream",
     "text": [
      "\n",
      "************ Summary ************\n",
      "\n",
      "Examples/sec (First included) 12192.81 ex/sec (total: 1000 ex, 0.08 sec)\n",
      "Examples/sec (First only) 384.14 ex/sec (total: 1 ex, 0.00 sec)\n",
      "Examples/sec (First excluded) 12579.91 ex/sec (total: 999 ex, 0.08 sec)\n"
     ]
    },
    {
     "data": {
      "application/vnd.jupyter.widget-view+json": {
       "model_id": "ed51283da12141bf9bae61b6ef75f1d5",
       "version_major": 2,
       "version_minor": 0
      },
      "text/plain": [
       "1it [00:00, ?it/s]"
      ]
     },
     "metadata": {},
     "output_type": "display_data"
    },
    {
     "name": "stdout",
     "output_type": "stream",
     "text": [
      "\n",
      "************ Summary ************\n",
      "\n",
      "Examples/sec (First included) 3896.30 ex/sec (total: 1000 ex, 0.26 sec)\n",
      "Examples/sec (First only) 98.32 ex/sec (total: 1 ex, 0.01 sec)\n",
      "Examples/sec (First excluded) 4053.03 ex/sec (total: 999 ex, 0.25 sec)\n"
     ]
    },
    {
     "data": {
      "application/vnd.jupyter.widget-view+json": {
       "model_id": "c00ad9ff6a3543cbb8639dc0d12fbca8",
       "version_major": 2,
       "version_minor": 0
      },
      "text/plain": [
       "1it [00:00, ?it/s]"
      ]
     },
     "metadata": {},
     "output_type": "display_data"
    },
    {
     "name": "stdout",
     "output_type": "stream",
     "text": [
      "\n",
      "************ Summary ************\n",
      "\n",
      "Examples/sec (First included) 8810.16 ex/sec (total: 1000 ex, 0.11 sec)\n",
      "Examples/sec (First only) 93.26 ex/sec (total: 1 ex, 0.01 sec)\n",
      "Examples/sec (First excluded) 9719.57 ex/sec (total: 999 ex, 0.10 sec)\n",
      "batch_size = 10\n",
      "prefetch = None\n"
     ]
    },
    {
     "data": {
      "application/vnd.jupyter.widget-view+json": {
       "model_id": "163641ea50de400190fe588028494749",
       "version_major": 2,
       "version_minor": 0
      },
      "text/plain": [
       "  1%|1         | 1/100 [00:00<?, ?it/s]"
      ]
     },
     "metadata": {},
     "output_type": "display_data"
    },
    {
     "name": "stdout",
     "output_type": "stream",
     "text": [
      "\n",
      "************ Summary ************\n",
      "\n",
      "Examples/sec (First included) 33661.97 ex/sec (total: 1000 ex, 0.03 sec)\n",
      "Examples/sec (First only) 4519.71 ex/sec (total: 10 ex, 0.00 sec)\n",
      "Examples/sec (First excluded) 36007.09 ex/sec (total: 990 ex, 0.03 sec)\n"
     ]
    },
    {
     "data": {
      "application/vnd.jupyter.widget-view+json": {
       "model_id": "f95e44e33dc744948b82f8836931e013",
       "version_major": 2,
       "version_minor": 0
      },
      "text/plain": [
       "1it [00:00, ?it/s]"
      ]
     },
     "metadata": {},
     "output_type": "display_data"
    },
    {
     "name": "stdout",
     "output_type": "stream",
     "text": [
      "\n",
      "************ Summary ************\n",
      "\n",
      "Examples/sec (First included) 4320.94 ex/sec (total: 1000 ex, 0.23 sec)\n",
      "Examples/sec (First only) 868.12 ex/sec (total: 10 ex, 0.01 sec)\n",
      "Examples/sec (First excluded) 4501.80 ex/sec (total: 990 ex, 0.22 sec)\n"
     ]
    },
    {
     "data": {
      "application/vnd.jupyter.widget-view+json": {
       "model_id": "68686a75ff3e4bdf82c1b7ec428f3c3e",
       "version_major": 2,
       "version_minor": 0
      },
      "text/plain": [
       "1it [00:00, ?it/s]"
      ]
     },
     "metadata": {},
     "output_type": "display_data"
    },
    {
     "name": "stdout",
     "output_type": "stream",
     "text": [
      "\n",
      "************ Summary ************\n",
      "\n",
      "Examples/sec (First included) 18746.73 ex/sec (total: 1000 ex, 0.05 sec)\n",
      "Examples/sec (First only) 492.95 ex/sec (total: 10 ex, 0.02 sec)\n",
      "Examples/sec (First excluded) 29948.54 ex/sec (total: 990 ex, 0.03 sec)\n",
      "prefetch = -1\n"
     ]
    },
    {
     "data": {
      "application/vnd.jupyter.widget-view+json": {
       "model_id": "7466cb1a56664efeb4116d533b1d9e31",
       "version_major": 2,
       "version_minor": 0
      },
      "text/plain": [
       "  1%|1         | 1/100 [00:00<?, ?it/s]"
      ]
     },
     "metadata": {},
     "output_type": "display_data"
    },
    {
     "name": "stdout",
     "output_type": "stream",
     "text": [
      "\n",
      "************ Summary ************\n",
      "\n",
      "Examples/sec (First included) 33437.37 ex/sec (total: 1000 ex, 0.03 sec)\n",
      "Examples/sec (First only) 4251.02 ex/sec (total: 10 ex, 0.00 sec)\n",
      "Examples/sec (First excluded) 35929.09 ex/sec (total: 990 ex, 0.03 sec)\n"
     ]
    },
    {
     "data": {
      "application/vnd.jupyter.widget-view+json": {
       "model_id": "44bd1dac48ad456b8506ba2ca486da4a",
       "version_major": 2,
       "version_minor": 0
      },
      "text/plain": [
       "1it [00:00, ?it/s]"
      ]
     },
     "metadata": {},
     "output_type": "display_data"
    },
    {
     "name": "stdout",
     "output_type": "stream",
     "text": [
      "\n",
      "************ Summary ************\n",
      "\n",
      "Examples/sec (First included) 4446.99 ex/sec (total: 1000 ex, 0.22 sec)\n",
      "Examples/sec (First only) 789.20 ex/sec (total: 10 ex, 0.01 sec)\n",
      "Examples/sec (First excluded) 4665.41 ex/sec (total: 990 ex, 0.21 sec)\n"
     ]
    },
    {
     "data": {
      "application/vnd.jupyter.widget-view+json": {
       "model_id": "dcae91122bc7455fa73060c6a5f99341",
       "version_major": 2,
       "version_minor": 0
      },
      "text/plain": [
       "1it [00:00, ?it/s]"
      ]
     },
     "metadata": {},
     "output_type": "display_data"
    },
    {
     "name": "stdout",
     "output_type": "stream",
     "text": [
      "\n",
      "************ Summary ************\n",
      "\n",
      "Examples/sec (First included) 20215.35 ex/sec (total: 1000 ex, 0.05 sec)\n",
      "Examples/sec (First only) 503.99 ex/sec (total: 10 ex, 0.02 sec)\n",
      "Examples/sec (First excluded) 33416.75 ex/sec (total: 990 ex, 0.03 sec)\n",
      "batch_size = 25\n",
      "prefetch = None\n"
     ]
    },
    {
     "data": {
      "application/vnd.jupyter.widget-view+json": {
       "model_id": "5296b64094c84246b8e56855a3cf968c",
       "version_major": 2,
       "version_minor": 0
      },
      "text/plain": [
       "  2%|2         | 1/40 [00:00<?, ?it/s]"
      ]
     },
     "metadata": {},
     "output_type": "display_data"
    },
    {
     "name": "stdout",
     "output_type": "stream",
     "text": [
      "\n",
      "************ Summary ************\n",
      "\n",
      "Examples/sec (First included) 37970.41 ex/sec (total: 1000 ex, 0.03 sec)\n",
      "Examples/sec (First only) 11070.82 ex/sec (total: 25 ex, 0.00 sec)\n",
      "Examples/sec (First excluded) 40493.22 ex/sec (total: 975 ex, 0.02 sec)\n"
     ]
    },
    {
     "data": {
      "application/vnd.jupyter.widget-view+json": {
       "model_id": "a45cb04158534d48b7a368a4c5acf111",
       "version_major": 2,
       "version_minor": 0
      },
      "text/plain": [
       "1it [00:00, ?it/s]"
      ]
     },
     "metadata": {},
     "output_type": "display_data"
    },
    {
     "name": "stdout",
     "output_type": "stream",
     "text": [
      "\n",
      "************ Summary ************\n",
      "\n",
      "Examples/sec (First included) 4247.30 ex/sec (total: 1000 ex, 0.24 sec)\n",
      "Examples/sec (First only) 1755.05 ex/sec (total: 25 ex, 0.01 sec)\n",
      "Examples/sec (First excluded) 4407.79 ex/sec (total: 975 ex, 0.22 sec)\n"
     ]
    },
    {
     "data": {
      "application/vnd.jupyter.widget-view+json": {
       "model_id": "a3e5b411c7dd4fa0955e2a74eb44b8eb",
       "version_major": 2,
       "version_minor": 0
      },
      "text/plain": [
       "1it [00:00, ?it/s]"
      ]
     },
     "metadata": {},
     "output_type": "display_data"
    },
    {
     "name": "stdout",
     "output_type": "stream",
     "text": [
      "\n",
      "************ Summary ************\n",
      "\n",
      "Examples/sec (First included) 21439.14 ex/sec (total: 1000 ex, 0.05 sec)\n",
      "Examples/sec (First only) 1298.01 ex/sec (total: 25 ex, 0.02 sec)\n",
      "Examples/sec (First excluded) 35605.46 ex/sec (total: 975 ex, 0.03 sec)\n",
      "prefetch = -1\n"
     ]
    },
    {
     "data": {
      "application/vnd.jupyter.widget-view+json": {
       "model_id": "cf3390033f48409f98a176a6558324eb",
       "version_major": 2,
       "version_minor": 0
      },
      "text/plain": [
       "  2%|2         | 1/40 [00:00<?, ?it/s]"
      ]
     },
     "metadata": {},
     "output_type": "display_data"
    },
    {
     "name": "stdout",
     "output_type": "stream",
     "text": [
      "\n",
      "************ Summary ************\n",
      "\n",
      "Examples/sec (First included) 36867.65 ex/sec (total: 1000 ex, 0.03 sec)\n",
      "Examples/sec (First only) 10229.96 ex/sec (total: 25 ex, 0.00 sec)\n",
      "Examples/sec (First excluded) 39505.28 ex/sec (total: 975 ex, 0.02 sec)\n"
     ]
    },
    {
     "data": {
      "application/vnd.jupyter.widget-view+json": {
       "model_id": "7434dda98fa549bcb9bac54c807cb246",
       "version_major": 2,
       "version_minor": 0
      },
      "text/plain": [
       "1it [00:00, ?it/s]"
      ]
     },
     "metadata": {},
     "output_type": "display_data"
    },
    {
     "name": "stdout",
     "output_type": "stream",
     "text": [
      "\n",
      "************ Summary ************\n",
      "\n",
      "Examples/sec (First included) 4024.86 ex/sec (total: 1000 ex, 0.25 sec)\n",
      "Examples/sec (First only) 1644.01 ex/sec (total: 25 ex, 0.02 sec)\n",
      "Examples/sec (First excluded) 4180.08 ex/sec (total: 975 ex, 0.23 sec)\n"
     ]
    },
    {
     "data": {
      "application/vnd.jupyter.widget-view+json": {
       "model_id": "1a9dbc0e5a0545e9bde60af8a64a9e7b",
       "version_major": 2,
       "version_minor": 0
      },
      "text/plain": [
       "1it [00:00, ?it/s]"
      ]
     },
     "metadata": {},
     "output_type": "display_data"
    },
    {
     "name": "stdout",
     "output_type": "stream",
     "text": [
      "\n",
      "************ Summary ************\n",
      "\n",
      "Examples/sec (First included) 21653.91 ex/sec (total: 1000 ex, 0.05 sec)\n",
      "Examples/sec (First only) 1309.25 ex/sec (total: 25 ex, 0.02 sec)\n",
      "Examples/sec (First excluded) 35996.27 ex/sec (total: 975 ex, 0.03 sec)\n",
      "batch_size = 100\n",
      "prefetch = None\n"
     ]
    },
    {
     "data": {
      "application/vnd.jupyter.widget-view+json": {
       "model_id": "96c4126cdf3f4860a48fb3921794ba8d",
       "version_major": 2,
       "version_minor": 0
      },
      "text/plain": [
       " 10%|#         | 1/10 [00:00<?, ?it/s]"
      ]
     },
     "metadata": {},
     "output_type": "display_data"
    },
    {
     "name": "stdout",
     "output_type": "stream",
     "text": [
      "\n",
      "************ Summary ************\n",
      "\n",
      "Examples/sec (First included) 39279.11 ex/sec (total: 1000 ex, 0.03 sec)\n",
      "Examples/sec (First only) 44145.24 ex/sec (total: 100 ex, 0.00 sec)\n",
      "Examples/sec (First excluded) 38803.85 ex/sec (total: 900 ex, 0.02 sec)\n"
     ]
    },
    {
     "data": {
      "application/vnd.jupyter.widget-view+json": {
       "model_id": "c7a29c39d69c4c8990b9ea701ff0ca36",
       "version_major": 2,
       "version_minor": 0
      },
      "text/plain": [
       "1it [00:00, ?it/s]"
      ]
     },
     "metadata": {},
     "output_type": "display_data"
    },
    {
     "name": "stdout",
     "output_type": "stream",
     "text": [
      "\n",
      "************ Summary ************\n",
      "\n",
      "Examples/sec (First included) 4115.57 ex/sec (total: 1000 ex, 0.24 sec)\n",
      "Examples/sec (First only) 3514.80 ex/sec (total: 100 ex, 0.03 sec)\n",
      "Examples/sec (First excluded) 4195.25 ex/sec (total: 900 ex, 0.21 sec)\n"
     ]
    },
    {
     "data": {
      "application/vnd.jupyter.widget-view+json": {
       "model_id": "655215a31932478699f6629fe0c0b7b7",
       "version_major": 2,
       "version_minor": 0
      },
      "text/plain": [
       "1it [00:00, ?it/s]"
      ]
     },
     "metadata": {},
     "output_type": "display_data"
    },
    {
     "name": "stdout",
     "output_type": "stream",
     "text": [
      "\n",
      "************ Summary ************\n",
      "\n",
      "Examples/sec (First included) 22305.16 ex/sec (total: 1000 ex, 0.04 sec)\n",
      "Examples/sec (First only) 4990.01 ex/sec (total: 100 ex, 0.02 sec)\n",
      "Examples/sec (First excluded) 36301.09 ex/sec (total: 900 ex, 0.02 sec)\n",
      "prefetch = -1\n"
     ]
    },
    {
     "data": {
      "application/vnd.jupyter.widget-view+json": {
       "model_id": "e619f1a8c62041a787a0066d6ac85382",
       "version_major": 2,
       "version_minor": 0
      },
      "text/plain": [
       " 10%|#         | 1/10 [00:00<?, ?it/s]"
      ]
     },
     "metadata": {},
     "output_type": "display_data"
    },
    {
     "name": "stdout",
     "output_type": "stream",
     "text": [
      "\n",
      "************ Summary ************\n",
      "\n",
      "Examples/sec (First included) 39855.41 ex/sec (total: 1000 ex, 0.03 sec)\n",
      "Examples/sec (First only) 40232.88 ex/sec (total: 100 ex, 0.00 sec)\n",
      "Examples/sec (First excluded) 39813.91 ex/sec (total: 900 ex, 0.02 sec)\n"
     ]
    },
    {
     "data": {
      "application/vnd.jupyter.widget-view+json": {
       "model_id": "8c764af5b05147529a8fae82956513fa",
       "version_major": 2,
       "version_minor": 0
      },
      "text/plain": [
       "1it [00:00, ?it/s]"
      ]
     },
     "metadata": {},
     "output_type": "display_data"
    },
    {
     "name": "stdout",
     "output_type": "stream",
     "text": [
      "\n",
      "************ Summary ************\n",
      "\n",
      "Examples/sec (First included) 4810.55 ex/sec (total: 1000 ex, 0.21 sec)\n",
      "Examples/sec (First only) 3598.40 ex/sec (total: 100 ex, 0.03 sec)\n",
      "Examples/sec (First excluded) 4997.60 ex/sec (total: 900 ex, 0.18 sec)\n"
     ]
    },
    {
     "data": {
      "application/vnd.jupyter.widget-view+json": {
       "model_id": "f5c0e90f7f454dc989b8f5727f37bb27",
       "version_major": 2,
       "version_minor": 0
      },
      "text/plain": [
       "1it [00:00, ?it/s]"
      ]
     },
     "metadata": {},
     "output_type": "display_data"
    },
    {
     "name": "stdout",
     "output_type": "stream",
     "text": [
      "\n",
      "************ Summary ************\n",
      "\n",
      "Examples/sec (First included) 22263.61 ex/sec (total: 1000 ex, 0.04 sec)\n",
      "Examples/sec (First only) 4974.62 ex/sec (total: 100 ex, 0.02 sec)\n",
      "Examples/sec (First excluded) 36269.38 ex/sec (total: 900 ex, 0.02 sec)\n",
      "batch_size = 250\n",
      "prefetch = None\n"
     ]
    },
    {
     "data": {
      "application/vnd.jupyter.widget-view+json": {
       "model_id": "c24396e042bd418c99f29330349bd824",
       "version_major": 2,
       "version_minor": 0
      },
      "text/plain": [
       " 25%|##5       | 1/4 [00:00<?, ?it/s]"
      ]
     },
     "metadata": {},
     "output_type": "display_data"
    },
    {
     "name": "stdout",
     "output_type": "stream",
     "text": [
      "\n",
      "************ Summary ************\n",
      "\n",
      "Examples/sec (First included) 39756.06 ex/sec (total: 1000 ex, 0.03 sec)\n",
      "Examples/sec (First only) 105923.23 ex/sec (total: 250 ex, 0.00 sec)\n",
      "Examples/sec (First excluded) 32904.55 ex/sec (total: 750 ex, 0.02 sec)\n"
     ]
    },
    {
     "data": {
      "application/vnd.jupyter.widget-view+json": {
       "model_id": "c9d11ff126344fddb23c4ab7a54e8ad0",
       "version_major": 2,
       "version_minor": 0
      },
      "text/plain": [
       "1it [00:00, ?it/s]"
      ]
     },
     "metadata": {},
     "output_type": "display_data"
    },
    {
     "name": "stdout",
     "output_type": "stream",
     "text": [
      "\n",
      "************ Summary ************\n",
      "\n",
      "Examples/sec (First included) 4248.24 ex/sec (total: 1000 ex, 0.24 sec)\n",
      "Examples/sec (First only) 4411.78 ex/sec (total: 250 ex, 0.06 sec)\n",
      "Examples/sec (First excluded) 4196.39 ex/sec (total: 750 ex, 0.18 sec)\n"
     ]
    },
    {
     "data": {
      "application/vnd.jupyter.widget-view+json": {
       "model_id": "f6f4df4e38aa41c4b10f6912f7005dc2",
       "version_major": 2,
       "version_minor": 0
      },
      "text/plain": [
       "1it [00:00, ?it/s]"
      ]
     },
     "metadata": {},
     "output_type": "display_data"
    },
    {
     "name": "stdout",
     "output_type": "stream",
     "text": [
      "\n",
      "************ Summary ************\n",
      "\n",
      "Examples/sec (First included) 22735.73 ex/sec (total: 1000 ex, 0.04 sec)\n",
      "Examples/sec (First only) 12310.49 ex/sec (total: 250 ex, 0.02 sec)\n",
      "Examples/sec (First excluded) 31677.99 ex/sec (total: 750 ex, 0.02 sec)\n",
      "prefetch = -1\n"
     ]
    },
    {
     "data": {
      "application/vnd.jupyter.widget-view+json": {
       "model_id": "31d2188c2b9a400d9c968d7ee6ce28c6",
       "version_major": 2,
       "version_minor": 0
      },
      "text/plain": [
       " 25%|##5       | 1/4 [00:00<?, ?it/s]"
      ]
     },
     "metadata": {},
     "output_type": "display_data"
    },
    {
     "name": "stdout",
     "output_type": "stream",
     "text": [
      "\n",
      "************ Summary ************\n",
      "\n",
      "Examples/sec (First included) 39663.04 ex/sec (total: 1000 ex, 0.03 sec)\n",
      "Examples/sec (First only) 96783.12 ex/sec (total: 250 ex, 0.00 sec)\n",
      "Examples/sec (First excluded) 33142.88 ex/sec (total: 750 ex, 0.02 sec)\n"
     ]
    },
    {
     "data": {
      "application/vnd.jupyter.widget-view+json": {
       "model_id": "8b14199c7ddd4f418436b7a5803b16e7",
       "version_major": 2,
       "version_minor": 0
      },
      "text/plain": [
       "1it [00:00, ?it/s]"
      ]
     },
     "metadata": {},
     "output_type": "display_data"
    },
    {
     "name": "stdout",
     "output_type": "stream",
     "text": [
      "\n",
      "************ Summary ************\n",
      "\n",
      "Examples/sec (First included) 4638.80 ex/sec (total: 1000 ex, 0.22 sec)\n",
      "Examples/sec (First only) 4505.08 ex/sec (total: 250 ex, 0.06 sec)\n",
      "Examples/sec (First excluded) 4685.15 ex/sec (total: 750 ex, 0.16 sec)\n"
     ]
    },
    {
     "data": {
      "application/vnd.jupyter.widget-view+json": {
       "model_id": "64169e98b37c4ba4a9a5e0492373036c",
       "version_major": 2,
       "version_minor": 0
      },
      "text/plain": [
       "1it [00:00, ?it/s]"
      ]
     },
     "metadata": {},
     "output_type": "display_data"
    },
    {
     "name": "stdout",
     "output_type": "stream",
     "text": [
      "\n",
      "************ Summary ************\n",
      "\n",
      "Examples/sec (First included) 23538.26 ex/sec (total: 1000 ex, 0.04 sec)\n",
      "Examples/sec (First only) 12892.58 ex/sec (total: 250 ex, 0.02 sec)\n",
      "Examples/sec (First excluded) 32477.33 ex/sec (total: 750 ex, 0.02 sec)\n",
      "size = 10000\n",
      "batch_size = None\n",
      "prefetch = None\n"
     ]
    },
    {
     "data": {
      "application/vnd.jupyter.widget-view+json": {
       "model_id": "7ef3b82fe11d499a8a81cfc76e25d06f",
       "version_major": 2,
       "version_minor": 0
      },
      "text/plain": [
       "  0%|          | 1/10000 [00:00<?, ?it/s]"
      ]
     },
     "metadata": {},
     "output_type": "display_data"
    },
    {
     "name": "stdout",
     "output_type": "stream",
     "text": [
      "\n",
      "************ Summary ************\n",
      "\n",
      "Examples/sec (First included) 20324.75 ex/sec (total: 10000 ex, 0.49 sec)\n",
      "Examples/sec (First only) 403.23 ex/sec (total: 1 ex, 0.00 sec)\n",
      "Examples/sec (First excluded) 20425.67 ex/sec (total: 9999 ex, 0.49 sec)\n"
     ]
    },
    {
     "data": {
      "application/vnd.jupyter.widget-view+json": {
       "model_id": "883324c4c7a6458794e1ef01a7dcf45d",
       "version_major": 2,
       "version_minor": 0
      },
      "text/plain": [
       "1it [00:00, ?it/s]"
      ]
     },
     "metadata": {},
     "output_type": "display_data"
    },
    {
     "name": "stdout",
     "output_type": "stream",
     "text": [
      "\n",
      "************ Summary ************\n",
      "\n",
      "Examples/sec (First included) 3237.67 ex/sec (total: 10000 ex, 3.09 sec)\n",
      "Examples/sec (First only) 96.96 ex/sec (total: 1 ex, 0.01 sec)\n",
      "Examples/sec (First excluded) 3248.19 ex/sec (total: 9999 ex, 3.08 sec)\n"
     ]
    },
    {
     "data": {
      "application/vnd.jupyter.widget-view+json": {
       "model_id": "d34e00ce6433466c848528f52ec33851",
       "version_major": 2,
       "version_minor": 0
      },
      "text/plain": [
       "1it [00:00, ?it/s]"
      ]
     },
     "metadata": {},
     "output_type": "display_data"
    },
    {
     "name": "stdout",
     "output_type": "stream",
     "text": [
      "\n",
      "************ Summary ************\n",
      "\n",
      "Examples/sec (First included) 12972.51 ex/sec (total: 10000 ex, 0.77 sec)\n",
      "Examples/sec (First only) 84.63 ex/sec (total: 1 ex, 0.01 sec)\n",
      "Examples/sec (First excluded) 13173.15 ex/sec (total: 9999 ex, 0.76 sec)\n",
      "prefetch = -1\n"
     ]
    },
    {
     "data": {
      "application/vnd.jupyter.widget-view+json": {
       "model_id": "06c2ca5509684b63a51b631c91686698",
       "version_major": 2,
       "version_minor": 0
      },
      "text/plain": [
       "  0%|          | 1/10000 [00:00<?, ?it/s]"
      ]
     },
     "metadata": {},
     "output_type": "display_data"
    },
    {
     "name": "stdout",
     "output_type": "stream",
     "text": [
      "\n",
      "************ Summary ************\n",
      "\n",
      "Examples/sec (First included) 18340.71 ex/sec (total: 10000 ex, 0.55 sec)\n",
      "Examples/sec (First only) 363.93 ex/sec (total: 1 ex, 0.00 sec)\n",
      "Examples/sec (First excluded) 18431.76 ex/sec (total: 9999 ex, 0.54 sec)\n"
     ]
    },
    {
     "data": {
      "application/vnd.jupyter.widget-view+json": {
       "model_id": "c30ebe9e99d14551a20b07bb959b2ba9",
       "version_major": 2,
       "version_minor": 0
      },
      "text/plain": [
       "1it [00:00, ?it/s]"
      ]
     },
     "metadata": {},
     "output_type": "display_data"
    },
    {
     "name": "stdout",
     "output_type": "stream",
     "text": [
      "\n",
      "************ Summary ************\n",
      "\n",
      "Examples/sec (First included) 4494.05 ex/sec (total: 10000 ex, 2.23 sec)\n",
      "Examples/sec (First only) 96.04 ex/sec (total: 1 ex, 0.01 sec)\n",
      "Examples/sec (First excluded) 4514.72 ex/sec (total: 9999 ex, 2.21 sec)\n"
     ]
    },
    {
     "data": {
      "application/vnd.jupyter.widget-view+json": {
       "model_id": "251e46046da04d4e8a2ba46e4a4a376e",
       "version_major": 2,
       "version_minor": 0
      },
      "text/plain": [
       "1it [00:00, ?it/s]"
      ]
     },
     "metadata": {},
     "output_type": "display_data"
    },
    {
     "name": "stdout",
     "output_type": "stream",
     "text": [
      "\n",
      "************ Summary ************\n",
      "\n",
      "Examples/sec (First included) 13128.48 ex/sec (total: 10000 ex, 0.76 sec)\n",
      "Examples/sec (First only) 91.30 ex/sec (total: 1 ex, 0.01 sec)\n",
      "Examples/sec (First excluded) 13318.69 ex/sec (total: 9999 ex, 0.75 sec)\n",
      "batch_size = 10\n",
      "prefetch = None\n"
     ]
    },
    {
     "data": {
      "application/vnd.jupyter.widget-view+json": {
       "model_id": "e561c947dab84593b60f6038a24874ce",
       "version_major": 2,
       "version_minor": 0
      },
      "text/plain": [
       "  0%|          | 1/1000 [00:00<?, ?it/s]"
      ]
     },
     "metadata": {},
     "output_type": "display_data"
    },
    {
     "name": "stdout",
     "output_type": "stream",
     "text": [
      "\n",
      "************ Summary ************\n",
      "\n",
      "Examples/sec (First included) 126311.50 ex/sec (total: 10000 ex, 0.08 sec)\n",
      "Examples/sec (First only) 4625.16 ex/sec (total: 10 ex, 0.00 sec)\n",
      "Examples/sec (First excluded) 129728.02 ex/sec (total: 9990 ex, 0.08 sec)\n"
     ]
    },
    {
     "data": {
      "application/vnd.jupyter.widget-view+json": {
       "model_id": "2103b83963b5400aa70c4ce4e61b131c",
       "version_major": 2,
       "version_minor": 0
      },
      "text/plain": [
       "1it [00:00, ?it/s]"
      ]
     },
     "metadata": {},
     "output_type": "display_data"
    },
    {
     "name": "stdout",
     "output_type": "stream",
     "text": [
      "\n",
      "************ Summary ************\n",
      "\n",
      "Examples/sec (First included) 4686.66 ex/sec (total: 10000 ex, 2.13 sec)\n",
      "Examples/sec (First only) 871.65 ex/sec (total: 10 ex, 0.01 sec)\n",
      "Examples/sec (First excluded) 4707.28 ex/sec (total: 9990 ex, 2.12 sec)\n"
     ]
    },
    {
     "data": {
      "application/vnd.jupyter.widget-view+json": {
       "model_id": "7228c09c629841bc9356764400e96096",
       "version_major": 2,
       "version_minor": 0
      },
      "text/plain": [
       "1it [00:00, ?it/s]"
      ]
     },
     "metadata": {},
     "output_type": "display_data"
    },
    {
     "name": "stdout",
     "output_type": "stream",
     "text": [
      "\n",
      "************ Summary ************\n",
      "\n",
      "Examples/sec (First included) 67460.97 ex/sec (total: 10000 ex, 0.15 sec)\n",
      "Examples/sec (First only) 535.04 ex/sec (total: 10 ex, 0.02 sec)\n",
      "Examples/sec (First excluded) 77116.84 ex/sec (total: 9990 ex, 0.13 sec)\n",
      "prefetch = -1\n"
     ]
    },
    {
     "data": {
      "application/vnd.jupyter.widget-view+json": {
       "model_id": "23bbdfa3844c4049bdb525b9df72cab9",
       "version_major": 2,
       "version_minor": 0
      },
      "text/plain": [
       "  0%|          | 1/1000 [00:00<?, ?it/s]"
      ]
     },
     "metadata": {},
     "output_type": "display_data"
    },
    {
     "name": "stdout",
     "output_type": "stream",
     "text": [
      "\n",
      "************ Summary ************\n",
      "\n",
      "Examples/sec (First included) 129477.05 ex/sec (total: 10000 ex, 0.08 sec)\n",
      "Examples/sec (First only) 4194.10 ex/sec (total: 10 ex, 0.00 sec)\n",
      "Examples/sec (First excluded) 133467.89 ex/sec (total: 9990 ex, 0.07 sec)\n"
     ]
    },
    {
     "data": {
      "application/vnd.jupyter.widget-view+json": {
       "model_id": "496dbfa7c2cf4706b4db43679a70cb3d",
       "version_major": 2,
       "version_minor": 0
      },
      "text/plain": [
       "1it [00:00, ?it/s]"
      ]
     },
     "metadata": {},
     "output_type": "display_data"
    },
    {
     "name": "stdout",
     "output_type": "stream",
     "text": [
      "\n",
      "************ Summary ************\n",
      "\n",
      "Examples/sec (First included) 4835.09 ex/sec (total: 10000 ex, 2.07 sec)\n",
      "Examples/sec (First only) 820.55 ex/sec (total: 10 ex, 0.01 sec)\n",
      "Examples/sec (First excluded) 4858.89 ex/sec (total: 9990 ex, 2.06 sec)\n"
     ]
    },
    {
     "data": {
      "application/vnd.jupyter.widget-view+json": {
       "model_id": "5299f7fe0d0a426c8dea0a9f9a957904",
       "version_major": 2,
       "version_minor": 0
      },
      "text/plain": [
       "1it [00:00, ?it/s]"
      ]
     },
     "metadata": {},
     "output_type": "display_data"
    },
    {
     "name": "stdout",
     "output_type": "stream",
     "text": [
      "\n",
      "************ Summary ************\n",
      "\n",
      "Examples/sec (First included) 79294.89 ex/sec (total: 10000 ex, 0.13 sec)\n",
      "Examples/sec (First only) 525.79 ex/sec (total: 10 ex, 0.02 sec)\n",
      "Examples/sec (First excluded) 93283.94 ex/sec (total: 9990 ex, 0.11 sec)\n",
      "batch_size = 25\n",
      "prefetch = None\n"
     ]
    },
    {
     "data": {
      "application/vnd.jupyter.widget-view+json": {
       "model_id": "98f76c2ec56140aba6a5e251f198ad4e",
       "version_major": 2,
       "version_minor": 0
      },
      "text/plain": [
       "  0%|          | 1/400 [00:00<?, ?it/s]"
      ]
     },
     "metadata": {},
     "output_type": "display_data"
    },
    {
     "name": "stdout",
     "output_type": "stream",
     "text": [
      "\n",
      "************ Summary ************\n",
      "\n",
      "Examples/sec (First included) 181546.17 ex/sec (total: 10000 ex, 0.06 sec)\n",
      "Examples/sec (First only) 9247.24 ex/sec (total: 25 ex, 0.00 sec)\n",
      "Examples/sec (First excluded) 190439.29 ex/sec (total: 9975 ex, 0.05 sec)\n"
     ]
    },
    {
     "data": {
      "application/vnd.jupyter.widget-view+json": {
       "model_id": "918a0c80f77743619e5cea396fce8cdc",
       "version_major": 2,
       "version_minor": 0
      },
      "text/plain": [
       "1it [00:00, ?it/s]"
      ]
     },
     "metadata": {},
     "output_type": "display_data"
    },
    {
     "name": "stdout",
     "output_type": "stream",
     "text": [
      "\n",
      "************ Summary ************\n",
      "\n",
      "Examples/sec (First included) 4694.43 ex/sec (total: 10000 ex, 2.13 sec)\n",
      "Examples/sec (First only) 1763.41 ex/sec (total: 25 ex, 0.01 sec)\n",
      "Examples/sec (First excluded) 4714.07 ex/sec (total: 9975 ex, 2.12 sec)\n"
     ]
    },
    {
     "data": {
      "application/vnd.jupyter.widget-view+json": {
       "model_id": "cf8e0cd4bcaa4a86915d2712165c5e92",
       "version_major": 2,
       "version_minor": 0
      },
      "text/plain": [
       "1it [00:00, ?it/s]"
      ]
     },
     "metadata": {},
     "output_type": "display_data"
    },
    {
     "name": "stdout",
     "output_type": "stream",
     "text": [
      "\n",
      "************ Summary ************\n",
      "\n",
      "Examples/sec (First included) 99856.43 ex/sec (total: 10000 ex, 0.10 sec)\n",
      "Examples/sec (First only) 1224.12 ex/sec (total: 25 ex, 0.02 sec)\n",
      "Examples/sec (First excluded) 125124.05 ex/sec (total: 9975 ex, 0.08 sec)\n",
      "prefetch = -1\n"
     ]
    },
    {
     "data": {
      "application/vnd.jupyter.widget-view+json": {
       "model_id": "ea5895859a9343dead2420d9bce68814",
       "version_major": 2,
       "version_minor": 0
      },
      "text/plain": [
       "  0%|          | 1/400 [00:00<?, ?it/s]"
      ]
     },
     "metadata": {},
     "output_type": "display_data"
    },
    {
     "name": "stdout",
     "output_type": "stream",
     "text": [
      "\n",
      "************ Summary ************\n",
      "\n",
      "Examples/sec (First included) 223041.15 ex/sec (total: 10000 ex, 0.04 sec)\n",
      "Examples/sec (First only) 6220.20 ex/sec (total: 25 ex, 0.00 sec)\n",
      "Examples/sec (First excluded) 244391.77 ex/sec (total: 9975 ex, 0.04 sec)\n"
     ]
    },
    {
     "data": {
      "application/vnd.jupyter.widget-view+json": {
       "model_id": "df6d77fd56c34d269373f167278e65df",
       "version_major": 2,
       "version_minor": 0
      },
      "text/plain": [
       "1it [00:00, ?it/s]"
      ]
     },
     "metadata": {},
     "output_type": "display_data"
    },
    {
     "name": "stdout",
     "output_type": "stream",
     "text": [
      "\n",
      "************ Summary ************\n",
      "\n",
      "Examples/sec (First included) 4987.20 ex/sec (total: 10000 ex, 2.01 sec)\n",
      "Examples/sec (First only) 1566.32 ex/sec (total: 25 ex, 0.02 sec)\n",
      "Examples/sec (First excluded) 5014.65 ex/sec (total: 9975 ex, 1.99 sec)\n"
     ]
    },
    {
     "data": {
      "application/vnd.jupyter.widget-view+json": {
       "model_id": "0e7be1f9ebff4b9cb983761b8bb28ba5",
       "version_major": 2,
       "version_minor": 0
      },
      "text/plain": [
       "1it [00:00, ?it/s]"
      ]
     },
     "metadata": {},
     "output_type": "display_data"
    },
    {
     "name": "stdout",
     "output_type": "stream",
     "text": [
      "\n",
      "************ Summary ************\n",
      "\n",
      "Examples/sec (First included) 129075.98 ex/sec (total: 10000 ex, 0.08 sec)\n",
      "Examples/sec (First only) 1180.38 ex/sec (total: 25 ex, 0.02 sec)\n",
      "Examples/sec (First excluded) 177194.13 ex/sec (total: 9975 ex, 0.06 sec)\n",
      "batch_size = 100\n",
      "prefetch = None\n"
     ]
    },
    {
     "data": {
      "application/vnd.jupyter.widget-view+json": {
       "model_id": "4a9d4d3399224e4ba0ce2ac7189adf34",
       "version_major": 2,
       "version_minor": 0
      },
      "text/plain": [
       "  1%|1         | 1/100 [00:00<?, ?it/s]"
      ]
     },
     "metadata": {},
     "output_type": "display_data"
    },
    {
     "name": "stdout",
     "output_type": "stream",
     "text": [
      "\n",
      "************ Summary ************\n",
      "\n",
      "Examples/sec (First included) 287171.16 ex/sec (total: 10000 ex, 0.03 sec)\n",
      "Examples/sec (First only) 42042.47 ex/sec (total: 100 ex, 0.00 sec)\n",
      "Examples/sec (First excluded) 305142.19 ex/sec (total: 9900 ex, 0.03 sec)\n"
     ]
    },
    {
     "data": {
      "application/vnd.jupyter.widget-view+json": {
       "model_id": "81addaa0678a45248fd11026f9a52147",
       "version_major": 2,
       "version_minor": 0
      },
      "text/plain": [
       "1it [00:00, ?it/s]"
      ]
     },
     "metadata": {},
     "output_type": "display_data"
    },
    {
     "name": "stdout",
     "output_type": "stream",
     "text": [
      "\n",
      "************ Summary ************\n",
      "\n",
      "Examples/sec (First included) 5010.47 ex/sec (total: 10000 ex, 2.00 sec)\n",
      "Examples/sec (First only) 3738.03 ex/sec (total: 100 ex, 0.03 sec)\n",
      "Examples/sec (First excluded) 5027.76 ex/sec (total: 9900 ex, 1.97 sec)\n"
     ]
    },
    {
     "data": {
      "application/vnd.jupyter.widget-view+json": {
       "model_id": "ab9f310523e84efba4248bf186d52cff",
       "version_major": 2,
       "version_minor": 0
      },
      "text/plain": [
       "1it [00:00, ?it/s]"
      ]
     },
     "metadata": {},
     "output_type": "display_data"
    },
    {
     "name": "stdout",
     "output_type": "stream",
     "text": [
      "\n",
      "************ Summary ************\n",
      "\n",
      "Examples/sec (First included) 137158.53 ex/sec (total: 10000 ex, 0.07 sec)\n",
      "Examples/sec (First only) 5315.85 ex/sec (total: 100 ex, 0.02 sec)\n",
      "Examples/sec (First excluded) 183005.77 ex/sec (total: 9900 ex, 0.05 sec)\n",
      "prefetch = -1\n"
     ]
    },
    {
     "data": {
      "application/vnd.jupyter.widget-view+json": {
       "model_id": "c555ddb072124a15adf84d2bb3f6d857",
       "version_major": 2,
       "version_minor": 0
      },
      "text/plain": [
       "  1%|1         | 1/100 [00:00<?, ?it/s]"
      ]
     },
     "metadata": {},
     "output_type": "display_data"
    },
    {
     "name": "stdout",
     "output_type": "stream",
     "text": [
      "\n",
      "************ Summary ************\n",
      "\n",
      "Examples/sec (First included) 320634.40 ex/sec (total: 10000 ex, 0.03 sec)\n",
      "Examples/sec (First only) 35270.98 ex/sec (total: 100 ex, 0.00 sec)\n",
      "Examples/sec (First excluded) 349169.68 ex/sec (total: 9900 ex, 0.03 sec)\n"
     ]
    },
    {
     "data": {
      "application/vnd.jupyter.widget-view+json": {
       "model_id": "f1cc450ffd7943179c0fa919e265d72e",
       "version_major": 2,
       "version_minor": 0
      },
      "text/plain": [
       "1it [00:00, ?it/s]"
      ]
     },
     "metadata": {},
     "output_type": "display_data"
    },
    {
     "name": "stdout",
     "output_type": "stream",
     "text": [
      "\n",
      "************ Summary ************\n",
      "\n",
      "Examples/sec (First included) 5031.47 ex/sec (total: 10000 ex, 1.99 sec)\n",
      "Examples/sec (First only) 3341.69 ex/sec (total: 100 ex, 0.03 sec)\n",
      "Examples/sec (First excluded) 5057.30 ex/sec (total: 9900 ex, 1.96 sec)\n"
     ]
    },
    {
     "data": {
      "application/vnd.jupyter.widget-view+json": {
       "model_id": "0038e38769ca4b50aa6cedb75c3cb5ec",
       "version_major": 2,
       "version_minor": 0
      },
      "text/plain": [
       "1it [00:00, ?it/s]"
      ]
     },
     "metadata": {},
     "output_type": "display_data"
    },
    {
     "name": "stdout",
     "output_type": "stream",
     "text": [
      "\n",
      "************ Summary ************\n",
      "\n",
      "Examples/sec (First included) 150714.00 ex/sec (total: 10000 ex, 0.07 sec)\n",
      "Examples/sec (First only) 4832.45 ex/sec (total: 100 ex, 0.02 sec)\n",
      "Examples/sec (First excluded) 216832.39 ex/sec (total: 9900 ex, 0.05 sec)\n",
      "batch_size = 250\n",
      "prefetch = None\n"
     ]
    },
    {
     "data": {
      "application/vnd.jupyter.widget-view+json": {
       "model_id": "cc1256b97178437ca514251a183bbb45",
       "version_major": 2,
       "version_minor": 0
      },
      "text/plain": [
       "  2%|2         | 1/40 [00:00<?, ?it/s]"
      ]
     },
     "metadata": {},
     "output_type": "display_data"
    },
    {
     "name": "stdout",
     "output_type": "stream",
     "text": [
      "\n",
      "************ Summary ************\n",
      "\n",
      "Examples/sec (First included) 320843.56 ex/sec (total: 10000 ex, 0.03 sec)\n",
      "Examples/sec (First only) 55046.45 ex/sec (total: 250 ex, 0.00 sec)\n",
      "Examples/sec (First excluded) 366180.42 ex/sec (total: 9750 ex, 0.03 sec)\n"
     ]
    },
    {
     "data": {
      "application/vnd.jupyter.widget-view+json": {
       "model_id": "f9eacfffcd984a3a9072f160aa7982de",
       "version_major": 2,
       "version_minor": 0
      },
      "text/plain": [
       "1it [00:00, ?it/s]"
      ]
     },
     "metadata": {},
     "output_type": "display_data"
    },
    {
     "name": "stdout",
     "output_type": "stream",
     "text": [
      "\n",
      "************ Summary ************\n",
      "\n",
      "Examples/sec (First included) 5077.21 ex/sec (total: 10000 ex, 1.97 sec)\n",
      "Examples/sec (First only) 4240.64 ex/sec (total: 250 ex, 0.06 sec)\n",
      "Examples/sec (First excluded) 5103.02 ex/sec (total: 9750 ex, 1.91 sec)\n"
     ]
    },
    {
     "data": {
      "application/vnd.jupyter.widget-view+json": {
       "model_id": "874c4ea4209546008d22cc3f17e75127",
       "version_major": 2,
       "version_minor": 0
      },
      "text/plain": [
       "1it [00:00, ?it/s]"
      ]
     },
     "metadata": {},
     "output_type": "display_data"
    },
    {
     "name": "stdout",
     "output_type": "stream",
     "text": [
      "\n",
      "************ Summary ************\n",
      "\n",
      "Examples/sec (First included) 146439.37 ex/sec (total: 10000 ex, 0.07 sec)\n",
      "Examples/sec (First only) 11754.58 ex/sec (total: 250 ex, 0.02 sec)\n",
      "Examples/sec (First excluded) 207361.51 ex/sec (total: 9750 ex, 0.05 sec)\n",
      "prefetch = -1\n"
     ]
    },
    {
     "data": {
      "application/vnd.jupyter.widget-view+json": {
       "model_id": "5be3cbcd1b0d4f20aa2854efc04ba923",
       "version_major": 2,
       "version_minor": 0
      },
      "text/plain": [
       "  2%|2         | 1/40 [00:00<?, ?it/s]"
      ]
     },
     "metadata": {},
     "output_type": "display_data"
    },
    {
     "name": "stdout",
     "output_type": "stream",
     "text": [
      "\n",
      "************ Summary ************\n",
      "\n",
      "Examples/sec (First included) 341762.39 ex/sec (total: 10000 ex, 0.03 sec)\n",
      "Examples/sec (First only) 100418.06 ex/sec (total: 250 ex, 0.00 sec)\n",
      "Examples/sec (First excluded) 364206.83 ex/sec (total: 9750 ex, 0.03 sec)\n"
     ]
    },
    {
     "data": {
      "application/vnd.jupyter.widget-view+json": {
       "model_id": "947541dd5d7348cbb065e36218f63588",
       "version_major": 2,
       "version_minor": 0
      },
      "text/plain": [
       "1it [00:00, ?it/s]"
      ]
     },
     "metadata": {},
     "output_type": "display_data"
    },
    {
     "name": "stdout",
     "output_type": "stream",
     "text": [
      "\n",
      "************ Summary ************\n",
      "\n",
      "Examples/sec (First included) 4954.12 ex/sec (total: 10000 ex, 2.02 sec)\n",
      "Examples/sec (First only) 4221.10 ex/sec (total: 250 ex, 0.06 sec)\n",
      "Examples/sec (First excluded) 4976.28 ex/sec (total: 9750 ex, 1.96 sec)\n"
     ]
    },
    {
     "data": {
      "application/vnd.jupyter.widget-view+json": {
       "model_id": "bad73eb727894fb48fdbf432ab70e8bb",
       "version_major": 2,
       "version_minor": 0
      },
      "text/plain": [
       "1it [00:00, ?it/s]"
      ]
     },
     "metadata": {},
     "output_type": "display_data"
    },
    {
     "name": "stdout",
     "output_type": "stream",
     "text": [
      "\n",
      "************ Summary ************\n",
      "\n",
      "Examples/sec (First included) 157086.45 ex/sec (total: 10000 ex, 0.06 sec)\n",
      "Examples/sec (First only) 13347.73 ex/sec (total: 250 ex, 0.02 sec)\n",
      "Examples/sec (First excluded) 217006.91 ex/sec (total: 9750 ex, 0.04 sec)\n",
      "size = 100000\n",
      "batch_size = None\n",
      "prefetch = None\n"
     ]
    },
    {
     "data": {
      "application/vnd.jupyter.widget-view+json": {
       "model_id": "601559ebc6504910bb70d9d50ea8cb79",
       "version_major": 2,
       "version_minor": 0
      },
      "text/plain": [
       "  0%|          | 1/100000 [00:00<?, ?it/s]"
      ]
     },
     "metadata": {},
     "output_type": "display_data"
    },
    {
     "name": "stdout",
     "output_type": "stream",
     "text": [
      "\n",
      "************ Summary ************\n",
      "\n",
      "Examples/sec (First included) 21199.34 ex/sec (total: 100000 ex, 4.72 sec)\n",
      "Examples/sec (First only) 503.99 ex/sec (total: 1 ex, 0.00 sec)\n",
      "Examples/sec (First excluded) 21208.05 ex/sec (total: 99999 ex, 4.72 sec)\n"
     ]
    },
    {
     "data": {
      "application/vnd.jupyter.widget-view+json": {
       "model_id": "d99a3d5e5ca0414bbcd5794f54f20e94",
       "version_major": 2,
       "version_minor": 0
      },
      "text/plain": [
       "1it [00:00, ?it/s]"
      ]
     },
     "metadata": {},
     "output_type": "display_data"
    },
    {
     "name": "stdout",
     "output_type": "stream",
     "text": [
      "\n",
      "************ Summary ************\n",
      "\n",
      "Examples/sec (First included) 3375.08 ex/sec (total: 100000 ex, 29.63 sec)\n",
      "Examples/sec (First only) 104.02 ex/sec (total: 1 ex, 0.01 sec)\n",
      "Examples/sec (First excluded) 3376.14 ex/sec (total: 99999 ex, 29.62 sec)\n"
     ]
    },
    {
     "data": {
      "application/vnd.jupyter.widget-view+json": {
       "model_id": "ef3bbf2f4436471f80ac49f3339849aa",
       "version_major": 2,
       "version_minor": 0
      },
      "text/plain": [
       "1it [00:00, ?it/s]"
      ]
     },
     "metadata": {},
     "output_type": "display_data"
    },
    {
     "name": "stdout",
     "output_type": "stream",
     "text": [
      "\n",
      "************ Summary ************\n",
      "\n",
      "Examples/sec (First included) 13902.16 ex/sec (total: 100000 ex, 7.19 sec)\n",
      "Examples/sec (First only) 89.17 ex/sec (total: 1 ex, 0.01 sec)\n",
      "Examples/sec (First excluded) 13923.73 ex/sec (total: 99999 ex, 7.18 sec)\n",
      "prefetch = -1\n"
     ]
    },
    {
     "data": {
      "application/vnd.jupyter.widget-view+json": {
       "model_id": "0b60653442004ecc921c0434f6d34d8f",
       "version_major": 2,
       "version_minor": 0
      },
      "text/plain": [
       "  0%|          | 1/100000 [00:00<?, ?it/s]"
      ]
     },
     "metadata": {},
     "output_type": "display_data"
    },
    {
     "name": "stdout",
     "output_type": "stream",
     "text": [
      "\n",
      "************ Summary ************\n",
      "\n",
      "Examples/sec (First included) 19403.33 ex/sec (total: 100000 ex, 5.15 sec)\n",
      "Examples/sec (First only) 421.76 ex/sec (total: 1 ex, 0.00 sec)\n",
      "Examples/sec (First excluded) 19412.07 ex/sec (total: 99999 ex, 5.15 sec)\n"
     ]
    },
    {
     "data": {
      "application/vnd.jupyter.widget-view+json": {
       "model_id": "2418c535e70c4ad6bb46f9af7bf656fb",
       "version_major": 2,
       "version_minor": 0
      },
      "text/plain": [
       "1it [00:00, ?it/s]"
      ]
     },
     "metadata": {},
     "output_type": "display_data"
    },
    {
     "name": "stdout",
     "output_type": "stream",
     "text": [
      "\n",
      "************ Summary ************\n",
      "\n",
      "Examples/sec (First included) 4534.75 ex/sec (total: 100000 ex, 22.05 sec)\n",
      "Examples/sec (First only) 97.90 ex/sec (total: 1 ex, 0.01 sec)\n",
      "Examples/sec (First excluded) 4536.80 ex/sec (total: 99999 ex, 22.04 sec)\n"
     ]
    },
    {
     "data": {
      "application/vnd.jupyter.widget-view+json": {
       "model_id": "558a9925badf45fca0011da6f6530fe0",
       "version_major": 2,
       "version_minor": 0
      },
      "text/plain": [
       "1it [00:00, ?it/s]"
      ]
     },
     "metadata": {},
     "output_type": "display_data"
    },
    {
     "name": "stdout",
     "output_type": "stream",
     "text": [
      "\n",
      "************ Summary ************\n",
      "\n",
      "Examples/sec (First included) 13967.85 ex/sec (total: 100000 ex, 7.16 sec)\n",
      "Examples/sec (First only) 88.16 ex/sec (total: 1 ex, 0.01 sec)\n",
      "Examples/sec (First excluded) 13989.87 ex/sec (total: 99999 ex, 7.15 sec)\n",
      "batch_size = 10\n",
      "prefetch = None\n"
     ]
    },
    {
     "data": {
      "application/vnd.jupyter.widget-view+json": {
       "model_id": "5827463cb9b049c5bd9038d6a12585a0",
       "version_major": 2,
       "version_minor": 0
      },
      "text/plain": [
       "  0%|          | 1/10000 [00:00<?, ?it/s]"
      ]
     },
     "metadata": {},
     "output_type": "display_data"
    },
    {
     "name": "stdout",
     "output_type": "stream",
     "text": [
      "\n",
      "************ Summary ************\n",
      "\n",
      "Examples/sec (First included) 172478.58 ex/sec (total: 100000 ex, 0.58 sec)\n",
      "Examples/sec (First only) 4590.62 ex/sec (total: 10 ex, 0.00 sec)\n",
      "Examples/sec (First excluded) 173111.74 ex/sec (total: 99990 ex, 0.58 sec)\n"
     ]
    },
    {
     "data": {
      "application/vnd.jupyter.widget-view+json": {
       "model_id": "2dcc4d7365324bbcb0327673b46d67c8",
       "version_major": 2,
       "version_minor": 0
      },
      "text/plain": [
       "1it [00:00, ?it/s]"
      ]
     },
     "metadata": {},
     "output_type": "display_data"
    },
    {
     "name": "stdout",
     "output_type": "stream",
     "text": [
      "\n",
      "************ Summary ************\n",
      "\n",
      "Examples/sec (First included) 4823.96 ex/sec (total: 100000 ex, 20.73 sec)\n",
      "Examples/sec (First only) 814.40 ex/sec (total: 10 ex, 0.01 sec)\n",
      "Examples/sec (First excluded) 4826.33 ex/sec (total: 99990 ex, 20.72 sec)\n"
     ]
    },
    {
     "data": {
      "application/vnd.jupyter.widget-view+json": {
       "model_id": "1bd2332c8396403a93702705bcae9519",
       "version_major": 2,
       "version_minor": 0
      },
      "text/plain": [
       "1it [00:00, ?it/s]"
      ]
     },
     "metadata": {},
     "output_type": "display_data"
    },
    {
     "name": "stdout",
     "output_type": "stream",
     "text": [
      "\n",
      "************ Summary ************\n",
      "\n",
      "Examples/sec (First included) 89246.98 ex/sec (total: 100000 ex, 1.12 sec)\n",
      "Examples/sec (First only) 438.35 ex/sec (total: 10 ex, 0.02 sec)\n",
      "Examples/sec (First excluded) 91092.67 ex/sec (total: 99990 ex, 1.10 sec)\n",
      "prefetch = -1\n"
     ]
    },
    {
     "data": {
      "application/vnd.jupyter.widget-view+json": {
       "model_id": "c2b6bcd494da405f8ab07b3434995e22",
       "version_major": 2,
       "version_minor": 0
      },
      "text/plain": [
       "  0%|          | 1/10000 [00:00<?, ?it/s]"
      ]
     },
     "metadata": {},
     "output_type": "display_data"
    },
    {
     "name": "stdout",
     "output_type": "stream",
     "text": [
      "\n",
      "************ Summary ************\n",
      "\n",
      "Examples/sec (First included) 172488.64 ex/sec (total: 100000 ex, 0.58 sec)\n",
      "Examples/sec (First only) 4036.28 ex/sec (total: 10 ex, 0.00 sec)\n",
      "Examples/sec (First excluded) 173211.60 ex/sec (total: 99990 ex, 0.58 sec)\n"
     ]
    },
    {
     "data": {
      "application/vnd.jupyter.widget-view+json": {
       "model_id": "338acc1b198242c98dee3b551d0bbee1",
       "version_major": 2,
       "version_minor": 0
      },
      "text/plain": [
       "1it [00:00, ?it/s]"
      ]
     },
     "metadata": {},
     "output_type": "display_data"
    },
    {
     "name": "stdout",
     "output_type": "stream",
     "text": [
      "\n",
      "************ Summary ************\n",
      "\n",
      "Examples/sec (First included) 4981.71 ex/sec (total: 100000 ex, 20.07 sec)\n",
      "Examples/sec (First only) 810.64 ex/sec (total: 10 ex, 0.01 sec)\n",
      "Examples/sec (First excluded) 4984.27 ex/sec (total: 99990 ex, 20.06 sec)\n"
     ]
    },
    {
     "data": {
      "application/vnd.jupyter.widget-view+json": {
       "model_id": "78d18d15e82a4e73a430ed46886c4ccd",
       "version_major": 2,
       "version_minor": 0
      },
      "text/plain": [
       "1it [00:00, ?it/s]"
      ]
     },
     "metadata": {},
     "output_type": "display_data"
    },
    {
     "name": "stdout",
     "output_type": "stream",
     "text": [
      "\n",
      "************ Summary ************\n",
      "\n",
      "Examples/sec (First included) 118614.38 ex/sec (total: 100000 ex, 0.84 sec)\n",
      "Examples/sec (First only) 417.39 ex/sec (total: 10 ex, 0.02 sec)\n",
      "Examples/sec (First excluded) 122071.60 ex/sec (total: 99990 ex, 0.82 sec)\n",
      "batch_size = 25\n",
      "prefetch = None\n"
     ]
    },
    {
     "data": {
      "application/vnd.jupyter.widget-view+json": {
       "model_id": "3554390a7af641f8b2f91163832d9b7d",
       "version_major": 2,
       "version_minor": 0
      },
      "text/plain": [
       "  0%|          | 1/4000 [00:00<?, ?it/s]"
      ]
     },
     "metadata": {},
     "output_type": "display_data"
    },
    {
     "name": "stdout",
     "output_type": "stream",
     "text": [
      "\n",
      "************ Summary ************\n",
      "\n",
      "Examples/sec (First included) 364835.84 ex/sec (total: 100000 ex, 0.27 sec)\n",
      "Examples/sec (First only) 10664.05 ex/sec (total: 25 ex, 0.00 sec)\n",
      "Examples/sec (First excluded) 367891.18 ex/sec (total: 99975 ex, 0.27 sec)\n"
     ]
    },
    {
     "data": {
      "application/vnd.jupyter.widget-view+json": {
       "model_id": "5263162a9d0a48b4961d17da7aedeb8c",
       "version_major": 2,
       "version_minor": 0
      },
      "text/plain": [
       "1it [00:00, ?it/s]"
      ]
     },
     "metadata": {},
     "output_type": "display_data"
    },
    {
     "name": "stdout",
     "output_type": "stream",
     "text": [
      "\n",
      "************ Summary ************\n",
      "\n",
      "Examples/sec (First included) 4965.77 ex/sec (total: 100000 ex, 20.14 sec)\n",
      "Examples/sec (First only) 1597.85 ex/sec (total: 25 ex, 0.02 sec)\n",
      "Examples/sec (First excluded) 4968.39 ex/sec (total: 99975 ex, 20.12 sec)\n"
     ]
    },
    {
     "data": {
      "application/vnd.jupyter.widget-view+json": {
       "model_id": "525c3657b0e740b9906dbbdf2313b122",
       "version_major": 2,
       "version_minor": 0
      },
      "text/plain": [
       "1it [00:00, ?it/s]"
      ]
     },
     "metadata": {},
     "output_type": "display_data"
    },
    {
     "name": "stdout",
     "output_type": "stream",
     "text": [
      "\n",
      "************ Summary ************\n",
      "\n",
      "Examples/sec (First included) 161038.79 ex/sec (total: 100000 ex, 0.62 sec)\n",
      "Examples/sec (First only) 1021.23 ex/sec (total: 25 ex, 0.02 sec)\n",
      "Examples/sec (First excluded) 167605.99 ex/sec (total: 99975 ex, 0.60 sec)\n",
      "prefetch = -1\n"
     ]
    },
    {
     "data": {
      "application/vnd.jupyter.widget-view+json": {
       "model_id": "47b27a9d388d4eaba42b9faa7704f8a4",
       "version_major": 2,
       "version_minor": 0
      },
      "text/plain": [
       "  0%|          | 1/4000 [00:00<?, ?it/s]"
      ]
     },
     "metadata": {},
     "output_type": "display_data"
    },
    {
     "name": "stdout",
     "output_type": "stream",
     "text": [
      "\n",
      "************ Summary ************\n",
      "\n",
      "Examples/sec (First included) 419426.01 ex/sec (total: 100000 ex, 0.24 sec)\n",
      "Examples/sec (First only) 6213.06 ex/sec (total: 25 ex, 0.00 sec)\n",
      "Examples/sec (First excluded) 426519.43 ex/sec (total: 99975 ex, 0.23 sec)\n"
     ]
    },
    {
     "data": {
      "application/vnd.jupyter.widget-view+json": {
       "model_id": "9204f80fc597467ea7d6dda799928dae",
       "version_major": 2,
       "version_minor": 0
      },
      "text/plain": [
       "1it [00:00, ?it/s]"
      ]
     },
     "metadata": {},
     "output_type": "display_data"
    },
    {
     "name": "stdout",
     "output_type": "stream",
     "text": [
      "\n",
      "************ Summary ************\n",
      "\n",
      "Examples/sec (First included) 5017.34 ex/sec (total: 100000 ex, 19.93 sec)\n",
      "Examples/sec (First only) 1761.47 ex/sec (total: 25 ex, 0.01 sec)\n",
      "Examples/sec (First excluded) 5019.66 ex/sec (total: 99975 ex, 19.92 sec)\n"
     ]
    },
    {
     "data": {
      "application/vnd.jupyter.widget-view+json": {
       "model_id": "aa77b22ce1ba43d98d639ef69fa2f510",
       "version_major": 2,
       "version_minor": 0
      },
      "text/plain": [
       "1it [00:00, ?it/s]"
      ]
     },
     "metadata": {},
     "output_type": "display_data"
    },
    {
     "name": "stdout",
     "output_type": "stream",
     "text": [
      "\n",
      "************ Summary ************\n",
      "\n",
      "Examples/sec (First included) 254368.32 ex/sec (total: 100000 ex, 0.39 sec)\n",
      "Examples/sec (First only) 1034.32 ex/sec (total: 25 ex, 0.02 sec)\n",
      "Examples/sec (First excluded) 270964.18 ex/sec (total: 99975 ex, 0.37 sec)\n",
      "batch_size = 100\n",
      "prefetch = None\n"
     ]
    },
    {
     "data": {
      "application/vnd.jupyter.widget-view+json": {
       "model_id": "66f90947378b4ca08de5f69f5595c3d8",
       "version_major": 2,
       "version_minor": 0
      },
      "text/plain": [
       "  0%|          | 1/1000 [00:00<?, ?it/s]"
      ]
     },
     "metadata": {},
     "output_type": "display_data"
    },
    {
     "name": "stdout",
     "output_type": "stream",
     "text": [
      "\n",
      "************ Summary ************\n",
      "\n",
      "Examples/sec (First included) 823839.10 ex/sec (total: 100000 ex, 0.12 sec)\n",
      "Examples/sec (First only) 44957.20 ex/sec (total: 100 ex, 0.00 sec)\n",
      "Examples/sec (First excluded) 838378.52 ex/sec (total: 99900 ex, 0.12 sec)\n"
     ]
    },
    {
     "data": {
      "application/vnd.jupyter.widget-view+json": {
       "model_id": "1d275846b0d640a1913fa44a4da649a5",
       "version_major": 2,
       "version_minor": 0
      },
      "text/plain": [
       "1it [00:00, ?it/s]"
      ]
     },
     "metadata": {},
     "output_type": "display_data"
    },
    {
     "name": "stdout",
     "output_type": "stream",
     "text": [
      "\n",
      "************ Summary ************\n",
      "\n",
      "Examples/sec (First included) 5109.93 ex/sec (total: 100000 ex, 19.57 sec)\n",
      "Examples/sec (First only) 3596.58 ex/sec (total: 100 ex, 0.03 sec)\n",
      "Examples/sec (First excluded) 5112.09 ex/sec (total: 99900 ex, 19.54 sec)\n"
     ]
    },
    {
     "data": {
      "application/vnd.jupyter.widget-view+json": {
       "model_id": "bec3823e4ab04f4aa5a5816bfa7693d4",
       "version_major": 2,
       "version_minor": 0
      },
      "text/plain": [
       "1it [00:00, ?it/s]"
      ]
     },
     "metadata": {},
     "output_type": "display_data"
    },
    {
     "name": "stdout",
     "output_type": "stream",
     "text": [
      "\n",
      "************ Summary ************\n",
      "\n",
      "Examples/sec (First included) 281343.06 ex/sec (total: 100000 ex, 0.36 sec)\n",
      "Examples/sec (First only) 4095.54 ex/sec (total: 100 ex, 0.02 sec)\n",
      "Examples/sec (First excluded) 301793.42 ex/sec (total: 99900 ex, 0.33 sec)\n",
      "prefetch = -1\n"
     ]
    },
    {
     "data": {
      "application/vnd.jupyter.widget-view+json": {
       "model_id": "b63a7565c2194c448c9332310c069ae1",
       "version_major": 2,
       "version_minor": 0
      },
      "text/plain": [
       "  0%|          | 1/1000 [00:00<?, ?it/s]"
      ]
     },
     "metadata": {},
     "output_type": "display_data"
    },
    {
     "name": "stdout",
     "output_type": "stream",
     "text": [
      "\n",
      "************ Summary ************\n",
      "\n",
      "Examples/sec (First included) 1349535.15 ex/sec (total: 100000 ex, 0.07 sec)\n",
      "Examples/sec (First only) 40993.40 ex/sec (total: 100 ex, 0.00 sec)\n",
      "Examples/sec (First excluded) 1394079.82 ex/sec (total: 99900 ex, 0.07 sec)\n"
     ]
    },
    {
     "data": {
      "application/vnd.jupyter.widget-view+json": {
       "model_id": "97e1ebff2b35480c9bd8de30d69eb8cf",
       "version_major": 2,
       "version_minor": 0
      },
      "text/plain": [
       "1it [00:00, ?it/s]"
      ]
     },
     "metadata": {},
     "output_type": "display_data"
    },
    {
     "name": "stdout",
     "output_type": "stream",
     "text": [
      "\n",
      "************ Summary ************\n",
      "\n",
      "Examples/sec (First included) 5057.99 ex/sec (total: 100000 ex, 19.77 sec)\n",
      "Examples/sec (First only) 3148.06 ex/sec (total: 100 ex, 0.03 sec)\n",
      "Examples/sec (First excluded) 5061.06 ex/sec (total: 99900 ex, 19.74 sec)\n"
     ]
    },
    {
     "data": {
      "application/vnd.jupyter.widget-view+json": {
       "model_id": "6c9fad1545bd465d88b48e85b3e7d29a",
       "version_major": 2,
       "version_minor": 0
      },
      "text/plain": [
       "1it [00:00, ?it/s]"
      ]
     },
     "metadata": {},
     "output_type": "display_data"
    },
    {
     "name": "stdout",
     "output_type": "stream",
     "text": [
      "\n",
      "************ Summary ************\n",
      "\n",
      "Examples/sec (First included) 361452.59 ex/sec (total: 100000 ex, 0.28 sec)\n",
      "Examples/sec (First only) 4077.08 ex/sec (total: 100 ex, 0.02 sec)\n",
      "Examples/sec (First excluded) 396217.71 ex/sec (total: 99900 ex, 0.25 sec)\n",
      "batch_size = 250\n",
      "prefetch = None\n"
     ]
    },
    {
     "data": {
      "application/vnd.jupyter.widget-view+json": {
       "model_id": "91a04faca40f4bc0ba1822130ee32932",
       "version_major": 2,
       "version_minor": 0
      },
      "text/plain": [
       "  0%|          | 1/400 [00:00<?, ?it/s]"
      ]
     },
     "metadata": {},
     "output_type": "display_data"
    },
    {
     "name": "stdout",
     "output_type": "stream",
     "text": [
      "\n",
      "************ Summary ************\n",
      "\n",
      "Examples/sec (First included) 1107011.70 ex/sec (total: 100000 ex, 0.09 sec)\n",
      "Examples/sec (First only) 108189.56 ex/sec (total: 250 ex, 0.00 sec)\n",
      "Examples/sec (First excluded) 1133232.68 ex/sec (total: 99750 ex, 0.09 sec)\n"
     ]
    },
    {
     "data": {
      "application/vnd.jupyter.widget-view+json": {
       "model_id": "5abe2cfd131944e982bd77291ed9453d",
       "version_major": 2,
       "version_minor": 0
      },
      "text/plain": [
       "1it [00:00, ?it/s]"
      ]
     },
     "metadata": {},
     "output_type": "display_data"
    },
    {
     "name": "stdout",
     "output_type": "stream",
     "text": [
      "\n",
      "************ Summary ************\n",
      "\n",
      "Examples/sec (First included) 5115.68 ex/sec (total: 100000 ex, 19.55 sec)\n",
      "Examples/sec (First only) 3913.98 ex/sec (total: 250 ex, 0.06 sec)\n",
      "Examples/sec (First excluded) 5119.62 ex/sec (total: 99750 ex, 19.48 sec)\n"
     ]
    },
    {
     "data": {
      "application/vnd.jupyter.widget-view+json": {
       "model_id": "1fb4aca5843b489eb63edd23de067f12",
       "version_major": 2,
       "version_minor": 0
      },
      "text/plain": [
       "1it [00:00, ?it/s]"
      ]
     },
     "metadata": {},
     "output_type": "display_data"
    },
    {
     "name": "stdout",
     "output_type": "stream",
     "text": [
      "\n",
      "************ Summary ************\n",
      "\n",
      "Examples/sec (First included) 273541.87 ex/sec (total: 100000 ex, 0.37 sec)\n",
      "Examples/sec (First only) 3459.87 ex/sec (total: 250 ex, 0.07 sec)\n",
      "Examples/sec (First excluded) 340074.98 ex/sec (total: 99750 ex, 0.29 sec)\n",
      "prefetch = -1\n"
     ]
    },
    {
     "data": {
      "application/vnd.jupyter.widget-view+json": {
       "model_id": "cef7b822fcf44844a42985a41cd6b0c9",
       "version_major": 2,
       "version_minor": 0
      },
      "text/plain": [
       "  0%|          | 1/400 [00:00<?, ?it/s]"
      ]
     },
     "metadata": {},
     "output_type": "display_data"
    },
    {
     "name": "stdout",
     "output_type": "stream",
     "text": [
      "\n",
      "************ Summary ************\n",
      "\n",
      "Examples/sec (First included) 1288111.12 ex/sec (total: 100000 ex, 0.08 sec)\n",
      "Examples/sec (First only) 98482.74 ex/sec (total: 250 ex, 0.00 sec)\n",
      "Examples/sec (First excluded) 1328325.64 ex/sec (total: 99750 ex, 0.08 sec)\n"
     ]
    },
    {
     "data": {
      "application/vnd.jupyter.widget-view+json": {
       "model_id": "7438067879c74c5d8c38c325efc3b5d9",
       "version_major": 2,
       "version_minor": 0
      },
      "text/plain": [
       "1it [00:00, ?it/s]"
      ]
     },
     "metadata": {},
     "output_type": "display_data"
    },
    {
     "name": "stdout",
     "output_type": "stream",
     "text": [
      "\n",
      "************ Summary ************\n",
      "\n",
      "Examples/sec (First included) 5054.34 ex/sec (total: 100000 ex, 19.78 sec)\n",
      "Examples/sec (First only) 4116.13 ex/sec (total: 250 ex, 0.06 sec)\n",
      "Examples/sec (First excluded) 5057.23 ex/sec (total: 99750 ex, 19.72 sec)\n"
     ]
    },
    {
     "data": {
      "application/vnd.jupyter.widget-view+json": {
       "model_id": "59200ddd8e2e49a692826ecad8637fce",
       "version_major": 2,
       "version_minor": 0
      },
      "text/plain": [
       "1it [00:00, ?it/s]"
      ]
     },
     "metadata": {},
     "output_type": "display_data"
    },
    {
     "name": "stdout",
     "output_type": "stream",
     "text": [
      "\n",
      "************ Summary ************\n",
      "\n",
      "Examples/sec (First included) 365731.94 ex/sec (total: 100000 ex, 0.27 sec)\n",
      "Examples/sec (First only) 10452.90 ex/sec (total: 250 ex, 0.02 sec)\n",
      "Examples/sec (First excluded) 399787.58 ex/sec (total: 99750 ex, 0.25 sec)\n",
      "size = 1000000\n",
      "batch_size = None\n",
      "prefetch = None\n"
     ]
    },
    {
     "data": {
      "application/vnd.jupyter.widget-view+json": {
       "model_id": "cdf12a3e8b49472f8c550ab9f4d597ba",
       "version_major": 2,
       "version_minor": 0
      },
      "text/plain": [
       "  0%|          | 1/1000000 [00:00<?, ?it/s]"
      ]
     },
     "metadata": {},
     "output_type": "display_data"
    },
    {
     "name": "stdout",
     "output_type": "stream",
     "text": [
      "\n",
      "************ Summary ************\n",
      "\n",
      "Examples/sec (First included) 21346.02 ex/sec (total: 1000000 ex, 46.85 sec)\n",
      "Examples/sec (First only) 464.35 ex/sec (total: 1 ex, 0.00 sec)\n",
      "Examples/sec (First excluded) 21346.98 ex/sec (total: 999999 ex, 46.84 sec)\n"
     ]
    },
    {
     "data": {
      "application/vnd.jupyter.widget-view+json": {
       "model_id": "f1597e4e1d77483db3071e8293b29e1e",
       "version_major": 2,
       "version_minor": 0
      },
      "text/plain": [
       "1it [00:00, ?it/s]"
      ]
     },
     "metadata": {},
     "output_type": "display_data"
    },
    {
     "name": "stdout",
     "output_type": "stream",
     "text": [
      "\n",
      "************ Summary ************\n",
      "\n",
      "Examples/sec (First included) 3388.52 ex/sec (total: 1000000 ex, 295.11 sec)\n",
      "Examples/sec (First only) 104.33 ex/sec (total: 1 ex, 0.01 sec)\n",
      "Examples/sec (First excluded) 3388.62 ex/sec (total: 999999 ex, 295.10 sec)\n"
     ]
    },
    {
     "data": {
      "application/vnd.jupyter.widget-view+json": {
       "model_id": "8b0607d9486e4931be566653b04db73a",
       "version_major": 2,
       "version_minor": 0
      },
      "text/plain": [
       "1it [00:00, ?it/s]"
      ]
     },
     "metadata": {},
     "output_type": "display_data"
    },
    {
     "name": "stdout",
     "output_type": "stream",
     "text": [
      "\n",
      "************ Summary ************\n",
      "\n",
      "Examples/sec (First included) 13926.02 ex/sec (total: 1000000 ex, 71.81 sec)\n",
      "Examples/sec (First only) 87.19 ex/sec (total: 1 ex, 0.01 sec)\n",
      "Examples/sec (First excluded) 13928.23 ex/sec (total: 999999 ex, 71.80 sec)\n",
      "prefetch = -1\n"
     ]
    },
    {
     "data": {
      "application/vnd.jupyter.widget-view+json": {
       "model_id": "73531b1257184530a27b7dd41cb61da4",
       "version_major": 2,
       "version_minor": 0
      },
      "text/plain": [
       "  0%|          | 1/1000000 [00:00<?, ?it/s]"
      ]
     },
     "metadata": {},
     "output_type": "display_data"
    },
    {
     "name": "stdout",
     "output_type": "stream",
     "text": [
      "\n",
      "************ Summary ************\n",
      "\n",
      "Examples/sec (First included) 19355.28 ex/sec (total: 1000000 ex, 51.67 sec)\n",
      "Examples/sec (First only) 400.92 ex/sec (total: 1 ex, 0.00 sec)\n",
      "Examples/sec (First excluded) 19356.20 ex/sec (total: 999999 ex, 51.66 sec)\n"
     ]
    },
    {
     "data": {
      "application/vnd.jupyter.widget-view+json": {
       "model_id": "57d8a4eee38349ef9a8dd7a2a3d8071e",
       "version_major": 2,
       "version_minor": 0
      },
      "text/plain": [
       "1it [00:00, ?it/s]"
      ]
     },
     "metadata": {},
     "output_type": "display_data"
    },
    {
     "name": "stdout",
     "output_type": "stream",
     "text": [
      "\n",
      "************ Summary ************\n",
      "\n",
      "Examples/sec (First included) 4564.28 ex/sec (total: 1000000 ex, 219.09 sec)\n",
      "Examples/sec (First only) 99.24 ex/sec (total: 1 ex, 0.01 sec)\n",
      "Examples/sec (First excluded) 4564.49 ex/sec (total: 999999 ex, 219.08 sec)\n"
     ]
    },
    {
     "data": {
      "application/vnd.jupyter.widget-view+json": {
       "model_id": "d3685a3bff394f939029530173205ecc",
       "version_major": 2,
       "version_minor": 0
      },
      "text/plain": [
       "1it [00:00, ?it/s]"
      ]
     },
     "metadata": {},
     "output_type": "display_data"
    },
    {
     "name": "stdout",
     "output_type": "stream",
     "text": [
      "\n",
      "************ Summary ************\n",
      "\n",
      "Examples/sec (First included) 13982.53 ex/sec (total: 1000000 ex, 71.52 sec)\n",
      "Examples/sec (First only) 79.69 ex/sec (total: 1 ex, 0.01 sec)\n",
      "Examples/sec (First excluded) 13984.97 ex/sec (total: 999999 ex, 71.51 sec)\n",
      "batch_size = 10\n",
      "prefetch = None\n"
     ]
    },
    {
     "data": {
      "application/vnd.jupyter.widget-view+json": {
       "model_id": "14dc775dd2944072bba2f6d572956b7e",
       "version_major": 2,
       "version_minor": 0
      },
      "text/plain": [
       "  0%|          | 1/100000 [00:00<?, ?it/s]"
      ]
     },
     "metadata": {},
     "output_type": "display_data"
    },
    {
     "name": "stdout",
     "output_type": "stream",
     "text": [
      "\n",
      "************ Summary ************\n",
      "\n",
      "Examples/sec (First included) 179477.52 ex/sec (total: 1000000 ex, 5.57 sec)\n",
      "Examples/sec (First only) 4254.63 ex/sec (total: 10 ex, 0.00 sec)\n",
      "Examples/sec (First excluded) 179551.47 ex/sec (total: 999990 ex, 5.57 sec)\n"
     ]
    },
    {
     "data": {
      "application/vnd.jupyter.widget-view+json": {
       "model_id": "7cd2bf01851949e69656c9e7c76e1784",
       "version_major": 2,
       "version_minor": 0
      },
      "text/plain": [
       "1it [00:00, ?it/s]"
      ]
     },
     "metadata": {},
     "output_type": "display_data"
    },
    {
     "name": "stdout",
     "output_type": "stream",
     "text": [
      "\n",
      "************ Summary ************\n",
      "\n",
      "Examples/sec (First included) 4829.32 ex/sec (total: 1000000 ex, 207.07 sec)\n",
      "Examples/sec (First only) 820.04 ex/sec (total: 10 ex, 0.01 sec)\n",
      "Examples/sec (First excluded) 4829.56 ex/sec (total: 999990 ex, 207.06 sec)\n"
     ]
    },
    {
     "data": {
      "application/vnd.jupyter.widget-view+json": {
       "model_id": "bd5f5b70fa614e2ea2b3ddf425d71761",
       "version_major": 2,
       "version_minor": 0
      },
      "text/plain": [
       "1it [00:00, ?it/s]"
      ]
     },
     "metadata": {},
     "output_type": "display_data"
    },
    {
     "name": "stdout",
     "output_type": "stream",
     "text": [
      "\n",
      "************ Summary ************\n",
      "\n",
      "Examples/sec (First included) 92023.42 ex/sec (total: 1000000 ex, 10.87 sec)\n",
      "Examples/sec (First only) 425.05 ex/sec (total: 10 ex, 0.02 sec)\n",
      "Examples/sec (First excluded) 92222.16 ex/sec (total: 999990 ex, 10.84 sec)\n",
      "prefetch = -1\n"
     ]
    },
    {
     "data": {
      "application/vnd.jupyter.widget-view+json": {
       "model_id": "cff1861a79ba4329b71ca844d32f7c85",
       "version_major": 2,
       "version_minor": 0
      },
      "text/plain": [
       "  0%|          | 1/100000 [00:00<?, ?it/s]"
      ]
     },
     "metadata": {},
     "output_type": "display_data"
    },
    {
     "name": "stdout",
     "output_type": "stream",
     "text": [
      "\n",
      "************ Summary ************\n",
      "\n",
      "Examples/sec (First included) 185716.11 ex/sec (total: 1000000 ex, 5.38 sec)\n",
      "Examples/sec (First only) 3895.46 ex/sec (total: 10 ex, 0.00 sec)\n",
      "Examples/sec (First excluded) 185802.84 ex/sec (total: 999990 ex, 5.38 sec)\n"
     ]
    },
    {
     "data": {
      "application/vnd.jupyter.widget-view+json": {
       "model_id": "b2d756eb605749d9a74e9b44c84d39ff",
       "version_major": 2,
       "version_minor": 0
      },
      "text/plain": [
       "1it [00:00, ?it/s]"
      ]
     },
     "metadata": {},
     "output_type": "display_data"
    },
    {
     "name": "stdout",
     "output_type": "stream",
     "text": [
      "\n",
      "************ Summary ************\n",
      "\n",
      "Examples/sec (First included) 4943.18 ex/sec (total: 1000000 ex, 202.30 sec)\n",
      "Examples/sec (First only) 759.58 ex/sec (total: 10 ex, 0.01 sec)\n",
      "Examples/sec (First excluded) 4943.45 ex/sec (total: 999990 ex, 202.29 sec)\n"
     ]
    },
    {
     "data": {
      "application/vnd.jupyter.widget-view+json": {
       "model_id": "2198c3fe00d84be08c9a75cb589e446b",
       "version_major": 2,
       "version_minor": 0
      },
      "text/plain": [
       "1it [00:00, ?it/s]"
      ]
     },
     "metadata": {},
     "output_type": "display_data"
    },
    {
     "name": "stdout",
     "output_type": "stream",
     "text": [
      "\n",
      "************ Summary ************\n",
      "\n",
      "Examples/sec (First included) 124351.62 ex/sec (total: 1000000 ex, 8.04 sec)\n",
      "Examples/sec (First only) 395.29 ex/sec (total: 10 ex, 0.03 sec)\n",
      "Examples/sec (First excluded) 124742.80 ex/sec (total: 999990 ex, 8.02 sec)\n",
      "batch_size = 25\n",
      "prefetch = None\n"
     ]
    },
    {
     "data": {
      "application/vnd.jupyter.widget-view+json": {
       "model_id": "0804890ec9b54b2abecaff49d425d918",
       "version_major": 2,
       "version_minor": 0
      },
      "text/plain": [
       "  0%|          | 1/40000 [00:00<?, ?it/s]"
      ]
     },
     "metadata": {},
     "output_type": "display_data"
    },
    {
     "name": "stdout",
     "output_type": "stream",
     "text": [
      "\n",
      "************ Summary ************\n",
      "\n",
      "Examples/sec (First included) 396259.19 ex/sec (total: 1000000 ex, 2.52 sec)\n",
      "Examples/sec (First only) 10568.63 ex/sec (total: 25 ex, 0.00 sec)\n",
      "Examples/sec (First excluded) 396621.06 ex/sec (total: 999975 ex, 2.52 sec)\n"
     ]
    },
    {
     "data": {
      "application/vnd.jupyter.widget-view+json": {
       "model_id": "f1212260a8294f30987e24c5363bac64",
       "version_major": 2,
       "version_minor": 0
      },
      "text/plain": [
       "1it [00:00, ?it/s]"
      ]
     },
     "metadata": {},
     "output_type": "display_data"
    },
    {
     "name": "stdout",
     "output_type": "stream",
     "text": [
      "\n",
      "************ Summary ************\n",
      "\n",
      "Examples/sec (First included) 5006.62 ex/sec (total: 1000000 ex, 199.74 sec)\n",
      "Examples/sec (First only) 1735.27 ex/sec (total: 25 ex, 0.01 sec)\n",
      "Examples/sec (First excluded) 5006.86 ex/sec (total: 999975 ex, 199.72 sec)\n"
     ]
    },
    {
     "data": {
      "application/vnd.jupyter.widget-view+json": {
       "model_id": "d8c0a53ae8a74823b8119a9c8f722a1a",
       "version_major": 2,
       "version_minor": 0
      },
      "text/plain": [
       "1it [00:00, ?it/s]"
      ]
     },
     "metadata": {},
     "output_type": "display_data"
    },
    {
     "name": "stdout",
     "output_type": "stream",
     "text": [
      "\n",
      "************ Summary ************\n",
      "\n",
      "Examples/sec (First included) 169764.49 ex/sec (total: 1000000 ex, 5.89 sec)\n",
      "Examples/sec (First only) 977.81 ex/sec (total: 25 ex, 0.03 sec)\n",
      "Examples/sec (First excluded) 170500.29 ex/sec (total: 999975 ex, 5.86 sec)\n",
      "prefetch = -1\n"
     ]
    },
    {
     "data": {
      "application/vnd.jupyter.widget-view+json": {
       "model_id": "473cf707f13c48e795501570e062518e",
       "version_major": 2,
       "version_minor": 0
      },
      "text/plain": [
       "  0%|          | 1/40000 [00:00<?, ?it/s]"
      ]
     },
     "metadata": {},
     "output_type": "display_data"
    },
    {
     "name": "stdout",
     "output_type": "stream",
     "text": [
      "\n",
      "************ Summary ************\n",
      "\n",
      "Examples/sec (First included) 467936.04 ex/sec (total: 1000000 ex, 2.14 sec)\n",
      "Examples/sec (First only) 8543.60 ex/sec (total: 25 ex, 0.00 sec)\n",
      "Examples/sec (First excluded) 468565.92 ex/sec (total: 999975 ex, 2.13 sec)\n"
     ]
    },
    {
     "data": {
      "application/vnd.jupyter.widget-view+json": {
       "model_id": "15aeaadab1f44a5ba870befc6fa719b2",
       "version_major": 2,
       "version_minor": 0
      },
      "text/plain": [
       "1it [00:00, ?it/s]"
      ]
     },
     "metadata": {},
     "output_type": "display_data"
    },
    {
     "name": "stdout",
     "output_type": "stream",
     "text": [
      "\n",
      "************ Summary ************\n",
      "\n",
      "Examples/sec (First included) 5001.10 ex/sec (total: 1000000 ex, 199.96 sec)\n",
      "Examples/sec (First only) 1617.57 ex/sec (total: 25 ex, 0.02 sec)\n",
      "Examples/sec (First excluded) 5001.37 ex/sec (total: 999975 ex, 199.94 sec)\n"
     ]
    },
    {
     "data": {
      "application/vnd.jupyter.widget-view+json": {
       "model_id": "9f8c6824ca644aa6b25053be21e1c49b",
       "version_major": 2,
       "version_minor": 0
      },
      "text/plain": [
       "1it [00:00, ?it/s]"
      ]
     },
     "metadata": {},
     "output_type": "display_data"
    },
    {
     "name": "stdout",
     "output_type": "stream",
     "text": [
      "\n",
      "************ Summary ************\n",
      "\n",
      "Examples/sec (First included) 290998.00 ex/sec (total: 1000000 ex, 3.44 sec)\n",
      "Examples/sec (First only) 1012.70 ex/sec (total: 25 ex, 0.02 sec)\n",
      "Examples/sec (First excluded) 293096.25 ex/sec (total: 999975 ex, 3.41 sec)\n",
      "batch_size = 100\n",
      "prefetch = None\n"
     ]
    },
    {
     "data": {
      "application/vnd.jupyter.widget-view+json": {
       "model_id": "9e2d4b5a8b6348ce852ba633e9b63e7f",
       "version_major": 2,
       "version_minor": 0
      },
      "text/plain": [
       "  0%|          | 1/10000 [00:00<?, ?it/s]"
      ]
     },
     "metadata": {},
     "output_type": "display_data"
    },
    {
     "name": "stdout",
     "output_type": "stream",
     "text": [
      "\n",
      "************ Summary ************\n",
      "\n",
      "Examples/sec (First included) 994253.40 ex/sec (total: 1000000 ex, 1.01 sec)\n",
      "Examples/sec (First only) 41914.75 ex/sec (total: 100 ex, 0.00 sec)\n",
      "Examples/sec (First excluded) 996517.80 ex/sec (total: 999900 ex, 1.00 sec)\n"
     ]
    },
    {
     "data": {
      "application/vnd.jupyter.widget-view+json": {
       "model_id": "2c10b29edd084e69b79ffd808587cb57",
       "version_major": 2,
       "version_minor": 0
      },
      "text/plain": [
       "1it [00:00, ?it/s]"
      ]
     },
     "metadata": {},
     "output_type": "display_data"
    },
    {
     "name": "stdout",
     "output_type": "stream",
     "text": [
      "\n",
      "************ Summary ************\n",
      "\n",
      "Examples/sec (First included) 5054.24 ex/sec (total: 1000000 ex, 197.85 sec)\n",
      "Examples/sec (First only) 3134.66 ex/sec (total: 100 ex, 0.03 sec)\n",
      "Examples/sec (First excluded) 5054.55 ex/sec (total: 999900 ex, 197.82 sec)\n"
     ]
    },
    {
     "data": {
      "application/vnd.jupyter.widget-view+json": {
       "model_id": "06426729b187455b8c5be3b3be409205",
       "version_major": 2,
       "version_minor": 0
      },
      "text/plain": [
       "1it [00:00, ?it/s]"
      ]
     },
     "metadata": {},
     "output_type": "display_data"
    },
    {
     "name": "stdout",
     "output_type": "stream",
     "text": [
      "\n",
      "************ Summary ************\n",
      "\n",
      "Examples/sec (First included) 312514.30 ex/sec (total: 1000000 ex, 3.20 sec)\n",
      "Examples/sec (First only) 3885.10 ex/sec (total: 100 ex, 0.03 sec)\n",
      "Examples/sec (First excluded) 315017.02 ex/sec (total: 999900 ex, 3.17 sec)\n",
      "prefetch = -1\n"
     ]
    },
    {
     "data": {
      "application/vnd.jupyter.widget-view+json": {
       "model_id": "fa979f9979cd4b3a8f8e9c301e386ca3",
       "version_major": 2,
       "version_minor": 0
      },
      "text/plain": [
       "  0%|          | 1/10000 [00:00<?, ?it/s]"
      ]
     },
     "metadata": {},
     "output_type": "display_data"
    },
    {
     "name": "stdout",
     "output_type": "stream",
     "text": [
      "\n",
      "************ Summary ************\n",
      "\n",
      "Examples/sec (First included) 1791773.06 ex/sec (total: 1000000 ex, 0.56 sec)\n",
      "Examples/sec (First only) 37288.99 ex/sec (total: 100 ex, 0.00 sec)\n",
      "Examples/sec (First excluded) 1800244.24 ex/sec (total: 999900 ex, 0.56 sec)\n"
     ]
    },
    {
     "data": {
      "application/vnd.jupyter.widget-view+json": {
       "model_id": "87268d9838d94b1993121fc4be609b52",
       "version_major": 2,
       "version_minor": 0
      },
      "text/plain": [
       "1it [00:00, ?it/s]"
      ]
     },
     "metadata": {},
     "output_type": "display_data"
    },
    {
     "name": "stdout",
     "output_type": "stream",
     "text": [
      "\n",
      "************ Summary ************\n",
      "\n",
      "Examples/sec (First included) 5039.98 ex/sec (total: 1000000 ex, 198.41 sec)\n",
      "Examples/sec (First only) 3484.64 ex/sec (total: 100 ex, 0.03 sec)\n",
      "Examples/sec (First excluded) 5040.20 ex/sec (total: 999900 ex, 198.38 sec)\n"
     ]
    },
    {
     "data": {
      "application/vnd.jupyter.widget-view+json": {
       "model_id": "e6b20994c1144d6083c4724bf624063f",
       "version_major": 2,
       "version_minor": 0
      },
      "text/plain": [
       "1it [00:00, ?it/s]"
      ]
     },
     "metadata": {},
     "output_type": "display_data"
    },
    {
     "name": "stdout",
     "output_type": "stream",
     "text": [
      "\n",
      "************ Summary ************\n",
      "\n",
      "Examples/sec (First included) 411139.75 ex/sec (total: 1000000 ex, 2.43 sec)\n",
      "Examples/sec (First only) 3834.72 ex/sec (total: 100 ex, 0.03 sec)\n",
      "Examples/sec (First excluded) 415554.00 ex/sec (total: 999900 ex, 2.41 sec)\n",
      "batch_size = 250\n",
      "prefetch = None\n"
     ]
    },
    {
     "data": {
      "application/vnd.jupyter.widget-view+json": {
       "model_id": "74dd9c783805442ea6578cec30b61fb7",
       "version_major": 2,
       "version_minor": 0
      },
      "text/plain": [
       "  0%|          | 1/4000 [00:00<?, ?it/s]"
      ]
     },
     "metadata": {},
     "output_type": "display_data"
    },
    {
     "name": "stdout",
     "output_type": "stream",
     "text": [
      "\n",
      "************ Summary ************\n",
      "\n",
      "Examples/sec (First included) 1381187.01 ex/sec (total: 1000000 ex, 0.72 sec)\n",
      "Examples/sec (First only) 101394.66 ex/sec (total: 250 ex, 0.00 sec)\n",
      "Examples/sec (First excluded) 1385560.20 ex/sec (total: 999750 ex, 0.72 sec)\n"
     ]
    },
    {
     "data": {
      "application/vnd.jupyter.widget-view+json": {
       "model_id": "2a426a478852468fa39c1cb90106850c",
       "version_major": 2,
       "version_minor": 0
      },
      "text/plain": [
       "1it [00:00, ?it/s]"
      ]
     },
     "metadata": {},
     "output_type": "display_data"
    },
    {
     "name": "stdout",
     "output_type": "stream",
     "text": [
      "\n",
      "************ Summary ************\n",
      "\n",
      "Examples/sec (First included) 5069.42 ex/sec (total: 1000000 ex, 197.26 sec)\n",
      "Examples/sec (First only) 3791.61 ex/sec (total: 250 ex, 0.07 sec)\n",
      "Examples/sec (First excluded) 5069.85 ex/sec (total: 999750 ex, 197.20 sec)\n"
     ]
    },
    {
     "data": {
      "application/vnd.jupyter.widget-view+json": {
       "model_id": "c1c1d37f5269449f8f490327ad565d2f",
       "version_major": 2,
       "version_minor": 0
      },
      "text/plain": [
       "1it [00:00, ?it/s]"
      ]
     },
     "metadata": {},
     "output_type": "display_data"
    },
    {
     "name": "stdout",
     "output_type": "stream",
     "text": [
      "\n",
      "************ Summary ************\n",
      "\n",
      "Examples/sec (First included) 375283.59 ex/sec (total: 1000000 ex, 2.66 sec)\n",
      "Examples/sec (First only) 10090.89 ex/sec (total: 250 ex, 0.02 sec)\n",
      "Examples/sec (First excluded) 378710.87 ex/sec (total: 999750 ex, 2.64 sec)\n",
      "prefetch = -1\n"
     ]
    },
    {
     "data": {
      "application/vnd.jupyter.widget-view+json": {
       "model_id": "b899e9cc1fad45f4bc7f9d35e417c6c0",
       "version_major": 2,
       "version_minor": 0
      },
      "text/plain": [
       "  0%|          | 1/4000 [00:00<?, ?it/s]"
      ]
     },
     "metadata": {},
     "output_type": "display_data"
    },
    {
     "name": "stdout",
     "output_type": "stream",
     "text": [
      "\n",
      "************ Summary ************\n",
      "\n",
      "Examples/sec (First included) 2122284.78 ex/sec (total: 1000000 ex, 0.47 sec)\n",
      "Examples/sec (First only) 91497.90 ex/sec (total: 250 ex, 0.00 sec)\n",
      "Examples/sec (First excluded) 2134129.44 ex/sec (total: 999750 ex, 0.47 sec)\n"
     ]
    },
    {
     "data": {
      "application/vnd.jupyter.widget-view+json": {
       "model_id": "85b9bd0c6dc94830a782a0a5cac9857c",
       "version_major": 2,
       "version_minor": 0
      },
      "text/plain": [
       "1it [00:00, ?it/s]"
      ]
     },
     "metadata": {},
     "output_type": "display_data"
    },
    {
     "name": "stdout",
     "output_type": "stream",
     "text": [
      "\n",
      "************ Summary ************\n",
      "\n",
      "Examples/sec (First included) 5097.40 ex/sec (total: 1000000 ex, 196.18 sec)\n",
      "Examples/sec (First only) 4709.55 ex/sec (total: 250 ex, 0.05 sec)\n",
      "Examples/sec (First excluded) 5097.51 ex/sec (total: 999750 ex, 196.13 sec)\n"
     ]
    },
    {
     "data": {
      "application/vnd.jupyter.widget-view+json": {
       "model_id": "39f7a9a89c2a4b9584551d5a9fef430e",
       "version_major": 2,
       "version_minor": 0
      },
      "text/plain": [
       "1it [00:00, ?it/s]"
      ]
     },
     "metadata": {},
     "output_type": "display_data"
    },
    {
     "name": "stdout",
     "output_type": "stream",
     "text": [
      "\n",
      "************ Summary ************\n",
      "\n",
      "Examples/sec (First included) 434431.01 ex/sec (total: 1000000 ex, 2.30 sec)\n",
      "Examples/sec (First only) 10007.09 ex/sec (total: 250 ex, 0.02 sec)\n",
      "Examples/sec (First excluded) 439087.85 ex/sec (total: 999750 ex, 2.28 sec)\n"
     ]
    }
   ],
   "source": [
    "results = []\n",
    "for _ in range(5):\n",
    "    res = run_benchmark()\n",
    "    results.append(res)"
   ]
  },
  {
   "cell_type": "code",
   "execution_count": 45,
   "id": "610c7985",
   "metadata": {},
   "outputs": [],
   "source": [
    "result_dfs = [visualize_benchmark_results(res) for res in results]"
   ]
  },
  {
   "cell_type": "code",
   "execution_count": 46,
   "id": "1fb7e089",
   "metadata": {},
   "outputs": [],
   "source": [
    "for i, df in enumerate(result_dfs):\n",
    "    df['run'] = i+1"
   ]
  },
  {
   "cell_type": "code",
   "execution_count": 47,
   "id": "f3dc732c",
   "metadata": {},
   "outputs": [
    {
     "data": {
      "text/html": [
       "<div>\n",
       "<style scoped>\n",
       "    .dataframe tbody tr th:only-of-type {\n",
       "        vertical-align: middle;\n",
       "    }\n",
       "\n",
       "    .dataframe tbody tr th {\n",
       "        vertical-align: top;\n",
       "    }\n",
       "\n",
       "    .dataframe thead th {\n",
       "        text-align: right;\n",
       "    }\n",
       "</style>\n",
       "<table border=\"1\" class=\"dataframe\">\n",
       "  <thead>\n",
       "    <tr style=\"text-align: right;\">\n",
       "      <th></th>\n",
       "      <th>size</th>\n",
       "      <th>batch_size</th>\n",
       "      <th>prefetch</th>\n",
       "      <th>dataset_from_tensor</th>\n",
       "      <th>dataset_from_generator</th>\n",
       "      <th>dataset_from_files</th>\n",
       "      <th>run</th>\n",
       "    </tr>\n",
       "  </thead>\n",
       "  <tbody>\n",
       "    <tr>\n",
       "      <th>0</th>\n",
       "      <td>1000</td>\n",
       "      <td>1.0</td>\n",
       "      <td>0.0</td>\n",
       "      <td>1.432452e+04</td>\n",
       "      <td>3436.341625</td>\n",
       "      <td>9119.993829</td>\n",
       "      <td>1</td>\n",
       "    </tr>\n",
       "    <tr>\n",
       "      <th>1</th>\n",
       "      <td>1000</td>\n",
       "      <td>1.0</td>\n",
       "      <td>-1.0</td>\n",
       "      <td>1.394088e+04</td>\n",
       "      <td>4200.845745</td>\n",
       "      <td>8659.410058</td>\n",
       "      <td>1</td>\n",
       "    </tr>\n",
       "    <tr>\n",
       "      <th>2</th>\n",
       "      <td>1000</td>\n",
       "      <td>10.0</td>\n",
       "      <td>0.0</td>\n",
       "      <td>3.509884e+04</td>\n",
       "      <td>4301.181383</td>\n",
       "      <td>18552.992039</td>\n",
       "      <td>1</td>\n",
       "    </tr>\n",
       "    <tr>\n",
       "      <th>3</th>\n",
       "      <td>1000</td>\n",
       "      <td>10.0</td>\n",
       "      <td>-1.0</td>\n",
       "      <td>3.604097e+04</td>\n",
       "      <td>4431.729871</td>\n",
       "      <td>20174.095586</td>\n",
       "      <td>1</td>\n",
       "    </tr>\n",
       "    <tr>\n",
       "      <th>4</th>\n",
       "      <td>1000</td>\n",
       "      <td>25.0</td>\n",
       "      <td>0.0</td>\n",
       "      <td>3.774420e+04</td>\n",
       "      <td>4542.332476</td>\n",
       "      <td>20756.293755</td>\n",
       "      <td>1</td>\n",
       "    </tr>\n",
       "    <tr>\n",
       "      <th>...</th>\n",
       "      <td>...</td>\n",
       "      <td>...</td>\n",
       "      <td>...</td>\n",
       "      <td>...</td>\n",
       "      <td>...</td>\n",
       "      <td>...</td>\n",
       "      <td>...</td>\n",
       "    </tr>\n",
       "    <tr>\n",
       "      <th>195</th>\n",
       "      <td>1000000</td>\n",
       "      <td>25.0</td>\n",
       "      <td>-1.0</td>\n",
       "      <td>4.679360e+05</td>\n",
       "      <td>5001.104038</td>\n",
       "      <td>290997.999666</td>\n",
       "      <td>5</td>\n",
       "    </tr>\n",
       "    <tr>\n",
       "      <th>196</th>\n",
       "      <td>1000000</td>\n",
       "      <td>100.0</td>\n",
       "      <td>0.0</td>\n",
       "      <td>9.942534e+05</td>\n",
       "      <td>5054.243219</td>\n",
       "      <td>312514.295869</td>\n",
       "      <td>5</td>\n",
       "    </tr>\n",
       "    <tr>\n",
       "      <th>197</th>\n",
       "      <td>1000000</td>\n",
       "      <td>100.0</td>\n",
       "      <td>-1.0</td>\n",
       "      <td>1.791773e+06</td>\n",
       "      <td>5039.978080</td>\n",
       "      <td>411139.750124</td>\n",
       "      <td>5</td>\n",
       "    </tr>\n",
       "    <tr>\n",
       "      <th>198</th>\n",
       "      <td>1000000</td>\n",
       "      <td>250.0</td>\n",
       "      <td>0.0</td>\n",
       "      <td>1.381187e+06</td>\n",
       "      <td>5069.419044</td>\n",
       "      <td>375283.589941</td>\n",
       "      <td>5</td>\n",
       "    </tr>\n",
       "    <tr>\n",
       "      <th>199</th>\n",
       "      <td>1000000</td>\n",
       "      <td>250.0</td>\n",
       "      <td>-1.0</td>\n",
       "      <td>2.122285e+06</td>\n",
       "      <td>5097.400925</td>\n",
       "      <td>434431.005739</td>\n",
       "      <td>5</td>\n",
       "    </tr>\n",
       "  </tbody>\n",
       "</table>\n",
       "<p>200 rows × 7 columns</p>\n",
       "</div>"
      ],
      "text/plain": [
       "        size  batch_size  prefetch  dataset_from_tensor  \\\n",
       "0       1000         1.0       0.0         1.432452e+04   \n",
       "1       1000         1.0      -1.0         1.394088e+04   \n",
       "2       1000        10.0       0.0         3.509884e+04   \n",
       "3       1000        10.0      -1.0         3.604097e+04   \n",
       "4       1000        25.0       0.0         3.774420e+04   \n",
       "..       ...         ...       ...                  ...   \n",
       "195  1000000        25.0      -1.0         4.679360e+05   \n",
       "196  1000000       100.0       0.0         9.942534e+05   \n",
       "197  1000000       100.0      -1.0         1.791773e+06   \n",
       "198  1000000       250.0       0.0         1.381187e+06   \n",
       "199  1000000       250.0      -1.0         2.122285e+06   \n",
       "\n",
       "     dataset_from_generator  dataset_from_files  run  \n",
       "0               3436.341625         9119.993829    1  \n",
       "1               4200.845745         8659.410058    1  \n",
       "2               4301.181383        18552.992039    1  \n",
       "3               4431.729871        20174.095586    1  \n",
       "4               4542.332476        20756.293755    1  \n",
       "..                      ...                 ...  ...  \n",
       "195             5001.104038       290997.999666    5  \n",
       "196             5054.243219       312514.295869    5  \n",
       "197             5039.978080       411139.750124    5  \n",
       "198             5069.419044       375283.589941    5  \n",
       "199             5097.400925       434431.005739    5  \n",
       "\n",
       "[200 rows x 7 columns]"
      ]
     },
     "execution_count": 47,
     "metadata": {},
     "output_type": "execute_result"
    }
   ],
   "source": [
    "results = pd.concat(result_dfs, ignore_index=True)\n",
    "results.batch_size.fillna(1, inplace=True)\n",
    "results.prefetch.fillna(0, inplace=True)\n",
    "results"
   ]
  },
  {
   "cell_type": "code",
   "execution_count": 3,
   "id": "d0e9d347",
   "metadata": {},
   "outputs": [],
   "source": [
    "RESULT_CSV = 'TF_dataset_benchmark_raw_results.csv'"
   ]
  },
  {
   "cell_type": "code",
   "execution_count": 48,
   "id": "26ac5ab3",
   "metadata": {},
   "outputs": [],
   "source": [
    "results.to_csv(RESULT_CSV, index=False)"
   ]
  },
  {
   "cell_type": "code",
   "execution_count": 4,
   "id": "bcfda93b",
   "metadata": {},
   "outputs": [
    {
     "data": {
      "text/html": [
       "<div>\n",
       "<style scoped>\n",
       "    .dataframe tbody tr th:only-of-type {\n",
       "        vertical-align: middle;\n",
       "    }\n",
       "\n",
       "    .dataframe tbody tr th {\n",
       "        vertical-align: top;\n",
       "    }\n",
       "\n",
       "    .dataframe thead th {\n",
       "        text-align: right;\n",
       "    }\n",
       "</style>\n",
       "<table border=\"1\" class=\"dataframe\">\n",
       "  <thead>\n",
       "    <tr style=\"text-align: right;\">\n",
       "      <th></th>\n",
       "      <th>size</th>\n",
       "      <th>batch_size</th>\n",
       "      <th>prefetch</th>\n",
       "      <th>dataset_from_tensor</th>\n",
       "      <th>dataset_from_generator</th>\n",
       "      <th>dataset_from_files</th>\n",
       "      <th>run</th>\n",
       "    </tr>\n",
       "  </thead>\n",
       "  <tbody>\n",
       "    <tr>\n",
       "      <th>0</th>\n",
       "      <td>1000</td>\n",
       "      <td>1.0</td>\n",
       "      <td>0.0</td>\n",
       "      <td>1.432452e+04</td>\n",
       "      <td>3436.341625</td>\n",
       "      <td>9119.993829</td>\n",
       "      <td>1</td>\n",
       "    </tr>\n",
       "    <tr>\n",
       "      <th>1</th>\n",
       "      <td>1000</td>\n",
       "      <td>1.0</td>\n",
       "      <td>-1.0</td>\n",
       "      <td>1.394088e+04</td>\n",
       "      <td>4200.845745</td>\n",
       "      <td>8659.410058</td>\n",
       "      <td>1</td>\n",
       "    </tr>\n",
       "    <tr>\n",
       "      <th>2</th>\n",
       "      <td>1000</td>\n",
       "      <td>10.0</td>\n",
       "      <td>0.0</td>\n",
       "      <td>3.509884e+04</td>\n",
       "      <td>4301.181383</td>\n",
       "      <td>18552.992039</td>\n",
       "      <td>1</td>\n",
       "    </tr>\n",
       "    <tr>\n",
       "      <th>3</th>\n",
       "      <td>1000</td>\n",
       "      <td>10.0</td>\n",
       "      <td>-1.0</td>\n",
       "      <td>3.604097e+04</td>\n",
       "      <td>4431.729871</td>\n",
       "      <td>20174.095586</td>\n",
       "      <td>1</td>\n",
       "    </tr>\n",
       "    <tr>\n",
       "      <th>4</th>\n",
       "      <td>1000</td>\n",
       "      <td>25.0</td>\n",
       "      <td>0.0</td>\n",
       "      <td>3.774420e+04</td>\n",
       "      <td>4542.332476</td>\n",
       "      <td>20756.293755</td>\n",
       "      <td>1</td>\n",
       "    </tr>\n",
       "    <tr>\n",
       "      <th>...</th>\n",
       "      <td>...</td>\n",
       "      <td>...</td>\n",
       "      <td>...</td>\n",
       "      <td>...</td>\n",
       "      <td>...</td>\n",
       "      <td>...</td>\n",
       "      <td>...</td>\n",
       "    </tr>\n",
       "    <tr>\n",
       "      <th>195</th>\n",
       "      <td>1000000</td>\n",
       "      <td>25.0</td>\n",
       "      <td>-1.0</td>\n",
       "      <td>4.679360e+05</td>\n",
       "      <td>5001.104038</td>\n",
       "      <td>290997.999666</td>\n",
       "      <td>5</td>\n",
       "    </tr>\n",
       "    <tr>\n",
       "      <th>196</th>\n",
       "      <td>1000000</td>\n",
       "      <td>100.0</td>\n",
       "      <td>0.0</td>\n",
       "      <td>9.942534e+05</td>\n",
       "      <td>5054.243219</td>\n",
       "      <td>312514.295869</td>\n",
       "      <td>5</td>\n",
       "    </tr>\n",
       "    <tr>\n",
       "      <th>197</th>\n",
       "      <td>1000000</td>\n",
       "      <td>100.0</td>\n",
       "      <td>-1.0</td>\n",
       "      <td>1.791773e+06</td>\n",
       "      <td>5039.978080</td>\n",
       "      <td>411139.750124</td>\n",
       "      <td>5</td>\n",
       "    </tr>\n",
       "    <tr>\n",
       "      <th>198</th>\n",
       "      <td>1000000</td>\n",
       "      <td>250.0</td>\n",
       "      <td>0.0</td>\n",
       "      <td>1.381187e+06</td>\n",
       "      <td>5069.419044</td>\n",
       "      <td>375283.589941</td>\n",
       "      <td>5</td>\n",
       "    </tr>\n",
       "    <tr>\n",
       "      <th>199</th>\n",
       "      <td>1000000</td>\n",
       "      <td>250.0</td>\n",
       "      <td>-1.0</td>\n",
       "      <td>2.122285e+06</td>\n",
       "      <td>5097.400925</td>\n",
       "      <td>434431.005739</td>\n",
       "      <td>5</td>\n",
       "    </tr>\n",
       "  </tbody>\n",
       "</table>\n",
       "<p>200 rows × 7 columns</p>\n",
       "</div>"
      ],
      "text/plain": [
       "        size  batch_size  prefetch  dataset_from_tensor  \\\n",
       "0       1000         1.0       0.0         1.432452e+04   \n",
       "1       1000         1.0      -1.0         1.394088e+04   \n",
       "2       1000        10.0       0.0         3.509884e+04   \n",
       "3       1000        10.0      -1.0         3.604097e+04   \n",
       "4       1000        25.0       0.0         3.774420e+04   \n",
       "..       ...         ...       ...                  ...   \n",
       "195  1000000        25.0      -1.0         4.679360e+05   \n",
       "196  1000000       100.0       0.0         9.942534e+05   \n",
       "197  1000000       100.0      -1.0         1.791773e+06   \n",
       "198  1000000       250.0       0.0         1.381187e+06   \n",
       "199  1000000       250.0      -1.0         2.122285e+06   \n",
       "\n",
       "     dataset_from_generator  dataset_from_files  run  \n",
       "0               3436.341625         9119.993829    1  \n",
       "1               4200.845745         8659.410058    1  \n",
       "2               4301.181383        18552.992039    1  \n",
       "3               4431.729871        20174.095586    1  \n",
       "4               4542.332476        20756.293755    1  \n",
       "..                      ...                 ...  ...  \n",
       "195             5001.104038       290997.999666    5  \n",
       "196             5054.243219       312514.295869    5  \n",
       "197             5039.978080       411139.750124    5  \n",
       "198             5069.419044       375283.589941    5  \n",
       "199             5097.400925       434431.005739    5  \n",
       "\n",
       "[200 rows x 7 columns]"
      ]
     },
     "execution_count": 4,
     "metadata": {},
     "output_type": "execute_result"
    }
   ],
   "source": [
    "results = pd.read_csv(RESULT_CSV)\n",
    "results.drop(columns=['Unnamed: 0'], inplace=True, errors='ignore')\n",
    "results"
   ]
  },
  {
   "cell_type": "code",
   "execution_count": 8,
   "id": "e1ee1b1e",
   "metadata": {},
   "outputs": [
    {
     "data": {
      "text/html": [
       "<div>\n",
       "<style scoped>\n",
       "    .dataframe tbody tr th:only-of-type {\n",
       "        vertical-align: middle;\n",
       "    }\n",
       "\n",
       "    .dataframe tbody tr th {\n",
       "        vertical-align: top;\n",
       "    }\n",
       "\n",
       "    .dataframe thead tr th {\n",
       "        text-align: left;\n",
       "    }\n",
       "</style>\n",
       "<table border=\"1\" class=\"dataframe\">\n",
       "  <thead>\n",
       "    <tr>\n",
       "      <th></th>\n",
       "      <th>size</th>\n",
       "      <th>batch_size</th>\n",
       "      <th>prefetch</th>\n",
       "      <th colspan=\"7\" halign=\"left\">dataset_from_tensor</th>\n",
       "      <th>...</th>\n",
       "      <th colspan=\"2\" halign=\"left\">dataset_from_files</th>\n",
       "      <th colspan=\"8\" halign=\"left\">run</th>\n",
       "    </tr>\n",
       "    <tr>\n",
       "      <th></th>\n",
       "      <th></th>\n",
       "      <th></th>\n",
       "      <th></th>\n",
       "      <th>count</th>\n",
       "      <th>mean</th>\n",
       "      <th>std</th>\n",
       "      <th>min</th>\n",
       "      <th>25%</th>\n",
       "      <th>50%</th>\n",
       "      <th>75%</th>\n",
       "      <th>...</th>\n",
       "      <th>75%</th>\n",
       "      <th>max</th>\n",
       "      <th>count</th>\n",
       "      <th>mean</th>\n",
       "      <th>std</th>\n",
       "      <th>min</th>\n",
       "      <th>25%</th>\n",
       "      <th>50%</th>\n",
       "      <th>75%</th>\n",
       "      <th>max</th>\n",
       "    </tr>\n",
       "  </thead>\n",
       "  <tbody>\n",
       "    <tr>\n",
       "      <th>0</th>\n",
       "      <td>1000</td>\n",
       "      <td>1.0</td>\n",
       "      <td>-1.0</td>\n",
       "      <td>5.0</td>\n",
       "      <td>1.322098e+04</td>\n",
       "      <td>758.470542</td>\n",
       "      <td>1.219281e+04</td>\n",
       "      <td>1.265154e+04</td>\n",
       "      <td>1.356972e+04</td>\n",
       "      <td>1.374996e+04</td>\n",
       "      <td>...</td>\n",
       "      <td>9007.182580</td>\n",
       "      <td>9056.465951</td>\n",
       "      <td>5.0</td>\n",
       "      <td>3.0</td>\n",
       "      <td>1.581139</td>\n",
       "      <td>1.0</td>\n",
       "      <td>2.0</td>\n",
       "      <td>3.0</td>\n",
       "      <td>4.0</td>\n",
       "      <td>5.0</td>\n",
       "    </tr>\n",
       "    <tr>\n",
       "      <th>1</th>\n",
       "      <td>1000</td>\n",
       "      <td>1.0</td>\n",
       "      <td>0.0</td>\n",
       "      <td>5.0</td>\n",
       "      <td>1.387352e+04</td>\n",
       "      <td>372.799535</td>\n",
       "      <td>1.332253e+04</td>\n",
       "      <td>1.375971e+04</td>\n",
       "      <td>1.389944e+04</td>\n",
       "      <td>1.406141e+04</td>\n",
       "      <td>...</td>\n",
       "      <td>8620.358515</td>\n",
       "      <td>9119.993829</td>\n",
       "      <td>5.0</td>\n",
       "      <td>3.0</td>\n",
       "      <td>1.581139</td>\n",
       "      <td>1.0</td>\n",
       "      <td>2.0</td>\n",
       "      <td>3.0</td>\n",
       "      <td>4.0</td>\n",
       "      <td>5.0</td>\n",
       "    </tr>\n",
       "    <tr>\n",
       "      <th>2</th>\n",
       "      <td>1000</td>\n",
       "      <td>10.0</td>\n",
       "      <td>-1.0</td>\n",
       "      <td>5.0</td>\n",
       "      <td>3.276775e+04</td>\n",
       "      <td>2248.602836</td>\n",
       "      <td>3.009907e+04</td>\n",
       "      <td>3.137937e+04</td>\n",
       "      <td>3.288200e+04</td>\n",
       "      <td>3.343737e+04</td>\n",
       "      <td>...</td>\n",
       "      <td>20215.354577</td>\n",
       "      <td>20296.583831</td>\n",
       "      <td>5.0</td>\n",
       "      <td>3.0</td>\n",
       "      <td>1.581139</td>\n",
       "      <td>1.0</td>\n",
       "      <td>2.0</td>\n",
       "      <td>3.0</td>\n",
       "      <td>4.0</td>\n",
       "      <td>5.0</td>\n",
       "    </tr>\n",
       "    <tr>\n",
       "      <th>3</th>\n",
       "      <td>1000</td>\n",
       "      <td>10.0</td>\n",
       "      <td>0.0</td>\n",
       "      <td>5.0</td>\n",
       "      <td>3.382637e+04</td>\n",
       "      <td>733.054956</td>\n",
       "      <td>3.321560e+04</td>\n",
       "      <td>3.352043e+04</td>\n",
       "      <td>3.363500e+04</td>\n",
       "      <td>3.366197e+04</td>\n",
       "      <td>...</td>\n",
       "      <td>19074.438434</td>\n",
       "      <td>19397.900422</td>\n",
       "      <td>5.0</td>\n",
       "      <td>3.0</td>\n",
       "      <td>1.581139</td>\n",
       "      <td>1.0</td>\n",
       "      <td>2.0</td>\n",
       "      <td>3.0</td>\n",
       "      <td>4.0</td>\n",
       "      <td>5.0</td>\n",
       "    </tr>\n",
       "    <tr>\n",
       "      <th>4</th>\n",
       "      <td>1000</td>\n",
       "      <td>25.0</td>\n",
       "      <td>-1.0</td>\n",
       "      <td>5.0</td>\n",
       "      <td>3.690478e+04</td>\n",
       "      <td>1548.561176</td>\n",
       "      <td>3.435155e+04</td>\n",
       "      <td>3.686765e+04</td>\n",
       "      <td>3.717057e+04</td>\n",
       "      <td>3.768025e+04</td>\n",
       "      <td>...</td>\n",
       "      <td>21951.089680</td>\n",
       "      <td>22178.695793</td>\n",
       "      <td>5.0</td>\n",
       "      <td>3.0</td>\n",
       "      <td>1.581139</td>\n",
       "      <td>1.0</td>\n",
       "      <td>2.0</td>\n",
       "      <td>3.0</td>\n",
       "      <td>4.0</td>\n",
       "      <td>5.0</td>\n",
       "    </tr>\n",
       "    <tr>\n",
       "      <th>5</th>\n",
       "      <td>1000</td>\n",
       "      <td>25.0</td>\n",
       "      <td>0.0</td>\n",
       "      <td>5.0</td>\n",
       "      <td>3.762549e+04</td>\n",
       "      <td>341.965686</td>\n",
       "      <td>3.705218e+04</td>\n",
       "      <td>3.767943e+04</td>\n",
       "      <td>3.768123e+04</td>\n",
       "      <td>3.774420e+04</td>\n",
       "      <td>...</td>\n",
       "      <td>21352.317878</td>\n",
       "      <td>21439.144603</td>\n",
       "      <td>5.0</td>\n",
       "      <td>3.0</td>\n",
       "      <td>1.581139</td>\n",
       "      <td>1.0</td>\n",
       "      <td>2.0</td>\n",
       "      <td>3.0</td>\n",
       "      <td>4.0</td>\n",
       "      <td>5.0</td>\n",
       "    </tr>\n",
       "    <tr>\n",
       "      <th>6</th>\n",
       "      <td>1000</td>\n",
       "      <td>100.0</td>\n",
       "      <td>-1.0</td>\n",
       "      <td>5.0</td>\n",
       "      <td>3.927103e+04</td>\n",
       "      <td>1751.660537</td>\n",
       "      <td>3.616215e+04</td>\n",
       "      <td>3.985261e+04</td>\n",
       "      <td>3.985541e+04</td>\n",
       "      <td>4.009940e+04</td>\n",
       "      <td>...</td>\n",
       "      <td>22263.606804</td>\n",
       "      <td>22749.887149</td>\n",
       "      <td>5.0</td>\n",
       "      <td>3.0</td>\n",
       "      <td>1.581139</td>\n",
       "      <td>1.0</td>\n",
       "      <td>2.0</td>\n",
       "      <td>3.0</td>\n",
       "      <td>4.0</td>\n",
       "      <td>5.0</td>\n",
       "    </tr>\n",
       "    <tr>\n",
       "      <th>7</th>\n",
       "      <td>1000</td>\n",
       "      <td>100.0</td>\n",
       "      <td>0.0</td>\n",
       "      <td>5.0</td>\n",
       "      <td>3.929792e+04</td>\n",
       "      <td>206.334360</td>\n",
       "      <td>3.904356e+04</td>\n",
       "      <td>3.915931e+04</td>\n",
       "      <td>3.927911e+04</td>\n",
       "      <td>3.947875e+04</td>\n",
       "      <td>...</td>\n",
       "      <td>22421.296932</td>\n",
       "      <td>22452.651792</td>\n",
       "      <td>5.0</td>\n",
       "      <td>3.0</td>\n",
       "      <td>1.581139</td>\n",
       "      <td>1.0</td>\n",
       "      <td>2.0</td>\n",
       "      <td>3.0</td>\n",
       "      <td>4.0</td>\n",
       "      <td>5.0</td>\n",
       "    </tr>\n",
       "    <tr>\n",
       "      <th>8</th>\n",
       "      <td>1000</td>\n",
       "      <td>250.0</td>\n",
       "      <td>-1.0</td>\n",
       "      <td>5.0</td>\n",
       "      <td>3.983043e+04</td>\n",
       "      <td>1124.488945</td>\n",
       "      <td>3.794255e+04</td>\n",
       "      <td>3.966304e+04</td>\n",
       "      <td>4.038100e+04</td>\n",
       "      <td>4.045909e+04</td>\n",
       "      <td>...</td>\n",
       "      <td>23053.739881</td>\n",
       "      <td>23538.258273</td>\n",
       "      <td>5.0</td>\n",
       "      <td>3.0</td>\n",
       "      <td>1.581139</td>\n",
       "      <td>1.0</td>\n",
       "      <td>2.0</td>\n",
       "      <td>3.0</td>\n",
       "      <td>4.0</td>\n",
       "      <td>5.0</td>\n",
       "    </tr>\n",
       "    <tr>\n",
       "      <th>9</th>\n",
       "      <td>1000</td>\n",
       "      <td>250.0</td>\n",
       "      <td>0.0</td>\n",
       "      <td>5.0</td>\n",
       "      <td>3.697560e+04</td>\n",
       "      <td>4585.452478</td>\n",
       "      <td>2.983085e+04</td>\n",
       "      <td>3.494798e+04</td>\n",
       "      <td>3.954408e+04</td>\n",
       "      <td>3.975606e+04</td>\n",
       "      <td>...</td>\n",
       "      <td>22971.204997</td>\n",
       "      <td>23245.945239</td>\n",
       "      <td>5.0</td>\n",
       "      <td>3.0</td>\n",
       "      <td>1.581139</td>\n",
       "      <td>1.0</td>\n",
       "      <td>2.0</td>\n",
       "      <td>3.0</td>\n",
       "      <td>4.0</td>\n",
       "      <td>5.0</td>\n",
       "    </tr>\n",
       "    <tr>\n",
       "      <th>10</th>\n",
       "      <td>10000</td>\n",
       "      <td>1.0</td>\n",
       "      <td>-1.0</td>\n",
       "      <td>5.0</td>\n",
       "      <td>1.848986e+04</td>\n",
       "      <td>429.444107</td>\n",
       "      <td>1.811761e+04</td>\n",
       "      <td>1.817743e+04</td>\n",
       "      <td>1.834071e+04</td>\n",
       "      <td>1.865028e+04</td>\n",
       "      <td>...</td>\n",
       "      <td>13354.642214</td>\n",
       "      <td>13532.836923</td>\n",
       "      <td>5.0</td>\n",
       "      <td>3.0</td>\n",
       "      <td>1.581139</td>\n",
       "      <td>1.0</td>\n",
       "      <td>2.0</td>\n",
       "      <td>3.0</td>\n",
       "      <td>4.0</td>\n",
       "      <td>5.0</td>\n",
       "    </tr>\n",
       "    <tr>\n",
       "      <th>11</th>\n",
       "      <td>10000</td>\n",
       "      <td>1.0</td>\n",
       "      <td>0.0</td>\n",
       "      <td>5.0</td>\n",
       "      <td>1.987476e+04</td>\n",
       "      <td>704.338345</td>\n",
       "      <td>1.869493e+04</td>\n",
       "      <td>1.975621e+04</td>\n",
       "      <td>2.020967e+04</td>\n",
       "      <td>2.032475e+04</td>\n",
       "      <td>...</td>\n",
       "      <td>13160.880144</td>\n",
       "      <td>13315.259360</td>\n",
       "      <td>5.0</td>\n",
       "      <td>3.0</td>\n",
       "      <td>1.581139</td>\n",
       "      <td>1.0</td>\n",
       "      <td>2.0</td>\n",
       "      <td>3.0</td>\n",
       "      <td>4.0</td>\n",
       "      <td>5.0</td>\n",
       "    </tr>\n",
       "    <tr>\n",
       "      <th>12</th>\n",
       "      <td>10000</td>\n",
       "      <td>10.0</td>\n",
       "      <td>-1.0</td>\n",
       "      <td>5.0</td>\n",
       "      <td>1.289777e+05</td>\n",
       "      <td>2764.543327</td>\n",
       "      <td>1.252150e+05</td>\n",
       "      <td>1.272620e+05</td>\n",
       "      <td>1.294770e+05</td>\n",
       "      <td>1.308249e+05</td>\n",
       "      <td>...</td>\n",
       "      <td>79294.894573</td>\n",
       "      <td>82911.956805</td>\n",
       "      <td>5.0</td>\n",
       "      <td>3.0</td>\n",
       "      <td>1.581139</td>\n",
       "      <td>1.0</td>\n",
       "      <td>2.0</td>\n",
       "      <td>3.0</td>\n",
       "      <td>4.0</td>\n",
       "      <td>5.0</td>\n",
       "    </tr>\n",
       "    <tr>\n",
       "      <th>13</th>\n",
       "      <td>10000</td>\n",
       "      <td>10.0</td>\n",
       "      <td>0.0</td>\n",
       "      <td>5.0</td>\n",
       "      <td>1.251225e+05</td>\n",
       "      <td>2610.334409</td>\n",
       "      <td>1.208439e+05</td>\n",
       "      <td>1.247775e+05</td>\n",
       "      <td>1.259685e+05</td>\n",
       "      <td>1.263115e+05</td>\n",
       "      <td>...</td>\n",
       "      <td>67758.259913</td>\n",
       "      <td>68099.562268</td>\n",
       "      <td>5.0</td>\n",
       "      <td>3.0</td>\n",
       "      <td>1.581139</td>\n",
       "      <td>1.0</td>\n",
       "      <td>2.0</td>\n",
       "      <td>3.0</td>\n",
       "      <td>4.0</td>\n",
       "      <td>5.0</td>\n",
       "    </tr>\n",
       "    <tr>\n",
       "      <th>14</th>\n",
       "      <td>10000</td>\n",
       "      <td>25.0</td>\n",
       "      <td>-1.0</td>\n",
       "      <td>5.0</td>\n",
       "      <td>2.113728e+05</td>\n",
       "      <td>9744.450833</td>\n",
       "      <td>1.993984e+05</td>\n",
       "      <td>2.033867e+05</td>\n",
       "      <td>2.144892e+05</td>\n",
       "      <td>2.165488e+05</td>\n",
       "      <td>...</td>\n",
       "      <td>129945.739727</td>\n",
       "      <td>131535.345131</td>\n",
       "      <td>5.0</td>\n",
       "      <td>3.0</td>\n",
       "      <td>1.581139</td>\n",
       "      <td>1.0</td>\n",
       "      <td>2.0</td>\n",
       "      <td>3.0</td>\n",
       "      <td>4.0</td>\n",
       "      <td>5.0</td>\n",
       "    </tr>\n",
       "    <tr>\n",
       "      <th>15</th>\n",
       "      <td>10000</td>\n",
       "      <td>25.0</td>\n",
       "      <td>0.0</td>\n",
       "      <td>5.0</td>\n",
       "      <td>1.951124e+05</td>\n",
       "      <td>9762.125151</td>\n",
       "      <td>1.815462e+05</td>\n",
       "      <td>1.895575e+05</td>\n",
       "      <td>1.963134e+05</td>\n",
       "      <td>2.026085e+05</td>\n",
       "      <td>...</td>\n",
       "      <td>101298.597369</td>\n",
       "      <td>102424.323302</td>\n",
       "      <td>5.0</td>\n",
       "      <td>3.0</td>\n",
       "      <td>1.581139</td>\n",
       "      <td>1.0</td>\n",
       "      <td>2.0</td>\n",
       "      <td>3.0</td>\n",
       "      <td>4.0</td>\n",
       "      <td>5.0</td>\n",
       "    </tr>\n",
       "    <tr>\n",
       "      <th>16</th>\n",
       "      <td>10000</td>\n",
       "      <td>100.0</td>\n",
       "      <td>-1.0</td>\n",
       "      <td>5.0</td>\n",
       "      <td>3.211240e+05</td>\n",
       "      <td>15452.735990</td>\n",
       "      <td>2.987137e+05</td>\n",
       "      <td>3.158112e+05</td>\n",
       "      <td>3.206344e+05</td>\n",
       "      <td>3.315909e+05</td>\n",
       "      <td>...</td>\n",
       "      <td>152005.985752</td>\n",
       "      <td>153485.147335</td>\n",
       "      <td>5.0</td>\n",
       "      <td>3.0</td>\n",
       "      <td>1.581139</td>\n",
       "      <td>1.0</td>\n",
       "      <td>2.0</td>\n",
       "      <td>3.0</td>\n",
       "      <td>4.0</td>\n",
       "      <td>5.0</td>\n",
       "    </tr>\n",
       "    <tr>\n",
       "      <th>17</th>\n",
       "      <td>10000</td>\n",
       "      <td>100.0</td>\n",
       "      <td>0.0</td>\n",
       "      <td>5.0</td>\n",
       "      <td>2.883312e+05</td>\n",
       "      <td>11405.245933</td>\n",
       "      <td>2.690831e+05</td>\n",
       "      <td>2.871712e+05</td>\n",
       "      <td>2.928608e+05</td>\n",
       "      <td>2.952942e+05</td>\n",
       "      <td>...</td>\n",
       "      <td>137158.534912</td>\n",
       "      <td>137578.361368</td>\n",
       "      <td>5.0</td>\n",
       "      <td>3.0</td>\n",
       "      <td>1.581139</td>\n",
       "      <td>1.0</td>\n",
       "      <td>2.0</td>\n",
       "      <td>3.0</td>\n",
       "      <td>4.0</td>\n",
       "      <td>5.0</td>\n",
       "    </tr>\n",
       "    <tr>\n",
       "      <th>18</th>\n",
       "      <td>10000</td>\n",
       "      <td>250.0</td>\n",
       "      <td>-1.0</td>\n",
       "      <td>5.0</td>\n",
       "      <td>3.288634e+05</td>\n",
       "      <td>14326.840349</td>\n",
       "      <td>3.087742e+05</td>\n",
       "      <td>3.198697e+05</td>\n",
       "      <td>3.325269e+05</td>\n",
       "      <td>3.413839e+05</td>\n",
       "      <td>...</td>\n",
       "      <td>155459.848600</td>\n",
       "      <td>157086.446052</td>\n",
       "      <td>5.0</td>\n",
       "      <td>3.0</td>\n",
       "      <td>1.581139</td>\n",
       "      <td>1.0</td>\n",
       "      <td>2.0</td>\n",
       "      <td>3.0</td>\n",
       "      <td>4.0</td>\n",
       "      <td>5.0</td>\n",
       "    </tr>\n",
       "    <tr>\n",
       "      <th>19</th>\n",
       "      <td>10000</td>\n",
       "      <td>250.0</td>\n",
       "      <td>0.0</td>\n",
       "      <td>5.0</td>\n",
       "      <td>3.087359e+05</td>\n",
       "      <td>22298.846215</td>\n",
       "      <td>2.748445e+05</td>\n",
       "      <td>2.971531e+05</td>\n",
       "      <td>3.208436e+05</td>\n",
       "      <td>3.242129e+05</td>\n",
       "      <td>...</td>\n",
       "      <td>146439.374211</td>\n",
       "      <td>149562.723466</td>\n",
       "      <td>5.0</td>\n",
       "      <td>3.0</td>\n",
       "      <td>1.581139</td>\n",
       "      <td>1.0</td>\n",
       "      <td>2.0</td>\n",
       "      <td>3.0</td>\n",
       "      <td>4.0</td>\n",
       "      <td>5.0</td>\n",
       "    </tr>\n",
       "    <tr>\n",
       "      <th>20</th>\n",
       "      <td>100000</td>\n",
       "      <td>1.0</td>\n",
       "      <td>-1.0</td>\n",
       "      <td>5.0</td>\n",
       "      <td>1.948753e+04</td>\n",
       "      <td>110.561610</td>\n",
       "      <td>1.937598e+04</td>\n",
       "      <td>1.940333e+04</td>\n",
       "      <td>1.947039e+04</td>\n",
       "      <td>1.953739e+04</td>\n",
       "      <td>...</td>\n",
       "      <td>13967.849682</td>\n",
       "      <td>13980.844882</td>\n",
       "      <td>5.0</td>\n",
       "      <td>3.0</td>\n",
       "      <td>1.581139</td>\n",
       "      <td>1.0</td>\n",
       "      <td>2.0</td>\n",
       "      <td>3.0</td>\n",
       "      <td>4.0</td>\n",
       "      <td>5.0</td>\n",
       "    </tr>\n",
       "    <tr>\n",
       "      <th>21</th>\n",
       "      <td>100000</td>\n",
       "      <td>1.0</td>\n",
       "      <td>0.0</td>\n",
       "      <td>5.0</td>\n",
       "      <td>2.105546e+04</td>\n",
       "      <td>123.983358</td>\n",
       "      <td>2.086336e+04</td>\n",
       "      <td>2.103411e+04</td>\n",
       "      <td>2.106776e+04</td>\n",
       "      <td>2.111271e+04</td>\n",
       "      <td>...</td>\n",
       "      <td>13961.317556</td>\n",
       "      <td>13997.250560</td>\n",
       "      <td>5.0</td>\n",
       "      <td>3.0</td>\n",
       "      <td>1.581139</td>\n",
       "      <td>1.0</td>\n",
       "      <td>2.0</td>\n",
       "      <td>3.0</td>\n",
       "      <td>4.0</td>\n",
       "      <td>5.0</td>\n",
       "    </tr>\n",
       "    <tr>\n",
       "      <th>22</th>\n",
       "      <td>100000</td>\n",
       "      <td>10.0</td>\n",
       "      <td>-1.0</td>\n",
       "      <td>5.0</td>\n",
       "      <td>1.779246e+05</td>\n",
       "      <td>5448.972609</td>\n",
       "      <td>1.724886e+05</td>\n",
       "      <td>1.725334e+05</td>\n",
       "      <td>1.785611e+05</td>\n",
       "      <td>1.810426e+05</td>\n",
       "      <td>...</td>\n",
       "      <td>118614.380025</td>\n",
       "      <td>119008.663120</td>\n",
       "      <td>5.0</td>\n",
       "      <td>3.0</td>\n",
       "      <td>1.581139</td>\n",
       "      <td>1.0</td>\n",
       "      <td>2.0</td>\n",
       "      <td>3.0</td>\n",
       "      <td>4.0</td>\n",
       "      <td>5.0</td>\n",
       "    </tr>\n",
       "    <tr>\n",
       "      <th>23</th>\n",
       "      <td>100000</td>\n",
       "      <td>10.0</td>\n",
       "      <td>0.0</td>\n",
       "      <td>5.0</td>\n",
       "      <td>1.728423e+05</td>\n",
       "      <td>1674.981281</td>\n",
       "      <td>1.702160e+05</td>\n",
       "      <td>1.724786e+05</td>\n",
       "      <td>1.731064e+05</td>\n",
       "      <td>1.737543e+05</td>\n",
       "      <td>...</td>\n",
       "      <td>89246.982291</td>\n",
       "      <td>90258.698543</td>\n",
       "      <td>5.0</td>\n",
       "      <td>3.0</td>\n",
       "      <td>1.581139</td>\n",
       "      <td>1.0</td>\n",
       "      <td>2.0</td>\n",
       "      <td>3.0</td>\n",
       "      <td>4.0</td>\n",
       "      <td>5.0</td>\n",
       "    </tr>\n",
       "    <tr>\n",
       "      <th>24</th>\n",
       "      <td>100000</td>\n",
       "      <td>25.0</td>\n",
       "      <td>-1.0</td>\n",
       "      <td>5.0</td>\n",
       "      <td>4.140172e+05</td>\n",
       "      <td>6590.598133</td>\n",
       "      <td>4.044330e+05</td>\n",
       "      <td>4.105151e+05</td>\n",
       "      <td>4.155215e+05</td>\n",
       "      <td>4.194260e+05</td>\n",
       "      <td>...</td>\n",
       "      <td>254368.317351</td>\n",
       "      <td>259297.102808</td>\n",
       "      <td>5.0</td>\n",
       "      <td>3.0</td>\n",
       "      <td>1.581139</td>\n",
       "      <td>1.0</td>\n",
       "      <td>2.0</td>\n",
       "      <td>3.0</td>\n",
       "      <td>4.0</td>\n",
       "      <td>5.0</td>\n",
       "    </tr>\n",
       "    <tr>\n",
       "      <th>25</th>\n",
       "      <td>100000</td>\n",
       "      <td>25.0</td>\n",
       "      <td>0.0</td>\n",
       "      <td>5.0</td>\n",
       "      <td>3.620342e+05</td>\n",
       "      <td>6480.940643</td>\n",
       "      <td>3.505778e+05</td>\n",
       "      <td>3.636872e+05</td>\n",
       "      <td>3.646218e+05</td>\n",
       "      <td>3.648358e+05</td>\n",
       "      <td>...</td>\n",
       "      <td>161862.192934</td>\n",
       "      <td>163489.119390</td>\n",
       "      <td>5.0</td>\n",
       "      <td>3.0</td>\n",
       "      <td>1.581139</td>\n",
       "      <td>1.0</td>\n",
       "      <td>2.0</td>\n",
       "      <td>3.0</td>\n",
       "      <td>4.0</td>\n",
       "      <td>5.0</td>\n",
       "    </tr>\n",
       "    <tr>\n",
       "      <th>26</th>\n",
       "      <td>100000</td>\n",
       "      <td>100.0</td>\n",
       "      <td>-1.0</td>\n",
       "      <td>5.0</td>\n",
       "      <td>1.275746e+06</td>\n",
       "      <td>52701.618904</td>\n",
       "      <td>1.217983e+06</td>\n",
       "      <td>1.246072e+06</td>\n",
       "      <td>1.256541e+06</td>\n",
       "      <td>1.308596e+06</td>\n",
       "      <td>...</td>\n",
       "      <td>361866.434115</td>\n",
       "      <td>362276.043441</td>\n",
       "      <td>5.0</td>\n",
       "      <td>3.0</td>\n",
       "      <td>1.581139</td>\n",
       "      <td>1.0</td>\n",
       "      <td>2.0</td>\n",
       "      <td>3.0</td>\n",
       "      <td>4.0</td>\n",
       "      <td>5.0</td>\n",
       "    </tr>\n",
       "    <tr>\n",
       "      <th>27</th>\n",
       "      <td>100000</td>\n",
       "      <td>100.0</td>\n",
       "      <td>0.0</td>\n",
       "      <td>5.0</td>\n",
       "      <td>7.865978e+05</td>\n",
       "      <td>42070.245344</td>\n",
       "      <td>7.279820e+05</td>\n",
       "      <td>7.568438e+05</td>\n",
       "      <td>8.064821e+05</td>\n",
       "      <td>8.178421e+05</td>\n",
       "      <td>...</td>\n",
       "      <td>283283.430596</td>\n",
       "      <td>284070.447142</td>\n",
       "      <td>5.0</td>\n",
       "      <td>3.0</td>\n",
       "      <td>1.581139</td>\n",
       "      <td>1.0</td>\n",
       "      <td>2.0</td>\n",
       "      <td>3.0</td>\n",
       "      <td>4.0</td>\n",
       "      <td>5.0</td>\n",
       "    </tr>\n",
       "    <tr>\n",
       "      <th>28</th>\n",
       "      <td>100000</td>\n",
       "      <td>250.0</td>\n",
       "      <td>-1.0</td>\n",
       "      <td>5.0</td>\n",
       "      <td>1.384790e+06</td>\n",
       "      <td>92084.894696</td>\n",
       "      <td>1.282233e+06</td>\n",
       "      <td>1.288111e+06</td>\n",
       "      <td>1.430631e+06</td>\n",
       "      <td>1.451807e+06</td>\n",
       "      <td>...</td>\n",
       "      <td>365525.981433</td>\n",
       "      <td>365731.937151</td>\n",
       "      <td>5.0</td>\n",
       "      <td>3.0</td>\n",
       "      <td>1.581139</td>\n",
       "      <td>1.0</td>\n",
       "      <td>2.0</td>\n",
       "      <td>3.0</td>\n",
       "      <td>4.0</td>\n",
       "      <td>5.0</td>\n",
       "    </tr>\n",
       "    <tr>\n",
       "      <th>29</th>\n",
       "      <td>100000</td>\n",
       "      <td>250.0</td>\n",
       "      <td>0.0</td>\n",
       "      <td>5.0</td>\n",
       "      <td>1.069641e+06</td>\n",
       "      <td>29490.902035</td>\n",
       "      <td>1.035688e+06</td>\n",
       "      <td>1.053960e+06</td>\n",
       "      <td>1.058331e+06</td>\n",
       "      <td>1.093213e+06</td>\n",
       "      <td>...</td>\n",
       "      <td>327707.521509</td>\n",
       "      <td>328003.667343</td>\n",
       "      <td>5.0</td>\n",
       "      <td>3.0</td>\n",
       "      <td>1.581139</td>\n",
       "      <td>1.0</td>\n",
       "      <td>2.0</td>\n",
       "      <td>3.0</td>\n",
       "      <td>4.0</td>\n",
       "      <td>5.0</td>\n",
       "    </tr>\n",
       "    <tr>\n",
       "      <th>30</th>\n",
       "      <td>1000000</td>\n",
       "      <td>1.0</td>\n",
       "      <td>-1.0</td>\n",
       "      <td>5.0</td>\n",
       "      <td>1.955381e+04</td>\n",
       "      <td>149.130433</td>\n",
       "      <td>1.935528e+04</td>\n",
       "      <td>1.951565e+04</td>\n",
       "      <td>1.952152e+04</td>\n",
       "      <td>1.961457e+04</td>\n",
       "      <td>...</td>\n",
       "      <td>14001.430015</td>\n",
       "      <td>14045.375727</td>\n",
       "      <td>5.0</td>\n",
       "      <td>3.0</td>\n",
       "      <td>1.581139</td>\n",
       "      <td>1.0</td>\n",
       "      <td>2.0</td>\n",
       "      <td>3.0</td>\n",
       "      <td>4.0</td>\n",
       "      <td>5.0</td>\n",
       "    </tr>\n",
       "    <tr>\n",
       "      <th>31</th>\n",
       "      <td>1000000</td>\n",
       "      <td>1.0</td>\n",
       "      <td>0.0</td>\n",
       "      <td>5.0</td>\n",
       "      <td>2.127757e+04</td>\n",
       "      <td>100.429210</td>\n",
       "      <td>2.114143e+04</td>\n",
       "      <td>2.124428e+04</td>\n",
       "      <td>2.125418e+04</td>\n",
       "      <td>2.134602e+04</td>\n",
       "      <td>...</td>\n",
       "      <td>14006.343273</td>\n",
       "      <td>14079.799683</td>\n",
       "      <td>5.0</td>\n",
       "      <td>3.0</td>\n",
       "      <td>1.581139</td>\n",
       "      <td>1.0</td>\n",
       "      <td>2.0</td>\n",
       "      <td>3.0</td>\n",
       "      <td>4.0</td>\n",
       "      <td>5.0</td>\n",
       "    </tr>\n",
       "    <tr>\n",
       "      <th>32</th>\n",
       "      <td>1000000</td>\n",
       "      <td>10.0</td>\n",
       "      <td>-1.0</td>\n",
       "      <td>5.0</td>\n",
       "      <td>1.866736e+05</td>\n",
       "      <td>1853.056196</td>\n",
       "      <td>1.853605e+05</td>\n",
       "      <td>1.857161e+05</td>\n",
       "      <td>1.861197e+05</td>\n",
       "      <td>1.862420e+05</td>\n",
       "      <td>...</td>\n",
       "      <td>124351.621119</td>\n",
       "      <td>124471.223898</td>\n",
       "      <td>5.0</td>\n",
       "      <td>3.0</td>\n",
       "      <td>1.581139</td>\n",
       "      <td>1.0</td>\n",
       "      <td>2.0</td>\n",
       "      <td>3.0</td>\n",
       "      <td>4.0</td>\n",
       "      <td>5.0</td>\n",
       "    </tr>\n",
       "    <tr>\n",
       "      <th>33</th>\n",
       "      <td>1000000</td>\n",
       "      <td>10.0</td>\n",
       "      <td>0.0</td>\n",
       "      <td>5.0</td>\n",
       "      <td>1.786775e+05</td>\n",
       "      <td>2823.093303</td>\n",
       "      <td>1.742910e+05</td>\n",
       "      <td>1.780521e+05</td>\n",
       "      <td>1.794775e+05</td>\n",
       "      <td>1.796133e+05</td>\n",
       "      <td>...</td>\n",
       "      <td>92386.162931</td>\n",
       "      <td>93066.399917</td>\n",
       "      <td>5.0</td>\n",
       "      <td>3.0</td>\n",
       "      <td>1.581139</td>\n",
       "      <td>1.0</td>\n",
       "      <td>2.0</td>\n",
       "      <td>3.0</td>\n",
       "      <td>4.0</td>\n",
       "      <td>5.0</td>\n",
       "    </tr>\n",
       "    <tr>\n",
       "      <th>34</th>\n",
       "      <td>1000000</td>\n",
       "      <td>25.0</td>\n",
       "      <td>-1.0</td>\n",
       "      <td>5.0</td>\n",
       "      <td>4.614968e+05</td>\n",
       "      <td>4183.506222</td>\n",
       "      <td>4.575085e+05</td>\n",
       "      <td>4.591022e+05</td>\n",
       "      <td>4.596109e+05</td>\n",
       "      <td>4.633261e+05</td>\n",
       "      <td>...</td>\n",
       "      <td>290997.999666</td>\n",
       "      <td>291915.521365</td>\n",
       "      <td>5.0</td>\n",
       "      <td>3.0</td>\n",
       "      <td>1.581139</td>\n",
       "      <td>1.0</td>\n",
       "      <td>2.0</td>\n",
       "      <td>3.0</td>\n",
       "      <td>4.0</td>\n",
       "      <td>5.0</td>\n",
       "    </tr>\n",
       "    <tr>\n",
       "      <th>35</th>\n",
       "      <td>1000000</td>\n",
       "      <td>25.0</td>\n",
       "      <td>0.0</td>\n",
       "      <td>5.0</td>\n",
       "      <td>3.911492e+05</td>\n",
       "      <td>4353.770629</td>\n",
       "      <td>3.858115e+05</td>\n",
       "      <td>3.883602e+05</td>\n",
       "      <td>3.905494e+05</td>\n",
       "      <td>3.947659e+05</td>\n",
       "      <td>...</td>\n",
       "      <td>170874.131915</td>\n",
       "      <td>171449.246219</td>\n",
       "      <td>5.0</td>\n",
       "      <td>3.0</td>\n",
       "      <td>1.581139</td>\n",
       "      <td>1.0</td>\n",
       "      <td>2.0</td>\n",
       "      <td>3.0</td>\n",
       "      <td>4.0</td>\n",
       "      <td>5.0</td>\n",
       "    </tr>\n",
       "    <tr>\n",
       "      <th>36</th>\n",
       "      <td>1000000</td>\n",
       "      <td>100.0</td>\n",
       "      <td>-1.0</td>\n",
       "      <td>5.0</td>\n",
       "      <td>1.760382e+06</td>\n",
       "      <td>55399.184577</td>\n",
       "      <td>1.695759e+06</td>\n",
       "      <td>1.704395e+06</td>\n",
       "      <td>1.791773e+06</td>\n",
       "      <td>1.804806e+06</td>\n",
       "      <td>...</td>\n",
       "      <td>413288.693889</td>\n",
       "      <td>419787.723323</td>\n",
       "      <td>5.0</td>\n",
       "      <td>3.0</td>\n",
       "      <td>1.581139</td>\n",
       "      <td>1.0</td>\n",
       "      <td>2.0</td>\n",
       "      <td>3.0</td>\n",
       "      <td>4.0</td>\n",
       "      <td>5.0</td>\n",
       "    </tr>\n",
       "    <tr>\n",
       "      <th>37</th>\n",
       "      <td>1000000</td>\n",
       "      <td>100.0</td>\n",
       "      <td>0.0</td>\n",
       "      <td>5.0</td>\n",
       "      <td>9.943561e+05</td>\n",
       "      <td>10432.676491</td>\n",
       "      <td>9.767544e+05</td>\n",
       "      <td>9.942534e+05</td>\n",
       "      <td>9.983620e+05</td>\n",
       "      <td>9.984066e+05</td>\n",
       "      <td>...</td>\n",
       "      <td>312514.295869</td>\n",
       "      <td>312957.948628</td>\n",
       "      <td>5.0</td>\n",
       "      <td>3.0</td>\n",
       "      <td>1.581139</td>\n",
       "      <td>1.0</td>\n",
       "      <td>2.0</td>\n",
       "      <td>3.0</td>\n",
       "      <td>4.0</td>\n",
       "      <td>5.0</td>\n",
       "    </tr>\n",
       "    <tr>\n",
       "      <th>38</th>\n",
       "      <td>1000000</td>\n",
       "      <td>250.0</td>\n",
       "      <td>-1.0</td>\n",
       "      <td>5.0</td>\n",
       "      <td>2.087734e+06</td>\n",
       "      <td>104797.742049</td>\n",
       "      <td>1.901962e+06</td>\n",
       "      <td>2.122285e+06</td>\n",
       "      <td>2.123271e+06</td>\n",
       "      <td>2.133933e+06</td>\n",
       "      <td>...</td>\n",
       "      <td>432556.101578</td>\n",
       "      <td>434431.005739</td>\n",
       "      <td>5.0</td>\n",
       "      <td>3.0</td>\n",
       "      <td>1.581139</td>\n",
       "      <td>1.0</td>\n",
       "      <td>2.0</td>\n",
       "      <td>3.0</td>\n",
       "      <td>4.0</td>\n",
       "      <td>5.0</td>\n",
       "    </tr>\n",
       "    <tr>\n",
       "      <th>39</th>\n",
       "      <td>1000000</td>\n",
       "      <td>250.0</td>\n",
       "      <td>0.0</td>\n",
       "      <td>5.0</td>\n",
       "      <td>1.388768e+06</td>\n",
       "      <td>9507.452643</td>\n",
       "      <td>1.376865e+06</td>\n",
       "      <td>1.381187e+06</td>\n",
       "      <td>1.390967e+06</td>\n",
       "      <td>1.395381e+06</td>\n",
       "      <td>...</td>\n",
       "      <td>374452.245592</td>\n",
       "      <td>375283.589941</td>\n",
       "      <td>5.0</td>\n",
       "      <td>3.0</td>\n",
       "      <td>1.581139</td>\n",
       "      <td>1.0</td>\n",
       "      <td>2.0</td>\n",
       "      <td>3.0</td>\n",
       "      <td>4.0</td>\n",
       "      <td>5.0</td>\n",
       "    </tr>\n",
       "  </tbody>\n",
       "</table>\n",
       "<p>40 rows × 35 columns</p>\n",
       "</div>"
      ],
      "text/plain": [
       "       size batch_size prefetch dataset_from_tensor                \\\n",
       "                                              count          mean   \n",
       "0      1000        1.0     -1.0                 5.0  1.322098e+04   \n",
       "1      1000        1.0      0.0                 5.0  1.387352e+04   \n",
       "2      1000       10.0     -1.0                 5.0  3.276775e+04   \n",
       "3      1000       10.0      0.0                 5.0  3.382637e+04   \n",
       "4      1000       25.0     -1.0                 5.0  3.690478e+04   \n",
       "5      1000       25.0      0.0                 5.0  3.762549e+04   \n",
       "6      1000      100.0     -1.0                 5.0  3.927103e+04   \n",
       "7      1000      100.0      0.0                 5.0  3.929792e+04   \n",
       "8      1000      250.0     -1.0                 5.0  3.983043e+04   \n",
       "9      1000      250.0      0.0                 5.0  3.697560e+04   \n",
       "10    10000        1.0     -1.0                 5.0  1.848986e+04   \n",
       "11    10000        1.0      0.0                 5.0  1.987476e+04   \n",
       "12    10000       10.0     -1.0                 5.0  1.289777e+05   \n",
       "13    10000       10.0      0.0                 5.0  1.251225e+05   \n",
       "14    10000       25.0     -1.0                 5.0  2.113728e+05   \n",
       "15    10000       25.0      0.0                 5.0  1.951124e+05   \n",
       "16    10000      100.0     -1.0                 5.0  3.211240e+05   \n",
       "17    10000      100.0      0.0                 5.0  2.883312e+05   \n",
       "18    10000      250.0     -1.0                 5.0  3.288634e+05   \n",
       "19    10000      250.0      0.0                 5.0  3.087359e+05   \n",
       "20   100000        1.0     -1.0                 5.0  1.948753e+04   \n",
       "21   100000        1.0      0.0                 5.0  2.105546e+04   \n",
       "22   100000       10.0     -1.0                 5.0  1.779246e+05   \n",
       "23   100000       10.0      0.0                 5.0  1.728423e+05   \n",
       "24   100000       25.0     -1.0                 5.0  4.140172e+05   \n",
       "25   100000       25.0      0.0                 5.0  3.620342e+05   \n",
       "26   100000      100.0     -1.0                 5.0  1.275746e+06   \n",
       "27   100000      100.0      0.0                 5.0  7.865978e+05   \n",
       "28   100000      250.0     -1.0                 5.0  1.384790e+06   \n",
       "29   100000      250.0      0.0                 5.0  1.069641e+06   \n",
       "30  1000000        1.0     -1.0                 5.0  1.955381e+04   \n",
       "31  1000000        1.0      0.0                 5.0  2.127757e+04   \n",
       "32  1000000       10.0     -1.0                 5.0  1.866736e+05   \n",
       "33  1000000       10.0      0.0                 5.0  1.786775e+05   \n",
       "34  1000000       25.0     -1.0                 5.0  4.614968e+05   \n",
       "35  1000000       25.0      0.0                 5.0  3.911492e+05   \n",
       "36  1000000      100.0     -1.0                 5.0  1.760382e+06   \n",
       "37  1000000      100.0      0.0                 5.0  9.943561e+05   \n",
       "38  1000000      250.0     -1.0                 5.0  2.087734e+06   \n",
       "39  1000000      250.0      0.0                 5.0  1.388768e+06   \n",
       "\n",
       "                                                                           \\\n",
       "              std           min           25%           50%           75%   \n",
       "0      758.470542  1.219281e+04  1.265154e+04  1.356972e+04  1.374996e+04   \n",
       "1      372.799535  1.332253e+04  1.375971e+04  1.389944e+04  1.406141e+04   \n",
       "2     2248.602836  3.009907e+04  3.137937e+04  3.288200e+04  3.343737e+04   \n",
       "3      733.054956  3.321560e+04  3.352043e+04  3.363500e+04  3.366197e+04   \n",
       "4     1548.561176  3.435155e+04  3.686765e+04  3.717057e+04  3.768025e+04   \n",
       "5      341.965686  3.705218e+04  3.767943e+04  3.768123e+04  3.774420e+04   \n",
       "6     1751.660537  3.616215e+04  3.985261e+04  3.985541e+04  4.009940e+04   \n",
       "7      206.334360  3.904356e+04  3.915931e+04  3.927911e+04  3.947875e+04   \n",
       "8     1124.488945  3.794255e+04  3.966304e+04  4.038100e+04  4.045909e+04   \n",
       "9     4585.452478  2.983085e+04  3.494798e+04  3.954408e+04  3.975606e+04   \n",
       "10     429.444107  1.811761e+04  1.817743e+04  1.834071e+04  1.865028e+04   \n",
       "11     704.338345  1.869493e+04  1.975621e+04  2.020967e+04  2.032475e+04   \n",
       "12    2764.543327  1.252150e+05  1.272620e+05  1.294770e+05  1.308249e+05   \n",
       "13    2610.334409  1.208439e+05  1.247775e+05  1.259685e+05  1.263115e+05   \n",
       "14    9744.450833  1.993984e+05  2.033867e+05  2.144892e+05  2.165488e+05   \n",
       "15    9762.125151  1.815462e+05  1.895575e+05  1.963134e+05  2.026085e+05   \n",
       "16   15452.735990  2.987137e+05  3.158112e+05  3.206344e+05  3.315909e+05   \n",
       "17   11405.245933  2.690831e+05  2.871712e+05  2.928608e+05  2.952942e+05   \n",
       "18   14326.840349  3.087742e+05  3.198697e+05  3.325269e+05  3.413839e+05   \n",
       "19   22298.846215  2.748445e+05  2.971531e+05  3.208436e+05  3.242129e+05   \n",
       "20     110.561610  1.937598e+04  1.940333e+04  1.947039e+04  1.953739e+04   \n",
       "21     123.983358  2.086336e+04  2.103411e+04  2.106776e+04  2.111271e+04   \n",
       "22    5448.972609  1.724886e+05  1.725334e+05  1.785611e+05  1.810426e+05   \n",
       "23    1674.981281  1.702160e+05  1.724786e+05  1.731064e+05  1.737543e+05   \n",
       "24    6590.598133  4.044330e+05  4.105151e+05  4.155215e+05  4.194260e+05   \n",
       "25    6480.940643  3.505778e+05  3.636872e+05  3.646218e+05  3.648358e+05   \n",
       "26   52701.618904  1.217983e+06  1.246072e+06  1.256541e+06  1.308596e+06   \n",
       "27   42070.245344  7.279820e+05  7.568438e+05  8.064821e+05  8.178421e+05   \n",
       "28   92084.894696  1.282233e+06  1.288111e+06  1.430631e+06  1.451807e+06   \n",
       "29   29490.902035  1.035688e+06  1.053960e+06  1.058331e+06  1.093213e+06   \n",
       "30     149.130433  1.935528e+04  1.951565e+04  1.952152e+04  1.961457e+04   \n",
       "31     100.429210  2.114143e+04  2.124428e+04  2.125418e+04  2.134602e+04   \n",
       "32    1853.056196  1.853605e+05  1.857161e+05  1.861197e+05  1.862420e+05   \n",
       "33    2823.093303  1.742910e+05  1.780521e+05  1.794775e+05  1.796133e+05   \n",
       "34    4183.506222  4.575085e+05  4.591022e+05  4.596109e+05  4.633261e+05   \n",
       "35    4353.770629  3.858115e+05  3.883602e+05  3.905494e+05  3.947659e+05   \n",
       "36   55399.184577  1.695759e+06  1.704395e+06  1.791773e+06  1.804806e+06   \n",
       "37   10432.676491  9.767544e+05  9.942534e+05  9.983620e+05  9.984066e+05   \n",
       "38  104797.742049  1.901962e+06  2.122285e+06  2.123271e+06  2.133933e+06   \n",
       "39    9507.452643  1.376865e+06  1.381187e+06  1.390967e+06  1.395381e+06   \n",
       "\n",
       "    ... dataset_from_files                  run                                \\\n",
       "    ...                75%            max count mean       std  min  25%  50%   \n",
       "0   ...        9007.182580    9056.465951   5.0  3.0  1.581139  1.0  2.0  3.0   \n",
       "1   ...        8620.358515    9119.993829   5.0  3.0  1.581139  1.0  2.0  3.0   \n",
       "2   ...       20215.354577   20296.583831   5.0  3.0  1.581139  1.0  2.0  3.0   \n",
       "3   ...       19074.438434   19397.900422   5.0  3.0  1.581139  1.0  2.0  3.0   \n",
       "4   ...       21951.089680   22178.695793   5.0  3.0  1.581139  1.0  2.0  3.0   \n",
       "5   ...       21352.317878   21439.144603   5.0  3.0  1.581139  1.0  2.0  3.0   \n",
       "6   ...       22263.606804   22749.887149   5.0  3.0  1.581139  1.0  2.0  3.0   \n",
       "7   ...       22421.296932   22452.651792   5.0  3.0  1.581139  1.0  2.0  3.0   \n",
       "8   ...       23053.739881   23538.258273   5.0  3.0  1.581139  1.0  2.0  3.0   \n",
       "9   ...       22971.204997   23245.945239   5.0  3.0  1.581139  1.0  2.0  3.0   \n",
       "10  ...       13354.642214   13532.836923   5.0  3.0  1.581139  1.0  2.0  3.0   \n",
       "11  ...       13160.880144   13315.259360   5.0  3.0  1.581139  1.0  2.0  3.0   \n",
       "12  ...       79294.894573   82911.956805   5.0  3.0  1.581139  1.0  2.0  3.0   \n",
       "13  ...       67758.259913   68099.562268   5.0  3.0  1.581139  1.0  2.0  3.0   \n",
       "14  ...      129945.739727  131535.345131   5.0  3.0  1.581139  1.0  2.0  3.0   \n",
       "15  ...      101298.597369  102424.323302   5.0  3.0  1.581139  1.0  2.0  3.0   \n",
       "16  ...      152005.985752  153485.147335   5.0  3.0  1.581139  1.0  2.0  3.0   \n",
       "17  ...      137158.534912  137578.361368   5.0  3.0  1.581139  1.0  2.0  3.0   \n",
       "18  ...      155459.848600  157086.446052   5.0  3.0  1.581139  1.0  2.0  3.0   \n",
       "19  ...      146439.374211  149562.723466   5.0  3.0  1.581139  1.0  2.0  3.0   \n",
       "20  ...       13967.849682   13980.844882   5.0  3.0  1.581139  1.0  2.0  3.0   \n",
       "21  ...       13961.317556   13997.250560   5.0  3.0  1.581139  1.0  2.0  3.0   \n",
       "22  ...      118614.380025  119008.663120   5.0  3.0  1.581139  1.0  2.0  3.0   \n",
       "23  ...       89246.982291   90258.698543   5.0  3.0  1.581139  1.0  2.0  3.0   \n",
       "24  ...      254368.317351  259297.102808   5.0  3.0  1.581139  1.0  2.0  3.0   \n",
       "25  ...      161862.192934  163489.119390   5.0  3.0  1.581139  1.0  2.0  3.0   \n",
       "26  ...      361866.434115  362276.043441   5.0  3.0  1.581139  1.0  2.0  3.0   \n",
       "27  ...      283283.430596  284070.447142   5.0  3.0  1.581139  1.0  2.0  3.0   \n",
       "28  ...      365525.981433  365731.937151   5.0  3.0  1.581139  1.0  2.0  3.0   \n",
       "29  ...      327707.521509  328003.667343   5.0  3.0  1.581139  1.0  2.0  3.0   \n",
       "30  ...       14001.430015   14045.375727   5.0  3.0  1.581139  1.0  2.0  3.0   \n",
       "31  ...       14006.343273   14079.799683   5.0  3.0  1.581139  1.0  2.0  3.0   \n",
       "32  ...      124351.621119  124471.223898   5.0  3.0  1.581139  1.0  2.0  3.0   \n",
       "33  ...       92386.162931   93066.399917   5.0  3.0  1.581139  1.0  2.0  3.0   \n",
       "34  ...      290997.999666  291915.521365   5.0  3.0  1.581139  1.0  2.0  3.0   \n",
       "35  ...      170874.131915  171449.246219   5.0  3.0  1.581139  1.0  2.0  3.0   \n",
       "36  ...      413288.693889  419787.723323   5.0  3.0  1.581139  1.0  2.0  3.0   \n",
       "37  ...      312514.295869  312957.948628   5.0  3.0  1.581139  1.0  2.0  3.0   \n",
       "38  ...      432556.101578  434431.005739   5.0  3.0  1.581139  1.0  2.0  3.0   \n",
       "39  ...      374452.245592  375283.589941   5.0  3.0  1.581139  1.0  2.0  3.0   \n",
       "\n",
       "              \n",
       "    75%  max  \n",
       "0   4.0  5.0  \n",
       "1   4.0  5.0  \n",
       "2   4.0  5.0  \n",
       "3   4.0  5.0  \n",
       "4   4.0  5.0  \n",
       "5   4.0  5.0  \n",
       "6   4.0  5.0  \n",
       "7   4.0  5.0  \n",
       "8   4.0  5.0  \n",
       "9   4.0  5.0  \n",
       "10  4.0  5.0  \n",
       "11  4.0  5.0  \n",
       "12  4.0  5.0  \n",
       "13  4.0  5.0  \n",
       "14  4.0  5.0  \n",
       "15  4.0  5.0  \n",
       "16  4.0  5.0  \n",
       "17  4.0  5.0  \n",
       "18  4.0  5.0  \n",
       "19  4.0  5.0  \n",
       "20  4.0  5.0  \n",
       "21  4.0  5.0  \n",
       "22  4.0  5.0  \n",
       "23  4.0  5.0  \n",
       "24  4.0  5.0  \n",
       "25  4.0  5.0  \n",
       "26  4.0  5.0  \n",
       "27  4.0  5.0  \n",
       "28  4.0  5.0  \n",
       "29  4.0  5.0  \n",
       "30  4.0  5.0  \n",
       "31  4.0  5.0  \n",
       "32  4.0  5.0  \n",
       "33  4.0  5.0  \n",
       "34  4.0  5.0  \n",
       "35  4.0  5.0  \n",
       "36  4.0  5.0  \n",
       "37  4.0  5.0  \n",
       "38  4.0  5.0  \n",
       "39  4.0  5.0  \n",
       "\n",
       "[40 rows x 35 columns]"
      ]
     },
     "execution_count": 8,
     "metadata": {},
     "output_type": "execute_result"
    }
   ],
   "source": [
    "agg_results = results.groupby(['size', 'batch_size', 'prefetch']).describe()\n",
    "agg_results.reset_index(inplace=True)\n",
    "agg_results"
   ]
  },
  {
   "cell_type": "markdown",
   "id": "4d7b6f57",
   "metadata": {},
   "source": [
    "following [this](https://matplotlib.org/1.3.1/examples/pylab_examples/barchart_demo.html) matplotlib example"
   ]
  },
  {
   "cell_type": "code",
   "execution_count": 9,
   "id": "53e6182b",
   "metadata": {},
   "outputs": [
    {
     "name": "stderr",
     "output_type": "stream",
     "text": [
      "Matplotlib created a temporary config/cache directory at /tmp/matplotlib-d8_1at__ because the default path (/.config/matplotlib) is not a writable directory; it is highly recommended to set the MPLCONFIGDIR environment variable to a writable directory, in particular to speed up the import of Matplotlib and to better support multiprocessing.\n"
     ]
    }
   ],
   "source": [
    "import matplotlib.pyplot as plt\n",
    "import numpy as np"
   ]
  },
  {
   "cell_type": "code",
   "execution_count": 18,
   "id": "4b5ea925",
   "metadata": {},
   "outputs": [],
   "source": [
    "def plot_speed_by_dataset_type(\n",
    "    cmp_results: pd.DataFrame,\n",
    "    title: str = 'test',\n",
    "    bars = ['dataset_from_tensor', 'dataset_from_generator', 'dataset_from_files'], \n",
    "    colours = ['tab:blue', 'tab:green', 'tab:orange'],\n",
    "    bar_width = 0.3,\n",
    "    opacity = 1.0,\n",
    "    error_config = {'ecolor': 'black'},\n",
    "    ax = None,\n",
    "):\n",
    "    index = np.arange(len(cmp_results))\n",
    "    if ax is None:\n",
    "        fig, ax = plt.subplots()\n",
    "        given_ax = False\n",
    "    else:\n",
    "        given_ax = True\n",
    "\n",
    "    for i, bar in enumerate(bars):\n",
    "        ax.bar(\n",
    "            index + i*bar_width,\n",
    "            cmp_results[bar]['mean'],\n",
    "            bar_width,\n",
    "            alpha=opacity,\n",
    "            color=colours[i],\n",
    "            yerr=cmp_results[bar]['std'],\n",
    "            error_kw=error_config,\n",
    "            label=bar\n",
    "        )\n",
    "\n",
    "    ax.set_xlabel('Sample Size')\n",
    "    ax.set_ylabel('Throughput in Samples / Second')\n",
    "    ax.ticklabel_format(style='plain')\n",
    "    ax.set_title(title)\n",
    "    ax.set_xticks(index + bar_width)\n",
    "    ax.set_xticklabels(cmp_results['size'].unique())\n",
    "    ax.legend()\n",
    "\n",
    "    if not given_ax:\n",
    "        fig.tight_layout()\n",
    "        plt.show()"
   ]
  },
  {
   "cell_type": "code",
   "execution_count": 52,
   "id": "a80d59f4",
   "metadata": {},
   "outputs": [
    {
     "data": {
      "text/html": [
       "<div>\n",
       "<style scoped>\n",
       "    .dataframe tbody tr th:only-of-type {\n",
       "        vertical-align: middle;\n",
       "    }\n",
       "\n",
       "    .dataframe tbody tr th {\n",
       "        vertical-align: top;\n",
       "    }\n",
       "\n",
       "    .dataframe thead tr th {\n",
       "        text-align: left;\n",
       "    }\n",
       "</style>\n",
       "<table border=\"1\" class=\"dataframe\">\n",
       "  <thead>\n",
       "    <tr>\n",
       "      <th></th>\n",
       "      <th>size</th>\n",
       "      <th>batch_size</th>\n",
       "      <th>prefetch</th>\n",
       "      <th colspan=\"7\" halign=\"left\">dataset_from_tensor</th>\n",
       "      <th>...</th>\n",
       "      <th colspan=\"2\" halign=\"left\">dataset_from_files</th>\n",
       "      <th colspan=\"8\" halign=\"left\">run</th>\n",
       "    </tr>\n",
       "    <tr>\n",
       "      <th></th>\n",
       "      <th></th>\n",
       "      <th></th>\n",
       "      <th></th>\n",
       "      <th>count</th>\n",
       "      <th>mean</th>\n",
       "      <th>std</th>\n",
       "      <th>min</th>\n",
       "      <th>25%</th>\n",
       "      <th>50%</th>\n",
       "      <th>75%</th>\n",
       "      <th>...</th>\n",
       "      <th>75%</th>\n",
       "      <th>max</th>\n",
       "      <th>count</th>\n",
       "      <th>mean</th>\n",
       "      <th>std</th>\n",
       "      <th>min</th>\n",
       "      <th>25%</th>\n",
       "      <th>50%</th>\n",
       "      <th>75%</th>\n",
       "      <th>max</th>\n",
       "    </tr>\n",
       "  </thead>\n",
       "  <tbody>\n",
       "    <tr>\n",
       "      <th>1</th>\n",
       "      <td>1000</td>\n",
       "      <td>1.0</td>\n",
       "      <td>0.0</td>\n",
       "      <td>5.0</td>\n",
       "      <td>13873.524200</td>\n",
       "      <td>372.799535</td>\n",
       "      <td>13322.534797</td>\n",
       "      <td>13759.707783</td>\n",
       "      <td>13899.443393</td>\n",
       "      <td>14061.410284</td>\n",
       "      <td>...</td>\n",
       "      <td>8620.358515</td>\n",
       "      <td>9119.993829</td>\n",
       "      <td>5.0</td>\n",
       "      <td>3.0</td>\n",
       "      <td>1.581139</td>\n",
       "      <td>1.0</td>\n",
       "      <td>2.0</td>\n",
       "      <td>3.0</td>\n",
       "      <td>4.0</td>\n",
       "      <td>5.0</td>\n",
       "    </tr>\n",
       "    <tr>\n",
       "      <th>11</th>\n",
       "      <td>10000</td>\n",
       "      <td>1.0</td>\n",
       "      <td>0.0</td>\n",
       "      <td>5.0</td>\n",
       "      <td>19874.759761</td>\n",
       "      <td>704.338345</td>\n",
       "      <td>18694.928503</td>\n",
       "      <td>19756.212253</td>\n",
       "      <td>20209.673258</td>\n",
       "      <td>20324.751316</td>\n",
       "      <td>...</td>\n",
       "      <td>13160.880144</td>\n",
       "      <td>13315.259360</td>\n",
       "      <td>5.0</td>\n",
       "      <td>3.0</td>\n",
       "      <td>1.581139</td>\n",
       "      <td>1.0</td>\n",
       "      <td>2.0</td>\n",
       "      <td>3.0</td>\n",
       "      <td>4.0</td>\n",
       "      <td>5.0</td>\n",
       "    </tr>\n",
       "    <tr>\n",
       "      <th>21</th>\n",
       "      <td>100000</td>\n",
       "      <td>1.0</td>\n",
       "      <td>0.0</td>\n",
       "      <td>5.0</td>\n",
       "      <td>21055.456655</td>\n",
       "      <td>123.983358</td>\n",
       "      <td>20863.361905</td>\n",
       "      <td>21034.113699</td>\n",
       "      <td>21067.755664</td>\n",
       "      <td>21112.713624</td>\n",
       "      <td>...</td>\n",
       "      <td>13961.317556</td>\n",
       "      <td>13997.250560</td>\n",
       "      <td>5.0</td>\n",
       "      <td>3.0</td>\n",
       "      <td>1.581139</td>\n",
       "      <td>1.0</td>\n",
       "      <td>2.0</td>\n",
       "      <td>3.0</td>\n",
       "      <td>4.0</td>\n",
       "      <td>5.0</td>\n",
       "    </tr>\n",
       "    <tr>\n",
       "      <th>31</th>\n",
       "      <td>1000000</td>\n",
       "      <td>1.0</td>\n",
       "      <td>0.0</td>\n",
       "      <td>5.0</td>\n",
       "      <td>21277.573019</td>\n",
       "      <td>100.429210</td>\n",
       "      <td>21141.433832</td>\n",
       "      <td>21244.276266</td>\n",
       "      <td>21254.184632</td>\n",
       "      <td>21346.021577</td>\n",
       "      <td>...</td>\n",
       "      <td>14006.343273</td>\n",
       "      <td>14079.799683</td>\n",
       "      <td>5.0</td>\n",
       "      <td>3.0</td>\n",
       "      <td>1.581139</td>\n",
       "      <td>1.0</td>\n",
       "      <td>2.0</td>\n",
       "      <td>3.0</td>\n",
       "      <td>4.0</td>\n",
       "      <td>5.0</td>\n",
       "    </tr>\n",
       "  </tbody>\n",
       "</table>\n",
       "<p>4 rows × 35 columns</p>\n",
       "</div>"
      ],
      "text/plain": [
       "       size batch_size prefetch dataset_from_tensor                            \\\n",
       "                                              count          mean         std   \n",
       "1      1000        1.0      0.0                 5.0  13873.524200  372.799535   \n",
       "11    10000        1.0      0.0                 5.0  19874.759761  704.338345   \n",
       "21   100000        1.0      0.0                 5.0  21055.456655  123.983358   \n",
       "31  1000000        1.0      0.0                 5.0  21277.573019  100.429210   \n",
       "\n",
       "                                                            ...  \\\n",
       "             min           25%           50%           75%  ...   \n",
       "1   13322.534797  13759.707783  13899.443393  14061.410284  ...   \n",
       "11  18694.928503  19756.212253  20209.673258  20324.751316  ...   \n",
       "21  20863.361905  21034.113699  21067.755664  21112.713624  ...   \n",
       "31  21141.433832  21244.276266  21254.184632  21346.021577  ...   \n",
       "\n",
       "   dataset_from_files                 run                                     \\\n",
       "                  75%           max count mean       std  min  25%  50%  75%   \n",
       "1         8620.358515   9119.993829   5.0  3.0  1.581139  1.0  2.0  3.0  4.0   \n",
       "11       13160.880144  13315.259360   5.0  3.0  1.581139  1.0  2.0  3.0  4.0   \n",
       "21       13961.317556  13997.250560   5.0  3.0  1.581139  1.0  2.0  3.0  4.0   \n",
       "31       14006.343273  14079.799683   5.0  3.0  1.581139  1.0  2.0  3.0  4.0   \n",
       "\n",
       "         \n",
       "    max  \n",
       "1   5.0  \n",
       "11  5.0  \n",
       "21  5.0  \n",
       "31  5.0  \n",
       "\n",
       "[4 rows x 35 columns]"
      ]
     },
     "execution_count": 52,
     "metadata": {},
     "output_type": "execute_result"
    }
   ],
   "source": [
    "agg_results[(agg_results.batch_size == 1.0) & (agg_results.prefetch == 0.0)]"
   ]
  },
  {
   "cell_type": "code",
   "execution_count": 22,
   "id": "e8faae4c",
   "metadata": {},
   "outputs": [
    {
     "data": {
      "image/png": "[encoded data removed]",
      "text/plain": [
       "<Figure size 432x288 with 1 Axes>"
      ]
     },
     "metadata": {
      "needs_background": "light"
     },
     "output_type": "display_data"
    }
   ],
   "source": [
    "fig, ax = plt.subplots()\n",
    "\n",
    "plot_speed_by_dataset_type(\n",
    "    agg_results[(agg_results.batch_size == 1) & (agg_results.prefetch == 0.0)],\n",
    "    f\"Speed of TF Datasets (no Batching, no Prefetching)\",\n",
    "    ax=ax,\n",
    ")\n",
    "\n",
    "fig.tight_layout()\n",
    "\n",
    "plt.rcParams['svg.fonttype'] = 'none'\n",
    "plt.savefig('TF_dataset_benchmark_slow.pdf')\n",
    "plt.savefig('TF_dataset_benchmark_slow.png')\n",
    "plt.savefig('TF_dataset_benchmark_slow.svg')\n",
    "\n",
    "plt.show()"
   ]
  },
  {
   "cell_type": "code",
   "execution_count": 23,
   "id": "dc2faf01",
   "metadata": {},
   "outputs": [
    {
     "data": {
      "image/png": "[encoded data removed]",
      "text/plain": [
       "<Figure size 432x288 with 1 Axes>"
      ]
     },
     "metadata": {
      "needs_background": "light"
     },
     "output_type": "display_data"
    }
   ],
   "source": [
    "fig, ax = plt.subplots()\n",
    "\n",
    "plot_speed_by_dataset_type(\n",
    "    agg_results[(agg_results.batch_size == 250) & (agg_results.prefetch == -1.0)],\n",
    "    f\"Speed of TF Datasets (Batch Size = 250, Auto Prefetching)\",\n",
    "    ax=ax,\n",
    ")\n",
    "\n",
    "fig.tight_layout()\n",
    "\n",
    "plt.rcParams['svg.fonttype'] = 'none'\n",
    "plt.savefig('TF_dataset_benchmark_fast.pdf')\n",
    "plt.savefig('TF_dataset_benchmark_fast.png')\n",
    "plt.savefig('TF_dataset_benchmark_fast.svg')\n",
    "\n",
    "plt.show()"
   ]
  },
  {
   "cell_type": "code",
   "execution_count": 56,
   "id": "6a8feb0d",
   "metadata": {
    "scrolled": false
   },
   "outputs": [
    {
     "data": {
      "image/png": "[encoded data removed]",
      "text/plain": [
       "<Figure size 2160x864 with 10 Axes>"
      ]
     },
     "metadata": {
      "needs_background": "light"
     },
     "output_type": "display_data"
    }
   ],
   "source": [
    "batch_sizes = agg_results.batch_size.unique()\n",
    "prefetchings = agg_results.prefetch.unique()\n",
    "\n",
    "size_per_subplot = 6\n",
    "\n",
    "fig, axs = plt.subplots(\n",
    "    len(prefetchings), \n",
    "    len(batch_sizes), \n",
    "    figsize=(len(batch_sizes) * size_per_subplot, len(prefetchings) * size_per_subplot), \n",
    "    sharey=True,\n",
    ")\n",
    "\n",
    "for j, prefetch in enumerate(reversed(prefetchings)):\n",
    "    for i, batch_size in enumerate(batch_sizes):\n",
    "        plot_speed_by_dataset_type(\n",
    "            agg_results[(agg_results.batch_size == batch_size) & (agg_results.prefetch == prefetch)],\n",
    "            f\"Speed of TF Datasets (Batching={int(batch_size)}, {'no ' if prefetch == 0.0 else ''}Prefetching)\",\n",
    "            ax = axs[j][i],\n",
    "        )\n",
    "\n",
    "fig.tight_layout()\n",
    "\n",
    "plt.rcParams['svg.fonttype'] = 'none'\n",
    "plt.savefig('TF_dataset_benchmark_horizontal.pdf')\n",
    "plt.savefig('TF_dataset_benchmark_horizontal.png')\n",
    "plt.savefig('TF_dataset_benchmark_horizontal.svg')\n",
    "\n",
    "plt.show()"
   ]
  },
  {
   "cell_type": "code",
   "execution_count": 57,
   "id": "13a0897a",
   "metadata": {
    "scrolled": false
   },
   "outputs": [
    {
     "data": {
      "image/png": "[encoded data removed]",
      "text/plain": [
       "<Figure size 864x2160 with 10 Axes>"
      ]
     },
     "metadata": {
      "needs_background": "light"
     },
     "output_type": "display_data"
    }
   ],
   "source": [
    "batch_sizes = agg_results.batch_size.unique()\n",
    "prefetchings = agg_results.prefetch.unique()\n",
    "\n",
    "size_per_subplot = 6\n",
    "\n",
    "fig, axs = plt.subplots(\n",
    "    len(batch_sizes), \n",
    "    len(prefetchings), \n",
    "    figsize=(len(prefetchings) * size_per_subplot, len(batch_sizes) * size_per_subplot), \n",
    "    sharey=False,\n",
    ")\n",
    "\n",
    "for j, prefetch in enumerate(reversed(prefetchings)):\n",
    "    for i, batch_size in enumerate(batch_sizes):\n",
    "        plot_speed_by_dataset_type(\n",
    "            agg_results[(agg_results.batch_size == batch_size) & (agg_results.prefetch == prefetch)],\n",
    "            f\"Speed of TF Datasets (Batching={int(batch_size)}, {'no ' if prefetch == 0.0 else ''}Prefetching)\",\n",
    "            ax = axs[i][j],\n",
    "        )\n",
    "\n",
    "fig.tight_layout()\n",
    "\n",
    "plt.rcParams['svg.fonttype'] = 'none'\n",
    "plt.savefig('TF_dataset_benchmark_vertical.pdf')\n",
    "plt.savefig('TF_dataset_benchmark_vertical.png')\n",
    "plt.savefig('TF_dataset_benchmark_vertical.svg')\n",
    "\n",
    "plt.show()"
   ]
  },
  {
   "cell_type": "markdown",
   "id": "2373000a",
   "metadata": {},
   "source": [
    "## to Latex"
   ]
  },
  {
   "cell_type": "code",
   "execution_count": 35,
   "id": "fde6c1b6",
   "metadata": {},
   "outputs": [
    {
     "data": {
      "text/html": [
       "<div>\n",
       "<style scoped>\n",
       "    .dataframe tbody tr th:only-of-type {\n",
       "        vertical-align: middle;\n",
       "    }\n",
       "\n",
       "    .dataframe tbody tr th {\n",
       "        vertical-align: top;\n",
       "    }\n",
       "\n",
       "    .dataframe thead tr th {\n",
       "        text-align: left;\n",
       "    }\n",
       "</style>\n",
       "<table border=\"1\" class=\"dataframe\">\n",
       "  <thead>\n",
       "    <tr>\n",
       "      <th></th>\n",
       "      <th>size</th>\n",
       "      <th>batch_size</th>\n",
       "      <th>prefetch</th>\n",
       "      <th colspan=\"2\" halign=\"left\">dataset_from_tensor</th>\n",
       "      <th colspan=\"2\" halign=\"left\">dataset_from_generator</th>\n",
       "      <th colspan=\"2\" halign=\"left\">dataset_from_files</th>\n",
       "    </tr>\n",
       "    <tr>\n",
       "      <th></th>\n",
       "      <th></th>\n",
       "      <th></th>\n",
       "      <th></th>\n",
       "      <th>mean</th>\n",
       "      <th>std</th>\n",
       "      <th>mean</th>\n",
       "      <th>std</th>\n",
       "      <th>mean</th>\n",
       "      <th>std</th>\n",
       "    </tr>\n",
       "  </thead>\n",
       "  <tbody>\n",
       "    <tr>\n",
       "      <th>0</th>\n",
       "      <td>1000</td>\n",
       "      <td>1</td>\n",
       "      <td>-1</td>\n",
       "      <td>13221.0</td>\n",
       "      <td>758.5</td>\n",
       "      <td>4006.7</td>\n",
       "      <td>117.4</td>\n",
       "      <td>8867.1</td>\n",
       "      <td>162.8</td>\n",
       "    </tr>\n",
       "    <tr>\n",
       "      <th>1</th>\n",
       "      <td>1000</td>\n",
       "      <td>1</td>\n",
       "      <td>0</td>\n",
       "      <td>13873.5</td>\n",
       "      <td>372.8</td>\n",
       "      <td>3184.9</td>\n",
       "      <td>280.4</td>\n",
       "      <td>8704.7</td>\n",
       "      <td>232.5</td>\n",
       "    </tr>\n",
       "    <tr>\n",
       "      <th>2</th>\n",
       "      <td>1000</td>\n",
       "      <td>10</td>\n",
       "      <td>-1</td>\n",
       "      <td>32767.8</td>\n",
       "      <td>2248.6</td>\n",
       "      <td>4292.8</td>\n",
       "      <td>200.8</td>\n",
       "      <td>20159.1</td>\n",
       "      <td>117.1</td>\n",
       "    </tr>\n",
       "    <tr>\n",
       "      <th>3</th>\n",
       "      <td>1000</td>\n",
       "      <td>10</td>\n",
       "      <td>0</td>\n",
       "      <td>33826.4</td>\n",
       "      <td>733.1</td>\n",
       "      <td>4237.9</td>\n",
       "      <td>142.2</td>\n",
       "      <td>18820.8</td>\n",
       "      <td>422.3</td>\n",
       "    </tr>\n",
       "    <tr>\n",
       "      <th>4</th>\n",
       "      <td>1000</td>\n",
       "      <td>25</td>\n",
       "      <td>-1</td>\n",
       "      <td>36904.8</td>\n",
       "      <td>1548.6</td>\n",
       "      <td>4295.5</td>\n",
       "      <td>326.0</td>\n",
       "      <td>21574.0</td>\n",
       "      <td>634.0</td>\n",
       "    </tr>\n",
       "    <tr>\n",
       "      <th>5</th>\n",
       "      <td>1000</td>\n",
       "      <td>25</td>\n",
       "      <td>0</td>\n",
       "      <td>37625.5</td>\n",
       "      <td>342.0</td>\n",
       "      <td>4435.1</td>\n",
       "      <td>296.2</td>\n",
       "      <td>20890.8</td>\n",
       "      <td>602.8</td>\n",
       "    </tr>\n",
       "    <tr>\n",
       "      <th>6</th>\n",
       "      <td>1000</td>\n",
       "      <td>100</td>\n",
       "      <td>-1</td>\n",
       "      <td>39271.0</td>\n",
       "      <td>1751.7</td>\n",
       "      <td>4547.1</td>\n",
       "      <td>176.9</td>\n",
       "      <td>21753.1</td>\n",
       "      <td>1152.8</td>\n",
       "    </tr>\n",
       "    <tr>\n",
       "      <th>7</th>\n",
       "      <td>1000</td>\n",
       "      <td>100</td>\n",
       "      <td>0</td>\n",
       "      <td>39297.9</td>\n",
       "      <td>206.3</td>\n",
       "      <td>4389.3</td>\n",
       "      <td>216.0</td>\n",
       "      <td>22324.3</td>\n",
       "      <td>172.2</td>\n",
       "    </tr>\n",
       "    <tr>\n",
       "      <th>8</th>\n",
       "      <td>1000</td>\n",
       "      <td>250</td>\n",
       "      <td>-1</td>\n",
       "      <td>39830.4</td>\n",
       "      <td>1124.5</td>\n",
       "      <td>4455.6</td>\n",
       "      <td>184.5</td>\n",
       "      <td>22382.4</td>\n",
       "      <td>1174.0</td>\n",
       "    </tr>\n",
       "    <tr>\n",
       "      <th>9</th>\n",
       "      <td>1000</td>\n",
       "      <td>250</td>\n",
       "      <td>0</td>\n",
       "      <td>36975.6</td>\n",
       "      <td>4585.5</td>\n",
       "      <td>4536.4</td>\n",
       "      <td>218.7</td>\n",
       "      <td>22768.7</td>\n",
       "      <td>376.9</td>\n",
       "    </tr>\n",
       "    <tr>\n",
       "      <th>10</th>\n",
       "      <td>10000</td>\n",
       "      <td>1</td>\n",
       "      <td>-1</td>\n",
       "      <td>18489.9</td>\n",
       "      <td>429.4</td>\n",
       "      <td>4521.0</td>\n",
       "      <td>58.1</td>\n",
       "      <td>13331.0</td>\n",
       "      <td>145.1</td>\n",
       "    </tr>\n",
       "    <tr>\n",
       "      <th>11</th>\n",
       "      <td>10000</td>\n",
       "      <td>1</td>\n",
       "      <td>0</td>\n",
       "      <td>19874.8</td>\n",
       "      <td>704.3</td>\n",
       "      <td>3315.4</td>\n",
       "      <td>80.3</td>\n",
       "      <td>13126.5</td>\n",
       "      <td>125.4</td>\n",
       "    </tr>\n",
       "    <tr>\n",
       "      <th>12</th>\n",
       "      <td>10000</td>\n",
       "      <td>10</td>\n",
       "      <td>-1</td>\n",
       "      <td>128977.7</td>\n",
       "      <td>2764.5</td>\n",
       "      <td>4852.3</td>\n",
       "      <td>45.9</td>\n",
       "      <td>76197.7</td>\n",
       "      <td>8959.6</td>\n",
       "    </tr>\n",
       "    <tr>\n",
       "      <th>13</th>\n",
       "      <td>10000</td>\n",
       "      <td>10</td>\n",
       "      <td>0</td>\n",
       "      <td>125122.5</td>\n",
       "      <td>2610.3</td>\n",
       "      <td>4744.0</td>\n",
       "      <td>83.6</td>\n",
       "      <td>67308.1</td>\n",
       "      <td>681.6</td>\n",
       "    </tr>\n",
       "    <tr>\n",
       "      <th>14</th>\n",
       "      <td>10000</td>\n",
       "      <td>25</td>\n",
       "      <td>-1</td>\n",
       "      <td>211372.8</td>\n",
       "      <td>9744.5</td>\n",
       "      <td>4974.8</td>\n",
       "      <td>109.1</td>\n",
       "      <td>128385.1</td>\n",
       "      <td>2890.1</td>\n",
       "    </tr>\n",
       "    <tr>\n",
       "      <th>15</th>\n",
       "      <td>10000</td>\n",
       "      <td>25</td>\n",
       "      <td>0</td>\n",
       "      <td>195112.4</td>\n",
       "      <td>9762.1</td>\n",
       "      <td>4899.2</td>\n",
       "      <td>130.2</td>\n",
       "      <td>100675.8</td>\n",
       "      <td>1382.3</td>\n",
       "    </tr>\n",
       "    <tr>\n",
       "      <th>16</th>\n",
       "      <td>10000</td>\n",
       "      <td>100</td>\n",
       "      <td>-1</td>\n",
       "      <td>321124.0</td>\n",
       "      <td>15452.7</td>\n",
       "      <td>4896.1</td>\n",
       "      <td>84.1</td>\n",
       "      <td>150390.9</td>\n",
       "      <td>3770.4</td>\n",
       "    </tr>\n",
       "    <tr>\n",
       "      <th>17</th>\n",
       "      <td>10000</td>\n",
       "      <td>100</td>\n",
       "      <td>0</td>\n",
       "      <td>288331.2</td>\n",
       "      <td>11405.2</td>\n",
       "      <td>4974.5</td>\n",
       "      <td>83.8</td>\n",
       "      <td>134207.2</td>\n",
       "      <td>4234.2</td>\n",
       "    </tr>\n",
       "    <tr>\n",
       "      <th>18</th>\n",
       "      <td>10000</td>\n",
       "      <td>250</td>\n",
       "      <td>-1</td>\n",
       "      <td>328863.4</td>\n",
       "      <td>14326.8</td>\n",
       "      <td>4986.4</td>\n",
       "      <td>122.3</td>\n",
       "      <td>153650.7</td>\n",
       "      <td>3659.3</td>\n",
       "    </tr>\n",
       "    <tr>\n",
       "      <th>19</th>\n",
       "      <td>10000</td>\n",
       "      <td>250</td>\n",
       "      <td>0</td>\n",
       "      <td>308735.9</td>\n",
       "      <td>22298.8</td>\n",
       "      <td>5067.9</td>\n",
       "      <td>105.8</td>\n",
       "      <td>142691.3</td>\n",
       "      <td>8439.1</td>\n",
       "    </tr>\n",
       "    <tr>\n",
       "      <th>20</th>\n",
       "      <td>100000</td>\n",
       "      <td>1</td>\n",
       "      <td>-1</td>\n",
       "      <td>19487.5</td>\n",
       "      <td>110.6</td>\n",
       "      <td>4563.7</td>\n",
       "      <td>19.8</td>\n",
       "      <td>13909.7</td>\n",
       "      <td>85.0</td>\n",
       "    </tr>\n",
       "    <tr>\n",
       "      <th>21</th>\n",
       "      <td>100000</td>\n",
       "      <td>1</td>\n",
       "      <td>0</td>\n",
       "      <td>21055.5</td>\n",
       "      <td>124.0</td>\n",
       "      <td>3369.1</td>\n",
       "      <td>40.0</td>\n",
       "      <td>13912.7</td>\n",
       "      <td>65.4</td>\n",
       "    </tr>\n",
       "    <tr>\n",
       "      <th>22</th>\n",
       "      <td>100000</td>\n",
       "      <td>10</td>\n",
       "      <td>-1</td>\n",
       "      <td>177924.6</td>\n",
       "      <td>5449.0</td>\n",
       "      <td>4949.1</td>\n",
       "      <td>33.1</td>\n",
       "      <td>118322.7</td>\n",
       "      <td>631.4</td>\n",
       "    </tr>\n",
       "    <tr>\n",
       "      <th>23</th>\n",
       "      <td>100000</td>\n",
       "      <td>10</td>\n",
       "      <td>0</td>\n",
       "      <td>172842.3</td>\n",
       "      <td>1675.0</td>\n",
       "      <td>4807.0</td>\n",
       "      <td>43.6</td>\n",
       "      <td>88933.8</td>\n",
       "      <td>923.0</td>\n",
       "    </tr>\n",
       "    <tr>\n",
       "      <th>24</th>\n",
       "      <td>100000</td>\n",
       "      <td>25</td>\n",
       "      <td>-1</td>\n",
       "      <td>414017.2</td>\n",
       "      <td>6590.6</td>\n",
       "      <td>5001.9</td>\n",
       "      <td>38.5</td>\n",
       "      <td>251518.8</td>\n",
       "      <td>6994.6</td>\n",
       "    </tr>\n",
       "    <tr>\n",
       "      <th>25</th>\n",
       "      <td>100000</td>\n",
       "      <td>25</td>\n",
       "      <td>0</td>\n",
       "      <td>362034.2</td>\n",
       "      <td>6480.9</td>\n",
       "      <td>4957.4</td>\n",
       "      <td>25.6</td>\n",
       "      <td>160591.7</td>\n",
       "      <td>2294.4</td>\n",
       "    </tr>\n",
       "    <tr>\n",
       "      <th>26</th>\n",
       "      <td>100000</td>\n",
       "      <td>100</td>\n",
       "      <td>-1</td>\n",
       "      <td>1275745.6</td>\n",
       "      <td>52701.6</td>\n",
       "      <td>5047.4</td>\n",
       "      <td>51.4</td>\n",
       "      <td>360713.1</td>\n",
       "      <td>1650.0</td>\n",
       "    </tr>\n",
       "    <tr>\n",
       "      <th>27</th>\n",
       "      <td>100000</td>\n",
       "      <td>100</td>\n",
       "      <td>0</td>\n",
       "      <td>786597.8</td>\n",
       "      <td>42070.2</td>\n",
       "      <td>5053.3</td>\n",
       "      <td>43.5</td>\n",
       "      <td>281694.7</td>\n",
       "      <td>2046.0</td>\n",
       "    </tr>\n",
       "    <tr>\n",
       "      <th>28</th>\n",
       "      <td>100000</td>\n",
       "      <td>250</td>\n",
       "      <td>-1</td>\n",
       "      <td>1384789.8</td>\n",
       "      <td>92084.9</td>\n",
       "      <td>5064.9</td>\n",
       "      <td>22.4</td>\n",
       "      <td>362379.9</td>\n",
       "      <td>3835.3</td>\n",
       "    </tr>\n",
       "    <tr>\n",
       "      <th>29</th>\n",
       "      <td>100000</td>\n",
       "      <td>250</td>\n",
       "      <td>0</td>\n",
       "      <td>1069640.7</td>\n",
       "      <td>29490.9</td>\n",
       "      <td>5068.2</td>\n",
       "      <td>50.3</td>\n",
       "      <td>304982.3</td>\n",
       "      <td>28783.3</td>\n",
       "    </tr>\n",
       "    <tr>\n",
       "      <th>30</th>\n",
       "      <td>1000000</td>\n",
       "      <td>1</td>\n",
       "      <td>-1</td>\n",
       "      <td>19553.8</td>\n",
       "      <td>149.1</td>\n",
       "      <td>4572.6</td>\n",
       "      <td>6.2</td>\n",
       "      <td>13988.6</td>\n",
       "      <td>44.3</td>\n",
       "    </tr>\n",
       "    <tr>\n",
       "      <th>31</th>\n",
       "      <td>1000000</td>\n",
       "      <td>1</td>\n",
       "      <td>0</td>\n",
       "      <td>21277.6</td>\n",
       "      <td>100.4</td>\n",
       "      <td>3340.8</td>\n",
       "      <td>49.1</td>\n",
       "      <td>13976.6</td>\n",
       "      <td>68.4</td>\n",
       "    </tr>\n",
       "    <tr>\n",
       "      <th>32</th>\n",
       "      <td>1000000</td>\n",
       "      <td>10</td>\n",
       "      <td>-1</td>\n",
       "      <td>186673.6</td>\n",
       "      <td>1853.1</td>\n",
       "      <td>4953.3</td>\n",
       "      <td>15.9</td>\n",
       "      <td>124166.2</td>\n",
       "      <td>327.1</td>\n",
       "    </tr>\n",
       "    <tr>\n",
       "      <th>33</th>\n",
       "      <td>1000000</td>\n",
       "      <td>10</td>\n",
       "      <td>0</td>\n",
       "      <td>178677.5</td>\n",
       "      <td>2823.1</td>\n",
       "      <td>4817.5</td>\n",
       "      <td>16.5</td>\n",
       "      <td>92302.2</td>\n",
       "      <td>485.2</td>\n",
       "    </tr>\n",
       "    <tr>\n",
       "      <th>34</th>\n",
       "      <td>1000000</td>\n",
       "      <td>25</td>\n",
       "      <td>-1</td>\n",
       "      <td>461496.8</td>\n",
       "      <td>4183.5</td>\n",
       "      <td>5011.9</td>\n",
       "      <td>28.8</td>\n",
       "      <td>289102.6</td>\n",
       "      <td>2297.3</td>\n",
       "    </tr>\n",
       "    <tr>\n",
       "      <th>35</th>\n",
       "      <td>1000000</td>\n",
       "      <td>25</td>\n",
       "      <td>0</td>\n",
       "      <td>391149.2</td>\n",
       "      <td>4353.8</td>\n",
       "      <td>4963.4</td>\n",
       "      <td>26.9</td>\n",
       "      <td>169931.1</td>\n",
       "      <td>1768.5</td>\n",
       "    </tr>\n",
       "    <tr>\n",
       "      <th>36</th>\n",
       "      <td>1000000</td>\n",
       "      <td>100</td>\n",
       "      <td>-1</td>\n",
       "      <td>1760382.2</td>\n",
       "      <td>55399.2</td>\n",
       "      <td>5060.2</td>\n",
       "      <td>24.9</td>\n",
       "      <td>413999.5</td>\n",
       "      <td>3346.3</td>\n",
       "    </tr>\n",
       "    <tr>\n",
       "      <th>37</th>\n",
       "      <td>1000000</td>\n",
       "      <td>100</td>\n",
       "      <td>0</td>\n",
       "      <td>994356.1</td>\n",
       "      <td>10432.7</td>\n",
       "      <td>5050.7</td>\n",
       "      <td>10.4</td>\n",
       "      <td>311725.1</td>\n",
       "      <td>1693.6</td>\n",
       "    </tr>\n",
       "    <tr>\n",
       "      <th>38</th>\n",
       "      <td>1000000</td>\n",
       "      <td>250</td>\n",
       "      <td>-1</td>\n",
       "      <td>2087734.0</td>\n",
       "      <td>104797.7</td>\n",
       "      <td>5080.2</td>\n",
       "      <td>17.4</td>\n",
       "      <td>428359.5</td>\n",
       "      <td>5281.1</td>\n",
       "    </tr>\n",
       "    <tr>\n",
       "      <th>39</th>\n",
       "      <td>1000000</td>\n",
       "      <td>250</td>\n",
       "      <td>0</td>\n",
       "      <td>1388767.7</td>\n",
       "      <td>9507.5</td>\n",
       "      <td>5072.0</td>\n",
       "      <td>6.3</td>\n",
       "      <td>372324.5</td>\n",
       "      <td>2542.9</td>\n",
       "    </tr>\n",
       "  </tbody>\n",
       "</table>\n",
       "</div>"
      ],
      "text/plain": [
       "       size batch_size prefetch dataset_from_tensor            \\\n",
       "                                               mean       std   \n",
       "0      1000          1       -1             13221.0     758.5   \n",
       "1      1000          1        0             13873.5     372.8   \n",
       "2      1000         10       -1             32767.8    2248.6   \n",
       "3      1000         10        0             33826.4     733.1   \n",
       "4      1000         25       -1             36904.8    1548.6   \n",
       "5      1000         25        0             37625.5     342.0   \n",
       "6      1000        100       -1             39271.0    1751.7   \n",
       "7      1000        100        0             39297.9     206.3   \n",
       "8      1000        250       -1             39830.4    1124.5   \n",
       "9      1000        250        0             36975.6    4585.5   \n",
       "10    10000          1       -1             18489.9     429.4   \n",
       "11    10000          1        0             19874.8     704.3   \n",
       "12    10000         10       -1            128977.7    2764.5   \n",
       "13    10000         10        0            125122.5    2610.3   \n",
       "14    10000         25       -1            211372.8    9744.5   \n",
       "15    10000         25        0            195112.4    9762.1   \n",
       "16    10000        100       -1            321124.0   15452.7   \n",
       "17    10000        100        0            288331.2   11405.2   \n",
       "18    10000        250       -1            328863.4   14326.8   \n",
       "19    10000        250        0            308735.9   22298.8   \n",
       "20   100000          1       -1             19487.5     110.6   \n",
       "21   100000          1        0             21055.5     124.0   \n",
       "22   100000         10       -1            177924.6    5449.0   \n",
       "23   100000         10        0            172842.3    1675.0   \n",
       "24   100000         25       -1            414017.2    6590.6   \n",
       "25   100000         25        0            362034.2    6480.9   \n",
       "26   100000        100       -1           1275745.6   52701.6   \n",
       "27   100000        100        0            786597.8   42070.2   \n",
       "28   100000        250       -1           1384789.8   92084.9   \n",
       "29   100000        250        0           1069640.7   29490.9   \n",
       "30  1000000          1       -1             19553.8     149.1   \n",
       "31  1000000          1        0             21277.6     100.4   \n",
       "32  1000000         10       -1            186673.6    1853.1   \n",
       "33  1000000         10        0            178677.5    2823.1   \n",
       "34  1000000         25       -1            461496.8    4183.5   \n",
       "35  1000000         25        0            391149.2    4353.8   \n",
       "36  1000000        100       -1           1760382.2   55399.2   \n",
       "37  1000000        100        0            994356.1   10432.7   \n",
       "38  1000000        250       -1           2087734.0  104797.7   \n",
       "39  1000000        250        0           1388767.7    9507.5   \n",
       "\n",
       "   dataset_from_generator        dataset_from_files           \n",
       "                     mean    std               mean      std  \n",
       "0                  4006.7  117.4             8867.1    162.8  \n",
       "1                  3184.9  280.4             8704.7    232.5  \n",
       "2                  4292.8  200.8            20159.1    117.1  \n",
       "3                  4237.9  142.2            18820.8    422.3  \n",
       "4                  4295.5  326.0            21574.0    634.0  \n",
       "5                  4435.1  296.2            20890.8    602.8  \n",
       "6                  4547.1  176.9            21753.1   1152.8  \n",
       "7                  4389.3  216.0            22324.3    172.2  \n",
       "8                  4455.6  184.5            22382.4   1174.0  \n",
       "9                  4536.4  218.7            22768.7    376.9  \n",
       "10                 4521.0   58.1            13331.0    145.1  \n",
       "11                 3315.4   80.3            13126.5    125.4  \n",
       "12                 4852.3   45.9            76197.7   8959.6  \n",
       "13                 4744.0   83.6            67308.1    681.6  \n",
       "14                 4974.8  109.1           128385.1   2890.1  \n",
       "15                 4899.2  130.2           100675.8   1382.3  \n",
       "16                 4896.1   84.1           150390.9   3770.4  \n",
       "17                 4974.5   83.8           134207.2   4234.2  \n",
       "18                 4986.4  122.3           153650.7   3659.3  \n",
       "19                 5067.9  105.8           142691.3   8439.1  \n",
       "20                 4563.7   19.8            13909.7     85.0  \n",
       "21                 3369.1   40.0            13912.7     65.4  \n",
       "22                 4949.1   33.1           118322.7    631.4  \n",
       "23                 4807.0   43.6            88933.8    923.0  \n",
       "24                 5001.9   38.5           251518.8   6994.6  \n",
       "25                 4957.4   25.6           160591.7   2294.4  \n",
       "26                 5047.4   51.4           360713.1   1650.0  \n",
       "27                 5053.3   43.5           281694.7   2046.0  \n",
       "28                 5064.9   22.4           362379.9   3835.3  \n",
       "29                 5068.2   50.3           304982.3  28783.3  \n",
       "30                 4572.6    6.2            13988.6     44.3  \n",
       "31                 3340.8   49.1            13976.6     68.4  \n",
       "32                 4953.3   15.9           124166.2    327.1  \n",
       "33                 4817.5   16.5            92302.2    485.2  \n",
       "34                 5011.9   28.8           289102.6   2297.3  \n",
       "35                 4963.4   26.9           169931.1   1768.5  \n",
       "36                 5060.2   24.9           413999.5   3346.3  \n",
       "37                 5050.7   10.4           311725.1   1693.6  \n",
       "38                 5080.2   17.4           428359.5   5281.1  \n",
       "39                 5072.0    6.3           372324.5   2542.9  "
      ]
     },
     "execution_count": 35,
     "metadata": {},
     "output_type": "execute_result"
    }
   ],
   "source": [
    "def reduce_measurements(series):\n",
    "    return series.describe()\n",
    "\n",
    "latex_df = results\\\n",
    ".drop(columns=['run'])\\\n",
    ".groupby(['size', 'batch_size', 'prefetch'])\\\n",
    ".agg([np.mean, np.std])\\\n",
    ".reset_index()\\\n",
    ".apply(lambda x: round(x, 1))\n",
    "\n",
    "latex_df['batch_size'] = latex_df.batch_size.astype(int)\n",
    "latex_df['prefetch'] = latex_df.prefetch.astype(int)\n",
    "latex_df"
   ]
  },
  {
   "cell_type": "code",
   "execution_count": 36,
   "id": "3f66463d",
   "metadata": {},
   "outputs": [],
   "source": [
    "latex_df.to_latex(\n",
    "    buf='TF_dataset_benchmark_raw.tex', \n",
    "    index=False, \n",
    "    longtable=True,\n",
    "    caption='Throughput of different Tensorflow datasets in samples per second (raw benchmark results)',\n",
    "    label='tab:tfDatasetThroughputBenchmarkRaw'\n",
    ")"
   ]
  },
  {
   "cell_type": "markdown",
   "id": "c3b0f08e",
   "metadata": {},
   "source": [
    "Modify the latex table head to prevent duplicate labels and captions when the tables goes over multiple pages. Like this:\n",
    "\n",
    "```\n",
    "\\caption{Runtime of multithreaded \\mmproteo{} operations in seconds (raw benchmark results)}\\label{tab:mmproteoMultithreadingBenchmarkRaw}\\\\\n",
    "\\toprule\n",
    " cores &    operation &  part &    run\\_0 &    run\\_1 &    run\\_2 &    run\\_3 &    run\\_4 &      mean &         std &      min &      50\\% &      max \\\\\n",
    "\\midrule\n",
    "\\endfirsthead\n",
    "\\caption[]{Runtime of multithreaded \\mmproteo{} operations in seconds (raw benchmark results)}\n",
    "\\toprule\n",
    " cores &    operation &  part &    run\\_0 &    run\\_1 &    run\\_2 &    run\\_3 &    run\\_4 &      mean &         std &      min &      50\\% &      max \\\\\n",
    "\\midrule\n",
    "\\endhead\n",
    "```"
   ]
  },
  {
   "cell_type": "code",
   "execution_count": null,
   "id": "008a24f0",
   "metadata": {},
   "outputs": [],
   "source": []
  }
 ],
 "metadata": {
  "kernelspec": {
   "display_name": "Python 3",
   "language": "python",
   "name": "python3"
  },
  "language_info": {
   "codemirror_mode": {
    "name": "ipython",
    "version": 3
   },
   "file_extension": ".py",
   "mimetype": "text/x-python",
   "name": "python",
   "nbconvert_exporter": "python",
   "pygments_lexer": "ipython3",
   "version": "3.6.9"
  }
 },
 "nbformat": 4,
 "nbformat_minor": 5
}
