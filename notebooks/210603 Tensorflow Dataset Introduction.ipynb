{
 "cells": [
  {
   "cell_type": "markdown",
   "id": "6bcf7626",
   "metadata": {},
   "source": [
    "# Scalable Tensorflow Dataset Introduction"
   ]
  },
  {
   "cell_type": "code",
   "execution_count": 1,
   "id": "58b238ae",
   "metadata": {},
   "outputs": [],
   "source": [
    "import os\n",
    "import tensorflow as tf\n",
    "import tensorflow_datasets as tfds\n",
    "import pandas as pd\n",
    "import numpy as np"
   ]
  },
  {
   "cell_type": "markdown",
   "id": "256d26c2",
   "metadata": {},
   "source": [
    "## Datasets, Pandas, and Numpy"
   ]
  },
  {
   "cell_type": "code",
   "execution_count": 2,
   "id": "8cae8f4c",
   "metadata": {},
   "outputs": [
    {
     "data": {
      "text/html": [
       "<div>\n",
       "<style scoped>\n",
       "    .dataframe tbody tr th:only-of-type {\n",
       "        vertical-align: middle;\n",
       "    }\n",
       "\n",
       "    .dataframe tbody tr th {\n",
       "        vertical-align: top;\n",
       "    }\n",
       "\n",
       "    .dataframe thead th {\n",
       "        text-align: right;\n",
       "    }\n",
       "</style>\n",
       "<table border=\"1\" class=\"dataframe\">\n",
       "  <thead>\n",
       "    <tr style=\"text-align: right;\">\n",
       "      <th></th>\n",
       "      <th>0</th>\n",
       "    </tr>\n",
       "  </thead>\n",
       "  <tbody>\n",
       "    <tr>\n",
       "      <th>0</th>\n",
       "      <td>0</td>\n",
       "    </tr>\n",
       "    <tr>\n",
       "      <th>1</th>\n",
       "      <td>1</td>\n",
       "    </tr>\n",
       "    <tr>\n",
       "      <th>2</th>\n",
       "      <td>2</td>\n",
       "    </tr>\n",
       "    <tr>\n",
       "      <th>3</th>\n",
       "      <td>3</td>\n",
       "    </tr>\n",
       "    <tr>\n",
       "      <th>4</th>\n",
       "      <td>4</td>\n",
       "    </tr>\n",
       "    <tr>\n",
       "      <th>5</th>\n",
       "      <td>5</td>\n",
       "    </tr>\n",
       "    <tr>\n",
       "      <th>6</th>\n",
       "      <td>6</td>\n",
       "    </tr>\n",
       "    <tr>\n",
       "      <th>7</th>\n",
       "      <td>7</td>\n",
       "    </tr>\n",
       "    <tr>\n",
       "      <th>8</th>\n",
       "      <td>8</td>\n",
       "    </tr>\n",
       "    <tr>\n",
       "      <th>9</th>\n",
       "      <td>9</td>\n",
       "    </tr>\n",
       "  </tbody>\n",
       "</table>\n",
       "</div>"
      ],
      "text/plain": [
       "   0\n",
       "0  0\n",
       "1  1\n",
       "2  2\n",
       "3  3\n",
       "4  4\n",
       "5  5\n",
       "6  6\n",
       "7  7\n",
       "8  8\n",
       "9  9"
      ]
     },
     "execution_count": 2,
     "metadata": {},
     "output_type": "execute_result"
    }
   ],
   "source": [
    "df = pd.DataFrame(range(10))\n",
    "df"
   ]
  },
  {
   "cell_type": "code",
   "execution_count": 3,
   "id": "2425cf89",
   "metadata": {},
   "outputs": [
    {
     "data": {
      "text/plain": [
       "array([[0],\n",
       "       [1],\n",
       "       [2],\n",
       "       [3],\n",
       "       [4],\n",
       "       [5],\n",
       "       [6],\n",
       "       [7],\n",
       "       [8],\n",
       "       [9]])"
      ]
     },
     "execution_count": 3,
     "metadata": {},
     "output_type": "execute_result"
    }
   ],
   "source": [
    "df.values"
   ]
  },
  {
   "cell_type": "code",
   "execution_count": 4,
   "id": "3f335ee7",
   "metadata": {},
   "outputs": [
    {
     "data": {
      "text/plain": [
       "numpy.ndarray"
      ]
     },
     "execution_count": 4,
     "metadata": {},
     "output_type": "execute_result"
    }
   ],
   "source": [
    "type(df.values)"
   ]
  },
  {
   "cell_type": "code",
   "execution_count": 5,
   "id": "4444c51d",
   "metadata": {},
   "outputs": [
    {
     "data": {
      "text/plain": [
       "<TensorSliceDataset shapes: (1,), types: tf.int64>"
      ]
     },
     "execution_count": 5,
     "metadata": {},
     "output_type": "execute_result"
    }
   ],
   "source": [
    "tf.data.Dataset.from_tensor_slices(df)"
   ]
  },
  {
   "cell_type": "code",
   "execution_count": 6,
   "id": "bc60bab4",
   "metadata": {},
   "outputs": [
    {
     "data": {
      "text/plain": [
       "[array([0]),\n",
       " array([1]),\n",
       " array([2]),\n",
       " array([3]),\n",
       " array([4]),\n",
       " array([5]),\n",
       " array([6]),\n",
       " array([7]),\n",
       " array([8]),\n",
       " array([9])]"
      ]
     },
     "execution_count": 6,
     "metadata": {},
     "output_type": "execute_result"
    }
   ],
   "source": [
    "ds_from_tensor_slices = tf.data.Dataset.from_tensor_slices(df)\n",
    "list(ds_from_tensor_slices.as_numpy_iterator())"
   ]
  },
  {
   "cell_type": "code",
   "execution_count": 7,
   "id": "76456fc3",
   "metadata": {},
   "outputs": [
    {
     "data": {
      "text/plain": [
       "[array([[0],\n",
       "        [1],\n",
       "        [2],\n",
       "        [3],\n",
       "        [4],\n",
       "        [5],\n",
       "        [6],\n",
       "        [7],\n",
       "        [8],\n",
       "        [9]])]"
      ]
     },
     "execution_count": 7,
     "metadata": {},
     "output_type": "execute_result"
    }
   ],
   "source": [
    "ds_from_tensors = tf.data.Dataset.from_tensors(df)\n",
    "list(ds_from_tensors.as_numpy_iterator())"
   ]
  },
  {
   "cell_type": "code",
   "execution_count": 8,
   "id": "a9c75cea",
   "metadata": {},
   "outputs": [
    {
     "name": "stdout",
     "output_type": "stream",
     "text": [
      "0th element from ds from tensor slices: [0]\n",
      "\n",
      "0th element from ds from tensors: [[0]\n",
      " [1]\n",
      " [2]\n",
      " [3]\n",
      " [4]\n",
      " [5]\n",
      " [6]\n",
      " [7]\n",
      " [8]\n",
      " [9]]\n"
     ]
    }
   ],
   "source": [
    "print(\"0th element from ds from tensor slices:\", next(ds_from_tensor_slices.as_numpy_iterator()))\n",
    "print()\n",
    "print(\"0th element from ds from tensors:\", next(ds_from_tensors.as_numpy_iterator()))"
   ]
  },
  {
   "cell_type": "code",
   "execution_count": 9,
   "id": "5195b8db",
   "metadata": {},
   "outputs": [
    {
     "name": "stdout",
     "output_type": "stream",
     "text": [
      "<TensorSliceDataset shapes: (), types: tf.int32>\n",
      "[0, 1, 2, 3, 4, 5, 6, 7, 8, 9]\n"
     ]
    }
   ],
   "source": [
    "range_ds = tf.data.Dataset.from_tensor_slices(list(range(10)))\n",
    "print(range_ds)\n",
    "print(list(range_ds.as_numpy_iterator()))"
   ]
  },
  {
   "cell_type": "code",
   "execution_count": 10,
   "id": "52686867",
   "metadata": {},
   "outputs": [],
   "source": [
    "def print_ds(ds: tf.data.Dataset) -> None:\n",
    "    print(list(ds.as_numpy_iterator()))"
   ]
  },
  {
   "cell_type": "code",
   "execution_count": 11,
   "id": "336fb244",
   "metadata": {},
   "outputs": [
    {
     "name": "stdout",
     "output_type": "stream",
     "text": [
      "<InterleaveDataset shapes: (), types: tf.int32>\n",
      "[0, 0, 0, 0, 0, 0, 0, 0, 1, 1, 1, 1, 1, 1, 1, 0, 2, 2, 2, 2, 2, 2, 1, 3, 3, 3, 3, 3, 2, 4, 4, 4, 4, 3, 5, 5, 5, 4, 6, 6, 5, 7, 6, 7, 8]\n"
     ]
    }
   ],
   "source": [
    "interleaved_ds = range_ds.interleave(lambda i: tf.data.Dataset.from_tensor_slices(range(i)))\n",
    "print(interleaved_ds)\n",
    "print_ds(interleaved_ds)"
   ]
  },
  {
   "cell_type": "code",
   "execution_count": 12,
   "id": "6e492fc6",
   "metadata": {},
   "outputs": [
    {
     "name": "stdout",
     "output_type": "stream",
     "text": [
      "[0, 0, 0, 1, 0, 1, 0, 0, 1, 1, 1, 2, 2, 2, 0, 1, 1, 1, 3, 3, 3, 4, 3, 3, 0, 4, 2, 3, 2, 6, 4, 2, 5, 5, 0, 6, 4, 7, 5, 7, 5, 2, 6, 4, 8]\n",
      "[3, 5, 1, 5, 2, 0, 3, 6, 2, 1, 6, 3, 0, 8, 1, 5, 2, 2, 2, 0, 4, 7, 1, 3, 6, 0, 1, 1, 3, 3, 1, 0, 0, 4, 5, 4, 4, 2, 0, 2, 0, 7, 0, 1, 4]\n"
     ]
    }
   ],
   "source": [
    "print_ds(interleaved_ds.shuffle(buffer_size=10))\n",
    "print_ds(interleaved_ds.shuffle(buffer_size=100))"
   ]
  },
  {
   "cell_type": "code",
   "execution_count": 13,
   "id": "dd884c5c",
   "metadata": {},
   "outputs": [
    {
     "name": "stdout",
     "output_type": "stream",
     "text": [
      "[array([0, 0, 0, 0, 0, 0, 0, 0, 1, 1], dtype=int32), array([1, 1, 1, 1, 1, 0, 2, 2, 2, 2], dtype=int32), array([2, 2, 1, 3, 3, 3, 3, 3, 2, 4], dtype=int32), array([4, 4, 4, 3, 5, 5, 5, 4, 6, 6], dtype=int32), array([5, 7, 6, 7, 8], dtype=int32)]\n"
     ]
    }
   ],
   "source": [
    "print_ds(interleaved_ds.batch(10))"
   ]
  },
  {
   "cell_type": "code",
   "execution_count": 14,
   "id": "eab25c16",
   "metadata": {},
   "outputs": [
    {
     "name": "stdout",
     "output_type": "stream",
     "text": [
      "first batch - then shuffle:\n",
      "[array([2, 2, 1, 3, 3, 3, 3, 3, 2, 4], dtype=int32), array([4, 4, 4, 3, 5, 5, 5, 4, 6, 6], dtype=int32), array([5, 7, 6, 7, 8], dtype=int32), array([0, 0, 0, 0, 0, 0, 0, 0, 1, 1], dtype=int32), array([1, 1, 1, 1, 1, 0, 2, 2, 2, 2], dtype=int32)]\n",
      "\n",
      "first shuffle - then batch:\n",
      "[array([0, 0, 0, 0, 0, 1, 1, 1, 1, 2], dtype=int32), array([1, 0, 2, 2, 2, 2, 1, 1, 0, 3], dtype=int32), array([0, 3, 2, 3, 3, 0, 1, 3, 4, 2], dtype=int32), array([5, 5, 6, 5, 7, 4, 6, 4, 5, 8], dtype=int32), array([4, 4, 3, 6, 7], dtype=int32)]\n"
     ]
    }
   ],
   "source": [
    "print(\"first batch - then shuffle:\")\n",
    "print_ds(interleaved_ds.batch(10).shuffle(10))\n",
    "print()\n",
    "print(\"first shuffle - then batch:\")\n",
    "print_ds(interleaved_ds.shuffle(10).batch(10))"
   ]
  },
  {
   "cell_type": "markdown",
   "id": "f4361373",
   "metadata": {},
   "source": [
    "# Datasets and Generators: What if the data doesn't fit into memory?"
   ]
  },
  {
   "cell_type": "code",
   "execution_count": 15,
   "id": "351c8e4f",
   "metadata": {},
   "outputs": [
    {
     "name": "stdout",
     "output_type": "stream",
     "text": [
      "0\n",
      "1\n",
      "2\n"
     ]
    }
   ],
   "source": [
    "for i in range(3):\n",
    "    print(i)"
   ]
  },
  {
   "cell_type": "code",
   "execution_count": 16,
   "id": "25fe3ece",
   "metadata": {},
   "outputs": [
    {
     "name": "stdout",
     "output_type": "stream",
     "text": [
      "'list' object cannot be interpreted as an integer\n"
     ]
    }
   ],
   "source": [
    "try:\n",
    "    tf.data.Dataset.from_tensor_slices(range(3))\n",
    "except TypeError as e:\n",
    "    print(e)"
   ]
  },
  {
   "cell_type": "code",
   "execution_count": 17,
   "id": "24987faf",
   "metadata": {},
   "outputs": [
    {
     "name": "stdout",
     "output_type": "stream",
     "text": [
      "'list' object cannot be interpreted as an integer\n"
     ]
    }
   ],
   "source": [
    "try:\n",
    "    tf.data.Dataset.from_tensors(range(3))\n",
    "except TypeError as e:\n",
    "    print(e)"
   ]
  },
  {
   "cell_type": "markdown",
   "id": "c289a895",
   "metadata": {},
   "source": [
    "* cannot use tf.data.Dataset.from_tensor_slices\n",
    "* cannot use tf.data.Dataset.from_tensors"
   ]
  },
  {
   "cell_type": "code",
   "execution_count": 18,
   "id": "fb86498e",
   "metadata": {},
   "outputs": [
    {
     "name": "stdout",
     "output_type": "stream",
     "text": [
      "<FlatMapDataset shapes: <unknown>, types: tf.int32>\n",
      "[0, 1, 2]\n"
     ]
    }
   ],
   "source": [
    "def int_generator():\n",
    "    yield from range(3)\n",
    "    \n",
    "ds_from_int_generator = tf.data.Dataset.from_generator(\n",
    "    generator=int_generator,\n",
    "    output_types=tf.int32\n",
    ")\n",
    "print(ds_from_int_generator)\n",
    "print_ds(ds_from_int_generator)"
   ]
  },
  {
   "cell_type": "code",
   "execution_count": 19,
   "id": "793a77f6",
   "metadata": {},
   "outputs": [
    {
     "name": "stdout",
     "output_type": "stream",
     "text": [
      "<FlatMapDataset shapes: (<unknown>, <unknown>), types: (tf.int32, tf.int32)>\n",
      "[(0, 2), (1, 1), (2, 0)]\n"
     ]
    }
   ],
   "source": [
    "def tuple_generator():\n",
    "    yield from zip(range(3), reversed(range(3)))\n",
    "    \n",
    "ds_from_tuple_generator = tf.data.Dataset.from_generator(\n",
    "    generator=tuple_generator,\n",
    "    output_types=(tf.int32, tf.int32)\n",
    ")\n",
    "print(ds_from_tuple_generator)\n",
    "print_ds(ds_from_tuple_generator)"
   ]
  },
  {
   "cell_type": "code",
   "execution_count": 20,
   "id": "faf17ba1",
   "metadata": {},
   "outputs": [
    {
     "data": {
      "application/vnd.jupyter.widget-view+json": {
       "model_id": "f1667f2207e7464d9e0ea8c2bdbd813c",
       "version_major": 2,
       "version_minor": 0
      },
      "text/plain": [
       "1it [00:00, ?it/s]"
      ]
     },
     "metadata": {},
     "output_type": "display_data"
    },
    {
     "name": "stdout",
     "output_type": "stream",
     "text": [
      "\n",
      "************ Summary ************\n",
      "\n",
      "Examples/sec (First included) 71.33 ex/sec (total: 3 ex, 0.04 sec)\n",
      "Examples/sec (First only) 59.06 ex/sec (total: 1 ex, 0.02 sec)\n",
      "Examples/sec (First excluded) 79.59 ex/sec (total: 2 ex, 0.03 sec)\n"
     ]
    },
    {
     "data": {
      "text/html": [
       "<strong>BenchmarkResult:</strong><br/><div>\n",
       "<style scoped>\n",
       "    .dataframe tbody tr th:only-of-type {\n",
       "        vertical-align: middle;\n",
       "    }\n",
       "\n",
       "    .dataframe tbody tr th {\n",
       "        vertical-align: top;\n",
       "    }\n",
       "\n",
       "    .dataframe thead th {\n",
       "        text-align: right;\n",
       "    }\n",
       "</style>\n",
       "<table border=\"1\" class=\"dataframe\">\n",
       "  <thead>\n",
       "    <tr style=\"text-align: right;\">\n",
       "      <th></th>\n",
       "      <th>duration</th>\n",
       "      <th>num_examples</th>\n",
       "      <th>avg</th>\n",
       "    </tr>\n",
       "  </thead>\n",
       "  <tbody>\n",
       "    <tr>\n",
       "      <th>first+lasts</th>\n",
       "      <td>0.042061</td>\n",
       "      <td>3</td>\n",
       "      <td>71.325357</td>\n",
       "    </tr>\n",
       "    <tr>\n",
       "      <th>first</th>\n",
       "      <td>0.016931</td>\n",
       "      <td>1</td>\n",
       "      <td>59.063163</td>\n",
       "    </tr>\n",
       "    <tr>\n",
       "      <th>lasts</th>\n",
       "      <td>0.025130</td>\n",
       "      <td>2</td>\n",
       "      <td>79.586941</td>\n",
       "    </tr>\n",
       "  </tbody>\n",
       "</table>\n",
       "</div>"
      ],
      "text/plain": [
       "BenchmarkResult(stats=             duration  num_examples        avg\n",
       "first+lasts  0.042061             3  71.325357\n",
       "first        0.016931             1  59.063163\n",
       "lasts        0.025130             2  79.586941, raw_stats=                      duration\n",
       "start_time        13999.735613\n",
       "first_batch_time  13999.752544\n",
       "end_time          13999.777674\n",
       "num_iter              3.000000)"
      ]
     },
     "execution_count": 20,
     "metadata": {},
     "output_type": "execute_result"
    }
   ],
   "source": [
    "tfds.benchmark(ds_from_tuple_generator)"
   ]
  },
  {
   "cell_type": "markdown",
   "id": "3c61f27d",
   "metadata": {},
   "source": [
    "## Attention: Python code can be really slow"
   ]
  },
  {
   "cell_type": "code",
   "execution_count": 21,
   "id": "be87480f",
   "metadata": {},
   "outputs": [
    {
     "name": "stdout",
     "output_type": "stream",
     "text": [
      "from tensor slices:\n"
     ]
    },
    {
     "data": {
      "application/vnd.jupyter.widget-view+json": {
       "model_id": "3c4dad9f7ee04e87ae5f959152fd1cb8",
       "version_major": 2,
       "version_minor": 0
      },
      "text/plain": [
       "  0%|          | 1/20000 [00:00<?, ?it/s]"
      ]
     },
     "metadata": {},
     "output_type": "display_data"
    },
    {
     "name": "stdout",
     "output_type": "stream",
     "text": [
      "\n",
      "************ Summary ************\n",
      "\n",
      "Examples/sec (First included) 20343.32 ex/sec (total: 20000 ex, 0.98 sec)\n",
      "Examples/sec (First only) 409.58 ex/sec (total: 1 ex, 0.00 sec)\n",
      "Examples/sec (First excluded) 20392.95 ex/sec (total: 19999 ex, 0.98 sec)\n",
      "\n",
      "\n",
      "from generator:\n"
     ]
    },
    {
     "data": {
      "application/vnd.jupyter.widget-view+json": {
       "model_id": "822bd02b8ce144759a2c2e161d8c2c65",
       "version_major": 2,
       "version_minor": 0
      },
      "text/plain": [
       "1it [00:00, ?it/s]"
      ]
     },
     "metadata": {},
     "output_type": "display_data"
    },
    {
     "name": "stdout",
     "output_type": "stream",
     "text": [
      "\n",
      "************ Summary ************\n",
      "\n",
      "Examples/sec (First included) 3611.40 ex/sec (total: 20000 ex, 5.54 sec)\n",
      "Examples/sec (First only) 82.60 ex/sec (total: 1 ex, 0.01 sec)\n",
      "Examples/sec (First excluded) 3619.13 ex/sec (total: 19999 ex, 5.53 sec)\n"
     ]
    },
    {
     "data": {
      "text/html": [
       "<strong>BenchmarkResult:</strong><br/><div>\n",
       "<style scoped>\n",
       "    .dataframe tbody tr th:only-of-type {\n",
       "        vertical-align: middle;\n",
       "    }\n",
       "\n",
       "    .dataframe tbody tr th {\n",
       "        vertical-align: top;\n",
       "    }\n",
       "\n",
       "    .dataframe thead th {\n",
       "        text-align: right;\n",
       "    }\n",
       "</style>\n",
       "<table border=\"1\" class=\"dataframe\">\n",
       "  <thead>\n",
       "    <tr style=\"text-align: right;\">\n",
       "      <th></th>\n",
       "      <th>duration</th>\n",
       "      <th>num_examples</th>\n",
       "      <th>avg</th>\n",
       "    </tr>\n",
       "  </thead>\n",
       "  <tbody>\n",
       "    <tr>\n",
       "      <th>first+lasts</th>\n",
       "      <td>5.538025</td>\n",
       "      <td>20000</td>\n",
       "      <td>3611.396020</td>\n",
       "    </tr>\n",
       "    <tr>\n",
       "      <th>first</th>\n",
       "      <td>0.012106</td>\n",
       "      <td>1</td>\n",
       "      <td>82.601634</td>\n",
       "    </tr>\n",
       "    <tr>\n",
       "      <th>lasts</th>\n",
       "      <td>5.525918</td>\n",
       "      <td>19999</td>\n",
       "      <td>3619.126977</td>\n",
       "    </tr>\n",
       "  </tbody>\n",
       "</table>\n",
       "</div>"
      ],
      "text/plain": [
       "BenchmarkResult(stats=             duration  num_examples          avg\n",
       "first+lasts  5.538025         20000  3611.396020\n",
       "first        0.012106             1    82.601634\n",
       "lasts        5.525918         19999  3619.126977, raw_stats=                      duration\n",
       "start_time        14000.794803\n",
       "first_batch_time  14000.806910\n",
       "end_time          14006.332828\n",
       "num_iter          20000.000000)"
      ]
     },
     "execution_count": 21,
     "metadata": {},
     "output_type": "execute_result"
    }
   ],
   "source": [
    "benchmark_size = 2 * 10**4\n",
    "\n",
    "# dataframe in-memory\n",
    "large_df = pd.DataFrame(range(benchmark_size))\n",
    "large_ds_from_tensor_slices = tf.data.Dataset.from_tensor_slices(large_df)\n",
    "\n",
    "# generator in-memory\n",
    "def large_generator():\n",
    "    yield from range(benchmark_size)\n",
    "large_ds_from_generator = tf.data.Dataset.from_generator(\n",
    "    generator=large_generator,\n",
    "    output_types=tf.int32\n",
    ")\n",
    "\n",
    "print(\"from tensor slices:\")\n",
    "tfds.benchmark(large_ds_from_tensor_slices)\n",
    "\n",
    "print()\n",
    "print()\n",
    "\n",
    "print(\"from generator:\")\n",
    "tfds.benchmark(large_ds_from_generator)"
   ]
  },
  {
   "cell_type": "markdown",
   "id": "65d6205a",
   "metadata": {},
   "source": [
    "## The generator is ~7x slower."
   ]
  },
  {
   "cell_type": "code",
   "execution_count": 22,
   "id": "9ff73d47",
   "metadata": {},
   "outputs": [
    {
     "name": "stdout",
     "output_type": "stream",
     "text": [
      "batched from tensor slices:\n"
     ]
    },
    {
     "data": {
      "application/vnd.jupyter.widget-view+json": {
       "model_id": "ee52484f4ab1447d8e7b3fc2fdb1e62a",
       "version_major": 2,
       "version_minor": 0
      },
      "text/plain": [
       "  1%|          | 1/157 [00:00<?, ?it/s]"
      ]
     },
     "metadata": {},
     "output_type": "display_data"
    },
    {
     "name": "stdout",
     "output_type": "stream",
     "text": [
      "\n",
      "************ Summary ************\n",
      "\n",
      "Examples/sec (First included) 3244.41 ex/sec (total: 157 ex, 0.05 sec)\n",
      "Examples/sec (First only) 300.53 ex/sec (total: 1 ex, 0.00 sec)\n",
      "Examples/sec (First excluded) 3461.79 ex/sec (total: 156 ex, 0.05 sec)\n",
      "\n",
      "\n",
      "batched from generator:\n"
     ]
    },
    {
     "data": {
      "application/vnd.jupyter.widget-view+json": {
       "model_id": "48c1980404a64677b215990a767f0bf2",
       "version_major": 2,
       "version_minor": 0
      },
      "text/plain": [
       "1it [00:00, ?it/s]"
      ]
     },
     "metadata": {},
     "output_type": "display_data"
    },
    {
     "name": "stdout",
     "output_type": "stream",
     "text": [
      "\n",
      "************ Summary ************\n",
      "\n",
      "Examples/sec (First included) 41.09 ex/sec (total: 157 ex, 3.82 sec)\n",
      "Examples/sec (First only) 28.99 ex/sec (total: 1 ex, 0.03 sec)\n",
      "Examples/sec (First excluded) 41.20 ex/sec (total: 156 ex, 3.79 sec)\n"
     ]
    },
    {
     "data": {
      "text/html": [
       "<strong>BenchmarkResult:</strong><br/><div>\n",
       "<style scoped>\n",
       "    .dataframe tbody tr th:only-of-type {\n",
       "        vertical-align: middle;\n",
       "    }\n",
       "\n",
       "    .dataframe tbody tr th {\n",
       "        vertical-align: top;\n",
       "    }\n",
       "\n",
       "    .dataframe thead th {\n",
       "        text-align: right;\n",
       "    }\n",
       "</style>\n",
       "<table border=\"1\" class=\"dataframe\">\n",
       "  <thead>\n",
       "    <tr style=\"text-align: right;\">\n",
       "      <th></th>\n",
       "      <th>duration</th>\n",
       "      <th>num_examples</th>\n",
       "      <th>avg</th>\n",
       "    </tr>\n",
       "  </thead>\n",
       "  <tbody>\n",
       "    <tr>\n",
       "      <th>first+lasts</th>\n",
       "      <td>3.820738</td>\n",
       "      <td>157</td>\n",
       "      <td>41.091534</td>\n",
       "    </tr>\n",
       "    <tr>\n",
       "      <th>first</th>\n",
       "      <td>0.034492</td>\n",
       "      <td>1</td>\n",
       "      <td>28.992076</td>\n",
       "    </tr>\n",
       "    <tr>\n",
       "      <th>lasts</th>\n",
       "      <td>3.786246</td>\n",
       "      <td>156</td>\n",
       "      <td>41.201758</td>\n",
       "    </tr>\n",
       "  </tbody>\n",
       "</table>\n",
       "</div>"
      ],
      "text/plain": [
       "BenchmarkResult(stats=             duration  num_examples        avg\n",
       "first+lasts  3.820738           157  41.091534\n",
       "first        0.034492             1  28.992076\n",
       "lasts        3.786246           156  41.201758, raw_stats=                      duration\n",
       "start_time        14006.395903\n",
       "first_batch_time  14006.430395\n",
       "end_time          14010.216642\n",
       "num_iter            157.000000)"
      ]
     },
     "execution_count": 22,
     "metadata": {},
     "output_type": "execute_result"
    }
   ],
   "source": [
    "print(\"batched from tensor slices:\")\n",
    "tfds.benchmark(large_ds_from_tensor_slices.batch(128))\n",
    "\n",
    "print()\n",
    "print()\n",
    "\n",
    "print(\"batched from generator:\")\n",
    "tfds.benchmark(large_ds_from_generator.batch(128))"
   ]
  },
  {
   "cell_type": "markdown",
   "id": "3eadfc18",
   "metadata": {},
   "source": [
    "## even batched Generators are not that fast...\n",
    "### You can use generators, but they are not optimal... However, nothing is impossible with them!\n",
    "\n",
    "more complex generators:"
   ]
  },
  {
   "cell_type": "code",
   "execution_count": 23,
   "id": "6a9f91de",
   "metadata": {},
   "outputs": [
    {
     "name": "stdout",
     "output_type": "stream",
     "text": [
      "I was run with 'world'!\n"
     ]
    },
    {
     "data": {
      "text/plain": [
       "0"
      ]
     },
     "execution_count": 23,
     "metadata": {},
     "output_type": "execute_result"
    }
   ],
   "source": [
    "# imo the prettiest way to implement 'method classes'\n",
    "\n",
    "class MyGenerator:\n",
    "    def __init__(self, benchmark_size: int) -> None:\n",
    "        self.benchmark_size = benchmark_size\n",
    "    \n",
    "    def __call__(self, msg: str = \"Hello\"):\n",
    "        print(f\"I was run with '{msg}'!\")\n",
    "        yield from range(self.benchmark_size)\n",
    "\n",
    "next(MyGenerator(1)(msg=\"world\"))"
   ]
  },
  {
   "cell_type": "code",
   "execution_count": 24,
   "id": "916c4468",
   "metadata": {},
   "outputs": [
    {
     "name": "stdout",
     "output_type": "stream",
     "text": [
      "I was run with 'Hello'!\n"
     ]
    },
    {
     "data": {
      "application/vnd.jupyter.widget-view+json": {
       "model_id": "dd26c462ac75462c821056c719777628",
       "version_major": 2,
       "version_minor": 0
      },
      "text/plain": [
       "1it [00:00, ?it/s]"
      ]
     },
     "metadata": {},
     "output_type": "display_data"
    },
    {
     "name": "stdout",
     "output_type": "stream",
     "text": [
      "\n",
      "************ Summary ************\n",
      "\n",
      "Examples/sec (First included) 3714.20 ex/sec (total: 10000 ex, 2.69 sec)\n",
      "Examples/sec (First only) 84.86 ex/sec (total: 1 ex, 0.01 sec)\n",
      "Examples/sec (First excluded) 3730.15 ex/sec (total: 9999 ex, 2.68 sec)\n"
     ]
    },
    {
     "data": {
      "text/html": [
       "<strong>BenchmarkResult:</strong><br/><div>\n",
       "<style scoped>\n",
       "    .dataframe tbody tr th:only-of-type {\n",
       "        vertical-align: middle;\n",
       "    }\n",
       "\n",
       "    .dataframe tbody tr th {\n",
       "        vertical-align: top;\n",
       "    }\n",
       "\n",
       "    .dataframe thead th {\n",
       "        text-align: right;\n",
       "    }\n",
       "</style>\n",
       "<table border=\"1\" class=\"dataframe\">\n",
       "  <thead>\n",
       "    <tr style=\"text-align: right;\">\n",
       "      <th></th>\n",
       "      <th>duration</th>\n",
       "      <th>num_examples</th>\n",
       "      <th>avg</th>\n",
       "    </tr>\n",
       "  </thead>\n",
       "  <tbody>\n",
       "    <tr>\n",
       "      <th>first+lasts</th>\n",
       "      <td>2.692373</td>\n",
       "      <td>10000</td>\n",
       "      <td>3714.195126</td>\n",
       "    </tr>\n",
       "    <tr>\n",
       "      <th>first</th>\n",
       "      <td>0.011784</td>\n",
       "      <td>1</td>\n",
       "      <td>84.859827</td>\n",
       "    </tr>\n",
       "    <tr>\n",
       "      <th>lasts</th>\n",
       "      <td>2.680589</td>\n",
       "      <td>9999</td>\n",
       "      <td>3730.150048</td>\n",
       "    </tr>\n",
       "  </tbody>\n",
       "</table>\n",
       "</div>"
      ],
      "text/plain": [
       "BenchmarkResult(stats=             duration  num_examples          avg\n",
       "first+lasts  2.692373         10000  3714.195126\n",
       "first        0.011784             1    84.859827\n",
       "lasts        2.680589          9999  3730.150048, raw_stats=                      duration\n",
       "start_time        14010.252340\n",
       "first_batch_time  14010.264125\n",
       "end_time          14012.944714\n",
       "num_iter          10000.000000)"
      ]
     },
     "execution_count": 24,
     "metadata": {},
     "output_type": "execute_result"
    }
   ],
   "source": [
    "ds_from_generator_class = tf.data.Dataset.from_generator(\n",
    "    generator=MyGenerator(10**4),\n",
    "    output_types=tf.int32\n",
    ")\n",
    "\n",
    "tfds.benchmark(ds_from_generator_class)"
   ]
  },
  {
   "cell_type": "markdown",
   "id": "e6a01b0f",
   "metadata": {},
   "source": [
    "## Better Option: read Dataset asynchronously from Files\n",
    "### Dump Dataframes into Dataset Files"
   ]
  },
  {
   "cell_type": "code",
   "execution_count": 25,
   "id": "33d3575d",
   "metadata": {},
   "outputs": [],
   "source": [
    "DUMP_PATH_PREFIX = 'test'"
   ]
  },
  {
   "cell_type": "code",
   "execution_count": 26,
   "id": "529d765b",
   "metadata": {},
   "outputs": [],
   "source": [
    "rm -r $DUMP_PATH_PREFIX"
   ]
  },
  {
   "cell_type": "code",
   "execution_count": 27,
   "id": "4c642c57",
   "metadata": {},
   "outputs": [],
   "source": [
    "mkdir $DUMP_PATH_PREFIX"
   ]
  },
  {
   "cell_type": "code",
   "execution_count": 28,
   "id": "eb6329e3",
   "metadata": {},
   "outputs": [],
   "source": [
    "ls $DUMP_PATH_PREFIX"
   ]
  },
  {
   "cell_type": "code",
   "execution_count": 29,
   "id": "46637c56",
   "metadata": {},
   "outputs": [],
   "source": [
    "large_df_for_dumping = pd.DataFrame(range(50_000))\n",
    "large_ds_for_dumping = tf.data.Dataset.from_tensor_slices(large_df_for_dumping)"
   ]
  },
  {
   "cell_type": "code",
   "execution_count": 30,
   "id": "e2aa5d3f",
   "metadata": {},
   "outputs": [
    {
     "data": {
      "text/plain": [
       "50000"
      ]
     },
     "execution_count": 30,
     "metadata": {},
     "output_type": "execute_result"
    }
   ],
   "source": [
    "len(large_ds_for_dumping)"
   ]
  },
  {
   "cell_type": "code",
   "execution_count": 31,
   "id": "f4e656bf",
   "metadata": {},
   "outputs": [
    {
     "name": "stdout",
     "output_type": "stream",
     "text": [
      "<TensorSliceDataset shapes: (1,), types: tf.int64>\n"
     ]
    }
   ],
   "source": [
    "print(large_ds_for_dumping)"
   ]
  },
  {
   "cell_type": "code",
   "execution_count": 32,
   "id": "56d662d1",
   "metadata": {},
   "outputs": [
    {
     "name": "stdout",
     "output_type": "stream",
     "text": [
      "stored to 'test/0.dataset'\n",
      "stored to 'test/1.dataset'\n",
      "stored to 'test/2.dataset'\n",
      "stored to 'test/3.dataset'\n"
     ]
    }
   ],
   "source": [
    "dump_paths = []\n",
    "\n",
    "for i in range(4):\n",
    "    dump_path = os.path.join(DUMP_PATH_PREFIX, f\"{i}.dataset\")\n",
    "    tf.data.experimental.save(\n",
    "        dataset=large_ds_for_dumping,\n",
    "        path=dump_path,\n",
    "        compression='GZIP'\n",
    "    )\n",
    "    print(f\"stored to '{dump_path}'\")\n",
    "    dump_paths.append(dump_path)"
   ]
  },
  {
   "cell_type": "code",
   "execution_count": 33,
   "id": "bf618e23",
   "metadata": {},
   "outputs": [
    {
     "name": "stdout",
     "output_type": "stream",
     "text": [
      "2.5K\ttest/0.dataset\n",
      "2.5K\ttest/1.dataset\n",
      "2.5K\ttest/2.dataset\n",
      "2.5K\ttest/3.dataset\n",
      "\n"
     ]
    }
   ],
   "source": [
    "print(os.popen(f\"du -h --summarize {os.path.join(DUMP_PATH_PREFIX, '*')}\").read())"
   ]
  },
  {
   "cell_type": "markdown",
   "id": "b4e4fb6d",
   "metadata": {},
   "source": [
    "### Load Datasets"
   ]
  },
  {
   "cell_type": "code",
   "execution_count": 34,
   "id": "e7dd843f",
   "metadata": {},
   "outputs": [
    {
     "name": "stdout",
     "output_type": "stream",
     "text": [
      "<TensorSliceDataset shapes: (), types: tf.string>\n",
      "[b'test/0.dataset', b'test/1.dataset', b'test/2.dataset', b'test/3.dataset']\n"
     ]
    }
   ],
   "source": [
    "dumped_files_ds = tf.data.Dataset.from_tensor_slices(dump_paths)\n",
    "print(dumped_files_ds)\n",
    "print_ds(dumped_files_ds)"
   ]
  },
  {
   "cell_type": "code",
   "execution_count": 35,
   "id": "8bd16d1a",
   "metadata": {},
   "outputs": [
    {
     "data": {
      "text/plain": [
       "(TensorSpec(shape=(1,), dtype=tf.int64, name=None),)"
      ]
     },
     "execution_count": 35,
     "metadata": {},
     "output_type": "execute_result"
    }
   ],
   "source": [
    "element_spec = (tf.TensorSpec(shape=(1,), dtype=tf.int64),)\n",
    "element_spec"
   ]
  },
  {
   "cell_type": "code",
   "execution_count": 36,
   "id": "a15ffd8a",
   "metadata": {},
   "outputs": [
    {
     "name": "stdout",
     "output_type": "stream",
     "text": [
      "<InterleaveDataset shapes: ((1,),), types: (tf.int64,)>\n"
     ]
    }
   ],
   "source": [
    "loaded_files_ds = dumped_files_ds.interleave(lambda path:\n",
    "    tf.data.experimental.load(\n",
    "        path=path,\n",
    "        element_spec=element_spec,\n",
    "        compression='GZIP'\n",
    "    )\n",
    ")\n",
    "print(loaded_files_ds)"
   ]
  },
  {
   "cell_type": "code",
   "execution_count": 37,
   "id": "e3e9cecc",
   "metadata": {},
   "outputs": [
    {
     "name": "stdout",
     "output_type": "stream",
     "text": [
      "dataset length is unknown.\n"
     ]
    }
   ],
   "source": [
    "try:\n",
    "    len(loaded_files_ds)\n",
    "except TypeError as e:\n",
    "    print(e)"
   ]
  },
  {
   "cell_type": "code",
   "execution_count": 38,
   "id": "99cd1e96",
   "metadata": {},
   "outputs": [
    {
     "name": "stdout",
     "output_type": "stream",
     "text": [
      "[(array([0]),), (array([0]),), (array([0]),), (array([0]),), (array([1]),), (array([1]),), (array([1]),), (array([1]),), (array([2]),), (array([2]),), (array([2]),), (array([2]),)]\n"
     ]
    }
   ],
   "source": [
    "# looks like round robin\n",
    "print_ds(loaded_files_ds.take(12))"
   ]
  },
  {
   "cell_type": "code",
   "execution_count": 39,
   "id": "5a640684",
   "metadata": {},
   "outputs": [
    {
     "data": {
      "application/vnd.jupyter.widget-view+json": {
       "model_id": "e87769d569424ca19f7d31f99764b809",
       "version_major": 2,
       "version_minor": 0
      },
      "text/plain": [
       "1it [00:00, ?it/s]"
      ]
     },
     "metadata": {},
     "output_type": "display_data"
    },
    {
     "name": "stdout",
     "output_type": "stream",
     "text": [
      "\n",
      "************ Summary ************\n",
      "\n",
      "Examples/sec (First included) 13051.46 ex/sec (total: 200000 ex, 15.32 sec)\n",
      "Examples/sec (First only) 73.85 ex/sec (total: 1 ex, 0.01 sec)\n",
      "Examples/sec (First excluded) 13062.94 ex/sec (total: 199999 ex, 15.31 sec)\n"
     ]
    },
    {
     "data": {
      "text/html": [
       "<strong>BenchmarkResult:</strong><br/><div>\n",
       "<style scoped>\n",
       "    .dataframe tbody tr th:only-of-type {\n",
       "        vertical-align: middle;\n",
       "    }\n",
       "\n",
       "    .dataframe tbody tr th {\n",
       "        vertical-align: top;\n",
       "    }\n",
       "\n",
       "    .dataframe thead th {\n",
       "        text-align: right;\n",
       "    }\n",
       "</style>\n",
       "<table border=\"1\" class=\"dataframe\">\n",
       "  <thead>\n",
       "    <tr style=\"text-align: right;\">\n",
       "      <th></th>\n",
       "      <th>duration</th>\n",
       "      <th>num_examples</th>\n",
       "      <th>avg</th>\n",
       "    </tr>\n",
       "  </thead>\n",
       "  <tbody>\n",
       "    <tr>\n",
       "      <th>first+lasts</th>\n",
       "      <td>15.323951</td>\n",
       "      <td>200000</td>\n",
       "      <td>13051.464704</td>\n",
       "    </tr>\n",
       "    <tr>\n",
       "      <th>first</th>\n",
       "      <td>0.013541</td>\n",
       "      <td>1</td>\n",
       "      <td>73.852446</td>\n",
       "    </tr>\n",
       "    <tr>\n",
       "      <th>lasts</th>\n",
       "      <td>15.310410</td>\n",
       "      <td>199999</td>\n",
       "      <td>13062.942092</td>\n",
       "    </tr>\n",
       "  </tbody>\n",
       "</table>\n",
       "</div>"
      ],
      "text/plain": [
       "BenchmarkResult(stats=              duration  num_examples           avg\n",
       "first+lasts  15.323951        200000  13051.464704\n",
       "first         0.013541             1     73.852446\n",
       "lasts        15.310410        199999  13062.942092, raw_stats=                       duration\n",
       "start_time         14015.121069\n",
       "first_batch_time   14015.134610\n",
       "end_time           14030.445020\n",
       "num_iter          200000.000000)"
      ]
     },
     "execution_count": 39,
     "metadata": {},
     "output_type": "execute_result"
    }
   ],
   "source": [
    "tfds.benchmark(loaded_files_ds)"
   ]
  },
  {
   "cell_type": "markdown",
   "id": "fd99aaa4",
   "metadata": {},
   "source": [
    "## Reading from Files is 3-4x faster than reading from a Generator"
   ]
  },
  {
   "cell_type": "code",
   "execution_count": 40,
   "id": "804eabc7",
   "metadata": {},
   "outputs": [],
   "source": [
    "from typing import List\n",
    "\n",
    "def load_ds_from_files(file_paths: List[str]) -> tf.data.Dataset:\n",
    "    ds = tf.data.Dataset.from_tensor_slices(file_paths)\n",
    "    ds = ds.interleave(lambda path:\n",
    "        tf.data.experimental.load(\n",
    "            path=path,\n",
    "            element_spec=element_spec,\n",
    "            compression='GZIP'\n",
    "        ))\n",
    "    return ds"
   ]
  },
  {
   "cell_type": "code",
   "execution_count": 41,
   "id": "9dc71949",
   "metadata": {},
   "outputs": [
    {
     "data": {
      "application/vnd.jupyter.widget-view+json": {
       "model_id": "da9f3eee8d134f698dc539fe3d61dae0",
       "version_major": 2,
       "version_minor": 0
      },
      "text/plain": [
       "1it [00:00, ?it/s]"
      ]
     },
     "metadata": {},
     "output_type": "display_data"
    },
    {
     "name": "stdout",
     "output_type": "stream",
     "text": [
      "\n",
      "************ Summary ************\n",
      "\n",
      "Examples/sec (First included) 1758.26 ex/sec (total: 1562 ex, 0.89 sec)\n",
      "Examples/sec (First only) 3.19 ex/sec (total: 1 ex, 0.31 sec)\n",
      "Examples/sec (First excluded) 2716.44 ex/sec (total: 1561 ex, 0.57 sec)\n"
     ]
    },
    {
     "data": {
      "text/html": [
       "<strong>BenchmarkResult:</strong><br/><div>\n",
       "<style scoped>\n",
       "    .dataframe tbody tr th:only-of-type {\n",
       "        vertical-align: middle;\n",
       "    }\n",
       "\n",
       "    .dataframe tbody tr th {\n",
       "        vertical-align: top;\n",
       "    }\n",
       "\n",
       "    .dataframe thead th {\n",
       "        text-align: right;\n",
       "    }\n",
       "</style>\n",
       "<table border=\"1\" class=\"dataframe\">\n",
       "  <thead>\n",
       "    <tr style=\"text-align: right;\">\n",
       "      <th></th>\n",
       "      <th>duration</th>\n",
       "      <th>num_examples</th>\n",
       "      <th>avg</th>\n",
       "    </tr>\n",
       "  </thead>\n",
       "  <tbody>\n",
       "    <tr>\n",
       "      <th>first+lasts</th>\n",
       "      <td>0.888376</td>\n",
       "      <td>1562</td>\n",
       "      <td>1758.263737</td>\n",
       "    </tr>\n",
       "    <tr>\n",
       "      <th>first</th>\n",
       "      <td>0.313727</td>\n",
       "      <td>1</td>\n",
       "      <td>3.187480</td>\n",
       "    </tr>\n",
       "    <tr>\n",
       "      <th>lasts</th>\n",
       "      <td>0.574649</td>\n",
       "      <td>1561</td>\n",
       "      <td>2716.441069</td>\n",
       "    </tr>\n",
       "  </tbody>\n",
       "</table>\n",
       "</div>"
      ],
      "text/plain": [
       "BenchmarkResult(stats=             duration  num_examples          avg\n",
       "first+lasts  0.888376          1562  1758.263737\n",
       "first        0.313727             1     3.187480\n",
       "lasts        0.574649          1561  2716.441069, raw_stats=                      duration\n",
       "start_time        14030.489749\n",
       "first_batch_time  14030.803476\n",
       "end_time          14031.378125\n",
       "num_iter           1562.000000)"
      ]
     },
     "execution_count": 41,
     "metadata": {},
     "output_type": "execute_result"
    }
   ],
   "source": [
    "tfds.benchmark(\n",
    "    load_ds_from_files(dump_paths)\\\n",
    "    .shuffle(buffer_size=10**5)\\\n",
    "    .batch(128, drop_remainder=True)\n",
    ")"
   ]
  },
  {
   "cell_type": "markdown",
   "id": "6fbdaab4",
   "metadata": {},
   "source": [
    "## >10x Speed Improvement by using Batching "
   ]
  },
  {
   "cell_type": "code",
   "execution_count": 42,
   "id": "490b8234",
   "metadata": {},
   "outputs": [
    {
     "data": {
      "application/vnd.jupyter.widget-view+json": {
       "model_id": "5bb65b78f49846ee8d4f9d55cb9ac32f",
       "version_major": 2,
       "version_minor": 0
      },
      "text/plain": [
       "1it [00:00, ?it/s]"
      ]
     },
     "metadata": {},
     "output_type": "display_data"
    },
    {
     "name": "stdout",
     "output_type": "stream",
     "text": [
      "\n",
      "************ Summary ************\n",
      "\n",
      "Examples/sec (First included) 2039.46 ex/sec (total: 1562 ex, 0.77 sec)\n",
      "Examples/sec (First only) 18.82 ex/sec (total: 1 ex, 0.05 sec)\n",
      "Examples/sec (First excluded) 2190.12 ex/sec (total: 1561 ex, 0.71 sec)\n"
     ]
    },
    {
     "data": {
      "text/html": [
       "<strong>BenchmarkResult:</strong><br/><div>\n",
       "<style scoped>\n",
       "    .dataframe tbody tr th:only-of-type {\n",
       "        vertical-align: middle;\n",
       "    }\n",
       "\n",
       "    .dataframe tbody tr th {\n",
       "        vertical-align: top;\n",
       "    }\n",
       "\n",
       "    .dataframe thead th {\n",
       "        text-align: right;\n",
       "    }\n",
       "</style>\n",
       "<table border=\"1\" class=\"dataframe\">\n",
       "  <thead>\n",
       "    <tr style=\"text-align: right;\">\n",
       "      <th></th>\n",
       "      <th>duration</th>\n",
       "      <th>num_examples</th>\n",
       "      <th>avg</th>\n",
       "    </tr>\n",
       "  </thead>\n",
       "  <tbody>\n",
       "    <tr>\n",
       "      <th>first+lasts</th>\n",
       "      <td>0.765890</td>\n",
       "      <td>1562</td>\n",
       "      <td>2039.456991</td>\n",
       "    </tr>\n",
       "    <tr>\n",
       "      <th>first</th>\n",
       "      <td>0.053143</td>\n",
       "      <td>1</td>\n",
       "      <td>18.817058</td>\n",
       "    </tr>\n",
       "    <tr>\n",
       "      <th>lasts</th>\n",
       "      <td>0.712747</td>\n",
       "      <td>1561</td>\n",
       "      <td>2190.118355</td>\n",
       "    </tr>\n",
       "  </tbody>\n",
       "</table>\n",
       "</div>"
      ],
      "text/plain": [
       "BenchmarkResult(stats=             duration  num_examples          avg\n",
       "first+lasts  0.765890          1562  2039.456991\n",
       "first        0.053143             1    18.817058\n",
       "lasts        0.712747          1561  2190.118355, raw_stats=                      duration\n",
       "start_time        14031.402806\n",
       "first_batch_time  14031.455950\n",
       "end_time          14032.168697\n",
       "num_iter           1562.000000)"
      ]
     },
     "execution_count": 42,
     "metadata": {},
     "output_type": "execute_result"
    }
   ],
   "source": [
    "tfds.benchmark(\n",
    "    load_ds_from_files(dump_paths)\\\n",
    "    .shuffle(buffer_size=10**4)\\\n",
    "    .batch(128, drop_remainder=True)\\\n",
    "    .prefetch(tf.data.experimental.AUTOTUNE)\n",
    ")"
   ]
  },
  {
   "cell_type": "markdown",
   "id": "66b79d81",
   "metadata": {},
   "source": [
    "## Another 10-20% (at least) by using Prefetching"
   ]
  }
 ],
 "metadata": {
  "kernelspec": {
   "display_name": "Python 3",
   "language": "python",
   "name": "python3"
  },
  "language_info": {
   "codemirror_mode": {
    "name": "ipython",
    "version": 3
   },
   "file_extension": ".py",
   "mimetype": "text/x-python",
   "name": "python",
   "nbconvert_exporter": "python",
   "pygments_lexer": "ipython3",
   "version": "3.6.9"
  }
 },
 "nbformat": 4,
 "nbformat_minor": 5
}
