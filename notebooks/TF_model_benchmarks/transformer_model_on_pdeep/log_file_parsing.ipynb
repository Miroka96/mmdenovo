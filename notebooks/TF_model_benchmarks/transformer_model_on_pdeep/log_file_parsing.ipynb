{
 "cells": [
  {
   "cell_type": "code",
   "execution_count": 1,
   "id": "6d41e7a4",
   "metadata": {},
   "outputs": [],
   "source": [
    "import json\n",
    "import re"
   ]
  },
  {
   "cell_type": "code",
   "execution_count": 2,
   "id": "7714db2e",
   "metadata": {
    "scrolled": true
   },
   "outputs": [],
   "source": [
    "with open(\"/scratch/mirko.krause/pdeep/mmproteo_attention_model.log\", \"r\") as log:\n",
    "    log_lines = [line for line in log]"
   ]
  },
  {
   "cell_type": "code",
   "execution_count": 3,
   "id": "2de19187",
   "metadata": {
    "scrolled": false
   },
   "outputs": [],
   "source": [
    "epoch_before = 1000\n",
    "epoch = 0\n",
    "\n",
    "evaluation_results = []\n",
    "\n",
    "for line in log_lines[-300:]:\n",
    "    match = re.match(r\".*epoch (\\d+)\", line)\n",
    "    if match:\n",
    "        epoch = int(match[1])\n",
    "        epoch_before = 0\n",
    "    elif epoch_before == 2:\n",
    "        json_str = re.match(r\".*(\\{.*\\})\", line)[1]\n",
    "        json_str = json_str.replace(\"[\", \"'\")\n",
    "        json_str = json_str.replace(\"]\", \"'\")\n",
    "        json_str = json_str.replace(\"'\", '\"')\n",
    "        \n",
    "        json_dict = json.loads(json_str)\n",
    "        json_dict['epoch'] = epoch - 1\n",
    "        evaluation_results.append(json_dict)\n",
    "    epoch_before += 1"
   ]
  },
  {
   "cell_type": "code",
   "execution_count": 4,
   "id": "cd29daa5",
   "metadata": {},
   "outputs": [],
   "source": [
    "import pandas as pd"
   ]
  },
  {
   "cell_type": "code",
   "execution_count": 5,
   "id": "4a34a36d",
   "metadata": {},
   "outputs": [],
   "source": [
    "pd.DataFrame(evaluation_results).to_csv(\n",
    "    \"/hpi/fs00/home/mirko.krause/masterthesis/pride-downloader/notebooks/TF_model_benchmarks/transformer_model_on_pdeep/log.csv\",\n",
    "    index=False,\n",
    ")"
   ]
  },
  {
   "cell_type": "code",
   "execution_count": null,
   "id": "83f0ef95",
   "metadata": {},
   "outputs": [],
   "source": []
  }
 ],
 "metadata": {
  "kernelspec": {
   "display_name": "Python 3",
   "language": "python",
   "name": "python3"
  },
  "language_info": {
   "codemirror_mode": {
    "name": "ipython",
    "version": 3
   },
   "file_extension": ".py",
   "mimetype": "text/x-python",
   "name": "python",
   "nbconvert_exporter": "python",
   "pygments_lexer": "ipython3",
   "version": "3.8.10"
  }
 },
 "nbformat": 4,
 "nbformat_minor": 5
}
