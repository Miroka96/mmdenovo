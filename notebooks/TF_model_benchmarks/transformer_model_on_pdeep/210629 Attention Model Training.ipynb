{
 "cells": [
  {
   "cell_type": "markdown",
   "id": "lovely-landing",
   "metadata": {},
   "source": [
    "# Training an Attention Model on Tensorflow Datasets\n",
    "## Prerequisites"
   ]
  },
  {
   "cell_type": "code",
   "execution_count": 1,
   "id": "worth-excuse",
   "metadata": {},
   "outputs": [],
   "source": [
    "import json\n",
    "import math\n",
    "import os\n",
    "from typing import Any, Callable, Dict, List, Optional, Tuple, Union\n",
    "\n",
    "import numpy as np\n",
    "import pandas as pd\n",
    "import tensorflow as tf\n",
    "import tensorflow_datasets as tfds\n",
    "from IPython.core.display import display\n",
    "from mmproteo.utils import log, paths, utils, visualization\n",
    "from mmproteo.utils.formats.tf_dataset import DatasetLoader\n",
    "from mmproteo.utils.ml import callbacks, evaluation\n",
    "from official.modeling import tf_utils\n",
    "from official.nlp.modeling.models.seq2seq_transformer import Seq2SeqTransformer, TransformerDecoder, TransformerEncoder\n",
    "from official.nlp.modeling.ops import beam_search"
   ]
  },
  {
   "cell_type": "code",
   "execution_count": 2,
   "id": "8ac9492c",
   "metadata": {},
   "outputs": [],
   "source": [
    "from tensorflow.python.keras.metrics import MeanMetricWrapper\n",
    "from tensorflow.python.ops import array_ops, math_ops\n",
    "from tensorflow.python.keras import backend\n",
    "from tensorflow.python.framework import ops\n",
    "from tensorflow.python.keras import backend as K"
   ]
  },
  {
   "cell_type": "code",
   "execution_count": 3,
   "id": "circular-latin",
   "metadata": {},
   "outputs": [],
   "source": [
    "pd.set_option('display.max_columns', None)\n",
    "pd.set_option('display.max_rows', 1000)"
   ]
  },
  {
   "cell_type": "code",
   "execution_count": 4,
   "id": "c53d832c",
   "metadata": {},
   "outputs": [],
   "source": [
    "os.environ[\"CUDA_VISIBLE_DEVICES\"]=\"4\""
   ]
  },
  {
   "cell_type": "code",
   "execution_count": 5,
   "id": "3d6a88dd",
   "metadata": {},
   "outputs": [
    {
     "data": {
      "text/plain": [
       "[PhysicalDevice(name='/physical_device:GPU:0', device_type='GPU')]"
      ]
     },
     "execution_count": 5,
     "metadata": {},
     "output_type": "execute_result"
    }
   ],
   "source": [
    "#tf.debugging.set_log_device_placement(True)\n",
    "GPUs = tf.config.list_physical_devices('GPU')\n",
    "GPUs"
   ]
  },
  {
   "cell_type": "markdown",
   "id": "essential-playlist",
   "metadata": {},
   "source": [
    "## Configuration"
   ]
  },
  {
   "cell_type": "code",
   "execution_count": 6,
   "id": "norwegian-therapist",
   "metadata": {},
   "outputs": [
    {
     "name": "stdout",
     "output_type": "stream",
     "text": [
      "/hpi/fs00/home/mirko.krause/masterthesis/pride-downloader/notebooks\r\n"
     ]
    }
   ],
   "source": [
    "!pwd"
   ]
  },
  {
   "cell_type": "code",
   "execution_count": 7,
   "id": "deed6b25",
   "metadata": {
    "pycharm": {
     "name": "#%%\n"
    }
   },
   "outputs": [],
   "source": [
    "if os.getcwd() == \"/tf\":\n",
    "    os.chdir(os.path.join('workspace', 'notebooks'))"
   ]
  },
  {
   "cell_type": "code",
   "execution_count": 8,
   "id": "987d32ad",
   "metadata": {
    "pycharm": {
     "name": "#%%\n"
    }
   },
   "outputs": [
    {
     "name": "stdout",
     "output_type": "stream",
     "text": [
      "/hpi/fs00/home/mirko.krause/masterthesis/pride-downloader/notebooks\r\n"
     ]
    }
   ],
   "source": [
    "!pwd"
   ]
  },
  {
   "cell_type": "code",
   "execution_count": 9,
   "id": "9c791f91",
   "metadata": {},
   "outputs": [],
   "source": [
    "# DATA_SOURCE = 'pride'\n",
    "DATA_SOURCE = 'pdeep'\n",
    "on_server = True"
   ]
  },
  {
   "cell_type": "code",
   "execution_count": 10,
   "id": "bc4b91ac",
   "metadata": {},
   "outputs": [],
   "source": [
    "PROJECT = \"PXD010000\"\n",
    "\n",
    "if DATA_SOURCE == 'pride':\n",
    "    if on_server:\n",
    "        DUMP_PATH = os.path.join(\"/scratch/mirko.krause/dumps/\", PROJECT)\n",
    "    else:\n",
    "        DUMP_PATH = os.path.join(\"..\", \"dumps\", PROJECT)\n",
    "    TRAINING_COLUMNS_DUMP_PATH = os.path.join(DUMP_PATH, \"training_columns\")\n",
    "    FILES_PATH = os.path.join(TRAINING_COLUMNS_DUMP_PATH, \"*_mzmlid.parquet\")\n",
    "elif DATA_SOURCE == 'pdeep':\n",
    "    DUMP_PATH = \"/scratch/mirko.krause/pdeep\"\n",
    "    TRAINING_COLUMNS_DUMP_PATH = os.path.join(DUMP_PATH, \"training_columns\")\n",
    "    FILES_PATH = os.path.join(TRAINING_COLUMNS_DUMP_PATH, \"file_*.parquet\")\n",
    "else:\n",
    "    assert False"
   ]
  },
  {
   "cell_type": "code",
   "execution_count": 11,
   "id": "genuine-dealing",
   "metadata": {},
   "outputs": [
    {
     "name": "stdout",
     "output_type": "stream",
     "text": [
      "dump path = /scratch/mirko.krause/pdeep\n"
     ]
    }
   ],
   "source": [
    "print(f\"dump path = {DUMP_PATH}\")\n",
    "THREAD_COUNT = min(int(os.cpu_count()/2), 16)\n",
    "STATISTICS_FILE_PATH = os.path.join(TRAINING_COLUMNS_DUMP_PATH, \"statistics.parquet\")\n",
    "DATASET_DUMP_PATH = os.path.join(TRAINING_COLUMNS_DUMP_PATH, \"tf_datasets\")\n",
    "PROCESSING_FILE_PATH = os.path.join(DATASET_DUMP_PATH, \"processing_info.json\")"
   ]
  },
  {
   "cell_type": "code",
   "execution_count": 12,
   "id": "interesting-minute",
   "metadata": {},
   "outputs": [],
   "source": [
    "SEQ = 'peptide_sequence'"
   ]
  },
  {
   "cell_type": "code",
   "execution_count": 13,
   "id": "certified-gibson",
   "metadata": {},
   "outputs": [
    {
     "name": "stderr",
     "output_type": "stream",
     "text": [
      "2021-10-27 14:24:28,485 - mmproteo_attention_model: Logging to file '/scratch/mirko.krause/pdeep/mmproteo_attention_model.log' and to stderr\n"
     ]
    }
   ],
   "source": [
    "logger = log.create_logger(\n",
    "    name='mmproteo_attention_model',\n",
    "    verbose=True,\n",
    "    log_dir=DUMP_PATH,\n",
    ")"
   ]
  },
  {
   "cell_type": "code",
   "execution_count": 14,
   "id": "93c29d41",
   "metadata": {},
   "outputs": [
    {
     "data": {
      "text/plain": [
       "{'padding_characters': {'peptide_sequence': '_',\n",
       "  'mz_array': 0.0,\n",
       "  'intensity_array': 0.0},\n",
       " 'padding_lengths': {'mz_array': 89,\n",
       "  'intensity_array': 89,\n",
       "  'peptide_sequence': 30},\n",
       " 'idx_to_char': {'2': 'A',\n",
       "  '3': 'C',\n",
       "  '4': 'D',\n",
       "  '5': 'E',\n",
       "  '6': 'F',\n",
       "  '7': 'G',\n",
       "  '8': 'H',\n",
       "  '9': 'I',\n",
       "  '10': 'K',\n",
       "  '11': 'L',\n",
       "  '12': 'M',\n",
       "  '13': 'N',\n",
       "  '14': 'P',\n",
       "  '15': 'Q',\n",
       "  '16': 'R',\n",
       "  '17': 'S',\n",
       "  '18': 'T',\n",
       "  '19': 'V',\n",
       "  '20': 'W',\n",
       "  '21': 'Y',\n",
       "  '0': '_',\n",
       "  '1': 'EOS'},\n",
       " 'normalization': {'intensity_array': '<function base_peak_normalize at 0x7f01b581c160>'},\n",
       " 'split_value_columns': None,\n",
       " 'training_data_columns': ['mz_array', 'intensity_array'],\n",
       " 'target_data_columns': ['peptide_sequence'],\n",
       " 'element_spec': '((TensorSpec(shape=(89,), dtype=tf.float64, name=None), TensorSpec(shape=(89,), dtype=tf.float64, name=None)), (TensorSpec(shape=(30,), dtype=tf.int8, name=None),))',\n",
       " 'eos_idx': 1}"
      ]
     },
     "execution_count": 14,
     "metadata": {},
     "output_type": "execute_result"
    }
   ],
   "source": [
    "with open(PROCESSING_FILE_PATH, 'r') as file:\n",
    "    PROCESSING_INFO = json.loads(file.read())\n",
    "PROCESSING_INFO"
   ]
  },
  {
   "cell_type": "code",
   "execution_count": 15,
   "id": "7e975803",
   "metadata": {},
   "outputs": [],
   "source": [
    "def find_grouping_path_position(cols: Optional[List[str]], prefered_item: str, alternative_index: int = -1) -> int:\n",
    "    res = alternative_index\n",
    "    if cols is not None:\n",
    "        try:\n",
    "            res = cols.index(prefered_item) - len(cols)\n",
    "        except ValueError:\n",
    "            pass\n",
    "    return res"
   ]
  },
  {
   "cell_type": "code",
   "execution_count": 16,
   "id": "e1df9537",
   "metadata": {},
   "outputs": [
    {
     "data": {
      "text/plain": [
       "-1"
      ]
     },
     "execution_count": 16,
     "metadata": {},
     "output_type": "execute_result"
    }
   ],
   "source": [
    "grouping_path_position = find_grouping_path_position(\n",
    "    cols=PROCESSING_INFO['split_value_columns'],\n",
    "    prefered_item='species',\n",
    "    alternative_index=-1,\n",
    ")\n",
    "grouping_path_position"
   ]
  },
  {
   "cell_type": "code",
   "execution_count": 17,
   "id": "73a1f075",
   "metadata": {},
   "outputs": [],
   "source": [
    "idx_to_char = {int(idx): char for idx, char in PROCESSING_INFO[\"idx_to_char\"].items()}\n",
    "#idx_to_char[-1] = \"[start]\"\n",
    "char_to_idx = {char: idx for idx, char in idx_to_char.items()}"
   ]
  },
  {
   "cell_type": "markdown",
   "id": "powerful-proceeding",
   "metadata": {},
   "source": [
    "## Loading Tensorflow Datasets"
   ]
  },
  {
   "cell_type": "code",
   "execution_count": 18,
   "id": "ee8aadcf",
   "metadata": {},
   "outputs": [],
   "source": [
    "KEEP_CACHE = False"
   ]
  },
  {
   "cell_type": "code",
   "execution_count": 19,
   "id": "b34d7bec",
   "metadata": {},
   "outputs": [],
   "source": [
    "BATCH_SIZE = 512"
   ]
  },
  {
   "cell_type": "code",
   "execution_count": 20,
   "id": "7ee8ccc7",
   "metadata": {},
   "outputs": [],
   "source": [
    "TRAIN_TYPE = 'Train'\n",
    "TEST_TYPE = 'Test'\n",
    "EVAL_TYPE = 'Eval'"
   ]
  },
  {
   "cell_type": "code",
   "execution_count": 21,
   "id": "d696d51d",
   "metadata": {},
   "outputs": [
    {
     "name": "stdout",
     "output_type": "stream",
     "text": [
      "\n",
      "assigned dataset files:\n",
      "#Train = 20\n",
      "e.g.: /scratch/mirko.krause/pdeep/training_columns/tf_datasets/file_7.parquet\n",
      "#Test = 3\n",
      "e.g.: /scratch/mirko.krause/pdeep/training_columns/tf_datasets/file_24.parquet\n",
      "#Eval = 3\n",
      "e.g.: /scratch/mirko.krause/pdeep/training_columns/tf_datasets/file_11.parquet\n"
     ]
    },
    {
     "name": "stderr",
     "output_type": "stream",
     "text": [
      "2021-10-27 14:24:28,510 - mmproteo_attention_model: DEBUG: assigned values:\n",
      "2021-10-27 14:24:28,510 - mmproteo_attention_model: DEBUG: #Train = 20\n",
      "2021-10-27 14:24:28,510 - mmproteo_attention_model: DEBUG: e.g.: file_7.parquet\n",
      "2021-10-27 14:24:28,510 - mmproteo_attention_model: DEBUG: #Test = 3\n",
      "2021-10-27 14:24:28,511 - mmproteo_attention_model: DEBUG: e.g.: file_24.parquet\n",
      "2021-10-27 14:24:28,511 - mmproteo_attention_model: DEBUG: #Eval = 3\n",
      "2021-10-27 14:24:28,511 - mmproteo_attention_model: DEBUG: e.g.: file_11.parquet\n",
      "2021-10-27 14:24:28,511 - mmproteo_attention_model: DEBUG: assigned paths:\n",
      "2021-10-27 14:24:28,511 - mmproteo_attention_model: DEBUG: #Train = 20\n",
      "2021-10-27 14:24:28,512 - mmproteo_attention_model: DEBUG: e.g.: /scratch/mirko.krause/pdeep/training_columns/tf_datasets/file_7.parquet\n",
      "2021-10-27 14:24:28,512 - mmproteo_attention_model: DEBUG: #Test = 3\n",
      "2021-10-27 14:24:28,512 - mmproteo_attention_model: DEBUG: e.g.: /scratch/mirko.krause/pdeep/training_columns/tf_datasets/file_24.parquet\n",
      "2021-10-27 14:24:28,512 - mmproteo_attention_model: DEBUG: #Eval = 3\n",
      "2021-10-27 14:24:28,512 - mmproteo_attention_model: DEBUG: e.g.: /scratch/mirko.krause/pdeep/training_columns/tf_datasets/file_11.parquet\n",
      "2021-10-27 14:24:28,513 - mmproteo_attention_model: dumped file paths into '/scratch/mirko.krause/pdeep/training_columns/tf_datasets/dataset_file_paths.json'\n"
     ]
    }
   ],
   "source": [
    "dataset_file_paths = paths.assign_wildcard_paths_to_splits_grouped_by_path_position_value(\n",
    "    wildcard_path = os.path.join(\n",
    "        DATASET_DUMP_PATH, \n",
    "        '*.parquet',  # filename\n",
    "        *(['*' for _ in PROCESSING_INFO['split_value_columns'] or []])\n",
    "    ),\n",
    "    path_position = grouping_path_position,\n",
    "    splits = {\n",
    "            TRAIN_TYPE: 0.8,\n",
    "            TEST_TYPE: 0.9,\n",
    "            EVAL_TYPE: 1.0\n",
    "        },\n",
    "    paths_dump_file = os.path.join(\n",
    "            DATASET_DUMP_PATH,\n",
    "            \"dataset_file_paths.json\"\n",
    "        ),\n",
    "    skip_existing = KEEP_CACHE,\n",
    "    logger = logger\n",
    ")\n",
    "\n",
    "print()\n",
    "print(\"assigned dataset files:\")\n",
    "visualization.print_list_length_in_dict(dataset_file_paths)"
   ]
  },
  {
   "cell_type": "markdown",
   "id": "ec611252",
   "metadata": {},
   "source": [
    "### Loading corresponding TF datasets"
   ]
  },
  {
   "cell_type": "code",
   "execution_count": 22,
   "id": "aeb97f33",
   "metadata": {},
   "outputs": [
    {
     "data": {
      "text/plain": [
       "((TensorSpec(shape=(89,), dtype=tf.float64, name=None),\n",
       "  TensorSpec(shape=(89,), dtype=tf.float64, name=None)),\n",
       " (TensorSpec(shape=(30,), dtype=tf.int8, name=None),))"
      ]
     },
     "execution_count": 22,
     "metadata": {},
     "output_type": "execute_result"
    }
   ],
   "source": [
    "element_spec = eval(PROCESSING_INFO['element_spec'], {}, {'TensorSpec':tf.TensorSpec, 'tf':tf})\n",
    "element_spec"
   ]
  },
  {
   "cell_type": "markdown",
   "id": "195bfe9c",
   "metadata": {},
   "source": [
    "**In the following step, Tensorflow starts allocating a GPU**"
   ]
  },
  {
   "cell_type": "code",
   "execution_count": 23,
   "id": "b996dc59",
   "metadata": {},
   "outputs": [
    {
     "name": "stderr",
     "output_type": "stream",
     "text": [
      "2021-10-27 14:24:28,520 - mmproteo_attention_model: DEBUG: started initializing tensorflow by creating a first dataset\n",
      "2021-10-27 14:27:42,761 - mmproteo_attention_model: finished initializing tensorflow\n"
     ]
    }
   ],
   "source": [
    "# initialize Tensorflow (might take several minutes (~5 minutes per GPU with 40GB VRAM each))\n",
    "logger.debug(\"started initializing tensorflow by creating a first dataset\")\n",
    "tf.data.Dataset.range(5)\n",
    "logger.info(\"finished initializing tensorflow\")"
   ]
  },
  {
   "cell_type": "code",
   "execution_count": 24,
   "id": "f66eda04",
   "metadata": {},
   "outputs": [],
   "source": [
    "ds_options = tf.data.Options()\n",
    "ds_options.experimental_threading.private_threadpool_size = THREAD_COUNT\n",
    "ds_options.experimental_threading.max_intra_op_parallelism = THREAD_COUNT"
   ]
  },
  {
   "cell_type": "code",
   "execution_count": 25,
   "id": "fbef3700",
   "metadata": {},
   "outputs": [
    {
     "name": "stderr",
     "output_type": "stream",
     "text": [
      "2021-10-27 14:27:42,774 - mmproteo_attention_model: DEBUG: preparing dataset 'Train' with 20 paths\n",
      "2021-10-27 14:27:42,776 - mmproteo_attention_model: DEBUG: applied options to dataset 'Train'\n",
      "2021-10-27 14:27:42,822 - mmproteo_attention_model: DEBUG: loaded dataset 'Train' interleaved\n",
      "2021-10-27 14:27:42,823 - mmproteo_attention_model: DEBUG: skipped caching dataset 'Train'\n",
      "2021-10-27 14:27:42,823 - mmproteo_attention_model: DEBUG: shuffled dataset 'Train'\n",
      "2021-10-27 14:27:42,824 - mmproteo_attention_model: DEBUG: batched dataset 'Train'\n",
      "2021-10-27 14:27:42,824 - mmproteo_attention_model: DEBUG: configured prefetching for dataset 'Train'\n",
      "2021-10-27 14:27:42,824 - mmproteo_attention_model: DEBUG: skipped benchmarking dataset 'Train'\n",
      "2021-10-27 14:27:42,824 - mmproteo_attention_model: prepared dataset 'Train'\n",
      "2021-10-27 14:27:42,825 - mmproteo_attention_model: DEBUG: preparing dataset 'Test' with 3 paths\n",
      "2021-10-27 14:27:42,825 - mmproteo_attention_model: DEBUG: applied options to dataset 'Test'\n",
      "2021-10-27 14:27:42,832 - mmproteo_attention_model: DEBUG: loaded dataset 'Test' interleaved\n",
      "2021-10-27 14:27:42,833 - mmproteo_attention_model: DEBUG: skipped caching dataset 'Test'\n",
      "2021-10-27 14:27:42,833 - mmproteo_attention_model: DEBUG: shuffled dataset 'Test'\n",
      "2021-10-27 14:27:42,833 - mmproteo_attention_model: DEBUG: batched dataset 'Test'\n",
      "2021-10-27 14:27:42,834 - mmproteo_attention_model: DEBUG: configured prefetching for dataset 'Test'\n",
      "2021-10-27 14:27:42,834 - mmproteo_attention_model: DEBUG: skipped benchmarking dataset 'Test'\n",
      "2021-10-27 14:27:42,834 - mmproteo_attention_model: prepared dataset 'Test'\n",
      "2021-10-27 14:27:42,834 - mmproteo_attention_model: DEBUG: preparing dataset 'Eval' with 3 paths\n",
      "2021-10-27 14:27:42,834 - mmproteo_attention_model: DEBUG: applied options to dataset 'Eval'\n",
      "2021-10-27 14:27:42,842 - mmproteo_attention_model: DEBUG: loaded dataset 'Eval' interleaved\n",
      "2021-10-27 14:27:42,842 - mmproteo_attention_model: DEBUG: skipped caching dataset 'Eval'\n",
      "2021-10-27 14:27:42,842 - mmproteo_attention_model: DEBUG: shuffled dataset 'Eval'\n",
      "2021-10-27 14:27:42,843 - mmproteo_attention_model: DEBUG: batched dataset 'Eval'\n",
      "2021-10-27 14:27:42,843 - mmproteo_attention_model: DEBUG: configured prefetching for dataset 'Eval'\n",
      "2021-10-27 14:27:42,843 - mmproteo_attention_model: DEBUG: skipped benchmarking dataset 'Eval'\n",
      "2021-10-27 14:27:42,844 - mmproteo_attention_model: prepared dataset 'Eval'\n"
     ]
    },
    {
     "data": {
      "text/plain": [
       "{'Train': <PrefetchDataset shapes: (((512, 89), (512, 89)), ((512, 30),)), types: ((tf.float64, tf.float64), (tf.int8,))>,\n",
       " 'Test': <PrefetchDataset shapes: (((512, 89), (512, 89)), ((512, 30),)), types: ((tf.float64, tf.float64), (tf.int8,))>,\n",
       " 'Eval': <PrefetchDataset shapes: (((512, 89), (512, 89)), ((512, 30),)), types: ((tf.float64, tf.float64), (tf.int8,))>}"
      ]
     },
     "execution_count": 25,
     "metadata": {},
     "output_type": "execute_result"
    }
   ],
   "source": [
    "datasets = DatasetLoader(\n",
    "    element_spec=element_spec,\n",
    "    batch_size=BATCH_SIZE,\n",
    "    shuffle_buffer_size=100_000,\n",
    "    thread_count=min(int(os.cpu_count()/4), 4),\n",
    "    keep_cache=KEEP_CACHE,\n",
    "    logger=logger,\n",
    "    run_benchmarks=False,\n",
    "    options=ds_options,\n",
    ").load_datasets_by_type(dataset_file_paths)\n",
    "datasets"
   ]
  },
  {
   "cell_type": "code",
   "execution_count": 26,
   "id": "1372f22e",
   "metadata": {},
   "outputs": [],
   "source": [
    "original_datasets = datasets"
   ]
  },
  {
   "cell_type": "code",
   "execution_count": 27,
   "id": "2eb0f82e",
   "metadata": {},
   "outputs": [],
   "source": [
    "def prefix_target_sequences_with_start_token(tensor: tf.Tensor, token: Any = -1) -> tf.Tensor:\n",
    "    return tf.concat(\n",
    "        values=[\n",
    "            tf.broadcast_to(\n",
    "                input=tf.constant(token, dtype=tensor.dtype),\n",
    "                shape=(\n",
    "                    tensor.shape[0],  # batch dimension\n",
    "                    1\n",
    "                )\n",
    "            ),\n",
    "            tensor\n",
    "        ],\n",
    "        axis=1\n",
    "    )\n",
    "\n",
    "\n",
    "def _dataset_mapper_for_transformer(trainings: Tuple[tf.Tensor], targets: Tuple[tf.Tensor]) \\\n",
    "-> Tuple[Dict[str, tf.data.Dataset], tf.data.Dataset]:\n",
    "    inputs = tf.stack(trainings, axis=-1)[:, :500, :]  # cut off too long spectra\n",
    "    inputs = tf.cast(x=inputs, dtype=tf.float32)\n",
    "    targets = prefix_target_sequences_with_start_token(targets[0])\n",
    "    targets = tf.cast(\n",
    "        x=targets,\n",
    "        dtype=tf.int32,\n",
    "    )\n",
    "\n",
    "    return (\n",
    "        {\n",
    "            \"inputs\": inputs,\n",
    "            \"targets\": targets[:, :-1],\n",
    "        },\n",
    "        targets[:, 1:]\n",
    "    )\n",
    "\n",
    "\n",
    "def prepare_dataset_for_transformer_training(dataset: tf.data.Dataset) -> tf.data.Dataset:\n",
    "    return dataset.map(_dataset_mapper_for_transformer)"
   ]
  },
  {
   "cell_type": "code",
   "execution_count": 28,
   "id": "9e595d05",
   "metadata": {},
   "outputs": [],
   "source": [
    "# use these methods if the model shifts the target input itself\n",
    "\n",
    "def _dataset_mapper_for_transformer_unshifted(trainings: Tuple[tf.Tensor], targets: Tuple[tf.Tensor]) \\\n",
    "-> Tuple[Dict[str, tf.data.Dataset], tf.data.Dataset]:\n",
    "    inputs = tf.stack(trainings, axis=-1)[:, :500, :]  # cut off too long spectra\n",
    "    inputs = tf.cast(x=inputs, dtype=tf.float32)\n",
    "\n",
    "    targets = tf.cast(\n",
    "        x=targets[0],\n",
    "        dtype=tf.int32,\n",
    "    )\n",
    "\n",
    "    return (\n",
    "        {\n",
    "            \"inputs\": inputs,\n",
    "            \"targets\": targets,\n",
    "        },\n",
    "        targets\n",
    "    )\n",
    "\n",
    "def prepare_dataset_for_transformer_training_unshifted(dataset: tf.data.Dataset) -> tf.data.Dataset:\n",
    "    return dataset.map(_dataset_mapper_for_transformer_unshifted)"
   ]
  },
  {
   "cell_type": "code",
   "execution_count": 29,
   "id": "a08cd1c8",
   "metadata": {},
   "outputs": [
    {
     "data": {
      "text/plain": [
       "{'Train': <MapDataset shapes: ({inputs: (512, 89, 2), targets: (512, 30)}, (512, 30)), types: ({inputs: tf.float32, targets: tf.int32}, tf.int32)>,\n",
       " 'Test': <MapDataset shapes: ({inputs: (512, 89, 2), targets: (512, 30)}, (512, 30)), types: ({inputs: tf.float32, targets: tf.int32}, tf.int32)>,\n",
       " 'Eval': <MapDataset shapes: ({inputs: (512, 89, 2), targets: (512, 30)}, (512, 30)), types: ({inputs: tf.float32, targets: tf.int32}, tf.int32)>}"
      ]
     },
     "execution_count": 29,
     "metadata": {},
     "output_type": "execute_result"
    }
   ],
   "source": [
    "datasets = {\n",
    "    t: prepare_dataset_for_transformer_training_unshifted(dataset) for t, dataset in original_datasets.items()\n",
    "}\n",
    "datasets"
   ]
  },
  {
   "cell_type": "raw",
   "id": "fd45202d",
   "metadata": {},
   "source": [
    "print(\"original datasets:\")\n",
    "display(tfds.benchmark(original_datasets[TEST_TYPE]))\n",
    "\n",
    "print()\n",
    "\n",
    "print(\"mapped datasets:\")\n",
    "display(tfds.benchmark(datasets[TEST_TYPE]))\n",
    "\n",
    "# not a huge difference"
   ]
  },
  {
   "cell_type": "markdown",
   "id": "determined-company",
   "metadata": {},
   "source": [
    "## Building the Tensorflow Model"
   ]
  },
  {
   "cell_type": "code",
   "execution_count": 30,
   "id": "30c0be79",
   "metadata": {},
   "outputs": [],
   "source": [
    "# taken from: https://github.com/tensorflow/models/blob/027813d334645d6076a72b41b7b87ec30334cbb1/official/nlp/modeling/layers/position_embedding.py#L91\n",
    "def embed_with_sin_and_cos(positions: Union[tf.Tensor, np.ndarray], embedding_width: int) -> tf.Tensor:\n",
    "    \"\"\"\n",
    "    positions: a tensor with the dimensions [batch_size, item count]\n",
    "    \"\"\"\n",
    "    # constants\n",
    "    num_timescales = embedding_width // 2\n",
    "    min_timescale, max_timescale = 1.0, 1.0e4\n",
    "    log_timescale_increment = (\n",
    "        math.log(float(max_timescale) / float(min_timescale)) /\n",
    "        (tf.cast(num_timescales, tf.float32) - 1))\n",
    "    inv_timescales = min_timescale * tf.exp(\n",
    "        tf.cast(tf.range(num_timescales), tf.float32) *\n",
    "        -log_timescale_increment)\n",
    "\n",
    "    # calculations\n",
    "    scaled_time = tf.expand_dims(positions, -1) * tf.expand_dims(\n",
    "        inv_timescales, 0)\n",
    "    position_embeddings = tf.concat(\n",
    "        [tf.sin(scaled_time), tf.cos(scaled_time)], axis=-1)\n",
    "    return position_embeddings"
   ]
  },
  {
   "cell_type": "code",
   "execution_count": 31,
   "id": "ae2f619d",
   "metadata": {},
   "outputs": [
    {
     "data": {
      "text/plain": [
       "0"
      ]
     },
     "execution_count": 31,
     "metadata": {},
     "output_type": "execute_result"
    }
   ],
   "source": [
    "char_to_idx[PROCESSING_INFO['padding_characters'][SEQ]]"
   ]
  },
  {
   "cell_type": "code",
   "execution_count": 32,
   "id": "ce6bb7b6",
   "metadata": {},
   "outputs": [],
   "source": [
    "# heavily based on:\n",
    "# https://github.com/tensorflow/models/blob/master/official/nlp/modeling/models/seq2seq_transformer.py\n",
    "# (29.06.2021)\n",
    "class MyTransformer(Seq2SeqTransformer):\n",
    "    _eos_id: int = char_to_idx[PROCESSING_INFO['padding_characters'][SEQ]]\n",
    "        \n",
    "    def call(self, inputs):\n",
    "        \"\"\"Calculate target logits or inferred target sequences.\n",
    "        Args:\n",
    "          inputs: a dictionary of tensors.\n",
    "            Feature `inputs`: int tensor with shape `[batch_size, input_length]`.\n",
    "            Feature `targets` (optional): None or int tensor with shape\n",
    "              `[batch_size, target_length]`.\n",
    "        Returns:\n",
    "          If targets is defined, then return logits for each word in the target\n",
    "          sequence, which is a float tensor with shape\n",
    "          `(batch_size, target_length, vocab_size)`. If target is `None`, then\n",
    "          generate output sequence one token at a time and\n",
    "          returns a dictionary {\n",
    "              outputs: `(batch_size, decoded_length)`\n",
    "              scores: `(batch_size, 1)`}\n",
    "          Even when `float16` is used, the output tensor(s) are always `float32`.\n",
    "        Raises:\n",
    "          NotImplementedError: If try to use padded decode method on CPU/GPUs.\n",
    "        \"\"\"\n",
    "        sources = inputs[\"inputs\"]\n",
    "        mz = sources[:, :, 0]\n",
    "        intensities = sources[:, :, 1]\n",
    "        targets = inputs.get(\"targets\", None)\n",
    "        \n",
    "        # Prepare inputs to the layer stack by adding positional encodings and applying dropout.\n",
    "\n",
    "        embedded_mz = embed_with_sin_and_cos(mz, self._embedding_width)\n",
    "        embedded_intensities = embedded_mz * tf.expand_dims(intensities, -1)\n",
    "    \n",
    "        sources = embedded_intensities\n",
    "        \n",
    "        # Attention_mask generation.\n",
    "        input_shape = tf_utils.get_shape_list(sources, expected_rank=3)\n",
    "        batch_size = input_shape[0]\n",
    "        input_length = input_shape[1]\n",
    "        channel_count = input_shape[2]\n",
    "        non_padding_sources = tf.not_equal(mz, 0.0)\n",
    "        non_padding_sources = tf.reshape(\n",
    "            tensor=non_padding_sources,\n",
    "            shape=[batch_size, 1, input_length]\n",
    "        )\n",
    "        attention_mask = tf.cast(\n",
    "            x=non_padding_sources,\n",
    "            dtype=sources.dtype\n",
    "        )\n",
    "        broadcast_ones = tf.ones(\n",
    "            shape=[batch_size, input_length, 1],\n",
    "            dtype=sources.dtype\n",
    "        )\n",
    "        attention_mask = broadcast_ones * attention_mask\n",
    "\n",
    "        encoder_inputs = self.encoder_dropout(sources)\n",
    "\n",
    "        encoder_outputs = self.encoder_layer(\n",
    "            encoder_inputs, attention_mask=attention_mask)\n",
    "        \n",
    "        if targets is None:\n",
    "            if self._padded_decode:\n",
    "                max_decode_length = self._decode_max_length\n",
    "            else:\n",
    "                max_decode_length = self._decode_max_length or (\n",
    "                        tf.shape(encoder_outputs)[1] + self._extra_decode_length)\n",
    "            symbols_to_logits_fn = self._get_symbols_to_logits_fn(max_decode_length)\n",
    "\n",
    "            #batch_size = tf.shape(encoder_outputs)[0]\n",
    "            # Create initial set of IDs that will be passed to symbols_to_logits_fn.\n",
    "            initial_ids = tf.zeros([batch_size], dtype=tf.int32)\n",
    "\n",
    "            # Create cache storing decoder attention values for each layer.\n",
    "            init_decode_length = (max_decode_length if self._padded_decode else 0)\n",
    "            num_heads = self.decoder_layer.num_attention_heads\n",
    "            dim_per_head = self._embedding_width // num_heads\n",
    "\n",
    "            # Cache dtype needs to match beam_search dtype.\n",
    "            # pylint: disable=g-complex-comprehension\n",
    "            cache = {\n",
    "                str(layer): {\n",
    "                    \"key\":\n",
    "                        tf.zeros(\n",
    "                            [batch_size, init_decode_length, num_heads, dim_per_head],\n",
    "                            dtype=self.compute_dtype),\n",
    "                    \"value\":\n",
    "                        tf.zeros(\n",
    "                            [batch_size, init_decode_length, num_heads, dim_per_head],\n",
    "                            dtype=self.compute_dtype)\n",
    "                } for layer in range(self.decoder_layer.num_layers)\n",
    "            }\n",
    "            # pylint: enable=g-complex-comprehension\n",
    "\n",
    "            # Add encoder output and attention bias to the cache.\n",
    "            encoder_outputs = tf.cast(encoder_outputs, dtype=self.compute_dtype)\n",
    "            \n",
    "            #attention_mask = tf.cast(\n",
    "            #    tf.reshape(\n",
    "            #        tf.not_equal(sources, 0), [batch_size, 1, input_length]),\n",
    "            #    dtype=self.compute_dtype)\n",
    "            attention_mask = tf.cast(\n",
    "                    tf.not_equal(sources, 0),\n",
    "                dtype=self.compute_dtype)\n",
    "            cache[\"encoder_outputs\"] = encoder_outputs\n",
    "            cache[\"encoder_decoder_attention_mask\"] = attention_mask\n",
    "            \n",
    "            search_parameters = {\n",
    "                \"initial_ids\": initial_ids,\n",
    "                \"initial_cache\": cache,\n",
    "                \"vocab_size\": self._vocab_size,\n",
    "                \"beam_size\": self._beam_size,\n",
    "                \"alpha\": self._alpha,\n",
    "                \"max_decode_length\": max_decode_length,\n",
    "                \"eos_id\": self._eos_id,\n",
    "                \"padded_decode\": self._padded_decode\n",
    "            }\n",
    "            #return search_parameters\n",
    "        \n",
    "            # Use beam search to find the top beam_size sequences and scores.\n",
    "            decoded_ids, scores = beam_search.sequence_beam_search(\n",
    "                symbols_to_logits_fn=symbols_to_logits_fn,\n",
    "                initial_ids=initial_ids,\n",
    "                initial_cache=cache,\n",
    "                vocab_size=self._vocab_size,\n",
    "                beam_size=self._beam_size,\n",
    "                alpha=self._alpha,\n",
    "                max_decode_length=max_decode_length,\n",
    "                eos_id=self._eos_id,\n",
    "                padded_decode=self._padded_decode,\n",
    "                dtype=self.compute_dtype)\n",
    "\n",
    "            # Get the top sequence for each batch element\n",
    "            top_decoded_ids = decoded_ids[:, 0, 1:]\n",
    "            top_scores = scores[:, 0]\n",
    "\n",
    "            return {\"outputs\": top_decoded_ids, \"scores\": top_scores}\n",
    "\n",
    "        decoder_inputs = self.embedding_lookup(targets)\n",
    "        embedding_mask = tf.cast(tf.not_equal(targets, 0), decoder_inputs.dtype)\n",
    "        decoder_inputs *= tf.expand_dims(embedding_mask, -1)\n",
    "        # Shift targets to the right, and remove the last element\n",
    "        # seems smarter than the dataset approach\n",
    "        decoder_inputs = tf.pad(decoder_inputs, [[0, 0], [1, 0], [0, 0]])[:, :-1, :]\n",
    "        \n",
    "        length = tf.shape(decoder_inputs)[1]\n",
    "        pos_encoding = self.position_embedding(decoder_inputs)\n",
    "        pos_encoding = tf.cast(pos_encoding, decoder_inputs.dtype)\n",
    "        decoder_inputs += pos_encoding\n",
    "\n",
    "        decoder_inputs = self.decoder_dropout(decoder_inputs)\n",
    "\n",
    "        decoder_shape = tf_utils.get_shape_list(decoder_inputs, expected_rank=3)\n",
    "        batch_size = decoder_shape[0]\n",
    "        decoder_length = decoder_shape[1]\n",
    "\n",
    "        self_attention_mask = tf.linalg.band_part(tf.ones([length, length]), -1, 0)\n",
    "        self_attention_mask = tf.reshape(self_attention_mask, [1, length, length])\n",
    "        self_attention_mask = tf.tile(self_attention_mask, [batch_size, 1, 1])\n",
    "\n",
    "        attention_mask = tf.cast(\n",
    "            tf.expand_dims(tf.not_equal(sources[:, :, 0], 0), axis=1), dtype=sources.dtype)\n",
    "        attention_mask = tf.tile(attention_mask, [1, decoder_length, 1])\n",
    "\n",
    "        outputs = self.decoder_layer(\n",
    "            decoder_inputs,\n",
    "            encoder_outputs,\n",
    "            memory_mask=self_attention_mask,\n",
    "            target_mask=attention_mask)\n",
    "        \n",
    "        logits = self._embedding_linear(self.embedding_lookup.embeddings, outputs)\n",
    "        # Model outputs should be float32 to avoid numeric issues.\n",
    "        # https://www.tensorflow.org/guide/mixed_precision#building_the_model\n",
    "        logits = tf.cast(logits, tf.float32)\n",
    "        return logits"
   ]
  },
  {
   "cell_type": "code",
   "execution_count": 33,
   "id": "7df3f2b2",
   "metadata": {},
   "outputs": [],
   "source": [
    "def jaccard_distance(elem):\n",
    "    i_true, i_pred = elem[0], elem[1]\n",
    "    unique_true, _ = tf.unique(i_true)\n",
    "    unique_pred, _ = tf.unique(i_pred)\n",
    "    n_unique_true = tf.shape(unique_true)[0]\n",
    "    n_unique_pred = tf.shape(unique_pred)[0]\n",
    "    unique_all, _ = tf.unique(tf.concat(values=[unique_true, unique_pred], axis=-1))\n",
    "    n_unique_all = tf.shape(unique_all)[0]\n",
    "    n_overlap = n_unique_true + n_unique_pred - n_unique_all\n",
    "    return n_overlap / n_unique_all\n",
    "\n",
    "def jaccard_batch_distance(y_true, y_pred):\n",
    "    y_pred = ops.convert_to_tensor_v2_with_dispatch(y_pred)\n",
    "    y_true = ops.convert_to_tensor_v2_with_dispatch(y_true)\n",
    "    y_pred_rank = y_pred.shape.ndims\n",
    "    y_true_rank = y_true.shape.ndims\n",
    "    # If the shape of y_true is (num_samples, 1), squeeze to (num_samples,)\n",
    "    if (y_true_rank is not None) and (y_pred_rank is not None) and (len(\n",
    "            backend.int_shape(y_true)) == len(backend.int_shape(y_pred))):\n",
    "        y_true = array_ops.squeeze(y_true, [-1])\n",
    "    y_pred = math_ops.argmax(y_pred, axis=-1)\n",
    "\n",
    "    # If the predicted output and actual output types don't match, force cast them\n",
    "    # to match.\n",
    "    if backend.dtype(y_pred) != backend.dtype(y_true):\n",
    "        y_pred = math_ops.cast(y_pred, backend.dtype(y_true))\n",
    "    \n",
    "    # 0th dimension is the batch\n",
    "    jaccard = tf.map_fn(fn=jaccard_distance, elems=(y_true, y_pred), fn_output_signature=tf.float64)\n",
    "    return math_ops.cast(jaccard, backend.floatx())\n",
    "    \n",
    "\n",
    "class JaccardBatchDistance(MeanMetricWrapper):\n",
    "    def __init__(self, name='jaccard_batch_distance', dtype=None):\n",
    "        super(JaccardBatchDistance, self).__init__(\n",
    "            jaccard_batch_distance, name, dtype=dtype)"
   ]
  },
  {
   "cell_type": "code",
   "execution_count": 34,
   "id": "c19dbcc5",
   "metadata": {},
   "outputs": [],
   "source": [
    "def leuvenshtein_sparse_tensor_batch_distance(y_true: tf.sparse.SparseTensor, y_pred: tf.sparse.SparseTensor) -> tf.Tensor:\n",
    "    return tf.edit_distance(\n",
    "        hypothesis=y_pred,\n",
    "        truth=y_true,\n",
    "        normalize=False,\n",
    "    )\n",
    "\n",
    "def leuvenshtein_batch_distance(y_true: tf.Tensor, y_pred: tf.Tensor, sparse_pred: bool = True) -> tf.Tensor:\n",
    "    y_pred = ops.convert_to_tensor_v2_with_dispatch(y_pred)\n",
    "    y_true = ops.convert_to_tensor_v2_with_dispatch(y_true)\n",
    "    \n",
    "    if sparse_pred:\n",
    "        y_pred = math_ops.argmax(y_pred, axis=-1)\n",
    "    \n",
    "    y_pred = tf.sparse.from_dense(y_pred)\n",
    "    y_true = tf.sparse.from_dense(y_true)\n",
    "\n",
    "    # If the predicted output and actual output types don't match, force cast them\n",
    "    # to match.\n",
    "    if backend.dtype(y_pred) != backend.dtype(y_true):\n",
    "        y_pred = math_ops.cast(y_pred, backend.dtype(y_true))\n",
    "    \n",
    "    # 0th dimension is the batch\n",
    "    leuvenshtein = leuvenshtein_sparse_tensor_batch_distance(y_true, y_pred)\n",
    "    return math_ops.cast(leuvenshtein, backend.floatx())\n",
    "    \n",
    "\n",
    "class LeuvenshteinBatchDistance(MeanMetricWrapper):\n",
    "    def __init__(self, name='leuvenshtein_batch_distance', dtype=None):\n",
    "        super(LeuvenshteinBatchDistance, self).__init__(\n",
    "            leuvenshtein_batch_distance, name, dtype=dtype)"
   ]
  },
  {
   "cell_type": "code",
   "execution_count": 35,
   "id": "af57d9f4",
   "metadata": {},
   "outputs": [],
   "source": [
    "# copied from https://github.com/tensorflow/tensorflow/blob/v2.6.0/tensorflow/python/keras/metrics.py\n",
    "\n",
    "def sparse_categorical_accuracy(y_true, y_pred):\n",
    "    y_pred = ops.convert_to_tensor_v2_with_dispatch(y_pred)\n",
    "    y_true = ops.convert_to_tensor_v2_with_dispatch(y_true)\n",
    "    y_pred_rank = y_pred.shape.ndims\n",
    "    y_true_rank = y_true.shape.ndims\n",
    "    # If the shape of y_true is (num_samples, 1), squeeze to (num_samples,)\n",
    "    if (y_true_rank is not None) and (y_pred_rank is not None) and (len(\n",
    "        backend.int_shape(y_true)) == len(backend.int_shape(y_pred))):\n",
    "        y_true = array_ops.squeeze(y_true, [-1])\n",
    "    y_pred = math_ops.argmax(y_pred, axis=-1)\n",
    "\n",
    "    # If the predicted output and actual output types don't match, force cast them\n",
    "    # to match.\n",
    "    if backend.dtype(y_pred) != backend.dtype(y_true):\n",
    "        y_pred = math_ops.cast(y_pred, backend.dtype(y_true))\n",
    "\n",
    "    return math_ops.cast(math_ops.equal(y_true, y_pred), backend.floatx())\n",
    "\n",
    "class SparseCategoricalAccuracy(MeanMetricWrapper):\n",
    "    def __init__(self, name='sparse_categorical_accuracy', dtype=None):\n",
    "        super(SparseCategoricalAccuracy, self).__init__(\n",
    "            sparse_categorical_accuracy, name, dtype=dtype)"
   ]
  },
  {
   "cell_type": "code",
   "execution_count": 36,
   "id": "76512ec7",
   "metadata": {},
   "outputs": [],
   "source": [
    "TRANSFORMER_LAYERS = 6\n",
    "ATTENTION_HEADS = 16\n",
    "EMBEDDING_WIDTH = 512  # d_model\n",
    "LEARNING_RATE = 10**-5"
   ]
  },
  {
   "cell_type": "code",
   "execution_count": 37,
   "id": "ec54b0a4",
   "metadata": {},
   "outputs": [],
   "source": [
    "def build_model() -> tf.keras.Model:\n",
    "    encoder_layer = TransformerEncoder(\n",
    "        num_attention_heads=ATTENTION_HEADS,\n",
    "        num_layers=TRANSFORMER_LAYERS,\n",
    "    )\n",
    "    decoder_layer = TransformerDecoder(\n",
    "        num_attention_heads=ATTENTION_HEADS,\n",
    "        num_layers=TRANSFORMER_LAYERS,\n",
    "    )\n",
    "\n",
    "    model = MyTransformer(\n",
    "        vocab_size=len(idx_to_char),\n",
    "        embedding_width=EMBEDDING_WIDTH,\n",
    "        encoder_layer=encoder_layer,\n",
    "        decoder_layer=decoder_layer,\n",
    "        name=f\"mmproteo_transformer_{utils.get_current_time_str()}\",\n",
    "        decode_max_length=PROCESSING_INFO['padding_lengths'][SEQ],\n",
    "    )\n",
    "\n",
    "    model.compile(\n",
    "        optimizer=tf.keras.optimizers.Adam(\n",
    "            learning_rate=LEARNING_RATE,\n",
    "            beta_2=0.98,  # values taken from the 'Attention is all you need' paper\n",
    "            epsilon=10**-9,\n",
    "        ),\n",
    "        loss=tf.keras.losses.SparseCategoricalCrossentropy(from_logits=True),  #masked_loss,\n",
    "        metrics=[\n",
    "            SparseCategoricalAccuracy(),\n",
    "            JaccardBatchDistance(),\n",
    "            LeuvenshteinBatchDistance(),\n",
    "        ]\n",
    "    )\n",
    "    return model"
   ]
  },
  {
   "cell_type": "code",
   "execution_count": 38,
   "id": "96a40234",
   "metadata": {
    "pycharm": {
     "is_executing": true
    }
   },
   "outputs": [
    {
     "name": "stdout",
     "output_type": "stream",
     "text": [
      "INFO:tensorflow:Using MirroredStrategy with devices ('/job:localhost/replica:0/task:0/device:GPU:0',)\n"
     ]
    }
   ],
   "source": [
    "mirrored_strategy = tf.distribute.MirroredStrategy()"
   ]
  },
  {
   "cell_type": "code",
   "execution_count": 39,
   "id": "1e8e9b04",
   "metadata": {},
   "outputs": [],
   "source": [
    "MODELS_PATH = os.path.join(DUMP_PATH, \"models\")"
   ]
  },
  {
   "cell_type": "code",
   "execution_count": 40,
   "id": "52b828d1",
   "metadata": {},
   "outputs": [],
   "source": [
    "def create_model() -> tf.keras.Model:\n",
    "    with mirrored_strategy.scope():\n",
    "        model = build_model()\n",
    "    global MODEL_PATH\n",
    "    MODEL_PATH = os.path.join(MODELS_PATH, model.name)\n",
    "    utils.ensure_dir_exists(MODEL_PATH)\n",
    "    logger.info(f\"created new model '{model.name}'\")\n",
    "    return model"
   ]
  },
  {
   "cell_type": "code",
   "execution_count": 41,
   "id": "87aac5ca",
   "metadata": {},
   "outputs": [
    {
     "name": "stdout",
     "output_type": "stream",
     "text": [
      "INFO:tensorflow:Reduce to /job:localhost/replica:0/task:0/device:CPU:0 then broadcast to ('/job:localhost/replica:0/task:0/device:CPU:0',).\n",
      "INFO:tensorflow:Reduce to /job:localhost/replica:0/task:0/device:CPU:0 then broadcast to ('/job:localhost/replica:0/task:0/device:CPU:0',).\n",
      "INFO:tensorflow:Reduce to /job:localhost/replica:0/task:0/device:CPU:0 then broadcast to ('/job:localhost/replica:0/task:0/device:CPU:0',).\n",
      "INFO:tensorflow:Reduce to /job:localhost/replica:0/task:0/device:CPU:0 then broadcast to ('/job:localhost/replica:0/task:0/device:CPU:0',).\n",
      "INFO:tensorflow:Reduce to /job:localhost/replica:0/task:0/device:CPU:0 then broadcast to ('/job:localhost/replica:0/task:0/device:CPU:0',).\n",
      "INFO:tensorflow:Reduce to /job:localhost/replica:0/task:0/device:CPU:0 then broadcast to ('/job:localhost/replica:0/task:0/device:CPU:0',).\n",
      "INFO:tensorflow:Reduce to /job:localhost/replica:0/task:0/device:CPU:0 then broadcast to ('/job:localhost/replica:0/task:0/device:CPU:0',).\n",
      "INFO:tensorflow:Reduce to /job:localhost/replica:0/task:0/device:CPU:0 then broadcast to ('/job:localhost/replica:0/task:0/device:CPU:0',).\n",
      "INFO:tensorflow:Reduce to /job:localhost/replica:0/task:0/device:CPU:0 then broadcast to ('/job:localhost/replica:0/task:0/device:CPU:0',).\n",
      "INFO:tensorflow:Reduce to /job:localhost/replica:0/task:0/device:CPU:0 then broadcast to ('/job:localhost/replica:0/task:0/device:CPU:0',).\n"
     ]
    },
    {
     "name": "stderr",
     "output_type": "stream",
     "text": [
      "2021-10-27 14:27:43,334 - mmproteo_attention_model: created new model 'mmproteo_transformer_20211027-142742'\n"
     ]
    }
   ],
   "source": [
    "model = create_model()"
   ]
  },
  {
   "cell_type": "code",
   "execution_count": 42,
   "id": "9d4032e2",
   "metadata": {},
   "outputs": [
    {
     "name": "stderr",
     "output_type": "stream",
     "text": [
      "2021-10-27 14:27:43,338 - mmproteo_attention_model: DEBUG: started a first prediction\n"
     ]
    },
    {
     "data": {
      "text/plain": [
       "array([[[ 2.60377228e-01,  2.52109575e+00, -7.51939416e-01,\n",
       "          2.61526752e+00,  1.07287288e+00, -1.57952023e+00,\n",
       "          8.78746152e-01, -1.08122075e+00, -6.30190790e-01,\n",
       "         -3.62528265e-01,  6.00876100e-02,  3.92635912e-01,\n",
       "         -6.78080678e-01,  8.63822341e-01,  5.65050542e-01,\n",
       "          5.32669306e-01, -2.04448447e-01, -5.74154198e-01,\n",
       "          1.05860436e+00,  1.18807697e+00,  9.55575779e-02,\n",
       "          1.33618712e+00],\n",
       "        [-4.49909866e-01,  2.07517886e+00, -6.70637012e-01,\n",
       "          1.92726338e+00,  7.95788646e-01, -1.43821609e+00,\n",
       "          1.20233655e+00, -8.00189972e-01, -5.36046088e-01,\n",
       "         -1.57500789e-01, -5.77222347e-01, -3.38198245e-01,\n",
       "         -1.07707953e+00,  8.40780735e-01,  1.11978805e+00,\n",
       "          3.07505459e-01, -2.50193328e-01, -5.46843648e-01,\n",
       "          9.27609324e-01,  6.59526682e+00, -4.49559212e-01,\n",
       "          1.32921314e+00],\n",
       "        [ 6.09669924e-01,  1.67681742e+00, -8.89184475e-01,\n",
       "          2.12824678e+00,  1.27225292e+00, -1.30429602e+00,\n",
       "          1.36589718e+00, -1.15448773e+00, -2.38369942e-01,\n",
       "          5.98400116e+00,  5.55670261e-01, -6.25302017e-01,\n",
       "         -9.69692588e-01,  8.16894829e-01,  1.38807619e+00,\n",
       "          6.80119872e-01, -1.90375581e-01, -8.42422605e-01,\n",
       "          1.67905056e+00,  8.38798046e-01,  6.12136275e-02,\n",
       "          1.02814460e+00],\n",
       "        [ 4.70869809e-01,  1.84604096e+00, -1.26744080e+00,\n",
       "          2.33674788e+00,  6.19451141e+00, -1.75910437e+00,\n",
       "          1.18458772e+00, -6.25812232e-01,  4.12920415e-02,\n",
       "          2.40732938e-01,  1.93902865e-01, -3.94694269e-01,\n",
       "         -1.05251622e+00,  8.09743345e-01,  1.65403879e+00,\n",
       "          2.29655206e-01, -7.69050598e-01, -5.22628725e-01,\n",
       "          1.22537386e+00,  1.85749030e+00,  3.87391150e-01,\n",
       "          6.76285863e-01],\n",
       "        [ 5.21528006e-01,  2.65708232e+00, -7.39670098e-01,\n",
       "          2.02365899e+00,  8.40036869e-01, -1.32020044e+00,\n",
       "          1.11801195e+00, -1.19591069e+00, -8.83269310e-02,\n",
       "         -4.56583291e-01,  1.14212587e-01, -8.50441039e-01,\n",
       "         -1.14153171e+00,  5.58228672e-01,  1.68941402e+00,\n",
       "          3.67973953e-01,  6.11066580e+00, -5.52487969e-01,\n",
       "          1.16245580e+00,  1.38940692e+00, -1.95436031e-02,\n",
       "          5.69774985e-01],\n",
       "        [ 4.06457186e-01,  2.28237605e+00, -7.99724400e-01,\n",
       "          2.39943933e+00,  1.40281606e+00, -1.94854307e+00,\n",
       "          8.43726933e-01,  4.92956734e+00, -1.42183709e+00,\n",
       "         -1.24292028e+00, -2.27259606e-01, -4.13187206e-01,\n",
       "         -1.09313309e+00,  6.32028580e-01,  8.39482844e-01,\n",
       "         -2.31145144e-01, -2.53651559e-01, -9.18543696e-01,\n",
       "          1.06960928e+00,  1.93562341e+00,  2.37731755e-01,\n",
       "          1.04629207e+00],\n",
       "        [ 3.73564750e-01,  1.95015204e+00, -1.11155581e+00,\n",
       "          2.38338661e+00,  6.44435978e+00, -1.87977815e+00,\n",
       "          1.15827739e+00, -7.98827946e-01,  6.94745779e-03,\n",
       "         -2.19359100e-02,  2.41570175e-01, -3.04574192e-01,\n",
       "         -9.66059089e-01,  7.49364316e-01,  1.35275793e+00,\n",
       "          1.27067149e-01, -5.89760721e-01, -6.36084616e-01,\n",
       "          1.35656035e+00,  1.86174202e+00,  6.46975756e-01,\n",
       "          7.68296003e-01],\n",
       "        [-3.96323234e-01,  1.78426814e+00,  5.51812887e+00,\n",
       "          1.61825836e+00,  1.31189179e+00, -9.55034614e-01,\n",
       "          7.86788344e-01, -9.87919629e-01,  1.88093424e-01,\n",
       "         -5.87764204e-01, -3.14802855e-01, -3.40386331e-01,\n",
       "         -7.26964951e-01,  3.06096077e-01,  9.40279841e-01,\n",
       "          6.36850297e-02,  2.18561172e-01, -1.04508150e+00,\n",
       "          1.00908923e+00,  1.35333383e+00,  2.46128023e-01,\n",
       "          9.74615753e-01],\n",
       "        [-1.09228961e-01,  2.42840314e+00, -9.53764021e-01,\n",
       "          1.81718981e+00,  1.37483060e+00, -1.54851508e+00,\n",
       "          1.25060344e+00, -1.11280835e+00, -7.54111707e-01,\n",
       "         -2.27270693e-01,  3.52071747e-02, -8.86943936e-01,\n",
       "         -7.44038165e-01,  1.12284243e+00,  7.40941477e+00,\n",
       "          1.16781759e+00,  8.95199180e-03, -1.31801522e+00,\n",
       "          5.78969836e-01,  1.70509446e+00, -7.57890344e-02,\n",
       "          4.47120667e-01],\n",
       "        [-1.87461957e-01,  2.51777816e+00, -9.77653682e-01,\n",
       "          1.90101349e+00,  1.35314524e+00, -1.61040974e+00,\n",
       "          1.27201200e+00, -1.11848414e+00, -8.07895124e-01,\n",
       "         -1.07678786e-01,  6.62293062e-02, -9.98072922e-01,\n",
       "         -7.29083538e-01,  1.11767244e+00,  7.44659615e+00,\n",
       "          1.37153673e+00,  4.52772826e-02, -1.34634542e+00,\n",
       "          4.73051816e-01,  1.79516482e+00, -3.67695689e-02,\n",
       "          3.89064252e-01],\n",
       "        [ 1.35616213e-01,  2.98753834e+00, -8.70887876e-01,\n",
       "          2.31412220e+00,  9.23766971e-01, -1.55571055e+00,\n",
       "          9.07774806e-01, -1.28970492e+00, -2.12871850e-01,\n",
       "         -2.02827036e-01,  3.24005246e-01, -9.51137662e-01,\n",
       "         -1.03489709e+00,  4.74990815e-01,  1.67206550e+00,\n",
       "          6.56221032e-01,  6.35779905e+00, -7.41623461e-01,\n",
       "          8.75750899e-01,  1.34802568e+00,  2.76633382e-01,\n",
       "          7.25055516e-01],\n",
       "        [ 2.14482114e-01,  1.52713656e+00, -9.91999149e-01,\n",
       "          2.78915048e+00,  1.55848944e+00, -1.43659639e+00,\n",
       "          1.39100480e+00, -1.43746591e+00, -2.83787608e-01,\n",
       "          6.03277254e+00,  3.74975890e-01, -1.06074476e+00,\n",
       "         -8.53370786e-01,  6.83320761e-01,  1.12783861e+00,\n",
       "          1.12432528e+00,  4.37305272e-02, -6.61996961e-01,\n",
       "          1.26729405e+00,  1.02736819e+00,  5.09735227e-01,\n",
       "          7.29926944e-01],\n",
       "        [ 1.01934373e-02,  2.09102464e+00, -8.97997141e-01,\n",
       "          2.76092768e+00,  1.23816502e+00, -1.88626456e+00,\n",
       "          1.31535041e+00, -1.23121250e+00, -1.96105838e-01,\n",
       "          2.84880966e-01, -7.71468759e-01, -8.31369758e-01,\n",
       "         -1.25557625e+00,  6.20114326e-01,  1.91548109e+00,\n",
       "          7.23310137e+00,  3.16808194e-01, -3.12498927e-01,\n",
       "          5.82777917e-01,  1.21552038e+00,  3.17832083e-01,\n",
       "          1.56932995e-01],\n",
       "        [-8.35128665e-01,  1.97130132e+00, -8.77635956e-01,\n",
       "          3.09014940e+00,  1.17008460e+00,  4.96357346e+00,\n",
       "          8.63470793e-01, -1.67248130e+00,  3.27298462e-01,\n",
       "         -1.32328317e-01, -5.09048939e-01, -6.51394606e-01,\n",
       "         -9.51833487e-01,  1.39241743e+00,  6.08539820e-01,\n",
       "          2.04113469e-01, -1.51570916e-01, -1.13700581e+00,\n",
       "          1.22013187e+00,  1.32654345e+00,  4.41098809e-01,\n",
       "          1.03532386e+00],\n",
       "        [ 1.06394932e-01,  2.21019244e+00, -1.03625226e+00,\n",
       "          2.98129153e+00,  1.30497861e+00, -2.04116201e+00,\n",
       "          5.87778032e-01,  4.67170477e+00, -9.89999115e-01,\n",
       "         -1.00940812e+00, -3.73996973e-01, -6.58809066e-01,\n",
       "         -8.92306089e-01,  7.43679047e-01,  8.86942983e-01,\n",
       "          2.41433233e-01,  1.86583072e-01, -6.18383288e-01,\n",
       "          6.63322687e-01,  1.80020404e+00,  2.09273234e-01,\n",
       "          9.10164475e-01],\n",
       "        [ 7.66247511e-02,  2.03828073e+00, -7.18899429e-01,\n",
       "          2.83174133e+00,  1.07174420e+00, -1.79152441e+00,\n",
       "          1.19989717e+00, -1.45456660e+00,  1.33381188e-01,\n",
       "          1.53927743e-01, -9.95573282e-01, -7.54482329e-01,\n",
       "         -1.11987484e+00,  6.93444490e-01,  2.02826500e+00,\n",
       "          7.32854176e+00,  5.81651747e-01, -2.62807786e-01,\n",
       "          6.04921579e-01,  1.04111803e+00,  3.38160209e-02,\n",
       "          1.46775067e-01],\n",
       "        [-1.08973712e-01,  2.43470335e+00, -1.12965453e+00,\n",
       "          2.51653528e+00,  1.25287127e+00, -1.72272956e+00,\n",
       "          6.23781443e-01, -1.25361967e+00,  1.96728706e-01,\n",
       "         -3.58868062e-01, -2.91487873e-01,  6.59485769e+00,\n",
       "         -5.19968867e-01,  1.23707438e+00,  5.19959092e-01,\n",
       "          7.21162319e-01,  3.22177798e-01, -9.32926178e-01,\n",
       "          6.17497325e-01,  1.13921666e+00, -3.08239460e-01,\n",
       "          1.15578616e+00],\n",
       "        [-1.78646445e-01,  2.32975411e+00, -7.94320464e-01,\n",
       "          3.18926811e+00,  1.10132086e+00, -1.35085261e+00,\n",
       "          5.93912601e-01, -1.32093012e+00, -1.51650548e-01,\n",
       "         -3.26697588e-01,  8.94758031e-02, -5.53448319e-01,\n",
       "         -6.21079326e-01,  3.23082179e-01,  6.71773612e-01,\n",
       "          2.17590660e-01,  4.11214024e-01, -1.21979070e+00,\n",
       "          9.50597644e-01,  1.19410193e+00,  2.69428015e-01,\n",
       "          6.79486799e+00],\n",
       "        [-8.97048712e-02,  2.40748596e+00, -8.30452681e-01,\n",
       "          3.00063038e+00,  1.53974223e+00, -1.77395058e+00,\n",
       "          1.40494347e+00, -1.40486491e+00, -3.81979108e-01,\n",
       "          4.40039814e-01,  6.50844622e+00, -9.03348982e-01,\n",
       "         -6.50496006e-01,  1.19562232e+00,  1.27682877e+00,\n",
       "         -4.63548303e-03,  4.46803004e-01, -1.19578886e+00,\n",
       "          9.52492297e-01,  1.14239550e+00,  4.58662286e-02,\n",
       "          1.39133024e+00],\n",
       "        [ 3.59774768e-01,  1.83249474e+00, -1.06171060e+00,\n",
       "          3.06802750e+00,  1.52671242e+00, -1.80427814e+00,\n",
       "          1.13049269e+00, -1.60820436e+00, -1.88258410e-01,\n",
       "         -3.84071678e-01, -3.72296602e-01, -1.03600335e+00,\n",
       "         -1.06070876e+00,  9.10260975e-01,  1.09506917e+00,\n",
       "          3.97990346e-01,  4.39253569e-01, -8.63782167e-01,\n",
       "          1.07098711e+00,  1.56638193e+00, -3.86521183e-02,\n",
       "          6.10917747e-01],\n",
       "        [ 3.17918181e-01,  1.83796120e+00, -9.48966920e-01,\n",
       "          3.07440233e+00,  1.67006922e+00, -1.68853259e+00,\n",
       "          1.07271934e+00, -1.58406723e+00, -4.29201126e-02,\n",
       "         -3.61794889e-01, -2.09127247e-01, -8.91721845e-01,\n",
       "         -1.00729620e+00,  8.89441967e-01,  1.03575850e+00,\n",
       "          3.69442046e-01,  4.13745046e-01, -8.20776105e-01,\n",
       "          1.08259511e+00,  1.53520989e+00, -5.80033064e-02,\n",
       "          6.27951443e-01],\n",
       "        [ 2.35570341e-01,  1.92239010e+00, -8.28788042e-01,\n",
       "          3.05856919e+00,  1.70907855e+00, -1.56709230e+00,\n",
       "          9.90382850e-01, -1.52332115e+00,  4.11914587e-02,\n",
       "         -3.41259807e-01, -6.04249835e-02, -6.96398437e-01,\n",
       "         -8.87544155e-01,  8.55032682e-01,  9.71076488e-01,\n",
       "          3.47822577e-01,  4.15553629e-01, -7.87473142e-01,\n",
       "          1.03229582e+00,  1.52346539e+00, -1.13819882e-01,\n",
       "          6.94560170e-01],\n",
       "        [ 1.87152296e-01,  2.03641057e+00, -7.54270792e-01,\n",
       "          3.00223947e+00,  1.67561090e+00, -1.48210251e+00,\n",
       "          9.07214105e-01, -1.45701170e+00,  2.63794661e-02,\n",
       "         -3.14426512e-01,  2.66299024e-03, -5.54822326e-01,\n",
       "         -7.79522836e-01,  8.27003241e-01,  9.16562915e-01,\n",
       "          3.34680229e-01,  4.51700747e-01, -7.69311130e-01,\n",
       "          9.81395900e-01,  1.53824449e+00, -1.44731194e-01,\n",
       "          7.61819243e-01],\n",
       "        [ 2.20530391e-01,  2.13834238e+00, -7.54276514e-01,\n",
       "          2.89702559e+00,  1.62016094e+00, -1.43655610e+00,\n",
       "          8.45179737e-01, -1.41992593e+00, -2.49435902e-02,\n",
       "         -3.02656829e-01, -3.44236232e-02, -4.72395539e-01,\n",
       "         -7.28206038e-01,  8.59433770e-01,  8.46634269e-01,\n",
       "          2.90293157e-01,  5.02004445e-01, -7.61564732e-01,\n",
       "          9.44975138e-01,  1.55812740e+00, -1.38891652e-01,\n",
       "          8.02436292e-01],\n",
       "        [ 3.23847741e-01,  2.17899251e+00, -8.17919314e-01,\n",
       "          2.80870128e+00,  1.58868921e+00, -1.43787563e+00,\n",
       "          8.17853689e-01, -1.37863350e+00, -8.33444595e-02,\n",
       "         -3.39532971e-01, -1.30422324e-01, -4.70807761e-01,\n",
       "         -7.41047919e-01,  9.34446931e-01,  7.80988932e-01,\n",
       "          2.56977290e-01,  5.54948390e-01, -7.63374150e-01,\n",
       "          9.78168786e-01,  1.58272302e+00, -1.27546191e-01,\n",
       "          8.22213292e-01],\n",
       "        [ 4.22405243e-01,  2.15331674e+00, -8.98680449e-01,\n",
       "          2.77516603e+00,  1.57660031e+00, -1.48173952e+00,\n",
       "          8.39719057e-01, -1.34725285e+00, -1.19747400e-01,\n",
       "         -3.87924194e-01, -2.67288774e-01, -5.68465054e-01,\n",
       "         -7.64745533e-01,  1.01616478e+00,  7.49565482e-01,\n",
       "          2.93792307e-01,  6.36451185e-01, -7.66508043e-01,\n",
       "          1.03963268e+00,  1.60815287e+00, -1.30183220e-01,\n",
       "          8.05300593e-01],\n",
       "        [ 4.17954504e-01,  2.10816884e+00, -1.01245618e+00,\n",
       "          2.84484315e+00,  1.57430553e+00, -1.56387496e+00,\n",
       "          9.12827849e-01, -1.34658051e+00, -1.13960803e-01,\n",
       "         -4.06523138e-01, -3.81091326e-01, -7.06039786e-01,\n",
       "         -7.61669457e-01,  1.12824500e+00,  7.71144152e-01,\n",
       "          3.69206607e-01,  7.43113637e-01, -7.55355239e-01,\n",
       "          1.06125033e+00,  1.63114262e+00, -1.62250280e-01,\n",
       "          7.26440787e-01],\n",
       "        [ 3.09565812e-01,  2.05119562e+00, -1.13377678e+00,\n",
       "          2.97197580e+00,  1.53540504e+00, -1.66267943e+00,\n",
       "          9.95045662e-01, -1.31461334e+00, -1.07000351e-01,\n",
       "         -4.32015777e-01, -3.91216516e-01, -7.97232807e-01,\n",
       "         -7.35096097e-01,  1.18894958e+00,  8.37162614e-01,\n",
       "          4.80163932e-01,  7.86404014e-01, -7.24776506e-01,\n",
       "          9.79408026e-01,  1.63943219e+00, -1.88115433e-01,\n",
       "          6.38899863e-01],\n",
       "        [ 1.61012381e-01,  2.02669287e+00, -1.17749190e+00,\n",
       "          3.06884432e+00,  1.48686039e+00, -1.74784398e+00,\n",
       "          1.04199433e+00, -1.28682160e+00, -1.37455821e-01,\n",
       "         -4.63803172e-01, -3.51611465e-01, -8.09032857e-01,\n",
       "         -6.96102679e-01,  1.16361272e+00,  8.90733898e-01,\n",
       "          6.01169527e-01,  7.52682507e-01, -6.49729133e-01,\n",
       "          8.48658979e-01,  1.61646342e+00, -2.03399271e-01,\n",
       "          5.79053104e-01],\n",
       "        [ 6.60752356e-02,  2.04719162e+00, -1.15293038e+00,\n",
       "          3.10632396e+00,  1.45165527e+00, -1.77949584e+00,\n",
       "          1.07663131e+00, -1.26637065e+00, -1.97720587e-01,\n",
       "         -4.76208508e-01, -2.75235116e-01, -7.69730806e-01,\n",
       "         -6.82326913e-01,  1.10581636e+00,  9.19371307e-01,\n",
       "          6.86386228e-01,  6.68726444e-01, -5.40754735e-01,\n",
       "          7.09475100e-01,  1.58191133e+00, -1.97971359e-01,\n",
       "          5.33052683e-01]]], dtype=float32)"
      ]
     },
     "execution_count": 42,
     "metadata": {},
     "output_type": "execute_result"
    }
   ],
   "source": [
    "logger.debug(\"started a first prediction\")\n",
    "model.predict(datasets[EVAL_TYPE].unbatch().batch(1).take(1))"
   ]
  },
  {
   "cell_type": "code",
   "execution_count": 43,
   "id": "28df9a2b",
   "metadata": {},
   "outputs": [
    {
     "name": "stderr",
     "output_type": "stream",
     "text": [
      "2021-10-27 14:29:19,924 - mmproteo_attention_model: finished a first prediction - Tensorflow should be ready now\n"
     ]
    }
   ],
   "source": [
    "logger.info(\"finished a first prediction - Tensorflow should be ready now\")"
   ]
  },
  {
   "cell_type": "code",
   "execution_count": 44,
   "id": "456b69eb",
   "metadata": {
    "pycharm": {
     "is_executing": true
    }
   },
   "outputs": [
    {
     "data": {
      "text/plain": [
       "'/scratch/mirko.krause/pdeep/models/mmproteo_transformer_20211027-142742'"
      ]
     },
     "execution_count": 44,
     "metadata": {},
     "output_type": "execute_result"
    }
   ],
   "source": [
    "MODEL_PATH"
   ]
  },
  {
   "cell_type": "code",
   "execution_count": 45,
   "id": "04bbca25",
   "metadata": {
    "pycharm": {
     "is_executing": true
    }
   },
   "outputs": [
    {
     "data": {
      "image/png": "[encoded data removed]",
      "text/plain": [
       "<IPython.core.display.Image object>"
      ]
     },
     "execution_count": 45,
     "metadata": {},
     "output_type": "execute_result"
    }
   ],
   "source": [
    "tf.keras.utils.plot_model(\n",
    "    model=model,\n",
    "    to_file=os.path.join(MODEL_PATH, \"model.png\"),\n",
    "    show_shapes=True,\n",
    "    expand_nested=True,\n",
    ")"
   ]
  },
  {
   "cell_type": "code",
   "execution_count": 46,
   "id": "fd410eda",
   "metadata": {
    "pycharm": {
     "is_executing": true
    }
   },
   "outputs": [
    {
     "name": "stdout",
     "output_type": "stream",
     "text": [
      "Model: \"mmproteo_transformer_20211027-142742\"\n",
      "_________________________________________________________________\n",
      "Layer (type)                 Output Shape              Param #   \n",
      "=================================================================\n",
      "on_device_embedding (OnDevic multiple                  11264     \n",
      "_________________________________________________________________\n",
      "transformer_encoder (Transfo multiple                  18903040  \n",
      "_________________________________________________________________\n",
      "transformer_decoder (Transfo multiple                  25200640  \n",
      "_________________________________________________________________\n",
      "relative_position_embedding  multiple                  0         \n",
      "_________________________________________________________________\n",
      "dropout (Dropout)            multiple                  0         \n",
      "_________________________________________________________________\n",
      "dropout_1 (Dropout)          multiple                  0         \n",
      "=================================================================\n",
      "Total params: 44,114,944\n",
      "Trainable params: 44,114,944\n",
      "Non-trainable params: 0\n",
      "_________________________________________________________________\n"
     ]
    }
   ],
   "source": [
    "with open(os.path.join(MODEL_PATH, \"summary.txt\"), 'w') as file:\n",
    "    def write_lines(line: str) -> None:\n",
    "        file.write(line)\n",
    "        file.write(\"\\n\")\n",
    "    model.summary(print_fn=write_lines)\n",
    "model.summary()"
   ]
  },
  {
   "cell_type": "code",
   "execution_count": 47,
   "id": "2842ef24",
   "metadata": {
    "pycharm": {
     "is_executing": true
    }
   },
   "outputs": [
    {
     "name": "stdout",
     "output_type": "stream",
     "text": [
      "not implemented\n"
     ]
    }
   ],
   "source": [
    "try:\n",
    "    with open(os.path.join(MODEL_PATH, \"model.json\"), 'w') as file:\n",
    "        file.write(model.to_json())\n",
    "\n",
    "    with open(os.path.join(MODEL_PATH, \"model.yaml\"), 'w') as file:\n",
    "        file.write(model.to_yaml())\n",
    "except NotImplementedError as e:\n",
    "    print(\"not implemented\")"
   ]
  },
  {
   "cell_type": "markdown",
   "id": "beautiful-queue",
   "metadata": {},
   "source": [
    "## Training the Tensorflow Model"
   ]
  },
  {
   "cell_type": "raw",
   "id": "3231a086",
   "metadata": {
    "pycharm": {
     "is_executing": true
    }
   },
   "source": [
    "# Load the TensorBoard notebook extension\n",
    "%load_ext tensorboard"
   ]
  },
  {
   "cell_type": "raw",
   "id": "e5e4d479",
   "metadata": {
    "pycharm": {
     "is_executing": true
    }
   },
   "source": [
    "TENSORBOARD_LOG_DIR = os.path.join(MODEL_PATH, \"tensorboard\")\n",
    "os.path.realpath(TENSORBOARD_LOG_DIR)"
   ]
  },
  {
   "cell_type": "raw",
   "id": "119f380b",
   "metadata": {
    "pycharm": {
     "is_executing": true
    },
    "scrolled": true
   },
   "source": [
    "%tensorboard --logdir $MODELS_PATH --bind_all"
   ]
  },
  {
   "cell_type": "code",
   "execution_count": 48,
   "id": "aafc1c71",
   "metadata": {},
   "outputs": [
    {
     "data": {
      "text/plain": [
       "{'name': 'Adam',\n",
       " 'learning_rate': 1e-05,\n",
       " 'decay': 0.0,\n",
       " 'beta_1': 0.9,\n",
       " 'beta_2': 0.98,\n",
       " 'epsilon': 1e-09,\n",
       " 'amsgrad': False}"
      ]
     },
     "execution_count": 48,
     "metadata": {},
     "output_type": "execute_result"
    }
   ],
   "source": [
    "model.optimizer.get_config()"
   ]
  },
  {
   "cell_type": "code",
   "execution_count": 49,
   "id": "3013c477",
   "metadata": {
    "pycharm": {
     "is_executing": true
    }
   },
   "outputs": [],
   "source": [
    "decode_idx: Callable[[np.ndarray], np.ndarray] = np.vectorize(idx_to_char.get)\n",
    "\n",
    "eval_evaluator = evaluation.SequenceEvaluator(\n",
    "    dataset=datasets[EVAL_TYPE],\n",
    "    decode_func=decode_idx,\n",
    "    batch_size=BATCH_SIZE,\n",
    "    separator=\" \",\n",
    "    padding_character=PROCESSING_INFO['padding_characters'][SEQ],\n",
    ")\n",
    "\n",
    "train_evaluator = evaluation.SequenceEvaluator(\n",
    "    dataset=datasets[TRAIN_TYPE],\n",
    "    decode_func=decode_idx,\n",
    "    batch_size=BATCH_SIZE,\n",
    "    separator=\" \",\n",
    "    padding_character=PROCESSING_INFO['padding_characters'][SEQ],\n",
    ")"
   ]
  },
  {
   "cell_type": "code",
   "execution_count": 50,
   "id": "5046459b",
   "metadata": {},
   "outputs": [],
   "source": [
    "callback_list = callbacks.create_callbacks(\n",
    "            tensorboard=True,\n",
    "            progressbar=False,\n",
    "            reduce_lr=False,\n",
    "            early_stopping=False,\n",
    "            checkpoints=False,\n",
    "            csv=True,\n",
    "            base_path=MODEL_PATH,\n",
    ")"
   ]
  },
  {
   "cell_type": "code",
   "execution_count": 51,
   "id": "a6d0a1e1",
   "metadata": {},
   "outputs": [],
   "source": [
    "WARMUP_STEPS = 3000\n",
    "STEPS_PER_EPOCH = 200"
   ]
  },
  {
   "cell_type": "code",
   "execution_count": null,
   "id": "funded-commons",
   "metadata": {
    "pycharm": {
     "is_executing": true
    },
    "scrolled": true
   },
   "outputs": [
    {
     "name": "stderr",
     "output_type": "stream",
     "text": [
      "2021-10-27 14:29:20,245 - mmproteo_attention_model: epoch 1:\n",
      "2021-10-27 14:29:20,250 - mmproteo_attention_model: DEBUG: {'name': 'Adam', 'learning_rate': 5.3791435e-05, 'decay': 0.0, 'beta_1': 0.9, 'beta_2': 0.98, 'epsilon': 1e-09, 'amsgrad': False}\n"
     ]
    },
    {
     "name": "stdout",
     "output_type": "stream",
     "text": [
      "200/200 [==============================] - 419s 2s/step - loss: 2.1322 - sparse_categorical_accuracy: 0.4447 - jaccard_batch_distance: 0.7076 - leuvenshtein_batch_distance: 6.1424 - val_loss: 2.1158 - val_sparse_categorical_accuracy: 0.3703 - val_jaccard_batch_distance: 0.2839 - val_leuvenshtein_batch_distance: 17.4531\n"
     ]
    },
    {
     "name": "stderr",
     "output_type": "stream",
     "text": [
      "2021-10-27 14:36:21,875 - mmproteo_attention_model: DEBUG: {'loss': [1.7707287073135376], 'sparse_categorical_accuracy': [0.4838222563266754], 'jaccard_batch_distance': [0.6420323848724365], 'leuvenshtein_batch_distance': [7.792597770690918], 'val_loss': [2.115769624710083], 'val_sparse_categorical_accuracy': [0.3702685534954071], 'val_jaccard_batch_distance': [0.28393393754959106], 'val_leuvenshtein_batch_distance': [17.453075408935547]}\n"
     ]
    },
    {
     "name": "stdout",
     "output_type": "stream",
     "text": [
      "Train:\n"
     ]
    },
    {
     "data": {
      "text/html": [
       "<div>\n",
       "<style scoped>\n",
       "    .dataframe tbody tr th:only-of-type {\n",
       "        vertical-align: middle;\n",
       "    }\n",
       "\n",
       "    .dataframe tbody tr th {\n",
       "        vertical-align: top;\n",
       "    }\n",
       "\n",
       "    .dataframe thead th {\n",
       "        text-align: right;\n",
       "    }\n",
       "</style>\n",
       "<table border=\"1\" class=\"dataframe\">\n",
       "  <thead>\n",
       "    <tr style=\"text-align: right;\">\n",
       "      <th></th>\n",
       "      <th>predicted</th>\n",
       "      <th>true</th>\n",
       "    </tr>\n",
       "  </thead>\n",
       "  <tbody>\n",
       "    <tr>\n",
       "      <th>0</th>\n",
       "      <td>R L L L L L L R R R R R R _ _ _ _ _ _ _ _ _ _ _ _ _ _ _ _ _</td>\n",
       "      <td>R H A E G C S T P E L H R _ _ _ _ _ _ _ _ _ _ _ _ _ _ _ _ _</td>\n",
       "    </tr>\n",
       "    <tr>\n",
       "      <th>1</th>\n",
       "      <td>L L L L L L L L L L L L K _ _ _ _ _ _ _ _ _ _ _ _ _ _ _ _ _</td>\n",
       "      <td>I A L N S D V L F D S V L G I N V P V H Q R _ _ _ _ _ _ _ _</td>\n",
       "    </tr>\n",
       "    <tr>\n",
       "      <th>2</th>\n",
       "      <td>L L L L L L L K K _ _ _ _ _ _ _ _ _ _ _ _ _ _ _ _ _ _ _ _ _</td>\n",
       "      <td>E A L L K E K L G G D Q R _ _ _ _ _ _ _ _ _ _ _ _ _ _ _ _ _</td>\n",
       "    </tr>\n",
       "    <tr>\n",
       "      <th>3</th>\n",
       "      <td>L L G L L L L L L L L L L L L L L L L A R R _ _ _ _ _ _ _ _</td>\n",
       "      <td>Y T L L Y D P L D G S S N L D T N L N V G S I F S V R _ _ _</td>\n",
       "    </tr>\n",
       "    <tr>\n",
       "      <th>4</th>\n",
       "      <td>L G L L L L L L L L L L K L L L L L L K K K _ _ _ _ _ _ _ _</td>\n",
       "      <td>N G R P P L P S N Q K R K _ _ _ _ _ _ _ _ _ _ _ _ _ _ _ _ _</td>\n",
       "    </tr>\n",
       "  </tbody>\n",
       "</table>\n",
       "</div>"
      ],
      "text/plain": [
       "                                                     predicted  \\\n",
       "0  R L L L L L L R R R R R R _ _ _ _ _ _ _ _ _ _ _ _ _ _ _ _ _   \n",
       "1  L L L L L L L L L L L L K _ _ _ _ _ _ _ _ _ _ _ _ _ _ _ _ _   \n",
       "2  L L L L L L L K K _ _ _ _ _ _ _ _ _ _ _ _ _ _ _ _ _ _ _ _ _   \n",
       "3  L L G L L L L L L L L L L L L L L L L A R R _ _ _ _ _ _ _ _   \n",
       "4  L G L L L L L L L L L L K L L L L L L K K K _ _ _ _ _ _ _ _   \n",
       "\n",
       "                                                          true  \n",
       "0  R H A E G C S T P E L H R _ _ _ _ _ _ _ _ _ _ _ _ _ _ _ _ _  \n",
       "1  I A L N S D V L F D S V L G I N V P V H Q R _ _ _ _ _ _ _ _  \n",
       "2  E A L L K E K L G G D Q R _ _ _ _ _ _ _ _ _ _ _ _ _ _ _ _ _  \n",
       "3  Y T L L Y D P L D G S S N L D T N L N V G S I F S V R _ _ _  \n",
       "4  N G R P P L P S N Q K R K _ _ _ _ _ _ _ _ _ _ _ _ _ _ _ _ _  "
      ]
     },
     "metadata": {},
     "output_type": "display_data"
    },
    {
     "name": "stdout",
     "output_type": "stream",
     "text": [
      "Eval:\n"
     ]
    },
    {
     "data": {
      "text/html": [
       "<div>\n",
       "<style scoped>\n",
       "    .dataframe tbody tr th:only-of-type {\n",
       "        vertical-align: middle;\n",
       "    }\n",
       "\n",
       "    .dataframe tbody tr th {\n",
       "        vertical-align: top;\n",
       "    }\n",
       "\n",
       "    .dataframe thead th {\n",
       "        text-align: right;\n",
       "    }\n",
       "</style>\n",
       "<table border=\"1\" class=\"dataframe\">\n",
       "  <thead>\n",
       "    <tr style=\"text-align: right;\">\n",
       "      <th></th>\n",
       "      <th>predicted</th>\n",
       "      <th>true</th>\n",
       "    </tr>\n",
       "  </thead>\n",
       "  <tbody>\n",
       "    <tr>\n",
       "      <th>0</th>\n",
       "      <td>L L S S L L L L L L L L L L L L L L L L K _ _ _ _ _ _ _ _ _</td>\n",
       "      <td>T M V R S H V S S C F W L G L P T R _ _ _ _ _ _ _ _ _ _ _ _</td>\n",
       "    </tr>\n",
       "    <tr>\n",
       "      <th>1</th>\n",
       "      <td>L S L L L L L L L A L L G L L L L L L A R _ _ _ _ _ _ _ _ _</td>\n",
       "      <td>A H S S M V G V D L P Q K A A G F L V K K _ _ _ _ _ _ _ _ _</td>\n",
       "    </tr>\n",
       "    <tr>\n",
       "      <th>2</th>\n",
       "      <td>L L L L A L L K K _ _ _ _ _ _ _ _ _ _ _ _ _ _ _ _ _ _ _ _ _</td>\n",
       "      <td>L V L A I R G E K _ _ _ _ _ _ _ _ _ _ _ _ _ _ _ _ _ _ _ _ _</td>\n",
       "    </tr>\n",
       "    <tr>\n",
       "      <th>3</th>\n",
       "      <td>R R R R R R R R R _ _ _ _ _ _ _ _ _ _ _ _ _ _ _ _ _ _ _ _ _</td>\n",
       "      <td>E Q E K Q L G F K _ _ _ _ _ _ _ _ _ _ _ _ _ _ _ _ _ _ _ _ _</td>\n",
       "    </tr>\n",
       "    <tr>\n",
       "      <th>4</th>\n",
       "      <td>L G L A L A L K K _ _ _ _ _ _ _ _ _ _ _ _ _ _ _ _ _ _ _ _ _</td>\n",
       "      <td>W L A G L V A V G L A A L L L Y L W H A R _ _ _ _ _ _ _ _ _</td>\n",
       "    </tr>\n",
       "  </tbody>\n",
       "</table>\n",
       "</div>"
      ],
      "text/plain": [
       "                                                     predicted  \\\n",
       "0  L L S S L L L L L L L L L L L L L L L L K _ _ _ _ _ _ _ _ _   \n",
       "1  L S L L L L L L L A L L G L L L L L L A R _ _ _ _ _ _ _ _ _   \n",
       "2  L L L L A L L K K _ _ _ _ _ _ _ _ _ _ _ _ _ _ _ _ _ _ _ _ _   \n",
       "3  R R R R R R R R R _ _ _ _ _ _ _ _ _ _ _ _ _ _ _ _ _ _ _ _ _   \n",
       "4  L G L A L A L K K _ _ _ _ _ _ _ _ _ _ _ _ _ _ _ _ _ _ _ _ _   \n",
       "\n",
       "                                                          true  \n",
       "0  T M V R S H V S S C F W L G L P T R _ _ _ _ _ _ _ _ _ _ _ _  \n",
       "1  A H S S M V G V D L P Q K A A G F L V K K _ _ _ _ _ _ _ _ _  \n",
       "2  L V L A I R G E K _ _ _ _ _ _ _ _ _ _ _ _ _ _ _ _ _ _ _ _ _  \n",
       "3  E Q E K Q L G F K _ _ _ _ _ _ _ _ _ _ _ _ _ _ _ _ _ _ _ _ _  \n",
       "4  W L A G L V A V G L A A L L L Y L W H A R _ _ _ _ _ _ _ _ _  "
      ]
     },
     "metadata": {},
     "output_type": "display_data"
    },
    {
     "name": "stderr",
     "output_type": "stream",
     "text": [
      "2021-10-27 14:36:24,826 - mmproteo_attention_model: epoch 2:\n",
      "2021-10-27 14:36:24,828 - mmproteo_attention_model: DEBUG: {'name': 'Adam', 'learning_rate': 0.00010758287, 'decay': 0.0, 'beta_1': 0.9, 'beta_2': 0.98, 'epsilon': 1e-09, 'amsgrad': False}\n"
     ]
    },
    {
     "name": "stdout",
     "output_type": "stream",
     "text": [
      "Epoch 2/2\n",
      "200/200 [==============================] - 408s 2s/step - loss: 1.5386 - sparse_categorical_accuracy: 0.5228 - jaccard_batch_distance: 0.3587 - leuvenshtein_batch_distance: 13.4423 - val_loss: 2.0753 - val_sparse_categorical_accuracy: 0.3876 - val_jaccard_batch_distance: 0.3109 - val_leuvenshtein_batch_distance: 17.1797\n"
     ]
    },
    {
     "name": "stderr",
     "output_type": "stream",
     "text": [
      "2021-10-27 14:43:15,895 - mmproteo_attention_model: DEBUG: {'loss': [1.538588523864746], 'sparse_categorical_accuracy': [0.5227978229522705], 'jaccard_batch_distance': [0.35869690775871277], 'leuvenshtein_batch_distance': [13.44229507446289], 'val_loss': [2.0752854347229004], 'val_sparse_categorical_accuracy': [0.38763347268104553], 'val_jaccard_batch_distance': [0.3109448254108429], 'val_leuvenshtein_batch_distance': [17.179737091064453]}\n"
     ]
    },
    {
     "name": "stdout",
     "output_type": "stream",
     "text": [
      "Train:\n"
     ]
    },
    {
     "data": {
      "text/html": [
       "<div>\n",
       "<style scoped>\n",
       "    .dataframe tbody tr th:only-of-type {\n",
       "        vertical-align: middle;\n",
       "    }\n",
       "\n",
       "    .dataframe tbody tr th {\n",
       "        vertical-align: top;\n",
       "    }\n",
       "\n",
       "    .dataframe thead th {\n",
       "        text-align: right;\n",
       "    }\n",
       "</style>\n",
       "<table border=\"1\" class=\"dataframe\">\n",
       "  <thead>\n",
       "    <tr style=\"text-align: right;\">\n",
       "      <th></th>\n",
       "      <th>predicted</th>\n",
       "      <th>true</th>\n",
       "    </tr>\n",
       "  </thead>\n",
       "  <tbody>\n",
       "    <tr>\n",
       "      <th>0</th>\n",
       "      <td>V V L L V V V V V V V V V V V V V V V V V V V V V V K _ _ _</td>\n",
       "      <td>L G V D I I E A G F P A S S E A D L E A V K _ _ _ _ _ _ _ _</td>\n",
       "    </tr>\n",
       "    <tr>\n",
       "      <th>1</th>\n",
       "      <td>K I I I L L A A R _ _ _ _ _ _ _ _ _ _ _ _ _ _ _ _ _ _ _ _ _</td>\n",
       "      <td>A A A V P A A I N L L D R _ _ _ _ _ _ _ _ _ _ _ _ _ _ _ _ _</td>\n",
       "    </tr>\n",
       "    <tr>\n",
       "      <th>2</th>\n",
       "      <td>V G L G G L G G G G G G K _ _ _ _ _ _ _ _ _ _ _ _ _ _ _ _ _</td>\n",
       "      <td>R N S N F H E T D E S G K _ _ _ _ _ _ _ _ _ _ _ _ _ _ _ _ _</td>\n",
       "    </tr>\n",
       "    <tr>\n",
       "      <th>3</th>\n",
       "      <td>L L L L L G G G G L G G L L L L L L L G R R _ _ _ _ _ _ _ _</td>\n",
       "      <td>V V S S D V Q C T V E S F E T A L D S L V R _ _ _ _ _ _ _ _</td>\n",
       "    </tr>\n",
       "    <tr>\n",
       "      <th>4</th>\n",
       "      <td>L L V G A V L L L L A L A A A A A A A A A R A A A A R _ _ _</td>\n",
       "      <td>N L F V W R S N L L G S S G K G H E Y M L K _ _ _ _ _ _ _ _</td>\n",
       "    </tr>\n",
       "  </tbody>\n",
       "</table>\n",
       "</div>"
      ],
      "text/plain": [
       "                                                     predicted  \\\n",
       "0  V V L L V V V V V V V V V V V V V V V V V V V V V V K _ _ _   \n",
       "1  K I I I L L A A R _ _ _ _ _ _ _ _ _ _ _ _ _ _ _ _ _ _ _ _ _   \n",
       "2  V G L G G L G G G G G G K _ _ _ _ _ _ _ _ _ _ _ _ _ _ _ _ _   \n",
       "3  L L L L L G G G G L G G L L L L L L L G R R _ _ _ _ _ _ _ _   \n",
       "4  L L V G A V L L L L A L A A A A A A A A A R A A A A R _ _ _   \n",
       "\n",
       "                                                          true  \n",
       "0  L G V D I I E A G F P A S S E A D L E A V K _ _ _ _ _ _ _ _  \n",
       "1  A A A V P A A I N L L D R _ _ _ _ _ _ _ _ _ _ _ _ _ _ _ _ _  \n",
       "2  R N S N F H E T D E S G K _ _ _ _ _ _ _ _ _ _ _ _ _ _ _ _ _  \n",
       "3  V V S S D V Q C T V E S F E T A L D S L V R _ _ _ _ _ _ _ _  \n",
       "4  N L F V W R S N L L G S S G K G H E Y M L K _ _ _ _ _ _ _ _  "
      ]
     },
     "metadata": {},
     "output_type": "display_data"
    },
    {
     "name": "stdout",
     "output_type": "stream",
     "text": [
      "Eval:\n"
     ]
    },
    {
     "data": {
      "text/html": [
       "<div>\n",
       "<style scoped>\n",
       "    .dataframe tbody tr th:only-of-type {\n",
       "        vertical-align: middle;\n",
       "    }\n",
       "\n",
       "    .dataframe tbody tr th {\n",
       "        vertical-align: top;\n",
       "    }\n",
       "\n",
       "    .dataframe thead th {\n",
       "        text-align: right;\n",
       "    }\n",
       "</style>\n",
       "<table border=\"1\" class=\"dataframe\">\n",
       "  <thead>\n",
       "    <tr style=\"text-align: right;\">\n",
       "      <th></th>\n",
       "      <th>predicted</th>\n",
       "      <th>true</th>\n",
       "    </tr>\n",
       "  </thead>\n",
       "  <tbody>\n",
       "    <tr>\n",
       "      <th>0</th>\n",
       "      <td>L L L L L L L L L L L L C L G G L L P _ _ _ _ _ _ _ _ _ _ _</td>\n",
       "      <td>E E G T R L F N R _ _ _ _ _ _ _ _ _ _ _ _ _ _ _ _ _ _ _ _ _</td>\n",
       "    </tr>\n",
       "    <tr>\n",
       "      <th>1</th>\n",
       "      <td>L L L L L L L L A A L A A A A A A A A _ _ _ _ _ _ _ _ _ _ _</td>\n",
       "      <td>S P G P M R R S K _ _ _ _ _ _ _ _ _ _ _ _ _ _ _ _ _ _ _ _ _</td>\n",
       "    </tr>\n",
       "    <tr>\n",
       "      <th>2</th>\n",
       "      <td>E E E E E E E E K _ _ _ _ _ _ _ _ _ _ _ _ _ _ _ _ _ _ _ _ _</td>\n",
       "      <td>A P Y V P G W D T H G L P I E Q V L A K K _ _ _ _ _ _ _ _ _</td>\n",
       "    </tr>\n",
       "    <tr>\n",
       "      <th>3</th>\n",
       "      <td>G G G L G G G G R _ _ _ _ _ _ _ _ _ _ _ _ _ _ _ _ _ _ _ _ _</td>\n",
       "      <td>L S G E V F G G G G I G V D A D V V S A K _ _ _ _ _ _ _ _ _</td>\n",
       "    </tr>\n",
       "    <tr>\n",
       "      <th>4</th>\n",
       "      <td>S E A I S L I L K _ _ _ _ _ _ _ _ _ _ _ _ _ _ _ _ _ _ _ _ _</td>\n",
       "      <td>L M T V F R S Q K _ _ _ _ _ _ _ _ _ _ _ _ _ _ _ _ _ _ _ _ _</td>\n",
       "    </tr>\n",
       "  </tbody>\n",
       "</table>\n",
       "</div>"
      ],
      "text/plain": [
       "                                                     predicted  \\\n",
       "0  L L L L L L L L L L L L C L G G L L P _ _ _ _ _ _ _ _ _ _ _   \n",
       "1  L L L L L L L L A A L A A A A A A A A _ _ _ _ _ _ _ _ _ _ _   \n",
       "2  E E E E E E E E K _ _ _ _ _ _ _ _ _ _ _ _ _ _ _ _ _ _ _ _ _   \n",
       "3  G G G L G G G G R _ _ _ _ _ _ _ _ _ _ _ _ _ _ _ _ _ _ _ _ _   \n",
       "4  S E A I S L I L K _ _ _ _ _ _ _ _ _ _ _ _ _ _ _ _ _ _ _ _ _   \n",
       "\n",
       "                                                          true  \n",
       "0  E E G T R L F N R _ _ _ _ _ _ _ _ _ _ _ _ _ _ _ _ _ _ _ _ _  \n",
       "1  S P G P M R R S K _ _ _ _ _ _ _ _ _ _ _ _ _ _ _ _ _ _ _ _ _  \n",
       "2  A P Y V P G W D T H G L P I E Q V L A K K _ _ _ _ _ _ _ _ _  \n",
       "3  L S G E V F G G G G I G V D A D V V S A K _ _ _ _ _ _ _ _ _  \n",
       "4  L M T V F R S Q K _ _ _ _ _ _ _ _ _ _ _ _ _ _ _ _ _ _ _ _ _  "
      ]
     },
     "metadata": {},
     "output_type": "display_data"
    },
    {
     "name": "stderr",
     "output_type": "stream",
     "text": [
      "2021-10-27 14:43:18,869 - mmproteo_attention_model: epoch 3:\n",
      "2021-10-27 14:43:18,872 - mmproteo_attention_model: DEBUG: {'name': 'Adam', 'learning_rate': 0.00016137431, 'decay': 0.0, 'beta_1': 0.9, 'beta_2': 0.98, 'epsilon': 1e-09, 'amsgrad': False}\n"
     ]
    },
    {
     "name": "stdout",
     "output_type": "stream",
     "text": [
      "Epoch 3/3\n",
      "200/200 [==============================] - 408s 2s/step - loss: 1.5097 - sparse_categorical_accuracy: 0.5310 - jaccard_batch_distance: 0.3694 - leuvenshtein_batch_distance: 13.3672 - val_loss: 2.0660 - val_sparse_categorical_accuracy: 0.3960 - val_jaccard_batch_distance: 0.3375 - val_leuvenshtein_batch_distance: 17.1490\n"
     ]
    },
    {
     "name": "stderr",
     "output_type": "stream",
     "text": [
      "2021-10-27 14:50:09,401 - mmproteo_attention_model: DEBUG: {'loss': [1.5096659660339355], 'sparse_categorical_accuracy': [0.5310286283493042], 'jaccard_batch_distance': [0.36944419145584106], 'leuvenshtein_batch_distance': [13.367157936096191], 'val_loss': [2.065988540649414], 'val_sparse_categorical_accuracy': [0.3960074782371521], 'val_jaccard_batch_distance': [0.33752042055130005], 'val_leuvenshtein_batch_distance': [17.149023056030273]}\n"
     ]
    },
    {
     "name": "stdout",
     "output_type": "stream",
     "text": [
      "Train:\n"
     ]
    },
    {
     "data": {
      "text/html": [
       "<div>\n",
       "<style scoped>\n",
       "    .dataframe tbody tr th:only-of-type {\n",
       "        vertical-align: middle;\n",
       "    }\n",
       "\n",
       "    .dataframe tbody tr th {\n",
       "        vertical-align: top;\n",
       "    }\n",
       "\n",
       "    .dataframe thead th {\n",
       "        text-align: right;\n",
       "    }\n",
       "</style>\n",
       "<table border=\"1\" class=\"dataframe\">\n",
       "  <thead>\n",
       "    <tr style=\"text-align: right;\">\n",
       "      <th></th>\n",
       "      <th>predicted</th>\n",
       "      <th>true</th>\n",
       "    </tr>\n",
       "  </thead>\n",
       "  <tbody>\n",
       "    <tr>\n",
       "      <th>0</th>\n",
       "      <td>S L R D A S D D R _ _ _ _ _ _ _ _ _ _ _ _ _ _ _ _ _ _ _ _ _</td>\n",
       "      <td>D A K P I V F P K _ _ _ _ _ _ _ _ _ _ _ _ _ _ _ _ _ _ _ _ _</td>\n",
       "    </tr>\n",
       "    <tr>\n",
       "      <th>1</th>\n",
       "      <td>D L G G G G G R R _ _ _ _ _ _ _ _ _ _ _ _ _ _ _ _ _ _ _ _ _</td>\n",
       "      <td>Y F D V E H P K A S D I K _ _ _ _ _ _ _ _ _ _ _ _ _ _ _ _ _</td>\n",
       "    </tr>\n",
       "    <tr>\n",
       "      <th>2</th>\n",
       "      <td>F L K L L L L L L L L L L L L L L L L K R R _ _ _ _ _ _ _ _</td>\n",
       "      <td>K G A T M R I T L D D A F Q E N C D E N V L W V D Y K _ _ _</td>\n",
       "    </tr>\n",
       "    <tr>\n",
       "      <th>3</th>\n",
       "      <td>Y Y L L L L L L L L L L L L L L L L L Y Y E L L E M K _ _ _</td>\n",
       "      <td>R P E I M T T P G S S T K _ _ _ _ _ _ _ _ _ _ _ _ _ _ _ _ _</td>\n",
       "    </tr>\n",
       "    <tr>\n",
       "      <th>4</th>\n",
       "      <td>E E L L L L A P _ _ _ _ _ _ _ _ _ _ _ _ _ _ _ _ _ _ _ _ _ _</td>\n",
       "      <td>N P K S G E K V H V P E K _ _ _ _ _ _ _ _ _ _ _ _ _ _ _ _ _</td>\n",
       "    </tr>\n",
       "  </tbody>\n",
       "</table>\n",
       "</div>"
      ],
      "text/plain": [
       "                                                     predicted  \\\n",
       "0  S L R D A S D D R _ _ _ _ _ _ _ _ _ _ _ _ _ _ _ _ _ _ _ _ _   \n",
       "1  D L G G G G G R R _ _ _ _ _ _ _ _ _ _ _ _ _ _ _ _ _ _ _ _ _   \n",
       "2  F L K L L L L L L L L L L L L L L L L K R R _ _ _ _ _ _ _ _   \n",
       "3  Y Y L L L L L L L L L L L L L L L L L Y Y E L L E M K _ _ _   \n",
       "4  E E L L L L A P _ _ _ _ _ _ _ _ _ _ _ _ _ _ _ _ _ _ _ _ _ _   \n",
       "\n",
       "                                                          true  \n",
       "0  D A K P I V F P K _ _ _ _ _ _ _ _ _ _ _ _ _ _ _ _ _ _ _ _ _  \n",
       "1  Y F D V E H P K A S D I K _ _ _ _ _ _ _ _ _ _ _ _ _ _ _ _ _  \n",
       "2  K G A T M R I T L D D A F Q E N C D E N V L W V D Y K _ _ _  \n",
       "3  R P E I M T T P G S S T K _ _ _ _ _ _ _ _ _ _ _ _ _ _ _ _ _  \n",
       "4  N P K S G E K V H V P E K _ _ _ _ _ _ _ _ _ _ _ _ _ _ _ _ _  "
      ]
     },
     "metadata": {},
     "output_type": "display_data"
    },
    {
     "name": "stdout",
     "output_type": "stream",
     "text": [
      "Eval:\n"
     ]
    },
    {
     "data": {
      "text/html": [
       "<div>\n",
       "<style scoped>\n",
       "    .dataframe tbody tr th:only-of-type {\n",
       "        vertical-align: middle;\n",
       "    }\n",
       "\n",
       "    .dataframe tbody tr th {\n",
       "        vertical-align: top;\n",
       "    }\n",
       "\n",
       "    .dataframe thead th {\n",
       "        text-align: right;\n",
       "    }\n",
       "</style>\n",
       "<table border=\"1\" class=\"dataframe\">\n",
       "  <thead>\n",
       "    <tr style=\"text-align: right;\">\n",
       "      <th></th>\n",
       "      <th>predicted</th>\n",
       "      <th>true</th>\n",
       "    </tr>\n",
       "  </thead>\n",
       "  <tbody>\n",
       "    <tr>\n",
       "      <th>0</th>\n",
       "      <td>E R E L L L L L L L L L L L L L L L L _ _ _ _ _ _ _ _ _ _ _</td>\n",
       "      <td>I L A G V H Q P D T G E L L V D G V A R R _ _ _ _ _ _ _ _ _</td>\n",
       "    </tr>\n",
       "    <tr>\n",
       "      <th>1</th>\n",
       "      <td>S S L L L L L L L L S S K S L L L S S S K _ _ _ _ _ _ _ _ _</td>\n",
       "      <td>A L S S K S G A A D S L T A L G V K _ _ _ _ _ _ _ _ _ _ _ _</td>\n",
       "    </tr>\n",
       "    <tr>\n",
       "      <th>2</th>\n",
       "      <td>S A R R S L L L K _ _ _ _ _ _ _ _ _ _ _ _ _ _ _ _ _ _ _ _ _</td>\n",
       "      <td>H V R I H T G E K P Y E C N E C G K _ _ _ _ _ _ _ _ _ _ _ _</td>\n",
       "    </tr>\n",
       "    <tr>\n",
       "      <th>3</th>\n",
       "      <td>A L A L L G L L L L L L L G L A L A L A T _ _ _ _ _ _ _ _ _</td>\n",
       "      <td>L G V I G N G V V V D P V A L L A E I G R _ _ _ _ _ _ _ _ _</td>\n",
       "    </tr>\n",
       "    <tr>\n",
       "      <th>4</th>\n",
       "      <td>K G L L L L L L L G L L G L L L L L E _ _ _ _ _ _ _ _ _ _ _</td>\n",
       "      <td>L R G E S I S L S E L E S I L L P L R N K _ _ _ _ _ _ _ _ _</td>\n",
       "    </tr>\n",
       "  </tbody>\n",
       "</table>\n",
       "</div>"
      ],
      "text/plain": [
       "                                                     predicted  \\\n",
       "0  E R E L L L L L L L L L L L L L L L L _ _ _ _ _ _ _ _ _ _ _   \n",
       "1  S S L L L L L L L L S S K S L L L S S S K _ _ _ _ _ _ _ _ _   \n",
       "2  S A R R S L L L K _ _ _ _ _ _ _ _ _ _ _ _ _ _ _ _ _ _ _ _ _   \n",
       "3  A L A L L G L L L L L L L G L A L A L A T _ _ _ _ _ _ _ _ _   \n",
       "4  K G L L L L L L L G L L G L L L L L E _ _ _ _ _ _ _ _ _ _ _   \n",
       "\n",
       "                                                          true  \n",
       "0  I L A G V H Q P D T G E L L V D G V A R R _ _ _ _ _ _ _ _ _  \n",
       "1  A L S S K S G A A D S L T A L G V K _ _ _ _ _ _ _ _ _ _ _ _  \n",
       "2  H V R I H T G E K P Y E C N E C G K _ _ _ _ _ _ _ _ _ _ _ _  \n",
       "3  L G V I G N G V V V D P V A L L A E I G R _ _ _ _ _ _ _ _ _  \n",
       "4  L R G E S I S L S E L E S I L L P L R N K _ _ _ _ _ _ _ _ _  "
      ]
     },
     "metadata": {},
     "output_type": "display_data"
    },
    {
     "name": "stderr",
     "output_type": "stream",
     "text": [
      "2021-10-27 14:50:12,042 - mmproteo_attention_model: epoch 4:\n",
      "2021-10-27 14:50:12,044 - mmproteo_attention_model: DEBUG: {'name': 'Adam', 'learning_rate': 0.00021516574, 'decay': 0.0, 'beta_1': 0.9, 'beta_2': 0.98, 'epsilon': 1e-09, 'amsgrad': False}\n"
     ]
    },
    {
     "name": "stdout",
     "output_type": "stream",
     "text": [
      "Epoch 4/4\n",
      "200/200 [==============================] - 407s 2s/step - loss: 1.3638 - sparse_categorical_accuracy: 0.5712 - jaccard_batch_distance: 0.4461 - leuvenshtein_batch_distance: 12.5109 - val_loss: 1.9807 - val_sparse_categorical_accuracy: 0.4154 - val_jaccard_batch_distance: 0.4037 - val_leuvenshtein_batch_distance: 16.5541\n"
     ]
    },
    {
     "name": "stderr",
     "output_type": "stream",
     "text": [
      "2021-10-27 14:57:02,337 - mmproteo_attention_model: DEBUG: {'loss': [1.363771677017212], 'sparse_categorical_accuracy': [0.5712242722511292], 'jaccard_batch_distance': [0.4460563361644745], 'leuvenshtein_batch_distance': [12.5109281539917], 'val_loss': [1.9807199239730835], 'val_sparse_categorical_accuracy': [0.41536620259284973], 'val_jaccard_batch_distance': [0.40370050072669983], 'val_leuvenshtein_batch_distance': [16.554052352905273]}\n"
     ]
    },
    {
     "name": "stdout",
     "output_type": "stream",
     "text": [
      "Train:\n"
     ]
    },
    {
     "data": {
      "text/html": [
       "<div>\n",
       "<style scoped>\n",
       "    .dataframe tbody tr th:only-of-type {\n",
       "        vertical-align: middle;\n",
       "    }\n",
       "\n",
       "    .dataframe tbody tr th {\n",
       "        vertical-align: top;\n",
       "    }\n",
       "\n",
       "    .dataframe thead th {\n",
       "        text-align: right;\n",
       "    }\n",
       "</style>\n",
       "<table border=\"1\" class=\"dataframe\">\n",
       "  <thead>\n",
       "    <tr style=\"text-align: right;\">\n",
       "      <th></th>\n",
       "      <th>predicted</th>\n",
       "      <th>true</th>\n",
       "    </tr>\n",
       "  </thead>\n",
       "  <tbody>\n",
       "    <tr>\n",
       "      <th>0</th>\n",
       "      <td>I I D D D D D V K _ _ _ _ _ _ _ _ _ _ _ _ _ _ _ _ _ _ _ _ _</td>\n",
       "      <td>I A L M G F A C D E G V K _ _ _ _ _ _ _ _ _ _ _ _ _ _ _ _ _</td>\n",
       "    </tr>\n",
       "    <tr>\n",
       "      <th>1</th>\n",
       "      <td>E R L L L L L L L L L L S L L L L L H H H K _ _ _ _ _ _ _ _</td>\n",
       "      <td>L S T E L F G E T L A M P V A L G P V G L T G M Y A R _ _ _</td>\n",
       "    </tr>\n",
       "    <tr>\n",
       "      <th>2</th>\n",
       "      <td>D S G S K K K L K _ _ _ _ _ _ _ _ _ _ _ _ _ _ _ _ _ _ _ _ _</td>\n",
       "      <td>Y G K V E V T N R _ _ _ _ _ _ _ _ _ _ _ _ _ _ _ _ _ _ _ _ _</td>\n",
       "    </tr>\n",
       "    <tr>\n",
       "      <th>3</th>\n",
       "      <td>V V P P E R R R R R R L L L R R L L L E E K _ _ _ _ _ _ _ _</td>\n",
       "      <td>E I A D N Y M I K _ _ _ _ _ _ _ _ _ _ _ _ _ _ _ _ _ _ _ _ _</td>\n",
       "    </tr>\n",
       "    <tr>\n",
       "      <th>4</th>\n",
       "      <td>G G G R L L L R L R L L L L L L L L L L L L L L L N K _ _ _</td>\n",
       "      <td>A A G L E S A A T I R T K V F V W G L N D K _ _ _ _ _ _ _ _</td>\n",
       "    </tr>\n",
       "  </tbody>\n",
       "</table>\n",
       "</div>"
      ],
      "text/plain": [
       "                                                     predicted  \\\n",
       "0  I I D D D D D V K _ _ _ _ _ _ _ _ _ _ _ _ _ _ _ _ _ _ _ _ _   \n",
       "1  E R L L L L L L L L L L S L L L L L H H H K _ _ _ _ _ _ _ _   \n",
       "2  D S G S K K K L K _ _ _ _ _ _ _ _ _ _ _ _ _ _ _ _ _ _ _ _ _   \n",
       "3  V V P P E R R R R R R L L L R R L L L E E K _ _ _ _ _ _ _ _   \n",
       "4  G G G R L L L R L R L L L L L L L L L L L L L L L N K _ _ _   \n",
       "\n",
       "                                                          true  \n",
       "0  I A L M G F A C D E G V K _ _ _ _ _ _ _ _ _ _ _ _ _ _ _ _ _  \n",
       "1  L S T E L F G E T L A M P V A L G P V G L T G M Y A R _ _ _  \n",
       "2  Y G K V E V T N R _ _ _ _ _ _ _ _ _ _ _ _ _ _ _ _ _ _ _ _ _  \n",
       "3  E I A D N Y M I K _ _ _ _ _ _ _ _ _ _ _ _ _ _ _ _ _ _ _ _ _  \n",
       "4  A A G L E S A A T I R T K V F V W G L N D K _ _ _ _ _ _ _ _  "
      ]
     },
     "metadata": {},
     "output_type": "display_data"
    },
    {
     "name": "stdout",
     "output_type": "stream",
     "text": [
      "Eval:\n"
     ]
    },
    {
     "data": {
      "text/html": [
       "<div>\n",
       "<style scoped>\n",
       "    .dataframe tbody tr th:only-of-type {\n",
       "        vertical-align: middle;\n",
       "    }\n",
       "\n",
       "    .dataframe tbody tr th {\n",
       "        vertical-align: top;\n",
       "    }\n",
       "\n",
       "    .dataframe thead th {\n",
       "        text-align: right;\n",
       "    }\n",
       "</style>\n",
       "<table border=\"1\" class=\"dataframe\">\n",
       "  <thead>\n",
       "    <tr style=\"text-align: right;\">\n",
       "      <th></th>\n",
       "      <th>predicted</th>\n",
       "      <th>true</th>\n",
       "    </tr>\n",
       "  </thead>\n",
       "  <tbody>\n",
       "    <tr>\n",
       "      <th>0</th>\n",
       "      <td>A Y F L L L L L L L L R R R R R R R Y _ _ _ _ _ _ _ _ _ _ _</td>\n",
       "      <td>M V S T K T Y T T R A S T H P S P V A Q R _ _ _ _ _ _ _ _ _</td>\n",
       "    </tr>\n",
       "    <tr>\n",
       "      <th>1</th>\n",
       "      <td>I V L L S L L L L L L L L L L L P L S T R _ _ _ _ _ _ _ _ _</td>\n",
       "      <td>A D G A L W F Q A S V F G D D K D R V L R _ _ _ _ _ _ _ _ _</td>\n",
       "    </tr>\n",
       "    <tr>\n",
       "      <th>2</th>\n",
       "      <td>V R L G G G G G G G G G L P G L L L P _ _ _ _ _ _ _ _ _ _ _</td>\n",
       "      <td>M T S S G A M A G M L V G A V T V F A W K _ _ _ _ _ _ _ _ _</td>\n",
       "    </tr>\n",
       "    <tr>\n",
       "      <th>3</th>\n",
       "      <td>I V S G S K K S K _ _ _ _ _ _ _ _ _ _ _ _ _ _ _ _ _ _ _ _ _</td>\n",
       "      <td>S L I V A G L A R _ _ _ _ _ _ _ _ _ _ _ _ _ _ _ _ _ _ _ _ _</td>\n",
       "    </tr>\n",
       "    <tr>\n",
       "      <th>4</th>\n",
       "      <td>Q L A E L L L N K _ _ _ _ _ _ _ _ _ _ _ _ _ _ _ _ _ _ _ _ _</td>\n",
       "      <td>M S T G E A Q Q L I Q K L L L E A L A R R _ _ _ _ _ _ _ _ _</td>\n",
       "    </tr>\n",
       "  </tbody>\n",
       "</table>\n",
       "</div>"
      ],
      "text/plain": [
       "                                                     predicted  \\\n",
       "0  A Y F L L L L L L L L R R R R R R R Y _ _ _ _ _ _ _ _ _ _ _   \n",
       "1  I V L L S L L L L L L L L L L L P L S T R _ _ _ _ _ _ _ _ _   \n",
       "2  V R L G G G G G G G G G L P G L L L P _ _ _ _ _ _ _ _ _ _ _   \n",
       "3  I V S G S K K S K _ _ _ _ _ _ _ _ _ _ _ _ _ _ _ _ _ _ _ _ _   \n",
       "4  Q L A E L L L N K _ _ _ _ _ _ _ _ _ _ _ _ _ _ _ _ _ _ _ _ _   \n",
       "\n",
       "                                                          true  \n",
       "0  M V S T K T Y T T R A S T H P S P V A Q R _ _ _ _ _ _ _ _ _  \n",
       "1  A D G A L W F Q A S V F G D D K D R V L R _ _ _ _ _ _ _ _ _  \n",
       "2  M T S S G A M A G M L V G A V T V F A W K _ _ _ _ _ _ _ _ _  \n",
       "3  S L I V A G L A R _ _ _ _ _ _ _ _ _ _ _ _ _ _ _ _ _ _ _ _ _  \n",
       "4  M S T G E A Q Q L I Q K L L L E A L A R R _ _ _ _ _ _ _ _ _  "
      ]
     },
     "metadata": {},
     "output_type": "display_data"
    },
    {
     "name": "stderr",
     "output_type": "stream",
     "text": [
      "2021-10-27 14:57:05,234 - mmproteo_attention_model: epoch 5:\n",
      "2021-10-27 14:57:05,236 - mmproteo_attention_model: DEBUG: {'name': 'Adam', 'learning_rate': 0.00026895717, 'decay': 0.0, 'beta_1': 0.9, 'beta_2': 0.98, 'epsilon': 1e-09, 'amsgrad': False}\n"
     ]
    },
    {
     "name": "stdout",
     "output_type": "stream",
     "text": [
      "Epoch 5/5\n",
      "200/200 [==============================] - 408s 2s/step - loss: 1.2695 - sparse_categorical_accuracy: 0.5982 - jaccard_batch_distance: 0.5016 - leuvenshtein_batch_distance: 11.7768 - val_loss: 1.9680 - val_sparse_categorical_accuracy: 0.4244 - val_jaccard_batch_distance: 0.4513 - val_leuvenshtein_batch_distance: 16.1853\n"
     ]
    },
    {
     "name": "stderr",
     "output_type": "stream",
     "text": [
      "2021-10-27 15:03:55,798 - mmproteo_attention_model: DEBUG: {'loss': [1.269504189491272], 'sparse_categorical_accuracy': [0.5982301235198975], 'jaccard_batch_distance': [0.5015765428543091], 'leuvenshtein_batch_distance': [11.776845932006836], 'val_loss': [1.9680238962173462], 'val_sparse_categorical_accuracy': [0.4243570864200592], 'val_jaccard_batch_distance': [0.45131969451904297], 'val_leuvenshtein_batch_distance': [16.185253143310547]}\n"
     ]
    },
    {
     "name": "stdout",
     "output_type": "stream",
     "text": [
      "Train:\n"
     ]
    },
    {
     "data": {
      "text/html": [
       "<div>\n",
       "<style scoped>\n",
       "    .dataframe tbody tr th:only-of-type {\n",
       "        vertical-align: middle;\n",
       "    }\n",
       "\n",
       "    .dataframe tbody tr th {\n",
       "        vertical-align: top;\n",
       "    }\n",
       "\n",
       "    .dataframe thead th {\n",
       "        text-align: right;\n",
       "    }\n",
       "</style>\n",
       "<table border=\"1\" class=\"dataframe\">\n",
       "  <thead>\n",
       "    <tr style=\"text-align: right;\">\n",
       "      <th></th>\n",
       "      <th>predicted</th>\n",
       "      <th>true</th>\n",
       "    </tr>\n",
       "  </thead>\n",
       "  <tbody>\n",
       "    <tr>\n",
       "      <th>0</th>\n",
       "      <td>V L D P L L P P P P P G G G D P P P P G G R _ _ _ _ _ _ _ _</td>\n",
       "      <td>E N G K S E A V G P E P G S S G E E T S D A V V P E K _ _ _</td>\n",
       "    </tr>\n",
       "    <tr>\n",
       "      <th>1</th>\n",
       "      <td>S L F R L L L L L L L S S L D E L E P D D E E E L D R _ _ _</td>\n",
       "      <td>M S E T I R V A T R S S R _ _ _ _ _ _ _ _ _ _ _ _ _ _ _ _ _</td>\n",
       "    </tr>\n",
       "    <tr>\n",
       "      <th>2</th>\n",
       "      <td>G Y P R P R R R P E E A K _ _ _ _ _ _ _ _ _ _ _ _ _ _ _ _ _</td>\n",
       "      <td>S A S P A S T A K _ _ _ _ _ _ _ _ _ _ _ _ _ _ _ _ _ _ _ _ _</td>\n",
       "    </tr>\n",
       "    <tr>\n",
       "      <th>3</th>\n",
       "      <td>E A L L L L D L L L L L L P L L D D L P P D R P L P K _ _ _</td>\n",
       "      <td>K R N N E A V N R _ _ _ _ _ _ _ _ _ _ _ _ _ _ _ _ _ _ _ _ _</td>\n",
       "    </tr>\n",
       "    <tr>\n",
       "      <th>4</th>\n",
       "      <td>L R G G A G A A G L A A A A A A A A A V E R G A A E R _ _ _</td>\n",
       "      <td>T G I R E I L E L T L S E T E Q K Q F T H S S T V L K _ _ _</td>\n",
       "    </tr>\n",
       "  </tbody>\n",
       "</table>\n",
       "</div>"
      ],
      "text/plain": [
       "                                                     predicted  \\\n",
       "0  V L D P L L P P P P P G G G D P P P P G G R _ _ _ _ _ _ _ _   \n",
       "1  S L F R L L L L L L L S S L D E L E P D D E E E L D R _ _ _   \n",
       "2  G Y P R P R R R P E E A K _ _ _ _ _ _ _ _ _ _ _ _ _ _ _ _ _   \n",
       "3  E A L L L L D L L L L L L P L L D D L P P D R P L P K _ _ _   \n",
       "4  L R G G A G A A G L A A A A A A A A A V E R G A A E R _ _ _   \n",
       "\n",
       "                                                          true  \n",
       "0  E N G K S E A V G P E P G S S G E E T S D A V V P E K _ _ _  \n",
       "1  M S E T I R V A T R S S R _ _ _ _ _ _ _ _ _ _ _ _ _ _ _ _ _  \n",
       "2  S A S P A S T A K _ _ _ _ _ _ _ _ _ _ _ _ _ _ _ _ _ _ _ _ _  \n",
       "3  K R N N E A V N R _ _ _ _ _ _ _ _ _ _ _ _ _ _ _ _ _ _ _ _ _  \n",
       "4  T G I R E I L E L T L S E T E Q K Q F T H S S T V L K _ _ _  "
      ]
     },
     "metadata": {},
     "output_type": "display_data"
    },
    {
     "name": "stdout",
     "output_type": "stream",
     "text": [
      "Eval:\n"
     ]
    },
    {
     "data": {
      "text/html": [
       "<div>\n",
       "<style scoped>\n",
       "    .dataframe tbody tr th:only-of-type {\n",
       "        vertical-align: middle;\n",
       "    }\n",
       "\n",
       "    .dataframe tbody tr th {\n",
       "        vertical-align: top;\n",
       "    }\n",
       "\n",
       "    .dataframe thead th {\n",
       "        text-align: right;\n",
       "    }\n",
       "</style>\n",
       "<table border=\"1\" class=\"dataframe\">\n",
       "  <thead>\n",
       "    <tr style=\"text-align: right;\">\n",
       "      <th></th>\n",
       "      <th>predicted</th>\n",
       "      <th>true</th>\n",
       "    </tr>\n",
       "  </thead>\n",
       "  <tbody>\n",
       "    <tr>\n",
       "      <th>0</th>\n",
       "      <td>N D L V L G G G R P G G S G E E E V V L K _ _ _ _ _ _ _ _ _</td>\n",
       "      <td>S V T V G E F Y Y V D P V F E E E L K K R _ _ _ _ _ _ _ _ _</td>\n",
       "    </tr>\n",
       "    <tr>\n",
       "      <th>1</th>\n",
       "      <td>I P G G G G G G P G G G G G G G G P G _ _ _ _ _ _ _ _ _ _ _</td>\n",
       "      <td>W Q E E V A R Y R _ _ _ _ _ _ _ _ _ _ _ _ _ _ _ _ _ _ _ _ _</td>\n",
       "    </tr>\n",
       "    <tr>\n",
       "      <th>2</th>\n",
       "      <td>A G A E L G G G G G G G G G G G G G V _ _ _ _ _ _ _ _ _ _ _</td>\n",
       "      <td>T N P I P I D Y I Y Q S E F C Q S K _ _ _ _ _ _ _ _ _ _ _ _</td>\n",
       "    </tr>\n",
       "    <tr>\n",
       "      <th>3</th>\n",
       "      <td>S E F P P G P P P P P P P P P P P P G R R _ _ _ _ _ _ _ _ _</td>\n",
       "      <td>E A M S I A V Q K _ _ _ _ _ _ _ _ _ _ _ _ _ _ _ _ _ _ _ _ _</td>\n",
       "    </tr>\n",
       "    <tr>\n",
       "      <th>4</th>\n",
       "      <td>D F E G G L L L L G G G G P G G G E E _ _ _ _ _ _ _ _ _ _ _</td>\n",
       "      <td>R V E S P A T D T D L G R G V F E F S D R _ _ _ _ _ _ _ _ _</td>\n",
       "    </tr>\n",
       "  </tbody>\n",
       "</table>\n",
       "</div>"
      ],
      "text/plain": [
       "                                                     predicted  \\\n",
       "0  N D L V L G G G R P G G S G E E E V V L K _ _ _ _ _ _ _ _ _   \n",
       "1  I P G G G G G G P G G G G G G G G P G _ _ _ _ _ _ _ _ _ _ _   \n",
       "2  A G A E L G G G G G G G G G G G G G V _ _ _ _ _ _ _ _ _ _ _   \n",
       "3  S E F P P G P P P P P P P P P P P P G R R _ _ _ _ _ _ _ _ _   \n",
       "4  D F E G G L L L L G G G G P G G G E E _ _ _ _ _ _ _ _ _ _ _   \n",
       "\n",
       "                                                          true  \n",
       "0  S V T V G E F Y Y V D P V F E E E L K K R _ _ _ _ _ _ _ _ _  \n",
       "1  W Q E E V A R Y R _ _ _ _ _ _ _ _ _ _ _ _ _ _ _ _ _ _ _ _ _  \n",
       "2  T N P I P I D Y I Y Q S E F C Q S K _ _ _ _ _ _ _ _ _ _ _ _  \n",
       "3  E A M S I A V Q K _ _ _ _ _ _ _ _ _ _ _ _ _ _ _ _ _ _ _ _ _  \n",
       "4  R V E S P A T D T D L G R G V F E F S D R _ _ _ _ _ _ _ _ _  "
      ]
     },
     "metadata": {},
     "output_type": "display_data"
    },
    {
     "name": "stderr",
     "output_type": "stream",
     "text": [
      "2021-10-27 15:03:58,868 - mmproteo_attention_model: epoch 6:\n",
      "2021-10-27 15:03:58,870 - mmproteo_attention_model: DEBUG: {'name': 'Adam', 'learning_rate': 0.00032274862, 'decay': 0.0, 'beta_1': 0.9, 'beta_2': 0.98, 'epsilon': 1e-09, 'amsgrad': False}\n"
     ]
    },
    {
     "name": "stdout",
     "output_type": "stream",
     "text": [
      "Epoch 6/6\n",
      "200/200 [==============================] - 408s 2s/step - loss: 1.1666 - sparse_categorical_accuracy: 0.6286 - jaccard_batch_distance: 0.5535 - leuvenshtein_batch_distance: 10.9273 - val_loss: 1.8969 - val_sparse_categorical_accuracy: 0.4493 - val_jaccard_batch_distance: 0.4995 - val_leuvenshtein_batch_distance: 15.7101\n"
     ]
    },
    {
     "name": "stderr",
     "output_type": "stream",
     "text": [
      "2021-10-27 15:10:49,992 - mmproteo_attention_model: DEBUG: {'loss': [1.1666195392608643], 'sparse_categorical_accuracy': [0.6286461353302002], 'jaccard_batch_distance': [0.5535282492637634], 'leuvenshtein_batch_distance': [10.927265167236328], 'val_loss': [1.896872878074646], 'val_sparse_categorical_accuracy': [0.44927409291267395], 'val_jaccard_batch_distance': [0.49949440360069275], 'val_leuvenshtein_batch_distance': [15.710058212280273]}\n"
     ]
    },
    {
     "name": "stdout",
     "output_type": "stream",
     "text": [
      "Train:\n"
     ]
    },
    {
     "data": {
      "text/html": [
       "<div>\n",
       "<style scoped>\n",
       "    .dataframe tbody tr th:only-of-type {\n",
       "        vertical-align: middle;\n",
       "    }\n",
       "\n",
       "    .dataframe tbody tr th {\n",
       "        vertical-align: top;\n",
       "    }\n",
       "\n",
       "    .dataframe thead th {\n",
       "        text-align: right;\n",
       "    }\n",
       "</style>\n",
       "<table border=\"1\" class=\"dataframe\">\n",
       "  <thead>\n",
       "    <tr style=\"text-align: right;\">\n",
       "      <th></th>\n",
       "      <th>predicted</th>\n",
       "      <th>true</th>\n",
       "    </tr>\n",
       "  </thead>\n",
       "  <tbody>\n",
       "    <tr>\n",
       "      <th>0</th>\n",
       "      <td>D D Y F S P P L L L Y L R _ _ _ _ _ _ _ _ _ _ _ _ _ _ _ _ _</td>\n",
       "      <td>V S P E A L C Q V E S A R D L P V M Q A L R _ _ _ _ _ _ _ _</td>\n",
       "    </tr>\n",
       "    <tr>\n",
       "      <th>1</th>\n",
       "      <td>E E R L A A L L L L L V L L A L A S Y Y L K K A Y L K _ _ _</td>\n",
       "      <td>V L K L T V E D L E K E R _ _ _ _ _ _ _ _ _ _ _ _ _ _ _ _ _</td>\n",
       "    </tr>\n",
       "    <tr>\n",
       "      <th>2</th>\n",
       "      <td>L Q S E L K K E E Q E L K _ _ _ _ _ _ _ _ _ _ _ _ _ _ _ _ _</td>\n",
       "      <td>W E G F A S G T R _ _ _ _ _ _ _ _ _ _ _ _ _ _ _ _ _ _ _ _ _</td>\n",
       "    </tr>\n",
       "    <tr>\n",
       "      <th>3</th>\n",
       "      <td>S L W L L A S K K _ _ _ _ _ _ _ _ _ _ _ _ _ _ _ _ _ _ _ _ _</td>\n",
       "      <td>L L R N D P N V K _ _ _ _ _ _ _ _ _ _ _ _ _ _ _ _ _ _ _ _ _</td>\n",
       "    </tr>\n",
       "    <tr>\n",
       "      <th>4</th>\n",
       "      <td>A A Q M R L L L E P H C R _ _ _ _ _ _ _ _ _ _ _ _ _ _ _ _ _</td>\n",
       "      <td>T V K N P F K G R _ _ _ _ _ _ _ _ _ _ _ _ _ _ _ _ _ _ _ _ _</td>\n",
       "    </tr>\n",
       "  </tbody>\n",
       "</table>\n",
       "</div>"
      ],
      "text/plain": [
       "                                                     predicted  \\\n",
       "0  D D Y F S P P L L L Y L R _ _ _ _ _ _ _ _ _ _ _ _ _ _ _ _ _   \n",
       "1  E E R L A A L L L L L V L L A L A S Y Y L K K A Y L K _ _ _   \n",
       "2  L Q S E L K K E E Q E L K _ _ _ _ _ _ _ _ _ _ _ _ _ _ _ _ _   \n",
       "3  S L W L L A S K K _ _ _ _ _ _ _ _ _ _ _ _ _ _ _ _ _ _ _ _ _   \n",
       "4  A A Q M R L L L E P H C R _ _ _ _ _ _ _ _ _ _ _ _ _ _ _ _ _   \n",
       "\n",
       "                                                          true  \n",
       "0  V S P E A L C Q V E S A R D L P V M Q A L R _ _ _ _ _ _ _ _  \n",
       "1  V L K L T V E D L E K E R _ _ _ _ _ _ _ _ _ _ _ _ _ _ _ _ _  \n",
       "2  W E G F A S G T R _ _ _ _ _ _ _ _ _ _ _ _ _ _ _ _ _ _ _ _ _  \n",
       "3  L L R N D P N V K _ _ _ _ _ _ _ _ _ _ _ _ _ _ _ _ _ _ _ _ _  \n",
       "4  T V K N P F K G R _ _ _ _ _ _ _ _ _ _ _ _ _ _ _ _ _ _ _ _ _  "
      ]
     },
     "metadata": {},
     "output_type": "display_data"
    },
    {
     "name": "stdout",
     "output_type": "stream",
     "text": [
      "Eval:\n"
     ]
    },
    {
     "data": {
      "text/html": [
       "<div>\n",
       "<style scoped>\n",
       "    .dataframe tbody tr th:only-of-type {\n",
       "        vertical-align: middle;\n",
       "    }\n",
       "\n",
       "    .dataframe tbody tr th {\n",
       "        vertical-align: top;\n",
       "    }\n",
       "\n",
       "    .dataframe thead th {\n",
       "        text-align: right;\n",
       "    }\n",
       "</style>\n",
       "<table border=\"1\" class=\"dataframe\">\n",
       "  <thead>\n",
       "    <tr style=\"text-align: right;\">\n",
       "      <th></th>\n",
       "      <th>predicted</th>\n",
       "      <th>true</th>\n",
       "    </tr>\n",
       "  </thead>\n",
       "  <tbody>\n",
       "    <tr>\n",
       "      <th>0</th>\n",
       "      <td>S G G G G S S G G G G S G G G D P F Y G R _ _ _ _ _ _ _ _ _</td>\n",
       "      <td>G E D L V L Q V P E G T V V L N S K _ _ _ _ _ _ _ _ _ _ _ _</td>\n",
       "    </tr>\n",
       "    <tr>\n",
       "      <th>1</th>\n",
       "      <td>E D A A G A P P A A A A A A A A A A H _ _ _ _ _ _ _ _ _ _ _</td>\n",
       "      <td>H D R Q F D N L K P S G G Y I T G D Q A R _ _ _ _ _ _ _ _ _</td>\n",
       "    </tr>\n",
       "    <tr>\n",
       "      <th>2</th>\n",
       "      <td>S A S D S F Y L L L L L L K R L L E E F K _ _ _ _ _ _ _ _ _</td>\n",
       "      <td>G E E T K T L T I T P T P D A E G K _ _ _ _ _ _ _ _ _ _ _ _</td>\n",
       "    </tr>\n",
       "    <tr>\n",
       "      <th>3</th>\n",
       "      <td>G N L E L L S L K _ _ _ _ _ _ _ _ _ _ _ _ _ _ _ _ _ _ _ _ _</td>\n",
       "      <td>E P V E E A D S E L S F N P A L L K _ _ _ _ _ _ _ _ _ _ _ _</td>\n",
       "    </tr>\n",
       "    <tr>\n",
       "      <th>4</th>\n",
       "      <td>E P A K A A A P A A A R R R A A A G D _ _ _ _ _ _ _ _ _ _ _</td>\n",
       "      <td>T S G H L E H Y S Q N M F P V M Q L E N K _ _ _ _ _ _ _ _ _</td>\n",
       "    </tr>\n",
       "  </tbody>\n",
       "</table>\n",
       "</div>"
      ],
      "text/plain": [
       "                                                     predicted  \\\n",
       "0  S G G G G S S G G G G S G G G D P F Y G R _ _ _ _ _ _ _ _ _   \n",
       "1  E D A A G A P P A A A A A A A A A A H _ _ _ _ _ _ _ _ _ _ _   \n",
       "2  S A S D S F Y L L L L L L K R L L E E F K _ _ _ _ _ _ _ _ _   \n",
       "3  G N L E L L S L K _ _ _ _ _ _ _ _ _ _ _ _ _ _ _ _ _ _ _ _ _   \n",
       "4  E P A K A A A P A A A R R R A A A G D _ _ _ _ _ _ _ _ _ _ _   \n",
       "\n",
       "                                                          true  \n",
       "0  G E D L V L Q V P E G T V V L N S K _ _ _ _ _ _ _ _ _ _ _ _  \n",
       "1  H D R Q F D N L K P S G G Y I T G D Q A R _ _ _ _ _ _ _ _ _  \n",
       "2  G E E T K T L T I T P T P D A E G K _ _ _ _ _ _ _ _ _ _ _ _  \n",
       "3  E P V E E A D S E L S F N P A L L K _ _ _ _ _ _ _ _ _ _ _ _  \n",
       "4  T S G H L E H Y S Q N M F P V M Q L E N K _ _ _ _ _ _ _ _ _  "
      ]
     },
     "metadata": {},
     "output_type": "display_data"
    },
    {
     "name": "stderr",
     "output_type": "stream",
     "text": [
      "2021-10-27 15:10:52,897 - mmproteo_attention_model: epoch 7:\n",
      "2021-10-27 15:10:52,899 - mmproteo_attention_model: DEBUG: {'name': 'Adam', 'learning_rate': 0.00037654006, 'decay': 0.0, 'beta_1': 0.9, 'beta_2': 0.98, 'epsilon': 1e-09, 'amsgrad': False}\n"
     ]
    },
    {
     "name": "stdout",
     "output_type": "stream",
     "text": [
      "Epoch 7/7\n",
      "200/200 [==============================] - 408s 2s/step - loss: 1.0412 - sparse_categorical_accuracy: 0.6667 - jaccard_batch_distance: 0.6132 - leuvenshtein_batch_distance: 9.8189 - val_loss: 1.8475 - val_sparse_categorical_accuracy: 0.4790 - val_jaccard_batch_distance: 0.5498 - val_leuvenshtein_batch_distance: 14.7162\n"
     ]
    },
    {
     "name": "stderr",
     "output_type": "stream",
     "text": [
      "2021-10-27 15:17:44,030 - mmproteo_attention_model: DEBUG: {'loss': [1.041243553161621], 'sparse_categorical_accuracy': [0.6666669845581055], 'jaccard_batch_distance': [0.6131781935691833], 'leuvenshtein_batch_distance': [9.818877220153809], 'val_loss': [1.8475011587142944], 'val_sparse_categorical_accuracy': [0.47895509004592896], 'val_jaccard_batch_distance': [0.5498331189155579], 'val_leuvenshtein_batch_distance': [14.716161727905273]}\n"
     ]
    },
    {
     "name": "stdout",
     "output_type": "stream",
     "text": [
      "Train:\n"
     ]
    },
    {
     "data": {
      "text/html": [
       "<div>\n",
       "<style scoped>\n",
       "    .dataframe tbody tr th:only-of-type {\n",
       "        vertical-align: middle;\n",
       "    }\n",
       "\n",
       "    .dataframe tbody tr th {\n",
       "        vertical-align: top;\n",
       "    }\n",
       "\n",
       "    .dataframe thead th {\n",
       "        text-align: right;\n",
       "    }\n",
       "</style>\n",
       "<table border=\"1\" class=\"dataframe\">\n",
       "  <thead>\n",
       "    <tr style=\"text-align: right;\">\n",
       "      <th></th>\n",
       "      <th>predicted</th>\n",
       "      <th>true</th>\n",
       "    </tr>\n",
       "  </thead>\n",
       "  <tbody>\n",
       "    <tr>\n",
       "      <th>0</th>\n",
       "      <td>A A P R G L L G G G L P P V G G G G S S S S S E L D K _ _ _</td>\n",
       "      <td>M H E L S Y A T S V L N A I L D A I K Q Q E T L G R K _ _ _</td>\n",
       "    </tr>\n",
       "    <tr>\n",
       "      <th>1</th>\n",
       "      <td>F T P P P R R R P A P A R _ _ _ _ _ _ _ _ _ _ _ _ _ _ _ _ _</td>\n",
       "      <td>A P K A P D A T A D M G R _ _ _ _ _ _ _ _ _ _ _ _ _ _ _ _ _</td>\n",
       "    </tr>\n",
       "    <tr>\n",
       "      <th>2</th>\n",
       "      <td>F S Q A Q E M A R _ _ _ _ _ _ _ _ _ _ _ _ _ _ _ _ _ _ _ _ _</td>\n",
       "      <td>D I A E D F T V K _ _ _ _ _ _ _ _ _ _ _ _ _ _ _ _ _ _ _ _ _</td>\n",
       "    </tr>\n",
       "    <tr>\n",
       "      <th>3</th>\n",
       "      <td>K E V P P R A W R _ _ _ _ _ _ _ _ _ _ _ _ _ _ _ _ _ _ _ _ _</td>\n",
       "      <td>E L F R F M A N I C L K R _ _ _ _ _ _ _ _ _ _ _ _ _ _ _ _ _</td>\n",
       "    </tr>\n",
       "    <tr>\n",
       "      <th>4</th>\n",
       "      <td>G P A G R R G R H H H H H H H H H H G G G V G E G E K _ _ _</td>\n",
       "      <td>D T I G F A T V R _ _ _ _ _ _ _ _ _ _ _ _ _ _ _ _ _ _ _ _ _</td>\n",
       "    </tr>\n",
       "  </tbody>\n",
       "</table>\n",
       "</div>"
      ],
      "text/plain": [
       "                                                     predicted  \\\n",
       "0  A A P R G L L G G G L P P V G G G G S S S S S E L D K _ _ _   \n",
       "1  F T P P P R R R P A P A R _ _ _ _ _ _ _ _ _ _ _ _ _ _ _ _ _   \n",
       "2  F S Q A Q E M A R _ _ _ _ _ _ _ _ _ _ _ _ _ _ _ _ _ _ _ _ _   \n",
       "3  K E V P P R A W R _ _ _ _ _ _ _ _ _ _ _ _ _ _ _ _ _ _ _ _ _   \n",
       "4  G P A G R R G R H H H H H H H H H H G G G V G E G E K _ _ _   \n",
       "\n",
       "                                                          true  \n",
       "0  M H E L S Y A T S V L N A I L D A I K Q Q E T L G R K _ _ _  \n",
       "1  A P K A P D A T A D M G R _ _ _ _ _ _ _ _ _ _ _ _ _ _ _ _ _  \n",
       "2  D I A E D F T V K _ _ _ _ _ _ _ _ _ _ _ _ _ _ _ _ _ _ _ _ _  \n",
       "3  E L F R F M A N I C L K R _ _ _ _ _ _ _ _ _ _ _ _ _ _ _ _ _  \n",
       "4  D T I G F A T V R _ _ _ _ _ _ _ _ _ _ _ _ _ _ _ _ _ _ _ _ _  "
      ]
     },
     "metadata": {},
     "output_type": "display_data"
    },
    {
     "name": "stdout",
     "output_type": "stream",
     "text": [
      "Eval:\n"
     ]
    },
    {
     "data": {
      "text/html": [
       "<div>\n",
       "<style scoped>\n",
       "    .dataframe tbody tr th:only-of-type {\n",
       "        vertical-align: middle;\n",
       "    }\n",
       "\n",
       "    .dataframe tbody tr th {\n",
       "        vertical-align: top;\n",
       "    }\n",
       "\n",
       "    .dataframe thead th {\n",
       "        text-align: right;\n",
       "    }\n",
       "</style>\n",
       "<table border=\"1\" class=\"dataframe\">\n",
       "  <thead>\n",
       "    <tr style=\"text-align: right;\">\n",
       "      <th></th>\n",
       "      <th>predicted</th>\n",
       "      <th>true</th>\n",
       "    </tr>\n",
       "  </thead>\n",
       "  <tbody>\n",
       "    <tr>\n",
       "      <th>0</th>\n",
       "      <td>V F G Q L G G P P P L L L L L G Q T S Q K _ _ _ _ _ _ _ _ _</td>\n",
       "      <td>N P D V P P G Q M S S Y I W S L K P G D K _ _ _ _ _ _ _ _ _</td>\n",
       "    </tr>\n",
       "    <tr>\n",
       "      <th>1</th>\n",
       "      <td>E E K R M L A A K _ _ _ _ _ _ _ _ _ _ _ _ _ _ _ _ _ _ _ _ _</td>\n",
       "      <td>F D P D F G L E K A T S S K W V T A P E R _ _ _ _ _ _ _ _ _</td>\n",
       "    </tr>\n",
       "    <tr>\n",
       "      <th>2</th>\n",
       "      <td>G Q V L N D R G G G G L D G G G D D L _ _ _ _ _ _ _ _ _ _ _</td>\n",
       "      <td>V E K S T N E A M E W M N N K L N L Q N K _ _ _ _ _ _ _ _ _</td>\n",
       "    </tr>\n",
       "    <tr>\n",
       "      <th>3</th>\n",
       "      <td>R G M D A R R R P G S D D P P P P I V _ _ _ _ _ _ _ _ _ _ _</td>\n",
       "      <td>E K S K G E E A K _ _ _ _ _ _ _ _ _ _ _ _ _ _ _ _ _ _ _ _ _</td>\n",
       "    </tr>\n",
       "    <tr>\n",
       "      <th>4</th>\n",
       "      <td>G L K G E Q G L K _ _ _ _ _ _ _ _ _ _ _ _ _ _ _ _ _ _ _ _ _</td>\n",
       "      <td>A R E H V A E F V K T L S Q I H N R _ _ _ _ _ _ _ _ _ _ _ _</td>\n",
       "    </tr>\n",
       "  </tbody>\n",
       "</table>\n",
       "</div>"
      ],
      "text/plain": [
       "                                                     predicted  \\\n",
       "0  V F G Q L G G P P P L L L L L G Q T S Q K _ _ _ _ _ _ _ _ _   \n",
       "1  E E K R M L A A K _ _ _ _ _ _ _ _ _ _ _ _ _ _ _ _ _ _ _ _ _   \n",
       "2  G Q V L N D R G G G G L D G G G D D L _ _ _ _ _ _ _ _ _ _ _   \n",
       "3  R G M D A R R R P G S D D P P P P I V _ _ _ _ _ _ _ _ _ _ _   \n",
       "4  G L K G E Q G L K _ _ _ _ _ _ _ _ _ _ _ _ _ _ _ _ _ _ _ _ _   \n",
       "\n",
       "                                                          true  \n",
       "0  N P D V P P G Q M S S Y I W S L K P G D K _ _ _ _ _ _ _ _ _  \n",
       "1  F D P D F G L E K A T S S K W V T A P E R _ _ _ _ _ _ _ _ _  \n",
       "2  V E K S T N E A M E W M N N K L N L Q N K _ _ _ _ _ _ _ _ _  \n",
       "3  E K S K G E E A K _ _ _ _ _ _ _ _ _ _ _ _ _ _ _ _ _ _ _ _ _  \n",
       "4  A R E H V A E F V K T L S Q I H N R _ _ _ _ _ _ _ _ _ _ _ _  "
      ]
     },
     "metadata": {},
     "output_type": "display_data"
    },
    {
     "name": "stderr",
     "output_type": "stream",
     "text": [
      "2021-10-27 15:17:46,970 - mmproteo_attention_model: epoch 8:\n",
      "2021-10-27 15:17:46,972 - mmproteo_attention_model: DEBUG: {'name': 'Adam', 'learning_rate': 0.00043033148, 'decay': 0.0, 'beta_1': 0.9, 'beta_2': 0.98, 'epsilon': 1e-09, 'amsgrad': False}\n"
     ]
    },
    {
     "name": "stdout",
     "output_type": "stream",
     "text": [
      "Epoch 8/8\n",
      "200/200 [==============================] - 408s 2s/step - loss: 0.8725 - sparse_categorical_accuracy: 0.7190 - jaccard_batch_distance: 0.6823 - leuvenshtein_batch_distance: 8.2866 - val_loss: 1.8100 - val_sparse_categorical_accuracy: 0.5153 - val_jaccard_batch_distance: 0.6041 - val_leuvenshtein_batch_distance: 13.4063\n"
     ]
    },
    {
     "name": "stderr",
     "output_type": "stream",
     "text": [
      "2021-10-27 15:24:37,901 - mmproteo_attention_model: DEBUG: {'loss': [0.8725209832191467], 'sparse_categorical_accuracy': [0.7190162539482117], 'jaccard_batch_distance': [0.6823002696037292], 'leuvenshtein_batch_distance': [8.286640167236328], 'val_loss': [1.8099619150161743], 'val_sparse_categorical_accuracy': [0.5153124928474426], 'val_jaccard_batch_distance': [0.6041127443313599], 'val_leuvenshtein_batch_distance': [13.406347274780273]}\n"
     ]
    },
    {
     "name": "stdout",
     "output_type": "stream",
     "text": [
      "Train:\n"
     ]
    },
    {
     "data": {
      "text/html": [
       "<div>\n",
       "<style scoped>\n",
       "    .dataframe tbody tr th:only-of-type {\n",
       "        vertical-align: middle;\n",
       "    }\n",
       "\n",
       "    .dataframe tbody tr th {\n",
       "        vertical-align: top;\n",
       "    }\n",
       "\n",
       "    .dataframe thead th {\n",
       "        text-align: right;\n",
       "    }\n",
       "</style>\n",
       "<table border=\"1\" class=\"dataframe\">\n",
       "  <thead>\n",
       "    <tr style=\"text-align: right;\">\n",
       "      <th></th>\n",
       "      <th>predicted</th>\n",
       "      <th>true</th>\n",
       "    </tr>\n",
       "  </thead>\n",
       "  <tbody>\n",
       "    <tr>\n",
       "      <th>0</th>\n",
       "      <td>T G Y Q K L I P P E E E G E E E E V P D M S L S V P K _ _ _</td>\n",
       "      <td>L M G Q I Q Q L K A E L Q D V E T Q Q V S E A E S A R _ _ _</td>\n",
       "    </tr>\n",
       "    <tr>\n",
       "      <th>1</th>\n",
       "      <td>E K E L A A V K P E V V V A A A K K G R V V W W V D K _ _ _</td>\n",
       "      <td>N I S D A D V I I S T P F H P A Y I T K E R _ _ _ _ _ _ _ _</td>\n",
       "    </tr>\n",
       "    <tr>\n",
       "      <th>2</th>\n",
       "      <td>M N D E V I E F D N T L R _ _ _ _ _ _ _ _ _ _ _ _ _ _ _ _ _</td>\n",
       "      <td>A C E H E F E L T R L Y E Q C P N C G S F E K D I L K _ _ _</td>\n",
       "    </tr>\n",
       "    <tr>\n",
       "      <th>3</th>\n",
       "      <td>V E E L R L L S K _ _ _ _ _ _ _ _ _ _ _ _ _ _ _ _ _ _ _ _ _</td>\n",
       "      <td>E L T Q E E F F N T F N N L F E G E K Q I I L T S D R _ _ _</td>\n",
       "    </tr>\n",
       "    <tr>\n",
       "      <th>4</th>\n",
       "      <td>M L K D A L A E K _ _ _ _ _ _ _ _ _ _ _ _ _ _ _ _ _ _ _ _ _</td>\n",
       "      <td>T L E A I K F D R E N I K _ _ _ _ _ _ _ _ _ _ _ _ _ _ _ _ _</td>\n",
       "    </tr>\n",
       "  </tbody>\n",
       "</table>\n",
       "</div>"
      ],
      "text/plain": [
       "                                                     predicted  \\\n",
       "0  T G Y Q K L I P P E E E G E E E E V P D M S L S V P K _ _ _   \n",
       "1  E K E L A A V K P E V V V A A A K K G R V V W W V D K _ _ _   \n",
       "2  M N D E V I E F D N T L R _ _ _ _ _ _ _ _ _ _ _ _ _ _ _ _ _   \n",
       "3  V E E L R L L S K _ _ _ _ _ _ _ _ _ _ _ _ _ _ _ _ _ _ _ _ _   \n",
       "4  M L K D A L A E K _ _ _ _ _ _ _ _ _ _ _ _ _ _ _ _ _ _ _ _ _   \n",
       "\n",
       "                                                          true  \n",
       "0  L M G Q I Q Q L K A E L Q D V E T Q Q V S E A E S A R _ _ _  \n",
       "1  N I S D A D V I I S T P F H P A Y I T K E R _ _ _ _ _ _ _ _  \n",
       "2  A C E H E F E L T R L Y E Q C P N C G S F E K D I L K _ _ _  \n",
       "3  E L T Q E E F F N T F N N L F E G E K Q I I L T S D R _ _ _  \n",
       "4  T L E A I K F D R E N I K _ _ _ _ _ _ _ _ _ _ _ _ _ _ _ _ _  "
      ]
     },
     "metadata": {},
     "output_type": "display_data"
    },
    {
     "name": "stdout",
     "output_type": "stream",
     "text": [
      "Eval:\n"
     ]
    },
    {
     "data": {
      "text/html": [
       "<div>\n",
       "<style scoped>\n",
       "    .dataframe tbody tr th:only-of-type {\n",
       "        vertical-align: middle;\n",
       "    }\n",
       "\n",
       "    .dataframe tbody tr th {\n",
       "        vertical-align: top;\n",
       "    }\n",
       "\n",
       "    .dataframe thead th {\n",
       "        text-align: right;\n",
       "    }\n",
       "</style>\n",
       "<table border=\"1\" class=\"dataframe\">\n",
       "  <thead>\n",
       "    <tr style=\"text-align: right;\">\n",
       "      <th></th>\n",
       "      <th>predicted</th>\n",
       "      <th>true</th>\n",
       "    </tr>\n",
       "  </thead>\n",
       "  <tbody>\n",
       "    <tr>\n",
       "      <th>0</th>\n",
       "      <td>E T S Q D L Y L L E W L L T N L E E A _ _ _ _ _ _ _ _ _ _ _</td>\n",
       "      <td>G I D E V L E L A L K Y I N E K L S S A N _ _ _ _ _ _ _ _ _</td>\n",
       "    </tr>\n",
       "    <tr>\n",
       "      <th>1</th>\n",
       "      <td>M R L A L E T L A D G E L L A F F L A L R _ _ _ _ _ _ _ _ _</td>\n",
       "      <td>R V A A R M A L L G G I Q V F P P R _ _ _ _ _ _ _ _ _ _ _ _</td>\n",
       "    </tr>\n",
       "    <tr>\n",
       "      <th>2</th>\n",
       "      <td>Q Q T L Q Q F A A Q A A A A A G Q Q A _ _ _ _ _ _ _ _ _ _ _</td>\n",
       "      <td>G Q V T G Q E P R _ _ _ _ _ _ _ _ _ _ _ _ _ _ _ _ _ _ _ _ _</td>\n",
       "    </tr>\n",
       "    <tr>\n",
       "      <th>3</th>\n",
       "      <td>E M N L R E T G K _ _ _ _ _ _ _ _ _ _ _ _ _ _ _ _ _ _ _ _ _</td>\n",
       "      <td>R I G W L D A V V L R Y T S M I N D F T R _ _ _ _ _ _ _ _ _</td>\n",
       "    </tr>\n",
       "    <tr>\n",
       "      <th>4</th>\n",
       "      <td>Q S H F N Y L I P E E L L L L Y L A E N R _ _ _ _ _ _ _ _ _</td>\n",
       "      <td>K C N K L G K P V I T A T Q M L D S M Q R _ _ _ _ _ _ _ _ _</td>\n",
       "    </tr>\n",
       "  </tbody>\n",
       "</table>\n",
       "</div>"
      ],
      "text/plain": [
       "                                                     predicted  \\\n",
       "0  E T S Q D L Y L L E W L L T N L E E A _ _ _ _ _ _ _ _ _ _ _   \n",
       "1  M R L A L E T L A D G E L L A F F L A L R _ _ _ _ _ _ _ _ _   \n",
       "2  Q Q T L Q Q F A A Q A A A A A G Q Q A _ _ _ _ _ _ _ _ _ _ _   \n",
       "3  E M N L R E T G K _ _ _ _ _ _ _ _ _ _ _ _ _ _ _ _ _ _ _ _ _   \n",
       "4  Q S H F N Y L I P E E L L L L Y L A E N R _ _ _ _ _ _ _ _ _   \n",
       "\n",
       "                                                          true  \n",
       "0  G I D E V L E L A L K Y I N E K L S S A N _ _ _ _ _ _ _ _ _  \n",
       "1  R V A A R M A L L G G I Q V F P P R _ _ _ _ _ _ _ _ _ _ _ _  \n",
       "2  G Q V T G Q E P R _ _ _ _ _ _ _ _ _ _ _ _ _ _ _ _ _ _ _ _ _  \n",
       "3  R I G W L D A V V L R Y T S M I N D F T R _ _ _ _ _ _ _ _ _  \n",
       "4  K C N K L G K P V I T A T Q M L D S M Q R _ _ _ _ _ _ _ _ _  "
      ]
     },
     "metadata": {},
     "output_type": "display_data"
    },
    {
     "name": "stderr",
     "output_type": "stream",
     "text": [
      "2021-10-27 15:24:40,647 - mmproteo_attention_model: epoch 9:\n",
      "2021-10-27 15:24:40,649 - mmproteo_attention_model: DEBUG: {'name': 'Adam', 'learning_rate': 0.00048412292, 'decay': 0.0, 'beta_1': 0.9, 'beta_2': 0.98, 'epsilon': 1e-09, 'amsgrad': False}\n"
     ]
    },
    {
     "name": "stdout",
     "output_type": "stream",
     "text": [
      "Epoch 9/9\n",
      "200/200 [==============================] - 408s 2s/step - loss: 0.7076 - sparse_categorical_accuracy: 0.7704 - jaccard_batch_distance: 0.7434 - leuvenshtein_batch_distance: 6.7778 - val_loss: 1.7527 - val_sparse_categorical_accuracy: 0.5558 - val_jaccard_batch_distance: 0.6421 - val_leuvenshtein_batch_distance: 12.2244\n"
     ]
    },
    {
     "name": "stderr",
     "output_type": "stream",
     "text": [
      "2021-10-27 15:31:31,147 - mmproteo_attention_model: DEBUG: {'loss': [0.7076200246810913], 'sparse_categorical_accuracy': [0.7704091668128967], 'jaccard_batch_distance': [0.7434207201004028], 'leuvenshtein_batch_distance': [6.777773380279541], 'val_loss': [1.7526754140853882], 'val_sparse_categorical_accuracy': [0.5558333396911621], 'val_jaccard_batch_distance': [0.6421228647232056], 'val_leuvenshtein_batch_distance': [12.224413871765137]}\n"
     ]
    },
    {
     "name": "stdout",
     "output_type": "stream",
     "text": [
      "Train:\n"
     ]
    },
    {
     "data": {
      "text/html": [
       "<div>\n",
       "<style scoped>\n",
       "    .dataframe tbody tr th:only-of-type {\n",
       "        vertical-align: middle;\n",
       "    }\n",
       "\n",
       "    .dataframe tbody tr th {\n",
       "        vertical-align: top;\n",
       "    }\n",
       "\n",
       "    .dataframe thead th {\n",
       "        text-align: right;\n",
       "    }\n",
       "</style>\n",
       "<table border=\"1\" class=\"dataframe\">\n",
       "  <thead>\n",
       "    <tr style=\"text-align: right;\">\n",
       "      <th></th>\n",
       "      <th>predicted</th>\n",
       "      <th>true</th>\n",
       "    </tr>\n",
       "  </thead>\n",
       "  <tbody>\n",
       "    <tr>\n",
       "      <th>0</th>\n",
       "      <td>L L P L H R K L V S L L V G A Q Y Y Y L H R _ _ _ _ _ _ _ _</td>\n",
       "      <td>L N S L L E R G G G L E I L E Q G L E E T R _ _ _ _ _ _ _ _</td>\n",
       "    </tr>\n",
       "    <tr>\n",
       "      <th>1</th>\n",
       "      <td>H V E L G L A T E A P H K _ _ _ _ _ _ _ _ _ _ _ _ _ _ _ _ _</td>\n",
       "      <td>W N H G D M T A E D V K R _ _ _ _ _ _ _ _ _ _ _ _ _ _ _ _ _</td>\n",
       "    </tr>\n",
       "    <tr>\n",
       "      <th>2</th>\n",
       "      <td>A Q L A T G P R E E L P P E V D D N E F D K _ _ _ _ _ _ _ _</td>\n",
       "      <td>I L I A G D T G W H A A R _ _ _ _ _ _ _ _ _ _ _ _ _ _ _ _ _</td>\n",
       "    </tr>\n",
       "    <tr>\n",
       "      <th>3</th>\n",
       "      <td>S S T R G T S S S _ _ _ _ _ _ _ _ _ _ _ _ _ _ _ _ _ _ _ _ _</td>\n",
       "      <td>L L L E L E A E E Q Q K K _ _ _ _ _ _ _ _ _ _ _ _ _ _ _ _ _</td>\n",
       "    </tr>\n",
       "    <tr>\n",
       "      <th>4</th>\n",
       "      <td>S G E E D S W S P D F E E E S D R S K D N K _ _ _ _ _ _ _ _</td>\n",
       "      <td>M D Q T G S A S V D L K E F Q E F M M L Y P S S D L K _ _ _</td>\n",
       "    </tr>\n",
       "  </tbody>\n",
       "</table>\n",
       "</div>"
      ],
      "text/plain": [
       "                                                     predicted  \\\n",
       "0  L L P L H R K L V S L L V G A Q Y Y Y L H R _ _ _ _ _ _ _ _   \n",
       "1  H V E L G L A T E A P H K _ _ _ _ _ _ _ _ _ _ _ _ _ _ _ _ _   \n",
       "2  A Q L A T G P R E E L P P E V D D N E F D K _ _ _ _ _ _ _ _   \n",
       "3  S S T R G T S S S _ _ _ _ _ _ _ _ _ _ _ _ _ _ _ _ _ _ _ _ _   \n",
       "4  S G E E D S W S P D F E E E S D R S K D N K _ _ _ _ _ _ _ _   \n",
       "\n",
       "                                                          true  \n",
       "0  L N S L L E R G G G L E I L E Q G L E E T R _ _ _ _ _ _ _ _  \n",
       "1  W N H G D M T A E D V K R _ _ _ _ _ _ _ _ _ _ _ _ _ _ _ _ _  \n",
       "2  I L I A G D T G W H A A R _ _ _ _ _ _ _ _ _ _ _ _ _ _ _ _ _  \n",
       "3  L L L E L E A E E Q Q K K _ _ _ _ _ _ _ _ _ _ _ _ _ _ _ _ _  \n",
       "4  M D Q T G S A S V D L K E F Q E F M M L Y P S S D L K _ _ _  "
      ]
     },
     "metadata": {},
     "output_type": "display_data"
    },
    {
     "name": "stdout",
     "output_type": "stream",
     "text": [
      "Eval:\n"
     ]
    },
    {
     "data": {
      "text/html": [
       "<div>\n",
       "<style scoped>\n",
       "    .dataframe tbody tr th:only-of-type {\n",
       "        vertical-align: middle;\n",
       "    }\n",
       "\n",
       "    .dataframe tbody tr th {\n",
       "        vertical-align: top;\n",
       "    }\n",
       "\n",
       "    .dataframe thead th {\n",
       "        text-align: right;\n",
       "    }\n",
       "</style>\n",
       "<table border=\"1\" class=\"dataframe\">\n",
       "  <thead>\n",
       "    <tr style=\"text-align: right;\">\n",
       "      <th></th>\n",
       "      <th>predicted</th>\n",
       "      <th>true</th>\n",
       "    </tr>\n",
       "  </thead>\n",
       "  <tbody>\n",
       "    <tr>\n",
       "      <th>0</th>\n",
       "      <td>M N G A P V Q C R _ _ _ _ _ _ _ _ _ _ _ _ _ _ _ _ _ _ _ _ _</td>\n",
       "      <td>G K F E I R P Q K _ _ _ _ _ _ _ _ _ _ _ _ _ _ _ _ _ _ _ _ _</td>\n",
       "    </tr>\n",
       "    <tr>\n",
       "      <th>1</th>\n",
       "      <td>H A D P A A S P R _ _ _ _ _ _ _ _ _ _ _ _ _ _ _ _ _ _ _ _ _</td>\n",
       "      <td>F S G V D R I F R _ _ _ _ _ _ _ _ _ _ _ _ _ _ _ _ _ _ _ _ _</td>\n",
       "    </tr>\n",
       "    <tr>\n",
       "      <th>2</th>\n",
       "      <td>G N T K N G I H D K L G S S Y R H Q L L K _ _ _ _ _ _ _ _ _</td>\n",
       "      <td>R R P I L P P T S P S P S P A L A F W K R _ _ _ _ _ _ _ _ _</td>\n",
       "    </tr>\n",
       "    <tr>\n",
       "      <th>3</th>\n",
       "      <td>W E E L K E E R L R P R R R L A D E L A R _ _ _ _ _ _ _ _ _</td>\n",
       "      <td>N Y I T P E E L R _ _ _ _ _ _ _ _ _ _ _ _ _ _ _ _ _ _ _ _ _</td>\n",
       "    </tr>\n",
       "    <tr>\n",
       "      <th>4</th>\n",
       "      <td>A V L V S A A V R R R R R A R R R R I _ _ _ _ _ _ _ _ _ _ _</td>\n",
       "      <td>A A H L A L K A L G R P N A V D G T I P K _ _ _ _ _ _ _ _ _</td>\n",
       "    </tr>\n",
       "  </tbody>\n",
       "</table>\n",
       "</div>"
      ],
      "text/plain": [
       "                                                     predicted  \\\n",
       "0  M N G A P V Q C R _ _ _ _ _ _ _ _ _ _ _ _ _ _ _ _ _ _ _ _ _   \n",
       "1  H A D P A A S P R _ _ _ _ _ _ _ _ _ _ _ _ _ _ _ _ _ _ _ _ _   \n",
       "2  G N T K N G I H D K L G S S Y R H Q L L K _ _ _ _ _ _ _ _ _   \n",
       "3  W E E L K E E R L R P R R R L A D E L A R _ _ _ _ _ _ _ _ _   \n",
       "4  A V L V S A A V R R R R R A R R R R I _ _ _ _ _ _ _ _ _ _ _   \n",
       "\n",
       "                                                          true  \n",
       "0  G K F E I R P Q K _ _ _ _ _ _ _ _ _ _ _ _ _ _ _ _ _ _ _ _ _  \n",
       "1  F S G V D R I F R _ _ _ _ _ _ _ _ _ _ _ _ _ _ _ _ _ _ _ _ _  \n",
       "2  R R P I L P P T S P S P S P A L A F W K R _ _ _ _ _ _ _ _ _  \n",
       "3  N Y I T P E E L R _ _ _ _ _ _ _ _ _ _ _ _ _ _ _ _ _ _ _ _ _  \n",
       "4  A A H L A L K A L G R P N A V D G T I P K _ _ _ _ _ _ _ _ _  "
      ]
     },
     "metadata": {},
     "output_type": "display_data"
    },
    {
     "name": "stderr",
     "output_type": "stream",
     "text": [
      "2021-10-27 15:31:34,263 - mmproteo_attention_model: epoch 10:\n",
      "2021-10-27 15:31:34,266 - mmproteo_attention_model: DEBUG: {'name': 'Adam', 'learning_rate': 0.00053791434, 'decay': 0.0, 'beta_1': 0.9, 'beta_2': 0.98, 'epsilon': 1e-09, 'amsgrad': False}\n"
     ]
    },
    {
     "name": "stdout",
     "output_type": "stream",
     "text": [
      "Epoch 10/10\n",
      "200/200 [==============================] - 408s 2s/step - loss: 0.5606 - sparse_categorical_accuracy: 0.8161 - jaccard_batch_distance: 0.7912 - leuvenshtein_batch_distance: 5.4513 - val_loss: 1.6106 - val_sparse_categorical_accuracy: 0.6087 - val_jaccard_batch_distance: 0.7007 - val_leuvenshtein_batch_distance: 10.6054\n"
     ]
    },
    {
     "name": "stderr",
     "output_type": "stream",
     "text": [
      "2021-10-27 15:38:24,663 - mmproteo_attention_model: DEBUG: {'loss': [0.5606470108032227], 'sparse_categorical_accuracy': [0.8161467909812927], 'jaccard_batch_distance': [0.7912319898605347], 'leuvenshtein_batch_distance': [5.451328277587891], 'val_loss': [1.6106446981430054], 'val_sparse_categorical_accuracy': [0.6086604595184326], 'val_jaccard_batch_distance': [0.7006505727767944], 'val_leuvenshtein_batch_distance': [10.605371475219727]}\n"
     ]
    },
    {
     "name": "stdout",
     "output_type": "stream",
     "text": [
      "Train:\n"
     ]
    },
    {
     "data": {
      "text/html": [
       "<div>\n",
       "<style scoped>\n",
       "    .dataframe tbody tr th:only-of-type {\n",
       "        vertical-align: middle;\n",
       "    }\n",
       "\n",
       "    .dataframe tbody tr th {\n",
       "        vertical-align: top;\n",
       "    }\n",
       "\n",
       "    .dataframe thead th {\n",
       "        text-align: right;\n",
       "    }\n",
       "</style>\n",
       "<table border=\"1\" class=\"dataframe\">\n",
       "  <thead>\n",
       "    <tr style=\"text-align: right;\">\n",
       "      <th></th>\n",
       "      <th>predicted</th>\n",
       "      <th>true</th>\n",
       "    </tr>\n",
       "  </thead>\n",
       "  <tbody>\n",
       "    <tr>\n",
       "      <th>0</th>\n",
       "      <td>L K T F K N N T I P I L K _ _ _ _ _ _ _ _ _ _ _ _ _ _ _ _ _</td>\n",
       "      <td>K T V D L L S K R _ _ _ _ _ _ _ _ _ _ _ _ _ _ _ _ _ _ _ _ _</td>\n",
       "    </tr>\n",
       "    <tr>\n",
       "      <th>1</th>\n",
       "      <td>Y F L P T D K L K _ _ _ _ _ _ _ _ _ _ _ _ _ _ _ _ _ _ _ _ _</td>\n",
       "      <td>I D T A G C L L K C S G H G H C D P I T K R _ _ _ _ _ _ _ _</td>\n",
       "    </tr>\n",
       "    <tr>\n",
       "      <th>2</th>\n",
       "      <td>G L V G E I L A R Y E K K _ _ _ _ _ _ _ _ _ _ _ _ _ _ _ _ _</td>\n",
       "      <td>E A A G N E T A E Q M V Q S V Y D D F T V I A E E L K _ _ _</td>\n",
       "    </tr>\n",
       "    <tr>\n",
       "      <th>3</th>\n",
       "      <td>T A A D P G A L A A V V L A R R R R L E A R _ _ _ _ _ _ _ _</td>\n",
       "      <td>A I E T L L G I E P P L R _ _ _ _ _ _ _ _ _ _ _ _ _ _ _ _ _</td>\n",
       "    </tr>\n",
       "    <tr>\n",
       "      <th>4</th>\n",
       "      <td>E C R V A R S L R _ _ _ _ _ _ _ _ _ _ _ _ _ _ _ _ _ _ _ _ _</td>\n",
       "      <td>E L A A L W L S D N Q S K A L I P L Q T E A H P E T K _ _ _</td>\n",
       "    </tr>\n",
       "  </tbody>\n",
       "</table>\n",
       "</div>"
      ],
      "text/plain": [
       "                                                     predicted  \\\n",
       "0  L K T F K N N T I P I L K _ _ _ _ _ _ _ _ _ _ _ _ _ _ _ _ _   \n",
       "1  Y F L P T D K L K _ _ _ _ _ _ _ _ _ _ _ _ _ _ _ _ _ _ _ _ _   \n",
       "2  G L V G E I L A R Y E K K _ _ _ _ _ _ _ _ _ _ _ _ _ _ _ _ _   \n",
       "3  T A A D P G A L A A V V L A R R R R L E A R _ _ _ _ _ _ _ _   \n",
       "4  E C R V A R S L R _ _ _ _ _ _ _ _ _ _ _ _ _ _ _ _ _ _ _ _ _   \n",
       "\n",
       "                                                          true  \n",
       "0  K T V D L L S K R _ _ _ _ _ _ _ _ _ _ _ _ _ _ _ _ _ _ _ _ _  \n",
       "1  I D T A G C L L K C S G H G H C D P I T K R _ _ _ _ _ _ _ _  \n",
       "2  E A A G N E T A E Q M V Q S V Y D D F T V I A E E L K _ _ _  \n",
       "3  A I E T L L G I E P P L R _ _ _ _ _ _ _ _ _ _ _ _ _ _ _ _ _  \n",
       "4  E L A A L W L S D N Q S K A L I P L Q T E A H P E T K _ _ _  "
      ]
     },
     "metadata": {},
     "output_type": "display_data"
    },
    {
     "name": "stdout",
     "output_type": "stream",
     "text": [
      "Eval:\n"
     ]
    },
    {
     "data": {
      "text/html": [
       "<div>\n",
       "<style scoped>\n",
       "    .dataframe tbody tr th:only-of-type {\n",
       "        vertical-align: middle;\n",
       "    }\n",
       "\n",
       "    .dataframe tbody tr th {\n",
       "        vertical-align: top;\n",
       "    }\n",
       "\n",
       "    .dataframe thead th {\n",
       "        text-align: right;\n",
       "    }\n",
       "</style>\n",
       "<table border=\"1\" class=\"dataframe\">\n",
       "  <thead>\n",
       "    <tr style=\"text-align: right;\">\n",
       "      <th></th>\n",
       "      <th>predicted</th>\n",
       "      <th>true</th>\n",
       "    </tr>\n",
       "  </thead>\n",
       "  <tbody>\n",
       "    <tr>\n",
       "      <th>0</th>\n",
       "      <td>S S K S E Q A Y R _ _ _ _ _ _ _ _ _ _ _ _ _ _ _ _ _ _ _ _ _</td>\n",
       "      <td>V G T S S V R R K _ _ _ _ _ _ _ _ _ _ _ _ _ _ _ _ _ _ _ _ _</td>\n",
       "    </tr>\n",
       "    <tr>\n",
       "      <th>1</th>\n",
       "      <td>N L L Q N G M V H V V Y V M A L L D S Q _ _ _ _ _ _ _ _ _ _</td>\n",
       "      <td>L A T D A S E Q L K L M G L T L T K _ _ _ _ _ _ _ _ _ _ _ _</td>\n",
       "    </tr>\n",
       "    <tr>\n",
       "      <th>2</th>\n",
       "      <td>Y Y Y R A L K G E L H L L N V H Y Q M C R _ _ _ _ _ _ _ _ _</td>\n",
       "      <td>N T P Y I N E K I N G I P V L T I S N G K _ _ _ _ _ _ _ _ _</td>\n",
       "    </tr>\n",
       "    <tr>\n",
       "      <th>3</th>\n",
       "      <td>N F N D D G H H H H L L D D N N A F F R K _ _ _ _ _ _ _ _ _</td>\n",
       "      <td>D V R F S S D A R _ _ _ _ _ _ _ _ _ _ _ _ _ _ _ _ _ _ _ _ _</td>\n",
       "    </tr>\n",
       "    <tr>\n",
       "      <th>4</th>\n",
       "      <td>Y Y A I P E N M N E D G Y K V A D L E V K _ _ _ _ _ _ _ _ _</td>\n",
       "      <td>S L V P V D K V I Y R A L E E L E K _ _ _ _ _ _ _ _ _ _ _ _</td>\n",
       "    </tr>\n",
       "  </tbody>\n",
       "</table>\n",
       "</div>"
      ],
      "text/plain": [
       "                                                     predicted  \\\n",
       "0  S S K S E Q A Y R _ _ _ _ _ _ _ _ _ _ _ _ _ _ _ _ _ _ _ _ _   \n",
       "1  N L L Q N G M V H V V Y V M A L L D S Q _ _ _ _ _ _ _ _ _ _   \n",
       "2  Y Y Y R A L K G E L H L L N V H Y Q M C R _ _ _ _ _ _ _ _ _   \n",
       "3  N F N D D G H H H H L L D D N N A F F R K _ _ _ _ _ _ _ _ _   \n",
       "4  Y Y A I P E N M N E D G Y K V A D L E V K _ _ _ _ _ _ _ _ _   \n",
       "\n",
       "                                                          true  \n",
       "0  V G T S S V R R K _ _ _ _ _ _ _ _ _ _ _ _ _ _ _ _ _ _ _ _ _  \n",
       "1  L A T D A S E Q L K L M G L T L T K _ _ _ _ _ _ _ _ _ _ _ _  \n",
       "2  N T P Y I N E K I N G I P V L T I S N G K _ _ _ _ _ _ _ _ _  \n",
       "3  D V R F S S D A R _ _ _ _ _ _ _ _ _ _ _ _ _ _ _ _ _ _ _ _ _  \n",
       "4  S L V P V D K V I Y R A L E E L E K _ _ _ _ _ _ _ _ _ _ _ _  "
      ]
     },
     "metadata": {},
     "output_type": "display_data"
    },
    {
     "name": "stderr",
     "output_type": "stream",
     "text": [
      "2021-10-27 15:38:27,612 - mmproteo_attention_model: epoch 11:\n",
      "2021-10-27 15:38:27,614 - mmproteo_attention_model: DEBUG: {'name': 'Adam', 'learning_rate': 0.0005917058, 'decay': 0.0, 'beta_1': 0.9, 'beta_2': 0.98, 'epsilon': 1e-09, 'amsgrad': False}\n"
     ]
    },
    {
     "name": "stdout",
     "output_type": "stream",
     "text": [
      "Epoch 11/11\n",
      "200/200 [==============================] - 408s 2s/step - loss: 0.4093 - sparse_categorical_accuracy: 0.8618 - jaccard_batch_distance: 0.8302 - leuvenshtein_batch_distance: 4.1158 - val_loss: 1.1797 - val_sparse_categorical_accuracy: 0.7034 - val_jaccard_batch_distance: 0.7416 - val_leuvenshtein_batch_distance: 8.4263\n"
     ]
    },
    {
     "name": "stderr",
     "output_type": "stream",
     "text": [
      "2021-10-27 15:45:18,271 - mmproteo_attention_model: DEBUG: {'loss': [0.40927445888519287], 'sparse_categorical_accuracy': [0.8618434071540833], 'jaccard_batch_distance': [0.8302451372146606], 'leuvenshtein_batch_distance': [4.11575174331665], 'val_loss': [1.1796786785125732], 'val_sparse_categorical_accuracy': [0.7033756375312805], 'val_jaccard_batch_distance': [0.7416356801986694], 'val_leuvenshtein_batch_distance': [8.426318168640137]}\n"
     ]
    },
    {
     "name": "stdout",
     "output_type": "stream",
     "text": [
      "Train:\n"
     ]
    },
    {
     "data": {
      "text/html": [
       "<div>\n",
       "<style scoped>\n",
       "    .dataframe tbody tr th:only-of-type {\n",
       "        vertical-align: middle;\n",
       "    }\n",
       "\n",
       "    .dataframe tbody tr th {\n",
       "        vertical-align: top;\n",
       "    }\n",
       "\n",
       "    .dataframe thead th {\n",
       "        text-align: right;\n",
       "    }\n",
       "</style>\n",
       "<table border=\"1\" class=\"dataframe\">\n",
       "  <thead>\n",
       "    <tr style=\"text-align: right;\">\n",
       "      <th></th>\n",
       "      <th>predicted</th>\n",
       "      <th>true</th>\n",
       "    </tr>\n",
       "  </thead>\n",
       "  <tbody>\n",
       "    <tr>\n",
       "      <th>0</th>\n",
       "      <td>H T T R S P N F R _ _ _ _ _ _ _ _ _ _ _ _ _ _ _ _ _ _ _ _ _</td>\n",
       "      <td>I A H G I N K S Q P N S S N N V G C V G T K _ _ _ _ _ _ _ _</td>\n",
       "    </tr>\n",
       "    <tr>\n",
       "      <th>1</th>\n",
       "      <td>G G E K K I P L L S V P S K N G A Y T L P K _ _ _ _ _ _ _ _</td>\n",
       "      <td>V T S F R V G D R _ _ _ _ _ _ _ _ _ _ _ _ _ _ _ _ _ _ _ _ _</td>\n",
       "    </tr>\n",
       "    <tr>\n",
       "      <th>2</th>\n",
       "      <td>L K S N I A P T R _ _ _ _ _ _ _ _ _ _ _ _ _ _ _ _ _ _ _ _ _</td>\n",
       "      <td>A N R P I M V K G K D V M P Q V N V V L E R _ _ _ _ _ _ _ _</td>\n",
       "    </tr>\n",
       "    <tr>\n",
       "      <th>3</th>\n",
       "      <td>S S S S L E D L L D T E F D D A G K A F S I P L L Q R _ _ _</td>\n",
       "      <td>L L Q V D G V I L C G L T H K Q A V Q C L K _ _ _ _ _ _ _ _</td>\n",
       "    </tr>\n",
       "    <tr>\n",
       "      <th>4</th>\n",
       "      <td>R Q E V E S I L K _ _ _ _ _ _ _ _ _ _ _ _ _ _ _ _ _ _ _ _ _</td>\n",
       "      <td>L A E L I K I I R _ _ _ _ _ _ _ _ _ _ _ _ _ _ _ _ _ _ _ _ _</td>\n",
       "    </tr>\n",
       "  </tbody>\n",
       "</table>\n",
       "</div>"
      ],
      "text/plain": [
       "                                                     predicted  \\\n",
       "0  H T T R S P N F R _ _ _ _ _ _ _ _ _ _ _ _ _ _ _ _ _ _ _ _ _   \n",
       "1  G G E K K I P L L S V P S K N G A Y T L P K _ _ _ _ _ _ _ _   \n",
       "2  L K S N I A P T R _ _ _ _ _ _ _ _ _ _ _ _ _ _ _ _ _ _ _ _ _   \n",
       "3  S S S S L E D L L D T E F D D A G K A F S I P L L Q R _ _ _   \n",
       "4  R Q E V E S I L K _ _ _ _ _ _ _ _ _ _ _ _ _ _ _ _ _ _ _ _ _   \n",
       "\n",
       "                                                          true  \n",
       "0  I A H G I N K S Q P N S S N N V G C V G T K _ _ _ _ _ _ _ _  \n",
       "1  V T S F R V G D R _ _ _ _ _ _ _ _ _ _ _ _ _ _ _ _ _ _ _ _ _  \n",
       "2  A N R P I M V K G K D V M P Q V N V V L E R _ _ _ _ _ _ _ _  \n",
       "3  L L Q V D G V I L C G L T H K Q A V Q C L K _ _ _ _ _ _ _ _  \n",
       "4  L A E L I K I I R _ _ _ _ _ _ _ _ _ _ _ _ _ _ _ _ _ _ _ _ _  "
      ]
     },
     "metadata": {},
     "output_type": "display_data"
    },
    {
     "name": "stdout",
     "output_type": "stream",
     "text": [
      "Eval:\n"
     ]
    },
    {
     "data": {
      "text/html": [
       "<div>\n",
       "<style scoped>\n",
       "    .dataframe tbody tr th:only-of-type {\n",
       "        vertical-align: middle;\n",
       "    }\n",
       "\n",
       "    .dataframe tbody tr th {\n",
       "        vertical-align: top;\n",
       "    }\n",
       "\n",
       "    .dataframe thead th {\n",
       "        text-align: right;\n",
       "    }\n",
       "</style>\n",
       "<table border=\"1\" class=\"dataframe\">\n",
       "  <thead>\n",
       "    <tr style=\"text-align: right;\">\n",
       "      <th></th>\n",
       "      <th>predicted</th>\n",
       "      <th>true</th>\n",
       "    </tr>\n",
       "  </thead>\n",
       "  <tbody>\n",
       "    <tr>\n",
       "      <th>0</th>\n",
       "      <td>Q F V M G C N C G Q V W M N _ G S G N _ _ _ _ _ _ _ _ _ _ _</td>\n",
       "      <td>I T P N F P N T L D P A I S R S S S _ _ _ _ _ _ _ _ _ _ _ _</td>\n",
       "    </tr>\n",
       "    <tr>\n",
       "      <th>1</th>\n",
       "      <td>N N E M S E V L G E M L R L N E E R D _ _ _ _ _ _ _ _ _ _ _</td>\n",
       "      <td>A Q L L R K L Y R _ _ _ _ _ _ _ _ _ _ _ _ _ _ _ _ _ _ _ _ _</td>\n",
       "    </tr>\n",
       "    <tr>\n",
       "      <th>2</th>\n",
       "      <td>E W K S Y E P Q V T V A Q A A L L H V _ _ _ _ _ _ _ _ _ _ _</td>\n",
       "      <td>D R N V P T D V L S F P F H E H L K _ _ _ _ _ _ _ _ _ _ _ _</td>\n",
       "    </tr>\n",
       "    <tr>\n",
       "      <th>3</th>\n",
       "      <td>E E L A S T K D K _ _ _ _ _ _ _ _ _ _ _ _ _ _ _ _ _ _ _ _ _</td>\n",
       "      <td>R Y L D L L K L R _ _ _ _ _ _ _ _ _ _ _ _ _ _ _ _ _ _ _ _ _</td>\n",
       "    </tr>\n",
       "    <tr>\n",
       "      <th>4</th>\n",
       "      <td>E R E R L E L L R _ _ _ _ _ _ _ _ _ _ _ _ _ _ _ _ _ _ _ _ _</td>\n",
       "      <td>T Q R S P R D Q G S P W T E V L L R _ _ _ _ _ _ _ _ _ _ _ _</td>\n",
       "    </tr>\n",
       "  </tbody>\n",
       "</table>\n",
       "</div>"
      ],
      "text/plain": [
       "                                                     predicted  \\\n",
       "0  Q F V M G C N C G Q V W M N _ G S G N _ _ _ _ _ _ _ _ _ _ _   \n",
       "1  N N E M S E V L G E M L R L N E E R D _ _ _ _ _ _ _ _ _ _ _   \n",
       "2  E W K S Y E P Q V T V A Q A A L L H V _ _ _ _ _ _ _ _ _ _ _   \n",
       "3  E E L A S T K D K _ _ _ _ _ _ _ _ _ _ _ _ _ _ _ _ _ _ _ _ _   \n",
       "4  E R E R L E L L R _ _ _ _ _ _ _ _ _ _ _ _ _ _ _ _ _ _ _ _ _   \n",
       "\n",
       "                                                          true  \n",
       "0  I T P N F P N T L D P A I S R S S S _ _ _ _ _ _ _ _ _ _ _ _  \n",
       "1  A Q L L R K L Y R _ _ _ _ _ _ _ _ _ _ _ _ _ _ _ _ _ _ _ _ _  \n",
       "2  D R N V P T D V L S F P F H E H L K _ _ _ _ _ _ _ _ _ _ _ _  \n",
       "3  R Y L D L L K L R _ _ _ _ _ _ _ _ _ _ _ _ _ _ _ _ _ _ _ _ _  \n",
       "4  T Q R S P R D Q G S P W T E V L L R _ _ _ _ _ _ _ _ _ _ _ _  "
      ]
     },
     "metadata": {},
     "output_type": "display_data"
    },
    {
     "name": "stderr",
     "output_type": "stream",
     "text": [
      "2021-10-27 15:45:21,190 - mmproteo_attention_model: epoch 12:\n",
      "2021-10-27 15:45:21,192 - mmproteo_attention_model: DEBUG: {'name': 'Adam', 'learning_rate': 0.00064549723, 'decay': 0.0, 'beta_1': 0.9, 'beta_2': 0.98, 'epsilon': 1e-09, 'amsgrad': False}\n"
     ]
    },
    {
     "name": "stdout",
     "output_type": "stream",
     "text": [
      "Epoch 12/12\n",
      "200/200 [==============================] - 408s 2s/step - loss: 0.3174 - sparse_categorical_accuracy: 0.8896 - jaccard_batch_distance: 0.8574 - leuvenshtein_batch_distance: 3.2945 - val_loss: 0.9869 - val_sparse_categorical_accuracy: 0.7433 - val_jaccard_batch_distance: 0.7640 - val_leuvenshtein_batch_distance: 7.3866\n"
     ]
    },
    {
     "name": "stderr",
     "output_type": "stream",
     "text": [
      "2021-10-27 15:52:12,129 - mmproteo_attention_model: DEBUG: {'loss': [0.31735968589782715], 'sparse_categorical_accuracy': [0.8896152377128601], 'jaccard_batch_distance': [0.8573735952377319], 'leuvenshtein_batch_distance': [3.2944726943969727], 'val_loss': [0.9868943095207214], 'val_sparse_categorical_accuracy': [0.7433007955551147], 'val_jaccard_batch_distance': [0.7639559507369995], 'val_leuvenshtein_batch_distance': [7.386572360992432]}\n"
     ]
    },
    {
     "name": "stdout",
     "output_type": "stream",
     "text": [
      "Train:\n"
     ]
    },
    {
     "data": {
      "text/html": [
       "<div>\n",
       "<style scoped>\n",
       "    .dataframe tbody tr th:only-of-type {\n",
       "        vertical-align: middle;\n",
       "    }\n",
       "\n",
       "    .dataframe tbody tr th {\n",
       "        vertical-align: top;\n",
       "    }\n",
       "\n",
       "    .dataframe thead th {\n",
       "        text-align: right;\n",
       "    }\n",
       "</style>\n",
       "<table border=\"1\" class=\"dataframe\">\n",
       "  <thead>\n",
       "    <tr style=\"text-align: right;\">\n",
       "      <th></th>\n",
       "      <th>predicted</th>\n",
       "      <th>true</th>\n",
       "    </tr>\n",
       "  </thead>\n",
       "  <tbody>\n",
       "    <tr>\n",
       "      <th>0</th>\n",
       "      <td>L P E S D S L Q W F H N G N L L P T H T K P S Y R F K _ _ _</td>\n",
       "      <td>V E T F Y Q E S A G V A D L I T T C A G G R _ _ _ _ _ _ _ _</td>\n",
       "    </tr>\n",
       "    <tr>\n",
       "      <th>1</th>\n",
       "      <td>M S T E Q L G G S S G P S P P P T G A S S F P E A Y K _ _ _</td>\n",
       "      <td>R I R L E A F H Q _ _ _ _ _ _ _ _ _ _ _ _ _ _ _ _ _ _ _ _ _</td>\n",
       "    </tr>\n",
       "    <tr>\n",
       "      <th>2</th>\n",
       "      <td>L L E G E P A S Y D D P V S M V G A E E T Y E A R C R _ _ _</td>\n",
       "      <td>F A N Y A A S K E K D D K _ _ _ _ _ _ _ _ _ _ _ _ _ _ _ _ _</td>\n",
       "    </tr>\n",
       "    <tr>\n",
       "      <th>3</th>\n",
       "      <td>L V T F V G D P S W V G R _ _ _ _ _ _ _ _ _ _ _ _ _ _ _ _ _</td>\n",
       "      <td>N F L N F L W N N T S L R _ _ _ _ _ _ _ _ _ _ _ _ _ _ _ _ _</td>\n",
       "    </tr>\n",
       "    <tr>\n",
       "      <th>4</th>\n",
       "      <td>D E K P K L L L P T P A P A E P L G L L G G G G G W R _ _ _</td>\n",
       "      <td>R I H G L V E G L I T L R _ _ _ _ _ _ _ _ _ _ _ _ _ _ _ _ _</td>\n",
       "    </tr>\n",
       "  </tbody>\n",
       "</table>\n",
       "</div>"
      ],
      "text/plain": [
       "                                                     predicted  \\\n",
       "0  L P E S D S L Q W F H N G N L L P T H T K P S Y R F K _ _ _   \n",
       "1  M S T E Q L G G S S G P S P P P T G A S S F P E A Y K _ _ _   \n",
       "2  L L E G E P A S Y D D P V S M V G A E E T Y E A R C R _ _ _   \n",
       "3  L V T F V G D P S W V G R _ _ _ _ _ _ _ _ _ _ _ _ _ _ _ _ _   \n",
       "4  D E K P K L L L P T P A P A E P L G L L G G G G G W R _ _ _   \n",
       "\n",
       "                                                          true  \n",
       "0  V E T F Y Q E S A G V A D L I T T C A G G R _ _ _ _ _ _ _ _  \n",
       "1  R I R L E A F H Q _ _ _ _ _ _ _ _ _ _ _ _ _ _ _ _ _ _ _ _ _  \n",
       "2  F A N Y A A S K E K D D K _ _ _ _ _ _ _ _ _ _ _ _ _ _ _ _ _  \n",
       "3  N F L N F L W N N T S L R _ _ _ _ _ _ _ _ _ _ _ _ _ _ _ _ _  \n",
       "4  R I H G L V E G L I T L R _ _ _ _ _ _ _ _ _ _ _ _ _ _ _ _ _  "
      ]
     },
     "metadata": {},
     "output_type": "display_data"
    },
    {
     "name": "stdout",
     "output_type": "stream",
     "text": [
      "Eval:\n"
     ]
    },
    {
     "data": {
      "text/html": [
       "<div>\n",
       "<style scoped>\n",
       "    .dataframe tbody tr th:only-of-type {\n",
       "        vertical-align: middle;\n",
       "    }\n",
       "\n",
       "    .dataframe tbody tr th {\n",
       "        vertical-align: top;\n",
       "    }\n",
       "\n",
       "    .dataframe thead th {\n",
       "        text-align: right;\n",
       "    }\n",
       "</style>\n",
       "<table border=\"1\" class=\"dataframe\">\n",
       "  <thead>\n",
       "    <tr style=\"text-align: right;\">\n",
       "      <th></th>\n",
       "      <th>predicted</th>\n",
       "      <th>true</th>\n",
       "    </tr>\n",
       "  </thead>\n",
       "  <tbody>\n",
       "    <tr>\n",
       "      <th>0</th>\n",
       "      <td>R C L H C A T D K _ _ _ _ _ _ _ _ _ _ _ _ _ _ _ _ _ _ _ _ _</td>\n",
       "      <td>N I E Q L L K N A E E L L E I G G R _ _ _ _ _ _ _ _ _ _ _ _</td>\n",
       "    </tr>\n",
       "    <tr>\n",
       "      <th>1</th>\n",
       "      <td>Q E T A D L L R K _ _ _ _ _ _ _ _ _ _ _ _ _ _ _ _ _ _ _ _ _</td>\n",
       "      <td>S L S S S F S A G L L I T L A D Q K _ _ _ _ _ _ _ _ _ _ _ _</td>\n",
       "    </tr>\n",
       "    <tr>\n",
       "      <th>2</th>\n",
       "      <td>G G F S Q A V T D M L E N H P L V T V V R _ _ _ _ _ _ _ _ _</td>\n",
       "      <td>I I E D G F F V K _ _ _ _ _ _ _ _ _ _ _ _ _ _ _ _ _ _ _ _ _</td>\n",
       "    </tr>\n",
       "    <tr>\n",
       "      <th>3</th>\n",
       "      <td>D V V L A L I H K _ _ _ _ _ _ _ _ _ _ _ _ _ _ _ _ _ _ _ _ _</td>\n",
       "      <td>V D T A D N K G R _ _ _ _ _ _ _ _ _ _ _ _ _ _ _ _ _ _ _ _ _</td>\n",
       "    </tr>\n",
       "    <tr>\n",
       "      <th>4</th>\n",
       "      <td>G S T G A F I L S G E G L I Q I L I _ _ _ _ _ _ _ _ _ _ _ _</td>\n",
       "      <td>G K M V V N I P K _ _ _ _ _ _ _ _ _ _ _ _ _ _ _ _ _ _ _ _ _</td>\n",
       "    </tr>\n",
       "  </tbody>\n",
       "</table>\n",
       "</div>"
      ],
      "text/plain": [
       "                                                     predicted  \\\n",
       "0  R C L H C A T D K _ _ _ _ _ _ _ _ _ _ _ _ _ _ _ _ _ _ _ _ _   \n",
       "1  Q E T A D L L R K _ _ _ _ _ _ _ _ _ _ _ _ _ _ _ _ _ _ _ _ _   \n",
       "2  G G F S Q A V T D M L E N H P L V T V V R _ _ _ _ _ _ _ _ _   \n",
       "3  D V V L A L I H K _ _ _ _ _ _ _ _ _ _ _ _ _ _ _ _ _ _ _ _ _   \n",
       "4  G S T G A F I L S G E G L I Q I L I _ _ _ _ _ _ _ _ _ _ _ _   \n",
       "\n",
       "                                                          true  \n",
       "0  N I E Q L L K N A E E L L E I G G R _ _ _ _ _ _ _ _ _ _ _ _  \n",
       "1  S L S S S F S A G L L I T L A D Q K _ _ _ _ _ _ _ _ _ _ _ _  \n",
       "2  I I E D G F F V K _ _ _ _ _ _ _ _ _ _ _ _ _ _ _ _ _ _ _ _ _  \n",
       "3  V D T A D N K G R _ _ _ _ _ _ _ _ _ _ _ _ _ _ _ _ _ _ _ _ _  \n",
       "4  G K M V V N I P K _ _ _ _ _ _ _ _ _ _ _ _ _ _ _ _ _ _ _ _ _  "
      ]
     },
     "metadata": {},
     "output_type": "display_data"
    },
    {
     "name": "stderr",
     "output_type": "stream",
     "text": [
      "2021-10-27 15:52:15,053 - mmproteo_attention_model: epoch 13:\n",
      "2021-10-27 15:52:15,055 - mmproteo_attention_model: DEBUG: {'name': 'Adam', 'learning_rate': 0.0006992887, 'decay': 0.0, 'beta_1': 0.9, 'beta_2': 0.98, 'epsilon': 1e-09, 'amsgrad': False}\n"
     ]
    },
    {
     "name": "stdout",
     "output_type": "stream",
     "text": [
      "Epoch 13/13\n",
      "200/200 [==============================] - 407s 2s/step - loss: 0.2744 - sparse_categorical_accuracy: 0.9029 - jaccard_batch_distance: 0.8717 - leuvenshtein_batch_distance: 2.9005 - val_loss: 0.7988 - val_sparse_categorical_accuracy: 0.7794 - val_jaccard_batch_distance: 0.7905 - val_leuvenshtein_batch_distance: 6.4226\n"
     ]
    },
    {
     "name": "stderr",
     "output_type": "stream",
     "text": [
      "2021-10-27 15:59:05,194 - mmproteo_attention_model: DEBUG: {'loss': [0.27444371581077576], 'sparse_categorical_accuracy': [0.9029433727264404], 'jaccard_batch_distance': [0.8716620802879333], 'leuvenshtein_batch_distance': [2.9005467891693115], 'val_loss': [0.7987910509109497], 'val_sparse_categorical_accuracy': [0.7794417142868042], 'val_jaccard_batch_distance': [0.7904788255691528], 'val_leuvenshtein_batch_distance': [6.422607421875]}\n"
     ]
    },
    {
     "name": "stdout",
     "output_type": "stream",
     "text": [
      "Train:\n"
     ]
    },
    {
     "data": {
      "text/html": [
       "<div>\n",
       "<style scoped>\n",
       "    .dataframe tbody tr th:only-of-type {\n",
       "        vertical-align: middle;\n",
       "    }\n",
       "\n",
       "    .dataframe tbody tr th {\n",
       "        vertical-align: top;\n",
       "    }\n",
       "\n",
       "    .dataframe thead th {\n",
       "        text-align: right;\n",
       "    }\n",
       "</style>\n",
       "<table border=\"1\" class=\"dataframe\">\n",
       "  <thead>\n",
       "    <tr style=\"text-align: right;\">\n",
       "      <th></th>\n",
       "      <th>predicted</th>\n",
       "      <th>true</th>\n",
       "    </tr>\n",
       "  </thead>\n",
       "  <tbody>\n",
       "    <tr>\n",
       "      <th>0</th>\n",
       "      <td>D L L V V V P K K V F C L V D S S S K P S N R E D S R _ _ _</td>\n",
       "      <td>T G D T L T D M K _ _ _ _ _ _ _ _ _ _ _ _ _ _ _ _ _ _ _ _ _</td>\n",
       "    </tr>\n",
       "    <tr>\n",
       "      <th>1</th>\n",
       "      <td>I K G K I G I K K _ _ _ _ _ _ _ _ _ _ _ _ _ _ _ _ _ _ _ _ _</td>\n",
       "      <td>H G S S H H K I S G N L S P E Q D Q G L W K Q S I Q K _ _ _</td>\n",
       "    </tr>\n",
       "    <tr>\n",
       "      <th>2</th>\n",
       "      <td>S V G M W G S V K _ _ _ _ _ _ _ _ _ _ _ _ _ _ _ _ _ _ _ _ _</td>\n",
       "      <td>A T F T M E F E R _ _ _ _ _ _ _ _ _ _ _ _ _ _ _ _ _ _ _ _ _</td>\n",
       "    </tr>\n",
       "    <tr>\n",
       "      <th>3</th>\n",
       "      <td>L N D A I Q A E K I F V T L M G D D V E P R _ _ _ _ _ _ _ _</td>\n",
       "      <td>T T V P D I D C N Q S I K _ _ _ _ _ _ _ _ _ _ _ _ _ _ _ _ _</td>\n",
       "    </tr>\n",
       "    <tr>\n",
       "      <th>4</th>\n",
       "      <td>T T S W T N V N D V S S R _ _ _ _ _ _ _ _ _ _ _ _ _ _ _ _ _</td>\n",
       "      <td>E M A A H N E L E E D F D I P L T K L L E S E N R W K _ _ _</td>\n",
       "    </tr>\n",
       "  </tbody>\n",
       "</table>\n",
       "</div>"
      ],
      "text/plain": [
       "                                                     predicted  \\\n",
       "0  D L L V V V P K K V F C L V D S S S K P S N R E D S R _ _ _   \n",
       "1  I K G K I G I K K _ _ _ _ _ _ _ _ _ _ _ _ _ _ _ _ _ _ _ _ _   \n",
       "2  S V G M W G S V K _ _ _ _ _ _ _ _ _ _ _ _ _ _ _ _ _ _ _ _ _   \n",
       "3  L N D A I Q A E K I F V T L M G D D V E P R _ _ _ _ _ _ _ _   \n",
       "4  T T S W T N V N D V S S R _ _ _ _ _ _ _ _ _ _ _ _ _ _ _ _ _   \n",
       "\n",
       "                                                          true  \n",
       "0  T G D T L T D M K _ _ _ _ _ _ _ _ _ _ _ _ _ _ _ _ _ _ _ _ _  \n",
       "1  H G S S H H K I S G N L S P E Q D Q G L W K Q S I Q K _ _ _  \n",
       "2  A T F T M E F E R _ _ _ _ _ _ _ _ _ _ _ _ _ _ _ _ _ _ _ _ _  \n",
       "3  T T V P D I D C N Q S I K _ _ _ _ _ _ _ _ _ _ _ _ _ _ _ _ _  \n",
       "4  E M A A H N E L E E D F D I P L T K L L E S E N R W K _ _ _  "
      ]
     },
     "metadata": {},
     "output_type": "display_data"
    },
    {
     "name": "stdout",
     "output_type": "stream",
     "text": [
      "Eval:\n"
     ]
    },
    {
     "data": {
      "text/html": [
       "<div>\n",
       "<style scoped>\n",
       "    .dataframe tbody tr th:only-of-type {\n",
       "        vertical-align: middle;\n",
       "    }\n",
       "\n",
       "    .dataframe tbody tr th {\n",
       "        vertical-align: top;\n",
       "    }\n",
       "\n",
       "    .dataframe thead th {\n",
       "        text-align: right;\n",
       "    }\n",
       "</style>\n",
       "<table border=\"1\" class=\"dataframe\">\n",
       "  <thead>\n",
       "    <tr style=\"text-align: right;\">\n",
       "      <th></th>\n",
       "      <th>predicted</th>\n",
       "      <th>true</th>\n",
       "    </tr>\n",
       "  </thead>\n",
       "  <tbody>\n",
       "    <tr>\n",
       "      <th>0</th>\n",
       "      <td>V Y I G D A Q K K _ _ _ _ _ _ _ _ _ _ _ _ _ _ _ _ _ _ _ _ _</td>\n",
       "      <td>D M F T K D G R R _ _ _ _ _ _ _ _ _ _ _ _ _ _ _ _ _ _ _ _ _</td>\n",
       "    </tr>\n",
       "    <tr>\n",
       "      <th>1</th>\n",
       "      <td>G E V V T C S E K _ _ _ _ _ _ _ _ _ _ _ _ _ _ _ _ _ _ _ _ _</td>\n",
       "      <td>N N L L N T N D I N Y L R S D F N R _ _ _ _ _ _ _ _ _ _ _ _</td>\n",
       "    </tr>\n",
       "    <tr>\n",
       "      <th>2</th>\n",
       "      <td>E K M M Q S N F E G V G W D M E D C D I K _ _ _ _ _ _ _ _ _</td>\n",
       "      <td>A V I W P Q Y V K _ _ _ _ _ _ _ _ _ _ _ _ _ _ _ _ _ _ _ _ _</td>\n",
       "    </tr>\n",
       "    <tr>\n",
       "      <th>3</th>\n",
       "      <td>D R A L A E T P V E R R P P T P L P P _ _ _ _ _ _ _ _ _ _ _</td>\n",
       "      <td>I S G A T I D V R _ _ _ _ _ _ _ _ _ _ _ _ _ _ _ _ _ _ _ _ _</td>\n",
       "    </tr>\n",
       "    <tr>\n",
       "      <th>4</th>\n",
       "      <td>A D S S G G G G R R S S D G N N Y R _ _ _ _ _ _ _ _ _ _ _ _</td>\n",
       "      <td>H G I L R E L N K _ _ _ _ _ _ _ _ _ _ _ _ _ _ _ _ _ _ _ _ _</td>\n",
       "    </tr>\n",
       "  </tbody>\n",
       "</table>\n",
       "</div>"
      ],
      "text/plain": [
       "                                                     predicted  \\\n",
       "0  V Y I G D A Q K K _ _ _ _ _ _ _ _ _ _ _ _ _ _ _ _ _ _ _ _ _   \n",
       "1  G E V V T C S E K _ _ _ _ _ _ _ _ _ _ _ _ _ _ _ _ _ _ _ _ _   \n",
       "2  E K M M Q S N F E G V G W D M E D C D I K _ _ _ _ _ _ _ _ _   \n",
       "3  D R A L A E T P V E R R P P T P L P P _ _ _ _ _ _ _ _ _ _ _   \n",
       "4  A D S S G G G G R R S S D G N N Y R _ _ _ _ _ _ _ _ _ _ _ _   \n",
       "\n",
       "                                                          true  \n",
       "0  D M F T K D G R R _ _ _ _ _ _ _ _ _ _ _ _ _ _ _ _ _ _ _ _ _  \n",
       "1  N N L L N T N D I N Y L R S D F N R _ _ _ _ _ _ _ _ _ _ _ _  \n",
       "2  A V I W P Q Y V K _ _ _ _ _ _ _ _ _ _ _ _ _ _ _ _ _ _ _ _ _  \n",
       "3  I S G A T I D V R _ _ _ _ _ _ _ _ _ _ _ _ _ _ _ _ _ _ _ _ _  \n",
       "4  H G I L R E L N K _ _ _ _ _ _ _ _ _ _ _ _ _ _ _ _ _ _ _ _ _  "
      ]
     },
     "metadata": {},
     "output_type": "display_data"
    },
    {
     "name": "stderr",
     "output_type": "stream",
     "text": [
      "2021-10-27 15:59:08,137 - mmproteo_attention_model: epoch 14:\n",
      "2021-10-27 15:59:08,139 - mmproteo_attention_model: DEBUG: {'name': 'Adam', 'learning_rate': 0.0007530801, 'decay': 0.0, 'beta_1': 0.9, 'beta_2': 0.98, 'epsilon': 1e-09, 'amsgrad': False}\n"
     ]
    },
    {
     "name": "stdout",
     "output_type": "stream",
     "text": [
      "Epoch 14/14\n",
      "200/200 [==============================] - 409s 2s/step - loss: 0.2510 - sparse_categorical_accuracy: 0.9104 - jaccard_batch_distance: 0.8807 - leuvenshtein_batch_distance: 2.6778 - val_loss: 0.8512 - val_sparse_categorical_accuracy: 0.7811 - val_jaccard_batch_distance: 0.7983 - val_leuvenshtein_batch_distance: 6.3437\n"
     ]
    },
    {
     "name": "stderr",
     "output_type": "stream",
     "text": [
      "2021-10-27 16:05:59,935 - mmproteo_attention_model: DEBUG: {'loss': [0.25095081329345703], 'sparse_categorical_accuracy': [0.9104267358779907], 'jaccard_batch_distance': [0.8807345628738403], 'leuvenshtein_batch_distance': [2.677783250808716], 'val_loss': [0.8512064814567566], 'val_sparse_categorical_accuracy': [0.7811067700386047], 'val_jaccard_batch_distance': [0.7982794642448425], 'val_leuvenshtein_batch_distance': [6.343652248382568]}\n"
     ]
    },
    {
     "name": "stdout",
     "output_type": "stream",
     "text": [
      "Train:\n"
     ]
    },
    {
     "data": {
      "text/html": [
       "<div>\n",
       "<style scoped>\n",
       "    .dataframe tbody tr th:only-of-type {\n",
       "        vertical-align: middle;\n",
       "    }\n",
       "\n",
       "    .dataframe tbody tr th {\n",
       "        vertical-align: top;\n",
       "    }\n",
       "\n",
       "    .dataframe thead th {\n",
       "        text-align: right;\n",
       "    }\n",
       "</style>\n",
       "<table border=\"1\" class=\"dataframe\">\n",
       "  <thead>\n",
       "    <tr style=\"text-align: right;\">\n",
       "      <th></th>\n",
       "      <th>predicted</th>\n",
       "      <th>true</th>\n",
       "    </tr>\n",
       "  </thead>\n",
       "  <tbody>\n",
       "    <tr>\n",
       "      <th>0</th>\n",
       "      <td>D W D L Q G V G R _ _ _ _ _ _ _ _ _ _ _ _ _ _ _ _ _ _ _ _ _</td>\n",
       "      <td>L V G Y S V F L V V V V L I S C L L K I E H P K L N K _ _ _</td>\n",
       "    </tr>\n",
       "    <tr>\n",
       "      <th>1</th>\n",
       "      <td>D R L L T L L L L G A L L S A D L Y F H L W P Q V Q R _ _ _</td>\n",
       "      <td>T D V S Q A E C C A S G N I D T A W S N F T H P G N K _ _ _</td>\n",
       "    </tr>\n",
       "    <tr>\n",
       "      <th>2</th>\n",
       "      <td>E L D Q F A E R R _ _ _ _ _ _ _ _ _ _ _ _ _ _ _ _ _ _ _ _ _</td>\n",
       "      <td>E L P K L F G G I E I I E K A S C L T C N K _ _ _ _ _ _ _ _</td>\n",
       "    </tr>\n",
       "    <tr>\n",
       "      <th>3</th>\n",
       "      <td>S A T N G N L F R F N K R _ _ _ _ _ _ _ _ _ _ _ _ _ _ _ _ _</td>\n",
       "      <td>N W N L T R I E W R S I R _ _ _ _ _ _ _ _ _ _ _ _ _ _ _ _ _</td>\n",
       "    </tr>\n",
       "    <tr>\n",
       "      <th>4</th>\n",
       "      <td>A V K D N L E I P L E L I G V S R R E R G R _ _ _ _ _ _ _ _</td>\n",
       "      <td>S L N S L H P S S A L S K _ _ _ _ _ _ _ _ _ _ _ _ _ _ _ _ _</td>\n",
       "    </tr>\n",
       "  </tbody>\n",
       "</table>\n",
       "</div>"
      ],
      "text/plain": [
       "                                                     predicted  \\\n",
       "0  D W D L Q G V G R _ _ _ _ _ _ _ _ _ _ _ _ _ _ _ _ _ _ _ _ _   \n",
       "1  D R L L T L L L L G A L L S A D L Y F H L W P Q V Q R _ _ _   \n",
       "2  E L D Q F A E R R _ _ _ _ _ _ _ _ _ _ _ _ _ _ _ _ _ _ _ _ _   \n",
       "3  S A T N G N L F R F N K R _ _ _ _ _ _ _ _ _ _ _ _ _ _ _ _ _   \n",
       "4  A V K D N L E I P L E L I G V S R R E R G R _ _ _ _ _ _ _ _   \n",
       "\n",
       "                                                          true  \n",
       "0  L V G Y S V F L V V V V L I S C L L K I E H P K L N K _ _ _  \n",
       "1  T D V S Q A E C C A S G N I D T A W S N F T H P G N K _ _ _  \n",
       "2  E L P K L F G G I E I I E K A S C L T C N K _ _ _ _ _ _ _ _  \n",
       "3  N W N L T R I E W R S I R _ _ _ _ _ _ _ _ _ _ _ _ _ _ _ _ _  \n",
       "4  S L N S L H P S S A L S K _ _ _ _ _ _ _ _ _ _ _ _ _ _ _ _ _  "
      ]
     },
     "metadata": {},
     "output_type": "display_data"
    },
    {
     "name": "stdout",
     "output_type": "stream",
     "text": [
      "Eval:\n"
     ]
    },
    {
     "data": {
      "text/html": [
       "<div>\n",
       "<style scoped>\n",
       "    .dataframe tbody tr th:only-of-type {\n",
       "        vertical-align: middle;\n",
       "    }\n",
       "\n",
       "    .dataframe tbody tr th {\n",
       "        vertical-align: top;\n",
       "    }\n",
       "\n",
       "    .dataframe thead th {\n",
       "        text-align: right;\n",
       "    }\n",
       "</style>\n",
       "<table border=\"1\" class=\"dataframe\">\n",
       "  <thead>\n",
       "    <tr style=\"text-align: right;\">\n",
       "      <th></th>\n",
       "      <th>predicted</th>\n",
       "      <th>true</th>\n",
       "    </tr>\n",
       "  </thead>\n",
       "  <tbody>\n",
       "    <tr>\n",
       "      <th>0</th>\n",
       "      <td>A S Y D Q P A A E V V S Q N M N G L T G R _ _ _ _ _ _ _ _ _</td>\n",
       "      <td>I E W G Q V N Q A I E K E T F L H L Y E K _ _ _ _ _ _ _ _ _</td>\n",
       "    </tr>\n",
       "    <tr>\n",
       "      <th>1</th>\n",
       "      <td>L R F F S S P S E Q L N L S S S S F I _ _ _ _ _ _ _ _ _ _ _</td>\n",
       "      <td>G N G Q R F G G R _ _ _ _ _ _ _ _ _ _ _ _ _ _ _ _ _ _ _ _ _</td>\n",
       "    </tr>\n",
       "    <tr>\n",
       "      <th>2</th>\n",
       "      <td>E E V E E W S G S T G D P Q K P P D P _ _ _ _ _ _ _ _ _ _ _</td>\n",
       "      <td>G G R M P A L Q R _ _ _ _ _ _ _ _ _ _ _ _ _ _ _ _ _ _ _ _ _</td>\n",
       "    </tr>\n",
       "    <tr>\n",
       "      <th>3</th>\n",
       "      <td>V S D K T A F F Y L G E M V E Y D D T K K _ _ _ _ _ _ _ _ _</td>\n",
       "      <td>N K T V S S S V N M A A A P P Q L V L I R _ _ _ _ _ _ _ _ _</td>\n",
       "    </tr>\n",
       "    <tr>\n",
       "      <th>4</th>\n",
       "      <td>L M E G Q H A V K _ _ _ _ _ _ _ _ _ _ _ _ _ _ _ _ _ _ _ _ _</td>\n",
       "      <td>T V I A Q S Y E R _ _ _ _ _ _ _ _ _ _ _ _ _ _ _ _ _ _ _ _ _</td>\n",
       "    </tr>\n",
       "  </tbody>\n",
       "</table>\n",
       "</div>"
      ],
      "text/plain": [
       "                                                     predicted  \\\n",
       "0  A S Y D Q P A A E V V S Q N M N G L T G R _ _ _ _ _ _ _ _ _   \n",
       "1  L R F F S S P S E Q L N L S S S S F I _ _ _ _ _ _ _ _ _ _ _   \n",
       "2  E E V E E W S G S T G D P Q K P P D P _ _ _ _ _ _ _ _ _ _ _   \n",
       "3  V S D K T A F F Y L G E M V E Y D D T K K _ _ _ _ _ _ _ _ _   \n",
       "4  L M E G Q H A V K _ _ _ _ _ _ _ _ _ _ _ _ _ _ _ _ _ _ _ _ _   \n",
       "\n",
       "                                                          true  \n",
       "0  I E W G Q V N Q A I E K E T F L H L Y E K _ _ _ _ _ _ _ _ _  \n",
       "1  G N G Q R F G G R _ _ _ _ _ _ _ _ _ _ _ _ _ _ _ _ _ _ _ _ _  \n",
       "2  G G R M P A L Q R _ _ _ _ _ _ _ _ _ _ _ _ _ _ _ _ _ _ _ _ _  \n",
       "3  N K T V S S S V N M A A A P P Q L V L I R _ _ _ _ _ _ _ _ _  \n",
       "4  T V I A Q S Y E R _ _ _ _ _ _ _ _ _ _ _ _ _ _ _ _ _ _ _ _ _  "
      ]
     },
     "metadata": {},
     "output_type": "display_data"
    },
    {
     "name": "stderr",
     "output_type": "stream",
     "text": [
      "2021-10-27 16:06:02,731 - mmproteo_attention_model: epoch 15:\n",
      "2021-10-27 16:06:02,733 - mmproteo_attention_model: DEBUG: {'name': 'Adam', 'learning_rate': 0.0008068715, 'decay': 0.0, 'beta_1': 0.9, 'beta_2': 0.98, 'epsilon': 1e-09, 'amsgrad': False}\n"
     ]
    },
    {
     "name": "stdout",
     "output_type": "stream",
     "text": [
      "Epoch 15/15\n",
      "200/200 [==============================] - 407s 2s/step - loss: 0.2345 - sparse_categorical_accuracy: 0.9157 - jaccard_batch_distance: 0.8874 - leuvenshtein_batch_distance: 2.5194 - val_loss: 0.7651 - val_sparse_categorical_accuracy: 0.7966 - val_jaccard_batch_distance: 0.8102 - val_leuvenshtein_batch_distance: 5.8978\n"
     ]
    },
    {
     "name": "stderr",
     "output_type": "stream",
     "text": [
      "2021-10-27 16:12:53,039 - mmproteo_attention_model: DEBUG: {'loss': [0.23447513580322266], 'sparse_categorical_accuracy': [0.9157382845878601], 'jaccard_batch_distance': [0.887444257736206], 'leuvenshtein_batch_distance': [2.5193750858306885], 'val_loss': [0.7651465535163879], 'val_sparse_categorical_accuracy': [0.7965673804283142], 'val_jaccard_batch_distance': [0.8102483749389648], 'val_leuvenshtein_batch_distance': [5.897753715515137]}\n"
     ]
    },
    {
     "name": "stdout",
     "output_type": "stream",
     "text": [
      "Train:\n"
     ]
    },
    {
     "data": {
      "text/html": [
       "<div>\n",
       "<style scoped>\n",
       "    .dataframe tbody tr th:only-of-type {\n",
       "        vertical-align: middle;\n",
       "    }\n",
       "\n",
       "    .dataframe tbody tr th {\n",
       "        vertical-align: top;\n",
       "    }\n",
       "\n",
       "    .dataframe thead th {\n",
       "        text-align: right;\n",
       "    }\n",
       "</style>\n",
       "<table border=\"1\" class=\"dataframe\">\n",
       "  <thead>\n",
       "    <tr style=\"text-align: right;\">\n",
       "      <th></th>\n",
       "      <th>predicted</th>\n",
       "      <th>true</th>\n",
       "    </tr>\n",
       "  </thead>\n",
       "  <tbody>\n",
       "    <tr>\n",
       "      <th>0</th>\n",
       "      <td>D Q L L G L L N K _ _ _ _ _ _ _ _ _ _ _ _ _ _ _ _ _ _ _ _ _</td>\n",
       "      <td>A R A E A L S A I G E S R _ _ _ _ _ _ _ _ _ _ _ _ _ _ _ _ _</td>\n",
       "    </tr>\n",
       "    <tr>\n",
       "      <th>1</th>\n",
       "      <td>L L T E A E E A L T V L K _ _ _ _ _ _ _ _ _ _ _ _ _ _ _ _ _</td>\n",
       "      <td>G E M Q A S A F R _ _ _ _ _ _ _ _ _ _ _ _ _ _ _ _ _ _ _ _ _</td>\n",
       "    </tr>\n",
       "    <tr>\n",
       "      <th>2</th>\n",
       "      <td>V T P A L T S N I T G T K _ _ _ _ _ _ _ _ _ _ _ _ _ _ _ _ _</td>\n",
       "      <td>K E L Y E G N H D A E W K E N S E S I R P K _ _ _ _ _ _ _ _</td>\n",
       "    </tr>\n",
       "    <tr>\n",
       "      <th>3</th>\n",
       "      <td>T D A W V S R P R _ _ _ _ _ _ _ _ _ _ _ _ _ _ _ _ _ _ _ _ _</td>\n",
       "      <td>D L R L V L N M A E N L D Q S M P V T S I T N E V F K _ _ _</td>\n",
       "    </tr>\n",
       "    <tr>\n",
       "      <th>4</th>\n",
       "      <td>V N E R R R V E D V L L K _ _ _ _ _ _ _ _ _ _ _ _ _ _ _ _ _</td>\n",
       "      <td>K I N L S E I D I I D T M I A L K T E P L E N I D F K _ _ _</td>\n",
       "    </tr>\n",
       "  </tbody>\n",
       "</table>\n",
       "</div>"
      ],
      "text/plain": [
       "                                                     predicted  \\\n",
       "0  D Q L L G L L N K _ _ _ _ _ _ _ _ _ _ _ _ _ _ _ _ _ _ _ _ _   \n",
       "1  L L T E A E E A L T V L K _ _ _ _ _ _ _ _ _ _ _ _ _ _ _ _ _   \n",
       "2  V T P A L T S N I T G T K _ _ _ _ _ _ _ _ _ _ _ _ _ _ _ _ _   \n",
       "3  T D A W V S R P R _ _ _ _ _ _ _ _ _ _ _ _ _ _ _ _ _ _ _ _ _   \n",
       "4  V N E R R R V E D V L L K _ _ _ _ _ _ _ _ _ _ _ _ _ _ _ _ _   \n",
       "\n",
       "                                                          true  \n",
       "0  A R A E A L S A I G E S R _ _ _ _ _ _ _ _ _ _ _ _ _ _ _ _ _  \n",
       "1  G E M Q A S A F R _ _ _ _ _ _ _ _ _ _ _ _ _ _ _ _ _ _ _ _ _  \n",
       "2  K E L Y E G N H D A E W K E N S E S I R P K _ _ _ _ _ _ _ _  \n",
       "3  D L R L V L N M A E N L D Q S M P V T S I T N E V F K _ _ _  \n",
       "4  K I N L S E I D I I D T M I A L K T E P L E N I D F K _ _ _  "
      ]
     },
     "metadata": {},
     "output_type": "display_data"
    },
    {
     "name": "stdout",
     "output_type": "stream",
     "text": [
      "Eval:\n"
     ]
    },
    {
     "data": {
      "text/html": [
       "<div>\n",
       "<style scoped>\n",
       "    .dataframe tbody tr th:only-of-type {\n",
       "        vertical-align: middle;\n",
       "    }\n",
       "\n",
       "    .dataframe tbody tr th {\n",
       "        vertical-align: top;\n",
       "    }\n",
       "\n",
       "    .dataframe thead th {\n",
       "        text-align: right;\n",
       "    }\n",
       "</style>\n",
       "<table border=\"1\" class=\"dataframe\">\n",
       "  <thead>\n",
       "    <tr style=\"text-align: right;\">\n",
       "      <th></th>\n",
       "      <th>predicted</th>\n",
       "      <th>true</th>\n",
       "    </tr>\n",
       "  </thead>\n",
       "  <tbody>\n",
       "    <tr>\n",
       "      <th>0</th>\n",
       "      <td>L A Q S H G V Q V M I E G P G H V P C H K _ _ _ _ _ _ _ _ _</td>\n",
       "      <td>I T A E A L D L V V E L S D G D M R _ _ _ _ _ _ _ _ _ _ _ _</td>\n",
       "    </tr>\n",
       "    <tr>\n",
       "      <th>1</th>\n",
       "      <td>F F Q T D L D R N N S L E E N V L R I A K _ _ _ _ _ _ _ _ _</td>\n",
       "      <td>D R L I K H L E K _ _ _ _ _ _ _ _ _ _ _ _ _ _ _ _ _ _ _ _ _</td>\n",
       "    </tr>\n",
       "    <tr>\n",
       "      <th>2</th>\n",
       "      <td>D D G T L D T L K _ _ _ _ _ _ _ _ _ _ _ _ _ _ _ _ _ _ _ _ _</td>\n",
       "      <td>V G K L T Q A Q V T A I A E Q K M K _ _ _ _ _ _ _ _ _ _ _ _</td>\n",
       "    </tr>\n",
       "    <tr>\n",
       "      <th>3</th>\n",
       "      <td>E D F V L W K L T S G G I K E N S G _ _ _ _ _ _ _ _ _ _ _ _</td>\n",
       "      <td>S P S G K I L R R _ _ _ _ _ _ _ _ _ _ _ _ _ _ _ _ _ _ _ _ _</td>\n",
       "    </tr>\n",
       "    <tr>\n",
       "      <th>4</th>\n",
       "      <td>I N Q G Y I S L K _ _ _ _ _ _ _ _ _ _ _ _ _ _ _ _ _ _ _ _ _</td>\n",
       "      <td>T I M G S L L T P Q E L Q N L A R R _ _ _ _ _ _ _ _ _ _ _ _</td>\n",
       "    </tr>\n",
       "  </tbody>\n",
       "</table>\n",
       "</div>"
      ],
      "text/plain": [
       "                                                     predicted  \\\n",
       "0  L A Q S H G V Q V M I E G P G H V P C H K _ _ _ _ _ _ _ _ _   \n",
       "1  F F Q T D L D R N N S L E E N V L R I A K _ _ _ _ _ _ _ _ _   \n",
       "2  D D G T L D T L K _ _ _ _ _ _ _ _ _ _ _ _ _ _ _ _ _ _ _ _ _   \n",
       "3  E D F V L W K L T S G G I K E N S G _ _ _ _ _ _ _ _ _ _ _ _   \n",
       "4  I N Q G Y I S L K _ _ _ _ _ _ _ _ _ _ _ _ _ _ _ _ _ _ _ _ _   \n",
       "\n",
       "                                                          true  \n",
       "0  I T A E A L D L V V E L S D G D M R _ _ _ _ _ _ _ _ _ _ _ _  \n",
       "1  D R L I K H L E K _ _ _ _ _ _ _ _ _ _ _ _ _ _ _ _ _ _ _ _ _  \n",
       "2  V G K L T Q A Q V T A I A E Q K M K _ _ _ _ _ _ _ _ _ _ _ _  \n",
       "3  S P S G K I L R R _ _ _ _ _ _ _ _ _ _ _ _ _ _ _ _ _ _ _ _ _  \n",
       "4  T I M G S L L T P Q E L Q N L A R R _ _ _ _ _ _ _ _ _ _ _ _  "
      ]
     },
     "metadata": {},
     "output_type": "display_data"
    },
    {
     "name": "stderr",
     "output_type": "stream",
     "text": [
      "2021-10-27 16:12:55,972 - mmproteo_attention_model: epoch 16:\n",
      "2021-10-27 16:12:55,974 - mmproteo_attention_model: DEBUG: {'name': 'Adam', 'learning_rate': 0.00078125, 'decay': 0.0, 'beta_1': 0.9, 'beta_2': 0.98, 'epsilon': 1e-09, 'amsgrad': False}\n"
     ]
    },
    {
     "name": "stdout",
     "output_type": "stream",
     "text": [
      "Epoch 16/16\n",
      "200/200 [==============================] - 407s 2s/step - loss: 0.2105 - sparse_categorical_accuracy: 0.9234 - jaccard_batch_distance: 0.8969 - leuvenshtein_batch_distance: 2.2901 - val_loss: 0.6509 - val_sparse_categorical_accuracy: 0.8128 - val_jaccard_batch_distance: 0.8216 - val_leuvenshtein_batch_distance: 5.4727\n"
     ]
    },
    {
     "name": "stderr",
     "output_type": "stream",
     "text": [
      "2021-10-27 16:19:46,112 - mmproteo_attention_model: DEBUG: {'loss': [0.21049988269805908], 'sparse_categorical_accuracy': [0.923433244228363], 'jaccard_batch_distance': [0.8968627452850342], 'leuvenshtein_batch_distance': [2.290146589279175], 'val_loss': [0.650869607925415], 'val_sparse_categorical_accuracy': [0.8127701878547668], 'val_jaccard_batch_distance': [0.8216496706008911], 'val_leuvenshtein_batch_distance': [5.472704887390137]}\n"
     ]
    },
    {
     "name": "stdout",
     "output_type": "stream",
     "text": [
      "Train:\n"
     ]
    },
    {
     "data": {
      "text/html": [
       "<div>\n",
       "<style scoped>\n",
       "    .dataframe tbody tr th:only-of-type {\n",
       "        vertical-align: middle;\n",
       "    }\n",
       "\n",
       "    .dataframe tbody tr th {\n",
       "        vertical-align: top;\n",
       "    }\n",
       "\n",
       "    .dataframe thead th {\n",
       "        text-align: right;\n",
       "    }\n",
       "</style>\n",
       "<table border=\"1\" class=\"dataframe\">\n",
       "  <thead>\n",
       "    <tr style=\"text-align: right;\">\n",
       "      <th></th>\n",
       "      <th>predicted</th>\n",
       "      <th>true</th>\n",
       "    </tr>\n",
       "  </thead>\n",
       "  <tbody>\n",
       "    <tr>\n",
       "      <th>0</th>\n",
       "      <td>E D T T L H D L R A D F A H L Q H S T A L R _ _ _ _ _ _ _ _</td>\n",
       "      <td>W V S C M C V A N N V L F A F F T K Y G L L W L D T K _ _ _</td>\n",
       "    </tr>\n",
       "    <tr>\n",
       "      <th>1</th>\n",
       "      <td>W N I D F V F N L A S E Y V F D A L R I S N R H L L R _ _ _</td>\n",
       "      <td>V T H L I Q D N M P G N Y V F S Y D Q F F R _ _ _ _ _ _ _ _</td>\n",
       "    </tr>\n",
       "    <tr>\n",
       "      <th>2</th>\n",
       "      <td>D P K E P Q E P K _ _ _ _ _ _ _ _ _ _ _ _ _ _ _ _ _ _ _ _ _</td>\n",
       "      <td>A A H A L Y G H L S Y D T L Y S A G H W L R _ _ _ _ _ _ _ _</td>\n",
       "    </tr>\n",
       "    <tr>\n",
       "      <th>3</th>\n",
       "      <td>R V M T A D E G V Q N K K _ _ _ _ _ _ _ _ _ _ _ _ _ _ _ _ _</td>\n",
       "      <td>A Y G L S E S K N A E L K _ _ _ _ _ _ _ _ _ _ _ _ _ _ _ _ _</td>\n",
       "    </tr>\n",
       "    <tr>\n",
       "      <th>4</th>\n",
       "      <td>L R I L S Q P L K _ _ _ _ _ _ _ _ _ _ _ _ _ _ _ _ _ _ _ _ _</td>\n",
       "      <td>I F F H T D A A Q A Y G K _ _ _ _ _ _ _ _ _ _ _ _ _ _ _ _ _</td>\n",
       "    </tr>\n",
       "  </tbody>\n",
       "</table>\n",
       "</div>"
      ],
      "text/plain": [
       "                                                     predicted  \\\n",
       "0  E D T T L H D L R A D F A H L Q H S T A L R _ _ _ _ _ _ _ _   \n",
       "1  W N I D F V F N L A S E Y V F D A L R I S N R H L L R _ _ _   \n",
       "2  D P K E P Q E P K _ _ _ _ _ _ _ _ _ _ _ _ _ _ _ _ _ _ _ _ _   \n",
       "3  R V M T A D E G V Q N K K _ _ _ _ _ _ _ _ _ _ _ _ _ _ _ _ _   \n",
       "4  L R I L S Q P L K _ _ _ _ _ _ _ _ _ _ _ _ _ _ _ _ _ _ _ _ _   \n",
       "\n",
       "                                                          true  \n",
       "0  W V S C M C V A N N V L F A F F T K Y G L L W L D T K _ _ _  \n",
       "1  V T H L I Q D N M P G N Y V F S Y D Q F F R _ _ _ _ _ _ _ _  \n",
       "2  A A H A L Y G H L S Y D T L Y S A G H W L R _ _ _ _ _ _ _ _  \n",
       "3  A Y G L S E S K N A E L K _ _ _ _ _ _ _ _ _ _ _ _ _ _ _ _ _  \n",
       "4  I F F H T D A A Q A Y G K _ _ _ _ _ _ _ _ _ _ _ _ _ _ _ _ _  "
      ]
     },
     "metadata": {},
     "output_type": "display_data"
    },
    {
     "name": "stdout",
     "output_type": "stream",
     "text": [
      "Eval:\n"
     ]
    },
    {
     "data": {
      "text/html": [
       "<div>\n",
       "<style scoped>\n",
       "    .dataframe tbody tr th:only-of-type {\n",
       "        vertical-align: middle;\n",
       "    }\n",
       "\n",
       "    .dataframe tbody tr th {\n",
       "        vertical-align: top;\n",
       "    }\n",
       "\n",
       "    .dataframe thead th {\n",
       "        text-align: right;\n",
       "    }\n",
       "</style>\n",
       "<table border=\"1\" class=\"dataframe\">\n",
       "  <thead>\n",
       "    <tr style=\"text-align: right;\">\n",
       "      <th></th>\n",
       "      <th>predicted</th>\n",
       "      <th>true</th>\n",
       "    </tr>\n",
       "  </thead>\n",
       "  <tbody>\n",
       "    <tr>\n",
       "      <th>0</th>\n",
       "      <td>G K I I T I L H N I G V V V P V F V N _ _ _ _ _ _ _ _ _ _ _</td>\n",
       "      <td>A S I E I D R K V L A E L A V N E K _ _ _ _ _ _ _ _ _ _ _ _</td>\n",
       "    </tr>\n",
       "    <tr>\n",
       "      <th>1</th>\n",
       "      <td>N W E L V L L A E L L V E V E V G P P _ _ _ _ _ _ _ _ _ _ _</td>\n",
       "      <td>A Q L R K L A A K _ _ _ _ _ _ _ _ _ _ _ _ _ _ _ _ _ _ _ _ _</td>\n",
       "    </tr>\n",
       "    <tr>\n",
       "      <th>2</th>\n",
       "      <td>V I V K E F A D L Q V E N T V L I S N A R _ _ _ _ _ _ _ _ _</td>\n",
       "      <td>F F N H T R L V T A G P G H T A A P A L R _ _ _ _ _ _ _ _ _</td>\n",
       "    </tr>\n",
       "    <tr>\n",
       "      <th>3</th>\n",
       "      <td>G Q D E V Q K I T D T Y T A K L D T I V K _ _ _ _ _ _ _ _ _</td>\n",
       "      <td>R I E L Q H L Q R _ _ _ _ _ _ _ _ _ _ _ _ _ _ _ _ _ _ _ _ _</td>\n",
       "    </tr>\n",
       "    <tr>\n",
       "      <th>4</th>\n",
       "      <td>E I V D V M Q F V A G G E T I S L R _ _ _ _ _ _ _ _ _ _ _ _</td>\n",
       "      <td>S Q C S L I G G E T A E M P G M Y K _ _ _ _ _ _ _ _ _ _ _ _</td>\n",
       "    </tr>\n",
       "  </tbody>\n",
       "</table>\n",
       "</div>"
      ],
      "text/plain": [
       "                                                     predicted  \\\n",
       "0  G K I I T I L H N I G V V V P V F V N _ _ _ _ _ _ _ _ _ _ _   \n",
       "1  N W E L V L L A E L L V E V E V G P P _ _ _ _ _ _ _ _ _ _ _   \n",
       "2  V I V K E F A D L Q V E N T V L I S N A R _ _ _ _ _ _ _ _ _   \n",
       "3  G Q D E V Q K I T D T Y T A K L D T I V K _ _ _ _ _ _ _ _ _   \n",
       "4  E I V D V M Q F V A G G E T I S L R _ _ _ _ _ _ _ _ _ _ _ _   \n",
       "\n",
       "                                                          true  \n",
       "0  A S I E I D R K V L A E L A V N E K _ _ _ _ _ _ _ _ _ _ _ _  \n",
       "1  A Q L R K L A A K _ _ _ _ _ _ _ _ _ _ _ _ _ _ _ _ _ _ _ _ _  \n",
       "2  F F N H T R L V T A G P G H T A A P A L R _ _ _ _ _ _ _ _ _  \n",
       "3  R I E L Q H L Q R _ _ _ _ _ _ _ _ _ _ _ _ _ _ _ _ _ _ _ _ _  \n",
       "4  S Q C S L I G G E T A E M P G M Y K _ _ _ _ _ _ _ _ _ _ _ _  "
      ]
     },
     "metadata": {},
     "output_type": "display_data"
    },
    {
     "name": "stderr",
     "output_type": "stream",
     "text": [
      "2021-10-27 16:19:49,098 - mmproteo_attention_model: epoch 17:\n",
      "2021-10-27 16:19:49,100 - mmproteo_attention_model: DEBUG: {'name': 'Adam', 'learning_rate': 0.0007579238, 'decay': 0.0, 'beta_1': 0.9, 'beta_2': 0.98, 'epsilon': 1e-09, 'amsgrad': False}\n"
     ]
    },
    {
     "name": "stdout",
     "output_type": "stream",
     "text": [
      "Epoch 17/17\n",
      "200/200 [==============================] - 408s 2s/step - loss: 0.1921 - sparse_categorical_accuracy: 0.9291 - jaccard_batch_distance: 0.9043 - leuvenshtein_batch_distance: 2.1213 - val_loss: 0.5541 - val_sparse_categorical_accuracy: 0.8384 - val_jaccard_batch_distance: 0.8350 - val_leuvenshtein_batch_distance: 4.6990\n"
     ]
    },
    {
     "name": "stderr",
     "output_type": "stream",
     "text": [
      "2021-10-27 16:26:39,989 - mmproteo_attention_model: DEBUG: {'loss': [0.19214223325252533], 'sparse_categorical_accuracy': [0.929087221622467], 'jaccard_batch_distance': [0.9042876958847046], 'leuvenshtein_batch_distance': [2.1213085651397705], 'val_loss': [0.5541496872901917], 'val_sparse_categorical_accuracy': [0.8384439945220947], 'val_jaccard_batch_distance': [0.8349546194076538], 'val_leuvenshtein_batch_distance': [4.699023246765137]}\n"
     ]
    },
    {
     "name": "stdout",
     "output_type": "stream",
     "text": [
      "Train:\n"
     ]
    },
    {
     "data": {
      "text/html": [
       "<div>\n",
       "<style scoped>\n",
       "    .dataframe tbody tr th:only-of-type {\n",
       "        vertical-align: middle;\n",
       "    }\n",
       "\n",
       "    .dataframe tbody tr th {\n",
       "        vertical-align: top;\n",
       "    }\n",
       "\n",
       "    .dataframe thead th {\n",
       "        text-align: right;\n",
       "    }\n",
       "</style>\n",
       "<table border=\"1\" class=\"dataframe\">\n",
       "  <thead>\n",
       "    <tr style=\"text-align: right;\">\n",
       "      <th></th>\n",
       "      <th>predicted</th>\n",
       "      <th>true</th>\n",
       "    </tr>\n",
       "  </thead>\n",
       "  <tbody>\n",
       "    <tr>\n",
       "      <th>0</th>\n",
       "      <td>L V L Q W K F D S L L A R _ _ _ _ _ _ _ _ _ _ _ _ _ _ _ _ _</td>\n",
       "      <td>E V A L D A L Q T H Q R K _ _ _ _ _ _ _ _ _ _ _ _ _ _ _ _ _</td>\n",
       "    </tr>\n",
       "    <tr>\n",
       "      <th>1</th>\n",
       "      <td>S S S C G T G Y L L L Q A A A P S A S P R R P C S R R _ _ _</td>\n",
       "      <td>N T Q P A P E G R _ _ _ _ _ _ _ _ _ _ _ _ _ _ _ _ _ _ _ _ _</td>\n",
       "    </tr>\n",
       "    <tr>\n",
       "      <th>2</th>\n",
       "      <td>S G K Y R V E D L A Y S F Q E T A F A A L V E V T E R _ _ _</td>\n",
       "      <td>A G A L T E G L Y C G R Q V C Y D V L G V S R D A N K _ _ _</td>\n",
       "    </tr>\n",
       "    <tr>\n",
       "      <th>3</th>\n",
       "      <td>N L K V Q D Y S K _ _ _ _ _ _ _ _ _ _ _ _ _ _ _ _ _ _ _ _ _</td>\n",
       "      <td>V E I L I A E I K S M F R _ _ _ _ _ _ _ _ _ _ _ _ _ _ _ _ _</td>\n",
       "    </tr>\n",
       "    <tr>\n",
       "      <th>4</th>\n",
       "      <td>L D F V A V Q R A L D Q R _ _ _ _ _ _ _ _ _ _ _ _ _ _ _ _ _</td>\n",
       "      <td>K I I G G L F V E I F E E E S N K I T D A R _ _ _ _ _ _ _ _</td>\n",
       "    </tr>\n",
       "  </tbody>\n",
       "</table>\n",
       "</div>"
      ],
      "text/plain": [
       "                                                     predicted  \\\n",
       "0  L V L Q W K F D S L L A R _ _ _ _ _ _ _ _ _ _ _ _ _ _ _ _ _   \n",
       "1  S S S C G T G Y L L L Q A A A P S A S P R R P C S R R _ _ _   \n",
       "2  S G K Y R V E D L A Y S F Q E T A F A A L V E V T E R _ _ _   \n",
       "3  N L K V Q D Y S K _ _ _ _ _ _ _ _ _ _ _ _ _ _ _ _ _ _ _ _ _   \n",
       "4  L D F V A V Q R A L D Q R _ _ _ _ _ _ _ _ _ _ _ _ _ _ _ _ _   \n",
       "\n",
       "                                                          true  \n",
       "0  E V A L D A L Q T H Q R K _ _ _ _ _ _ _ _ _ _ _ _ _ _ _ _ _  \n",
       "1  N T Q P A P E G R _ _ _ _ _ _ _ _ _ _ _ _ _ _ _ _ _ _ _ _ _  \n",
       "2  A G A L T E G L Y C G R Q V C Y D V L G V S R D A N K _ _ _  \n",
       "3  V E I L I A E I K S M F R _ _ _ _ _ _ _ _ _ _ _ _ _ _ _ _ _  \n",
       "4  K I I G G L F V E I F E E E S N K I T D A R _ _ _ _ _ _ _ _  "
      ]
     },
     "metadata": {},
     "output_type": "display_data"
    },
    {
     "name": "stdout",
     "output_type": "stream",
     "text": [
      "Eval:\n"
     ]
    },
    {
     "data": {
      "text/html": [
       "<div>\n",
       "<style scoped>\n",
       "    .dataframe tbody tr th:only-of-type {\n",
       "        vertical-align: middle;\n",
       "    }\n",
       "\n",
       "    .dataframe tbody tr th {\n",
       "        vertical-align: top;\n",
       "    }\n",
       "\n",
       "    .dataframe thead th {\n",
       "        text-align: right;\n",
       "    }\n",
       "</style>\n",
       "<table border=\"1\" class=\"dataframe\">\n",
       "  <thead>\n",
       "    <tr style=\"text-align: right;\">\n",
       "      <th></th>\n",
       "      <th>predicted</th>\n",
       "      <th>true</th>\n",
       "    </tr>\n",
       "  </thead>\n",
       "  <tbody>\n",
       "    <tr>\n",
       "      <th>0</th>\n",
       "      <td>A G Q A Y V A L G R V L G R A F V R _ _ _ _ _ _ _ _ _ _ _ _</td>\n",
       "      <td>I V V S P E S E D A A R A V E R L R _ _ _ _ _ _ _ _ _ _ _ _</td>\n",
       "    </tr>\n",
       "    <tr>\n",
       "      <th>1</th>\n",
       "      <td>F D K Q G T Y G I N T I N N M G T L Y M R _ _ _ _ _ _ _ _ _</td>\n",
       "      <td>I A S G K T R C I E A C E V D Y C I V Y R _ _ _ _ _ _ _ _ _</td>\n",
       "    </tr>\n",
       "    <tr>\n",
       "      <th>2</th>\n",
       "      <td>R S S P N A F E D D A L Y G G L N K _ _ _ _ _ _ _ _ _ _ _ _</td>\n",
       "      <td>G D V H D I G K N I V G V V L G C N N Y K _ _ _ _ _ _ _ _ _</td>\n",
       "    </tr>\n",
       "    <tr>\n",
       "      <th>3</th>\n",
       "      <td>R G L R P W R L A R L S D E H L T K _ _ _ _ _ _ _ _ _ _ _ _</td>\n",
       "      <td>A V V M P N L V P P V T T A E L A L S Y K _ _ _ _ _ _ _ _ _</td>\n",
       "    </tr>\n",
       "    <tr>\n",
       "      <th>4</th>\n",
       "      <td>E A V A E A E R D D D E T R R G V T T _ _ _ _ _ _ _ _ _ _ _</td>\n",
       "      <td>L T I Q T P L M W L D K A E T W A L A D K _ _ _ _ _ _ _ _ _</td>\n",
       "    </tr>\n",
       "  </tbody>\n",
       "</table>\n",
       "</div>"
      ],
      "text/plain": [
       "                                                     predicted  \\\n",
       "0  A G Q A Y V A L G R V L G R A F V R _ _ _ _ _ _ _ _ _ _ _ _   \n",
       "1  F D K Q G T Y G I N T I N N M G T L Y M R _ _ _ _ _ _ _ _ _   \n",
       "2  R S S P N A F E D D A L Y G G L N K _ _ _ _ _ _ _ _ _ _ _ _   \n",
       "3  R G L R P W R L A R L S D E H L T K _ _ _ _ _ _ _ _ _ _ _ _   \n",
       "4  E A V A E A E R D D D E T R R G V T T _ _ _ _ _ _ _ _ _ _ _   \n",
       "\n",
       "                                                          true  \n",
       "0  I V V S P E S E D A A R A V E R L R _ _ _ _ _ _ _ _ _ _ _ _  \n",
       "1  I A S G K T R C I E A C E V D Y C I V Y R _ _ _ _ _ _ _ _ _  \n",
       "2  G D V H D I G K N I V G V V L G C N N Y K _ _ _ _ _ _ _ _ _  \n",
       "3  A V V M P N L V P P V T T A E L A L S Y K _ _ _ _ _ _ _ _ _  \n",
       "4  L T I Q T P L M W L D K A E T W A L A D K _ _ _ _ _ _ _ _ _  "
      ]
     },
     "metadata": {},
     "output_type": "display_data"
    },
    {
     "name": "stderr",
     "output_type": "stream",
     "text": [
      "2021-10-27 16:26:43,224 - mmproteo_attention_model: epoch 18:\n",
      "2021-10-27 16:26:43,227 - mmproteo_attention_model: DEBUG: {'name': 'Adam', 'learning_rate': 0.0007365696, 'decay': 0.0, 'beta_1': 0.9, 'beta_2': 0.98, 'epsilon': 1e-09, 'amsgrad': False}\n"
     ]
    },
    {
     "name": "stdout",
     "output_type": "stream",
     "text": [
      "Epoch 18/18\n",
      "200/200 [==============================] - 408s 2s/step - loss: 0.1742 - sparse_categorical_accuracy: 0.9353 - jaccard_batch_distance: 0.9115 - leuvenshtein_batch_distance: 1.9374 - val_loss: 0.4907 - val_sparse_categorical_accuracy: 0.8545 - val_jaccard_batch_distance: 0.8564 - val_leuvenshtein_batch_distance: 4.2604\n"
     ]
    },
    {
     "name": "stderr",
     "output_type": "stream",
     "text": [
      "2021-10-27 16:33:33,629 - mmproteo_attention_model: DEBUG: {'loss': [0.17418670654296875], 'sparse_categorical_accuracy': [0.9352757334709167], 'jaccard_batch_distance': [0.91148841381073], 'leuvenshtein_batch_distance': [1.937353491783142], 'val_loss': [0.4907364845275879], 'val_sparse_categorical_accuracy': [0.8545328974723816], 'val_jaccard_batch_distance': [0.8564413189888], 'val_leuvenshtein_batch_distance': [4.260351657867432]}\n"
     ]
    },
    {
     "name": "stdout",
     "output_type": "stream",
     "text": [
      "Train:\n"
     ]
    },
    {
     "data": {
      "text/html": [
       "<div>\n",
       "<style scoped>\n",
       "    .dataframe tbody tr th:only-of-type {\n",
       "        vertical-align: middle;\n",
       "    }\n",
       "\n",
       "    .dataframe tbody tr th {\n",
       "        vertical-align: top;\n",
       "    }\n",
       "\n",
       "    .dataframe thead th {\n",
       "        text-align: right;\n",
       "    }\n",
       "</style>\n",
       "<table border=\"1\" class=\"dataframe\">\n",
       "  <thead>\n",
       "    <tr style=\"text-align: right;\">\n",
       "      <th></th>\n",
       "      <th>predicted</th>\n",
       "      <th>true</th>\n",
       "    </tr>\n",
       "  </thead>\n",
       "  <tbody>\n",
       "    <tr>\n",
       "      <th>0</th>\n",
       "      <td>Y A A E E S P P R Y L D R K A V I E K M C R _ _ _ _ _ _ _ _</td>\n",
       "      <td>V N H S A R S D L S D L K _ _ _ _ _ _ _ _ _ _ _ _ _ _ _ _ _</td>\n",
       "    </tr>\n",
       "    <tr>\n",
       "      <th>1</th>\n",
       "      <td>D T A D Q Q R P Y A P F R _ _ _ _ _ _ _ _ _ _ _ _ _ _ _ _ _</td>\n",
       "      <td>I Y N P S E Q C C Y D D A I L S L K E T R R _ _ _ _ _ _ _ _</td>\n",
       "    </tr>\n",
       "    <tr>\n",
       "      <th>2</th>\n",
       "      <td>I K E A N R A A K _ _ _ _ _ _ _ _ _ _ _ _ _ _ _ _ _ _ _ _ _</td>\n",
       "      <td>F G Y T V V A L H G C L Q T E I Q T P R S I R V L F K _ _ _</td>\n",
       "    </tr>\n",
       "    <tr>\n",
       "      <th>3</th>\n",
       "      <td>K I H L L T I S L A G I C Q S A H I V Q Q L G Y S G K _ _ _</td>\n",
       "      <td>V Q G V S I T R E L L W W W G M R Q A T V R _ _ _ _ _ _ _ _</td>\n",
       "    </tr>\n",
       "    <tr>\n",
       "      <th>4</th>\n",
       "      <td>C G K I D Q A M S L F E R _ _ _ _ _ _ _ _ _ _ _ _ _ _ _ _ _</td>\n",
       "      <td>V T G Q E I P A T M G P R R A G D P S T L I A S S E K _ _ _</td>\n",
       "    </tr>\n",
       "  </tbody>\n",
       "</table>\n",
       "</div>"
      ],
      "text/plain": [
       "                                                     predicted  \\\n",
       "0  Y A A E E S P P R Y L D R K A V I E K M C R _ _ _ _ _ _ _ _   \n",
       "1  D T A D Q Q R P Y A P F R _ _ _ _ _ _ _ _ _ _ _ _ _ _ _ _ _   \n",
       "2  I K E A N R A A K _ _ _ _ _ _ _ _ _ _ _ _ _ _ _ _ _ _ _ _ _   \n",
       "3  K I H L L T I S L A G I C Q S A H I V Q Q L G Y S G K _ _ _   \n",
       "4  C G K I D Q A M S L F E R _ _ _ _ _ _ _ _ _ _ _ _ _ _ _ _ _   \n",
       "\n",
       "                                                          true  \n",
       "0  V N H S A R S D L S D L K _ _ _ _ _ _ _ _ _ _ _ _ _ _ _ _ _  \n",
       "1  I Y N P S E Q C C Y D D A I L S L K E T R R _ _ _ _ _ _ _ _  \n",
       "2  F G Y T V V A L H G C L Q T E I Q T P R S I R V L F K _ _ _  \n",
       "3  V Q G V S I T R E L L W W W G M R Q A T V R _ _ _ _ _ _ _ _  \n",
       "4  V T G Q E I P A T M G P R R A G D P S T L I A S S E K _ _ _  "
      ]
     },
     "metadata": {},
     "output_type": "display_data"
    },
    {
     "name": "stdout",
     "output_type": "stream",
     "text": [
      "Eval:\n"
     ]
    },
    {
     "data": {
      "text/html": [
       "<div>\n",
       "<style scoped>\n",
       "    .dataframe tbody tr th:only-of-type {\n",
       "        vertical-align: middle;\n",
       "    }\n",
       "\n",
       "    .dataframe tbody tr th {\n",
       "        vertical-align: top;\n",
       "    }\n",
       "\n",
       "    .dataframe thead th {\n",
       "        text-align: right;\n",
       "    }\n",
       "</style>\n",
       "<table border=\"1\" class=\"dataframe\">\n",
       "  <thead>\n",
       "    <tr style=\"text-align: right;\">\n",
       "      <th></th>\n",
       "      <th>predicted</th>\n",
       "      <th>true</th>\n",
       "    </tr>\n",
       "  </thead>\n",
       "  <tbody>\n",
       "    <tr>\n",
       "      <th>0</th>\n",
       "      <td>N P E I L T R K R _ _ _ _ _ _ _ _ _ _ _ _ _ _ _ _ _ _ _ _ _</td>\n",
       "      <td>D A G E E D E L R _ _ _ _ _ _ _ _ _ _ _ _ _ _ _ _ _ _ _ _ _</td>\n",
       "    </tr>\n",
       "    <tr>\n",
       "      <th>1</th>\n",
       "      <td>K V V K L A N V V G L A K E N G I K _ _ _ _ _ _ _ _ _ _ _ _</td>\n",
       "      <td>M V E A G Q L G K _ _ _ _ _ _ _ _ _ _ _ _ _ _ _ _ _ _ _ _ _</td>\n",
       "    </tr>\n",
       "    <tr>\n",
       "      <th>2</th>\n",
       "      <td>L D S R S R R R Q Q Q S A A S S G R _ _ _ _ _ _ _ _ _ _ _ _</td>\n",
       "      <td>N G F P S E W L C T L S N N E R L V _ _ _ _ _ _ _ _ _ _ _ _</td>\n",
       "    </tr>\n",
       "    <tr>\n",
       "      <th>3</th>\n",
       "      <td>H N R A T K Q F Q N A S D Y V L Q K _ _ _ _ _ _ _ _ _ _ _ _</td>\n",
       "      <td>E F C D V L W E V A N R Y K H T P T I G R _ _ _ _ _ _ _ _ _</td>\n",
       "    </tr>\n",
       "    <tr>\n",
       "      <th>4</th>\n",
       "      <td>Y Y S V V I D P L V K V C S D I S V _ _ _ _ _ _ _ _ _ _ _ _</td>\n",
       "      <td>G S P F E V K G K _ _ _ _ _ _ _ _ _ _ _ _ _ _ _ _ _ _ _ _ _</td>\n",
       "    </tr>\n",
       "  </tbody>\n",
       "</table>\n",
       "</div>"
      ],
      "text/plain": [
       "                                                     predicted  \\\n",
       "0  N P E I L T R K R _ _ _ _ _ _ _ _ _ _ _ _ _ _ _ _ _ _ _ _ _   \n",
       "1  K V V K L A N V V G L A K E N G I K _ _ _ _ _ _ _ _ _ _ _ _   \n",
       "2  L D S R S R R R Q Q Q S A A S S G R _ _ _ _ _ _ _ _ _ _ _ _   \n",
       "3  H N R A T K Q F Q N A S D Y V L Q K _ _ _ _ _ _ _ _ _ _ _ _   \n",
       "4  Y Y S V V I D P L V K V C S D I S V _ _ _ _ _ _ _ _ _ _ _ _   \n",
       "\n",
       "                                                          true  \n",
       "0  D A G E E D E L R _ _ _ _ _ _ _ _ _ _ _ _ _ _ _ _ _ _ _ _ _  \n",
       "1  M V E A G Q L G K _ _ _ _ _ _ _ _ _ _ _ _ _ _ _ _ _ _ _ _ _  \n",
       "2  N G F P S E W L C T L S N N E R L V _ _ _ _ _ _ _ _ _ _ _ _  \n",
       "3  E F C D V L W E V A N R Y K H T P T I G R _ _ _ _ _ _ _ _ _  \n",
       "4  G S P F E V K G K _ _ _ _ _ _ _ _ _ _ _ _ _ _ _ _ _ _ _ _ _  "
      ]
     },
     "metadata": {},
     "output_type": "display_data"
    },
    {
     "name": "stderr",
     "output_type": "stream",
     "text": [
      "2021-10-27 16:33:36,418 - mmproteo_attention_model: epoch 19:\n",
      "2021-10-27 16:33:36,420 - mmproteo_attention_model: DEBUG: {'name': 'Adam', 'learning_rate': 0.00071692414, 'decay': 0.0, 'beta_1': 0.9, 'beta_2': 0.98, 'epsilon': 1e-09, 'amsgrad': False}\n"
     ]
    },
    {
     "name": "stdout",
     "output_type": "stream",
     "text": [
      "Epoch 19/19\n",
      "200/200 [==============================] - 407s 2s/step - loss: 0.1605 - sparse_categorical_accuracy: 0.9399 - jaccard_batch_distance: 0.9177 - leuvenshtein_batch_distance: 1.8002 - val_loss: 0.6287 - val_sparse_categorical_accuracy: 0.8319 - val_jaccard_batch_distance: 0.8393 - val_leuvenshtein_batch_distance: 4.8783\n"
     ]
    },
    {
     "name": "stderr",
     "output_type": "stream",
     "text": [
      "2021-10-27 16:40:26,701 - mmproteo_attention_model: DEBUG: {'loss': [0.1605035662651062], 'sparse_categorical_accuracy': [0.9398727416992188], 'jaccard_batch_distance': [0.9177398085594177], 'leuvenshtein_batch_distance': [1.8002246618270874], 'val_loss': [0.6287441253662109], 'val_sparse_categorical_accuracy': [0.8319336175918579], 'val_jaccard_batch_distance': [0.8392621278762817], 'val_leuvenshtein_batch_distance': [4.878320217132568]}\n"
     ]
    },
    {
     "name": "stdout",
     "output_type": "stream",
     "text": [
      "Train:\n"
     ]
    },
    {
     "data": {
      "text/html": [
       "<div>\n",
       "<style scoped>\n",
       "    .dataframe tbody tr th:only-of-type {\n",
       "        vertical-align: middle;\n",
       "    }\n",
       "\n",
       "    .dataframe tbody tr th {\n",
       "        vertical-align: top;\n",
       "    }\n",
       "\n",
       "    .dataframe thead th {\n",
       "        text-align: right;\n",
       "    }\n",
       "</style>\n",
       "<table border=\"1\" class=\"dataframe\">\n",
       "  <thead>\n",
       "    <tr style=\"text-align: right;\">\n",
       "      <th></th>\n",
       "      <th>predicted</th>\n",
       "      <th>true</th>\n",
       "    </tr>\n",
       "  </thead>\n",
       "  <tbody>\n",
       "    <tr>\n",
       "      <th>0</th>\n",
       "      <td>Y Y S D H I T L P L V M K _ _ _ _ _ _ _ _ _ _ _ _ _ _ _ _ _</td>\n",
       "      <td>L R P R V W R D K _ _ _ _ _ _ _ _ _ _ _ _ _ _ _ _ _ _ _ _ _</td>\n",
       "    </tr>\n",
       "    <tr>\n",
       "      <th>1</th>\n",
       "      <td>N E L I Q S V F F V S P A N N V C F F A K C P Y M C K _ _ _</td>\n",
       "      <td>I P G P L L D R M E V I R L S G Y D L P E K _ _ _ _ _ _ _ _</td>\n",
       "    </tr>\n",
       "    <tr>\n",
       "      <th>2</th>\n",
       "      <td>A P D M A P E E V D E S K _ _ _ _ _ _ _ _ _ _ _ _ _ _ _ _ _</td>\n",
       "      <td>L I A S A K R P I I L A G G G V L L S G A N E E L L K _ _ _</td>\n",
       "    </tr>\n",
       "    <tr>\n",
       "      <th>3</th>\n",
       "      <td>G I D N T N L G K _ _ _ _ _ _ _ _ _ _ _ _ _ _ _ _ _ _ _ _ _</td>\n",
       "      <td>G L L G T G G F G S V Y K _ _ _ _ _ _ _ _ _ _ _ _ _ _ _ _ _</td>\n",
       "    </tr>\n",
       "    <tr>\n",
       "      <th>4</th>\n",
       "      <td>M V H N L L L E P H H L K _ _ _ _ _ _ _ _ _ _ _ _ _ _ _ _ _</td>\n",
       "      <td>D T G P A Q M L T I T L R _ _ _ _ _ _ _ _ _ _ _ _ _ _ _ _ _</td>\n",
       "    </tr>\n",
       "  </tbody>\n",
       "</table>\n",
       "</div>"
      ],
      "text/plain": [
       "                                                     predicted  \\\n",
       "0  Y Y S D H I T L P L V M K _ _ _ _ _ _ _ _ _ _ _ _ _ _ _ _ _   \n",
       "1  N E L I Q S V F F V S P A N N V C F F A K C P Y M C K _ _ _   \n",
       "2  A P D M A P E E V D E S K _ _ _ _ _ _ _ _ _ _ _ _ _ _ _ _ _   \n",
       "3  G I D N T N L G K _ _ _ _ _ _ _ _ _ _ _ _ _ _ _ _ _ _ _ _ _   \n",
       "4  M V H N L L L E P H H L K _ _ _ _ _ _ _ _ _ _ _ _ _ _ _ _ _   \n",
       "\n",
       "                                                          true  \n",
       "0  L R P R V W R D K _ _ _ _ _ _ _ _ _ _ _ _ _ _ _ _ _ _ _ _ _  \n",
       "1  I P G P L L D R M E V I R L S G Y D L P E K _ _ _ _ _ _ _ _  \n",
       "2  L I A S A K R P I I L A G G G V L L S G A N E E L L K _ _ _  \n",
       "3  G L L G T G G F G S V Y K _ _ _ _ _ _ _ _ _ _ _ _ _ _ _ _ _  \n",
       "4  D T G P A Q M L T I T L R _ _ _ _ _ _ _ _ _ _ _ _ _ _ _ _ _  "
      ]
     },
     "metadata": {},
     "output_type": "display_data"
    },
    {
     "name": "stdout",
     "output_type": "stream",
     "text": [
      "Eval:\n"
     ]
    },
    {
     "data": {
      "text/html": [
       "<div>\n",
       "<style scoped>\n",
       "    .dataframe tbody tr th:only-of-type {\n",
       "        vertical-align: middle;\n",
       "    }\n",
       "\n",
       "    .dataframe tbody tr th {\n",
       "        vertical-align: top;\n",
       "    }\n",
       "\n",
       "    .dataframe thead th {\n",
       "        text-align: right;\n",
       "    }\n",
       "</style>\n",
       "<table border=\"1\" class=\"dataframe\">\n",
       "  <thead>\n",
       "    <tr style=\"text-align: right;\">\n",
       "      <th></th>\n",
       "      <th>predicted</th>\n",
       "      <th>true</th>\n",
       "    </tr>\n",
       "  </thead>\n",
       "  <tbody>\n",
       "    <tr>\n",
       "      <th>0</th>\n",
       "      <td>H Q L K S G V I V L I N L I L L N T Q _ _ _ _ _ _ _ _ _ _ _</td>\n",
       "      <td>K I M K W N I D G V V V G S A F V K _ _ _ _ _ _ _ _ _ _ _ _</td>\n",
       "    </tr>\n",
       "    <tr>\n",
       "      <th>1</th>\n",
       "      <td>S S W D E I E T R _ _ _ _ _ _ _ _ _ _ _ _ _ _ _ _ _ _ _ _ _</td>\n",
       "      <td>N V K D N G L K D W S D L P L G I K _ _ _ _ _ _ _ _ _ _ _ _</td>\n",
       "    </tr>\n",
       "    <tr>\n",
       "      <th>2</th>\n",
       "      <td>R V Q H G F A A R _ _ _ _ _ _ _ _ _ _ _ _ _ _ _ _ _ _ _ _ _</td>\n",
       "      <td>L H A L F W T P P A T P R G S H S P R P R _ _ _ _ _ _ _ _ _</td>\n",
       "    </tr>\n",
       "    <tr>\n",
       "      <th>3</th>\n",
       "      <td>L N A I P H V R K _ _ _ _ _ _ _ _ _ _ _ _ _ _ _ _ _ _ _ _ _</td>\n",
       "      <td>E A E F V K L D Q A V A A P E L Q Q Q S K _ _ _ _ _ _ _ _ _</td>\n",
       "    </tr>\n",
       "    <tr>\n",
       "      <th>4</th>\n",
       "      <td>K Q P F F C F T D D G Y G M T P H K L H R _ _ _ _ _ _ _ _ _</td>\n",
       "      <td>H V E E S D T P K _ _ _ _ _ _ _ _ _ _ _ _ _ _ _ _ _ _ _ _ _</td>\n",
       "    </tr>\n",
       "  </tbody>\n",
       "</table>\n",
       "</div>"
      ],
      "text/plain": [
       "                                                     predicted  \\\n",
       "0  H Q L K S G V I V L I N L I L L N T Q _ _ _ _ _ _ _ _ _ _ _   \n",
       "1  S S W D E I E T R _ _ _ _ _ _ _ _ _ _ _ _ _ _ _ _ _ _ _ _ _   \n",
       "2  R V Q H G F A A R _ _ _ _ _ _ _ _ _ _ _ _ _ _ _ _ _ _ _ _ _   \n",
       "3  L N A I P H V R K _ _ _ _ _ _ _ _ _ _ _ _ _ _ _ _ _ _ _ _ _   \n",
       "4  K Q P F F C F T D D G Y G M T P H K L H R _ _ _ _ _ _ _ _ _   \n",
       "\n",
       "                                                          true  \n",
       "0  K I M K W N I D G V V V G S A F V K _ _ _ _ _ _ _ _ _ _ _ _  \n",
       "1  N V K D N G L K D W S D L P L G I K _ _ _ _ _ _ _ _ _ _ _ _  \n",
       "2  L H A L F W T P P A T P R G S H S P R P R _ _ _ _ _ _ _ _ _  \n",
       "3  E A E F V K L D Q A V A A P E L Q Q Q S K _ _ _ _ _ _ _ _ _  \n",
       "4  H V E E S D T P K _ _ _ _ _ _ _ _ _ _ _ _ _ _ _ _ _ _ _ _ _  "
      ]
     },
     "metadata": {},
     "output_type": "display_data"
    },
    {
     "name": "stderr",
     "output_type": "stream",
     "text": [
      "2021-10-27 16:40:29,754 - mmproteo_attention_model: epoch 20:\n",
      "2021-10-27 16:40:29,756 - mmproteo_attention_model: DEBUG: {'name': 'Adam', 'learning_rate': 0.00069877127, 'decay': 0.0, 'beta_1': 0.9, 'beta_2': 0.98, 'epsilon': 1e-09, 'amsgrad': False}\n"
     ]
    },
    {
     "name": "stdout",
     "output_type": "stream",
     "text": [
      "Epoch 20/20\n",
      "200/200 [==============================] - 408s 2s/step - loss: 0.1483 - sparse_categorical_accuracy: 0.9439 - jaccard_batch_distance: 0.9229 - leuvenshtein_batch_distance: 1.6810 - val_loss: 0.4421 - val_sparse_categorical_accuracy: 0.8683 - val_jaccard_batch_distance: 0.8650 - val_leuvenshtein_batch_distance: 3.8530\n"
     ]
    },
    {
     "name": "stderr",
     "output_type": "stream",
     "text": [
      "2021-10-27 16:47:20,565 - mmproteo_attention_model: DEBUG: {'loss': [0.14829027652740479], 'sparse_categorical_accuracy': [0.9438675045967102], 'jaccard_batch_distance': [0.922905683517456], 'leuvenshtein_batch_distance': [1.680996060371399], 'val_loss': [0.44213181734085083], 'val_sparse_categorical_accuracy': [0.8682649731636047], 'val_jaccard_batch_distance': [0.8650239109992981], 'val_leuvenshtein_batch_distance': [3.852978467941284]}\n"
     ]
    },
    {
     "name": "stdout",
     "output_type": "stream",
     "text": [
      "Train:\n"
     ]
    },
    {
     "data": {
      "text/html": [
       "<div>\n",
       "<style scoped>\n",
       "    .dataframe tbody tr th:only-of-type {\n",
       "        vertical-align: middle;\n",
       "    }\n",
       "\n",
       "    .dataframe tbody tr th {\n",
       "        vertical-align: top;\n",
       "    }\n",
       "\n",
       "    .dataframe thead th {\n",
       "        text-align: right;\n",
       "    }\n",
       "</style>\n",
       "<table border=\"1\" class=\"dataframe\">\n",
       "  <thead>\n",
       "    <tr style=\"text-align: right;\">\n",
       "      <th></th>\n",
       "      <th>predicted</th>\n",
       "      <th>true</th>\n",
       "    </tr>\n",
       "  </thead>\n",
       "  <tbody>\n",
       "    <tr>\n",
       "      <th>0</th>\n",
       "      <td>E E G D V S G E V T E K S E V N A Q N S V A E E E T K _ _ _</td>\n",
       "      <td>R T I R T Y L S K _ _ _ _ _ _ _ _ _ _ _ _ _ _ _ _ _ _ _ _ _</td>\n",
       "    </tr>\n",
       "    <tr>\n",
       "      <th>1</th>\n",
       "      <td>V V S T I N A H Y L F D L H R R R R V R P A L A A N R _ _ _</td>\n",
       "      <td>Q P A P A I H S A P T I K _ _ _ _ _ _ _ _ _ _ _ _ _ _ _ _ _</td>\n",
       "    </tr>\n",
       "    <tr>\n",
       "      <th>2</th>\n",
       "      <td>N G K E G L S E K _ _ _ _ _ _ _ _ _ _ _ _ _ _ _ _ _ _ _ _ _</td>\n",
       "      <td>T Y S N K C N F C N A V V D S N G T L T L S H F E K C _ _ _</td>\n",
       "    </tr>\n",
       "    <tr>\n",
       "      <th>3</th>\n",
       "      <td>N R E P L V Q I W H E M R _ _ _ _ _ _ _ _ _ _ _ _ _ _ _ _ _</td>\n",
       "      <td>R I A K A V N E K _ _ _ _ _ _ _ _ _ _ _ _ _ _ _ _ _ _ _ _ _</td>\n",
       "    </tr>\n",
       "    <tr>\n",
       "      <th>4</th>\n",
       "      <td>V I T S E N A N R _ _ _ _ _ _ _ _ _ _ _ _ _ _ _ _ _ _ _ _ _</td>\n",
       "      <td>V Q N V V E K L R _ _ _ _ _ _ _ _ _ _ _ _ _ _ _ _ _ _ _ _ _</td>\n",
       "    </tr>\n",
       "  </tbody>\n",
       "</table>\n",
       "</div>"
      ],
      "text/plain": [
       "                                                     predicted  \\\n",
       "0  E E G D V S G E V T E K S E V N A Q N S V A E E E T K _ _ _   \n",
       "1  V V S T I N A H Y L F D L H R R R R V R P A L A A N R _ _ _   \n",
       "2  N G K E G L S E K _ _ _ _ _ _ _ _ _ _ _ _ _ _ _ _ _ _ _ _ _   \n",
       "3  N R E P L V Q I W H E M R _ _ _ _ _ _ _ _ _ _ _ _ _ _ _ _ _   \n",
       "4  V I T S E N A N R _ _ _ _ _ _ _ _ _ _ _ _ _ _ _ _ _ _ _ _ _   \n",
       "\n",
       "                                                          true  \n",
       "0  R T I R T Y L S K _ _ _ _ _ _ _ _ _ _ _ _ _ _ _ _ _ _ _ _ _  \n",
       "1  Q P A P A I H S A P T I K _ _ _ _ _ _ _ _ _ _ _ _ _ _ _ _ _  \n",
       "2  T Y S N K C N F C N A V V D S N G T L T L S H F E K C _ _ _  \n",
       "3  R I A K A V N E K _ _ _ _ _ _ _ _ _ _ _ _ _ _ _ _ _ _ _ _ _  \n",
       "4  V Q N V V E K L R _ _ _ _ _ _ _ _ _ _ _ _ _ _ _ _ _ _ _ _ _  "
      ]
     },
     "metadata": {},
     "output_type": "display_data"
    },
    {
     "name": "stdout",
     "output_type": "stream",
     "text": [
      "Eval:\n"
     ]
    },
    {
     "data": {
      "text/html": [
       "<div>\n",
       "<style scoped>\n",
       "    .dataframe tbody tr th:only-of-type {\n",
       "        vertical-align: middle;\n",
       "    }\n",
       "\n",
       "    .dataframe tbody tr th {\n",
       "        vertical-align: top;\n",
       "    }\n",
       "\n",
       "    .dataframe thead th {\n",
       "        text-align: right;\n",
       "    }\n",
       "</style>\n",
       "<table border=\"1\" class=\"dataframe\">\n",
       "  <thead>\n",
       "    <tr style=\"text-align: right;\">\n",
       "      <th></th>\n",
       "      <th>predicted</th>\n",
       "      <th>true</th>\n",
       "    </tr>\n",
       "  </thead>\n",
       "  <tbody>\n",
       "    <tr>\n",
       "      <th>0</th>\n",
       "      <td>Y V L A V A P E Q L P L F E E L L L R E R _ _ _ _ _ _ _ _ _</td>\n",
       "      <td>T W E E E L T R A A L Q Q K N Q E E L L R _ _ _ _ _ _ _ _ _</td>\n",
       "    </tr>\n",
       "    <tr>\n",
       "      <th>1</th>\n",
       "      <td>A L E A P V R P V L A V V G G S K V S S K _ _ _ _ _ _ _ _ _</td>\n",
       "      <td>A L L A E E E Q F G R T L A A G M K _ _ _ _ _ _ _ _ _ _ _ _</td>\n",
       "    </tr>\n",
       "    <tr>\n",
       "      <th>2</th>\n",
       "      <td>N E D M D L K Y N E M N I K Y G D L C V K _ _ _ _ _ _ _ _ _</td>\n",
       "      <td>L T P V V R D L K A G Y D Q T L A V L A R _ _ _ _ _ _ _ _ _</td>\n",
       "    </tr>\n",
       "    <tr>\n",
       "      <th>3</th>\n",
       "      <td>F F K R H I I L G T G G A S F F D T L E K _ _ _ _ _ _ _ _ _</td>\n",
       "      <td>S A G K W P L K W Y A P E C I N F R _ _ _ _ _ _ _ _ _ _ _ _</td>\n",
       "    </tr>\n",
       "    <tr>\n",
       "      <th>4</th>\n",
       "      <td>D L P Q G K L F T N A A A A D L V K _ _ _ _ _ _ _ _ _ _ _ _</td>\n",
       "      <td>T I S K V V V F K _ _ _ _ _ _ _ _ _ _ _ _ _ _ _ _ _ _ _ _ _</td>\n",
       "    </tr>\n",
       "  </tbody>\n",
       "</table>\n",
       "</div>"
      ],
      "text/plain": [
       "                                                     predicted  \\\n",
       "0  Y V L A V A P E Q L P L F E E L L L R E R _ _ _ _ _ _ _ _ _   \n",
       "1  A L E A P V R P V L A V V G G S K V S S K _ _ _ _ _ _ _ _ _   \n",
       "2  N E D M D L K Y N E M N I K Y G D L C V K _ _ _ _ _ _ _ _ _   \n",
       "3  F F K R H I I L G T G G A S F F D T L E K _ _ _ _ _ _ _ _ _   \n",
       "4  D L P Q G K L F T N A A A A D L V K _ _ _ _ _ _ _ _ _ _ _ _   \n",
       "\n",
       "                                                          true  \n",
       "0  T W E E E L T R A A L Q Q K N Q E E L L R _ _ _ _ _ _ _ _ _  \n",
       "1  A L L A E E E Q F G R T L A A G M K _ _ _ _ _ _ _ _ _ _ _ _  \n",
       "2  L T P V V R D L K A G Y D Q T L A V L A R _ _ _ _ _ _ _ _ _  \n",
       "3  S A G K W P L K W Y A P E C I N F R _ _ _ _ _ _ _ _ _ _ _ _  \n",
       "4  T I S K V V V F K _ _ _ _ _ _ _ _ _ _ _ _ _ _ _ _ _ _ _ _ _  "
      ]
     },
     "metadata": {},
     "output_type": "display_data"
    },
    {
     "name": "stderr",
     "output_type": "stream",
     "text": [
      "2021-10-27 16:47:23,376 - mmproteo_attention_model: epoch 21:\n",
      "2021-10-27 16:47:23,378 - mmproteo_attention_model: DEBUG: {'name': 'Adam', 'learning_rate': 0.0006819309, 'decay': 0.0, 'beta_1': 0.9, 'beta_2': 0.98, 'epsilon': 1e-09, 'amsgrad': False}\n"
     ]
    },
    {
     "name": "stdout",
     "output_type": "stream",
     "text": [
      "Epoch 21/21\n",
      "200/200 [==============================] - 408s 2s/step - loss: 0.1357 - sparse_categorical_accuracy: 0.9481 - jaccard_batch_distance: 0.9289 - leuvenshtein_batch_distance: 1.5548 - val_loss: 0.4600 - val_sparse_categorical_accuracy: 0.8704 - val_jaccard_batch_distance: 0.8603 - val_leuvenshtein_batch_distance: 3.7853\n"
     ]
    },
    {
     "name": "stderr",
     "output_type": "stream",
     "text": [
      "2021-10-27 16:54:14,254 - mmproteo_attention_model: DEBUG: {'loss': [0.13565324246883392], 'sparse_categorical_accuracy': [0.948085606098175], 'jaccard_batch_distance': [0.9288754463195801], 'leuvenshtein_batch_distance': [1.5548242330551147], 'val_loss': [0.46001917123794556], 'val_sparse_categorical_accuracy': [0.8704280853271484], 'val_jaccard_batch_distance': [0.8602561950683594], 'val_leuvenshtein_batch_distance': [3.7853026390075684]}\n"
     ]
    },
    {
     "name": "stdout",
     "output_type": "stream",
     "text": [
      "Train:\n"
     ]
    },
    {
     "data": {
      "text/html": [
       "<div>\n",
       "<style scoped>\n",
       "    .dataframe tbody tr th:only-of-type {\n",
       "        vertical-align: middle;\n",
       "    }\n",
       "\n",
       "    .dataframe tbody tr th {\n",
       "        vertical-align: top;\n",
       "    }\n",
       "\n",
       "    .dataframe thead th {\n",
       "        text-align: right;\n",
       "    }\n",
       "</style>\n",
       "<table border=\"1\" class=\"dataframe\">\n",
       "  <thead>\n",
       "    <tr style=\"text-align: right;\">\n",
       "      <th></th>\n",
       "      <th>predicted</th>\n",
       "      <th>true</th>\n",
       "    </tr>\n",
       "  </thead>\n",
       "  <tbody>\n",
       "    <tr>\n",
       "      <th>0</th>\n",
       "      <td>N T L I L Q S A K N N L K _ _ _ _ _ _ _ _ _ _ _ _ _ _ _ _ _</td>\n",
       "      <td>I V V S V C T A R I F F G E S S N E A Q E R _ _ _ _ _ _ _ _</td>\n",
       "    </tr>\n",
       "    <tr>\n",
       "      <th>1</th>\n",
       "      <td>Q A S W V K V Q P P H V L H L V V L A V E S G S G R R _ _ _</td>\n",
       "      <td>I T I F N K N S I L V H R P I V I S N I Q N D S I T K _ _ _</td>\n",
       "    </tr>\n",
       "    <tr>\n",
       "      <th>2</th>\n",
       "      <td>L P L E V P A L V H R G D A L V L D A K T R _ _ _ _ _ _ _ _</td>\n",
       "      <td>V R V T K L R P G G P N R _ _ _ _ _ _ _ _ _ _ _ _ _ _ _ _ _</td>\n",
       "    </tr>\n",
       "    <tr>\n",
       "      <th>3</th>\n",
       "      <td>F E I G D K I F N _ _ _ _ _ _ _ _ _ _ _ _ _ _ _ _ _ _ _ _ _</td>\n",
       "      <td>S I F V S E A M R _ _ _ _ _ _ _ _ _ _ _ _ _ _ _ _ _ _ _ _ _</td>\n",
       "    </tr>\n",
       "    <tr>\n",
       "      <th>4</th>\n",
       "      <td>L G Q E T D K T T T R N R _ _ _ _ _ _ _ _ _ _ _ _ _ _ _ _ _</td>\n",
       "      <td>E G L T P N P C A H C N K N I K F G A L W K _ _ _ _ _ _ _ _</td>\n",
       "    </tr>\n",
       "  </tbody>\n",
       "</table>\n",
       "</div>"
      ],
      "text/plain": [
       "                                                     predicted  \\\n",
       "0  N T L I L Q S A K N N L K _ _ _ _ _ _ _ _ _ _ _ _ _ _ _ _ _   \n",
       "1  Q A S W V K V Q P P H V L H L V V L A V E S G S G R R _ _ _   \n",
       "2  L P L E V P A L V H R G D A L V L D A K T R _ _ _ _ _ _ _ _   \n",
       "3  F E I G D K I F N _ _ _ _ _ _ _ _ _ _ _ _ _ _ _ _ _ _ _ _ _   \n",
       "4  L G Q E T D K T T T R N R _ _ _ _ _ _ _ _ _ _ _ _ _ _ _ _ _   \n",
       "\n",
       "                                                          true  \n",
       "0  I V V S V C T A R I F F G E S S N E A Q E R _ _ _ _ _ _ _ _  \n",
       "1  I T I F N K N S I L V H R P I V I S N I Q N D S I T K _ _ _  \n",
       "2  V R V T K L R P G G P N R _ _ _ _ _ _ _ _ _ _ _ _ _ _ _ _ _  \n",
       "3  S I F V S E A M R _ _ _ _ _ _ _ _ _ _ _ _ _ _ _ _ _ _ _ _ _  \n",
       "4  E G L T P N P C A H C N K N I K F G A L W K _ _ _ _ _ _ _ _  "
      ]
     },
     "metadata": {},
     "output_type": "display_data"
    },
    {
     "name": "stdout",
     "output_type": "stream",
     "text": [
      "Eval:\n"
     ]
    },
    {
     "data": {
      "text/html": [
       "<div>\n",
       "<style scoped>\n",
       "    .dataframe tbody tr th:only-of-type {\n",
       "        vertical-align: middle;\n",
       "    }\n",
       "\n",
       "    .dataframe tbody tr th {\n",
       "        vertical-align: top;\n",
       "    }\n",
       "\n",
       "    .dataframe thead th {\n",
       "        text-align: right;\n",
       "    }\n",
       "</style>\n",
       "<table border=\"1\" class=\"dataframe\">\n",
       "  <thead>\n",
       "    <tr style=\"text-align: right;\">\n",
       "      <th></th>\n",
       "      <th>predicted</th>\n",
       "      <th>true</th>\n",
       "    </tr>\n",
       "  </thead>\n",
       "  <tbody>\n",
       "    <tr>\n",
       "      <th>0</th>\n",
       "      <td>E F L A Y I I K N L V D R P A E V R _ _ _ _ _ _ _ _ _ _ _ _</td>\n",
       "      <td>L M Y L Y P N S I S K D F I D Y I D N S K _ _ _ _ _ _ _ _ _</td>\n",
       "    </tr>\n",
       "    <tr>\n",
       "      <th>1</th>\n",
       "      <td>S E V E E V S L R _ _ _ _ _ _ _ _ _ _ _ _ _ _ _ _ _ _ _ _ _</td>\n",
       "      <td>I R F D E E K G T L T I S D N G I G M T R _ _ _ _ _ _ _ _ _</td>\n",
       "    </tr>\n",
       "    <tr>\n",
       "      <th>2</th>\n",
       "      <td>E L L S K N P N V R W D D L A D L V E A K _ _ _ _ _ _ _ _ _</td>\n",
       "      <td>A E L G P R R L R _ _ _ _ _ _ _ _ _ _ _ _ _ _ _ _ _ _ _ _ _</td>\n",
       "    </tr>\n",
       "    <tr>\n",
       "      <th>3</th>\n",
       "      <td>D D Y K D N A M L A Q L L Q D K L D A Y K _ _ _ _ _ _ _ _ _</td>\n",
       "      <td>A M T T P V I I A I Q T F W Y Q K R _ _ _ _ _ _ _ _ _ _ _ _</td>\n",
       "    </tr>\n",
       "    <tr>\n",
       "      <th>4</th>\n",
       "      <td>H V Y S E E Y L A L T K E A F N Y Y L _ _ _ _ _ _ _ _ _ _ _</td>\n",
       "      <td>T A E L L D K Y K _ _ _ _ _ _ _ _ _ _ _ _ _ _ _ _ _ _ _ _ _</td>\n",
       "    </tr>\n",
       "  </tbody>\n",
       "</table>\n",
       "</div>"
      ],
      "text/plain": [
       "                                                     predicted  \\\n",
       "0  E F L A Y I I K N L V D R P A E V R _ _ _ _ _ _ _ _ _ _ _ _   \n",
       "1  S E V E E V S L R _ _ _ _ _ _ _ _ _ _ _ _ _ _ _ _ _ _ _ _ _   \n",
       "2  E L L S K N P N V R W D D L A D L V E A K _ _ _ _ _ _ _ _ _   \n",
       "3  D D Y K D N A M L A Q L L Q D K L D A Y K _ _ _ _ _ _ _ _ _   \n",
       "4  H V Y S E E Y L A L T K E A F N Y Y L _ _ _ _ _ _ _ _ _ _ _   \n",
       "\n",
       "                                                          true  \n",
       "0  L M Y L Y P N S I S K D F I D Y I D N S K _ _ _ _ _ _ _ _ _  \n",
       "1  I R F D E E K G T L T I S D N G I G M T R _ _ _ _ _ _ _ _ _  \n",
       "2  A E L G P R R L R _ _ _ _ _ _ _ _ _ _ _ _ _ _ _ _ _ _ _ _ _  \n",
       "3  A M T T P V I I A I Q T F W Y Q K R _ _ _ _ _ _ _ _ _ _ _ _  \n",
       "4  T A E L L D K Y K _ _ _ _ _ _ _ _ _ _ _ _ _ _ _ _ _ _ _ _ _  "
      ]
     },
     "metadata": {},
     "output_type": "display_data"
    },
    {
     "name": "stderr",
     "output_type": "stream",
     "text": [
      "2021-10-27 16:54:17,082 - mmproteo_attention_model: epoch 22:\n",
      "2021-10-27 16:54:17,084 - mmproteo_attention_model: DEBUG: {'name': 'Adam', 'learning_rate': 0.0006662522, 'decay': 0.0, 'beta_1': 0.9, 'beta_2': 0.98, 'epsilon': 1e-09, 'amsgrad': False}\n"
     ]
    },
    {
     "name": "stdout",
     "output_type": "stream",
     "text": [
      "Epoch 22/22\n",
      "200/200 [==============================] - 408s 2s/step - loss: 0.1270 - sparse_categorical_accuracy: 0.9511 - jaccard_batch_distance: 0.9325 - leuvenshtein_batch_distance: 1.4630 - val_loss: 0.6297 - val_sparse_categorical_accuracy: 0.8342 - val_jaccard_batch_distance: 0.8371 - val_leuvenshtein_batch_distance: 4.8450\n"
     ]
    },
    {
     "name": "stderr",
     "output_type": "stream",
     "text": [
      "2021-10-27 17:01:07,822 - mmproteo_attention_model: DEBUG: {'loss': [0.12699922919273376], 'sparse_categorical_accuracy': [0.9511480927467346], 'jaccard_batch_distance': [0.9325145483016968], 'leuvenshtein_batch_distance': [1.4630175828933716], 'val_loss': [0.6296637058258057], 'val_sparse_categorical_accuracy': [0.8342269062995911], 'val_jaccard_batch_distance': [0.837101936340332], 'val_leuvenshtein_batch_distance': [4.844970703125]}\n"
     ]
    },
    {
     "name": "stdout",
     "output_type": "stream",
     "text": [
      "Train:\n"
     ]
    },
    {
     "data": {
      "text/html": [
       "<div>\n",
       "<style scoped>\n",
       "    .dataframe tbody tr th:only-of-type {\n",
       "        vertical-align: middle;\n",
       "    }\n",
       "\n",
       "    .dataframe tbody tr th {\n",
       "        vertical-align: top;\n",
       "    }\n",
       "\n",
       "    .dataframe thead th {\n",
       "        text-align: right;\n",
       "    }\n",
       "</style>\n",
       "<table border=\"1\" class=\"dataframe\">\n",
       "  <thead>\n",
       "    <tr style=\"text-align: right;\">\n",
       "      <th></th>\n",
       "      <th>predicted</th>\n",
       "      <th>true</th>\n",
       "    </tr>\n",
       "  </thead>\n",
       "  <tbody>\n",
       "    <tr>\n",
       "      <th>0</th>\n",
       "      <td>E N S S K H F T R _ _ _ _ _ _ _ _ _ _ _ _ _ _ _ _ _ _ _ _ _</td>\n",
       "      <td>A V D M I E A D M L Q I H L N V I Q E I V M P E G D R _ _ _</td>\n",
       "    </tr>\n",
       "    <tr>\n",
       "      <th>1</th>\n",
       "      <td>L R L E K E C E R _ _ _ _ _ _ _ _ _ _ _ _ _ _ _ _ _ _ _ _ _</td>\n",
       "      <td>I G H G Y D V H R F A E G D F V T L G G V R _ _ _ _ _ _ _ _</td>\n",
       "    </tr>\n",
       "    <tr>\n",
       "      <th>2</th>\n",
       "      <td>V V V S M V G I M K K E K _ _ _ _ _ _ _ _ _ _ _ _ _ _ _ _ _</td>\n",
       "      <td>A H T S K L P P E G V G T I R L Q S D P L S L H M A K _ _ _</td>\n",
       "    </tr>\n",
       "    <tr>\n",
       "      <th>3</th>\n",
       "      <td>Y D E F N H W W A T E G D W V E E P W Y R R _ _ _ _ _ _ _ _</td>\n",
       "      <td>T T D V T G A I L N M L S D D N T P L K I A S P G D R _ _ _</td>\n",
       "    </tr>\n",
       "    <tr>\n",
       "      <th>4</th>\n",
       "      <td>Q V Q L F V R G R _ _ _ _ _ _ _ _ _ _ _ _ _ _ _ _ _ _ _ _ _</td>\n",
       "      <td>Q L A S V P S S Q L C V K L A S G G D P T Y A F N I R _ _ _</td>\n",
       "    </tr>\n",
       "  </tbody>\n",
       "</table>\n",
       "</div>"
      ],
      "text/plain": [
       "                                                     predicted  \\\n",
       "0  E N S S K H F T R _ _ _ _ _ _ _ _ _ _ _ _ _ _ _ _ _ _ _ _ _   \n",
       "1  L R L E K E C E R _ _ _ _ _ _ _ _ _ _ _ _ _ _ _ _ _ _ _ _ _   \n",
       "2  V V V S M V G I M K K E K _ _ _ _ _ _ _ _ _ _ _ _ _ _ _ _ _   \n",
       "3  Y D E F N H W W A T E G D W V E E P W Y R R _ _ _ _ _ _ _ _   \n",
       "4  Q V Q L F V R G R _ _ _ _ _ _ _ _ _ _ _ _ _ _ _ _ _ _ _ _ _   \n",
       "\n",
       "                                                          true  \n",
       "0  A V D M I E A D M L Q I H L N V I Q E I V M P E G D R _ _ _  \n",
       "1  I G H G Y D V H R F A E G D F V T L G G V R _ _ _ _ _ _ _ _  \n",
       "2  A H T S K L P P E G V G T I R L Q S D P L S L H M A K _ _ _  \n",
       "3  T T D V T G A I L N M L S D D N T P L K I A S P G D R _ _ _  \n",
       "4  Q L A S V P S S Q L C V K L A S G G D P T Y A F N I R _ _ _  "
      ]
     },
     "metadata": {},
     "output_type": "display_data"
    },
    {
     "name": "stdout",
     "output_type": "stream",
     "text": [
      "Eval:\n"
     ]
    },
    {
     "data": {
      "text/html": [
       "<div>\n",
       "<style scoped>\n",
       "    .dataframe tbody tr th:only-of-type {\n",
       "        vertical-align: middle;\n",
       "    }\n",
       "\n",
       "    .dataframe tbody tr th {\n",
       "        vertical-align: top;\n",
       "    }\n",
       "\n",
       "    .dataframe thead th {\n",
       "        text-align: right;\n",
       "    }\n",
       "</style>\n",
       "<table border=\"1\" class=\"dataframe\">\n",
       "  <thead>\n",
       "    <tr style=\"text-align: right;\">\n",
       "      <th></th>\n",
       "      <th>predicted</th>\n",
       "      <th>true</th>\n",
       "    </tr>\n",
       "  </thead>\n",
       "  <tbody>\n",
       "    <tr>\n",
       "      <th>0</th>\n",
       "      <td>Q K S F E V L N K D D L F S E S G T T _ _ _ _ _ _ _ _ _ _ _</td>\n",
       "      <td>W F N T S Q I G K _ _ _ _ _ _ _ _ _ _ _ _ _ _ _ _ _ _ _ _ _</td>\n",
       "    </tr>\n",
       "    <tr>\n",
       "      <th>1</th>\n",
       "      <td>R G S A E E K G A K P D P G Y Y D D _ _ _ _ _ _ _ _ _ _ _ _</td>\n",
       "      <td>R M P T F F E T F P V V L V D K D G V V R _ _ _ _ _ _ _ _ _</td>\n",
       "    </tr>\n",
       "    <tr>\n",
       "      <th>2</th>\n",
       "      <td>S T R E D H G D L A N A V L R L Y A D S R _ _ _ _ _ _ _ _ _</td>\n",
       "      <td>L Y F D A I K D Q K P V P E L L S L V N R _ _ _ _ _ _ _ _ _</td>\n",
       "    </tr>\n",
       "    <tr>\n",
       "      <th>3</th>\n",
       "      <td>L Q A L P G G D V K L L C D T V V E Y V R _ _ _ _ _ _ _ _ _</td>\n",
       "      <td>Q P L E I V K K Y Y A S D A E Q M N M L R _ _ _ _ _ _ _ _ _</td>\n",
       "    </tr>\n",
       "    <tr>\n",
       "      <th>4</th>\n",
       "      <td>N Q P Q Y Y Y Y E M N D V V L L R L I _ _ _ _ _ _ _ _ _ _ _</td>\n",
       "      <td>R G I N T E T I K Q V S S L M I E R _ _ _ _ _ _ _ _ _ _ _ _</td>\n",
       "    </tr>\n",
       "  </tbody>\n",
       "</table>\n",
       "</div>"
      ],
      "text/plain": [
       "                                                     predicted  \\\n",
       "0  Q K S F E V L N K D D L F S E S G T T _ _ _ _ _ _ _ _ _ _ _   \n",
       "1  R G S A E E K G A K P D P G Y Y D D _ _ _ _ _ _ _ _ _ _ _ _   \n",
       "2  S T R E D H G D L A N A V L R L Y A D S R _ _ _ _ _ _ _ _ _   \n",
       "3  L Q A L P G G D V K L L C D T V V E Y V R _ _ _ _ _ _ _ _ _   \n",
       "4  N Q P Q Y Y Y Y E M N D V V L L R L I _ _ _ _ _ _ _ _ _ _ _   \n",
       "\n",
       "                                                          true  \n",
       "0  W F N T S Q I G K _ _ _ _ _ _ _ _ _ _ _ _ _ _ _ _ _ _ _ _ _  \n",
       "1  R M P T F F E T F P V V L V D K D G V V R _ _ _ _ _ _ _ _ _  \n",
       "2  L Y F D A I K D Q K P V P E L L S L V N R _ _ _ _ _ _ _ _ _  \n",
       "3  Q P L E I V K K Y Y A S D A E Q M N M L R _ _ _ _ _ _ _ _ _  \n",
       "4  R G I N T E T I K Q V S S L M I E R _ _ _ _ _ _ _ _ _ _ _ _  "
      ]
     },
     "metadata": {},
     "output_type": "display_data"
    },
    {
     "name": "stderr",
     "output_type": "stream",
     "text": [
      "2021-10-27 17:01:10,656 - mmproteo_attention_model: epoch 23:\n",
      "2021-10-27 17:01:10,658 - mmproteo_attention_model: DEBUG: {'name': 'Adam', 'learning_rate': 0.0006516075, 'decay': 0.0, 'beta_1': 0.9, 'beta_2': 0.98, 'epsilon': 1e-09, 'amsgrad': False}\n"
     ]
    },
    {
     "name": "stdout",
     "output_type": "stream",
     "text": [
      "Epoch 23/23\n",
      "200/200 [==============================] - 407s 2s/step - loss: 0.1169 - sparse_categorical_accuracy: 0.9544 - jaccard_batch_distance: 0.9367 - leuvenshtein_batch_distance: 1.3653 - val_loss: 0.5690 - val_sparse_categorical_accuracy: 0.8545 - val_jaccard_batch_distance: 0.8564 - val_leuvenshtein_batch_distance: 4.2505\n"
     ]
    },
    {
     "name": "stderr",
     "output_type": "stream",
     "text": [
      "2021-10-27 17:08:00,947 - mmproteo_attention_model: DEBUG: {'loss': [0.11691384017467499], 'sparse_categorical_accuracy': [0.9544401168823242], 'jaccard_batch_distance': [0.9366798400878906], 'leuvenshtein_batch_distance': [1.3652637004852295], 'val_loss': [0.5690027475357056], 'val_sparse_categorical_accuracy': [0.8544937968254089], 'val_jaccard_batch_distance': [0.8563992381095886], 'val_leuvenshtein_batch_distance': [4.250536918640137]}\n"
     ]
    },
    {
     "name": "stdout",
     "output_type": "stream",
     "text": [
      "Train:\n"
     ]
    },
    {
     "data": {
      "text/html": [
       "<div>\n",
       "<style scoped>\n",
       "    .dataframe tbody tr th:only-of-type {\n",
       "        vertical-align: middle;\n",
       "    }\n",
       "\n",
       "    .dataframe tbody tr th {\n",
       "        vertical-align: top;\n",
       "    }\n",
       "\n",
       "    .dataframe thead th {\n",
       "        text-align: right;\n",
       "    }\n",
       "</style>\n",
       "<table border=\"1\" class=\"dataframe\">\n",
       "  <thead>\n",
       "    <tr style=\"text-align: right;\">\n",
       "      <th></th>\n",
       "      <th>predicted</th>\n",
       "      <th>true</th>\n",
       "    </tr>\n",
       "  </thead>\n",
       "  <tbody>\n",
       "    <tr>\n",
       "      <th>0</th>\n",
       "      <td>I G T M F C N T K _ _ _ _ _ _ _ _ _ _ _ _ _ _ _ _ _ _ _ _ _</td>\n",
       "      <td>I M I S D A A Q A H F R R _ _ _ _ _ _ _ _ _ _ _ _ _ _ _ _ _</td>\n",
       "    </tr>\n",
       "    <tr>\n",
       "      <th>1</th>\n",
       "      <td>N I L L R E D L Y I A S G E A E M S L L R R _ _ _ _ _ _ _ _</td>\n",
       "      <td>R G I F P K V A T N I M R _ _ _ _ _ _ _ _ _ _ _ _ _ _ _ _ _</td>\n",
       "    </tr>\n",
       "    <tr>\n",
       "      <th>2</th>\n",
       "      <td>S R E I I E Q M K _ _ _ _ _ _ _ _ _ _ _ _ _ _ _ _ _ _ _ _ _</td>\n",
       "      <td>G C S L S C R W C S N P E S Q K S C A E L A C N P G R _ _ _</td>\n",
       "    </tr>\n",
       "    <tr>\n",
       "      <th>3</th>\n",
       "      <td>M T T D T I V A Q A T A P A R G G V G I V R _ _ _ _ _ _ _ _</td>\n",
       "      <td>V G L K E V D M D F I S W L E E R C I H Y S L V L T K _ _ _</td>\n",
       "    </tr>\n",
       "    <tr>\n",
       "      <th>4</th>\n",
       "      <td>A T T P A S T A N S D V A T I P T D T P L K _ _ _ _ _ _ _ _</td>\n",
       "      <td>K H G S E E A K R _ _ _ _ _ _ _ _ _ _ _ _ _ _ _ _ _ _ _ _ _</td>\n",
       "    </tr>\n",
       "  </tbody>\n",
       "</table>\n",
       "</div>"
      ],
      "text/plain": [
       "                                                     predicted  \\\n",
       "0  I G T M F C N T K _ _ _ _ _ _ _ _ _ _ _ _ _ _ _ _ _ _ _ _ _   \n",
       "1  N I L L R E D L Y I A S G E A E M S L L R R _ _ _ _ _ _ _ _   \n",
       "2  S R E I I E Q M K _ _ _ _ _ _ _ _ _ _ _ _ _ _ _ _ _ _ _ _ _   \n",
       "3  M T T D T I V A Q A T A P A R G G V G I V R _ _ _ _ _ _ _ _   \n",
       "4  A T T P A S T A N S D V A T I P T D T P L K _ _ _ _ _ _ _ _   \n",
       "\n",
       "                                                          true  \n",
       "0  I M I S D A A Q A H F R R _ _ _ _ _ _ _ _ _ _ _ _ _ _ _ _ _  \n",
       "1  R G I F P K V A T N I M R _ _ _ _ _ _ _ _ _ _ _ _ _ _ _ _ _  \n",
       "2  G C S L S C R W C S N P E S Q K S C A E L A C N P G R _ _ _  \n",
       "3  V G L K E V D M D F I S W L E E R C I H Y S L V L T K _ _ _  \n",
       "4  K H G S E E A K R _ _ _ _ _ _ _ _ _ _ _ _ _ _ _ _ _ _ _ _ _  "
      ]
     },
     "metadata": {},
     "output_type": "display_data"
    },
    {
     "name": "stdout",
     "output_type": "stream",
     "text": [
      "Eval:\n"
     ]
    },
    {
     "data": {
      "text/html": [
       "<div>\n",
       "<style scoped>\n",
       "    .dataframe tbody tr th:only-of-type {\n",
       "        vertical-align: middle;\n",
       "    }\n",
       "\n",
       "    .dataframe tbody tr th {\n",
       "        vertical-align: top;\n",
       "    }\n",
       "\n",
       "    .dataframe thead th {\n",
       "        text-align: right;\n",
       "    }\n",
       "</style>\n",
       "<table border=\"1\" class=\"dataframe\">\n",
       "  <thead>\n",
       "    <tr style=\"text-align: right;\">\n",
       "      <th></th>\n",
       "      <th>predicted</th>\n",
       "      <th>true</th>\n",
       "    </tr>\n",
       "  </thead>\n",
       "  <tbody>\n",
       "    <tr>\n",
       "      <th>0</th>\n",
       "      <td>D V V Q A Y K N G A S L I S N T T S M G R _ _ _ _ _ _ _ _ _</td>\n",
       "      <td>Y L S D S Y S P R _ _ _ _ _ _ _ _ _ _ _ _ _ _ _ _ _ _ _ _ _</td>\n",
       "    </tr>\n",
       "    <tr>\n",
       "      <th>1</th>\n",
       "      <td>V D L D W V H H K _ _ _ _ _ _ _ _ _ _ _ _ _ _ _ _ _ _ _ _ _</td>\n",
       "      <td>L M E A L G E F R _ _ _ _ _ _ _ _ _ _ _ _ _ _ _ _ _ _ _ _ _</td>\n",
       "    </tr>\n",
       "    <tr>\n",
       "      <th>2</th>\n",
       "      <td>S E K N P N S P R _ _ _ _ _ _ _ _ _ _ _ _ _ _ _ _ _ _ _ _ _</td>\n",
       "      <td>M T A W K H S G S I T L E K N D Q Y W D K _ _ _ _ _ _ _ _ _</td>\n",
       "    </tr>\n",
       "    <tr>\n",
       "      <th>3</th>\n",
       "      <td>K G D P D P D T N S A L K F V I D R _ _ _ _ _ _ _ _ _ _ _ _</td>\n",
       "      <td>S H E K L A A M K _ _ _ _ _ _ _ _ _ _ _ _ _ _ _ _ _ _ _ _ _</td>\n",
       "    </tr>\n",
       "    <tr>\n",
       "      <th>4</th>\n",
       "      <td>K Q S E E V R E R _ _ _ _ _ _ _ _ _ _ _ _ _ _ _ _ _ _ _ _ _</td>\n",
       "      <td>A K E D N I R V K _ _ _ _ _ _ _ _ _ _ _ _ _ _ _ _ _ _ _ _ _</td>\n",
       "    </tr>\n",
       "  </tbody>\n",
       "</table>\n",
       "</div>"
      ],
      "text/plain": [
       "                                                     predicted  \\\n",
       "0  D V V Q A Y K N G A S L I S N T T S M G R _ _ _ _ _ _ _ _ _   \n",
       "1  V D L D W V H H K _ _ _ _ _ _ _ _ _ _ _ _ _ _ _ _ _ _ _ _ _   \n",
       "2  S E K N P N S P R _ _ _ _ _ _ _ _ _ _ _ _ _ _ _ _ _ _ _ _ _   \n",
       "3  K G D P D P D T N S A L K F V I D R _ _ _ _ _ _ _ _ _ _ _ _   \n",
       "4  K Q S E E V R E R _ _ _ _ _ _ _ _ _ _ _ _ _ _ _ _ _ _ _ _ _   \n",
       "\n",
       "                                                          true  \n",
       "0  Y L S D S Y S P R _ _ _ _ _ _ _ _ _ _ _ _ _ _ _ _ _ _ _ _ _  \n",
       "1  L M E A L G E F R _ _ _ _ _ _ _ _ _ _ _ _ _ _ _ _ _ _ _ _ _  \n",
       "2  M T A W K H S G S I T L E K N D Q Y W D K _ _ _ _ _ _ _ _ _  \n",
       "3  S H E K L A A M K _ _ _ _ _ _ _ _ _ _ _ _ _ _ _ _ _ _ _ _ _  \n",
       "4  A K E D N I R V K _ _ _ _ _ _ _ _ _ _ _ _ _ _ _ _ _ _ _ _ _  "
      ]
     },
     "metadata": {},
     "output_type": "display_data"
    },
    {
     "name": "stderr",
     "output_type": "stream",
     "text": [
      "2021-10-27 17:08:03,915 - mmproteo_attention_model: epoch 24:\n",
      "2021-10-27 17:08:03,917 - mmproteo_attention_model: DEBUG: {'name': 'Adam', 'learning_rate': 0.000637888, 'decay': 0.0, 'beta_1': 0.9, 'beta_2': 0.98, 'epsilon': 1e-09, 'amsgrad': False}\n"
     ]
    },
    {
     "name": "stdout",
     "output_type": "stream",
     "text": [
      "Epoch 24/24\n",
      "200/200 [==============================] - 408s 2s/step - loss: 0.1089 - sparse_categorical_accuracy: 0.9572 - jaccard_batch_distance: 0.9407 - leuvenshtein_batch_distance: 1.2811 - val_loss: 0.4924 - val_sparse_categorical_accuracy: 0.8692 - val_jaccard_batch_distance: 0.8656 - val_leuvenshtein_batch_distance: 3.8311\n"
     ]
    },
    {
     "name": "stderr",
     "output_type": "stream",
     "text": [
      "2021-10-27 17:14:54,377 - mmproteo_attention_model: DEBUG: {'loss': [0.10888323932886124], 'sparse_categorical_accuracy': [0.9572431445121765], 'jaccard_batch_distance': [0.9407455325126648], 'leuvenshtein_batch_distance': [1.281103491783142], 'val_loss': [0.4923517107963562], 'val_sparse_categorical_accuracy': [0.8692382574081421], 'val_jaccard_batch_distance': [0.8655592799186707], 'val_leuvenshtein_batch_distance': [3.8310546875]}\n"
     ]
    },
    {
     "name": "stdout",
     "output_type": "stream",
     "text": [
      "Train:\n"
     ]
    },
    {
     "data": {
      "text/html": [
       "<div>\n",
       "<style scoped>\n",
       "    .dataframe tbody tr th:only-of-type {\n",
       "        vertical-align: middle;\n",
       "    }\n",
       "\n",
       "    .dataframe tbody tr th {\n",
       "        vertical-align: top;\n",
       "    }\n",
       "\n",
       "    .dataframe thead th {\n",
       "        text-align: right;\n",
       "    }\n",
       "</style>\n",
       "<table border=\"1\" class=\"dataframe\">\n",
       "  <thead>\n",
       "    <tr style=\"text-align: right;\">\n",
       "      <th></th>\n",
       "      <th>predicted</th>\n",
       "      <th>true</th>\n",
       "    </tr>\n",
       "  </thead>\n",
       "  <tbody>\n",
       "    <tr>\n",
       "      <th>0</th>\n",
       "      <td>S L S T D Q E N N S Y G K _ _ _ _ _ _ _ _ _ _ _ _ _ _ _ _ _</td>\n",
       "      <td>L K A V L E D T R _ _ _ _ _ _ _ _ _ _ _ _ _ _ _ _ _ _ _ _ _</td>\n",
       "    </tr>\n",
       "    <tr>\n",
       "      <th>1</th>\n",
       "      <td>H T A D T G M V R Q S D R _ _ _ _ _ _ _ _ _ _ _ _ _ _ _ _ _</td>\n",
       "      <td>V D E H V E M E F F T R R N S N E A F Y E R _ _ _ _ _ _ _ _</td>\n",
       "    </tr>\n",
       "    <tr>\n",
       "      <th>2</th>\n",
       "      <td>V A R T D G F I K N S F R _ _ _ _ _ _ _ _ _ _ _ _ _ _ _ _ _</td>\n",
       "      <td>F G R D A S N Q W L K G R _ _ _ _ _ _ _ _ _ _ _ _ _ _ _ _ _</td>\n",
       "    </tr>\n",
       "    <tr>\n",
       "      <th>3</th>\n",
       "      <td>G S R N N Q S I F V N R R _ _ _ _ _ _ _ _ _ _ _ _ _ _ _ _ _</td>\n",
       "      <td>M S V A V K D G F D Y A S A V Q Q G A R L R _ _ _ _ _ _ _ _</td>\n",
       "    </tr>\n",
       "    <tr>\n",
       "      <th>4</th>\n",
       "      <td>T A L T G A G G T H L C G S H L V E A L Y V V C G D R _ _ _</td>\n",
       "      <td>D A L A P L L E S K N N A I G L L H L A D P K G Y G R _ _ _</td>\n",
       "    </tr>\n",
       "  </tbody>\n",
       "</table>\n",
       "</div>"
      ],
      "text/plain": [
       "                                                     predicted  \\\n",
       "0  S L S T D Q E N N S Y G K _ _ _ _ _ _ _ _ _ _ _ _ _ _ _ _ _   \n",
       "1  H T A D T G M V R Q S D R _ _ _ _ _ _ _ _ _ _ _ _ _ _ _ _ _   \n",
       "2  V A R T D G F I K N S F R _ _ _ _ _ _ _ _ _ _ _ _ _ _ _ _ _   \n",
       "3  G S R N N Q S I F V N R R _ _ _ _ _ _ _ _ _ _ _ _ _ _ _ _ _   \n",
       "4  T A L T G A G G T H L C G S H L V E A L Y V V C G D R _ _ _   \n",
       "\n",
       "                                                          true  \n",
       "0  L K A V L E D T R _ _ _ _ _ _ _ _ _ _ _ _ _ _ _ _ _ _ _ _ _  \n",
       "1  V D E H V E M E F F T R R N S N E A F Y E R _ _ _ _ _ _ _ _  \n",
       "2  F G R D A S N Q W L K G R _ _ _ _ _ _ _ _ _ _ _ _ _ _ _ _ _  \n",
       "3  M S V A V K D G F D Y A S A V Q Q G A R L R _ _ _ _ _ _ _ _  \n",
       "4  D A L A P L L E S K N N A I G L L H L A D P K G Y G R _ _ _  "
      ]
     },
     "metadata": {},
     "output_type": "display_data"
    },
    {
     "name": "stdout",
     "output_type": "stream",
     "text": [
      "Eval:\n"
     ]
    },
    {
     "data": {
      "text/html": [
       "<div>\n",
       "<style scoped>\n",
       "    .dataframe tbody tr th:only-of-type {\n",
       "        vertical-align: middle;\n",
       "    }\n",
       "\n",
       "    .dataframe tbody tr th {\n",
       "        vertical-align: top;\n",
       "    }\n",
       "\n",
       "    .dataframe thead th {\n",
       "        text-align: right;\n",
       "    }\n",
       "</style>\n",
       "<table border=\"1\" class=\"dataframe\">\n",
       "  <thead>\n",
       "    <tr style=\"text-align: right;\">\n",
       "      <th></th>\n",
       "      <th>predicted</th>\n",
       "      <th>true</th>\n",
       "    </tr>\n",
       "  </thead>\n",
       "  <tbody>\n",
       "    <tr>\n",
       "      <th>0</th>\n",
       "      <td>A G G K S G K F T A L A D S L D F L T T R _ _ _ _ _ _ _ _ _</td>\n",
       "      <td>E V T P P S A E N A N S S T L Y R N T D R _ _ _ _ _ _ _ _ _</td>\n",
       "    </tr>\n",
       "    <tr>\n",
       "      <th>1</th>\n",
       "      <td>S Y G G M A P H Q R I P F I S A V S D R K _ _ _ _ _ _ _ _ _</td>\n",
       "      <td>I T P V A N I D K _ _ _ _ _ _ _ _ _ _ _ _ _ _ _ _ _ _ _ _ _</td>\n",
       "    </tr>\n",
       "    <tr>\n",
       "      <th>2</th>\n",
       "      <td>R C V S C C R E V Q T T P S C P A C K E R _ _ _ _ _ _ _ _ _</td>\n",
       "      <td>V T F L H E V S F N E L K I L Y S K _ _ _ _ _ _ _ _ _ _ _ _</td>\n",
       "    </tr>\n",
       "    <tr>\n",
       "      <th>3</th>\n",
       "      <td>A I G T S E P V K _ _ _ _ _ _ _ _ _ _ _ _ _ _ _ _ _ _ _ _ _</td>\n",
       "      <td>L R P T M E Y F R S L N V D V A V L L H R _ _ _ _ _ _ _ _ _</td>\n",
       "    </tr>\n",
       "    <tr>\n",
       "      <th>4</th>\n",
       "      <td>A S K Q S D G N S D L C N G S V Y K _ _ _ _ _ _ _ _ _ _ _ _</td>\n",
       "      <td>S F G Q M W W I K _ _ _ _ _ _ _ _ _ _ _ _ _ _ _ _ _ _ _ _ _</td>\n",
       "    </tr>\n",
       "  </tbody>\n",
       "</table>\n",
       "</div>"
      ],
      "text/plain": [
       "                                                     predicted  \\\n",
       "0  A G G K S G K F T A L A D S L D F L T T R _ _ _ _ _ _ _ _ _   \n",
       "1  S Y G G M A P H Q R I P F I S A V S D R K _ _ _ _ _ _ _ _ _   \n",
       "2  R C V S C C R E V Q T T P S C P A C K E R _ _ _ _ _ _ _ _ _   \n",
       "3  A I G T S E P V K _ _ _ _ _ _ _ _ _ _ _ _ _ _ _ _ _ _ _ _ _   \n",
       "4  A S K Q S D G N S D L C N G S V Y K _ _ _ _ _ _ _ _ _ _ _ _   \n",
       "\n",
       "                                                          true  \n",
       "0  E V T P P S A E N A N S S T L Y R N T D R _ _ _ _ _ _ _ _ _  \n",
       "1  I T P V A N I D K _ _ _ _ _ _ _ _ _ _ _ _ _ _ _ _ _ _ _ _ _  \n",
       "2  V T F L H E V S F N E L K I L Y S K _ _ _ _ _ _ _ _ _ _ _ _  \n",
       "3  L R P T M E Y F R S L N V D V A V L L H R _ _ _ _ _ _ _ _ _  \n",
       "4  S F G Q M W W I K _ _ _ _ _ _ _ _ _ _ _ _ _ _ _ _ _ _ _ _ _  "
      ]
     },
     "metadata": {},
     "output_type": "display_data"
    },
    {
     "name": "stderr",
     "output_type": "stream",
     "text": [
      "2021-10-27 17:14:57,212 - mmproteo_attention_model: epoch 25:\n",
      "2021-10-27 17:14:57,215 - mmproteo_attention_model: DEBUG: {'name': 'Adam', 'learning_rate': 0.000625, 'decay': 0.0, 'beta_1': 0.9, 'beta_2': 0.98, 'epsilon': 1e-09, 'amsgrad': False}\n"
     ]
    },
    {
     "name": "stdout",
     "output_type": "stream",
     "text": [
      "Epoch 25/25\n",
      "200/200 [==============================] - 408s 2s/step - loss: 0.1028 - sparse_categorical_accuracy: 0.9596 - jaccard_batch_distance: 0.9437 - leuvenshtein_batch_distance: 1.2119 - val_loss: 0.4666 - val_sparse_categorical_accuracy: 0.8724 - val_jaccard_batch_distance: 0.8735 - val_leuvenshtein_batch_distance: 3.7311\n"
     ]
    },
    {
     "name": "stderr",
     "output_type": "stream",
     "text": [
      "2021-10-27 17:21:48,385 - mmproteo_attention_model: DEBUG: {'loss': [0.10282597690820694], 'sparse_categorical_accuracy': [0.9595599174499512], 'jaccard_batch_distance': [0.9437426924705505], 'leuvenshtein_batch_distance': [1.2119433879852295], 'val_loss': [0.4666186273097992], 'val_sparse_categorical_accuracy': [0.8724267482757568], 'val_jaccard_batch_distance': [0.873540997505188], 'val_leuvenshtein_batch_distance': [3.7311034202575684]}\n"
     ]
    },
    {
     "name": "stdout",
     "output_type": "stream",
     "text": [
      "Train:\n"
     ]
    },
    {
     "data": {
      "text/html": [
       "<div>\n",
       "<style scoped>\n",
       "    .dataframe tbody tr th:only-of-type {\n",
       "        vertical-align: middle;\n",
       "    }\n",
       "\n",
       "    .dataframe tbody tr th {\n",
       "        vertical-align: top;\n",
       "    }\n",
       "\n",
       "    .dataframe thead th {\n",
       "        text-align: right;\n",
       "    }\n",
       "</style>\n",
       "<table border=\"1\" class=\"dataframe\">\n",
       "  <thead>\n",
       "    <tr style=\"text-align: right;\">\n",
       "      <th></th>\n",
       "      <th>predicted</th>\n",
       "      <th>true</th>\n",
       "    </tr>\n",
       "  </thead>\n",
       "  <tbody>\n",
       "    <tr>\n",
       "      <th>0</th>\n",
       "      <td>I V P Q G E D V R _ _ _ _ _ _ _ _ _ _ _ _ _ _ _ _ _ _ _ _ _</td>\n",
       "      <td>K E F S P F G S I T S A K _ _ _ _ _ _ _ _ _ _ _ _ _ _ _ _ _</td>\n",
       "    </tr>\n",
       "    <tr>\n",
       "      <th>1</th>\n",
       "      <td>T M S S L E S T K _ _ _ _ _ _ _ _ _ _ _ _ _ _ _ _ _ _ _ _ _</td>\n",
       "      <td>R F G L A L G Q G K D V D T A Q E E I G Q V V E G Y R _ _ _</td>\n",
       "    </tr>\n",
       "    <tr>\n",
       "      <th>2</th>\n",
       "      <td>L L G N F I H N V A G I K G D W S M S A Y R _ _ _ _ _ _ _ _</td>\n",
       "      <td>R H E L T G E A L S Y P Y A L P E A G T L R _ _ _ _ _ _ _ _</td>\n",
       "    </tr>\n",
       "    <tr>\n",
       "      <th>3</th>\n",
       "      <td>Q N R L G F T Q K _ _ _ _ _ _ _ _ _ _ _ _ _ _ _ _ _ _ _ _ _</td>\n",
       "      <td>L L A L N F Y K E L E L L A Q V K N Y L D V P A L M R _ _ _</td>\n",
       "    </tr>\n",
       "    <tr>\n",
       "      <th>4</th>\n",
       "      <td>V L D F M G E S T A V G D E G G F A P N L K _ _ _ _ _ _ _ _</td>\n",
       "      <td>L D Y F S V Q S G S S D I A T A S V K L A C G E E T K _ _ _</td>\n",
       "    </tr>\n",
       "  </tbody>\n",
       "</table>\n",
       "</div>"
      ],
      "text/plain": [
       "                                                     predicted  \\\n",
       "0  I V P Q G E D V R _ _ _ _ _ _ _ _ _ _ _ _ _ _ _ _ _ _ _ _ _   \n",
       "1  T M S S L E S T K _ _ _ _ _ _ _ _ _ _ _ _ _ _ _ _ _ _ _ _ _   \n",
       "2  L L G N F I H N V A G I K G D W S M S A Y R _ _ _ _ _ _ _ _   \n",
       "3  Q N R L G F T Q K _ _ _ _ _ _ _ _ _ _ _ _ _ _ _ _ _ _ _ _ _   \n",
       "4  V L D F M G E S T A V G D E G G F A P N L K _ _ _ _ _ _ _ _   \n",
       "\n",
       "                                                          true  \n",
       "0  K E F S P F G S I T S A K _ _ _ _ _ _ _ _ _ _ _ _ _ _ _ _ _  \n",
       "1  R F G L A L G Q G K D V D T A Q E E I G Q V V E G Y R _ _ _  \n",
       "2  R H E L T G E A L S Y P Y A L P E A G T L R _ _ _ _ _ _ _ _  \n",
       "3  L L A L N F Y K E L E L L A Q V K N Y L D V P A L M R _ _ _  \n",
       "4  L D Y F S V Q S G S S D I A T A S V K L A C G E E T K _ _ _  "
      ]
     },
     "metadata": {},
     "output_type": "display_data"
    },
    {
     "name": "stdout",
     "output_type": "stream",
     "text": [
      "Eval:\n"
     ]
    },
    {
     "data": {
      "text/html": [
       "<div>\n",
       "<style scoped>\n",
       "    .dataframe tbody tr th:only-of-type {\n",
       "        vertical-align: middle;\n",
       "    }\n",
       "\n",
       "    .dataframe tbody tr th {\n",
       "        vertical-align: top;\n",
       "    }\n",
       "\n",
       "    .dataframe thead th {\n",
       "        text-align: right;\n",
       "    }\n",
       "</style>\n",
       "<table border=\"1\" class=\"dataframe\">\n",
       "  <thead>\n",
       "    <tr style=\"text-align: right;\">\n",
       "      <th></th>\n",
       "      <th>predicted</th>\n",
       "      <th>true</th>\n",
       "    </tr>\n",
       "  </thead>\n",
       "  <tbody>\n",
       "    <tr>\n",
       "      <th>0</th>\n",
       "      <td>I K N L L E E G K _ _ _ _ _ _ _ _ _ _ _ _ _ _ _ _ _ _ _ _ _</td>\n",
       "      <td>M L H M Q R G D G L R F N M S V F F T D R _ _ _ _ _ _ _ _ _</td>\n",
       "    </tr>\n",
       "    <tr>\n",
       "      <th>1</th>\n",
       "      <td>M E L E K L I N K _ _ _ _ _ _ _ _ _ _ _ _ _ _ _ _ _ _ _ _ _</td>\n",
       "      <td>M A D V I N I S R I P I F S K Q E R _ _ _ _ _ _ _ _ _ _ _ _</td>\n",
       "    </tr>\n",
       "    <tr>\n",
       "      <th>2</th>\n",
       "      <td>S T N Q V P G R I L I W D T K T M T T _ _ _ _ _ _ _ _ _ _ _</td>\n",
       "      <td>V K K M V L Q E R _ _ _ _ _ _ _ _ _ _ _ _ _ _ _ _ _ _ _ _ _</td>\n",
       "    </tr>\n",
       "    <tr>\n",
       "      <th>3</th>\n",
       "      <td>I L D D N F A I V L E S I G F A L E K _ _ _ _ _ _ _ _ _ _ _</td>\n",
       "      <td>T R L N G A K M R _ _ _ _ _ _ _ _ _ _ _ _ _ _ _ _ _ _ _ _ _</td>\n",
       "    </tr>\n",
       "    <tr>\n",
       "      <th>4</th>\n",
       "      <td>L P P G V F S G M G H L T L L D L Q S N K _ _ _ _ _ _ _ _ _</td>\n",
       "      <td>G P A L S A S S K _ _ _ _ _ _ _ _ _ _ _ _ _ _ _ _ _ _ _ _ _</td>\n",
       "    </tr>\n",
       "  </tbody>\n",
       "</table>\n",
       "</div>"
      ],
      "text/plain": [
       "                                                     predicted  \\\n",
       "0  I K N L L E E G K _ _ _ _ _ _ _ _ _ _ _ _ _ _ _ _ _ _ _ _ _   \n",
       "1  M E L E K L I N K _ _ _ _ _ _ _ _ _ _ _ _ _ _ _ _ _ _ _ _ _   \n",
       "2  S T N Q V P G R I L I W D T K T M T T _ _ _ _ _ _ _ _ _ _ _   \n",
       "3  I L D D N F A I V L E S I G F A L E K _ _ _ _ _ _ _ _ _ _ _   \n",
       "4  L P P G V F S G M G H L T L L D L Q S N K _ _ _ _ _ _ _ _ _   \n",
       "\n",
       "                                                          true  \n",
       "0  M L H M Q R G D G L R F N M S V F F T D R _ _ _ _ _ _ _ _ _  \n",
       "1  M A D V I N I S R I P I F S K Q E R _ _ _ _ _ _ _ _ _ _ _ _  \n",
       "2  V K K M V L Q E R _ _ _ _ _ _ _ _ _ _ _ _ _ _ _ _ _ _ _ _ _  \n",
       "3  T R L N G A K M R _ _ _ _ _ _ _ _ _ _ _ _ _ _ _ _ _ _ _ _ _  \n",
       "4  G P A L S A S S K _ _ _ _ _ _ _ _ _ _ _ _ _ _ _ _ _ _ _ _ _  "
      ]
     },
     "metadata": {},
     "output_type": "display_data"
    },
    {
     "name": "stderr",
     "output_type": "stream",
     "text": [
      "2021-10-27 17:21:51,523 - mmproteo_attention_model: epoch 26:\n",
      "2021-10-27 17:21:51,525 - mmproteo_attention_model: DEBUG: {'name': 'Adam', 'learning_rate': 0.00061286293, 'decay': 0.0, 'beta_1': 0.9, 'beta_2': 0.98, 'epsilon': 1e-09, 'amsgrad': False}\n"
     ]
    },
    {
     "name": "stdout",
     "output_type": "stream",
     "text": [
      "Epoch 26/26\n",
      "200/200 [==============================] - 407s 2s/step - loss: 0.0951 - sparse_categorical_accuracy: 0.9623 - jaccard_batch_distance: 0.9475 - leuvenshtein_batch_distance: 1.1313 - val_loss: 0.5263 - val_sparse_categorical_accuracy: 0.8667 - val_jaccard_batch_distance: 0.8721 - val_leuvenshtein_batch_distance: 3.8871\n"
     ]
    },
    {
     "name": "stderr",
     "output_type": "stream",
     "text": [
      "2021-10-27 17:28:41,880 - mmproteo_attention_model: DEBUG: {'loss': [0.0951295793056488], 'sparse_categorical_accuracy': [0.9622551798820496], 'jaccard_batch_distance': [0.9475157260894775], 'leuvenshtein_batch_distance': [1.131250023841858], 'val_loss': [0.5263323187828064], 'val_sparse_categorical_accuracy': [0.8666927218437195], 'val_jaccard_batch_distance': [0.8720530271530151], 'val_leuvenshtein_batch_distance': [3.8870606422424316]}\n"
     ]
    },
    {
     "name": "stdout",
     "output_type": "stream",
     "text": [
      "Train:\n"
     ]
    },
    {
     "data": {
      "text/html": [
       "<div>\n",
       "<style scoped>\n",
       "    .dataframe tbody tr th:only-of-type {\n",
       "        vertical-align: middle;\n",
       "    }\n",
       "\n",
       "    .dataframe tbody tr th {\n",
       "        vertical-align: top;\n",
       "    }\n",
       "\n",
       "    .dataframe thead th {\n",
       "        text-align: right;\n",
       "    }\n",
       "</style>\n",
       "<table border=\"1\" class=\"dataframe\">\n",
       "  <thead>\n",
       "    <tr style=\"text-align: right;\">\n",
       "      <th></th>\n",
       "      <th>predicted</th>\n",
       "      <th>true</th>\n",
       "    </tr>\n",
       "  </thead>\n",
       "  <tbody>\n",
       "    <tr>\n",
       "      <th>0</th>\n",
       "      <td>L A H L A S D L H H E Q R _ _ _ _ _ _ _ _ _ _ _ _ _ _ _ _ _</td>\n",
       "      <td>A G E Q A A E G L T E T L Q E L G F Q T D R _ _ _ _ _ _ _ _</td>\n",
       "    </tr>\n",
       "    <tr>\n",
       "      <th>1</th>\n",
       "      <td>I L E E C K R D K _ _ _ _ _ _ _ _ _ _ _ _ _ _ _ _ _ _ _ _ _</td>\n",
       "      <td>Y Q R L V P S H S R I V R _ _ _ _ _ _ _ _ _ _ _ _ _ _ _ _ _</td>\n",
       "    </tr>\n",
       "    <tr>\n",
       "      <th>2</th>\n",
       "      <td>N I N P Q N V L I I V K D M S L T A K I S D M S L S K _ _ _</td>\n",
       "      <td>M N A V T E S A A T T A E M P V P F V F T D A A A D K _ _ _</td>\n",
       "    </tr>\n",
       "    <tr>\n",
       "      <th>3</th>\n",
       "      <td>W E A E D T H L S C P E P T V F A F S P L R _ _ _ _ _ _ _ _</td>\n",
       "      <td>T H Y F W P L L V G H Q K _ _ _ _ _ _ _ _ _ _ _ _ _ _ _ _ _</td>\n",
       "    </tr>\n",
       "    <tr>\n",
       "      <th>4</th>\n",
       "      <td>L A G K Q A M I S A L L R _ _ _ _ _ _ _ _ _ _ _ _ _ _ _ _ _</td>\n",
       "      <td>A D I G G G S L K _ _ _ _ _ _ _ _ _ _ _ _ _ _ _ _ _ _ _ _ _</td>\n",
       "    </tr>\n",
       "  </tbody>\n",
       "</table>\n",
       "</div>"
      ],
      "text/plain": [
       "                                                     predicted  \\\n",
       "0  L A H L A S D L H H E Q R _ _ _ _ _ _ _ _ _ _ _ _ _ _ _ _ _   \n",
       "1  I L E E C K R D K _ _ _ _ _ _ _ _ _ _ _ _ _ _ _ _ _ _ _ _ _   \n",
       "2  N I N P Q N V L I I V K D M S L T A K I S D M S L S K _ _ _   \n",
       "3  W E A E D T H L S C P E P T V F A F S P L R _ _ _ _ _ _ _ _   \n",
       "4  L A G K Q A M I S A L L R _ _ _ _ _ _ _ _ _ _ _ _ _ _ _ _ _   \n",
       "\n",
       "                                                          true  \n",
       "0  A G E Q A A E G L T E T L Q E L G F Q T D R _ _ _ _ _ _ _ _  \n",
       "1  Y Q R L V P S H S R I V R _ _ _ _ _ _ _ _ _ _ _ _ _ _ _ _ _  \n",
       "2  M N A V T E S A A T T A E M P V P F V F T D A A A D K _ _ _  \n",
       "3  T H Y F W P L L V G H Q K _ _ _ _ _ _ _ _ _ _ _ _ _ _ _ _ _  \n",
       "4  A D I G G G S L K _ _ _ _ _ _ _ _ _ _ _ _ _ _ _ _ _ _ _ _ _  "
      ]
     },
     "metadata": {},
     "output_type": "display_data"
    },
    {
     "name": "stdout",
     "output_type": "stream",
     "text": [
      "Eval:\n"
     ]
    },
    {
     "data": {
      "text/html": [
       "<div>\n",
       "<style scoped>\n",
       "    .dataframe tbody tr th:only-of-type {\n",
       "        vertical-align: middle;\n",
       "    }\n",
       "\n",
       "    .dataframe tbody tr th {\n",
       "        vertical-align: top;\n",
       "    }\n",
       "\n",
       "    .dataframe thead th {\n",
       "        text-align: right;\n",
       "    }\n",
       "</style>\n",
       "<table border=\"1\" class=\"dataframe\">\n",
       "  <thead>\n",
       "    <tr style=\"text-align: right;\">\n",
       "      <th></th>\n",
       "      <th>predicted</th>\n",
       "      <th>true</th>\n",
       "    </tr>\n",
       "  </thead>\n",
       "  <tbody>\n",
       "    <tr>\n",
       "      <th>0</th>\n",
       "      <td>L H Y T P E P Q R _ _ _ _ _ _ _ _ _ _ _ _ _ _ _ _ _ _ _ _ _</td>\n",
       "      <td>K I A L F L A L I F V G V S L V S C S S K _ _ _ _ _ _ _ _ _</td>\n",
       "    </tr>\n",
       "    <tr>\n",
       "      <th>1</th>\n",
       "      <td>H A K G K S N E K _ _ _ _ _ _ _ _ _ _ _ _ _ _ _ _ _ _ _ _ _</td>\n",
       "      <td>L F C V E K G Q A N P V E G D T L K _ _ _ _ _ _ _ _ _ _ _ _</td>\n",
       "    </tr>\n",
       "    <tr>\n",
       "      <th>2</th>\n",
       "      <td>L A R D K V V G K _ _ _ _ _ _ _ _ _ _ _ _ _ _ _ _ _ _ _ _ _</td>\n",
       "      <td>I E Q G D W I D L R A A E D V T I K _ _ _ _ _ _ _ _ _ _ _ _</td>\n",
       "    </tr>\n",
       "    <tr>\n",
       "      <th>3</th>\n",
       "      <td>Y L D D V F T E G H G T I Y A S D G R T R _ _ _ _ _ _ _ _ _</td>\n",
       "      <td>Y N K E Q Q L K K _ _ _ _ _ _ _ _ _ _ _ _ _ _ _ _ _ _ _ _ _</td>\n",
       "    </tr>\n",
       "    <tr>\n",
       "      <th>4</th>\n",
       "      <td>H E E E D E D A Y F C Y V K K Q L C Q _ _ _ _ _ _ _ _ _ _ _</td>\n",
       "      <td>A E Q S R P I W Y L V P D G V V Q Y V A K _ _ _ _ _ _ _ _ _</td>\n",
       "    </tr>\n",
       "  </tbody>\n",
       "</table>\n",
       "</div>"
      ],
      "text/plain": [
       "                                                     predicted  \\\n",
       "0  L H Y T P E P Q R _ _ _ _ _ _ _ _ _ _ _ _ _ _ _ _ _ _ _ _ _   \n",
       "1  H A K G K S N E K _ _ _ _ _ _ _ _ _ _ _ _ _ _ _ _ _ _ _ _ _   \n",
       "2  L A R D K V V G K _ _ _ _ _ _ _ _ _ _ _ _ _ _ _ _ _ _ _ _ _   \n",
       "3  Y L D D V F T E G H G T I Y A S D G R T R _ _ _ _ _ _ _ _ _   \n",
       "4  H E E E D E D A Y F C Y V K K Q L C Q _ _ _ _ _ _ _ _ _ _ _   \n",
       "\n",
       "                                                          true  \n",
       "0  K I A L F L A L I F V G V S L V S C S S K _ _ _ _ _ _ _ _ _  \n",
       "1  L F C V E K G Q A N P V E G D T L K _ _ _ _ _ _ _ _ _ _ _ _  \n",
       "2  I E Q G D W I D L R A A E D V T I K _ _ _ _ _ _ _ _ _ _ _ _  \n",
       "3  Y N K E Q Q L K K _ _ _ _ _ _ _ _ _ _ _ _ _ _ _ _ _ _ _ _ _  \n",
       "4  A E Q S R P I W Y L V P D G V V Q Y V A K _ _ _ _ _ _ _ _ _  "
      ]
     },
     "metadata": {},
     "output_type": "display_data"
    },
    {
     "name": "stderr",
     "output_type": "stream",
     "text": [
      "2021-10-27 17:28:44,708 - mmproteo_attention_model: epoch 27:\n",
      "2021-10-27 17:28:44,711 - mmproteo_attention_model: DEBUG: {'name': 'Adam', 'learning_rate': 0.00060140656, 'decay': 0.0, 'beta_1': 0.9, 'beta_2': 0.98, 'epsilon': 1e-09, 'amsgrad': False}\n"
     ]
    },
    {
     "name": "stdout",
     "output_type": "stream",
     "text": [
      "Epoch 27/27\n",
      "200/200 [==============================] - 407s 2s/step - loss: 0.0890 - sparse_categorical_accuracy: 0.9645 - jaccard_batch_distance: 0.9501 - leuvenshtein_batch_distance: 1.0642 - val_loss: 0.3573 - val_sparse_categorical_accuracy: 0.8976 - val_jaccard_batch_distance: 0.8932 - val_leuvenshtein_batch_distance: 2.9999\n"
     ]
    },
    {
     "name": "stderr",
     "output_type": "stream",
     "text": [
      "2021-10-27 17:35:34,893 - mmproteo_attention_model: DEBUG: {'loss': [0.08903703093528748], 'sparse_categorical_accuracy': [0.9644938111305237], 'jaccard_batch_distance': [0.9500557780265808], 'leuvenshtein_batch_distance': [1.0641698837280273], 'val_loss': [0.3573039174079895], 'val_sparse_categorical_accuracy': [0.8975830078125], 'val_jaccard_batch_distance': [0.8931879997253418], 'val_leuvenshtein_batch_distance': [2.9999022483825684]}\n"
     ]
    },
    {
     "name": "stdout",
     "output_type": "stream",
     "text": [
      "Train:\n"
     ]
    },
    {
     "data": {
      "text/html": [
       "<div>\n",
       "<style scoped>\n",
       "    .dataframe tbody tr th:only-of-type {\n",
       "        vertical-align: middle;\n",
       "    }\n",
       "\n",
       "    .dataframe tbody tr th {\n",
       "        vertical-align: top;\n",
       "    }\n",
       "\n",
       "    .dataframe thead th {\n",
       "        text-align: right;\n",
       "    }\n",
       "</style>\n",
       "<table border=\"1\" class=\"dataframe\">\n",
       "  <thead>\n",
       "    <tr style=\"text-align: right;\">\n",
       "      <th></th>\n",
       "      <th>predicted</th>\n",
       "      <th>true</th>\n",
       "    </tr>\n",
       "  </thead>\n",
       "  <tbody>\n",
       "    <tr>\n",
       "      <th>0</th>\n",
       "      <td>K T E A D V H N S N R N R _ _ _ _ _ _ _ _ _ _ _ _ _ _ _ _ _</td>\n",
       "      <td>A C H D D F R R K _ _ _ _ _ _ _ _ _ _ _ _ _ _ _ _ _ _ _ _ _</td>\n",
       "    </tr>\n",
       "    <tr>\n",
       "      <th>1</th>\n",
       "      <td>L V P Q G E D V R _ _ _ _ _ _ _ _ _ _ _ _ _ _ _ _ _ _ _ _ _</td>\n",
       "      <td>L L V D I G N T R _ _ _ _ _ _ _ _ _ _ _ _ _ _ _ _ _ _ _ _ _</td>\n",
       "    </tr>\n",
       "    <tr>\n",
       "      <th>2</th>\n",
       "      <td>S L L S G I D I T T L P N Y S I D N T N N R _ _ _ _ _ _ _ _</td>\n",
       "      <td>A V D D N L V D K _ _ _ _ _ _ _ _ _ _ _ _ _ _ _ _ _ _ _ _ _</td>\n",
       "    </tr>\n",
       "    <tr>\n",
       "      <th>3</th>\n",
       "      <td>A L E S F E Q H M L S D R _ _ _ _ _ _ _ _ _ _ _ _ _ _ _ _ _</td>\n",
       "      <td>D R I N L V L S K _ _ _ _ _ _ _ _ _ _ _ _ _ _ _ _ _ _ _ _ _</td>\n",
       "    </tr>\n",
       "    <tr>\n",
       "      <th>4</th>\n",
       "      <td>L Q A Q Y R R W R _ _ _ _ _ _ _ _ _ _ _ _ _ _ _ _ _ _ _ _ _</td>\n",
       "      <td>G N T L Y F H A A L A S P D G S R R V E V R _ _ _ _ _ _ _ _</td>\n",
       "    </tr>\n",
       "  </tbody>\n",
       "</table>\n",
       "</div>"
      ],
      "text/plain": [
       "                                                     predicted  \\\n",
       "0  K T E A D V H N S N R N R _ _ _ _ _ _ _ _ _ _ _ _ _ _ _ _ _   \n",
       "1  L V P Q G E D V R _ _ _ _ _ _ _ _ _ _ _ _ _ _ _ _ _ _ _ _ _   \n",
       "2  S L L S G I D I T T L P N Y S I D N T N N R _ _ _ _ _ _ _ _   \n",
       "3  A L E S F E Q H M L S D R _ _ _ _ _ _ _ _ _ _ _ _ _ _ _ _ _   \n",
       "4  L Q A Q Y R R W R _ _ _ _ _ _ _ _ _ _ _ _ _ _ _ _ _ _ _ _ _   \n",
       "\n",
       "                                                          true  \n",
       "0  A C H D D F R R K _ _ _ _ _ _ _ _ _ _ _ _ _ _ _ _ _ _ _ _ _  \n",
       "1  L L V D I G N T R _ _ _ _ _ _ _ _ _ _ _ _ _ _ _ _ _ _ _ _ _  \n",
       "2  A V D D N L V D K _ _ _ _ _ _ _ _ _ _ _ _ _ _ _ _ _ _ _ _ _  \n",
       "3  D R I N L V L S K _ _ _ _ _ _ _ _ _ _ _ _ _ _ _ _ _ _ _ _ _  \n",
       "4  G N T L Y F H A A L A S P D G S R R V E V R _ _ _ _ _ _ _ _  "
      ]
     },
     "metadata": {},
     "output_type": "display_data"
    },
    {
     "name": "stdout",
     "output_type": "stream",
     "text": [
      "Eval:\n"
     ]
    },
    {
     "data": {
      "text/html": [
       "<div>\n",
       "<style scoped>\n",
       "    .dataframe tbody tr th:only-of-type {\n",
       "        vertical-align: middle;\n",
       "    }\n",
       "\n",
       "    .dataframe tbody tr th {\n",
       "        vertical-align: top;\n",
       "    }\n",
       "\n",
       "    .dataframe thead th {\n",
       "        text-align: right;\n",
       "    }\n",
       "</style>\n",
       "<table border=\"1\" class=\"dataframe\">\n",
       "  <thead>\n",
       "    <tr style=\"text-align: right;\">\n",
       "      <th></th>\n",
       "      <th>predicted</th>\n",
       "      <th>true</th>\n",
       "    </tr>\n",
       "  </thead>\n",
       "  <tbody>\n",
       "    <tr>\n",
       "      <th>0</th>\n",
       "      <td>L I P G A R R N A D D K V L Q H N S G G K _ _ _ _ _ _ _ _ _</td>\n",
       "      <td>A N G S D L T Y A A I K K A Q N E K _ _ _ _ _ _ _ _ _ _ _ _</td>\n",
       "    </tr>\n",
       "    <tr>\n",
       "      <th>1</th>\n",
       "      <td>L G L S A Y F K E L D K F Y L I P P V Y R _ _ _ _ _ _ _ _ _</td>\n",
       "      <td>N D K F P V N L T V Q Y W V D V S R _ _ _ _ _ _ _ _ _ _ _ _</td>\n",
       "    </tr>\n",
       "    <tr>\n",
       "      <th>2</th>\n",
       "      <td>F V I H G F L D D G D S G W P T D L C K K _ _ _ _ _ _ _ _ _</td>\n",
       "      <td>L I K T W P E A K _ _ _ _ _ _ _ _ _ _ _ _ _ _ _ _ _ _ _ _ _</td>\n",
       "    </tr>\n",
       "    <tr>\n",
       "      <th>3</th>\n",
       "      <td>A S L P D W L C K _ _ _ _ _ _ _ _ _ _ _ _ _ _ _ _ _ _ _ _ _</td>\n",
       "      <td>A H S V R V G A R _ _ _ _ _ _ _ _ _ _ _ _ _ _ _ _ _ _ _ _ _</td>\n",
       "    </tr>\n",
       "    <tr>\n",
       "      <th>4</th>\n",
       "      <td>E G L D L P E V S L V G L I L G D A _ _ _ _ _ _ _ _ _ _ _ _</td>\n",
       "      <td>A A E M I F R D R I E H Y Q L E M K _ _ _ _ _ _ _ _ _ _ _ _</td>\n",
       "    </tr>\n",
       "  </tbody>\n",
       "</table>\n",
       "</div>"
      ],
      "text/plain": [
       "                                                     predicted  \\\n",
       "0  L I P G A R R N A D D K V L Q H N S G G K _ _ _ _ _ _ _ _ _   \n",
       "1  L G L S A Y F K E L D K F Y L I P P V Y R _ _ _ _ _ _ _ _ _   \n",
       "2  F V I H G F L D D G D S G W P T D L C K K _ _ _ _ _ _ _ _ _   \n",
       "3  A S L P D W L C K _ _ _ _ _ _ _ _ _ _ _ _ _ _ _ _ _ _ _ _ _   \n",
       "4  E G L D L P E V S L V G L I L G D A _ _ _ _ _ _ _ _ _ _ _ _   \n",
       "\n",
       "                                                          true  \n",
       "0  A N G S D L T Y A A I K K A Q N E K _ _ _ _ _ _ _ _ _ _ _ _  \n",
       "1  N D K F P V N L T V Q Y W V D V S R _ _ _ _ _ _ _ _ _ _ _ _  \n",
       "2  L I K T W P E A K _ _ _ _ _ _ _ _ _ _ _ _ _ _ _ _ _ _ _ _ _  \n",
       "3  A H S V R V G A R _ _ _ _ _ _ _ _ _ _ _ _ _ _ _ _ _ _ _ _ _  \n",
       "4  A A E M I F R D R I E H Y Q L E M K _ _ _ _ _ _ _ _ _ _ _ _  "
      ]
     },
     "metadata": {},
     "output_type": "display_data"
    },
    {
     "name": "stderr",
     "output_type": "stream",
     "text": [
      "2021-10-27 17:35:37,729 - mmproteo_attention_model: epoch 28:\n",
      "2021-10-27 17:35:37,731 - mmproteo_attention_model: DEBUG: {'name': 'Adam', 'learning_rate': 0.0005905695, 'decay': 0.0, 'beta_1': 0.9, 'beta_2': 0.98, 'epsilon': 1e-09, 'amsgrad': False}\n"
     ]
    },
    {
     "name": "stdout",
     "output_type": "stream",
     "text": [
      "Epoch 28/28\n",
      "200/200 [==============================] - 408s 2s/step - loss: 0.0837 - sparse_categorical_accuracy: 0.9666 - jaccard_batch_distance: 0.9526 - leuvenshtein_batch_distance: 1.0000 - val_loss: 0.3620 - val_sparse_categorical_accuracy: 0.8950 - val_jaccard_batch_distance: 0.8854 - val_leuvenshtein_batch_distance: 3.1116\n"
     ]
    },
    {
     "name": "stderr",
     "output_type": "stream",
     "text": [
      "2021-10-27 17:42:28,533 - mmproteo_attention_model: DEBUG: {'loss': [0.08367756754159927], 'sparse_categorical_accuracy': [0.9666416049003601], 'jaccard_batch_distance': [0.95261549949646], 'leuvenshtein_batch_distance': [0.9999804496765137], 'val_loss': [0.36198022961616516], 'val_sparse_categorical_accuracy': [0.8950439691543579], 'val_jaccard_batch_distance': [0.8854349851608276], 'val_leuvenshtein_batch_distance': [3.111621141433716]}\n"
     ]
    },
    {
     "name": "stdout",
     "output_type": "stream",
     "text": [
      "Train:\n"
     ]
    },
    {
     "data": {
      "text/html": [
       "<div>\n",
       "<style scoped>\n",
       "    .dataframe tbody tr th:only-of-type {\n",
       "        vertical-align: middle;\n",
       "    }\n",
       "\n",
       "    .dataframe tbody tr th {\n",
       "        vertical-align: top;\n",
       "    }\n",
       "\n",
       "    .dataframe thead th {\n",
       "        text-align: right;\n",
       "    }\n",
       "</style>\n",
       "<table border=\"1\" class=\"dataframe\">\n",
       "  <thead>\n",
       "    <tr style=\"text-align: right;\">\n",
       "      <th></th>\n",
       "      <th>predicted</th>\n",
       "      <th>true</th>\n",
       "    </tr>\n",
       "  </thead>\n",
       "  <tbody>\n",
       "    <tr>\n",
       "      <th>0</th>\n",
       "      <td>I K G Y D T P K R _ _ _ _ _ _ _ _ _ _ _ _ _ _ _ _ _ _ _ _ _</td>\n",
       "      <td>A E E L F N M L Q E I M Q N N S I N V V E E P V V E R _ _ _</td>\n",
       "    </tr>\n",
       "    <tr>\n",
       "      <th>1</th>\n",
       "      <td>H L D V S T L K E L A R R _ _ _ _ _ _ _ _ _ _ _ _ _ _ _ _ _</td>\n",
       "      <td>L E I D D P A I E A V E F L I L D E A Q N K _ _ _ _ _ _ _ _</td>\n",
       "    </tr>\n",
       "    <tr>\n",
       "      <th>2</th>\n",
       "      <td>G Q N G E S D K D E G E K _ _ _ _ _ _ _ _ _ _ _ _ _ _ _ _ _</td>\n",
       "      <td>G Y K T W D I V A L S D A T P N L D E L L K _ _ _ _ _ _ _ _</td>\n",
       "    </tr>\n",
       "    <tr>\n",
       "      <th>3</th>\n",
       "      <td>T I L W V N G G G T F C K _ _ _ _ _ _ _ _ _ _ _ _ _ _ _ _ _</td>\n",
       "      <td>Q D G E I V V Q R _ _ _ _ _ _ _ _ _ _ _ _ _ _ _ _ _ _ _ _ _</td>\n",
       "    </tr>\n",
       "    <tr>\n",
       "      <th>4</th>\n",
       "      <td>M W S I D N P K E P L L V K T G L E N A F K _ _ _ _ _ _ _ _</td>\n",
       "      <td>L R D L T H E L K _ _ _ _ _ _ _ _ _ _ _ _ _ _ _ _ _ _ _ _ _</td>\n",
       "    </tr>\n",
       "  </tbody>\n",
       "</table>\n",
       "</div>"
      ],
      "text/plain": [
       "                                                     predicted  \\\n",
       "0  I K G Y D T P K R _ _ _ _ _ _ _ _ _ _ _ _ _ _ _ _ _ _ _ _ _   \n",
       "1  H L D V S T L K E L A R R _ _ _ _ _ _ _ _ _ _ _ _ _ _ _ _ _   \n",
       "2  G Q N G E S D K D E G E K _ _ _ _ _ _ _ _ _ _ _ _ _ _ _ _ _   \n",
       "3  T I L W V N G G G T F C K _ _ _ _ _ _ _ _ _ _ _ _ _ _ _ _ _   \n",
       "4  M W S I D N P K E P L L V K T G L E N A F K _ _ _ _ _ _ _ _   \n",
       "\n",
       "                                                          true  \n",
       "0  A E E L F N M L Q E I M Q N N S I N V V E E P V V E R _ _ _  \n",
       "1  L E I D D P A I E A V E F L I L D E A Q N K _ _ _ _ _ _ _ _  \n",
       "2  G Y K T W D I V A L S D A T P N L D E L L K _ _ _ _ _ _ _ _  \n",
       "3  Q D G E I V V Q R _ _ _ _ _ _ _ _ _ _ _ _ _ _ _ _ _ _ _ _ _  \n",
       "4  L R D L T H E L K _ _ _ _ _ _ _ _ _ _ _ _ _ _ _ _ _ _ _ _ _  "
      ]
     },
     "metadata": {},
     "output_type": "display_data"
    },
    {
     "name": "stdout",
     "output_type": "stream",
     "text": [
      "Eval:\n"
     ]
    },
    {
     "data": {
      "text/html": [
       "<div>\n",
       "<style scoped>\n",
       "    .dataframe tbody tr th:only-of-type {\n",
       "        vertical-align: middle;\n",
       "    }\n",
       "\n",
       "    .dataframe tbody tr th {\n",
       "        vertical-align: top;\n",
       "    }\n",
       "\n",
       "    .dataframe thead th {\n",
       "        text-align: right;\n",
       "    }\n",
       "</style>\n",
       "<table border=\"1\" class=\"dataframe\">\n",
       "  <thead>\n",
       "    <tr style=\"text-align: right;\">\n",
       "      <th></th>\n",
       "      <th>predicted</th>\n",
       "      <th>true</th>\n",
       "    </tr>\n",
       "  </thead>\n",
       "  <tbody>\n",
       "    <tr>\n",
       "      <th>0</th>\n",
       "      <td>V S E Q S G I A I I Y Q E I T L V K _ _ _ _ _ _ _ _ _ _ _ _</td>\n",
       "      <td>C V V N D F S Q K F V D D D G V W K _ _ _ _ _ _ _ _ _ _ _ _</td>\n",
       "    </tr>\n",
       "    <tr>\n",
       "      <th>1</th>\n",
       "      <td>V I L M V D A S E D H S I L E D D Q D I K _ _ _ _ _ _ _ _ _</td>\n",
       "      <td>M A F E K I I T E E S G L P P A A R _ _ _ _ _ _ _ _ _ _ _ _</td>\n",
       "    </tr>\n",
       "    <tr>\n",
       "      <th>2</th>\n",
       "      <td>R E L Q L P P H L E T P S Y D P Q T G Q R _ _ _ _ _ _ _ _ _</td>\n",
       "      <td>R P E E E V N T L A K A I V E A K K _ _ _ _ _ _ _ _ _ _ _ _</td>\n",
       "    </tr>\n",
       "    <tr>\n",
       "      <th>3</th>\n",
       "      <td>S S P R G E L F T C L F A S S G Y D V R K _ _ _ _ _ _ _ _ _</td>\n",
       "      <td>N P E K F A G C T M C G E F C A M K _ _ _ _ _ _ _ _ _ _ _ _</td>\n",
       "    </tr>\n",
       "    <tr>\n",
       "      <th>4</th>\n",
       "      <td>E N D S I Q Q R K N E E S Q E I Q K _ _ _ _ _ _ _ _ _ _ _ _</td>\n",
       "      <td>F S Q A R S E D K _ _ _ _ _ _ _ _ _ _ _ _ _ _ _ _ _ _ _ _ _</td>\n",
       "    </tr>\n",
       "  </tbody>\n",
       "</table>\n",
       "</div>"
      ],
      "text/plain": [
       "                                                     predicted  \\\n",
       "0  V S E Q S G I A I I Y Q E I T L V K _ _ _ _ _ _ _ _ _ _ _ _   \n",
       "1  V I L M V D A S E D H S I L E D D Q D I K _ _ _ _ _ _ _ _ _   \n",
       "2  R E L Q L P P H L E T P S Y D P Q T G Q R _ _ _ _ _ _ _ _ _   \n",
       "3  S S P R G E L F T C L F A S S G Y D V R K _ _ _ _ _ _ _ _ _   \n",
       "4  E N D S I Q Q R K N E E S Q E I Q K _ _ _ _ _ _ _ _ _ _ _ _   \n",
       "\n",
       "                                                          true  \n",
       "0  C V V N D F S Q K F V D D D G V W K _ _ _ _ _ _ _ _ _ _ _ _  \n",
       "1  M A F E K I I T E E S G L P P A A R _ _ _ _ _ _ _ _ _ _ _ _  \n",
       "2  R P E E E V N T L A K A I V E A K K _ _ _ _ _ _ _ _ _ _ _ _  \n",
       "3  N P E K F A G C T M C G E F C A M K _ _ _ _ _ _ _ _ _ _ _ _  \n",
       "4  F S Q A R S E D K _ _ _ _ _ _ _ _ _ _ _ _ _ _ _ _ _ _ _ _ _  "
      ]
     },
     "metadata": {},
     "output_type": "display_data"
    },
    {
     "name": "stderr",
     "output_type": "stream",
     "text": [
      "2021-10-27 17:42:31,619 - mmproteo_attention_model: epoch 29:\n",
      "2021-10-27 17:42:31,621 - mmproteo_attention_model: DEBUG: {'name': 'Adam', 'learning_rate': 0.00058029796, 'decay': 0.0, 'beta_1': 0.9, 'beta_2': 0.98, 'epsilon': 1e-09, 'amsgrad': False}\n"
     ]
    },
    {
     "name": "stdout",
     "output_type": "stream",
     "text": [
      "Epoch 29/29\n",
      "200/200 [==============================] - 409s 2s/step - loss: 0.0784 - sparse_categorical_accuracy: 0.9685 - jaccard_batch_distance: 0.9559 - leuvenshtein_batch_distance: 0.9435 - val_loss: 0.3662 - val_sparse_categorical_accuracy: 0.8973 - val_jaccard_batch_distance: 0.8957 - val_leuvenshtein_batch_distance: 3.0084\n"
     ]
    },
    {
     "name": "stderr",
     "output_type": "stream",
     "text": [
      "2021-10-27 17:49:23,362 - mmproteo_attention_model: DEBUG: {'loss': [0.07843572646379471], 'sparse_categorical_accuracy': [0.9685338735580444], 'jaccard_batch_distance': [0.9558956027030945], 'leuvenshtein_batch_distance': [0.9434570074081421], 'val_loss': [0.3662005662918091], 'val_sparse_categorical_accuracy': [0.8973355889320374], 'val_jaccard_batch_distance': [0.8956738710403442], 'val_leuvenshtein_batch_distance': [3.0083985328674316]}\n"
     ]
    },
    {
     "name": "stdout",
     "output_type": "stream",
     "text": [
      "Train:\n"
     ]
    },
    {
     "data": {
      "text/html": [
       "<div>\n",
       "<style scoped>\n",
       "    .dataframe tbody tr th:only-of-type {\n",
       "        vertical-align: middle;\n",
       "    }\n",
       "\n",
       "    .dataframe tbody tr th {\n",
       "        vertical-align: top;\n",
       "    }\n",
       "\n",
       "    .dataframe thead th {\n",
       "        text-align: right;\n",
       "    }\n",
       "</style>\n",
       "<table border=\"1\" class=\"dataframe\">\n",
       "  <thead>\n",
       "    <tr style=\"text-align: right;\">\n",
       "      <th></th>\n",
       "      <th>predicted</th>\n",
       "      <th>true</th>\n",
       "    </tr>\n",
       "  </thead>\n",
       "  <tbody>\n",
       "    <tr>\n",
       "      <th>0</th>\n",
       "      <td>L Y E R Q E N W R _ _ _ _ _ _ _ _ _ _ _ _ _ _ _ _ _ _ _ _ _</td>\n",
       "      <td>G N D K T T Y G A F L D I S P Y Q P I S L R _ _ _ _ _ _ _ _</td>\n",
       "    </tr>\n",
       "    <tr>\n",
       "      <th>1</th>\n",
       "      <td>E L R L E G S N D T E L N Y V S C A L D R K _ _ _ _ _ _ _ _</td>\n",
       "      <td>N L T N I S D V K E P G V S K E L I S F C V S L F N R _ _ _</td>\n",
       "    </tr>\n",
       "    <tr>\n",
       "      <th>2</th>\n",
       "      <td>M T V T L G A H N V R K R _ _ _ _ _ _ _ _ _ _ _ _ _ _ _ _ _</td>\n",
       "      <td>K K E Q A M S F R _ _ _ _ _ _ _ _ _ _ _ _ _ _ _ _ _ _ _ _ _</td>\n",
       "    </tr>\n",
       "    <tr>\n",
       "      <th>3</th>\n",
       "      <td>G F G S E V Q R R I L I G T Y A L S A G Y F D A Y Y K _ _ _</td>\n",
       "      <td>G G Q A G G G A G G G F N R G G G T G G G A G R G G R _ _ _</td>\n",
       "    </tr>\n",
       "    <tr>\n",
       "      <th>4</th>\n",
       "      <td>I V S L P G D G I G P E V V A G A L D V L N A V A K K _ _ _</td>\n",
       "      <td>D I I T M N P L Y R E S L Q Q M L H Q N Q R _ _ _ _ _ _ _ _</td>\n",
       "    </tr>\n",
       "  </tbody>\n",
       "</table>\n",
       "</div>"
      ],
      "text/plain": [
       "                                                     predicted  \\\n",
       "0  L Y E R Q E N W R _ _ _ _ _ _ _ _ _ _ _ _ _ _ _ _ _ _ _ _ _   \n",
       "1  E L R L E G S N D T E L N Y V S C A L D R K _ _ _ _ _ _ _ _   \n",
       "2  M T V T L G A H N V R K R _ _ _ _ _ _ _ _ _ _ _ _ _ _ _ _ _   \n",
       "3  G F G S E V Q R R I L I G T Y A L S A G Y F D A Y Y K _ _ _   \n",
       "4  I V S L P G D G I G P E V V A G A L D V L N A V A K K _ _ _   \n",
       "\n",
       "                                                          true  \n",
       "0  G N D K T T Y G A F L D I S P Y Q P I S L R _ _ _ _ _ _ _ _  \n",
       "1  N L T N I S D V K E P G V S K E L I S F C V S L F N R _ _ _  \n",
       "2  K K E Q A M S F R _ _ _ _ _ _ _ _ _ _ _ _ _ _ _ _ _ _ _ _ _  \n",
       "3  G G Q A G G G A G G G F N R G G G T G G G A G R G G R _ _ _  \n",
       "4  D I I T M N P L Y R E S L Q Q M L H Q N Q R _ _ _ _ _ _ _ _  "
      ]
     },
     "metadata": {},
     "output_type": "display_data"
    },
    {
     "name": "stdout",
     "output_type": "stream",
     "text": [
      "Eval:\n"
     ]
    },
    {
     "data": {
      "text/html": [
       "<div>\n",
       "<style scoped>\n",
       "    .dataframe tbody tr th:only-of-type {\n",
       "        vertical-align: middle;\n",
       "    }\n",
       "\n",
       "    .dataframe tbody tr th {\n",
       "        vertical-align: top;\n",
       "    }\n",
       "\n",
       "    .dataframe thead th {\n",
       "        text-align: right;\n",
       "    }\n",
       "</style>\n",
       "<table border=\"1\" class=\"dataframe\">\n",
       "  <thead>\n",
       "    <tr style=\"text-align: right;\">\n",
       "      <th></th>\n",
       "      <th>predicted</th>\n",
       "      <th>true</th>\n",
       "    </tr>\n",
       "  </thead>\n",
       "  <tbody>\n",
       "    <tr>\n",
       "      <th>0</th>\n",
       "      <td>T Y E T Q S S T R _ _ _ _ _ _ _ _ _ _ _ _ _ _ _ _ _ _ _ _ _</td>\n",
       "      <td>V E I G L T Y I Y G I G L T S S R K _ _ _ _ _ _ _ _ _ _ _ _</td>\n",
       "    </tr>\n",
       "    <tr>\n",
       "      <th>1</th>\n",
       "      <td>N E L V N V L D I C L K L K E N G L I T R _ _ _ _ _ _ _ _ _</td>\n",
       "      <td>Q V Q H A C P T P L I A L I N T D K _ _ _ _ _ _ _ _ _ _ _ _</td>\n",
       "    </tr>\n",
       "    <tr>\n",
       "      <th>2</th>\n",
       "      <td>Y A Y G V V R L A Y N E S E D R H Y G M K _ _ _ _ _ _ _ _ _</td>\n",
       "      <td>E I A K N K T S K _ _ _ _ _ _ _ _ _ _ _ _ _ _ _ _ _ _ _ _ _</td>\n",
       "    </tr>\n",
       "    <tr>\n",
       "      <th>3</th>\n",
       "      <td>L S L I S E E R T A L L E L W E L R _ _ _ _ _ _ _ _ _ _ _ _</td>\n",
       "      <td>V T M Q G L N V K H D R F I W E S D F V K _ _ _ _ _ _ _ _ _</td>\n",
       "    </tr>\n",
       "    <tr>\n",
       "      <th>4</th>\n",
       "      <td>Y L S R E L D L T N A L I A R V R R _ _ _ _ _ _ _ _ _ _ _ _</td>\n",
       "      <td>E Y L K E N K L K _ _ _ _ _ _ _ _ _ _ _ _ _ _ _ _ _ _ _ _ _</td>\n",
       "    </tr>\n",
       "  </tbody>\n",
       "</table>\n",
       "</div>"
      ],
      "text/plain": [
       "                                                     predicted  \\\n",
       "0  T Y E T Q S S T R _ _ _ _ _ _ _ _ _ _ _ _ _ _ _ _ _ _ _ _ _   \n",
       "1  N E L V N V L D I C L K L K E N G L I T R _ _ _ _ _ _ _ _ _   \n",
       "2  Y A Y G V V R L A Y N E S E D R H Y G M K _ _ _ _ _ _ _ _ _   \n",
       "3  L S L I S E E R T A L L E L W E L R _ _ _ _ _ _ _ _ _ _ _ _   \n",
       "4  Y L S R E L D L T N A L I A R V R R _ _ _ _ _ _ _ _ _ _ _ _   \n",
       "\n",
       "                                                          true  \n",
       "0  V E I G L T Y I Y G I G L T S S R K _ _ _ _ _ _ _ _ _ _ _ _  \n",
       "1  Q V Q H A C P T P L I A L I N T D K _ _ _ _ _ _ _ _ _ _ _ _  \n",
       "2  E I A K N K T S K _ _ _ _ _ _ _ _ _ _ _ _ _ _ _ _ _ _ _ _ _  \n",
       "3  V T M Q G L N V K H D R F I W E S D F V K _ _ _ _ _ _ _ _ _  \n",
       "4  E Y L K E N K L K _ _ _ _ _ _ _ _ _ _ _ _ _ _ _ _ _ _ _ _ _  "
      ]
     },
     "metadata": {},
     "output_type": "display_data"
    },
    {
     "name": "stderr",
     "output_type": "stream",
     "text": [
      "2021-10-27 17:49:26,341 - mmproteo_attention_model: epoch 30:\n",
      "2021-10-27 17:49:26,343 - mmproteo_attention_model: DEBUG: {'name': 'Adam', 'learning_rate': 0.00057054433, 'decay': 0.0, 'beta_1': 0.9, 'beta_2': 0.98, 'epsilon': 1e-09, 'amsgrad': False}\n"
     ]
    },
    {
     "name": "stdout",
     "output_type": "stream",
     "text": [
      "Epoch 30/30\n",
      "200/200 [==============================] - 409s 2s/step - loss: 0.0743 - sparse_categorical_accuracy: 0.9702 - jaccard_batch_distance: 0.9581 - leuvenshtein_batch_distance: 0.8931 - val_loss: 0.4209 - val_sparse_categorical_accuracy: 0.8882 - val_jaccard_batch_distance: 0.8883 - val_leuvenshtein_batch_distance: 3.2762\n"
     ]
    },
    {
     "name": "stderr",
     "output_type": "stream",
     "text": [
      "2021-10-27 17:56:18,495 - mmproteo_attention_model: DEBUG: {'loss': [0.07431702315807343], 'sparse_categorical_accuracy': [0.9702164530754089], 'jaccard_batch_distance': [0.9581007957458496], 'leuvenshtein_batch_distance': [0.8931249976158142], 'val_loss': [0.4208757281303406], 'val_sparse_categorical_accuracy': [0.8881722092628479], 'val_jaccard_batch_distance': [0.8883293271064758], 'val_leuvenshtein_batch_distance': [3.2762207984924316]}\n"
     ]
    },
    {
     "name": "stdout",
     "output_type": "stream",
     "text": [
      "Train:\n"
     ]
    },
    {
     "data": {
      "text/html": [
       "<div>\n",
       "<style scoped>\n",
       "    .dataframe tbody tr th:only-of-type {\n",
       "        vertical-align: middle;\n",
       "    }\n",
       "\n",
       "    .dataframe tbody tr th {\n",
       "        vertical-align: top;\n",
       "    }\n",
       "\n",
       "    .dataframe thead th {\n",
       "        text-align: right;\n",
       "    }\n",
       "</style>\n",
       "<table border=\"1\" class=\"dataframe\">\n",
       "  <thead>\n",
       "    <tr style=\"text-align: right;\">\n",
       "      <th></th>\n",
       "      <th>predicted</th>\n",
       "      <th>true</th>\n",
       "    </tr>\n",
       "  </thead>\n",
       "  <tbody>\n",
       "    <tr>\n",
       "      <th>0</th>\n",
       "      <td>D R D N A D N K P A E V T A E E E E W L E K _ _ _ _ _ _ _ _</td>\n",
       "      <td>G A L V L G S S L K Q H R _ _ _ _ _ _ _ _ _ _ _ _ _ _ _ _ _</td>\n",
       "    </tr>\n",
       "    <tr>\n",
       "      <th>1</th>\n",
       "      <td>R L L M A D L E T E F G I L T V I N G Y F P Q G E S R _ _ _</td>\n",
       "      <td>E A E Q G S D M V _ _ _ _ _ _ _ _ _ _ _ _ _ _ _ _ _ _ _ _ _</td>\n",
       "    </tr>\n",
       "    <tr>\n",
       "      <th>2</th>\n",
       "      <td>R L F R V L H A P V F L R _ _ _ _ _ _ _ _ _ _ _ _ _ _ _ _ _</td>\n",
       "      <td>M S L F V A S T R S A F R _ _ _ _ _ _ _ _ _ _ _ _ _ _ _ _ _</td>\n",
       "    </tr>\n",
       "    <tr>\n",
       "      <th>3</th>\n",
       "      <td>K T N G S I P E T A T S G G C Q P P G D S A T G F H R _ _ _</td>\n",
       "      <td>E L D K L R T S S T F Q R _ _ _ _ _ _ _ _ _ _ _ _ _ _ _ _ _</td>\n",
       "    </tr>\n",
       "    <tr>\n",
       "      <th>4</th>\n",
       "      <td>D L H H V S E F D R L E L Q H F F E V Y K D L E P G K _ _ _</td>\n",
       "      <td>L F D E V S A M K _ _ _ _ _ _ _ _ _ _ _ _ _ _ _ _ _ _ _ _ _</td>\n",
       "    </tr>\n",
       "  </tbody>\n",
       "</table>\n",
       "</div>"
      ],
      "text/plain": [
       "                                                     predicted  \\\n",
       "0  D R D N A D N K P A E V T A E E E E W L E K _ _ _ _ _ _ _ _   \n",
       "1  R L L M A D L E T E F G I L T V I N G Y F P Q G E S R _ _ _   \n",
       "2  R L F R V L H A P V F L R _ _ _ _ _ _ _ _ _ _ _ _ _ _ _ _ _   \n",
       "3  K T N G S I P E T A T S G G C Q P P G D S A T G F H R _ _ _   \n",
       "4  D L H H V S E F D R L E L Q H F F E V Y K D L E P G K _ _ _   \n",
       "\n",
       "                                                          true  \n",
       "0  G A L V L G S S L K Q H R _ _ _ _ _ _ _ _ _ _ _ _ _ _ _ _ _  \n",
       "1  E A E Q G S D M V _ _ _ _ _ _ _ _ _ _ _ _ _ _ _ _ _ _ _ _ _  \n",
       "2  M S L F V A S T R S A F R _ _ _ _ _ _ _ _ _ _ _ _ _ _ _ _ _  \n",
       "3  E L D K L R T S S T F Q R _ _ _ _ _ _ _ _ _ _ _ _ _ _ _ _ _  \n",
       "4  L F D E V S A M K _ _ _ _ _ _ _ _ _ _ _ _ _ _ _ _ _ _ _ _ _  "
      ]
     },
     "metadata": {},
     "output_type": "display_data"
    },
    {
     "name": "stdout",
     "output_type": "stream",
     "text": [
      "Eval:\n"
     ]
    },
    {
     "data": {
      "text/html": [
       "<div>\n",
       "<style scoped>\n",
       "    .dataframe tbody tr th:only-of-type {\n",
       "        vertical-align: middle;\n",
       "    }\n",
       "\n",
       "    .dataframe tbody tr th {\n",
       "        vertical-align: top;\n",
       "    }\n",
       "\n",
       "    .dataframe thead th {\n",
       "        text-align: right;\n",
       "    }\n",
       "</style>\n",
       "<table border=\"1\" class=\"dataframe\">\n",
       "  <thead>\n",
       "    <tr style=\"text-align: right;\">\n",
       "      <th></th>\n",
       "      <th>predicted</th>\n",
       "      <th>true</th>\n",
       "    </tr>\n",
       "  </thead>\n",
       "  <tbody>\n",
       "    <tr>\n",
       "      <th>0</th>\n",
       "      <td>L G V G F A I Q I V A I A I A S A V E V K _ _ _ _ _ _ _ _ _</td>\n",
       "      <td>M K I T V H S S K _ _ _ _ _ _ _ _ _ _ _ _ _ _ _ _ _ _ _ _ _</td>\n",
       "    </tr>\n",
       "    <tr>\n",
       "      <th>1</th>\n",
       "      <td>K K G E N G A W R _ _ _ _ _ _ _ _ _ _ _ _ _ _ _ _ _ _ _ _ _</td>\n",
       "      <td>I K L N K I F S R _ _ _ _ _ _ _ _ _ _ _ _ _ _ _ _ _ _ _ _ _</td>\n",
       "    </tr>\n",
       "    <tr>\n",
       "      <th>2</th>\n",
       "      <td>W I F Q K L D F K _ _ _ _ _ _ _ _ _ _ _ _ _ _ _ _ _ _ _ _ _</td>\n",
       "      <td>A S A A H D Q D A K K L D A D D Q L L M K _ _ _ _ _ _ _ _ _</td>\n",
       "    </tr>\n",
       "    <tr>\n",
       "      <th>3</th>\n",
       "      <td>E D G Q E I D H I N P S Q E A G A S _ _ _ _ _ _ _ _ _ _ _ _</td>\n",
       "      <td>K A T G S N V V L P I F I D F M N H A Y K _ _ _ _ _ _ _ _ _</td>\n",
       "    </tr>\n",
       "    <tr>\n",
       "      <th>4</th>\n",
       "      <td>T H Y D F S S H Y T V E K S M A K R _ _ _ _ _ _ _ _ _ _ _ _</td>\n",
       "      <td>D Y K E G D Q I P K E V I A S I N R _ _ _ _ _ _ _ _ _ _ _ _</td>\n",
       "    </tr>\n",
       "  </tbody>\n",
       "</table>\n",
       "</div>"
      ],
      "text/plain": [
       "                                                     predicted  \\\n",
       "0  L G V G F A I Q I V A I A I A S A V E V K _ _ _ _ _ _ _ _ _   \n",
       "1  K K G E N G A W R _ _ _ _ _ _ _ _ _ _ _ _ _ _ _ _ _ _ _ _ _   \n",
       "2  W I F Q K L D F K _ _ _ _ _ _ _ _ _ _ _ _ _ _ _ _ _ _ _ _ _   \n",
       "3  E D G Q E I D H I N P S Q E A G A S _ _ _ _ _ _ _ _ _ _ _ _   \n",
       "4  T H Y D F S S H Y T V E K S M A K R _ _ _ _ _ _ _ _ _ _ _ _   \n",
       "\n",
       "                                                          true  \n",
       "0  M K I T V H S S K _ _ _ _ _ _ _ _ _ _ _ _ _ _ _ _ _ _ _ _ _  \n",
       "1  I K L N K I F S R _ _ _ _ _ _ _ _ _ _ _ _ _ _ _ _ _ _ _ _ _  \n",
       "2  A S A A H D Q D A K K L D A D D Q L L M K _ _ _ _ _ _ _ _ _  \n",
       "3  K A T G S N V V L P I F I D F M N H A Y K _ _ _ _ _ _ _ _ _  \n",
       "4  D Y K E G D Q I P K E V I A S I N R _ _ _ _ _ _ _ _ _ _ _ _  "
      ]
     },
     "metadata": {},
     "output_type": "display_data"
    },
    {
     "name": "stderr",
     "output_type": "stream",
     "text": [
      "2021-10-27 17:56:21,284 - mmproteo_attention_model: epoch 31:\n",
      "2021-10-27 17:56:21,286 - mmproteo_attention_model: DEBUG: {'name': 'Adam', 'learning_rate': 0.00056126656, 'decay': 0.0, 'beta_1': 0.9, 'beta_2': 0.98, 'epsilon': 1e-09, 'amsgrad': False}\n"
     ]
    },
    {
     "name": "stdout",
     "output_type": "stream",
     "text": [
      "Epoch 31/31\n",
      "200/200 [==============================] - 408s 2s/step - loss: 0.0689 - sparse_categorical_accuracy: 0.9723 - jaccard_batch_distance: 0.9610 - leuvenshtein_batch_distance: 0.8307 - val_loss: 0.4137 - val_sparse_categorical_accuracy: 0.8913 - val_jaccard_batch_distance: 0.8924 - val_leuvenshtein_batch_distance: 3.1902\n"
     ]
    },
    {
     "name": "stderr",
     "output_type": "stream",
     "text": [
      "2021-10-27 18:03:12,407 - mmproteo_attention_model: DEBUG: {'loss': [0.06891970336437225], 'sparse_categorical_accuracy': [0.972298800945282], 'jaccard_batch_distance': [0.9610086679458618], 'leuvenshtein_batch_distance': [0.8306835889816284], 'val_loss': [0.41368213295936584], 'val_sparse_categorical_accuracy': [0.8912923336029053], 'val_jaccard_batch_distance': [0.8924416303634644], 'val_leuvenshtein_batch_distance': [3.190185546875]}\n"
     ]
    },
    {
     "name": "stdout",
     "output_type": "stream",
     "text": [
      "Train:\n"
     ]
    },
    {
     "data": {
      "text/html": [
       "<div>\n",
       "<style scoped>\n",
       "    .dataframe tbody tr th:only-of-type {\n",
       "        vertical-align: middle;\n",
       "    }\n",
       "\n",
       "    .dataframe tbody tr th {\n",
       "        vertical-align: top;\n",
       "    }\n",
       "\n",
       "    .dataframe thead th {\n",
       "        text-align: right;\n",
       "    }\n",
       "</style>\n",
       "<table border=\"1\" class=\"dataframe\">\n",
       "  <thead>\n",
       "    <tr style=\"text-align: right;\">\n",
       "      <th></th>\n",
       "      <th>predicted</th>\n",
       "      <th>true</th>\n",
       "    </tr>\n",
       "  </thead>\n",
       "  <tbody>\n",
       "    <tr>\n",
       "      <th>0</th>\n",
       "      <td>V E W A Y D D A N A R E R _ _ _ _ _ _ _ _ _ _ _ _ _ _ _ _ _</td>\n",
       "      <td>S C C K W P W D A _ _ _ _ _ _ _ _ _ _ _ _ _ _ _ _ _ _ _ _ _</td>\n",
       "    </tr>\n",
       "    <tr>\n",
       "      <th>1</th>\n",
       "      <td>R Q L N E F Q S G V A I A G I G N P Q R F F T M L E K _ _ _</td>\n",
       "      <td>T D M S N Y F L P L A G Q T A T T L A E A R _ _ _ _ _ _ _ _</td>\n",
       "    </tr>\n",
       "    <tr>\n",
       "      <th>2</th>\n",
       "      <td>G P H E T Y W D R _ _ _ _ _ _ _ _ _ _ _ _ _ _ _ _ _ _ _ _ _</td>\n",
       "      <td>A A S V S A C P P S G R R _ _ _ _ _ _ _ _ _ _ _ _ _ _ _ _ _</td>\n",
       "    </tr>\n",
       "    <tr>\n",
       "      <th>3</th>\n",
       "      <td>I N E L P A L S T S F L D G M T P E D L A R _ _ _ _ _ _ _ _</td>\n",
       "      <td>A S C L H N V S K _ _ _ _ _ _ _ _ _ _ _ _ _ _ _ _ _ _ _ _ _</td>\n",
       "    </tr>\n",
       "    <tr>\n",
       "      <th>4</th>\n",
       "      <td>I L I L H G D T L C T D D Q A Y Q Q F R R K _ _ _ _ _ _ _ _</td>\n",
       "      <td>W L L S E L S T R _ _ _ _ _ _ _ _ _ _ _ _ _ _ _ _ _ _ _ _ _</td>\n",
       "    </tr>\n",
       "  </tbody>\n",
       "</table>\n",
       "</div>"
      ],
      "text/plain": [
       "                                                     predicted  \\\n",
       "0  V E W A Y D D A N A R E R _ _ _ _ _ _ _ _ _ _ _ _ _ _ _ _ _   \n",
       "1  R Q L N E F Q S G V A I A G I G N P Q R F F T M L E K _ _ _   \n",
       "2  G P H E T Y W D R _ _ _ _ _ _ _ _ _ _ _ _ _ _ _ _ _ _ _ _ _   \n",
       "3  I N E L P A L S T S F L D G M T P E D L A R _ _ _ _ _ _ _ _   \n",
       "4  I L I L H G D T L C T D D Q A Y Q Q F R R K _ _ _ _ _ _ _ _   \n",
       "\n",
       "                                                          true  \n",
       "0  S C C K W P W D A _ _ _ _ _ _ _ _ _ _ _ _ _ _ _ _ _ _ _ _ _  \n",
       "1  T D M S N Y F L P L A G Q T A T T L A E A R _ _ _ _ _ _ _ _  \n",
       "2  A A S V S A C P P S G R R _ _ _ _ _ _ _ _ _ _ _ _ _ _ _ _ _  \n",
       "3  A S C L H N V S K _ _ _ _ _ _ _ _ _ _ _ _ _ _ _ _ _ _ _ _ _  \n",
       "4  W L L S E L S T R _ _ _ _ _ _ _ _ _ _ _ _ _ _ _ _ _ _ _ _ _  "
      ]
     },
     "metadata": {},
     "output_type": "display_data"
    },
    {
     "name": "stdout",
     "output_type": "stream",
     "text": [
      "Eval:\n"
     ]
    },
    {
     "data": {
      "text/html": [
       "<div>\n",
       "<style scoped>\n",
       "    .dataframe tbody tr th:only-of-type {\n",
       "        vertical-align: middle;\n",
       "    }\n",
       "\n",
       "    .dataframe tbody tr th {\n",
       "        vertical-align: top;\n",
       "    }\n",
       "\n",
       "    .dataframe thead th {\n",
       "        text-align: right;\n",
       "    }\n",
       "</style>\n",
       "<table border=\"1\" class=\"dataframe\">\n",
       "  <thead>\n",
       "    <tr style=\"text-align: right;\">\n",
       "      <th></th>\n",
       "      <th>predicted</th>\n",
       "      <th>true</th>\n",
       "    </tr>\n",
       "  </thead>\n",
       "  <tbody>\n",
       "    <tr>\n",
       "      <th>0</th>\n",
       "      <td>V V S E P T T V K _ _ _ _ _ _ _ _ _ _ _ _ _ _ _ _ _ _ _ _ _</td>\n",
       "      <td>V V H L S K L P K _ _ _ _ _ _ _ _ _ _ _ _ _ _ _ _ _ _ _ _ _</td>\n",
       "    </tr>\n",
       "    <tr>\n",
       "      <th>1</th>\n",
       "      <td>T K N A T Q A I D E A I S S T L T R _ _ _ _ _ _ _ _ _ _ _ _</td>\n",
       "      <td>Y L N R V S P S S V A T Y R A M N D _ _ _ _ _ _ _ _ _ _ _ _</td>\n",
       "    </tr>\n",
       "    <tr>\n",
       "      <th>2</th>\n",
       "      <td>I T A V L Q H V N S N Y E L D L F R _ _ _ _ _ _ _ _ _ _ _ _</td>\n",
       "      <td>E N E I C V I L H S G Q I S G D V L V Y R _ _ _ _ _ _ _ _ _</td>\n",
       "    </tr>\n",
       "    <tr>\n",
       "      <th>3</th>\n",
       "      <td>E L V Q L I L S R _ _ _ _ _ _ _ _ _ _ _ _ _ _ _ _ _ _ _ _ _</td>\n",
       "      <td>E Y S G S S L L N L F A P Q L L S R _ _ _ _ _ _ _ _ _ _ _ _</td>\n",
       "    </tr>\n",
       "    <tr>\n",
       "      <th>4</th>\n",
       "      <td>R A T T L E G D K _ _ _ _ _ _ _ _ _ _ _ _ _ _ _ _ _ _ _ _ _</td>\n",
       "      <td>A S A L A A C L F Q A L G I T Q P S H E K _ _ _ _ _ _ _ _ _</td>\n",
       "    </tr>\n",
       "  </tbody>\n",
       "</table>\n",
       "</div>"
      ],
      "text/plain": [
       "                                                     predicted  \\\n",
       "0  V V S E P T T V K _ _ _ _ _ _ _ _ _ _ _ _ _ _ _ _ _ _ _ _ _   \n",
       "1  T K N A T Q A I D E A I S S T L T R _ _ _ _ _ _ _ _ _ _ _ _   \n",
       "2  I T A V L Q H V N S N Y E L D L F R _ _ _ _ _ _ _ _ _ _ _ _   \n",
       "3  E L V Q L I L S R _ _ _ _ _ _ _ _ _ _ _ _ _ _ _ _ _ _ _ _ _   \n",
       "4  R A T T L E G D K _ _ _ _ _ _ _ _ _ _ _ _ _ _ _ _ _ _ _ _ _   \n",
       "\n",
       "                                                          true  \n",
       "0  V V H L S K L P K _ _ _ _ _ _ _ _ _ _ _ _ _ _ _ _ _ _ _ _ _  \n",
       "1  Y L N R V S P S S V A T Y R A M N D _ _ _ _ _ _ _ _ _ _ _ _  \n",
       "2  E N E I C V I L H S G Q I S G D V L V Y R _ _ _ _ _ _ _ _ _  \n",
       "3  E Y S G S S L L N L F A P Q L L S R _ _ _ _ _ _ _ _ _ _ _ _  \n",
       "4  A S A L A A C L F Q A L G I T Q P S H E K _ _ _ _ _ _ _ _ _  "
      ]
     },
     "metadata": {},
     "output_type": "display_data"
    },
    {
     "name": "stderr",
     "output_type": "stream",
     "text": [
      "2021-10-27 18:03:15,116 - mmproteo_attention_model: epoch 32:\n",
      "2021-10-27 18:03:15,119 - mmproteo_attention_model: DEBUG: {'name': 'Adam', 'learning_rate': 0.0005524272, 'decay': 0.0, 'beta_1': 0.9, 'beta_2': 0.98, 'epsilon': 1e-09, 'amsgrad': False}\n"
     ]
    },
    {
     "name": "stdout",
     "output_type": "stream",
     "text": [
      "Epoch 32/32\n",
      "200/200 [==============================] - 408s 2s/step - loss: 0.0648 - sparse_categorical_accuracy: 0.9741 - jaccard_batch_distance: 0.9627 - leuvenshtein_batch_distance: 0.7777 - val_loss: 0.3155 - val_sparse_categorical_accuracy: 0.9109 - val_jaccard_batch_distance: 0.9068 - val_leuvenshtein_batch_distance: 2.6215\n"
     ]
    },
    {
     "name": "stderr",
     "output_type": "stream",
     "text": [
      "2021-10-27 18:10:05,808 - mmproteo_attention_model: DEBUG: {'loss': [0.06476961821317673], 'sparse_categorical_accuracy': [0.9740660786628723], 'jaccard_batch_distance': [0.9626938700675964], 'leuvenshtein_batch_distance': [0.7776952981948853], 'val_loss': [0.3155214488506317], 'val_sparse_categorical_accuracy': [0.9109293818473816], 'val_jaccard_batch_distance': [0.9067798852920532], 'val_leuvenshtein_batch_distance': [2.6214842796325684]}\n"
     ]
    },
    {
     "name": "stdout",
     "output_type": "stream",
     "text": [
      "Train:\n"
     ]
    },
    {
     "data": {
      "text/html": [
       "<div>\n",
       "<style scoped>\n",
       "    .dataframe tbody tr th:only-of-type {\n",
       "        vertical-align: middle;\n",
       "    }\n",
       "\n",
       "    .dataframe tbody tr th {\n",
       "        vertical-align: top;\n",
       "    }\n",
       "\n",
       "    .dataframe thead th {\n",
       "        text-align: right;\n",
       "    }\n",
       "</style>\n",
       "<table border=\"1\" class=\"dataframe\">\n",
       "  <thead>\n",
       "    <tr style=\"text-align: right;\">\n",
       "      <th></th>\n",
       "      <th>predicted</th>\n",
       "      <th>true</th>\n",
       "    </tr>\n",
       "  </thead>\n",
       "  <tbody>\n",
       "    <tr>\n",
       "      <th>0</th>\n",
       "      <td>E I T V L K E E L R E E K _ _ _ _ _ _ _ _ _ _ _ _ _ _ _ _ _</td>\n",
       "      <td>L S V P C S D T K _ _ _ _ _ _ _ _ _ _ _ _ _ _ _ _ _ _ _ _ _</td>\n",
       "    </tr>\n",
       "    <tr>\n",
       "      <th>1</th>\n",
       "      <td>F Y V D H S G R V L M A S E V G V V D I P P E D V C R _ _ _</td>\n",
       "      <td>V S L E L Q S E R _ _ _ _ _ _ _ _ _ _ _ _ _ _ _ _ _ _ _ _ _</td>\n",
       "    </tr>\n",
       "    <tr>\n",
       "      <th>2</th>\n",
       "      <td>L I V I Y A D F K _ _ _ _ _ _ _ _ _ _ _ _ _ _ _ _ _ _ _ _ _</td>\n",
       "      <td>I C D F H V K G S W I D R _ _ _ _ _ _ _ _ _ _ _ _ _ _ _ _ _</td>\n",
       "    </tr>\n",
       "    <tr>\n",
       "      <th>3</th>\n",
       "      <td>L T Y K L R E A R _ _ _ _ _ _ _ _ _ _ _ _ _ _ _ _ _ _ _ _ _</td>\n",
       "      <td>M G G K E D S F D G L A G M G D L I V T A T S K E S R _ _ _</td>\n",
       "    </tr>\n",
       "    <tr>\n",
       "      <th>4</th>\n",
       "      <td>F V A M N Q T V N L M G P S N L S R V F G P N L F W K _ _ _</td>\n",
       "      <td>C I E E L Q G I S P P I I S L L N Q Q K P K L K G N K _ _ _</td>\n",
       "    </tr>\n",
       "  </tbody>\n",
       "</table>\n",
       "</div>"
      ],
      "text/plain": [
       "                                                     predicted  \\\n",
       "0  E I T V L K E E L R E E K _ _ _ _ _ _ _ _ _ _ _ _ _ _ _ _ _   \n",
       "1  F Y V D H S G R V L M A S E V G V V D I P P E D V C R _ _ _   \n",
       "2  L I V I Y A D F K _ _ _ _ _ _ _ _ _ _ _ _ _ _ _ _ _ _ _ _ _   \n",
       "3  L T Y K L R E A R _ _ _ _ _ _ _ _ _ _ _ _ _ _ _ _ _ _ _ _ _   \n",
       "4  F V A M N Q T V N L M G P S N L S R V F G P N L F W K _ _ _   \n",
       "\n",
       "                                                          true  \n",
       "0  L S V P C S D T K _ _ _ _ _ _ _ _ _ _ _ _ _ _ _ _ _ _ _ _ _  \n",
       "1  V S L E L Q S E R _ _ _ _ _ _ _ _ _ _ _ _ _ _ _ _ _ _ _ _ _  \n",
       "2  I C D F H V K G S W I D R _ _ _ _ _ _ _ _ _ _ _ _ _ _ _ _ _  \n",
       "3  M G G K E D S F D G L A G M G D L I V T A T S K E S R _ _ _  \n",
       "4  C I E E L Q G I S P P I I S L L N Q Q K P K L K G N K _ _ _  "
      ]
     },
     "metadata": {},
     "output_type": "display_data"
    },
    {
     "name": "stdout",
     "output_type": "stream",
     "text": [
      "Eval:\n"
     ]
    },
    {
     "data": {
      "text/html": [
       "<div>\n",
       "<style scoped>\n",
       "    .dataframe tbody tr th:only-of-type {\n",
       "        vertical-align: middle;\n",
       "    }\n",
       "\n",
       "    .dataframe tbody tr th {\n",
       "        vertical-align: top;\n",
       "    }\n",
       "\n",
       "    .dataframe thead th {\n",
       "        text-align: right;\n",
       "    }\n",
       "</style>\n",
       "<table border=\"1\" class=\"dataframe\">\n",
       "  <thead>\n",
       "    <tr style=\"text-align: right;\">\n",
       "      <th></th>\n",
       "      <th>predicted</th>\n",
       "      <th>true</th>\n",
       "    </tr>\n",
       "  </thead>\n",
       "  <tbody>\n",
       "    <tr>\n",
       "      <th>0</th>\n",
       "      <td>L A P E A Q V E L R Q Y A R A I A E L V K _ _ _ _ _ _ _ _ _</td>\n",
       "      <td>I S G G E R S G K _ _ _ _ _ _ _ _ _ _ _ _ _ _ _ _ _ _ _ _ _</td>\n",
       "    </tr>\n",
       "    <tr>\n",
       "      <th>1</th>\n",
       "      <td>D I D Q E E R F K _ _ _ _ _ _ _ _ _ _ _ _ _ _ _ _ _ _ _ _ _</td>\n",
       "      <td>F F E S F Y T F C T C I A W I V F R _ _ _ _ _ _ _ _ _ _ _ _</td>\n",
       "    </tr>\n",
       "    <tr>\n",
       "      <th>2</th>\n",
       "      <td>E R E V A E E E G V A V T E Q E L Q G L K _ _ _ _ _ _ _ _ _</td>\n",
       "      <td>G R L M S L G G R _ _ _ _ _ _ _ _ _ _ _ _ _ _ _ _ _ _ _ _ _</td>\n",
       "    </tr>\n",
       "    <tr>\n",
       "      <th>3</th>\n",
       "      <td>G A S L G P Q E A R T F L K N M G L D V R _ _ _ _ _ _ _ _ _</td>\n",
       "      <td>M A P L S D F E K _ _ _ _ _ _ _ _ _ _ _ _ _ _ _ _ _ _ _ _ _</td>\n",
       "    </tr>\n",
       "    <tr>\n",
       "      <th>4</th>\n",
       "      <td>S T V Q V K V A E Y L G P E W V E K _ _ _ _ _ _ _ _ _ _ _ _</td>\n",
       "      <td>G K V L I L K L L A I G P L S E Q T G Q R _ _ _ _ _ _ _ _ _</td>\n",
       "    </tr>\n",
       "  </tbody>\n",
       "</table>\n",
       "</div>"
      ],
      "text/plain": [
       "                                                     predicted  \\\n",
       "0  L A P E A Q V E L R Q Y A R A I A E L V K _ _ _ _ _ _ _ _ _   \n",
       "1  D I D Q E E R F K _ _ _ _ _ _ _ _ _ _ _ _ _ _ _ _ _ _ _ _ _   \n",
       "2  E R E V A E E E G V A V T E Q E L Q G L K _ _ _ _ _ _ _ _ _   \n",
       "3  G A S L G P Q E A R T F L K N M G L D V R _ _ _ _ _ _ _ _ _   \n",
       "4  S T V Q V K V A E Y L G P E W V E K _ _ _ _ _ _ _ _ _ _ _ _   \n",
       "\n",
       "                                                          true  \n",
       "0  I S G G E R S G K _ _ _ _ _ _ _ _ _ _ _ _ _ _ _ _ _ _ _ _ _  \n",
       "1  F F E S F Y T F C T C I A W I V F R _ _ _ _ _ _ _ _ _ _ _ _  \n",
       "2  G R L M S L G G R _ _ _ _ _ _ _ _ _ _ _ _ _ _ _ _ _ _ _ _ _  \n",
       "3  M A P L S D F E K _ _ _ _ _ _ _ _ _ _ _ _ _ _ _ _ _ _ _ _ _  \n",
       "4  G K V L I L K L L A I G P L S E Q T G Q R _ _ _ _ _ _ _ _ _  "
      ]
     },
     "metadata": {},
     "output_type": "display_data"
    },
    {
     "name": "stderr",
     "output_type": "stream",
     "text": [
      "2021-10-27 18:10:08,915 - mmproteo_attention_model: epoch 33:\n",
      "2021-10-27 18:10:08,917 - mmproteo_attention_model: DEBUG: {'name': 'Adam', 'learning_rate': 0.0005439927, 'decay': 0.0, 'beta_1': 0.9, 'beta_2': 0.98, 'epsilon': 1e-09, 'amsgrad': False}\n"
     ]
    },
    {
     "name": "stdout",
     "output_type": "stream",
     "text": [
      "Epoch 33/33\n",
      "200/200 [==============================] - 408s 2s/step - loss: 0.0613 - sparse_categorical_accuracy: 0.9754 - jaccard_batch_distance: 0.9650 - leuvenshtein_batch_distance: 0.7372 - val_loss: 0.4681 - val_sparse_categorical_accuracy: 0.8833 - val_jaccard_batch_distance: 0.8840 - val_leuvenshtein_batch_distance: 3.4269\n"
     ]
    },
    {
     "name": "stderr",
     "output_type": "stream",
     "text": [
      "2021-10-27 18:16:59,293 - mmproteo_attention_model: DEBUG: {'loss': [0.06126737222075462], 'sparse_categorical_accuracy': [0.9754173159599304], 'jaccard_batch_distance': [0.9650203585624695], 'leuvenshtein_batch_distance': [0.7372070550918579], 'val_loss': [0.468127965927124], 'val_sparse_categorical_accuracy': [0.8833301067352295], 'val_jaccard_batch_distance': [0.8839552998542786], 'val_leuvenshtein_batch_distance': [3.4269042015075684]}\n"
     ]
    },
    {
     "name": "stdout",
     "output_type": "stream",
     "text": [
      "Train:\n"
     ]
    },
    {
     "data": {
      "text/html": [
       "<div>\n",
       "<style scoped>\n",
       "    .dataframe tbody tr th:only-of-type {\n",
       "        vertical-align: middle;\n",
       "    }\n",
       "\n",
       "    .dataframe tbody tr th {\n",
       "        vertical-align: top;\n",
       "    }\n",
       "\n",
       "    .dataframe thead th {\n",
       "        text-align: right;\n",
       "    }\n",
       "</style>\n",
       "<table border=\"1\" class=\"dataframe\">\n",
       "  <thead>\n",
       "    <tr style=\"text-align: right;\">\n",
       "      <th></th>\n",
       "      <th>predicted</th>\n",
       "      <th>true</th>\n",
       "    </tr>\n",
       "  </thead>\n",
       "  <tbody>\n",
       "    <tr>\n",
       "      <th>0</th>\n",
       "      <td>K I Q Q A A N L R _ _ _ _ _ _ _ _ _ _ _ _ _ _ _ _ _ _ _ _ _</td>\n",
       "      <td>I L F G Y T P V R _ _ _ _ _ _ _ _ _ _ _ _ _ _ _ _ _ _ _ _ _</td>\n",
       "    </tr>\n",
       "    <tr>\n",
       "      <th>1</th>\n",
       "      <td>T K G F D C A L R _ _ _ _ _ _ _ _ _ _ _ _ _ _ _ _ _ _ _ _ _</td>\n",
       "      <td>K P L S V A D I L N A R G D W F T P N T R L N N E A Q _ _ _</td>\n",
       "    </tr>\n",
       "    <tr>\n",
       "      <th>2</th>\n",
       "      <td>I V E D F S E V V T G S M R F S C L N S E K _ _ _ _ _ _ _ _</td>\n",
       "      <td>K Y E N L A V I R T F S K _ _ _ _ _ _ _ _ _ _ _ _ _ _ _ _ _</td>\n",
       "    </tr>\n",
       "    <tr>\n",
       "      <th>3</th>\n",
       "      <td>K P S Q G P D Q R _ _ _ _ _ _ _ _ _ _ _ _ _ _ _ _ _ _ _ _ _</td>\n",
       "      <td>E A A G L H H L N E V G K K V D L T S I L N _ _ _ _ _ _ _ _</td>\n",
       "    </tr>\n",
       "    <tr>\n",
       "      <th>4</th>\n",
       "      <td>D G I L Y L S G K E V C K _ _ _ _ _ _ _ _ _ _ _ _ _ _ _ _ _</td>\n",
       "      <td>R H I D I H R G K _ _ _ _ _ _ _ _ _ _ _ _ _ _ _ _ _ _ _ _ _</td>\n",
       "    </tr>\n",
       "  </tbody>\n",
       "</table>\n",
       "</div>"
      ],
      "text/plain": [
       "                                                     predicted  \\\n",
       "0  K I Q Q A A N L R _ _ _ _ _ _ _ _ _ _ _ _ _ _ _ _ _ _ _ _ _   \n",
       "1  T K G F D C A L R _ _ _ _ _ _ _ _ _ _ _ _ _ _ _ _ _ _ _ _ _   \n",
       "2  I V E D F S E V V T G S M R F S C L N S E K _ _ _ _ _ _ _ _   \n",
       "3  K P S Q G P D Q R _ _ _ _ _ _ _ _ _ _ _ _ _ _ _ _ _ _ _ _ _   \n",
       "4  D G I L Y L S G K E V C K _ _ _ _ _ _ _ _ _ _ _ _ _ _ _ _ _   \n",
       "\n",
       "                                                          true  \n",
       "0  I L F G Y T P V R _ _ _ _ _ _ _ _ _ _ _ _ _ _ _ _ _ _ _ _ _  \n",
       "1  K P L S V A D I L N A R G D W F T P N T R L N N E A Q _ _ _  \n",
       "2  K Y E N L A V I R T F S K _ _ _ _ _ _ _ _ _ _ _ _ _ _ _ _ _  \n",
       "3  E A A G L H H L N E V G K K V D L T S I L N _ _ _ _ _ _ _ _  \n",
       "4  R H I D I H R G K _ _ _ _ _ _ _ _ _ _ _ _ _ _ _ _ _ _ _ _ _  "
      ]
     },
     "metadata": {},
     "output_type": "display_data"
    },
    {
     "name": "stdout",
     "output_type": "stream",
     "text": [
      "Eval:\n"
     ]
    },
    {
     "data": {
      "text/html": [
       "<div>\n",
       "<style scoped>\n",
       "    .dataframe tbody tr th:only-of-type {\n",
       "        vertical-align: middle;\n",
       "    }\n",
       "\n",
       "    .dataframe tbody tr th {\n",
       "        vertical-align: top;\n",
       "    }\n",
       "\n",
       "    .dataframe thead th {\n",
       "        text-align: right;\n",
       "    }\n",
       "</style>\n",
       "<table border=\"1\" class=\"dataframe\">\n",
       "  <thead>\n",
       "    <tr style=\"text-align: right;\">\n",
       "      <th></th>\n",
       "      <th>predicted</th>\n",
       "      <th>true</th>\n",
       "    </tr>\n",
       "  </thead>\n",
       "  <tbody>\n",
       "    <tr>\n",
       "      <th>0</th>\n",
       "      <td>V P R G N C N C S T S S L C F C H F C _ _ _ _ _ _ _ _ _ _ _</td>\n",
       "      <td>V V S S E A E V R S F F E R F L G K _ _ _ _ _ _ _ _ _ _ _ _</td>\n",
       "    </tr>\n",
       "    <tr>\n",
       "      <th>1</th>\n",
       "      <td>V T G I L F E N K _ _ _ _ _ _ _ _ _ _ _ _ _ _ _ _ _ _ _ _ _</td>\n",
       "      <td>S K A W A E C Y S _ _ _ _ _ _ _ _ _ _ _ _ _ _ _ _ _ _ _ _ _</td>\n",
       "    </tr>\n",
       "    <tr>\n",
       "      <th>2</th>\n",
       "      <td>V V I D G T G H D A A V C R V V V _ _ _ _ _ _ _ _ _ _ _ _ _</td>\n",
       "      <td>T R L A V S L A Y R L G T E I I S A D S R _ _ _ _ _ _ _ _ _</td>\n",
       "    </tr>\n",
       "    <tr>\n",
       "      <th>3</th>\n",
       "      <td>F D C T K H P S K A A Q P R R S P S _ _ _ _ _ _ _ _ _ _ _ _</td>\n",
       "      <td>A H L D C D V S L G T V A D E S Q R _ _ _ _ _ _ _ _ _ _ _ _</td>\n",
       "    </tr>\n",
       "    <tr>\n",
       "      <th>4</th>\n",
       "      <td>N C W C V D E A G Q E L E G M R S E P S K _ _ _ _ _ _ _ _ _</td>\n",
       "      <td>A S D R P T L I A C R T T I G F G S P K K _ _ _ _ _ _ _ _ _</td>\n",
       "    </tr>\n",
       "  </tbody>\n",
       "</table>\n",
       "</div>"
      ],
      "text/plain": [
       "                                                     predicted  \\\n",
       "0  V P R G N C N C S T S S L C F C H F C _ _ _ _ _ _ _ _ _ _ _   \n",
       "1  V T G I L F E N K _ _ _ _ _ _ _ _ _ _ _ _ _ _ _ _ _ _ _ _ _   \n",
       "2  V V I D G T G H D A A V C R V V V _ _ _ _ _ _ _ _ _ _ _ _ _   \n",
       "3  F D C T K H P S K A A Q P R R S P S _ _ _ _ _ _ _ _ _ _ _ _   \n",
       "4  N C W C V D E A G Q E L E G M R S E P S K _ _ _ _ _ _ _ _ _   \n",
       "\n",
       "                                                          true  \n",
       "0  V V S S E A E V R S F F E R F L G K _ _ _ _ _ _ _ _ _ _ _ _  \n",
       "1  S K A W A E C Y S _ _ _ _ _ _ _ _ _ _ _ _ _ _ _ _ _ _ _ _ _  \n",
       "2  T R L A V S L A Y R L G T E I I S A D S R _ _ _ _ _ _ _ _ _  \n",
       "3  A H L D C D V S L G T V A D E S Q R _ _ _ _ _ _ _ _ _ _ _ _  \n",
       "4  A S D R P T L I A C R T T I G F G S P K K _ _ _ _ _ _ _ _ _  "
      ]
     },
     "metadata": {},
     "output_type": "display_data"
    },
    {
     "name": "stderr",
     "output_type": "stream",
     "text": [
      "2021-10-27 18:17:02,195 - mmproteo_attention_model: epoch 34:\n",
      "2021-10-27 18:17:02,197 - mmproteo_attention_model: DEBUG: {'name': 'Adam', 'learning_rate': 0.00053593307, 'decay': 0.0, 'beta_1': 0.9, 'beta_2': 0.98, 'epsilon': 1e-09, 'amsgrad': False}\n"
     ]
    },
    {
     "name": "stdout",
     "output_type": "stream",
     "text": [
      "Epoch 34/34\n",
      "200/200 [==============================] - 408s 2s/step - loss: 0.0582 - sparse_categorical_accuracy: 0.9767 - jaccard_batch_distance: 0.9669 - leuvenshtein_batch_distance: 0.6988 - val_loss: 0.3950 - val_sparse_categorical_accuracy: 0.8975 - val_jaccard_batch_distance: 0.8978 - val_leuvenshtein_batch_distance: 2.9940\n"
     ]
    },
    {
     "name": "stderr",
     "output_type": "stream",
     "text": [
      "2021-10-27 18:23:52,662 - mmproteo_attention_model: DEBUG: {'loss': [0.05818108469247818], 'sparse_categorical_accuracy': [0.9766969680786133], 'jaccard_batch_distance': [0.9668564796447754], 'leuvenshtein_batch_distance': [0.698779284954071], 'val_loss': [0.3949509561061859], 'val_sparse_categorical_accuracy': [0.8974804878234863], 'val_jaccard_batch_distance': [0.8977693319320679], 'val_leuvenshtein_batch_distance': [2.9940428733825684]}\n"
     ]
    },
    {
     "name": "stdout",
     "output_type": "stream",
     "text": [
      "Train:\n"
     ]
    },
    {
     "data": {
      "text/html": [
       "<div>\n",
       "<style scoped>\n",
       "    .dataframe tbody tr th:only-of-type {\n",
       "        vertical-align: middle;\n",
       "    }\n",
       "\n",
       "    .dataframe tbody tr th {\n",
       "        vertical-align: top;\n",
       "    }\n",
       "\n",
       "    .dataframe thead th {\n",
       "        text-align: right;\n",
       "    }\n",
       "</style>\n",
       "<table border=\"1\" class=\"dataframe\">\n",
       "  <thead>\n",
       "    <tr style=\"text-align: right;\">\n",
       "      <th></th>\n",
       "      <th>predicted</th>\n",
       "      <th>true</th>\n",
       "    </tr>\n",
       "  </thead>\n",
       "  <tbody>\n",
       "    <tr>\n",
       "      <th>0</th>\n",
       "      <td>T Q A S A E A C K _ _ _ _ _ _ _ _ _ _ _ _ _ _ _ _ _ _ _ _ _</td>\n",
       "      <td>H K V H P D T Q K _ _ _ _ _ _ _ _ _ _ _ _ _ _ _ _ _ _ _ _ _</td>\n",
       "    </tr>\n",
       "    <tr>\n",
       "      <th>1</th>\n",
       "      <td>V D P S T P G T D V A A E T A A A L A A A S L V F R K _ _ _</td>\n",
       "      <td>E E G F E V Q D W R A L E I P D N L A V A R _ _ _ _ _ _ _ _</td>\n",
       "    </tr>\n",
       "    <tr>\n",
       "      <th>2</th>\n",
       "      <td>A G D L L V G I S T S G N S A N V I E A I K A A H E R _ _ _</td>\n",
       "      <td>A S N Q Y L A M G I V E Q S S A D F P F F R _ _ _ _ _ _ _ _</td>\n",
       "    </tr>\n",
       "    <tr>\n",
       "      <th>3</th>\n",
       "      <td>A I T T V A A L V I A T S A M A Q D D L T I S S L A K _ _ _</td>\n",
       "      <td>E T L Q S D A A S L A T R _ _ _ _ _ _ _ _ _ _ _ _ _ _ _ _ _</td>\n",
       "    </tr>\n",
       "    <tr>\n",
       "      <th>4</th>\n",
       "      <td>L I L M C M H S A L I G G E T Q T H F L E L A H D I K _ _ _</td>\n",
       "      <td>Q Y F L D M G F V C P D R _ _ _ _ _ _ _ _ _ _ _ _ _ _ _ _ _</td>\n",
       "    </tr>\n",
       "  </tbody>\n",
       "</table>\n",
       "</div>"
      ],
      "text/plain": [
       "                                                     predicted  \\\n",
       "0  T Q A S A E A C K _ _ _ _ _ _ _ _ _ _ _ _ _ _ _ _ _ _ _ _ _   \n",
       "1  V D P S T P G T D V A A E T A A A L A A A S L V F R K _ _ _   \n",
       "2  A G D L L V G I S T S G N S A N V I E A I K A A H E R _ _ _   \n",
       "3  A I T T V A A L V I A T S A M A Q D D L T I S S L A K _ _ _   \n",
       "4  L I L M C M H S A L I G G E T Q T H F L E L A H D I K _ _ _   \n",
       "\n",
       "                                                          true  \n",
       "0  H K V H P D T Q K _ _ _ _ _ _ _ _ _ _ _ _ _ _ _ _ _ _ _ _ _  \n",
       "1  E E G F E V Q D W R A L E I P D N L A V A R _ _ _ _ _ _ _ _  \n",
       "2  A S N Q Y L A M G I V E Q S S A D F P F F R _ _ _ _ _ _ _ _  \n",
       "3  E T L Q S D A A S L A T R _ _ _ _ _ _ _ _ _ _ _ _ _ _ _ _ _  \n",
       "4  Q Y F L D M G F V C P D R _ _ _ _ _ _ _ _ _ _ _ _ _ _ _ _ _  "
      ]
     },
     "metadata": {},
     "output_type": "display_data"
    },
    {
     "name": "stdout",
     "output_type": "stream",
     "text": [
      "Eval:\n"
     ]
    },
    {
     "data": {
      "text/html": [
       "<div>\n",
       "<style scoped>\n",
       "    .dataframe tbody tr th:only-of-type {\n",
       "        vertical-align: middle;\n",
       "    }\n",
       "\n",
       "    .dataframe tbody tr th {\n",
       "        vertical-align: top;\n",
       "    }\n",
       "\n",
       "    .dataframe thead th {\n",
       "        text-align: right;\n",
       "    }\n",
       "</style>\n",
       "<table border=\"1\" class=\"dataframe\">\n",
       "  <thead>\n",
       "    <tr style=\"text-align: right;\">\n",
       "      <th></th>\n",
       "      <th>predicted</th>\n",
       "      <th>true</th>\n",
       "    </tr>\n",
       "  </thead>\n",
       "  <tbody>\n",
       "    <tr>\n",
       "      <th>0</th>\n",
       "      <td>Y F T D V K K F L D E I S S T E T K _ _ _ _ _ _ _ _ _ _ _ _</td>\n",
       "      <td>Y K C V N L S I K _ _ _ _ _ _ _ _ _ _ _ _ _ _ _ _ _ _ _ _ _</td>\n",
       "    </tr>\n",
       "    <tr>\n",
       "      <th>1</th>\n",
       "      <td>D K D S S T Y P S D L Q P V I G I K _ _ _ _ _ _ _ _ _ _ _ _</td>\n",
       "      <td>Q A M T A T A L A E K L G C D E E L L V R _ _ _ _ _ _ _ _ _</td>\n",
       "    </tr>\n",
       "    <tr>\n",
       "      <th>2</th>\n",
       "      <td>E V T G L P A E R V I G S G T V L D S A R _ _ _ _ _ _ _ _ _</td>\n",
       "      <td>N I K Y N E E A R _ _ _ _ _ _ _ _ _ _ _ _ _ _ _ _ _ _ _ _ _</td>\n",
       "    </tr>\n",
       "    <tr>\n",
       "      <th>3</th>\n",
       "      <td>T P K L L D S K C S E Q S G H W Q K _ _ _ _ _ _ _ _ _ _ _ _</td>\n",
       "      <td>E W C A S S G G G A Q Q P V F P G R _ _ _ _ _ _ _ _ _ _ _ _</td>\n",
       "    </tr>\n",
       "    <tr>\n",
       "      <th>4</th>\n",
       "      <td>N L Q Q Y P E A T M V P G V L T L R _ _ _ _ _ _ _ _ _ _ _ _</td>\n",
       "      <td>S T A S E R E A V D I I D I I R P R _ _ _ _ _ _ _ _ _ _ _ _</td>\n",
       "    </tr>\n",
       "  </tbody>\n",
       "</table>\n",
       "</div>"
      ],
      "text/plain": [
       "                                                     predicted  \\\n",
       "0  Y F T D V K K F L D E I S S T E T K _ _ _ _ _ _ _ _ _ _ _ _   \n",
       "1  D K D S S T Y P S D L Q P V I G I K _ _ _ _ _ _ _ _ _ _ _ _   \n",
       "2  E V T G L P A E R V I G S G T V L D S A R _ _ _ _ _ _ _ _ _   \n",
       "3  T P K L L D S K C S E Q S G H W Q K _ _ _ _ _ _ _ _ _ _ _ _   \n",
       "4  N L Q Q Y P E A T M V P G V L T L R _ _ _ _ _ _ _ _ _ _ _ _   \n",
       "\n",
       "                                                          true  \n",
       "0  Y K C V N L S I K _ _ _ _ _ _ _ _ _ _ _ _ _ _ _ _ _ _ _ _ _  \n",
       "1  Q A M T A T A L A E K L G C D E E L L V R _ _ _ _ _ _ _ _ _  \n",
       "2  N I K Y N E E A R _ _ _ _ _ _ _ _ _ _ _ _ _ _ _ _ _ _ _ _ _  \n",
       "3  E W C A S S G G G A Q Q P V F P G R _ _ _ _ _ _ _ _ _ _ _ _  \n",
       "4  S T A S E R E A V D I I D I I R P R _ _ _ _ _ _ _ _ _ _ _ _  "
      ]
     },
     "metadata": {},
     "output_type": "display_data"
    },
    {
     "name": "stderr",
     "output_type": "stream",
     "text": [
      "2021-10-27 18:23:55,582 - mmproteo_attention_model: epoch 35:\n",
      "2021-10-27 18:23:55,584 - mmproteo_attention_model: DEBUG: {'name': 'Adam', 'learning_rate': 0.0005282214, 'decay': 0.0, 'beta_1': 0.9, 'beta_2': 0.98, 'epsilon': 1e-09, 'amsgrad': False}\n"
     ]
    },
    {
     "name": "stdout",
     "output_type": "stream",
     "text": [
      "Epoch 35/35\n",
      "200/200 [==============================] - 408s 2s/step - loss: 0.0539 - sparse_categorical_accuracy: 0.9785 - jaccard_batch_distance: 0.9689 - leuvenshtein_batch_distance: 0.6451 - val_loss: 0.4108 - val_sparse_categorical_accuracy: 0.8964 - val_jaccard_batch_distance: 0.8938 - val_leuvenshtein_batch_distance: 3.0390\n"
     ]
    },
    {
     "name": "stderr",
     "output_type": "stream",
     "text": [
      "2021-10-27 18:30:46,121 - mmproteo_attention_model: DEBUG: {'loss': [0.053864046931266785], 'sparse_categorical_accuracy': [0.9784889221191406], 'jaccard_batch_distance': [0.9689256548881531], 'leuvenshtein_batch_distance': [0.6451464891433716], 'val_loss': [0.4107789993286133], 'val_sparse_categorical_accuracy': [0.8963948488235474], 'val_jaccard_batch_distance': [0.8937878608703613], 'val_leuvenshtein_batch_distance': [3.0389647483825684]}\n"
     ]
    },
    {
     "name": "stdout",
     "output_type": "stream",
     "text": [
      "Train:\n"
     ]
    },
    {
     "data": {
      "text/html": [
       "<div>\n",
       "<style scoped>\n",
       "    .dataframe tbody tr th:only-of-type {\n",
       "        vertical-align: middle;\n",
       "    }\n",
       "\n",
       "    .dataframe tbody tr th {\n",
       "        vertical-align: top;\n",
       "    }\n",
       "\n",
       "    .dataframe thead th {\n",
       "        text-align: right;\n",
       "    }\n",
       "</style>\n",
       "<table border=\"1\" class=\"dataframe\">\n",
       "  <thead>\n",
       "    <tr style=\"text-align: right;\">\n",
       "      <th></th>\n",
       "      <th>predicted</th>\n",
       "      <th>true</th>\n",
       "    </tr>\n",
       "  </thead>\n",
       "  <tbody>\n",
       "    <tr>\n",
       "      <th>0</th>\n",
       "      <td>L A T C T P P A S E G S A E S M G P D S R P D P D G R _ _ _</td>\n",
       "      <td>Y L S Q Q L E K K _ _ _ _ _ _ _ _ _ _ _ _ _ _ _ _ _ _ _ _ _</td>\n",
       "    </tr>\n",
       "    <tr>\n",
       "      <th>1</th>\n",
       "      <td>T A M G E S S Q R _ _ _ _ _ _ _ _ _ _ _ _ _ _ _ _ _ _ _ _ _</td>\n",
       "      <td>G V T P A A I S R _ _ _ _ _ _ _ _ _ _ _ _ _ _ _ _ _ _ _ _ _</td>\n",
       "    </tr>\n",
       "    <tr>\n",
       "      <th>2</th>\n",
       "      <td>F V V N G S H D V N K L Q D L L D G F I R K _ _ _ _ _ _ _ _</td>\n",
       "      <td>K P F M L D E E G D T Q T E E T Q P S E T K _ _ _ _ _ _ _ _</td>\n",
       "    </tr>\n",
       "    <tr>\n",
       "      <th>3</th>\n",
       "      <td>G V P C S C R G K _ _ _ _ _ _ _ _ _ _ _ _ _ _ _ _ _ _ _ _ _</td>\n",
       "      <td>L R S E L A D E R _ _ _ _ _ _ _ _ _ _ _ _ _ _ _ _ _ _ _ _ _</td>\n",
       "    </tr>\n",
       "    <tr>\n",
       "      <th>4</th>\n",
       "      <td>V E Y K C E G F L E K N R _ _ _ _ _ _ _ _ _ _ _ _ _ _ _ _ _</td>\n",
       "      <td>N F A D I D R M I E I K I S Y D T D P A A A L E N T R _ _ _</td>\n",
       "    </tr>\n",
       "  </tbody>\n",
       "</table>\n",
       "</div>"
      ],
      "text/plain": [
       "                                                     predicted  \\\n",
       "0  L A T C T P P A S E G S A E S M G P D S R P D P D G R _ _ _   \n",
       "1  T A M G E S S Q R _ _ _ _ _ _ _ _ _ _ _ _ _ _ _ _ _ _ _ _ _   \n",
       "2  F V V N G S H D V N K L Q D L L D G F I R K _ _ _ _ _ _ _ _   \n",
       "3  G V P C S C R G K _ _ _ _ _ _ _ _ _ _ _ _ _ _ _ _ _ _ _ _ _   \n",
       "4  V E Y K C E G F L E K N R _ _ _ _ _ _ _ _ _ _ _ _ _ _ _ _ _   \n",
       "\n",
       "                                                          true  \n",
       "0  Y L S Q Q L E K K _ _ _ _ _ _ _ _ _ _ _ _ _ _ _ _ _ _ _ _ _  \n",
       "1  G V T P A A I S R _ _ _ _ _ _ _ _ _ _ _ _ _ _ _ _ _ _ _ _ _  \n",
       "2  K P F M L D E E G D T Q T E E T Q P S E T K _ _ _ _ _ _ _ _  \n",
       "3  L R S E L A D E R _ _ _ _ _ _ _ _ _ _ _ _ _ _ _ _ _ _ _ _ _  \n",
       "4  N F A D I D R M I E I K I S Y D T D P A A A L E N T R _ _ _  "
      ]
     },
     "metadata": {},
     "output_type": "display_data"
    },
    {
     "name": "stdout",
     "output_type": "stream",
     "text": [
      "Eval:\n"
     ]
    },
    {
     "data": {
      "text/html": [
       "<div>\n",
       "<style scoped>\n",
       "    .dataframe tbody tr th:only-of-type {\n",
       "        vertical-align: middle;\n",
       "    }\n",
       "\n",
       "    .dataframe tbody tr th {\n",
       "        vertical-align: top;\n",
       "    }\n",
       "\n",
       "    .dataframe thead th {\n",
       "        text-align: right;\n",
       "    }\n",
       "</style>\n",
       "<table border=\"1\" class=\"dataframe\">\n",
       "  <thead>\n",
       "    <tr style=\"text-align: right;\">\n",
       "      <th></th>\n",
       "      <th>predicted</th>\n",
       "      <th>true</th>\n",
       "    </tr>\n",
       "  </thead>\n",
       "  <tbody>\n",
       "    <tr>\n",
       "      <th>0</th>\n",
       "      <td>E P G P A D E H I Q R W R W E Y G S V E K _ _ _ _ _ _ _ _ _</td>\n",
       "      <td>V T Y Q V E N T R V G Q V A N Y D K _ _ _ _ _ _ _ _ _ _ _ _</td>\n",
       "    </tr>\n",
       "    <tr>\n",
       "      <th>1</th>\n",
       "      <td>S Q F L Q V F N N S F S E T A F Y R _ _ _ _ _ _ _ _ _ _ _ _</td>\n",
       "      <td>W H E E I T K N T E E L I K D L G L P Y R _ _ _ _ _ _ _ _ _</td>\n",
       "    </tr>\n",
       "    <tr>\n",
       "      <th>2</th>\n",
       "      <td>S H A V I T V S N T V A C N E C G K _ _ _ _ _ _ _ _ _ _ _ _</td>\n",
       "      <td>R R A V S I S A D S P S V I T T D R _ _ _ _ _ _ _ _ _ _ _ _</td>\n",
       "    </tr>\n",
       "    <tr>\n",
       "      <th>3</th>\n",
       "      <td>L L G G N N S L R G A W P W Q A S L R L R _ _ _ _ _ _ _ _ _</td>\n",
       "      <td>E A N A H L A A V H R R A A E L E R _ _ _ _ _ _ _ _ _ _ _ _</td>\n",
       "    </tr>\n",
       "    <tr>\n",
       "      <th>4</th>\n",
       "      <td>Q F A E E D L N A M T G G V E P N K _ _ _ _ _ _ _ _ _ _ _ _</td>\n",
       "      <td>S I H N G D A I N D I F Q F V G K S V Y K _ _ _ _ _ _ _ _ _</td>\n",
       "    </tr>\n",
       "  </tbody>\n",
       "</table>\n",
       "</div>"
      ],
      "text/plain": [
       "                                                     predicted  \\\n",
       "0  E P G P A D E H I Q R W R W E Y G S V E K _ _ _ _ _ _ _ _ _   \n",
       "1  S Q F L Q V F N N S F S E T A F Y R _ _ _ _ _ _ _ _ _ _ _ _   \n",
       "2  S H A V I T V S N T V A C N E C G K _ _ _ _ _ _ _ _ _ _ _ _   \n",
       "3  L L G G N N S L R G A W P W Q A S L R L R _ _ _ _ _ _ _ _ _   \n",
       "4  Q F A E E D L N A M T G G V E P N K _ _ _ _ _ _ _ _ _ _ _ _   \n",
       "\n",
       "                                                          true  \n",
       "0  V T Y Q V E N T R V G Q V A N Y D K _ _ _ _ _ _ _ _ _ _ _ _  \n",
       "1  W H E E I T K N T E E L I K D L G L P Y R _ _ _ _ _ _ _ _ _  \n",
       "2  R R A V S I S A D S P S V I T T D R _ _ _ _ _ _ _ _ _ _ _ _  \n",
       "3  E A N A H L A A V H R R A A E L E R _ _ _ _ _ _ _ _ _ _ _ _  \n",
       "4  S I H N G D A I N D I F Q F V G K S V Y K _ _ _ _ _ _ _ _ _  "
      ]
     },
     "metadata": {},
     "output_type": "display_data"
    },
    {
     "name": "stderr",
     "output_type": "stream",
     "text": [
      "2021-10-27 18:30:48,907 - mmproteo_attention_model: epoch 36:\n",
      "2021-10-27 18:30:48,909 - mmproteo_attention_model: DEBUG: {'name': 'Adam', 'learning_rate': 0.00052083336, 'decay': 0.0, 'beta_1': 0.9, 'beta_2': 0.98, 'epsilon': 1e-09, 'amsgrad': False}\n"
     ]
    },
    {
     "name": "stdout",
     "output_type": "stream",
     "text": [
      "Epoch 36/36\n",
      "200/200 [==============================] - 407s 2s/step - loss: 0.0508 - sparse_categorical_accuracy: 0.9799 - jaccard_batch_distance: 0.9711 - leuvenshtein_batch_distance: 0.6039 - val_loss: 0.3816 - val_sparse_categorical_accuracy: 0.9007 - val_jaccard_batch_distance: 0.9005 - val_leuvenshtein_batch_distance: 2.8994\n"
     ]
    },
    {
     "name": "stderr",
     "output_type": "stream",
     "text": [
      "2021-10-27 18:37:38,883 - mmproteo_attention_model: DEBUG: {'loss': [0.0508318655192852], 'sparse_categorical_accuracy': [0.9798659086227417], 'jaccard_batch_distance': [0.9710919857025146], 'leuvenshtein_batch_distance': [0.6039159893989563], 'val_loss': [0.38155680894851685], 'val_sparse_categorical_accuracy': [0.9006982445716858], 'val_jaccard_batch_distance': [0.9004570245742798], 'val_leuvenshtein_batch_distance': [2.8994140625]}\n"
     ]
    },
    {
     "name": "stdout",
     "output_type": "stream",
     "text": [
      "Train:\n"
     ]
    },
    {
     "data": {
      "text/html": [
       "<div>\n",
       "<style scoped>\n",
       "    .dataframe tbody tr th:only-of-type {\n",
       "        vertical-align: middle;\n",
       "    }\n",
       "\n",
       "    .dataframe tbody tr th {\n",
       "        vertical-align: top;\n",
       "    }\n",
       "\n",
       "    .dataframe thead th {\n",
       "        text-align: right;\n",
       "    }\n",
       "</style>\n",
       "<table border=\"1\" class=\"dataframe\">\n",
       "  <thead>\n",
       "    <tr style=\"text-align: right;\">\n",
       "      <th></th>\n",
       "      <th>predicted</th>\n",
       "      <th>true</th>\n",
       "    </tr>\n",
       "  </thead>\n",
       "  <tbody>\n",
       "    <tr>\n",
       "      <th>0</th>\n",
       "      <td>S S W G R E E L E I V A I N D L T D A K H L A H L L K _ _ _</td>\n",
       "      <td>D Q P A T R V M I F V H F R D S A E E V T R _ _ _ _ _ _ _ _</td>\n",
       "    </tr>\n",
       "    <tr>\n",
       "      <th>1</th>\n",
       "      <td>D P S G K D S Q K _ _ _ _ _ _ _ _ _ _ _ _ _ _ _ _ _ _ _ _ _</td>\n",
       "      <td>D S K D D K V E K _ _ _ _ _ _ _ _ _ _ _ _ _ _ _ _ _ _ _ _ _</td>\n",
       "    </tr>\n",
       "    <tr>\n",
       "      <th>2</th>\n",
       "      <td>Q I G E T A L N E V S S R _ _ _ _ _ _ _ _ _ _ _ _ _ _ _ _ _</td>\n",
       "      <td>K G L T V T F P S T I L K _ _ _ _ _ _ _ _ _ _ _ _ _ _ _ _ _</td>\n",
       "    </tr>\n",
       "    <tr>\n",
       "      <th>3</th>\n",
       "      <td>F R A H E A V K P Y M P T V A E F I E F A K _ _ _ _ _ _ _ _</td>\n",
       "      <td>T G I N F G A I K _ _ _ _ _ _ _ _ _ _ _ _ _ _ _ _ _ _ _ _ _</td>\n",
       "    </tr>\n",
       "    <tr>\n",
       "      <th>4</th>\n",
       "      <td>F S E A V F Q V L D Y V I Y E T R R N H I R _ _ _ _ _ _ _ _</td>\n",
       "      <td>A G M A V M D M L K N D I K P R D I I N E R _ _ _ _ _ _ _ _</td>\n",
       "    </tr>\n",
       "  </tbody>\n",
       "</table>\n",
       "</div>"
      ],
      "text/plain": [
       "                                                     predicted  \\\n",
       "0  S S W G R E E L E I V A I N D L T D A K H L A H L L K _ _ _   \n",
       "1  D P S G K D S Q K _ _ _ _ _ _ _ _ _ _ _ _ _ _ _ _ _ _ _ _ _   \n",
       "2  Q I G E T A L N E V S S R _ _ _ _ _ _ _ _ _ _ _ _ _ _ _ _ _   \n",
       "3  F R A H E A V K P Y M P T V A E F I E F A K _ _ _ _ _ _ _ _   \n",
       "4  F S E A V F Q V L D Y V I Y E T R R N H I R _ _ _ _ _ _ _ _   \n",
       "\n",
       "                                                          true  \n",
       "0  D Q P A T R V M I F V H F R D S A E E V T R _ _ _ _ _ _ _ _  \n",
       "1  D S K D D K V E K _ _ _ _ _ _ _ _ _ _ _ _ _ _ _ _ _ _ _ _ _  \n",
       "2  K G L T V T F P S T I L K _ _ _ _ _ _ _ _ _ _ _ _ _ _ _ _ _  \n",
       "3  T G I N F G A I K _ _ _ _ _ _ _ _ _ _ _ _ _ _ _ _ _ _ _ _ _  \n",
       "4  A G M A V M D M L K N D I K P R D I I N E R _ _ _ _ _ _ _ _  "
      ]
     },
     "metadata": {},
     "output_type": "display_data"
    },
    {
     "name": "stdout",
     "output_type": "stream",
     "text": [
      "Eval:\n"
     ]
    },
    {
     "data": {
      "text/html": [
       "<div>\n",
       "<style scoped>\n",
       "    .dataframe tbody tr th:only-of-type {\n",
       "        vertical-align: middle;\n",
       "    }\n",
       "\n",
       "    .dataframe tbody tr th {\n",
       "        vertical-align: top;\n",
       "    }\n",
       "\n",
       "    .dataframe thead th {\n",
       "        text-align: right;\n",
       "    }\n",
       "</style>\n",
       "<table border=\"1\" class=\"dataframe\">\n",
       "  <thead>\n",
       "    <tr style=\"text-align: right;\">\n",
       "      <th></th>\n",
       "      <th>predicted</th>\n",
       "      <th>true</th>\n",
       "    </tr>\n",
       "  </thead>\n",
       "  <tbody>\n",
       "    <tr>\n",
       "      <th>0</th>\n",
       "      <td>M N G V E E A I L D L G I H R P G P Q G R _ _ _ _ _ _ _ _ _</td>\n",
       "      <td>N L R N K D E I R _ _ _ _ _ _ _ _ _ _ _ _ _ _ _ _ _ _ _ _ _</td>\n",
       "    </tr>\n",
       "    <tr>\n",
       "      <th>1</th>\n",
       "      <td>Q L P G R L V G R _ _ _ _ _ _ _ _ _ _ _ _ _ _ _ _ _ _ _ _ _</td>\n",
       "      <td>N E C K V G D T V I V M E S R P L S R L K _ _ _ _ _ _ _ _ _</td>\n",
       "    </tr>\n",
       "    <tr>\n",
       "      <th>2</th>\n",
       "      <td>S Y G E A G L H A V A A A V V L E R _ _ _ _ _ _ _ _ _ _ _ _</td>\n",
       "      <td>D A I G R Y W Q M S T I Q L D F N L P E R _ _ _ _ _ _ _ _ _</td>\n",
       "    </tr>\n",
       "    <tr>\n",
       "      <th>3</th>\n",
       "      <td>F E V Y A L P R R _ _ _ _ _ _ _ _ _ _ _ _ _ _ _ _ _ _ _ _ _</td>\n",
       "      <td>A S V T G Q S V A K L C F S A I R K _ _ _ _ _ _ _ _ _ _ _ _</td>\n",
       "    </tr>\n",
       "    <tr>\n",
       "      <th>4</th>\n",
       "      <td>V Q F N N L Q S L Q D L S K I D E I I N K _ _ _ _ _ _ _ _ _</td>\n",
       "      <td>L F P K F L H Q N L A E S A A D P L P K K _ _ _ _ _ _ _ _ _</td>\n",
       "    </tr>\n",
       "  </tbody>\n",
       "</table>\n",
       "</div>"
      ],
      "text/plain": [
       "                                                     predicted  \\\n",
       "0  M N G V E E A I L D L G I H R P G P Q G R _ _ _ _ _ _ _ _ _   \n",
       "1  Q L P G R L V G R _ _ _ _ _ _ _ _ _ _ _ _ _ _ _ _ _ _ _ _ _   \n",
       "2  S Y G E A G L H A V A A A V V L E R _ _ _ _ _ _ _ _ _ _ _ _   \n",
       "3  F E V Y A L P R R _ _ _ _ _ _ _ _ _ _ _ _ _ _ _ _ _ _ _ _ _   \n",
       "4  V Q F N N L Q S L Q D L S K I D E I I N K _ _ _ _ _ _ _ _ _   \n",
       "\n",
       "                                                          true  \n",
       "0  N L R N K D E I R _ _ _ _ _ _ _ _ _ _ _ _ _ _ _ _ _ _ _ _ _  \n",
       "1  N E C K V G D T V I V M E S R P L S R L K _ _ _ _ _ _ _ _ _  \n",
       "2  D A I G R Y W Q M S T I Q L D F N L P E R _ _ _ _ _ _ _ _ _  \n",
       "3  A S V T G Q S V A K L C F S A I R K _ _ _ _ _ _ _ _ _ _ _ _  \n",
       "4  L F P K F L H Q N L A E S A A D P L P K K _ _ _ _ _ _ _ _ _  "
      ]
     },
     "metadata": {},
     "output_type": "display_data"
    },
    {
     "name": "stderr",
     "output_type": "stream",
     "text": [
      "2021-10-27 18:37:42,091 - mmproteo_attention_model: epoch 37:\n",
      "2021-10-27 18:37:42,093 - mmproteo_attention_model: DEBUG: {'name': 'Adam', 'learning_rate': 0.0005137468, 'decay': 0.0, 'beta_1': 0.9, 'beta_2': 0.98, 'epsilon': 1e-09, 'amsgrad': False}\n"
     ]
    },
    {
     "name": "stdout",
     "output_type": "stream",
     "text": [
      "Epoch 37/37\n",
      "200/200 [==============================] - 407s 2s/step - loss: 0.0476 - sparse_categorical_accuracy: 0.9811 - jaccard_batch_distance: 0.9729 - leuvenshtein_batch_distance: 0.5660 - val_loss: 0.4940 - val_sparse_categorical_accuracy: 0.8836 - val_jaccard_batch_distance: 0.8842 - val_leuvenshtein_batch_distance: 3.4125\n"
     ]
    },
    {
     "name": "stderr",
     "output_type": "stream",
     "text": [
      "2021-10-27 18:44:32,376 - mmproteo_attention_model: DEBUG: {'loss': [0.04757828265428543], 'sparse_categorical_accuracy': [0.9811282753944397], 'jaccard_batch_distance': [0.9728933572769165], 'leuvenshtein_batch_distance': [0.5660449266433716], 'val_loss': [0.49401411414146423], 'val_sparse_categorical_accuracy': [0.883557915687561], 'val_jaccard_batch_distance': [0.8842403292655945], 'val_leuvenshtein_batch_distance': [3.412548780441284]}\n"
     ]
    },
    {
     "name": "stdout",
     "output_type": "stream",
     "text": [
      "Train:\n"
     ]
    },
    {
     "data": {
      "text/html": [
       "<div>\n",
       "<style scoped>\n",
       "    .dataframe tbody tr th:only-of-type {\n",
       "        vertical-align: middle;\n",
       "    }\n",
       "\n",
       "    .dataframe tbody tr th {\n",
       "        vertical-align: top;\n",
       "    }\n",
       "\n",
       "    .dataframe thead th {\n",
       "        text-align: right;\n",
       "    }\n",
       "</style>\n",
       "<table border=\"1\" class=\"dataframe\">\n",
       "  <thead>\n",
       "    <tr style=\"text-align: right;\">\n",
       "      <th></th>\n",
       "      <th>predicted</th>\n",
       "      <th>true</th>\n",
       "    </tr>\n",
       "  </thead>\n",
       "  <tbody>\n",
       "    <tr>\n",
       "      <th>0</th>\n",
       "      <td>L Q V L S L G N N Q I S N M M N L I Y R R R F P C L R _ _ _</td>\n",
       "      <td>L V G I T G S N G K T T V T A M T G A M L K _ _ _ _ _ _ _ _</td>\n",
       "    </tr>\n",
       "    <tr>\n",
       "      <th>1</th>\n",
       "      <td>T R I E V L V P D F R G R _ _ _ _ _ _ _ _ _ _ _ _ _ _ _ _ _</td>\n",
       "      <td>A N I Y K N E L G T E F T V E E I P S D L V E V A E K _ _ _</td>\n",
       "    </tr>\n",
       "    <tr>\n",
       "      <th>2</th>\n",
       "      <td>A P A V G Q F W H V T D L H L D P T Y H I T D D R T K _ _ _</td>\n",
       "      <td>E R I P S Y N L T V S V S D N S G A P P T A E V Q A R _ _ _</td>\n",
       "    </tr>\n",
       "    <tr>\n",
       "      <th>3</th>\n",
       "      <td>V V T A D L G V A E E F L A G A L R S G H E G V V V K _ _ _</td>\n",
       "      <td>E Q G I Q D P I K _ _ _ _ _ _ _ _ _ _ _ _ _ _ _ _ _ _ _ _ _</td>\n",
       "    </tr>\n",
       "    <tr>\n",
       "      <th>4</th>\n",
       "      <td>A A E T V N G T K F G S K _ _ _ _ _ _ _ _ _ _ _ _ _ _ _ _ _</td>\n",
       "      <td>R Q A L D P L L W R V A R _ _ _ _ _ _ _ _ _ _ _ _ _ _ _ _ _</td>\n",
       "    </tr>\n",
       "  </tbody>\n",
       "</table>\n",
       "</div>"
      ],
      "text/plain": [
       "                                                     predicted  \\\n",
       "0  L Q V L S L G N N Q I S N M M N L I Y R R R F P C L R _ _ _   \n",
       "1  T R I E V L V P D F R G R _ _ _ _ _ _ _ _ _ _ _ _ _ _ _ _ _   \n",
       "2  A P A V G Q F W H V T D L H L D P T Y H I T D D R T K _ _ _   \n",
       "3  V V T A D L G V A E E F L A G A L R S G H E G V V V K _ _ _   \n",
       "4  A A E T V N G T K F G S K _ _ _ _ _ _ _ _ _ _ _ _ _ _ _ _ _   \n",
       "\n",
       "                                                          true  \n",
       "0  L V G I T G S N G K T T V T A M T G A M L K _ _ _ _ _ _ _ _  \n",
       "1  A N I Y K N E L G T E F T V E E I P S D L V E V A E K _ _ _  \n",
       "2  E R I P S Y N L T V S V S D N S G A P P T A E V Q A R _ _ _  \n",
       "3  E Q G I Q D P I K _ _ _ _ _ _ _ _ _ _ _ _ _ _ _ _ _ _ _ _ _  \n",
       "4  R Q A L D P L L W R V A R _ _ _ _ _ _ _ _ _ _ _ _ _ _ _ _ _  "
      ]
     },
     "metadata": {},
     "output_type": "display_data"
    },
    {
     "name": "stdout",
     "output_type": "stream",
     "text": [
      "Eval:\n"
     ]
    },
    {
     "data": {
      "text/html": [
       "<div>\n",
       "<style scoped>\n",
       "    .dataframe tbody tr th:only-of-type {\n",
       "        vertical-align: middle;\n",
       "    }\n",
       "\n",
       "    .dataframe tbody tr th {\n",
       "        vertical-align: top;\n",
       "    }\n",
       "\n",
       "    .dataframe thead th {\n",
       "        text-align: right;\n",
       "    }\n",
       "</style>\n",
       "<table border=\"1\" class=\"dataframe\">\n",
       "  <thead>\n",
       "    <tr style=\"text-align: right;\">\n",
       "      <th></th>\n",
       "      <th>predicted</th>\n",
       "      <th>true</th>\n",
       "    </tr>\n",
       "  </thead>\n",
       "  <tbody>\n",
       "    <tr>\n",
       "      <th>0</th>\n",
       "      <td>A L Y D G A L R D H H T F H P N I A _ _ _ _ _ _ _ _ _ _ _ _</td>\n",
       "      <td>M V T G K K Q A K _ _ _ _ _ _ _ _ _ _ _ _ _ _ _ _ _ _ _ _ _</td>\n",
       "    </tr>\n",
       "    <tr>\n",
       "      <th>1</th>\n",
       "      <td>W E T E T S D F F F M F D M M A A K _ _ _ _ _ _ _ _ _ _ _ _</td>\n",
       "      <td>C I I T V E T V R _ _ _ _ _ _ _ _ _ _ _ _ _ _ _ _ _ _ _ _ _</td>\n",
       "    </tr>\n",
       "    <tr>\n",
       "      <th>2</th>\n",
       "      <td>E S E R L H G F I V C L H L R C C I C C K _ _ _ _ _ _ _ _ _</td>\n",
       "      <td>Q Q I F N K S W L S A E I N T I N K _ _ _ _ _ _ _ _ _ _ _ _</td>\n",
       "    </tr>\n",
       "    <tr>\n",
       "      <th>3</th>\n",
       "      <td>Q E P Y A E K P L K V E D A Q K S M I P R _ _ _ _ _ _ _ _ _</td>\n",
       "      <td>S M F D I T V K P N F L S L K K D K _ _ _ _ _ _ _ _ _ _ _ _</td>\n",
       "    </tr>\n",
       "    <tr>\n",
       "      <th>4</th>\n",
       "      <td>A H R L G L V L K _ _ _ _ _ _ _ _ _ _ _ _ _ _ _ _ _ _ _ _ _</td>\n",
       "      <td>H Y L I H A G Q K P F E C S V C G K _ _ _ _ _ _ _ _ _ _ _ _</td>\n",
       "    </tr>\n",
       "  </tbody>\n",
       "</table>\n",
       "</div>"
      ],
      "text/plain": [
       "                                                     predicted  \\\n",
       "0  A L Y D G A L R D H H T F H P N I A _ _ _ _ _ _ _ _ _ _ _ _   \n",
       "1  W E T E T S D F F F M F D M M A A K _ _ _ _ _ _ _ _ _ _ _ _   \n",
       "2  E S E R L H G F I V C L H L R C C I C C K _ _ _ _ _ _ _ _ _   \n",
       "3  Q E P Y A E K P L K V E D A Q K S M I P R _ _ _ _ _ _ _ _ _   \n",
       "4  A H R L G L V L K _ _ _ _ _ _ _ _ _ _ _ _ _ _ _ _ _ _ _ _ _   \n",
       "\n",
       "                                                          true  \n",
       "0  M V T G K K Q A K _ _ _ _ _ _ _ _ _ _ _ _ _ _ _ _ _ _ _ _ _  \n",
       "1  C I I T V E T V R _ _ _ _ _ _ _ _ _ _ _ _ _ _ _ _ _ _ _ _ _  \n",
       "2  Q Q I F N K S W L S A E I N T I N K _ _ _ _ _ _ _ _ _ _ _ _  \n",
       "3  S M F D I T V K P N F L S L K K D K _ _ _ _ _ _ _ _ _ _ _ _  \n",
       "4  H Y L I H A G Q K P F E C S V C G K _ _ _ _ _ _ _ _ _ _ _ _  "
      ]
     },
     "metadata": {},
     "output_type": "display_data"
    },
    {
     "name": "stderr",
     "output_type": "stream",
     "text": [
      "2021-10-27 18:44:35,164 - mmproteo_attention_model: epoch 38:\n",
      "2021-10-27 18:44:35,167 - mmproteo_attention_model: DEBUG: {'name': 'Adam', 'learning_rate': 0.0005069419, 'decay': 0.0, 'beta_1': 0.9, 'beta_2': 0.98, 'epsilon': 1e-09, 'amsgrad': False}\n"
     ]
    },
    {
     "name": "stdout",
     "output_type": "stream",
     "text": [
      "Epoch 38/38\n",
      "200/200 [==============================] - 408s 2s/step - loss: 0.0443 - sparse_categorical_accuracy: 0.9826 - jaccard_batch_distance: 0.9746 - leuvenshtein_batch_distance: 0.5229 - val_loss: 0.3953 - val_sparse_categorical_accuracy: 0.9014 - val_jaccard_batch_distance: 0.9026 - val_leuvenshtein_batch_distance: 2.8894\n"
     ]
    },
    {
     "name": "stderr",
     "output_type": "stream",
     "text": [
      "2021-10-27 18:51:25,860 - mmproteo_attention_model: DEBUG: {'loss': [0.044338569045066833], 'sparse_categorical_accuracy': [0.9825660586357117], 'jaccard_batch_distance': [0.9745644330978394], 'leuvenshtein_batch_distance': [0.52294921875], 'val_loss': [0.39526891708374023], 'val_sparse_categorical_accuracy': [0.9013655781745911], 'val_jaccard_batch_distance': [0.9026132822036743], 'val_leuvenshtein_batch_distance': [2.889355421066284]}\n"
     ]
    },
    {
     "name": "stdout",
     "output_type": "stream",
     "text": [
      "Train:\n"
     ]
    },
    {
     "data": {
      "text/html": [
       "<div>\n",
       "<style scoped>\n",
       "    .dataframe tbody tr th:only-of-type {\n",
       "        vertical-align: middle;\n",
       "    }\n",
       "\n",
       "    .dataframe tbody tr th {\n",
       "        vertical-align: top;\n",
       "    }\n",
       "\n",
       "    .dataframe thead th {\n",
       "        text-align: right;\n",
       "    }\n",
       "</style>\n",
       "<table border=\"1\" class=\"dataframe\">\n",
       "  <thead>\n",
       "    <tr style=\"text-align: right;\">\n",
       "      <th></th>\n",
       "      <th>predicted</th>\n",
       "      <th>true</th>\n",
       "    </tr>\n",
       "  </thead>\n",
       "  <tbody>\n",
       "    <tr>\n",
       "      <th>0</th>\n",
       "      <td>L P R D Q G E L T G I L K _ _ _ _ _ _ _ _ _ _ _ _ _ _ _ _ _</td>\n",
       "      <td>Q V R G A D D S R _ _ _ _ _ _ _ _ _ _ _ _ _ _ _ _ _ _ _ _ _</td>\n",
       "    </tr>\n",
       "    <tr>\n",
       "      <th>1</th>\n",
       "      <td>V T H H L P F R R _ _ _ _ _ _ _ _ _ _ _ _ _ _ _ _ _ _ _ _ _</td>\n",
       "      <td>S E G A T I D P N T G K I I Q G T L K T S M A G L E R _ _ _</td>\n",
       "    </tr>\n",
       "    <tr>\n",
       "      <th>2</th>\n",
       "      <td>A S E N A D T N K _ _ _ _ _ _ _ _ _ _ _ _ _ _ _ _ _ _ _ _ _</td>\n",
       "      <td>K A E A V A L K Y Q Q H Q E S L S A Q L Q V V Y E H R _ _ _</td>\n",
       "    </tr>\n",
       "    <tr>\n",
       "      <th>3</th>\n",
       "      <td>T Q E N V Y N I I E E V K _ _ _ _ _ _ _ _ _ _ _ _ _ _ _ _ _</td>\n",
       "      <td>T E Q L R L A A E Y L G R _ _ _ _ _ _ _ _ _ _ _ _ _ _ _ _ _</td>\n",
       "    </tr>\n",
       "    <tr>\n",
       "      <th>4</th>\n",
       "      <td>E D I V G V A T F Y N R K _ _ _ _ _ _ _ _ _ _ _ _ _ _ _ _ _</td>\n",
       "      <td>I D S P A D G I T A V R R _ _ _ _ _ _ _ _ _ _ _ _ _ _ _ _ _</td>\n",
       "    </tr>\n",
       "  </tbody>\n",
       "</table>\n",
       "</div>"
      ],
      "text/plain": [
       "                                                     predicted  \\\n",
       "0  L P R D Q G E L T G I L K _ _ _ _ _ _ _ _ _ _ _ _ _ _ _ _ _   \n",
       "1  V T H H L P F R R _ _ _ _ _ _ _ _ _ _ _ _ _ _ _ _ _ _ _ _ _   \n",
       "2  A S E N A D T N K _ _ _ _ _ _ _ _ _ _ _ _ _ _ _ _ _ _ _ _ _   \n",
       "3  T Q E N V Y N I I E E V K _ _ _ _ _ _ _ _ _ _ _ _ _ _ _ _ _   \n",
       "4  E D I V G V A T F Y N R K _ _ _ _ _ _ _ _ _ _ _ _ _ _ _ _ _   \n",
       "\n",
       "                                                          true  \n",
       "0  Q V R G A D D S R _ _ _ _ _ _ _ _ _ _ _ _ _ _ _ _ _ _ _ _ _  \n",
       "1  S E G A T I D P N T G K I I Q G T L K T S M A G L E R _ _ _  \n",
       "2  K A E A V A L K Y Q Q H Q E S L S A Q L Q V V Y E H R _ _ _  \n",
       "3  T E Q L R L A A E Y L G R _ _ _ _ _ _ _ _ _ _ _ _ _ _ _ _ _  \n",
       "4  I D S P A D G I T A V R R _ _ _ _ _ _ _ _ _ _ _ _ _ _ _ _ _  "
      ]
     },
     "metadata": {},
     "output_type": "display_data"
    },
    {
     "name": "stdout",
     "output_type": "stream",
     "text": [
      "Eval:\n"
     ]
    },
    {
     "data": {
      "text/html": [
       "<div>\n",
       "<style scoped>\n",
       "    .dataframe tbody tr th:only-of-type {\n",
       "        vertical-align: middle;\n",
       "    }\n",
       "\n",
       "    .dataframe tbody tr th {\n",
       "        vertical-align: top;\n",
       "    }\n",
       "\n",
       "    .dataframe thead th {\n",
       "        text-align: right;\n",
       "    }\n",
       "</style>\n",
       "<table border=\"1\" class=\"dataframe\">\n",
       "  <thead>\n",
       "    <tr style=\"text-align: right;\">\n",
       "      <th></th>\n",
       "      <th>predicted</th>\n",
       "      <th>true</th>\n",
       "    </tr>\n",
       "  </thead>\n",
       "  <tbody>\n",
       "    <tr>\n",
       "      <th>0</th>\n",
       "      <td>L D A N A M V N A A Q S W K N L P A Q R K _ _ _ _ _ _ _ _ _</td>\n",
       "      <td>I G A G M V L S V F N M M L A A L V E S K _ _ _ _ _ _ _ _ _</td>\n",
       "    </tr>\n",
       "    <tr>\n",
       "      <th>1</th>\n",
       "      <td>N P L G P A F L G E P K K G G P P G G _ _ _ _ _ _ _ _ _ _ _</td>\n",
       "      <td>A L S L L T E D G R I D S E D Q A K _ _ _ _ _ _ _ _ _ _ _ _</td>\n",
       "    </tr>\n",
       "    <tr>\n",
       "      <th>2</th>\n",
       "      <td>K M L A G N I K K _ _ _ _ _ _ _ _ _ _ _ _ _ _ _ _ _ _ _ _ _</td>\n",
       "      <td>L M L L G S I F R _ _ _ _ _ _ _ _ _ _ _ _ _ _ _ _ _ _ _ _ _</td>\n",
       "    </tr>\n",
       "    <tr>\n",
       "      <th>3</th>\n",
       "      <td>V R R V C V H T V G C E K A L A T D P E R _ _ _ _ _ _ _ _ _</td>\n",
       "      <td>E L V V I A Q D T T K Y G F D L Y G K E R _ _ _ _ _ _ _ _ _</td>\n",
       "    </tr>\n",
       "    <tr>\n",
       "      <th>4</th>\n",
       "      <td>T G D L D S Q P D P R R H G R P G R _ _ _ _ _ _ _ _ _ _ _ _</td>\n",
       "      <td>L S S V Q T H T S P V V L S E K I R _ _ _ _ _ _ _ _ _ _ _ _</td>\n",
       "    </tr>\n",
       "  </tbody>\n",
       "</table>\n",
       "</div>"
      ],
      "text/plain": [
       "                                                     predicted  \\\n",
       "0  L D A N A M V N A A Q S W K N L P A Q R K _ _ _ _ _ _ _ _ _   \n",
       "1  N P L G P A F L G E P K K G G P P G G _ _ _ _ _ _ _ _ _ _ _   \n",
       "2  K M L A G N I K K _ _ _ _ _ _ _ _ _ _ _ _ _ _ _ _ _ _ _ _ _   \n",
       "3  V R R V C V H T V G C E K A L A T D P E R _ _ _ _ _ _ _ _ _   \n",
       "4  T G D L D S Q P D P R R H G R P G R _ _ _ _ _ _ _ _ _ _ _ _   \n",
       "\n",
       "                                                          true  \n",
       "0  I G A G M V L S V F N M M L A A L V E S K _ _ _ _ _ _ _ _ _  \n",
       "1  A L S L L T E D G R I D S E D Q A K _ _ _ _ _ _ _ _ _ _ _ _  \n",
       "2  L M L L G S I F R _ _ _ _ _ _ _ _ _ _ _ _ _ _ _ _ _ _ _ _ _  \n",
       "3  E L V V I A Q D T T K Y G F D L Y G K E R _ _ _ _ _ _ _ _ _  \n",
       "4  L S S V Q T H T S P V V L S E K I R _ _ _ _ _ _ _ _ _ _ _ _  "
      ]
     },
     "metadata": {},
     "output_type": "display_data"
    },
    {
     "name": "stderr",
     "output_type": "stream",
     "text": [
      "2021-10-27 18:51:28,739 - mmproteo_attention_model: epoch 39:\n",
      "2021-10-27 18:51:28,741 - mmproteo_attention_model: DEBUG: {'name': 'Adam', 'learning_rate': 0.0005004005, 'decay': 0.0, 'beta_1': 0.9, 'beta_2': 0.98, 'epsilon': 1e-09, 'amsgrad': False}\n"
     ]
    },
    {
     "name": "stdout",
     "output_type": "stream",
     "text": [
      "Epoch 39/39\n",
      "200/200 [==============================] - 407s 2s/step - loss: 0.0421 - sparse_categorical_accuracy: 0.9835 - jaccard_batch_distance: 0.9759 - leuvenshtein_batch_distance: 0.4952 - val_loss: 0.4596 - val_sparse_categorical_accuracy: 0.8892 - val_jaccard_batch_distance: 0.8904 - val_leuvenshtein_batch_distance: 3.2418\n"
     ]
    },
    {
     "name": "stderr",
     "output_type": "stream",
     "text": [
      "2021-10-27 18:58:19,079 - mmproteo_attention_model: DEBUG: {'loss': [0.04206891357898712], 'sparse_categorical_accuracy': [0.9834915399551392], 'jaccard_batch_distance': [0.9759367108345032], 'leuvenshtein_batch_distance': [0.4951757788658142], 'val_loss': [0.45964550971984863], 'val_sparse_categorical_accuracy': [0.8891666531562805], 'val_jaccard_batch_distance': [0.8904383778572083], 'val_leuvenshtein_batch_distance': [3.2418456077575684]}\n"
     ]
    },
    {
     "name": "stdout",
     "output_type": "stream",
     "text": [
      "Train:\n"
     ]
    },
    {
     "data": {
      "text/html": [
       "<div>\n",
       "<style scoped>\n",
       "    .dataframe tbody tr th:only-of-type {\n",
       "        vertical-align: middle;\n",
       "    }\n",
       "\n",
       "    .dataframe tbody tr th {\n",
       "        vertical-align: top;\n",
       "    }\n",
       "\n",
       "    .dataframe thead th {\n",
       "        text-align: right;\n",
       "    }\n",
       "</style>\n",
       "<table border=\"1\" class=\"dataframe\">\n",
       "  <thead>\n",
       "    <tr style=\"text-align: right;\">\n",
       "      <th></th>\n",
       "      <th>predicted</th>\n",
       "      <th>true</th>\n",
       "    </tr>\n",
       "  </thead>\n",
       "  <tbody>\n",
       "    <tr>\n",
       "      <th>0</th>\n",
       "      <td>M P W D V M E D D K E V R _ _ _ _ _ _ _ _ _ _ _ _ _ _ _ _ _</td>\n",
       "      <td>F A N I A T T A K L I A I A A L Q R T E S R _ _ _ _ _ _ _ _</td>\n",
       "    </tr>\n",
       "    <tr>\n",
       "      <th>1</th>\n",
       "      <td>A A V V R H A I L D K N V V V G P G E M V G V D L E K _ _ _</td>\n",
       "      <td>M K Y I I L I G D G M A D H P L E E L G G M T A L Q K _ _ _</td>\n",
       "    </tr>\n",
       "    <tr>\n",
       "      <th>2</th>\n",
       "      <td>Y R V L L P G V K P A Y K _ _ _ _ _ _ _ _ _ _ _ _ _ _ _ _ _</td>\n",
       "      <td>N N H H G H N G Y L N T V T V S P D G S L C T S G G K _ _ _</td>\n",
       "    </tr>\n",
       "    <tr>\n",
       "      <th>3</th>\n",
       "      <td>L N R M H A T P E E S I R _ _ _ _ _ _ _ _ _ _ _ _ _ _ _ _ _</td>\n",
       "      <td>L H L I G L C S D G G V H S H L N H L L G L L D L A K _ _ _</td>\n",
       "    </tr>\n",
       "    <tr>\n",
       "      <th>4</th>\n",
       "      <td>R R P D Q R L Y L G A V K _ _ _ _ _ _ _ _ _ _ _ _ _ _ _ _ _</td>\n",
       "      <td>L N E E L K S H K _ _ _ _ _ _ _ _ _ _ _ _ _ _ _ _ _ _ _ _ _</td>\n",
       "    </tr>\n",
       "  </tbody>\n",
       "</table>\n",
       "</div>"
      ],
      "text/plain": [
       "                                                     predicted  \\\n",
       "0  M P W D V M E D D K E V R _ _ _ _ _ _ _ _ _ _ _ _ _ _ _ _ _   \n",
       "1  A A V V R H A I L D K N V V V G P G E M V G V D L E K _ _ _   \n",
       "2  Y R V L L P G V K P A Y K _ _ _ _ _ _ _ _ _ _ _ _ _ _ _ _ _   \n",
       "3  L N R M H A T P E E S I R _ _ _ _ _ _ _ _ _ _ _ _ _ _ _ _ _   \n",
       "4  R R P D Q R L Y L G A V K _ _ _ _ _ _ _ _ _ _ _ _ _ _ _ _ _   \n",
       "\n",
       "                                                          true  \n",
       "0  F A N I A T T A K L I A I A A L Q R T E S R _ _ _ _ _ _ _ _  \n",
       "1  M K Y I I L I G D G M A D H P L E E L G G M T A L Q K _ _ _  \n",
       "2  N N H H G H N G Y L N T V T V S P D G S L C T S G G K _ _ _  \n",
       "3  L H L I G L C S D G G V H S H L N H L L G L L D L A K _ _ _  \n",
       "4  L N E E L K S H K _ _ _ _ _ _ _ _ _ _ _ _ _ _ _ _ _ _ _ _ _  "
      ]
     },
     "metadata": {},
     "output_type": "display_data"
    },
    {
     "name": "stdout",
     "output_type": "stream",
     "text": [
      "Eval:\n"
     ]
    },
    {
     "data": {
      "text/html": [
       "<div>\n",
       "<style scoped>\n",
       "    .dataframe tbody tr th:only-of-type {\n",
       "        vertical-align: middle;\n",
       "    }\n",
       "\n",
       "    .dataframe tbody tr th {\n",
       "        vertical-align: top;\n",
       "    }\n",
       "\n",
       "    .dataframe thead th {\n",
       "        text-align: right;\n",
       "    }\n",
       "</style>\n",
       "<table border=\"1\" class=\"dataframe\">\n",
       "  <thead>\n",
       "    <tr style=\"text-align: right;\">\n",
       "      <th></th>\n",
       "      <th>predicted</th>\n",
       "      <th>true</th>\n",
       "    </tr>\n",
       "  </thead>\n",
       "  <tbody>\n",
       "    <tr>\n",
       "      <th>0</th>\n",
       "      <td>M K E L I P R Q S F E I A I Q A A V G T K _ _ _ _ _ _ _ _ _</td>\n",
       "      <td>L Q A S A D W K P G H A M P S L F K _ _ _ _ _ _ _ _ _ _ _ _</td>\n",
       "    </tr>\n",
       "    <tr>\n",
       "      <th>1</th>\n",
       "      <td>Y F V S S Q I N E F L V T P S L L G D H R _ _ _ _ _ _ _ _ _</td>\n",
       "      <td>L H V D P P N F R _ _ _ _ _ _ _ _ _ _ _ _ _ _ _ _ _ _ _ _ _</td>\n",
       "    </tr>\n",
       "    <tr>\n",
       "      <th>2</th>\n",
       "      <td>T V F C Q H L N K _ _ _ _ _ _ _ _ _ _ _ _ _ _ _ _ _ _ _ _ _</td>\n",
       "      <td>E D D I L A V I G _ _ _ _ _ _ _ _ _ _ _ _ _ _ _ _ _ _ _ _ _</td>\n",
       "    </tr>\n",
       "    <tr>\n",
       "      <th>3</th>\n",
       "      <td>E D G R Q I S D F R S L E I Q F G K _ _ _ _ _ _ _ _ _ _ _ _</td>\n",
       "      <td>L G S Q K A E L V E G S K L H Q I Y G A K _ _ _ _ _ _ _ _ _</td>\n",
       "    </tr>\n",
       "    <tr>\n",
       "      <th>4</th>\n",
       "      <td>I D G V R Y G Y R _ _ _ _ _ _ _ _ _ _ _ _ _ _ _ _ _ _ _ _ _</td>\n",
       "      <td>D G A M N M T H R _ _ _ _ _ _ _ _ _ _ _ _ _ _ _ _ _ _ _ _ _</td>\n",
       "    </tr>\n",
       "  </tbody>\n",
       "</table>\n",
       "</div>"
      ],
      "text/plain": [
       "                                                     predicted  \\\n",
       "0  M K E L I P R Q S F E I A I Q A A V G T K _ _ _ _ _ _ _ _ _   \n",
       "1  Y F V S S Q I N E F L V T P S L L G D H R _ _ _ _ _ _ _ _ _   \n",
       "2  T V F C Q H L N K _ _ _ _ _ _ _ _ _ _ _ _ _ _ _ _ _ _ _ _ _   \n",
       "3  E D G R Q I S D F R S L E I Q F G K _ _ _ _ _ _ _ _ _ _ _ _   \n",
       "4  I D G V R Y G Y R _ _ _ _ _ _ _ _ _ _ _ _ _ _ _ _ _ _ _ _ _   \n",
       "\n",
       "                                                          true  \n",
       "0  L Q A S A D W K P G H A M P S L F K _ _ _ _ _ _ _ _ _ _ _ _  \n",
       "1  L H V D P P N F R _ _ _ _ _ _ _ _ _ _ _ _ _ _ _ _ _ _ _ _ _  \n",
       "2  E D D I L A V I G _ _ _ _ _ _ _ _ _ _ _ _ _ _ _ _ _ _ _ _ _  \n",
       "3  L G S Q K A E L V E G S K L H Q I Y G A K _ _ _ _ _ _ _ _ _  \n",
       "4  D G A M N M T H R _ _ _ _ _ _ _ _ _ _ _ _ _ _ _ _ _ _ _ _ _  "
      ]
     },
     "metadata": {},
     "output_type": "display_data"
    },
    {
     "name": "stderr",
     "output_type": "stream",
     "text": [
      "2021-10-27 18:58:21,995 - mmproteo_attention_model: epoch 40:\n",
      "2021-10-27 18:58:21,997 - mmproteo_attention_model: DEBUG: {'name': 'Adam', 'learning_rate': 0.00049410586, 'decay': 0.0, 'beta_1': 0.9, 'beta_2': 0.98, 'epsilon': 1e-09, 'amsgrad': False}\n"
     ]
    },
    {
     "name": "stdout",
     "output_type": "stream",
     "text": [
      "Epoch 40/40\n",
      "  6/200 [..............................] - ETA: 6:30 - loss: 0.0368 - sparse_categorical_accuracy: 0.9860 - jaccard_batch_distance: 0.9807 - leuvenshtein_batch_distance: 0.4209"
     ]
    }
   ],
   "source": [
    "last_model = None\n",
    "\n",
    "learning_rate = 10**-6\n",
    "slowing_factor = 1\n",
    "\n",
    "first_epoch = 1\n",
    "\n",
    "while True:\n",
    "    error_count = 0\n",
    "    training_dataset = datasets[TRAIN_TYPE].repeat()\n",
    "    validation_dataset = datasets[TEST_TYPE].repeat()\n",
    "    \n",
    "    aborted = False\n",
    "    \n",
    "    for epoch in range(first_epoch, 100):\n",
    "        logger.info(f\"epoch {epoch}:\")\n",
    "        learning_rate = EMBEDDING_WIDTH**-0.5 * min((epoch * STEPS_PER_EPOCH)**-0.5, (epoch * STEPS_PER_EPOCH) * WARMUP_STEPS**-1.5) / slowing_factor\n",
    "        tf.keras.backend.set_value(model.optimizer.learning_rate, learning_rate)\n",
    "        logger.debug(str(model.optimizer.get_config()))\n",
    "\n",
    "        try:\n",
    "            history = model.fit(\n",
    "                x=training_dataset,\n",
    "                validation_data=validation_dataset,\n",
    "                validation_steps=STEPS_PER_EPOCH//5,\n",
    "                epochs=epoch,\n",
    "                steps_per_epoch=STEPS_PER_EPOCH,\n",
    "                callbacks=callback_list,\n",
    "                initial_epoch=epoch-1,\n",
    "            )\n",
    "            logger.debug(str(history.history))\n",
    "        except tf.errors.InvalidArgumentError as e:\n",
    "            logger.warning(f\"Training error: {e}\")\n",
    "            error_count += 1\n",
    "            if error_count > 10:\n",
    "                logger.warning(\"abort training, because of too many NaN loss results\")\n",
    "                break\n",
    "\n",
    "        print(\"Train:\")\n",
    "        eval_df, (x_eval, y_eval, y_pred) = train_evaluator.evaluate_model_visually(\n",
    "            model=model,\n",
    "            sample_size=5,\n",
    "            keep_separator=True,\n",
    "        )\n",
    "        display(eval_df)\n",
    "        \n",
    "        print(\"Eval:\")\n",
    "        eval_df, (x_eval, y_eval, y_pred) = eval_evaluator.evaluate_model_visually(\n",
    "            model=model,\n",
    "            sample_size=5,\n",
    "            keep_separator=True,\n",
    "        )\n",
    "        display(eval_df)\n",
    "        \n",
    "    else:\n",
    "        aborted = True\n",
    "    \n",
    "    if not aborted:\n",
    "        break\n",
    "    \n",
    "    last_model = model\n",
    "    model = create_model()\n",
    "    learning_rate *= 0.5\n",
    "    slowing_factor *= 2\n",
    "    first_epoch = 1\n",
    "    break"
   ]
  },
  {
   "cell_type": "code",
   "execution_count": null,
   "id": "34095f4c",
   "metadata": {
    "scrolled": true
   },
   "outputs": [],
   "source": [
    "eval_df, _ = train_evaluator.evaluate_model_visually(\n",
    "    model=model,\n",
    "    sample_size=2,\n",
    "    keep_separator=True,\n",
    ")\n",
    "eval_df"
   ]
  },
  {
   "cell_type": "markdown",
   "id": "spatial-laser",
   "metadata": {},
   "source": [
    "## Evaluating the Tensorflow Model"
   ]
  },
  {
   "cell_type": "code",
   "execution_count": null,
   "id": "5a30b848",
   "metadata": {
    "pycharm": {
     "is_executing": true
    }
   },
   "outputs": [],
   "source": [
    "train_evaluator.evaluate_model(model)"
   ]
  },
  {
   "cell_type": "raw",
   "id": "caa5592a",
   "metadata": {},
   "source": [
    "target_less_input = {\n",
    "    'inputs': ds[0]['inputs'],\n",
    "}"
   ]
  },
  {
   "cell_type": "raw",
   "id": "a151bd1d",
   "metadata": {
    "scrolled": false
   },
   "source": [
    "model.predict(target_less_input)"
   ]
  }
 ],
 "metadata": {
  "kernelspec": {
   "display_name": "Python 3",
   "language": "python",
   "name": "python3"
  },
  "language_info": {
   "codemirror_mode": {
    "name": "ipython",
    "version": 3
   },
   "file_extension": ".py",
   "mimetype": "text/x-python",
   "name": "python",
   "nbconvert_exporter": "python",
   "pygments_lexer": "ipython3",
   "version": "3.8.10"
  }
 },
 "nbformat": 4,
 "nbformat_minor": 5
}
