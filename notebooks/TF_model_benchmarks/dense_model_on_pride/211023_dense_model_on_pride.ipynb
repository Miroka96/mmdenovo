{
 "cells": [
  {
   "cell_type": "markdown",
   "id": "lovely-landing",
   "metadata": {},
   "source": [
    "# Training an ML Model on Tensorflow Datasets\n",
    "## Prerequisites"
   ]
  },
  {
   "cell_type": "code",
   "execution_count": 1,
   "id": "worth-excuse",
   "metadata": {},
   "outputs": [],
   "source": [
    "import json\n",
    "import os\n",
    "from typing import Callable, Optional, List\n",
    "\n",
    "import numpy as np\n",
    "import pandas as pd\n",
    "import tensorflow as tf\n",
    "from mmproteo.utils import log, paths, utils, visualization\n",
    "from mmproteo.utils.formats.tf_dataset import DatasetLoader\n",
    "from mmproteo.utils.ml import callbacks, evaluation, layers, losses"
   ]
  },
  {
   "cell_type": "code",
   "execution_count": 2,
   "id": "circular-latin",
   "metadata": {},
   "outputs": [],
   "source": [
    "pd.set_option('display.max_columns', None)\n",
    "pd.set_option('display.max_rows', 1000)"
   ]
  },
  {
   "cell_type": "code",
   "execution_count": 3,
   "id": "9aef5fc9",
   "metadata": {},
   "outputs": [],
   "source": [
    "os.environ[\"CUDA_VISIBLE_DEVICES\"]=\"7\""
   ]
  },
  {
   "cell_type": "code",
   "execution_count": 4,
   "id": "e53221e4",
   "metadata": {},
   "outputs": [
    {
     "data": {
      "text/plain": [
       "[PhysicalDevice(name='/physical_device:GPU:0', device_type='GPU')]"
      ]
     },
     "execution_count": 4,
     "metadata": {},
     "output_type": "execute_result"
    }
   ],
   "source": [
    "#tf.debugging.set_log_device_placement(True)\n",
    "GPUs = tf.config.list_physical_devices('GPU')\n",
    "GPUs"
   ]
  },
  {
   "cell_type": "markdown",
   "id": "essential-playlist",
   "metadata": {},
   "source": [
    "## Configuration"
   ]
  },
  {
   "cell_type": "code",
   "execution_count": 5,
   "id": "norwegian-therapist",
   "metadata": {},
   "outputs": [
    {
     "data": {
      "text/plain": [
       "'/hpi/fs00/home/mirko.krause/masterthesis/pride-downloader/notebooks'"
      ]
     },
     "execution_count": 5,
     "metadata": {},
     "output_type": "execute_result"
    }
   ],
   "source": [
    "%pwd"
   ]
  },
  {
   "cell_type": "code",
   "execution_count": 6,
   "id": "96bcfed8",
   "metadata": {},
   "outputs": [],
   "source": [
    "DATA_SOURCE = 'pride'\n",
    "# DATA_SOURCE = 'pdeep'"
   ]
  },
  {
   "cell_type": "raw",
   "id": "aac43a97",
   "metadata": {
    "pycharm": {
     "name": "#%%\n"
    }
   },
   "source": [
    "os.chdir(os.path.join('workspace', 'notebooks'))"
   ]
  },
  {
   "cell_type": "raw",
   "id": "02d57e9a",
   "metadata": {
    "pycharm": {
     "name": "#%%\n"
    }
   },
   "source": [
    "%pwd"
   ]
  },
  {
   "cell_type": "raw",
   "id": "116593eb",
   "metadata": {},
   "source": [
    "PROJECT = \"PXD010000\"\n",
    "DUMP_PATH = os.path.join(\"..\", \"dumps\", PROJECT)"
   ]
  },
  {
   "cell_type": "code",
   "execution_count": 7,
   "id": "abe4e214",
   "metadata": {},
   "outputs": [],
   "source": [
    "if DATA_SOURCE == 'pride':\n",
    "    PROJECT = \"PXD010000\"\n",
    "    DUMP_PATH = os.path.join(\"/scratch/mirko.krause/dumps/\", PROJECT)\n",
    "elif DATA_SOURCE == 'pdeep':\n",
    "    DUMP_PATH = \"/scratch/mirko.krause/pdeep\"\n",
    "else:\n",
    "    assert False"
   ]
  },
  {
   "cell_type": "code",
   "execution_count": 8,
   "id": "genuine-dealing",
   "metadata": {},
   "outputs": [
    {
     "name": "stdout",
     "output_type": "stream",
     "text": [
      "dump path = /scratch/mirko.krause/dumps/PXD010000\n"
     ]
    }
   ],
   "source": [
    "print(f\"dump path = {DUMP_PATH}\")\n",
    "THREAD_COUNT = min(int(os.cpu_count()/2), 16)\n",
    "TRAINING_COLUMNS_DUMP_PATH = os.path.join(DUMP_PATH, \"training_columns\")\n",
    "FILES_PATH = os.path.join(TRAINING_COLUMNS_DUMP_PATH, \"*_mzmlid.parquet\")\n",
    "STATISTICS_FILE_PATH = os.path.join(TRAINING_COLUMNS_DUMP_PATH, \"statistics.parquet\")\n",
    "DATASET_DUMP_PATH = os.path.join(TRAINING_COLUMNS_DUMP_PATH, \"tf_datasets\")\n",
    "PROCESSING_FILE_PATH = os.path.join(DATASET_DUMP_PATH, \"processing_info.json\")"
   ]
  },
  {
   "cell_type": "code",
   "execution_count": 9,
   "id": "interesting-minute",
   "metadata": {},
   "outputs": [],
   "source": [
    "SEQ = 'peptide_sequence'"
   ]
  },
  {
   "cell_type": "code",
   "execution_count": 10,
   "id": "03c2fc06",
   "metadata": {},
   "outputs": [
    {
     "name": "stderr",
     "output_type": "stream",
     "text": [
      "2021-10-23 13:05:04,726 - mmproteo_dense_model: Logging to file '/scratch/mirko.krause/dumps/PXD010000/mmproteo_dense_model.log' and to stderr\n"
     ]
    }
   ],
   "source": [
    "logger = log.create_logger(\n",
    "    name='mmproteo_dense_model',\n",
    "    verbose=True,\n",
    "    log_dir=DUMP_PATH,\n",
    ")"
   ]
  },
  {
   "cell_type": "code",
   "execution_count": 11,
   "id": "93c29d41",
   "metadata": {},
   "outputs": [
    {
     "data": {
      "text/plain": [
       "{'padding_characters': {'peptide_sequence': '_',\n",
       "  'mz_array': 0.0,\n",
       "  'intensity_array': 0.0},\n",
       " 'padding_lengths': {'mz_array': 2354,\n",
       "  'intensity_array': 2354,\n",
       "  'peptide_sequence': 50},\n",
       " 'idx_to_char': {'2': 'A',\n",
       "  '3': 'C',\n",
       "  '4': 'D',\n",
       "  '5': 'E',\n",
       "  '6': 'F',\n",
       "  '7': 'G',\n",
       "  '8': 'H',\n",
       "  '9': 'I',\n",
       "  '10': 'K',\n",
       "  '11': 'L',\n",
       "  '12': 'M',\n",
       "  '13': 'M(Oxidation)',\n",
       "  '14': 'N',\n",
       "  '15': 'P',\n",
       "  '16': 'Q',\n",
       "  '17': 'R',\n",
       "  '18': 'S',\n",
       "  '19': 'T',\n",
       "  '20': 'V',\n",
       "  '21': 'W',\n",
       "  '22': 'Y',\n",
       "  '0': '_',\n",
       "  '1': 'EOS'},\n",
       " 'normalization': {'intensity_array': '<function base_peak_normalize at 0x7f68e0932ca0>'},\n",
       " 'split_value_columns': ['species', 'istrain'],\n",
       " 'training_data_columns': ['mz_array', 'intensity_array'],\n",
       " 'target_data_columns': ['peptide_sequence'],\n",
       " 'element_spec': '((TensorSpec(shape=(2354,), dtype=tf.float32, name=None), TensorSpec(shape=(2354,), dtype=tf.float32, name=None)), (TensorSpec(shape=(50,), dtype=tf.int8, name=None),))',\n",
       " 'eos_idx': 1}"
      ]
     },
     "execution_count": 11,
     "metadata": {},
     "output_type": "execute_result"
    }
   ],
   "source": [
    "with open(PROCESSING_FILE_PATH, 'r') as file:\n",
    "    PROCESSING_INFO = json.loads(file.read())\n",
    "PROCESSING_INFO"
   ]
  },
  {
   "cell_type": "code",
   "execution_count": 12,
   "id": "73a1f075",
   "metadata": {},
   "outputs": [],
   "source": [
    "idx_to_char = {int(idx): char for idx, char in PROCESSING_INFO[\"idx_to_char\"].items()}\n",
    "char_to_idx = {char: idx for idx, char in idx_to_char.items()}"
   ]
  },
  {
   "cell_type": "markdown",
   "id": "powerful-proceeding",
   "metadata": {},
   "source": [
    "## Loading Tensorflow Datasets"
   ]
  },
  {
   "cell_type": "code",
   "execution_count": 13,
   "id": "ee8aadcf",
   "metadata": {},
   "outputs": [],
   "source": [
    "KEEP_CACHE = True"
   ]
  },
  {
   "cell_type": "code",
   "execution_count": 14,
   "id": "7ee8ccc7",
   "metadata": {},
   "outputs": [],
   "source": [
    "TRAIN_TYPE = 'Train'\n",
    "TEST_TYPE = 'Test'\n",
    "EVAL_TYPE = 'Eval'"
   ]
  },
  {
   "cell_type": "code",
   "execution_count": 15,
   "id": "56583a03",
   "metadata": {},
   "outputs": [],
   "source": [
    "def find_grouping_path_position(cols: Optional[List[str]], prefered_item: str, alternative_index: int = -1) -> int:\n",
    "    res = alternative_index\n",
    "    if cols is not None:\n",
    "        try:\n",
    "            res = cols.index(prefered_item) - len(cols)\n",
    "        except ValueError:\n",
    "            pass\n",
    "    return res"
   ]
  },
  {
   "cell_type": "code",
   "execution_count": 16,
   "id": "6593d5de",
   "metadata": {},
   "outputs": [
    {
     "data": {
      "text/plain": [
       "-2"
      ]
     },
     "execution_count": 16,
     "metadata": {},
     "output_type": "execute_result"
    }
   ],
   "source": [
    "grouping_path_position = find_grouping_path_position(\n",
    "    cols=PROCESSING_INFO['split_value_columns'],\n",
    "    prefered_item='species',\n",
    "    alternative_index=-1,\n",
    ")\n",
    "grouping_path_position"
   ]
  },
  {
   "cell_type": "code",
   "execution_count": 17,
   "id": "5e09781d",
   "metadata": {},
   "outputs": [
    {
     "data": {
      "text/plain": [
       "'/scratch/mirko.krause/dumps/PXD010000/training_columns/tf_datasets/*/*/*'"
      ]
     },
     "execution_count": 17,
     "metadata": {},
     "output_type": "execute_result"
    }
   ],
   "source": [
    "os.path.join(\n",
    "        DATASET_DUMP_PATH, \n",
    "        '*',  # filename\n",
    "        *(['*' for _ in PROCESSING_INFO['split_value_columns']] or [])\n",
    "    )"
   ]
  },
  {
   "cell_type": "code",
   "execution_count": 18,
   "id": "d696d51d",
   "metadata": {},
   "outputs": [
    {
     "name": "stdout",
     "output_type": "stream",
     "text": [
      "\n",
      "assigned dataset files:\n",
      "#Train = 190\n",
      "e.g.: /scratch/mirko.krause/dumps/PXD010000/training_columns/tf_datasets/Biodiversity_B_bifidum_CMcarb_anaerobic_03_26Feb16_Arwen_16-01-01_mzmlid.parquet/Bifidobacterium_bifidum_ATCC29521/Train\n",
      "#Test = 24\n",
      "e.g.: /scratch/mirko.krause/dumps/PXD010000/training_columns/tf_datasets/Biodiversity_F_novicida_TSB_aerobic_03_01Feb16_Arwen_15-07-13_mzmlid.parquet/Francisella_novicida_U112/Train\n",
      "#Eval = 21\n",
      "e.g.: /scratch/mirko.krause/dumps/PXD010000/training_columns/tf_datasets/S_venezuelae_GYM_1_21Mar16_Arwen_16-01-03_mzmlid.parquet/Streptomyces_venezuelae/Train\n"
     ]
    },
    {
     "name": "stderr",
     "output_type": "stream",
     "text": [
      "2021-10-23 13:05:04,756 - mmproteo_dense_model: found file paths dump '/scratch/mirko.krause/dumps/PXD010000/training_columns/tf_datasets/dataset_file_paths.json'\n"
     ]
    }
   ],
   "source": [
    "dataset_file_paths = paths.assign_wildcard_paths_to_splits_grouped_by_path_position_value(\n",
    "    wildcard_path = os.path.join(\n",
    "        DATASET_DUMP_PATH, \n",
    "        '*',  # filename\n",
    "        *(['*' for _ in PROCESSING_INFO['split_value_columns']] or [])\n",
    "    ),\n",
    "    path_position = grouping_path_position,\n",
    "    splits = {\n",
    "            TRAIN_TYPE: 0.8,\n",
    "            TEST_TYPE: 0.9,\n",
    "            EVAL_TYPE: 1.0\n",
    "        },\n",
    "    paths_dump_file = os.path.join(\n",
    "            DATASET_DUMP_PATH,\n",
    "            \"dataset_file_paths.json\"\n",
    "        ),\n",
    "    skip_existing = KEEP_CACHE,\n",
    "    logger = logger\n",
    ")\n",
    "\n",
    "print()\n",
    "print(\"assigned dataset files:\")\n",
    "visualization.print_list_length_in_dict(dataset_file_paths)"
   ]
  },
  {
   "cell_type": "markdown",
   "id": "ec611252",
   "metadata": {},
   "source": [
    "### Loading corresponding TF datasets"
   ]
  },
  {
   "cell_type": "code",
   "execution_count": 19,
   "id": "c0d829d6",
   "metadata": {},
   "outputs": [
    {
     "data": {
      "text/plain": [
       "((TensorSpec(shape=(2354,), dtype=tf.float32, name=None),\n",
       "  TensorSpec(shape=(2354,), dtype=tf.float32, name=None)),\n",
       " (TensorSpec(shape=(50,), dtype=tf.int8, name=None),))"
      ]
     },
     "execution_count": 19,
     "metadata": {},
     "output_type": "execute_result"
    }
   ],
   "source": [
    "element_spec = eval(PROCESSING_INFO['element_spec'], {}, {'TensorSpec':tf.TensorSpec, 'tf':tf})\n",
    "element_spec"
   ]
  },
  {
   "cell_type": "code",
   "execution_count": 20,
   "id": "9ff90718",
   "metadata": {},
   "outputs": [
    {
     "name": "stderr",
     "output_type": "stream",
     "text": [
      "2021-10-23 13:05:04,764 - mmproteo_dense_model: DEBUG: started initializing tensorflow by creating a first dataset\n",
      "2021-10-23 13:10:19,578 - mmproteo_dense_model: finished initializing tensorflow\n"
     ]
    }
   ],
   "source": [
    "# initialize Tensorflow (might take several minutes (~5 minutes per GPU with 40GB VRAM each))\n",
    "logger.debug(\"started initializing tensorflow by creating a first dataset\")\n",
    "tf.data.Dataset.range(5)\n",
    "logger.info(\"finished initializing tensorflow\")"
   ]
  },
  {
   "cell_type": "code",
   "execution_count": 21,
   "id": "e65a87aa",
   "metadata": {},
   "outputs": [],
   "source": [
    "ds_options = tf.data.Options()\n",
    "ds_options.experimental_threading.private_threadpool_size = THREAD_COUNT\n",
    "ds_options.experimental_threading.max_intra_op_parallelism = THREAD_COUNT"
   ]
  },
  {
   "cell_type": "code",
   "execution_count": 22,
   "id": "b34d7bec",
   "metadata": {},
   "outputs": [],
   "source": [
    "BATCH_SIZE=32"
   ]
  },
  {
   "cell_type": "code",
   "execution_count": 23,
   "id": "fbef3700",
   "metadata": {},
   "outputs": [
    {
     "name": "stderr",
     "output_type": "stream",
     "text": [
      "2021-10-23 13:10:19,607 - mmproteo_dense_model: DEBUG: preparing dataset 'Train' with 190 paths\n",
      "2021-10-23 13:10:19,626 - mmproteo_dense_model: DEBUG: applied options to dataset 'Train'\n",
      "2021-10-23 13:10:19,798 - mmproteo_dense_model: DEBUG: loaded dataset 'Train' interleaved\n",
      "2021-10-23 13:10:19,799 - mmproteo_dense_model: DEBUG: skipped caching dataset 'Train'\n",
      "2021-10-23 13:10:19,800 - mmproteo_dense_model: DEBUG: shuffled dataset 'Train'\n",
      "2021-10-23 13:10:19,801 - mmproteo_dense_model: DEBUG: batched dataset 'Train'\n",
      "2021-10-23 13:10:19,802 - mmproteo_dense_model: DEBUG: configured prefetching for dataset 'Train'\n",
      "2021-10-23 13:10:19,802 - mmproteo_dense_model: DEBUG: skipped benchmarking dataset 'Train'\n",
      "2021-10-23 13:10:19,802 - mmproteo_dense_model: prepared dataset 'Train'\n",
      "2021-10-23 13:10:19,802 - mmproteo_dense_model: DEBUG: preparing dataset 'Test' with 24 paths\n",
      "2021-10-23 13:10:19,803 - mmproteo_dense_model: DEBUG: applied options to dataset 'Test'\n",
      "2021-10-23 13:10:19,811 - mmproteo_dense_model: DEBUG: loaded dataset 'Test' interleaved\n",
      "2021-10-23 13:10:19,812 - mmproteo_dense_model: DEBUG: skipped caching dataset 'Test'\n",
      "2021-10-23 13:10:19,812 - mmproteo_dense_model: DEBUG: shuffled dataset 'Test'\n",
      "2021-10-23 13:10:19,813 - mmproteo_dense_model: DEBUG: batched dataset 'Test'\n",
      "2021-10-23 13:10:19,813 - mmproteo_dense_model: DEBUG: configured prefetching for dataset 'Test'\n",
      "2021-10-23 13:10:19,813 - mmproteo_dense_model: DEBUG: skipped benchmarking dataset 'Test'\n",
      "2021-10-23 13:10:19,813 - mmproteo_dense_model: prepared dataset 'Test'\n",
      "2021-10-23 13:10:19,814 - mmproteo_dense_model: DEBUG: preparing dataset 'Eval' with 21 paths\n",
      "2021-10-23 13:10:19,814 - mmproteo_dense_model: DEBUG: applied options to dataset 'Eval'\n",
      "2021-10-23 13:10:19,822 - mmproteo_dense_model: DEBUG: loaded dataset 'Eval' interleaved\n",
      "2021-10-23 13:10:19,822 - mmproteo_dense_model: DEBUG: skipped caching dataset 'Eval'\n",
      "2021-10-23 13:10:19,822 - mmproteo_dense_model: DEBUG: shuffled dataset 'Eval'\n",
      "2021-10-23 13:10:19,823 - mmproteo_dense_model: DEBUG: batched dataset 'Eval'\n",
      "2021-10-23 13:10:19,823 - mmproteo_dense_model: DEBUG: configured prefetching for dataset 'Eval'\n",
      "2021-10-23 13:10:19,823 - mmproteo_dense_model: DEBUG: skipped benchmarking dataset 'Eval'\n",
      "2021-10-23 13:10:19,824 - mmproteo_dense_model: prepared dataset 'Eval'\n"
     ]
    },
    {
     "data": {
      "text/plain": [
       "{'Train': <PrefetchDataset shapes: (((32, 2354), (32, 2354)), ((32, 50),)), types: ((tf.float32, tf.float32), (tf.int8,))>,\n",
       " 'Test': <PrefetchDataset shapes: (((32, 2354), (32, 2354)), ((32, 50),)), types: ((tf.float32, tf.float32), (tf.int8,))>,\n",
       " 'Eval': <PrefetchDataset shapes: (((32, 2354), (32, 2354)), ((32, 50),)), types: ((tf.float32, tf.float32), (tf.int8,))>}"
      ]
     },
     "execution_count": 23,
     "metadata": {},
     "output_type": "execute_result"
    }
   ],
   "source": [
    "datasets = DatasetLoader(\n",
    "    element_spec=element_spec,\n",
    "    batch_size=BATCH_SIZE,\n",
    "    shuffle_buffer_size=100_000,\n",
    "    thread_count=min(int(os.cpu_count()/4), 4),\n",
    "    keep_cache=KEEP_CACHE,\n",
    "    logger=logger,\n",
    "    run_benchmarks=False,\n",
    "    options=ds_options,\n",
    ").load_datasets_by_type(dataset_file_paths)\n",
    "datasets"
   ]
  },
  {
   "cell_type": "markdown",
   "id": "determined-company",
   "metadata": {},
   "source": [
    "## Building the Tensorflow Model"
   ]
  },
  {
   "cell_type": "code",
   "execution_count": 24,
   "id": "5926737a",
   "metadata": {},
   "outputs": [],
   "source": [
    "from tensorflow.python.keras.metrics import MeanMetricWrapper\n",
    "from tensorflow.python.ops import array_ops, math_ops\n",
    "from tensorflow.python.keras import backend\n",
    "from tensorflow.python.framework import ops\n",
    "from tensorflow.python.keras import backend as K"
   ]
  },
  {
   "cell_type": "code",
   "execution_count": 25,
   "id": "f692a656",
   "metadata": {},
   "outputs": [],
   "source": [
    "def jaccard_distance(elem):\n",
    "    i_true, i_pred = elem[0], elem[1]\n",
    "    unique_true, _ = tf.unique(i_true)\n",
    "    unique_pred, _ = tf.unique(i_pred)\n",
    "    n_unique_true = tf.shape(unique_true)[0]\n",
    "    n_unique_pred = tf.shape(unique_pred)[0]\n",
    "    unique_all, _ = tf.unique(tf.concat(values=[unique_true, unique_pred], axis=-1))\n",
    "    n_unique_all = tf.shape(unique_all)[0]\n",
    "    n_overlap = n_unique_true + n_unique_pred - n_unique_all\n",
    "    return n_overlap / n_unique_all\n",
    "\n",
    "def jaccard_batch_distance(y_true, y_pred):\n",
    "    y_pred = ops.convert_to_tensor_v2_with_dispatch(y_pred)\n",
    "    y_true = ops.convert_to_tensor_v2_with_dispatch(y_true)\n",
    "    y_pred_rank = y_pred.shape.ndims\n",
    "    y_true_rank = y_true.shape.ndims\n",
    "    # If the shape of y_true is (num_samples, 1), squeeze to (num_samples,)\n",
    "    if (y_true_rank is not None) and (y_pred_rank is not None) and (len(\n",
    "            backend.int_shape(y_true)) == len(backend.int_shape(y_pred))):\n",
    "        y_true = array_ops.squeeze(y_true, [-1])\n",
    "    y_pred = math_ops.argmax(y_pred, axis=-1)\n",
    "\n",
    "    # If the predicted output and actual output types don't match, force cast them\n",
    "    # to match.\n",
    "    if backend.dtype(y_pred) != backend.dtype(y_true):\n",
    "        y_pred = math_ops.cast(y_pred, backend.dtype(y_true))\n",
    "    \n",
    "    # 0th dimension is the batch\n",
    "    jaccard = tf.map_fn(fn=jaccard_distance, elems=(y_true, y_pred), fn_output_signature=tf.float64)\n",
    "    return math_ops.cast(jaccard, backend.floatx())\n",
    "    \n",
    "\n",
    "class JaccardBatchDistance(MeanMetricWrapper):\n",
    "    def __init__(self, name='jaccard_batch_distance', dtype=None):\n",
    "        super(JaccardBatchDistance, self).__init__(\n",
    "            jaccard_batch_distance, name, dtype=dtype)"
   ]
  },
  {
   "cell_type": "code",
   "execution_count": 26,
   "id": "1f095fbe",
   "metadata": {},
   "outputs": [],
   "source": [
    "def leuvenshtein_sparse_tensor_batch_distance(y_true: tf.sparse.SparseTensor, y_pred: tf.sparse.SparseTensor) -> tf.Tensor:\n",
    "    return tf.edit_distance(\n",
    "        hypothesis=y_pred,\n",
    "        truth=y_true,\n",
    "        normalize=False,\n",
    "    )\n",
    "\n",
    "def leuvenshtein_batch_distance(y_true: tf.Tensor, y_pred: tf.Tensor, sparse_pred: bool = True) -> tf.Tensor:\n",
    "    y_pred = ops.convert_to_tensor_v2_with_dispatch(y_pred)\n",
    "    y_true = ops.convert_to_tensor_v2_with_dispatch(y_true)\n",
    "    \n",
    "    if sparse_pred:\n",
    "        y_pred = math_ops.argmax(y_pred, axis=-1)\n",
    "    \n",
    "    y_pred = tf.sparse.from_dense(y_pred)\n",
    "    y_true = tf.sparse.from_dense(y_true)\n",
    "\n",
    "    # If the predicted output and actual output types don't match, force cast them\n",
    "    # to match.\n",
    "    if backend.dtype(y_pred) != backend.dtype(y_true):\n",
    "        y_pred = math_ops.cast(y_pred, backend.dtype(y_true))\n",
    "    \n",
    "    # 0th dimension is the batch\n",
    "    leuvenshtein = leuvenshtein_sparse_tensor_batch_distance(y_true, y_pred)\n",
    "    return math_ops.cast(leuvenshtein, backend.floatx())\n",
    "    \n",
    "\n",
    "class LeuvenshteinBatchDistance(MeanMetricWrapper):\n",
    "    def __init__(self, name='leuvenshtein_batch_distance', dtype=None):\n",
    "        super(LeuvenshteinBatchDistance, self).__init__(\n",
    "            leuvenshtein_batch_distance, name, dtype=dtype)"
   ]
  },
  {
   "cell_type": "code",
   "execution_count": 27,
   "id": "ce5d17de",
   "metadata": {},
   "outputs": [
    {
     "name": "stdout",
     "output_type": "stream",
     "text": [
      "[<KerasTensor: shape=(None, 2354) dtype=float32 (created by layer 'mz_array')>, <KerasTensor: shape=(None, 2354) dtype=float32 (created by layer 'intensity_array')>]\n",
      "[<KerasTensor: shape=(None, 2354) dtype=float32 (created by layer 'masked_mz_array')>, <KerasTensor: shape=(None, 2354) dtype=float32 (created by layer 'masked_intensity_array')>]\n"
     ]
    }
   ],
   "source": [
    "input_layers_list, masked_input_layers_list = layers.create_masked_input_layers(\n",
    "    [\n",
    "        layers.InputLayerConfiguration(\n",
    "            name=col,\n",
    "            shape=PROCESSING_INFO['padding_lengths'][col],\n",
    "            mask_value=PROCESSING_INFO['padding_characters'][col]\n",
    "        )\n",
    "        for col in PROCESSING_INFO['training_data_columns']\n",
    "    ]\n",
    ")\n",
    "print(input_layers_list)\n",
    "print(masked_input_layers_list)"
   ]
  },
  {
   "cell_type": "raw",
   "id": "6f01bc07",
   "metadata": {},
   "source": [
    "masked_loss = losses.MaskedLoss(\n",
    "    loss_function=tf.keras.losses.sparse_categorical_crossentropy,\n",
    "    masking_value=tf.constant(\n",
    "        value=char_to_idx[PROCESSING_INFO['padding_characters'][SEQ]],\n",
    "        dtype=tf.int8\n",
    "    )\n",
    ")"
   ]
  },
  {
   "cell_type": "code",
   "execution_count": 28,
   "id": "developmental-geneva",
   "metadata": {
    "scrolled": false
   },
   "outputs": [],
   "source": [
    "x = tf.stack(\n",
    "    values=masked_input_layers_list, \n",
    "    axis=-1,\n",
    ")\n",
    "\n",
    "x = tf.keras.layers.Flatten(name=\"flattened_masked_inputs\")(x)\n",
    "\n",
    "for _ in range(4):\n",
    "    x = tf.keras.layers.Dense(2**11)(x)\n",
    "    #x = tf.keras.layers.Dropout(0.1)(x)\n",
    "\n",
    "x = tf.keras.layers.Dense(PROCESSING_INFO['padding_lengths'][SEQ]*len(idx_to_char))(x)\n",
    "\n",
    "x = tf.reshape(x,(-1, PROCESSING_INFO['padding_lengths'][SEQ], len(idx_to_char)))\n",
    "\n",
    "x = tf.keras.activations.softmax(x)\n",
    "\n",
    "model = tf.keras.Model(\n",
    "    inputs=input_layers_list, \n",
    "    outputs=x, \n",
    "    name=f\"mmproteo_dense_{DATA_SOURCE}_{utils.get_current_time_str()}\")\n",
    "model.compile(\n",
    "    optimizer=tf.keras.optimizers.Adam(\n",
    "        learning_rate = 10**-5\n",
    "    ),\n",
    "    loss=tf.keras.losses.SparseCategoricalCrossentropy(),\n",
    "    metrics=[\n",
    "        tf.keras.metrics.SparseCategoricalAccuracy(),\n",
    "        JaccardBatchDistance(),\n",
    "        LeuvenshteinBatchDistance(),\n",
    "    ]\n",
    ")"
   ]
  },
  {
   "cell_type": "code",
   "execution_count": 29,
   "id": "0733efe4",
   "metadata": {},
   "outputs": [
    {
     "data": {
      "text/plain": [
       "'/scratch/mirko.krause/dumps/PXD010000/models/mmproteo_dense_pride_20211023-131020'"
      ]
     },
     "execution_count": 29,
     "metadata": {},
     "output_type": "execute_result"
    }
   ],
   "source": [
    "MODEL_PATH = os.path.join(DUMP_PATH, \"models\", model.name)\n",
    "MODEL_PATH"
   ]
  },
  {
   "cell_type": "code",
   "execution_count": 30,
   "id": "780a890c",
   "metadata": {},
   "outputs": [],
   "source": [
    "utils.ensure_dir_exists(MODEL_PATH)"
   ]
  },
  {
   "cell_type": "code",
   "execution_count": 31,
   "id": "1535da5d",
   "metadata": {},
   "outputs": [
    {
     "data": {
      "image/png": "[encoded data removed]",
      "text/plain": [
       "<IPython.core.display.Image object>"
      ]
     },
     "execution_count": 31,
     "metadata": {},
     "output_type": "execute_result"
    }
   ],
   "source": [
    "tf.keras.utils.plot_model(\n",
    "    model=model,\n",
    "    to_file=os.path.join(MODEL_PATH, \"model.png\"),\n",
    "    show_shapes=True\n",
    ")"
   ]
  },
  {
   "cell_type": "code",
   "execution_count": 32,
   "id": "6584fb57",
   "metadata": {},
   "outputs": [
    {
     "name": "stdout",
     "output_type": "stream",
     "text": [
      "Model: \"mmproteo_dense_pride_20211023-131020\"\n",
      "__________________________________________________________________________________________________\n",
      "Layer (type)                    Output Shape         Param #     Connected to                     \n",
      "==================================================================================================\n",
      "mz_array (InputLayer)           [(None, 2354)]       0                                            \n",
      "__________________________________________________________________________________________________\n",
      "intensity_array (InputLayer)    [(None, 2354)]       0                                            \n",
      "__________________________________________________________________________________________________\n",
      "masked_mz_array (Masking)       (None, 2354)         0           mz_array[0][0]                   \n",
      "__________________________________________________________________________________________________\n",
      "masked_intensity_array (Masking (None, 2354)         0           intensity_array[0][0]            \n",
      "__________________________________________________________________________________________________\n",
      "tf.stack (TFOpLambda)           (None, 2354, 2)      0           masked_mz_array[0][0]            \n",
      "                                                                 masked_intensity_array[0][0]     \n",
      "__________________________________________________________________________________________________\n",
      "flattened_masked_inputs (Flatte (None, 4708)         0           tf.stack[0][0]                   \n",
      "__________________________________________________________________________________________________\n",
      "dense (Dense)                   (None, 2048)         9644032     flattened_masked_inputs[0][0]    \n",
      "__________________________________________________________________________________________________\n",
      "dense_1 (Dense)                 (None, 2048)         4196352     dense[0][0]                      \n",
      "__________________________________________________________________________________________________\n",
      "dense_2 (Dense)                 (None, 2048)         4196352     dense_1[0][0]                    \n",
      "__________________________________________________________________________________________________\n",
      "dense_3 (Dense)                 (None, 2048)         4196352     dense_2[0][0]                    \n",
      "__________________________________________________________________________________________________\n",
      "dense_4 (Dense)                 (None, 1150)         2356350     dense_3[0][0]                    \n",
      "__________________________________________________________________________________________________\n",
      "tf.reshape (TFOpLambda)         (None, 50, 23)       0           dense_4[0][0]                    \n",
      "__________________________________________________________________________________________________\n",
      "tf.math.reduce_max (TFOpLambda) (None, 50, 1)        0           tf.reshape[0][0]                 \n",
      "__________________________________________________________________________________________________\n",
      "tf.math.subtract (TFOpLambda)   (None, 50, 23)       0           tf.reshape[0][0]                 \n",
      "                                                                 tf.math.reduce_max[0][0]         \n",
      "__________________________________________________________________________________________________\n",
      "tf.math.exp (TFOpLambda)        (None, 50, 23)       0           tf.math.subtract[0][0]           \n",
      "__________________________________________________________________________________________________\n",
      "tf.math.reduce_sum (TFOpLambda) (None, 50, 1)        0           tf.math.exp[0][0]                \n",
      "__________________________________________________________________________________________________\n",
      "tf.math.truediv (TFOpLambda)    (None, 50, 23)       0           tf.math.exp[0][0]                \n",
      "                                                                 tf.math.reduce_sum[0][0]         \n",
      "==================================================================================================\n",
      "Total params: 24,589,438\n",
      "Trainable params: 24,589,438\n",
      "Non-trainable params: 0\n",
      "__________________________________________________________________________________________________\n"
     ]
    }
   ],
   "source": [
    "with open(os.path.join(MODEL_PATH, \"summary.txt\"), 'w') as file:\n",
    "    def write_lines(line: str) -> None:\n",
    "        file.write(line)\n",
    "        file.write(\"\\n\")\n",
    "    model.summary(print_fn=write_lines)\n",
    "model.summary()"
   ]
  },
  {
   "cell_type": "code",
   "execution_count": 33,
   "id": "c43df6f0",
   "metadata": {},
   "outputs": [],
   "source": [
    "with open(os.path.join(MODEL_PATH, \"model.json\"), 'w') as file:\n",
    "    file.write(model.to_json())"
   ]
  },
  {
   "cell_type": "code",
   "execution_count": 34,
   "id": "87b3a6d7",
   "metadata": {},
   "outputs": [],
   "source": [
    "with open(os.path.join(MODEL_PATH, \"model.yaml\"), 'w') as file:\n",
    "    file.write(model.to_yaml())"
   ]
  },
  {
   "cell_type": "markdown",
   "id": "beautiful-queue",
   "metadata": {},
   "source": [
    "## Training the Tensorflow Model"
   ]
  },
  {
   "cell_type": "raw",
   "id": "0bacc847",
   "metadata": {},
   "source": [
    "# Load the TensorBoard notebook extension\n",
    "%load_ext tensorboard"
   ]
  },
  {
   "cell_type": "raw",
   "id": "98cbfbaa",
   "metadata": {
    "scrolled": true
   },
   "source": [
    "%tensorboard --logdir $TENSORBOARD_LOG_DIR --bind_all"
   ]
  },
  {
   "cell_type": "code",
   "execution_count": 35,
   "id": "838ec224",
   "metadata": {},
   "outputs": [
    {
     "data": {
      "text/plain": [
       "[<tensorflow.python.keras.callbacks.TensorBoard at 0x7f2177afea90>,\n",
       " <tensorflow.python.keras.callbacks.CSVLogger at 0x7f2177afd7c0>]"
      ]
     },
     "execution_count": 35,
     "metadata": {},
     "output_type": "execute_result"
    }
   ],
   "source": [
    "callback_list = callbacks.create_callbacks(\n",
    "            tensorboard=True,\n",
    "            progressbar=False,\n",
    "            reduce_lr=False,\n",
    "            early_stopping=False,\n",
    "            checkpoints=False,\n",
    "            csv=True,\n",
    "            base_path=MODEL_PATH,\n",
    ")\n",
    "callback_list"
   ]
  },
  {
   "cell_type": "code",
   "execution_count": 36,
   "id": "cab67752",
   "metadata": {},
   "outputs": [],
   "source": [
    "training_dataset = datasets[TRAIN_TYPE].repeat()\n",
    "validation_dataset = datasets[TEST_TYPE].repeat()"
   ]
  },
  {
   "cell_type": "code",
   "execution_count": 37,
   "id": "be865aed",
   "metadata": {},
   "outputs": [],
   "source": [
    "STEPS_PER_EPOCH = 5_000"
   ]
  },
  {
   "cell_type": "code",
   "execution_count": 38,
   "id": "funded-commons",
   "metadata": {
    "scrolled": false
   },
   "outputs": [
    {
     "name": "stdout",
     "output_type": "stream",
     "text": [
      "Epoch 1/100\n",
      "5000/5000 [==============================] - 176s 17ms/step - loss: 7.2873 - sparse_categorical_accuracy: 0.5473 - jaccard_batch_distance: 0.4598 - leuvenshtein_batch_distance: 16.9397 - val_loss: 6.7107 - val_sparse_categorical_accuracy: 0.5837 - val_jaccard_batch_distance: 0.4064 - val_leuvenshtein_batch_distance: 15.2564\n",
      "Epoch 2/100\n",
      "5000/5000 [==============================] - 87s 17ms/step - loss: 6.5571 - sparse_categorical_accuracy: 0.5932 - jaccard_batch_distance: 0.4304 - leuvenshtein_batch_distance: 14.6619 - val_loss: 6.7258 - val_sparse_categorical_accuracy: 0.5827 - val_jaccard_batch_distance: 0.4061 - val_leuvenshtein_batch_distance: 15.2931\n",
      "Epoch 3/100\n",
      "5000/5000 [==============================] - 83s 17ms/step - loss: 6.7904 - sparse_categorical_accuracy: 0.5787 - jaccard_batch_distance: 0.4411 - leuvenshtein_batch_distance: 15.7005 - val_loss: 6.7612 - val_sparse_categorical_accuracy: 0.5805 - val_jaccard_batch_distance: 0.4513 - val_leuvenshtein_batch_distance: 16.0195\n",
      "Epoch 4/100\n",
      "5000/5000 [==============================] - 81s 16ms/step - loss: 6.8754 - sparse_categorical_accuracy: 0.5734 - jaccard_batch_distance: 0.4681 - leuvenshtein_batch_distance: 16.1114 - val_loss: 6.7906 - val_sparse_categorical_accuracy: 0.5787 - val_jaccard_batch_distance: 0.4511 - val_leuvenshtein_batch_distance: 16.0876\n",
      "Epoch 5/100\n",
      "5000/5000 [==============================] - 86s 17ms/step - loss: 6.5034 - sparse_categorical_accuracy: 0.5965 - jaccard_batch_distance: 0.4722 - leuvenshtein_batch_distance: 15.2647 - val_loss: 6.7870 - val_sparse_categorical_accuracy: 0.5789 - val_jaccard_batch_distance: 0.4522 - val_leuvenshtein_batch_distance: 16.0626\n",
      "Epoch 6/100\n",
      "5000/5000 [==============================] - 83s 17ms/step - loss: 6.9364 - sparse_categorical_accuracy: 0.5696 - jaccard_batch_distance: 0.4704 - leuvenshtein_batch_distance: 16.2630 - val_loss: 6.7925 - val_sparse_categorical_accuracy: 0.5786 - val_jaccard_batch_distance: 0.4519 - val_leuvenshtein_batch_distance: 16.0829\n",
      "Epoch 9/100\n",
      "5000/5000 [==============================] - 85s 17ms/step - loss: 6.8679 - sparse_categorical_accuracy: 0.5739 - jaccard_batch_distance: 0.4650 - leuvenshtein_batch_distance: 16.1199 - val_loss: 6.7663 - val_sparse_categorical_accuracy: 0.5802 - val_jaccard_batch_distance: 0.4508 - val_leuvenshtein_batch_distance: 16.0260\n",
      "Epoch 10/100\n",
      "2791/5000 [===============>..............] - ETA: 29s - loss: 7.0464 - sparse_categorical_accuracy: 0.5628 - jaccard_batch_distance: 0.4811 - leuvenshtein_batch_distance: 16.3592"
     ]
    },
    {
     "name": "stderr",
     "output_type": "stream",
     "text": [
      "IOPub data rate exceeded.\n",
      "The notebook server will temporarily stop sending output\n",
      "to the client in order to avoid crashing it.\n",
      "To change this limit, set the config variable\n",
      "`--NotebookApp.iopub_data_rate_limit`.\n",
      "\n",
      "Current values:\n",
      "NotebookApp.iopub_data_rate_limit=1000000.0 (bytes/sec)\n",
      "NotebookApp.rate_limit_window=3.0 (secs)\n",
      "\n"
     ]
    },
    {
     "name": "stdout",
     "output_type": "stream",
     "text": [
      "5000/5000 [==============================] - 91s 18ms/step - loss: 6.6370 - sparse_categorical_accuracy: 0.5882 - jaccard_batch_distance: 0.5012 - leuvenshtein_batch_distance: 15.6523 - val_loss: 6.4885 - val_sparse_categorical_accuracy: 0.5974 - val_jaccard_batch_distance: 0.4516 - val_leuvenshtein_batch_distance: 15.7111\n",
      "Epoch 21/100\n",
      "5000/5000 [==============================] - 92s 18ms/step - loss: 6.5324 - sparse_categorical_accuracy: 0.5947 - jaccard_batch_distance: 0.4931 - leuvenshtein_batch_distance: 15.3976 - val_loss: 6.4581 - val_sparse_categorical_accuracy: 0.5993 - val_jaccard_batch_distance: 0.4505 - val_leuvenshtein_batch_distance: 15.6301\n",
      "Epoch 22/100\n",
      "2720/5000 [===============>..............] - ETA: 35s - loss: 6.4481 - sparse_categorical_accuracy: 0.5999 - jaccard_batch_distance: 0.4787 - leuvenshtein_batch_distance: 15.3066"
     ]
    },
    {
     "name": "stderr",
     "output_type": "stream",
     "text": [
      "IOPub data rate exceeded.\n",
      "The notebook server will temporarily stop sending output\n",
      "to the client in order to avoid crashing it.\n",
      "To change this limit, set the config variable\n",
      "`--NotebookApp.iopub_data_rate_limit`.\n",
      "\n",
      "Current values:\n",
      "NotebookApp.iopub_data_rate_limit=1000000.0 (bytes/sec)\n",
      "NotebookApp.rate_limit_window=3.0 (secs)\n",
      "\n"
     ]
    },
    {
     "name": "stdout",
     "output_type": "stream",
     "text": [
      "5000/5000 [==============================] - 94s 19ms/step - loss: 6.4697 - sparse_categorical_accuracy: 0.5986 - jaccard_batch_distance: 0.4629 - leuvenshtein_batch_distance: 15.5199 - val_loss: 6.4757 - val_sparse_categorical_accuracy: 0.5982 - val_jaccard_batch_distance: 0.4513 - val_leuvenshtein_batch_distance: 15.6755\n",
      "Epoch 32/100\n",
      "5000/5000 [==============================] - 94s 19ms/step - loss: 6.6097 - sparse_categorical_accuracy: 0.5899 - jaccard_batch_distance: 0.4717 - leuvenshtein_batch_distance: 15.8176 - val_loss: 6.4661 - val_sparse_categorical_accuracy: 0.5988 - val_jaccard_batch_distance: 0.4509 - val_leuvenshtein_batch_distance: 15.6606\n",
      "Epoch 33/100\n",
      "5000/5000 [==============================] - 93s 19ms/step - loss: 6.1341 - sparse_categorical_accuracy: 0.6194 - jaccard_batch_distance: 0.4686 - leuvenshtein_batch_distance: 14.6866 - val_loss: 6.4721 - val_sparse_categorical_accuracy: 0.5985 - val_jaccard_batch_distance: 0.4503 - val_leuvenshtein_batch_distance: 15.6726\n",
      "Epoch 34/100\n",
      " 764/5000 [===>..........................] - ETA: 1:06 - loss: 6.4938 - sparse_categorical_accuracy: 0.5971 - jaccard_batch_distance: 0.4753 - leuvenshtein_batch_distance: 15.3712"
     ]
    },
    {
     "name": "stderr",
     "output_type": "stream",
     "text": [
      "IOPub data rate exceeded.\n",
      "The notebook server will temporarily stop sending output\n",
      "to the client in order to avoid crashing it.\n",
      "To change this limit, set the config variable\n",
      "`--NotebookApp.iopub_data_rate_limit`.\n",
      "\n",
      "Current values:\n",
      "NotebookApp.iopub_data_rate_limit=1000000.0 (bytes/sec)\n",
      "NotebookApp.rate_limit_window=3.0 (secs)\n",
      "\n"
     ]
    },
    {
     "name": "stdout",
     "output_type": "stream",
     "text": [
      "5000/5000 [==============================] - 91s 18ms/step - loss: 6.6289 - sparse_categorical_accuracy: 0.5887 - jaccard_batch_distance: 0.4845 - leuvenshtein_batch_distance: 15.7490 - val_loss: 6.4870 - val_sparse_categorical_accuracy: 0.5975 - val_jaccard_batch_distance: 0.4513 - val_leuvenshtein_batch_distance: 15.6972\n",
      "Epoch 44/100\n",
      "5000/5000 [==============================] - 93s 19ms/step - loss: 6.6837 - sparse_categorical_accuracy: 0.5853 - jaccard_batch_distance: 0.4931 - leuvenshtein_batch_distance: 15.7421 - val_loss: 6.4695 - val_sparse_categorical_accuracy: 0.5986 - val_jaccard_batch_distance: 0.4513 - val_leuvenshtein_batch_distance: 15.6608\n",
      "Epoch 45/100\n",
      "5000/5000 [==============================] - 93s 19ms/step - loss: 6.6473 - sparse_categorical_accuracy: 0.5876 - jaccard_batch_distance: 0.5287 - leuvenshtein_batch_distance: 15.4230 - val_loss: 6.4683 - val_sparse_categorical_accuracy: 0.5987 - val_jaccard_batch_distance: 0.4511 - val_leuvenshtein_batch_distance: 15.6667\n",
      "Epoch 46/100\n",
      " 365/5000 [=>............................] - ETA: 1:10 - loss: 6.7729 - sparse_categorical_accuracy: 0.5798 - jaccard_batch_distance: 0.5339 - leuvenshtein_batch_distance: 15.7167"
     ]
    },
    {
     "name": "stderr",
     "output_type": "stream",
     "text": [
      "IOPub data rate exceeded.\n",
      "The notebook server will temporarily stop sending output\n",
      "to the client in order to avoid crashing it.\n",
      "To change this limit, set the config variable\n",
      "`--NotebookApp.iopub_data_rate_limit`.\n",
      "\n",
      "Current values:\n",
      "NotebookApp.iopub_data_rate_limit=1000000.0 (bytes/sec)\n",
      "NotebookApp.rate_limit_window=3.0 (secs)\n",
      "\n"
     ]
    },
    {
     "name": "stdout",
     "output_type": "stream",
     "text": [
      "5000/5000 [==============================] - 91s 18ms/step - loss: 6.2520 - sparse_categorical_accuracy: 0.6121 - jaccard_batch_distance: 0.4540 - leuvenshtein_batch_distance: 15.0914 - val_loss: 6.4672 - val_sparse_categorical_accuracy: 0.5988 - val_jaccard_batch_distance: 0.4514 - val_leuvenshtein_batch_distance: 15.6579\n",
      "Epoch 56/100\n",
      "5000/5000 [==============================] - 91s 18ms/step - loss: 6.6189 - sparse_categorical_accuracy: 0.5894 - jaccard_batch_distance: 0.4640 - leuvenshtein_batch_distance: 15.8709 - val_loss: 6.4597 - val_sparse_categorical_accuracy: 0.5992 - val_jaccard_batch_distance: 0.4510 - val_leuvenshtein_batch_distance: 15.6476\n",
      "Epoch 57/100\n",
      "4679/5000 [===========================>..] - ETA: 4s - loss: 6.2721 - sparse_categorical_accuracy: 0.6109 - jaccard_batch_distance: 0.4891 - leuvenshtein_batch_distance: 14.8509"
     ]
    },
    {
     "name": "stderr",
     "output_type": "stream",
     "text": [
      "IOPub data rate exceeded.\n",
      "The notebook server will temporarily stop sending output\n",
      "to the client in order to avoid crashing it.\n",
      "To change this limit, set the config variable\n",
      "`--NotebookApp.iopub_data_rate_limit`.\n",
      "\n",
      "Current values:\n",
      "NotebookApp.iopub_data_rate_limit=1000000.0 (bytes/sec)\n",
      "NotebookApp.rate_limit_window=3.0 (secs)\n",
      "\n"
     ]
    },
    {
     "name": "stdout",
     "output_type": "stream",
     "text": [
      "5000/5000 [==============================] - 92s 18ms/step - loss: 6.1419 - sparse_categorical_accuracy: 0.6189 - jaccard_batch_distance: 0.4678 - leuvenshtein_batch_distance: 14.6824 - val_loss: 6.4546 - val_sparse_categorical_accuracy: 0.5995 - val_jaccard_batch_distance: 0.4507 - val_leuvenshtein_batch_distance: 15.6312\n",
      "Epoch 62/100\n",
      "5000/5000 [==============================] - 91s 18ms/step - loss: 6.5090 - sparse_categorical_accuracy: 0.5962 - jaccard_batch_distance: 0.4838 - leuvenshtein_batch_distance: 15.3876 - val_loss: 6.4712 - val_sparse_categorical_accuracy: 0.5985 - val_jaccard_batch_distance: 0.4509 - val_leuvenshtein_batch_distance: 15.6626\n",
      "Epoch 63/100\n",
      "5000/5000 [==============================] - 89s 18ms/step - loss: 6.5686 - sparse_categorical_accuracy: 0.5925 - jaccard_batch_distance: 0.4794 - leuvenshtein_batch_distance: 15.6784 - val_loss: 6.4720 - val_sparse_categorical_accuracy: 0.5985 - val_jaccard_batch_distance: 0.4514 - val_leuvenshtein_batch_distance: 15.6693\n",
      "Epoch 64/100\n",
      "5000/5000 [==============================] - 90s 18ms/step - loss: 6.6475 - sparse_categorical_accuracy: 0.5876 - jaccard_batch_distance: 0.4685 - leuvenshtein_batch_distance: 15.9652 - val_loss: 6.4565 - val_sparse_categorical_accuracy: 0.5994 - val_jaccard_batch_distance: 0.4509 - val_leuvenshtein_batch_distance: 15.6332\n",
      "Epoch 65/100\n",
      "5000/5000 [==============================] - 91s 18ms/step - loss: 6.5713 - sparse_categorical_accuracy: 0.5923 - jaccard_batch_distance: 0.4671 - leuvenshtein_batch_distance: 15.7464 - val_loss: 6.4712 - val_sparse_categorical_accuracy: 0.5985 - val_jaccard_batch_distance: 0.4517 - val_leuvenshtein_batch_distance: 15.6638\n",
      "Epoch 66/100\n",
      "5000/5000 [==============================] - 92s 18ms/step - loss: 6.7051 - sparse_categorical_accuracy: 0.5840 - jaccard_batch_distance: 0.4828 - leuvenshtein_batch_distance: 15.9865 - val_loss: 6.4776 - val_sparse_categorical_accuracy: 0.5981 - val_jaccard_batch_distance: 0.4518 - val_leuvenshtein_batch_distance: 15.6842\n",
      "Epoch 67/100\n",
      "5000/5000 [==============================] - 92s 18ms/step - loss: 6.3810 - sparse_categorical_accuracy: 0.6041 - jaccard_batch_distance: 0.4814 - leuvenshtein_batch_distance: 15.2180 - val_loss: 6.4742 - val_sparse_categorical_accuracy: 0.5983 - val_jaccard_batch_distance: 0.4513 - val_leuvenshtein_batch_distance: 15.6745\n",
      "Epoch 68/100\n",
      "5000/5000 [==============================] - 86s 17ms/step - loss: 6.1897 - sparse_categorical_accuracy: 0.6160 - jaccard_batch_distance: 0.4558 - leuvenshtein_batch_distance: 14.9603 - val_loss: 6.4706 - val_sparse_categorical_accuracy: 0.5985 - val_jaccard_batch_distance: 0.4511 - val_leuvenshtein_batch_distance: 15.6528\n",
      "Epoch 69/100\n",
      "5000/5000 [==============================] - 91s 18ms/step - loss: 6.5899 - sparse_categorical_accuracy: 0.5911 - jaccard_batch_distance: 0.4750 - leuvenshtein_batch_distance: 15.7453 - val_loss: 6.4777 - val_sparse_categorical_accuracy: 0.5981 - val_jaccard_batch_distance: 0.4520 - val_leuvenshtein_batch_distance: 15.6711\n",
      "Epoch 71/100\n",
      "5000/5000 [==============================] - 88s 18ms/step - loss: 6.6741 - sparse_categorical_accuracy: 0.5859 - jaccard_batch_distance: 0.4880 - leuvenshtein_batch_distance: 15.8270 - val_loss: 6.4765 - val_sparse_categorical_accuracy: 0.5982 - val_jaccard_batch_distance: 0.4506 - val_leuvenshtein_batch_distance: 15.6841\n",
      "Epoch 72/100\n",
      "4884/5000 [============================>.] - ETA: 1s - loss: 6.6720 - sparse_categorical_accuracy: 0.5861 - jaccard_batch_distance: 0.4957 - leuvenshtein_batch_distance: 15.6936"
     ]
    },
    {
     "name": "stderr",
     "output_type": "stream",
     "text": [
      "IOPub data rate exceeded.\n",
      "The notebook server will temporarily stop sending output\n",
      "to the client in order to avoid crashing it.\n",
      "To change this limit, set the config variable\n",
      "`--NotebookApp.iopub_data_rate_limit`.\n",
      "\n",
      "Current values:\n",
      "NotebookApp.iopub_data_rate_limit=1000000.0 (bytes/sec)\n",
      "NotebookApp.rate_limit_window=3.0 (secs)\n",
      "\n"
     ]
    },
    {
     "name": "stdout",
     "output_type": "stream",
     "text": [
      "5000/5000 [==============================] - 90s 18ms/step - loss: 6.1881 - sparse_categorical_accuracy: 0.6161 - jaccard_batch_distance: 0.4538 - leuvenshtein_batch_distance: 14.9052 - val_loss: 6.4866 - val_sparse_categorical_accuracy: 0.5976 - val_jaccard_batch_distance: 0.4520 - val_leuvenshtein_batch_distance: 15.7100\n",
      "Epoch 83/100\n",
      "5000/5000 [==============================] - 89s 18ms/step - loss: 6.2592 - sparse_categorical_accuracy: 0.6117 - jaccard_batch_distance: 0.4554 - leuvenshtein_batch_distance: 15.0857 - val_loss: 6.4521 - val_sparse_categorical_accuracy: 0.5997 - val_jaccard_batch_distance: 0.4504 - val_leuvenshtein_batch_distance: 15.6222\n",
      "Epoch 84/100\n",
      "4500/5000 [==========================>...] - ETA: 7s - loss: 6.6308 - sparse_categorical_accuracy: 0.5886 - jaccard_batch_distance: 0.4651 - leuvenshtein_batch_distance: 15.9014"
     ]
    },
    {
     "name": "stderr",
     "output_type": "stream",
     "text": [
      "IOPub data rate exceeded.\n",
      "The notebook server will temporarily stop sending output\n",
      "to the client in order to avoid crashing it.\n",
      "To change this limit, set the config variable\n",
      "`--NotebookApp.iopub_data_rate_limit`.\n",
      "\n",
      "Current values:\n",
      "NotebookApp.iopub_data_rate_limit=1000000.0 (bytes/sec)\n",
      "NotebookApp.rate_limit_window=3.0 (secs)\n",
      "\n"
     ]
    },
    {
     "name": "stdout",
     "output_type": "stream",
     "text": [
      "5000/5000 [==============================] - 92s 18ms/step - loss: 6.6030 - sparse_categorical_accuracy: 0.5903 - jaccard_batch_distance: 0.4819 - leuvenshtein_batch_distance: 15.7677 - val_loss: 6.4605 - val_sparse_categorical_accuracy: 0.5992 - val_jaccard_batch_distance: 0.4496 - val_leuvenshtein_batch_distance: 15.6574\n",
      "Epoch 95/100\n",
      "5000/5000 [==============================] - 89s 18ms/step - loss: 6.3648 - sparse_categorical_accuracy: 0.6051 - jaccard_batch_distance: 0.4805 - leuvenshtein_batch_distance: 15.1985 - val_loss: 6.4660 - val_sparse_categorical_accuracy: 0.5988 - val_jaccard_batch_distance: 0.4500 - val_leuvenshtein_batch_distance: 15.6645\n",
      "Epoch 96/100\n",
      "2779/5000 [===============>..............] - ETA: 33s - loss: 6.2031 - sparse_categorical_accuracy: 0.6151 - jaccard_batch_distance: 0.4552 - leuvenshtein_batch_distance: 15.0044"
     ]
    },
    {
     "name": "stderr",
     "output_type": "stream",
     "text": [
      "IOPub data rate exceeded.\n",
      "The notebook server will temporarily stop sending output\n",
      "to the client in order to avoid crashing it.\n",
      "To change this limit, set the config variable\n",
      "`--NotebookApp.iopub_data_rate_limit`.\n",
      "\n",
      "Current values:\n",
      "NotebookApp.iopub_data_rate_limit=1000000.0 (bytes/sec)\n",
      "NotebookApp.rate_limit_window=3.0 (secs)\n",
      "\n"
     ]
    }
   ],
   "source": [
    "model.fit(\n",
    "    x=training_dataset,\n",
    "    validation_data=validation_dataset, \n",
    "    validation_steps=STEPS_PER_EPOCH // 5,\n",
    "    epochs=100,\n",
    "    steps_per_epoch=STEPS_PER_EPOCH,\n",
    "    callbacks=callback_list,\n",
    ")"
   ]
  },
  {
   "cell_type": "markdown",
   "id": "spatial-laser",
   "metadata": {},
   "source": [
    "## Evaluating the Tensorflow Model"
   ]
  },
  {
   "cell_type": "code",
   "execution_count": 39,
   "id": "34260187",
   "metadata": {},
   "outputs": [],
   "source": [
    "decode_idx: Callable[[np.ndarray], np.ndarray] = np.vectorize(idx_to_char.get)\n",
    "\n",
    "eval_evaluator = evaluation.SequenceEvaluator(\n",
    "    dataset=datasets[EVAL_TYPE],\n",
    "    decode_func=decode_idx,\n",
    "    batch_size=BATCH_SIZE,\n",
    "    separator=\" \",\n",
    "    padding_character=PROCESSING_INFO['padding_characters'][SEQ],\n",
    ")\n",
    "\n",
    "train_evaluator = evaluation.SequenceEvaluator(\n",
    "    dataset=datasets[TRAIN_TYPE],\n",
    "    decode_func=decode_idx,\n",
    "    batch_size=BATCH_SIZE,\n",
    "    separator=\" \",\n",
    "    padding_character=PROCESSING_INFO['padding_characters'][SEQ],\n",
    ")"
   ]
  },
  {
   "cell_type": "code",
   "execution_count": 40,
   "id": "5a30b848",
   "metadata": {},
   "outputs": [
    {
     "name": "stdout",
     "output_type": "stream",
     "text": [
      "1250/1250 [==============================] - 18s 13ms/step - loss: 6.0403 - sparse_categorical_accuracy: 0.6252 - jaccard_batch_distance: 0.4833 - leuvenshtein_batch_distance: 14.3500\n"
     ]
    },
    {
     "data": {
      "text/plain": [
       "[6.040292739868164, 0.6252480149269104, 0.4833381474018097, 14.350025177001953]"
      ]
     },
     "execution_count": 40,
     "metadata": {},
     "output_type": "execute_result"
    }
   ],
   "source": [
    "train_evaluator.evaluate_model(model)"
   ]
  },
  {
   "cell_type": "code",
   "execution_count": 41,
   "id": "853dc8ab",
   "metadata": {},
   "outputs": [
    {
     "data": {
      "text/html": [
       "<div>\n",
       "<style scoped>\n",
       "    .dataframe tbody tr th:only-of-type {\n",
       "        vertical-align: middle;\n",
       "    }\n",
       "\n",
       "    .dataframe tbody tr th {\n",
       "        vertical-align: top;\n",
       "    }\n",
       "\n",
       "    .dataframe thead th {\n",
       "        text-align: right;\n",
       "    }\n",
       "</style>\n",
       "<table border=\"1\" class=\"dataframe\">\n",
       "  <thead>\n",
       "    <tr style=\"text-align: right;\">\n",
       "      <th></th>\n",
       "      <th>predicted</th>\n",
       "      <th>true</th>\n",
       "    </tr>\n",
       "  </thead>\n",
       "  <tbody>\n",
       "    <tr>\n",
       "      <th>0</th>\n",
       "      <td>A V T P S V A A T Y D _ _ _ _ _ R _ _ _ _ _ _ G _ _ _ _ _ _ _ E _ _ _ _ _ _ _ _ _ _ _ _ R _ _ _ _ _</td>\n",
       "      <td>S V P P H E L I S S I R _ _ _ _ _ _ _ _ _ _ _ _ _ _ _ _ _ _ _ _ _ _ _ _ _ _ _ _ _ _ _ _ _ _ _ _ _ _</td>\n",
       "    </tr>\n",
       "    <tr>\n",
       "      <th>1</th>\n",
       "      <td>A V T P S V A A T Y D _ _ _ _ _ R _ _ _ _ _ _ G _ _ _ _ _ _ _ E _ _ _ _ _ _ _ _ _ _ _ _ R _ _ _ _ _</td>\n",
       "      <td>D P A Q E T W V G Y R _ _ _ _ _ _ _ _ _ _ _ _ _ _ _ _ _ _ _ _ _ _ _ _ _ _ _ _ _ _ _ _ _ _ _ _ _ _ _</td>\n",
       "    </tr>\n",
       "    <tr>\n",
       "      <th>2</th>\n",
       "      <td>A V T P S V A A T Y D _ _ _ _ _ R _ _ _ _ _ _ G _ _ _ _ _ _ _ E _ _ _ _ _ _ _ _ _ _ _ _ R _ _ _ _ _</td>\n",
       "      <td>A A I A Q A Q T Q F G L P S T G R P D S A T F K _ _ _ _ _ _ _ _ _ _ _ _ _ _ _ _ _ _ _ _ _ _ _ _ _ _</td>\n",
       "    </tr>\n",
       "    <tr>\n",
       "      <th>3</th>\n",
       "      <td>A V T P S V A A T Y D _ _ _ _ _ R _ _ _ _ _ _ G _ _ _ _ _ _ _ E _ _ _ _ _ _ _ _ _ _ _ _ R _ _ _ _ _</td>\n",
       "      <td>L R P H V V D S S L T I D E A W R _ _ _ _ _ _ _ _ _ _ _ _ _ _ _ _ _ _ _ _ _ _ _ _ _ _ _ _ _ _ _ _ _</td>\n",
       "    </tr>\n",
       "    <tr>\n",
       "      <th>4</th>\n",
       "      <td>A V T P S V A A T Y D _ _ _ _ _ R _ _ _ _ _ _ G _ _ _ _ _ _ _ E _ _ _ _ _ _ _ _ _ _ _ _ R _ _ _ _ _</td>\n",
       "      <td>F S H P H L E T V G P K _ _ _ _ _ _ _ _ _ _ _ _ _ _ _ _ _ _ _ _ _ _ _ _ _ _ _ _ _ _ _ _ _ _ _ _ _ _</td>\n",
       "    </tr>\n",
       "    <tr>\n",
       "      <th>5</th>\n",
       "      <td>A V T P S V A A T Y D _ _ _ _ _ R _ _ _ _ _ _ G _ _ _ _ _ _ _ E _ _ _ _ _ _ _ _ _ _ _ _ R _ _ _ _ _</td>\n",
       "      <td>T L E H L A S T K _ _ _ _ _ _ _ _ _ _ _ _ _ _ _ _ _ _ _ _ _ _ _ _ _ _ _ _ _ _ _ _ _ _ _ _ _ _ _ _ _</td>\n",
       "    </tr>\n",
       "    <tr>\n",
       "      <th>6</th>\n",
       "      <td>A V T P S V A A T Y D _ _ _ _ _ R _ _ _ _ _ _ G _ _ _ _ _ _ _ E _ _ _ _ _ _ _ _ _ _ _ _ R _ _ _ _ _</td>\n",
       "      <td>E G D L V V M T A G T L P G V S G S T D L V K _ _ _ _ _ _ _ _ _ _ _ _ _ _ _ _ _ _ _ _ _ _ _ _ _ _ _</td>\n",
       "    </tr>\n",
       "    <tr>\n",
       "      <th>7</th>\n",
       "      <td>A V T P S V A A T Y D _ _ _ _ _ R _ _ _ _ _ _ G _ _ _ _ _ _ _ E _ _ _ _ _ _ _ _ _ _ _ _ R _ _ _ _ _</td>\n",
       "      <td>I D M S E Y M(Oxidation) E K _ _ _ _ _ _ _ _ _ _ _ _ _ _ _ _ _ _ _ _ _ _ _ _ _ _ _ _ _ _ _ _ _ _ _</td>\n",
       "    </tr>\n",
       "    <tr>\n",
       "      <th>8</th>\n",
       "      <td>A V T P S V A A T Y D _ _ _ _ _ R _ _ _ _ _ _ G _ _ _ _ _ _ _ E _ _ _ _ _ _ _ _ _ _ _ _ R _ _ _ _ _</td>\n",
       "      <td>S M G S A T A V N M V R _ _ _ _ _ _ _ _ _ _ _ _ _ _ _ _ _ _ _ _ _ _ _ _ _ _ _ _ _ _ _ _ _ _ _ _ _ _</td>\n",
       "    </tr>\n",
       "    <tr>\n",
       "      <th>9</th>\n",
       "      <td>A V T P S V A A T Y D _ _ _ _ _ R _ _ _ _ _ _ G _ _ _ _ _ _ _ E _ _ _ _ _ _ _ _ _ _ _ _ R _ _ _ _ _</td>\n",
       "      <td>T Q L D Q Q A G Q V D T L K R _ _ _ _ _ _ _ _ _ _ _ _ _ _ _ _ _ _ _ _ _ _ _ _ _ _ _ _ _ _ _ _ _ _ _</td>\n",
       "    </tr>\n",
       "    <tr>\n",
       "      <th>10</th>\n",
       "      <td>A V T P S V A A T Y D _ _ _ _ _ R _ _ _ _ _ _ G _ _ _ _ _ _ _ E _ _ _ _ _ _ _ _ _ _ _ _ R _ _ _ _ _</td>\n",
       "      <td>G G T E I A F G D Y G I Q A L A P A Y V T N R _ _ _ _ _ _ _ _ _ _ _ _ _ _ _ _ _ _ _ _ _ _ _ _ _ _ _</td>\n",
       "    </tr>\n",
       "    <tr>\n",
       "      <th>11</th>\n",
       "      <td>A V T P S V A A T Y D _ _ _ _ _ R _ _ _ _ _ _ G _ _ _ _ _ _ _ E _ _ _ _ _ _ _ _ _ _ _ _ R _ _ _ _ _</td>\n",
       "      <td>D A N I S V S D I D H V V L V G G S T R _ _ _ _ _ _ _ _ _ _ _ _ _ _ _ _ _ _ _ _ _ _ _ _ _ _ _ _ _ _</td>\n",
       "    </tr>\n",
       "    <tr>\n",
       "      <th>12</th>\n",
       "      <td>A V T P S V A A T Y D _ _ _ _ _ R _ _ _ _ _ _ G _ _ _ _ _ _ _ E _ _ _ _ _ _ _ _ _ _ _ _ R _ _ _ _ _</td>\n",
       "      <td>F R G T V T L H T D D D I Y D A Q V K _ _ _ _ _ _ _ _ _ _ _ _ _ _ _ _ _ _ _ _ _ _ _ _ _ _ _ _ _ _ _</td>\n",
       "    </tr>\n",
       "    <tr>\n",
       "      <th>13</th>\n",
       "      <td>A V T P S V A A T Y D _ _ _ _ _ R _ _ _ _ _ _ G _ _ _ _ _ _ _ E _ _ _ _ _ _ _ _ _ _ _ _ R _ _ _ _ _</td>\n",
       "      <td>A W E A T G I G Y T E L I T K _ _ _ _ _ _ _ _ _ _ _ _ _ _ _ _ _ _ _ _ _ _ _ _ _ _ _ _ _ _ _ _ _ _ _</td>\n",
       "    </tr>\n",
       "    <tr>\n",
       "      <th>14</th>\n",
       "      <td>A V T P S V A A T Y D _ _ _ _ _ R _ _ _ _ _ _ G _ _ _ _ _ _ _ E _ _ _ _ _ _ _ _ _ _ _ _ R _ _ _ _ _</td>\n",
       "      <td>N T A S A D K Q T I I D G E K _ _ _ _ _ _ _ _ _ _ _ _ _ _ _ _ _ _ _ _ _ _ _ _ _ _ _ _ _ _ _ _ _ _ _</td>\n",
       "    </tr>\n",
       "    <tr>\n",
       "      <th>15</th>\n",
       "      <td>A V T P S V A A T Y D _ _ _ _ _ R _ _ _ _ _ _ G _ _ _ _ _ _ _ E _ _ _ _ _ _ _ _ _ _ _ _ R _ _ _ _ _</td>\n",
       "      <td>L L L Q G A N R _ _ _ _ _ _ _ _ _ _ _ _ _ _ _ _ _ _ _ _ _ _ _ _ _ _ _ _ _ _ _ _ _ _ _ _ _ _ _ _ _ _</td>\n",
       "    </tr>\n",
       "    <tr>\n",
       "      <th>16</th>\n",
       "      <td>A V T P S V A A T Y D _ _ _ _ _ R _ _ _ _ _ _ G _ _ _ _ _ _ _ E _ _ _ _ _ _ _ _ _ _ _ _ R _ _ _ _ _</td>\n",
       "      <td>M L N A S V A G G A A T T T Y G N R _ _ _ _ _ _ _ _ _ _ _ _ _ _ _ _ _ _ _ _ _ _ _ _ _ _ _ _ _ _ _ _</td>\n",
       "    </tr>\n",
       "    <tr>\n",
       "      <th>17</th>\n",
       "      <td>A V T P S V A A T Y D _ _ _ _ _ R _ _ _ _ _ _ G _ _ _ _ _ _ _ E _ _ _ _ _ _ _ _ _ _ _ _ R _ _ _ _ _</td>\n",
       "      <td>A T Q A A E I A I S S P L L E S S V E G A H G A L I N I A G P T D L K _ _ _ _ _ _ _ _ _ _ _ _ _ _ _</td>\n",
       "    </tr>\n",
       "    <tr>\n",
       "      <th>18</th>\n",
       "      <td>A V T P S V A A T Y D _ _ _ _ _ R _ _ _ _ _ _ G _ _ _ _ _ _ _ E _ _ _ _ _ _ _ _ _ _ _ _ R _ _ _ _ _</td>\n",
       "      <td>A A T V P N Q P A A A P A R P F R P R _ _ _ _ _ _ _ _ _ _ _ _ _ _ _ _ _ _ _ _ _ _ _ _ _ _ _ _ _ _ _</td>\n",
       "    </tr>\n",
       "    <tr>\n",
       "      <th>19</th>\n",
       "      <td>A V T P S V A A T Y D _ _ _ _ _ R _ _ _ _ _ _ G _ _ _ _ _ _ _ E _ _ _ _ _ _ _ _ _ _ _ _ R _ _ _ _ _</td>\n",
       "      <td>Q I V I A E Q H R _ _ _ _ _ _ _ _ _ _ _ _ _ _ _ _ _ _ _ _ _ _ _ _ _ _ _ _ _ _ _ _ _ _ _ _ _ _ _ _ _</td>\n",
       "    </tr>\n",
       "  </tbody>\n",
       "</table>\n",
       "</div>"
      ],
      "text/plain": [
       "                                                                                              predicted  \\\n",
       "0   A V T P S V A A T Y D _ _ _ _ _ R _ _ _ _ _ _ G _ _ _ _ _ _ _ E _ _ _ _ _ _ _ _ _ _ _ _ R _ _ _ _ _   \n",
       "1   A V T P S V A A T Y D _ _ _ _ _ R _ _ _ _ _ _ G _ _ _ _ _ _ _ E _ _ _ _ _ _ _ _ _ _ _ _ R _ _ _ _ _   \n",
       "2   A V T P S V A A T Y D _ _ _ _ _ R _ _ _ _ _ _ G _ _ _ _ _ _ _ E _ _ _ _ _ _ _ _ _ _ _ _ R _ _ _ _ _   \n",
       "3   A V T P S V A A T Y D _ _ _ _ _ R _ _ _ _ _ _ G _ _ _ _ _ _ _ E _ _ _ _ _ _ _ _ _ _ _ _ R _ _ _ _ _   \n",
       "4   A V T P S V A A T Y D _ _ _ _ _ R _ _ _ _ _ _ G _ _ _ _ _ _ _ E _ _ _ _ _ _ _ _ _ _ _ _ R _ _ _ _ _   \n",
       "5   A V T P S V A A T Y D _ _ _ _ _ R _ _ _ _ _ _ G _ _ _ _ _ _ _ E _ _ _ _ _ _ _ _ _ _ _ _ R _ _ _ _ _   \n",
       "6   A V T P S V A A T Y D _ _ _ _ _ R _ _ _ _ _ _ G _ _ _ _ _ _ _ E _ _ _ _ _ _ _ _ _ _ _ _ R _ _ _ _ _   \n",
       "7   A V T P S V A A T Y D _ _ _ _ _ R _ _ _ _ _ _ G _ _ _ _ _ _ _ E _ _ _ _ _ _ _ _ _ _ _ _ R _ _ _ _ _   \n",
       "8   A V T P S V A A T Y D _ _ _ _ _ R _ _ _ _ _ _ G _ _ _ _ _ _ _ E _ _ _ _ _ _ _ _ _ _ _ _ R _ _ _ _ _   \n",
       "9   A V T P S V A A T Y D _ _ _ _ _ R _ _ _ _ _ _ G _ _ _ _ _ _ _ E _ _ _ _ _ _ _ _ _ _ _ _ R _ _ _ _ _   \n",
       "10  A V T P S V A A T Y D _ _ _ _ _ R _ _ _ _ _ _ G _ _ _ _ _ _ _ E _ _ _ _ _ _ _ _ _ _ _ _ R _ _ _ _ _   \n",
       "11  A V T P S V A A T Y D _ _ _ _ _ R _ _ _ _ _ _ G _ _ _ _ _ _ _ E _ _ _ _ _ _ _ _ _ _ _ _ R _ _ _ _ _   \n",
       "12  A V T P S V A A T Y D _ _ _ _ _ R _ _ _ _ _ _ G _ _ _ _ _ _ _ E _ _ _ _ _ _ _ _ _ _ _ _ R _ _ _ _ _   \n",
       "13  A V T P S V A A T Y D _ _ _ _ _ R _ _ _ _ _ _ G _ _ _ _ _ _ _ E _ _ _ _ _ _ _ _ _ _ _ _ R _ _ _ _ _   \n",
       "14  A V T P S V A A T Y D _ _ _ _ _ R _ _ _ _ _ _ G _ _ _ _ _ _ _ E _ _ _ _ _ _ _ _ _ _ _ _ R _ _ _ _ _   \n",
       "15  A V T P S V A A T Y D _ _ _ _ _ R _ _ _ _ _ _ G _ _ _ _ _ _ _ E _ _ _ _ _ _ _ _ _ _ _ _ R _ _ _ _ _   \n",
       "16  A V T P S V A A T Y D _ _ _ _ _ R _ _ _ _ _ _ G _ _ _ _ _ _ _ E _ _ _ _ _ _ _ _ _ _ _ _ R _ _ _ _ _   \n",
       "17  A V T P S V A A T Y D _ _ _ _ _ R _ _ _ _ _ _ G _ _ _ _ _ _ _ E _ _ _ _ _ _ _ _ _ _ _ _ R _ _ _ _ _   \n",
       "18  A V T P S V A A T Y D _ _ _ _ _ R _ _ _ _ _ _ G _ _ _ _ _ _ _ E _ _ _ _ _ _ _ _ _ _ _ _ R _ _ _ _ _   \n",
       "19  A V T P S V A A T Y D _ _ _ _ _ R _ _ _ _ _ _ G _ _ _ _ _ _ _ E _ _ _ _ _ _ _ _ _ _ _ _ R _ _ _ _ _   \n",
       "\n",
       "                                                                                                   true  \n",
       "0   S V P P H E L I S S I R _ _ _ _ _ _ _ _ _ _ _ _ _ _ _ _ _ _ _ _ _ _ _ _ _ _ _ _ _ _ _ _ _ _ _ _ _ _  \n",
       "1   D P A Q E T W V G Y R _ _ _ _ _ _ _ _ _ _ _ _ _ _ _ _ _ _ _ _ _ _ _ _ _ _ _ _ _ _ _ _ _ _ _ _ _ _ _  \n",
       "2   A A I A Q A Q T Q F G L P S T G R P D S A T F K _ _ _ _ _ _ _ _ _ _ _ _ _ _ _ _ _ _ _ _ _ _ _ _ _ _  \n",
       "3   L R P H V V D S S L T I D E A W R _ _ _ _ _ _ _ _ _ _ _ _ _ _ _ _ _ _ _ _ _ _ _ _ _ _ _ _ _ _ _ _ _  \n",
       "4   F S H P H L E T V G P K _ _ _ _ _ _ _ _ _ _ _ _ _ _ _ _ _ _ _ _ _ _ _ _ _ _ _ _ _ _ _ _ _ _ _ _ _ _  \n",
       "5   T L E H L A S T K _ _ _ _ _ _ _ _ _ _ _ _ _ _ _ _ _ _ _ _ _ _ _ _ _ _ _ _ _ _ _ _ _ _ _ _ _ _ _ _ _  \n",
       "6   E G D L V V M T A G T L P G V S G S T D L V K _ _ _ _ _ _ _ _ _ _ _ _ _ _ _ _ _ _ _ _ _ _ _ _ _ _ _  \n",
       "7   I D M S E Y M(Oxidation) E K _ _ _ _ _ _ _ _ _ _ _ _ _ _ _ _ _ _ _ _ _ _ _ _ _ _ _ _ _ _ _ _ _ _ _   \n",
       "8   S M G S A T A V N M V R _ _ _ _ _ _ _ _ _ _ _ _ _ _ _ _ _ _ _ _ _ _ _ _ _ _ _ _ _ _ _ _ _ _ _ _ _ _  \n",
       "9   T Q L D Q Q A G Q V D T L K R _ _ _ _ _ _ _ _ _ _ _ _ _ _ _ _ _ _ _ _ _ _ _ _ _ _ _ _ _ _ _ _ _ _ _  \n",
       "10  G G T E I A F G D Y G I Q A L A P A Y V T N R _ _ _ _ _ _ _ _ _ _ _ _ _ _ _ _ _ _ _ _ _ _ _ _ _ _ _  \n",
       "11  D A N I S V S D I D H V V L V G G S T R _ _ _ _ _ _ _ _ _ _ _ _ _ _ _ _ _ _ _ _ _ _ _ _ _ _ _ _ _ _  \n",
       "12  F R G T V T L H T D D D I Y D A Q V K _ _ _ _ _ _ _ _ _ _ _ _ _ _ _ _ _ _ _ _ _ _ _ _ _ _ _ _ _ _ _  \n",
       "13  A W E A T G I G Y T E L I T K _ _ _ _ _ _ _ _ _ _ _ _ _ _ _ _ _ _ _ _ _ _ _ _ _ _ _ _ _ _ _ _ _ _ _  \n",
       "14  N T A S A D K Q T I I D G E K _ _ _ _ _ _ _ _ _ _ _ _ _ _ _ _ _ _ _ _ _ _ _ _ _ _ _ _ _ _ _ _ _ _ _  \n",
       "15  L L L Q G A N R _ _ _ _ _ _ _ _ _ _ _ _ _ _ _ _ _ _ _ _ _ _ _ _ _ _ _ _ _ _ _ _ _ _ _ _ _ _ _ _ _ _  \n",
       "16  M L N A S V A G G A A T T T Y G N R _ _ _ _ _ _ _ _ _ _ _ _ _ _ _ _ _ _ _ _ _ _ _ _ _ _ _ _ _ _ _ _  \n",
       "17  A T Q A A E I A I S S P L L E S S V E G A H G A L I N I A G P T D L K _ _ _ _ _ _ _ _ _ _ _ _ _ _ _  \n",
       "18  A A T V P N Q P A A A P A R P F R P R _ _ _ _ _ _ _ _ _ _ _ _ _ _ _ _ _ _ _ _ _ _ _ _ _ _ _ _ _ _ _  \n",
       "19  Q I V I A E Q H R _ _ _ _ _ _ _ _ _ _ _ _ _ _ _ _ _ _ _ _ _ _ _ _ _ _ _ _ _ _ _ _ _ _ _ _ _ _ _ _ _  "
      ]
     },
     "execution_count": 41,
     "metadata": {},
     "output_type": "execute_result"
    }
   ],
   "source": [
    "eval_df, (x_eval, y_eval, y_pred) = train_evaluator.evaluate_model_visually(\n",
    "    model=model,\n",
    "    sample_size=20,\n",
    "    keep_separator=True,\n",
    ")\n",
    "eval_df"
   ]
  },
  {
   "cell_type": "code",
   "execution_count": 42,
   "id": "dc10035c",
   "metadata": {},
   "outputs": [
    {
     "name": "stdout",
     "output_type": "stream",
     "text": [
      "1250/1250 [==============================] - 18s 13ms/step - loss: 6.3451 - sparse_categorical_accuracy: 0.6063 - jaccard_batch_distance: 0.5055 - leuvenshtein_batch_distance: 14.8952\n"
     ]
    },
    {
     "data": {
      "text/plain": [
       "[6.345068454742432, 0.6063389778137207, 0.5055138468742371, 14.895224571228027]"
      ]
     },
     "execution_count": 42,
     "metadata": {},
     "output_type": "execute_result"
    }
   ],
   "source": [
    "eval_evaluator.evaluate_model(model)"
   ]
  },
  {
   "cell_type": "code",
   "execution_count": 43,
   "id": "917eb62e",
   "metadata": {
    "scrolled": false
   },
   "outputs": [
    {
     "data": {
      "text/html": [
       "<div>\n",
       "<style scoped>\n",
       "    .dataframe tbody tr th:only-of-type {\n",
       "        vertical-align: middle;\n",
       "    }\n",
       "\n",
       "    .dataframe tbody tr th {\n",
       "        vertical-align: top;\n",
       "    }\n",
       "\n",
       "    .dataframe thead th {\n",
       "        text-align: right;\n",
       "    }\n",
       "</style>\n",
       "<table border=\"1\" class=\"dataframe\">\n",
       "  <thead>\n",
       "    <tr style=\"text-align: right;\">\n",
       "      <th></th>\n",
       "      <th>predicted</th>\n",
       "      <th>true</th>\n",
       "    </tr>\n",
       "  </thead>\n",
       "  <tbody>\n",
       "    <tr>\n",
       "      <th>0</th>\n",
       "      <td>A V T P S V A A T Y D _ _ _ _ _ R _ _ _ _ _ _ G _ _ _ _ _ _ _ E _ _ _ _ _ _ _ _ _ _ _ _ R _ _ _ _ _</td>\n",
       "      <td>T V D V S P E A V T I E A T G S S D K L E A M L K _ _ _ _ _ _ _ _ _ _ _ _ _ _ _ _ _ _ _ _ _ _ _ _ _</td>\n",
       "    </tr>\n",
       "    <tr>\n",
       "      <th>1</th>\n",
       "      <td>A V T P S V A A T Y D _ _ _ _ _ R _ _ _ _ _ _ G _ _ _ _ _ _ _ E _ _ _ _ _ _ _ _ _ _ _ _ R _ _ _ _ _</td>\n",
       "      <td>Q A A E I W E S I R _ _ _ _ _ _ _ _ _ _ _ _ _ _ _ _ _ _ _ _ _ _ _ _ _ _ _ _ _ _ _ _ _ _ _ _ _ _ _ _</td>\n",
       "    </tr>\n",
       "    <tr>\n",
       "      <th>2</th>\n",
       "      <td>A V T P S V A A T Y D _ _ _ _ _ R _ _ _ _ _ _ G _ _ _ _ _ _ _ E _ _ _ _ _ _ _ _ _ _ _ _ R _ _ _ _ _</td>\n",
       "      <td>W V E I D N H D D L A K _ _ _ _ _ _ _ _ _ _ _ _ _ _ _ _ _ _ _ _ _ _ _ _ _ _ _ _ _ _ _ _ _ _ _ _ _ _</td>\n",
       "    </tr>\n",
       "    <tr>\n",
       "      <th>3</th>\n",
       "      <td>A V T P S V A A T Y D _ _ _ _ _ R _ _ _ _ _ _ G _ _ _ _ _ _ _ E _ _ _ _ _ _ _ _ _ _ _ _ R _ _ _ _ _</td>\n",
       "      <td>V L G T G E I T V A L Q V T V D A V S G S A K _ _ _ _ _ _ _ _ _ _ _ _ _ _ _ _ _ _ _ _ _ _ _ _ _ _ _</td>\n",
       "    </tr>\n",
       "    <tr>\n",
       "      <th>4</th>\n",
       "      <td>A V T P S V A A T Y D _ _ _ _ _ R _ _ _ _ _ _ G _ _ _ _ _ _ _ E _ _ _ _ _ _ _ _ _ _ _ _ R _ _ _ _ _</td>\n",
       "      <td>G A V A G P F D S W I V L R _ _ _ _ _ _ _ _ _ _ _ _ _ _ _ _ _ _ _ _ _ _ _ _ _ _ _ _ _ _ _ _ _ _ _ _</td>\n",
       "    </tr>\n",
       "    <tr>\n",
       "      <th>5</th>\n",
       "      <td>A V T P S V A A T Y D _ _ _ _ _ R _ _ _ _ _ _ G _ _ _ _ _ _ _ E _ _ _ _ _ _ _ _ _ _ _ _ R _ _ _ _ _</td>\n",
       "      <td>R I Y P I V T V I T E D G Y R R _ _ _ _ _ _ _ _ _ _ _ _ _ _ _ _ _ _ _ _ _ _ _ _ _ _ _ _ _ _ _ _ _ _</td>\n",
       "    </tr>\n",
       "    <tr>\n",
       "      <th>6</th>\n",
       "      <td>A V T P S V A A T Y D _ _ _ _ _ R _ _ _ _ _ _ G _ _ _ _ _ _ _ E _ _ _ _ _ _ _ _ _ _ _ _ R _ _ _ _ _</td>\n",
       "      <td>R W T P C F D C G V C P Q M(Oxidation) D T H I Q I G P T G K _ _ _ _ _ _ _ _ _ _ _ _ _ _ _ _ _ _ _</td>\n",
       "    </tr>\n",
       "    <tr>\n",
       "      <th>7</th>\n",
       "      <td>A V T P S V A A T Y D _ _ _ _ _ R _ _ _ _ _ _ G _ _ _ _ _ _ _ E _ _ _ _ _ _ _ _ _ _ _ _ R _ _ _ _ _</td>\n",
       "      <td>H F L G K P E L G S I G S E G W L G Y D G Q G R _ _ _ _ _ _ _ _ _ _ _ _ _ _ _ _ _ _ _ _ _ _ _ _ _ _</td>\n",
       "    </tr>\n",
       "    <tr>\n",
       "      <th>8</th>\n",
       "      <td>A V T P S V A A T Y D _ _ _ _ _ R _ _ _ _ _ _ G _ _ _ _ _ _ _ E _ _ _ _ _ _ _ _ _ _ _ _ R _ _ _ _ _</td>\n",
       "      <td>A E S D E S A A L A E L D R L T N K _ _ _ _ _ _ _ _ _ _ _ _ _ _ _ _ _ _ _ _ _ _ _ _ _ _ _ _ _ _ _ _</td>\n",
       "    </tr>\n",
       "    <tr>\n",
       "      <th>9</th>\n",
       "      <td>A V T P S V A A T Y D _ _ _ _ _ R _ _ _ _ _ _ G _ _ _ _ _ _ _ E _ _ _ _ _ _ _ _ _ _ _ _ R _ _ _ _ _</td>\n",
       "      <td>A A S Q L G W L D E R _ _ _ _ _ _ _ _ _ _ _ _ _ _ _ _ _ _ _ _ _ _ _ _ _ _ _ _ _ _ _ _ _ _ _ _ _ _ _</td>\n",
       "    </tr>\n",
       "    <tr>\n",
       "      <th>10</th>\n",
       "      <td>A V T P S V A A T Y D _ _ _ _ _ R _ _ _ _ _ _ G _ _ _ _ _ _ _ E _ _ _ _ _ _ _ _ _ _ _ _ R _ _ _ _ _</td>\n",
       "      <td>E M Q K V P S A V W I V D T K _ _ _ _ _ _ _ _ _ _ _ _ _ _ _ _ _ _ _ _ _ _ _ _ _ _ _ _ _ _ _ _ _ _ _</td>\n",
       "    </tr>\n",
       "    <tr>\n",
       "      <th>11</th>\n",
       "      <td>A V T P S V A A T Y D _ _ _ _ _ R _ _ _ _ _ _ G _ _ _ _ _ _ _ E _ _ _ _ _ _ _ _ _ _ _ _ R _ _ _ _ _</td>\n",
       "      <td>V V D T N G E V V D L S D D E D D V E N A A E A V E A V T G E A E V S E D K _ _ _ _ _ _ _ _ _ _ _ _</td>\n",
       "    </tr>\n",
       "    <tr>\n",
       "      <th>12</th>\n",
       "      <td>A V T P S V A A T Y D _ _ _ _ _ R _ _ _ _ _ _ G _ _ _ _ _ _ _ E _ _ _ _ _ _ _ _ _ _ _ _ R _ _ _ _ _</td>\n",
       "      <td>V T V P D W P A R _ _ _ _ _ _ _ _ _ _ _ _ _ _ _ _ _ _ _ _ _ _ _ _ _ _ _ _ _ _ _ _ _ _ _ _ _ _ _ _ _</td>\n",
       "    </tr>\n",
       "    <tr>\n",
       "      <th>13</th>\n",
       "      <td>A V T P S V A A T Y D _ _ _ _ _ R _ _ _ _ _ _ G _ _ _ _ _ _ _ E _ _ _ _ _ _ _ _ _ _ _ _ R _ _ _ _ _</td>\n",
       "      <td>R F E L D P E R _ _ _ _ _ _ _ _ _ _ _ _ _ _ _ _ _ _ _ _ _ _ _ _ _ _ _ _ _ _ _ _ _ _ _ _ _ _ _ _ _ _</td>\n",
       "    </tr>\n",
       "    <tr>\n",
       "      <th>14</th>\n",
       "      <td>A V T P S V A A T Y D _ _ _ _ _ R _ _ _ _ _ _ G _ _ _ _ _ _ _ E _ _ _ _ _ _ _ _ _ _ _ _ R _ _ _ _ _</td>\n",
       "      <td>K D V D G L T P T N M G R _ _ _ _ _ _ _ _ _ _ _ _ _ _ _ _ _ _ _ _ _ _ _ _ _ _ _ _ _ _ _ _ _ _ _ _ _</td>\n",
       "    </tr>\n",
       "    <tr>\n",
       "      <th>15</th>\n",
       "      <td>A V T P S V A A T Y D _ _ _ _ _ R _ _ _ _ _ _ G _ _ _ _ _ _ _ E _ _ _ _ _ _ _ _ _ _ _ _ R _ _ _ _ _</td>\n",
       "      <td>G Y E V I V F G R _ _ _ _ _ _ _ _ _ _ _ _ _ _ _ _ _ _ _ _ _ _ _ _ _ _ _ _ _ _ _ _ _ _ _ _ _ _ _ _ _</td>\n",
       "    </tr>\n",
       "    <tr>\n",
       "      <th>16</th>\n",
       "      <td>A V T P S V A A T Y D _ _ _ _ _ R _ _ _ _ _ _ G _ _ _ _ _ _ _ E _ _ _ _ _ _ _ _ _ _ _ _ R _ _ _ _ _</td>\n",
       "      <td>Q A G L D P V E H V E E W A A A L P A A L E R _ _ _ _ _ _ _ _ _ _ _ _ _ _ _ _ _ _ _ _ _ _ _ _ _ _ _</td>\n",
       "    </tr>\n",
       "    <tr>\n",
       "      <th>17</th>\n",
       "      <td>A V T P S V A A T Y D _ _ _ _ _ R _ _ _ _ _ _ G _ _ _ _ _ _ _ E _ _ _ _ _ _ _ _ _ _ _ _ R _ _ _ _ _</td>\n",
       "      <td>A P V V Y S A N G H E A A Q V G S V M A L N R _ _ _ _ _ _ _ _ _ _ _ _ _ _ _ _ _ _ _ _ _ _ _ _ _ _ _</td>\n",
       "    </tr>\n",
       "    <tr>\n",
       "      <th>18</th>\n",
       "      <td>A V T P S V A A T Y D _ _ _ _ _ R _ _ _ _ _ _ G _ _ _ _ _ _ _ E _ _ _ _ _ _ _ _ _ _ _ _ R _ _ _ _ _</td>\n",
       "      <td>Y D Q I D K A P E E R _ _ _ _ _ _ _ _ _ _ _ _ _ _ _ _ _ _ _ _ _ _ _ _ _ _ _ _ _ _ _ _ _ _ _ _ _ _ _</td>\n",
       "    </tr>\n",
       "    <tr>\n",
       "      <th>19</th>\n",
       "      <td>A V T P S V A A T Y D _ _ _ _ _ R _ _ _ _ _ _ G _ _ _ _ _ _ _ E _ _ _ _ _ _ _ _ _ _ _ _ R _ _ _ _ _</td>\n",
       "      <td>T Q H E L A A V P S F P Q R _ _ _ _ _ _ _ _ _ _ _ _ _ _ _ _ _ _ _ _ _ _ _ _ _ _ _ _ _ _ _ _ _ _ _ _</td>\n",
       "    </tr>\n",
       "  </tbody>\n",
       "</table>\n",
       "</div>"
      ],
      "text/plain": [
       "                                                                                              predicted  \\\n",
       "0   A V T P S V A A T Y D _ _ _ _ _ R _ _ _ _ _ _ G _ _ _ _ _ _ _ E _ _ _ _ _ _ _ _ _ _ _ _ R _ _ _ _ _   \n",
       "1   A V T P S V A A T Y D _ _ _ _ _ R _ _ _ _ _ _ G _ _ _ _ _ _ _ E _ _ _ _ _ _ _ _ _ _ _ _ R _ _ _ _ _   \n",
       "2   A V T P S V A A T Y D _ _ _ _ _ R _ _ _ _ _ _ G _ _ _ _ _ _ _ E _ _ _ _ _ _ _ _ _ _ _ _ R _ _ _ _ _   \n",
       "3   A V T P S V A A T Y D _ _ _ _ _ R _ _ _ _ _ _ G _ _ _ _ _ _ _ E _ _ _ _ _ _ _ _ _ _ _ _ R _ _ _ _ _   \n",
       "4   A V T P S V A A T Y D _ _ _ _ _ R _ _ _ _ _ _ G _ _ _ _ _ _ _ E _ _ _ _ _ _ _ _ _ _ _ _ R _ _ _ _ _   \n",
       "5   A V T P S V A A T Y D _ _ _ _ _ R _ _ _ _ _ _ G _ _ _ _ _ _ _ E _ _ _ _ _ _ _ _ _ _ _ _ R _ _ _ _ _   \n",
       "6   A V T P S V A A T Y D _ _ _ _ _ R _ _ _ _ _ _ G _ _ _ _ _ _ _ E _ _ _ _ _ _ _ _ _ _ _ _ R _ _ _ _ _   \n",
       "7   A V T P S V A A T Y D _ _ _ _ _ R _ _ _ _ _ _ G _ _ _ _ _ _ _ E _ _ _ _ _ _ _ _ _ _ _ _ R _ _ _ _ _   \n",
       "8   A V T P S V A A T Y D _ _ _ _ _ R _ _ _ _ _ _ G _ _ _ _ _ _ _ E _ _ _ _ _ _ _ _ _ _ _ _ R _ _ _ _ _   \n",
       "9   A V T P S V A A T Y D _ _ _ _ _ R _ _ _ _ _ _ G _ _ _ _ _ _ _ E _ _ _ _ _ _ _ _ _ _ _ _ R _ _ _ _ _   \n",
       "10  A V T P S V A A T Y D _ _ _ _ _ R _ _ _ _ _ _ G _ _ _ _ _ _ _ E _ _ _ _ _ _ _ _ _ _ _ _ R _ _ _ _ _   \n",
       "11  A V T P S V A A T Y D _ _ _ _ _ R _ _ _ _ _ _ G _ _ _ _ _ _ _ E _ _ _ _ _ _ _ _ _ _ _ _ R _ _ _ _ _   \n",
       "12  A V T P S V A A T Y D _ _ _ _ _ R _ _ _ _ _ _ G _ _ _ _ _ _ _ E _ _ _ _ _ _ _ _ _ _ _ _ R _ _ _ _ _   \n",
       "13  A V T P S V A A T Y D _ _ _ _ _ R _ _ _ _ _ _ G _ _ _ _ _ _ _ E _ _ _ _ _ _ _ _ _ _ _ _ R _ _ _ _ _   \n",
       "14  A V T P S V A A T Y D _ _ _ _ _ R _ _ _ _ _ _ G _ _ _ _ _ _ _ E _ _ _ _ _ _ _ _ _ _ _ _ R _ _ _ _ _   \n",
       "15  A V T P S V A A T Y D _ _ _ _ _ R _ _ _ _ _ _ G _ _ _ _ _ _ _ E _ _ _ _ _ _ _ _ _ _ _ _ R _ _ _ _ _   \n",
       "16  A V T P S V A A T Y D _ _ _ _ _ R _ _ _ _ _ _ G _ _ _ _ _ _ _ E _ _ _ _ _ _ _ _ _ _ _ _ R _ _ _ _ _   \n",
       "17  A V T P S V A A T Y D _ _ _ _ _ R _ _ _ _ _ _ G _ _ _ _ _ _ _ E _ _ _ _ _ _ _ _ _ _ _ _ R _ _ _ _ _   \n",
       "18  A V T P S V A A T Y D _ _ _ _ _ R _ _ _ _ _ _ G _ _ _ _ _ _ _ E _ _ _ _ _ _ _ _ _ _ _ _ R _ _ _ _ _   \n",
       "19  A V T P S V A A T Y D _ _ _ _ _ R _ _ _ _ _ _ G _ _ _ _ _ _ _ E _ _ _ _ _ _ _ _ _ _ _ _ R _ _ _ _ _   \n",
       "\n",
       "                                                                                                   true  \n",
       "0   T V D V S P E A V T I E A T G S S D K L E A M L K _ _ _ _ _ _ _ _ _ _ _ _ _ _ _ _ _ _ _ _ _ _ _ _ _  \n",
       "1   Q A A E I W E S I R _ _ _ _ _ _ _ _ _ _ _ _ _ _ _ _ _ _ _ _ _ _ _ _ _ _ _ _ _ _ _ _ _ _ _ _ _ _ _ _  \n",
       "2   W V E I D N H D D L A K _ _ _ _ _ _ _ _ _ _ _ _ _ _ _ _ _ _ _ _ _ _ _ _ _ _ _ _ _ _ _ _ _ _ _ _ _ _  \n",
       "3   V L G T G E I T V A L Q V T V D A V S G S A K _ _ _ _ _ _ _ _ _ _ _ _ _ _ _ _ _ _ _ _ _ _ _ _ _ _ _  \n",
       "4   G A V A G P F D S W I V L R _ _ _ _ _ _ _ _ _ _ _ _ _ _ _ _ _ _ _ _ _ _ _ _ _ _ _ _ _ _ _ _ _ _ _ _  \n",
       "5   R I Y P I V T V I T E D G Y R R _ _ _ _ _ _ _ _ _ _ _ _ _ _ _ _ _ _ _ _ _ _ _ _ _ _ _ _ _ _ _ _ _ _  \n",
       "6   R W T P C F D C G V C P Q M(Oxidation) D T H I Q I G P T G K _ _ _ _ _ _ _ _ _ _ _ _ _ _ _ _ _ _ _   \n",
       "7   H F L G K P E L G S I G S E G W L G Y D G Q G R _ _ _ _ _ _ _ _ _ _ _ _ _ _ _ _ _ _ _ _ _ _ _ _ _ _  \n",
       "8   A E S D E S A A L A E L D R L T N K _ _ _ _ _ _ _ _ _ _ _ _ _ _ _ _ _ _ _ _ _ _ _ _ _ _ _ _ _ _ _ _  \n",
       "9   A A S Q L G W L D E R _ _ _ _ _ _ _ _ _ _ _ _ _ _ _ _ _ _ _ _ _ _ _ _ _ _ _ _ _ _ _ _ _ _ _ _ _ _ _  \n",
       "10  E M Q K V P S A V W I V D T K _ _ _ _ _ _ _ _ _ _ _ _ _ _ _ _ _ _ _ _ _ _ _ _ _ _ _ _ _ _ _ _ _ _ _  \n",
       "11  V V D T N G E V V D L S D D E D D V E N A A E A V E A V T G E A E V S E D K _ _ _ _ _ _ _ _ _ _ _ _  \n",
       "12  V T V P D W P A R _ _ _ _ _ _ _ _ _ _ _ _ _ _ _ _ _ _ _ _ _ _ _ _ _ _ _ _ _ _ _ _ _ _ _ _ _ _ _ _ _  \n",
       "13  R F E L D P E R _ _ _ _ _ _ _ _ _ _ _ _ _ _ _ _ _ _ _ _ _ _ _ _ _ _ _ _ _ _ _ _ _ _ _ _ _ _ _ _ _ _  \n",
       "14  K D V D G L T P T N M G R _ _ _ _ _ _ _ _ _ _ _ _ _ _ _ _ _ _ _ _ _ _ _ _ _ _ _ _ _ _ _ _ _ _ _ _ _  \n",
       "15  G Y E V I V F G R _ _ _ _ _ _ _ _ _ _ _ _ _ _ _ _ _ _ _ _ _ _ _ _ _ _ _ _ _ _ _ _ _ _ _ _ _ _ _ _ _  \n",
       "16  Q A G L D P V E H V E E W A A A L P A A L E R _ _ _ _ _ _ _ _ _ _ _ _ _ _ _ _ _ _ _ _ _ _ _ _ _ _ _  \n",
       "17  A P V V Y S A N G H E A A Q V G S V M A L N R _ _ _ _ _ _ _ _ _ _ _ _ _ _ _ _ _ _ _ _ _ _ _ _ _ _ _  \n",
       "18  Y D Q I D K A P E E R _ _ _ _ _ _ _ _ _ _ _ _ _ _ _ _ _ _ _ _ _ _ _ _ _ _ _ _ _ _ _ _ _ _ _ _ _ _ _  \n",
       "19  T Q H E L A A V P S F P Q R _ _ _ _ _ _ _ _ _ _ _ _ _ _ _ _ _ _ _ _ _ _ _ _ _ _ _ _ _ _ _ _ _ _ _ _  "
      ]
     },
     "execution_count": 43,
     "metadata": {},
     "output_type": "execute_result"
    }
   ],
   "source": [
    "eval_df, (x_eval, y_eval, y_pred) = eval_evaluator.evaluate_model_visually(\n",
    "    model=model,\n",
    "    sample_size=20,\n",
    "    keep_separator=True,\n",
    ")\n",
    "eval_df"
   ]
  },
  {
   "cell_type": "code",
   "execution_count": null,
   "id": "81e191b6",
   "metadata": {},
   "outputs": [
    {
     "data": {
      "application/javascript": [
       "Jupyter.notebook.session.delete();\n"
      ],
      "text/plain": [
       "<IPython.core.display.Javascript object>"
      ]
     },
     "metadata": {},
     "output_type": "display_data"
    }
   ],
   "source": [
    "%%javascript\n",
    "Jupyter.notebook.session.delete();"
   ]
  }
 ],
 "metadata": {
  "kernelspec": {
   "display_name": "Python 3",
   "language": "python",
   "name": "python3"
  },
  "language_info": {
   "codemirror_mode": {
    "name": "ipython",
    "version": 3
   },
   "file_extension": ".py",
   "mimetype": "text/x-python",
   "name": "python",
   "nbconvert_exporter": "python",
   "pygments_lexer": "ipython3",
   "version": "3.8.10"
  }
 },
 "nbformat": 4,
 "nbformat_minor": 5
}
