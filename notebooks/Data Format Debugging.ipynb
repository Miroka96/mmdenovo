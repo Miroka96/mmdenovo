{
 "cells": [
  {
   "cell_type": "code",
   "execution_count": 1,
   "metadata": {},
   "outputs": [],
   "source": [
    "from mmproteo.utils import formats"
   ]
  },
  {
   "cell_type": "code",
   "execution_count": 2,
   "metadata": {},
   "outputs": [],
   "source": [
    "MZML_FILE = \"../datasets/PXD010000/Biodiversity_A_cryptum_FeTSB_anaerobic_1_01Jun16_Pippin_16-03-39.mzML\"\n",
    "MZID_FILE = \"../datasets/PXD010000/Biodiversity_A_cryptum_FeTSB_anaerobic_1_01Jun16_Pippin_16-03-39_msgfplus.mzid\""
   ]
  },
  {
   "cell_type": "code",
   "execution_count": 3,
   "metadata": {},
   "outputs": [
    {
     "name": "stdout",
     "output_type": "stream",
     "text": [
      "DEBUG: Started reading mzml file '../datasets/PXD010000/Biodiversity_A_cryptum_FeTSB_anaerobic_1_01Jun16_Pippin_16-03-39.mzML'\n",
      "DEBUG: <class 'pyteomics.mzml.MzML'>\n",
      "DEBUG: Length: 36331\n",
      "DEBUG: Example:\n",
      "\n",
      "{'index': 0, 'id': 'controllerType=0 controllerNumber=1 scan=1', 'defaultArrayLength': 8, 'scanList': {'count': 1, 'scan': [{'scanWindowList': {'count': 1, 'scanWindow': [{'scan window lower limit': 400.0, 'scan window upper limit': 2000.0}]}, 'scan start time': 0.0019836338, 'filter string': 'FTMS + p NSI Full ms [400.00-2000.00]', 'preset scan configuration': 1.0, 'ion injection time': 19.999999552965}], 'no combination': ''}, 'MS1 spectrum': '', 'ms level': 1, 'positive scan': '', 'centroid spectrum': '', 'base peak m/z': 839.222483645469, 'base peak intensity': 2749.073, 'total ion current': 20019.762, 'lowest observed m/z': 526.3563766735359, 'highest observed m/z': 1254.8916966076479, 'count': 2, 'm/z array': array([ 526.3564 ,  538.39374,  547.5985 ,  605.5604 ,  719.33264,\n",
      "        752.341  ,  839.2225 , 1254.8917 ], dtype=float32), 'intensity array': array([2292.44  , 2613.3816, 2369.2349, 2186.4385, 2703.3071, 2482.0493,\n",
      "       2749.073 , 2623.825 ], dtype=float32)}\n",
      "INFO: Finished reading mzml file '../datasets/PXD010000/Biodiversity_A_cryptum_FeTSB_anaerobic_1_01Jun16_Pippin_16-03-39.mzML'\n",
      "DEBUG: Started reading mzid file '../datasets/PXD010000/Biodiversity_A_cryptum_FeTSB_anaerobic_1_01Jun16_Pippin_16-03-39_msgfplus.mzid'\n",
      "DEBUG: <class 'pyteomics.mzid.MzIdentML'>\n",
      "DEBUG: Length: 29447\n",
      "DEBUG: Example:\n",
      "\n",
      "{\n",
      "    \"spectrumID\": \"controllerType=0 controllerNumber=1 scan=31013\",\n",
      "    \"SpectrumIdentificationItem\": [\n",
      "        {\n",
      "            \"passThreshold\": true,\n",
      "            \"rank\": 1,\n",
      "            \"calculatedMassToCharge\": 1110.07861328125,\n",
      "            \"experimentalMassToCharge\": 1110.32568359375,\n",
      "            \"chargeState\": 4,\n",
      "            \"PeptideEvidenceRef\": [\n",
      "                {\n",
      "                    \"isDecoy\": false,\n",
      "                    \"post\": \"T\",\n",
      "                    \"pre\": \"R\",\n",
      "                    \"end\": 87,\n",
      "                    \"start\": 47,\n",
      "                    \"PeptideSequence\": \"EASLPSLSEITITKEYDVASGDLLKEALSGNVQEVDIVFTR\",\n",
      "                    \"accession\": \"ref|YP_001236175.1\",\n",
      "                    \"length\": 161,\n",
      "                    \"protein description\": \"ref|YP_001236175.1 hypothetical protein Acry_3068 (gi|148262048)\",\n",
      "                    \"numDatabaseSequences\": 7150,\n",
      "                    \"location\": \"C:\\\\DMS_Temp_Org\\\\ID_005061_A9F31275.fasta\",\n",
      "                    \"FileFormat\": \"FASTA format\",\n",
      "                    \"DatabaseName\": {\n",
      "                        \"ID_005061_A9F31275.fasta\": \"\"\n",
      "                    },\n",
      "                    \"DB composition target+decoy\": \"\",\n",
      "                    \"decoy DB accession regexp\": \"^XXX\",\n",
      "                    \"decoy DB type reverse\": \"\"\n",
      "                }\n",
      "            ],\n",
      "            \"MS-GF:RawScore\": 283.0,\n",
      "            \"MS-GF:DeNovoScore\": 302.0,\n",
      "            \"MS-GF:SpecEValue\": 7.476210036449258e-41,\n",
      "            \"MS-GF:EValue\": 1.7292750434078483e-34,\n",
      "            \"MS-GF:QValue\": 0.0,\n",
      "            \"MS-GF:PepQValue\": 0.0,\n",
      "            \"IsotopeError\": 1.0,\n",
      "            \"AssumedDissociationMethod\": \"HCD\",\n",
      "            \"ExplainedIonCurrentRatio\": 0.46064886,\n",
      "            \"NTermIonCurrentRatio\": 0.05942664,\n",
      "            \"CTermIonCurrentRatio\": 0.40122223,\n",
      "            \"MS2IonCurrent\": 934510.2,\n",
      "            \"NumMatchedMainIons\": 33.0,\n",
      "            \"MeanErrorAll\": 4.820992,\n",
      "            \"StdevErrorAll\": 4.6504254,\n",
      "            \"MeanErrorTop7\": 2.0274231,\n",
      "            \"StdevErrorTop7\": 2.5731711,\n",
      "            \"MeanRelErrorAll\": -3.1866636,\n",
      "            \"StdevRelErrorAll\": 5.8918242,\n",
      "            \"MeanRelErrorTop7\": -1.5754719,\n",
      "            \"StdevRelErrorTop7\": 2.8722017,\n",
      "            \"PeptideSequence\": \"EASLPSLSEITITKEYDVASGDLLKEALSGNVQEVDIVFTR\"\n",
      "        }\n",
      "    ],\n",
      "    \"scan number(s)\": 31013.0,\n",
      "    \"scan start time\": 83.444176,\n",
      "    \"location\": \"C:\\\\DMS_WorkDir8\\\\Biodiversity_A_cryptum_FeTSB_anaerobic_1_01Jun16_Pippin_16-03-39.mzML\",\n",
      "    \"name\": \"Biodiversity_A_cryptum_FeTSB_anaerobic_1_01Jun16_Pippin_16-03-39.mzML\",\n",
      "    \"FileFormat\": \"mzML file\",\n",
      "    \"SpectrumIDFormat\": \"Thermo nativeID format\"\n",
      "}\n",
      "INFO: Finished reading mzid file '../datasets/PXD010000/Biodiversity_A_cryptum_FeTSB_anaerobic_1_01Jun16_Pippin_16-03-39_msgfplus.mzid'\n",
      "DEBUG: Started merging MzML and MzID dataframes\n",
      "INFO: Finished merging MzML and MzID dataframes and matched 36331 x 29447 -> 29447 rows\n"
     ]
    }
   ],
   "source": [
    "df = formats.merge_mzml_and_mzid_files(MZML_FILE, MZID_FILE)"
   ]
  }
 ],
 "metadata": {
  "kernelspec": {
   "display_name": "Python 3",
   "language": "python",
   "name": "python3"
  },
  "language_info": {
   "codemirror_mode": {
    "name": "ipython",
    "version": 3
   },
   "file_extension": ".py",
   "mimetype": "text/x-python",
   "name": "python",
   "nbconvert_exporter": "python",
   "pygments_lexer": "ipython3",
   "version": "3.6.9"
  }
 },
 "nbformat": 4,
 "nbformat_minor": 2
}
